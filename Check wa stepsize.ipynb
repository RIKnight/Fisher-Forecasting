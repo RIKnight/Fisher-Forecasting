{
 "cells": [
  {
   "cell_type": "markdown",
   "metadata": {},
   "source": [
    "# Check affect of $w_a$ step size on Fisher matrices and sigmas"
   ]
  },
  {
   "cell_type": "code",
   "execution_count": 11,
   "metadata": {},
   "outputs": [
    {
     "name": "stdout",
     "output_type": "stream",
     "text": [
      "done.\n"
     ]
    }
   ],
   "source": [
    "# load saved Fijs\n",
    "# 2 for linear, 4 for nonlinear\n",
    "Fij2_001,FijTE2_001,Fij4_001,FijTE4_001     = np.load('Fij_set_wa_001.npy')\n",
    "Fij2_002,FijTE2_002,Fij4_002,FijTE4_002     = np.load('Fij_set_wa_002.npy')\n",
    "Fij2_0025,FijTE2_0025,Fij4_0025,FijTE4_0025 = np.load('Fij_set_wa_0025b.npy')\n",
    "Fij2_003,FijTE2_003,Fij4_003,FijTE4_003     = np.load('Fij_set_wa_003.npy')\n",
    "Fij2_004,FijTE2_004,Fij4_004,FijTE4_004     = np.load('Fij_set_wa_004.npy')\n",
    "Fij2_005,FijTE2_005,Fij4_005,FijTE4_005     = np.load('Fij_set_wa_005.npy')\n",
    "    \n",
    "Fij2_010,FijTE2_010,Fij4_010,FijTE4_010     = np.load('Fij_set_wa_010.npy')\n",
    "Fij2_015,FijTE2_015,Fij4_015,FijTE4_015     = np.load('Fij_set_wa_015.npy')\n",
    "Fij2_020,FijTE2_020,Fij4_020,FijTE4_020     = np.load('Fij_set_wa_020.npy')\n",
    "Fij2_025,FijTE2_025,Fij4_025,FijTE4_025     = np.load('Fij_set_wa_025.npy')\n",
    "\n",
    "print 'done.'"
   ]
  },
  {
   "cell_type": "code",
   "execution_count": 26,
   "metadata": {},
   "outputs": [
    {
     "name": "stdout",
     "output_type": "stream",
     "text": [
      "done.\n"
     ]
    }
   ],
   "source": [
    "Fij2_0002,FijTE2_0002,Fij4_0002,FijTE4_0002     = np.load('Fij_set_wa_0002.npy')\n",
    "Fij2_0004,FijTE2_0004,Fij4_0004,FijTE4_0004     = np.load('Fij_set_wa_0004.npy')\n",
    "Fij2_0006,FijTE2_0006,Fij4_0006,FijTE4_0006     = np.load('Fij_set_wa_0006.npy')\n",
    "Fij2_0008,FijTE2_0008,Fij4_0008,FijTE4_0008     = np.load('Fij_set_wa_0008.npy')\n",
    "\n",
    "print 'done.'"
   ]
  },
  {
   "cell_type": "code",
   "execution_count": null,
   "metadata": {},
   "outputs": [],
   "source": []
  },
  {
   "cell_type": "code",
   "execution_count": 12,
   "metadata": {},
   "outputs": [
    {
     "name": "stdout",
     "output_type": "stream",
     "text": [
      "done.\n"
     ]
    }
   ],
   "source": [
    "def getSigmas(Fij):\n",
    "    return np.sqrt(np.diag(np.linalg.inv(Fij)))\n",
    "def getSigmas4(Fij1,Fij2,Fij3,Fij4):\n",
    "    sigmas1 = getSigmas(Fij1)\n",
    "    sigmas2 = getSigmas(Fij2)\n",
    "    sigmas3 = getSigmas(Fij3)\n",
    "    sigmas4 = getSigmas(Fij4)\n",
    "    return sigmas1,sigmas2,sigmas3,sigmas4\n",
    "\n",
    "sigmas2_001,sigmasTE2_001,sigmas4_001,sigmasTE4_001     = getSigmas4(Fij2_001,FijTE2_001,Fij4_001,FijTE4_001    )\n",
    "sigmas2_002,sigmasTE2_002,sigmas4_002,sigmasTE4_002     = getSigmas4(Fij2_002,FijTE2_002,Fij4_002,FijTE4_002    )\n",
    "sigmas2_0025,sigmasTE2_0025,sigmas4_0025,sigmasTE4_0025 = getSigmas4(Fij2_0025,FijTE2_0025,Fij4_0025,FijTE4_0025)\n",
    "sigmas2_003,sigmasTE2_003,sigmas4_003,sigmasTE4_003     = getSigmas4(Fij2_003,FijTE2_003,Fij4_003,FijTE4_003    )\n",
    "sigmas2_004,sigmasTE2_004,sigmas4_004,sigmasTE4_004     = getSigmas4(Fij2_004,FijTE2_004,Fij4_004,FijTE4_004    )\n",
    "sigmas2_005,sigmasTE2_005,sigmas4_005,sigmasTE4_005     = getSigmas4(Fij2_005,FijTE2_005,Fij4_005,FijTE4_005    )\n",
    "        \n",
    "sigmas2_010,sigmasTE2_010,sigmas4_010,sigmasTE4_010     = getSigmas4(Fij2_010,FijTE2_010,Fij4_010,FijTE4_010    )\n",
    "sigmas2_015,sigmasTE2_015,sigmas4_015,sigmasTE4_015     = getSigmas4(Fij2_015,FijTE2_015,Fij4_015,FijTE4_015    )\n",
    "sigmas2_020,sigmasTE2_020,sigmas4_020,sigmasTE4_020     = getSigmas4(Fij2_020,FijTE2_020,Fij4_020,FijTE4_020    )\n",
    "sigmas2_025,sigmasTE2_025,sigmas4_025,sigmasTE4_025     = getSigmas4(Fij2_025,FijTE2_025,Fij4_025,FijTE4_025    )\n",
    "\n",
    "print 'done.'"
   ]
  },
  {
   "cell_type": "code",
   "execution_count": 27,
   "metadata": {},
   "outputs": [
    {
     "name": "stdout",
     "output_type": "stream",
     "text": [
      "done.\n"
     ]
    }
   ],
   "source": [
    "sigmas2_0002,sigmasTE2_0002,sigmas4_0002,sigmasTE4_0002     = getSigmas4(Fij2_0002,FijTE2_0002,Fij4_0002,FijTE4_0002    )\n",
    "sigmas2_0004,sigmasTE2_0004,sigmas4_0004,sigmasTE4_0004     = getSigmas4(Fij2_0004,FijTE2_0004,Fij4_0004,FijTE4_0004    )\n",
    "sigmas2_0006,sigmasTE2_0006,sigmas4_0006,sigmasTE4_0006     = getSigmas4(Fij2_0006,FijTE2_0006,Fij4_0006,FijTE4_0006    )\n",
    "sigmas2_0008,sigmasTE2_0008,sigmas4_0008,sigmasTE4_0008     = getSigmas4(Fij2_0008,FijTE2_0008,Fij4_0008,FijTE4_0008    )\n",
    "\n",
    "print 'done.'"
   ]
  },
  {
   "cell_type": "code",
   "execution_count": null,
   "metadata": {},
   "outputs": [],
   "source": []
  },
  {
   "cell_type": "code",
   "execution_count": null,
   "metadata": {},
   "outputs": [],
   "source": []
  },
  {
   "cell_type": "code",
   "execution_count": 28,
   "metadata": {},
   "outputs": [
    {
     "name": "stdout",
     "output_type": "stream",
     "text": [
      "done.\n"
     ]
    }
   ],
   "source": [
    "# collect sigma_wa.s into arrays\n",
    "wi = 8 # index of wa\n",
    "\"\"\"\n",
    "deltaWa = [0.01,0.02,0.025,0.03,0.04,0.05,0.10,0.15,0.20,0.25]\n",
    "sigmasWa2 =  [sigmas2_001[wi],sigmas2_002[wi],sigmas2_0025[wi],sigmas2_003[wi],sigmas2_004[wi],sigmas2_005[wi],\n",
    "              sigmas2_010[wi],sigmas2_015[wi],sigmas2_020[wi],sigmas2_025[wi]]\n",
    "sigmasTEWa2 =  [sigmasTE2_001[wi],sigmasTE2_002[wi],sigmasTE2_0025[wi],sigmasTE2_003[wi],sigmasTE2_004[wi],sigmasTE2_005[wi],\n",
    "                sigmasTE2_010[wi],sigmasTE2_015[wi],sigmasTE2_020[wi],sigmasTE2_025[wi]]\n",
    "sigmasWa4 =  [sigmas4_001[wi],sigmas4_002[wi],sigmas4_0025[wi],sigmas4_003[wi],sigmas4_004[wi],sigmas4_005[wi],\n",
    "              sigmas4_010[wi],sigmas4_015[wi],sigmas4_020[wi],sigmas4_025[wi]]\n",
    "sigmasTEWa4 =  [sigmasTE4_001[wi],sigmasTE4_002[wi],sigmasTE4_0025[wi],sigmasTE4_003[wi],sigmasTE4_004[wi],sigmasTE4_005[wi],\n",
    "                sigmasTE4_010[wi],sigmasTE4_015[wi],sigmasTE4_020[wi],sigmasTE4_025[wi]]\n",
    "\"\"\"\n",
    "\n",
    "deltaWa = [0.002,0.004,0.006,0.008,0.01,0.02,0.025,0.03,0.04,0.05,0.10,0.15,0.20,0.25]\n",
    "sigmasWa2 =  [sigmas2_0002[wi],sigmas2_0004[wi],sigmas2_0006[wi],sigmas2_0008[wi],\n",
    "              sigmas2_001[wi],sigmas2_002[wi],sigmas2_0025[wi],sigmas2_003[wi],sigmas2_004[wi],sigmas2_005[wi],\n",
    "              sigmas2_010[wi],sigmas2_015[wi],sigmas2_020[wi],sigmas2_025[wi]]\n",
    "sigmasTEWa2 =  [sigmasTE2_0002[wi],sigmasTE2_0004[wi],sigmasTE2_0006[wi],sigmasTE2_0008[wi],\n",
    "                sigmasTE2_001[wi],sigmasTE2_002[wi],sigmasTE2_0025[wi],sigmasTE2_003[wi],sigmasTE2_004[wi],sigmasTE2_005[wi],\n",
    "                sigmasTE2_010[wi],sigmasTE2_015[wi],sigmasTE2_020[wi],sigmasTE2_025[wi]]\n",
    "sigmasWa4 =  [sigmas4_0002[wi],sigmas4_0004[wi],sigmas4_0006[wi],sigmas4_0008[wi],\n",
    "              sigmas4_001[wi],sigmas4_002[wi],sigmas4_0025[wi],sigmas4_003[wi],sigmas4_004[wi],sigmas4_005[wi],\n",
    "              sigmas4_010[wi],sigmas4_015[wi],sigmas4_020[wi],sigmas4_025[wi]]\n",
    "sigmasTEWa4 =  [sigmasTE4_0002[wi],sigmasTE4_0004[wi],sigmasTE4_0006[wi],sigmasTE4_0008[wi],\n",
    "                sigmasTE4_001[wi],sigmasTE4_002[wi],sigmasTE4_0025[wi],sigmasTE4_003[wi],sigmasTE4_004[wi],sigmasTE4_005[wi],\n",
    "                sigmasTE4_010[wi],sigmasTE4_015[wi],sigmasTE4_020[wi],sigmasTE4_025[wi]]\n",
    "\n",
    "\n",
    "print 'done.'"
   ]
  },
  {
   "cell_type": "code",
   "execution_count": null,
   "metadata": {},
   "outputs": [],
   "source": []
  },
  {
   "cell_type": "code",
   "execution_count": 30,
   "metadata": {},
   "outputs": [
    {
     "data": {
      "image/png": "[encoded data removed]",
      "text/plain": [
       "<Figure size 432x288 with 1 Axes>"
      ]
     },
     "metadata": {},
     "output_type": "display_data"
    },
    {
     "data": {
      "image/png": "[encoded data removed]",
      "text/plain": [
       "<Figure size 432x288 with 1 Axes>"
      ]
     },
     "metadata": {},
     "output_type": "display_data"
    }
   ],
   "source": [
    "# plot them\n",
    "plt.scatter(deltaWa,sigmasWa2,label='linear'   ,color='C0')\n",
    "plt.scatter(deltaWa,sigmasWa4,label='nonlinear',color='C2')\n",
    "plt.scatter(deltaWa[6],sigmasWa2[6],color='r',label='nominal')\n",
    "plt.scatter(deltaWa[6],sigmasWa4[6],color='r')\n",
    "plt.title('kg')\n",
    "plt.legend()\n",
    "plt.xlabel(r'$\\Delta w_a$',fontsize=15)\n",
    "plt.ylabel(r'$\\sigma(w_a)$',fontsize=15)\n",
    "plt.show()\n",
    "\n",
    "plt.scatter(deltaWa,sigmasTEWa2,label='linear'   ,color='C0')\n",
    "plt.scatter(deltaWa,sigmasTEWa4,label='nonlinear',color='C2')\n",
    "plt.scatter(deltaWa[6],sigmasTEWa2[6],color='r',label='nominal')\n",
    "plt.scatter(deltaWa[6],sigmasTEWa4[6],color='r')\n",
    "plt.title('TE')\n",
    "plt.legend()\n",
    "plt.xlabel(r'$\\Delta w_a$',fontsize=15)\n",
    "plt.ylabel(r'$\\sigma(w_a)$',fontsize=15)\n",
    "plt.show()\n"
   ]
  },
  {
   "cell_type": "code",
   "execution_count": null,
   "metadata": {},
   "outputs": [],
   "source": []
  },
  {
   "cell_type": "markdown",
   "metadata": {},
   "source": [
    "# Check affect of $w_0$ step size on Fisher matrices and sigmas"
   ]
  },
  {
   "cell_type": "code",
   "execution_count": 2,
   "metadata": {},
   "outputs": [
    {
     "name": "stdout",
     "output_type": "stream",
     "text": [
      "done.\n"
     ]
    }
   ],
   "source": [
    "# load saved Fijs\n",
    "# 2 for linear, 4 for nonlinear\n",
    "Fij2_010,FijTE2_010,Fij4_010,FijTE4_010         = np.load('Fij_set_w0_010.npy')\n",
    "Fij2_008,FijTE2_008,Fij4_008,FijTE4_008         = np.load('Fij_set_w0_008.npy')\n",
    "Fij2_006,FijTE2_006,Fij4_006,FijTE4_006         = np.load('Fij_set_w0_006.npy')\n",
    "Fij2_005,FijTE2_005,Fij4_005,FijTE4_005         = np.load('Fij_set_w0_005.npy')\n",
    "Fij2_004,FijTE2_004,Fij4_004,FijTE4_004         = np.load('Fij_set_w0_004.npy')\n",
    "Fij2_002,FijTE2_002,Fij4_002,FijTE4_002         = np.load('Fij_set_w0_002.npy')\n",
    "Fij2_001,FijTE2_001,Fij4_001,FijTE4_001         = np.load('Fij_set_w0_001.npy')\n",
    "Fij2_0005,FijTE2_0005,Fij4_0005,FijTE4_0005     = np.load('Fij_set_w0_0005.npy')\n",
    "Fij2_00025,FijTE2_00025,Fij4_00025,FijTE4_00025 = np.load('Fij_set_w0_00025.npy')\n",
    "\n",
    "print 'done.'"
   ]
  },
  {
   "cell_type": "code",
   "execution_count": 3,
   "metadata": {},
   "outputs": [
    {
     "name": "stdout",
     "output_type": "stream",
     "text": [
      "done.\n"
     ]
    }
   ],
   "source": [
    "def getSigmas(Fij):\n",
    "    return np.sqrt(np.diag(np.linalg.inv(Fij)))\n",
    "def getSigmas4(Fij1,Fij2,Fij3,Fij4):\n",
    "    sigmas1 = getSigmas(Fij1)\n",
    "    sigmas2 = getSigmas(Fij2)\n",
    "    sigmas3 = getSigmas(Fij3)\n",
    "    sigmas4 = getSigmas(Fij4)\n",
    "    return sigmas1,sigmas2,sigmas3,sigmas4\n",
    "\n",
    "sigmas2_010,sigmasTE2_010,sigmas4_010,sigmasTE4_010         = getSigmas4(Fij2_010,FijTE2_010,Fij4_010,FijTE4_010        )\n",
    "sigmas2_008,sigmasTE2_008,sigmas4_008,sigmasTE4_008         = getSigmas4(Fij2_008,FijTE2_008,Fij4_008,FijTE4_008        )\n",
    "sigmas2_006,sigmasTE2_006,sigmas4_006,sigmasTE4_006         = getSigmas4(Fij2_006,FijTE2_006,Fij4_006,FijTE4_006        )\n",
    "sigmas2_005,sigmasTE2_005,sigmas4_005,sigmasTE4_005         = getSigmas4(Fij2_005,FijTE2_005,Fij4_005,FijTE4_005        )\n",
    "sigmas2_004,sigmasTE2_004,sigmas4_004,sigmasTE4_004         = getSigmas4(Fij2_004,FijTE2_004,Fij4_004,FijTE4_004        )\n",
    "sigmas2_002,sigmasTE2_002,sigmas4_002,sigmasTE4_002         = getSigmas4(Fij2_002,FijTE2_002,Fij4_002,FijTE4_002        )\n",
    "sigmas2_001,sigmasTE2_001,sigmas4_001,sigmasTE4_001         = getSigmas4(Fij2_001,FijTE2_001,Fij4_001,FijTE4_001        )\n",
    "sigmas2_0005,sigmasTE2_0005,sigmas4_0005,sigmasTE4_0005     = getSigmas4(Fij2_0005,FijTE2_0005,Fij4_0005,FijTE4_0005    )\n",
    "sigmas2_00025,sigmasTE2_00025,sigmas4_00025,sigmasTE4_00025 = getSigmas4(Fij2_00025,FijTE2_00025,Fij4_00025,FijTE4_00025)\n",
    "\n",
    "print 'done.'"
   ]
  },
  {
   "cell_type": "code",
   "execution_count": 4,
   "metadata": {},
   "outputs": [
    {
     "name": "stdout",
     "output_type": "stream",
     "text": [
      "done.\n"
     ]
    }
   ],
   "source": [
    "# collect sigma_wa.s into arrays\n",
    "wi = 7 # index of w0\n",
    "\n",
    "deltaW0 = [0.0025,0.005,0.01,0.02,0.04,0.05,0.06,0.08,0.10]\n",
    "sigmasW02 =  [sigmas2_00025[wi],sigmas2_0005[wi],sigmas2_001[wi],sigmas2_002[wi],\n",
    "              sigmas2_004[wi],sigmas2_005[wi],sigmas2_006[wi],sigmas2_008[wi],sigmas2_010[wi]]\n",
    "sigmasTEW02 =  [sigmasTE2_00025[wi],sigmasTE2_0005[wi],sigmasTE2_001[wi],sigmasTE2_002[wi],\n",
    "                sigmasTE2_004[wi],sigmasTE2_005[wi],sigmasTE2_006[wi],sigmasTE2_008[wi],sigmasTE2_010[wi]]\n",
    "sigmasW04 =  [sigmas4_00025[wi],sigmas4_0005[wi],sigmas4_001[wi],sigmas4_002[wi],\n",
    "              sigmas4_004[wi],sigmas4_005[wi],sigmas4_006[wi],sigmas4_008[wi],sigmas4_010[wi]]\n",
    "sigmasTEW04 =  [sigmasTE4_00025[wi],sigmasTE4_0005[wi],sigmasTE4_001[wi],sigmasTE4_002[wi],\n",
    "                sigmasTE4_004[wi],sigmasTE4_005[wi],sigmasTE4_006[wi],sigmasTE4_008[wi],sigmasTE4_010[wi]]\n",
    "\n",
    "print 'done.'"
   ]
  },
  {
   "cell_type": "code",
   "execution_count": 6,
   "metadata": {},
   "outputs": [
    {
     "data": {
      "image/png": "[encoded data removed]",
      "text/plain": [
       "<Figure size 432x288 with 1 Axes>"
      ]
     },
     "metadata": {},
     "output_type": "display_data"
    },
    {
     "data": {
      "image/png": "[encoded data removed]",
      "text/plain": [
       "<Figure size 432x288 with 1 Axes>"
      ]
     },
     "metadata": {},
     "output_type": "display_data"
    }
   ],
   "source": [
    "# plot them\n",
    "plt.scatter(deltaW0,sigmasW02,label='linear'   ,color='C0')\n",
    "plt.scatter(deltaW0,sigmasW04,label='nonlinear',color='C2')\n",
    "plt.scatter(deltaW0[5],sigmasW02[5],color='r',label='nominal')\n",
    "plt.scatter(deltaW0[5],sigmasW04[5],color='r')\n",
    "plt.title('kg')\n",
    "plt.legend()\n",
    "plt.xlabel(r'$\\Delta w_0$',fontsize=15)\n",
    "plt.ylabel(r'$\\sigma(w_0)$',fontsize=15)\n",
    "plt.show()\n",
    "\n",
    "plt.scatter(deltaW0,sigmasTEW02,label='linear'   ,color='C0')\n",
    "plt.scatter(deltaW0,sigmasTEW04,label='nonlinear',color='C2')\n",
    "plt.scatter(deltaW0[5],sigmasTEW02[5],color='r',label='nominal')\n",
    "plt.scatter(deltaW0[5],sigmasTEW04[5],color='r')\n",
    "plt.title('TE')\n",
    "plt.legend()\n",
    "plt.xlabel(r'$\\Delta w_0$',fontsize=15)\n",
    "plt.ylabel(r'$\\sigma(w_0)$',fontsize=15)\n",
    "plt.show()\n"
   ]
  },
  {
   "cell_type": "code",
   "execution_count": null,
   "metadata": {},
   "outputs": [],
   "source": []
  },
  {
   "cell_type": "code",
   "execution_count": null,
   "metadata": {},
   "outputs": [],
   "source": []
  },
  {
   "cell_type": "code",
   "execution_count": null,
   "metadata": {},
   "outputs": [],
   "source": []
  },
  {
   "cell_type": "code",
   "execution_count": null,
   "metadata": {},
   "outputs": [],
   "source": []
  },
  {
   "cell_type": "code",
   "execution_count": null,
   "metadata": {},
   "outputs": [],
   "source": []
  },
  {
   "cell_type": "code",
   "execution_count": null,
   "metadata": {},
   "outputs": [],
   "source": []
  },
  {
   "cell_type": "code",
   "execution_count": null,
   "metadata": {},
   "outputs": [],
   "source": []
  },
  {
   "cell_type": "code",
   "execution_count": null,
   "metadata": {},
   "outputs": [],
   "source": []
  },
  {
   "cell_type": "code",
   "execution_count": null,
   "metadata": {},
   "outputs": [],
   "source": []
  },
  {
   "cell_type": "code",
   "execution_count": null,
   "metadata": {},
   "outputs": [],
   "source": []
  },
  {
   "cell_type": "code",
   "execution_count": null,
   "metadata": {},
   "outputs": [],
   "source": []
  },
  {
   "cell_type": "code",
   "execution_count": null,
   "metadata": {},
   "outputs": [],
   "source": []
  },
  {
   "cell_type": "code",
   "execution_count": null,
   "metadata": {},
   "outputs": [],
   "source": []
  },
  {
   "cell_type": "code",
   "execution_count": null,
   "metadata": {},
   "outputs": [],
   "source": []
  },
  {
   "cell_type": "code",
   "execution_count": null,
   "metadata": {},
   "outputs": [],
   "source": []
  },
  {
   "cell_type": "code",
   "execution_count": null,
   "metadata": {},
   "outputs": [],
   "source": []
  }
 ],
 "metadata": {
  "kernelspec": {
   "display_name": "Python 2",
   "language": "python",
   "name": "python2"
  },
  "language_info": {
   "codemirror_mode": {
    "name": "ipython",
    "version": 2
   },
   "file_extension": ".py",
   "mimetype": "text/x-python",
   "name": "python",
   "nbconvert_exporter": "python",
   "pygments_lexer": "ipython2",
   "version": "2.7.15"
  }
 },
 "nbformat": 4,
 "nbformat_minor": 2
}
