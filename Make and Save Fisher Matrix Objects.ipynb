{
 "cells": [
  {
   "cell_type": "markdown",
   "metadata": {},
   "source": [
    "# Testing the Fisher matrix including DE w"
   ]
  },
  {
   "cell_type": "code",
   "execution_count": 57,
   "metadata": {},
   "outputs": [],
   "source": [
    "import crosspower as cp\n",
    "import FisherCl as fcl #branch quickCl\n",
    "#import camb\n",
    "\n",
    "# set plotting to be in the notebook instead of its own qt window\n",
    "%matplotlib inline"
   ]
  },
  {
   "cell_type": "code",
   "execution_count": 58,
   "metadata": {
    "scrolled": true
   },
   "outputs": [
    {
     "name": "stderr",
     "output_type": "stream",
     "text": [
      "WARNING:root:accuracy parameters are changed globally, not yet per parameter set\n"
     ]
    },
    {
     "name": "stdout",
     "output_type": "stream",
     "text": [
      "creating MatterPower object...\n",
      "zs.size:  9998\n",
      "creating Window object...\n",
      "calculating window  0 ... \n",
      "warning: b(z=0)=1 inserted.\n",
      "calculating window  1 ... \n",
      "warning: b(z=0)=1 inserted.\n",
      "calculating window  2 ... \n",
      "warning: b(z=0)=1 inserted.\n",
      "calculating window  3 ... \n",
      "warning: b(z=0)=1 inserted.\n"
     ]
    },
    {
     "name": "stderr",
     "output_type": "stream",
     "text": [
      "WARNING:root:accuracy parameters are changed globally, not yet per parameter set\n"
     ]
    },
    {
     "name": "stdout",
     "output_type": "stream",
     "text": [
      "calculating window  4 ... \n",
      "warning: b(z=0)=1 inserted.\n",
      "creating more matter power objects...\n",
      "creating matter power spectra and window functions for  ombh2  derivative...\n",
      "zs.size:  9998\n"
     ]
    },
    {
     "name": "stderr",
     "output_type": "stream",
     "text": [
      "WARNING:root:accuracy parameters are changed globally, not yet per parameter set\n"
     ]
    },
    {
     "name": "stdout",
     "output_type": "stream",
     "text": [
      "zs.size:  9998\n",
      "calculating window  0 ... \n",
      "warning: b(z=0)=1 inserted.\n",
      "calculating window  1 ... \n",
      "warning: b(z=0)=1 inserted.\n",
      "calculating window  2 ... \n",
      "warning: b(z=0)=1 inserted.\n",
      "calculating window  3 ... \n",
      "warning: b(z=0)=1 inserted.\n",
      "calculating window  4 ... \n",
      "warning: b(z=0)=1 inserted.\n",
      "calculating window  0 ... \n",
      "warning: b(z=0)=1 inserted.\n",
      "calculating window  1 ... \n",
      "warning: b(z=0)=1 inserted.\n",
      "calculating window  2 ... \n",
      "warning: b(z=0)=1 inserted.\n",
      "calculating window  3 ... \n",
      "warning: b(z=0)=1 inserted.\n"
     ]
    },
    {
     "name": "stderr",
     "output_type": "stream",
     "text": [
      "WARNING:root:accuracy parameters are changed globally, not yet per parameter set\n"
     ]
    },
    {
     "name": "stdout",
     "output_type": "stream",
     "text": [
      "calculating window  4 ... \n",
      "warning: b(z=0)=1 inserted.\n",
      "creating matter power spectra and window functions for  omch2  derivative...\n",
      "zs.size:  9998\n"
     ]
    },
    {
     "name": "stderr",
     "output_type": "stream",
     "text": [
      "WARNING:root:accuracy parameters are changed globally, not yet per parameter set\n"
     ]
    },
    {
     "name": "stdout",
     "output_type": "stream",
     "text": [
      "zs.size:  9998\n",
      "calculating window  0 ... \n",
      "warning: b(z=0)=1 inserted.\n",
      "calculating window  1 ... \n",
      "warning: b(z=0)=1 inserted.\n",
      "calculating window  2 ... \n",
      "warning: b(z=0)=1 inserted.\n",
      "calculating window  3 ... \n",
      "warning: b(z=0)=1 inserted.\n",
      "calculating window  4 ... \n",
      "warning: b(z=0)=1 inserted.\n",
      "calculating window  0 ... \n",
      "warning: b(z=0)=1 inserted.\n",
      "calculating window  1 ... \n",
      "warning: b(z=0)=1 inserted.\n",
      "calculating window  2 ... \n",
      "warning: b(z=0)=1 inserted.\n",
      "calculating window  3 ... \n",
      "warning: b(z=0)=1 inserted.\n"
     ]
    },
    {
     "name": "stderr",
     "output_type": "stream",
     "text": [
      "WARNING:root:accuracy parameters are changed globally, not yet per parameter set\n"
     ]
    },
    {
     "name": "stdout",
     "output_type": "stream",
     "text": [
      "calculating window  4 ... \n",
      "warning: b(z=0)=1 inserted.\n",
      "creating matter power spectra and window functions for  cosmomc_theta  derivative...\n",
      "zs.size:  9998\n"
     ]
    },
    {
     "name": "stderr",
     "output_type": "stream",
     "text": [
      "WARNING:root:accuracy parameters are changed globally, not yet per parameter set\n"
     ]
    },
    {
     "name": "stdout",
     "output_type": "stream",
     "text": [
      "zs.size:  9998\n",
      "calculating window  0 ... \n",
      "warning: b(z=0)=1 inserted.\n",
      "calculating window  1 ... \n",
      "warning: b(z=0)=1 inserted.\n",
      "calculating window  2 ... \n",
      "warning: b(z=0)=1 inserted.\n",
      "calculating window  3 ... \n",
      "warning: b(z=0)=1 inserted.\n",
      "calculating window  4 ... \n",
      "warning: b(z=0)=1 inserted.\n",
      "calculating window  0 ... \n",
      "warning: b(z=0)=1 inserted.\n",
      "calculating window  1 ... \n",
      "warning: b(z=0)=1 inserted.\n",
      "calculating window  2 ... \n",
      "warning: b(z=0)=1 inserted.\n",
      "calculating window  3 ... \n",
      "warning: b(z=0)=1 inserted.\n"
     ]
    },
    {
     "name": "stderr",
     "output_type": "stream",
     "text": [
      "WARNING:root:accuracy parameters are changed globally, not yet per parameter set\n"
     ]
    },
    {
     "name": "stdout",
     "output_type": "stream",
     "text": [
      "calculating window  4 ... \n",
      "warning: b(z=0)=1 inserted.\n",
      "creating matter power spectra and window functions for  As  derivative...\n",
      "zs.size:  9998\n"
     ]
    },
    {
     "name": "stderr",
     "output_type": "stream",
     "text": [
      "WARNING:root:accuracy parameters are changed globally, not yet per parameter set\n"
     ]
    },
    {
     "name": "stdout",
     "output_type": "stream",
     "text": [
      "zs.size:  9998\n",
      "calculating window  0 ... \n",
      "warning: b(z=0)=1 inserted.\n",
      "calculating window  1 ... \n",
      "warning: b(z=0)=1 inserted.\n",
      "calculating window  2 ... \n",
      "warning: b(z=0)=1 inserted.\n",
      "calculating window  3 ... \n",
      "warning: b(z=0)=1 inserted.\n",
      "calculating window  4 ... \n",
      "warning: b(z=0)=1 inserted.\n",
      "calculating window  0 ... \n",
      "warning: b(z=0)=1 inserted.\n",
      "calculating window  1 ... \n",
      "warning: b(z=0)=1 inserted.\n",
      "calculating window  2 ... \n",
      "warning: b(z=0)=1 inserted.\n",
      "calculating window  3 ... \n",
      "warning: b(z=0)=1 inserted.\n",
      "calculating window  4 ... \n",
      "warning: b(z=0)=1 inserted.\n",
      "creating matter power spectra and window functions for "
     ]
    },
    {
     "name": "stderr",
     "output_type": "stream",
     "text": [
      "WARNING:root:accuracy parameters are changed globally, not yet per parameter set\n"
     ]
    },
    {
     "name": "stdout",
     "output_type": "stream",
     "text": [
      " ns  derivative...\n",
      "zs.size:  9998\n"
     ]
    },
    {
     "name": "stderr",
     "output_type": "stream",
     "text": [
      "WARNING:root:accuracy parameters are changed globally, not yet per parameter set\n"
     ]
    },
    {
     "name": "stdout",
     "output_type": "stream",
     "text": [
      "zs.size:  9998\n",
      "calculating window  0 ... \n",
      "warning: b(z=0)=1 inserted.\n",
      "calculating window  1 ... \n",
      "warning: b(z=0)=1 inserted.\n",
      "calculating window  2 ... \n",
      "warning: b(z=0)=1 inserted.\n",
      "calculating window  3 ... \n",
      "warning: b(z=0)=1 inserted.\n",
      "calculating window  4 ... \n",
      "warning: b(z=0)=1 inserted.\n",
      "calculating window  0 ... \n",
      "warning: b(z=0)=1 inserted.\n",
      "calculating window  1 ... \n",
      "warning: b(z=0)=1 inserted.\n",
      "calculating window  2 ... \n",
      "warning: b(z=0)=1 inserted.\n",
      "calculating window  3 ... \n",
      "warning: b(z=0)=1 inserted.\n"
     ]
    },
    {
     "name": "stderr",
     "output_type": "stream",
     "text": [
      "WARNING:root:accuracy parameters are changed globally, not yet per parameter set\n"
     ]
    },
    {
     "name": "stdout",
     "output_type": "stream",
     "text": [
      "calculating window  4 ... \n",
      "warning: b(z=0)=1 inserted.\n",
      "creating matter power spectra and window functions for  tau  derivative...\n",
      "zs.size:  9998\n"
     ]
    },
    {
     "name": "stderr",
     "output_type": "stream",
     "text": [
      "WARNING:root:accuracy parameters are changed globally, not yet per parameter set\n"
     ]
    },
    {
     "name": "stdout",
     "output_type": "stream",
     "text": [
      "zs.size:  9998\n",
      "calculating window  0 ... \n",
      "warning: b(z=0)=1 inserted.\n",
      "calculating window  1 ... \n",
      "warning: b(z=0)=1 inserted.\n",
      "calculating window  2 ... \n",
      "warning: b(z=0)=1 inserted.\n",
      "calculating window  3 ... \n",
      "warning: b(z=0)=1 inserted.\n",
      "calculating window  4 ... \n",
      "warning: b(z=0)=1 inserted.\n",
      "calculating window  0 ... \n",
      "warning: b(z=0)=1 inserted.\n",
      "calculating window  1 ... \n",
      "warning: b(z=0)=1 inserted.\n",
      "calculating window  2 ... \n",
      "warning: b(z=0)=1 inserted.\n",
      "calculating window  3 ... \n",
      "warning: b(z=0)=1 inserted.\n",
      "calculating window  4 ... \n",
      "warning: b(z=0)=1 inserted.\n"
     ]
    },
    {
     "name": "stderr",
     "output_type": "stream",
     "text": [
      "WARNING:root:accuracy parameters are changed globally, not yet per parameter set\n"
     ]
    },
    {
     "name": "stdout",
     "output_type": "stream",
     "text": [
      "creating matter power spectra and window functions for  mnu  derivative...\n",
      "zs.size:  9998\n"
     ]
    },
    {
     "name": "stderr",
     "output_type": "stream",
     "text": [
      "WARNING:root:accuracy parameters are changed globally, not yet per parameter set\n"
     ]
    },
    {
     "name": "stdout",
     "output_type": "stream",
     "text": [
      "zs.size:  9998\n",
      "calculating window  0 ... \n",
      "warning: b(z=0)=1 inserted.\n",
      "calculating window  1 ... \n",
      "warning: b(z=0)=1 inserted.\n",
      "calculating window  2 ... \n",
      "warning: b(z=0)=1 inserted.\n",
      "calculating window  3 ... \n",
      "warning: b(z=0)=1 inserted.\n",
      "calculating window  4 ... \n",
      "warning: b(z=0)=1 inserted.\n",
      "calculating window  0 ... \n",
      "warning: b(z=0)=1 inserted.\n",
      "calculating window  1 ... \n",
      "warning: b(z=0)=1 inserted.\n",
      "calculating window  2 ... \n",
      "warning: b(z=0)=1 inserted.\n",
      "calculating window  3 ... \n",
      "warning: b(z=0)=1 inserted.\n"
     ]
    },
    {
     "name": "stderr",
     "output_type": "stream",
     "text": [
      "WARNING:root:Currently dark energy parameters are changed globally, not per parameter set\n",
      "WARNING:root:accuracy parameters are changed globally, not yet per parameter set\n"
     ]
    },
    {
     "name": "stdout",
     "output_type": "stream",
     "text": [
      "calculating window  4 ... \n",
      "warning: b(z=0)=1 inserted.\n",
      "creating matter power spectra and window functions for  w  derivative...\n",
      "zs.size:  9998\n"
     ]
    },
    {
     "name": "stderr",
     "output_type": "stream",
     "text": [
      "WARNING:root:Currently dark energy parameters are changed globally, not per parameter set\n",
      "WARNING:root:accuracy parameters are changed globally, not yet per parameter set\n"
     ]
    },
    {
     "name": "stdout",
     "output_type": "stream",
     "text": [
      "zs.size:  9998\n",
      "calculating window  0 ... \n",
      "warning: b(z=0)=1 inserted.\n",
      "calculating window  1 ... \n",
      "warning: b(z=0)=1 inserted.\n",
      "calculating window  2 ... \n",
      "warning: b(z=0)=1 inserted.\n",
      "calculating window  3 ... \n",
      "warning: b(z=0)=1 inserted.\n",
      "calculating window  4 ... \n",
      "warning: b(z=0)=1 inserted.\n",
      "calculating window  0 ... \n",
      "warning: b(z=0)=1 inserted.\n",
      "calculating window  1 ... \n",
      "warning: b(z=0)=1 inserted.\n",
      "calculating window  2 ... \n",
      "warning: b(z=0)=1 inserted.\n",
      "calculating window  3 ... \n",
      "warning: b(z=0)=1 inserted.\n",
      "calculating window  4 ... \n",
      "warning: b(z=0)=1 inserted.\n",
      "starting cross power with entire kappa... \n",
      "starting angular cross power spectrum  0 ,  0 ... \n",
      "window  1 : kappa  0\n",
      "window  2 : kappa  0\n",
      "window  1 : kappa  0\n",
      "window  2 : kappa  0\n",
      "window  1 : kappa  0\n",
      "window  2 : kappa  0\n",
      "window  1 : kappa  0\n",
      "window  2 : kappa  0\n",
      "window  1 : kappa  0\n",
      "window  2 : kappa  0\n",
      "window  1 : kappa  0\n",
      "window  2 : kappa  0\n",
      "window  1 : kappa  0\n",
      "window  2 : kappa  0\n",
      "window  1 : kappa  0\n",
      "window  2 : kappa  0\n",
      "window  1 : kappa  0\n",
      "window  2 : kappa  0\n",
      "window  1 : kappa  0\n",
      "window  2 : kappa  0\n",
      "window  1 : kappa  0\n",
      "window  2 : kappa  0\n",
      "window  1 : kappa  0\n",
      "window  2 : kappa  0\n",
      "window  1 : kappa  0\n",
      "window  2 : kappa  0\n",
      "window  1 : kappa  0\n",
      "window  2 : kappa  0\n",
      "window  1 : kappa  0\n",
      "window  2 : kappa  0\n",
      "window  1 : kappa  0\n",
      "window  2 : kappa  0\n",
      "window  1 : kappa  0\n",
      "window  2 : kappa  0\n",
      "starting angular cross power spectrum  0 ,  1 ... \n",
      "window  1 : kappa  0\n",
      "window  2 : galaxies  1\n",
      "window  1 : kappa  0\n",
      "window  2 : galaxies  1\n",
      "window  1 : kappa  0\n",
      "window  2 : galaxies  1\n",
      "window  1 : kappa  0\n",
      "window  2 : galaxies  1\n",
      "window  1 : kappa  0\n",
      "window  2 : galaxies  1\n",
      "window  1 : kappa  0\n",
      "window  2 : galaxies  1\n",
      "window  1 : kappa  0\n",
      "window  2 : galaxies  1\n",
      "window  1 : kappa  0\n",
      "window  2 : galaxies  1\n",
      "window  1 : kappa  0\n",
      "window  2 : galaxies  1\n",
      "window  1 : kappa  0\n",
      "window  2 : galaxies  1\n",
      "window  1 : kappa  0\n",
      "window  2 : galaxies  1\n",
      "window  1 : kappa  0\n",
      "window  2 : galaxies  1\n",
      "window  1 : kappa  0\n",
      "window  2 : galaxies  1\n",
      "window  1 : kappa  0\n",
      "window  2 : galaxies  1\n",
      "window  1 : kappa  0\n",
      "window  2 : galaxies  1\n",
      "window  1 : kappa  0\n",
      "window  2 : galaxies  1\n",
      "window  1 : kappa  0\n",
      "window  2 : galaxies  1\n",
      "starting angular cross power spectrum  0 ,  2 ... \n",
      "window  1 : kappa  0\n",
      "window  2 : galaxies  2\n",
      "window  1 : kappa  0\n",
      "window  2 : galaxies  2\n",
      "window  1 : kappa  0\n",
      "window  2 : galaxies  2\n",
      "window  1 : kappa  0\n",
      "window  2 : galaxies  2\n",
      "window  1 : kappa  0\n",
      "window  2 : galaxies  2\n",
      "window  1 : kappa  0\n",
      "window  2 : galaxies  2\n",
      "window  1 : kappa  0\n",
      "window  2 : galaxies  2\n",
      "window  1 : kappa  0\n",
      "window  2 : galaxies  2\n",
      "window  1 : kappa  0\n",
      "window  2 : galaxies  2\n",
      "window  1 : kappa  0\n",
      "window  2 : galaxies  2\n",
      "window  1 : kappa  0\n",
      "window  2 : galaxies  2\n",
      "window  1 : kappa  0\n",
      "window  2 : galaxies  2\n",
      "window  1 : kappa  0\n",
      "window  2 : galaxies  2\n",
      "window  1 : kappa  0\n",
      "window  2 : galaxies  2\n",
      "window  1 : kappa  0\n",
      "window  2 : galaxies  2\n",
      "window  1 : kappa  0\n",
      "window  2 : galaxies  2\n",
      "window  1 : kappa  0\n",
      "window  2 : galaxies  2\n",
      "starting angular cross power spectrum  0 ,  3 ... \n",
      "window  1 : kappa  0\n",
      "window  2 : galaxies  3\n",
      "window  1 : kappa  0\n",
      "window  2 : galaxies  3\n",
      "window  1 : kappa  0\n",
      "window  2 : galaxies  3\n",
      "window  1 : kappa  0\n",
      "window  2 : galaxies  3\n",
      "window  1 : kappa  0\n",
      "window  2 : galaxies  3\n",
      "window  1 : kappa  0\n",
      "window  2 : galaxies  3\n",
      "window  1 : kappa  0\n",
      "window  2 : galaxies  3\n",
      "window  1 : kappa  0\n",
      "window  2 : galaxies  3\n",
      "window  1 : kappa  0\n",
      "window  2 : galaxies  3\n",
      "window  1 : kappa  0\n",
      "window  2 : galaxies  3\n",
      "window  1 : kappa  0\n",
      "window  2 : galaxies  3\n",
      "window  1 : kappa  0\n",
      "window  2 : galaxies  3\n",
      "window  1 : kappa  0\n",
      "window  2 : galaxies  3\n",
      "window  1 : kappa  0\n",
      "window  2 : galaxies  3\n",
      "window  1 : kappa  0\n",
      "window  2 : galaxies  3\n",
      "window  1 : kappa  0\n",
      "window  2 : galaxies  3\n",
      "window  1 : kappa  0\n",
      "window  2 : galaxies  3\n",
      "starting angular cross power spectrum  0 ,  4 ... \n",
      "window  1 : kappa  0\n",
      "window  2 : galaxies  4\n",
      "window  1 : kappa  0\n",
      "window  2 : galaxies  4\n",
      "window  1 : kappa  0\n",
      "window  2 : galaxies  4\n",
      "window  1 : kappa  0\n",
      "window  2 : galaxies  4\n",
      "window  1 : kappa  0\n",
      "window  2 : galaxies  4\n",
      "window  1 : kappa  0\n",
      "window  2 : galaxies  4\n",
      "window  1 : kappa  0\n",
      "window  2 : galaxies  4\n",
      "window  1 : kappa  0\n",
      "window  2 : galaxies  4\n",
      "window  1 : kappa  0\n",
      "window  2 : galaxies  4\n",
      "window  1 : kappa  0\n",
      "window  2 : galaxies  4\n",
      "window  1 : kappa  0\n",
      "window  2 : galaxies  4\n",
      "window  1 : kappa  0\n",
      "window  2 : galaxies  4\n",
      "window  1 : kappa  0\n",
      "window  2 : galaxies  4\n",
      "window  1 : kappa  0\n",
      "window  2 : galaxies  4\n",
      "window  1 : kappa  0\n",
      "window  2 : galaxies  4\n",
      "window  1 : kappa  0\n",
      "window  2 : galaxies  4\n",
      "window  1 : kappa  0\n",
      "window  2 : galaxies  4\n",
      "starting angular cross power spectrum  1 ,  1 ... \n",
      "window  1 : galaxies  1\n",
      "window  2 : galaxies  1\n",
      "window  1 : galaxies  1\n",
      "window  2 : galaxies  1\n",
      "window  1 : galaxies  1\n",
      "window  2 : galaxies  1\n",
      "window  1 : galaxies  1\n",
      "window  2 : galaxies  1\n",
      "window  1 : galaxies  1\n",
      "window  2 : galaxies  1\n",
      "window  1 : galaxies  1\n",
      "window  2 : galaxies  1\n",
      "window  1 : galaxies  1\n",
      "window  2 : galaxies  1\n",
      "window  1 : galaxies  1\n",
      "window  2 : galaxies  1\n",
      "window  1 : galaxies  1\n",
      "window  2 : galaxies  1\n",
      "window  1 : galaxies  1\n",
      "window  2 : galaxies  1\n",
      "window  1 : galaxies  1\n",
      "window  2 : galaxies  1\n",
      "window  1 : galaxies  1\n",
      "window  2 : galaxies  1\n",
      "window  1 : galaxies  1\n",
      "window  2 : galaxies  1\n",
      "window  1 : galaxies  1\n",
      "window  2 : galaxies  1\n",
      "window  1 : galaxies  1\n",
      "window  2 : galaxies  1\n",
      "window  1 : galaxies  1\n",
      "window  2 : galaxies  1\n",
      "window  1 : galaxies  1\n",
      "window  2 : galaxies  1\n",
      "starting angular cross power spectrum  1 ,  2 ... \n",
      "starting angular cross power spectrum  1 ,  3 ... \n",
      "starting angular cross power spectrum  1 ,  4 ... \n",
      "starting angular cross power spectrum  2 ,  2 ... \n",
      "window  1 : galaxies  2\n",
      "window  2 : galaxies  2\n",
      "window  1 : galaxies  2\n",
      "window  2 : galaxies  2\n",
      "window  1 : galaxies  2\n",
      "window  2 : galaxies  2\n",
      "window  1 : galaxies  2\n",
      "window  2 : galaxies  2\n",
      "window  1 : galaxies  2\n",
      "window  2 : galaxies  2\n",
      "window  1 : galaxies  2\n",
      "window  2 : galaxies  2\n",
      "window  1 : galaxies  2\n",
      "window  2 : galaxies  2\n",
      "window  1 : galaxies  2\n",
      "window  2 : galaxies  2\n",
      "window  1 : galaxies  2\n",
      "window  2 : galaxies  2\n",
      "window  1 : galaxies  2\n",
      "window  2 : galaxies  2\n",
      "window  1 : galaxies  2\n",
      "window  2 : galaxies  2\n",
      "window  1 : galaxies  2\n",
      "window  2 : galaxies  2\n",
      "window  1 : galaxies  2\n",
      "window  2 : galaxies  2\n",
      "window  1 : galaxies  2\n",
      "window  2 : galaxies  2\n",
      "window  1 : galaxies  2\n",
      "window  2 : galaxies  2\n",
      "window  1 : galaxies  2\n",
      "window  2 : galaxies  2\n",
      "window  1 : galaxies  2\n",
      "window  2 : galaxies  2\n",
      "starting angular cross power spectrum  2 ,  3 ... \n",
      "starting angular cross power spectrum  2 ,  4 ... \n",
      "starting angular cross power spectrum  3 ,  3 ... \n",
      "window  1 : galaxies  3\n",
      "window  2 : galaxies  3\n",
      "window  1 : galaxies  3\n",
      "window  2 : galaxies  3\n",
      "window  1 : galaxies  3\n",
      "window  2 : galaxies  3\n",
      "window  1 : galaxies  3\n",
      "window  2 : galaxies  3\n",
      "window  1 : galaxies  3\n",
      "window  2 : galaxies  3\n",
      "window  1 : galaxies  3\n",
      "window  2 : galaxies  3\n",
      "window  1 : galaxies  3\n",
      "window  2 : galaxies  3\n",
      "window  1 : galaxies  3\n",
      "window  2 : galaxies  3\n",
      "window  1 : galaxies  3\n",
      "window  2 : galaxies  3\n",
      "window  1 : galaxies  3\n",
      "window  2 : galaxies  3\n",
      "window  1 : galaxies  3\n",
      "window  2 : galaxies  3\n",
      "window  1 : galaxies  3\n",
      "window  2 : galaxies  3\n",
      "window  1 : galaxies  3\n",
      "window  2 : galaxies  3\n",
      "window  1 : galaxies  3\n",
      "window  2 : galaxies  3\n",
      "window  1 : galaxies  3\n",
      "window  2 : galaxies  3\n",
      "window  1 : galaxies  3\n",
      "window  2 : galaxies  3\n",
      "window  1 : galaxies  3\n",
      "window  2 : galaxies  3\n",
      "starting angular cross power spectrum  3 ,  4 ... \n",
      "starting angular cross power spectrum  4 ,  4 ... \n",
      "window  1 : galaxies  4\n",
      "window  2 : galaxies  4\n",
      "window  1 : galaxies  4\n",
      "window  2 : galaxies  4\n",
      "window  1 : galaxies  4\n",
      "window  2 : galaxies  4\n",
      "window  1 : galaxies  4\n",
      "window  2 : galaxies  4\n",
      "window  1 : galaxies  4\n",
      "window  2 : galaxies  4\n",
      "window  1 : galaxies  4\n",
      "window  2 : galaxies  4\n",
      "window  1 : galaxies  4\n",
      "window  2 : galaxies  4\n",
      "window  1 : galaxies  4\n",
      "window  2 : galaxies  4\n",
      "window  1 : galaxies  4\n",
      "window  2 : galaxies  4\n",
      "window  1 : galaxies  4\n",
      "window  2 : galaxies  4\n",
      "window  1 : galaxies  4\n",
      "window  2 : galaxies  4\n",
      "window  1 : galaxies  4\n",
      "window  2 : galaxies  4\n",
      "window  1 : galaxies  4\n",
      "window  2 : galaxies  4\n"
     ]
    },
    {
     "name": "stdout",
     "output_type": "stream",
     "text": [
      "window  1 : galaxies  4\n",
      "window  2 : galaxies  4\n",
      "window  1 : galaxies  4\n",
      "window  2 : galaxies  4\n",
      "window  1 : galaxies  4\n",
      "window  2 : galaxies  4\n",
      "window  1 : galaxies  4\n",
      "window  2 : galaxies  4\n",
      "starting cross power with binned kappa... \n",
      "starting angular cross power spectrum  0 ,  0 ... \n",
      "window  1 : kappa  1\n",
      "window  2 : kappa  1\n",
      "window  1 : kappa  1\n",
      "window  2 : galaxies  1\n",
      "window  1 : galaxies  1\n",
      "window  2 : galaxies  1\n",
      "starting angular cross power spectrum  1 ,  1 ... \n",
      "window  1 : kappa  2\n",
      "window  2 : kappa  2\n",
      "window  1 : kappa  2\n",
      "window  2 : galaxies  2\n",
      "window  1 : galaxies  2\n",
      "window  2 : galaxies  2\n",
      "starting angular cross power spectrum  2 ,  2 ... \n",
      "window  1 : kappa  3\n",
      "window  2 : kappa  3\n",
      "window  1 : kappa  3\n",
      "window  2 : galaxies  3\n",
      "window  1 : galaxies  3\n",
      "window  2 : galaxies  3\n",
      "starting angular cross power spectrum  3 ,  3 ... \n",
      "window  1 : kappa  4\n",
      "window  2 : kappa  4\n",
      "window  1 : kappa  4\n",
      "window  2 : galaxies  4\n",
      "window  1 : galaxies  4\n",
      "window  2 : galaxies  4\n",
      "building covariance matrix... \n",
      "starting covariance set  1  of  5 ... \n",
      "starting covariance set  2  of  5 ... \n",
      "starting covariance set  3  of  5 ... \n",
      "starting covariance set  4  of  5 ... \n",
      "starting covariance set  5  of  5 ... \n",
      "inverting covariance matrix... \n",
      "starting creation of C_l derivatives... \n",
      "starting derivative set  1  of  5 ... \n",
      "starting derivative set  2  of  5 ... \n",
      "starting derivative set  3  of  5 ... \n",
      "starting derivative set  4  of  5 ... \n",
      "starting derivative set  5  of  5 ... \n",
      "building Fisher matrix from components...\n",
      "invCov.shape:  (15, 15, 999) , dClVecs.shape:  (15, 12, 999)\n",
      "starting bin set  1  of  12\n",
      "starting bin set  2  of  12\n",
      "starting bin set  3  of  12\n",
      "starting bin set  4  of  12\n",
      "starting bin set  5  of  12\n",
      "starting bin set  6  of  12\n",
      "starting bin set  7  of  12\n",
      "starting bin set  8  of  12\n",
      "starting bin set  9  of  12\n",
      "starting bin set  10  of  12\n",
      "starting bin set  11  of  12\n",
      "starting bin set  12  of  12\n",
      "creation of Fisher Matrix complete!\n",
      "\n",
      "time elapsed:  2337.7873919  seconds\n",
      "time elapsed:  38.9631231984  minutes\n",
      "time elapsed:  0.649385386639  hours\n",
      "binAs:  [ 1.00203366  1.00130307  1.00116382  1.001109  ]\n",
      "binBs:  [ 1.49742916  2.13162333  2.93788092  3.76460118]\n"
     ]
    }
   ],
   "source": [
    "# Create a Fisher Matrix object\n",
    "import time\n",
    "reload(fcl.cp)\n",
    "reload(fcl)\n",
    "z0 = 0.3\n",
    "zmax = 4\n",
    "nBins = 4\n",
    "lmax = 1000\n",
    "AccuracyBoost = 3\n",
    "doNorm = True\n",
    "\n",
    "starttime = time.time()\n",
    "Fobj = fcl.FisherMatrix(lmax=lmax,z0=z0,zmax=zmax,nBins=nBins,AccuracyBoost=AccuracyBoost,doNorm=doNorm)\n",
    "endtime = time.time()\n",
    "\n",
    "print 'time elapsed: ', endtime-starttime, ' seconds'\n",
    "print 'time elapsed: ', (endtime-starttime)/60., ' minutes'\n",
    "print 'time elapsed: ', (endtime-starttime)/3600., ' hours'\n",
    "\n",
    "print 'binAs: ',Fobj.binAs\n",
    "print 'binBs: ',Fobj.binBs"
   ]
  },
  {
   "cell_type": "code",
   "execution_count": 75,
   "metadata": {},
   "outputs": [
    {
     "name": "stdout",
     "output_type": "stream",
     "text": [
      "done\n"
     ]
    }
   ],
   "source": [
    "# save it\n",
    "\n",
    "import pickle\n",
    "\n",
    "filehandler = open('Fisher_4_4C.obj','w') # lmax=1000, nonlinear=True, ABoost=3, doNorm=True, branch quickCl\n",
    "#filehandler = open('Fisher_4_4A.obj','w') # lmax=1000, nonlinear=True, ABoost=3, doNorm=True, branch master\n",
    "\n",
    "# ditch the myPk and myWin parts since pickle can't handle classes within a class\n",
    "myPkTemp = Fobj.myPk\n",
    "myWinTemp = Fobj.myWin\n",
    "Fobj.myPk = 0\n",
    "Fobj.myWin = 0\n",
    "pickle.dump(Fobj,filehandler)\n",
    "filehandler.close()\n",
    "\n",
    "# put them back\n",
    "Fobj.myPk = myPkTemp\n",
    "Fobj.myWin = myWinTemp\n",
    "print 'done'\n"
   ]
  },
  {
   "cell_type": "code",
   "execution_count": null,
   "metadata": {},
   "outputs": [],
   "source": []
  },
  {
   "cell_type": "code",
   "execution_count": null,
   "metadata": {},
   "outputs": [],
   "source": []
  },
  {
   "cell_type": "code",
   "execution_count": null,
   "metadata": {},
   "outputs": [],
   "source": []
  },
  {
   "cell_type": "code",
   "execution_count": 60,
   "metadata": {},
   "outputs": [
    {
     "data": {
      "text/plain": [
       "\"\\nimport FisherCl2 as fcl\\nimport pickle\\nfilehandler2 = open('Fisher_4_4g_Dal.obj', 'r') \\nFobj = pickle.load(filehandler2) \\nlmax = 1000\\n\\nprint Fobj.obsList\\nprint Fobj.paramList\\n\""
      ]
     },
     "execution_count": 60,
     "metadata": {},
     "output_type": "execute_result"
    }
   ],
   "source": [
    "# load saved Fobj\n",
    "# get lensing and galaxy Fisher matrix to add\n",
    "\"\"\"\n",
    "import FisherCl2 as fcl\n",
    "import pickle\n",
    "filehandler2 = open('Fisher_4_4g_Dal.obj', 'r') \n",
    "Fobj = pickle.load(filehandler2) \n",
    "lmax = 1000\n",
    "\n",
    "print Fobj.obsList\n",
    "print Fobj.paramList\n",
    "\"\"\""
   ]
  },
  {
   "cell_type": "code",
   "execution_count": 61,
   "metadata": {},
   "outputs": [
    {
     "name": "stdout",
     "output_type": "stream",
     "text": [
      "ombh2 :  0.00177443987286\n",
      "omch2 :  0.00562032234897\n",
      "cosmomc_theta :  5.9365244622e-05\n",
      "As :  1.06099762693e-10\n",
      "ns :  0.0144597872683\n",
      "tau :  4.64024428647\n",
      "mnu :  0.0861017884716\n",
      "w :  0.0276060684547\n",
      "bin1 :  0.00867079618939\n",
      "bin2 :  0.0111325342542\n",
      "bin3 :  0.00879452007219\n",
      "bin4 :  0.0241061795905\n"
     ]
    }
   ],
   "source": [
    "# display the sigmas\n",
    "# this does not take lmin= 50 into account.\n",
    "paramList = Fobj.paramList\n",
    "sigmas = Fobj.getSigmas()\n",
    "for i, param in enumerate(paramList):\n",
    "    print param, ': ',sigmas[i]"
   ]
  },
  {
   "cell_type": "code",
   "execution_count": 63,
   "metadata": {},
   "outputs": [
    {
     "name": "stdout",
     "output_type": "stream",
     "text": [
      "(15, 12, 999)\n",
      "(5, 5, 8, 999)\n",
      "(5, 5, 8, 999)\n"
     ]
    }
   ],
   "source": [
    "print Fobj.dClVecs.shape\n",
    "print Fobj.crossClsPlus.shape\n",
    "print Fobj.crossClsMinus.shape"
   ]
  },
  {
   "cell_type": "code",
   "execution_count": null,
   "metadata": {},
   "outputs": [],
   "source": []
  },
  {
   "cell_type": "code",
   "execution_count": 78,
   "metadata": {},
   "outputs": [
    {
     "data": {
      "image/png": "[encoded data removed]",
      "text/plain": [
       "<matplotlib.figure.Figure at 0x10f47e890>"
      ]
     },
     "metadata": {},
     "output_type": "display_data"
    }
   ],
   "source": [
    "nCosParams = Fobj.nParams-Fobj.nBins\n",
    "#print nCosParams\n",
    "for i in range(nCosParams):\n",
    "    \n",
    "    #print 'dCl/d'+paramList[i],Fobj.dClVecs[:,7,423]\n",
    "    plt.semilogx(Fobj.ells,Fobj.crossClsPlus[2,2,i]-Fobj.crossClsMinus[2,2,i],label=paramList[i])\n",
    "plt.legend(loc='upper right')\n",
    "plt.show()"
   ]
  },
  {
   "cell_type": "code",
   "execution_count": null,
   "metadata": {},
   "outputs": [],
   "source": []
  },
  {
   "cell_type": "code",
   "execution_count": null,
   "metadata": {},
   "outputs": [],
   "source": []
  },
  {
   "cell_type": "code",
   "execution_count": null,
   "metadata": {},
   "outputs": [],
   "source": []
  },
  {
   "cell_type": "code",
   "execution_count": null,
   "metadata": {},
   "outputs": [],
   "source": []
  },
  {
   "cell_type": "code",
   "execution_count": 68,
   "metadata": {},
   "outputs": [
    {
     "name": "stdout",
     "output_type": "stream",
     "text": [
      "building Fisher matrix from components...\n",
      "invCov.shape:  (15, 15, 999) , dClVecs.shape:  (15, 12, 999)\n",
      "starting bin set  1  of  12\n",
      "starting bin set  2  of  12\n",
      "starting bin set  3  of  12\n",
      "starting bin set  4  of  12\n",
      "starting bin set  5  of  12\n",
      "starting bin set  6  of  12\n",
      "starting bin set  7  of  12\n",
      "starting bin set  8  of  12\n",
      "starting bin set  9  of  12\n",
      "starting bin set  10  of  12\n",
      "starting bin set  11  of  12\n",
      "starting bin set  12  of  12\n"
     ]
    }
   ],
   "source": [
    "# remake with higher lmin for comparisons\n",
    "lmin=50\n",
    "#Fij2 = makeFisher(Fobj,lmin,lmax)\n",
    "Fij2 = Fobj.makeFisher(lmin,lmax)\n",
    "sigmas2 = np.sqrt(np.diag(np.linalg.inv(Fij2)))"
   ]
  },
  {
   "cell_type": "code",
   "execution_count": 69,
   "metadata": {},
   "outputs": [
    {
     "name": "stdout",
     "output_type": "stream",
     "text": [
      "3.55753810527\n",
      "2503.55753811\n"
     ]
    }
   ],
   "source": [
    "# add prior on Tau\n",
    "tauNum = 5\n",
    "priorTauSigma = 0.02\n",
    "tauPrior = 1/priorTauSigma**2\n",
    "print Fij2[tauNum,tauNum]\n",
    "Fij2[tauNum,tauNum] = Fij2[tauNum,tauNum] + tauPrior \n",
    "print Fij2[tauNum,tauNum]\n",
    "\n",
    "# remake sigmas2 with this\n",
    "sigmas2 = np.sqrt(np.diag(np.linalg.inv(Fij2)))"
   ]
  },
  {
   "cell_type": "code",
   "execution_count": 70,
   "metadata": {},
   "outputs": [
    {
     "name": "stdout",
     "output_type": "stream",
     "text": [
      "ombh2 0.0013898458314\n",
      "omch2 0.0039988230328\n",
      "cosmomc_theta 4.46539985442e-05\n",
      "As 8.05108601391e-11\n",
      "ns 0.00894351683282\n",
      "tau 0.0199998142314\n",
      "mnu 0.0764815073674\n",
      "w 0.0275577376116\n",
      "bin1 0.00816227526602\n",
      "bin2 0.0108511581344\n",
      "bin3 0.00868372612428\n",
      "bin4 0.0236909120104\n"
     ]
    }
   ],
   "source": [
    "for i,p in enumerate(paramList):\n",
    "    print p, sigmas2[i]"
   ]
  },
  {
   "cell_type": "code",
   "execution_count": 71,
   "metadata": {},
   "outputs": [
    {
     "name": "stdout",
     "output_type": "stream",
     "text": [
      "[ 1.49742916  2.13162333  2.93788092  3.76460118]\n",
      "[  1.38984583e-03   3.99882303e-03   4.46539985e-05   8.05108601e-11\n",
      "   8.94351683e-03   1.99998142e-02   7.64815074e-02   2.75577376e-02\n",
      "   5.45085905e-03   5.09056079e-03   2.95577879e-03   6.29307352e-03]\n"
     ]
    }
   ],
   "source": [
    "# convert to sigma(b)/b\n",
    "binBs = Fobj.binBs\n",
    "print binBs\n",
    "sigmas2[-4:]/=binBs\n",
    "print sigmas2"
   ]
  },
  {
   "cell_type": "markdown",
   "metadata": {},
   "source": [
    "# Compare result against Byeonghee's result"
   ]
  },
  {
   "cell_type": "code",
   "execution_count": 72,
   "metadata": {},
   "outputs": [],
   "source": [
    "# Byeonghee's result:\n",
    "# This used lmin 50, lmax 1000, halofit,\n",
    "sigmasB = {\n",
    "    #sigma(b) (4 bins) =  [ 0.01220295  0.0092872   0.01058874  0.03529165]\n",
    "    'cosmomc_theta' : 0.00015113283201,\n",
    "    'ombh2' : 0.000504509008534,\n",
    "    'omch2' : 0.00151341881388,\n",
    "    'ns' : 0.00732594856064,\n",
    "    'As' : 0.0618279762973*1e-9,\n",
    "    'mnu' : 0.0564262366597,\n",
    "    'w' : 0.088058950571,\n",
    "    'tau' : 0.0595781322066,\n",
    "    'bin1' : 0.01220295,\n",
    "    'bin2' : 0.0092872,\n",
    "    'bin3' : 0.01058874,\n",
    "    'bin4' : 0.03529165\n",
    "}"
   ]
  },
  {
   "cell_type": "code",
   "execution_count": 73,
   "metadata": {},
   "outputs": [
    {
     "name": "stdout",
     "output_type": "stream",
     "text": [
      "+---------------+--------------+--------------+---------------+\n",
      "|   Parameter   | sigma_Z(k,g) | sigma_B(k,g) | percent diff. |\n",
      "+---------------+--------------+--------------+---------------+\n",
      "|     ombh2     |   0.00139    |   0.000505   |     -63.7     |\n",
      "|     omch2     |    0.004     |   0.00151    |     -62.2     |\n",
      "| cosmomc_theta |   4.47e-05   |   0.000151   |       238     |\n",
      "|       As      |   8.05e-11   |   6.18e-11   |     -23.2     |\n",
      "|       ns      |   0.00894    |   0.00733    |     -18.1     |\n",
      "|      tau      |     0.02     |    0.0596    |       198     |\n",
      "|      mnu      |    0.0765    |    0.0564    |     -26.2     |\n",
      "|       w       |    0.0276    |    0.0881    |       220     |\n",
      "|      bin1     |   0.00545    |    0.0122    |       124     |\n",
      "|      bin2     |   0.00509    |   0.00929    |      82.4     |\n",
      "|      bin3     |   0.00296    |    0.0106    |       258     |\n",
      "|      bin4     |   0.00629    |    0.0353    |       461     |\n",
      "+---------------+--------------+--------------+---------------+\n"
     ]
    }
   ],
   "source": [
    "from prettytable import PrettyTable\n",
    "t = PrettyTable(['Parameter', 'sigma_Z(k,g)','sigma_B(k,g)','percent diff.'])\n",
    "for i,p in enumerate(paramList):\n",
    "    Zi = sigmas2[i]\n",
    "    Bi = sigmasB[paramList[i]]\n",
    "    diff = (Bi-Zi)/Zi *100\n",
    "    t.add_row([p,\"%5.3g\" % Zi,\"%5.3g\" % Bi, \"%5.3g\" % diff ] )\n",
    "print t\n"
   ]
  },
  {
   "cell_type": "code",
   "execution_count": 74,
   "metadata": {},
   "outputs": [
    {
     "name": "stdout",
     "output_type": "stream",
     "text": [
      "Gwydion:  8.59444444444  hours\n",
      "Dalben:   4.81  hours\n"
     ]
    }
   ],
   "source": [
    "print 'Gwydion: ',30940/3600.,' hours'\n",
    "print 'Dalben:  ',17316/3600.,' hours'"
   ]
  }
 ],
 "metadata": {
  "kernelspec": {
   "display_name": "Python 2",
   "language": "python",
   "name": "python2"
  },
  "language_info": {
   "codemirror_mode": {
    "name": "ipython",
    "version": 2
   },
   "file_extension": ".py",
   "mimetype": "text/x-python",
   "name": "python",
   "nbconvert_exporter": "python",
   "pygments_lexer": "ipython2",
   "version": "2.7.14"
  }
 },
 "nbformat": 4,
 "nbformat_minor": 1
}
