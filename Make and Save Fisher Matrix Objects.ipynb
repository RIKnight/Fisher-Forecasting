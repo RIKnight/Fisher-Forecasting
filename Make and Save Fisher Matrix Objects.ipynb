{
 "cells": [
  {
   "cell_type": "markdown",
   "metadata": {},
   "source": [
    "# Testing the Fisher matrix including DE w"
   ]
  },
  {
   "cell_type": "code",
   "execution_count": 28,
   "metadata": {},
   "outputs": [],
   "source": [
    "import crosspower as cp\n",
    "#import FisherCl as fcl\n",
    "import FisherCl2 as fcl\n",
    "#import camb\n",
    "\n",
    "# set plotting to be in the notebook instead of its own qt window\n",
    "%matplotlib inline"
   ]
  },
  {
   "cell_type": "code",
   "execution_count": 29,
   "metadata": {
    "scrolled": true
   },
   "outputs": [
    {
     "name": "stderr",
     "output_type": "stream",
     "text": [
      "WARNING:root:accuracy parameters are changed globally, not yet per parameter set\n"
     ]
    },
    {
     "name": "stdout",
     "output_type": "stream",
     "text": [
      "creating matter power spectrum object...\n",
      "zs.size:  998\n"
     ]
    },
    {
     "name": "stderr",
     "output_type": "stream",
     "text": [
      "WARNING:root:accuracy parameters are changed globally, not yet per parameter set\n"
     ]
    },
    {
     "name": "stdout",
     "output_type": "stream",
     "text": [
      "creating more matter power objects...\n",
      "creating matter power spectra for  ombh2  derivative...\n",
      "zs.size:  998\n"
     ]
    },
    {
     "name": "stderr",
     "output_type": "stream",
     "text": [
      "WARNING:root:accuracy parameters are changed globally, not yet per parameter set\n"
     ]
    },
    {
     "name": "stdout",
     "output_type": "stream",
     "text": [
      "zs.size:  998\n"
     ]
    },
    {
     "name": "stderr",
     "output_type": "stream",
     "text": [
      "WARNING:root:accuracy parameters are changed globally, not yet per parameter set\n"
     ]
    },
    {
     "name": "stdout",
     "output_type": "stream",
     "text": [
      "creating matter power spectra for  omch2  derivative...\n",
      "zs.size:  998\n"
     ]
    },
    {
     "name": "stderr",
     "output_type": "stream",
     "text": [
      "WARNING:root:accuracy parameters are changed globally, not yet per parameter set\n"
     ]
    },
    {
     "name": "stdout",
     "output_type": "stream",
     "text": [
      "zs.size:  998\n"
     ]
    },
    {
     "name": "stderr",
     "output_type": "stream",
     "text": [
      "WARNING:root:accuracy parameters are changed globally, not yet per parameter set\n"
     ]
    },
    {
     "name": "stdout",
     "output_type": "stream",
     "text": [
      "creating matter power spectra for  cosmomc_theta  derivative...\n",
      "zs.size:  998\n"
     ]
    },
    {
     "name": "stderr",
     "output_type": "stream",
     "text": [
      "WARNING:root:accuracy parameters are changed globally, not yet per parameter set\n"
     ]
    },
    {
     "name": "stdout",
     "output_type": "stream",
     "text": [
      "zs.size:  998\n"
     ]
    },
    {
     "name": "stderr",
     "output_type": "stream",
     "text": [
      "WARNING:root:accuracy parameters are changed globally, not yet per parameter set\n"
     ]
    },
    {
     "name": "stdout",
     "output_type": "stream",
     "text": [
      "creating matter power spectra for  As  derivative...\n",
      "zs.size:  998\n"
     ]
    },
    {
     "name": "stderr",
     "output_type": "stream",
     "text": [
      "WARNING:root:accuracy parameters are changed globally, not yet per parameter set\n"
     ]
    },
    {
     "name": "stdout",
     "output_type": "stream",
     "text": [
      "zs.size:  998\n"
     ]
    },
    {
     "name": "stderr",
     "output_type": "stream",
     "text": [
      "WARNING:root:accuracy parameters are changed globally, not yet per parameter set\n"
     ]
    },
    {
     "name": "stdout",
     "output_type": "stream",
     "text": [
      "creating matter power spectra for  ns  derivative...\n",
      "zs.size:  998\n"
     ]
    },
    {
     "name": "stderr",
     "output_type": "stream",
     "text": [
      "WARNING:root:accuracy parameters are changed globally, not yet per parameter set\n"
     ]
    },
    {
     "name": "stdout",
     "output_type": "stream",
     "text": [
      "zs.size:  998\n"
     ]
    },
    {
     "name": "stderr",
     "output_type": "stream",
     "text": [
      "WARNING:root:accuracy parameters are changed globally, not yet per parameter set\n"
     ]
    },
    {
     "name": "stdout",
     "output_type": "stream",
     "text": [
      "creating matter power spectra for  tau  derivative...\n",
      "zs.size:  998\n"
     ]
    },
    {
     "name": "stderr",
     "output_type": "stream",
     "text": [
      "WARNING:root:accuracy parameters are changed globally, not yet per parameter set\n"
     ]
    },
    {
     "name": "stdout",
     "output_type": "stream",
     "text": [
      "zs.size:  998\n"
     ]
    },
    {
     "name": "stderr",
     "output_type": "stream",
     "text": [
      "WARNING:root:accuracy parameters are changed globally, not yet per parameter set\n"
     ]
    },
    {
     "name": "stdout",
     "output_type": "stream",
     "text": [
      "creating matter power spectra for  mnu  derivative...\n",
      "zs.size:  998\n"
     ]
    },
    {
     "name": "stderr",
     "output_type": "stream",
     "text": [
      "WARNING:root:accuracy parameters are changed globally, not yet per parameter set\n"
     ]
    },
    {
     "name": "stdout",
     "output_type": "stream",
     "text": [
      "zs.size:  998\n"
     ]
    },
    {
     "name": "stderr",
     "output_type": "stream",
     "text": [
      "WARNING:root:Currently dark energy parameters are changed globally, not per parameter set\n",
      "WARNING:root:accuracy parameters are changed globally, not yet per parameter set\n"
     ]
    },
    {
     "name": "stdout",
     "output_type": "stream",
     "text": [
      "creating matter power spectra for  w  derivative...\n",
      "zs.size:  998\n"
     ]
    },
    {
     "name": "stderr",
     "output_type": "stream",
     "text": [
      "WARNING:root:Currently dark energy parameters are changed globally, not per parameter set\n",
      "WARNING:root:accuracy parameters are changed globally, not yet per parameter set\n"
     ]
    },
    {
     "name": "stdout",
     "output_type": "stream",
     "text": [
      "zs.size:  998\n",
      "fiducial bs:  [ 1.49970603  2.13632535  2.94492855  3.77392876]\n",
      "fiducial As:  [ 1.00101594  1.00099119  1.00099579  1.0009976 ]\n",
      "starting cross power with entire kappa... \n",
      "starting angular cross power spectrum  0 ,  0 ... \n",
      "window  1 : kappa  0\n",
      "window  2 : kappa  0\n"
     ]
    },
    {
     "name": "stderr",
     "output_type": "stream",
     "text": [
      "/opt/local/Library/Frameworks/Python.framework/Versions/2.7/lib/python2.7/site-packages/scipy/integrate/quadpack.py:364: IntegrationWarning: The integral is probably divergent, or slowly convergent.\n",
      "  warnings.warn(msg, IntegrationWarning)\n"
     ]
    },
    {
     "name": "stdout",
     "output_type": "stream",
     "text": [
      "window  1 : kappa  0\n",
      "window  2 : kappa  0\n",
      "window  1 : kappa  0\n",
      "window  2 : kappa  0\n",
      "window  1 : kappa  0\n",
      "window  2 : kappa  0\n",
      "window  1 : kappa  0\n",
      "window  2 : kappa  0\n",
      "window  1 : kappa  0\n",
      "window  2 : kappa  0\n",
      "window  1 : kappa  0\n",
      "window  2 : kappa  0\n",
      "window  1 : kappa  0\n",
      "window  2 : kappa  0\n",
      "window  1 : kappa  0\n",
      "window  2 : kappa  0\n",
      "window  1 : kappa  0\n",
      "window  2 : kappa  0\n",
      "window  1 : kappa  0\n",
      "window  2 : kappa  0\n",
      "window  1 : kappa  0\n",
      "window  2 : kappa  0\n",
      "window  1 : kappa  0\n",
      "window  2 : kappa  0\n",
      "window  1 : kappa  0\n",
      "window  2 : kappa  0\n",
      "window  1 : kappa  0\n",
      "window  2 : kappa  0\n",
      "window  1 : kappa  0\n",
      "window  2 : kappa  0\n",
      "window  1 : kappa  0\n",
      "window  2 : kappa  0\n",
      "starting angular cross power spectrum  0 ,  1 ... \n",
      "window  1 : kappa  0\n",
      "window  2 : galaxies  1\n",
      "window  1 : kappa  0\n",
      "window  2 : galaxies  1\n",
      "window  1 : kappa  0\n",
      "window  2 : galaxies  1\n",
      "window  1 : kappa  0\n",
      "window  2 : galaxies  1\n",
      "window  1 : kappa  0\n",
      "window  2 : galaxies  1\n",
      "window  1 : kappa  0\n",
      "window  2 : galaxies  1\n",
      "window  1 : kappa  0\n",
      "window  2 : galaxies  1\n",
      "window  1 : kappa  0\n",
      "window  2 : galaxies  1\n",
      "window  1 : kappa  0\n",
      "window  2 : galaxies  1\n",
      "window  1 : kappa  0\n",
      "window  2 : galaxies  1\n",
      "window  1 : kappa  0\n",
      "window  2 : galaxies  1\n",
      "window  1 : kappa  0\n",
      "window  2 : galaxies  1\n",
      "window  1 : kappa  0\n",
      "window  2 : galaxies  1\n",
      "window  1 : kappa  0\n",
      "window  2 : galaxies  1\n",
      "window  1 : kappa  0\n",
      "window  2 : galaxies  1\n",
      "window  1 : kappa  0\n",
      "window  2 : galaxies  1\n",
      "window  1 : kappa  0\n",
      "window  2 : galaxies  1\n",
      "starting angular cross power spectrum  0 ,  2 ... \n",
      "window  1 : kappa  0\n",
      "window  2 : galaxies  2\n",
      "window  1 : kappa  0\n",
      "window  2 : galaxies  2\n",
      "window  1 : kappa  0\n",
      "window  2 : galaxies  2\n",
      "window  1 : kappa  0\n",
      "window  2 : galaxies  2\n",
      "window  1 : kappa  0\n",
      "window  2 : galaxies  2\n",
      "window  1 : kappa  0\n",
      "window  2 : galaxies  2\n",
      "window  1 : kappa  0\n",
      "window  2 : galaxies  2\n",
      "window  1 : kappa  0\n",
      "window  2 : galaxies  2\n",
      "window  1 : kappa  0\n",
      "window  2 : galaxies  2\n",
      "window  1 : kappa  0\n",
      "window  2 : galaxies  2\n",
      "window  1 : kappa  0\n",
      "window  2 : galaxies  2\n",
      "window  1 : kappa  0\n",
      "window  2 : galaxies  2\n",
      "window  1 : kappa  0\n",
      "window  2 : galaxies  2\n",
      "window  1 : kappa  0\n",
      "window  2 : galaxies  2\n",
      "window  1 : kappa  0\n",
      "window  2 : galaxies  2\n",
      "window  1 : kappa  0\n",
      "window  2 : galaxies  2\n",
      "window  1 : kappa  0\n",
      "window  2 : galaxies  2\n",
      "starting angular cross power spectrum  0 ,  3 ... \n",
      "window  1 : kappa  0\n",
      "window  2 : galaxies  3\n",
      "window  1 : kappa  0\n",
      "window  2 : galaxies  3\n",
      "window  1 : kappa  0\n",
      "window  2 : galaxies  3\n",
      "window  1 : kappa  0\n",
      "window  2 : galaxies  3\n",
      "window  1 : kappa  0\n",
      "window  2 : galaxies  3\n",
      "window  1 : kappa  0\n",
      "window  2 : galaxies  3\n",
      "window  1 : kappa  0\n",
      "window  2 : galaxies  3\n",
      "window  1 : kappa  0\n",
      "window  2 : galaxies  3\n",
      "window  1 : kappa  0\n",
      "window  2 : galaxies  3\n",
      "window  1 : kappa  0\n",
      "window  2 : galaxies  3\n",
      "window  1 : kappa  0\n",
      "window  2 : galaxies  3\n",
      "window  1 : kappa  0\n",
      "window  2 : galaxies  3\n",
      "window  1 : kappa  0\n",
      "window  2 : galaxies  3\n",
      "window  1 : kappa  0\n",
      "window  2 : galaxies  3\n",
      "window  1 : kappa  0\n",
      "window  2 : galaxies  3\n",
      "window  1 : kappa  0\n",
      "window  2 : galaxies  3\n",
      "window  1 : kappa  0\n",
      "window  2 : galaxies  3\n",
      "starting angular cross power spectrum  0 ,  4 ... \n",
      "window  1 : kappa  0\n",
      "window  2 : galaxies  4\n",
      "window  1 : kappa  0\n",
      "window  2 : galaxies  4\n",
      "window  1 : kappa  0\n",
      "window  2 : galaxies  4\n",
      "window  1 : kappa  0\n",
      "window  2 : galaxies  4\n",
      "window  1 : kappa  0\n",
      "window  2 : galaxies  4\n",
      "window  1 : kappa  0\n",
      "window  2 : galaxies  4\n",
      "window  1 : kappa  0\n",
      "window  2 : galaxies  4\n",
      "window  1 : kappa  0\n",
      "window  2 : galaxies  4\n",
      "window  1 : kappa  0\n",
      "window  2 : galaxies  4\n",
      "window  1 : kappa  0\n",
      "window  2 : galaxies  4\n",
      "window  1 : kappa  0\n",
      "window  2 : galaxies  4\n",
      "window  1 : kappa  0\n",
      "window  2 : galaxies  4\n",
      "window  1 : kappa  0\n",
      "window  2 : galaxies  4\n",
      "window  1 : kappa  0\n",
      "window  2 : galaxies  4\n",
      "window  1 : kappa  0\n",
      "window  2 : galaxies  4\n",
      "window  1 : kappa  0\n",
      "window  2 : galaxies  4\n",
      "window  1 : kappa  0\n",
      "window  2 : galaxies  4\n",
      "starting angular cross power spectrum  1 ,  1 ... \n",
      "window  1 : galaxies  1\n",
      "window  2 : galaxies  1\n",
      "window  1 : galaxies  1\n",
      "window  2 : galaxies  1\n",
      "window  1 : galaxies  1\n",
      "window  2 : galaxies  1\n",
      "window  1 : galaxies  1\n",
      "window  2 : galaxies  1\n",
      "window  1 : galaxies  1\n",
      "window  2 : galaxies  1\n",
      "window  1 : galaxies  1\n",
      "window  2 : galaxies  1\n",
      "window  1 : galaxies  1\n",
      "window  2 : galaxies  1\n",
      "window  1 : galaxies  1\n",
      "window  2 : galaxies  1\n",
      "window  1 : galaxies  1\n",
      "window  2 : galaxies  1\n",
      "window  1 : galaxies  1\n",
      "window  2 : galaxies  1\n",
      "window  1 : galaxies  1\n",
      "window  2 : galaxies  1\n",
      "window  1 : galaxies  1\n",
      "window  2 : galaxies  1\n",
      "window  1 : galaxies  1\n",
      "window  2 : galaxies  1\n",
      "window  1 : galaxies  1\n",
      "window  2 : galaxies  1\n",
      "window  1 : galaxies  1\n",
      "window  2 : galaxies  1\n",
      "window  1 : galaxies  1\n",
      "window  2 : galaxies  1\n",
      "window  1 : galaxies  1\n",
      "window  2 : galaxies  1\n",
      "starting angular cross power spectrum  1 ,  2 ... \n",
      "starting angular cross power spectrum  1 ,  3 ... \n",
      "starting angular cross power spectrum  1 ,  4 ... \n",
      "starting angular cross power spectrum  2 ,  2 ... \n",
      "window  1 : galaxies  2\n",
      "window  2 : galaxies  2\n",
      "window  1 : galaxies  2\n",
      "window  2 : galaxies  2\n",
      "window  1 : galaxies  2\n",
      "window  2 : galaxies  2\n",
      "window  1 : galaxies  2\n",
      "window  2 : galaxies  2\n",
      "window  1 : galaxies  2\n",
      "window  2 : galaxies  2\n",
      "window  1 : galaxies  2\n",
      "window  2 : galaxies  2\n",
      "window  1 : galaxies  2\n",
      "window  2 : galaxies  2\n",
      "window  1 : galaxies  2\n",
      "window  2 : galaxies  2\n",
      "window  1 : galaxies  2\n",
      "window  2 : galaxies  2\n",
      "window  1 : galaxies  2\n",
      "window  2 : galaxies  2\n",
      "window  1 : galaxies  2\n",
      "window  2 : galaxies  2\n",
      "window  1 : galaxies  2\n",
      "window  2 : galaxies  2\n",
      "window  1 : galaxies  2\n",
      "window  2 : galaxies  2\n",
      "window  1 : galaxies  2\n",
      "window  2 : galaxies  2\n",
      "window  1 : galaxies  2\n",
      "window  2 : galaxies  2\n",
      "window  1 : galaxies  2\n",
      "window  2 : galaxies  2\n",
      "window  1 : galaxies  2\n",
      "window  2 : galaxies  2\n",
      "starting angular cross power spectrum  2 ,  3 ... \n",
      "starting angular cross power spectrum  2 ,  4 ... \n",
      "starting angular cross power spectrum  3 ,  3 ... \n",
      "window  1 : galaxies  3\n",
      "window  2 : galaxies  3\n",
      "window  1 : galaxies  3\n",
      "window  2 : galaxies  3\n",
      "window  1 : galaxies  3\n",
      "window  2 : galaxies  3\n",
      "window  1 : galaxies  3\n",
      "window  2 : galaxies  3\n",
      "window  1 : galaxies  3\n",
      "window  2 : galaxies  3\n",
      "window  1 : galaxies  3\n",
      "window  2 : galaxies  3\n",
      "window  1 : galaxies  3\n",
      "window  2 : galaxies  3\n",
      "window  1 : galaxies  3\n",
      "window  2 : galaxies  3\n",
      "window  1 : galaxies  3\n",
      "window  2 : galaxies  3\n",
      "window  1 : galaxies  3\n",
      "window  2 : galaxies  3\n",
      "window  1 : galaxies  3\n",
      "window  2 : galaxies  3\n",
      "window  1 : galaxies  3\n",
      "window  2 : galaxies  3\n",
      "window  1 : galaxies  3\n",
      "window  2 : galaxies  3\n",
      "window  1 : galaxies  3\n",
      "window  2 : galaxies  3\n",
      "window  1 : galaxies  3\n",
      "window  2 : galaxies  3\n",
      "window  1 : galaxies  3\n",
      "window  2 : galaxies  3\n",
      "window  1 : galaxies  3\n",
      "window  2 : galaxies  3\n",
      "starting angular cross power spectrum  3 ,  4 ... \n",
      "starting angular cross power spectrum  4 ,  4 ... \n",
      "window  1 : galaxies  4\n",
      "window  2 : galaxies  4\n",
      "window  1 : galaxies  4\n",
      "window  2 : galaxies  4\n",
      "window  1 : galaxies  4\n",
      "window  2 : galaxies  4\n",
      "window  1 : galaxies  4\n",
      "window  2 : galaxies  4\n",
      "window  1 : galaxies  4\n",
      "window  2 : galaxies  4\n",
      "window  1 : galaxies  4\n",
      "window  2 : galaxies  4\n",
      "window  1 : galaxies  4\n",
      "window  2 : galaxies  4\n",
      "window  1 : galaxies  4\n",
      "window  2 : galaxies  4\n",
      "window  1 : galaxies  4\n",
      "window  2 : galaxies  4\n",
      "window  1 : galaxies  4\n",
      "window  2 : galaxies  4\n",
      "window  1 : galaxies  4\n",
      "window  2 : galaxies  4\n",
      "window  1 : galaxies  4\n",
      "window  2 : galaxies  4\n",
      "window  1 : galaxies  4\n",
      "window  2 : galaxies  4\n",
      "window  1 : galaxies  4\n",
      "window  2 : galaxies  4\n",
      "window  1 : galaxies  4\n",
      "window  2 : galaxies  4\n",
      "window  1 : galaxies  4\n",
      "window  2 : galaxies  4\n",
      "window  1 : galaxies  4\n",
      "window  2 : galaxies  4\n",
      "building covariance matrix... \n",
      "starting covariance set  1  of  5 ... \n",
      "starting covariance set  2  of  5 ... \n",
      "starting covariance set  3  of  5 ... \n",
      "starting covariance set  4  of  5 ... \n",
      "starting covariance set  5  of  5 ... \n",
      "inverting covariance matrix... \n",
      "starting creation of C_l derivatives... \n",
      "starting derivative set  1  of  5 ... \n",
      "starting derivative set  2  of  5 ... \n",
      "starting derivative set  3  of  5 ... \n",
      "starting derivative set  4  of  5 ... \n",
      "starting derivative set  5  of  5 ... \n",
      "building Fisher matrix from components...\n",
      "invCov.shape:  (15, 15, 999) , dClVecs.shape:  (15, 12, 999)\n",
      "starting bin set  1  of  12\n"
     ]
    },
    {
     "name": "stdout",
     "output_type": "stream",
     "text": [
      "starting bin set  2  of  12\n",
      "starting bin set  3  of  12\n",
      "starting bin set  4  of  12\n",
      "starting bin set  5  of  12\n",
      "starting bin set  6  of  12\n",
      "starting bin set  7  of  12\n",
      "starting bin set  8  of  12\n",
      "starting bin set  9  of  12\n",
      "starting bin set  10  of  12\n",
      "starting bin set  11  of  12\n",
      "starting bin set  12  of  12\n",
      "creation of Fisher Matrix complete!\n",
      "\n",
      "time elapsed:  18397.985286  seconds\n",
      "time elapsed:  306.6330881  minutes\n",
      "time elapsed:  5.11055146833  hours\n",
      "binAs:  [ 1.00101594  1.00099119  1.00099579  1.0009976 ]\n",
      "binBs:  [ 1.49970603  2.13632535  2.94492855  3.77392876]\n"
     ]
    }
   ],
   "source": [
    "# Create a Fisher Matrix object\n",
    "import time\n",
    "reload(fcl.cp)\n",
    "reload(fcl)\n",
    "z0 = 0.3\n",
    "zmax = 4\n",
    "nBins = 4\n",
    "lmax = 1000\n",
    "AccuracyBoost = 3\n",
    "doNorm = True\n",
    "\n",
    "starttime = time.time()\n",
    "Fobj = fcl.FisherMatrix(lmax=lmax,z0=z0,zmax=zmax,nBins=nBins,AccuracyBoost=AccuracyBoost,doNorm=doNorm)\n",
    "endtime = time.time()\n",
    "\n",
    "print 'time elapsed: ', endtime-starttime, ' seconds'\n",
    "print 'time elapsed: ', (endtime-starttime)/60., ' minutes'\n",
    "print 'time elapsed: ', (endtime-starttime)/3600., ' hours'\n",
    "\n",
    "print 'binAs: ',Fobj.binAs\n",
    "print 'binBs: ',Fobj.binBs"
   ]
  },
  {
   "cell_type": "code",
   "execution_count": 51,
   "metadata": {},
   "outputs": [
    {
     "name": "stdout",
     "output_type": "stream",
     "text": [
      "done\n"
     ]
    }
   ],
   "source": [
    "# save it\n",
    "\n",
    "import pickle\n",
    "\n",
    "filehandler = open('Fisher_4_4A.obj','w') # first save: lmax=1000, nonlinear=True, ABoost=3, doNorm=True\n",
    "\n",
    "# all of these older saves were before finding the error in getCl\n",
    "#filehandler = open('Fisher_4_4g.obj','w') # sixth save: omch2+omnu2 not fixed; lmax=1000, nonlinear=True, ABoost=1\n",
    "#filehandler = open('Fisher_4_4f_Dal.obj','w') # fifth save: omch2+omnu2 not fixed; lmax=1000, nonlinear=True\n",
    "#filehandler = open('Fisher_4_4e.obj','w') # fourth save: omch2+omnu2 fixed again\n",
    "    # this time using AccuracyBoost=3 for power spectra, and including DE w\n",
    "#filehandler2 = open('Fisher_4_4_myPk.obj','w')\n",
    "# ditch the myPk part since pickle can't handle classes within a class\n",
    "myPkTemp = Fobj.myPk\n",
    "Fobj.myPk = 0\n",
    "pickle.dump(Fobj,filehandler)\n",
    "filehandler.close()\n",
    "\n",
    "#pickle.dump(myPkTemp,filehandler2)\n",
    "# put it back\n",
    "Fobj.myPk = myPkTemp\n",
    "print 'done'\n"
   ]
  },
  {
   "cell_type": "code",
   "execution_count": null,
   "metadata": {},
   "outputs": [],
   "source": []
  },
  {
   "cell_type": "code",
   "execution_count": null,
   "metadata": {},
   "outputs": [],
   "source": []
  },
  {
   "cell_type": "code",
   "execution_count": 31,
   "metadata": {},
   "outputs": [
    {
     "data": {
      "text/plain": [
       "\"\\nimport FisherCl2 as fcl\\nimport pickle\\nfilehandler2 = open('Fisher_4_4g_Dal.obj', 'r') \\nFobj = pickle.load(filehandler2) \\nlmax = 1000\\n\\nprint Fobj.obsList\\nprint Fobj.paramList\\n\""
      ]
     },
     "execution_count": 31,
     "metadata": {},
     "output_type": "execute_result"
    }
   ],
   "source": [
    "# load saved Fobj\n",
    "# get lensing and galaxy Fisher matrix to add\n",
    "\"\"\"\n",
    "import FisherCl2 as fcl\n",
    "import pickle\n",
    "filehandler2 = open('Fisher_4_4g_Dal.obj', 'r') \n",
    "Fobj = pickle.load(filehandler2) \n",
    "lmax = 1000\n",
    "\n",
    "print Fobj.obsList\n",
    "print Fobj.paramList\n",
    "\"\"\""
   ]
  },
  {
   "cell_type": "code",
   "execution_count": 42,
   "metadata": {},
   "outputs": [
    {
     "name": "stdout",
     "output_type": "stream",
     "text": [
      "ombh2 :  0.000289774623439\n",
      "omch2 :  0.000859652915128\n",
      "cosmomc_theta :  1.92746799108e-05\n",
      "As :  1.60003360016e-11\n",
      "ns :  0.00288487206043\n",
      "tau :  0.959591077249\n",
      "mnu :  0.0154863618542\n",
      "w :  0.0168168898285\n",
      "bin1 :  0.0126504562657\n",
      "bin2 :  0.0179889299281\n",
      "bin3 :  0.0241072378367\n",
      "bin4 :  0.0300238359866\n"
     ]
    }
   ],
   "source": [
    "# display the sigmas\n",
    "# this does not take lmin= 50 into account.\n",
    "paramList = Fobj.paramList\n",
    "sigmas = Fobj.getSigmas()\n",
    "for i, param in enumerate(paramList):\n",
    "    print param, ': ',sigmas[i]"
   ]
  },
  {
   "cell_type": "code",
   "execution_count": null,
   "metadata": {},
   "outputs": [],
   "source": []
  },
  {
   "cell_type": "code",
   "execution_count": null,
   "metadata": {},
   "outputs": [],
   "source": []
  },
  {
   "cell_type": "code",
   "execution_count": null,
   "metadata": {},
   "outputs": [],
   "source": []
  },
  {
   "cell_type": "code",
   "execution_count": 43,
   "metadata": {},
   "outputs": [],
   "source": [
    "# remake the kappa-g Fij with lmin=50 to match the other Fij\n",
    "# make comparison against version with higher lmin\n",
    "# copy some code from FisherMatrix.__init__\n",
    "\n",
    "def makeFisher(Fobj,lmin,lmax):\n",
    "    \"\"\" code copied from FisherMatrix.__init__\n",
    "        Inputs:\n",
    "            Fobj:\n",
    "            lmin: minimum ell to make Fij\n",
    "    \"\"\"\n",
    "    #Build Fisher matrix\n",
    "    #multply vectorT,invcov,vector and add up\n",
    "    print 'building Fisher matrix from components...'\n",
    "    print 'invCov.shape: ',Fobj.invCov.shape,', dClVecs.shape: ',Fobj.dClVecs.shape\n",
    "    nParams = Fobj.nParams\n",
    "    #lmax = 2000 #Fobj.lmax\n",
    "    Fij = np.zeros((nParams,nParams)) # indices match those in paramList\n",
    "    for i in range(nParams):\n",
    "      print 'starting bin set ',i+1,' of ',nParams\n",
    "      dClVec_i = Fobj.dClVecs[:,i,:] # shape (nCls,nElls)\n",
    "      for j in range(nParams):\n",
    "        dClVec_j = Fobj.dClVecs[:,j,:] # shape (nCls,nElls)\n",
    "        # ugh.  don't like nested loops in Python... but easier to program...\n",
    "        for ell in range(lmin-2,lmax-1): #-2 to match the indices\n",
    "          myCov = Fobj.invCov[:,:,ell]\n",
    "          fij = np.dot(dClVec_i[:,ell],np.dot(myCov,dClVec_j[:,ell]))\n",
    "          \n",
    "          Fij[i,j] += fij\n",
    "    \n",
    "    print 'creation of Fisher Matrix complete!\\n'\n",
    "    return Fij"
   ]
  },
  {
   "cell_type": "code",
   "execution_count": null,
   "metadata": {},
   "outputs": [],
   "source": []
  },
  {
   "cell_type": "code",
   "execution_count": 44,
   "metadata": {},
   "outputs": [
    {
     "name": "stdout",
     "output_type": "stream",
     "text": [
      "building Fisher matrix from components...\n",
      "invCov.shape:  (15, 15, 999) , dClVecs.shape:  (15, 12, 999)\n",
      "starting bin set  1  of  12\n",
      "starting bin set  2  of  12\n",
      "starting bin set  3  of  12\n",
      "starting bin set  4  of  12\n",
      "starting bin set  5  of  12\n",
      "starting bin set  6  of  12\n",
      "starting bin set  7  of  12\n",
      "starting bin set  8  of  12\n",
      "starting bin set  9  of  12\n",
      "starting bin set  10  of  12\n",
      "starting bin set  11  of  12\n",
      "starting bin set  12  of  12\n",
      "creation of Fisher Matrix complete!\n",
      "\n"
     ]
    }
   ],
   "source": [
    "lmin=50\n",
    "Fij2 = makeFisher(Fobj,lmin,lmax)\n",
    "sigmas2 = np.sqrt(np.diag(np.linalg.inv(Fij2)))"
   ]
  },
  {
   "cell_type": "code",
   "execution_count": 45,
   "metadata": {},
   "outputs": [
    {
     "name": "stdout",
     "output_type": "stream",
     "text": [
      "4.54812000294\n",
      "2504.54812\n"
     ]
    }
   ],
   "source": [
    "# add prior on Tau\n",
    "tauNum = 5\n",
    "priorTauSigma = 0.02\n",
    "tauPrior = 1/priorTauSigma**2\n",
    "print Fij2[tauNum,tauNum]\n",
    "Fij2[tauNum,tauNum] = Fij2[tauNum,tauNum] + tauPrior \n",
    "print Fij2[tauNum,tauNum]\n",
    "\n",
    "# remake sigmas2 with this\n",
    "sigmas2 = np.sqrt(np.diag(np.linalg.inv(Fij2)))"
   ]
  },
  {
   "cell_type": "code",
   "execution_count": 46,
   "metadata": {},
   "outputs": [
    {
     "name": "stdout",
     "output_type": "stream",
     "text": [
      "ombh2 0.000290082613968\n",
      "omch2 0.000867436189407\n",
      "cosmomc_theta 1.92976183632e-05\n",
      "As 1.62955153631e-11\n",
      "ns 0.00287313113991\n",
      "tau 0.0199956719645\n",
      "mnu 0.0155778604299\n",
      "w 0.0170260209521\n",
      "bin1 0.0127457159144\n",
      "bin2 0.0181206382341\n",
      "bin3 0.0242269353353\n",
      "bin4 0.0301355985673\n"
     ]
    }
   ],
   "source": [
    "for i,p in enumerate(paramList):\n",
    "    print p, sigmas2[i]"
   ]
  },
  {
   "cell_type": "code",
   "execution_count": 47,
   "metadata": {},
   "outputs": [
    {
     "name": "stdout",
     "output_type": "stream",
     "text": [
      "[ 1.49970603  2.13632535  2.94492855  3.77392876]\n",
      "[  2.90082614e-04   8.67436189e-04   1.92976184e-05   1.62955154e-11\n",
      "   2.87313114e-03   1.99956720e-02   1.55778604e-02   1.70260210e-02\n",
      "   8.49880952e-03   8.48215290e-03   8.22666320e-03   7.98520600e-03]\n"
     ]
    }
   ],
   "source": [
    "# convert to sigma(b)/b\n",
    "binBs = Fobj.binBs\n",
    "print binBs\n",
    "sigmas2[-4:]/=binBs\n",
    "print sigmas2"
   ]
  },
  {
   "cell_type": "markdown",
   "metadata": {},
   "source": [
    "# Compare result against Byeonghee's result"
   ]
  },
  {
   "cell_type": "code",
   "execution_count": 48,
   "metadata": {},
   "outputs": [],
   "source": [
    "# Byeonghee's result:\n",
    "# This used lmin 50, lmax 1000, halofit,\n",
    "sigmasB = {\n",
    "    #sigma(b) (4 bins) =  [ 0.01220295  0.0092872   0.01058874  0.03529165]\n",
    "    'cosmomc_theta' : 0.00015113283201,\n",
    "    'ombh2' : 0.000504509008534,\n",
    "    'omch2' : 0.00151341881388,\n",
    "    'ns' : 0.00732594856064,\n",
    "    'As' : 0.0618279762973*1e-9,\n",
    "    'mnu' : 0.0564262366597,\n",
    "    'w' : 0.088058950571,\n",
    "    'tau' : 0.0595781322066,\n",
    "    'bin1' : 0.01220295,\n",
    "    'bin2' : 0.0092872,\n",
    "    'bin3' : 0.01058874,\n",
    "    'bin4' : 0.03529165\n",
    "}"
   ]
  },
  {
   "cell_type": "code",
   "execution_count": 49,
   "metadata": {},
   "outputs": [
    {
     "name": "stdout",
     "output_type": "stream",
     "text": [
      "+---------------+--------------+--------------+---------------+\n",
      "|   Parameter   | sigma_Z(k,g) | sigma_B(k,g) | percent diff. |\n",
      "+---------------+--------------+--------------+---------------+\n",
      "|     ombh2     |   0.00029    |   0.000505   |      73.9     |\n",
      "|     omch2     |   0.000867   |   0.00151    |      74.5     |\n",
      "| cosmomc_theta |   1.93e-05   |   0.000151   |       683     |\n",
      "|       As      |   1.63e-11   |   6.18e-11   |       279     |\n",
      "|       ns      |   0.00287    |   0.00733    |       155     |\n",
      "|      tau      |     0.02     |    0.0596    |       198     |\n",
      "|      mnu      |    0.0156    |    0.0564    |       262     |\n",
      "|       w       |    0.017     |    0.0881    |       417     |\n",
      "|      bin1     |    0.0085    |    0.0122    |      43.6     |\n",
      "|      bin2     |   0.00848    |   0.00929    |      9.49     |\n",
      "|      bin3     |   0.00823    |    0.0106    |      28.7     |\n",
      "|      bin4     |   0.00799    |    0.0353    |       342     |\n",
      "+---------------+--------------+--------------+---------------+\n"
     ]
    }
   ],
   "source": [
    "from prettytable import PrettyTable\n",
    "t = PrettyTable(['Parameter', 'sigma_Z(k,g)','sigma_B(k,g)','percent diff.'])\n",
    "for i,p in enumerate(paramList):\n",
    "    Zi = sigmas2[i]\n",
    "    Bi = sigmasB[paramList[i]]\n",
    "    diff = (Bi-Zi)/Zi *100\n",
    "    t.add_row([p,\"%5.3g\" % Zi,\"%5.3g\" % Bi, \"%5.3g\" % diff ] )\n",
    "print t\n"
   ]
  },
  {
   "cell_type": "code",
   "execution_count": 50,
   "metadata": {},
   "outputs": [
    {
     "name": "stdout",
     "output_type": "stream",
     "text": [
      "Gwydion:  8.59444444444  hours\n",
      "Dalben:   4.81  hours\n"
     ]
    }
   ],
   "source": [
    "print 'Gwydion: ',30940/3600.,' hours'\n",
    "print 'Dalben:  ',17316/3600.,' hours'"
   ]
  }
 ],
 "metadata": {
  "kernelspec": {
   "display_name": "Python 2",
   "language": "python",
   "name": "python2"
  },
  "language_info": {
   "codemirror_mode": {
    "name": "ipython",
    "version": 2
   },
   "file_extension": ".py",
   "mimetype": "text/x-python",
   "name": "python",
   "nbconvert_exporter": "python",
   "pygments_lexer": "ipython2",
   "version": "2.7.14"
  }
 },
 "nbformat": 4,
 "nbformat_minor": 1
}
