{
 "cells": [
  {
   "cell_type": "markdown",
   "metadata": {},
   "source": [
    "# Compare the angular power spectra $C_l^{kk}$ for linear and nonlinear $P(k)$"
   ]
  },
  {
   "cell_type": "code",
   "execution_count": 63,
   "metadata": {},
   "outputs": [],
   "source": [
    "# load saved Fobj\n",
    "# get lensing and galaxy Fisher matrix to add\n",
    "\n",
    "import FisherCl as fcl\n",
    "import noiseCl as ncl\n",
    "import crosspower as cp\n",
    "import pickle\n",
    "\n",
    "filehandler2 = open('Fisher_7_6X4_w2.obj','r') # AccuracyBoost=3, lmax=3000, lmaxP=5000, nz=3e5; nonlinear=False,\n",
    "#filehandler2 = open('Fisher_7_6X4.obj','r') # AccuracyBoost=3, lmax=3000, lmaxP=5000, nz=3e5; nonlinear=False,\n",
    "#neutrino_hierarchy = 'normal', usePrimaryCMB = True; from FisherCl branch quickCl\n",
    "# kludge for this one: told cp.getDNDZinterp to use modelDNDZ3; set cp.tophat beesBins=True\n",
    "# biasByBin = False (uses sigma(b)/b), dw = 0.005\n",
    "\n",
    "filehandler1 = open('Fisher_7_6X2_w2.obj','r') # AccuracyBoost=3, lmax=3000, lmaxP=5000, nz=3e5; nonlinear=True,\n",
    "#filehandler1 = open('Fisher_7_6X2.obj','r') # AccuracyBoost=3, lmax=3000, lmaxP=5000, nz=3e5; nonlinear=True,\n",
    "#neutrino_hierarchy = 'normal', usePrimaryCMB = True; from FisherCl branch quickCl\n",
    "# kludge for this one: told cp.getDNDZinterp to use modelDNDZ3; set cp.tophat beesBins=True\n",
    "# biasByBin = False (uses sigma(b)/b), dw = 0.005\n",
    "\n",
    "\n",
    "Fobj1 = pickle.load(filehandler1) \n",
    "Fobj2 = pickle.load(filehandler2) \n",
    "\n",
    "\n"
   ]
  },
  {
   "cell_type": "code",
   "execution_count": 64,
   "metadata": {},
   "outputs": [
    {
     "name": "stdout",
     "output_type": "stream",
     "text": [
      "(7, 7, 2999)\n",
      "(7, 7, 2999)\n",
      "[2.000e+00 3.000e+00 4.000e+00 ... 2.998e+03 2.999e+03 3.000e+03]\n"
     ]
    }
   ],
   "source": [
    "# get Cl^kk from each\n",
    "print Fobj1.crossCls.shape\n",
    "print Fobj1.crossCls.shape\n",
    "\n",
    "clkk1 = Fobj1.crossCls[0,0]\n",
    "clkk2 = Fobj2.crossCls[0,0]\n",
    "ells1 = Fobj1.ells\n",
    "ells2 = Fobj2.ells\n",
    "print ells1"
   ]
  },
  {
   "cell_type": "code",
   "execution_count": 65,
   "metadata": {},
   "outputs": [
    {
     "data": {
      "image/png": "[encoded data removed]",
      "text/plain": [
       "<matplotlib.figure.Figure at 0x118b08450>"
      ]
     },
     "metadata": {},
     "output_type": "display_data"
    }
   ],
   "source": [
    "plt.semilogx(ells1,clkk1,label='nonlinear')\n",
    "plt.semilogx(ells2,clkk2,label='linear')\n",
    "plt.legend()\n",
    "plt.xlabel(r'$\\ell$')\n",
    "plt.ylabel(r'$C_\\ell^{\\kappa\\kappa}$')\n",
    "plt.show()"
   ]
  },
  {
   "cell_type": "code",
   "execution_count": 66,
   "metadata": {},
   "outputs": [
    {
     "data": {
      "image/png": "[encoded data removed]",
      "text/plain": [
       "<matplotlib.figure.Figure at 0x1121e7e10>"
      ]
     },
     "metadata": {},
     "output_type": "display_data"
    }
   ],
   "source": [
    "plt.semilogx(ells1,(clkk2-clkk1)/clkk2)\n",
    "#plt.legend()\n",
    "plt.title('percent difference in linear,nonlinear Clkk')\n",
    "plt.xlabel(r'$\\ell$')\n",
    "plt.ylabel(r'$C_\\ell^{\\kappa\\kappa}$ diference: (nonlin-lin)/lin')\n",
    "plt.show()"
   ]
  },
  {
   "cell_type": "code",
   "execution_count": null,
   "metadata": {},
   "outputs": [],
   "source": []
  },
  {
   "cell_type": "code",
   "execution_count": 67,
   "metadata": {},
   "outputs": [],
   "source": [
    "# define ranges for ell, ellP in Fisher matrices\n",
    "myLmin = 50; myLmax=3000\n",
    "myLminP = 50; myLmaxP=5000"
   ]
  },
  {
   "cell_type": "code",
   "execution_count": 68,
   "metadata": {},
   "outputs": [
    {
     "name": "stdout",
     "output_type": "stream",
     "text": [
      "Clkk shape:  (2999,)\n",
      "dClkk shape:  (14, 2999)\n",
      "parameters:  ['ombh2', 'omch2', 'cosmomc_theta', 'As', 'ns', 'tau', 'mnu', 'w']\n",
      "kappa-only, noise-free Fisher matrix:\n",
      "[[ 2.32246401e+09 -2.05195779e+09  3.19683355e+10 -4.78877476e+16\n",
      "  -1.77224493e+08  1.13564820e+05  2.08524969e+07  5.87755517e+06]\n",
      " [-2.05195779e+09  1.81310200e+09 -2.82498006e+10  4.23246324e+16\n",
      "   1.56526654e+08 -1.00388118e+05 -1.84292729e+07 -5.19710748e+06]\n",
      " [ 3.19683355e+10 -2.82498006e+10  4.40290404e+11 -6.60188564e+17\n",
      "  -2.43112250e+09  1.56689974e+06  2.87466197e+08  8.11944761e+07]\n",
      " [-4.78877476e+16  4.23246324e+16 -6.60188564e+17  9.92293774e+23\n",
      "   3.60691471e+15 -2.35958024e+12 -4.32122652e+14 -1.22583986e+14]\n",
      " [-1.77224493e+08  1.56526654e+08 -2.43112250e+09  3.60691471e+15\n",
      "   1.40601530e+07 -8.48969756e+03 -1.56956539e+06 -4.34993285e+05]\n",
      " [ 1.13564820e+05 -1.00388118e+05  1.56689974e+06 -2.35958024e+12\n",
      "  -8.48969756e+03  5.61927826e+00  1.02761575e+03  2.92529191e+02]\n",
      " [ 2.08524969e+07 -1.84292729e+07  2.87466197e+08 -4.32122652e+14\n",
      "  -1.56956539e+06  1.02761575e+03  1.88189368e+05  5.33878434e+04]\n",
      " [ 5.87755517e+06 -5.19710748e+06  8.11944761e+07 -1.22583986e+14\n",
      "  -4.34993285e+05  2.92529191e+02  5.33878434e+04  1.52725554e+04]]\n",
      "Clkk shape:  (2999,)\n",
      "dClkk shape:  (14, 2999)\n",
      "parameters:  ['ombh2', 'omch2', 'cosmomc_theta', 'As', 'ns', 'tau', 'mnu', 'w']\n",
      "kappa-only, noise-free Fisher matrix:\n",
      "[[ 3.36597600e+09 -2.97013769e+09  4.81306485e+10 -7.25322080e+16\n",
      "  -1.78380957e+08  6.85316634e+04  3.09078162e+07  7.46243119e+07]\n",
      " [-2.97013769e+09  2.62099272e+09 -4.24744577e+10  6.40146781e+16\n",
      "   1.57379040e+08 -6.04956725e+04 -2.72783892e+07 -6.58571766e+07]\n",
      " [ 4.81306485e+10 -4.24744577e+10  6.88435671e+11 -1.03795915e+18\n",
      "  -2.54440217e+09  9.85732071e+05  4.42219892e+08  1.06753035e+09]\n",
      " [-7.25322080e+16  6.40146781e+16 -1.03795915e+18  1.56650847e+24\n",
      "   3.81307835e+15 -1.50511451e+12 -6.67138841e+14 -1.60991427e+15]\n",
      " [-1.78380957e+08  1.57379040e+08 -2.54440217e+09  3.81307835e+15\n",
      "   9.79398669e+06 -3.31945818e+03 -1.62966540e+06 -3.94005074e+06]\n",
      " [ 6.85316634e+04 -6.04956725e+04  9.85732071e+05 -1.50511451e+12\n",
      "  -3.31945818e+03  1.68203493e+00  6.36957584e+02  1.53285539e+03]\n",
      " [ 3.09078162e+07 -2.72783892e+07  4.42219892e+08 -6.67138841e+14\n",
      "  -1.62966540e+06  6.36957584e+02  2.84194075e+05  6.85840350e+05]\n",
      " [ 7.46243119e+07 -6.58571766e+07  1.06753035e+09 -1.60991427e+15\n",
      "  -3.94005074e+06  1.53285539e+03  6.85840350e+05  1.65548570e+06]]\n"
     ]
    }
   ],
   "source": [
    "# make a noise-free kk-only Fisher matrix\n",
    "def getKK(Fobj,myLmin=50):\n",
    "    Clkk = Fobj.crossCls[0,0]\n",
    "    dClkk = Fobj.dClVecs[0]\n",
    "    print 'Clkk shape: ',Clkk.shape\n",
    "    print 'dClkk shape: ',dClkk.shape\n",
    "    ells = Fobj.ells\n",
    "    nCosParams = Fobj.nCosParams\n",
    "    lmin = Fobj.lmin\n",
    "    \n",
    "    cov_kk = 2*Clkk**2 / (2*ells+1)\n",
    "    Fij_kk = np.zeros((nCosParams,nCosParams))\n",
    "    minEllInd = myLmin-lmin  # eg. 50-2\n",
    "    for pNum1 in range(nCosParams):\n",
    "        for pNum2 in range(pNum1,nCosParams):\n",
    "            # the next line does the summation over ell\n",
    "            Fij_kk[pNum1,pNum2] = np.sum(dClkk[pNum1,minEllInd:]*dClkk[pNum2,minEllInd:]/cov_kk[minEllInd:])\n",
    "            Fij_kk[pNum2,pNum1] = Fij_kk[pNum1,pNum2]\n",
    "    print 'parameters: ',Fobj.paramList[:nCosParams]\n",
    "    print 'kappa-only, noise-free Fisher matrix:'\n",
    "    print Fij_kk\n",
    "    return Fij_kk\n",
    "\n",
    "Fij_kk_lin = getKK(Fobj2)\n",
    "Fij_kk_nln = getKK(Fobj1)"
   ]
  },
  {
   "cell_type": "code",
   "execution_count": null,
   "metadata": {},
   "outputs": [],
   "source": []
  },
  {
   "cell_type": "markdown",
   "metadata": {},
   "source": [
    "# get noise"
   ]
  },
  {
   "cell_type": "code",
   "execution_count": 69,
   "metadata": {},
   "outputs": [],
   "source": [
    "lmin = Fobj1.lmin\n",
    "lmax = Fobj1.lmax"
   ]
  },
  {
   "cell_type": "code",
   "execution_count": 70,
   "metadata": {},
   "outputs": [
    {
     "name": "stdout",
     "output_type": "stream",
     "text": [
      "creating noise arrays... \n",
      "getting (EB) lensing reconstruction noise... \n",
      "[00:00:00] calculating full-sky noise level for estimator of type <class 'quicklens.qest.lens.phi_EB'>\n",
      "getting galaxy shot noise... \n",
      "getting (primary CMB) detector noise...\n"
     ]
    },
    {
     "name": "stderr",
     "output_type": "stream",
     "text": [
      "/opt/local/Library/Frameworks/Python.framework/Versions/2.7/lib/python2.7/site-packages/ipykernel_launcher.py:59: ComplexWarning: Casting complex values to real discards the imaginary part\n"
     ]
    },
    {
     "name": "stdout",
     "output_type": "stream",
     "text": [
      "(7, 7, 2999)\n",
      "(2, 2, 4999)\n"
     ]
    }
   ],
   "source": [
    "# copy some code from FisherCl\n",
    "z0 = 0.5\n",
    "\n",
    "print 'creating noise arrays... '\n",
    "\n",
    "print 'getting (EB) lensing reconstruction noise... '\n",
    "# noise levels from a possible CMB-S4 design:\n",
    "nlev_t     = 1.   # temperature noise level, in uK.arcmin.\n",
    "nlev_p     = 1.414   # polarization noise level, in uK.arcmin.\n",
    "beam_fwhm  = 1.   # Gaussian beam full-width-at-half-maximum.\n",
    "\n",
    "#ells,EB_noise = ncl.getRecNoise(self.lmax,nlev_t,nlev_p,beam_fwhm)\n",
    "ellsQC,EB_noise = ncl.getRecNoise(lmax,nlev_t,nlev_p,beam_fwhm)\n",
    "\n",
    "# convert Nl^dd to Nl^kk\n",
    "# use Cl^kk = 1/4*[l*(l+1)]^2 * Cl^phiphi?\n",
    "# but d is in between k and phi, so...?\n",
    "# Scratch that.\n",
    "# Assume output of quicklens is Cl^phiphi\n",
    "#Nlkk = EB_noise * (ells*(ells+1)/2)**2\n",
    "Nlkk = EB_noise * (ellsQC*(ellsQC+1)/2)**2\n",
    "\n",
    "\n",
    "print 'getting galaxy shot noise... '\n",
    "# From Schaan et. al.: LSST n_source = 26/arcmin^2 for full survey\n",
    "#nbar = 26 # arcmin^-2\n",
    "nbar = 66 # 66 arcmin^-2 to match Bye's value\n",
    "\n",
    "# the selection of beesBins must be consistent with that which is selected in cp.tophat\n",
    "beesBins = True\n",
    "if beesBins:\n",
    "    binEdges = [0.0,0.5,1.0,2.0,3.0,4.0,7.0]\n",
    "    nBins = 6\n",
    "else:\n",
    "    #binEdges = np.linspace(self.zmin,self.zmax,self.nBins+1)\n",
    "    #nBins = self.nBins\n",
    "    binEdges = np.linspace(Fobj1.zmin,Fobj1.zmax,Fobj1.nBins+1)\n",
    "    nBins = Fobj1.nBins\n",
    "\n",
    "# the selection of dndz function must be consistent with that which is selected in cp.getDNDZinterp\n",
    "# myDNDZ must be a function only of z\n",
    "#myDNDZ = lambda z: cp.modelDNDZ(z,z0)\n",
    "myDNDZ = lambda z: cp.modelDNDZ3(z,z0)\n",
    "\n",
    "N_gg = ncl.shotNoise(nbar,binEdges,myDNDZ=myDNDZ)\n",
    "\n",
    "\n",
    "\n",
    "# create noiseCls array to accompany crossCls: \n",
    "#  Nl^kk will be reconstruction noise\n",
    "#  Nl^gigi will be shot noise\n",
    "#  Nl^kg, Nl^gigj are zero because noise is uncorrelated\n",
    "\n",
    "#self.noiseCls = np.zeros(self.crossCls.shape)\n",
    "#self.noiseCls[0,0] = Nlkk[self.lmin:self.lmax+1]\n",
    "#for binNum in range(nBins):\n",
    "#    self.noiseCls[binNum+1,binNum+1] = N_gg[binNum]*np.ones(self.lmax-self.lmin+1)\n",
    "noiseCls = np.zeros(Fobj1.crossCls.shape)\n",
    "noiseCls[0,0] = Nlkk[Fobj1.lmin:Fobj1.lmax+1]\n",
    "for binNum in range(nBins):\n",
    "    noiseCls[binNum+1,binNum+1] = N_gg[binNum]*np.ones(Fobj1.lmax-Fobj1.lmin+1)\n",
    "\n",
    "\n",
    "print 'getting (primary CMB) detector noise...'\n",
    "# CMBS4 v1\n",
    "fwhm = 1; ST = 1; SP = ST*1.414\n",
    "#noiseCMBS4_TT1 = ncl.noisePower(ST,ST,fwhm,self.ellsP)\n",
    "#noiseCMBS4_TP1 = ncl.noisePower(ST,SP,fwhm,self.ellsP)\n",
    "#noiseCMBS4_PP1 = ncl.noisePower(SP,SP,fwhm,self.ellsP)\n",
    "noiseCMBS4_TT1 = ncl.noisePower(ST,ST,fwhm,Fobj1.ellsP)\n",
    "noiseCMBS4_TP1 = ncl.noisePower(ST,SP,fwhm,Fobj1.ellsP)\n",
    "noiseCMBS4_PP1 = ncl.noisePower(SP,SP,fwhm,Fobj1.ellsP)\n",
    "\n",
    "# CMBS4 v2\n",
    "#fwhm = 2; ST = 1; SP = ST*1.414\n",
    "#noiseCMBS4_TT2 = ncl.noisePower(ST,ST,fwhm,self.ellsP)\n",
    "#noiseCMBS4_TP2 = ncl.noisePower(ST,SP,fwhm,self.ellsP)\n",
    "#noiseCMBS4_PP2 = ncl.noisePower(SP,SP,fwhm,self.ellsP)\n",
    "\n",
    "# shape like crossCls\n",
    "noiseCls1 = np.array([[noiseCMBS4_TT1,noiseCMBS4_TP1],[noiseCMBS4_TP1,noiseCMBS4_PP1]])\n",
    "#noiseCls2 = np.array([[noiseCMBS4_TT2,noiseCMBS4_TP2],[noiseCMBS4_TP2,noiseCMBS4_PP2]])\n",
    "\n",
    "# pick one\n",
    "#self.noiseClsP = noiseCls1\n",
    "noiseClsP = noiseCls1\n",
    "\n",
    "print noiseCls.shape\n",
    "print noiseClsP.shape"
   ]
  },
  {
   "cell_type": "code",
   "execution_count": null,
   "metadata": {},
   "outputs": [],
   "source": []
  },
  {
   "cell_type": "code",
   "execution_count": 71,
   "metadata": {},
   "outputs": [
    {
     "name": "stdout",
     "output_type": "stream",
     "text": [
      "starting covariance set  1  of  2 ... \n",
      "starting covariance set  2  of  2 ... \n",
      "starting covariance set  1  of  2 ... \n",
      "starting covariance set  2  of  2 ... \n",
      "(28, 28, 2999)\n",
      "(3, 3, 4999)\n",
      "(28, 28, 2999)\n",
      "(3, 3, 4999)\n"
     ]
    }
   ],
   "source": [
    "# make covariance matrices with noise\n",
    "#covar1, invCov1 ,ells1 ,obsList1  = Fobj1.makeCovar(Fobj1.crossCls ,noiseCls ,lmin,myLmax )\n",
    "covarP1,invCovP1,ellsP1,obsListP1 = Fobj1.makeCovar(Fobj1.crossClsP,noiseClsP,lmin,myLmaxP)\n",
    "\n",
    "#covar2, invCov2 ,ells2 ,obsList2  = Fobj2.makeCovar(Fobj2.crossCls ,noiseCls ,lmin,myLmax )\n",
    "covarP2,invCovP2,ellsP2,obsListP2 = Fobj2.makeCovar(Fobj2.crossClsP,noiseClsP,lmin,myLmaxP)\n",
    "\n",
    "print invCov1.shape\n",
    "print invCovP1.shape\n",
    "print invCov2.shape\n",
    "print invCovP2.shape"
   ]
  },
  {
   "cell_type": "code",
   "execution_count": null,
   "metadata": {},
   "outputs": [],
   "source": []
  },
  {
   "cell_type": "markdown",
   "metadata": {},
   "source": [
    "# Calculate TE, k, kTE Fisher matrices with noise included"
   ]
  },
  {
   "cell_type": "code",
   "execution_count": 72,
   "metadata": {},
   "outputs": [
    {
     "name": "stdout",
     "output_type": "stream",
     "text": [
      "Clkk shape:  (2999,)\n",
      "dClkk shape:  (14, 2999)\n",
      "parameters:  ['ombh2', 'omch2', 'cosmomc_theta', 'As', 'ns', 'tau', 'mnu', 'w']\n",
      "kappa-only, noise-included Fisher matrix:\n",
      "[[ 7.41531684e+07 -6.62358812e+07  1.08015029e+09 -1.83176001e+15\n",
      "  -2.67300037e+06  4.75078382e+03  8.02802079e+05  2.73934244e+05]\n",
      " [-6.62358812e+07  5.92653881e+07 -9.68455673e+08  1.64734473e+15\n",
      "   2.33284202e+06 -4.28242688e+03 -7.21333495e+05 -2.47876833e+05]\n",
      " [ 1.08015029e+09 -9.68455673e+08  1.58666078e+10 -2.70987128e+16\n",
      "  -3.68035605e+07  7.06600474e+04  1.18545092e+07  4.10944599e+06]\n",
      " [-1.83176001e+15  1.64734473e+15 -2.70987128e+16  4.66177753e+22\n",
      "   5.86170569e+13 -1.22196174e+11 -2.03688368e+13 -7.16005845e+12]\n",
      " [-2.67300037e+06  2.33284202e+06 -3.68035605e+07  5.86170569e+13\n",
      "   1.39694974e+05 -1.44758729e+02 -2.59511152e+04 -7.74086176e+03]\n",
      " [ 4.75078382e+03 -4.28242688e+03  7.06600474e+04 -1.22196174e+11\n",
      "  -1.44758729e+02  3.21529609e-01  5.33410395e+01  1.89429385e+01]\n",
      " [ 8.02802079e+05 -7.21333495e+05  1.18545092e+07 -2.03688368e+13\n",
      "  -2.59511152e+04  5.33410395e+01  8.90483319e+03  3.12007951e+03]\n",
      " [ 2.73934244e+05 -2.47876833e+05  4.10944599e+06 -7.16005845e+12\n",
      "  -7.74086176e+03  1.89429385e+01  3.12007951e+03  1.12522658e+03]]\n",
      "Clkk shape:  (2999,)\n",
      "dClkk shape:  (14, 2999)\n",
      "parameters:  ['ombh2', 'omch2', 'cosmomc_theta', 'As', 'ns', 'tau', 'mnu', 'w']\n",
      "kappa-only, noise-included Fisher matrix:\n",
      "[[ 1.03122666e+08 -9.14472644e+07  1.52908844e+09 -2.50693859e+15\n",
      "  -2.66796003e+06  4.68712913e+03  1.03431182e+06  2.41679540e+06]\n",
      " [-9.14472644e+07  8.11941234e+07 -1.35945382e+09  2.23426825e+15\n",
      "   2.31346933e+06 -4.20459452e+03 -9.21349424e+05 -2.15076949e+06]\n",
      " [ 1.52908844e+09 -1.35945382e+09  2.27963880e+10 -3.75764362e+16\n",
      "  -3.75842182e+07  7.13138328e+04  1.54865824e+07  3.61060034e+07]\n",
      " [-2.50693859e+15  2.23426825e+15 -3.75764362e+16  6.23577129e+22\n",
      "   5.74713376e+13 -1.20715874e+11 -2.56749025e+13 -5.96560569e+13]\n",
      " [-2.66796003e+06  2.31346933e+06 -3.75842182e+07  5.74713376e+13\n",
      "   1.10661811e+05 -8.30996789e+01 -2.39740649e+04 -5.80279032e+04]\n",
      " [ 4.68712913e+03 -4.20459452e+03  7.13138328e+04 -1.20715874e+11\n",
      "  -8.30996789e+01  2.48055126e-01  4.95610965e+01  1.13971348e+02]\n",
      " [ 1.03431182e+06 -9.21349424e+05  1.54865824e+07 -2.56749025e+13\n",
      "  -2.39740649e+04  4.95610965e+01  1.05746560e+04  2.45769367e+04]\n",
      " [ 2.41679540e+06 -2.15076949e+06  3.61060034e+07 -5.96560569e+13\n",
      "  -5.80279032e+04  1.13971348e+02  2.45769367e+04  5.72365538e+04]]\n"
     ]
    },
    {
     "name": "stderr",
     "output_type": "stream",
     "text": [
      "/opt/local/Library/Frameworks/Python.framework/Versions/2.7/lib/python2.7/site-packages/ipykernel_launcher.py:21: ComplexWarning: Casting complex values to real discards the imaginary part\n"
     ]
    }
   ],
   "source": [
    "# remake kk covar and fisher with noise\n",
    "def getKKn(Fobj,myLmin=50):\n",
    "    Clkk = Fobj.crossCls[0,0]\n",
    "    dClkk = Fobj.dClVecs[0]\n",
    "\n",
    "    print 'Clkk shape: ',Clkk.shape\n",
    "    print 'dClkk shape: ',dClkk.shape\n",
    "    ells = Fobj.ells\n",
    "    nCosParams = Fobj.nCosParams\n",
    "    lmin = Fobj.lmin\n",
    "    \n",
    "    # add noise to crossCls for making covar\n",
    "    Clkk2 = Fobj.crossCls[0,0]+Nlkk[lmin:]\n",
    "    \n",
    "    cov_kk2 = 2*Clkk2**2 / (2*ells+1)\n",
    "    Fij_kk2 = np.zeros((nCosParams,nCosParams))\n",
    "    minEllInd = myLmin-lmin  # eg. 50-2\n",
    "    for pNum1 in range(nCosParams):\n",
    "        for pNum2 in range(pNum1,nCosParams):\n",
    "            # the next line does the summation over ell\n",
    "            Fij_kk2[pNum1,pNum2] = np.sum(dClkk[pNum1,minEllInd:]*dClkk[pNum2,minEllInd:]/cov_kk2[minEllInd:])\n",
    "            Fij_kk2[pNum2,pNum1] = Fij_kk2[pNum1,pNum2]\n",
    "    print 'parameters: ',Fobj.paramList[:nCosParams]\n",
    "    print 'kappa-only, noise-included Fisher matrix:'\n",
    "    print Fij_kk2\n",
    "    return Fij_kk2\n",
    "\n",
    "Fij_kk_lin_n = getKKn(Fobj2)\n",
    "Fij_kk_nln_n = getKKn(Fobj1)"
   ]
  },
  {
   "cell_type": "code",
   "execution_count": 73,
   "metadata": {},
   "outputs": [
    {
     "name": "stdout",
     "output_type": "stream",
     "text": [
      "getting EE part above ell=3000...\n",
      "getting EE part above ell=3000...\n",
      "getting EE part above ell=3000...\n",
      "getting EE part above ell=3000...\n",
      "getting EE part above ell=3000...\n",
      "getting EE part above ell=3000...\n",
      "getting EE part above ell=3000...\n",
      "getting EE part above ell=3000...\n",
      "getting EE part above ell=3000...\n",
      "getting EE part above ell=3000...\n",
      "getting EE part above ell=3000...\n",
      "getting EE part above ell=3000...\n",
      "getting EE part above ell=3000...\n",
      "getting EE part above ell=3000...\n",
      "getting EE part above ell=3000...\n",
      "getting EE part above ell=3000...\n",
      "getting EE part above ell=3000...\n",
      "getting EE part above ell=3000...\n",
      "getting EE part above ell=3000...\n",
      "getting EE part above ell=3000...\n",
      "getting EE part above ell=3000...\n",
      "getting EE part above ell=3000...\n",
      "getting EE part above ell=3000...\n",
      "getting EE part above ell=3000...\n",
      "getting EE part above ell=3000...\n",
      "getting EE part above ell=3000...\n",
      "getting EE part above ell=3000...\n",
      "getting EE part above ell=3000...\n",
      "getting EE part above ell=3000...\n",
      "getting EE part above ell=3000...\n",
      "getting EE part above ell=3000...\n",
      "getting EE part above ell=3000...\n",
      "getting EE part above ell=3000...\n",
      "getting EE part above ell=3000...\n",
      "getting EE part above ell=3000...\n",
      "getting EE part above ell=3000...\n",
      "getting EE part above ell=3000...\n",
      "getting EE part above ell=3000...\n",
      "getting EE part above ell=3000...\n",
      "getting EE part above ell=3000...\n",
      "getting EE part above ell=3000...\n",
      "getting EE part above ell=3000...\n",
      "getting EE part above ell=3000...\n",
      "getting EE part above ell=3000...\n",
      "getting EE part above ell=3000...\n",
      "getting EE part above ell=3000...\n",
      "getting EE part above ell=3000...\n",
      "getting EE part above ell=3000...\n",
      "getting EE part above ell=3000...\n",
      "getting EE part above ell=3000...\n",
      "getting EE part above ell=3000...\n",
      "getting EE part above ell=3000...\n",
      "getting EE part above ell=3000...\n",
      "getting EE part above ell=3000...\n",
      "getting EE part above ell=3000...\n",
      "getting EE part above ell=3000...\n",
      "getting EE part above ell=3000...\n",
      "getting EE part above ell=3000...\n",
      "getting EE part above ell=3000...\n",
      "getting EE part above ell=3000...\n",
      "getting EE part above ell=3000...\n",
      "getting EE part above ell=3000...\n",
      "getting EE part above ell=3000...\n",
      "getting EE part above ell=3000...\n",
      "getting EE part above ell=3000...\n",
      "getting EE part above ell=3000...\n",
      "getting EE part above ell=3000...\n",
      "getting EE part above ell=3000...\n",
      "getting EE part above ell=3000...\n",
      "getting EE part above ell=3000...\n",
      "getting EE part above ell=3000...\n",
      "getting EE part above ell=3000...\n",
      "getting EE part above ell=3000...\n",
      "getting EE part above ell=3000...\n",
      "getting EE part above ell=3000...\n",
      "getting EE part above ell=3000...\n",
      "getting EE part above ell=3000...\n",
      "getting EE part above ell=3000...\n",
      "getting EE part above ell=3000...\n",
      "getting EE part above ell=3000...\n",
      "getting EE part above ell=3000...\n",
      "getting EE part above ell=3000...\n",
      "getting EE part above ell=3000...\n",
      "getting EE part above ell=3000...\n",
      "getting EE part above ell=3000...\n",
      "getting EE part above ell=3000...\n",
      "getting EE part above ell=3000...\n",
      "getting EE part above ell=3000...\n",
      "getting EE part above ell=3000...\n",
      "getting EE part above ell=3000...\n",
      "getting EE part above ell=3000...\n",
      "getting EE part above ell=3000...\n",
      "getting EE part above ell=3000...\n",
      "getting EE part above ell=3000...\n",
      "getting EE part above ell=3000...\n",
      "getting EE part above ell=3000...\n",
      "getting EE part above ell=3000...\n",
      "getting EE part above ell=3000...\n",
      "getting EE part above ell=3000...\n",
      "getting EE part above ell=3000...\n",
      "getting EE part above ell=3000...\n",
      "getting EE part above ell=3000...\n",
      "getting EE part above ell=3000...\n",
      "getting EE part above ell=3000...\n",
      "getting EE part above ell=3000...\n",
      "getting EE part above ell=3000...\n",
      "getting EE part above ell=3000...\n",
      "getting EE part above ell=3000...\n",
      "getting EE part above ell=3000...\n",
      "getting EE part above ell=3000...\n",
      "getting EE part above ell=3000...\n",
      "getting EE part above ell=3000...\n",
      "getting EE part above ell=3000...\n",
      "getting EE part above ell=3000...\n",
      "getting EE part above ell=3000...\n",
      "getting EE part above ell=3000...\n",
      "getting EE part above ell=3000...\n",
      "getting EE part above ell=3000...\n",
      "getting EE part above ell=3000...\n",
      "getting EE part above ell=3000...\n",
      "getting EE part above ell=3000...\n",
      "getting EE part above ell=3000...\n",
      "getting EE part above ell=3000...\n",
      "getting EE part above ell=3000...\n",
      "getting EE part above ell=3000...\n",
      "getting EE part above ell=3000...\n",
      "getting EE part above ell=3000...\n",
      "getting EE part above ell=3000...\n",
      "done.\n"
     ]
    }
   ],
   "source": [
    "# now the TE ones\n",
    "\n",
    "# Insert into Fobj to get new Fij, FijTE\n",
    "Fobj1.invCovP = invCovP1\n",
    "Fij_TE1 = Fobj1.makeFisher(myLminP,TE=True)\n",
    "Fobj2.invCovP = invCovP2\n",
    "Fij_TE2 = Fobj2.makeFisher(myLminP,TE=True)\n",
    "\n",
    "print 'done.'"
   ]
  },
  {
   "cell_type": "code",
   "execution_count": null,
   "metadata": {},
   "outputs": [],
   "source": []
  },
  {
   "cell_type": "markdown",
   "metadata": {},
   "source": [
    "# Create combined Fisher matrices"
   ]
  },
  {
   "cell_type": "code",
   "execution_count": 74,
   "metadata": {},
   "outputs": [],
   "source": [
    "# create combined Fisher matrices\n",
    "#Fij_kk_lin_n = getKKn(Fobj2)\n",
    "#Fij_kk_nln_n = getKKn(Fobj1)\n",
    "\n",
    "Fij_kTE1 = Fij_kk_nln_n.copy()\n",
    "Fij_kTE1 += Fij_TE1\n",
    "\n",
    "Fij_kTE2 = Fij_kk_lin_n.copy()\n",
    "Fij_kTE2 += Fij_TE2"
   ]
  },
  {
   "cell_type": "code",
   "execution_count": null,
   "metadata": {},
   "outputs": [],
   "source": []
  },
  {
   "cell_type": "code",
   "execution_count": null,
   "metadata": {},
   "outputs": [],
   "source": []
  },
  {
   "cell_type": "markdown",
   "metadata": {},
   "source": [
    "# Get and compare sigmas"
   ]
  },
  {
   "cell_type": "code",
   "execution_count": 75,
   "metadata": {},
   "outputs": [],
   "source": [
    "def getSigmas(Fij):\n",
    "    return np.sqrt(np.diag(np.linalg.inv(Fij)))\n",
    "    \n",
    "sigmaskk1 = getSigmas(Fij_kk_nln_n)\n",
    "sigmaskk2 = getSigmas(Fij_kk_lin_n)\n",
    "sigmasTE1 = getSigmas(Fij_TE1)\n",
    "sigmasTE2 = getSigmas(Fij_TE2)\n",
    "sigmaskTE1 = getSigmas(Fij_kTE1)\n",
    "sigmaskTE2 = getSigmas(Fij_kTE2)\n"
   ]
  },
  {
   "cell_type": "code",
   "execution_count": null,
   "metadata": {},
   "outputs": [],
   "source": []
  },
  {
   "cell_type": "code",
   "execution_count": 76,
   "metadata": {},
   "outputs": [],
   "source": [
    "paramList = Fobj1.paramList\n",
    "nCosParams = Fobj1.nCosParams"
   ]
  },
  {
   "cell_type": "code",
   "execution_count": null,
   "metadata": {},
   "outputs": [],
   "source": []
  },
  {
   "cell_type": "code",
   "execution_count": 77,
   "metadata": {
    "scrolled": false
   },
   "outputs": [
    {
     "name": "stdout",
     "output_type": "stream",
     "text": [
      "fsky = 1\n",
      "kappa-only, with noise\n",
      "+---------------+---------------+---------------+---------------+\n",
      "|   Parameter   | sigmas_kk_lin | sigmas_kk_nln | percent diff. |\n",
      "+---------------+---------------+---------------+---------------+\n",
      "|     ombh2     |     0.0856    |     0.0629    |     -26.5     |\n",
      "|     omch2     |     0.226     |      0.17     |     -24.6     |\n",
      "| cosmomc_theta |    0.00263    |    0.00661    |       151     |\n",
      "|       As      |    5.6e-09    |    4.03e-09   |     -28.1     |\n",
      "|       ns      |     0.245     |     0.567     |       132     |\n",
      "|      tau      |       576     |       624     |      8.44     |\n",
      "|      mnu      |      3.27     |      2.52     |     -22.9     |\n",
      "|       w       |      6.11     |      5.01     |       -18     |\n",
      "+---------------+---------------+---------------+---------------+\n",
      "TE, with noise\n",
      "+---------------+---------------+---------------+---------------+\n",
      "|   Parameter   | sigmas_TE_lin | sigmas_TE_nln | percent diff. |\n",
      "+---------------+---------------+---------------+---------------+\n",
      "|     ombh2     |    2.31e-05   |    2.31e-05   |   -3.71e-05   |\n",
      "|     omch2     |    0.00924    |    0.00924    |     0.0285    |\n",
      "| cosmomc_theta |    4.38e-05   |    4.32e-05   |     -1.23     |\n",
      "|       As      |    3.09e-05   |    3.09e-05   |     -0.02     |\n",
      "|       ns      |     0.0721    |     0.0721    |   -0.000221   |\n",
      "|      tau      |    7.26e+03   |    7.26e+03   |     -0.02     |\n",
      "|      mnu      |      5.73     |      5.73     |    -0.0144    |\n",
      "|       w       |     0.0124    |     0.0156    |        26     |\n",
      "+---------------+---------------+---------------+---------------+\n",
      "kappa + TE, with noise\n",
      "+---------------+----------------+----------------+---------------+\n",
      "|   Parameter   | sigmas_kTE_lin | sigmas_kTE_nln | percent diff. |\n",
      "+---------------+----------------+----------------+---------------+\n",
      "|     ombh2     |    2.3e-05     |    2.3e-05     |     0.0105    |\n",
      "|     omch2     |    0.00481     |    0.00392     |     -18.4     |\n",
      "| cosmomc_theta |    1.26e-05    |    9.97e-06    |     -20.9     |\n",
      "|       As      |    2.32e-10    |    2.99e-10    |        29     |\n",
      "|       ns      |     0.0177     |     0.017      |     -3.91     |\n",
      "|      tau      |     0.0591     |     0.0781     |      32.1     |\n",
      "|      mnu      |     0.657      |     0.769      |        17     |\n",
      "|       w       |     0.0123     |     0.0154     |      25.4     |\n",
      "+---------------+----------------+----------------+---------------+\n"
     ]
    }
   ],
   "source": [
    "from prettytable import PrettyTable\n",
    "\n",
    "print 'fsky = 1'\n",
    "print 'kappa-only, with noise'\n",
    "t = PrettyTable(['Parameter', 'sigmas_kk_lin','sigmas_kk_nln','percent diff.'])\n",
    "for i,p in enumerate(paramList[:nCosParams]):\n",
    "    Zi = sigmaskk2[i]\n",
    "    Bi = sigmaskk1[i]\n",
    "    diff = (Bi-Zi)/Zi *100\n",
    "    t.add_row([p,\"%5.3g\" % Zi,\"%5.3g\" % Bi, \"%5.3g\" % diff ] )\n",
    "print t\n",
    "\n",
    "print 'TE, with noise'\n",
    "t = PrettyTable(['Parameter', 'sigmas_TE_lin','sigmas_TE_nln','percent diff.'])\n",
    "for i,p in enumerate(paramList[:nCosParams]):\n",
    "    Zi = sigmasTE2[i]\n",
    "    Bi = sigmasTE1[i]\n",
    "    diff = (Bi-Zi)/Zi *100\n",
    "    t.add_row([p,\"%5.3g\" % Zi,\"%5.3g\" % Bi, \"%5.3g\" % diff ] )\n",
    "print t\n",
    "\n",
    "print 'kappa + TE, with noise'\n",
    "t = PrettyTable(['Parameter', 'sigmas_kTE_lin','sigmas_kTE_nln','percent diff.'])\n",
    "for i,p in enumerate(paramList[:nCosParams]):\n",
    "    Zi = sigmaskTE2[i]\n",
    "    Bi = sigmaskTE1[i]\n",
    "    diff = (Bi-Zi)/Zi *100\n",
    "    t.add_row([p,\"%5.3g\" % Zi,\"%5.3g\" % Bi, \"%5.3g\" % diff ] )\n",
    "print t\n",
    "\n"
   ]
  },
  {
   "cell_type": "code",
   "execution_count": null,
   "metadata": {},
   "outputs": [],
   "source": []
  },
  {
   "cell_type": "code",
   "execution_count": 78,
   "metadata": {},
   "outputs": [
    {
     "data": {
      "text/plain": [
       "'\\nresults using the old w values (before the fix)\\nfsky = 1\\nkappa-only, with noise\\n+---------------+---------------+---------------+---------------+\\n|   Parameter   | sigmas_kk_lin | sigmas_kk_nln | percent diff. |\\n+---------------+---------------+---------------+---------------+\\n|     ombh2     |     0.0852    |     0.0883    |      3.59     |\\n|     omch2     |     0.225     |     0.219     |     -2.49     |\\n| cosmomc_theta |     0.0101    |    0.00998    |     -1.62     |\\n|       As      |    5.57e-09   |    6.09e-09   |      9.32     |\\n|       ns      |     0.244     |     0.497     |       104     |\\n|      tau      |       576     |       658     |      14.1     |\\n|      mnu      |      3.27     |      3.12     |     -4.43     |\\n|       w       |      6.06     |      7.02     |        16     |\\n+---------------+---------------+---------------+---------------+\\nTE, with noise\\n+---------------+---------------+---------------+---------------+\\n|   Parameter   | sigmas_TE_lin | sigmas_TE_nln | percent diff. |\\n+---------------+---------------+---------------+---------------+\\n|     ombh2     |    2.3e-05    |    2.3e-05    |         0     |\\n|     omch2     |    0.00909    |    0.00909    |         0     |\\n| cosmomc_theta |    0.000337   |    0.000337   |         0     |\\n|       As      |    3.13e-05   |    3.13e-05   |         0     |\\n|       ns      |     0.0722    |     0.0722    |         0     |\\n|      tau      |    7.35e+03   |    7.35e+03   |         0     |\\n|      mnu      |      5.81     |      5.81     |         0     |\\n|       w       |     0.747     |     0.747     |         0     |\\n+---------------+---------------+---------------+---------------+\\nkappa + TE, with noise\\n+---------------+----------------+----------------+---------------+\\n|   Parameter   | sigmas_kTE_lin | sigmas_kTE_nln | percent diff. |\\n+---------------+----------------+----------------+---------------+\\n|     ombh2     |    2.29e-05    |    2.29e-05    |    -0.0543    |\\n|     omch2     |    0.00497     |     0.0039     |     -21.6     |\\n| cosmomc_theta |    0.000279    |    0.000222    |     -20.2     |\\n|       As      |    5.55e-10    |    5.26e-10    |     -5.27     |\\n|       ns      |     0.0184     |     0.0205     |      11.8     |\\n|      tau      |     0.142      |      0.14      |     -1.25     |\\n|      mnu      |     0.764      |     0.838      |      9.76     |\\n|       w       |     0.598      |     0.478      |     -20.1     |\\n+---------------+----------------+----------------+---------------+\\n\\n\\nresults using the new w values (after the fix):\\n\\n\\n\\n\\n'"
      ]
     },
     "execution_count": 78,
     "metadata": {},
     "output_type": "execute_result"
    }
   ],
   "source": [
    "\"\"\"\n",
    "results using the old w values (before the fix)\n",
    "fsky = 1\n",
    "kappa-only, with noise\n",
    "+---------------+---------------+---------------+---------------+\n",
    "|   Parameter   | sigmas_kk_lin | sigmas_kk_nln | percent diff. |\n",
    "+---------------+---------------+---------------+---------------+\n",
    "|     ombh2     |     0.0852    |     0.0883    |      3.59     |\n",
    "|     omch2     |     0.225     |     0.219     |     -2.49     |\n",
    "| cosmomc_theta |     0.0101    |    0.00998    |     -1.62     |\n",
    "|       As      |    5.57e-09   |    6.09e-09   |      9.32     |\n",
    "|       ns      |     0.244     |     0.497     |       104     |\n",
    "|      tau      |       576     |       658     |      14.1     |\n",
    "|      mnu      |      3.27     |      3.12     |     -4.43     |\n",
    "|       w       |      6.06     |      7.02     |        16     |\n",
    "+---------------+---------------+---------------+---------------+\n",
    "TE, with noise\n",
    "+---------------+---------------+---------------+---------------+\n",
    "|   Parameter   | sigmas_TE_lin | sigmas_TE_nln | percent diff. |\n",
    "+---------------+---------------+---------------+---------------+\n",
    "|     ombh2     |    2.3e-05    |    2.3e-05    |         0     |\n",
    "|     omch2     |    0.00909    |    0.00909    |         0     |\n",
    "| cosmomc_theta |    0.000337   |    0.000337   |         0     |  => these zeros could be from the error\n",
    "|       As      |    3.13e-05   |    3.13e-05   |         0     |        that led me to stop using w1 and \n",
    "|       ns      |     0.0722    |     0.0722    |         0     |        switch to w2\n",
    "|      tau      |    7.35e+03   |    7.35e+03   |         0     |\n",
    "|      mnu      |      5.81     |      5.81     |         0     |\n",
    "|       w       |     0.747     |     0.747     |         0     |\n",
    "+---------------+---------------+---------------+---------------+\n",
    "kappa + TE, with noise\n",
    "+---------------+----------------+----------------+---------------+\n",
    "|   Parameter   | sigmas_kTE_lin | sigmas_kTE_nln | percent diff. |\n",
    "+---------------+----------------+----------------+---------------+\n",
    "|     ombh2     |    2.29e-05    |    2.29e-05    |    -0.0543    |\n",
    "|     omch2     |    0.00497     |     0.0039     |     -21.6     |\n",
    "| cosmomc_theta |    0.000279    |    0.000222    |     -20.2     |\n",
    "|       As      |    5.55e-10    |    5.26e-10    |     -5.27     |\n",
    "|       ns      |     0.0184     |     0.0205     |      11.8     |\n",
    "|      tau      |     0.142      |      0.14      |     -1.25     |\n",
    "|      mnu      |     0.764      |     0.838      |      9.76     |\n",
    "|       w       |     0.598      |     0.478      |     -20.1     |\n",
    "+---------------+----------------+----------------+---------------+\n",
    "\n",
    "\n",
    "results using the new w values (after the fix):\n",
    "\n",
    "fsky = 1\n",
    "kappa-only, with noise\n",
    "+---------------+---------------+---------------+---------------+\n",
    "|   Parameter   | sigmas_kk_lin | sigmas_kk_nln | percent diff. |\n",
    "+---------------+---------------+---------------+---------------+\n",
    "|     ombh2     |     0.0856    |     0.0629    |     -26.5     |\n",
    "|     omch2     |     0.226     |      0.17     |     -24.6     |\n",
    "| cosmomc_theta |    0.00263    |    0.00661    |       151     |\n",
    "|       As      |    5.6e-09    |    4.03e-09   |     -28.1     |\n",
    "|       ns      |     0.245     |     0.567     |       132     |\n",
    "|      tau      |       576     |       624     |      8.44     |\n",
    "|      mnu      |      3.27     |      2.52     |     -22.9     |\n",
    "|       w       |      6.11     |      5.01     |       -18     |\n",
    "+---------------+---------------+---------------+---------------+\n",
    "TE, with noise\n",
    "+---------------+---------------+---------------+---------------+\n",
    "|   Parameter   | sigmas_TE_lin | sigmas_TE_nln | percent diff. |\n",
    "+---------------+---------------+---------------+---------------+\n",
    "|     ombh2     |    2.31e-05   |    2.31e-05   |   -3.71e-05   |\n",
    "|     omch2     |    0.00924    |    0.00924    |     0.0285    |\n",
    "| cosmomc_theta |    4.38e-05   |    4.32e-05   |     -1.23     |\n",
    "|       As      |    3.09e-05   |    3.09e-05   |     -0.02     |\n",
    "|       ns      |     0.0721    |     0.0721    |   -0.000221   |\n",
    "|      tau      |    7.26e+03   |    7.26e+03   |     -0.02     |\n",
    "|      mnu      |      5.73     |      5.73     |    -0.0144    |\n",
    "|       w       |     0.0124    |     0.0156    |        26     |\n",
    "+---------------+---------------+---------------+---------------+\n",
    "kappa + TE, with noise\n",
    "+---------------+----------------+----------------+---------------+\n",
    "|   Parameter   | sigmas_kTE_lin | sigmas_kTE_nln | percent diff. |\n",
    "+---------------+----------------+----------------+---------------+\n",
    "|     ombh2     |    2.3e-05     |    2.3e-05     |     0.0105    |\n",
    "|     omch2     |    0.00481     |    0.00392     |     -18.4     |\n",
    "| cosmomc_theta |    1.26e-05    |    9.97e-06    |     -20.9     |\n",
    "|       As      |    2.32e-10    |    2.99e-10    |        29     |\n",
    "|       ns      |     0.0177     |     0.017      |     -3.91     |\n",
    "|      tau      |     0.0591     |     0.0781     |      32.1     |\n",
    "|      mnu      |     0.657      |     0.769      |        17     |\n",
    "|       w       |     0.0123     |     0.0154     |      25.4     |\n",
    "+---------------+----------------+----------------+---------------+\n",
    "\n",
    "\n",
    "\"\"\""
   ]
  },
  {
   "cell_type": "code",
   "execution_count": null,
   "metadata": {},
   "outputs": [],
   "source": []
  },
  {
   "cell_type": "code",
   "execution_count": null,
   "metadata": {},
   "outputs": [],
   "source": []
  },
  {
   "cell_type": "code",
   "execution_count": null,
   "metadata": {},
   "outputs": [],
   "source": []
  },
  {
   "cell_type": "code",
   "execution_count": null,
   "metadata": {},
   "outputs": [],
   "source": []
  },
  {
   "cell_type": "code",
   "execution_count": null,
   "metadata": {},
   "outputs": [],
   "source": []
  },
  {
   "cell_type": "code",
   "execution_count": null,
   "metadata": {},
   "outputs": [],
   "source": []
  },
  {
   "cell_type": "code",
   "execution_count": null,
   "metadata": {},
   "outputs": [],
   "source": []
  }
 ],
 "metadata": {
  "kernelspec": {
   "display_name": "Python 2",
   "language": "python",
   "name": "python2"
  },
  "language_info": {
   "codemirror_mode": {
    "name": "ipython",
    "version": 2
   },
   "file_extension": ".py",
   "mimetype": "text/x-python",
   "name": "python",
   "nbconvert_exporter": "python",
   "pygments_lexer": "ipython2",
   "version": "2.7.14"
  }
 },
 "nbformat": 4,
 "nbformat_minor": 2
}
