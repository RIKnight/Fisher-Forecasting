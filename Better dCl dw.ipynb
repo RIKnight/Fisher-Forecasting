{
 "cells": [
  {
   "cell_type": "markdown",
   "metadata": {},
   "source": [
    "# Explore the affect of step size and placement in the dCl/dw numeric derivative"
   ]
  },
  {
   "cell_type": "code",
   "execution_count": 1,
   "metadata": {},
   "outputs": [
    {
     "name": "stderr",
     "output_type": "stream",
     "text": [
      "IMPORT ERROR: /opt/local/Library/Frameworks/Python.framework/Versions/2.7/lib/python2.7/site-packages/quicklens/mpi.pyc (No module named pypar). Could not load pbs or pypar. MPI will not be used.\n"
     ]
    }
   ],
   "source": [
    "import crosspower as cp\n",
    "import FisherCl as fcl # branch quickCl\n",
    "#import camb\n",
    "\n",
    "# set plotting to be in the notebook instead of its own qt window\n",
    "%matplotlib inline"
   ]
  },
  {
   "cell_type": "code",
   "execution_count": 2,
   "metadata": {},
   "outputs": [
    {
     "name": "stdout",
     "output_type": "stream",
     "text": [
      "[-0.95 -0.95 -0.95 -1.   -1.   -1.   -1.05 -1.05 -1.05]\n"
     ]
    }
   ],
   "source": [
    "# get a set of w values\n",
    "#myWs = -1*np.array([0.7,0.8,0.9,0.95,0.96,0.97,0.98,0.99,0.999,\n",
    "#          1,\n",
    "#          1.001,1.01,1.02,1.03,1.04,1.05,1.1,1.2,1.3])\n",
    "myWs = np.array([-0.95,-0.95,-0.95,-1.0,-1.0,-1.0,-1.05,-1.05,-1.05])\n",
    "\n",
    "# try with ns\n",
    "#myNss = np.array([0.95,0.95,0.95,0.96,0.96,0.96,0.97,0.97,0.97])\n",
    "\n",
    "print myWs\n",
    "nWs = myWs.size\n",
    "#print myNss\n",
    "#nNss = myNss.size\n",
    "\n",
    "#plt.plot(myWs,marker='o')\n",
    "#plt.show()"
   ]
  },
  {
   "cell_type": "code",
   "execution_count": 3,
   "metadata": {},
   "outputs": [
    {
     "name": "stderr",
     "output_type": "stream",
     "text": [
      "WARNING:root:Currently dark energy parameters are changed globally, not per parameter set\n"
     ]
    },
    {
     "name": "stdout",
     "output_type": "stream",
     "text": [
      "starting MatterPower  1  of  9\n",
      "neutrino_hierarchy =  normal\n"
     ]
    },
    {
     "name": "stderr",
     "output_type": "stream",
     "text": [
      "WARNING:root:accuracy parameters are changed globally, not yet per parameter set\n"
     ]
    },
    {
     "name": "stdout",
     "output_type": "stream",
     "text": [
      "zs.size:  299998\n"
     ]
    },
    {
     "name": "stderr",
     "output_type": "stream",
     "text": [
      "WARNING:root:Currently dark energy parameters are changed globally, not per parameter set\n",
      "WARNING:root:accuracy parameters are changed globally, not yet per parameter set\n"
     ]
    },
    {
     "name": "stdout",
     "output_type": "stream",
     "text": [
      "time elapsed:  58.8187801838  seconds\n",
      "time elapsed:  0.980313003063  minutes\n",
      "time elapsed:  0.0163385500511  hours\n",
      "starting MatterPower  2  of  9\n",
      "neutrino_hierarchy =  normal\n",
      "zs.size:  299998\n"
     ]
    },
    {
     "name": "stderr",
     "output_type": "stream",
     "text": [
      "WARNING:root:Currently dark energy parameters are changed globally, not per parameter set\n",
      "WARNING:root:accuracy parameters are changed globally, not yet per parameter set\n"
     ]
    },
    {
     "name": "stdout",
     "output_type": "stream",
     "text": [
      "time elapsed:  116.400730133  seconds\n",
      "time elapsed:  1.94001216888  minutes\n",
      "time elapsed:  0.0323335361481  hours\n",
      "starting MatterPower  3  of  9\n",
      "neutrino_hierarchy =  normal\n",
      "zs.size:  299998\n"
     ]
    },
    {
     "name": "stderr",
     "output_type": "stream",
     "text": [
      "WARNING:root:accuracy parameters are changed globally, not yet per parameter set\n"
     ]
    },
    {
     "name": "stdout",
     "output_type": "stream",
     "text": [
      "time elapsed:  195.481583118  seconds\n",
      "time elapsed:  3.25802638531  minutes\n",
      "time elapsed:  0.0543004397551  hours\n",
      "starting MatterPower  4  of  9\n",
      "neutrino_hierarchy =  normal\n",
      "zs.size:  299998\n"
     ]
    },
    {
     "name": "stderr",
     "output_type": "stream",
     "text": [
      "WARNING:root:accuracy parameters are changed globally, not yet per parameter set\n"
     ]
    },
    {
     "name": "stdout",
     "output_type": "stream",
     "text": [
      "time elapsed:  264.765063047  seconds\n",
      "time elapsed:  4.41275105079  minutes\n",
      "time elapsed:  0.0735458508465  hours\n",
      "starting MatterPower  5  of  9\n",
      "neutrino_hierarchy =  normal\n",
      "zs.size:  299998\n"
     ]
    },
    {
     "name": "stderr",
     "output_type": "stream",
     "text": [
      "WARNING:root:accuracy parameters are changed globally, not yet per parameter set\n"
     ]
    },
    {
     "name": "stdout",
     "output_type": "stream",
     "text": [
      "time elapsed:  329.681097984  seconds\n",
      "time elapsed:  5.49468496641  minutes\n",
      "time elapsed:  0.0915780827734  hours\n",
      "starting MatterPower  6  of  9\n",
      "neutrino_hierarchy =  normal\n",
      "zs.size:  299998\n"
     ]
    },
    {
     "name": "stderr",
     "output_type": "stream",
     "text": [
      "WARNING:root:Currently dark energy parameters are changed globally, not per parameter set\n",
      "WARNING:root:accuracy parameters are changed globally, not yet per parameter set\n"
     ]
    },
    {
     "name": "stdout",
     "output_type": "stream",
     "text": [
      "time elapsed:  399.704076052  seconds\n",
      "time elapsed:  6.66173460086  minutes\n",
      "time elapsed:  0.111028910014  hours\n",
      "starting MatterPower  7  of  9\n",
      "neutrino_hierarchy =  normal\n",
      "zs.size:  299998\n"
     ]
    },
    {
     "name": "stderr",
     "output_type": "stream",
     "text": [
      "WARNING:root:Currently dark energy parameters are changed globally, not per parameter set\n",
      "WARNING:root:accuracy parameters are changed globally, not yet per parameter set\n"
     ]
    },
    {
     "name": "stdout",
     "output_type": "stream",
     "text": [
      "time elapsed:  484.658143997  seconds\n",
      "time elapsed:  8.07763573329  minutes\n",
      "time elapsed:  0.134627262221  hours\n",
      "starting MatterPower  8  of  9\n",
      "neutrino_hierarchy =  normal\n",
      "zs.size:  299998\n"
     ]
    },
    {
     "name": "stderr",
     "output_type": "stream",
     "text": [
      "WARNING:root:Currently dark energy parameters are changed globally, not per parameter set\n",
      "WARNING:root:accuracy parameters are changed globally, not yet per parameter set\n"
     ]
    },
    {
     "name": "stdout",
     "output_type": "stream",
     "text": [
      "time elapsed:  563.132559061  seconds\n",
      "time elapsed:  9.38554265102  minutes\n",
      "time elapsed:  0.15642571085  hours\n",
      "starting MatterPower  9  of  9\n",
      "neutrino_hierarchy =  normal\n",
      "zs.size:  299998\n",
      "time elapsed:  627.498407125  seconds\n",
      "time elapsed:  10.4583067854  minutes\n",
      "time elapsed:  0.17430511309  hours\n",
      "nonlinear =  False\n",
      "neutrino_hierarchy =  normal\n"
     ]
    }
   ],
   "source": [
    "import time\n",
    "#hier = 'degenerate'\n",
    "hier = 'normal'\n",
    "#nz = 10000\n",
    "nz = 300000\n",
    "#nonlinear = True\n",
    "nonlinear = False\n",
    "AccuracyBoost = 3\n",
    "\n",
    "starttime = time.time()\n",
    "myPks = []\n",
    "for wNum in range(nWs):\n",
    "    print 'starting MatterPower ',wNum+1,' of ',nWs\n",
    "    myPks.append( cp.MatterPower(nz=nz,w=myWs[wNum],wa=0.0,nonlinear=nonlinear,AccuracyBoost=AccuracyBoost,\n",
    "                                neutrino_hierarchy = hier) )\n",
    "    #myPks.append( cp.MatterPower(nz=nz,w=-1.0,wa=0.0,nonlinear=nonlinear,AccuracyBoost=AccuracyBoost,\n",
    "    #                             neutrino_hierarchy = hier, ns=myNss[wNum]) )\n",
    "\n",
    "    endtime = time.time()\n",
    "\n",
    "    print 'time elapsed: ', endtime-starttime, ' seconds'\n",
    "    print 'time elapsed: ', (endtime-starttime)/60., ' minutes'\n",
    "    print 'time elapsed: ', (endtime-starttime)/3600., ' hours'\n",
    "\n",
    "print 'nonlinear = ',nonlinear\n",
    "print 'neutrino_hierarchy = ',hier"
   ]
  },
  {
   "cell_type": "code",
   "execution_count": 4,
   "metadata": {},
   "outputs": [
    {
     "name": "stdout",
     "output_type": "stream",
     "text": [
      "done\n"
     ]
    }
   ],
   "source": [
    "# get some k values to use\n",
    "nKs = 500\n",
    "myKs = np.logspace(-4,1,nKs)\n",
    "\n",
    "# get some z values\n",
    "nZs = 5\n",
    "myZs = [0.0,0.5,1.0,2.0,8.0]\n",
    "\n",
    "# evaluate P(w,z,k)\n",
    "Pwzk = np.empty((nWs,nZs,nKs))\n",
    "for wNum in range(nWs):\n",
    "    for zNum in range(nZs):\n",
    "        Pwzk[wNum,zNum] = myPks[wNum].PK.P(zNum,myKs)\n",
    "print 'done'"
   ]
  },
  {
   "cell_type": "code",
   "execution_count": 5,
   "metadata": {},
   "outputs": [
    {
     "data": {
      "image/png": "[encoded data removed]",
      "text/plain": [
       "<matplotlib.figure.Figure at 0x110ec88d0>"
      ]
     },
     "metadata": {},
     "output_type": "display_data"
    }
   ],
   "source": [
    "%matplotlib inline\n",
    "\n",
    "wSet1 = [0,1,2,  9,  16,17,18]\n",
    "wSet2 = [3,4,5,6,7,  9,  11,12,13,14,15]\n",
    "wSet3 = [8,9,10]\n",
    "\n",
    "wSet4 = [0,1,2,3,4,5,6,7,8,9]\n",
    "wSet5 = [9,10,11,12,13,14,15,16,17,18]\n",
    "\n",
    "wSet5 = range(nWs)\n",
    "\n",
    "#for zNum in range(nZs):\n",
    "for zNum in range(1):\n",
    "    for wNum in wSet5:\n",
    "        plt.semilogx(myKs,Pwzk[wNum,zNum],label='w = {0}'.format(myWs[wNum]))\n",
    "        #plt.semilogx(myKs,Pwzk[wNum,zNum],label='ns = {0}'.format(myWs[wNum]))\n",
    "    plt.title(r'$P(w,k,z)$ at $z = {0}$'.format(myZs[zNum]))\n",
    "    #plt.title(r'$P(ns,k,z)$ at $z = {0}$'.format(myZs[zNum]))\n",
    "    plt.legend()\n",
    "    plt.xlabel('k')\n",
    "    plt.show()\n"
   ]
  },
  {
   "cell_type": "code",
   "execution_count": null,
   "metadata": {},
   "outputs": [],
   "source": []
  },
  {
   "cell_type": "code",
   "execution_count": null,
   "metadata": {},
   "outputs": [],
   "source": []
  },
  {
   "cell_type": "code",
   "execution_count": null,
   "metadata": {},
   "outputs": [],
   "source": []
  },
  {
   "cell_type": "markdown",
   "metadata": {},
   "source": [
    "# Again, with a finer grid of w values based on sigma(w) = 0.007"
   ]
  },
  {
   "cell_type": "code",
   "execution_count": 6,
   "metadata": {},
   "outputs": [
    {
     "name": "stdout",
     "output_type": "stream",
     "text": [
      "[-0.986 -0.987 -0.988 -0.989 -0.99  -0.991 -0.992 -0.993 -0.994 -0.995\n",
      " -0.996 -0.997 -0.998 -0.999 -1.    -1.001 -1.002 -1.003 -1.004 -1.005\n",
      " -1.006 -1.007 -1.008 -1.009 -1.01  -1.011 -1.012 -1.013 -1.014]\n"
     ]
    },
    {
     "data": {
      "image/png": "[encoded data removed]",
      "text/plain": [
       "<matplotlib.figure.Figure at 0x105e31290>"
      ]
     },
     "metadata": {},
     "output_type": "display_data"
    }
   ],
   "source": [
    "# get a set of w values\n",
    "%matplotlib inline\n",
    "myWs = -0.001*(np.arange(29)-14)-1.0\n",
    "print myWs\n",
    "nWs = myWs.size\n",
    "plt.plot(myWs,marker='o')\n",
    "plt.show()"
   ]
  },
  {
   "cell_type": "code",
   "execution_count": 28,
   "metadata": {},
   "outputs": [
    {
     "name": "stderr",
     "output_type": "stream",
     "text": [
      "WARNING:root:Currently dark energy parameters are changed globally, not per parameter set\n",
      "WARNING:root:accuracy parameters are changed globally, not yet per parameter set\n"
     ]
    },
    {
     "name": "stdout",
     "output_type": "stream",
     "text": [
      "starting MatterPower  1  of  29\n",
      "neutrino_hierarchy =  normal\n",
      "zs.size:  299998\n"
     ]
    },
    {
     "name": "stderr",
     "output_type": "stream",
     "text": [
      "WARNING:root:Currently dark energy parameters are changed globally, not per parameter set\n",
      "WARNING:root:accuracy parameters are changed globally, not yet per parameter set\n"
     ]
    },
    {
     "name": "stdout",
     "output_type": "stream",
     "text": [
      "time elapsed:  67.7195599079  seconds\n",
      "time elapsed:  1.1286593318  minutes\n",
      "time elapsed:  0.0188109888633  hours\n",
      "starting MatterPower  2  of  29\n",
      "neutrino_hierarchy =  normal\n",
      "zs.size:  299998\n"
     ]
    },
    {
     "name": "stderr",
     "output_type": "stream",
     "text": [
      "WARNING:root:Currently dark energy parameters are changed globally, not per parameter set\n",
      "WARNING:root:accuracy parameters are changed globally, not yet per parameter set\n"
     ]
    },
    {
     "name": "stdout",
     "output_type": "stream",
     "text": [
      "time elapsed:  120.260839939  seconds\n",
      "time elapsed:  2.00434733232  minutes\n",
      "time elapsed:  0.033405788872  hours\n",
      "starting MatterPower  3  of  29\n",
      "neutrino_hierarchy =  normal\n",
      "zs.size:  299998\n"
     ]
    },
    {
     "name": "stderr",
     "output_type": "stream",
     "text": [
      "WARNING:root:Currently dark energy parameters are changed globally, not per parameter set\n",
      "WARNING:root:accuracy parameters are changed globally, not yet per parameter set\n"
     ]
    },
    {
     "name": "stdout",
     "output_type": "stream",
     "text": [
      "time elapsed:  181.24811697  seconds\n",
      "time elapsed:  3.0208019495  minutes\n",
      "time elapsed:  0.0503466991584  hours\n",
      "starting MatterPower  4  of  29\n",
      "neutrino_hierarchy =  normal\n",
      "zs.size:  299998\n"
     ]
    },
    {
     "name": "stderr",
     "output_type": "stream",
     "text": [
      "WARNING:root:Currently dark energy parameters are changed globally, not per parameter set\n",
      "WARNING:root:accuracy parameters are changed globally, not yet per parameter set\n"
     ]
    },
    {
     "name": "stdout",
     "output_type": "stream",
     "text": [
      "time elapsed:  233.489025831  seconds\n",
      "time elapsed:  3.89148376385  minutes\n",
      "time elapsed:  0.0648580627309  hours\n",
      "starting MatterPower  5  of  29\n",
      "neutrino_hierarchy =  normal\n",
      "zs.size:  299998\n"
     ]
    },
    {
     "name": "stderr",
     "output_type": "stream",
     "text": [
      "WARNING:root:Currently dark energy parameters are changed globally, not per parameter set\n",
      "WARNING:root:accuracy parameters are changed globally, not yet per parameter set\n"
     ]
    },
    {
     "name": "stdout",
     "output_type": "stream",
     "text": [
      "time elapsed:  286.272161961  seconds\n",
      "time elapsed:  4.77120269934  minutes\n",
      "time elapsed:  0.0795200449891  hours\n",
      "starting MatterPower  6  of  29\n",
      "neutrino_hierarchy =  normal\n",
      "zs.size:  299998\n"
     ]
    },
    {
     "name": "stderr",
     "output_type": "stream",
     "text": [
      "WARNING:root:Currently dark energy parameters are changed globally, not per parameter set\n",
      "WARNING:root:accuracy parameters are changed globally, not yet per parameter set\n"
     ]
    },
    {
     "name": "stdout",
     "output_type": "stream",
     "text": [
      "time elapsed:  353.315692902  seconds\n",
      "time elapsed:  5.88859488169  minutes\n",
      "time elapsed:  0.0981432480282  hours\n",
      "starting MatterPower  7  of  29\n",
      "neutrino_hierarchy =  normal\n",
      "zs.size:  299998\n"
     ]
    },
    {
     "name": "stderr",
     "output_type": "stream",
     "text": [
      "WARNING:root:Currently dark energy parameters are changed globally, not per parameter set\n"
     ]
    },
    {
     "name": "stdout",
     "output_type": "stream",
     "text": [
      "time elapsed:  419.538275957  seconds\n",
      "time elapsed:  6.99230459929  minutes\n",
      "time elapsed:  0.116538409988  hours\n",
      "starting MatterPower  8  of  29\n",
      "neutrino_hierarchy =  normal\n"
     ]
    },
    {
     "name": "stderr",
     "output_type": "stream",
     "text": [
      "WARNING:root:accuracy parameters are changed globally, not yet per parameter set\n"
     ]
    },
    {
     "name": "stdout",
     "output_type": "stream",
     "text": [
      "zs.size:  299998\n"
     ]
    },
    {
     "name": "stderr",
     "output_type": "stream",
     "text": [
      "WARNING:root:Currently dark energy parameters are changed globally, not per parameter set\n",
      "WARNING:root:accuracy parameters are changed globally, not yet per parameter set\n"
     ]
    },
    {
     "name": "stdout",
     "output_type": "stream",
     "text": [
      "time elapsed:  483.650837898  seconds\n",
      "time elapsed:  8.0608472983  minutes\n",
      "time elapsed:  0.134347454972  hours\n",
      "starting MatterPower  9  of  29\n",
      "neutrino_hierarchy =  normal\n",
      "zs.size:  299998\n"
     ]
    },
    {
     "name": "stderr",
     "output_type": "stream",
     "text": [
      "WARNING:root:Currently dark energy parameters are changed globally, not per parameter set\n",
      "WARNING:root:accuracy parameters are changed globally, not yet per parameter set\n"
     ]
    },
    {
     "name": "stdout",
     "output_type": "stream",
     "text": [
      "time elapsed:  542.07337904  seconds\n",
      "time elapsed:  9.03455631733  minutes\n",
      "time elapsed:  0.150575938622  hours\n",
      "starting MatterPower  10  of  29\n",
      "neutrino_hierarchy =  normal\n",
      "zs.size:  299998\n"
     ]
    },
    {
     "name": "stderr",
     "output_type": "stream",
     "text": [
      "WARNING:root:Currently dark energy parameters are changed globally, not per parameter set\n",
      "WARNING:root:accuracy parameters are changed globally, not yet per parameter set\n"
     ]
    },
    {
     "name": "stdout",
     "output_type": "stream",
     "text": [
      "time elapsed:  603.150887966  seconds\n",
      "time elapsed:  10.0525147994  minutes\n",
      "time elapsed:  0.167541913324  hours\n",
      "starting MatterPower  11  of  29\n",
      "neutrino_hierarchy =  normal\n",
      "zs.size:  299998\n"
     ]
    },
    {
     "name": "stderr",
     "output_type": "stream",
     "text": [
      "WARNING:root:Currently dark energy parameters are changed globally, not per parameter set\n",
      "WARNING:root:accuracy parameters are changed globally, not yet per parameter set\n"
     ]
    },
    {
     "name": "stdout",
     "output_type": "stream",
     "text": [
      "time elapsed:  663.32977891  seconds\n",
      "time elapsed:  11.0554963152  minutes\n",
      "time elapsed:  0.184258271919  hours\n",
      "starting MatterPower  12  of  29\n",
      "neutrino_hierarchy =  normal\n",
      "zs.size:  299998\n"
     ]
    },
    {
     "name": "stderr",
     "output_type": "stream",
     "text": [
      "WARNING:root:Currently dark energy parameters are changed globally, not per parameter set\n",
      "WARNING:root:accuracy parameters are changed globally, not yet per parameter set\n"
     ]
    },
    {
     "name": "stdout",
     "output_type": "stream",
     "text": [
      "time elapsed:  722.568444014  seconds\n",
      "time elapsed:  12.0428074002  minutes\n",
      "time elapsed:  0.20071345667  hours\n",
      "starting MatterPower  13  of  29\n",
      "neutrino_hierarchy =  normal\n",
      "zs.size:  299998\n"
     ]
    },
    {
     "name": "stderr",
     "output_type": "stream",
     "text": [
      "WARNING:root:Currently dark energy parameters are changed globally, not per parameter set\n",
      "WARNING:root:accuracy parameters are changed globally, not yet per parameter set\n"
     ]
    },
    {
     "name": "stdout",
     "output_type": "stream",
     "text": [
      "time elapsed:  778.790678978  seconds\n",
      "time elapsed:  12.9798446496  minutes\n",
      "time elapsed:  0.216330744161  hours\n",
      "starting MatterPower  14  of  29\n",
      "neutrino_hierarchy =  normal\n",
      "zs.size:  299998\n"
     ]
    },
    {
     "name": "stderr",
     "output_type": "stream",
     "text": [
      "WARNING:root:accuracy parameters are changed globally, not yet per parameter set\n"
     ]
    },
    {
     "name": "stdout",
     "output_type": "stream",
     "text": [
      "time elapsed:  833.990144968  seconds\n",
      "time elapsed:  13.8998357495  minutes\n",
      "time elapsed:  0.231663929158  hours\n",
      "starting MatterPower  15  of  29\n",
      "neutrino_hierarchy =  normal\n",
      "zs.size:  299998\n"
     ]
    },
    {
     "name": "stderr",
     "output_type": "stream",
     "text": [
      "WARNING:root:Currently dark energy parameters are changed globally, not per parameter set\n",
      "WARNING:root:accuracy parameters are changed globally, not yet per parameter set\n"
     ]
    },
    {
     "name": "stdout",
     "output_type": "stream",
     "text": [
      "time elapsed:  884.027825832  seconds\n",
      "time elapsed:  14.7337970972  minutes\n",
      "time elapsed:  0.245563284953  hours\n",
      "starting MatterPower  16  of  29\n",
      "neutrino_hierarchy =  normal\n",
      "zs.size:  299998\n"
     ]
    },
    {
     "name": "stderr",
     "output_type": "stream",
     "text": [
      "WARNING:root:Currently dark energy parameters are changed globally, not per parameter set\n",
      "WARNING:root:accuracy parameters are changed globally, not yet per parameter set\n"
     ]
    },
    {
     "name": "stdout",
     "output_type": "stream",
     "text": [
      "time elapsed:  938.889997005  seconds\n",
      "time elapsed:  15.6481666168  minutes\n",
      "time elapsed:  0.260802776946  hours\n",
      "starting MatterPower  17  of  29\n",
      "neutrino_hierarchy =  normal\n",
      "zs.size:  299998\n"
     ]
    },
    {
     "name": "stderr",
     "output_type": "stream",
     "text": [
      "WARNING:root:Currently dark energy parameters are changed globally, not per parameter set\n",
      "WARNING:root:accuracy parameters are changed globally, not yet per parameter set\n"
     ]
    },
    {
     "name": "stdout",
     "output_type": "stream",
     "text": [
      "time elapsed:  2102.24943686  seconds\n",
      "time elapsed:  35.0374906143  minutes\n",
      "time elapsed:  0.583958176904  hours\n",
      "starting MatterPower  18  of  29\n",
      "neutrino_hierarchy =  normal\n",
      "zs.size:  299998\n"
     ]
    },
    {
     "name": "stderr",
     "output_type": "stream",
     "text": [
      "WARNING:root:Currently dark energy parameters are changed globally, not per parameter set\n",
      "WARNING:root:accuracy parameters are changed globally, not yet per parameter set\n"
     ]
    },
    {
     "name": "stdout",
     "output_type": "stream",
     "text": [
      "time elapsed:  2154.38235092  seconds\n",
      "time elapsed:  35.9063725154  minutes\n",
      "time elapsed:  0.598439541923  hours\n",
      "starting MatterPower  19  of  29\n",
      "neutrino_hierarchy =  normal\n",
      "zs.size:  299998\n"
     ]
    },
    {
     "name": "stderr",
     "output_type": "stream",
     "text": [
      "WARNING:root:Currently dark energy parameters are changed globally, not per parameter set\n",
      "WARNING:root:accuracy parameters are changed globally, not yet per parameter set\n"
     ]
    },
    {
     "name": "stdout",
     "output_type": "stream",
     "text": [
      "time elapsed:  2201.43035984  seconds\n",
      "time elapsed:  36.6905059973  minutes\n",
      "time elapsed:  0.611508433289  hours\n",
      "starting MatterPower  20  of  29\n",
      "neutrino_hierarchy =  normal\n",
      "zs.size:  299998\n"
     ]
    },
    {
     "name": "stderr",
     "output_type": "stream",
     "text": [
      "WARNING:root:Currently dark energy parameters are changed globally, not per parameter set\n",
      "WARNING:root:accuracy parameters are changed globally, not yet per parameter set\n"
     ]
    },
    {
     "name": "stdout",
     "output_type": "stream",
     "text": [
      "time elapsed:  2249.17589998  seconds\n",
      "time elapsed:  37.4862649997  minutes\n",
      "time elapsed:  0.624771083328  hours\n",
      "starting MatterPower  21  of  29\n",
      "neutrino_hierarchy =  normal\n",
      "zs.size:  299998\n"
     ]
    },
    {
     "name": "stderr",
     "output_type": "stream",
     "text": [
      "WARNING:root:Currently dark energy parameters are changed globally, not per parameter set\n",
      "WARNING:root:accuracy parameters are changed globally, not yet per parameter set\n"
     ]
    },
    {
     "name": "stdout",
     "output_type": "stream",
     "text": [
      "time elapsed:  2298.31869984  seconds\n",
      "time elapsed:  38.3053116639  minutes\n",
      "time elapsed:  0.638421861066  hours\n",
      "starting MatterPower  22  of  29\n",
      "neutrino_hierarchy =  normal\n",
      "zs.size:  299998\n"
     ]
    },
    {
     "name": "stderr",
     "output_type": "stream",
     "text": [
      "WARNING:root:Currently dark energy parameters are changed globally, not per parameter set\n",
      "WARNING:root:accuracy parameters are changed globally, not yet per parameter set\n"
     ]
    },
    {
     "name": "stdout",
     "output_type": "stream",
     "text": [
      "time elapsed:  2355.19885898  seconds\n",
      "time elapsed:  39.2533143163  minutes\n",
      "time elapsed:  0.654221905271  hours\n",
      "starting MatterPower  23  of  29\n",
      "neutrino_hierarchy =  normal\n",
      "zs.size:  299998\n"
     ]
    },
    {
     "name": "stderr",
     "output_type": "stream",
     "text": [
      "WARNING:root:Currently dark energy parameters are changed globally, not per parameter set\n",
      "WARNING:root:accuracy parameters are changed globally, not yet per parameter set\n"
     ]
    },
    {
     "name": "stdout",
     "output_type": "stream",
     "text": [
      "time elapsed:  2406.01107192  seconds\n",
      "time elapsed:  40.100184532  minutes\n",
      "time elapsed:  0.668336408867  hours\n",
      "starting MatterPower  24  of  29\n",
      "neutrino_hierarchy =  normal\n",
      "zs.size:  299998\n"
     ]
    },
    {
     "name": "stderr",
     "output_type": "stream",
     "text": [
      "WARNING:root:Currently dark energy parameters are changed globally, not per parameter set\n",
      "WARNING:root:accuracy parameters are changed globally, not yet per parameter set\n"
     ]
    },
    {
     "name": "stdout",
     "output_type": "stream",
     "text": [
      "time elapsed:  2457.34832692  seconds\n",
      "time elapsed:  40.9558054487  minutes\n",
      "time elapsed:  0.682596757478  hours\n",
      "starting MatterPower  25  of  29\n",
      "neutrino_hierarchy =  normal\n",
      "zs.size:  299998\n"
     ]
    },
    {
     "name": "stderr",
     "output_type": "stream",
     "text": [
      "WARNING:root:Currently dark energy parameters are changed globally, not per parameter set\n",
      "WARNING:root:accuracy parameters are changed globally, not yet per parameter set\n"
     ]
    },
    {
     "name": "stdout",
     "output_type": "stream",
     "text": [
      "time elapsed:  2511.31366682  seconds\n",
      "time elapsed:  41.8552277803  minutes\n",
      "time elapsed:  0.697587129672  hours\n",
      "starting MatterPower  26  of  29\n",
      "neutrino_hierarchy =  normal\n",
      "zs.size:  299998\n"
     ]
    },
    {
     "name": "stderr",
     "output_type": "stream",
     "text": [
      "WARNING:root:Currently dark energy parameters are changed globally, not per parameter set\n",
      "WARNING:root:accuracy parameters are changed globally, not yet per parameter set\n"
     ]
    },
    {
     "name": "stdout",
     "output_type": "stream",
     "text": [
      "time elapsed:  2571.21256995  seconds\n",
      "time elapsed:  42.8535428325  minutes\n",
      "time elapsed:  0.714225713876  hours\n",
      "starting MatterPower  27  of  29\n",
      "neutrino_hierarchy =  normal\n",
      "zs.size:  299998\n"
     ]
    },
    {
     "name": "stderr",
     "output_type": "stream",
     "text": [
      "WARNING:root:Currently dark energy parameters are changed globally, not per parameter set\n",
      "WARNING:root:accuracy parameters are changed globally, not yet per parameter set\n"
     ]
    },
    {
     "name": "stdout",
     "output_type": "stream",
     "text": [
      "time elapsed:  2632.29954982  seconds\n",
      "time elapsed:  43.8716591636  minutes\n",
      "time elapsed:  0.731194319394  hours\n",
      "starting MatterPower  28  of  29\n",
      "neutrino_hierarchy =  normal\n",
      "zs.size:  299998\n"
     ]
    },
    {
     "name": "stderr",
     "output_type": "stream",
     "text": [
      "WARNING:root:Currently dark energy parameters are changed globally, not per parameter set\n",
      "WARNING:root:accuracy parameters are changed globally, not yet per parameter set\n"
     ]
    },
    {
     "name": "stdout",
     "output_type": "stream",
     "text": [
      "time elapsed:  2692.43549085  seconds\n",
      "time elapsed:  44.8739248474  minutes\n",
      "time elapsed:  0.747898747457  hours\n",
      "starting MatterPower  29  of  29\n",
      "neutrino_hierarchy =  normal\n",
      "zs.size:  299998\n",
      "time elapsed:  2746.84595084  seconds\n",
      "time elapsed:  45.7807658474  minutes\n",
      "time elapsed:  0.763012764123  hours\n",
      "nonlinear =  False\n",
      "neutrino_hierarchy =  normal\n"
     ]
    }
   ],
   "source": [
    "import time\n",
    "#hier = 'degenerate'\n",
    "hier = 'normal'\n",
    "#nz = 10000\n",
    "nz = 300000\n",
    "#nonlinear = True\n",
    "nonlinear = False\n",
    "AccuracyBoost = 3\n",
    "\n",
    "starttime = time.time()\n",
    "myPks2 = []\n",
    "for wNum in range(nWs):\n",
    "    print 'starting MatterPower ',wNum+1,' of ',nWs\n",
    "    myPks2.append( cp.MatterPower(nz=nz,w=myWs[wNum],nonlinear=nonlinear,AccuracyBoost=AccuracyBoost,\n",
    "                                 neutrino_hierarchy = hier) )\n",
    "\n",
    "    endtime = time.time()\n",
    "\n",
    "    print 'time elapsed: ', endtime-starttime, ' seconds'\n",
    "    print 'time elapsed: ', (endtime-starttime)/60., ' minutes'\n",
    "    print 'time elapsed: ', (endtime-starttime)/3600., ' hours'\n",
    "\n",
    "print 'nonlinear = ',nonlinear\n",
    "print 'neutrino_hierarchy = ',hier"
   ]
  },
  {
   "cell_type": "code",
   "execution_count": null,
   "metadata": {},
   "outputs": [],
   "source": []
  },
  {
   "cell_type": "code",
   "execution_count": 29,
   "metadata": {},
   "outputs": [
    {
     "name": "stdout",
     "output_type": "stream",
     "text": [
      "done\n"
     ]
    }
   ],
   "source": [
    "# get some k values to use\n",
    "nKs = 500\n",
    "myKs = np.logspace(-4,1,nKs)\n",
    "\n",
    "# get some z values\n",
    "nZs = 5\n",
    "myZs = [0.0,0.5,1.0,2.0,8.0]\n",
    "\n",
    "# evaluate P(w,z,k)\n",
    "Pwzk = np.empty((nWs,nZs,nKs))\n",
    "for wNum in range(nWs):\n",
    "    for zNum in range(nZs):\n",
    "        Pwzk[wNum,zNum] = myPks2[wNum].PK.P(zNum,myKs)\n",
    "print 'done'"
   ]
  },
  {
   "cell_type": "code",
   "execution_count": 9,
   "metadata": {},
   "outputs": [
    {
     "name": "stdout",
     "output_type": "stream",
     "text": [
      "[ 0  1  2  3  4  5  6  7  8  9 10 11 12 13 14]\n",
      "[14 15 16 17 18 19 20 21 22 23 24 25 26 27 28]\n"
     ]
    },
    {
     "data": {
      "image/png": "[encoded data removed]",
      "text/plain": [
       "<matplotlib.figure.Figure at 0x11a9bb450>"
      ]
     },
     "metadata": {},
     "output_type": "display_data"
    }
   ],
   "source": [
    "%matplotlib inline\n",
    "\n",
    "wSet1 = np.arange(15)\n",
    "wSet2 = np.arange(15)+14\n",
    "print wSet1\n",
    "print wSet2\n",
    "\n",
    "#for zNum in range(nZs):\n",
    "for zNum in range(1):\n",
    "    for wNum in wSet1:\n",
    "        plt.semilogx(myKs,Pwzk[wNum,zNum],label='w = {0}'.format(myWs[wNum]))\n",
    "    plt.title(r'$P(w,k,z)$ at $z = {0}$'.format(myZs[zNum]))\n",
    "    plt.legend()\n",
    "    plt.xlabel('k')\n",
    "    plt.show()\n"
   ]
  },
  {
   "cell_type": "code",
   "execution_count": 10,
   "metadata": {},
   "outputs": [
    {
     "name": "stdout",
     "output_type": "stream",
     "text": [
      "[-0.99  -0.995 -1.    -1.005 -1.01 ]\n"
     ]
    }
   ],
   "source": [
    "wSet3 = [4,9,14,19,24]\n",
    "print myWs[wSet3]"
   ]
  },
  {
   "cell_type": "code",
   "execution_count": 11,
   "metadata": {},
   "outputs": [
    {
     "data": {
      "image/png": "[encoded data removed]",
      "text/plain": [
       "<matplotlib.figure.Figure at 0x134688c50>"
      ]
     },
     "metadata": {},
     "output_type": "display_data"
    }
   ],
   "source": [
    "#for zNum in range(nZs):\n",
    "for zNum in range(1):\n",
    "    for wNum in wSet2:\n",
    "        plt.semilogx(myKs,Pwzk[wNum,zNum],label='w = {0}'.format(myWs[wNum]))\n",
    "    plt.title(r'$P(w,k,z)$ at $z = {0}$'.format(myZs[zNum]))\n",
    "    plt.legend()\n",
    "    plt.xlabel('k')\n",
    "    plt.show()\n"
   ]
  },
  {
   "cell_type": "code",
   "execution_count": 12,
   "metadata": {},
   "outputs": [
    {
     "data": {
      "image/png": "[encoded data removed]",
      "text/plain": [
       "<matplotlib.figure.Figure at 0x1345f4510>"
      ]
     },
     "metadata": {},
     "output_type": "display_data"
    }
   ],
   "source": [
    "#for zNum in range(nZs):\n",
    "for zNum in range(1):\n",
    "    for wNum in wSet3:\n",
    "        plt.semilogx(myKs,Pwzk[wNum,zNum],label='w = {0}'.format(myWs[wNum]))\n",
    "    plt.title(r'$P(w,k,z)$ at $z = {0}$'.format(myZs[zNum]))\n",
    "    plt.legend()\n",
    "    plt.xlabel('k')\n",
    "    plt.show()\n"
   ]
  },
  {
   "cell_type": "code",
   "execution_count": null,
   "metadata": {},
   "outputs": [],
   "source": []
  },
  {
   "cell_type": "markdown",
   "metadata": {},
   "source": [
    "# Check for convergence of $dC_\\ell / dw$ as step size $dw$ changes"
   ]
  },
  {
   "cell_type": "code",
   "execution_count": 30,
   "metadata": {},
   "outputs": [
    {
     "name": "stdout",
     "output_type": "stream",
     "text": [
      "[-0.986 -0.987 -0.988 -0.989 -0.99  -0.991 -0.992 -0.993 -0.994 -0.995\n",
      " -0.996 -0.997 -0.998 -0.999 -1.    -1.001 -1.002 -1.003 -1.004 -1.005\n",
      " -1.006 -1.007 -1.008 -1.009 -1.01  -1.011 -1.012 -1.013 -1.014]\n",
      "29\n",
      "(29, 5, 500)\n"
     ]
    }
   ],
   "source": [
    "print myWs\n",
    "print nWs\n",
    "print Pwzk.shape"
   ]
  },
  {
   "cell_type": "code",
   "execution_count": 31,
   "metadata": {},
   "outputs": [
    {
     "name": "stdout",
     "output_type": "stream",
     "text": [
      "[-0.014 -0.013 -0.012 -0.011 -0.01  -0.009 -0.008 -0.007 -0.006 -0.005\n",
      " -0.004 -0.003 -0.002 -0.001]\n"
     ]
    }
   ],
   "source": [
    "nDeltas = (nWs-1)/2\n",
    "deltaWs = np.empty(nDeltas)\n",
    "for n in range(nDeltas):\n",
    "    deltaWs[n] = (myWs[-(n+1)]-myWs[n])/2 # half the distance\n",
    "print deltaWs"
   ]
  },
  {
   "cell_type": "code",
   "execution_count": 32,
   "metadata": {},
   "outputs": [],
   "source": [
    "dPVecs = np.empty((nDeltas,nKs))\n",
    "for vecNum in range(nDeltas):\n",
    "    dPVecs[vecNum] = (Pwzk[-(vecNum+1),0,:]-Pwzk[vecNum,0,:])/(2*deltaWs[vecNum])"
   ]
  },
  {
   "cell_type": "code",
   "execution_count": 45,
   "metadata": {},
   "outputs": [
    {
     "data": {
      "image/png": "[encoded data removed]",
      "text/plain": [
       "<matplotlib.figure.Figure at 0x1394fcf10>"
      ]
     },
     "metadata": {},
     "output_type": "display_data"
    },
    {
     "data": {
      "image/png": "[encoded data removed]",
      "text/plain": [
       "<matplotlib.figure.Figure at 0x134848190>"
      ]
     },
     "metadata": {},
     "output_type": "display_data"
    },
    {
     "data": {
      "image/png": "[encoded data removed]",
      "text/plain": [
       "<matplotlib.figure.Figure at 0x11729e210>"
      ]
     },
     "metadata": {},
     "output_type": "display_data"
    }
   ],
   "source": [
    "# plot them\n",
    "% matplotlib inline\n",
    "for vecNum in range(nDeltas):\n",
    "    plt.semilogx(myKs,dPVecs[vecNum],label=deltaWs[vecNum])\n",
    "#plt.legend()\n",
    "plt.show()\n",
    "\n",
    "# plot percent differences from smallest delta-w\n",
    "for vecNum in range(nDeltas-1):\n",
    "    plt.semilogx(myKs,(dPVecs[vecNum]-dPVecs[-1])/dPVecs[-1],label=deltaWs[vecNum])\n",
    "    #plt.plot(myKs,(dPVecs[vecNum]-dPVecs[-1])/dPVecs[-1],label=deltaWs[vecNum])\n",
    "#plt.legend()\n",
    "plt.xlim((1e-4,1.2e-4))\n",
    "plt.show()\n",
    "\n",
    "for vecNum in range(nDeltas-1):\n",
    "    plt.semilogx(myKs,(dPVecs[vecNum]-dPVecs[-1])/dPVecs[-1],label=deltaWs[vecNum])\n",
    "    #plt.plot(myKs,(dPVecs[vecNum]-dPVecs[-1])/dPVecs[-1],label=deltaWs[vecNum])\n",
    "#plt.legend()\n",
    "plt.xlim((8e-4,1.1e-3))\n",
    "plt.show()\n"
   ]
  },
  {
   "cell_type": "code",
   "execution_count": null,
   "metadata": {},
   "outputs": [],
   "source": []
  },
  {
   "cell_type": "code",
   "execution_count": null,
   "metadata": {},
   "outputs": [],
   "source": []
  },
  {
   "cell_type": "code",
   "execution_count": null,
   "metadata": {},
   "outputs": [],
   "source": []
  },
  {
   "cell_type": "code",
   "execution_count": null,
   "metadata": {},
   "outputs": [],
   "source": []
  },
  {
   "cell_type": "code",
   "execution_count": null,
   "metadata": {},
   "outputs": [],
   "source": []
  },
  {
   "cell_type": "code",
   "execution_count": null,
   "metadata": {},
   "outputs": [],
   "source": []
  },
  {
   "cell_type": "code",
   "execution_count": null,
   "metadata": {},
   "outputs": [],
   "source": []
  },
  {
   "cell_type": "code",
   "execution_count": null,
   "metadata": {},
   "outputs": [],
   "source": []
  },
  {
   "cell_type": "code",
   "execution_count": null,
   "metadata": {},
   "outputs": [],
   "source": []
  },
  {
   "cell_type": "code",
   "execution_count": null,
   "metadata": {},
   "outputs": [],
   "source": []
  },
  {
   "cell_type": "code",
   "execution_count": null,
   "metadata": {},
   "outputs": [],
   "source": []
  },
  {
   "cell_type": "code",
   "execution_count": null,
   "metadata": {},
   "outputs": [],
   "source": []
  },
  {
   "cell_type": "code",
   "execution_count": null,
   "metadata": {},
   "outputs": [],
   "source": []
  },
  {
   "cell_type": "code",
   "execution_count": null,
   "metadata": {},
   "outputs": [],
   "source": []
  },
  {
   "cell_type": "code",
   "execution_count": null,
   "metadata": {},
   "outputs": [],
   "source": []
  },
  {
   "cell_type": "code",
   "execution_count": null,
   "metadata": {},
   "outputs": [],
   "source": []
  },
  {
   "cell_type": "code",
   "execution_count": null,
   "metadata": {},
   "outputs": [],
   "source": []
  },
  {
   "cell_type": "code",
   "execution_count": null,
   "metadata": {},
   "outputs": [],
   "source": []
  },
  {
   "cell_type": "markdown",
   "metadata": {},
   "source": [
    "# Do testing to see if w0, wa is working in CAMB and pycamb"
   ]
  },
  {
   "cell_type": "code",
   "execution_count": 13,
   "metadata": {},
   "outputs": [
    {
     "name": "stdout",
     "output_type": "stream",
     "text": [
      "Help on method set_dark_energy in module camb.model:\n",
      "\n",
      "set_dark_energy(self, w=-1.0, wa=0.0, sound_speed=1.0, dark_energy_model='fluid') unbound camb.model.CAMBparams method\n",
      "    Set dark energy parameters. Not that in this version these are not actually stored in\n",
      "    the CAMBparams variable but set globally. So be careful!\n",
      "    \n",
      "    :param w: w0 part of p_de/rho_de\n",
      "    \n",
      "    :param wa: wa part of p_de/rho_de in w = w0 + wa*( 1-a )\n",
      "    \n",
      "    :param sound_speed: rest-frame sound speed of dark energy fluid\n",
      "    :param dark_energy_model: model to use, default is 'fluid'\n",
      "    :return: self\n",
      "\n"
     ]
    },
    {
     "data": {
      "text/plain": [
       "<module 'crosspower' from 'crosspower.pyc'>"
      ]
     },
     "execution_count": 13,
     "metadata": {},
     "output_type": "execute_result"
    }
   ],
   "source": [
    "import camb\n",
    "help(camb.model.CAMBparams.set_dark_energy)\n",
    "reload(cp)"
   ]
  },
  {
   "cell_type": "code",
   "execution_count": 14,
   "metadata": {},
   "outputs": [
    {
     "name": "stdout",
     "output_type": "stream",
     "text": [
      "[-0.025 -0.025 -0.025  0.     0.     0.     0.025  0.025  0.025]\n"
     ]
    }
   ],
   "source": [
    "# get a set of wa values\n",
    "#myWas = np.array([-0.050,-0.025,0.000,0.025,0.050]) #version A\n",
    "#myWas = np.array([0.050,0.025,0.000,-0.025,-0.050]) #version B\n",
    "\n",
    "#myWas = np.array([-0.2,-0.1,0.0,0.1,0.2]) #version C\n",
    "#myWas = np.array([0.2,0.1,0.0,-0.1,-0.2]) #version D\n",
    "\n",
    "#myWas = np.array([-0.1,-0.1,-0.1,-0.1,-0.1]) #version E\n",
    "#myWas = np.array([0,0,0,0,0]) #version F\n",
    "\n",
    "myWas = np.array([-0.025,-0.025,-0.025,0.000,0.000,0.000,0.025,0.025,0.025]) #version AA\n",
    "#myWas = np.array([0.050,0.050,0.025,0.025,0.000,0.000,-0.025,-0.025,-0.050,-0.050]) #version BB\n",
    "\n",
    "print myWas\n",
    "nWas = myWas.size\n",
    "#plt.plot(myWas,marker='o')\n",
    "#plt.show()"
   ]
  },
  {
   "cell_type": "code",
   "execution_count": 15,
   "metadata": {},
   "outputs": [
    {
     "name": "stdout",
     "output_type": "stream",
     "text": [
      "starting MatterPower  1  of  9\n",
      "neutrino_hierarchy =  normal\n"
     ]
    },
    {
     "name": "stderr",
     "output_type": "stream",
     "text": [
      "WARNING:root:accuracy parameters are changed globally, not yet per parameter set\n"
     ]
    },
    {
     "name": "stdout",
     "output_type": "stream",
     "text": [
      "zs.size:  299998\n"
     ]
    },
    {
     "name": "stderr",
     "output_type": "stream",
     "text": [
      "WARNING:root:accuracy parameters are changed globally, not yet per parameter set\n"
     ]
    },
    {
     "name": "stdout",
     "output_type": "stream",
     "text": [
      "time elapsed:  51.0378499031  seconds\n",
      "time elapsed:  0.850630831718  minutes\n",
      "time elapsed:  0.0141771805286  hours\n",
      "starting MatterPower  2  of  9\n",
      "neutrino_hierarchy =  normal\n",
      "zs.size:  299998\n"
     ]
    },
    {
     "name": "stderr",
     "output_type": "stream",
     "text": [
      "WARNING:root:accuracy parameters are changed globally, not yet per parameter set\n"
     ]
    },
    {
     "name": "stdout",
     "output_type": "stream",
     "text": [
      "time elapsed:  120.900362015  seconds\n",
      "time elapsed:  2.01500603358  minutes\n",
      "time elapsed:  0.033583433893  hours\n",
      "starting MatterPower  3  of  9\n",
      "neutrino_hierarchy =  normal\n",
      "zs.size:  299998\n"
     ]
    },
    {
     "name": "stderr",
     "output_type": "stream",
     "text": [
      "WARNING:root:accuracy parameters are changed globally, not yet per parameter set\n"
     ]
    },
    {
     "name": "stdout",
     "output_type": "stream",
     "text": [
      "time elapsed:  188.722541809  seconds\n",
      "time elapsed:  3.14537569682  minutes\n",
      "time elapsed:  0.0524229282803  hours\n",
      "starting MatterPower  4  of  9\n",
      "neutrino_hierarchy =  normal\n",
      "zs.size:  299998\n"
     ]
    },
    {
     "name": "stderr",
     "output_type": "stream",
     "text": [
      "WARNING:root:accuracy parameters are changed globally, not yet per parameter set\n"
     ]
    },
    {
     "name": "stdout",
     "output_type": "stream",
     "text": [
      "time elapsed:  240.329668999  seconds\n",
      "time elapsed:  4.00549448331  minutes\n",
      "time elapsed:  0.0667582413885  hours\n",
      "starting MatterPower  5  of  9\n",
      "neutrino_hierarchy =  normal\n",
      "zs.size:  299998\n"
     ]
    },
    {
     "name": "stderr",
     "output_type": "stream",
     "text": [
      "WARNING:root:accuracy parameters are changed globally, not yet per parameter set\n"
     ]
    },
    {
     "name": "stdout",
     "output_type": "stream",
     "text": [
      "time elapsed:  286.054605961  seconds\n",
      "time elapsed:  4.76757676601  minutes\n",
      "time elapsed:  0.0794596127669  hours\n",
      "starting MatterPower  6  of  9\n",
      "neutrino_hierarchy =  normal\n",
      "zs.size:  299998\n"
     ]
    },
    {
     "name": "stderr",
     "output_type": "stream",
     "text": [
      "WARNING:root:accuracy parameters are changed globally, not yet per parameter set\n"
     ]
    },
    {
     "name": "stdout",
     "output_type": "stream",
     "text": [
      "time elapsed:  332.213325977  seconds\n",
      "time elapsed:  5.53688876629  minutes\n",
      "time elapsed:  0.0922814794381  hours\n",
      "starting MatterPower  7  of  9\n",
      "neutrino_hierarchy =  normal\n",
      "zs.size:  299998\n"
     ]
    },
    {
     "name": "stderr",
     "output_type": "stream",
     "text": [
      "WARNING:root:accuracy parameters are changed globally, not yet per parameter set\n"
     ]
    },
    {
     "name": "stdout",
     "output_type": "stream",
     "text": [
      "time elapsed:  383.402365923  seconds\n",
      "time elapsed:  6.39003943205  minutes\n",
      "time elapsed:  0.106500657201  hours\n",
      "starting MatterPower  8  of  9\n",
      "neutrino_hierarchy =  normal\n",
      "zs.size:  299998\n"
     ]
    },
    {
     "name": "stderr",
     "output_type": "stream",
     "text": [
      "WARNING:root:accuracy parameters are changed globally, not yet per parameter set\n"
     ]
    },
    {
     "name": "stdout",
     "output_type": "stream",
     "text": [
      "time elapsed:  434.511651039  seconds\n",
      "time elapsed:  7.24186085065  minutes\n",
      "time elapsed:  0.120697680844  hours\n",
      "starting MatterPower  9  of  9\n",
      "neutrino_hierarchy =  normal\n",
      "zs.size:  299998\n",
      "time elapsed:  485.542335987  seconds\n",
      "time elapsed:  8.09237226645  minutes\n",
      "time elapsed:  0.134872871108  hours\n",
      "nonlinear =  False\n",
      "neutrino_hierarchy =  normal\n"
     ]
    }
   ],
   "source": [
    "import time\n",
    "#hier = 'degenerate'\n",
    "hier = 'normal'\n",
    "#nz = 10000\n",
    "nz = 300000\n",
    "#nonlinear = True\n",
    "nonlinear = False\n",
    "AccuracyBoost = 3\n",
    "\n",
    "starttime = time.time()\n",
    "myPks = []\n",
    "for waNum in range(nWas):\n",
    "    print 'starting MatterPower ',waNum+1,' of ',nWas\n",
    "    reload(cp)\n",
    "    myPks.append( cp.MatterPower(nz=nz,w=-1,wa=myWas[waNum],nonlinear=nonlinear,AccuracyBoost=AccuracyBoost,\n",
    "                                 neutrino_hierarchy = hier) )\n",
    "\n",
    "    endtime = time.time()\n",
    "\n",
    "    print 'time elapsed: ', endtime-starttime, ' seconds'\n",
    "    print 'time elapsed: ', (endtime-starttime)/60., ' minutes'\n",
    "    print 'time elapsed: ', (endtime-starttime)/3600., ' hours'\n",
    "\n",
    "print 'nonlinear = ',nonlinear\n",
    "print 'neutrino_hierarchy = ',hier"
   ]
  },
  {
   "cell_type": "code",
   "execution_count": 16,
   "metadata": {},
   "outputs": [
    {
     "name": "stdout",
     "output_type": "stream",
     "text": [
      "done\n"
     ]
    }
   ],
   "source": [
    "# get some k values to use\n",
    "nKs = 500\n",
    "myKs = np.logspace(-4,1,nKs)\n",
    "\n",
    "# get some z values\n",
    "nZs = 5\n",
    "myZs = [0.0,0.5,1.0,2.0,8.0]\n",
    "\n",
    "# evaluate P(w,z,k)\n",
    "Pwzk = np.empty((nWas,nZs,nKs))\n",
    "for waNum in range(nWas):\n",
    "    for zNum in range(nZs):\n",
    "        Pwzk[waNum,zNum] = myPks[waNum].PK.P(zNum,myKs)\n",
    "print 'done'"
   ]
  },
  {
   "cell_type": "code",
   "execution_count": 17,
   "metadata": {},
   "outputs": [
    {
     "data": {
      "image/png": "[encoded data removed]",
      "text/plain": [
       "<matplotlib.figure.Figure at 0x134640290>"
      ]
     },
     "metadata": {},
     "output_type": "display_data"
    }
   ],
   "source": [
    "%matplotlib inline\n",
    "\n",
    "wSet5 = range(nWas)\n",
    "\n",
    "#for zNum in range(nZs):\n",
    "for zNum in range(1):\n",
    "    for wNum in wSet5:\n",
    "        plt.semilogx(myKs,Pwzk[wNum,zNum],label='wa = {0}'.format(myWas[wNum]))\n",
    "    plt.title(r'$P(w,k,z)$ at $z = {0}$'.format(myZs[zNum]))\n",
    "    plt.legend()\n",
    "    plt.xlabel('k')\n",
    "    #plt.ylim([75000,82000])\n",
    "    plt.show()\n"
   ]
  },
  {
   "cell_type": "code",
   "execution_count": null,
   "metadata": {},
   "outputs": [],
   "source": []
  },
  {
   "cell_type": "code",
   "execution_count": null,
   "metadata": {},
   "outputs": [],
   "source": []
  },
  {
   "cell_type": "code",
   "execution_count": null,
   "metadata": {},
   "outputs": [],
   "source": []
  },
  {
   "cell_type": "code",
   "execution_count": null,
   "metadata": {},
   "outputs": [],
   "source": []
  },
  {
   "cell_type": "code",
   "execution_count": null,
   "metadata": {},
   "outputs": [],
   "source": []
  },
  {
   "cell_type": "code",
   "execution_count": null,
   "metadata": {},
   "outputs": [],
   "source": []
  },
  {
   "cell_type": "code",
   "execution_count": null,
   "metadata": {},
   "outputs": [],
   "source": []
  },
  {
   "cell_type": "code",
   "execution_count": null,
   "metadata": {},
   "outputs": [],
   "source": []
  },
  {
   "cell_type": "code",
   "execution_count": null,
   "metadata": {},
   "outputs": [],
   "source": []
  },
  {
   "cell_type": "code",
   "execution_count": null,
   "metadata": {},
   "outputs": [],
   "source": []
  },
  {
   "cell_type": "code",
   "execution_count": null,
   "metadata": {},
   "outputs": [],
   "source": []
  },
  {
   "cell_type": "code",
   "execution_count": null,
   "metadata": {},
   "outputs": [],
   "source": []
  },
  {
   "cell_type": "code",
   "execution_count": 18,
   "metadata": {},
   "outputs": [],
   "source": [
    "#Pwzk_m01 = Pwzk.copy() # 5 times: wa=-0.1\n",
    "#Pwzk_p00 = Pwzk.copy() # 5 times: wa=0"
   ]
  },
  {
   "cell_type": "code",
   "execution_count": null,
   "metadata": {},
   "outputs": [],
   "source": []
  },
  {
   "cell_type": "code",
   "execution_count": 19,
   "metadata": {},
   "outputs": [],
   "source": [
    "# calculate a few derivatives\n",
    "#dB02 = (Pwzk[0]-Pwzk[2])/0.05\n",
    "#dA02 = (Pwzk[4]-Pwzk[2])/0.05\n",
    "\n",
    "#dB13 = (Pwzk[1]-Pwzk[3])/0.05\n",
    "#dA13 = (Pwzk[3]-Pwzk[1])/0.05\n",
    "\n",
    "#dB42 = (Pwzk[2]-Pwzk[4])/0.05\n",
    "#dA42 = (Pwzk[2]-Pwzk[0])/0.05\n",
    "\n",
    "#dD02 = (Pwzk[0]-Pwzk[2])/0.2\n",
    "#dC02 = (Pwzk[4]-Pwzk[2])/0.2\n",
    "\n",
    "#dD13 = (Pwzk[1]-Pwzk[3])/0.2\n",
    "#dC13 = (Pwzk[3]-Pwzk[1])/0.2\n",
    "\n",
    "#dD42 = (Pwzk[2]-Pwzk[4])/0.2\n",
    "#dC42 = (Pwzk[2]-Pwzk[0])/0.2\n"
   ]
  },
  {
   "cell_type": "code",
   "execution_count": null,
   "metadata": {},
   "outputs": [],
   "source": []
  },
  {
   "cell_type": "code",
   "execution_count": null,
   "metadata": {},
   "outputs": [],
   "source": []
  },
  {
   "cell_type": "code",
   "execution_count": 20,
   "metadata": {},
   "outputs": [
    {
     "ename": "NameError",
     "evalue": "name 'dA02' is not defined",
     "output_type": "error",
     "traceback": [
      "\u001b[0;31m---------------------------------------------------------------------------\u001b[0m",
      "\u001b[0;31mNameError\u001b[0m                                 Traceback (most recent call last)",
      "\u001b[0;32m<ipython-input-20-4c0b5c07ba3b>\u001b[0m in \u001b[0;36m<module>\u001b[0;34m()\u001b[0m\n\u001b[1;32m      1\u001b[0m \u001b[0mget_ipython\u001b[0m\u001b[0;34m(\u001b[0m\u001b[0;34m)\u001b[0m\u001b[0;34m.\u001b[0m\u001b[0mmagic\u001b[0m\u001b[0;34m(\u001b[0m\u001b[0;34mu'matplotlib inline'\u001b[0m\u001b[0;34m)\u001b[0m\u001b[0;34m\u001b[0m\u001b[0m\n\u001b[1;32m      2\u001b[0m \u001b[0;34m\u001b[0m\u001b[0m\n\u001b[0;32m----> 3\u001b[0;31m \u001b[0mplt\u001b[0m\u001b[0;34m.\u001b[0m\u001b[0msemilogx\u001b[0m\u001b[0;34m(\u001b[0m\u001b[0mmyKs\u001b[0m\u001b[0;34m,\u001b[0m\u001b[0mdA02\u001b[0m\u001b[0;34m[\u001b[0m\u001b[0;36m0\u001b[0m\u001b[0;34m]\u001b[0m\u001b[0;34m,\u001b[0m\u001b[0mlabel\u001b[0m\u001b[0;34m=\u001b[0m\u001b[0;34m'02'\u001b[0m\u001b[0;34m)\u001b[0m\u001b[0;34m\u001b[0m\u001b[0m\n\u001b[0m\u001b[1;32m      4\u001b[0m \u001b[0mplt\u001b[0m\u001b[0;34m.\u001b[0m\u001b[0msemilogx\u001b[0m\u001b[0;34m(\u001b[0m\u001b[0mmyKs\u001b[0m\u001b[0;34m,\u001b[0m\u001b[0mdA13\u001b[0m\u001b[0;34m[\u001b[0m\u001b[0;36m0\u001b[0m\u001b[0;34m]\u001b[0m\u001b[0;34m,\u001b[0m\u001b[0mlabel\u001b[0m\u001b[0;34m=\u001b[0m\u001b[0;34m'13'\u001b[0m\u001b[0;34m)\u001b[0m\u001b[0;34m\u001b[0m\u001b[0m\n\u001b[1;32m      5\u001b[0m \u001b[0mplt\u001b[0m\u001b[0;34m.\u001b[0m\u001b[0msemilogx\u001b[0m\u001b[0;34m(\u001b[0m\u001b[0mmyKs\u001b[0m\u001b[0;34m,\u001b[0m\u001b[0mdA42\u001b[0m\u001b[0;34m[\u001b[0m\u001b[0;36m0\u001b[0m\u001b[0;34m]\u001b[0m\u001b[0;34m,\u001b[0m\u001b[0mlabel\u001b[0m\u001b[0;34m=\u001b[0m\u001b[0;34m'42'\u001b[0m\u001b[0;34m)\u001b[0m\u001b[0;34m\u001b[0m\u001b[0m\n",
      "\u001b[0;31mNameError\u001b[0m: name 'dA02' is not defined"
     ]
    }
   ],
   "source": [
    "%matplotlib inline\n",
    "\n",
    "plt.semilogx(myKs,dA02[0],label='02')\n",
    "plt.semilogx(myKs,dA13[0],label='13')\n",
    "plt.semilogx(myKs,dA42[0],label='42')\n",
    "plt.xlabel(r'k [Mpc$^{-1}$]')\n",
    "plt.title('version A')\n",
    "plt.legend()\n",
    "plt.show()\n",
    "\n",
    "plt.semilogx(myKs,dB02[0],label='02')\n",
    "plt.semilogx(myKs,dB13[0],label='13')\n",
    "plt.semilogx(myKs,dB42[0],label='42')\n",
    "plt.xlabel(r'k [Mpc$^{-1}$]')\n",
    "plt.title('version B')\n",
    "plt.legend()\n",
    "plt.show()\n",
    "\n",
    "plt.semilogx(myKs,dC02[0],label='02')\n",
    "plt.semilogx(myKs,dC13[0],label='13')\n",
    "plt.semilogx(myKs,dC42[0],label='42')\n",
    "plt.xlabel(r'k [Mpc$^{-1}$]')\n",
    "plt.title('version C')\n",
    "plt.legend()\n",
    "plt.show()\n",
    "\n",
    "plt.semilogx(myKs,dD02[0],label='02')\n",
    "plt.semilogx(myKs,dD13[0],label='13')\n",
    "plt.semilogx(myKs,dD42[0],label='42')\n",
    "plt.xlabel(r'k [Mpc$^{-1}$]')\n",
    "plt.title('version D')\n",
    "plt.legend()\n",
    "plt.show()\n"
   ]
  },
  {
   "cell_type": "code",
   "execution_count": null,
   "metadata": {},
   "outputs": [],
   "source": [
    "plt.semilogx(myKs,dA02[0],label='02 A')\n",
    "plt.semilogx(myKs,dA13[0],label='13 A')\n",
    "\n",
    "plt.semilogx(myKs,dB13[0],label='13 B')\n",
    "plt.semilogx(myKs,dB42[0],label='42 B')\n",
    "\n",
    "plt.semilogx(myKs,dC02[0],label='02 C')\n",
    "plt.semilogx(myKs,dC13[0],label='13 C')\n",
    "\n",
    "plt.semilogx(myKs,dD13[0],label='13 D')\n",
    "plt.semilogx(myKs,dD42[0],label='42 D')\n",
    "\n",
    "\n",
    "plt.xlabel(r'k [Mpc$^{-1}$]')\n",
    "plt.title('versions A, B')\n",
    "plt.legend()\n",
    "plt.show()"
   ]
  },
  {
   "cell_type": "code",
   "execution_count": null,
   "metadata": {},
   "outputs": [],
   "source": []
  },
  {
   "cell_type": "code",
   "execution_count": null,
   "metadata": {},
   "outputs": [],
   "source": []
  },
  {
   "cell_type": "code",
   "execution_count": null,
   "metadata": {},
   "outputs": [],
   "source": []
  },
  {
   "cell_type": "code",
   "execution_count": null,
   "metadata": {},
   "outputs": [],
   "source": []
  },
  {
   "cell_type": "code",
   "execution_count": null,
   "metadata": {},
   "outputs": [],
   "source": []
  },
  {
   "cell_type": "code",
   "execution_count": null,
   "metadata": {},
   "outputs": [],
   "source": []
  }
 ],
 "metadata": {
  "kernelspec": {
   "display_name": "Python 2",
   "language": "python",
   "name": "python2"
  },
  "language_info": {
   "codemirror_mode": {
    "name": "ipython",
    "version": 2
   },
   "file_extension": ".py",
   "mimetype": "text/x-python",
   "name": "python",
   "nbconvert_exporter": "python",
   "pygments_lexer": "ipython2",
   "version": "2.7.14"
  }
 },
 "nbformat": 4,
 "nbformat_minor": 2
}
