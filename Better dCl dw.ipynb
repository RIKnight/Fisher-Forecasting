{
 "cells": [
  {
   "cell_type": "markdown",
   "metadata": {},
   "source": [
    "# Explore the affect of step size and placement in the dCl/dw numeric derivative"
   ]
  },
  {
   "cell_type": "code",
   "execution_count": 165,
   "metadata": {},
   "outputs": [],
   "source": [
    "import crosspower as cp\n",
    "import FisherCl as fcl # branch quickCl\n",
    "#import camb\n",
    "\n",
    "# set plotting to be in the notebook instead of its own qt window\n",
    "%matplotlib inline"
   ]
  },
  {
   "cell_type": "code",
   "execution_count": 166,
   "metadata": {},
   "outputs": [
    {
     "name": "stdout",
     "output_type": "stream",
     "text": [
      "[-0.95 -0.95 -0.95 -1.   -1.   -1.   -1.05 -1.05 -1.05]\n"
     ]
    }
   ],
   "source": [
    "# get a set of w values\n",
    "#myWs = -1*np.array([0.7,0.8,0.9,0.95,0.96,0.97,0.98,0.99,0.999,\n",
    "#          1,\n",
    "#          1.001,1.01,1.02,1.03,1.04,1.05,1.1,1.2,1.3])\n",
    "myWs = np.array([-0.95,-0.95,-0.95,-1.0,-1.0,-1.0,-1.05,-1.05,-1.05])\n",
    "\n",
    "# try with ns\n",
    "#myNss = np.array([0.95,0.95,0.95,0.96,0.96,0.96,0.97,0.97,0.97])\n",
    "\n",
    "print myWs\n",
    "nWs = myWs.size\n",
    "#print myNss\n",
    "#nNss = myNss.size\n",
    "\n",
    "#plt.plot(myWs,marker='o')\n",
    "#plt.show()"
   ]
  },
  {
   "cell_type": "code",
   "execution_count": 167,
   "metadata": {},
   "outputs": [
    {
     "name": "stderr",
     "output_type": "stream",
     "text": [
      "WARNING:root:Currently dark energy parameters are changed globally, not per parameter set\n"
     ]
    },
    {
     "name": "stdout",
     "output_type": "stream",
     "text": [
      "starting MatterPower  1  of  9\n",
      "neutrino_hierarchy =  normal\n"
     ]
    },
    {
     "name": "stderr",
     "output_type": "stream",
     "text": [
      "WARNING:root:accuracy parameters are changed globally, not yet per parameter set\n"
     ]
    },
    {
     "name": "stdout",
     "output_type": "stream",
     "text": [
      "zs.size:  299998\n"
     ]
    },
    {
     "name": "stderr",
     "output_type": "stream",
     "text": [
      "WARNING:root:Currently dark energy parameters are changed globally, not per parameter set\n",
      "WARNING:root:accuracy parameters are changed globally, not yet per parameter set\n"
     ]
    },
    {
     "name": "stdout",
     "output_type": "stream",
     "text": [
      "time elapsed:  73.765337944  seconds\n",
      "time elapsed:  1.22942229907  minutes\n",
      "time elapsed:  0.0204903716511  hours\n",
      "starting MatterPower  2  of  9\n",
      "neutrino_hierarchy =  normal\n",
      "zs.size:  299998\n"
     ]
    },
    {
     "name": "stderr",
     "output_type": "stream",
     "text": [
      "WARNING:root:Currently dark energy parameters are changed globally, not per parameter set\n"
     ]
    },
    {
     "name": "stdout",
     "output_type": "stream",
     "text": [
      "time elapsed:  161.089529991  seconds\n",
      "time elapsed:  2.68482549985  minutes\n",
      "time elapsed:  0.0447470916642  hours\n",
      "starting MatterPower  3  of  9\n",
      "neutrino_hierarchy =  normal\n"
     ]
    },
    {
     "name": "stderr",
     "output_type": "stream",
     "text": [
      "WARNING:root:accuracy parameters are changed globally, not yet per parameter set\n"
     ]
    },
    {
     "name": "stdout",
     "output_type": "stream",
     "text": [
      "zs.size:  299998\n"
     ]
    },
    {
     "name": "stderr",
     "output_type": "stream",
     "text": [
      "WARNING:root:accuracy parameters are changed globally, not yet per parameter set\n"
     ]
    },
    {
     "name": "stdout",
     "output_type": "stream",
     "text": [
      "time elapsed:  240.409985065  seconds\n",
      "time elapsed:  4.00683308442  minutes\n",
      "time elapsed:  0.0667805514071  hours\n",
      "starting MatterPower  4  of  9\n",
      "neutrino_hierarchy =  normal\n",
      "zs.size:  299998\n"
     ]
    },
    {
     "name": "stderr",
     "output_type": "stream",
     "text": [
      "WARNING:root:accuracy parameters are changed globally, not yet per parameter set\n"
     ]
    },
    {
     "name": "stdout",
     "output_type": "stream",
     "text": [
      "time elapsed:  311.249029875  seconds\n",
      "time elapsed:  5.18748383125  minutes\n",
      "time elapsed:  0.0864580638541  hours\n",
      "starting MatterPower  5  of  9\n",
      "neutrino_hierarchy =  normal\n",
      "zs.size:  299998\n"
     ]
    },
    {
     "name": "stderr",
     "output_type": "stream",
     "text": [
      "WARNING:root:accuracy parameters are changed globally, not yet per parameter set\n"
     ]
    },
    {
     "name": "stdout",
     "output_type": "stream",
     "text": [
      "time elapsed:  374.600220919  seconds\n",
      "time elapsed:  6.24333701531  minutes\n",
      "time elapsed:  0.104055616922  hours\n",
      "starting MatterPower  6  of  9\n",
      "neutrino_hierarchy =  normal\n",
      "zs.size:  299998\n"
     ]
    },
    {
     "name": "stderr",
     "output_type": "stream",
     "text": [
      "WARNING:root:Currently dark energy parameters are changed globally, not per parameter set\n",
      "WARNING:root:accuracy parameters are changed globally, not yet per parameter set\n"
     ]
    },
    {
     "name": "stdout",
     "output_type": "stream",
     "text": [
      "time elapsed:  445.280247927  seconds\n",
      "time elapsed:  7.42133746545  minutes\n",
      "time elapsed:  0.123688957757  hours\n",
      "starting MatterPower  7  of  9\n",
      "neutrino_hierarchy =  normal\n",
      "zs.size:  299998\n"
     ]
    },
    {
     "name": "stderr",
     "output_type": "stream",
     "text": [
      "WARNING:root:Currently dark energy parameters are changed globally, not per parameter set\n",
      "WARNING:root:accuracy parameters are changed globally, not yet per parameter set\n"
     ]
    },
    {
     "name": "stdout",
     "output_type": "stream",
     "text": [
      "time elapsed:  520.020608902  seconds\n",
      "time elapsed:  8.66701014837  minutes\n",
      "time elapsed:  0.144450169139  hours\n",
      "starting MatterPower  8  of  9\n",
      "neutrino_hierarchy =  normal\n",
      "zs.size:  299998\n"
     ]
    },
    {
     "name": "stderr",
     "output_type": "stream",
     "text": [
      "WARNING:root:Currently dark energy parameters are changed globally, not per parameter set\n",
      "WARNING:root:accuracy parameters are changed globally, not yet per parameter set\n"
     ]
    },
    {
     "name": "stdout",
     "output_type": "stream",
     "text": [
      "time elapsed:  601.98636508  seconds\n",
      "time elapsed:  10.0331060847  minutes\n",
      "time elapsed:  0.167218434744  hours\n",
      "starting MatterPower  9  of  9\n",
      "neutrino_hierarchy =  normal\n",
      "zs.size:  299998\n",
      "time elapsed:  686.888793945  seconds\n",
      "time elapsed:  11.4481465658  minutes\n",
      "time elapsed:  0.190802442763  hours\n",
      "nonlinear =  False\n",
      "neutrino_hierarchy =  normal\n"
     ]
    }
   ],
   "source": [
    "import time\n",
    "#hier = 'degenerate'\n",
    "hier = 'normal'\n",
    "#nz = 10000\n",
    "nz = 300000\n",
    "#nonlinear = True\n",
    "nonlinear = False\n",
    "AccuracyBoost = 3\n",
    "\n",
    "starttime = time.time()\n",
    "myPks = []\n",
    "for wNum in range(nWs):\n",
    "    print 'starting MatterPower ',wNum+1,' of ',nWs\n",
    "    myPks.append( cp.MatterPower(nz=nz,w=myWs[wNum],wa=0.0,nonlinear=nonlinear,AccuracyBoost=AccuracyBoost,\n",
    "                                neutrino_hierarchy = hier) )\n",
    "    #myPks.append( cp.MatterPower(nz=nz,w=-1.0,wa=0.0,nonlinear=nonlinear,AccuracyBoost=AccuracyBoost,\n",
    "    #                             neutrino_hierarchy = hier, ns=myNss[wNum]) )\n",
    "\n",
    "    endtime = time.time()\n",
    "\n",
    "    print 'time elapsed: ', endtime-starttime, ' seconds'\n",
    "    print 'time elapsed: ', (endtime-starttime)/60., ' minutes'\n",
    "    print 'time elapsed: ', (endtime-starttime)/3600., ' hours'\n",
    "\n",
    "print 'nonlinear = ',nonlinear\n",
    "print 'neutrino_hierarchy = ',hier"
   ]
  },
  {
   "cell_type": "code",
   "execution_count": 168,
   "metadata": {},
   "outputs": [
    {
     "name": "stdout",
     "output_type": "stream",
     "text": [
      "done\n"
     ]
    }
   ],
   "source": [
    "# get some k values to use\n",
    "nKs = 500\n",
    "myKs = np.logspace(-4,1,nKs)\n",
    "\n",
    "# get some z values\n",
    "nZs = 5\n",
    "myZs = [0.0,0.5,1.0,2.0,8.0]\n",
    "\n",
    "# evaluate P(w,z,k)\n",
    "Pwzk = np.empty((nWs,nZs,nKs))\n",
    "for wNum in range(nWs):\n",
    "    for zNum in range(nZs):\n",
    "        Pwzk[wNum,zNum] = myPks[wNum].PK.P(zNum,myKs)\n",
    "print 'done'"
   ]
  },
  {
   "cell_type": "code",
   "execution_count": 169,
   "metadata": {},
   "outputs": [],
   "source": [
    "%matplotlib qt\n",
    "\n",
    "wSet1 = [0,1,2,  9,  16,17,18]\n",
    "wSet2 = [3,4,5,6,7,  9,  11,12,13,14,15]\n",
    "wSet3 = [8,9,10]\n",
    "\n",
    "wSet4 = [0,1,2,3,4,5,6,7,8,9]\n",
    "wSet5 = [9,10,11,12,13,14,15,16,17,18]\n",
    "\n",
    "wSet5 = range(nWs)\n",
    "\n",
    "#for zNum in range(nZs):\n",
    "for zNum in range(1):\n",
    "    for wNum in wSet5:\n",
    "        plt.semilogx(myKs,Pwzk[wNum,zNum],label='w = {0}'.format(myWs[wNum]))\n",
    "        #plt.semilogx(myKs,Pwzk[wNum,zNum],label='ns = {0}'.format(myWs[wNum]))\n",
    "    plt.title(r'$P(w,k,z)$ at $z = {0}$'.format(myZs[zNum]))\n",
    "    #plt.title(r'$P(ns,k,z)$ at $z = {0}$'.format(myZs[zNum]))\n",
    "    plt.legend()\n",
    "    plt.xlabel('k')\n",
    "    plt.show()\n"
   ]
  },
  {
   "cell_type": "code",
   "execution_count": null,
   "metadata": {},
   "outputs": [],
   "source": []
  },
  {
   "cell_type": "code",
   "execution_count": null,
   "metadata": {},
   "outputs": [],
   "source": []
  },
  {
   "cell_type": "code",
   "execution_count": null,
   "metadata": {},
   "outputs": [],
   "source": []
  },
  {
   "cell_type": "markdown",
   "metadata": {},
   "source": [
    "# Again, with a finer grid of w values based on sigma(w) = 0.007"
   ]
  },
  {
   "cell_type": "code",
   "execution_count": null,
   "metadata": {},
   "outputs": [],
   "source": [
    "# get a set of w values\n",
    "%matplotlib inline\n",
    "myWs = -0.001*(np.arange(29)-14)-1.0\n",
    "print myWs\n",
    "nWs = myWs.size\n",
    "plt.plot(myWs,marker='o')\n",
    "plt.show()"
   ]
  },
  {
   "cell_type": "code",
   "execution_count": null,
   "metadata": {},
   "outputs": [],
   "source": [
    "import time\n",
    "#hier = 'degenerate'\n",
    "hier = 'normal'\n",
    "#nz = 10000\n",
    "nz = 300000\n",
    "#nonlinear = True\n",
    "nonlinear = False\n",
    "AccuracyBoost = 3\n",
    "\n",
    "starttime = time.time()\n",
    "myPks2 = []\n",
    "for wNum in range(nWs):\n",
    "    print 'starting MatterPower ',wNum+1,' of ',nWs\n",
    "    myPks2.append( cp.MatterPower(nz=nz,w=myWs[wNum],nonlinear=nonlinear,AccuracyBoost=AccuracyBoost,\n",
    "                                 neutrino_hierarchy = hier) )\n",
    "\n",
    "    endtime = time.time()\n",
    "\n",
    "    print 'time elapsed: ', endtime-starttime, ' seconds'\n",
    "    print 'time elapsed: ', (endtime-starttime)/60., ' minutes'\n",
    "    print 'time elapsed: ', (endtime-starttime)/3600., ' hours'\n",
    "\n",
    "print 'nonlinear = ',nonlinear\n",
    "print 'neutrino_hierarchy = ',hier"
   ]
  },
  {
   "cell_type": "code",
   "execution_count": null,
   "metadata": {},
   "outputs": [],
   "source": [
    "# get some k values to use\n",
    "nKs = 500\n",
    "myKs = np.logspace(-4,1,nKs)\n",
    "\n",
    "# get some z values\n",
    "nZs = 5\n",
    "myZs = [0.0,0.5,1.0,2.0,8.0]\n",
    "\n",
    "# evaluate P(w,z,k)\n",
    "Pwzk = np.empty((nWs,nZs,nKs))\n",
    "for wNum in range(nWs):\n",
    "    for zNum in range(nZs):\n",
    "        Pwzk[wNum,zNum] = myPks2[wNum].PK.P(zNum,myKs)\n",
    "print 'done'"
   ]
  },
  {
   "cell_type": "code",
   "execution_count": null,
   "metadata": {},
   "outputs": [],
   "source": [
    "%matplotlib notebook\n",
    "\n",
    "wSet1 = np.arange(15)\n",
    "wSet2 = np.arange(15)+14\n",
    "print wSet1\n",
    "print wSet2\n",
    "\n",
    "#for zNum in range(nZs):\n",
    "for zNum in range(1):\n",
    "    for wNum in wSet1:\n",
    "        plt.semilogx(myKs,Pwzk[wNum,zNum],label='w = {0}'.format(myWs[wNum]))\n",
    "    plt.title(r'$P(w,k,z)$ at $z = {0}$'.format(myZs[zNum]))\n",
    "    plt.legend()\n",
    "    plt.xlabel('k')\n",
    "    plt.show()\n"
   ]
  },
  {
   "cell_type": "code",
   "execution_count": null,
   "metadata": {},
   "outputs": [],
   "source": [
    "wSet3 = [4,9,14,19,24]\n",
    "print myWs[wSet3]"
   ]
  },
  {
   "cell_type": "code",
   "execution_count": null,
   "metadata": {},
   "outputs": [],
   "source": []
  },
  {
   "cell_type": "code",
   "execution_count": null,
   "metadata": {},
   "outputs": [],
   "source": []
  },
  {
   "cell_type": "code",
   "execution_count": null,
   "metadata": {},
   "outputs": [],
   "source": []
  },
  {
   "cell_type": "code",
   "execution_count": null,
   "metadata": {},
   "outputs": [],
   "source": []
  },
  {
   "cell_type": "code",
   "execution_count": null,
   "metadata": {},
   "outputs": [],
   "source": [
    "#for zNum in range(nZs):\n",
    "for zNum in range(1):\n",
    "    for wNum in wSet2:\n",
    "        plt.semilogx(myKs,Pwzk[wNum,zNum],label='w = {0}'.format(myWs[wNum]))\n",
    "    plt.title(r'$P(w,k,z)$ at $z = {0}$'.format(myZs[zNum]))\n",
    "    plt.legend()\n",
    "    plt.xlabel('k')\n",
    "    plt.show()\n"
   ]
  },
  {
   "cell_type": "code",
   "execution_count": null,
   "metadata": {},
   "outputs": [],
   "source": [
    "#for zNum in range(nZs):\n",
    "for zNum in range(1):\n",
    "    for wNum in wSet3:\n",
    "        plt.semilogx(myKs,Pwzk[wNum,zNum],label='w = {0}'.format(myWs[wNum]))\n",
    "    plt.title(r'$P(w,k,z)$ at $z = {0}$'.format(myZs[zNum]))\n",
    "    plt.legend()\n",
    "    plt.xlabel('k')\n",
    "    plt.show()\n"
   ]
  },
  {
   "cell_type": "code",
   "execution_count": null,
   "metadata": {},
   "outputs": [],
   "source": []
  },
  {
   "cell_type": "code",
   "execution_count": null,
   "metadata": {},
   "outputs": [],
   "source": []
  },
  {
   "cell_type": "code",
   "execution_count": null,
   "metadata": {},
   "outputs": [],
   "source": []
  },
  {
   "cell_type": "code",
   "execution_count": null,
   "metadata": {},
   "outputs": [],
   "source": []
  },
  {
   "cell_type": "markdown",
   "metadata": {},
   "source": [
    "# Do testing to see if w0, wa is working in CAMB and pycamb"
   ]
  },
  {
   "cell_type": "code",
   "execution_count": 12,
   "metadata": {},
   "outputs": [
    {
     "name": "stdout",
     "output_type": "stream",
     "text": [
      "Help on method set_dark_energy in module camb.model:\n",
      "\n",
      "set_dark_energy(self, w=-1.0, wa=0.0, sound_speed=1.0, dark_energy_model='fluid') unbound camb.model.CAMBparams method\n",
      "    Set dark energy parameters. Not that in this version these are not actually stored in\n",
      "    the CAMBparams variable but set globally. So be careful!\n",
      "    \n",
      "    :param w: w0 part of p_de/rho_de\n",
      "    \n",
      "    :param wa: wa part of p_de/rho_de in w = w0 + wa*( 1-a )\n",
      "    \n",
      "    :param sound_speed: rest-frame sound speed of dark energy fluid\n",
      "    :param dark_energy_model: model to use, default is 'fluid'\n",
      "    :return: self\n",
      "\n"
     ]
    },
    {
     "data": {
      "text/plain": [
       "<module 'crosspower' from 'crosspower.py'>"
      ]
     },
     "execution_count": 12,
     "metadata": {},
     "output_type": "execute_result"
    }
   ],
   "source": [
    "import camb\n",
    "help(camb.model.CAMBparams.set_dark_energy)\n",
    "reload(cp)"
   ]
  },
  {
   "cell_type": "code",
   "execution_count": 170,
   "metadata": {},
   "outputs": [
    {
     "name": "stdout",
     "output_type": "stream",
     "text": [
      "[-0.025 -0.025 -0.025  0.     0.     0.     0.025  0.025  0.025]\n"
     ]
    }
   ],
   "source": [
    "# get a set of wa values\n",
    "#myWas = np.array([-0.050,-0.025,0.000,0.025,0.050]) #version A\n",
    "#myWas = np.array([0.050,0.025,0.000,-0.025,-0.050]) #version B\n",
    "\n",
    "#myWas = np.array([-0.2,-0.1,0.0,0.1,0.2]) #version C\n",
    "#myWas = np.array([0.2,0.1,0.0,-0.1,-0.2]) #version D\n",
    "\n",
    "#myWas = np.array([-0.1,-0.1,-0.1,-0.1,-0.1]) #version E\n",
    "#myWas = np.array([0,0,0,0,0]) #version F\n",
    "\n",
    "myWas = np.array([-0.025,-0.025,-0.025,0.000,0.000,0.000,0.025,0.025,0.025]) #version AA\n",
    "#myWas = np.array([0.050,0.050,0.025,0.025,0.000,0.000,-0.025,-0.025,-0.050,-0.050]) #version BB\n",
    "\n",
    "print myWas\n",
    "nWas = myWas.size\n",
    "#plt.plot(myWas,marker='o')\n",
    "#plt.show()"
   ]
  },
  {
   "cell_type": "code",
   "execution_count": 171,
   "metadata": {},
   "outputs": [
    {
     "name": "stderr",
     "output_type": "stream",
     "text": [
      "WARNING:root:accuracy parameters are changed globally, not yet per parameter set\n"
     ]
    },
    {
     "name": "stdout",
     "output_type": "stream",
     "text": [
      "starting MatterPower  1  of  9\n",
      "neutrino_hierarchy =  normal\n",
      "zs.size:  299998\n"
     ]
    },
    {
     "name": "stderr",
     "output_type": "stream",
     "text": [
      "WARNING:root:accuracy parameters are changed globally, not yet per parameter set\n"
     ]
    },
    {
     "name": "stdout",
     "output_type": "stream",
     "text": [
      "time elapsed:  86.181224823  seconds\n",
      "time elapsed:  1.43635374705  minutes\n",
      "time elapsed:  0.0239392291175  hours\n",
      "starting MatterPower  2  of  9\n",
      "neutrino_hierarchy =  normal\n",
      "zs.size:  299998\n"
     ]
    },
    {
     "name": "stderr",
     "output_type": "stream",
     "text": [
      "WARNING:root:accuracy parameters are changed globally, not yet per parameter set\n"
     ]
    },
    {
     "name": "stdout",
     "output_type": "stream",
     "text": [
      "time elapsed:  168.965390921  seconds\n",
      "time elapsed:  2.81608984868  minutes\n",
      "time elapsed:  0.0469348308113  hours\n",
      "starting MatterPower  3  of  9\n",
      "neutrino_hierarchy =  normal\n",
      "zs.size:  299998\n"
     ]
    },
    {
     "name": "stderr",
     "output_type": "stream",
     "text": [
      "WARNING:root:accuracy parameters are changed globally, not yet per parameter set\n"
     ]
    },
    {
     "name": "stdout",
     "output_type": "stream",
     "text": [
      "time elapsed:  233.410351038  seconds\n",
      "time elapsed:  3.8901725173  minutes\n",
      "time elapsed:  0.0648362086217  hours\n",
      "starting MatterPower  4  of  9\n",
      "neutrino_hierarchy =  normal\n",
      "zs.size:  299998\n"
     ]
    },
    {
     "name": "stderr",
     "output_type": "stream",
     "text": [
      "WARNING:root:accuracy parameters are changed globally, not yet per parameter set\n"
     ]
    },
    {
     "name": "stdout",
     "output_type": "stream",
     "text": [
      "time elapsed:  287.739900827  seconds\n",
      "time elapsed:  4.79566501379  minutes\n",
      "time elapsed:  0.0799277502298  hours\n",
      "starting MatterPower  5  of  9\n",
      "neutrino_hierarchy =  normal\n",
      "zs.size:  299998\n"
     ]
    },
    {
     "name": "stderr",
     "output_type": "stream",
     "text": [
      "WARNING:root:accuracy parameters are changed globally, not yet per parameter set\n"
     ]
    },
    {
     "name": "stdout",
     "output_type": "stream",
     "text": [
      "time elapsed:  341.114048004  seconds\n",
      "time elapsed:  5.6852341334  minutes\n",
      "time elapsed:  0.0947539022234  hours\n",
      "starting MatterPower  6  of  9\n",
      "neutrino_hierarchy =  normal\n",
      "zs.size:  299998\n"
     ]
    },
    {
     "name": "stderr",
     "output_type": "stream",
     "text": [
      "WARNING:root:accuracy parameters are changed globally, not yet per parameter set\n"
     ]
    },
    {
     "name": "stdout",
     "output_type": "stream",
     "text": [
      "time elapsed:  392.764386892  seconds\n",
      "time elapsed:  6.54607311487  minutes\n",
      "time elapsed:  0.109101218581  hours\n",
      "starting MatterPower  7  of  9\n",
      "neutrino_hierarchy =  normal\n",
      "zs.size:  299998\n"
     ]
    },
    {
     "name": "stderr",
     "output_type": "stream",
     "text": [
      "WARNING:root:accuracy parameters are changed globally, not yet per parameter set\n"
     ]
    },
    {
     "name": "stdout",
     "output_type": "stream",
     "text": [
      "time elapsed:  462.055768013  seconds\n",
      "time elapsed:  7.70092946688  minutes\n",
      "time elapsed:  0.128348824448  hours\n",
      "starting MatterPower  8  of  9\n",
      "neutrino_hierarchy =  normal\n",
      "zs.size:  299998\n"
     ]
    },
    {
     "name": "stderr",
     "output_type": "stream",
     "text": [
      "WARNING:root:accuracy parameters are changed globally, not yet per parameter set\n"
     ]
    },
    {
     "name": "stdout",
     "output_type": "stream",
     "text": [
      "time elapsed:  546.687352896  seconds\n",
      "time elapsed:  9.1114558816  minutes\n",
      "time elapsed:  0.151857598027  hours\n",
      "starting MatterPower  9  of  9\n",
      "neutrino_hierarchy =  normal\n",
      "zs.size:  299998\n",
      "time elapsed:  617.762120008  seconds\n",
      "time elapsed:  10.2960353335  minutes\n",
      "time elapsed:  0.171600588891  hours\n",
      "nonlinear =  False\n",
      "neutrino_hierarchy =  normal\n"
     ]
    }
   ],
   "source": [
    "import time\n",
    "#hier = 'degenerate'\n",
    "hier = 'normal'\n",
    "#nz = 10000\n",
    "nz = 300000\n",
    "#nonlinear = True\n",
    "nonlinear = False\n",
    "AccuracyBoost = 3\n",
    "\n",
    "starttime = time.time()\n",
    "myPks = []\n",
    "for waNum in range(nWas):\n",
    "    print 'starting MatterPower ',waNum+1,' of ',nWas\n",
    "    reload(cp)\n",
    "    myPks.append( cp.MatterPower(nz=nz,w=-1,wa=myWas[waNum],nonlinear=nonlinear,AccuracyBoost=AccuracyBoost,\n",
    "                                 neutrino_hierarchy = hier) )\n",
    "\n",
    "    endtime = time.time()\n",
    "\n",
    "    print 'time elapsed: ', endtime-starttime, ' seconds'\n",
    "    print 'time elapsed: ', (endtime-starttime)/60., ' minutes'\n",
    "    print 'time elapsed: ', (endtime-starttime)/3600., ' hours'\n",
    "\n",
    "print 'nonlinear = ',nonlinear\n",
    "print 'neutrino_hierarchy = ',hier"
   ]
  },
  {
   "cell_type": "code",
   "execution_count": 172,
   "metadata": {},
   "outputs": [
    {
     "name": "stdout",
     "output_type": "stream",
     "text": [
      "done\n"
     ]
    }
   ],
   "source": [
    "# get some k values to use\n",
    "nKs = 500\n",
    "myKs = np.logspace(-4,1,nKs)\n",
    "\n",
    "# get some z values\n",
    "nZs = 5\n",
    "myZs = [0.0,0.5,1.0,2.0,8.0]\n",
    "\n",
    "# evaluate P(w,z,k)\n",
    "Pwzk = np.empty((nWas,nZs,nKs))\n",
    "for waNum in range(nWas):\n",
    "    for zNum in range(nZs):\n",
    "        Pwzk[waNum,zNum] = myPks[waNum].PK.P(zNum,myKs)\n",
    "print 'done'"
   ]
  },
  {
   "cell_type": "code",
   "execution_count": 178,
   "metadata": {},
   "outputs": [],
   "source": [
    "%matplotlib qt\n",
    "\n",
    "wSet5 = range(nWas)\n",
    "\n",
    "#for zNum in range(nZs):\n",
    "for zNum in range(1):\n",
    "    for wNum in wSet5:\n",
    "        plt.semilogx(myKs,Pwzk[wNum,zNum],label='wa = {0}'.format(myWas[wNum]))\n",
    "    plt.title(r'$P(w,k,z)$ at $z = {0}$'.format(myZs[zNum]))\n",
    "    plt.legend()\n",
    "    plt.xlabel('k')\n",
    "    #plt.ylim([75000,82000])\n",
    "    plt.show()\n"
   ]
  },
  {
   "cell_type": "code",
   "execution_count": null,
   "metadata": {},
   "outputs": [],
   "source": []
  },
  {
   "cell_type": "code",
   "execution_count": null,
   "metadata": {},
   "outputs": [],
   "source": []
  },
  {
   "cell_type": "code",
   "execution_count": null,
   "metadata": {},
   "outputs": [],
   "source": []
  },
  {
   "cell_type": "code",
   "execution_count": null,
   "metadata": {},
   "outputs": [],
   "source": []
  },
  {
   "cell_type": "code",
   "execution_count": null,
   "metadata": {},
   "outputs": [],
   "source": []
  },
  {
   "cell_type": "code",
   "execution_count": null,
   "metadata": {},
   "outputs": [],
   "source": []
  },
  {
   "cell_type": "code",
   "execution_count": null,
   "metadata": {},
   "outputs": [],
   "source": []
  },
  {
   "cell_type": "code",
   "execution_count": null,
   "metadata": {},
   "outputs": [],
   "source": []
  },
  {
   "cell_type": "code",
   "execution_count": null,
   "metadata": {},
   "outputs": [],
   "source": []
  },
  {
   "cell_type": "code",
   "execution_count": null,
   "metadata": {},
   "outputs": [],
   "source": []
  },
  {
   "cell_type": "code",
   "execution_count": null,
   "metadata": {},
   "outputs": [],
   "source": []
  },
  {
   "cell_type": "code",
   "execution_count": null,
   "metadata": {},
   "outputs": [],
   "source": []
  },
  {
   "cell_type": "code",
   "execution_count": 174,
   "metadata": {},
   "outputs": [],
   "source": [
    "#Pwzk_m01 = Pwzk.copy() # 5 times: wa=-0.1\n",
    "#Pwzk_p00 = Pwzk.copy() # 5 times: wa=0"
   ]
  },
  {
   "cell_type": "code",
   "execution_count": null,
   "metadata": {},
   "outputs": [],
   "source": []
  },
  {
   "cell_type": "code",
   "execution_count": 175,
   "metadata": {},
   "outputs": [],
   "source": [
    "# calculate a few derivatives\n",
    "#dB02 = (Pwzk[0]-Pwzk[2])/0.05\n",
    "#dA02 = (Pwzk[4]-Pwzk[2])/0.05\n",
    "\n",
    "#dB13 = (Pwzk[1]-Pwzk[3])/0.05\n",
    "#dA13 = (Pwzk[3]-Pwzk[1])/0.05\n",
    "\n",
    "#dB42 = (Pwzk[2]-Pwzk[4])/0.05\n",
    "#dA42 = (Pwzk[2]-Pwzk[0])/0.05\n",
    "\n",
    "#dD02 = (Pwzk[0]-Pwzk[2])/0.2\n",
    "#dC02 = (Pwzk[4]-Pwzk[2])/0.2\n",
    "\n",
    "#dD13 = (Pwzk[1]-Pwzk[3])/0.2\n",
    "#dC13 = (Pwzk[3]-Pwzk[1])/0.2\n",
    "\n",
    "#dD42 = (Pwzk[2]-Pwzk[4])/0.2\n",
    "#dC42 = (Pwzk[2]-Pwzk[0])/0.2\n"
   ]
  },
  {
   "cell_type": "code",
   "execution_count": null,
   "metadata": {},
   "outputs": [],
   "source": []
  },
  {
   "cell_type": "code",
   "execution_count": null,
   "metadata": {},
   "outputs": [],
   "source": []
  },
  {
   "cell_type": "code",
   "execution_count": 176,
   "metadata": {},
   "outputs": [
    {
     "data": {
      "image/png": "[encoded data removed]",
      "text/plain": [
       "<matplotlib.figure.Figure at 0x112c31650>"
      ]
     },
     "metadata": {},
     "output_type": "display_data"
    },
    {
     "data": {
      "image/png": "[encoded data removed]",
      "text/plain": [
       "<matplotlib.figure.Figure at 0x10e3b3790>"
      ]
     },
     "metadata": {},
     "output_type": "display_data"
    },
    {
     "data": {
      "image/png": "[encoded data removed]",
      "text/plain": [
       "<matplotlib.figure.Figure at 0x1226f9590>"
      ]
     },
     "metadata": {},
     "output_type": "display_data"
    },
    {
     "data": {
      "image/png": "[encoded data removed]",
      "text/plain": [
       "<matplotlib.figure.Figure at 0x112c21790>"
      ]
     },
     "metadata": {},
     "output_type": "display_data"
    }
   ],
   "source": [
    "%matplotlib inline\n",
    "\n",
    "plt.semilogx(myKs,dA02[0],label='02')\n",
    "plt.semilogx(myKs,dA13[0],label='13')\n",
    "plt.semilogx(myKs,dA42[0],label='42')\n",
    "plt.xlabel(r'k [Mpc$^{-1}$]')\n",
    "plt.title('version A')\n",
    "plt.legend()\n",
    "plt.show()\n",
    "\n",
    "plt.semilogx(myKs,dB02[0],label='02')\n",
    "plt.semilogx(myKs,dB13[0],label='13')\n",
    "plt.semilogx(myKs,dB42[0],label='42')\n",
    "plt.xlabel(r'k [Mpc$^{-1}$]')\n",
    "plt.title('version B')\n",
    "plt.legend()\n",
    "plt.show()\n",
    "\n",
    "plt.semilogx(myKs,dC02[0],label='02')\n",
    "plt.semilogx(myKs,dC13[0],label='13')\n",
    "plt.semilogx(myKs,dC42[0],label='42')\n",
    "plt.xlabel(r'k [Mpc$^{-1}$]')\n",
    "plt.title('version C')\n",
    "plt.legend()\n",
    "plt.show()\n",
    "\n",
    "plt.semilogx(myKs,dD02[0],label='02')\n",
    "plt.semilogx(myKs,dD13[0],label='13')\n",
    "plt.semilogx(myKs,dD42[0],label='42')\n",
    "plt.xlabel(r'k [Mpc$^{-1}$]')\n",
    "plt.title('version D')\n",
    "plt.legend()\n",
    "plt.show()\n"
   ]
  },
  {
   "cell_type": "code",
   "execution_count": 177,
   "metadata": {},
   "outputs": [
    {
     "data": {
      "image/png": "[encoded data removed]",
      "text/plain": [
       "<matplotlib.figure.Figure at 0x112a2bf10>"
      ]
     },
     "metadata": {},
     "output_type": "display_data"
    }
   ],
   "source": [
    "plt.semilogx(myKs,dA02[0],label='02 A')\n",
    "plt.semilogx(myKs,dA13[0],label='13 A')\n",
    "\n",
    "plt.semilogx(myKs,dB13[0],label='13 B')\n",
    "plt.semilogx(myKs,dB42[0],label='42 B')\n",
    "\n",
    "plt.semilogx(myKs,dC02[0],label='02 C')\n",
    "plt.semilogx(myKs,dC13[0],label='13 C')\n",
    "\n",
    "plt.semilogx(myKs,dD13[0],label='13 D')\n",
    "plt.semilogx(myKs,dD42[0],label='42 D')\n",
    "\n",
    "\n",
    "plt.xlabel(r'k [Mpc$^{-1}$]')\n",
    "plt.title('versions A, B')\n",
    "plt.legend()\n",
    "plt.show()"
   ]
  },
  {
   "cell_type": "code",
   "execution_count": null,
   "metadata": {},
   "outputs": [],
   "source": []
  },
  {
   "cell_type": "code",
   "execution_count": null,
   "metadata": {},
   "outputs": [],
   "source": []
  },
  {
   "cell_type": "code",
   "execution_count": null,
   "metadata": {},
   "outputs": [],
   "source": []
  },
  {
   "cell_type": "code",
   "execution_count": null,
   "metadata": {},
   "outputs": [],
   "source": []
  },
  {
   "cell_type": "code",
   "execution_count": null,
   "metadata": {},
   "outputs": [],
   "source": []
  },
  {
   "cell_type": "code",
   "execution_count": null,
   "metadata": {},
   "outputs": [],
   "source": []
  }
 ],
 "metadata": {
  "kernelspec": {
   "display_name": "Python 2",
   "language": "python",
   "name": "python2"
  },
  "language_info": {
   "codemirror_mode": {
    "name": "ipython",
    "version": 2
   },
   "file_extension": ".py",
   "mimetype": "text/x-python",
   "name": "python",
   "nbconvert_exporter": "python",
   "pygments_lexer": "ipython2",
   "version": "2.7.14"
  }
 },
 "nbformat": 4,
 "nbformat_minor": 2
}
