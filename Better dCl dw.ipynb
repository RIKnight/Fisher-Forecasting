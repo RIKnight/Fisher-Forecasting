{
 "cells": [
  {
   "cell_type": "markdown",
   "metadata": {},
   "source": [
    "# Explore the affect of step size and placement in the dCl/dw numeric derivative"
   ]
  },
  {
   "cell_type": "code",
   "execution_count": 1,
   "metadata": {},
   "outputs": [
    {
     "name": "stderr",
     "output_type": "stream",
     "text": [
      "IMPORT ERROR: /opt/local/Library/Frameworks/Python.framework/Versions/2.7/lib/python2.7/site-packages/quicklens/mpi.pyc (No module named pypar). Could not load pbs or pypar. MPI will not be used.\n"
     ]
    }
   ],
   "source": [
    "import crosspower as cp\n",
    "import FisherCl as fcl # branch quickCl\n",
    "#import camb\n",
    "\n",
    "# set plotting to be in the notebook instead of its own qt window\n",
    "%matplotlib inline"
   ]
  },
  {
   "cell_type": "code",
   "execution_count": null,
   "metadata": {},
   "outputs": [],
   "source": [
    "# get a set of w values\n",
    "myWs = -1*np.array([0.7,0.8,0.9,0.95,0.96,0.97,0.98,0.99,0.999,\n",
    "          1,\n",
    "          1.001,1.01,1.02,1.03,1.04,1.05,1.1,1.2,1.3])\n",
    "print myWs\n",
    "nWs = myWs.size\n",
    "plt.plot(myWs,marker='o')\n",
    "plt.show()"
   ]
  },
  {
   "cell_type": "code",
   "execution_count": null,
   "metadata": {},
   "outputs": [],
   "source": [
    "import time\n",
    "#hier = 'degenerate'\n",
    "hier = 'normal'\n",
    "#nz = 10000\n",
    "nz = 300000\n",
    "#nonlinear = True\n",
    "nonlinear = False\n",
    "AccuracyBoost = 3\n",
    "\n",
    "starttime = time.time()\n",
    "myPks = []\n",
    "for wNum in range(nWs):\n",
    "    print 'starting MatterPower ',wNum+1,' of ',nWs\n",
    "    myPks.append( cp.MatterPower(nz=nz,w=myWs[wNum],nonlinear=nonlinear,AccuracyBoost=AccuracyBoost,\n",
    "                                 neutrino_hierarchy = hier) )\n",
    "\n",
    "    endtime = time.time()\n",
    "\n",
    "    print 'time elapsed: ', endtime-starttime, ' seconds'\n",
    "    print 'time elapsed: ', (endtime-starttime)/60., ' minutes'\n",
    "    print 'time elapsed: ', (endtime-starttime)/3600., ' hours'\n",
    "\n",
    "print 'nonlinear = ',nonlinear\n",
    "print 'neutrino_hierarchy = ',hier"
   ]
  },
  {
   "cell_type": "code",
   "execution_count": null,
   "metadata": {},
   "outputs": [],
   "source": [
    "# get some k values to use\n",
    "nKs = 500\n",
    "myKs = np.logspace(-4,1,nKs)\n",
    "\n",
    "# get some z values\n",
    "nZs = 5\n",
    "myZs = [0.0,0.5,1.0,2.0,8.0]\n",
    "\n",
    "# evaluate P(w,z,k)\n",
    "Pwzk = np.empty((nWs,nZs,nKs))\n",
    "for wNum in range(nWs):\n",
    "    for zNum in range(nZs):\n",
    "        Pwzk[wNum,zNum] = myPks[wNum].PK.P(zNum,myKs)\n",
    "print 'done'"
   ]
  },
  {
   "cell_type": "code",
   "execution_count": null,
   "metadata": {},
   "outputs": [],
   "source": [
    "%matplotlib qt\n",
    "\n",
    "wSet1 = [0,1,2,  9,  16,17,18]\n",
    "wSet2 = [3,4,5,6,7,  9,  11,12,13,14,15]\n",
    "wSet3 = [8,9,10]\n",
    "\n",
    "wSet4 = [0,1,2,3,4,5,6,7,8,9]\n",
    "wSet5 = [9,10,11,12,13,14,15,16,17,18]\n",
    "\"\"\"\n",
    "#for zNum in range(nZs):\n",
    "for zNum in range(1):\n",
    "    for wNum in range(nWs):\n",
    "        plt.semilogx(myKs,Pwzk[wNum,zNum],label='w = {0}'.format(myWs[wNum]))\n",
    "    plt.title(r'$P(w,k,z)$ at $z = {0}$'.format(myZs[zNum]))\n",
    "    plt.legend()\n",
    "    plt.xlabel('k')\n",
    "    plt.show()\n",
    "\"\"\"\n",
    "#for zNum in range(nZs):\n",
    "for zNum in range(1):\n",
    "    for wNum in wSet5:\n",
    "        plt.semilogx(myKs,Pwzk[wNum,zNum],label='w = {0}'.format(myWs[wNum]))\n",
    "    plt.title(r'$P(w,k,z)$ at $z = {0}$'.format(myZs[zNum]))\n",
    "    plt.legend()\n",
    "    plt.xlabel('k')\n",
    "    plt.show()\n"
   ]
  },
  {
   "cell_type": "code",
   "execution_count": null,
   "metadata": {},
   "outputs": [],
   "source": []
  },
  {
   "cell_type": "markdown",
   "metadata": {},
   "source": [
    "# Again, with a finer grid of w values based on sigma(w) = 0.007"
   ]
  },
  {
   "cell_type": "code",
   "execution_count": null,
   "metadata": {},
   "outputs": [],
   "source": [
    "# get a set of w values\n",
    "%matplotlib inline\n",
    "myWs = -0.001*(np.arange(29)-14)-1.0\n",
    "print myWs\n",
    "nWs = myWs.size\n",
    "plt.plot(myWs,marker='o')\n",
    "plt.show()"
   ]
  },
  {
   "cell_type": "code",
   "execution_count": null,
   "metadata": {},
   "outputs": [],
   "source": [
    "import time\n",
    "#hier = 'degenerate'\n",
    "hier = 'normal'\n",
    "#nz = 10000\n",
    "nz = 300000\n",
    "#nonlinear = True\n",
    "nonlinear = False\n",
    "AccuracyBoost = 3\n",
    "\n",
    "starttime = time.time()\n",
    "myPks2 = []\n",
    "for wNum in range(nWs):\n",
    "    print 'starting MatterPower ',wNum+1,' of ',nWs\n",
    "    myPks2.append( cp.MatterPower(nz=nz,w=myWs[wNum],nonlinear=nonlinear,AccuracyBoost=AccuracyBoost,\n",
    "                                 neutrino_hierarchy = hier) )\n",
    "\n",
    "    endtime = time.time()\n",
    "\n",
    "    print 'time elapsed: ', endtime-starttime, ' seconds'\n",
    "    print 'time elapsed: ', (endtime-starttime)/60., ' minutes'\n",
    "    print 'time elapsed: ', (endtime-starttime)/3600., ' hours'\n",
    "\n",
    "print 'nonlinear = ',nonlinear\n",
    "print 'neutrino_hierarchy = ',hier"
   ]
  },
  {
   "cell_type": "code",
   "execution_count": null,
   "metadata": {},
   "outputs": [],
   "source": [
    "# get some k values to use\n",
    "nKs = 500\n",
    "myKs = np.logspace(-4,1,nKs)\n",
    "\n",
    "# get some z values\n",
    "nZs = 5\n",
    "myZs = [0.0,0.5,1.0,2.0,8.0]\n",
    "\n",
    "# evaluate P(w,z,k)\n",
    "Pwzk = np.empty((nWs,nZs,nKs))\n",
    "for wNum in range(nWs):\n",
    "    for zNum in range(nZs):\n",
    "        Pwzk[wNum,zNum] = myPks2[wNum].PK.P(zNum,myKs)\n",
    "print 'done'"
   ]
  },
  {
   "cell_type": "code",
   "execution_count": null,
   "metadata": {},
   "outputs": [],
   "source": [
    "%matplotlib notebook\n",
    "\n",
    "wSet1 = np.arange(15)\n",
    "wSet2 = np.arange(15)+14\n",
    "print wSet1\n",
    "print wSet2\n",
    "\n",
    "#for zNum in range(nZs):\n",
    "for zNum in range(1):\n",
    "    for wNum in wSet1:\n",
    "        plt.semilogx(myKs,Pwzk[wNum,zNum],label='w = {0}'.format(myWs[wNum]))\n",
    "    plt.title(r'$P(w,k,z)$ at $z = {0}$'.format(myZs[zNum]))\n",
    "    plt.legend()\n",
    "    plt.xlabel('k')\n",
    "    plt.show()\n"
   ]
  },
  {
   "cell_type": "code",
   "execution_count": null,
   "metadata": {},
   "outputs": [],
   "source": [
    "wSet3 = [4,9,14,19,24]\n",
    "print myWs[wSet3]"
   ]
  },
  {
   "cell_type": "code",
   "execution_count": null,
   "metadata": {},
   "outputs": [],
   "source": []
  },
  {
   "cell_type": "code",
   "execution_count": null,
   "metadata": {},
   "outputs": [],
   "source": []
  },
  {
   "cell_type": "code",
   "execution_count": null,
   "metadata": {},
   "outputs": [],
   "source": []
  },
  {
   "cell_type": "code",
   "execution_count": null,
   "metadata": {},
   "outputs": [],
   "source": []
  },
  {
   "cell_type": "code",
   "execution_count": null,
   "metadata": {},
   "outputs": [],
   "source": [
    "#for zNum in range(nZs):\n",
    "for zNum in range(1):\n",
    "    for wNum in wSet2:\n",
    "        plt.semilogx(myKs,Pwzk[wNum,zNum],label='w = {0}'.format(myWs[wNum]))\n",
    "    plt.title(r'$P(w,k,z)$ at $z = {0}$'.format(myZs[zNum]))\n",
    "    plt.legend()\n",
    "    plt.xlabel('k')\n",
    "    plt.show()\n"
   ]
  },
  {
   "cell_type": "code",
   "execution_count": null,
   "metadata": {},
   "outputs": [],
   "source": [
    "#for zNum in range(nZs):\n",
    "for zNum in range(1):\n",
    "    for wNum in wSet3:\n",
    "        plt.semilogx(myKs,Pwzk[wNum,zNum],label='w = {0}'.format(myWs[wNum]))\n",
    "    plt.title(r'$P(w,k,z)$ at $z = {0}$'.format(myZs[zNum]))\n",
    "    plt.legend()\n",
    "    plt.xlabel('k')\n",
    "    plt.show()\n"
   ]
  },
  {
   "cell_type": "code",
   "execution_count": null,
   "metadata": {},
   "outputs": [],
   "source": []
  },
  {
   "cell_type": "code",
   "execution_count": null,
   "metadata": {},
   "outputs": [],
   "source": []
  },
  {
   "cell_type": "markdown",
   "metadata": {},
   "source": [
    "# Make new dCl/dws using $\\Delta w = 0.005$"
   ]
  },
  {
   "cell_type": "code",
   "execution_count": null,
   "metadata": {},
   "outputs": [],
   "source": [
    "# get parameters for w+, w-\n",
    "# get Cl^ab for w+,w- for ab in {kk, kg1, ..., gagb,...}\n",
    "# get pars objects for w+, w-\n",
    "# get Cl^TT,ET,EE for w+,w-\n",
    "\n",
    "# calculate dCl/dw for all Cl using +,- parts\n",
    "# insert into Fobj\n"
   ]
  },
  {
   "cell_type": "code",
   "execution_count": null,
   "metadata": {},
   "outputs": [],
   "source": [
    "import crosspower as cp"
   ]
  },
  {
   "cell_type": "code",
   "execution_count": null,
   "metadata": {},
   "outputs": [],
   "source": [
    "# set cosmological parameters\n",
    "\n",
    "cosParams = {\n",
    "        'H0'    : None, #67.51, #setting H0=None allows cosmomc_theta to be used instead\n",
    "        'cosmomc_theta'           : 1.04087e-2,\n",
    "        'ombh2' : 0.02226,\n",
    "        'omch2' : 0.1193,\n",
    "        'omk'   : 0,\n",
    "        'tau'   : 0.063,\n",
    "\n",
    "        'As'    : 2.130e-9,\n",
    "        'ns'    : 0.9653,\n",
    "        'r'     : 0,\n",
    "        'kPivot': 0.05,\n",
    "    \n",
    "        'w'     : -1,\n",
    "\n",
    "        # if fiducial mnu is changed, need to adjust omch2 as well\n",
    "        'mnu'   : 0.06, # (eV)\n",
    "        #'mnu'   : 0.058, # Lloyd suggested this value for fiducial; adjust omch2 if I do use it\n",
    "        'nnu'   : 3.046,\n",
    "        'standard_neutrino_neff'  : 3.046,\n",
    "        'num_massive_neutrinos'   : 1,\n",
    "        'neutrino_hierarchy'      : 'normal'}\n",
    "\n",
    "AccuracyBoost = 3\n",
    "nonlinear = False\n"
   ]
  },
  {
   "cell_type": "code",
   "execution_count": null,
   "metadata": {
    "scrolled": true
   },
   "outputs": [],
   "source": [
    "# copy some setup from FisherCl.py\n",
    "#  modified to only calculate derivatives of one parameter: w\n",
    "import camb\n",
    "\n",
    "# to use with Fisher_7_6X.obj or similar result:\n",
    "#   in crosspower.py, set tophat to beesBins = True\n",
    "#   in crosspower.py, set getDNDZinterp to use modelDNDZ3\n",
    "\n",
    "#myParams = myPk.cosParams\n",
    "myParams = cosParams\n",
    "nz = 300000\n",
    "lmin = 2\n",
    "lmax = 3000\n",
    "lminP = lmin\n",
    "lmaxP = 5000\n",
    "\n",
    "zmin = 0\n",
    "zmax = 7\n",
    "nBins = 6\n",
    "nMaps = nBins+1\n",
    "nMapsP = 2 #T,E\n",
    "\n",
    "# use Beesbins? Need to turn on in crosspower.tophat\n",
    "dndzMode = 2\n",
    "z0 = 0.5 # for modelDNDZ3; turn on in crosspower.getDNDZinterp\n",
    "doNorm = True\n",
    "useWk = False\n",
    "BPZ = True\n",
    "binSmooth = False\n",
    "biasByBin = True\n",
    "tophatBins = True\n",
    "\n",
    "lpa = 5.0\n",
    "myClName = 'unlensed_scalar'\n",
    "\n",
    "\n",
    "# parameters list:\n",
    "nCosParams = 8 # 6 LCDM + Mnu + w\n",
    "paramList = ['ombh2','omch2','cosmomc_theta','As','ns','tau','mnu','w']\n",
    "# step sizes for discrete derivatives: must correspond to paramList entries!\n",
    "#   from Allison et. al. (2015) Table III.\n",
    "#deltaP = [0.0008,0.0030,0.0050e-2,0.1e-9,0.010,0.020,0.020] #mnu one in eV\n",
    "deltaP = [0.0008,0.0030,0.0050e-2,0.1e-9,0.010,0.020,0.020,0.005] #mnu one in eV\n",
    "\n",
    "# the same shape as in FisherCl, but I'll use only 1 parameter here\n",
    "crossClsPlus  = np.zeros((nMaps,nMaps,nCosParams,lmax-lmin+1))\n",
    "crossClsMinus = np.zeros((nMaps,nMaps,nCosParams,lmax-lmin+1))\n",
    "crossClsPPlus  = np.zeros((nMapsP,nMapsP,nCosParams,lmaxP-lminP+1))\n",
    "crossClsPMinus = np.zeros((nMapsP,nMapsP,nCosParams,lmaxP-lminP+1))\n",
    "\n",
    "\n",
    "# get more parameter sets for numeric differentiation\n",
    "print 'creating parameter sets for making discrete derivatives...'\n",
    "#for cParamNum in range(nCosParams):\n",
    "for cParamNum in [7]:\n",
    "    \n",
    "    #print 'creating matter power spectra for ',paramList[cParamNum],' derivative...'\n",
    "    print 'creating parameter set for ',paramList[cParamNum],' derivative...'\n",
    "    # add parameter dictionary to lists; HAVE TO BE COPIES!!!\n",
    "    myParamsUpper = myParams.copy()\n",
    "    myParamsLower = myParams.copy()\n",
    "    # modify parameter number cParamNum in dictionaries\n",
    "    myParamsUpper[paramList[cParamNum]] += deltaP[cParamNum]\n",
    "    myParamsLower[paramList[cParamNum]] -= deltaP[cParamNum]\n",
    "    \n",
    "    # create matter power objects and add to lists\n",
    "    myPksUpper = cp.MatterPower(nz=nz,AccuracyBoost=AccuracyBoost,nonlinear=nonlinear,\n",
    "                                     **myParamsUpper)\n",
    "    myPksLower = cp.MatterPower(nz=nz,AccuracyBoost=AccuracyBoost,nonlinear=nonlinear,\n",
    "                                     **myParamsLower)\n",
    "    # create Window objects\n",
    "    myWinsUpper = cp.Window(myPksUpper,zmin=zmin,zmax=zmax,\n",
    "                         nBins=nBins,biasK=cp.ones,biasG=cp.byeBias,\n",
    "                         dndzMode=dndzMode,z0=z0,doNorm=doNorm,useWk=useWk,\n",
    "                         BPZ=BPZ,binSmooth=binSmooth,biasByBin=biasByBin)\n",
    "    myWinsLower = cp.Window(myPksLower,zmin=zmin,zmax=zmax,\n",
    "                         nBins=nBins,biasK=cp.ones,biasG=cp.byeBias,\n",
    "                         dndzMode=dndzMode,z0=z0,doNorm=doNorm,useWk=useWk,\n",
    "                         BPZ=BPZ,binSmooth=binSmooth,biasByBin=biasByBin)\n",
    "    \n",
    "    for map1 in range(nMaps):\n",
    "      if map1==0:\n",
    "        cor1 = cp.Window.kappa\n",
    "      else:\n",
    "        cor1 = cp.Window.galaxies\n",
    "      for map2 in range(map1,nMaps):\n",
    "        print '  starting angular cross power spectrum ',map1,', ',map2,'... '\n",
    "        if map2==0:\n",
    "          cor2 = cp.Window.kappa\n",
    "        else:\n",
    "          cor2 = cp.Window.galaxies\n",
    "        # since nonoverlapping bins have zero correlation use this condition:\n",
    "        #if map1==0 or map1==map2 or not tophatBins:\n",
    "        if map1!=0 and map1==map2 or not tophatBins:\n",
    "\n",
    "          ells,Cls = cp.getCl(myPksUpper,myWinsUpper,\n",
    "                              binNum1=map1,binNum2=map2,\n",
    "                              cor1=cor1,cor2=cor2,lmin=lmin,lmax=lmax)\n",
    "          crossClsPlus[map1,map2,cParamNum] = Cls\n",
    "          crossClsPlus[map2,map1,cParamNum] = Cls #symmetric\n",
    "          \n",
    "          ells,Cls = cp.getCl(myPksLower,myWinsLower,\n",
    "                              binNum1=map1,binNum2=map2,\n",
    "                              cor1=cor1,cor2=cor2,lmin=lmin,lmax=lmax)\n",
    "          crossClsMinus[map1,map2,cParamNum] = Cls\n",
    "          crossClsMinus[map2,map1,cParamNum] = Cls #symmetric\n",
    "    \n",
    "\n",
    "    print 'getting Primary CMB Cl power spectra for parameter ', \\\n",
    "          paramList[cParamNum]\n",
    "    parsUpper = myPksUpper.pars\n",
    "    parsLower = myPksLower.pars\n",
    "    parsUpper.set_for_lmax(lmaxP, lens_potential_accuracy=lpa)\n",
    "    parsLower.set_for_lmax(lmaxP, lens_potential_accuracy=lpa)\n",
    "    parsUpper.set_accuracy(AccuracyBoost=AccuracyBoost)\n",
    "    parsLower.set_accuracy(AccuracyBoost=AccuracyBoost)\n",
    "\n",
    "\n",
    "    #calculate results for these parameters\n",
    "    resultsUpper = camb.get_results(parsUpper)\n",
    "    resultsLower = camb.get_results(parsLower)\n",
    "\n",
    "    #get dictionary of CAMB power spectra\n",
    "    powersUpper =resultsUpper.get_cmb_power_spectra(parsUpper)\n",
    "    powersLower =resultsLower.get_cmb_power_spectra(parsLower)\n",
    "\n",
    "    #get the selected power spectra\n",
    "    myClUpper=powersUpper[myClName]\n",
    "    myClLower=powersLower[myClName]\n",
    "\n",
    "    #store them\n",
    "    crossClsPPlus[0,0,cParamNum]  = myClUpper[lminP:lmaxP+1,0] # TT\n",
    "    crossClsPPlus[0,1,cParamNum]  = myClUpper[lminP:lmaxP+1,3] # TE\n",
    "    crossClsPPlus[1,0,cParamNum]  = myClUpper[lminP:lmaxP+1,3] # ET\n",
    "    crossClsPPlus[1,1,cParamNum]  = myClUpper[lminP:lmaxP+1,1] # EE\n",
    "\n",
    "    crossClsPMinus[0,0,cParamNum] = myClLower[lminP:lmaxP+1,0] # TT\n",
    "    crossClsPMinus[0,1,cParamNum] = myClLower[lminP:lmaxP+1,3] # TE\n",
    "    crossClsPMinus[1,0,cParamNum] = myClLower[lminP:lmaxP+1,3] # ET\n",
    "    crossClsPMinus[1,1,cParamNum] = myClLower[lminP:lmaxP+1,1] # EE\n",
    "\n",
    "\n",
    "    \n",
    "    # ditch the MatterPower and Window objects\n",
    "    del myPksUpper\n",
    "    del myPksLower\n",
    "    del myWinsUpper\n",
    "    del myWinsLower\n",
    "\n",
    "print 'done'\n"
   ]
  },
  {
   "cell_type": "code",
   "execution_count": null,
   "metadata": {},
   "outputs": [],
   "source": []
  },
  {
   "cell_type": "code",
   "execution_count": null,
   "metadata": {
    "scrolled": true
   },
   "outputs": [],
   "source": [
    "# assemble derivative vectors\n",
    "nCls = nMaps*(nMaps+1)/2\n",
    "nClsP = nMapsP*(nMapsP+1)/2\n",
    "dClVecs = np.empty((nCls,1,lmax-lmin+1))\n",
    "dClVecsP = np.empty((nClsP,1,lmaxP-lminP+1))\n",
    "Clzeros = np.zeros(lmax-lmin+1) # for putting into dClVecs when needed\n",
    "\n",
    "# get derivatives wrt parameters\n",
    "print 'starting creation of C_l derivatives... '\n",
    "for map1 in range(nMaps):\n",
    "  print 'starting derivative set ',map1+1,' of ',nMaps,'... '\n",
    "  for map2 in range(map1,nMaps):\n",
    "    mapIdx  = map1*nMaps+map2 -map1*(map1+1)/2  \n",
    "                               \n",
    "    # do numerical derivs wrt nuLCDM params\n",
    "    #for pIdx in range(nCosParams):\n",
    "    for pIdx in [7]:\n",
    "        dClPlus  = crossClsPlus[map1,map2,pIdx]\n",
    "        dClMinus = crossClsMinus[map1,map2,pIdx]\n",
    "        dClVecs[mapIdx, 0] = (dClPlus-dClMinus)/(2*deltaP[pIdx])\n",
    "\n",
    "for map1 in range(nMapsP):\n",
    "  print 'starting derivative set ',map1+1,' of ',nMapsP,'... '\n",
    "  for map2 in range(map1,nMapsP):\n",
    "    mapIdx  = map1*nMapsP+map2 -map1*(map1+1)/2  \n",
    "    for pIdx in [7]:\n",
    "        # do the primary CMB component\n",
    "        dClPlus  = crossClsPPlus[map1,map2,pIdx]\n",
    "        dClMinus = crossClsPMinus[map1,map2,pIdx]\n",
    "        dClVecsP[mapIdx, 0] = (dClPlus-dClMinus)/(2*deltaP[pIdx])\n",
    "        \n",
    "print 'done'"
   ]
  },
  {
   "cell_type": "code",
   "execution_count": null,
   "metadata": {},
   "outputs": [],
   "source": [
    "# load Fobj to insert these into\n",
    "import FisherCl as fcl\n",
    "import crosspower as cp\n",
    "import pickle\n",
    "\n",
    "filehandler = open('Fisher_7_6X.obj','r') # AccuracyBoost=3, lmax=2000, nz=3e5; nonlinear=False,\n",
    "#neutrino_hierarchy = 'normal', usePrimaryCMB = False; from FisherCl branch quickCl\n",
    "# kludge for this one: told cp.getDNDZinterp to use modelDNDZ3; set cp.tophat beesBins=True\n",
    "\n",
    "Fobj2 = pickle.load(filehandler) \n",
    "\n",
    "\n",
    "lmin2 = Fobj2.lmin\n",
    "lmax2 = Fobj2.lmax\n",
    "nMaps2 = Fobj2.nBins + 1\n",
    "nCosParams2 = Fobj2.nParams - Fobj2.nBins\n",
    "ells2 = Fobj2.ells\n",
    "obsNames2 = Fobj2.obsNames\n",
    "paramList2 = Fobj2.paramList\n",
    "\n",
    "print Fobj2.obsList\n",
    "print Fobj2.obsNames\n",
    "print Fobj2.paramList\n",
    "\n",
    "print Fobj2.Fij.shape\n",
    "#print Fobj2.FijTE.shape\n",
    "print Fobj2.nParams\n",
    "#print Fobj2.nCosParams\n",
    "\n",
    "crossCls2 = Fobj2.crossCls\n",
    "print crossCls2.shape"
   ]
  },
  {
   "cell_type": "code",
   "execution_count": null,
   "metadata": {},
   "outputs": [],
   "source": [
    "#print Fobj2.dClVecs\n",
    "print Fobj2.dClVecs.shape"
   ]
  },
  {
   "cell_type": "code",
   "execution_count": null,
   "metadata": {},
   "outputs": [],
   "source": []
  },
  {
   "cell_type": "code",
   "execution_count": null,
   "metadata": {},
   "outputs": [],
   "source": []
  },
  {
   "cell_type": "code",
   "execution_count": null,
   "metadata": {},
   "outputs": [],
   "source": []
  },
  {
   "cell_type": "code",
   "execution_count": null,
   "metadata": {},
   "outputs": [],
   "source": []
  },
  {
   "cell_type": "code",
   "execution_count": null,
   "metadata": {},
   "outputs": [],
   "source": [
    "# get sigmas to compare against\n",
    "getSigmas = lambda Fij: np.sqrt(np.diag(np.linalg.inv(Fij)))\n",
    "sigmas = getSigmas(Fobj2.Fij)\n",
    "#sigmasTE = getSigmas(Fobj2.FijTE)\n",
    "print sigmas\n",
    "#print sigmasTE"
   ]
  },
  {
   "cell_type": "code",
   "execution_count": null,
   "metadata": {},
   "outputs": [],
   "source": [
    "print dClVecs[0,0]\n",
    "print dClVecs.shape"
   ]
  },
  {
   "cell_type": "code",
   "execution_count": null,
   "metadata": {},
   "outputs": [],
   "source": [
    "print dClVecs[:,0,:1999]"
   ]
  },
  {
   "cell_type": "code",
   "execution_count": null,
   "metadata": {},
   "outputs": [],
   "source": [
    "print Fobj2.dClVecs[:,7]"
   ]
  },
  {
   "cell_type": "code",
   "execution_count": null,
   "metadata": {},
   "outputs": [],
   "source": []
  },
  {
   "cell_type": "code",
   "execution_count": null,
   "metadata": {},
   "outputs": [],
   "source": []
  },
  {
   "cell_type": "code",
   "execution_count": null,
   "metadata": {},
   "outputs": [],
   "source": []
  },
  {
   "cell_type": "code",
   "execution_count": null,
   "metadata": {},
   "outputs": [],
   "source": [
    "# insert\n",
    "Fobj2.dClVecs[:,7] = dClVecs[:,0,:1999]\n",
    "#Fobj2.dClVecsP[:,7] = dClVecsP # the Fobj that I used has no TE!\n",
    "Fobj2.dClVecsP = dClVecsP\n",
    "Fobj2.Fij = Fobj2.makeFisher(lmin,2000)#lmax)\n",
    "#Fobj2.FijTE = Fobj2.makeFisher(lminP,lmaxP,TE=True)\n",
    "\n",
    "# get sigmas to compare against\n",
    "sigmas2 = getSigmas(Fobj2.Fij)\n",
    "#sigmasTE2 = getSigmas(Fob2.FijTE)\n",
    "print sigmas2\n",
    "#print sigmasTE2"
   ]
  },
  {
   "cell_type": "code",
   "execution_count": null,
   "metadata": {},
   "outputs": [],
   "source": [
    "print Fobj2.dClVecs"
   ]
  },
  {
   "cell_type": "code",
   "execution_count": null,
   "metadata": {},
   "outputs": [],
   "source": []
  },
  {
   "cell_type": "code",
   "execution_count": null,
   "metadata": {},
   "outputs": [],
   "source": []
  },
  {
   "cell_type": "code",
   "execution_count": null,
   "metadata": {},
   "outputs": [],
   "source": []
  },
  {
   "cell_type": "code",
   "execution_count": null,
   "metadata": {},
   "outputs": [],
   "source": []
  },
  {
   "cell_type": "code",
   "execution_count": null,
   "metadata": {},
   "outputs": [],
   "source": []
  },
  {
   "cell_type": "code",
   "execution_count": null,
   "metadata": {},
   "outputs": [],
   "source": [
    "# This isn't working.  Abort and trash this process.\n"
   ]
  },
  {
   "cell_type": "code",
   "execution_count": null,
   "metadata": {},
   "outputs": [],
   "source": [
    "# save new Fobj\n",
    "import pickle\n",
    "\n",
    "filehandler = open('Fisher_7_6X_w2.obj','w') # AccuracyBoost=3, lmax=2000, nz=3e5; nonlinear=False,\n",
    "#neutrino_hierarchy = 'normal', usePrimaryCMB = False; from FisherCl branch quickCl\n",
    "# kludge for this one: told cp.getDNDZinterp to use modelDNDZ3; set cp.tophat beesBins=True\n",
    "# w2 indicates that this is the second dw value used for this Fobj\n",
    "\n",
    "pickle.dump(Fobj,filehandler)\n",
    "filehandler.close()\n",
    "\n",
    "print 'done'"
   ]
  },
  {
   "cell_type": "code",
   "execution_count": null,
   "metadata": {},
   "outputs": [],
   "source": []
  },
  {
   "cell_type": "code",
   "execution_count": null,
   "metadata": {},
   "outputs": [],
   "source": [
    "print dClVecsP.shape"
   ]
  },
  {
   "cell_type": "code",
   "execution_count": null,
   "metadata": {},
   "outputs": [],
   "source": [
    "%matplotlib inline\n",
    "for n in range(3):\n",
    "  plt.plot(np.arange(4999),dClVecsP[n,0])\n",
    "plt.show()"
   ]
  },
  {
   "cell_type": "code",
   "execution_count": null,
   "metadata": {},
   "outputs": [],
   "source": []
  },
  {
   "cell_type": "code",
   "execution_count": null,
   "metadata": {},
   "outputs": [],
   "source": []
  },
  {
   "cell_type": "markdown",
   "metadata": {},
   "source": [
    "# Do testing to see if w0, wa is working in CAMB and pycamb"
   ]
  },
  {
   "cell_type": "code",
   "execution_count": 5,
   "metadata": {},
   "outputs": [
    {
     "name": "stdout",
     "output_type": "stream",
     "text": [
      "Help on method set_dark_energy in module camb.model:\n",
      "\n",
      "set_dark_energy(self, w=-1.0, wa=0.0, sound_speed=1.0, dark_energy_model='fluid') unbound camb.model.CAMBparams method\n",
      "    Set dark energy parameters. Not that in this version these are not actually stored in\n",
      "    the CAMBparams variable but set globally. So be careful!\n",
      "    \n",
      "    :param w: w0 part of p_de/rho_de\n",
      "    \n",
      "    :param wa: wa part of p_de/rho_de in w = w0 + wa*( 1-a )\n",
      "    \n",
      "    :param sound_speed: rest-frame sound speed of dark energy fluid\n",
      "    :param dark_energy_model: model to use, default is 'fluid'\n",
      "    :return: self\n",
      "\n"
     ]
    }
   ],
   "source": [
    "import camb\n",
    "help(camb.model.CAMBparams.set_dark_energy)"
   ]
  },
  {
   "cell_type": "code",
   "execution_count": null,
   "metadata": {},
   "outputs": [],
   "source": []
  },
  {
   "cell_type": "code",
   "execution_count": null,
   "metadata": {},
   "outputs": [],
   "source": []
  },
  {
   "cell_type": "code",
   "execution_count": null,
   "metadata": {},
   "outputs": [],
   "source": []
  },
  {
   "cell_type": "code",
   "execution_count": null,
   "metadata": {},
   "outputs": [],
   "source": []
  },
  {
   "cell_type": "code",
   "execution_count": null,
   "metadata": {},
   "outputs": [],
   "source": []
  },
  {
   "cell_type": "code",
   "execution_count": null,
   "metadata": {},
   "outputs": [],
   "source": []
  },
  {
   "cell_type": "code",
   "execution_count": null,
   "metadata": {},
   "outputs": [],
   "source": []
  },
  {
   "cell_type": "code",
   "execution_count": null,
   "metadata": {},
   "outputs": [],
   "source": []
  },
  {
   "cell_type": "code",
   "execution_count": null,
   "metadata": {},
   "outputs": [],
   "source": []
  }
 ],
 "metadata": {
  "kernelspec": {
   "display_name": "Python 2",
   "language": "python",
   "name": "python2"
  },
  "language_info": {
   "codemirror_mode": {
    "name": "ipython",
    "version": 2
   },
   "file_extension": ".py",
   "mimetype": "text/x-python",
   "name": "python",
   "nbconvert_exporter": "python",
   "pygments_lexer": "ipython2",
   "version": "2.7.14"
  }
 },
 "nbformat": 4,
 "nbformat_minor": 2
}
