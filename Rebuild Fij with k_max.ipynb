{
 "cells": [
  {
   "cell_type": "markdown",
   "metadata": {},
   "source": [
    "# Make a FisherMatrix object that was only limited by l_max also have a k_max limit"
   ]
  },
  {
   "cell_type": "code",
   "execution_count": 423,
   "metadata": {},
   "outputs": [],
   "source": [
    "import crosspower as cp\n",
    "import FisherCl as fcl # branch quickCl\n",
    "#import noiseCl as ncl\n",
    "#import camb\n",
    "\n",
    "# set plotting to be in the notebook instead of its own qt window\n",
    "%matplotlib inline"
   ]
  },
  {
   "cell_type": "markdown",
   "metadata": {},
   "source": [
    "# Load a k,g + T,E Fisher Object with noise"
   ]
  },
  {
   "cell_type": "code",
   "execution_count": 424,
   "metadata": {},
   "outputs": [
    {
     "name": "stdout",
     "output_type": "stream",
     "text": [
      "[ 0.  1.  2.  3.  4.  5.  6.  8.  9. 10. 11. 12. 13. 16. 17. 18. 19. 20.\n",
      " 24. 25. 26. 27. 32. 33. 34. 40. 41. 48.]\n",
      "['k,k', 'k,g1', 'k,g2', 'k,g3', 'k,g4', 'k,g5', 'k,g6', 'g1,g1', 'g1,g2', 'g1,g3', 'g1,g4', 'g1,g5', 'g1,g6', 'g2,g2', 'g2,g3', 'g2,g4', 'g2,g5', 'g2,g6', 'g3,g3', 'g3,g4', 'g3,g5', 'g3,g6', 'g4,g4', 'g4,g5', 'g4,g6', 'g5,g5', 'g5,g6', 'g6,g6']\n",
      "['ombh2', 'omch2', 'cosmomc_theta', 'As', 'ns', 'tau', 'mnu', 'wa', 'w', 'bin1', 'bin2', 'bin3', 'bin4', 'bin5', 'bin6']\n",
      "(15, 15)\n",
      "(9, 9)\n",
      "15\n",
      "9\n"
     ]
    }
   ],
   "source": [
    "# load saved Fobj\n",
    "# get lensing and galaxy Fisher matrix to add\n",
    "\n",
    "import FisherCl as fcl\n",
    "import noiseCl as ncl\n",
    "import crosspower as cp\n",
    "import pickle\n",
    "\n",
    "filehandler = open('Fisher_7_6A.obj','r') # AccuracyBoost=3, lmax=3000, lmaxP=5000, nz=3e5; nonlinear=True,\n",
    "#neutrino_hierarchy = 'normal', usePrimaryCMB = True; from FisherCl branch quickCl\n",
    "# kludge for this one: told cp.getDNDZinterp to use modelDNDZ3; set cp.tophat beesBins=True\n",
    "# biasByBin = False (uses sigma(b)/b), dw = 0.05, useNoise = True\n",
    "\n",
    "#filehandler = open('Fisher_7_6X4_w2_wan.obj','r') # AccuracyBoost=3, lmax=3000, lmaxP=5000, nz=3e5; nonlinear=False,\n",
    "#filehandler = open('Fisher_7_6X4_w2n.obj','r') # AccuracyBoost=3, lmax=3000, lmaxP=5000, nz=3e5; nonlinear=False,\n",
    "#filehandler = open('Fisher_7_6X4n.obj','r') # AccuracyBoost=3, lmax=3000, lmaxP=5000, nz=3e5; nonlinear=False,\n",
    "#neutrino_hierarchy = 'normal', usePrimaryCMB = True; from FisherCl branch quickCl\n",
    "# kludge for this one: told cp.getDNDZinterp to use modelDNDZ3; set cp.tophat beesBins=True\n",
    "# biasByBin = False (uses sigma(b)/b), dw = 0.005; X2n version has noise included\n",
    "\n",
    "#filehandler = open('Fisher_7_6X2_w2_wan.obj','r') # AccuracyBoost=3, lmax=3000, lmaxP=5000, nz=3e5; nonlinear=True,\n",
    "#filehandler = open('Fisher_7_6X2_w2n.obj','r') # AccuracyBoost=3, lmax=3000, lmaxP=5000, nz=3e5; nonlinear=True,\n",
    "#filehandler = open('Fisher_7_6X2n.obj','r') # AccuracyBoost=3, lmax=3000, lmaxP=5000, nz=3e5; nonlinear=True,\n",
    "#neutrino_hierarchy = 'normal', usePrimaryCMB = True; from FisherCl branch quickCl\n",
    "# kludge for this one: told cp.getDNDZinterp to use modelDNDZ3; set cp.tophat beesBins=True\n",
    "# biasByBin = False (uses sigma(b)/b), dw = 0.005; X2n version has noise included\n",
    "\n",
    "#filehandler = open('Fisher_7_6X.obj','r') # AccuracyBoost=3, lmax=2000, nz=3e5; nonlinear=False,\n",
    "#neutrino_hierarchy = 'normal', usePrimaryCMB = False; from FisherCl branch quickCl\n",
    "# kludge for this one: told cp.getDNDZinterp to use modelDNDZ3; set cp.tophat beesBins=True\n",
    "\n",
    "Fobj = pickle.load(filehandler) \n",
    "\n",
    "\n",
    "lmin = Fobj.lmin\n",
    "lmax = Fobj.lmax\n",
    "nBins = Fobj.nBins\n",
    "nMaps = Fobj.nBins + 1\n",
    "nParams = Fobj.nParams\n",
    "nCosParams = Fobj.nParams - Fobj.nBins\n",
    "ells = Fobj.ells\n",
    "obsNames = Fobj.obsNames\n",
    "paramList = Fobj.paramList\n",
    "\n",
    "print Fobj.obsList\n",
    "print Fobj.obsNames\n",
    "print Fobj.paramList\n",
    "\n",
    "print Fobj.Fij.shape\n",
    "print Fobj.FijTE.shape\n",
    "print Fobj.nParams\n",
    "print Fobj.nCosParams\n",
    "\n",
    "#FijTE0 = Fobj.FijTE\n",
    "#invCovP = Fobj.invCovP"
   ]
  },
  {
   "cell_type": "code",
   "execution_count": 425,
   "metadata": {},
   "outputs": [],
   "source": [
    "#limit lmax for k,g summation\n",
    "lmax = 2000"
   ]
  },
  {
   "cell_type": "code",
   "execution_count": null,
   "metadata": {},
   "outputs": [],
   "source": []
  },
  {
   "cell_type": "markdown",
   "metadata": {},
   "source": [
    "# Create $\\chi(z)$ and $\\ell_{max}(k_{max})$ functions"
   ]
  },
  {
   "cell_type": "code",
   "execution_count": 426,
   "metadata": {},
   "outputs": [
    {
     "name": "stderr",
     "output_type": "stream",
     "text": [
      "WARNING:root:accuracy parameters are changed globally, not yet per parameter set\n"
     ]
    },
    {
     "name": "stdout",
     "output_type": "stream",
     "text": [
      "neutrino_hierarchy =  normal\n",
      "zs.size:  299998\n",
      "done\n"
     ]
    }
   ],
   "source": [
    "# MatterPower has a getChiOfZ function, but MatterPower object has been stripped from saved Fobj\n",
    "# get params for MatterPower from FisherMatrix:\n",
    "myPk = cp.MatterPower(nz=Fobj.nz,AccuracyBoost=Fobj.AccuracyBoost,nonlinear=Fobj.nonlinear,**Fobj.cosParams)\n",
    "chiOfZ = myPk.getChiofZ()\n",
    "\n",
    "print 'done'"
   ]
  },
  {
   "cell_type": "code",
   "execution_count": 427,
   "metadata": {},
   "outputs": [
    {
     "name": "stdout",
     "output_type": "stream",
     "text": [
      "redshift of bin edges:  [0.0, 0.5, 1.0, 2.0, 3.0, 4.0, 7.0]\n",
      "Chi of bin edges:  [   0.         1950.44919184 3401.79011296 5316.35644135 6513.17408877\n",
      " 7341.61486127 8822.44869176]\n"
     ]
    }
   ],
   "source": [
    "# define bin edges\n",
    "# the selection of beesBins must be consistent with that which was selected in cp.tophat\n",
    "beesBins = True\n",
    "if beesBins:\n",
    "    binEdges = [0.0,0.5,1.0,2.0,3.0,4.0,7.0]\n",
    "else:\n",
    "    binEdges = np.linspace(Fobj.zmin,Fobj.zmax,Fobj.nBins+1)\n",
    "print 'redshift of bin edges: ',binEdges\n",
    "print 'Chi of bin edges: ',chiOfZ(binEdges)"
   ]
  },
  {
   "cell_type": "code",
   "execution_count": 428,
   "metadata": {},
   "outputs": [
    {
     "name": "stdout",
     "output_type": "stream",
     "text": [
      "kmax = 0.1: lmax =  [ -1 194 339 531 650 733 881]\n",
      "kmax = 0.2: lmax =  [  -1  389  679 1062 1302 1467 1763]\n"
     ]
    }
   ],
   "source": [
    "# create lmax function via the Limber approximation\n",
    "myLmax = lambda kmax: np.floor(kmax*chiOfZ(binEdges)-0.5).astype(int)\n",
    "\n",
    "print 'kmax = 0.1: lmax = ',myLmax(0.1)\n",
    "print 'kmax = 0.2: lmax = ',myLmax(0.2)"
   ]
  },
  {
   "cell_type": "code",
   "execution_count": null,
   "metadata": {},
   "outputs": [],
   "source": []
  },
  {
   "cell_type": "markdown",
   "metadata": {},
   "source": [
    "# Make a mask which indicates which bin is the lowest in each matrix element"
   ]
  },
  {
   "cell_type": "code",
   "execution_count": 429,
   "metadata": {},
   "outputs": [
    {
     "name": "stdout",
     "output_type": "stream",
     "text": [
      "['k,k', 'k,g1', 'k,g2', 'k,g3', 'k,g4', 'k,g5', 'k,g6', 'g1,g1', 'g1,g2', 'g1,g3', 'g1,g4', 'g1,g5', 'g1,g6', 'g2,g2', 'g2,g3', 'g2,g4', 'g2,g5', 'g2,g6', 'g3,g3', 'g3,g4', 'g3,g5', 'g3,g6', 'g4,g4', 'g4,g5', 'g4,g6', 'g5,g5', 'g5,g6', 'g6,g6']\n",
      "[ 0.  1.  2.  3.  4.  5.  6.  8.  9. 10. 11. 12. 13. 16. 17. 18. 19. 20.\n",
      " 24. 25. 26. 27. 32. 33. 34. 40. 41. 48.]\n",
      "map i numbers:  [0. 0. 0. 0. 0. 0. 0. 1. 1. 1. 1. 1. 1. 2. 2. 2. 2. 2. 3. 3. 3. 3. 4. 4.\n",
      " 4. 5. 5. 6.]\n",
      "map j numbers:  [0. 1. 2. 3. 4. 5. 6. 1. 2. 3. 4. 5. 6. 2. 3. 4. 5. 6. 3. 4. 5. 6. 4. 5.\n",
      " 6. 5. 6. 6.]\n",
      "(28, 28, 2999) (28,)\n",
      "2 2000\n"
     ]
    }
   ],
   "source": [
    "# create mask for inverse covariance matrix to be applied to implement lmax\n",
    "print Fobj.obsNames\n",
    "print Fobj.obsList\n",
    "nMaps = Fobj.nBins+1\n",
    "map1List = np.floor(Fobj.obsList/nMaps)\n",
    "map2List = Fobj.obsList%nMaps\n",
    "print 'map i numbers: ',map1List\n",
    "print 'map j numbers: ',map2List\n",
    "print Fobj.invCov.shape, Fobj.obsList.shape\n",
    "print lmin,lmax"
   ]
  },
  {
   "cell_type": "code",
   "execution_count": 430,
   "metadata": {},
   "outputs": [
    {
     "name": "stdout",
     "output_type": "stream",
     "text": [
      "preMask shape:  (28, 28)\n",
      "[[0 1 2 3 4 5 6 1 1 1 1 1 1 2 2 2 2 2 3 3 3 3 4 4 4 5 5 6]\n",
      " [1 1 1 1 1 1 1 1 1 1 1 1 1 1 1 1 1 1 1 1 1 1 1 1 1 1 1 1]\n",
      " [2 1 2 2 2 2 2 1 1 1 1 1 1 2 2 2 2 2 2 2 2 2 2 2 2 2 2 2]\n",
      " [3 1 2 3 3 3 3 1 1 1 1 1 1 2 2 2 2 2 3 3 3 3 3 3 3 3 3 3]\n",
      " [4 1 2 3 4 4 4 1 1 1 1 1 1 2 2 2 2 2 3 3 3 3 4 4 4 4 4 4]\n",
      " [5 1 2 3 4 5 5 1 1 1 1 1 1 2 2 2 2 2 3 3 3 3 4 4 4 5 5 5]\n",
      " [6 1 2 3 4 5 6 1 1 1 1 1 1 2 2 2 2 2 3 3 3 3 4 4 4 5 5 6]\n",
      " [1 1 1 1 1 1 1 1 1 1 1 1 1 1 1 1 1 1 1 1 1 1 1 1 1 1 1 1]\n",
      " [1 1 1 1 1 1 1 1 1 1 1 1 1 1 1 1 1 1 1 1 1 1 1 1 1 1 1 1]\n",
      " [1 1 1 1 1 1 1 1 1 1 1 1 1 1 1 1 1 1 1 1 1 1 1 1 1 1 1 1]\n",
      " [1 1 1 1 1 1 1 1 1 1 1 1 1 1 1 1 1 1 1 1 1 1 1 1 1 1 1 1]\n",
      " [1 1 1 1 1 1 1 1 1 1 1 1 1 1 1 1 1 1 1 1 1 1 1 1 1 1 1 1]\n",
      " [1 1 1 1 1 1 1 1 1 1 1 1 1 1 1 1 1 1 1 1 1 1 1 1 1 1 1 1]\n",
      " [2 1 2 2 2 2 2 1 1 1 1 1 1 2 2 2 2 2 2 2 2 2 2 2 2 2 2 2]\n",
      " [2 1 2 2 2 2 2 1 1 1 1 1 1 2 2 2 2 2 2 2 2 2 2 2 2 2 2 2]\n",
      " [2 1 2 2 2 2 2 1 1 1 1 1 1 2 2 2 2 2 2 2 2 2 2 2 2 2 2 2]\n",
      " [2 1 2 2 2 2 2 1 1 1 1 1 1 2 2 2 2 2 2 2 2 2 2 2 2 2 2 2]\n",
      " [2 1 2 2 2 2 2 1 1 1 1 1 1 2 2 2 2 2 2 2 2 2 2 2 2 2 2 2]\n",
      " [3 1 2 3 3 3 3 1 1 1 1 1 1 2 2 2 2 2 3 3 3 3 3 3 3 3 3 3]\n",
      " [3 1 2 3 3 3 3 1 1 1 1 1 1 2 2 2 2 2 3 3 3 3 3 3 3 3 3 3]\n",
      " [3 1 2 3 3 3 3 1 1 1 1 1 1 2 2 2 2 2 3 3 3 3 3 3 3 3 3 3]\n",
      " [3 1 2 3 3 3 3 1 1 1 1 1 1 2 2 2 2 2 3 3 3 3 3 3 3 3 3 3]\n",
      " [4 1 2 3 4 4 4 1 1 1 1 1 1 2 2 2 2 2 3 3 3 3 4 4 4 4 4 4]\n",
      " [4 1 2 3 4 4 4 1 1 1 1 1 1 2 2 2 2 2 3 3 3 3 4 4 4 4 4 4]\n",
      " [4 1 2 3 4 4 4 1 1 1 1 1 1 2 2 2 2 2 3 3 3 3 4 4 4 4 4 4]\n",
      " [5 1 2 3 4 5 5 1 1 1 1 1 1 2 2 2 2 2 3 3 3 3 4 4 4 5 5 5]\n",
      " [5 1 2 3 4 5 5 1 1 1 1 1 1 2 2 2 2 2 3 3 3 3 4 4 4 5 5 5]\n",
      " [6 1 2 3 4 5 6 1 1 1 1 1 1 2 2 2 2 2 3 3 3 3 4 4 4 5 5 6]]\n"
     ]
    }
   ],
   "source": [
    "mSize = Fobj.obsList.__len__()\n",
    "preMask = np.zeros((mSize,mSize)) # contains lowest bin number of 4 used in invCov\n",
    "print 'preMask shape: ',preMask.shape\n",
    "for i in range(mSize):\n",
    "    for j in range(i,mSize):\n",
    "        myMaps = np.array([map1List[i],map1List[j],map2List[i],map2List[j]])        \n",
    "        if i>0 or j>0:\n",
    "            preMask[i,j] = np.min(myMaps[np.where(myMaps>0)])\n",
    "            preMask[j,i] = preMask[i,j]\n",
    "        else:\n",
    "            preMask[0,0] = 0\n",
    "        #print i,j,myMaps, myMaps[np.where(myMaps>0)], preMask[i,j]\n",
    "preMask = preMask.astype(int)\n",
    "print preMask\n"
   ]
  },
  {
   "cell_type": "code",
   "execution_count": null,
   "metadata": {},
   "outputs": [],
   "source": []
  },
  {
   "cell_type": "markdown",
   "metadata": {},
   "source": [
    "# Break apart covar and dClVecs as observables drop out"
   ]
  },
  {
   "cell_type": "code",
   "execution_count": 431,
   "metadata": {},
   "outputs": [
    {
     "name": "stdout",
     "output_type": "stream",
     "text": [
      "[  -1  389  679 1062 1302 1467 1763]\n",
      "[   2  389  679 1062 1302 1467 2000]\n"
     ]
    }
   ],
   "source": [
    "# set the kmax limit which controls the lmax of each redshift bin via Limber appx.\n",
    "#kmax = 0.1\n",
    "kmax = 0.2\n",
    "\n",
    "lmaxByBin = myLmax(kmax) # gives array of lmax at lower bin edges\n",
    "print lmaxByBin\n",
    "# the -1 is from the -0.5 in the Limber approximation put into the floor function\n",
    "\n",
    "# modify this for use in looping below\n",
    "lmaxByBin[0] = lmin\n",
    "lmaxByBin[-1] = lmax\n",
    "print lmaxByBin"
   ]
  },
  {
   "cell_type": "code",
   "execution_count": 432,
   "metadata": {},
   "outputs": [
    {
     "name": "stdout",
     "output_type": "stream",
     "text": [
      "['k,k', 'k,g1', 'k,g2', 'k,g3', 'k,g4', 'k,g5', 'k,g6', 'g1,g1', 'g1,g2', 'g1,g3', 'g1,g4', 'g1,g5', 'g1,g6', 'g2,g2', 'g2,g3', 'g2,g4', 'g2,g5', 'g2,g6', 'g3,g3', 'g3,g4', 'g3,g5', 'g3,g6', 'g4,g4', 'g4,g5', 'g4,g6', 'g5,g5', 'g5,g6', 'g6,g6']\n",
      "[ 0.  1.  2.  3.  4.  5.  6.  8.  9. 10. 11. 12. 13. 16. 17. 18. 19. 20.\n",
      " 24. 25. 26. 27. 32. 33. 34. 40. 41. 48.]\n",
      "map i numbers:  [0. 0. 0. 0. 0. 0. 0. 1. 1. 1. 1. 1. 1. 2. 2. 2. 2. 2. 3. 3. 3. 3. 4. 4.\n",
      " 4. 5. 5. 6.]\n",
      "map j numbers:  [0. 1. 2. 3. 4. 5. 6. 1. 2. 3. 4. 5. 6. 2. 3. 4. 5. 6. 3. 4. 5. 6. 4. 5.\n",
      " 6. 5. 6. 6.]\n",
      "(28, 28, 2999) (28,)\n",
      "2 2000\n"
     ]
    }
   ],
   "source": [
    "# get codes describing observables\n",
    "print Fobj.obsNames\n",
    "print Fobj.obsList\n",
    "map1List = np.floor(Fobj.obsList/nMaps)\n",
    "map2List = Fobj.obsList%nMaps\n",
    "print 'map i numbers: ',map1List\n",
    "print 'map j numbers: ',map2List\n",
    "\n",
    "print Fobj.invCov.shape, Fobj.obsList.shape\n",
    "print lmin,lmax"
   ]
  },
  {
   "cell_type": "code",
   "execution_count": 433,
   "metadata": {},
   "outputs": [
    {
     "name": "stdout",
     "output_type": "stream",
     "text": [
      "(28, 28, 2999)\n",
      "(28, 15, 2999)\n",
      "(28, 28)\n"
     ]
    }
   ],
   "source": [
    "covar=Fobj.covar\n",
    "dClVecs=Fobj.dClVecs\n",
    "print covar.shape\n",
    "print dClVecs.shape\n",
    "print preMask.shape"
   ]
  },
  {
   "cell_type": "code",
   "execution_count": 434,
   "metadata": {},
   "outputs": [],
   "source": [
    "# cut out all covar,dClVecs,preMask elements with row/col of 1s below lmaxByBin[0] = -1 : so all the way to lmin.\n",
    "\n",
    "# define row,col deleting function\n",
    "def fixParam(Fij,pNum):\n",
    "    return np.delete(np.delete(Fij,pNum,0),pNum,1)\n",
    "\n",
    "# define the covar cutting function\n",
    "def covarCut(covar,dClVecs,preMask,cutNum,verbose=True):\n",
    "    toCut = np.flip(np.where(preMask[0]==cutNum),1)\n",
    "    if verbose:\n",
    "        print 'to cut: ',toCut\n",
    "    for cut in toCut:\n",
    "        covar = fixParam(covar,cut)\n",
    "        preMask = fixParam(preMask,cut)\n",
    "        dClVecs = np.delete(dClVecs,cut,0)\n",
    "    if verbose:\n",
    "        print covar.shape,dClVecs.shape\n",
    "        print preMask\n",
    "    return covar,dClVecs,preMask\n",
    "\n",
    "# prepare containers for the results\n",
    "covarBins = []\n",
    "dClVecsBins = []\n",
    "\n",
    "nBins = Fobj.nBins"
   ]
  },
  {
   "cell_type": "code",
   "execution_count": 435,
   "metadata": {},
   "outputs": [
    {
     "name": "stdout",
     "output_type": "stream",
     "text": [
      "\n",
      "starting binNum 1 of 6...\n",
      "to cut:  [[12 11 10  9  8  7  1]]\n",
      "(21, 21, 2999) (21, 15, 2999)\n",
      "[[0 2 3 4 5 6 2 2 2 2 2 3 3 3 3 4 4 4 5 5 6]\n",
      " [2 2 2 2 2 2 2 2 2 2 2 2 2 2 2 2 2 2 2 2 2]\n",
      " [3 2 3 3 3 3 2 2 2 2 2 3 3 3 3 3 3 3 3 3 3]\n",
      " [4 2 3 4 4 4 2 2 2 2 2 3 3 3 3 4 4 4 4 4 4]\n",
      " [5 2 3 4 5 5 2 2 2 2 2 3 3 3 3 4 4 4 5 5 5]\n",
      " [6 2 3 4 5 6 2 2 2 2 2 3 3 3 3 4 4 4 5 5 6]\n",
      " [2 2 2 2 2 2 2 2 2 2 2 2 2 2 2 2 2 2 2 2 2]\n",
      " [2 2 2 2 2 2 2 2 2 2 2 2 2 2 2 2 2 2 2 2 2]\n",
      " [2 2 2 2 2 2 2 2 2 2 2 2 2 2 2 2 2 2 2 2 2]\n",
      " [2 2 2 2 2 2 2 2 2 2 2 2 2 2 2 2 2 2 2 2 2]\n",
      " [2 2 2 2 2 2 2 2 2 2 2 2 2 2 2 2 2 2 2 2 2]\n",
      " [3 2 3 3 3 3 2 2 2 2 2 3 3 3 3 3 3 3 3 3 3]\n",
      " [3 2 3 3 3 3 2 2 2 2 2 3 3 3 3 3 3 3 3 3 3]\n",
      " [3 2 3 3 3 3 2 2 2 2 2 3 3 3 3 3 3 3 3 3 3]\n",
      " [3 2 3 3 3 3 2 2 2 2 2 3 3 3 3 3 3 3 3 3 3]\n",
      " [4 2 3 4 4 4 2 2 2 2 2 3 3 3 3 4 4 4 4 4 4]\n",
      " [4 2 3 4 4 4 2 2 2 2 2 3 3 3 3 4 4 4 4 4 4]\n",
      " [4 2 3 4 4 4 2 2 2 2 2 3 3 3 3 4 4 4 4 4 4]\n",
      " [5 2 3 4 5 5 2 2 2 2 2 3 3 3 3 4 4 4 5 5 5]\n",
      " [5 2 3 4 5 5 2 2 2 2 2 3 3 3 3 4 4 4 5 5 5]\n",
      " [6 2 3 4 5 6 2 2 2 2 2 3 3 3 3 4 4 4 5 5 6]]\n",
      "covariance shape:  (21, 21, 387)\n",
      "derivative array shape:  (21, 15, 387)\n",
      "bin $\\ell_{min} = 2$, bin $\\ell_{max} = 388$\n",
      "\n",
      "starting binNum 2 of 6...\n",
      "to cut:  [[10  9  8  7  6  1]]\n",
      "(15, 15, 2999) (15, 15, 2999)\n",
      "[[0 3 4 5 6 3 3 3 3 4 4 4 5 5 6]\n",
      " [3 3 3 3 3 3 3 3 3 3 3 3 3 3 3]\n",
      " [4 3 4 4 4 3 3 3 3 4 4 4 4 4 4]\n",
      " [5 3 4 5 5 3 3 3 3 4 4 4 5 5 5]\n",
      " [6 3 4 5 6 3 3 3 3 4 4 4 5 5 6]\n",
      " [3 3 3 3 3 3 3 3 3 3 3 3 3 3 3]\n",
      " [3 3 3 3 3 3 3 3 3 3 3 3 3 3 3]\n",
      " [3 3 3 3 3 3 3 3 3 3 3 3 3 3 3]\n",
      " [3 3 3 3 3 3 3 3 3 3 3 3 3 3 3]\n",
      " [4 3 4 4 4 3 3 3 3 4 4 4 4 4 4]\n",
      " [4 3 4 4 4 3 3 3 3 4 4 4 4 4 4]\n",
      " [4 3 4 4 4 3 3 3 3 4 4 4 4 4 4]\n",
      " [5 3 4 5 5 3 3 3 3 4 4 4 5 5 5]\n",
      " [5 3 4 5 5 3 3 3 3 4 4 4 5 5 5]\n",
      " [6 3 4 5 6 3 3 3 3 4 4 4 5 5 6]]\n",
      "covariance shape:  (15, 15, 290)\n",
      "derivative array shape:  (15, 15, 290)\n",
      "bin $\\ell_{min} = 389$, bin $\\ell_{max} = 678$\n",
      "\n",
      "starting binNum 3 of 6...\n",
      "to cut:  [[8 7 6 5 1]]\n",
      "(10, 10, 2999) (10, 15, 2999)\n",
      "[[0 4 5 6 4 4 4 5 5 6]\n",
      " [4 4 4 4 4 4 4 4 4 4]\n",
      " [5 4 5 5 4 4 4 5 5 5]\n",
      " [6 4 5 6 4 4 4 5 5 6]\n",
      " [4 4 4 4 4 4 4 4 4 4]\n",
      " [4 4 4 4 4 4 4 4 4 4]\n",
      " [4 4 4 4 4 4 4 4 4 4]\n",
      " [5 4 5 5 4 4 4 5 5 5]\n",
      " [5 4 5 5 4 4 4 5 5 5]\n",
      " [6 4 5 6 4 4 4 5 5 6]]\n",
      "covariance shape:  (10, 10, 383)\n",
      "derivative array shape:  (10, 15, 383)\n",
      "bin $\\ell_{min} = 679$, bin $\\ell_{max} = 1061$\n",
      "\n",
      "starting binNum 4 of 6...\n",
      "to cut:  [[6 5 4 1]]\n",
      "(6, 6, 2999) (6, 15, 2999)\n",
      "[[0 5 6 5 5 6]\n",
      " [5 5 5 5 5 5]\n",
      " [6 5 6 5 5 6]\n",
      " [5 5 5 5 5 5]\n",
      " [5 5 5 5 5 5]\n",
      " [6 5 6 5 5 6]]\n",
      "covariance shape:  (6, 6, 240)\n",
      "derivative array shape:  (6, 15, 240)\n",
      "bin $\\ell_{min} = 1062$, bin $\\ell_{max} = 1301$\n",
      "\n",
      "starting binNum 5 of 6...\n",
      "to cut:  [[4 3 1]]\n",
      "(3, 3, 2999) (3, 15, 2999)\n",
      "[[0 6 6]\n",
      " [6 6 6]\n",
      " [6 6 6]]\n",
      "covariance shape:  (3, 3, 165)\n",
      "derivative array shape:  (3, 15, 165)\n",
      "bin $\\ell_{min} = 1302$, bin $\\ell_{max} = 1466$\n",
      "\n",
      "starting binNum 6 of 6...\n",
      "to cut:  [[2 1]]\n",
      "(1, 1, 2999) (1, 15, 2999)\n",
      "[[0]]\n",
      "covariance shape:  (1, 1, 533)\n",
      "derivative array shape:  (1, 15, 533)\n",
      "bin $\\ell_{min} = 1467$, bin $\\ell_{max} = 1999$\n"
     ]
    }
   ],
   "source": [
    "# iterate as bins are removed\n",
    "verbose = True\n",
    "for binNum in range(nBins):\n",
    "    print '\\nstarting binNum {0} of {1}...'.format(binNum+1,nBins)\n",
    "    covar,dClVecs,preMask = covarCut(covar,dClVecs,preMask,binNum+1,verbose=verbose)\n",
    "    \n",
    "    covarBins.append( covar[:,:,lmaxByBin[binNum]-lmin:lmaxByBin[binNum+1]-lmin] )\n",
    "    dClVecsBins.append( dClVecs[:,:,lmaxByBin[binNum]-lmin:lmaxByBin[binNum+1]-lmin] )\n",
    "    if verbose:\n",
    "        print 'covariance shape: ',covarBins[binNum].shape\n",
    "        print 'derivative array shape: ',dClVecsBins[binNum].shape\n",
    "        print r'bin $\\ell_{{min}} = {0}$, bin $\\ell_{{max}} = {1}$'.format(lmaxByBin[binNum],lmaxByBin[binNum+1]-1)"
   ]
  },
  {
   "cell_type": "code",
   "execution_count": null,
   "metadata": {},
   "outputs": [],
   "source": []
  },
  {
   "cell_type": "code",
   "execution_count": 436,
   "metadata": {},
   "outputs": [],
   "source": [
    "# Also include a bin1 for kappa!"
   ]
  },
  {
   "cell_type": "code",
   "execution_count": 437,
   "metadata": {},
   "outputs": [
    {
     "name": "stdout",
     "output_type": "stream",
     "text": [
      "Clkk shape:  (2999,)\n",
      "dClkk shape:  (15, 2999)\n",
      "parameters:  ['ombh2', 'omch2', 'cosmomc_theta', 'As', 'ns', 'tau', 'mnu', 'wa', 'w']\n",
      "kappa-only, noise-included Fisher matrix (from ell = 50 to 389):\n",
      "[[ 1.19174191e+07 -1.11781774e+07  1.94323575e+08 -3.74505173e+14\n",
      "   5.16185190e+04  1.05774947e+03  1.62159438e+05  3.49715947e+04\n",
      "   6.76146565e+04]\n",
      " [-1.11781774e+07  1.05515725e+07 -1.84527162e+08  3.57227849e+14\n",
      "  -7.13507065e+04 -1.01213445e+03 -1.54168897e+05 -3.36207753e+04\n",
      "  -6.51102721e+04]\n",
      " [ 1.94323575e+08 -1.84527162e+08  3.24522121e+09 -6.30900852e+15\n",
      "   1.62741694e+06  1.79278414e+04  2.71462540e+06  5.98130980e+05\n",
      "   1.16009087e+06]\n",
      " [-3.74505173e+14  3.57227849e+14 -6.30900852e+15  1.23051680e+22\n",
      "  -3.71581348e+12 -3.50457181e+10 -5.28268635e+12 -1.17309522e+12\n",
      "  -2.27780027e+12]\n",
      " [ 5.16185190e+04 -7.13507065e+04  1.62741694e+06 -3.71581348e+12\n",
      "   8.53610723e+03  1.16492973e+01  1.43506238e+03  4.42449072e+02\n",
      "   8.93538285e+02]\n",
      " [ 1.05774947e+03 -1.01213445e+03  1.79278414e+04 -3.50457181e+10\n",
      "   1.16492973e+01  9.99684137e-02  1.50216151e+01  3.35388162e+00\n",
      "   6.51725600e+00]\n",
      " [ 1.62159438e+05 -1.54168897e+05  2.71462540e+06 -5.28268635e+12\n",
      "   1.43506238e+03  1.50216151e+01  2.27188440e+03  5.01656976e+02\n",
      "   9.73271739e+02]\n",
      " [ 3.49715947e+04 -3.36207753e+04  5.98130980e+05 -1.17309522e+12\n",
      "   4.42449072e+02  3.35388162e+00  5.01656976e+02  1.12898158e+02\n",
      "   2.19630679e+02]\n",
      " [ 6.76146565e+04 -6.51102721e+04  1.16009087e+06 -2.27780027e+12\n",
      "   8.93538285e+02  6.51725600e+00  9.73271739e+02  2.19630679e+02\n",
      "   4.27430735e+02]]\n"
     ]
    }
   ],
   "source": [
    "# remake kk covar and fisher with noise\n",
    "# (copy some code from \"Rebuild covar with noise\")\n",
    "\n",
    "Clkk = Fobj.crossCls[0,0]\n",
    "Nlkk = Fobj.noiseCls[0,0]\n",
    "dClkk = Fobj.dClVecs[0]\n",
    "\n",
    "myLmin = 50\n",
    "\n",
    "\n",
    "# add noise to crossCls for making covar\n",
    "Clkk2 = Clkk+Nlkk\n",
    "\n",
    "print 'Clkk shape: ',Clkk2.shape\n",
    "print 'dClkk shape: ',dClkk.shape\n",
    "cov_kk2 = 2*Clkk2**2 / (2*ells+1)\n",
    "Fij_kk2 = np.zeros((nCosParams,nCosParams))\n",
    "minEllInd = myLmin-lmin  # eg. 50-2\n",
    "maxEllInd = lmaxByBin[1]-lmin \n",
    "for pNum1 in range(nCosParams):\n",
    "    for pNum2 in range(pNum1,nCosParams):\n",
    "        # the next line does the summation over ell\n",
    "        Fij_kk2[pNum1,pNum2] = np.sum( dClkk[pNum1,minEllInd:maxEllInd] * \\\n",
    "                                       dClkk[pNum2,minEllInd:maxEllInd] / cov_kk2[minEllInd:maxEllInd])\n",
    "        Fij_kk2[pNum2,pNum1] = Fij_kk2[pNum1,pNum2]\n",
    "print 'parameters: ',Fobj.paramList[:nCosParams]\n",
    "print 'kappa-only, noise-included Fisher matrix (from ell = {0} to {1}):'.format(myLmin,lmaxByBin[1])\n",
    "print Fij_kk2"
   ]
  },
  {
   "cell_type": "code",
   "execution_count": 438,
   "metadata": {},
   "outputs": [
    {
     "data": {
      "image/png": "[encoded data removed]",
      "text/plain": [
       "<matplotlib.figure.Figure at 0x102ed0690>"
      ]
     },
     "metadata": {},
     "output_type": "display_data"
    }
   ],
   "source": [
    "# error detected.  Plot for comparison\n",
    "plt.semilogx(ells,covar[0,0])\n",
    "plt.semilogx(ells,cov_kk2)\n",
    "plt.show()\n",
    "# looks good now!"
   ]
  },
  {
   "cell_type": "code",
   "execution_count": null,
   "metadata": {},
   "outputs": [],
   "source": []
  },
  {
   "cell_type": "markdown",
   "metadata": {},
   "source": [
    "# Get inverse covariance matrices"
   ]
  },
  {
   "cell_type": "code",
   "execution_count": 439,
   "metadata": {},
   "outputs": [],
   "source": [
    "# get inverse covariance matrices\n",
    "invCovBins = []\n",
    "for binNum in range(nBins):\n",
    "    invCovBins.append( np.transpose(np.linalg.inv(np.transpose(covarBins[binNum]))) )\n"
   ]
  },
  {
   "cell_type": "code",
   "execution_count": null,
   "metadata": {},
   "outputs": [],
   "source": []
  },
  {
   "cell_type": "markdown",
   "metadata": {},
   "source": [
    "# Assemble the $F_{ij}$ matrices and add them up"
   ]
  },
  {
   "cell_type": "code",
   "execution_count": 440,
   "metadata": {},
   "outputs": [],
   "source": [
    "def makeFij(dClVecs,invCov,nParams):\n",
    "    \"\"\"\n",
    "    This may replace the previous makeFisher function... blah blah blah.\n",
    "    Inputs:\n",
    "        all must have same ell range.  All ell values will be summed over.\n",
    "    \"\"\"\n",
    "    for i in range(nParams):\n",
    "      dClVec_i = dClVecs[:,i,:] # shape (nCls,nElls)\n",
    "      for j in range(nParams):\n",
    "        dClVec_j = dClVecs[:,j,:] # shape (nCls,nElls)\n",
    "        # here is the summation over ell:\n",
    "        for ellInd in range(invCov.shape[2]):\n",
    "          fij = np.dot(dClVec_i[:,ellInd],np.dot(invCov[:,:,ellInd],dClVec_j[:,ellInd]))\n",
    "          Fij[i,j] += fij\n",
    "    return Fij\n"
   ]
  },
  {
   "cell_type": "code",
   "execution_count": 441,
   "metadata": {},
   "outputs": [],
   "source": [
    "# cut to myLmin in first bin\n",
    "#myLmin = 50\n",
    "minEllInd = myLmin-lmin\n",
    "dClVecsBins[0] = dClVecsBins[0][:,:,minEllInd:]\n",
    "invCovBins[0]  =  invCovBins[0][:,:,minEllInd:]"
   ]
  },
  {
   "cell_type": "code",
   "execution_count": 442,
   "metadata": {},
   "outputs": [],
   "source": [
    "# assemble the avengers\n",
    "\n",
    "Fij = np.zeros((Fobj.nParams,Fobj.nParams)) # indices match those in paramList\n",
    "for binNum in range(nBins):\n",
    "    Fij += makeFij(dClVecsBins[binNum],invCovBins[binNum],Fobj.nParams)\n",
    "\n",
    "# add the low-ell kappa-only part (high ell part was binNum = nBins-1)\n",
    "Fij[:nCosParams,:nCosParams] += Fij_kk2\n"
   ]
  },
  {
   "cell_type": "code",
   "execution_count": null,
   "metadata": {},
   "outputs": [],
   "source": []
  },
  {
   "cell_type": "code",
   "execution_count": 443,
   "metadata": {},
   "outputs": [
    {
     "name": "stdout",
     "output_type": "stream",
     "text": [
      "['ombh2' 'omch2' 'cosmomc_theta' 'As' 'ns' 'tau' 'mnu' 'wa' 'w' 'bin2'\n",
      " 'bin3' 'bin4' 'bin5' 'bin6']\n"
     ]
    }
   ],
   "source": [
    "# cut out bin1 from Fij and paramList since it was never used\n",
    "Fij = fixParam(Fij,nCosParams)\n",
    "paramList = np.delete(paramList,nCosParams,0)\n",
    "\n",
    "print paramList\n",
    "#print Fij"
   ]
  },
  {
   "cell_type": "code",
   "execution_count": null,
   "metadata": {},
   "outputs": [],
   "source": []
  },
  {
   "cell_type": "code",
   "execution_count": 444,
   "metadata": {},
   "outputs": [
    {
     "name": "stdout",
     "output_type": "stream",
     "text": [
      "[3.03221221e-02 8.60378614e-02 8.55649646e-04 1.86526946e-09\n",
      " 1.08838822e-01 1.10512143e+02 9.52742142e-01 2.00193559e+01\n",
      " 9.20412746e+00 4.69037156e-01 4.19955118e-01 8.52408329e-01\n",
      " 2.65243544e+00 1.73534643e+01]\n"
     ]
    }
   ],
   "source": [
    "# check sigmas\n",
    "def getSigmas(Fij):\n",
    "    return np.sqrt(np.diag(np.linalg.inv(Fij)))\n",
    " \n",
    "sigmas3 = getSigmas(Fij)\n",
    "print sigmas3"
   ]
  },
  {
   "cell_type": "code",
   "execution_count": null,
   "metadata": {},
   "outputs": [],
   "source": []
  },
  {
   "cell_type": "code",
   "execution_count": null,
   "metadata": {},
   "outputs": [],
   "source": []
  },
  {
   "cell_type": "markdown",
   "metadata": {},
   "source": [
    "# Adjust parameters"
   ]
  },
  {
   "cell_type": "code",
   "execution_count": 445,
   "metadata": {},
   "outputs": [
    {
     "name": "stdout",
     "output_type": "stream",
     "text": [
      "getting EE part above ell=3000...\n",
      "getting EE part above ell=3000...\n",
      "getting EE part above ell=3000...\n",
      "getting EE part above ell=3000...\n",
      "getting EE part above ell=3000...\n",
      "getting EE part above ell=3000...\n",
      "getting EE part above ell=3000...\n",
      "getting EE part above ell=3000...\n",
      "getting EE part above ell=3000...\n",
      "getting EE part above ell=3000...\n",
      "getting EE part above ell=3000...\n",
      "getting EE part above ell=3000...\n",
      "getting EE part above ell=3000...\n",
      "getting EE part above ell=3000...\n",
      "getting EE part above ell=3000...\n",
      "getting EE part above ell=3000...\n",
      "getting EE part above ell=3000...\n",
      "getting EE part above ell=3000...\n",
      "getting EE part above ell=3000...\n",
      "getting EE part above ell=3000...\n",
      "getting EE part above ell=3000...\n",
      "getting EE part above ell=3000...\n",
      "getting EE part above ell=3000...\n",
      "getting EE part above ell=3000...\n",
      "getting EE part above ell=3000...\n",
      "getting EE part above ell=3000...\n",
      "getting EE part above ell=3000...\n",
      "getting EE part above ell=3000...\n",
      "getting EE part above ell=3000...\n",
      "getting EE part above ell=3000...\n",
      "getting EE part above ell=3000...\n",
      "getting EE part above ell=3000...\n",
      "getting EE part above ell=3000...\n",
      "getting EE part above ell=3000...\n",
      "getting EE part above ell=3000...\n",
      "getting EE part above ell=3000...\n",
      "getting EE part above ell=3000...\n",
      "getting EE part above ell=3000...\n",
      "getting EE part above ell=3000...\n",
      "getting EE part above ell=3000...\n",
      "getting EE part above ell=3000...\n",
      "getting EE part above ell=3000...\n",
      "getting EE part above ell=3000...\n",
      "getting EE part above ell=3000...\n",
      "getting EE part above ell=3000...\n",
      "getting EE part above ell=3000...\n",
      "getting EE part above ell=3000...\n",
      "getting EE part above ell=3000...\n",
      "getting EE part above ell=3000...\n",
      "getting EE part above ell=3000...\n",
      "getting EE part above ell=3000...\n",
      "getting EE part above ell=3000...\n",
      "getting EE part above ell=3000...\n",
      "getting EE part above ell=3000...\n",
      "getting EE part above ell=3000...\n",
      "getting EE part above ell=3000...\n",
      "getting EE part above ell=3000...\n",
      "getting EE part above ell=3000...\n",
      "getting EE part above ell=3000...\n",
      "getting EE part above ell=3000...\n",
      "getting EE part above ell=3000...\n",
      "getting EE part above ell=3000...\n",
      "getting EE part above ell=3000...\n",
      "getting EE part above ell=3000...\n",
      "getting EE part above ell=3000...\n",
      "getting EE part above ell=3000...\n",
      "getting EE part above ell=3000...\n",
      "getting EE part above ell=3000...\n",
      "getting EE part above ell=3000...\n",
      "getting EE part above ell=3000...\n",
      "getting EE part above ell=3000...\n",
      "getting EE part above ell=3000...\n",
      "getting EE part above ell=3000...\n",
      "getting EE part above ell=3000...\n",
      "getting EE part above ell=3000...\n",
      "getting EE part above ell=3000...\n",
      "getting EE part above ell=3000...\n",
      "getting EE part above ell=3000...\n",
      "getting EE part above ell=3000...\n",
      "getting EE part above ell=3000...\n",
      "getting EE part above ell=3000...\n",
      "done\n"
     ]
    }
   ],
   "source": [
    "# get the TE matrix\n",
    "FijTE = Fobj.makeFisher(50,TE=True)\n",
    "print 'done'"
   ]
  },
  {
   "cell_type": "code",
   "execution_count": 446,
   "metadata": {},
   "outputs": [],
   "source": [
    "# create combined Fisher matrices\n",
    "Fij_kgTE2 = Fij.copy()\n",
    "Fij_kgTE2[:nCosParams,:nCosParams] += FijTE"
   ]
  },
  {
   "cell_type": "code",
   "execution_count": 447,
   "metadata": {},
   "outputs": [],
   "source": [
    "# apply fsky\n",
    "fsky = 0.4\n",
    "Fij       *= fsky\n",
    "Fij_kgTE2 *= fsky\n",
    "Fij_kk2   *= fsky"
   ]
  },
  {
   "cell_type": "code",
   "execution_count": 448,
   "metadata": {},
   "outputs": [
    {
     "name": "stdout",
     "output_type": "stream",
     "text": [
      "['ombh2' 'omch2' 'cosmomc_theta' '10^9 As' 'ns' 'tau' 'mnu' 'wa' 'w'\n",
      " 'bin2' 'bin3' 'bin4' 'bin5' 'bin6']\n"
     ]
    }
   ],
   "source": [
    "# Convert As to 10^9*As\n",
    "#\"\"\"\n",
    "AsIndex = 3\n",
    "mult = 1e-9\n",
    "def rowColMult(array,index,mult):\n",
    "    array[index,:] *= mult\n",
    "    array[:,index] *= mult\n",
    "    return array\n",
    "    \n",
    "Fij       = rowColMult(Fij,AsIndex,mult)\n",
    "Fij_kgTE2 = rowColMult(Fij_kgTE2,AsIndex,mult)\n",
    "Fij_kk2   = rowColMult(Fij_kk2,AsIndex,mult)\n",
    "\n",
    "# adjust name\n",
    "paramList[AsIndex] = '10^9 As'\n",
    "print paramList\n",
    "#\"\"\""
   ]
  },
  {
   "cell_type": "code",
   "execution_count": 449,
   "metadata": {},
   "outputs": [],
   "source": [
    "# transform basis from cosmomc_theta to HO\n",
    "# use derivative results from \"Transform Fisher Matrix with Jacobian\"\n",
    "if nCosParams == 8:\n",
    "    dthetas = [-2.46099289e-02,  1.05373002e-02,  2.98929388e-05,  # dtheta_dombh2, dtheta_domch2, dtheta_dH0\n",
    "               0.00000000e+00,  0.00000000e+00,  0.00000000e+00,   # dtheta_dAs, dtheta_dns, dtheta_dtau\n",
    "               1.94175593e-04,  8.94926461e-04]                    # dtheta_mnu, dtheta_w\n",
    "elif nCosParams == 9:\n",
    "    #dthetas = [-2.46099289e-02,  1.05373002e-02,  2.98929388e-05,  # dtheta_dombh2, dtheta_domch2, dtheta_dH0\n",
    "    #           0.00000000e+00,  0.00000000e+00,  0.00000000e+00,   # dtheta_dAs, dtheta_dns, dtheta_dtau\n",
    "    #           1.94175593e-04,  2.43189330e-04,  8.94926461e-04]   # dtheta_mnu, dtheta_wa, dtheta_w\n",
    "    # switch order of w, wa params\n",
    "    dthetas = [-2.46099289e-02,  1.05373002e-02,  2.98929388e-05,  # dtheta_dombh2, dtheta_domch2, dtheta_dH0\n",
    "               0.00000000e+00,  0.00000000e+00,  0.00000000e+00,   # dtheta_dAs, dtheta_dns, dtheta_dtau\n",
    "               1.94175593e-04,  8.94926461e-04,  2.43189330e-04]   # dtheta_mnu, dtheta_w, dtheta_wa\n",
    "else:\n",
    "    print 'wtf'"
   ]
  },
  {
   "cell_type": "code",
   "execution_count": 450,
   "metadata": {},
   "outputs": [
    {
     "name": "stdout",
     "output_type": "stream",
     "text": [
      "[[ 1.00000000e+00  0.00000000e+00  0.00000000e+00  0.00000000e+00\n",
      "   0.00000000e+00  0.00000000e+00  0.00000000e+00  0.00000000e+00\n",
      "   0.00000000e+00]\n",
      " [ 0.00000000e+00  1.00000000e+00  0.00000000e+00  0.00000000e+00\n",
      "   0.00000000e+00  0.00000000e+00  0.00000000e+00  0.00000000e+00\n",
      "   0.00000000e+00]\n",
      " [-2.46099289e-02  1.05373002e-02  2.98929388e-05  0.00000000e+00\n",
      "   0.00000000e+00  0.00000000e+00  1.94175593e-04  2.43189330e-04\n",
      "   8.94926461e-04]\n",
      " [ 0.00000000e+00  0.00000000e+00  0.00000000e+00  1.00000000e+00\n",
      "   0.00000000e+00  0.00000000e+00  0.00000000e+00  0.00000000e+00\n",
      "   0.00000000e+00]\n",
      " [ 0.00000000e+00  0.00000000e+00  0.00000000e+00  0.00000000e+00\n",
      "   1.00000000e+00  0.00000000e+00  0.00000000e+00  0.00000000e+00\n",
      "   0.00000000e+00]\n",
      " [ 0.00000000e+00  0.00000000e+00  0.00000000e+00  0.00000000e+00\n",
      "   0.00000000e+00  1.00000000e+00  0.00000000e+00  0.00000000e+00\n",
      "   0.00000000e+00]\n",
      " [ 0.00000000e+00  0.00000000e+00  0.00000000e+00  0.00000000e+00\n",
      "   0.00000000e+00  0.00000000e+00  1.00000000e+00  0.00000000e+00\n",
      "   0.00000000e+00]\n",
      " [ 0.00000000e+00  0.00000000e+00  0.00000000e+00  0.00000000e+00\n",
      "   0.00000000e+00  0.00000000e+00  0.00000000e+00  1.00000000e+00\n",
      "   0.00000000e+00]\n",
      " [ 0.00000000e+00  0.00000000e+00  0.00000000e+00  0.00000000e+00\n",
      "   0.00000000e+00  0.00000000e+00  0.00000000e+00  0.00000000e+00\n",
      "   1.00000000e+00]]\n"
     ]
    }
   ],
   "source": [
    "# The only derivatives in the Jacobian are on the dtheta/dparam row.\n",
    "mcIndex = 2\n",
    "jacobian = np.diag(np.ones(nParams-1)) # nParams-1 where -1 due to no bin1\n",
    "jacobian[mcIndex,:nCosParams] = dthetas#*100\n",
    "#jacobian[:,mcIndex] = dthetas#*100\n",
    "\n",
    "# multiply these all by d{100thetamc}/d{thetamc} = 100\n",
    "#jacobian[mcIndex,:] *= 100\n",
    "#jacobian[:,mcIndex] *= 100\n",
    "\n",
    "print jacobian[:nCosParams,:nCosParams]"
   ]
  },
  {
   "cell_type": "code",
   "execution_count": 451,
   "metadata": {},
   "outputs": [
    {
     "name": "stdout",
     "output_type": "stream",
     "text": [
      "['ombh2' 'omch2' 'H0' '10^9 As' 'ns' 'tau' 'mnu' 'wa' 'w' 'bin2' 'bin3'\n",
      " 'bin4' 'bin5' 'bin6']\n"
     ]
    }
   ],
   "source": [
    "# jacobian-it-up\n",
    "Fij_kg2j   = np.dot(jacobian.T,np.dot(Fij,jacobian))\n",
    "Fij_kgTE2j = np.dot(jacobian.T,np.dot(Fij_kgTE2,jacobian))\n",
    "Fij_kk2j = np.dot(jacobian.T[:nCosParams,:nCosParams],np.dot(Fij_kk2,jacobian[:nCosParams,:nCosParams]))\n",
    "\n",
    "# adjust name\n",
    "paramList[mcIndex] = 'H0'\n",
    "print paramList"
   ]
  },
  {
   "cell_type": "code",
   "execution_count": null,
   "metadata": {},
   "outputs": [],
   "source": []
  },
  {
   "cell_type": "markdown",
   "metadata": {},
   "source": [
    "# Get and compare sigmas"
   ]
  },
  {
   "cell_type": "code",
   "execution_count": 452,
   "metadata": {},
   "outputs": [
    {
     "name": "stderr",
     "output_type": "stream",
     "text": [
      "/opt/local/Library/Frameworks/Python.framework/Versions/2.7/lib/python2.7/site-packages/ipykernel_launcher.py:4: RuntimeWarning: divide by zero encountered in divide\n",
      "  after removing the cwd from sys.path.\n"
     ]
    }
   ],
   "source": [
    "sigmaskg = getSigmas(Fij_kg2j)\n",
    "sigmaskgTE = getSigmas(Fij_kgTE2j)\n",
    "sigmas_kk2 = getSigmas(Fij_kk2j)\n",
    "sigmas_kk2 = np.concatenate((sigmas_kk2,1/np.zeros(nBins)))"
   ]
  },
  {
   "cell_type": "code",
   "execution_count": 453,
   "metadata": {
    "scrolled": false
   },
   "outputs": [
    {
     "name": "stdout",
     "output_type": "stream",
     "text": [
      "fsky =  0.4\n",
      "kappa-galaxies and kappa-galaxies + TE, with noise\n",
      "+-----------+----------------+-----------+--------------+---------------+\n",
      "| Parameter | sigmas_kk_bin1 | sigmas_kg | sigmas_kg+TE | percent diff. |\n",
      "+-----------+----------------+-----------+--------------+---------------+\n",
      "|   ombh2   |      28.3      |   0.0479  |   3.64e-05   |     -99.9     |\n",
      "|   omch2   |      89.9      |   0.136   |   0.00502    |     -96.3     |\n",
      "|     H0    |    3.35e+04    |     218   |        4     |     -98.2     |\n",
      "|  10^9 As  |    1.47e+03    |    2.95   |    0.304     |     -89.7     |\n",
      "|     ns    |       159      |   0.172   |    0.0194    |     -88.7     |\n",
      "|    tau    |    2.28e+04    |     175   |    0.0746    |      -100     |\n",
      "|    mnu    |       344      |    1.51   |    0.363     |     -75.9     |\n",
      "|     wa    |    4.37e+03    |    31.7   |    0.961     |       -97     |\n",
      "|     w     |    1.84e+03    |    14.6   |    0.0193    |     -99.9     |\n",
      "|    bin2   |       inf      |   0.742   |    0.405     |     -45.4     |\n",
      "|    bin3   |       inf      |   0.664   |     0.52     |     -21.7     |\n",
      "|    bin4   |       inf      |    1.35   |     1.33     |     -1.57     |\n",
      "|    bin5   |       inf      |    4.19   |     4.18     |     -0.41     |\n",
      "|    bin6   |       inf      |    27.4   |     13.2     |     -51.9     |\n",
      "+-----------+----------------+-----------+--------------+---------------+\n"
     ]
    }
   ],
   "source": [
    "from prettytable import PrettyTable\n",
    "\n",
    "print 'fsky = ',fsky\n",
    "\n",
    "print 'kappa-galaxies and kappa-galaxies + TE, with noise'\n",
    "t = PrettyTable(['Parameter','sigmas_kk_bin1','sigmas_kg','sigmas_kg+TE','percent diff.'])\n",
    "for i,p in enumerate(paramList):\n",
    "    Skk2 = sigmas_kk2[i]\n",
    "    Zi = sigmaskg[i]\n",
    "    Bi = sigmaskgTE[i]\n",
    "    diff = (Bi-Zi)/Zi *100\n",
    "    t.add_row([p,\"%5.3g\" % Skk2,\"%5.3g\" % Zi,\"%5.3g\" % Bi, \"%5.3g\" % diff ] )\n",
    "print t\n"
   ]
  },
  {
   "cell_type": "code",
   "execution_count": 454,
   "metadata": {},
   "outputs": [
    {
     "name": "stdout",
     "output_type": "stream",
     "text": [
      "['ombh2' 'omch2' 'H0' '10^9 As' 'ns' 'tau' 'mnu' 'w' 'bin2' 'bin3' 'bin4'\n",
      " 'bin5' 'bin6']\n"
     ]
    }
   ],
   "source": [
    "# fix wa for comparison\n",
    "doWa = True\n",
    "#doWa = False\n",
    "\n",
    "# define row,col deleting function\n",
    "def fixParam(Fij,pNum):\n",
    "    return np.delete(np.delete(Fij,pNum,0),pNum,1)\n",
    "\n",
    "# ditch wa\n",
    "if doWa:\n",
    "    wIndex = 7 # 7 for wa\n",
    "    # copied from above.  Need to modify\n",
    "    Fij_kg2j_nw = fixParam(Fij_kg2j,wIndex)\n",
    "    Fij_kgTE2j_nw = fixParam(Fij_kgTE2j,wIndex)\n",
    "    Fij_kk2j_nw = fixParam(Fij_kk2j,wIndex)\n",
    "\n",
    "    paramList = np.delete(paramList,wIndex)\n",
    "    print paramList"
   ]
  },
  {
   "cell_type": "code",
   "execution_count": 455,
   "metadata": {},
   "outputs": [
    {
     "name": "stderr",
     "output_type": "stream",
     "text": [
      "/opt/local/Library/Frameworks/Python.framework/Versions/2.7/lib/python2.7/site-packages/ipykernel_launcher.py:6: RuntimeWarning: divide by zero encountered in divide\n",
      "  \n"
     ]
    }
   ],
   "source": [
    "# get sigmas\n",
    "if doWa:\n",
    "    sigmaskg_nw = getSigmas(Fij_kg2j_nw)\n",
    "    sigmaskgTE_nw = getSigmas(Fij_kgTE2j_nw)\n",
    "    sigmaskk_nw = getSigmas(Fij_kk2j_nw)\n",
    "    sigmaskk_nw = np.concatenate((sigmaskk_nw,1/np.zeros(nBins)))"
   ]
  },
  {
   "cell_type": "code",
   "execution_count": 456,
   "metadata": {},
   "outputs": [
    {
     "name": "stdout",
     "output_type": "stream",
     "text": [
      "marginalized over w_a\n",
      "fsky =  0.4\n",
      "kappa-galaxies and kappa-galaxies + TE, with noise\n",
      "+-----------+----------------+-----------+--------------+---------------+\n",
      "| Parameter | sigmas_kk_bin1 | sigmas_kg | sigmas_kg+TE | percent diff. |\n",
      "+-----------+----------------+-----------+--------------+---------------+\n",
      "|   ombh2   |      18.9      |   0.0477  |   3.64e-05   |     -99.9     |\n",
      "|   omch2   |      57.8      |   0.135   |    0.005     |     -96.3     |\n",
      "|     H0    |    3.32e+04    |     120   |     3.71     |     -96.9     |\n",
      "|  10^9 As  |    1.05e+03    |    2.89   |    0.0728    |     -97.5     |\n",
      "|     ns    |      91.3      |   0.171   |    0.0194    |     -88.7     |\n",
      "|    tau    |    2.27e+04    |     150   |    0.0308    |      -100     |\n",
      "|    mnu    |       113      |    1.08   |    0.286     |     -73.6     |\n",
      "|     w     |       642      |    2.65   |    0.0192    |     -99.3     |\n",
      "|    bin2   |       inf      |   0.673   |    0.399     |     -40.6     |\n",
      "|    bin3   |       inf      |    0.66   |     0.52     |     -21.2     |\n",
      "|    bin4   |       inf      |    1.34   |     1.32     |      -1.5     |\n",
      "|    bin5   |       inf      |    4.19   |     4.17     |     -0.523    |\n",
      "|    bin6   |       inf      |    13.2   |     13.2     |     -0.288    |\n",
      "+-----------+----------------+-----------+--------------+---------------+\n"
     ]
    }
   ],
   "source": [
    "if doWa:\n",
    "    print 'marginalized over w_a'\n",
    "    print 'fsky = ',fsky\n",
    "\n",
    "    print 'kappa-galaxies and kappa-galaxies + TE, with noise'\n",
    "    t = PrettyTable(['Parameter','sigmas_kk_bin1','sigmas_kg','sigmas_kg+TE','percent diff.'])\n",
    "    for i,p in enumerate(paramList):\n",
    "        Skk2 = sigmaskk_nw[i]\n",
    "        Zi = sigmaskg_nw[i]\n",
    "        Bi = sigmaskgTE_nw[i]\n",
    "        diff = (Bi-Zi)/Zi *100\n",
    "        t.add_row([p,\"%5.3g\" % Skk2,\"%5.3g\" % Zi,\"%5.3g\" % Bi, \"%5.3g\" % diff ] )\n",
    "    print t"
   ]
  },
  {
   "cell_type": "code",
   "execution_count": null,
   "metadata": {},
   "outputs": [],
   "source": []
  },
  {
   "cell_type": "code",
   "execution_count": 457,
   "metadata": {},
   "outputs": [
    {
     "data": {
      "text/plain": [
       "'\\nlinear P(k)\\nUsing new dCl/dw (called w2) and w0,wa:\\nkmax = 0.1\\nfsky =  0.4\\nkappa-galaxies and kappa-galaxies + TE, with noise\\n+-----------+----------------+-----------+--------------+---------------+\\n| Parameter | sigmas_kk_bin1 | sigmas_kg | sigmas_kg+TE | percent diff. |\\n+-----------+----------------+-----------+--------------+---------------+\\n|   ombh2   |       650      |   0.0687  |   3.64e-05   |     -99.9     |\\n|   omch2   |    2.04e+03    |   0.195   |   0.00557    |     -97.1     |\\n|     H0    |    1.4e+06     |     310   |     4.32     |     -98.6     |\\n|  10^9 As  |    3.36e+04    |    4.23   |    0.417     |     -90.1     |\\n|     ns    |    3.32e+03    |    0.24   |    0.0221    |     -90.8     |\\n|    tau    |    6.15e+04    |     281   |    0.102     |      -100     |\\n|    mnu    |    4.65e+03    |    2.13   |    0.405     |       -81     |\\n|     wa    |    5.3e+04     |      40   |     1.35     |     -96.6     |\\n|     w     |    3.85e+04    |    18.9   |    0.0193    |     -99.9     |\\n|    bin2   |       inf      |    1.17   |    0.522     |     -55.4     |\\n|    bin3   |       inf      |    1.01   |    0.699     |     -30.6     |\\n|    bin4   |       inf      |    1.87   |     1.79     |     -4.46     |\\n|    bin5   |       inf      |    5.81   |     5.75     |     -0.988    |\\n|    bin6   |       inf      |    35.1   |     17.8     |     -49.2     |\\n+-----------+----------------+-----------+--------------+---------------+\\nkmax = 0.2\\nfsky =  0.4\\nkappa-galaxies and kappa-galaxies + TE, with noise\\n+-----------+----------------+-----------+--------------+---------------+\\n| Parameter | sigmas_kk_bin1 | sigmas_kg | sigmas_kg+TE | percent diff. |\\n+-----------+----------------+-----------+--------------+---------------+\\n|   ombh2   |      28.3      |   0.0433  |   1.22e-05   |      -100     |\\n|   omch2   |      89.9      |   0.122   |   0.000536   |     -99.6     |\\n|     H0    |    3.35e+04    |     210   |     0.94     |     -99.6     |\\n|  10^9 As  |    1.47e+03    |    2.68   |    0.0612    |     -97.7     |\\n|     ns    |       159      |   0.154   |   0.00174    |     -98.9     |\\n|    tau    |    2.28e+04    |     174   |    0.0144    |      -100     |\\n|    mnu    |       344      |    1.45   |     0.12     |     -91.7     |\\n|     wa    |    4.37e+03    |    31.6   |    0.151     |     -99.5     |\\n|     w     |    1.84e+03    |    14.4   |   0.00185    |      -100     |\\n|    bin2   |       inf      |   0.707   |    0.396     |       -44     |\\n|    bin3   |       inf      |   0.652   |    0.508     |     -22.2     |\\n|    bin4   |       inf      |    1.35   |     1.32     |     -2.42     |\\n|    bin5   |       inf      |    4.19   |     4.17     |     -0.57     |\\n|    bin6   |       inf      |    27.4   |     13.2     |       -52     |\\n+-----------+----------------+-----------+--------------+---------------+\\n'"
      ]
     },
     "execution_count": 457,
     "metadata": {},
     "output_type": "execute_result"
    }
   ],
   "source": [
    "\"\"\"\n",
    "linear P(k)\n",
    "Using new dCl/dw (called w2) and w0,wa:\n",
    "kmax = 0.1\n",
    "fsky =  0.4\n",
    "kappa-galaxies and kappa-galaxies + TE, with noise\n",
    "+-----------+----------------+-----------+--------------+---------------+\n",
    "| Parameter | sigmas_kk_bin1 | sigmas_kg | sigmas_kg+TE | percent diff. |\n",
    "+-----------+----------------+-----------+--------------+---------------+\n",
    "|   ombh2   |       650      |   0.0687  |   3.64e-05   |     -99.9     |\n",
    "|   omch2   |    2.04e+03    |   0.195   |   0.00557    |     -97.1     |\n",
    "|     H0    |    1.4e+06     |     310   |     4.32     |     -98.6     |\n",
    "|  10^9 As  |    3.36e+04    |    4.23   |    0.417     |     -90.1     |\n",
    "|     ns    |    3.32e+03    |    0.24   |    0.0221    |     -90.8     |\n",
    "|    tau    |    6.15e+04    |     281   |    0.102     |      -100     |\n",
    "|    mnu    |    4.65e+03    |    2.13   |    0.405     |       -81     |\n",
    "|     wa    |    5.3e+04     |      40   |     1.35     |     -96.6     |\n",
    "|     w     |    3.85e+04    |    18.9   |    0.0193    |     -99.9     |\n",
    "|    bin2   |       inf      |    1.17   |    0.522     |     -55.4     |\n",
    "|    bin3   |       inf      |    1.01   |    0.699     |     -30.6     |\n",
    "|    bin4   |       inf      |    1.87   |     1.79     |     -4.46     |\n",
    "|    bin5   |       inf      |    5.81   |     5.75     |     -0.988    |\n",
    "|    bin6   |       inf      |    35.1   |     17.8     |     -49.2     |\n",
    "+-----------+----------------+-----------+--------------+---------------+\n",
    "kmax = 0.2\n",
    "fsky =  0.4\n",
    "kappa-galaxies and kappa-galaxies + TE, with noise\n",
    "+-----------+----------------+-----------+--------------+---------------+\n",
    "| Parameter | sigmas_kk_bin1 | sigmas_kg | sigmas_kg+TE | percent diff. |\n",
    "+-----------+----------------+-----------+--------------+---------------+\n",
    "|   ombh2   |      28.3      |   0.0479  |   3.64e-05   |     -99.9     |\n",
    "|   omch2   |      89.9      |   0.136   |   0.00502    |     -96.3     |\n",
    "|     H0    |    3.35e+04    |     218   |        4     |     -98.2     |\n",
    "|  10^9 As  |    1.47e+03    |    2.95   |    0.304     |     -89.7     |\n",
    "|     ns    |       159      |   0.172   |    0.0194    |     -88.7     |\n",
    "|    tau    |    2.28e+04    |     175   |    0.0746    |      -100     |\n",
    "|    mnu    |       344      |    1.51   |    0.363     |     -75.9     |\n",
    "|     wa    |    4.37e+03    |    31.7   |    0.961     |       -97     |\n",
    "|     w     |    1.84e+03    |    14.6   |    0.0193    |     -99.9     |\n",
    "|    bin2   |       inf      |   0.742   |    0.405     |     -45.4     |\n",
    "|    bin3   |       inf      |   0.664   |     0.52     |     -21.7     |\n",
    "|    bin4   |       inf      |    1.35   |     1.33     |     -1.57     |\n",
    "|    bin5   |       inf      |    4.19   |     4.18     |     -0.41     |\n",
    "|    bin6   |       inf      |    27.4   |     13.2     |     -51.9     |\n",
    "+-----------+----------------+-----------+--------------+---------------+\n",
    "\"\"\""
   ]
  },
  {
   "cell_type": "code",
   "execution_count": 458,
   "metadata": {},
   "outputs": [
    {
     "data": {
      "text/plain": [
       "'\\nlinear P(k)\\nUsing new dCl/dw (called w2)\\nkmax = 0.1\\nfsky =  0.4\\nkappa-galaxies and kappa-galaxies + TE, with noise\\n+-----------+----------------+-----------+--------------+---------------+\\n| Parameter | sigmas_kk_bin1 | sigmas_kg | sigmas_kg+TE | percent diff. |\\n+-----------+----------------+-----------+--------------+---------------+\\n|   ombh2   |       534      |   0.0668  |   3.64e-05   |     -99.9     |\\n|   omch2   |    1.65e+03    |   0.189   |   0.00556    |     -97.1     |\\n|     H0    |    9.03e+05    |     184   |     4.03     |     -97.8     |\\n|  10^9 As  |    2.75e+04    |    4.03   |    0.0933    |     -97.7     |\\n|     ns    |    2.64e+03    |   0.233   |    0.0219    |     -90.6     |\\n|    tau    |    6.02e+04    |     240   |    0.0377    |      -100     |\\n|    mnu    |    1.4e+03     |    1.55   |    0.312     |     -79.8     |\\n|     w     |    1.61e+04    |    4.04   |    0.0192    |     -99.5     |\\n|    bin2   |       inf      |    1.05   |    0.517     |     -50.9     |\\n|    bin3   |       inf      |       1   |    0.696     |     -30.6     |\\n|    bin4   |       inf      |    1.86   |     1.78     |     -4.63     |\\n|    bin5   |       inf      |     5.8   |     5.74     |     -1.15     |\\n|    bin6   |       inf      |    17.9   |     17.8     |     -0.583    |\\n+-----------+----------------+-----------+--------------+---------------+\\n\\nkmax = 0.2\\nfsky =  0.4\\nkappa-galaxies and kappa-galaxies + TE, with noise\\n+-----------+----------------+-----------+--------------+---------------+\\n| Parameter | sigmas_kk_bin1 | sigmas_kg | sigmas_kg+TE | percent diff. |\\n+-----------+----------------+-----------+--------------+---------------+\\n|   ombh2   |      18.9      |   0.0477  |   3.64e-05   |     -99.9     |\\n|   omch2   |      57.8      |   0.135   |    0.005     |     -96.3     |\\n|     H0    |    3.32e+04    |     120   |     3.71     |     -96.9     |\\n|  10^9 As  |    1.05e+03    |    2.89   |    0.0728    |     -97.5     |\\n|     ns    |      91.3      |   0.171   |    0.0194    |     -88.7     |\\n|    tau    |    2.27e+04    |     150   |    0.0308    |      -100     |\\n|    mnu    |       113      |    1.08   |    0.286     |     -73.6     |\\n|     w     |       642      |    2.65   |    0.0192    |     -99.3     |\\n|    bin2   |       inf      |   0.673   |    0.399     |     -40.6     |\\n|    bin3   |       inf      |    0.66   |     0.52     |     -21.2     |\\n|    bin4   |       inf      |    1.34   |     1.32     |      -1.5     |\\n|    bin5   |       inf      |    4.19   |     4.17     |     -0.523    |\\n|    bin6   |       inf      |    13.2   |     13.2     |     -0.288    |\\n+-----------+----------------+-----------+--------------+---------------+\\n\\n'"
      ]
     },
     "execution_count": 458,
     "metadata": {},
     "output_type": "execute_result"
    }
   ],
   "source": [
    "\"\"\"\n",
    "linear P(k)\n",
    "Using new dCl/dw (called w2)\n",
    "kmax = 0.1\n",
    "fsky =  0.4\n",
    "kappa-galaxies and kappa-galaxies + TE, with noise\n",
    "+-----------+----------------+-----------+--------------+---------------+\n",
    "| Parameter | sigmas_kk_bin1 | sigmas_kg | sigmas_kg+TE | percent diff. |\n",
    "+-----------+----------------+-----------+--------------+---------------+\n",
    "|   ombh2   |       534      |   0.0668  |   3.64e-05   |     -99.9     |\n",
    "|   omch2   |    1.65e+03    |   0.189   |   0.00556    |     -97.1     |\n",
    "|     H0    |    9.03e+05    |     184   |     4.03     |     -97.8     |\n",
    "|  10^9 As  |    2.75e+04    |    4.03   |    0.0933    |     -97.7     |\n",
    "|     ns    |    2.64e+03    |   0.233   |    0.0219    |     -90.6     |\n",
    "|    tau    |    6.02e+04    |     240   |    0.0377    |      -100     |\n",
    "|    mnu    |    1.4e+03     |    1.55   |    0.312     |     -79.8     |\n",
    "|     w     |    1.61e+04    |    4.04   |    0.0192    |     -99.5     |\n",
    "|    bin2   |       inf      |    1.05   |    0.517     |     -50.9     |\n",
    "|    bin3   |       inf      |       1   |    0.696     |     -30.6     |\n",
    "|    bin4   |       inf      |    1.86   |     1.78     |     -4.63     |\n",
    "|    bin5   |       inf      |     5.8   |     5.74     |     -1.15     |\n",
    "|    bin6   |       inf      |    17.9   |     17.8     |     -0.583    |\n",
    "+-----------+----------------+-----------+--------------+---------------+\n",
    "\n",
    "kmax = 0.2\n",
    "fsky =  0.4\n",
    "kappa-galaxies and kappa-galaxies + TE, with noise\n",
    "+-----------+----------------+-----------+--------------+---------------+\n",
    "| Parameter | sigmas_kk_bin1 | sigmas_kg | sigmas_kg+TE | percent diff. |\n",
    "+-----------+----------------+-----------+--------------+---------------+\n",
    "|   ombh2   |      18.9      |   0.0477  |   3.64e-05   |     -99.9     |\n",
    "|   omch2   |      57.8      |   0.135   |    0.005     |     -96.3     |\n",
    "|     H0    |    3.32e+04    |     120   |     3.71     |     -96.9     |\n",
    "|  10^9 As  |    1.05e+03    |    2.89   |    0.0728    |     -97.5     |\n",
    "|     ns    |      91.3      |   0.171   |    0.0194    |     -88.7     |\n",
    "|    tau    |    2.27e+04    |     150   |    0.0308    |      -100     |\n",
    "|    mnu    |       113      |    1.08   |    0.286     |     -73.6     |\n",
    "|     w     |       642      |    2.65   |    0.0192    |     -99.3     |\n",
    "|    bin2   |       inf      |   0.673   |    0.399     |     -40.6     |\n",
    "|    bin3   |       inf      |    0.66   |     0.52     |     -21.2     |\n",
    "|    bin4   |       inf      |    1.34   |     1.32     |      -1.5     |\n",
    "|    bin5   |       inf      |    4.19   |     4.17     |     -0.523    |\n",
    "|    bin6   |       inf      |    13.2   |     13.2     |     -0.288    |\n",
    "+-----------+----------------+-----------+--------------+---------------+\n",
    "\n",
    "\"\"\""
   ]
  },
  {
   "cell_type": "code",
   "execution_count": 459,
   "metadata": {},
   "outputs": [
    {
     "data": {
      "text/plain": [
       "'\\nnonlinear P(k)\\nUsing new dCl/dw (called w2) and w0,wa:\\nkmax = 0.1\\nfsky =  0.4\\nkappa-galaxies and kappa-galaxies + TE, with noise\\n+-----------+----------------+-----------+--------------+---------------+\\n| Parameter | sigmas_kk_bin1 | sigmas_kg | sigmas_kg+TE | percent diff. |\\n+-----------+----------------+-----------+--------------+---------------+\\n|   ombh2   |       511      |   0.0625  |   3.64e-05   |     -99.9     |\\n|   omch2   |    1.6e+03     |   0.202   |   0.00455    |     -97.8     |\\n|     H0    |    1.36e+06    |     513   |     23.7     |     -95.4     |\\n|  10^9 As  |    2.87e+04    |    3.72   |    0.373     |     -89.9     |\\n|     ns    |    2.9e+03     |   0.462   |    0.0257    |     -94.4     |\\n|    tau    |    6.83e+04    |     269   |    0.104     |      -100     |\\n|    mnu    |    6.02e+03    |    1.19   |    0.337     |     -71.7     |\\n|     wa    |    3.68e+04    |    24.3   |    0.317     |     -98.7     |\\n|     w     |    2.76e+04    |    10.4   |    0.218     |     -97.9     |\\n|    bin2   |       inf      |   0.832   |    0.519     |     -37.6     |\\n|    bin3   |       inf      |   0.807   |    0.702     |       -13     |\\n|    bin4   |       inf      |    1.86   |      1.8     |     -3.41     |\\n|    bin5   |       inf      |     5.9   |     5.79     |     -1.87     |\\n|    bin6   |       inf      |    31.5   |     17.8     |     -43.4     |\\n+-----------+----------------+-----------+--------------+---------------+\\n\\nkmax = 0.2\\nfsky =  0.4\\nkappa-galaxies and kappa-galaxies + TE, with noise\\n+-----------+----------------+-----------+--------------+---------------+\\n| Parameter | sigmas_kk_bin1 | sigmas_kg | sigmas_kg+TE | percent diff. |\\n+-----------+----------------+-----------+--------------+---------------+\\n|   ombh2   |      53.2      |   0.0387  |   3.64e-05   |     -99.9     |\\n|   omch2   |       163      |   0.118   |   0.00375    |     -96.8     |\\n|     H0    |    1.14e+05    |     315   |     17.2     |     -94.5     |\\n|  10^9 As  |    2.99e+03    |    2.42   |    0.288     |     -88.1     |\\n|     ns    |       275      |    0.25   |    0.0209    |     -91.6     |\\n|    tau    |    2.54e+04    |     168   |    0.0814    |      -100     |\\n|    mnu    |       939      |   0.875   |     0.28     |       -68     |\\n|     wa    |    6.2e+03     |    14.5   |    0.229     |     -98.4     |\\n|     w     |    4.73e+03    |    6.29   |    0.158     |     -97.5     |\\n|    bin2   |       inf      |   0.596   |    0.395     |     -33.7     |\\n|    bin3   |       inf      |   0.633   |    0.517     |     -18.4     |\\n|    bin4   |       inf      |    1.36   |     1.33     |     -1.82     |\\n|    bin5   |       inf      |    4.25   |     4.21     |     -0.889    |\\n|    bin6   |       inf      |      21   |     13.2     |     -36.9     |\\n+-----------+----------------+-----------+--------------+---------------+\\n'"
      ]
     },
     "execution_count": 459,
     "metadata": {},
     "output_type": "execute_result"
    }
   ],
   "source": [
    "\"\"\"\n",
    "nonlinear P(k)\n",
    "Using new dCl/dw (called w2) and w0,wa:\n",
    "kmax = 0.1\n",
    "fsky =  0.4\n",
    "kappa-galaxies and kappa-galaxies + TE, with noise\n",
    "+-----------+----------------+-----------+--------------+---------------+\n",
    "| Parameter | sigmas_kk_bin1 | sigmas_kg | sigmas_kg+TE | percent diff. |\n",
    "+-----------+----------------+-----------+--------------+---------------+\n",
    "|   ombh2   |       511      |   0.0625  |   3.64e-05   |     -99.9     |\n",
    "|   omch2   |    1.6e+03     |   0.202   |   0.00455    |     -97.8     |\n",
    "|     H0    |    1.36e+06    |     513   |     23.7     |     -95.4     |\n",
    "|  10^9 As  |    2.87e+04    |    3.72   |    0.373     |     -89.9     |\n",
    "|     ns    |    2.9e+03     |   0.462   |    0.0257    |     -94.4     |\n",
    "|    tau    |    6.83e+04    |     269   |    0.104     |      -100     |\n",
    "|    mnu    |    6.02e+03    |    1.19   |    0.337     |     -71.7     |\n",
    "|     wa    |    3.68e+04    |    24.3   |    0.317     |     -98.7     |\n",
    "|     w     |    2.76e+04    |    10.4   |    0.218     |     -97.9     |\n",
    "|    bin2   |       inf      |   0.832   |    0.519     |     -37.6     |\n",
    "|    bin3   |       inf      |   0.807   |    0.702     |       -13     |\n",
    "|    bin4   |       inf      |    1.86   |      1.8     |     -3.41     |\n",
    "|    bin5   |       inf      |     5.9   |     5.79     |     -1.87     |\n",
    "|    bin6   |       inf      |    31.5   |     17.8     |     -43.4     |\n",
    "+-----------+----------------+-----------+--------------+---------------+\n",
    "\n",
    "kmax = 0.2\n",
    "fsky =  0.4\n",
    "kappa-galaxies and kappa-galaxies + TE, with noise\n",
    "+-----------+----------------+-----------+--------------+---------------+\n",
    "| Parameter | sigmas_kk_bin1 | sigmas_kg | sigmas_kg+TE | percent diff. |\n",
    "+-----------+----------------+-----------+--------------+---------------+\n",
    "|   ombh2   |      53.2      |   0.0387  |   3.64e-05   |     -99.9     |\n",
    "|   omch2   |       163      |   0.118   |   0.00375    |     -96.8     |\n",
    "|     H0    |    1.14e+05    |     315   |     17.2     |     -94.5     |\n",
    "|  10^9 As  |    2.99e+03    |    2.42   |    0.288     |     -88.1     |\n",
    "|     ns    |       275      |    0.25   |    0.0209    |     -91.6     |\n",
    "|    tau    |    2.54e+04    |     168   |    0.0814    |      -100     |\n",
    "|    mnu    |       939      |   0.875   |     0.28     |       -68     |\n",
    "|     wa    |    6.2e+03     |    14.5   |    0.229     |     -98.4     |\n",
    "|     w     |    4.73e+03    |    6.29   |    0.158     |     -97.5     |\n",
    "|    bin2   |       inf      |   0.596   |    0.395     |     -33.7     |\n",
    "|    bin3   |       inf      |   0.633   |    0.517     |     -18.4     |\n",
    "|    bin4   |       inf      |    1.36   |     1.33     |     -1.82     |\n",
    "|    bin5   |       inf      |    4.25   |     4.21     |     -0.889    |\n",
    "|    bin6   |       inf      |      21   |     13.2     |     -36.9     |\n",
    "+-----------+----------------+-----------+--------------+---------------+\n",
    "\"\"\""
   ]
  },
  {
   "cell_type": "code",
   "execution_count": 460,
   "metadata": {},
   "outputs": [
    {
     "data": {
      "text/plain": [
       "'\\nnonlinear P(k)\\nUsing new dCl/dw (called w2)\\nfsky =  0.4\\nkappa-galaxies and kappa-galaxies + TE, with noise\\n+-----------+----------------+-----------+--------------+---------------+\\n| Parameter | sigmas_kk_bin1 | sigmas_kg | sigmas_kg+TE | percent diff. |\\n+-----------+----------------+-----------+--------------+---------------+\\n|   ombh2   |       446      |   0.0547  |   3.64e-05   |     -99.9     |\\n|   omch2   |    1.38e+03    |   0.175   |   0.00421    |     -97.6     |\\n|     H0    |    1.34e+06    |     210   |      3.2     |     -98.5     |\\n|  10^9 As  |    2.51e+04    |    3.05   |    0.106     |     -96.5     |\\n|     ns    |    2.47e+03    |   0.399   |    0.0198    |       -95     |\\n|    tau    |    6.2e+04     |     267   |    0.0392    |      -100     |\\n|    mnu    |    3.68e+03    |    1.07   |    0.267     |     -75.1     |\\n|     w     |    1.35e+04    |    2.49   |    0.0241    |       -99     |\\n|    bin2   |       inf      |   0.804   |    0.518     |     -35.6     |\\n|    bin3   |       inf      |   0.804   |    0.695     |     -13.5     |\\n|    bin4   |       inf      |    1.81   |     1.78     |     -1.61     |\\n|    bin5   |       inf      |    5.82   |     5.78     |     -0.658    |\\n|    bin6   |       inf      |    17.9   |     17.8     |    -0.0984    |\\n+-----------+----------------+-----------+--------------+---------------+\\n\\nkmax = 02\\nfsky =  0.4\\nkappa-galaxies and kappa-galaxies + TE, with noise\\n+-----------+----------------+-----------+--------------+---------------+\\n| Parameter | sigmas_kk_bin1 | sigmas_kg | sigmas_kg+TE | percent diff. |\\n+-----------+----------------+-----------+--------------+---------------+\\n|   ombh2   |      24.9      |   0.0361  |   3.64e-05   |     -99.9     |\\n|   omch2   |      77.4      |   0.109   |   0.00341    |     -96.9     |\\n|     H0    |    7.87e+04    |     150   |     2.75     |     -98.2     |\\n|  10^9 As  |    1.45e+03    |    2.15   |    0.085     |     -96.1     |\\n|     ns    |       139      |    0.23   |    0.0157    |     -93.2     |\\n|    tau    |    2.38e+04    |     168   |    0.031     |      -100     |\\n|    mnu    |       253      |   0.811   |    0.226     |     -72.1     |\\n|     w     |       805      |    1.76   |    0.0241    |     -98.6     |\\n|    bin2   |       inf      |   0.578   |    0.394     |     -31.8     |\\n|    bin3   |       inf      |   0.617   |    0.514     |     -16.7     |\\n|    bin4   |       inf      |    1.34   |     1.32     |     -1.44     |\\n|    bin5   |       inf      |    4.22   |      4.2     |     -0.315    |\\n|    bin6   |       inf      |    13.3   |     13.2     |     -0.101    |\\n+-----------+----------------+-----------+--------------+---------------+\\n'"
      ]
     },
     "execution_count": 460,
     "metadata": {},
     "output_type": "execute_result"
    }
   ],
   "source": [
    "\"\"\"\n",
    "nonlinear P(k)\n",
    "Using new dCl/dw (called w2)\n",
    "fsky =  0.4\n",
    "kappa-galaxies and kappa-galaxies + TE, with noise\n",
    "+-----------+----------------+-----------+--------------+---------------+\n",
    "| Parameter | sigmas_kk_bin1 | sigmas_kg | sigmas_kg+TE | percent diff. |\n",
    "+-----------+----------------+-----------+--------------+---------------+\n",
    "|   ombh2   |       446      |   0.0547  |   3.64e-05   |     -99.9     |\n",
    "|   omch2   |    1.38e+03    |   0.175   |   0.00421    |     -97.6     |\n",
    "|     H0    |    1.34e+06    |     210   |      3.2     |     -98.5     |\n",
    "|  10^9 As  |    2.51e+04    |    3.05   |    0.106     |     -96.5     |\n",
    "|     ns    |    2.47e+03    |   0.399   |    0.0198    |       -95     |\n",
    "|    tau    |    6.2e+04     |     267   |    0.0392    |      -100     |\n",
    "|    mnu    |    3.68e+03    |    1.07   |    0.267     |     -75.1     |\n",
    "|     w     |    1.35e+04    |    2.49   |    0.0241    |       -99     |\n",
    "|    bin2   |       inf      |   0.804   |    0.518     |     -35.6     |\n",
    "|    bin3   |       inf      |   0.804   |    0.695     |     -13.5     |\n",
    "|    bin4   |       inf      |    1.81   |     1.78     |     -1.61     |\n",
    "|    bin5   |       inf      |    5.82   |     5.78     |     -0.658    |\n",
    "|    bin6   |       inf      |    17.9   |     17.8     |    -0.0984    |\n",
    "+-----------+----------------+-----------+--------------+---------------+\n",
    "\n",
    "kmax = 02\n",
    "fsky =  0.4\n",
    "kappa-galaxies and kappa-galaxies + TE, with noise\n",
    "+-----------+----------------+-----------+--------------+---------------+\n",
    "| Parameter | sigmas_kk_bin1 | sigmas_kg | sigmas_kg+TE | percent diff. |\n",
    "+-----------+----------------+-----------+--------------+---------------+\n",
    "|   ombh2   |      24.9      |   0.0361  |   3.64e-05   |     -99.9     |\n",
    "|   omch2   |      77.4      |   0.109   |   0.00341    |     -96.9     |\n",
    "|     H0    |    7.87e+04    |     150   |     2.75     |     -98.2     |\n",
    "|  10^9 As  |    1.45e+03    |    2.15   |    0.085     |     -96.1     |\n",
    "|     ns    |       139      |    0.23   |    0.0157    |     -93.2     |\n",
    "|    tau    |    2.38e+04    |     168   |    0.031     |      -100     |\n",
    "|    mnu    |       253      |   0.811   |    0.226     |     -72.1     |\n",
    "|     w     |       805      |    1.76   |    0.0241    |     -98.6     |\n",
    "|    bin2   |       inf      |   0.578   |    0.394     |     -31.8     |\n",
    "|    bin3   |       inf      |   0.617   |    0.514     |     -16.7     |\n",
    "|    bin4   |       inf      |    1.34   |     1.32     |     -1.44     |\n",
    "|    bin5   |       inf      |    4.22   |      4.2     |     -0.315    |\n",
    "|    bin6   |       inf      |    13.3   |     13.2     |     -0.101    |\n",
    "+-----------+----------------+-----------+--------------+---------------+\n",
    "\"\"\""
   ]
  },
  {
   "cell_type": "code",
   "execution_count": 461,
   "metadata": {},
   "outputs": [
    {
     "data": {
      "text/plain": [
       "'\\nnonlinear P(k)\\nWith the old dCl/dw\\n\\nkmax = 0.1\\nfsky =  0.4\\nkappa-galaxies and kappa-galaxies + TE, with noise\\n+-----------+----------------+-----------+--------------+---------------+\\n| Parameter | sigmas_kk_bin1 | sigmas_kg | sigmas_kg+TE | percent diff. |\\n+-----------+----------------+-----------+--------------+---------------+\\n|   ombh2   |       237      |   0.0508  |   1.32e-05   |      -100     |\\n|   omch2   |       769      |   0.155   |   0.000529   |     -99.7     |\\n|     H0    |    6.6e+05     |     243   |     2.69     |     -98.9     |\\n|  10^9 As  |    1.35e+04    |    3.11   |    0.0588    |     -98.1     |\\n|     ns    |    1.49e+03    |   0.336   |   0.00173    |     -99.5     |\\n|    tau    |    5.44e+04    |     268   |    0.0138    |      -100     |\\n|    mnu    |    2.03e+03    |     1.2   |    0.148     |     -87.6     |\\n|     w     |    5.99e+03    |    2.97   |    0.0551    |     -98.1     |\\n|    bin2   |       inf      |   0.884   |    0.516     |     -41.7     |\\n|    bin3   |       inf      |    0.81   |    0.688     |     -15.1     |\\n|    bin4   |       inf      |    1.81   |     1.78     |      -1.8     |\\n|    bin5   |       inf      |    5.83   |     5.78     |     -0.949    |\\n|    bin6   |       inf      |    18.8   |     17.8     |     -4.99     |\\n+-----------+----------------+-----------+--------------+---------------+\\n\\nkmax = 0.2\\nfsky =  0.4\\nkappa-galaxies and kappa-galaxies + TE, with noise\\n+-----------+----------------+-----------+--------------+---------------+\\n| Parameter | sigmas_kk_bin1 | sigmas_kg | sigmas_kg+TE | percent diff. |\\n+-----------+----------------+-----------+--------------+---------------+\\n|   ombh2   |      40.3      |   0.0364  |   1.32e-05   |      -100     |\\n|   omch2   |       125      |   0.106   |   0.000503   |     -99.5     |\\n|     H0    |    1.31e+05    |     176   |     2.54     |     -98.6     |\\n|  10^9 As  |    2.3e+03     |    2.29   |    0.0579    |     -97.5     |\\n|     ns    |       222      |   0.205   |   0.00172    |     -99.2     |\\n|    tau    |    2.25e+04    |     174   |    0.0136    |      -100     |\\n|    mnu    |       404      |   0.896   |    0.138     |     -84.6     |\\n|     w     |    1.32e+03    |    2.11   |    0.0483    |     -97.7     |\\n|    bin2   |       inf      |   0.621   |    0.393     |     -36.8     |\\n|    bin3   |       inf      |   0.629   |    0.509     |     -19.1     |\\n|    bin4   |       inf      |    1.34   |     1.32     |     -1.65     |\\n|    bin5   |       inf      |    4.22   |      4.2     |     -0.445    |\\n|    bin6   |       inf      |    13.8   |     13.2     |     -4.27     |\\n+-----------+----------------+-----------+--------------+---------------+\\n\\nnow wait.. why did the kk column change?  wtf? Does it get bigger after each run?\\n'"
      ]
     },
     "execution_count": 461,
     "metadata": {},
     "output_type": "execute_result"
    }
   ],
   "source": [
    "\"\"\"\n",
    "nonlinear P(k)\n",
    "With the old dCl/dw\n",
    "\n",
    "kmax = 0.1\n",
    "fsky =  0.4\n",
    "kappa-galaxies and kappa-galaxies + TE, with noise\n",
    "+-----------+----------------+-----------+--------------+---------------+\n",
    "| Parameter | sigmas_kk_bin1 | sigmas_kg | sigmas_kg+TE | percent diff. |\n",
    "+-----------+----------------+-----------+--------------+---------------+\n",
    "|   ombh2   |       237      |   0.0508  |   1.32e-05   |      -100     |\n",
    "|   omch2   |       769      |   0.155   |   0.000529   |     -99.7     |\n",
    "|     H0    |    6.6e+05     |     243   |     2.69     |     -98.9     |\n",
    "|  10^9 As  |    1.35e+04    |    3.11   |    0.0588    |     -98.1     |\n",
    "|     ns    |    1.49e+03    |   0.336   |   0.00173    |     -99.5     |\n",
    "|    tau    |    5.44e+04    |     268   |    0.0138    |      -100     |\n",
    "|    mnu    |    2.03e+03    |     1.2   |    0.148     |     -87.6     |\n",
    "|     w     |    5.99e+03    |    2.97   |    0.0551    |     -98.1     |\n",
    "|    bin2   |       inf      |   0.884   |    0.516     |     -41.7     |\n",
    "|    bin3   |       inf      |    0.81   |    0.688     |     -15.1     |\n",
    "|    bin4   |       inf      |    1.81   |     1.78     |      -1.8     |\n",
    "|    bin5   |       inf      |    5.83   |     5.78     |     -0.949    |\n",
    "|    bin6   |       inf      |    18.8   |     17.8     |     -4.99     |\n",
    "+-----------+----------------+-----------+--------------+---------------+\n",
    "\n",
    "kmax = 0.2\n",
    "fsky =  0.4\n",
    "kappa-galaxies and kappa-galaxies + TE, with noise\n",
    "+-----------+----------------+-----------+--------------+---------------+\n",
    "| Parameter | sigmas_kk_bin1 | sigmas_kg | sigmas_kg+TE | percent diff. |\n",
    "+-----------+----------------+-----------+--------------+---------------+\n",
    "|   ombh2   |      40.3      |   0.0364  |   1.32e-05   |      -100     |\n",
    "|   omch2   |       125      |   0.106   |   0.000503   |     -99.5     |\n",
    "|     H0    |    1.31e+05    |     176   |     2.54     |     -98.6     |\n",
    "|  10^9 As  |    2.3e+03     |    2.29   |    0.0579    |     -97.5     |\n",
    "|     ns    |       222      |   0.205   |   0.00172    |     -99.2     |\n",
    "|    tau    |    2.25e+04    |     174   |    0.0136    |      -100     |\n",
    "|    mnu    |       404      |   0.896   |    0.138     |     -84.6     |\n",
    "|     w     |    1.32e+03    |    2.11   |    0.0483    |     -97.7     |\n",
    "|    bin2   |       inf      |   0.621   |    0.393     |     -36.8     |\n",
    "|    bin3   |       inf      |   0.629   |    0.509     |     -19.1     |\n",
    "|    bin4   |       inf      |    1.34   |     1.32     |     -1.65     |\n",
    "|    bin5   |       inf      |    4.22   |      4.2     |     -0.445    |\n",
    "|    bin6   |       inf      |    13.8   |     13.2     |     -4.27     |\n",
    "+-----------+----------------+-----------+--------------+---------------+\n",
    "\n",
    "now wait.. why did the kk column change?  wtf? Does it get bigger after each run?\n",
    "\"\"\""
   ]
  },
  {
   "cell_type": "markdown",
   "metadata": {},
   "source": [
    "# Export to CosmicFish"
   ]
  },
  {
   "cell_type": "code",
   "execution_count": 462,
   "metadata": {},
   "outputs": [],
   "source": [
    "# setup for saving files in directory structure\n",
    "import os\n",
    "\n",
    "def createFolder(directory):\n",
    "    try:\n",
    "        if not os.path.exists(directory):\n",
    "            os.makedirs(directory)\n",
    "    except OSError:\n",
    "        print ('Error: Creating directory. ' +  directory)\n"
   ]
  },
  {
   "cell_type": "code",
   "execution_count": 463,
   "metadata": {},
   "outputs": [],
   "source": [
    "if kmax == 0.1:\n",
    "    dirName = 'Z_test_5' # uses gk, kgTE with noise and kmax=0.1 limit\n",
    "elif kmax == 0.2:\n",
    "    dirName = 'Z_test_6' # uses gk, kgTE with noise and kmax=0.2 limit\n",
    "else:\n",
    "    dirName = 'Z_wrong_kmax'\n",
    "createFolder(dirName)\n",
    "\n",
    "createFolder(dirName+'/parameters_analysis')\n",
    "createFolder(dirName+'/raw_results')\n",
    "createFolder(dirName+'/results')"
   ]
  },
  {
   "cell_type": "code",
   "execution_count": 464,
   "metadata": {},
   "outputs": [],
   "source": [
    "# fill the raw_results directory\n",
    "#\"\"\"\n",
    "import os\n",
    "os.chdir(dirName+'/raw_results')\n",
    "\n",
    "np.savetxt('2_'+dirName+'_fisher_matrix_Fijkg_cls.dat',Fij_kg2j,fmt='%26.16E', #delimiter='\\t',\n",
    "           header='This file contains a Fisher matrix created with the FisherCl code.')\n",
    "np.savetxt('5_'+dirName+'_fisher_matrix_FijkgTE_cls.dat',Fij_kgTE2j,fmt='%26.16E', #delimiter='\\t',\n",
    "           header='This file contains a Fisher matrix created with the FisherCl code.')\n",
    "\n",
    "# add some code to do the .paramnames files too... but not now\n",
    "\n",
    "os.chdir('../..')\n",
    "#\"\"\"\n"
   ]
  },
  {
   "cell_type": "code",
   "execution_count": null,
   "metadata": {},
   "outputs": [],
   "source": []
  },
  {
   "cell_type": "code",
   "execution_count": null,
   "metadata": {},
   "outputs": [],
   "source": []
  },
  {
   "cell_type": "code",
   "execution_count": 465,
   "metadata": {},
   "outputs": [
    {
     "name": "stdout",
     "output_type": "stream",
     "text": [
      "[1.27067632 1.69710864 2.3610698  2.91412519 3.65051625 5.32683556]\n"
     ]
    }
   ],
   "source": [
    "# get binBs\n",
    "binBs = Fobj.binBs\n",
    "print binBs"
   ]
  },
  {
   "cell_type": "code",
   "execution_count": null,
   "metadata": {},
   "outputs": [],
   "source": []
  },
  {
   "cell_type": "code",
   "execution_count": null,
   "metadata": {},
   "outputs": [],
   "source": []
  },
  {
   "cell_type": "code",
   "execution_count": null,
   "metadata": {},
   "outputs": [],
   "source": []
  },
  {
   "cell_type": "code",
   "execution_count": null,
   "metadata": {},
   "outputs": [],
   "source": []
  },
  {
   "cell_type": "code",
   "execution_count": null,
   "metadata": {},
   "outputs": [],
   "source": []
  },
  {
   "cell_type": "code",
   "execution_count": null,
   "metadata": {},
   "outputs": [],
   "source": []
  },
  {
   "cell_type": "code",
   "execution_count": null,
   "metadata": {},
   "outputs": [],
   "source": []
  },
  {
   "cell_type": "code",
   "execution_count": null,
   "metadata": {},
   "outputs": [],
   "source": []
  },
  {
   "cell_type": "code",
   "execution_count": null,
   "metadata": {},
   "outputs": [],
   "source": []
  },
  {
   "cell_type": "code",
   "execution_count": null,
   "metadata": {},
   "outputs": [],
   "source": []
  },
  {
   "cell_type": "code",
   "execution_count": null,
   "metadata": {},
   "outputs": [],
   "source": []
  },
  {
   "cell_type": "code",
   "execution_count": null,
   "metadata": {},
   "outputs": [],
   "source": []
  },
  {
   "cell_type": "code",
   "execution_count": null,
   "metadata": {},
   "outputs": [],
   "source": []
  }
 ],
 "metadata": {
  "kernelspec": {
   "display_name": "Python 2",
   "language": "python",
   "name": "python2"
  },
  "language_info": {
   "codemirror_mode": {
    "name": "ipython",
    "version": 2
   },
   "file_extension": ".py",
   "mimetype": "text/x-python",
   "name": "python",
   "nbconvert_exporter": "python",
   "pygments_lexer": "ipython2",
   "version": "2.7.14"
  }
 },
 "nbformat": 4,
 "nbformat_minor": 2
}
