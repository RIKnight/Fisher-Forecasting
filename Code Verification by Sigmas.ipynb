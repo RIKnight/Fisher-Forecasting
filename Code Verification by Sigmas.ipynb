{
 "cells": [
  {
   "cell_type": "markdown",
   "metadata": {},
   "source": [
    "# Directly compare the parameter errors from two Fisher programs"
   ]
  },
  {
   "cell_type": "code",
   "execution_count": 156,
   "metadata": {},
   "outputs": [],
   "source": [
    "import crosspower as cp #branch quickCl\n",
    "import FisherCl as fcl\n",
    "#import camb\n",
    "\n",
    "# set plotting to be in the notebook instead of its own qt window\n",
    "%matplotlib inline"
   ]
  },
  {
   "cell_type": "code",
   "execution_count": null,
   "metadata": {},
   "outputs": [],
   "source": []
  },
  {
   "cell_type": "markdown",
   "metadata": {},
   "source": [
    "# Load my Fisher Matrix"
   ]
  },
  {
   "cell_type": "code",
   "execution_count": 157,
   "metadata": {},
   "outputs": [
    {
     "name": "stdout",
     "output_type": "stream",
     "text": [
      "[  0.   1.   2.   3.   4.   6.   7.   8.   9.  12.  13.  14.  18.  19.  24.]\n",
      "['k,k', 'k,g1', 'k,g2', 'k,g3', 'k,g4', 'g1,g1', 'g1,g2', 'g1,g3', 'g1,g4', 'g2,g2', 'g2,g3', 'g2,g4', 'g3,g3', 'g3,g4', 'g4,g4']\n",
      "['ombh2', 'omch2', 'cosmomc_theta', 'As', 'ns', 'tau', 'mnu', 'w', 'bin1', 'bin2', 'bin3', 'bin4']\n",
      "True\n",
      "degenerate\n",
      "[ 1.  1.  1.  1.]\n"
     ]
    }
   ],
   "source": [
    "# load saved Fobj\n",
    "\n",
    "import FisherCl as fcl\n",
    "import crosspower as cp\n",
    "import pickle\n",
    "\n",
    "filehandler = open('Fisher_4_4W.obj','r') # accuracyBoost=3,doNorm=True,lmax=2000, nz=3e5; nonlinear=True,\n",
    "#neutrino_hierarchy = 'degenerate'; from FisherCl branch quickCl\n",
    "\n",
    "#filehandler = open('Fisher_4_4U.obj','r') # accuracyBoost=3,doNorm=True,lmax=1000, epsrel = 1.49e-6; nonlinear=True,\n",
    "#dw=0.05, neutrino_hierarchy = 'degenerate', from FisherCl branch master\n",
    "#filehandler = open('Fisher_4_4T.obj','r') # accuracyBoost=3,doNorm=True,lmax=1000, epsrel = 1.49e-6; nonlinear=False,\n",
    "#dw=0.05, neutrino_hierarchy = 'degenerate', from FisherCl branch master\n",
    "\n",
    "Fobj = pickle.load(filehandler) \n",
    "lmin = Fobj.lmin\n",
    "lmax = Fobj.lmax\n",
    "nMaps = Fobj.nBins + 1\n",
    "nCosParams = Fobj.nParams - Fobj.nBins\n",
    "ells = Fobj.ells\n",
    "obsNames = Fobj.obsNames\n",
    "paramList = Fobj.paramList\n",
    "\n",
    "print Fobj.obsList\n",
    "print Fobj.obsNames\n",
    "print Fobj.paramList\n",
    "print Fobj.nonlinear\n",
    "print Fobj.neutrino_hierarchy\n",
    "print Fobj.binAs"
   ]
  },
  {
   "cell_type": "code",
   "execution_count": 158,
   "metadata": {},
   "outputs": [
    {
     "name": "stdout",
     "output_type": "stream",
     "text": [
      "fsky = 0.5\n",
      "fsky^(-1/2) = 1.41421356237\n"
     ]
    }
   ],
   "source": [
    "# define fsky factor\n",
    "fsky =  0.5\n",
    "print 'fsky =',fsky\n",
    "print 'fsky^(-1/2) =',1/np.sqrt(fsky)\n",
    "\n",
    "#Fij2 *= fsky\n",
    "#sigmas2 = np.sqrt(np.diag(np.linalg.inv(Fij2)))"
   ]
  },
  {
   "cell_type": "code",
   "execution_count": 159,
   "metadata": {},
   "outputs": [],
   "source": [
    "# does not include lmin = 50\n",
    "# get my Fij\n",
    "#FijZ = Fobj.Fij * fsky"
   ]
  },
  {
   "cell_type": "code",
   "execution_count": null,
   "metadata": {},
   "outputs": [],
   "source": []
  },
  {
   "cell_type": "markdown",
   "metadata": {},
   "source": [
    "# Load B's Fisher Matrix to have control over which parameters are fixed"
   ]
  },
  {
   "cell_type": "code",
   "execution_count": 160,
   "metadata": {},
   "outputs": [
    {
     "name": "stdout",
     "output_type": "stream",
     "text": [
      "(12, 12)\n",
      "['b1', 'b2', 'b3', 'b4', 'cosmomc_theta', 'ombh2', 'omch2', 'ns', 'As', 'mnu', 'w', 'tau']\n",
      "['ombh2', 'omch2', 'cosmomc_theta', 'As', 'ns', 'tau', 'mnu', 'w', 'bin1', 'bin2', 'bin3', 'bin4']\n"
     ]
    }
   ],
   "source": [
    "# load some of Byeonghee's stuff\n",
    "v3 = False\n",
    "if v3:\n",
    "    ByeDir = 'Byeonghee_dat3/'\n",
    "\n",
    "    FijB = np.loadtxt(ByeDir+'Fisher_12params.dat')\n",
    "    #Fij_B = (Y.T).reshape(12, 12)\n",
    "    #print Fij_B-Fij_B.transpose()\n",
    "else: #v4\n",
    "    ByeDir = 'Byeonghee_dat4/'\n",
    "\n",
    "    FijB = np.loadtxt(ByeDir+'Fullfisher_12params.dat')\n",
    "    print FijB.shape\n",
    "    \n",
    "    \n",
    "# message from B: \n",
    "# The parameters are ordered in this way: [b1, b2, b3, b4, cosmomc_theta, ombh2, omch2, ns, As, mnu, w, tau]\n",
    "paramListB = ['b1', 'b2', 'b3', 'b4', 'cosmomc_theta', 'ombh2', 'omch2', 'ns', 'As', 'mnu', 'w', 'tau']\n",
    "print paramListB\n",
    "\n",
    "# my ordering:\n",
    "paramList = Fobj.paramList\n",
    "print paramList"
   ]
  },
  {
   "cell_type": "code",
   "execution_count": null,
   "metadata": {},
   "outputs": [],
   "source": []
  },
  {
   "cell_type": "code",
   "execution_count": null,
   "metadata": {},
   "outputs": [],
   "source": []
  },
  {
   "cell_type": "code",
   "execution_count": 161,
   "metadata": {},
   "outputs": [
    {
     "name": "stdout",
     "output_type": "stream",
     "text": [
      "['ombh2', 'omch2', 'cosmomc_theta', 'As', 'ns', 'tau', 'mnu', 'w', 'bin1', 'bin2', 'bin3', 'bin4']\n",
      "['ombh2', 'omch2', 'cosmomc_theta', 'As', 'ns', 'tau', 'mnu', 'w', 'b1', 'b2', 'b3', 'b4']\n"
     ]
    }
   ],
   "source": [
    "# define a permutation to map B's params to mine\n",
    "perm = [5,6,4,8,7,11,9,10,0,1,2,3]\n",
    "print paramList\n",
    "print [paramListB[p] for p in perm]"
   ]
  },
  {
   "cell_type": "code",
   "execution_count": null,
   "metadata": {},
   "outputs": [],
   "source": []
  },
  {
   "cell_type": "markdown",
   "metadata": {},
   "source": [
    "# Function for fixing parameters by removal from Fisher matrix"
   ]
  },
  {
   "cell_type": "code",
   "execution_count": 162,
   "metadata": {},
   "outputs": [],
   "source": [
    "# define row,col deleting function\n",
    "def fixParam(Fij,pNum):\n",
    "    return np.delete(np.delete(Fij,pNum,0),pNum,1)"
   ]
  },
  {
   "cell_type": "code",
   "execution_count": null,
   "metadata": {},
   "outputs": [],
   "source": []
  },
  {
   "cell_type": "markdown",
   "metadata": {},
   "source": [
    "# Function for array permutation"
   ]
  },
  {
   "cell_type": "code",
   "execution_count": 163,
   "metadata": {},
   "outputs": [],
   "source": [
    "# define array permutating function\n",
    "\n",
    "def arrayPermute(myArray,perm):\n",
    "    \"\"\"\n",
    "    Purpose:\n",
    "        Permute the ordering of the rows and columns of a square array. \n",
    "        Permutation will be done on the first two axes of input array.\n",
    "    Inputs:\n",
    "        myArray: an nxn square numpy array, possibly with more than 2 dimensions.\n",
    "        perm: an n-length array, contaning a permutation of the numbers 0 to n-1\n",
    "    Returns:\n",
    "        A permutted numpy array of the same size and shape as input myArray\n",
    "    \"\"\"\n",
    "    # get transpose permutator\n",
    "    axesT = np.arange(myArray.shape.__len__())\n",
    "    axesT[0],axesT[1] = axesT[1],axesT[0]\n",
    "    #print axesT\n",
    "    \n",
    "    tempArray = np.array([myArray[p] for p in perm])\n",
    "    tempArrayT = tempArray.transpose(axesT)  # switches axes 0,1 -> 1,0\n",
    "    returnArrayT = np.array([tempArrayT[p] for p in perm])\n",
    "    returnArray = returnArrayT.transpose(axesT)\n",
    "    return returnArray\n"
   ]
  },
  {
   "cell_type": "code",
   "execution_count": 164,
   "metadata": {},
   "outputs": [],
   "source": [
    "# permute B's Fisher matrix\n",
    "FijBp = arrayPermute(FijB,perm)"
   ]
  },
  {
   "cell_type": "code",
   "execution_count": 165,
   "metadata": {},
   "outputs": [],
   "source": [
    "# scale B's As values to match mine\n",
    "AsIndex = 3\n",
    "FijBp[AsIndex,:] *= 1e9 \n",
    "FijBp[:,AsIndex] *= 1e9 "
   ]
  },
  {
   "cell_type": "markdown",
   "metadata": {},
   "source": [
    "# Function to get sigmas"
   ]
  },
  {
   "cell_type": "code",
   "execution_count": 166,
   "metadata": {},
   "outputs": [],
   "source": [
    "def getSigmas(Fij):\n",
    "    return np.sqrt(np.diag(np.linalg.inv(Fij)))"
   ]
  },
  {
   "cell_type": "code",
   "execution_count": null,
   "metadata": {},
   "outputs": [],
   "source": []
  },
  {
   "cell_type": "code",
   "execution_count": null,
   "metadata": {},
   "outputs": [],
   "source": []
  },
  {
   "cell_type": "markdown",
   "metadata": {},
   "source": [
    "# Calculate sigmas with various parameters held fixed"
   ]
  },
  {
   "cell_type": "code",
   "execution_count": 167,
   "metadata": {},
   "outputs": [],
   "source": [
    "# get my Fij including lmin=50\n",
    "lmin = 50\n",
    "lmax = 1000\n",
    "#lmin = 2\n",
    "#lmax = 2000\n",
    "\n",
    "verbose = False\n",
    "FijZ = Fobj.makeFisher(lmin,lmax,verbose=verbose)\n",
    "\n",
    "# apply fsky\n",
    "FijZ *= fsky\n",
    "\n",
    "# get sigmas for nothing held fixed\n",
    "sigmasZ = getSigmas(FijZ)\n",
    "sigmasB = getSigmas(FijBp)\n"
   ]
  },
  {
   "cell_type": "code",
   "execution_count": 168,
   "metadata": {},
   "outputs": [],
   "source": [
    "# convert to sigma(b)/b\n",
    "# actually, we're not using this.\n",
    "\n",
    "#doSigBoverB = True\n",
    "doSigBoverB = False\n",
    "\n",
    "if doSigBoverB:\n",
    "    binBs = Fobj.binBs\n",
    "    print binBs\n",
    "\n",
    "    sigmasZ[-4:]/=binBs\n",
    "    print sigmasZ\n",
    "    "
   ]
  },
  {
   "cell_type": "code",
   "execution_count": 169,
   "metadata": {},
   "outputs": [
    {
     "name": "stdout",
     "output_type": "stream",
     "text": [
      "['ombh2' 'omch2' 'cosmomc_theta' 'As' 'ns' 'mnu' 'bin1' 'bin2' 'bin3'\n",
      " 'bin4']\n"
     ]
    }
   ],
   "source": [
    "# excise w, tau and remake sigmas\n",
    "\n",
    "# remove tau: row,column = 5\n",
    "toDelete = 5\n",
    "paramList2 = np.delete(paramList,toDelete)\n",
    "FijZ2 = fixParam(FijZ,toDelete)\n",
    "FijB2 = fixParam(FijBp,toDelete)\n",
    "# remove w: row,column = 6 (after deleting tau)\n",
    "toDelete = 6\n",
    "paramList3 = np.delete(paramList2,toDelete)\n",
    "FijZ3 = fixParam(FijZ2,toDelete)\n",
    "FijB3 = fixParam(FijB2,toDelete)\n",
    "\n",
    "# get sigmas for tau, w held fixed\n",
    "sigmasZ3 = getSigmas(FijZ3)\n",
    "sigmasB3 = getSigmas(FijB3)\n",
    "\n",
    "print paramList3"
   ]
  },
  {
   "cell_type": "code",
   "execution_count": 170,
   "metadata": {},
   "outputs": [
    {
     "name": "stdout",
     "output_type": "stream",
     "text": [
      "['ombh2' 'omch2' 'cosmomc_theta' 'As' 'ns' 'bin1' 'bin2' 'bin3' 'bin4']\n"
     ]
    }
   ],
   "source": [
    "# excise mnu and remake sigmas\n",
    "toDelete = 5\n",
    "paramList4 = np.delete(paramList3,toDelete)\n",
    "FijZ4 = fixParam(FijZ3,toDelete)\n",
    "FijB4 = fixParam(FijB3,toDelete)\n",
    "\n",
    "# get sigmas for tau, w, mnu held fixed\n",
    "sigmasZ4 = getSigmas(FijZ4)\n",
    "sigmasB4 = getSigmas(FijB4)\n",
    "\n",
    "print paramList4"
   ]
  },
  {
   "cell_type": "code",
   "execution_count": 171,
   "metadata": {},
   "outputs": [
    {
     "name": "stdout",
     "output_type": "stream",
     "text": [
      "['ombh2' 'omch2' 'cosmomc_theta' 'As' 'ns']\n"
     ]
    }
   ],
   "source": [
    "# excise biases and remake sigmas\n",
    "paramList5 = paramList4[:-4]\n",
    "FijZ5 = FijZ4[:-4,:-4]\n",
    "FijB5 = FijB4[:-4,:-4]\n",
    "\n",
    "# get sigmas for tau, w, mnu, biases held fixed\n",
    "sigmasZ5 = getSigmas(FijZ5)\n",
    "sigmasB5 = getSigmas(FijB5)\n",
    "\n",
    "print paramList5"
   ]
  },
  {
   "cell_type": "code",
   "execution_count": 172,
   "metadata": {},
   "outputs": [
    {
     "name": "stdout",
     "output_type": "stream",
     "text": [
      "['ombh2', 'omch2', 'cosmomc_theta', 'As', 'ns', 'tau', 'mnu', 'w']\n"
     ]
    }
   ],
   "source": [
    "# excise biases and remake sigmas\n",
    "paramList6 = paramList[:-4]\n",
    "FijZ6 = FijZ[:-4,:-4]\n",
    "FijB6 = FijBp[:-4,:-4]\n",
    "\n",
    "# get sigmas for tau, w, mnu, biases held fixed\n",
    "sigmasZ6 = getSigmas(FijZ6)\n",
    "sigmasB6 = getSigmas(FijB6)\n",
    "\n",
    "print paramList6"
   ]
  },
  {
   "cell_type": "code",
   "execution_count": null,
   "metadata": {},
   "outputs": [],
   "source": []
  },
  {
   "cell_type": "markdown",
   "metadata": {},
   "source": [
    "# Make a table of results"
   ]
  },
  {
   "cell_type": "code",
   "execution_count": 173,
   "metadata": {},
   "outputs": [
    {
     "name": "stdout",
     "output_type": "stream",
     "text": [
      "with no parameters fixed: \n",
      "+---------------+--------------+--------------+---------------+\n",
      "|   Parameter   | sigma_Z(k,g) | sigma_B(k,g) | percent diff. |\n",
      "+---------------+--------------+--------------+---------------+\n",
      "|     ombh2     |   0.00231    |   0.00236    |      1.84     |\n",
      "|     omch2     |   0.00697    |   0.00705    |       1.1     |\n",
      "| cosmomc_theta |   8.94e-05   |   7.8e-05    |     -12.7     |\n",
      "|       As      |   1.35e-10   |   1.39e-10   |      2.69     |\n",
      "|       ns      |    0.0194    |    0.0196    |      1.08     |\n",
      "|      tau      |     7.06     |     7.12     |     0.807     |\n",
      "|      mnu      |    0.0964    |    0.101     |      5.22     |\n",
      "|       w       |    0.0412    |    0.0405    |      -1.9     |\n",
      "|      bin1     |    0.0103    |    0.0105    |      1.62     |\n",
      "|      bin2     |    0.0125    |    0.0131    |      4.95     |\n",
      "|      bin3     |    0.0162    |    0.0164    |      1.01     |\n",
      "|      bin4     |    0.0179    |    0.0192    |      6.74     |\n",
      "+---------------+--------------+--------------+---------------+\n",
      "with w, tau fixed: \n",
      "+---------------+--------------+--------------+---------------+\n",
      "|   Parameter   | sigma_Z(k,g) | sigma_B(k,g) | percent diff. |\n",
      "+---------------+--------------+--------------+---------------+\n",
      "|     ombh2     |   0.00181    |   0.00179    |     -0.997    |\n",
      "|     omch2     |   0.00482    |   0.00476    |     -1.11     |\n",
      "| cosmomc_theta |   5.38e-05   |   5.38e-05   |     -0.149    |\n",
      "|       As      |   9.1e-11    |   8.92e-11   |     -1.91     |\n",
      "|       ns      |    0.0103    |    0.0102    |     -1.66     |\n",
      "|      mnu      |    0.0705    |    0.0708    |     0.341     |\n",
      "|      bin1     |   0.00971    |   0.00987    |      1.65     |\n",
      "|      bin2     |   0.00948    |   0.00957    |     0.975     |\n",
      "|      bin3     |    0.0104    |    0.0104    |     -0.57     |\n",
      "|      bin4     |    0.0106    |    0.0113    |      7.25     |\n",
      "+---------------+--------------+--------------+---------------+\n",
      "with w, tau, mnu fixed: \n",
      "+---------------+--------------+--------------+---------------+\n",
      "|   Parameter   | sigma_Z(k,g) | sigma_B(k,g) | percent diff. |\n",
      "+---------------+--------------+--------------+---------------+\n",
      "|     ombh2     |   0.00174    |   0.00174    |     -0.289    |\n",
      "|     omch2     |   0.00465    |   0.00464    |     -0.277    |\n",
      "| cosmomc_theta |   5.38e-05   |   5.37e-05   |     -0.303    |\n",
      "|       As      |   6.29e-11   |   6.27e-11   |     -0.309    |\n",
      "|       ns      |   0.00895    |   0.00894    |     -0.175    |\n",
      "|      bin1     |   0.00436    |   0.00436    |     0.0893    |\n",
      "|      bin2     |   0.00406    |    0.0041    |     0.929     |\n",
      "|      bin3     |   0.00471    |    0.0047    |     -0.155    |\n",
      "|      bin4     |    0.0058    |   0.00581    |      0.12     |\n",
      "+---------------+--------------+--------------+---------------+\n",
      "with w, tau, mnu, biases fixed: \n",
      "+---------------+--------------+--------------+---------------+\n",
      "|   Parameter   | sigma_Z(k,g) | sigma_B(k,g) | percent diff. |\n",
      "+---------------+--------------+--------------+---------------+\n",
      "|     ombh2     |   0.00139    |   0.00137    |     -1.57     |\n",
      "|     omch2     |   0.00322    |   0.00315    |     -2.02     |\n",
      "| cosmomc_theta |   3.6e-05    |   3.53e-05   |     -2.09     |\n",
      "|       As      |   4.14e-11   |   4.05e-11   |     -2.12     |\n",
      "|       ns      |   0.00534    |   0.00527    |     -1.31     |\n",
      "+---------------+--------------+--------------+---------------+\n",
      "with biases fixed: \n",
      "+---------------+--------------+--------------+---------------+\n",
      "|   Parameter   | sigma_Z(k,g) | sigma_B(k,g) | percent diff. |\n",
      "+---------------+--------------+--------------+---------------+\n",
      "|     ombh2     |    0.0016    |   0.00155    |     -3.15     |\n",
      "|     omch2     |    0.0043    |   0.00414    |     -3.58     |\n",
      "| cosmomc_theta |   5.36e-05   |   4.88e-05   |     -8.96     |\n",
      "|       As      |   6.67e-11   |   6.55e-11   |     -1.82     |\n",
      "|       ns      |    0.011     |    0.0108    |     -1.17     |\n",
      "|      tau      |     4.57     |     4.59     |     0.331     |\n",
      "|      mnu      |    0.0355    |    0.0365    |       2.9     |\n",
      "|       w       |    0.0136    |    0.0131    |     -3.84     |\n",
      "+---------------+--------------+--------------+---------------+\n"
     ]
    }
   ],
   "source": [
    "from prettytable import PrettyTable\n",
    "\n",
    "print 'with no parameters fixed: '\n",
    "t = PrettyTable(['Parameter', 'sigma_Z(k,g)','sigma_B(k,g)','percent diff.'])\n",
    "for i,p in enumerate(paramList):\n",
    "    Zi = sigmasZ[i]\n",
    "    Bi = sigmasB[i]\n",
    "    diff = (Bi-Zi)/Zi *100\n",
    "    t.add_row([p,\"%5.3g\" % Zi,\"%5.3g\" % Bi, \"%5.3g\" % diff ] )\n",
    "print t\n",
    "\n",
    "print 'with w, tau fixed: '\n",
    "t = PrettyTable(['Parameter', 'sigma_Z(k,g)','sigma_B(k,g)','percent diff.'])\n",
    "for i,p in enumerate(paramList3):\n",
    "    Zi = sigmasZ3[i]\n",
    "    Bi = sigmasB3[i]\n",
    "    diff = (Bi-Zi)/Zi *100\n",
    "    t.add_row([p,\"%5.3g\" % Zi,\"%5.3g\" % Bi, \"%5.3g\" % diff ] )\n",
    "print t\n",
    "\n",
    "print 'with w, tau, mnu fixed: '\n",
    "t = PrettyTable(['Parameter', 'sigma_Z(k,g)','sigma_B(k,g)','percent diff.'])\n",
    "for i,p in enumerate(paramList4):\n",
    "    Zi = sigmasZ4[i]\n",
    "    Bi = sigmasB4[i]\n",
    "    diff = (Bi-Zi)/Zi *100\n",
    "    t.add_row([p,\"%5.3g\" % Zi,\"%5.3g\" % Bi, \"%5.3g\" % diff ] )\n",
    "print t\n",
    "\n",
    "print 'with w, tau, mnu, biases fixed: '\n",
    "t = PrettyTable(['Parameter', 'sigma_Z(k,g)','sigma_B(k,g)','percent diff.'])\n",
    "for i,p in enumerate(paramList5):\n",
    "    Zi = sigmasZ5[i]\n",
    "    Bi = sigmasB5[i]\n",
    "    diff = (Bi-Zi)/Zi *100\n",
    "    t.add_row([p,\"%5.3g\" % Zi,\"%5.3g\" % Bi, \"%5.3g\" % diff ] )\n",
    "print t\n",
    "\n",
    "print 'with biases fixed: '\n",
    "t = PrettyTable(['Parameter', 'sigma_Z(k,g)','sigma_B(k,g)','percent diff.'])\n",
    "for i,p in enumerate(paramList6):\n",
    "    Zi = sigmasZ6[i]\n",
    "    Bi = sigmasB6[i]\n",
    "    diff = (Bi-Zi)/Zi *100\n",
    "    t.add_row([p,\"%5.3g\" % Zi,\"%5.3g\" % Bi, \"%5.3g\" % diff ] )\n",
    "print t\n",
    "\n"
   ]
  },
  {
   "cell_type": "code",
   "execution_count": null,
   "metadata": {},
   "outputs": [],
   "source": []
  },
  {
   "cell_type": "code",
   "execution_count": null,
   "metadata": {},
   "outputs": [],
   "source": [
    "# notes on LSST dndz - move this somewhere more useful\n",
    "def z0_of_i(i):\n",
    "    print i\n",
    "    return 0.0417 * i − 0.744\n",
    "print z0_of_i(25)"
   ]
  },
  {
   "cell_type": "code",
   "execution_count": null,
   "metadata": {},
   "outputs": [],
   "source": []
  },
  {
   "cell_type": "code",
   "execution_count": null,
   "metadata": {},
   "outputs": [],
   "source": []
  },
  {
   "cell_type": "code",
   "execution_count": null,
   "metadata": {},
   "outputs": [],
   "source": []
  },
  {
   "cell_type": "code",
   "execution_count": null,
   "metadata": {},
   "outputs": [],
   "source": []
  },
  {
   "cell_type": "markdown",
   "metadata": {},
   "source": [
    "# Collected parameter errors from various emails"
   ]
  },
  {
   "cell_type": "code",
   "execution_count": 174,
   "metadata": {},
   "outputs": [],
   "source": [
    "# Byeonghee's results using nonlinear power spectra\n",
    "\"\"\"sigma(b)/b (4 bins) =  [ 0.0063022   0.00560226  0.00540911  0.00466538]\n",
    "sigma(cosmomc_theta) =  7.58276477127e-05\n",
    "sigma(\\Omega_bh^2) =  0.00206850078114\n",
    "sigma(\\Omega_ch^2) =  0.00624934014317\n",
    "sigma(n_s) =  0.0190489068958\n",
    "sigma(10^9A_s) =  0.129011144081\n",
    "sigma(m_{nu}) =  0.11056107791\n",
    "sigma(w) =  0.0411035064527\n",
    "sigma(tau) =  8.25658593413\"\"\"\n",
    "sigmasB4 = {\n",
    "    'cosmomc_theta' : 7.58276477127e-05,\n",
    "    'ombh2' : 0.00206850078114,\n",
    "    'omch2' : 0.00624934014317,\n",
    "    'ns' : 0.0190489068958,\n",
    "    'As' : 0.129011144081e-9,\n",
    "    'mnu' : 0.11056107791,\n",
    "    'w' : 0.0411035064527,\n",
    "    'tau' : 8.25658593413,\n",
    "    'bin1' : 0.0063022,\n",
    "    'bin2' : 0.00560226,\n",
    "    'bin3' : 0.00540911,\n",
    "    'bin4' : 0.00466538\n",
    "}\n",
    "\"\"\"Now do the one that has had w and tau removed\n",
    "sigma(b) (4 bins) =  [ 0.00553446  0.00386324  0.00346112  0.0028168 ]\n",
    "sigma(cosmomc_theta) =  5.3458847331e-05\n",
    "sigma(\\Omega_bh^2) =  0.00164438257858\n",
    "sigma(\\Omega_ch^2) =  0.00435030886836\n",
    "sigma(n_s) =  0.00865043065069\n",
    "sigma(10^9A_s) =  0.0723781128272\n",
    "sigma(m_{nu}) =  0.0667167394008\n",
    "\"\"\"\n",
    "sigmasB5_no_w_tau = {\n",
    "    'cosmomc_theta' : 5.3458847331e-05,\n",
    "    'ombh2' : 0.00164438257858,\n",
    "    'omch2' : 0.00435030886836,\n",
    "    'ns' : 0.00865043065069,\n",
    "    'As' : 0.0723781128272e-9,\n",
    "    'mnu' : 0.0667167394008,\n",
    "    'bin1' : 0.00553446,\n",
    "    'bin2' : 0.00386324,\n",
    "    'bin3' : 0.00346112,\n",
    "    'bin4' : 0.0028168\n",
    "}\n",
    "\n",
    "sigmasB = sigmasB4\n",
    "#sigmasB = sigmasB5_no_w_tau\n"
   ]
  },
  {
   "cell_type": "code",
   "execution_count": null,
   "metadata": {},
   "outputs": [],
   "source": []
  },
  {
   "cell_type": "code",
   "execution_count": 175,
   "metadata": {},
   "outputs": [],
   "source": [
    "# more revised results from Byeonghee; these for linear power spectra\n",
    "\"\"\"\n",
    "+---------------+--------------+--------------+\n",
    "|   Parameter   | sigma_Z(k,g) | sigma_B(k,g) | \n",
    "+---------------+--------------+--------------+\n",
    "|     ombh2     |   0.00135    |   0.00103    | \n",
    "|     omch2     |   0.00313    |   0.00201    |  \n",
    "| cosmomc_theta |   3.52e-05   |   2.50e-05   |   \n",
    "|       As      |   4.45e-11   |   3.11e-11   |     \n",
    "|       ns      |   0.00564    |   0.00330    |     \n",
    "|      mnu      |    0.0187    |    0.0273    |      \n",
    "+---------------+--------------+--------------+\n",
    "\n",
    "+---------------+--------------+\n",
    "|   Parameter   | sigma_B(k,g) | \n",
    "+---------------+--------------+\n",
    "|     ombh2     |   0.00103    | \n",
    "|     omch2     |   0.00200    |  \n",
    "| cosmomc_theta |   2.13e-05   |  \n",
    "|       As      |   2.50e-11   |    \n",
    "|       ns      |   0.00284    |      \n",
    "+---------------+--------------+\n",
    "\"\"\"\n",
    "sigmasB6 = [0.00103,0.00201,2.50e-05,3.11e-11,0.00330,0.0273]\n",
    "sigmasB7 = [0.00103,0.00200,2.13e-05,2.50e-11,0.00284]\n",
    "\n"
   ]
  },
  {
   "cell_type": "code",
   "execution_count": null,
   "metadata": {},
   "outputs": [],
   "source": []
  },
  {
   "cell_type": "code",
   "execution_count": null,
   "metadata": {},
   "outputs": [],
   "source": []
  },
  {
   "cell_type": "code",
   "execution_count": null,
   "metadata": {},
   "outputs": [],
   "source": []
  }
 ],
 "metadata": {
  "kernelspec": {
   "display_name": "Python 2",
   "language": "python",
   "name": "python2"
  },
  "language_info": {
   "codemirror_mode": {
    "name": "ipython",
    "version": 2
   },
   "file_extension": ".py",
   "mimetype": "text/x-python",
   "name": "python",
   "nbconvert_exporter": "python",
   "pygments_lexer": "ipython2",
   "version": "2.7.15"
  }
 },
 "nbformat": 4,
 "nbformat_minor": 2
}
