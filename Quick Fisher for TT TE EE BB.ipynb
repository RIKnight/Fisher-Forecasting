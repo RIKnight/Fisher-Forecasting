{
 "cells": [
  {
   "cell_type": "markdown",
   "metadata": {},
   "source": [
    "# Making some quick calculations to get $F_{ij}$ working for $C_l^{TT},C_l^{TE},C_l^{EE}$ observables"
   ]
  },
  {
   "cell_type": "code",
   "execution_count": 1,
   "metadata": {},
   "outputs": [
    {
     "name": "stderr",
     "output_type": "stream",
     "text": [
      "IMPORT ERROR: /opt/local/Library/Frameworks/Python.framework/Versions/2.7/lib/python2.7/site-packages/quicklens/mpi.pyc (No module named pypar). Could not load pbs or pypar. MPI will not be used.\n"
     ]
    },
    {
     "data": {
      "text/plain": [
       "'\\nThis notebook originally a copy of the TT TE EE version, April 13, 2018.\\n\\n'"
      ]
     },
     "execution_count": 1,
     "metadata": {},
     "output_type": "execute_result"
    }
   ],
   "source": [
    "import crosspower as cp # branch quickCl\n",
    "import FisherCl as fcl\n",
    "import noiseCl as ncl\n",
    "import camb\n",
    "\n",
    "# set plotting to be in the notebook instead of its own qt window\n",
    "%matplotlib inline\n",
    "\n",
    "\"\"\"\n",
    "This notebook originally a copy of the TT TE EE version, April 13, 2018.\n",
    "\n",
    "\"\"\""
   ]
  },
  {
   "cell_type": "code",
   "execution_count": 2,
   "metadata": {},
   "outputs": [
    {
     "data": {
      "text/plain": [
       "\"\\ncosParams = {\\n        'H0'    : None, #67.51, #setting H0=None allows cosmomc_theta to be used instead\\n        'cosmomc_theta'           : 1.04087e-2,\\n        'ombh2' : 0.02226,\\n        'omch2' : 0.1193,\\n        'omk'   : 0,\\n        'tau'   : 0.063,\\n\\n        'As'    : 2.130e-9,\\n        'ns'    : 0.9653,\\n        'r'     : 0,\\n        'kPivot': 0.05,\\n    \\n        'w0'    : -1.0,\\n        'wa'    : 0.0,\\n\\n        # if fiducial mnu is changed, need to adjust omch2 as well\\n        'mnu'   : 0.06, # (eV)\\n        #'mnu'   : 0.058, # Lloyd suggested this value for fiducial; adjust omch2 if I do use it\\n        'nnu'   : 3.046,\\n        'standard_neutrino_neff'  : 3.046,\\n        'num_massive_neutrinos'   : 1,\\n        'neutrino_hierarchy'      : 'normal'}\\n\\nAccuracyBoost = 3\\nnonlinear = True\\nnz = 30000\\nprint 'nonlinear = ',nonlinear\\n\""
      ]
     },
     "execution_count": 2,
     "metadata": {},
     "output_type": "execute_result"
    }
   ],
   "source": [
    "# set cosmological parameters\n",
    "\n",
    "# maybe load a FisherMatrix object and get these from that instead?\n",
    "\"\"\"\n",
    "cosParams = {\n",
    "        'H0'    : None, #67.51, #setting H0=None allows cosmomc_theta to be used instead\n",
    "        'cosmomc_theta'           : 1.04087e-2,\n",
    "        'ombh2' : 0.02226,\n",
    "        'omch2' : 0.1193,\n",
    "        'omk'   : 0,\n",
    "        'tau'   : 0.063,\n",
    "\n",
    "        'As'    : 2.130e-9,\n",
    "        'ns'    : 0.9653,\n",
    "        'r'     : 0,\n",
    "        'kPivot': 0.05,\n",
    "    \n",
    "        'w0'    : -1.0,\n",
    "        'wa'    : 0.0,\n",
    "\n",
    "        # if fiducial mnu is changed, need to adjust omch2 as well\n",
    "        'mnu'   : 0.06, # (eV)\n",
    "        #'mnu'   : 0.058, # Lloyd suggested this value for fiducial; adjust omch2 if I do use it\n",
    "        'nnu'   : 3.046,\n",
    "        'standard_neutrino_neff'  : 3.046,\n",
    "        'num_massive_neutrinos'   : 1,\n",
    "        'neutrino_hierarchy'      : 'normal'}\n",
    "\n",
    "AccuracyBoost = 3\n",
    "nonlinear = True\n",
    "nz = 30000\n",
    "print 'nonlinear = ',nonlinear\n",
    "\"\"\""
   ]
  },
  {
   "cell_type": "code",
   "execution_count": null,
   "metadata": {},
   "outputs": [],
   "source": []
  },
  {
   "cell_type": "markdown",
   "metadata": {},
   "source": [
    "# Load a saved FisherMatrix object for parameters and structure"
   ]
  },
  {
   "cell_type": "code",
   "execution_count": 3,
   "metadata": {},
   "outputs": [
    {
     "name": "stdout",
     "output_type": "stream",
     "text": [
      "obsNames:  ['k,k', 'k,g1', 'k,g2', 'k,g3', 'k,g4', 'k,g5', 'k,g6', 'g1,g1', 'g1,g2', 'g1,g3', 'g1,g4', 'g1,g5', 'g1,g6', 'g2,g2', 'g2,g3', 'g2,g4', 'g2,g5', 'g2,g6', 'g3,g3', 'g3,g4', 'g3,g5', 'g3,g6', 'g4,g4', 'g4,g5', 'g4,g6', 'g5,g5', 'g5,g6', 'g6,g6']\n",
      "paramList:  ['ombh2', 'omch2', 'cosmomc_theta', 'As', 'ns', 'tau', 'mnu', 'wa', 'w', 'bin1', 'bin2', 'bin3', 'bin4', 'bin5', 'bin6']\n",
      "nonlinear:  True\n",
      "nz:  300000\n"
     ]
    }
   ],
   "source": [
    "# load saved Fobj\n",
    "# get lensing and galaxy Fisher matrix to add\n",
    "\n",
    "#\"\"\"\n",
    "import pickle\n",
    "\n",
    "# these two have an additional parameter wa but not crossClsPlus,Minus for it, etc.\n",
    "filehandler = open('Fisher_7_6X2_w2_wan.obj','r') # AccuracyBoost=3, lmax=3000, lmaxP=5000, nz=3e5; nonlinear=True,\n",
    "#filehandler = open('Fisher_7_6X4_w2_wan.obj','r') # AccuracyBoost=3, lmax=3000, lmaxP=5000, nz=3e5; nonlinear=False,\n",
    "\n",
    "Fobj = pickle.load(filehandler) \n",
    "\n",
    "#lmin = Fobj.lmin\n",
    "lmin = 2\n",
    "#lmax = Fobj.lmax\n",
    "lmax = 3000\n",
    "\n",
    "nMaps = Fobj.nBins + 1\n",
    "nCosParams = Fobj.nParams - Fobj.nBins\n",
    "ells = Fobj.ells\n",
    "obsNames = Fobj.obsNames\n",
    "paramList = Fobj.paramList\n",
    "\n",
    "nz = Fobj.nz\n",
    "nonlinear = Fobj.nonlinear\n",
    "AccuracyBoost = Fobj.AccuracyBoost\n",
    "myParams = Fobj.cosParams\n",
    "\n",
    "\n",
    "print 'obsNames: ',obsNames\n",
    "print 'paramList: ',paramList\n",
    "print 'nonlinear: ',nonlinear\n",
    "print 'nz: ',nz\n",
    "#\"\"\"\n"
   ]
  },
  {
   "cell_type": "code",
   "execution_count": 4,
   "metadata": {},
   "outputs": [
    {
     "name": "stderr",
     "output_type": "stream",
     "text": [
      "WARNING:root:accuracy parameters are changed globally, not yet per parameter set\n"
     ]
    },
    {
     "name": "stdout",
     "output_type": "stream",
     "text": [
      "neutrino_hierarchy =  normal\n",
      "zs.size:  299998\n",
      "done.\n"
     ]
    }
   ],
   "source": [
    "# get a matterPower object\n",
    "#reload(cp)\n",
    "myPk = cp.MatterPower(nz=nz,AccuracyBoost=AccuracyBoost,nonlinear=nonlinear,**myParams)\n",
    "print 'done.'"
   ]
  },
  {
   "cell_type": "code",
   "execution_count": null,
   "metadata": {},
   "outputs": [],
   "source": []
  },
  {
   "cell_type": "markdown",
   "metadata": {},
   "source": [
    "# Get all cross power spectra"
   ]
  },
  {
   "cell_type": "code",
   "execution_count": 5,
   "metadata": {},
   "outputs": [],
   "source": [
    "# function for checking the settings as they are being used\n",
    "\n",
    "def checkPars(pars):\n",
    "    H0 = pars.H0\n",
    "    print 'ombh2: ',pars.omegab*(H0/100)**2\n",
    "    print 'omch2: ',pars.omegac*(H0/100)**2\n",
    "    print 'H_0: ',H0, '(proxy for theta?)'\n",
    "    #print 'initial condition vector: ',pars.InitialConditionVector\n",
    "    print 'As: ',pars.InitPower.ScalarPowerAmp[0]\n",
    "    print 'ns: ',pars.InitPower.an[0]\n",
    "    print 'tau: ',pars.Reion.optical_depth\n",
    "    #print 'omega_n: ',pars.omegan\n",
    "    print 'omega_n*94*h**2: ',pars.omegan*94*(H0/100)**2\n",
    "    # need to find w and wa\n",
    "    \n",
    "    #print '\\n'\n",
    "    #print pars\n",
    "    \n",
    "#checkPars(parsTest)\n",
    "if False:\n",
    "    for cParamNum in range(nCosParams):\n",
    "        print '\\nContents of pars objects for parameter set ',cParamNum+1,' for parameter ',paramList[cParamNum], \\\n",
    "              ' with delta ',deltaP[cParamNum]\n",
    "        checkPars(myParsUpper[cParamNum])\n",
    "        checkPars(myParsLower[cParamNum])"
   ]
  },
  {
   "cell_type": "code",
   "execution_count": 6,
   "metadata": {},
   "outputs": [
    {
     "name": "stdout",
     "output_type": "stream",
     "text": [
      "creating parameter sets for making discrete derivatives...\n",
      "creating parameter set for  w  derivative...\n",
      "creating parameter set for  wa  derivative...\n"
     ]
    }
   ],
   "source": [
    "# copy some setup from FisherCl.py\n",
    "\n",
    "# parameters list:\n",
    "# step sizes for discrete derivatives: must correspond to paramList entries!\n",
    "#   from Allison et. al. (2015) Table III.\n",
    "#nCosParams = 9 # 6 LCDM + Mnu + w0 + wa\n",
    "#paramList = ['ombh2','omch2','cosmomc_theta',  'As', 'ns','tau','mnu', 'w', 'wa']\n",
    "#deltaP =    [ 0.0008, 0.0030,      0.0050e-2,0.1e-9,0.010,0.020,0.020,0.05,0.025] #mnu one in eV\n",
    "\n",
    "# for testing\n",
    "nCosParams = 2\n",
    "paramList = [ 'w', 'wa']\n",
    "deltaP =    [0.05,0.025]\n",
    "\n",
    "# cut deltaP in half to see effect\n",
    "#deltaP = np.array(deltaP)/2.\n",
    "\n",
    "# double deltaP to see effect\n",
    "#deltaP = np.array(deltaP)*2.\n",
    "\n",
    "# get more parameter sets for numeric differentiation\n",
    "print 'creating parameter sets for making discrete derivatives...'\n",
    "myParamsUpper = []\n",
    "myParamsLower = []\n",
    "#myParsUpper = []\n",
    "#myParsLower = []\n",
    "for cParamNum in range(nCosParams):\n",
    "    #print 'creating matter power spectra for ',paramList[cParamNum],' derivative...'\n",
    "    print 'creating parameter set for ',paramList[cParamNum],' derivative...'\n",
    "    # add parameter dictionary to lists; HAVE TO BE COPIES!!!\n",
    "    myParamsUpper.append(myParams.copy())\n",
    "    myParamsLower.append(myParams.copy())\n",
    "    # modify parameter number cParamNum in dictionaries\n",
    "    myParamsUpper[cParamNum][paramList[cParamNum]] += deltaP[cParamNum]\n",
    "    myParamsLower[cParamNum][paramList[cParamNum]] -= deltaP[cParamNum]\n",
    "\n",
    "    #print 'cPramNum: ',cParamNum,', param name: ',paramList[cParamNum]\n",
    "    #print 'myParamsUpper[cParamNum][paramList[cParamNum]]: ',myParamsUpper[cParamNum][paramList[cParamNum]]\n",
    "    #print 'myParamsLower[cParamNum][paramList[cParamNum]]: ',myParamsLower[cParamNum][paramList[cParamNum]]\n",
    "    #print 'deltaP[cParamNum]: ',deltaP[cParamNum]\n",
    "\n",
    "    # create pars objects and add to lists. \n",
    "    #myParsUpper.append(cp.MatterPower.getPars(myPk,**myParamsUpper[cParamNum]))\n",
    "    #myParsLower.append(cp.MatterPower.getPars(myPk,**myParamsLower[cParamNum]))\n",
    "\n",
    "    ###### DOING THESE TWO GETPARS CALLS RIGHT AFTER EACH OTHER DESTROYS THE FIRST ONE'S DARK ENERGY SETTING! #####\n",
    "    ###### NEED TO RE-ORGANIZE SO NEED FOR MYPARSUPPER IS COMPLETELY DONE BEFORE CREATING MYPARSLOWER   #####\n",
    "    \n"
   ]
  },
  {
   "cell_type": "code",
   "execution_count": null,
   "metadata": {},
   "outputs": [],
   "source": []
  },
  {
   "cell_type": "code",
   "execution_count": 7,
   "metadata": {},
   "outputs": [],
   "source": [
    "# define function for getting cross power spectra for upper or lower \n",
    "def getCrossCls(paramList,myParams,myPk,nMaps=3,lmax=5000,lpa=5.0,\n",
    "                AccuracyBoost=3,myClName='unlensed_scalar'):\n",
    "    \"\"\"\n",
    "    Purpose:\n",
    "    \n",
    "    Inputs:\n",
    "        paramList: like FisherMatrix.paramList\n",
    "            Note: a list of length 1 will cause a differently shaped array to be returned\n",
    "        myParams: a list of lists of parameters like FisherMatrix.cosParams\n",
    "            This list must have the same length as paramList\n",
    "        myPk: a MatterPower object\n",
    "        \n",
    "        nMaps: number of maps.  Set to 3 for T,E,B\n",
    "        lmax: lmax for returned array\n",
    "        lpa: lensing_power_accuracy setting\n",
    "        AccuracyBoost: accuracy setting\n",
    "        myClName: which type of power spectrum to get from CAMB\n",
    "    Returns:\n",
    "        crossCls: numpy array of shape (nMaps,nMaps,nCosParams,lmax)\n",
    "          unless the lenth of paramList is 1, then shape will be (nMaps,nMaps,lmax)\n",
    "          Note Cl arrays are all zero based (starting at L=0).\n",
    "          Note L=0,1 entries will be zero by default.\n",
    "    \"\"\"\n",
    "    nCosParams = paramList.__len__()\n",
    "    \n",
    "    crossCls = np.zeros((nMaps,nMaps,nCosParams,lmax+1))\n",
    "    for paramNum in range(nCosParams):\n",
    "        print 'getting Cl power spectra for perturbed parameter ',paramList[paramNum]\n",
    "        # get pars\n",
    "        pars = cp.MatterPower.getPars(myPk,lmax=lmax+1,lpa=lpa,AccuracyBoost=AccuracyBoost,\n",
    "                                      **myParams[paramNum])\n",
    "        #get the selected power spectra\n",
    "        results = camb.get_results(pars)\n",
    "        powers = results.get_cmb_power_spectra(pars)\n",
    "        myCl = powers[myClName]\n",
    "        \n",
    "        #store them\n",
    "        #The different CL are always in the order TT, EE, BB, TE (with BB=0 for unlensed scalar results).\n",
    "        crossCls[0,0,paramNum]  = myCl[:lmax+1,0] # TT\n",
    "        crossCls[0,1,paramNum]  = myCl[:lmax+1,3] # TE\n",
    "        crossCls[1,0,paramNum]  = myCl[:lmax+1,3] # ET\n",
    "        crossCls[1,1,paramNum]  = myCl[:lmax+1,1] # EE\n",
    "        if nMaps == 3:\n",
    "            crossCls[2,2,paramNum]  = myCl[:lmax+1,2] # BB\n",
    "        \n",
    "        # reshape for unperterbed version\n",
    "        if nCosParams == 1:\n",
    "            crossCls = np.reshape(crossCls,(nMaps,nMaps,lmax+1))\n",
    "    return crossCls\n",
    "    "
   ]
  },
  {
   "cell_type": "code",
   "execution_count": 8,
   "metadata": {},
   "outputs": [
    {
     "name": "stderr",
     "output_type": "stream",
     "text": [
      "WARNING:root:accuracy parameters are changed globally, not yet per parameter set\n"
     ]
    },
    {
     "name": "stdout",
     "output_type": "stream",
     "text": [
      "getting Cl power spectra for perturbed parameter  (All Fiducial)\n"
     ]
    },
    {
     "name": "stderr",
     "output_type": "stream",
     "text": [
      "WARNING:root:accuracy parameters are changed globally, not yet per parameter set\n",
      "WARNING:root:Currently dark energy parameters are changed globally, not per parameter set\n",
      "WARNING:root:accuracy parameters are changed globally, not yet per parameter set\n"
     ]
    },
    {
     "name": "stdout",
     "output_type": "stream",
     "text": [
      "starting upper spectra for numeric derivatives . . . \n",
      "getting Cl power spectra for perturbed parameter  w\n"
     ]
    },
    {
     "name": "stderr",
     "output_type": "stream",
     "text": [
      "WARNING:root:accuracy parameters are changed globally, not yet per parameter set\n"
     ]
    },
    {
     "name": "stdout",
     "output_type": "stream",
     "text": [
      "getting Cl power spectra for perturbed parameter  wa\n"
     ]
    },
    {
     "name": "stderr",
     "output_type": "stream",
     "text": [
      "WARNING:root:Currently dark energy parameters are changed globally, not per parameter set\n",
      "WARNING:root:accuracy parameters are changed globally, not yet per parameter set\n"
     ]
    },
    {
     "name": "stdout",
     "output_type": "stream",
     "text": [
      "starting lower spectra for numeric derivatives . . . \n",
      "getting Cl power spectra for perturbed parameter  w\n"
     ]
    },
    {
     "name": "stderr",
     "output_type": "stream",
     "text": [
      "WARNING:root:accuracy parameters are changed globally, not yet per parameter set\n"
     ]
    },
    {
     "name": "stdout",
     "output_type": "stream",
     "text": [
      "getting Cl power spectra for perturbed parameter  wa\n"
     ]
    },
    {
     "name": "stderr",
     "output_type": "stream",
     "text": [
      "WARNING:root:accuracy parameters are changed globally, not yet per parameter set\n"
     ]
    },
    {
     "name": "stdout",
     "output_type": "stream",
     "text": [
      "done\n"
     ]
    }
   ],
   "source": [
    "# get all cross power spectra\n",
    "# this cell modified to add BB and fix DE problem\n",
    "\n",
    "lmax = 5000 # may want to match lmax in other Fisher calculation\n",
    "lpa = 5.0\n",
    "pars = myPk.getPars(lmax=lmax,lpa=lpa,AccuracyBoost=AccuracyBoost)\n",
    "\n",
    "#get the total lensed CMB power spectra versus unlensed\n",
    "#myClName = 'total'\n",
    "myClName = 'unlensed_scalar'\n",
    "\n",
    "# select 2 for T,E, 3 for T,E,B\n",
    "nMaps = 3 # T,E,B\n",
    "nCls = nMaps*(nMaps+1)/2\n",
    "\n",
    "#crossCls      = np.zeros((nMaps,nMaps,           lmax))\n",
    "#crossClsPlus  = np.zeros((nMaps,nMaps,nCosParams,lmax))\n",
    "#crossClsMinus = np.zeros((nMaps,nMaps,nCosParams,lmax))\n",
    "\n",
    "# get main set of power spectra\n",
    "crossCls = getCrossCls(['(All Fiducial)'],[myParams],myPk,nMaps=nMaps,lmax=lmax,lpa=lpa,\n",
    "                            AccuracyBoost=AccuracyBoost,myClName=myClName)\n",
    "# get the perturbed versions\n",
    "print 'starting upper spectra for numeric derivatives . . . '\n",
    "crossClsPlus  = getCrossCls(paramList,myParamsUpper,myPk,nMaps=nMaps,lmax=lmax,lpa=lpa,\n",
    "                            AccuracyBoost=AccuracyBoost,myClName=myClName)\n",
    "print 'starting lower spectra for numeric derivatives . . . '\n",
    "crossClsMinus = getCrossCls(paramList,myParamsLower,myPk,nMaps=nMaps,lmax=lmax,lpa=lpa,\n",
    "                            AccuracyBoost=AccuracyBoost,myClName=myClName)\n",
    "\n",
    "# reset global (dark energy and AccuracyBoost) settings\n",
    "pars = myPk.getPars(lmax=lmax,lpa=lpa,AccuracyBoost=AccuracyBoost)\n",
    "\n",
    "ellsP = range(lmax+1)\n",
    "\n",
    "print 'done'\n"
   ]
  },
  {
   "cell_type": "code",
   "execution_count": 49,
   "metadata": {},
   "outputs": [
    {
     "name": "stdout",
     "output_type": "stream",
     "text": [
      "(3, 3, 5001)\n",
      "(3, 3, 2, 5001)\n",
      "(3, 3, 2, 5001)\n"
     ]
    },
    {
     "data": {
      "image/png": "[encoded data removed]",
      "text/plain": [
       "<matplotlib.figure.Figure at 0x115d20310>"
      ]
     },
     "metadata": {},
     "output_type": "display_data"
    },
    {
     "data": {
      "image/png": "[encoded data removed]",
      "text/plain": [
       "<matplotlib.figure.Figure at 0x115dd6090>"
      ]
     },
     "metadata": {},
     "output_type": "display_data"
    },
    {
     "data": {
      "image/png": "[encoded data removed]",
      "text/plain": [
       "<matplotlib.figure.Figure at 0x115d241d0>"
      ]
     },
     "metadata": {},
     "output_type": "display_data"
    },
    {
     "data": {
      "image/png": "[encoded data removed]",
      "text/plain": [
       "<matplotlib.figure.Figure at 0x117ca53d0>"
      ]
     },
     "metadata": {},
     "output_type": "display_data"
    },
    {
     "data": {
      "image/png": "[encoded data removed]",
      "text/plain": [
       "<matplotlib.figure.Figure at 0x10eb59b10>"
      ]
     },
     "metadata": {},
     "output_type": "display_data"
    },
    {
     "data": {
      "image/png": "[encoded data removed]",
      "text/plain": [
       "<matplotlib.figure.Figure at 0x10d7d82d0>"
      ]
     },
     "metadata": {},
     "output_type": "display_data"
    },
    {
     "data": {
      "image/png": "[encoded data removed]",
      "text/plain": [
       "<matplotlib.figure.Figure at 0x116d6c950>"
      ]
     },
     "metadata": {},
     "output_type": "display_data"
    },
    {
     "data": {
      "image/png": "[encoded data removed]",
      "text/plain": [
       "<matplotlib.figure.Figure at 0x115eee390>"
      ]
     },
     "metadata": {},
     "output_type": "display_data"
    },
    {
     "data": {
      "image/png": "[encoded data removed]",
      "text/plain": [
       "<matplotlib.figure.Figure at 0x116e38750>"
      ]
     },
     "metadata": {},
     "output_type": "display_data"
    }
   ],
   "source": [
    "# plot a few\n",
    "print crossCls.shape\n",
    "print crossClsPlus.shape\n",
    "print crossClsMinus.shape\n",
    "for mapNum in range(nMaps):\n",
    "    for mapNum2 in range(nMaps):\n",
    "        plt.plot(ellsP,crossCls[mapNum,mapNum2])\n",
    "        plt.title('crossCls[{0},{1}]'.format(mapNum,mapNum2))\n",
    "        plt.show()"
   ]
  },
  {
   "cell_type": "code",
   "execution_count": null,
   "metadata": {},
   "outputs": [],
   "source": []
  },
  {
   "cell_type": "code",
   "execution_count": null,
   "metadata": {},
   "outputs": [],
   "source": []
  },
  {
   "cell_type": "code",
   "execution_count": null,
   "metadata": {},
   "outputs": [],
   "source": []
  },
  {
   "cell_type": "markdown",
   "metadata": {},
   "source": [
    "# Add Noise"
   ]
  },
  {
   "cell_type": "code",
   "execution_count": 9,
   "metadata": {},
   "outputs": [
    {
     "name": "stdout",
     "output_type": "stream",
     "text": [
      "getting (primary CMB) detector noise...\n",
      "(3, 3, 5001)\n"
     ]
    }
   ],
   "source": [
    "print 'getting (primary CMB) detector noise...'\n",
    "import noiseCl as ncl\n",
    "# CMBS4 v1\n",
    "fwhm = 1; ST = 1; SP = ST*1.414\n",
    "ellsP = range(lmax+1)\n",
    "noiseCMBS4_TT1 = ncl.noisePower(ST,ST,fwhm,ellsP)\n",
    "#noiseCMBS4_TP1 = ncl.noisePower(ST,SP,fwhm,ellsP)\n",
    "noiseCMBS4_PP1 = ncl.noisePower(SP,SP,fwhm,ellsP)\n",
    "\n",
    "# set TE noise to zero\n",
    "zerosList = np.zeros(lmax+1)\n",
    "noiseCMBS4_TP1 = zerosList\n",
    "\n",
    "# shape like crossCls\n",
    "if nMaps == 2:\n",
    "    noiseClsP = np.array([[noiseCMBS4_TT1,noiseCMBS4_TP1],[noiseCMBS4_TP1,noiseCMBS4_PP1]])\n",
    "elif nMaps == 3:\n",
    "    noiseClsP = np.array([[noiseCMBS4_TT1, noiseCMBS4_TP1,      zerosList],\n",
    "                          [noiseCMBS4_TP1, noiseCMBS4_PP1,      zerosList],\n",
    "                          [     zerosList,      zerosList, noiseCMBS4_PP1]])\n",
    "else:\n",
    "    'bad nMaps for noise maker'\n",
    "    \n",
    "print noiseClsP.shape"
   ]
  },
  {
   "cell_type": "code",
   "execution_count": null,
   "metadata": {},
   "outputs": [],
   "source": []
  },
  {
   "cell_type": "markdown",
   "metadata": {},
   "source": [
    "# Create Covariance Matrix"
   ]
  },
  {
   "cell_type": "code",
   "execution_count": 10,
   "metadata": {},
   "outputs": [
    {
     "name": "stdout",
     "output_type": "stream",
     "text": [
      "building covariance matrix... \n",
      "starting covariance set  1  of  3 ... \n",
      "starting covariance set  2  of  3 ... \n",
      "starting covariance set  3  of  3 ... \n",
      "(6, 6, 5001)\n",
      "lmin =  0\n",
      "obsList:  [0. 1. 2. 4. 5. 8.]\n"
     ]
    }
   ],
   "source": [
    "# make covariance matrices with noise\n",
    "print 'building covariance matrix... '\n",
    "covarP,invCovP,ellsP,obsListP = Fobj.makeCovar(crossCls,noiseClsP,0,lmax)\n",
    "\n",
    "print invCovP.shape\n",
    "print 'lmin = ',ellsP[0]\n",
    "print 'obsList: ',obsListP"
   ]
  },
  {
   "cell_type": "code",
   "execution_count": 11,
   "metadata": {},
   "outputs": [],
   "source": [
    "# save covar\n",
    "# ell values go from 0 to lmax-1\n",
    "#import pickle \n",
    "#pickle.dump(covarP,open('covar.pkl','w'))"
   ]
  },
  {
   "cell_type": "code",
   "execution_count": null,
   "metadata": {},
   "outputs": [],
   "source": []
  },
  {
   "cell_type": "code",
   "execution_count": null,
   "metadata": {},
   "outputs": [],
   "source": []
  },
  {
   "cell_type": "markdown",
   "metadata": {},
   "source": [
    "# Calculate numerical derivatives"
   ]
  },
  {
   "cell_type": "code",
   "execution_count": 13,
   "metadata": {},
   "outputs": [
    {
     "name": "stdout",
     "output_type": "stream",
     "text": [
      "starting creation of C_l derivatives... \n",
      "starting derivative set  1  of  3 ... \n",
      "starting derivative set  2  of  3 ... \n",
      "starting derivative set  3  of  3 ... \n"
     ]
    }
   ],
   "source": [
    "# get derivatives wrt parameters\n",
    "print 'starting creation of C_l derivatives... '\n",
    "\n",
    "dClVecs = np.empty((nCls, nCosParams, lmax+1))\n",
    "for map1 in range(nMaps):\n",
    "    print 'starting derivative set ',map1+1,' of ',nMaps,'... '\n",
    "    for map2 in range(map1,nMaps):\n",
    "        mapIdx  = map1*nMaps+map2 -map1*(map1+1)/2  \n",
    "                                   # mapIdx = map index\n",
    "        for pIdx in range(nCosParams):\n",
    "            dClPlus  = crossClsPlus[map1,map2,pIdx]\n",
    "            dClMinus = crossClsMinus[map1,map2,pIdx]\n",
    "            dClVecs[mapIdx, pIdx] = (dClPlus-dClMinus)/(2*deltaP[pIdx])\n"
   ]
  },
  {
   "cell_type": "code",
   "execution_count": null,
   "metadata": {},
   "outputs": [],
   "source": []
  },
  {
   "cell_type": "code",
   "execution_count": null,
   "metadata": {},
   "outputs": [],
   "source": []
  },
  {
   "cell_type": "markdown",
   "metadata": {},
   "source": [
    "# Build the Fisher matrix"
   ]
  },
  {
   "cell_type": "code",
   "execution_count": 18,
   "metadata": {},
   "outputs": [
    {
     "name": "stdout",
     "output_type": "stream",
     "text": [
      "building Fisher matrix from components...\n",
      "invCovP.shape:  (6, 6, 5001) , dClVecs.shape:  (6, 2, 5001)\n",
      "starting bin set  1  of  2\n",
      "starting bin set  2  of  2\n",
      "creation of Fisher Matrix complete!\n",
      "\n",
      "Fij:\n",
      "[[2.18531729e-07 3.35313344e-07]\n",
      " [3.35313344e-07 1.46391855e-06]]\n",
      "eigenvalues of F_ij^-1:\n",
      "[ 645802.6393124  7463266.35755273]\n"
     ]
    }
   ],
   "source": [
    "#Build Fisher matrix\n",
    "lmin = 50 #to match Allison et. al. and justify no ISW effect\n",
    "#multply vectorT,invcov,vector and add up\n",
    "print 'building Fisher matrix from components...'\n",
    "print 'invCovP.shape: ',invCovP.shape,', dClVecs.shape: ',dClVecs.shape\n",
    "Fij = np.zeros((nCosParams,nCosParams)) # indices match those in paramList\n",
    "for i in range(nCosParams):\n",
    "    print 'starting bin set ',i+1,' of ',nCosParams\n",
    "    dClVec_i = dClVecs[:,i,:] # shape (nCls,nElls)\n",
    "    for j in range(nCosParams):\n",
    "        dClVec_j = dClVecs[:,j,:] # shape (nCls,nElls)\n",
    "        # ugh.  don't like nested loops in Python... but easier to program...\n",
    "        #for ell in range(lmin-2,lmax+51-2):\n",
    "        for ell in range(lmin-2,lmax-2):\n",
    "          myCov = invCovP[:,:,ell]  #note invCov has no ell=0,1 but dClVecs do\n",
    "          fij = np.dot(dClVec_i[:,ell+2],np.dot(myCov,dClVec_j[:,ell+2]))\n",
    "          Fij[i,j] += fij\n",
    "    \n",
    "print 'creation of Fisher Matrix complete!\\n'\n",
    "\n",
    "# Have a look at it\n",
    "print 'Fij:'\n",
    "print Fij\n",
    "# check eigenvalues\n",
    "w,v = np.linalg.eigh(np.linalg.inv(Fij))\n",
    "print 'eigenvalues of F_ij^-1:'\n",
    "print w"
   ]
  },
  {
   "cell_type": "code",
   "execution_count": null,
   "metadata": {},
   "outputs": [],
   "source": []
  },
  {
   "cell_type": "code",
   "execution_count": null,
   "metadata": {},
   "outputs": [],
   "source": []
  },
  {
   "cell_type": "markdown",
   "metadata": {},
   "source": [
    "# Save the results in an augmented Fisher Matrix object file"
   ]
  },
  {
   "cell_type": "code",
   "execution_count": 37,
   "metadata": {},
   "outputs": [],
   "source": [
    "# Save these as part of Fobj.\n",
    "# Is Fobj loaded?\n",
    "Fobj.FijTE = Fij\n",
    "Fobj.dClVecsP = dClVecs\n",
    "Fobj.covarP = covarP\n",
    "Fobj.invCovP = invCovP\n",
    "\n",
    "Fobj.crossClsP      = crossCls\n",
    "Fobj.crossClsPPlus  = crossClsPlus\n",
    "Fobj.crossClsPMinus = crossClsMinus\n",
    "\n",
    "Fobj.noiseClsP = noiseClsP\n",
    "\n",
    "Fobj.ellsP = ellsP\n",
    "Fobj.lminP = 0\n",
    "Fobj.lmaxP = lmax  \n",
    "Fobj.nMapsP = nMaps\n",
    "Fobj.obsListP = obsListP\n"
   ]
  },
  {
   "cell_type": "code",
   "execution_count": 38,
   "metadata": {},
   "outputs": [
    {
     "name": "stdout",
     "output_type": "stream",
     "text": [
      "done\n"
     ]
    }
   ],
   "source": [
    "# save new Fobj\n",
    "import pickle\n",
    "\n",
    "filehandler = open('Fisher_7_6X2_w2_wan_TEB.obj','w') # accuracyBoost=3,doNorm=True,lmax=2000, nz=3e5; nonlinear=True,\n",
    "#neutrino_hierarchy = 'degenerate'; from FisherCl branch quickCl\n",
    "\n",
    "\n",
    "pickle.dump(Fobj,filehandler)\n",
    "filehandler.close()\n",
    "\n",
    "print 'done'"
   ]
  },
  {
   "cell_type": "code",
   "execution_count": null,
   "metadata": {},
   "outputs": [],
   "source": []
  },
  {
   "cell_type": "code",
   "execution_count": 39,
   "metadata": {},
   "outputs": [
    {
     "data": {
      "image/png": "[encoded data removed]",
      "text/plain": [
       "<matplotlib.figure.Figure at 0x11886ef90>"
      ]
     },
     "metadata": {},
     "output_type": "display_data"
    }
   ],
   "source": [
    "# just take a look at TT, TE, EE, BB\n",
    "plt.loglog(ellsP,crossCls[0,0]*ellsP*(ellsP+1),label='TT')\n",
    "#plt.loglog(ellsP,crossCls[0,1]*ellsP*(ellsP+1),label='ET')\n",
    "plt.loglog(ellsP,crossCls[1,0]*ellsP*(ellsP+1),label='TE')\n",
    "plt.loglog(ellsP,crossCls[1,1]*ellsP*(ellsP+1),label='EE')\n",
    "if nMaps == 3 and myClName == 'total': # BB is zero for unlensed spectra\n",
    "    plt.loglog(ellsP,crossCls[2,2]*ellsP*(ellsP+1),label='BB')\n",
    "plt.title('C_l TT, TE, EE (,BB)')\n",
    "plt.legend()\n",
    "plt.show()"
   ]
  },
  {
   "cell_type": "code",
   "execution_count": 46,
   "metadata": {},
   "outputs": [
    {
     "name": "stdout",
     "output_type": "stream",
     "text": [
      "(6, 2, 2000)\n"
     ]
    }
   ],
   "source": [
    "print dClVecs[:,:,3000+1:].shape"
   ]
  },
  {
   "cell_type": "code",
   "execution_count": null,
   "metadata": {},
   "outputs": [],
   "source": []
  },
  {
   "cell_type": "code",
   "execution_count": null,
   "metadata": {},
   "outputs": [],
   "source": []
  },
  {
   "cell_type": "code",
   "execution_count": null,
   "metadata": {},
   "outputs": [],
   "source": []
  },
  {
   "cell_type": "code",
   "execution_count": null,
   "metadata": {},
   "outputs": [],
   "source": []
  },
  {
   "cell_type": "code",
   "execution_count": null,
   "metadata": {},
   "outputs": [],
   "source": []
  },
  {
   "cell_type": "markdown",
   "metadata": {},
   "source": [
    "# Check out these uncertainties!"
   ]
  },
  {
   "cell_type": "code",
   "execution_count": 40,
   "metadata": {},
   "outputs": [],
   "source": [
    "getSigmas = lambda Fij: np.sqrt(np.diag(np.linalg.inv(Fij)))"
   ]
  },
  {
   "cell_type": "code",
   "execution_count": 41,
   "metadata": {},
   "outputs": [
    {
     "name": "stdout",
     "output_type": "stream",
     "text": [
      "adjusting lmax for TT... \n"
     ]
    },
    {
     "ename": "ValueError",
     "evalue": "could not broadcast input array from shape (2000) into shape (2002)",
     "output_type": "error",
     "traceback": [
      "\u001b[0;31m---------------------------------------------------------------------------\u001b[0m",
      "\u001b[0;31mValueError\u001b[0m                                Traceback (most recent call last)",
      "\u001b[0;32m<ipython-input-41-c0ccc4b0a525>\u001b[0m in \u001b[0;36m<module>\u001b[0;34m()\u001b[0m\n\u001b[1;32m      1\u001b[0m \u001b[0mmyLmin\u001b[0m \u001b[0;34m=\u001b[0m \u001b[0;36m30\u001b[0m\u001b[0;34m\u001b[0m\u001b[0m\n\u001b[0;32m----> 2\u001b[0;31m \u001b[0mFijTEB\u001b[0m \u001b[0;34m=\u001b[0m \u001b[0mFobj\u001b[0m\u001b[0;34m.\u001b[0m\u001b[0mmakeFisher\u001b[0m\u001b[0;34m(\u001b[0m\u001b[0mmyLmin\u001b[0m\u001b[0;34m,\u001b[0m\u001b[0mTE\u001b[0m\u001b[0;34m=\u001b[0m\u001b[0mTrue\u001b[0m\u001b[0;34m)\u001b[0m\u001b[0;34m\u001b[0m\u001b[0m\n\u001b[0m\u001b[1;32m      3\u001b[0m \u001b[0mFijkg\u001b[0m \u001b[0;34m=\u001b[0m \u001b[0mFobj\u001b[0m\u001b[0;34m.\u001b[0m\u001b[0mmakeFisher\u001b[0m\u001b[0;34m(\u001b[0m\u001b[0mmyLmin\u001b[0m\u001b[0;34m)\u001b[0m\u001b[0;34m\u001b[0m\u001b[0m\n\u001b[1;32m      4\u001b[0m \u001b[0msigmasTEB\u001b[0m \u001b[0;34m=\u001b[0m \u001b[0mgetSigmas\u001b[0m\u001b[0;34m(\u001b[0m\u001b[0mFijTEB\u001b[0m\u001b[0;34m)\u001b[0m\u001b[0;34m\u001b[0m\u001b[0m\n\u001b[1;32m      5\u001b[0m \u001b[0msigmaskg\u001b[0m \u001b[0;34m=\u001b[0m \u001b[0mgetSigmas\u001b[0m\u001b[0;34m(\u001b[0m\u001b[0mFijkg\u001b[0m\u001b[0;34m)\u001b[0m\u001b[0;34m\u001b[0m\u001b[0m\n",
      "\u001b[0;32m/Users/zork/Programming/Python/crosscor/FisherCl.py\u001b[0m in \u001b[0;36mmakeFisher\u001b[0;34m(self, lmin, TE, verbose)\u001b[0m\n\u001b[1;32m    823\u001b[0m           \u001b[0mdClVec_i\u001b[0m\u001b[0;34m[\u001b[0m\u001b[0;36m0\u001b[0m\u001b[0;34m,\u001b[0m\u001b[0mlmaxTT\u001b[0m\u001b[0;34m-\u001b[0m\u001b[0;36m1\u001b[0m\u001b[0;34m:\u001b[0m\u001b[0;34m]\u001b[0m \u001b[0;34m=\u001b[0m \u001b[0mnp\u001b[0m\u001b[0;34m.\u001b[0m\u001b[0mzeros\u001b[0m\u001b[0;34m(\u001b[0m\u001b[0;36m5000\u001b[0m\u001b[0;34m-\u001b[0m\u001b[0mlmaxTT\u001b[0m\u001b[0;34m)\u001b[0m\u001b[0;34m\u001b[0m\u001b[0m\n\u001b[1;32m    824\u001b[0m           \u001b[0mdClVec_j\u001b[0m\u001b[0;34m[\u001b[0m\u001b[0;36m0\u001b[0m\u001b[0;34m,\u001b[0m\u001b[0mlmaxTT\u001b[0m\u001b[0;34m-\u001b[0m\u001b[0;36m1\u001b[0m\u001b[0;34m:\u001b[0m\u001b[0;34m]\u001b[0m \u001b[0;34m=\u001b[0m \u001b[0mnp\u001b[0m\u001b[0;34m.\u001b[0m\u001b[0mzeros\u001b[0m\u001b[0;34m(\u001b[0m\u001b[0;36m5000\u001b[0m\u001b[0;34m-\u001b[0m\u001b[0mlmaxTT\u001b[0m\u001b[0;34m)\u001b[0m\u001b[0;34m\u001b[0m\u001b[0m\n\u001b[0;32m--> 825\u001b[0;31m \u001b[0;34m\u001b[0m\u001b[0m\n\u001b[0m\u001b[1;32m    826\u001b[0m         \u001b[0;31m# ugh.  don't like nested loops in Python... but easier to program...\u001b[0m\u001b[0;34m\u001b[0m\u001b[0;34m\u001b[0m\u001b[0m\n\u001b[1;32m    827\u001b[0m         \u001b[0;32mfor\u001b[0m \u001b[0mell\u001b[0m \u001b[0;32min\u001b[0m \u001b[0mrange\u001b[0m\u001b[0;34m(\u001b[0m\u001b[0mlmax\u001b[0m\u001b[0;34m-\u001b[0m\u001b[0mlmin\u001b[0m\u001b[0;34m+\u001b[0m\u001b[0;36m1\u001b[0m\u001b[0;34m)\u001b[0m\u001b[0;34m:\u001b[0m\u001b[0;34m\u001b[0m\u001b[0m\n",
      "\u001b[0;31mValueError\u001b[0m: could not broadcast input array from shape (2000) into shape (2002)"
     ]
    }
   ],
   "source": [
    "myLmin = 30\n",
    "FijTEB = Fobj.makeFisher(myLmin,TE=True)\n",
    "Fijkg = Fobj.makeFisher(myLmin)\n",
    "sigmasTEB = getSigmas(FijTEB)\n",
    "sigmaskg = getSigmas(Fijkg)\n",
    "\n",
    "print 'from TEB Fisher Matrix:'\n",
    "for i,paramName in paramList[:nCosParams]:\n",
    "    print paramName, ': ',sigmasTEB[i]"
   ]
  },
  {
   "cell_type": "markdown",
   "metadata": {},
   "source": [
    "# Combine the Fisher matrices and see smaller sigmas"
   ]
  },
  {
   "cell_type": "code",
   "execution_count": null,
   "metadata": {
    "scrolled": false
   },
   "outputs": [],
   "source": [
    "from prettytable import PrettyTable\n",
    "\n",
    "print 'comparison of sigma(T,E), sigma(kappa,g), and sigma(T,E,kappa,g):\\n'\n",
    "FijSum = Fijkg.copy()\n",
    "FijSum[:nCosParams,:nCosParams] += FijTEB\n",
    "\n",
    "sigmasSum = getSigmas(FijSum)\n",
    "infSet = ['inf','inf','inf','inf','inf','inf'] # number of infs needs to be number of bins\n",
    "sigmasTEB = np.append(sigmasTEB,infSet)\n",
    "sigmasSum = np.append(sigmasSum,infSet)\n",
    "    \n",
    "from prettytable import PrettyTable\n",
    "# for a set of fsky values\n",
    "for fsky in (1.0,0.75,0.5,0.25):\n",
    "    fskyFac = np.sqrt(1./fsky)\n",
    "    sigmasA = sigmaskg*fskyFac\n",
    "    sigmasB = sigmasTEB*fskyFac\n",
    "    sigmasC = sigmasSum*fskyFac\n",
    "    t = PrettyTable(['Parameter', 'sigma(T,E)','sigma(k,g)','sigma(T,E,k,g)'])\n",
    "    for i,p in enumerate(Fobj.paramList):\n",
    "        t.add_row([p,\"%5.3g\" % sigmasA[i],\"%5.3g\" % sigmasB[i],\"%5.3g\" % sigmasC[i]])\n",
    "    print 'fsky = {0}:'.format(fsky)\n",
    "    print t\n",
    "\n",
    "print 'which Cl used for T,E,B: ',myClName"
   ]
  },
  {
   "cell_type": "code",
   "execution_count": null,
   "metadata": {},
   "outputs": [],
   "source": []
  },
  {
   "cell_type": "code",
   "execution_count": null,
   "metadata": {},
   "outputs": [],
   "source": []
  },
  {
   "cell_type": "markdown",
   "metadata": {},
   "source": [
    "# Compare to Byeonghee's result"
   ]
  },
  {
   "cell_type": "code",
   "execution_count": null,
   "metadata": {},
   "outputs": [],
   "source": []
  },
  {
   "cell_type": "code",
   "execution_count": null,
   "metadata": {},
   "outputs": [],
   "source": [
    "# Byeonghee's result:\n",
    "# This used lmin 50, lmax 1000, halofit\n",
    "sigmasB1 = {\n",
    "    #sigma(b) (4 bins) =  [ 0.01220295  0.0092872   0.01058874  0.03529165]\n",
    "    'cosmomc_theta' : 0.00015113283201,\n",
    "    'ombh2' : 0.000504509008534,\n",
    "    'omch2' : 0.00151341881388,\n",
    "    'ns' : 0.00732594856064,\n",
    "    'As' : 0.0618279762973*1e-9,\n",
    "    'mnu' : 0.0564262366597,\n",
    "    'w' : 0.088058950571,\n",
    "    'tau' : 0.0595781322066,\n",
    "    'bin1' : 0.01220295,\n",
    "    'bin2' : 0.0092872,\n",
    "    'bin3' : 0.01058874,\n",
    "    'bin4' : 0.03529165\n",
    "}\n",
    "# This used lmin 50, lmax 1000, halofit, bias by bin\n",
    "sigmasB2 = {\n",
    "    'cosmomc_theta' : 7.31905124578e-05,\n",
    "    'ombh2' : 0.00117829505232,\n",
    "    'omch2' : 0.00253188668652,\n",
    "    'ns' : 0.0107531686379,\n",
    "    'As' : 0.0836156981509*1e-9,\n",
    "    'mnu' : 0.110362820478,\n",
    "    'w' : 0.0933472979446,\n",
    "    'tau' : 8.65882116522,\n",
    "    'bin1' : 0.01120403,\n",
    "    'bin2' : 0.0123868,\n",
    "    'bin3' : 0.01398429,\n",
    "    'bin4' : 0.0143556\n",
    "}\n",
    "# This one was after a late fix Byeonghee did:\n",
    "\"\"\"\n",
    "+---------------+--------------+--------------+\n",
    "|   Parameter   | sigma_Z(k,g) | sigma_B(k,g) | \n",
    "+---------------+--------------+--------------+\n",
    "|     ombh2     |   0.00182    |   0.00118    |    \n",
    "|     omch2     |   0.00509    |   0.00253    |     \n",
    "| cosmomc_theta |   6.51e-05   |   7.58e-05   |     \n",
    "|       As      |   9.26e-11   |   1.29e-10   |     \n",
    "|       ns      |    0.0116    |    0.0190    |    \n",
    "|      tau      |     0.33     |     8.26     |    \n",
    "|      mnu      |    0.0884    |     0.11     |      \n",
    "|       w       |    0.0448    |    0.0411    |       \n",
    "|      bin1     |    0.011     |    0.0063    |      \n",
    "|      bin2     |    0.0141    |    0.0056    |    \n",
    "|      bin3     |    0.0195    |    0.0054    |     \n",
    "|      bin4     |    0.0236    |    0.0047    |\n",
    "+---------------+--------------+--------------+\"\"\"\n",
    "sigmasB3 = {\n",
    "    'cosmomc_theta' : 7.58e-05,\n",
    "    'ombh2' : 0.00118,\n",
    "    'omch2' : 0.00253,\n",
    "    'ns' : 0.0190,\n",
    "    'As' : 1.29e-10,\n",
    "    'mnu' : 0.11,\n",
    "    'w' : 0.0411,\n",
    "    'tau' : 8.26,\n",
    "    'bin1' : 0.0063,\n",
    "    'bin2' : 0.0056,\n",
    "    'bin3' : 0.0054,\n",
    "    'bin4' : 0.0047\n",
    "}\n",
    "\n",
    "\n",
    "sigmasB = sigmasB3\n",
    "\n",
    "print paramList\n"
   ]
  },
  {
   "cell_type": "code",
   "execution_count": null,
   "metadata": {},
   "outputs": [],
   "source": [
    "\"\"\"\n",
    "# remove tau from my Fisher matrix, since Byeonghee omitted it.\n",
    "# define row,col deleting function\n",
    "def fixParam(Fij,pNum):\n",
    "    return np.delete(np.delete(Fij,pNum,0),pNum,1)\n",
    "Fij3 = fixParam(Fij2,5) # 5 for neutrinos\n",
    "sigmas3 = np.sqrt(np.diag(np.linalg.inv(Fij3)))\n",
    "sigmas3 = np.insert(sigmas3,5,0)\n",
    "print sigmas3\n",
    "\"\"\""
   ]
  },
  {
   "cell_type": "code",
   "execution_count": null,
   "metadata": {},
   "outputs": [],
   "source": [
    "\"\"\"\n",
    "# convert sigma_bi to sigma_bi/fid_bi\n",
    "fidBs = Fobj.binBs\n",
    "print 'fiducial B_i: ',fidBs\n",
    "sigmas3[-4:] = sigmas3[-4:]/fidBs\n",
    "print sigmas3\n",
    "\"\"\""
   ]
  },
  {
   "cell_type": "code",
   "execution_count": null,
   "metadata": {},
   "outputs": [],
   "source": [
    "\"\"\"\n",
    "#paramList = ['ombh2','omch2','cosmomc_theta','As','ns','tau','mnu']\n",
    "mask = [True,True,False,True,True,False,True, True,True,True,True]\n",
    "paramListB = np.array(paramList)\n",
    "paramListB = np.append(paramListB,['bin1','bin2','bin3','bin4'])\n",
    "paramListB = paramListB[mask]\n",
    "sigmasB = sigmas3[mask]\n",
    "print sigmas3\n",
    "print sigmasB\n",
    "print paramListB\n",
    "print lmin\n",
    "\"\"\""
   ]
  },
  {
   "cell_type": "code",
   "execution_count": null,
   "metadata": {},
   "outputs": [],
   "source": [
    "from prettytable import PrettyTable\n",
    "t = PrettyTable(['Parameter', 'sigma_Z(k,g)','sigma_B(k,g)','percent diff.'])\n",
    "for i,p in enumerate(paramList):\n",
    "    Zi = sigmasB[i]\n",
    "    Bi = Bsigmas[paramList[i]]\n",
    "    diff = (Bi-Zi)/Zi *100\n",
    "    t.add_row([p,\"%5.3g\" % Zi,\"%5.3g\" % Bi, \"%5.3g\" % diff ] )\n",
    "print t"
   ]
  },
  {
   "cell_type": "code",
   "execution_count": null,
   "metadata": {},
   "outputs": [],
   "source": []
  }
 ],
 "metadata": {
  "kernelspec": {
   "display_name": "Python 2",
   "language": "python",
   "name": "python2"
  },
  "language_info": {
   "codemirror_mode": {
    "name": "ipython",
    "version": 2
   },
   "file_extension": ".py",
   "mimetype": "text/x-python",
   "name": "python",
   "nbconvert_exporter": "python",
   "pygments_lexer": "ipython2",
   "version": "2.7.14"
  }
 },
 "nbformat": 4,
 "nbformat_minor": 1
}
