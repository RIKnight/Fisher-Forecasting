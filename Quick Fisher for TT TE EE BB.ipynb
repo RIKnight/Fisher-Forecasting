{
 "cells": [
  {
   "cell_type": "markdown",
   "metadata": {},
   "source": [
    "# Making some quick calculations to get $F_{ij}$ working for $C_l^{TT},C_l^{TE},C_l^{EE}$ observables"
   ]
  },
  {
   "cell_type": "code",
   "execution_count": 1,
   "metadata": {},
   "outputs": [
    {
     "name": "stderr",
     "output_type": "stream",
     "text": [
      "IMPORT ERROR: /opt/local/Library/Frameworks/Python.framework/Versions/2.7/lib/python2.7/site-packages/quicklens/mpi.pyc (No module named pypar). Could not load pbs or pypar. MPI will not be used.\n"
     ]
    },
    {
     "data": {
      "text/plain": [
       "'\\nThis notebook originally a copy of the TT TE EE version, April 13, 2018.\\n\\n'"
      ]
     },
     "execution_count": 1,
     "metadata": {},
     "output_type": "execute_result"
    }
   ],
   "source": [
    "import crosspower as cp # branch quickCl\n",
    "import FisherCl as fcl\n",
    "import noiseCl as ncl\n",
    "import camb\n",
    "\n",
    "# set plotting to be in the notebook instead of its own qt window\n",
    "%matplotlib inline\n",
    "\n",
    "\"\"\"\n",
    "This notebook originally a copy of the TT TE EE version, April 13, 2018.\n",
    "\n",
    "\"\"\""
   ]
  },
  {
   "cell_type": "code",
   "execution_count": 2,
   "metadata": {},
   "outputs": [
    {
     "data": {
      "text/plain": [
       "\"\\ncosParams = {\\n        'H0'    : None, #67.51, #setting H0=None allows cosmomc_theta to be used instead\\n        'cosmomc_theta'           : 1.04087e-2,\\n        'ombh2' : 0.02226,\\n        'omch2' : 0.1193,\\n        'omk'   : 0,\\n        'tau'   : 0.063,\\n\\n        'As'    : 2.130e-9,\\n        'ns'    : 0.9653,\\n        'r'     : 0,\\n        'kPivot': 0.05,\\n    \\n        'w0'    : -1.0,\\n        'wa'    : 0.0,\\n\\n        # if fiducial mnu is changed, need to adjust omch2 as well\\n        'mnu'   : 0.06, # (eV)\\n        #'mnu'   : 0.058, # Lloyd suggested this value for fiducial; adjust omch2 if I do use it\\n        'nnu'   : 3.046,\\n        'standard_neutrino_neff'  : 3.046,\\n        'num_massive_neutrinos'   : 1,\\n        'neutrino_hierarchy'      : 'normal'}\\n\\nAccuracyBoost = 3\\nnonlinear = True\\nnz = 30000\\nprint 'nonlinear = ',nonlinear\\n\""
      ]
     },
     "execution_count": 2,
     "metadata": {},
     "output_type": "execute_result"
    }
   ],
   "source": [
    "# set cosmological parameters\n",
    "\n",
    "# maybe load a FisherMatrix object and get these from that instead?\n",
    "\"\"\"\n",
    "cosParams = {\n",
    "        'H0'    : None, #67.51, #setting H0=None allows cosmomc_theta to be used instead\n",
    "        'cosmomc_theta'           : 1.04087e-2,\n",
    "        'ombh2' : 0.02226,\n",
    "        'omch2' : 0.1193,\n",
    "        'omk'   : 0,\n",
    "        'tau'   : 0.063,\n",
    "\n",
    "        'As'    : 2.130e-9,\n",
    "        'ns'    : 0.9653,\n",
    "        'r'     : 0,\n",
    "        'kPivot': 0.05,\n",
    "    \n",
    "        'w'     : -1.0, # actually is w0 but CAMB calls it w\n",
    "        'wa'    : 0.0,\n",
    "\n",
    "        # if fiducial mnu is changed, need to adjust omch2 as well\n",
    "        'mnu'   : 0.06, # (eV)\n",
    "        #'mnu'   : 0.058, # Lloyd suggested this value for fiducial; adjust omch2 if I do use it\n",
    "        'nnu'   : 3.046,\n",
    "        'standard_neutrino_neff'  : 3.046,\n",
    "        'num_massive_neutrinos'   : 1,\n",
    "        'neutrino_hierarchy'      : 'normal'}\n",
    "\n",
    "AccuracyBoost = 3\n",
    "nonlinear = True\n",
    "nz = 30000\n",
    "print 'nonlinear = ',nonlinear\n",
    "\"\"\""
   ]
  },
  {
   "cell_type": "code",
   "execution_count": null,
   "metadata": {},
   "outputs": [],
   "source": []
  },
  {
   "cell_type": "markdown",
   "metadata": {},
   "source": [
    "# Load a saved FisherMatrix object for parameters and structure"
   ]
  },
  {
   "cell_type": "code",
   "execution_count": 3,
   "metadata": {},
   "outputs": [
    {
     "name": "stdout",
     "output_type": "stream",
     "text": [
      "obsNames:  ['k,k', 'k,g1', 'k,g2', 'k,g3', 'k,g4', 'k,g5', 'k,g6', 'g1,g1', 'g1,g2', 'g1,g3', 'g1,g4', 'g1,g5', 'g1,g6', 'g2,g2', 'g2,g3', 'g2,g4', 'g2,g5', 'g2,g6', 'g3,g3', 'g3,g4', 'g3,g5', 'g3,g6', 'g4,g4', 'g4,g5', 'g4,g6', 'g5,g5', 'g5,g6', 'g6,g6']\n",
      "paramList:  ['ombh2', 'omch2', 'cosmomc_theta', 'As', 'ns', 'tau', 'mnu', 'wa', 'w', 'bin1', 'bin2', 'bin3', 'bin4', 'bin5', 'bin6']\n",
      "nonlinear:  True\n",
      "nz:  300000\n"
     ]
    }
   ],
   "source": [
    "# load saved Fobj\n",
    "# get lensing and galaxy Fisher matrix to add\n",
    "\n",
    "#\"\"\"\n",
    "import pickle\n",
    "\n",
    "# these two have an additional parameter wa but not crossClsPlus,Minus for it, etc.\n",
    "filehandler = open('Fisher_7_6X2_w2_wan.obj','r') # AccuracyBoost=3, lmax=3000, lmaxP=5000, nz=3e5; nonlinear=True,\n",
    "#filehandler = open('Fisher_7_6X4_w2_wan.obj','r') # AccuracyBoost=3, lmax=3000, lmaxP=5000, nz=3e5; nonlinear=False,\n",
    "\n",
    "Fobj = pickle.load(filehandler) \n",
    "\n",
    "#lmin = Fobj.lmin\n",
    "lmin = 2\n",
    "#lmax = Fobj.lmax\n",
    "lmax = 3000\n",
    "\n",
    "nMaps = Fobj.nBins + 1\n",
    "nCosParams = Fobj.nParams - Fobj.nBins\n",
    "ells = Fobj.ells\n",
    "obsNames = Fobj.obsNames\n",
    "paramList = Fobj.paramList\n",
    "\n",
    "nz = Fobj.nz\n",
    "nonlinear = Fobj.nonlinear\n",
    "AccuracyBoost = Fobj.AccuracyBoost\n",
    "myParams = Fobj.cosParams\n",
    "\n",
    "\n",
    "print 'obsNames: ',obsNames\n",
    "print 'paramList: ',paramList\n",
    "print 'nonlinear: ',nonlinear\n",
    "print 'nz: ',nz\n",
    "#\"\"\"\n"
   ]
  },
  {
   "cell_type": "code",
   "execution_count": 4,
   "metadata": {},
   "outputs": [
    {
     "name": "stderr",
     "output_type": "stream",
     "text": [
      "WARNING:root:accuracy parameters are changed globally, not yet per parameter set\n"
     ]
    },
    {
     "name": "stdout",
     "output_type": "stream",
     "text": [
      "neutrino_hierarchy =  normal\n",
      "zs.size:  299998\n",
      "done.\n"
     ]
    }
   ],
   "source": [
    "# get a matterPower object\n",
    "#reload(cp)\n",
    "myPk = cp.MatterPower(nz=nz,AccuracyBoost=AccuracyBoost,nonlinear=nonlinear,**myParams)\n",
    "print 'done.'"
   ]
  },
  {
   "cell_type": "code",
   "execution_count": null,
   "metadata": {},
   "outputs": [],
   "source": []
  },
  {
   "cell_type": "markdown",
   "metadata": {},
   "source": [
    "# Get all cross power spectra"
   ]
  },
  {
   "cell_type": "code",
   "execution_count": 5,
   "metadata": {},
   "outputs": [],
   "source": [
    "# function for checking the settings as they are being used\n",
    "\n",
    "def checkPars(pars):\n",
    "    H0 = pars.H0\n",
    "    print 'ombh2: ',pars.omegab*(H0/100)**2\n",
    "    print 'omch2: ',pars.omegac*(H0/100)**2\n",
    "    print 'H_0: ',H0, '(proxy for theta?)'\n",
    "    #print 'initial condition vector: ',pars.InitialConditionVector\n",
    "    print 'As: ',pars.InitPower.ScalarPowerAmp[0]\n",
    "    print 'ns: ',pars.InitPower.an[0]\n",
    "    print 'tau: ',pars.Reion.optical_depth\n",
    "    #print 'omega_n: ',pars.omegan\n",
    "    print 'omega_n*94*h**2: ',pars.omegan*94*(H0/100)**2\n",
    "    # need to find w and wa\n",
    "    \n",
    "    #print '\\n'\n",
    "    #print pars\n",
    "    \n",
    "#checkPars(parsTest)\n",
    "if False:\n",
    "    for cParamNum in range(nCosParams):\n",
    "        print '\\nContents of pars objects for parameter set ',cParamNum+1,' for parameter ',paramList[cParamNum], \\\n",
    "              ' with delta ',deltaP[cParamNum]\n",
    "        checkPars(myParsUpper[cParamNum])\n",
    "        checkPars(myParsLower[cParamNum])"
   ]
  },
  {
   "cell_type": "code",
   "execution_count": 6,
   "metadata": {},
   "outputs": [
    {
     "name": "stdout",
     "output_type": "stream",
     "text": [
      "creating parameter sets for making discrete derivatives...\n",
      "creating parameter set for  ombh2  derivative...\n",
      "creating parameter set for  omch2  derivative...\n",
      "creating parameter set for  cosmomc_theta  derivative...\n",
      "creating parameter set for  As  derivative...\n",
      "creating parameter set for  ns  derivative...\n",
      "creating parameter set for  tau  derivative...\n",
      "creating parameter set for  mnu  derivative...\n",
      "creating parameter set for  w  derivative...\n",
      "creating parameter set for  wa  derivative...\n"
     ]
    }
   ],
   "source": [
    "# copy some setup from FisherCl.py\n",
    "\n",
    "# parameters list:\n",
    "# step sizes for discrete derivatives: must correspond to paramList entries!\n",
    "#   from Allison et. al. (2015) Table III.\n",
    "nCosParams = 9 # 6 LCDM + Mnu + w0 + wa\n",
    "paramList = ['ombh2','omch2','cosmomc_theta',  'As', 'ns','tau','mnu', 'w', 'wa']\n",
    "deltaP =    [ 0.0008, 0.0030,      0.0050e-2,0.1e-9,0.010,0.020,0.020,0.05,0.025] #mnu one in eV\n",
    "\n",
    "# for testing\n",
    "#nCosParams = 2\n",
    "#paramList = [ 'w', 'wa']\n",
    "#deltaP =    [0.05,0.025]\n",
    "\n",
    "# cut deltaP in half to see effect\n",
    "#deltaP = np.array(deltaP)/2.\n",
    "\n",
    "# double deltaP to see effect\n",
    "#deltaP = np.array(deltaP)*2.\n",
    "\n",
    "# get more parameter sets for numeric differentiation\n",
    "print 'creating parameter sets for making discrete derivatives...'\n",
    "myParamsUpper = []\n",
    "myParamsLower = []\n",
    "#myParsUpper = []\n",
    "#myParsLower = []\n",
    "for cParamNum in range(nCosParams):\n",
    "    #print 'creating matter power spectra for ',paramList[cParamNum],' derivative...'\n",
    "    print 'creating parameter set for ',paramList[cParamNum],' derivative...'\n",
    "    # add parameter dictionary to lists; HAVE TO BE COPIES!!!\n",
    "    myParamsUpper.append(myParams.copy())\n",
    "    myParamsLower.append(myParams.copy())\n",
    "    # modify parameter number cParamNum in dictionaries\n",
    "    myParamsUpper[cParamNum][paramList[cParamNum]] += deltaP[cParamNum]\n",
    "    myParamsLower[cParamNum][paramList[cParamNum]] -= deltaP[cParamNum]\n",
    "\n",
    "    #print 'cPramNum: ',cParamNum,', param name: ',paramList[cParamNum]\n",
    "    #print 'myParamsUpper[cParamNum][paramList[cParamNum]]: ',myParamsUpper[cParamNum][paramList[cParamNum]]\n",
    "    #print 'myParamsLower[cParamNum][paramList[cParamNum]]: ',myParamsLower[cParamNum][paramList[cParamNum]]\n",
    "    #print 'deltaP[cParamNum]: ',deltaP[cParamNum]\n",
    "\n",
    "    # create pars objects and add to lists. \n",
    "    #myParsUpper.append(cp.MatterPower.getPars(myPk,**myParamsUpper[cParamNum]))\n",
    "    #myParsLower.append(cp.MatterPower.getPars(myPk,**myParamsLower[cParamNum]))\n",
    "\n",
    "    ###### DOING THESE TWO GETPARS CALLS RIGHT AFTER EACH OTHER DESTROYS THE FIRST ONE'S DARK ENERGY SETTING! #####\n",
    "    ###### NEED TO RE-ORGANIZE SO NEED FOR MYPARSUPPER IS COMPLETELY DONE BEFORE CREATING MYPARSLOWER   #####\n",
    "    \n"
   ]
  },
  {
   "cell_type": "code",
   "execution_count": null,
   "metadata": {},
   "outputs": [],
   "source": []
  },
  {
   "cell_type": "code",
   "execution_count": 7,
   "metadata": {},
   "outputs": [],
   "source": [
    "# define function for getting cross power spectra for upper or lower \n",
    "def getCrossCls(paramList,myParams,myPk,nMaps=3,lmax=5000,lpa=5.0,\n",
    "                AccuracyBoost=3,myClName='unlensed_scalar'):\n",
    "    \"\"\"\n",
    "    Purpose:\n",
    "    \n",
    "    Inputs:\n",
    "        paramList: like FisherMatrix.paramList\n",
    "            Note: a list of length 1 will cause a differently shaped array to be returned\n",
    "        myParams: a list of lists of parameters like FisherMatrix.cosParams\n",
    "            This list must have the same length as paramList\n",
    "        myPk: a MatterPower object\n",
    "        \n",
    "        nMaps: number of maps.  Set to 3 for T,E,B\n",
    "        lmax: lmax for returned array\n",
    "        lpa: lensing_power_accuracy setting\n",
    "        AccuracyBoost: accuracy setting\n",
    "        myClName: which type of power spectrum to get from CAMB\n",
    "    Returns:\n",
    "        crossCls: numpy array of shape (nMaps,nMaps,nCosParams,lmax)\n",
    "          unless the lenth of paramList is 1, then shape will be (nMaps,nMaps,lmax)\n",
    "          Note Cl arrays are all zero based (starting at L=0).\n",
    "          Note L=0,1 entries will be zero by default.\n",
    "    \"\"\"\n",
    "    nCosParams = paramList.__len__()\n",
    "    \n",
    "    crossCls = np.zeros((nMaps,nMaps,nCosParams,lmax+1))\n",
    "    for paramNum in range(nCosParams):\n",
    "        print 'getting Cl power spectra for perturbed parameter ',paramList[paramNum]\n",
    "        # get pars\n",
    "        pars = cp.MatterPower.getPars(myPk,lmax=lmax+1,lpa=lpa,AccuracyBoost=AccuracyBoost,\n",
    "                                      **myParams[paramNum])\n",
    "        #get the selected power spectra\n",
    "        results = camb.get_results(pars)\n",
    "        powers = results.get_cmb_power_spectra(pars)\n",
    "        myCl = powers[myClName]\n",
    "        \n",
    "        #store them\n",
    "        #The different CL are always in the order TT, EE, BB, TE (with BB=0 for unlensed scalar results).\n",
    "        crossCls[0,0,paramNum]  = myCl[:lmax+1,0] # TT\n",
    "        crossCls[0,1,paramNum]  = myCl[:lmax+1,3] # TE\n",
    "        crossCls[1,0,paramNum]  = myCl[:lmax+1,3] # ET\n",
    "        crossCls[1,1,paramNum]  = myCl[:lmax+1,1] # EE\n",
    "        if nMaps == 3:\n",
    "            crossCls[2,2,paramNum]  = myCl[:lmax+1,2] # BB\n",
    "        \n",
    "        # reshape for unperterbed version\n",
    "        if nCosParams == 1:\n",
    "            crossCls = np.reshape(crossCls,(nMaps,nMaps,lmax+1))\n",
    "    return crossCls\n",
    "    "
   ]
  },
  {
   "cell_type": "code",
   "execution_count": 8,
   "metadata": {},
   "outputs": [
    {
     "name": "stderr",
     "output_type": "stream",
     "text": [
      "WARNING:root:accuracy parameters are changed globally, not yet per parameter set\n"
     ]
    },
    {
     "name": "stdout",
     "output_type": "stream",
     "text": [
      "getting Cl power spectra for perturbed parameter  (All Fiducial)\n"
     ]
    },
    {
     "name": "stderr",
     "output_type": "stream",
     "text": [
      "WARNING:root:accuracy parameters are changed globally, not yet per parameter set\n",
      "WARNING:root:accuracy parameters are changed globally, not yet per parameter set\n"
     ]
    },
    {
     "name": "stdout",
     "output_type": "stream",
     "text": [
      "starting upper spectra for numeric derivatives . . . \n",
      "getting Cl power spectra for perturbed parameter  ombh2\n"
     ]
    },
    {
     "name": "stderr",
     "output_type": "stream",
     "text": [
      "WARNING:root:accuracy parameters are changed globally, not yet per parameter set\n"
     ]
    },
    {
     "name": "stdout",
     "output_type": "stream",
     "text": [
      "getting Cl power spectra for perturbed parameter  omch2\n"
     ]
    },
    {
     "name": "stderr",
     "output_type": "stream",
     "text": [
      "WARNING:root:accuracy parameters are changed globally, not yet per parameter set\n"
     ]
    },
    {
     "name": "stdout",
     "output_type": "stream",
     "text": [
      "getting Cl power spectra for perturbed parameter  cosmomc_theta\n"
     ]
    },
    {
     "name": "stderr",
     "output_type": "stream",
     "text": [
      "WARNING:root:accuracy parameters are changed globally, not yet per parameter set\n"
     ]
    },
    {
     "name": "stdout",
     "output_type": "stream",
     "text": [
      "getting Cl power spectra for perturbed parameter  As\n"
     ]
    },
    {
     "name": "stderr",
     "output_type": "stream",
     "text": [
      "WARNING:root:accuracy parameters are changed globally, not yet per parameter set\n"
     ]
    },
    {
     "name": "stdout",
     "output_type": "stream",
     "text": [
      "getting Cl power spectra for perturbed parameter  ns\n"
     ]
    },
    {
     "name": "stderr",
     "output_type": "stream",
     "text": [
      "WARNING:root:accuracy parameters are changed globally, not yet per parameter set\n"
     ]
    },
    {
     "name": "stdout",
     "output_type": "stream",
     "text": [
      "getting Cl power spectra for perturbed parameter  tau\n"
     ]
    },
    {
     "name": "stderr",
     "output_type": "stream",
     "text": [
      "WARNING:root:accuracy parameters are changed globally, not yet per parameter set\n"
     ]
    },
    {
     "name": "stdout",
     "output_type": "stream",
     "text": [
      "getting Cl power spectra for perturbed parameter  mnu\n"
     ]
    },
    {
     "name": "stderr",
     "output_type": "stream",
     "text": [
      "WARNING:root:Currently dark energy parameters are changed globally, not per parameter set\n",
      "WARNING:root:accuracy parameters are changed globally, not yet per parameter set\n"
     ]
    },
    {
     "name": "stdout",
     "output_type": "stream",
     "text": [
      "getting Cl power spectra for perturbed parameter  w\n"
     ]
    },
    {
     "name": "stderr",
     "output_type": "stream",
     "text": [
      "WARNING:root:accuracy parameters are changed globally, not yet per parameter set\n"
     ]
    },
    {
     "name": "stdout",
     "output_type": "stream",
     "text": [
      "getting Cl power spectra for perturbed parameter  wa\n"
     ]
    },
    {
     "name": "stderr",
     "output_type": "stream",
     "text": [
      "WARNING:root:accuracy parameters are changed globally, not yet per parameter set\n"
     ]
    },
    {
     "name": "stdout",
     "output_type": "stream",
     "text": [
      "starting lower spectra for numeric derivatives . . . \n",
      "getting Cl power spectra for perturbed parameter  ombh2\n"
     ]
    },
    {
     "name": "stderr",
     "output_type": "stream",
     "text": [
      "WARNING:root:accuracy parameters are changed globally, not yet per parameter set\n"
     ]
    },
    {
     "name": "stdout",
     "output_type": "stream",
     "text": [
      "getting Cl power spectra for perturbed parameter  omch2\n"
     ]
    },
    {
     "name": "stderr",
     "output_type": "stream",
     "text": [
      "WARNING:root:accuracy parameters are changed globally, not yet per parameter set\n"
     ]
    },
    {
     "name": "stdout",
     "output_type": "stream",
     "text": [
      "getting Cl power spectra for perturbed parameter  cosmomc_theta\n"
     ]
    },
    {
     "name": "stderr",
     "output_type": "stream",
     "text": [
      "WARNING:root:accuracy parameters are changed globally, not yet per parameter set\n"
     ]
    },
    {
     "name": "stdout",
     "output_type": "stream",
     "text": [
      "getting Cl power spectra for perturbed parameter  As\n"
     ]
    },
    {
     "name": "stderr",
     "output_type": "stream",
     "text": [
      "WARNING:root:accuracy parameters are changed globally, not yet per parameter set\n"
     ]
    },
    {
     "name": "stdout",
     "output_type": "stream",
     "text": [
      "getting Cl power spectra for perturbed parameter  ns\n"
     ]
    },
    {
     "name": "stderr",
     "output_type": "stream",
     "text": [
      "WARNING:root:accuracy parameters are changed globally, not yet per parameter set\n"
     ]
    },
    {
     "name": "stdout",
     "output_type": "stream",
     "text": [
      "getting Cl power spectra for perturbed parameter  tau\n"
     ]
    },
    {
     "name": "stderr",
     "output_type": "stream",
     "text": [
      "WARNING:root:accuracy parameters are changed globally, not yet per parameter set\n"
     ]
    },
    {
     "name": "stdout",
     "output_type": "stream",
     "text": [
      "getting Cl power spectra for perturbed parameter  mnu\n"
     ]
    },
    {
     "name": "stderr",
     "output_type": "stream",
     "text": [
      "WARNING:root:Currently dark energy parameters are changed globally, not per parameter set\n",
      "WARNING:root:accuracy parameters are changed globally, not yet per parameter set\n"
     ]
    },
    {
     "name": "stdout",
     "output_type": "stream",
     "text": [
      "getting Cl power spectra for perturbed parameter  w\n"
     ]
    },
    {
     "name": "stderr",
     "output_type": "stream",
     "text": [
      "WARNING:root:accuracy parameters are changed globally, not yet per parameter set\n"
     ]
    },
    {
     "name": "stdout",
     "output_type": "stream",
     "text": [
      "getting Cl power spectra for perturbed parameter  wa\n"
     ]
    },
    {
     "name": "stderr",
     "output_type": "stream",
     "text": [
      "WARNING:root:accuracy parameters are changed globally, not yet per parameter set\n"
     ]
    },
    {
     "name": "stdout",
     "output_type": "stream",
     "text": [
      "done\n"
     ]
    }
   ],
   "source": [
    "# get all cross power spectra\n",
    "# this cell modified to add BB and fix DE problem\n",
    "\n",
    "lmax = 5000 # may want to match lmax in other Fisher calculation\n",
    "lpa = 5.0\n",
    "pars = myPk.getPars(lmax=lmax,lpa=lpa,AccuracyBoost=AccuracyBoost)\n",
    "\n",
    "#get the total lensed CMB power spectra versus unlensed\n",
    "#myClName = 'total'\n",
    "myClName = 'unlensed_scalar'\n",
    "\n",
    "# select 2 for T,E, 3 for T,E,B\n",
    "nMaps = 2 # T,E\n",
    "#nMaps = 3 # T,E,B\n",
    "nCls = nMaps*(nMaps+1)/2\n",
    "\n",
    "#crossCls      = np.zeros((nMaps,nMaps,           lmax))\n",
    "#crossClsPlus  = np.zeros((nMaps,nMaps,nCosParams,lmax))\n",
    "#crossClsMinus = np.zeros((nMaps,nMaps,nCosParams,lmax))\n",
    "\n",
    "# get main set of power spectra\n",
    "crossCls = getCrossCls(['(All Fiducial)'],[myParams],myPk,nMaps=nMaps,lmax=lmax,lpa=lpa,\n",
    "                            AccuracyBoost=AccuracyBoost,myClName=myClName)\n",
    "# get the perturbed versions\n",
    "print 'starting upper spectra for numeric derivatives . . . '\n",
    "crossClsPlus  = getCrossCls(paramList,myParamsUpper,myPk,nMaps=nMaps,lmax=lmax,lpa=lpa,\n",
    "                            AccuracyBoost=AccuracyBoost,myClName=myClName)\n",
    "print 'starting lower spectra for numeric derivatives . . . '\n",
    "crossClsMinus = getCrossCls(paramList,myParamsLower,myPk,nMaps=nMaps,lmax=lmax,lpa=lpa,\n",
    "                            AccuracyBoost=AccuracyBoost,myClName=myClName)\n",
    "\n",
    "# reset global (dark energy and AccuracyBoost) settings\n",
    "pars = myPk.getPars(lmax=lmax,lpa=lpa,AccuracyBoost=AccuracyBoost)\n",
    "\n",
    "ellsP = range(lmax+1)\n",
    "\n",
    "print 'done'\n"
   ]
  },
  {
   "cell_type": "code",
   "execution_count": 9,
   "metadata": {},
   "outputs": [
    {
     "name": "stdout",
     "output_type": "stream",
     "text": [
      "(2, 2, 5001)\n",
      "(2, 2, 9, 5001)\n",
      "(2, 2, 9, 5001)\n"
     ]
    },
    {
     "data": {
      "image/png": "[encoded data removed]",
      "text/plain": [
       "<matplotlib.figure.Figure at 0x1083fca50>"
      ]
     },
     "metadata": {},
     "output_type": "display_data"
    },
    {
     "data": {
      "image/png": "[encoded data removed]",
      "text/plain": [
       "<matplotlib.figure.Figure at 0x10a57b650>"
      ]
     },
     "metadata": {},
     "output_type": "display_data"
    },
    {
     "data": {
      "image/png": "[encoded data removed]",
      "text/plain": [
       "<matplotlib.figure.Figure at 0x10a2bfd90>"
      ]
     },
     "metadata": {},
     "output_type": "display_data"
    },
    {
     "data": {
      "image/png": "[encoded data removed]",
      "text/plain": [
       "<matplotlib.figure.Figure at 0x10a7247d0>"
      ]
     },
     "metadata": {},
     "output_type": "display_data"
    }
   ],
   "source": [
    "# plot a few\n",
    "print crossCls.shape\n",
    "print crossClsPlus.shape\n",
    "print crossClsMinus.shape\n",
    "for mapNum in range(nMaps):\n",
    "    for mapNum2 in range(nMaps):\n",
    "        plt.plot(ellsP,crossCls[mapNum,mapNum2])\n",
    "        plt.title('crossCls[{0},{1}]'.format(mapNum,mapNum2))\n",
    "        plt.show()"
   ]
  },
  {
   "cell_type": "code",
   "execution_count": null,
   "metadata": {},
   "outputs": [],
   "source": []
  },
  {
   "cell_type": "code",
   "execution_count": null,
   "metadata": {},
   "outputs": [],
   "source": []
  },
  {
   "cell_type": "code",
   "execution_count": null,
   "metadata": {},
   "outputs": [],
   "source": []
  },
  {
   "cell_type": "markdown",
   "metadata": {},
   "source": [
    "# Add Noise"
   ]
  },
  {
   "cell_type": "code",
   "execution_count": 10,
   "metadata": {},
   "outputs": [
    {
     "name": "stdout",
     "output_type": "stream",
     "text": [
      "getting (primary CMB) detector noise...\n",
      "(2, 2, 5001)\n"
     ]
    }
   ],
   "source": [
    "print 'getting (primary CMB) detector noise...'\n",
    "import noiseCl as ncl\n",
    "# CMBS4 v1\n",
    "fwhm = 1; ST = 1; SP = ST*1.414\n",
    "ellsP = range(lmax+1)\n",
    "noiseCMBS4_TT1 = ncl.noisePower(ST,ST,fwhm,ellsP)\n",
    "#noiseCMBS4_TP1 = ncl.noisePower(ST,SP,fwhm,ellsP)\n",
    "noiseCMBS4_PP1 = ncl.noisePower(SP,SP,fwhm,ellsP)\n",
    "\n",
    "# set TE noise to zero\n",
    "zerosList = np.zeros(lmax+1)\n",
    "noiseCMBS4_TP1 = zerosList\n",
    "\n",
    "# shape like crossCls\n",
    "if nMaps == 2:\n",
    "    noiseClsP = np.array([[noiseCMBS4_TT1,noiseCMBS4_TP1],[noiseCMBS4_TP1,noiseCMBS4_PP1]])\n",
    "elif nMaps == 3:\n",
    "    noiseClsP = np.array([[noiseCMBS4_TT1, noiseCMBS4_TP1,      zerosList],\n",
    "                          [noiseCMBS4_TP1, noiseCMBS4_PP1,      zerosList],\n",
    "                          [     zerosList,      zerosList, noiseCMBS4_PP1]])\n",
    "else:\n",
    "    'bad nMaps for noise maker'\n",
    "    \n",
    "print noiseClsP.shape"
   ]
  },
  {
   "cell_type": "code",
   "execution_count": null,
   "metadata": {},
   "outputs": [],
   "source": []
  },
  {
   "cell_type": "markdown",
   "metadata": {},
   "source": [
    "# Create Covariance Matrix"
   ]
  },
  {
   "cell_type": "code",
   "execution_count": 11,
   "metadata": {},
   "outputs": [
    {
     "name": "stdout",
     "output_type": "stream",
     "text": [
      "building covariance matrix... \n",
      "starting covariance set  1  of  2 ... \n",
      "starting covariance set  2  of  2 ... \n",
      "(3, 3, 5001)\n",
      "lmin =  0\n",
      "obsList:  [0. 1. 3.]\n"
     ]
    }
   ],
   "source": [
    "# make covariance matrices with noise\n",
    "print 'building covariance matrix... '\n",
    "covarP,invCovP,ellsP,obsListP = Fobj.makeCovar(crossCls,noiseClsP,0,lmax)\n",
    "\n",
    "print invCovP.shape\n",
    "print 'lmin = ',ellsP[0]\n",
    "print 'obsList: ',obsListP"
   ]
  },
  {
   "cell_type": "code",
   "execution_count": 12,
   "metadata": {},
   "outputs": [],
   "source": [
    "# save covar\n",
    "# ell values go from 0 to lmax-1\n",
    "#import pickle \n",
    "#pickle.dump(covarP,open('covar.pkl','w'))"
   ]
  },
  {
   "cell_type": "code",
   "execution_count": null,
   "metadata": {},
   "outputs": [],
   "source": []
  },
  {
   "cell_type": "code",
   "execution_count": null,
   "metadata": {},
   "outputs": [],
   "source": []
  },
  {
   "cell_type": "markdown",
   "metadata": {},
   "source": [
    "# Calculate numerical derivatives"
   ]
  },
  {
   "cell_type": "code",
   "execution_count": 13,
   "metadata": {},
   "outputs": [
    {
     "name": "stdout",
     "output_type": "stream",
     "text": [
      "starting creation of C_l derivatives... \n",
      "starting derivative set  1  of  2 ... \n",
      "starting derivative set  2  of  2 ... \n"
     ]
    }
   ],
   "source": [
    "# get derivatives wrt parameters\n",
    "print 'starting creation of C_l derivatives... '\n",
    "\n",
    "dClVecs = np.empty((nCls, nCosParams, lmax+1))\n",
    "for map1 in range(nMaps):\n",
    "    print 'starting derivative set ',map1+1,' of ',nMaps,'... '\n",
    "    for map2 in range(map1,nMaps):\n",
    "        mapIdx  = map1*nMaps+map2 -map1*(map1+1)/2  \n",
    "                                   # mapIdx = map index\n",
    "        for pIdx in range(nCosParams):\n",
    "            dClPlus  = crossClsPlus[map1,map2,pIdx]\n",
    "            dClMinus = crossClsMinus[map1,map2,pIdx]\n",
    "            dClVecs[mapIdx, pIdx] = (dClPlus-dClMinus)/(2*deltaP[pIdx])\n"
   ]
  },
  {
   "cell_type": "code",
   "execution_count": null,
   "metadata": {},
   "outputs": [],
   "source": []
  },
  {
   "cell_type": "code",
   "execution_count": null,
   "metadata": {},
   "outputs": [],
   "source": []
  },
  {
   "cell_type": "markdown",
   "metadata": {},
   "source": [
    "# Build the Fisher matrix"
   ]
  },
  {
   "cell_type": "code",
   "execution_count": 14,
   "metadata": {},
   "outputs": [
    {
     "name": "stdout",
     "output_type": "stream",
     "text": [
      "building Fisher matrix from components...\n",
      "invCovP.shape:  (3, 3, 5001) , dClVecs.shape:  (3, 9, 5001)\n",
      "starting bin set  1  of  9\n",
      "starting bin set  2  of  9\n",
      "starting bin set  3  of  9\n",
      "starting bin set  4  of  9\n",
      "starting bin set  5  of  9\n",
      "starting bin set  6  of  9\n",
      "starting bin set  7  of  9\n",
      "starting bin set  8  of  9\n",
      "starting bin set  9  of  9\n",
      "creation of Fisher Matrix complete!\n",
      "\n",
      "Fij:\n",
      "[[ 1.06809052e+03 -7.62872322e+01 -5.27627453e+03  7.51889065e+09\n",
      "  -3.50784740e+01 -3.16715408e+01  4.72660320e-02  3.81435706e-03\n",
      "   7.66859440e-03]\n",
      " [-7.62872322e+01  8.36337252e+01  1.99625696e+03 -1.13217822e+10\n",
      "   8.76194494e+00  4.80909906e+01 -1.89852397e-02 -2.16124659e-03\n",
      "  -9.64160431e-03]\n",
      " [-5.27627453e+03  1.99625696e+03  7.50127011e+05 -4.12700263e+11\n",
      "  -3.46578131e+02  1.75859003e+03  4.03310596e+00 -4.38360644e-02\n",
      "  -3.77313766e-01]\n",
      " [ 7.51889065e+09 -1.13217822e+10 -4.12700263e+11  2.04221500e+18\n",
      "  -1.77963987e+08 -8.68424855e+09  2.61967957e+06  3.15737710e+05\n",
      "   1.71000361e+06]\n",
      " [-3.50784740e+01  8.76194494e+00 -3.46578131e+02 -1.77963987e+08\n",
      "   3.90914002e+00  7.25333467e-01 -4.99756562e-03 -3.05380861e-04\n",
      "  -2.46409481e-04]\n",
      " [-3.16715408e+01  4.80909906e+01  1.75859003e+03 -8.68424855e+09\n",
      "   7.25333467e-01  3.69294143e+01 -1.11049354e-02 -1.33188520e-03\n",
      "  -7.26718077e-03]\n",
      " [ 4.72660320e-02 -1.89852397e-02  4.03310596e+00  2.61967957e+06\n",
      "  -4.99756562e-03 -1.11049354e-02  4.38469552e-05  5.62086609e-07\n",
      "   1.98485065e-06]\n",
      " [ 3.81435706e-03 -2.16124659e-03 -4.38360644e-02  3.15737710e+05\n",
      "  -3.05380861e-04 -1.33188520e-03  5.62086609e-07  2.18531729e-07\n",
      "   3.35313344e-07]\n",
      " [ 7.66859440e-03 -9.64160431e-03 -3.77313766e-01  1.71000361e+06\n",
      "  -2.46409481e-04 -7.26718077e-03  1.98485065e-06  3.35313344e-07\n",
      "   1.46391855e-06]]\n",
      "eigenvalues of F_ij^-1:\n",
      "[1.44333021e-10 1.50381458e-06 1.04216803e-03 4.66804539e-02\n",
      " 3.50094881e+00 1.91091388e+03 1.96035871e+05 5.33671918e+07\n",
      " 5.08726112e+11]\n"
     ]
    }
   ],
   "source": [
    "#Build Fisher matrix\n",
    "lmin = 50 #to match Allison et. al. and justify no ISW effect\n",
    "#multply vectorT,invcov,vector and add up\n",
    "print 'building Fisher matrix from components...'\n",
    "print 'invCovP.shape: ',invCovP.shape,', dClVecs.shape: ',dClVecs.shape\n",
    "Fij = np.zeros((nCosParams,nCosParams)) # indices match those in paramList\n",
    "for i in range(nCosParams):\n",
    "    print 'starting bin set ',i+1,' of ',nCosParams\n",
    "    dClVec_i = dClVecs[:,i,:] # shape (nCls,nElls)\n",
    "    for j in range(nCosParams):\n",
    "        dClVec_j = dClVecs[:,j,:] # shape (nCls,nElls)\n",
    "        # ugh.  don't like nested loops in Python... but easier to program...\n",
    "        #for ell in range(lmin-2,lmax+51-2):\n",
    "        for ell in range(lmin-2,lmax-2):\n",
    "          myCov = invCovP[:,:,ell]  #note invCov has no ell=0,1 but dClVecs do\n",
    "          fij = np.dot(dClVec_i[:,ell+2],np.dot(myCov,dClVec_j[:,ell+2]))\n",
    "          Fij[i,j] += fij\n",
    "    \n",
    "print 'creation of Fisher Matrix complete!\\n'\n",
    "\n",
    "# Have a look at it\n",
    "print 'Fij:'\n",
    "print Fij\n",
    "# check eigenvalues\n",
    "w,v = np.linalg.eigh(np.linalg.inv(Fij))\n",
    "print 'eigenvalues of F_ij^-1:'\n",
    "print w"
   ]
  },
  {
   "cell_type": "code",
   "execution_count": null,
   "metadata": {},
   "outputs": [],
   "source": []
  },
  {
   "cell_type": "code",
   "execution_count": null,
   "metadata": {},
   "outputs": [],
   "source": []
  },
  {
   "cell_type": "markdown",
   "metadata": {},
   "source": [
    "# Save the results in an augmented Fisher Matrix object file"
   ]
  },
  {
   "cell_type": "code",
   "execution_count": 15,
   "metadata": {},
   "outputs": [],
   "source": [
    "# Save these as part of Fobj.\n",
    "# Is Fobj loaded?\n",
    "Fobj.FijTE = Fij\n",
    "Fobj.dClVecsP = dClVecs\n",
    "Fobj.covarP = covarP\n",
    "Fobj.invCovP = invCovP\n",
    "\n",
    "Fobj.crossClsP      = crossCls\n",
    "Fobj.crossClsPPlus  = crossClsPlus\n",
    "Fobj.crossClsPMinus = crossClsMinus\n",
    "\n",
    "Fobj.noiseClsP = noiseClsP\n",
    "\n",
    "Fobj.ellsP = ellsP\n",
    "Fobj.lminP = 0\n",
    "Fobj.lmaxP = lmax  \n",
    "Fobj.nMapsP = nMaps\n",
    "Fobj.obsListP = obsListP\n"
   ]
  },
  {
   "cell_type": "code",
   "execution_count": 16,
   "metadata": {},
   "outputs": [
    {
     "name": "stdout",
     "output_type": "stream",
     "text": [
      "done\n"
     ]
    }
   ],
   "source": [
    "# save new Fobj\n",
    "import pickle\n",
    "\n",
    "filehandler = open('Fisher_7_6X2_w2_wan_TEB.obj','w') # accuracyBoost=3,doNorm=True,lmax=2000, nz=3e5; nonlinear=True,\n",
    "#neutrino_hierarchy = 'degenerate'; from FisherCl branch quickCl\n",
    "\n",
    "\n",
    "pickle.dump(Fobj,filehandler)\n",
    "filehandler.close()\n",
    "\n",
    "print 'done'"
   ]
  },
  {
   "cell_type": "code",
   "execution_count": null,
   "metadata": {},
   "outputs": [],
   "source": []
  },
  {
   "cell_type": "code",
   "execution_count": 17,
   "metadata": {},
   "outputs": [
    {
     "data": {
      "image/png": "[encoded data removed]",
      "text/plain": [
       "<matplotlib.figure.Figure at 0x10a0dae90>"
      ]
     },
     "metadata": {},
     "output_type": "display_data"
    }
   ],
   "source": [
    "# just take a look at TT, TE, EE, BB\n",
    "plt.loglog(ellsP,crossCls[0,0]*ellsP*(ellsP+1),label='TT')\n",
    "#plt.loglog(ellsP,crossCls[0,1]*ellsP*(ellsP+1),label='ET')\n",
    "plt.loglog(ellsP,crossCls[1,0]*ellsP*(ellsP+1),label='TE')\n",
    "plt.loglog(ellsP,crossCls[1,1]*ellsP*(ellsP+1),label='EE')\n",
    "if nMaps == 3 and myClName == 'total': # BB is zero for unlensed spectra\n",
    "    plt.loglog(ellsP,crossCls[2,2]*ellsP*(ellsP+1),label='BB')\n",
    "plt.title('C_l TT, TE, EE (,BB)')\n",
    "plt.legend()\n",
    "plt.show()"
   ]
  },
  {
   "cell_type": "code",
   "execution_count": 18,
   "metadata": {},
   "outputs": [
    {
     "name": "stdout",
     "output_type": "stream",
     "text": [
      "(3, 9, 2000)\n"
     ]
    }
   ],
   "source": [
    "print dClVecs[:,:,3000+1:].shape"
   ]
  },
  {
   "cell_type": "code",
   "execution_count": null,
   "metadata": {},
   "outputs": [],
   "source": []
  },
  {
   "cell_type": "code",
   "execution_count": null,
   "metadata": {},
   "outputs": [],
   "source": []
  },
  {
   "cell_type": "code",
   "execution_count": null,
   "metadata": {},
   "outputs": [],
   "source": []
  },
  {
   "cell_type": "code",
   "execution_count": null,
   "metadata": {},
   "outputs": [],
   "source": []
  },
  {
   "cell_type": "code",
   "execution_count": null,
   "metadata": {},
   "outputs": [],
   "source": []
  },
  {
   "cell_type": "markdown",
   "metadata": {},
   "source": [
    "# Check out these uncertainties!"
   ]
  },
  {
   "cell_type": "code",
   "execution_count": 19,
   "metadata": {},
   "outputs": [],
   "source": [
    "getSigmas = lambda Fij: np.sqrt(np.diag(np.linalg.inv(Fij)))"
   ]
  },
  {
   "cell_type": "code",
   "execution_count": 26,
   "metadata": {
    "scrolled": true
   },
   "outputs": [
    {
     "name": "stdout",
     "output_type": "stream",
     "text": [
      "adjusting lmax for TT... \n",
      "adjusting lmax for TT... \n",
      "adjusting lmax for TT... \n",
      "adjusting lmax for TT... \n",
      "adjusting lmax for TT... \n",
      "adjusting lmax for TT... \n",
      "adjusting lmax for TT... \n",
      "adjusting lmax for TT... \n",
      "adjusting lmax for TT... \n",
      "adjusting lmax for TT... \n",
      "adjusting lmax for TT... \n",
      "adjusting lmax for TT... \n",
      "adjusting lmax for TT... \n",
      "adjusting lmax for TT... \n",
      "adjusting lmax for TT... \n",
      "adjusting lmax for TT... \n",
      "adjusting lmax for TT... \n",
      "adjusting lmax for TT... \n",
      "adjusting lmax for TT... \n",
      "adjusting lmax for TT... \n",
      "adjusting lmax for TT... \n",
      "adjusting lmax for TT... \n",
      "adjusting lmax for TT... \n",
      "adjusting lmax for TT... \n",
      "adjusting lmax for TT... \n",
      "adjusting lmax for TT... \n",
      "adjusting lmax for TT... \n",
      "adjusting lmax for TT... \n",
      "adjusting lmax for TT... \n",
      "adjusting lmax for TT... \n",
      "adjusting lmax for TT... \n",
      "adjusting lmax for TT... \n",
      "adjusting lmax for TT... \n",
      "adjusting lmax for TT... \n",
      "adjusting lmax for TT... \n",
      "adjusting lmax for TT... \n",
      "adjusting lmax for TT... \n",
      "adjusting lmax for TT... \n",
      "adjusting lmax for TT... \n",
      "adjusting lmax for TT... \n",
      "adjusting lmax for TT... \n",
      "adjusting lmax for TT... \n",
      "adjusting lmax for TT... \n",
      "adjusting lmax for TT... \n",
      "adjusting lmax for TT... \n",
      "adjusting lmax for TT... \n",
      "adjusting lmax for TT... \n",
      "adjusting lmax for TT... \n",
      "adjusting lmax for TT... \n",
      "adjusting lmax for TT... \n",
      "adjusting lmax for TT... \n",
      "adjusting lmax for TT... \n",
      "adjusting lmax for TT... \n",
      "adjusting lmax for TT... \n",
      "adjusting lmax for TT... \n",
      "adjusting lmax for TT... \n",
      "adjusting lmax for TT... \n",
      "adjusting lmax for TT... \n",
      "adjusting lmax for TT... \n",
      "adjusting lmax for TT... \n",
      "adjusting lmax for TT... \n",
      "adjusting lmax for TT... \n",
      "adjusting lmax for TT... \n",
      "adjusting lmax for TT... \n",
      "adjusting lmax for TT... \n",
      "adjusting lmax for TT... \n",
      "adjusting lmax for TT... \n",
      "adjusting lmax for TT... \n",
      "adjusting lmax for TT... \n",
      "adjusting lmax for TT... \n",
      "adjusting lmax for TT... \n",
      "adjusting lmax for TT... \n",
      "adjusting lmax for TT... \n",
      "adjusting lmax for TT... \n",
      "adjusting lmax for TT... \n",
      "adjusting lmax for TT... \n",
      "adjusting lmax for TT... \n",
      "adjusting lmax for TT... \n",
      "adjusting lmax for TT... \n",
      "adjusting lmax for TT... \n",
      "adjusting lmax for TT... \n",
      "from TEB Fisher Matrix:\n",
      "ombh2 :  0.06682871101126153\n",
      "omch2 :  0.670027305884781\n",
      "cosmomc_theta :  0.019016250416326895\n",
      "As :  1.1433572366793245e-06\n",
      "ns :  1.9115693806956013\n",
      "tau :  217.57979197271797\n",
      "mnu :  442.69109923418915\n",
      "w :  114530.22432520158\n",
      "wa :  299323.9065182134\n"
     ]
    }
   ],
   "source": [
    "myLmin = 30\n",
    "FijTEB = Fobj.makeFisher(myLmin,TE=True)\n",
    "Fijkg = Fobj.makeFisher(myLmin)\n",
    "sigmasTEB = getSigmas(FijTEB)\n",
    "sigmaskg = getSigmas(Fijkg)\n",
    "\n",
    "print 'from TEB Fisher Matrix:'\n",
    "for i,paramName in enumerate(paramList[:nCosParams]):\n",
    "    print paramName, ': ',sigmasTEB[i]"
   ]
  },
  {
   "cell_type": "markdown",
   "metadata": {},
   "source": [
    "# Combine the Fisher matrices and see smaller sigmas"
   ]
  },
  {
   "cell_type": "code",
   "execution_count": 39,
   "metadata": {
    "scrolled": false
   },
   "outputs": [
    {
     "name": "stdout",
     "output_type": "stream",
     "text": [
      "comparison of sigma(T,E), sigma(kappa,g), and sigma(T,E,kappa,g):\n",
      "\n",
      "1.0\n",
      "fsky = 1.0:\n",
      "+---------------+------------+------------+----------------+\n",
      "|   Parameter   | sigma(T,E) | sigma(k,g) | sigma(T,E,k,g) |\n",
      "+---------------+------------+------------+----------------+\n",
      "|     ombh2     |   0.0668   |   0.0783   |     0.0261     |\n",
      "|     omch2     |    0.67    |   0.253    |     0.0771     |\n",
      "| cosmomc_theta |   0.019    |   0.0374   |    0.00123     |\n",
      "|       As      |  1.14e-06  |  5.45e-09  |    1.86e-09    |\n",
      "|       ns      |    1.91    |   0.656    |     0.137      |\n",
      "|      tau      |     218    |     489    |     0.534      |\n",
      "|      mnu      |     443    |    2.19    |      1.23      |\n",
      "|       wa      |  1.15e+05  |    51.7    |      4.65      |\n",
      "|       w       |  2.99e+05  |    21.7    |      3.62      |\n",
      "|      bin1     |       0    |    1.82    |      1.46      |\n",
      "|      bin2     |       0    |    1.84    |      1.49      |\n",
      "|      bin3     |       0    |    2.39    |       2.1      |\n",
      "|      bin4     |       0    |    5.48    |      5.44      |\n",
      "|      bin5     |       0    |      17    |      16.9      |\n",
      "|      bin6     |       0    |    81.2    |      53.9      |\n",
      "+---------------+------------+------------+----------------+\n",
      "1.1547005383792515\n",
      "fsky = 0.75:\n",
      "+---------------+------------+------------+----------------+\n",
      "|   Parameter   | sigma(T,E) | sigma(k,g) | sigma(T,E,k,g) |\n",
      "+---------------+------------+------------+----------------+\n",
      "|     ombh2     |   0.0772   |   0.0904   |     0.0301     |\n",
      "|     omch2     |   0.774    |   0.292    |     0.089      |\n",
      "| cosmomc_theta |   0.022    |   0.0431   |    0.00142     |\n",
      "|       As      |  1.32e-06  |  6.29e-09  |    2.15e-09    |\n",
      "|       ns      |    2.21    |   0.758    |     0.158      |\n",
      "|      tau      |     251    |     565    |     0.616      |\n",
      "|      mnu      |     511    |    2.53    |      1.42      |\n",
      "|       wa      |  1.32e+05  |    59.6    |      5.37      |\n",
      "|       w       |  3.46e+05  |      25    |      4.17      |\n",
      "|      bin1     |       0    |     2.1    |      1.68      |\n",
      "|      bin2     |       0    |    2.12    |      1.72      |\n",
      "|      bin3     |       0    |    2.76    |      2.42      |\n",
      "|      bin4     |       0    |    6.33    |      6.28      |\n",
      "|      bin5     |       0    |    19.7    |      19.6      |\n",
      "|      bin6     |       0    |    93.7    |      62.2      |\n",
      "+---------------+------------+------------+----------------+\n",
      "1.5811388300841898\n",
      "fsky = 0.4:\n",
      "+---------------+------------+------------+----------------+\n",
      "|   Parameter   | sigma(T,E) | sigma(k,g) | sigma(T,E,k,g) |\n",
      "+---------------+------------+------------+----------------+\n",
      "|     ombh2     |   0.106    |   0.124    |     0.0412     |\n",
      "|     omch2     |    1.06    |     0.4    |     0.122      |\n",
      "| cosmomc_theta |   0.0301   |   0.0591   |    0.00194     |\n",
      "|       As      |  1.81e-06  |  8.61e-09  |    2.94e-09    |\n",
      "|       ns      |    3.02    |    1.04    |     0.217      |\n",
      "|      tau      |     344    |     774    |     0.844      |\n",
      "|      mnu      |     700    |    3.46    |      1.94      |\n",
      "|       wa      |  1.81e+05  |    81.7    |      7.36      |\n",
      "|       w       |  4.73e+05  |    34.3    |      5.72      |\n",
      "|      bin1     |       0    |    2.88    |       2.3      |\n",
      "|      bin2     |       0    |     2.9    |      2.36      |\n",
      "|      bin3     |       0    |    3.77    |      3.31      |\n",
      "|      bin4     |       0    |    8.66    |       8.6      |\n",
      "|      bin5     |       0    |    26.9    |      26.8      |\n",
      "|      bin6     |       0    |     128    |      85.1      |\n",
      "+---------------+------------+------------+----------------+\n",
      "2.0\n",
      "fsky = 0.25:\n",
      "+---------------+------------+------------+----------------+\n",
      "|   Parameter   | sigma(T,E) | sigma(k,g) | sigma(T,E,k,g) |\n",
      "+---------------+------------+------------+----------------+\n",
      "|     ombh2     |   0.134    |   0.157    |     0.0522     |\n",
      "|     omch2     |    1.34    |   0.506    |     0.154      |\n",
      "| cosmomc_theta |   0.038    |   0.0747   |    0.00245     |\n",
      "|       As      |  2.29e-06  |  1.09e-08  |    3.72e-09    |\n",
      "|       ns      |    3.82    |    1.31    |     0.274      |\n",
      "|      tau      |     435    |     979    |      1.07      |\n",
      "|      mnu      |     885    |    4.38    |      2.45      |\n",
      "|       wa      |  2.29e+05  |     103    |      9.31      |\n",
      "|       w       |  5.99e+05  |    43.4    |      7.23      |\n",
      "|      bin1     |       0    |    3.64    |      2.92      |\n",
      "|      bin2     |       0    |    3.67    |      2.98      |\n",
      "|      bin3     |       0    |    4.77    |      4.19      |\n",
      "|      bin4     |       0    |      11    |      10.9      |\n",
      "|      bin5     |       0    |    34.1    |      33.9      |\n",
      "|      bin6     |       0    |     162    |       108      |\n",
      "+---------------+------------+------------+----------------+\n",
      "which Cl used for T,E,B:  unlensed_scalar\n"
     ]
    }
   ],
   "source": [
    "from prettytable import PrettyTable\n",
    "\n",
    "print 'comparison of sigma(T,E), sigma(kappa,g), and sigma(T,E,kappa,g):\\n'\n",
    "FijSum = Fijkg.copy()\n",
    "FijSum[:nCosParams,:nCosParams] += FijTEB\n",
    "\n",
    "sigmasSum = getSigmas(FijSum)\n",
    "#infSet = ['inf','inf','inf','inf','inf','inf'] # number of infs needs to be number of bins\n",
    "infSet = [0,0,0,0,0,0] # number of infs needs to be number of bins\n",
    "sigmasTEB = np.append(sigmasTEB,infSet)\n",
    "sigmasSum = np.append(sigmasSum,infSet)\n",
    "#print sigmasTEB\n",
    "    \n",
    "from prettytable import PrettyTable\n",
    "# for a set of fsky values\n",
    "for fsky in (1.0,0.75,0.4,0.25):\n",
    "    fskyFac = np.sqrt(1./fsky)\n",
    "    print fskyFac\n",
    "    sigmasA = sigmaskg*fskyFac\n",
    "    sigmasB = sigmasTEB*fskyFac\n",
    "    sigmasC = sigmasSum*fskyFac\n",
    "    t = PrettyTable(['Parameter', 'sigma(T,E)','sigma(k,g)','sigma(T,E,k,g)'])\n",
    "    for i,p in enumerate(Fobj.paramList):\n",
    "        t.add_row([p,\"%5.3g\" % sigmasB[i],\"%5.3g\" % sigmasA[i],\"%5.3g\" % sigmasC[i]])\n",
    "    print 'fsky = {0}:'.format(fsky)\n",
    "    print t\n",
    "\n",
    "print 'which Cl used for T,E,B: ',myClName"
   ]
  },
  {
   "cell_type": "code",
   "execution_count": null,
   "metadata": {},
   "outputs": [],
   "source": []
  },
  {
   "cell_type": "code",
   "execution_count": null,
   "metadata": {},
   "outputs": [],
   "source": []
  },
  {
   "cell_type": "code",
   "execution_count": null,
   "metadata": {},
   "outputs": [],
   "source": []
  },
  {
   "cell_type": "code",
   "execution_count": null,
   "metadata": {},
   "outputs": [],
   "source": []
  },
  {
   "cell_type": "code",
   "execution_count": null,
   "metadata": {},
   "outputs": [],
   "source": []
  },
  {
   "cell_type": "markdown",
   "metadata": {},
   "source": [
    "# Compare to Byeonghee's result"
   ]
  },
  {
   "cell_type": "code",
   "execution_count": null,
   "metadata": {},
   "outputs": [],
   "source": []
  },
  {
   "cell_type": "code",
   "execution_count": 34,
   "metadata": {},
   "outputs": [
    {
     "name": "stdout",
     "output_type": "stream",
     "text": [
      "['ombh2', 'omch2', 'cosmomc_theta', 'As', 'ns', 'tau', 'mnu', 'w', 'wa']\n"
     ]
    }
   ],
   "source": [
    "# Byeonghee's result:\n",
    "# This used lmin 50, lmax 1000, halofit\n",
    "sigmasB1 = {\n",
    "    #sigma(b) (4 bins) =  [ 0.01220295  0.0092872   0.01058874  0.03529165]\n",
    "    'cosmomc_theta' : 0.00015113283201,\n",
    "    'ombh2' : 0.000504509008534,\n",
    "    'omch2' : 0.00151341881388,\n",
    "    'ns' : 0.00732594856064,\n",
    "    'As' : 0.0618279762973*1e-9,\n",
    "    'mnu' : 0.0564262366597,\n",
    "    'w' : 0.088058950571,\n",
    "    'tau' : 0.0595781322066,\n",
    "    'bin1' : 0.01220295,\n",
    "    'bin2' : 0.0092872,\n",
    "    'bin3' : 0.01058874,\n",
    "    'bin4' : 0.03529165\n",
    "}\n",
    "# This used lmin 50, lmax 1000, halofit, bias by bin\n",
    "sigmasB2 = {\n",
    "    'cosmomc_theta' : 7.31905124578e-05,\n",
    "    'ombh2' : 0.00117829505232,\n",
    "    'omch2' : 0.00253188668652,\n",
    "    'ns' : 0.0107531686379,\n",
    "    'As' : 0.0836156981509*1e-9,\n",
    "    'mnu' : 0.110362820478,\n",
    "    'w' : 0.0933472979446,\n",
    "    'tau' : 8.65882116522,\n",
    "    'bin1' : 0.01120403,\n",
    "    'bin2' : 0.0123868,\n",
    "    'bin3' : 0.01398429,\n",
    "    'bin4' : 0.0143556\n",
    "}\n",
    "# This one was after a late fix Byeonghee did:\n",
    "\"\"\"\n",
    "+---------------+--------------+--------------+\n",
    "|   Parameter   | sigma_Z(k,g) | sigma_B(k,g) | \n",
    "+---------------+--------------+--------------+\n",
    "|     ombh2     |   0.00182    |   0.00118    |    \n",
    "|     omch2     |   0.00509    |   0.00253    |     \n",
    "| cosmomc_theta |   6.51e-05   |   7.58e-05   |     \n",
    "|       As      |   9.26e-11   |   1.29e-10   |     \n",
    "|       ns      |    0.0116    |    0.0190    |    \n",
    "|      tau      |     0.33     |     8.26     |    \n",
    "|      mnu      |    0.0884    |     0.11     |      \n",
    "|       w       |    0.0448    |    0.0411    |       \n",
    "|      bin1     |    0.011     |    0.0063    |      \n",
    "|      bin2     |    0.0141    |    0.0056    |    \n",
    "|      bin3     |    0.0195    |    0.0054    |     \n",
    "|      bin4     |    0.0236    |    0.0047    |\n",
    "+---------------+--------------+--------------+\"\"\"\n",
    "sigmasB3 = {\n",
    "    'cosmomc_theta' : 7.58e-05,\n",
    "    'ombh2' : 0.00118,\n",
    "    'omch2' : 0.00253,\n",
    "    'ns' : 0.0190,\n",
    "    'As' : 1.29e-10,\n",
    "    'mnu' : 0.11,\n",
    "    'w' : 0.0411,\n",
    "    'tau' : 8.26,\n",
    "    'bin1' : 0.0063,\n",
    "    'bin2' : 0.0056,\n",
    "    'bin3' : 0.0054,\n",
    "    'bin4' : 0.0047\n",
    "}\n",
    "\n",
    "\n",
    "sigmasB = sigmasB3\n",
    "\n",
    "print paramList\n"
   ]
  },
  {
   "cell_type": "code",
   "execution_count": 35,
   "metadata": {},
   "outputs": [
    {
     "data": {
      "text/plain": [
       "'\\n# remove tau from my Fisher matrix, since Byeonghee omitted it.\\n# define row,col deleting function\\ndef fixParam(Fij,pNum):\\n    return np.delete(np.delete(Fij,pNum,0),pNum,1)\\nFij3 = fixParam(Fij2,5) # 5 for neutrinos\\nsigmas3 = np.sqrt(np.diag(np.linalg.inv(Fij3)))\\nsigmas3 = np.insert(sigmas3,5,0)\\nprint sigmas3\\n'"
      ]
     },
     "execution_count": 35,
     "metadata": {},
     "output_type": "execute_result"
    }
   ],
   "source": [
    "\"\"\"\n",
    "# remove tau from my Fisher matrix, since Byeonghee omitted it.\n",
    "# define row,col deleting function\n",
    "def fixParam(Fij,pNum):\n",
    "    return np.delete(np.delete(Fij,pNum,0),pNum,1)\n",
    "Fij3 = fixParam(Fij2,5) # 5 for neutrinos\n",
    "sigmas3 = np.sqrt(np.diag(np.linalg.inv(Fij3)))\n",
    "sigmas3 = np.insert(sigmas3,5,0)\n",
    "print sigmas3\n",
    "\"\"\""
   ]
  },
  {
   "cell_type": "code",
   "execution_count": 36,
   "metadata": {},
   "outputs": [
    {
     "data": {
      "text/plain": [
       "\"\\n# convert sigma_bi to sigma_bi/fid_bi\\nfidBs = Fobj.binBs\\nprint 'fiducial B_i: ',fidBs\\nsigmas3[-4:] = sigmas3[-4:]/fidBs\\nprint sigmas3\\n\""
      ]
     },
     "execution_count": 36,
     "metadata": {},
     "output_type": "execute_result"
    }
   ],
   "source": [
    "\"\"\"\n",
    "# convert sigma_bi to sigma_bi/fid_bi\n",
    "fidBs = Fobj.binBs\n",
    "print 'fiducial B_i: ',fidBs\n",
    "sigmas3[-4:] = sigmas3[-4:]/fidBs\n",
    "print sigmas3\n",
    "\"\"\""
   ]
  },
  {
   "cell_type": "code",
   "execution_count": 37,
   "metadata": {},
   "outputs": [
    {
     "data": {
      "text/plain": [
       "\"\\n#paramList = ['ombh2','omch2','cosmomc_theta','As','ns','tau','mnu']\\nmask = [True,True,False,True,True,False,True, True,True,True,True]\\nparamListB = np.array(paramList)\\nparamListB = np.append(paramListB,['bin1','bin2','bin3','bin4'])\\nparamListB = paramListB[mask]\\nsigmasB = sigmas3[mask]\\nprint sigmas3\\nprint sigmasB\\nprint paramListB\\nprint lmin\\n\""
      ]
     },
     "execution_count": 37,
     "metadata": {},
     "output_type": "execute_result"
    }
   ],
   "source": [
    "\"\"\"\n",
    "#paramList = ['ombh2','omch2','cosmomc_theta','As','ns','tau','mnu']\n",
    "mask = [True,True,False,True,True,False,True, True,True,True,True]\n",
    "paramListB = np.array(paramList)\n",
    "paramListB = np.append(paramListB,['bin1','bin2','bin3','bin4'])\n",
    "paramListB = paramListB[mask]\n",
    "sigmasB = sigmas3[mask]\n",
    "print sigmas3\n",
    "print sigmasB\n",
    "print paramListB\n",
    "print lmin\n",
    "\"\"\""
   ]
  },
  {
   "cell_type": "code",
   "execution_count": 38,
   "metadata": {},
   "outputs": [
    {
     "ename": "KeyError",
     "evalue": "0",
     "output_type": "error",
     "traceback": [
      "\u001b[0;31m---------------------------------------------------------------------------\u001b[0m",
      "\u001b[0;31mKeyError\u001b[0m                                  Traceback (most recent call last)",
      "\u001b[0;32m<ipython-input-38-862360897139>\u001b[0m in \u001b[0;36m<module>\u001b[0;34m()\u001b[0m\n\u001b[1;32m      2\u001b[0m \u001b[0mt\u001b[0m \u001b[0;34m=\u001b[0m \u001b[0mPrettyTable\u001b[0m\u001b[0;34m(\u001b[0m\u001b[0;34m[\u001b[0m\u001b[0;34m'Parameter'\u001b[0m\u001b[0;34m,\u001b[0m \u001b[0;34m'sigma_Z(k,g)'\u001b[0m\u001b[0;34m,\u001b[0m\u001b[0;34m'sigma_B(k,g)'\u001b[0m\u001b[0;34m,\u001b[0m\u001b[0;34m'percent diff.'\u001b[0m\u001b[0;34m]\u001b[0m\u001b[0;34m)\u001b[0m\u001b[0;34m\u001b[0m\u001b[0m\n\u001b[1;32m      3\u001b[0m \u001b[0;32mfor\u001b[0m \u001b[0mi\u001b[0m\u001b[0;34m,\u001b[0m\u001b[0mp\u001b[0m \u001b[0;32min\u001b[0m \u001b[0menumerate\u001b[0m\u001b[0;34m(\u001b[0m\u001b[0mparamList\u001b[0m\u001b[0;34m)\u001b[0m\u001b[0;34m:\u001b[0m\u001b[0;34m\u001b[0m\u001b[0m\n\u001b[0;32m----> 4\u001b[0;31m     \u001b[0mZi\u001b[0m \u001b[0;34m=\u001b[0m \u001b[0msigmasB\u001b[0m\u001b[0;34m[\u001b[0m\u001b[0mi\u001b[0m\u001b[0;34m]\u001b[0m\u001b[0;34m\u001b[0m\u001b[0m\n\u001b[0m\u001b[1;32m      5\u001b[0m     \u001b[0mBi\u001b[0m \u001b[0;34m=\u001b[0m \u001b[0mBsigmas\u001b[0m\u001b[0;34m[\u001b[0m\u001b[0mparamList\u001b[0m\u001b[0;34m[\u001b[0m\u001b[0mi\u001b[0m\u001b[0;34m]\u001b[0m\u001b[0;34m]\u001b[0m\u001b[0;34m\u001b[0m\u001b[0m\n\u001b[1;32m      6\u001b[0m     \u001b[0mdiff\u001b[0m \u001b[0;34m=\u001b[0m \u001b[0;34m(\u001b[0m\u001b[0mBi\u001b[0m\u001b[0;34m-\u001b[0m\u001b[0mZi\u001b[0m\u001b[0;34m)\u001b[0m\u001b[0;34m/\u001b[0m\u001b[0mZi\u001b[0m \u001b[0;34m*\u001b[0m\u001b[0;36m100\u001b[0m\u001b[0;34m\u001b[0m\u001b[0m\n",
      "\u001b[0;31mKeyError\u001b[0m: 0"
     ]
    }
   ],
   "source": [
    "from prettytable import PrettyTable\n",
    "t = PrettyTable(['Parameter', 'sigma_Z(k,g)','sigma_B(k,g)','percent diff.'])\n",
    "for i,p in enumerate(paramList):\n",
    "    Zi = sigmasB[i]\n",
    "    Bi = Bsigmas[paramList[i]]\n",
    "    diff = (Bi-Zi)/Zi *100\n",
    "    t.add_row([p,\"%5.3g\" % Zi,\"%5.3g\" % Bi, \"%5.3g\" % diff ] )\n",
    "print t"
   ]
  },
  {
   "cell_type": "code",
   "execution_count": null,
   "metadata": {},
   "outputs": [],
   "source": []
  }
 ],
 "metadata": {
  "kernelspec": {
   "display_name": "Python 2",
   "language": "python",
   "name": "python2"
  },
  "language_info": {
   "codemirror_mode": {
    "name": "ipython",
    "version": 2
   },
   "file_extension": ".py",
   "mimetype": "text/x-python",
   "name": "python",
   "nbconvert_exporter": "python",
   "pygments_lexer": "ipython2",
   "version": "2.7.14"
  }
 },
 "nbformat": 4,
 "nbformat_minor": 1
}
