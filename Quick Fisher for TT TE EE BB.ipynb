{
 "cells": [
  {
   "cell_type": "markdown",
   "metadata": {},
   "source": [
    "# Making some quick calculations to get $F_{ij}$ working for $C_l^{TT},C_l^{TE},C_l^{EE}$ observables"
   ]
  },
  {
   "cell_type": "code",
   "execution_count": 1,
   "metadata": {},
   "outputs": [
    {
     "name": "stderr",
     "output_type": "stream",
     "text": [
      "IMPORT ERROR: /opt/local/Library/Frameworks/Python.framework/Versions/2.7/lib/python2.7/site-packages/quicklens/mpi.pyc (No module named pypar). Could not load pbs or pypar. MPI will not be used.\n"
     ]
    },
    {
     "data": {
      "text/plain": [
       "'\\nThis notebook originally a copy of the TT TE EE version, April 13, 2018.\\n\\n'"
      ]
     },
     "execution_count": 1,
     "metadata": {},
     "output_type": "execute_result"
    }
   ],
   "source": [
    "import crosspower as cp # branch quickCl\n",
    "import FisherCl as fcl\n",
    "import noiseCl as ncl\n",
    "import camb\n",
    "\n",
    "# set plotting to be in the notebook instead of its own qt window\n",
    "%matplotlib inline\n",
    "\n",
    "\"\"\"\n",
    "This notebook originally a copy of the TT TE EE version, April 13, 2018.\n",
    "\n",
    "\"\"\""
   ]
  },
  {
   "cell_type": "code",
   "execution_count": 2,
   "metadata": {},
   "outputs": [
    {
     "data": {
      "text/plain": [
       "\"\\ncosParams = {\\n        'H0'    : None, #67.51, #setting H0=None allows cosmomc_theta to be used instead\\n        'cosmomc_theta'           : 1.04087e-2,\\n        'ombh2' : 0.02226,\\n        'omch2' : 0.1193,\\n        'omk'   : 0,\\n        'tau'   : 0.063,\\n\\n        'As'    : 2.130e-9,\\n        'ns'    : 0.9653,\\n        'r'     : 0,\\n        'kPivot': 0.05,\\n    \\n        'w'     : -1.0, # actually is w0 but CAMB calls it w\\n        'wa'    : 0.0,\\n\\n        # if fiducial mnu is changed, need to adjust omch2 as well\\n        'mnu'   : 0.06, # (eV)\\n        #'mnu'   : 0.058, # Lloyd suggested this value for fiducial; adjust omch2 if I do use it\\n        'nnu'   : 3.046,\\n        'standard_neutrino_neff'  : 3.046,\\n        'num_massive_neutrinos'   : 1,\\n        'neutrino_hierarchy'      : 'normal'}\\n\\nAccuracyBoost = 3\\nnonlinear = True\\nnz = 30000\\nprint 'nonlinear = ',nonlinear\\n\""
      ]
     },
     "execution_count": 2,
     "metadata": {},
     "output_type": "execute_result"
    }
   ],
   "source": [
    "# set cosmological parameters\n",
    "\n",
    "# maybe load a FisherMatrix object and get these from that instead?\n",
    "\"\"\"\n",
    "cosParams = {\n",
    "        'H0'    : None, #67.51, #setting H0=None allows cosmomc_theta to be used instead\n",
    "        'cosmomc_theta'           : 1.04087e-2,\n",
    "        'ombh2' : 0.02226,\n",
    "        'omch2' : 0.1193,\n",
    "        'omk'   : 0,\n",
    "        'tau'   : 0.063,\n",
    "\n",
    "        'As'    : 2.130e-9,\n",
    "        'ns'    : 0.9653,\n",
    "        'r'     : 0,\n",
    "        'kPivot': 0.05,\n",
    "    \n",
    "        'w'     : -1.0, # actually is w0 but CAMB calls it w\n",
    "        'wa'    : 0.0,\n",
    "\n",
    "        # if fiducial mnu is changed, need to adjust omch2 as well\n",
    "        'mnu'   : 0.06, # (eV)\n",
    "        #'mnu'   : 0.058, # Lloyd suggested this value for fiducial; adjust omch2 if I do use it\n",
    "        'nnu'   : 3.046,\n",
    "        'standard_neutrino_neff'  : 3.046,\n",
    "        'num_massive_neutrinos'   : 1,\n",
    "        'neutrino_hierarchy'      : 'normal'}\n",
    "\n",
    "AccuracyBoost = 3\n",
    "nonlinear = True\n",
    "nz = 30000\n",
    "print 'nonlinear = ',nonlinear\n",
    "\"\"\""
   ]
  },
  {
   "cell_type": "code",
   "execution_count": null,
   "metadata": {},
   "outputs": [],
   "source": []
  },
  {
   "cell_type": "markdown",
   "metadata": {},
   "source": [
    "# Load a saved FisherMatrix object for parameters and structure"
   ]
  },
  {
   "cell_type": "code",
   "execution_count": 3,
   "metadata": {},
   "outputs": [
    {
     "name": "stdout",
     "output_type": "stream",
     "text": [
      "obsNames:  ['k,k', 'k,g1', 'k,g2', 'k,g3', 'k,g4', 'k,g5', 'k,g6', 'g1,g1', 'g1,g2', 'g1,g3', 'g1,g4', 'g1,g5', 'g1,g6', 'g2,g2', 'g2,g3', 'g2,g4', 'g2,g5', 'g2,g6', 'g3,g3', 'g3,g4', 'g3,g5', 'g3,g6', 'g4,g4', 'g4,g5', 'g4,g6', 'g5,g5', 'g5,g6', 'g6,g6']\n",
      "paramList:  ['ombh2', 'omch2', 'cosmomc_theta', 'As', 'ns', 'tau', 'mnu', 'w', 'wa', 'bin1', 'bin2', 'bin3', 'bin4', 'bin5', 'bin6']\n",
      "nonlinear:  True\n",
      "nz:  300000\n"
     ]
    }
   ],
   "source": [
    "# load saved Fobj\n",
    "# get lensing and galaxy Fisher matrix to add\n",
    "\n",
    "#\"\"\"\n",
    "import pickle\n",
    "\n",
    "filehandler = open('Fisher_7_6A.obj','r') # AccuracyBoost=3, lmax=3000, lmaxP=5000, nz=3e5; nonlinear=True,\n",
    "#neutrino_hierarchy = 'normal', usePrimaryCMB = True; from FisherCl branch quickCl\n",
    "# kludge for this one: told cp.getDNDZinterp to use modelDNDZ3; set cp.tophat beesBins=True\n",
    "# biasByBin = False (uses sigma(b)/b), dw = 0.05, useNoise = True\n",
    "\n",
    "\n",
    "# these two have an additional parameter wa but not crossClsPlus,Minus for it, etc.\n",
    "#filehandler = open('Fisher_7_6X2_w2_wan.obj','r') # AccuracyBoost=3, lmax=3000, lmaxP=5000, nz=3e5; nonlinear=True,\n",
    "#filehandler = open('Fisher_7_6X4_w2_wan.obj','r') # AccuracyBoost=3, lmax=3000, lmaxP=5000, nz=3e5; nonlinear=False,\n",
    "\n",
    "Fobj = pickle.load(filehandler) \n",
    "\n",
    "lmin = Fobj.lmin\n",
    "#lmin = 2\n",
    "lmax = Fobj.lmax\n",
    "#lmax = 3000\n",
    "\n",
    "nMaps = Fobj.nBins + 1\n",
    "nCosParams = Fobj.nParams - Fobj.nBins\n",
    "ells = Fobj.ells\n",
    "obsNames = Fobj.obsNames\n",
    "paramList = Fobj.paramList\n",
    "\n",
    "nz = Fobj.nz\n",
    "nonlinear = Fobj.nonlinear\n",
    "AccuracyBoost = Fobj.AccuracyBoost\n",
    "myParams = Fobj.cosParams\n",
    "\n",
    "\n",
    "print 'obsNames: ',obsNames\n",
    "print 'paramList: ',paramList\n",
    "print 'nonlinear: ',nonlinear\n",
    "print 'nz: ',nz\n",
    "#\"\"\"\n"
   ]
  },
  {
   "cell_type": "code",
   "execution_count": 4,
   "metadata": {},
   "outputs": [
    {
     "name": "stdout",
     "output_type": "stream",
     "text": [
      "neutrino_hierarchy =  normal\n",
      "starting makePkInterp.\n"
     ]
    },
    {
     "name": "stderr",
     "output_type": "stream",
     "text": [
      "WARNING:root:accuracy parameters are changed globally, not yet per parameter set\n"
     ]
    },
    {
     "name": "stdout",
     "output_type": "stream",
     "text": [
      "finishing makePkInterp.\n",
      "done.\n"
     ]
    }
   ],
   "source": [
    "# get a matterPower object\n",
    "#reload(cp)\n",
    "myPk = cp.MatterPower(nz=nz,AccuracyBoost=AccuracyBoost,nonlinear=nonlinear,**myParams)\n",
    "print 'done.'"
   ]
  },
  {
   "cell_type": "code",
   "execution_count": null,
   "metadata": {},
   "outputs": [],
   "source": []
  },
  {
   "cell_type": "code",
   "execution_count": 5,
   "metadata": {},
   "outputs": [],
   "source": [
    "# verify that unlensed spectra have zero B component\n",
    "#doBcheck = True\n",
    "doBcheck = False\n",
    "if doBcheck:\n",
    "    # get pars\n",
    "    pars = myPk.getPars(lmax=lmax+1,lpa=5.0,AccuracyBoost=AccuracyBoost,**myParams)\n",
    "    #get the selected power spectra\n",
    "    results = camb.get_results(pars)\n",
    "    powers = results.get_cmb_power_spectra(pars)\n",
    "    totCL=powers['total']\n",
    "    unlensedCL=powers['unlensed_scalar']\n",
    "    print(totCL.shape,unlensedCL.shape)\n",
    "    \n",
    "    \n",
    "    # plot the B components\n",
    "    #Python CL arrays are all zero based (starting at L=0), Note L=0,1 entries will be zero by default.\n",
    "    #The different CL are always in the order TT, EE, BB, TE (with BB=0 for unlensed scalar results).    \n",
    "    ls = np.arange(totCL.shape[0])\n",
    "    fig, ax = plt.subplots(4,2, figsize = (24,12))\n",
    "    \n",
    "    ax[0,0].plot(ls,totCL[:,0], color='k')\n",
    "    ax[0,0].plot(ls,unlensedCL[:,0], color='r')\n",
    "    ax[0,0].set_title(r'$TT$')\n",
    "    ax[0,1].plot(ls[2:], 1-unlensedCL[2:,0]/totCL[2:,0])\n",
    "    ax[0,1].set_title(r'$\\Delta TT$')\n",
    "    \n",
    "    ax[1,0].plot(ls,totCL[:,1], color='k')\n",
    "    ax[1,0].plot(ls,unlensedCL[:,1], color='r')\n",
    "    ax[1,0].set_title(r'$EE$')\n",
    "    ax[1,1].plot(ls[2:], 1-unlensedCL[2:,1]/totCL[2:,1])\n",
    "    ax[1,1].set_title(r'$\\Delta EE$')\n",
    "    \n",
    "    ax[2,0].plot(ls,totCL[:,0], color='k')\n",
    "    ax[2,0].plot(ls,unlensedCL[:,3], color='r')\n",
    "    ax[2,0].set_title(r'$TE$')\n",
    "    ax[2,1].plot(ls[2:], 1-unlensedCL[2:,3]/totCL[2:,3])\n",
    "    ax[2,1].set_title(r'$\\Delta TE$')\n",
    "    \n",
    "    ax[3,0].plot(ls,totCL[:,1], color='k')\n",
    "    ax[3,0].plot(ls,unlensedCL[:,2], color='r')\n",
    "    ax[3,0].set_title(r'$BB$')\n",
    "    ax[3,1].plot(ls[2:], 1-unlensedCL[2:,2]/totCL[2:,2])\n",
    "    ax[3,1].set_title(r'$\\Delta BB$')\n",
    "    \n",
    "    \n",
    "    for ax in ax.reshape(-1): ax.set_xlim([2,2500])\n",
    "    plt.show()\n",
    "\n",
    "    "
   ]
  },
  {
   "cell_type": "code",
   "execution_count": null,
   "metadata": {},
   "outputs": [],
   "source": []
  },
  {
   "cell_type": "markdown",
   "metadata": {},
   "source": [
    "# get sigmas for comparison"
   ]
  },
  {
   "cell_type": "code",
   "execution_count": 6,
   "metadata": {
    "scrolled": true
   },
   "outputs": [
    {
     "name": "stdout",
     "output_type": "stream",
     "text": [
      "ombh2 :  8.80988471849915e-06\n",
      "omch2 :  0.0003959759210277408\n",
      "cosmomc_theta :  8.680089639141158e-06\n",
      "As :  5.923696448050441e-10\n",
      "ns :  0.0014251121121470452\n",
      "tau :  0.12582349865118583\n",
      "mnu :  0.49521756886450985\n",
      "w :  52.29416127562633\n",
      "wa :  134.59611994264677\n"
     ]
    }
   ],
   "source": [
    "doComparison = True\n",
    "myLmin = 30\n",
    "getSigmas = lambda Fij: np.sqrt(np.diag(np.linalg.inv(Fij)))\n",
    "if doComparison:\n",
    "    Fij_TEB_original = Fobj.makeFisher(myLmin,TE=True)\n",
    "    sigmas_TEB_original = getSigmas(Fij_TEB_original)\n",
    "    for i, paramName in enumerate(paramList[:nCosParams]):\n",
    "        print paramName, ': ',sigmas_TEB_original[i]"
   ]
  },
  {
   "cell_type": "code",
   "execution_count": null,
   "metadata": {},
   "outputs": [],
   "source": []
  },
  {
   "cell_type": "markdown",
   "metadata": {},
   "source": [
    "# Get all cross power spectra"
   ]
  },
  {
   "cell_type": "code",
   "execution_count": 7,
   "metadata": {},
   "outputs": [],
   "source": [
    "# function for checking the settings as they are being used\n",
    "\n",
    "def checkPars(pars):\n",
    "    H0 = pars.H0\n",
    "    print 'ombh2: ',pars.omegab*(H0/100)**2\n",
    "    print 'omch2: ',pars.omegac*(H0/100)**2\n",
    "    print 'H_0: ',H0, '(proxy for theta?)'\n",
    "    #print 'initial condition vector: ',pars.InitialConditionVector\n",
    "    print 'As: ',pars.InitPower.ScalarPowerAmp[0]\n",
    "    print 'ns: ',pars.InitPower.an[0]\n",
    "    print 'tau: ',pars.Reion.optical_depth\n",
    "    #print 'omega_n: ',pars.omegan\n",
    "    print 'omega_n*94*h**2: ',pars.omegan*94*(H0/100)**2\n",
    "    # need to find w and wa\n",
    "    \n",
    "    #print '\\n'\n",
    "    #print pars\n",
    "    \n",
    "#checkPars(parsTest)\n",
    "if False:\n",
    "    for cParamNum in range(nCosParams):\n",
    "        print '\\nContents of pars objects for parameter set ',cParamNum+1,' for parameter ',paramList[cParamNum], \\\n",
    "              ' with delta ',deltaP[cParamNum]\n",
    "        checkPars(myParsUpper[cParamNum])\n",
    "        checkPars(myParsLower[cParamNum])"
   ]
  },
  {
   "cell_type": "code",
   "execution_count": 8,
   "metadata": {},
   "outputs": [
    {
     "name": "stdout",
     "output_type": "stream",
     "text": [
      "creating modified parameter lists . . . \n",
      "done.\n"
     ]
    }
   ],
   "source": [
    "# copy some setup from FisherCl.py\n",
    "\n",
    "# parameters list:\n",
    "# step sizes for discrete derivatives: must correspond to paramList entries!\n",
    "#   from Allison et. al. (2015) Table III.\n",
    "nCosParams = 9 # 6 LCDM + Mnu + w0 + wa\n",
    "paramList = ['ombh2','omch2','cosmomc_theta',  'As', 'ns','tau','mnu', 'w', 'wa']\n",
    "deltaP =    [ 0.0008, 0.0030,      0.0050e-2,0.1e-9,0.010,0.020,0.020,0.05,0.025] #mnu one in eV\n",
    "\n",
    "# for testing\n",
    "#nCosParams = 2\n",
    "#paramList = [ 'w', 'wa']\n",
    "#deltaP =    [0.05,0.025]\n",
    "\n",
    "# cut deltaP in half to match Byeonghee's stepsizes\n",
    "deltaP = np.array(deltaP)/2.\n",
    "\n",
    "# double deltaP to see effect\n",
    "#deltaP = np.array(deltaP)*2.\n",
    "\n",
    "\"\"\"\n",
    "# get more parameter sets for numeric differentiation\n",
    "print 'creating parameter sets for making discrete derivatives...'\n",
    "myParamsUpper = []\n",
    "myParamsLower = []\n",
    "#myParsUpper = []\n",
    "#myParsLower = []\n",
    "for cParamNum in range(nCosParams):\n",
    "    #print 'creating matter power spectra for ',paramList[cParamNum],' derivative...'\n",
    "    print 'creating parameter set for ',paramList[cParamNum],' derivative...'\n",
    "    # add parameter dictionary to lists; HAVE TO BE COPIES!!!\n",
    "    myParamsUpper.append(myParams.copy())\n",
    "    myParamsLower.append(myParams.copy())\n",
    "    # modify parameter number cParamNum in dictionaries\n",
    "    myParamsUpper[cParamNum][paramList[cParamNum]] += deltaP[cParamNum]\n",
    "    myParamsLower[cParamNum][paramList[cParamNum]] -= deltaP[cParamNum]\n",
    "\n",
    "    #print 'cPramNum: ',cParamNum,', param name: ',paramList[cParamNum]\n",
    "    #print 'myParamsUpper[cParamNum][paramList[cParamNum]]: ',myParamsUpper[cParamNum][paramList[cParamNum]]\n",
    "    #print 'myParamsLower[cParamNum][paramList[cParamNum]]: ',myParamsLower[cParamNum][paramList[cParamNum]]\n",
    "    #print 'deltaP[cParamNum]: ',deltaP[cParamNum]\n",
    "\n",
    "    # create pars objects and add to lists. \n",
    "    #myParsUpper.append(cp.MatterPower.getPars(myPk,**myParamsUpper[cParamNum]))\n",
    "    #myParsLower.append(cp.MatterPower.getPars(myPk,**myParamsLower[cParamNum]))\n",
    "\n",
    "    ###### DOING THESE TWO GETPARS CALLS RIGHT AFTER EACH OTHER DESTROYS THE FIRST ONE'S DARK ENERGY SETTING! #####\n",
    "    ###### NEED TO RE-ORGANIZE SO NEED FOR MYPARSUPPER IS COMPLETELY DONE BEFORE CREATING MYPARSLOWER   #####\n",
    "\"\"\"    \n",
    "    \n",
    "# get modified parameter lists for numeric differentiation\n",
    "print 'creating modified parameter lists . . . '\n",
    "#myParams = self.cosParams\n",
    "myParamsUpper = []\n",
    "myParamsLower = []\n",
    "for cParamNum in range(nCosParams):\n",
    "    # add parameter dictionary to lists; HAVE TO BE COPIES!!!\n",
    "    myParamsUpper.append(myParams.copy())\n",
    "    myParamsLower.append(myParams.copy())\n",
    "    # modify parameter number cParamNum in ditionaries\n",
    "    myParamsUpper[cParamNum][paramList[cParamNum]] += deltaP[cParamNum]\n",
    "    myParamsLower[cParamNum][paramList[cParamNum]] -= deltaP[cParamNum]\n",
    "    \n",
    "print 'done.'"
   ]
  },
  {
   "cell_type": "code",
   "execution_count": null,
   "metadata": {},
   "outputs": [],
   "source": []
  },
  {
   "cell_type": "code",
   "execution_count": 9,
   "metadata": {},
   "outputs": [],
   "source": [
    "# define function for getting cross power spectra for upper or lower \n",
    "\"\"\"\n",
    "# old version - delete this\n",
    "#def getCrossCls(paramList,myParams,myPk,nMaps=3,lmax=5000,lpa=5.0,\n",
    "#                AccuracyBoost=3,myClName='unlensed_scalar'):\n",
    "    #\"\n",
    "    Purpose:\n",
    "    \n",
    "    Inputs:\n",
    "        paramList: like FisherMatrix.paramList\n",
    "            Note: a list of length 1 will cause a differently shaped array to be returned\n",
    "        myParams: a list of lists of parameters like FisherMatrix.cosParams\n",
    "            This list must have the same length as paramList\n",
    "        myPk: a MatterPower object\n",
    "        \n",
    "        nMaps: number of maps.  Set to 3 for T,E,B\n",
    "        lmax: lmax for returned array\n",
    "        lpa: lensing_power_accuracy setting\n",
    "        AccuracyBoost: accuracy setting\n",
    "        myClName: which type of power spectrum to get from CAMB\n",
    "    Returns:\n",
    "        crossCls: numpy array of shape (nMaps,nMaps,nCosParams,lmax)\n",
    "          unless the lenth of paramList is 1, then shape will be (nMaps,nMaps,lmax)\n",
    "          Note Cl arrays are all zero based (starting at L=0).\n",
    "          Note L=0,1 entries will be zero by default.\n",
    "    #\"\n",
    "\n",
    "    nCosParams = paramList.__len__()\n",
    "    \n",
    "    crossCls = np.zeros((nMaps,nMaps,nCosParams,lmax+1))\n",
    "    for paramNum in range(nCosParams):\n",
    "        print 'getting Cl power spectra for perturbed parameter ',paramList[paramNum]\n",
    "        # get pars\n",
    "        pars = cp.MatterPower.getPars(myPk,lmax=lmax+1,lpa=lpa,AccuracyBoost=AccuracyBoost,\n",
    "                                      **myParams[paramNum])\n",
    "        #get the selected power spectra\n",
    "        results = camb.get_results(pars)\n",
    "        powers = results.get_cmb_power_spectra(pars)\n",
    "        myCl = powers[myClName]\n",
    "        \n",
    "        #store them\n",
    "        #The different CL are always in the order TT, EE, BB, TE (with BB=0 for unlensed scalar results).\n",
    "        crossCls[0,0,paramNum]  = myCl[:lmax+1,0] # TT\n",
    "        crossCls[0,1,paramNum]  = myCl[:lmax+1,3] # TE\n",
    "        crossCls[1,0,paramNum]  = myCl[:lmax+1,3] # ET\n",
    "        crossCls[1,1,paramNum]  = myCl[:lmax+1,1] # EE\n",
    "        if nMaps == 3:\n",
    "            crossCls[2,2,paramNum]  = myCl[:lmax+1,2] # BB\n",
    "        \n",
    "        # reshape for unperterbed version\n",
    "        if nCosParams == 1:\n",
    "            crossCls = np.reshape(crossCls,(nMaps,nMaps,lmax+1))\n",
    "    return crossCls\n",
    "\"\"\"    \n",
    "    \n",
    "def getCrossClsP(paramList,myParams,myPk, nMaps=3,lmax=5000,lpa=5.0,\n",
    "                   AccuracyBoost=3,myClName='unlensed_scalar'):\n",
    "    \"\"\"\n",
    "    Purpose:\n",
    "        get the crossCls for primary CMB: TT,TE,EE,BB\n",
    "    Inputs:\n",
    "        paramList: like FisherMatrix.paramList, but only contains parameter\n",
    "            names for those which are to be varied\n",
    "            Note: a list of length 1 will cause a differently shaped array \n",
    "            to be returned\n",
    "        myParams: a list of lists of parameters like FisherMatrix.cosParams\n",
    "            This list must have the same length as paramList\n",
    "        myPk: a MatterPower object\n",
    "        \n",
    "        nMaps: number of maps.  Set to 3 for T,E,B; 2 for T,E\n",
    "        lmax: lmax for returned array.  lmin will be zero\n",
    "        lpa: lensing_power_accuracy setting\n",
    "        AccuracyBoost: accuracy setting\n",
    "        myClName: which type of power spectrum to get from CAMB\n",
    "    Returns:\n",
    "        crossCls: numpy array of shape (nMaps,nMaps,nCosParams,lmax)\n",
    "          unless the lenth of paramList is 1, then shape will be \n",
    "            (nMaps,nMaps,lmax)\n",
    "          Note Cl arrays are all zero based (starting at L=0).\n",
    "          Note L=0,1 entries will be zero by default.\n",
    "          Units are microK^2\n",
    "    \"\"\"\n",
    "    nCosParams = paramList.__len__()\n",
    "    \n",
    "    crossCls = np.zeros((nMaps,nMaps,nCosParams,lmax+1))\n",
    "    for paramNum in range(nCosParams):\n",
    "        print 'getting Cl power spectra for perturbed parameter ', \\\n",
    "              paramList[paramNum]\n",
    "        # get pars\n",
    "        pars = cp.MatterPower.getPars(myPk,lmax=lmax+1,lpa=lpa,\n",
    "                                      AccuracyBoost=AccuracyBoost,\n",
    "                                      **myParams[paramNum])\n",
    "        #get the selected power spectra\n",
    "        results = camb.get_results(pars)\n",
    "        powers = results.get_cmb_power_spectra(pars, CMB_unit='muK')\n",
    "        myCl = powers[myClName]  #ummm... doing it this way probably creates all 6 spectra, then I throw away 5 of them.\n",
    "        \n",
    "        #store them\n",
    "        #The different CL are always in the order TT, EE, BB, TE \n",
    "        #  (with BB=0 for unlensed scalar results).\n",
    "        crossCls[0,0,paramNum]  = myCl[:lmax+1,0] # TT\n",
    "        crossCls[0,1,paramNum]  = myCl[:lmax+1,3] # TE\n",
    "        crossCls[1,0,paramNum]  = myCl[:lmax+1,3] # ET\n",
    "        crossCls[1,1,paramNum]  = myCl[:lmax+1,1] # EE\n",
    "        if nMaps == 3:\n",
    "            crossCls[2,2,paramNum]  = myCl[:lmax+1,2] # BB\n",
    "        \n",
    "        # reshape for unperterbed version\n",
    "        if nCosParams == 1:\n",
    "            crossCls = np.reshape(crossCls,(nMaps,nMaps,lmax+1))\n",
    "    return crossCls\n"
   ]
  },
  {
   "cell_type": "code",
   "execution_count": null,
   "metadata": {},
   "outputs": [],
   "source": []
  },
  {
   "cell_type": "code",
   "execution_count": 10,
   "metadata": {
    "scrolled": true
   },
   "outputs": [
    {
     "name": "stderr",
     "output_type": "stream",
     "text": [
      "WARNING:root:accuracy parameters are changed globally, not yet per parameter set\n",
      "WARNING:root:accuracy parameters are changed globally, not yet per parameter set\n"
     ]
    },
    {
     "name": "stdout",
     "output_type": "stream",
     "text": [
      "getting Cl power spectra for perturbed parameter  (All Fiducial)\n"
     ]
    },
    {
     "name": "stderr",
     "output_type": "stream",
     "text": [
      "WARNING:root:accuracy parameters are changed globally, not yet per parameter set\n"
     ]
    },
    {
     "name": "stdout",
     "output_type": "stream",
     "text": [
      "starting upper spectra for numeric derivatives . . . \n",
      "getting Cl power spectra for perturbed parameter  ombh2\n"
     ]
    },
    {
     "name": "stderr",
     "output_type": "stream",
     "text": [
      "WARNING:root:accuracy parameters are changed globally, not yet per parameter set\n"
     ]
    },
    {
     "name": "stdout",
     "output_type": "stream",
     "text": [
      "getting Cl power spectra for perturbed parameter  omch2\n"
     ]
    },
    {
     "name": "stderr",
     "output_type": "stream",
     "text": [
      "WARNING:root:accuracy parameters are changed globally, not yet per parameter set\n"
     ]
    },
    {
     "name": "stdout",
     "output_type": "stream",
     "text": [
      "getting Cl power spectra for perturbed parameter  cosmomc_theta\n"
     ]
    },
    {
     "name": "stderr",
     "output_type": "stream",
     "text": [
      "WARNING:root:accuracy parameters are changed globally, not yet per parameter set\n"
     ]
    },
    {
     "name": "stdout",
     "output_type": "stream",
     "text": [
      "getting Cl power spectra for perturbed parameter  As\n"
     ]
    },
    {
     "name": "stderr",
     "output_type": "stream",
     "text": [
      "WARNING:root:accuracy parameters are changed globally, not yet per parameter set\n"
     ]
    },
    {
     "name": "stdout",
     "output_type": "stream",
     "text": [
      "getting Cl power spectra for perturbed parameter  ns\n"
     ]
    },
    {
     "name": "stderr",
     "output_type": "stream",
     "text": [
      "WARNING:root:accuracy parameters are changed globally, not yet per parameter set\n"
     ]
    },
    {
     "name": "stdout",
     "output_type": "stream",
     "text": [
      "getting Cl power spectra for perturbed parameter  tau\n"
     ]
    },
    {
     "name": "stderr",
     "output_type": "stream",
     "text": [
      "WARNING:root:accuracy parameters are changed globally, not yet per parameter set\n"
     ]
    },
    {
     "name": "stdout",
     "output_type": "stream",
     "text": [
      "getting Cl power spectra for perturbed parameter  mnu\n"
     ]
    },
    {
     "name": "stderr",
     "output_type": "stream",
     "text": [
      "WARNING:root:Currently dark energy parameters are changed globally, not per parameter set\n",
      "WARNING:root:accuracy parameters are changed globally, not yet per parameter set\n"
     ]
    },
    {
     "name": "stdout",
     "output_type": "stream",
     "text": [
      "getting Cl power spectra for perturbed parameter  w\n"
     ]
    },
    {
     "name": "stderr",
     "output_type": "stream",
     "text": [
      "WARNING:root:accuracy parameters are changed globally, not yet per parameter set\n"
     ]
    },
    {
     "name": "stdout",
     "output_type": "stream",
     "text": [
      "getting Cl power spectra for perturbed parameter  wa\n"
     ]
    },
    {
     "name": "stderr",
     "output_type": "stream",
     "text": [
      "WARNING:root:accuracy parameters are changed globally, not yet per parameter set\n"
     ]
    },
    {
     "name": "stdout",
     "output_type": "stream",
     "text": [
      "starting lower spectra for numeric derivatives . . . \n",
      "getting Cl power spectra for perturbed parameter  ombh2\n"
     ]
    },
    {
     "name": "stderr",
     "output_type": "stream",
     "text": [
      "WARNING:root:accuracy parameters are changed globally, not yet per parameter set\n"
     ]
    },
    {
     "name": "stdout",
     "output_type": "stream",
     "text": [
      "getting Cl power spectra for perturbed parameter  omch2\n"
     ]
    },
    {
     "name": "stderr",
     "output_type": "stream",
     "text": [
      "WARNING:root:accuracy parameters are changed globally, not yet per parameter set\n"
     ]
    },
    {
     "name": "stdout",
     "output_type": "stream",
     "text": [
      "getting Cl power spectra for perturbed parameter  cosmomc_theta\n"
     ]
    },
    {
     "name": "stderr",
     "output_type": "stream",
     "text": [
      "WARNING:root:accuracy parameters are changed globally, not yet per parameter set\n"
     ]
    },
    {
     "name": "stdout",
     "output_type": "stream",
     "text": [
      "getting Cl power spectra for perturbed parameter  As\n"
     ]
    },
    {
     "name": "stderr",
     "output_type": "stream",
     "text": [
      "WARNING:root:accuracy parameters are changed globally, not yet per parameter set\n"
     ]
    },
    {
     "name": "stdout",
     "output_type": "stream",
     "text": [
      "getting Cl power spectra for perturbed parameter  ns\n"
     ]
    },
    {
     "name": "stderr",
     "output_type": "stream",
     "text": [
      "WARNING:root:accuracy parameters are changed globally, not yet per parameter set\n"
     ]
    },
    {
     "name": "stdout",
     "output_type": "stream",
     "text": [
      "getting Cl power spectra for perturbed parameter  tau\n"
     ]
    },
    {
     "name": "stderr",
     "output_type": "stream",
     "text": [
      "WARNING:root:accuracy parameters are changed globally, not yet per parameter set\n"
     ]
    },
    {
     "name": "stdout",
     "output_type": "stream",
     "text": [
      "getting Cl power spectra for perturbed parameter  mnu\n"
     ]
    },
    {
     "name": "stderr",
     "output_type": "stream",
     "text": [
      "WARNING:root:Currently dark energy parameters are changed globally, not per parameter set\n",
      "WARNING:root:accuracy parameters are changed globally, not yet per parameter set\n"
     ]
    },
    {
     "name": "stdout",
     "output_type": "stream",
     "text": [
      "getting Cl power spectra for perturbed parameter  w\n"
     ]
    },
    {
     "name": "stderr",
     "output_type": "stream",
     "text": [
      "WARNING:root:accuracy parameters are changed globally, not yet per parameter set\n"
     ]
    },
    {
     "name": "stdout",
     "output_type": "stream",
     "text": [
      "getting Cl power spectra for perturbed parameter  wa\n"
     ]
    },
    {
     "name": "stderr",
     "output_type": "stream",
     "text": [
      "WARNING:root:accuracy parameters are changed globally, not yet per parameter set\n"
     ]
    },
    {
     "name": "stdout",
     "output_type": "stream",
     "text": [
      "done\n"
     ]
    }
   ],
   "source": [
    "# get all cross power spectra\n",
    "# this cell modified to add BB and fix DE problem\n",
    "\n",
    "lmax = 5000 # may want to match lmax in other Fisher calculation\n",
    "lpa = 5.0\n",
    "pars = myPk.getPars(lmax=lmax,lpa=lpa,AccuracyBoost=AccuracyBoost)\n",
    "\n",
    "#get the total lensed CMB power spectra versus unlensed\n",
    "#myClName = 'total'\n",
    "myClName = 'unlensed_scalar'\n",
    "\n",
    "# select 2 for T,E, 3 for T,E,B\n",
    "nMaps = 2 # T,E\n",
    "#nMaps = 3 # T,E,B\n",
    "nCls = nMaps*(nMaps+1)/2\n",
    "\n",
    "#crossCls      = np.zeros((nMaps,nMaps,           lmax))\n",
    "#crossClsPlus  = np.zeros((nMaps,nMaps,nCosParams,lmax))\n",
    "#crossClsMinus = np.zeros((nMaps,nMaps,nCosParams,lmax))\n",
    "\n",
    "# get main set of power spectra\n",
    "crossCls = getCrossClsP(['(All Fiducial)'],[myParams],myPk,nMaps=nMaps,lmax=lmax,lpa=lpa,\n",
    "                            AccuracyBoost=AccuracyBoost,myClName=myClName)\n",
    "# get the perturbed versions\n",
    "print 'starting upper spectra for numeric derivatives . . . '\n",
    "crossClsPlus  = getCrossClsP(paramList,myParamsUpper,myPk,nMaps=nMaps,lmax=lmax,lpa=lpa,\n",
    "                            AccuracyBoost=AccuracyBoost,myClName=myClName)\n",
    "print 'starting lower spectra for numeric derivatives . . . '\n",
    "crossClsMinus = getCrossClsP(paramList,myParamsLower,myPk,nMaps=nMaps,lmax=lmax,lpa=lpa,\n",
    "                            AccuracyBoost=AccuracyBoost,myClName=myClName)\n",
    "\n",
    "# reset global (dark energy and AccuracyBoost) settings\n",
    "pars = myPk.getPars(lmax=lmax,lpa=lpa,AccuracyBoost=AccuracyBoost)\n",
    "\n",
    "ellsP = range(lmax+1)\n",
    "\n",
    "print 'done'\n"
   ]
  },
  {
   "cell_type": "code",
   "execution_count": 11,
   "metadata": {},
   "outputs": [
    {
     "name": "stdout",
     "output_type": "stream",
     "text": [
      "(2, 2, 5001)\n",
      "(2, 2, 9, 5001)\n",
      "(2, 2, 9, 5001)\n"
     ]
    },
    {
     "data": {
      "image/png": "[encoded data removed]",
      "text/plain": [
       "<Figure size 432x288 with 1 Axes>"
      ]
     },
     "metadata": {},
     "output_type": "display_data"
    },
    {
     "data": {
      "image/png": "[encoded data removed]",
      "text/plain": [
       "<Figure size 432x288 with 1 Axes>"
      ]
     },
     "metadata": {},
     "output_type": "display_data"
    },
    {
     "data": {
      "image/png": "[encoded data removed]",
      "text/plain": [
       "<Figure size 432x288 with 1 Axes>"
      ]
     },
     "metadata": {},
     "output_type": "display_data"
    },
    {
     "data": {
      "image/png": "[encoded data removed]",
      "text/plain": [
       "<Figure size 432x288 with 1 Axes>"
      ]
     },
     "metadata": {},
     "output_type": "display_data"
    }
   ],
   "source": [
    "# plot a few\n",
    "print crossCls.shape\n",
    "print crossClsPlus.shape\n",
    "print crossClsMinus.shape\n",
    "for mapNum in range(nMaps):\n",
    "    for mapNum2 in range(nMaps):\n",
    "        plt.plot(ellsP,crossCls[mapNum,mapNum2])\n",
    "        plt.title('crossCls[{0},{1}]'.format(mapNum,mapNum2))\n",
    "        plt.show()"
   ]
  },
  {
   "cell_type": "code",
   "execution_count": null,
   "metadata": {},
   "outputs": [],
   "source": []
  },
  {
   "cell_type": "code",
   "execution_count": null,
   "metadata": {},
   "outputs": [],
   "source": []
  },
  {
   "cell_type": "markdown",
   "metadata": {},
   "source": [
    "# Calculate numerical derivatives"
   ]
  },
  {
   "cell_type": "code",
   "execution_count": 12,
   "metadata": {},
   "outputs": [
    {
     "name": "stdout",
     "output_type": "stream",
     "text": [
      "starting creation of C_l derivatives... \n",
      "starting derivative set  1  of  2 ... \n",
      "starting derivative set  2  of  2 ... \n",
      "done.\n"
     ]
    }
   ],
   "source": [
    "# get derivatives wrt parameters\n",
    "print 'starting creation of C_l derivatives... '\n",
    "\n",
    "dClVecs = np.empty((nCls, nCosParams, lmax+1))\n",
    "for map1 in range(nMaps):\n",
    "    print 'starting derivative set ',map1+1,' of ',nMaps,'... '\n",
    "    for map2 in range(map1,nMaps):\n",
    "        mapIdx  = map1*nMaps+map2 -map1*(map1+1)/2  \n",
    "                                   # mapIdx = map index\n",
    "        for pIdx in range(nCosParams):\n",
    "            dClPlus  = crossClsPlus[map1,map2,pIdx]\n",
    "            dClMinus = crossClsMinus[map1,map2,pIdx]\n",
    "            dClVecs[mapIdx, pIdx] = (dClPlus-dClMinus)/(2*deltaP[pIdx])\n",
    "\n",
    "print 'done.'"
   ]
  },
  {
   "cell_type": "code",
   "execution_count": null,
   "metadata": {},
   "outputs": [],
   "source": []
  },
  {
   "cell_type": "code",
   "execution_count": null,
   "metadata": {},
   "outputs": [],
   "source": []
  },
  {
   "cell_type": "code",
   "execution_count": null,
   "metadata": {},
   "outputs": [],
   "source": []
  },
  {
   "cell_type": "markdown",
   "metadata": {},
   "source": [
    "# Add Noise"
   ]
  },
  {
   "cell_type": "code",
   "execution_count": 13,
   "metadata": {},
   "outputs": [
    {
     "name": "stdout",
     "output_type": "stream",
     "text": [
      "getting (primary CMB) detector noise...\n",
      "(2, 2, 5001)\n"
     ]
    }
   ],
   "source": [
    "print 'getting (primary CMB) detector noise...'\n",
    "import noiseCl as ncl\n",
    "# CMBS4 v1\n",
    "fwhm = 1; ST = 1; SP = ST*1.414\n",
    "\n",
    "def getNoiseClsP(fwhm,ST,SP,lmax,nMaps):\n",
    "    ellsP = range(lmax+1)\n",
    "    noiseCMBS4_TT1 = ncl.noisePower(ST,ST,fwhm,ellsP)\n",
    "    #noiseCMBS4_TP1 = ncl.noisePower(ST,SP,fwhm,ellsP)\n",
    "    noiseCMBS4_PP1 = ncl.noisePower(SP,SP,fwhm,ellsP)\n",
    "\n",
    "    # set TE noise to zero\n",
    "    zerosList = np.zeros(lmax+1)\n",
    "    noiseCMBS4_TP1 = zerosList\n",
    "\n",
    "    # shape like crossCls\n",
    "    if nMaps == 2:\n",
    "        noiseClsP = np.array([[noiseCMBS4_TT1,noiseCMBS4_TP1],[noiseCMBS4_TP1,noiseCMBS4_PP1]])\n",
    "    elif nMaps == 3:\n",
    "        noiseClsP = np.array([[noiseCMBS4_TT1, noiseCMBS4_TP1,      zerosList],\n",
    "                              [noiseCMBS4_TP1, noiseCMBS4_PP1,      zerosList],\n",
    "                              [     zerosList,      zerosList, noiseCMBS4_PP1]])\n",
    "    else:\n",
    "        'bad nMaps for noise maker'\n",
    "    return noiseClsP\n",
    "\n",
    "noiseClsP = getNoiseClsP(fwhm,ST,SP,lmax,nMaps)\n",
    "print noiseClsP.shape"
   ]
  },
  {
   "cell_type": "code",
   "execution_count": null,
   "metadata": {},
   "outputs": [],
   "source": []
  },
  {
   "cell_type": "markdown",
   "metadata": {},
   "source": [
    "# Create Covariance Matrix"
   ]
  },
  {
   "cell_type": "code",
   "execution_count": 14,
   "metadata": {},
   "outputs": [
    {
     "name": "stdout",
     "output_type": "stream",
     "text": [
      "building covariance matrix... \n",
      "starting covariance set  1  of  2 ... \n",
      "starting covariance set  2  of  2 ... \n",
      "(3, 3, 5001)\n",
      "lmin =  0\n",
      "obsList:  [0. 1. 3.]\n"
     ]
    }
   ],
   "source": [
    "# make covariance matrices with noise\n",
    "print 'building covariance matrix... '\n",
    "covarP,invCovP,ellsP,obsListP = Fobj.makeCovar(crossCls,noiseClsP,0,lmax)\n",
    "\n",
    "print invCovP.shape\n",
    "print 'lmin = ',ellsP[0]\n",
    "print 'obsList: ',obsListP"
   ]
  },
  {
   "cell_type": "code",
   "execution_count": 15,
   "metadata": {},
   "outputs": [],
   "source": [
    "# save covar\n",
    "# ell values go from 0 to lmax-1\n",
    "#import pickle \n",
    "#pickle.dump(covarP,open('covar.pkl','w'))"
   ]
  },
  {
   "cell_type": "code",
   "execution_count": null,
   "metadata": {},
   "outputs": [],
   "source": []
  },
  {
   "cell_type": "markdown",
   "metadata": {},
   "source": [
    "# Build the Fisher matrix"
   ]
  },
  {
   "cell_type": "code",
   "execution_count": 16,
   "metadata": {},
   "outputs": [
    {
     "name": "stdout",
     "output_type": "stream",
     "text": [
      "building Fisher matrix from components...\n",
      "invCovP.shape:  (3, 3, 5001) , dClVecs.shape:  (3, 9, 5001)\n",
      "starting bin set  1  of  9\n",
      "starting bin set  2  of  9\n",
      "starting bin set  3  of  9\n",
      "starting bin set  4  of  9\n",
      "starting bin set  5  of  9\n",
      "starting bin set  6  of  9\n",
      "starting bin set  7  of  9\n",
      "starting bin set  8  of  9\n",
      "starting bin set  9  of  9\n",
      "creation of Fisher Matrix complete!\n",
      "\n",
      "Fij:\n",
      "[[ 1.54612418e+11  1.53857568e+08 -1.58274073e+12  7.69416058e+17\n",
      "   2.95888770e+09 -3.27391232e+09 -6.56868793e+06 -9.20514938e+05\n",
      "  -1.30546587e+06]\n",
      " [ 1.53857568e+08  3.06869876e+07  1.13177130e+10 -2.52517649e+15\n",
      "  -4.90817679e+05  1.07525175e+07  7.13834641e+04  2.84729582e+03\n",
      "   3.76702309e+03]\n",
      " [-1.58274073e+12  1.13177130e+10  3.81714811e+13 -8.93106668e+18\n",
      "  -3.35356443e+10  3.80029572e+10  1.97731220e+08  1.02794511e+07\n",
      "   1.37798899e+07]\n",
      " [ 7.69416058e+17 -2.52517649e+15 -8.93106668e+18  5.45869465e+24\n",
      "   1.80320977e+16 -2.32282219e+16 -3.70141418e+13 -6.56991055e+12\n",
      "  -9.40435098e+12]\n",
      " [ 2.95888770e+09 -4.90817679e+05 -3.35356443e+10  1.80320977e+16\n",
      "   6.51503757e+07 -7.67332747e+07 -1.39269264e+05 -2.16943797e+04\n",
      "  -3.08430253e+04]\n",
      " [-3.27391232e+09  1.07525175e+07  3.80029572e+10 -2.32282219e+16\n",
      "  -7.67332747e+07  9.88426272e+07  1.57502909e+05  2.79610448e+04\n",
      "   4.00200270e+04]\n",
      " [-6.56868793e+06  7.13834641e+04  1.97731220e+08 -3.70141418e+13\n",
      "  -1.39269264e+05  1.57502909e+05  1.06502859e+03  4.17973697e+01\n",
      "   5.44217145e+01]\n",
      " [-9.20514938e+05  2.84729582e+03  1.02794511e+07 -6.56991055e+12\n",
      "  -2.16943797e+04  2.79610448e+04  4.17973697e+01  8.07298291e+00\n",
      "   1.14434480e+01]\n",
      " [-1.30546587e+06  3.76702309e+03  1.37798899e+07 -9.40435098e+12\n",
      "  -3.08430253e+04  4.00200270e+04  5.44217145e+01  1.14434480e+01\n",
      "   1.63954858e+01]]\n",
      "eigenvalues of F_ij^-1:\n",
      "[-3.43672630e-16  4.02879647e-14  2.39780303e-11  5.19016926e-08\n",
      "  1.07532156e-06  4.18133856e-03  1.55688525e-01  7.24744759e+00\n",
      "  6.35236729e+01]\n"
     ]
    }
   ],
   "source": [
    "#Build Fisher matrix\n",
    "#myLmin = 50 #to match Allison et. al. and justify no ISW effect\n",
    "myLmin = 30 # match Byeonghee\n",
    "\n",
    "def getFisher(myLmin,invCovP,dClVecs,nCosParams,lmax):\n",
    "    #multply vector.T,invcov,vector and add up\n",
    "    print 'building Fisher matrix from components...'\n",
    "    print 'invCovP.shape: ',invCovP.shape,', dClVecs.shape: ',dClVecs.shape\n",
    "    Fij = np.zeros((nCosParams,nCosParams)) # indices match those in paramList\n",
    "    for i in range(nCosParams):\n",
    "        print 'starting bin set ',i+1,' of ',nCosParams\n",
    "        dClVec_i = dClVecs[:,i,:] # shape (nCls,nElls)\n",
    "        for j in range(nCosParams):\n",
    "            dClVec_j = dClVecs[:,j,:] # shape (nCls,nElls)\n",
    "            # ugh.  don't like nested loops in Python... but easier to program...\n",
    "            #for ell in range(myLmin-2,lmax+51-2):\n",
    "            for ell in range(myLmin-2,lmax-2):\n",
    "              myCov = invCovP[:,:,ell]  #note invCov has no ell=0,1 but dClVecs do\n",
    "              fij = np.dot(dClVec_i[:,ell+2],np.dot(myCov,dClVec_j[:,ell+2]))\n",
    "              Fij[i,j] += fij\n",
    "\n",
    "    print 'creation of Fisher Matrix complete!\\n'\n",
    "    return Fij\n",
    "\n",
    "Fij = getFisher(myLmin,invCovP,dClVecs,nCosParams,lmax)\n",
    "\n",
    "# Have a look at it\n",
    "print 'Fij:'\n",
    "print Fij\n",
    "# check eigenvalues\n",
    "w,v = np.linalg.eigh(np.linalg.inv(Fij))\n",
    "print 'eigenvalues of F_ij^-1:'\n",
    "print w"
   ]
  },
  {
   "cell_type": "code",
   "execution_count": null,
   "metadata": {},
   "outputs": [],
   "source": []
  },
  {
   "cell_type": "markdown",
   "metadata": {},
   "source": [
    "# Save the results in an augmented Fisher Matrix object file"
   ]
  },
  {
   "cell_type": "code",
   "execution_count": 17,
   "metadata": {},
   "outputs": [],
   "source": [
    "# Save these as part of Fobj.\n",
    "# Is Fobj loaded?\n",
    "Fobj.FijTE = Fij\n",
    "Fobj.dClVecsP = dClVecs[:,:,lmin:]\n",
    "Fobj.covarP = covarP[:,:,lmin:]\n",
    "Fobj.invCovP = invCovP[:,:,lmin:]\n",
    "\n",
    "Fobj.crossClsP      = crossCls[:,:,lmin:]\n",
    "Fobj.crossClsPPlus  = crossClsPlus[:,:,:,lmin:]\n",
    "Fobj.crossClsPMinus = crossClsMinus[:,:,:,lmin:]\n",
    "\n",
    "Fobj.noiseClsP = noiseClsP[:,:,lmin:]\n",
    "\n",
    "Fobj.ellsP = ellsP[lmin:]\n",
    "Fobj.lminP = lmin\n",
    "Fobj.lmaxP = lmax  \n",
    "Fobj.nMapsP = nMaps\n",
    "Fobj.obsListP = obsListP\n"
   ]
  },
  {
   "cell_type": "code",
   "execution_count": 18,
   "metadata": {},
   "outputs": [
    {
     "name": "stdout",
     "output_type": "stream",
     "text": [
      "done\n"
     ]
    }
   ],
   "source": [
    "# save new Fobj\n",
    "doSave = True\n",
    "#doSave = False\n",
    "if doSave:\n",
    "    import pickle\n",
    "\n",
    "    filehandler = open('Fisher_7_6A2.obj','w')\n",
    "    #filehandler = open('Fisher_7_6X2_w2_wan_TEB.obj','w') # accuracyBoost=3,doNorm=True,lmax=2000, nz=3e5; nonlinear=True,\n",
    "    #neutrino_hierarchy = 'degenerate'; from FisherCl branch quickCl\n",
    "\n",
    "\n",
    "    pickle.dump(Fobj,filehandler)\n",
    "    filehandler.close()\n",
    "\n",
    "    print 'done'"
   ]
  },
  {
   "cell_type": "code",
   "execution_count": null,
   "metadata": {},
   "outputs": [],
   "source": []
  },
  {
   "cell_type": "code",
   "execution_count": 19,
   "metadata": {},
   "outputs": [
    {
     "data": {
      "image/png": "[encoded data removed]",
      "text/plain": [
       "<Figure size 432x288 with 1 Axes>"
      ]
     },
     "metadata": {},
     "output_type": "display_data"
    }
   ],
   "source": [
    "# just take a look at TT, TE, EE, BB\n",
    "plt.loglog(ellsP,crossCls[0,0]*ellsP*(ellsP+1),label='TT')\n",
    "#plt.loglog(ellsP,crossCls[0,1]*ellsP*(ellsP+1),label='ET')\n",
    "plt.loglog(ellsP,crossCls[1,0]*ellsP*(ellsP+1),label='TE')\n",
    "plt.loglog(ellsP,crossCls[1,1]*ellsP*(ellsP+1),label='EE')\n",
    "if nMaps == 3 and myClName == 'total': # BB is zero for unlensed spectra\n",
    "    plt.loglog(ellsP,crossCls[2,2]*ellsP*(ellsP+1),label='BB')\n",
    "plt.title('C_l TT, TE, EE (,BB)')\n",
    "plt.legend()\n",
    "plt.show()"
   ]
  },
  {
   "cell_type": "code",
   "execution_count": null,
   "metadata": {},
   "outputs": [],
   "source": []
  },
  {
   "cell_type": "code",
   "execution_count": null,
   "metadata": {},
   "outputs": [],
   "source": []
  },
  {
   "cell_type": "markdown",
   "metadata": {},
   "source": [
    "# Check out these uncertainties!"
   ]
  },
  {
   "cell_type": "code",
   "execution_count": 20,
   "metadata": {},
   "outputs": [],
   "source": [
    "getSigmas = lambda Fij: np.sqrt(np.diag(np.linalg.inv(Fij)))"
   ]
  },
  {
   "cell_type": "code",
   "execution_count": 21,
   "metadata": {
    "scrolled": true
   },
   "outputs": [
    {
     "name": "stdout",
     "output_type": "stream",
     "text": [
      "from TEB Fisher Matrix:\n",
      "ombh2 :  8.687822560083633e-06 , original:  8.80988471849915e-06\n",
      "omch2 :  0.0003929044726455512 , original:  0.0003959759210277408\n",
      "cosmomc_theta :  9.379899682808389e-06 , original:  8.680089639141158e-06\n",
      "As :  6.203960245671781e-10 , original:  5.923696448050441e-10\n",
      "ns :  0.0011818193930295436 , original:  0.0014251121121470452\n",
      "tau :  0.18207904393996394 , original:  0.12582349865118583\n",
      "mnu :  0.44965119118933 , original:  0.49521756886450985\n",
      "w :  57.827315831102126 , original:  52.29416127562633\n",
      "wa :  149.13581013376017 , original:  134.59611994264677\n"
     ]
    }
   ],
   "source": [
    "myLmin = 30\n",
    "FijTEB = Fobj.makeFisher(myLmin,TE=True)\n",
    "Fijkg = Fobj.makeFisher(myLmin)\n",
    "sigmasTEB = getSigmas(FijTEB)\n",
    "sigmaskg = getSigmas(Fijkg)\n",
    "\n",
    "print 'from TEB Fisher Matrix:'\n",
    "for i,paramName in enumerate(paramList[:nCosParams]):\n",
    "    print paramName, ': ',sigmasTEB[i],', original: ',sigmas_TEB_original[i]"
   ]
  },
  {
   "cell_type": "code",
   "execution_count": 22,
   "metadata": {},
   "outputs": [],
   "source": [
    "# the difference comes from cutting deltaPs in half"
   ]
  },
  {
   "cell_type": "code",
   "execution_count": null,
   "metadata": {},
   "outputs": [],
   "source": []
  },
  {
   "cell_type": "markdown",
   "metadata": {},
   "source": [
    "# Loop over different noise parameters to create grid of $\\sigma(M_\\nu)$ values"
   ]
  },
  {
   "cell_type": "code",
   "execution_count": 23,
   "metadata": {},
   "outputs": [],
   "source": [
    "# define row,col deleting function\n",
    "def fixParam(Fij,pNum):\n",
    "    return np.delete(np.delete(Fij,pNum,0),pNum,1)"
   ]
  },
  {
   "cell_type": "code",
   "execution_count": 24,
   "metadata": {},
   "outputs": [],
   "source": [
    "# define function to get f_ij^kk, or f_ij^gg\n",
    "def getFijkk(Fobj,myLmin=30,lmax=2000,verbose=False,gg=0):\n",
    "    \"\"\"\n",
    "        Inputs:\n",
    "            Fobj: a FisherMatrix object\n",
    "            myLmin, lmax:\n",
    "            verbose:\n",
    "            gg: index to extract from diagonal. \n",
    "              Must be 0 <= gg <= nBins\n",
    "              Default: 0 (for Kappa)\n",
    "        remake kk covar and fisher with noise\n",
    "        (copy some code from \"Rebuild covar with noise\")\n",
    "        Originally written for kk, but modified to do any gg; ZK, 2018.05.10\n",
    "    \"\"\"\n",
    "\n",
    "    \"\"\"\n",
    "    Clkk = Fobj.crossCls[0,0]\n",
    "    Nlkk = Fobj.noiseCls[0,0]\n",
    "    dClkk = Fobj.dClVecs[0]\n",
    "    nCosParams = Fobj.nCosParams\n",
    "    ells = Fobj.ells\n",
    "\n",
    "    # add noise to crossCls for making covar\n",
    "    Clkk2 = Clkk+Nlkk\n",
    "\n",
    "    print 'Clkk shape: ',Clkk2.shape\n",
    "    print 'dClkk shape: ',dClkk.shape\n",
    "    cov_kk2 = 2*Clkk2**2 / (2*ells+1)\n",
    "    \"\"\"\n",
    "    # check gg\n",
    "    if gg < 0 or gg > Fobj.nBins:\n",
    "        print 'covfefe!'\n",
    "        return 0\n",
    "    \n",
    "    if gg == 0:\n",
    "        nParams = Fobj.nCosParams\n",
    "    else:\n",
    "        nParams = Fobj.nParams\n",
    "    cov_kk2 = Fobj.covar[gg,gg]\n",
    "    dClkk = Fobj.dClVecs[gg]\n",
    "    Fij_kk2 = np.zeros((nParams,nParams))\n",
    "    lmin = Fobj.lmin\n",
    "    minEllInd = myLmin-lmin  # eg. 50-2\n",
    "    maxEllInd = lmax-lmin \n",
    "    for pNum1 in range(nParams):\n",
    "        for pNum2 in range(pNum1,nParams):\n",
    "            # the next line does the summation over ell\n",
    "            Fij_kk2[pNum1,pNum2] = np.sum( dClkk[pNum1,minEllInd:maxEllInd] * \\\n",
    "                                           dClkk[pNum2,minEllInd:maxEllInd] / cov_kk2[minEllInd:maxEllInd])\n",
    "            Fij_kk2[pNum2,pNum1] = Fij_kk2[pNum1,pNum2]\n",
    "    \n",
    "    if verbose:\n",
    "        print 'parameters: ',Fobj.paramList[:nParams]\n",
    "        print 'kappa-only, noise-included Fisher matrix (from ell = {0} to {1}):'.format(myLmin,lmax)\n",
    "        print Fij_kk2\n",
    "    return Fij_kk2"
   ]
  },
  {
   "cell_type": "code",
   "execution_count": 25,
   "metadata": {},
   "outputs": [],
   "source": [
    "# Load Planck Fisher matrices to add in\n",
    "Fij_plikHM_TTTEEE_lowTEB = np.loadtxt('Planck_TTTEEE_lowTEB_FromMCMC.txt')\n",
    "Fij_plikHM_lowTEB = np.loadtxt('Planck_lowTEB_FromMCMC.txt')\n",
    "\n",
    "# convert 100*theta_MC to theta_MC\n",
    "mcIndex = 2\n",
    "mcFac = 100\n",
    "Fij_plikHM_TTTEEE_lowTEB[:,mcIndex] *= mcFac\n",
    "Fij_plikHM_TTTEEE_lowTEB[mcIndex,:] *= mcFac\n",
    "Fij_plikHM_lowTEB[:,mcIndex] *= mcFac\n",
    "Fij_plikHM_lowTEB[mcIndex,:] *= mcFac\n",
    "\n",
    "# transform from {\\rm{ln}}(10^{10} A_s) to 10^9 As\n",
    "# only one partial derivative needed\n",
    "# d( ln(10^10*As)) / d(10^9*As) = 1/(10^9*As)*d(10*10^9*As)/d(10^9*As) = 1/(10^9*As)\n",
    "TenToTheNineAs_fid = 2.2\n",
    "AsIndex = 3\n",
    "Fij_plikHM_TTTEEE_lowTEB[:,AsIndex] *= 1/TenToTheNineAs_fid\n",
    "Fij_plikHM_TTTEEE_lowTEB[AsIndex,:] *= 1/TenToTheNineAs_fid\n",
    "Fij_plikHM_lowTEB[:,AsIndex] *= 1/TenToTheNineAs_fid\n",
    "Fij_plikHM_lowTEB[AsIndex,:] *= 1/TenToTheNineAs_fid\n",
    "\n"
   ]
  },
  {
   "cell_type": "code",
   "execution_count": 26,
   "metadata": {},
   "outputs": [
    {
     "name": "stdout",
     "output_type": "stream",
     "text": [
      "(6, 6)\n",
      "(6, 6)\n"
     ]
    }
   ],
   "source": [
    "print Fij_plikHM_TTTEEE_lowTEB.shape\n",
    "print Fij_plikHM_lowTEB.shape"
   ]
  },
  {
   "cell_type": "code",
   "execution_count": 27,
   "metadata": {},
   "outputs": [],
   "source": [
    "# those do not appear to include mnu.  Proceed anyway."
   ]
  },
  {
   "cell_type": "code",
   "execution_count": 37,
   "metadata": {},
   "outputs": [
    {
     "name": "stdout",
     "output_type": "stream",
     "text": [
      "[[ 9.36446387e+07  9.21901342e+06 -8.07056642e+08 -6.16081183e+05\n",
      "   6.17064306e+05  2.67991972e+06]\n",
      " [ 9.21901342e+06  4.26855526e+06  1.89304661e+08 -6.23192683e+05\n",
      "  -1.82030683e+05  2.74710377e+06]\n",
      " [-8.07056642e+08  1.89304661e+08  1.49584949e+11 -5.71563536e+07\n",
      "  -9.59196916e+07  2.50282581e+08]\n",
      " [-6.16081183e+05 -6.23192683e+05 -5.71563536e+07  1.66140356e+05\n",
      "   1.70076039e+05 -7.29190347e+05]\n",
      " [ 6.17064306e+05 -1.82030683e+05 -9.59196916e+07  1.70076039e+05\n",
      "   3.69396337e+05 -7.48672477e+05]\n",
      " [ 2.67991972e+06  2.74710377e+06  2.50282581e+08 -7.29190347e+05\n",
      "  -7.48672477e+05  3.20493551e+06]]\n",
      "[[ 2.74081311e+03 -5.51716128e+04 -1.86887985e+06  1.11630301e+03\n",
      "  -9.22019023e+03 -5.98536093e+03]\n",
      " [-5.51716128e+04 -3.79389870e+04  3.51786924e+05  2.12165464e+03\n",
      "  -4.31934392e+02 -1.13114252e+04]\n",
      " [-1.86887985e+06  3.51786924e+05  4.86980804e+08  1.62699110e+05\n",
      "   1.27844649e+05 -7.77298274e+05]\n",
      " [ 1.11630301e+03  2.12165464e+03  1.62699110e+05 -8.91652886e+01\n",
      "  -1.72737148e+02  5.58918536e+02]\n",
      " [-9.22019023e+03 -4.31934392e+02  1.27844649e+05 -1.72737148e+02\n",
      "   2.91003051e+03 -9.52598168e+01]\n",
      " [-5.98536093e+03 -1.13114252e+04 -7.77298274e+05  5.58918536e+02\n",
      "  -9.52598168e+01 -1.19040104e+03]]\n",
      "[[ 9.36418979e+07  9.27418504e+06 -8.05187762e+08 -6.17197486e+05\n",
      "   6.26284496e+05  2.68590508e+06]\n",
      " [ 9.27418504e+06  4.30649424e+06  1.88952874e+08 -6.25314338e+05\n",
      "  -1.81598749e+05  2.75841520e+06]\n",
      " [-8.05187762e+08  1.88952874e+08  1.49097968e+11 -5.73190527e+07\n",
      "  -9.60475363e+07  2.51059880e+08]\n",
      " [-6.17197486e+05 -6.25314338e+05 -5.73190527e+07  1.66229521e+05\n",
      "   1.70248776e+05 -7.29749265e+05]\n",
      " [ 6.26284496e+05 -1.81598749e+05 -9.60475363e+07  1.70248776e+05\n",
      "   3.66486307e+05 -7.48577217e+05]\n",
      " [ 2.68590508e+06  2.75841520e+06  2.51059880e+08 -7.29749265e+05\n",
      "  -7.48577217e+05  3.20612591e+06]]\n"
     ]
    }
   ],
   "source": [
    "print Fij_plikHM_TTTEEE_lowTEB\n",
    "print Fij_plikHM_lowTEB\n",
    "print Fij_plikHM_TTTEEE_lowTEB - Fij_plikHM_lowTEB"
   ]
  },
  {
   "cell_type": "code",
   "execution_count": 40,
   "metadata": {},
   "outputs": [
    {
     "data": {
      "text/plain": [
       "10000.0"
      ]
     },
     "execution_count": 40,
     "metadata": {},
     "output_type": "execute_result"
    }
   ],
   "source": [
    "# compare to tau prior (5,5 component of Fij)\n",
    "(0.01**2)**(-1)"
   ]
  },
  {
   "cell_type": "code",
   "execution_count": null,
   "metadata": {},
   "outputs": [],
   "source": []
  },
  {
   "cell_type": "code",
   "execution_count": null,
   "metadata": {},
   "outputs": [],
   "source": []
  },
  {
   "cell_type": "code",
   "execution_count": null,
   "metadata": {},
   "outputs": [],
   "source": []
  },
  {
   "cell_type": "code",
   "execution_count": null,
   "metadata": {},
   "outputs": [],
   "source": []
  },
  {
   "cell_type": "code",
   "execution_count": null,
   "metadata": {},
   "outputs": [],
   "source": []
  },
  {
   "cell_type": "code",
   "execution_count": 41,
   "metadata": {},
   "outputs": [
    {
     "name": "stdout",
     "output_type": "stream",
     "text": [
      "\n",
      "Starting grid point ( 0 , 0 )...\n",
      "building TE noise arrays...\n",
      "building TE covariance matrix... \n",
      "starting covariance set  1  of  2 ... \n",
      "starting covariance set  2  of  2 ... \n",
      "building Fisher matrix from components...\n",
      "invCovP.shape:  (3, 3, 5001) , dClVecs.shape:  (3, 9, 5001)\n",
      "starting bin set  1  of  9\n",
      "starting bin set  2  of  9\n",
      "starting bin set  3  of  9\n",
      "starting bin set  4  of  9\n",
      "starting bin set  5  of  9\n",
      "starting bin set  6  of  9\n",
      "starting bin set  7  of  9\n",
      "starting bin set  8  of  9\n",
      "starting bin set  9  of  9\n",
      "creation of Fisher Matrix complete!\n",
      "\n",
      "\n",
      "Starting grid point ( 0 , 1 )...\n",
      "building TE noise arrays...\n",
      "building TE covariance matrix... \n",
      "starting covariance set  1  of  2 ... \n",
      "starting covariance set  2  of  2 ... \n",
      "building Fisher matrix from components...\n",
      "invCovP.shape:  (3, 3, 5001) , dClVecs.shape:  (3, 9, 5001)\n",
      "starting bin set  1  of  9\n",
      "starting bin set  2  of  9\n",
      "starting bin set  3  of  9\n",
      "starting bin set  4  of  9\n",
      "starting bin set  5  of  9\n",
      "starting bin set  6  of  9\n",
      "starting bin set  7  of  9\n",
      "starting bin set  8  of  9\n",
      "starting bin set  9  of  9\n",
      "creation of Fisher Matrix complete!\n",
      "\n",
      "\n",
      "Starting grid point ( 0 , 2 )...\n",
      "building TE noise arrays...\n",
      "building TE covariance matrix... \n",
      "starting covariance set  1  of  2 ... \n",
      "starting covariance set  2  of  2 ... \n",
      "building Fisher matrix from components...\n",
      "invCovP.shape:  (3, 3, 5001) , dClVecs.shape:  (3, 9, 5001)\n",
      "starting bin set  1  of  9\n",
      "starting bin set  2  of  9\n",
      "starting bin set  3  of  9\n",
      "starting bin set  4  of  9\n",
      "starting bin set  5  of  9\n",
      "starting bin set  6  of  9\n",
      "starting bin set  7  of  9\n",
      "starting bin set  8  of  9\n",
      "starting bin set  9  of  9\n",
      "creation of Fisher Matrix complete!\n",
      "\n",
      "\n",
      "Starting grid point ( 0 , 3 )...\n",
      "building TE noise arrays...\n",
      "building TE covariance matrix... \n",
      "starting covariance set  1  of  2 ... \n",
      "starting covariance set  2  of  2 ... \n",
      "building Fisher matrix from components...\n",
      "invCovP.shape:  (3, 3, 5001) , dClVecs.shape:  (3, 9, 5001)\n",
      "starting bin set  1  of  9\n",
      "starting bin set  2  of  9\n",
      "starting bin set  3  of  9\n",
      "starting bin set  4  of  9\n",
      "starting bin set  5  of  9\n",
      "starting bin set  6  of  9\n",
      "starting bin set  7  of  9\n",
      "starting bin set  8  of  9\n",
      "starting bin set  9  of  9\n",
      "creation of Fisher Matrix complete!\n",
      "\n",
      "\n",
      "Starting grid point ( 0 , 4 )...\n",
      "building TE noise arrays...\n",
      "building TE covariance matrix... \n",
      "starting covariance set  1  of  2 ... \n",
      "starting covariance set  2  of  2 ... \n",
      "building Fisher matrix from components...\n",
      "invCovP.shape:  (3, 3, 5001) , dClVecs.shape:  (3, 9, 5001)\n",
      "starting bin set  1  of  9\n",
      "starting bin set  2  of  9\n",
      "starting bin set  3  of  9\n",
      "starting bin set  4  of  9\n",
      "starting bin set  5  of  9\n",
      "starting bin set  6  of  9\n",
      "starting bin set  7  of  9\n",
      "starting bin set  8  of  9\n",
      "starting bin set  9  of  9\n",
      "creation of Fisher Matrix complete!\n",
      "\n",
      "\n",
      "Starting grid point ( 1 , 0 )...\n",
      "building TE noise arrays...\n",
      "building TE covariance matrix... \n",
      "starting covariance set  1  of  2 ... \n",
      "starting covariance set  2  of  2 ... \n",
      "building Fisher matrix from components...\n",
      "invCovP.shape:  (3, 3, 5001) , dClVecs.shape:  (3, 9, 5001)\n",
      "starting bin set  1  of  9\n",
      "starting bin set  2  of  9\n",
      "starting bin set  3  of  9\n",
      "starting bin set  4  of  9\n",
      "starting bin set  5  of  9\n",
      "starting bin set  6  of  9\n",
      "starting bin set  7  of  9\n",
      "starting bin set  8  of  9\n",
      "starting bin set  9  of  9\n",
      "creation of Fisher Matrix complete!\n",
      "\n",
      "\n",
      "Starting grid point ( 1 , 1 )...\n",
      "building TE noise arrays...\n",
      "building TE covariance matrix... \n",
      "starting covariance set  1  of  2 ... \n",
      "starting covariance set  2  of  2 ... \n",
      "building Fisher matrix from components...\n",
      "invCovP.shape:  (3, 3, 5001) , dClVecs.shape:  (3, 9, 5001)\n",
      "starting bin set  1  of  9\n",
      "starting bin set  2  of  9\n",
      "starting bin set  3  of  9\n",
      "starting bin set  4  of  9\n",
      "starting bin set  5  of  9\n",
      "starting bin set  6  of  9\n",
      "starting bin set  7  of  9\n",
      "starting bin set  8  of  9\n",
      "starting bin set  9  of  9\n",
      "creation of Fisher Matrix complete!\n",
      "\n",
      "\n",
      "Starting grid point ( 1 , 2 )...\n",
      "building TE noise arrays...\n",
      "building TE covariance matrix... \n",
      "starting covariance set  1  of  2 ... \n",
      "starting covariance set  2  of  2 ... \n",
      "building Fisher matrix from components...\n",
      "invCovP.shape:  (3, 3, 5001) , dClVecs.shape:  (3, 9, 5001)\n",
      "starting bin set  1  of  9\n",
      "starting bin set  2  of  9\n",
      "starting bin set  3  of  9\n",
      "starting bin set  4  of  9\n",
      "starting bin set  5  of  9\n",
      "starting bin set  6  of  9\n",
      "starting bin set  7  of  9\n",
      "starting bin set  8  of  9\n",
      "starting bin set  9  of  9\n",
      "creation of Fisher Matrix complete!\n",
      "\n",
      "\n",
      "Starting grid point ( 1 , 3 )...\n",
      "building TE noise arrays...\n",
      "building TE covariance matrix... \n",
      "starting covariance set  1  of  2 ... \n",
      "starting covariance set  2  of  2 ... \n",
      "building Fisher matrix from components...\n",
      "invCovP.shape:  (3, 3, 5001) , dClVecs.shape:  (3, 9, 5001)\n",
      "starting bin set  1  of  9\n",
      "starting bin set  2  of  9\n",
      "starting bin set  3  of  9\n",
      "starting bin set  4  of  9\n",
      "starting bin set  5  of  9\n",
      "starting bin set  6  of  9\n",
      "starting bin set  7  of  9\n",
      "starting bin set  8  of  9\n",
      "starting bin set  9  of  9\n",
      "creation of Fisher Matrix complete!\n",
      "\n",
      "\n",
      "Starting grid point ( 1 , 4 )...\n",
      "building TE noise arrays...\n",
      "building TE covariance matrix... \n",
      "starting covariance set  1  of  2 ... \n",
      "starting covariance set  2  of  2 ... \n",
      "building Fisher matrix from components...\n",
      "invCovP.shape:  (3, 3, 5001) , dClVecs.shape:  (3, 9, 5001)\n",
      "starting bin set  1  of  9\n",
      "starting bin set  2  of  9\n",
      "starting bin set  3  of  9\n",
      "starting bin set  4  of  9\n",
      "starting bin set  5  of  9\n",
      "starting bin set  6  of  9\n",
      "starting bin set  7  of  9\n",
      "starting bin set  8  of  9\n",
      "starting bin set  9  of  9\n",
      "creation of Fisher Matrix complete!\n",
      "\n",
      "\n",
      "Starting grid point ( 2 , 0 )...\n",
      "building TE noise arrays...\n",
      "building TE covariance matrix... \n",
      "starting covariance set  1  of  2 ... \n",
      "starting covariance set  2  of  2 ... \n",
      "building Fisher matrix from components...\n",
      "invCovP.shape:  (3, 3, 5001) , dClVecs.shape:  (3, 9, 5001)\n",
      "starting bin set  1  of  9\n",
      "starting bin set  2  of  9\n",
      "starting bin set  3  of  9\n",
      "starting bin set  4  of  9\n",
      "starting bin set  5  of  9\n",
      "starting bin set  6  of  9\n",
      "starting bin set  7  of  9\n",
      "starting bin set  8  of  9\n",
      "starting bin set  9  of  9\n",
      "creation of Fisher Matrix complete!\n",
      "\n",
      "\n",
      "Starting grid point ( 2 , 1 )...\n",
      "building TE noise arrays...\n",
      "building TE covariance matrix... \n",
      "starting covariance set  1  of  2 ... \n",
      "starting covariance set  2  of  2 ... \n",
      "building Fisher matrix from components...\n",
      "invCovP.shape:  (3, 3, 5001) , dClVecs.shape:  (3, 9, 5001)\n",
      "starting bin set  1  of  9\n",
      "starting bin set  2  of  9\n",
      "starting bin set  3  of  9\n",
      "starting bin set  4  of  9\n",
      "starting bin set  5  of  9\n",
      "starting bin set  6  of  9\n",
      "starting bin set  7  of  9\n",
      "starting bin set  8  of  9\n",
      "starting bin set  9  of  9\n",
      "creation of Fisher Matrix complete!\n",
      "\n",
      "\n",
      "Starting grid point ( 2 , 2 )...\n",
      "building TE noise arrays...\n",
      "building TE covariance matrix... \n",
      "starting covariance set  1  of  2 ... \n",
      "starting covariance set  2  of  2 ... \n",
      "building Fisher matrix from components...\n",
      "invCovP.shape:  (3, 3, 5001) , dClVecs.shape:  (3, 9, 5001)\n",
      "starting bin set  1  of  9\n",
      "starting bin set  2  of  9\n",
      "starting bin set  3  of  9\n",
      "starting bin set  4  of  9\n",
      "starting bin set  5  of  9\n",
      "starting bin set  6  of  9\n",
      "starting bin set  7  of  9\n",
      "starting bin set  8  of  9\n",
      "starting bin set  9  of  9\n",
      "creation of Fisher Matrix complete!\n",
      "\n",
      "\n",
      "Starting grid point ( 2 , 3 )...\n",
      "building TE noise arrays...\n",
      "building TE covariance matrix... \n",
      "starting covariance set  1  of  2 ... \n",
      "starting covariance set  2  of  2 ... \n",
      "building Fisher matrix from components...\n",
      "invCovP.shape:  (3, 3, 5001) , dClVecs.shape:  (3, 9, 5001)\n",
      "starting bin set  1  of  9\n",
      "starting bin set  2  of  9\n",
      "starting bin set  3  of  9\n",
      "starting bin set  4  of  9\n",
      "starting bin set  5  of  9\n",
      "starting bin set  6  of  9\n",
      "starting bin set  7  of  9\n",
      "starting bin set  8  of  9\n",
      "starting bin set  9  of  9\n",
      "creation of Fisher Matrix complete!\n",
      "\n",
      "\n",
      "Starting grid point ( 2 , 4 )...\n",
      "building TE noise arrays...\n",
      "building TE covariance matrix... \n",
      "starting covariance set  1  of  2 ... \n",
      "starting covariance set  2  of  2 ... \n",
      "building Fisher matrix from components...\n",
      "invCovP.shape:  (3, 3, 5001) , dClVecs.shape:  (3, 9, 5001)\n",
      "starting bin set  1  of  9\n",
      "starting bin set  2  of  9\n",
      "starting bin set  3  of  9\n",
      "starting bin set  4  of  9\n",
      "starting bin set  5  of  9\n"
     ]
    },
    {
     "name": "stdout",
     "output_type": "stream",
     "text": [
      "starting bin set  6  of  9\n",
      "starting bin set  7  of  9\n",
      "starting bin set  8  of  9\n",
      "starting bin set  9  of  9\n",
      "creation of Fisher Matrix complete!\n",
      "\n",
      "\n",
      "Starting grid point ( 3 , 0 )...\n",
      "building TE noise arrays...\n",
      "building TE covariance matrix... \n",
      "starting covariance set  1  of  2 ... \n",
      "starting covariance set  2  of  2 ... \n",
      "building Fisher matrix from components...\n",
      "invCovP.shape:  (3, 3, 5001) , dClVecs.shape:  (3, 9, 5001)\n",
      "starting bin set  1  of  9\n",
      "starting bin set  2  of  9\n",
      "starting bin set  3  of  9\n",
      "starting bin set  4  of  9\n",
      "starting bin set  5  of  9\n",
      "starting bin set  6  of  9\n",
      "starting bin set  7  of  9\n",
      "starting bin set  8  of  9\n",
      "starting bin set  9  of  9\n",
      "creation of Fisher Matrix complete!\n",
      "\n",
      "\n",
      "Starting grid point ( 3 , 1 )...\n",
      "building TE noise arrays...\n",
      "building TE covariance matrix... \n",
      "starting covariance set  1  of  2 ... \n",
      "starting covariance set  2  of  2 ... \n",
      "building Fisher matrix from components...\n",
      "invCovP.shape:  (3, 3, 5001) , dClVecs.shape:  (3, 9, 5001)\n",
      "starting bin set  1  of  9\n",
      "starting bin set  2  of  9\n",
      "starting bin set  3  of  9\n",
      "starting bin set  4  of  9\n",
      "starting bin set  5  of  9\n",
      "starting bin set  6  of  9\n",
      "starting bin set  7  of  9\n",
      "starting bin set  8  of  9\n",
      "starting bin set  9  of  9\n",
      "creation of Fisher Matrix complete!\n",
      "\n",
      "\n",
      "Starting grid point ( 3 , 2 )...\n",
      "building TE noise arrays...\n",
      "building TE covariance matrix... \n",
      "starting covariance set  1  of  2 ... \n",
      "starting covariance set  2  of  2 ... \n",
      "building Fisher matrix from components...\n",
      "invCovP.shape:  (3, 3, 5001) , dClVecs.shape:  (3, 9, 5001)\n",
      "starting bin set  1  of  9\n",
      "starting bin set  2  of  9\n",
      "starting bin set  3  of  9\n",
      "starting bin set  4  of  9\n",
      "starting bin set  5  of  9\n",
      "starting bin set  6  of  9\n",
      "starting bin set  7  of  9\n",
      "starting bin set  8  of  9\n",
      "starting bin set  9  of  9\n",
      "creation of Fisher Matrix complete!\n",
      "\n",
      "\n",
      "Starting grid point ( 3 , 3 )...\n",
      "building TE noise arrays...\n",
      "building TE covariance matrix... \n",
      "starting covariance set  1  of  2 ... \n",
      "starting covariance set  2  of  2 ... \n",
      "building Fisher matrix from components...\n",
      "invCovP.shape:  (3, 3, 5001) , dClVecs.shape:  (3, 9, 5001)\n",
      "starting bin set  1  of  9\n",
      "starting bin set  2  of  9\n",
      "starting bin set  3  of  9\n",
      "starting bin set  4  of  9\n",
      "starting bin set  5  of  9\n",
      "starting bin set  6  of  9\n",
      "starting bin set  7  of  9\n",
      "starting bin set  8  of  9\n",
      "starting bin set  9  of  9\n",
      "creation of Fisher Matrix complete!\n",
      "\n",
      "\n",
      "Starting grid point ( 3 , 4 )...\n",
      "building TE noise arrays...\n",
      "building TE covariance matrix... \n",
      "starting covariance set  1  of  2 ... \n",
      "starting covariance set  2  of  2 ... \n",
      "building Fisher matrix from components...\n",
      "invCovP.shape:  (3, 3, 5001) , dClVecs.shape:  (3, 9, 5001)\n",
      "starting bin set  1  of  9\n",
      "starting bin set  2  of  9\n",
      "starting bin set  3  of  9\n",
      "starting bin set  4  of  9\n",
      "starting bin set  5  of  9\n",
      "starting bin set  6  of  9\n",
      "starting bin set  7  of  9\n",
      "starting bin set  8  of  9\n",
      "starting bin set  9  of  9\n",
      "creation of Fisher Matrix complete!\n",
      "\n",
      "\n",
      "Starting grid point ( 4 , 0 )...\n",
      "building TE noise arrays...\n",
      "building TE covariance matrix... \n",
      "starting covariance set  1  of  2 ... \n",
      "starting covariance set  2  of  2 ... \n",
      "building Fisher matrix from components...\n",
      "invCovP.shape:  (3, 3, 5001) , dClVecs.shape:  (3, 9, 5001)\n",
      "starting bin set  1  of  9\n",
      "starting bin set  2  of  9\n",
      "starting bin set  3  of  9\n",
      "starting bin set  4  of  9\n",
      "starting bin set  5  of  9\n",
      "starting bin set  6  of  9\n",
      "starting bin set  7  of  9\n",
      "starting bin set  8  of  9\n",
      "starting bin set  9  of  9\n",
      "creation of Fisher Matrix complete!\n",
      "\n",
      "\n",
      "Starting grid point ( 4 , 1 )...\n",
      "building TE noise arrays...\n",
      "building TE covariance matrix... \n",
      "starting covariance set  1  of  2 ... \n",
      "starting covariance set  2  of  2 ... \n",
      "building Fisher matrix from components...\n",
      "invCovP.shape:  (3, 3, 5001) , dClVecs.shape:  (3, 9, 5001)\n",
      "starting bin set  1  of  9\n",
      "starting bin set  2  of  9\n",
      "starting bin set  3  of  9\n",
      "starting bin set  4  of  9\n",
      "starting bin set  5  of  9\n",
      "starting bin set  6  of  9\n",
      "starting bin set  7  of  9\n",
      "starting bin set  8  of  9\n",
      "starting bin set  9  of  9\n",
      "creation of Fisher Matrix complete!\n",
      "\n",
      "\n",
      "Starting grid point ( 4 , 2 )...\n",
      "building TE noise arrays...\n",
      "building TE covariance matrix... \n",
      "starting covariance set  1  of  2 ... \n",
      "starting covariance set  2  of  2 ... \n",
      "building Fisher matrix from components...\n",
      "invCovP.shape:  (3, 3, 5001) , dClVecs.shape:  (3, 9, 5001)\n",
      "starting bin set  1  of  9\n",
      "starting bin set  2  of  9\n",
      "starting bin set  3  of  9\n",
      "starting bin set  4  of  9\n",
      "starting bin set  5  of  9\n",
      "starting bin set  6  of  9\n",
      "starting bin set  7  of  9\n",
      "starting bin set  8  of  9\n",
      "starting bin set  9  of  9\n",
      "creation of Fisher Matrix complete!\n",
      "\n",
      "\n",
      "Starting grid point ( 4 , 3 )...\n",
      "building TE noise arrays...\n",
      "building TE covariance matrix... \n",
      "starting covariance set  1  of  2 ... \n",
      "starting covariance set  2  of  2 ... \n",
      "building Fisher matrix from components...\n",
      "invCovP.shape:  (3, 3, 5001) , dClVecs.shape:  (3, 9, 5001)\n",
      "starting bin set  1  of  9\n",
      "starting bin set  2  of  9\n",
      "starting bin set  3  of  9\n",
      "starting bin set  4  of  9\n",
      "starting bin set  5  of  9\n",
      "starting bin set  6  of  9\n",
      "starting bin set  7  of  9\n",
      "starting bin set  8  of  9\n",
      "starting bin set  9  of  9\n",
      "creation of Fisher Matrix complete!\n",
      "\n",
      "\n",
      "Starting grid point ( 4 , 4 )...\n",
      "building TE noise arrays...\n",
      "building TE covariance matrix... \n",
      "starting covariance set  1  of  2 ... \n",
      "starting covariance set  2  of  2 ... \n",
      "building Fisher matrix from components...\n",
      "invCovP.shape:  (3, 3, 5001) , dClVecs.shape:  (3, 9, 5001)\n",
      "starting bin set  1  of  9\n",
      "starting bin set  2  of  9\n",
      "starting bin set  3  of  9\n",
      "starting bin set  4  of  9\n",
      "starting bin set  5  of  9\n",
      "starting bin set  6  of  9\n",
      "starting bin set  7  of  9\n",
      "starting bin set  8  of  9\n",
      "starting bin set  9  of  9\n",
      "creation of Fisher Matrix complete!\n",
      "\n",
      "done.\n",
      "[[623.73708011 623.76322508 630.75762801 763.63954631 852.56601535]\n",
      " [623.75032356 623.98416055 649.35661989 800.09016043 871.37396427]\n",
      " [623.77678918 624.41835745 663.1839047  816.01139121 879.7008185 ]\n",
      " [623.81643453 625.05127388 675.66715508 824.61462656 886.49958658]\n",
      " [623.8691962  625.86295317 687.3271559  830.5203843  892.6758684 ]]\n"
     ]
    }
   ],
   "source": [
    "# this relies on most of what's defined above\n",
    "\n",
    "tempNoises = [1,3,5,7,9] # muK arcmin\n",
    "beamSizes  = [1,3,5,7,9] # arcmin\n",
    "mnuGrid = np.empty((5,5)) # to hold results (tempNoise,beamSize)\n",
    "\n",
    "# identify indices with parameters and define tau prior\n",
    "tauIndex = 5\n",
    "tauPrior = 1/0.01**2\n",
    "mnuIndex = 6\n",
    "w0Index  = 7\n",
    "waIndex  = 8\n",
    "\n",
    "# define fsky\n",
    "fsky_S4 = 0.4\n",
    "fsky_Pl = 0.2 # for additional Planck component\n",
    "#doPlanck = True\n",
    "doPlanck = False\n",
    "        \n",
    "for i,tempNoise in enumerate(tempNoises):\n",
    "    for j,beamSize in enumerate(beamSizes):\n",
    "        print '\\nStarting grid point (',i,',',j,')...'\n",
    "        \n",
    "        # get noise\n",
    "        print 'building TE noise arrays...'\n",
    "        fwhm = beamSize; ST = tempNoise; SP = ST*1.414\n",
    "        noiseClsP = getNoiseClsP(fwhm,ST,SP,lmax,nMaps)\n",
    "        \n",
    "        # make covariance matrices with noise\n",
    "        print 'building TE covariance matrix... '\n",
    "        covarP,invCovP,ellsP,obsListP = Fobj.makeCovar(crossCls,noiseClsP,0,lmax)\n",
    "\n",
    "        # get Fisher matrix\n",
    "        FijTEB = getFisher(myLmin,invCovP,dClVecs,nCosParams,lmax)\n",
    "        \n",
    "        # define and add kappa matrix\n",
    "        #print 'building reconstuction noise and kappa Fisher matrix...'\n",
    "        #ells,EB_noise = ncl.getRecNoise(Fobj.lmax,ST,SP,fwhm)\n",
    "        #Nlkk = EB_noise * ells*(ells+1)/4 # deflection to convergence\n",
    "        #Fobj.noiseCls[0,0] = Nlkk[Fobj.lmin:Fobj.lmax+1]\n",
    "        #Fijkk = getFijkk(Fobj,myLmin=30,lmax=2000,verbose=False,gg=0)\n",
    "        #FijTEB[:Fobj.nCosParams,:Fobj.nCosParams] += Fijkk\n",
    "        \n",
    "        # add sigma = 0.01 prior on tau\n",
    "        #FijTEB[tauIndex,tauIndex] += tauPrior\n",
    "        \n",
    "        # fix w0,wa\n",
    "        FijTEB = fixParam(FijTEB,waIndex)\n",
    "        FijTEB = fixParam(FijTEB,w0Index)\n",
    "        \n",
    "        # derive a TTTEEE only Fij\n",
    "        #Fij_plikHM_TTTEEE = Fij_plikHM_TTTEEE_lowTEB - Fij_plikHM_lowTEB\n",
    "        \n",
    "        # add in Planck and fsky\n",
    "        if doPlanck:\n",
    "            FijTEB[:6,:6] += Fij_plikHM_lowTEB  # for Planck l<30\n",
    "        FijTEB *= fsky_S4\n",
    "        if doPlanck:\n",
    "            FijTEB[:6,:6] += Fij_plikHM_TTTEEE_lowTEB*fsky_Pl # for additonal sky not covered by S4 and low ell\n",
    "            #FijTEB[:6,:6] += Fij_plikHM_TTTEEE*fsky_Pl # for additonal sky not covered by S4\n",
    "            \n",
    "        # get sigmas\n",
    "        sigmasTEB = getSigmas(FijTEB)\n",
    "        \n",
    "        # save sigma(mnu)\n",
    "        mnuGrid[i,j] = sigmasTEB[mnuIndex]*1000 # convert eV to meV\n",
    "        \n",
    "print 'done.'\n",
    "        \n",
    "print mnuGrid"
   ]
  },
  {
   "cell_type": "code",
   "execution_count": null,
   "metadata": {},
   "outputs": [],
   "source": []
  },
  {
   "cell_type": "code",
   "execution_count": null,
   "metadata": {},
   "outputs": [],
   "source": []
  },
  {
   "cell_type": "code",
   "execution_count": null,
   "metadata": {},
   "outputs": [],
   "source": []
  },
  {
   "cell_type": "code",
   "execution_count": null,
   "metadata": {},
   "outputs": [],
   "source": []
  },
  {
   "cell_type": "code",
   "execution_count": null,
   "metadata": {},
   "outputs": [],
   "source": []
  },
  {
   "cell_type": "code",
   "execution_count": null,
   "metadata": {},
   "outputs": [],
   "source": []
  },
  {
   "cell_type": "code",
   "execution_count": 29,
   "metadata": {},
   "outputs": [
    {
     "name": "stdout",
     "output_type": "stream",
     "text": [
      "done.\n"
     ]
    }
   ],
   "source": [
    "np.savetxt('mnuGrid2.txt',mnuGrid)\n",
    "print 'done.'"
   ]
  },
  {
   "cell_type": "code",
   "execution_count": null,
   "metadata": {},
   "outputs": [],
   "source": []
  },
  {
   "cell_type": "code",
   "execution_count": 30,
   "metadata": {},
   "outputs": [
    {
     "name": "stdout",
     "output_type": "stream",
     "text": [
      "[[241.66077999 241.66385384 242.4687353  258.86300829 265.04892358]\n",
      " [241.66240594 241.6899212  244.92298798 261.9105651  266.84716819]\n",
      " [241.66565586 241.74127492 247.0868522  262.97568599 267.97067094]\n",
      " [241.67052579 241.81643521 249.00601533 263.5430625  268.67925234]\n",
      " [241.67700981 241.91337132 250.67423556 263.93141347 269.15762199]]\n"
     ]
    },
    {
     "data": {
      "text/plain": [
       "'\\nwithout Planck\\n[[146.02558465 146.02730834 146.4785892  155.58644436 159.00511842]\\n [146.02649587 146.04192532 147.85421888 157.27170006 160.00930829]\\n [146.02831722 146.07072121 149.06429058 157.8619916  160.63752371]\\n [146.03104647 146.11286602 150.13451008 158.17656595 161.03187293]\\n [146.03468029 146.16722078 151.06244736 158.39146605 161.2967478 ]]\\n \\nwith Planck\\n[[43.52908334 43.53212002 44.33913468 56.14975889 60.27794788]\\n [43.5306227  43.5578101  46.8418815  58.29214552 61.71640835]\\n [43.53369945 43.60844371 48.75420622 59.0357768  62.56418291]\\n [43.5383097  43.68260303 50.20945297 59.42766651 63.01726016]\\n [43.54444758 43.77833432 51.33965143 59.66949567 63.27737754]]\\n\\n'"
      ]
     },
     "execution_count": 30,
     "metadata": {},
     "output_type": "execute_result"
    }
   ],
   "source": [
    "# apply fsky\n",
    "# no don't since I put it into the function above\n",
    "#fsky = 0.4\n",
    "#print mnuGrid*fsky**(-1/2.)\n",
    "\"\"\"\n",
    "Without Planck, kappa, tau prior\n",
    "[[623.73708011 623.76322508 630.75762801 763.63954631 852.56601535]\n",
    " [623.75032356 623.98416055 649.35661989 800.09016043 871.37396427]\n",
    " [623.77678918 624.41835745 663.1839047  816.01139121 879.7008185 ]\n",
    " [623.81643453 625.05127388 675.66715508 824.61462656 886.49958658]\n",
    " [623.8691962  625.86295317 687.3271559  830.5203843  892.6758684 ]]\n",
    "\n",
    "without Planck\n",
    "[[146.02558465 146.02730834 146.4785892  155.58644436 159.00511842]\n",
    " [146.02649587 146.04192532 147.85421888 157.27170006 160.00930829]\n",
    " [146.02831722 146.07072121 149.06429058 157.8619916  160.63752371]\n",
    " [146.03104647 146.11286602 150.13451008 158.17656595 161.03187293]\n",
    " [146.03468029 146.16722078 151.06244736 158.39146605 161.2967478 ]]\n",
    " \n",
    "with Planck lowEll\n",
    "[[152.83969718 152.84164125 153.35069298 163.71934163 167.63165798]\n",
    " [152.84072552 152.8581277  154.90289867 165.6467858  168.76896773]\n",
    " [152.84278095 152.89060664 156.27144657 166.32042739 169.47953326]\n",
    " [152.84586097 152.93814219 157.4852319  166.67926781 169.92767949]\n",
    " [152.84996182 152.99944996 158.54030702 166.92488253 170.23022702]]\n",
    " \n",
    "with Planck extra sky\n",
    "[[43.49546425 43.49849745 44.30453905 56.09930488 60.22180829]\n",
    " [43.49700204 43.52415835 46.80491626 58.23859274 61.6603379 ]\n",
    " [43.50007566 43.57473451 48.71527304 58.9808941  62.50704689]\n",
    " [43.5046812  43.64880989 50.1685217  59.37209887 62.95916629]\n",
    " [43.51081283 43.74443316 51.29687047 59.61348843 63.21860998]]\n",
    " \n",
    "with Planck lowEll and extra sky\n",
    "[[43.52908334 43.53212002 44.33913468 56.14975889 60.27794788]\n",
    " [43.5306227  43.5578101  46.8418815  58.29214552 61.71640835]\n",
    " [43.53369945 43.60844371 48.75420622 59.0357768  62.56418291]\n",
    " [43.5383097  43.68260303 50.20945297 59.42766651 63.01726016]\n",
    " [43.54444758 43.77833432 51.33965143 59.66949567 63.27737754]]\n",
    "\n",
    "\"\"\""
   ]
  },
  {
   "cell_type": "code",
   "execution_count": null,
   "metadata": {},
   "outputs": [],
   "source": []
  },
  {
   "cell_type": "code",
   "execution_count": null,
   "metadata": {},
   "outputs": [],
   "source": []
  },
  {
   "cell_type": "code",
   "execution_count": null,
   "metadata": {},
   "outputs": [],
   "source": []
  },
  {
   "cell_type": "markdown",
   "metadata": {},
   "source": [
    "# Combine the Fisher matrices and see smaller sigmas"
   ]
  },
  {
   "cell_type": "code",
   "execution_count": 31,
   "metadata": {
    "scrolled": false
   },
   "outputs": [
    {
     "name": "stdout",
     "output_type": "stream",
     "text": [
      "comparison of sigma(T,E), sigma(kappa,g), and sigma(T,E,kappa,g):\n",
      "\n"
     ]
    },
    {
     "ename": "ValueError",
     "evalue": "operands could not be broadcast together with shapes (9,9) (7,7) (9,9) ",
     "output_type": "error",
     "traceback": [
      "\u001b[0;31m---------------------------------------------------------------------------\u001b[0m",
      "\u001b[0;31mValueError\u001b[0m                                Traceback (most recent call last)",
      "\u001b[0;32m<ipython-input-31-6516f09c5bb6>\u001b[0m in \u001b[0;36m<module>\u001b[0;34m()\u001b[0m\n\u001b[1;32m      3\u001b[0m \u001b[0;32mprint\u001b[0m \u001b[0;34m'comparison of sigma(T,E), sigma(kappa,g), and sigma(T,E,kappa,g):\\n'\u001b[0m\u001b[0;34m\u001b[0m\u001b[0m\n\u001b[1;32m      4\u001b[0m \u001b[0mFijSum\u001b[0m \u001b[0;34m=\u001b[0m \u001b[0mFijkg\u001b[0m\u001b[0;34m.\u001b[0m\u001b[0mcopy\u001b[0m\u001b[0;34m(\u001b[0m\u001b[0;34m)\u001b[0m\u001b[0;34m\u001b[0m\u001b[0m\n\u001b[0;32m----> 5\u001b[0;31m \u001b[0mFijSum\u001b[0m\u001b[0;34m[\u001b[0m\u001b[0;34m:\u001b[0m\u001b[0mnCosParams\u001b[0m\u001b[0;34m,\u001b[0m\u001b[0;34m:\u001b[0m\u001b[0mnCosParams\u001b[0m\u001b[0;34m]\u001b[0m \u001b[0;34m+=\u001b[0m \u001b[0mFijTEB\u001b[0m\u001b[0;34m\u001b[0m\u001b[0m\n\u001b[0m\u001b[1;32m      6\u001b[0m \u001b[0;34m\u001b[0m\u001b[0m\n\u001b[1;32m      7\u001b[0m \u001b[0msigmasSum\u001b[0m \u001b[0;34m=\u001b[0m \u001b[0mgetSigmas\u001b[0m\u001b[0;34m(\u001b[0m\u001b[0mFijSum\u001b[0m\u001b[0;34m)\u001b[0m\u001b[0;34m\u001b[0m\u001b[0m\n",
      "\u001b[0;31mValueError\u001b[0m: operands could not be broadcast together with shapes (9,9) (7,7) (9,9) "
     ]
    }
   ],
   "source": [
    "from prettytable import PrettyTable\n",
    "\n",
    "print 'comparison of sigma(T,E), sigma(kappa,g), and sigma(T,E,kappa,g):\\n'\n",
    "FijSum = Fijkg.copy()\n",
    "FijSum[:nCosParams,:nCosParams] += FijTEB\n",
    "\n",
    "sigmasSum = getSigmas(FijSum)\n",
    "#infSet = ['inf','inf','inf','inf','inf','inf'] # number of infs needs to be number of bins\n",
    "infSet = [0,0,0,0,0,0] # number of infs needs to be number of bins\n",
    "sigmasTEB = np.append(sigmasTEB,infSet)\n",
    "sigmasSum = np.append(sigmasSum,infSet)\n",
    "#print sigmasTEB\n",
    "    \n",
    "from prettytable import PrettyTable\n",
    "# for a set of fsky values\n",
    "for fsky in (1.0,0.75,0.4,0.25):\n",
    "    fskyFac = np.sqrt(1./fsky)\n",
    "    print fskyFac\n",
    "    sigmasA = sigmaskg*fskyFac\n",
    "    sigmasB = sigmasTEB*fskyFac\n",
    "    sigmasC = sigmasSum*fskyFac\n",
    "    t = PrettyTable(['Parameter', 'sigma(T,E)','sigma(k,g)','sigma(T,E,k,g)'])\n",
    "    for i,p in enumerate(Fobj.paramList):\n",
    "        t.add_row([p,\"%5.3g\" % sigmasB[i],\"%5.3g\" % sigmasA[i],\"%5.3g\" % sigmasC[i]])\n",
    "    print 'fsky = {0}:'.format(fsky)\n",
    "    print t\n",
    "\n",
    "print 'which Cl used for T,E,B: ',myClName"
   ]
  },
  {
   "cell_type": "code",
   "execution_count": null,
   "metadata": {},
   "outputs": [],
   "source": []
  },
  {
   "cell_type": "code",
   "execution_count": null,
   "metadata": {},
   "outputs": [],
   "source": []
  },
  {
   "cell_type": "code",
   "execution_count": null,
   "metadata": {},
   "outputs": [],
   "source": []
  },
  {
   "cell_type": "code",
   "execution_count": null,
   "metadata": {},
   "outputs": [],
   "source": []
  },
  {
   "cell_type": "code",
   "execution_count": null,
   "metadata": {},
   "outputs": [],
   "source": []
  },
  {
   "cell_type": "markdown",
   "metadata": {},
   "source": [
    "# Compare to Byeonghee's result"
   ]
  },
  {
   "cell_type": "code",
   "execution_count": null,
   "metadata": {},
   "outputs": [],
   "source": []
  },
  {
   "cell_type": "code",
   "execution_count": null,
   "metadata": {},
   "outputs": [],
   "source": [
    "# Byeonghee's result:\n",
    "# This used lmin 50, lmax 1000, halofit\n",
    "sigmasB1 = {\n",
    "    #sigma(b) (4 bins) =  [ 0.01220295  0.0092872   0.01058874  0.03529165]\n",
    "    'cosmomc_theta' : 0.00015113283201,\n",
    "    'ombh2' : 0.000504509008534,\n",
    "    'omch2' : 0.00151341881388,\n",
    "    'ns' : 0.00732594856064,\n",
    "    'As' : 0.0618279762973*1e-9,\n",
    "    'mnu' : 0.0564262366597,\n",
    "    'w' : 0.088058950571,\n",
    "    'tau' : 0.0595781322066,\n",
    "    'bin1' : 0.01220295,\n",
    "    'bin2' : 0.0092872,\n",
    "    'bin3' : 0.01058874,\n",
    "    'bin4' : 0.03529165\n",
    "}\n",
    "# This used lmin 50, lmax 1000, halofit, bias by bin\n",
    "sigmasB2 = {\n",
    "    'cosmomc_theta' : 7.31905124578e-05,\n",
    "    'ombh2' : 0.00117829505232,\n",
    "    'omch2' : 0.00253188668652,\n",
    "    'ns' : 0.0107531686379,\n",
    "    'As' : 0.0836156981509*1e-9,\n",
    "    'mnu' : 0.110362820478,\n",
    "    'w' : 0.0933472979446,\n",
    "    'tau' : 8.65882116522,\n",
    "    'bin1' : 0.01120403,\n",
    "    'bin2' : 0.0123868,\n",
    "    'bin3' : 0.01398429,\n",
    "    'bin4' : 0.0143556\n",
    "}\n",
    "# This one was after a late fix Byeonghee did:\n",
    "\"\"\"\n",
    "+---------------+--------------+--------------+\n",
    "|   Parameter   | sigma_Z(k,g) | sigma_B(k,g) | \n",
    "+---------------+--------------+--------------+\n",
    "|     ombh2     |   0.00182    |   0.00118    |    \n",
    "|     omch2     |   0.00509    |   0.00253    |     \n",
    "| cosmomc_theta |   6.51e-05   |   7.58e-05   |     \n",
    "|       As      |   9.26e-11   |   1.29e-10   |     \n",
    "|       ns      |    0.0116    |    0.0190    |    \n",
    "|      tau      |     0.33     |     8.26     |    \n",
    "|      mnu      |    0.0884    |     0.11     |      \n",
    "|       w       |    0.0448    |    0.0411    |       \n",
    "|      bin1     |    0.011     |    0.0063    |      \n",
    "|      bin2     |    0.0141    |    0.0056    |    \n",
    "|      bin3     |    0.0195    |    0.0054    |     \n",
    "|      bin4     |    0.0236    |    0.0047    |\n",
    "+---------------+--------------+--------------+\"\"\"\n",
    "sigmasB3 = {\n",
    "    'cosmomc_theta' : 7.58e-05,\n",
    "    'ombh2' : 0.00118,\n",
    "    'omch2' : 0.00253,\n",
    "    'ns' : 0.0190,\n",
    "    'As' : 1.29e-10,\n",
    "    'mnu' : 0.11,\n",
    "    'w' : 0.0411,\n",
    "    'tau' : 8.26,\n",
    "    'bin1' : 0.0063,\n",
    "    'bin2' : 0.0056,\n",
    "    'bin3' : 0.0054,\n",
    "    'bin4' : 0.0047\n",
    "}\n",
    "\n",
    "\n",
    "Bsigmas = sigmasB3\n",
    "\n",
    "print paramList\n"
   ]
  },
  {
   "cell_type": "code",
   "execution_count": null,
   "metadata": {},
   "outputs": [],
   "source": [
    "\"\"\"\n",
    "# remove tau from my Fisher matrix, since Byeonghee omitted it.\n",
    "# define row,col deleting function\n",
    "def fixParam(Fij,pNum):\n",
    "    return np.delete(np.delete(Fij,pNum,0),pNum,1)\n",
    "Fij3 = fixParam(Fij2,5) # 5 for neutrinos\n",
    "sigmas3 = np.sqrt(np.diag(np.linalg.inv(Fij3)))\n",
    "sigmas3 = np.insert(sigmas3,5,0)\n",
    "print sigmas3\n",
    "\"\"\""
   ]
  },
  {
   "cell_type": "code",
   "execution_count": null,
   "metadata": {},
   "outputs": [],
   "source": [
    "\"\"\"\n",
    "# convert sigma_bi to sigma_bi/fid_bi\n",
    "fidBs = Fobj.binBs\n",
    "print 'fiducial B_i: ',fidBs\n",
    "sigmas3[-4:] = sigmas3[-4:]/fidBs\n",
    "print sigmas3\n",
    "\"\"\""
   ]
  },
  {
   "cell_type": "code",
   "execution_count": null,
   "metadata": {},
   "outputs": [],
   "source": [
    "\"\"\"\n",
    "#paramList = ['ombh2','omch2','cosmomc_theta','As','ns','tau','mnu']\n",
    "mask = [True,True,False,True,True,False,True, True,True,True,True]\n",
    "paramListB = np.array(paramList)\n",
    "paramListB = np.append(paramListB,['bin1','bin2','bin3','bin4'])\n",
    "paramListB = paramListB[mask]\n",
    "sigmasB = sigmas3[mask]\n",
    "print sigmas3\n",
    "print sigmasB\n",
    "print paramListB\n",
    "print lmin\n",
    "\"\"\""
   ]
  },
  {
   "cell_type": "code",
   "execution_count": null,
   "metadata": {},
   "outputs": [],
   "source": [
    "from prettytable import PrettyTable\n",
    "print 'wa and bias marginalized'\n",
    "t = PrettyTable(['Parameter', 'sigma_Z(k,g)','sigma_B(k,g)','percent diff.'])\n",
    "for i,p in enumerate(paramList[:8]):\n",
    "    Zi = sigmasB[i]\n",
    "    Bi = Bsigmas[paramList[i]]\n",
    "    diff = (Bi-Zi)/Zi *100\n",
    "    t.add_row([p,\"%5.3g\" % Zi,\"%5.3g\" % Bi, \"%5.3g\" % diff ] )\n",
    "print t"
   ]
  },
  {
   "cell_type": "code",
   "execution_count": null,
   "metadata": {},
   "outputs": [],
   "source": [
    "# This comparison has probably lost its meaning"
   ]
  },
  {
   "cell_type": "code",
   "execution_count": null,
   "metadata": {},
   "outputs": [],
   "source": []
  },
  {
   "cell_type": "code",
   "execution_count": null,
   "metadata": {},
   "outputs": [],
   "source": []
  },
  {
   "cell_type": "code",
   "execution_count": null,
   "metadata": {},
   "outputs": [],
   "source": []
  }
 ],
 "metadata": {
  "kernelspec": {
   "display_name": "Python 2",
   "language": "python",
   "name": "python2"
  },
  "language_info": {
   "codemirror_mode": {
    "name": "ipython",
    "version": 2
   },
   "file_extension": ".py",
   "mimetype": "text/x-python",
   "name": "python",
   "nbconvert_exporter": "python",
   "pygments_lexer": "ipython2",
   "version": "2.7.15"
  }
 },
 "nbformat": 4,
 "nbformat_minor": 1
}
