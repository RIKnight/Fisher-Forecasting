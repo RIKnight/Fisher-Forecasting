{
 "cells": [
  {
   "cell_type": "markdown",
   "metadata": {},
   "source": [
    "# Making some quick calculations to get $F_{ij}$ working for $C_l^{TT},C_l^{TE},C_l^{EE}$ observables"
   ]
  },
  {
   "cell_type": "code",
   "execution_count": 2,
   "metadata": {
    "collapsed": true
   },
   "outputs": [],
   "source": [
    "import crosspower as cp\n",
    "#import FisherCl as fcl\n",
    "#import FisherCl2 as fcl\n",
    "#from numpy.linalg import eigh\n",
    "import camb\n",
    "\n",
    "# set plotting to be in the notebook instead of its own qt window\n",
    "%matplotlib inline"
   ]
  },
  {
   "cell_type": "code",
   "execution_count": 3,
   "metadata": {
    "collapsed": false
   },
   "outputs": [],
   "source": [
    "# set cosmological parameters\n",
    "cosParams = {\n",
    "        'H0'    : None, #67.51, #setting H0=None allows cosmomc_theta to be used instead\n",
    "        'cosmomc_theta'           : 1.04087e-2,\n",
    "        'ombh2' : 0.02226,\n",
    "        'omch2' : 0.1193,\n",
    "        'omk'   : 0,\n",
    "        'tau'   : 0.063,\n",
    "\n",
    "        'As'    : 2.130e-9,\n",
    "        'ns'    : 0.9653,\n",
    "        'r'     : 0,\n",
    "        'kPivot': 0.05,\n",
    "\n",
    "        # if fiducial mnu is changed, need to adjust omch2 as well\n",
    "        'mnu'   : 0.06, # (eV)\n",
    "        #'mnu'   : 0.058, # Lloyd suggested this value for fiducial; adjust omch2 if I do use it\n",
    "        'nnu'   : 3.046,\n",
    "        'standard_neutrino_neff'  : 3.046,\n",
    "        'num_massive_neutrinos'   : 1,\n",
    "        'neutrino_hierarchy'      : 'normal'}"
   ]
  },
  {
   "cell_type": "code",
   "execution_count": 4,
   "metadata": {
    "collapsed": false
   },
   "outputs": [
    {
     "name": "stdout",
     "output_type": "stream",
     "text": [
      "zs.size:  998\n"
     ]
    }
   ],
   "source": [
    "# get a matterPower object\n",
    "reload(cp)\n",
    "myPk = cp.matterPower(**cosParams)"
   ]
  },
  {
   "cell_type": "code",
   "execution_count": 5,
   "metadata": {
    "collapsed": false
   },
   "outputs": [
    {
     "name": "stdout",
     "output_type": "stream",
     "text": [
      "creating more matter power objects...\n",
      "creating matter power spectra for  ombh2  derivative...\n",
      "zs.size:  998\n",
      "zs.size:  998\n",
      "creating matter power spectra for  omch2  derivative...\n",
      "zs.size:  998\n",
      "zs.size:  998\n",
      "creating matter power spectra for  cosmomc_theta  derivative...\n",
      "zs.size:  998\n",
      "zs.size:  998\n",
      "creating matter power spectra for  As  derivative...\n",
      "zs.size:  998\n",
      "zs.size:  998\n",
      "creating matter power spectra for  ns  derivative...\n",
      "zs.size:  998\n",
      "zs.size:  998\n",
      "creating matter power spectra for  tau  derivative...\n",
      "zs.size:  998\n",
      "zs.size:  998\n",
      "creating matter power spectra for  mnu  derivative...\n",
      "zs.size:  998\n",
      "zs.size:  998\n"
     ]
    }
   ],
   "source": [
    "# copy some setup from FisherCl2.py\n",
    "\n",
    "#myParams = myPk.cosParams\n",
    "myParams = cosParams\n",
    "nz = 1000\n",
    "\n",
    "# parameters list:\n",
    "nCosParams = 7 # 6 LCDM + Mnu\n",
    "paramList = ['ombh2','omch2','cosmomc_theta','As','ns','tau','mnu']\n",
    "# step sizes for discrete derivatives: must correspond to paramList entries!\n",
    "#   from Allison et. al. (2015) Table III.\n",
    "deltaP = [0.0008,0.0030,0.0050e-2,0.1e-9,0.010,0.020,0.020] #last one in eV\n",
    "\n",
    "# get more matterPower objects for numeric differentiation\n",
    "print 'creating more matter power objects...'\n",
    "myParamsUpper = []\n",
    "myParamsLower = []\n",
    "myPksUpper = []\n",
    "myPksLower = []\n",
    "for cParamNum in range(nCosParams):\n",
    "    print 'creating matter power spectra for ',paramList[cParamNum],' derivative...'\n",
    "    # add parameter dictionary to lists; HAVE TO BE COPIES!!!\n",
    "    myParamsUpper.append(myParams.copy())\n",
    "    myParamsLower.append(myParams.copy())\n",
    "    # modify parameter number cParamNum in dictionaries\n",
    "    myParamsUpper[cParamNum][paramList[cParamNum]] += deltaP[cParamNum]\n",
    "    myParamsLower[cParamNum][paramList[cParamNum]] -= deltaP[cParamNum]\n",
    "\n",
    "    \n",
    "    # toggle this section off for comparison with Kevin's Fisher result:\n",
    "    \"\"\"\n",
    "    # check for mnu modification and adjust omch2 if necessary\n",
    "    if paramList[cParamNum] == 'mnu':\n",
    "        omch2Index = np.where(np.array(paramList) == 'omch2')[0][0]\n",
    "        deltaOmnh2 = deltaP[cParamNum]/94 #eq.n 12 from Wu et. al.\n",
    "        #deltaOmnh2 = pars.omegan*(pars.H0/100)**2 # probably a better measure of omega_nu\n",
    "        # note the -=,+= signs get reversed in next 2 lines compared to above\n",
    "        myParamsUpper[cParamNum][paramList[omch2Index]] -= deltaOmnh2\n",
    "        myParamsLower[cParamNum][paramList[omch2Index]] += deltaOmnh2\n",
    "    \"\"\"\n",
    "\n",
    "    #print 'cPramNum: ',cParamNum,', param name: ',paramList[cParamNum]\n",
    "    #print 'myParamsUpper[cParamNum][paramList[cParamNum]]: ',myParamsUpper[cParamNum][paramList[cParamNum]]\n",
    "    #print 'myParamsLower[cParamNum][paramList[cParamNum]]: ',myParamsLower[cParamNum][paramList[cParamNum]]\n",
    "    #print 'deltaP[cParamNum]: ',deltaP[cParamNum]\n",
    "\n",
    "    # create matter power objects and add to lists\n",
    "    myPksUpper.append(cp.matterPower(nz=nz,**myParamsUpper[cParamNum]))\n",
    "    myPksLower.append(cp.matterPower(nz=nz,**myParamsLower[cParamNum]))\n",
    "\n"
   ]
  },
  {
   "cell_type": "code",
   "execution_count": null,
   "metadata": {
    "collapsed": true
   },
   "outputs": [],
   "source": []
  },
  {
   "cell_type": "code",
   "execution_count": 6,
   "metadata": {
    "collapsed": false
   },
   "outputs": [
    {
     "name": "stdout",
     "output_type": "stream",
     "text": [
      "getting Cl power spectrum\n",
      "(2051, 4)\n",
      "getting Cl power spectra for parameter  ombh2\n",
      "getting Cl power spectra for parameter  omch2\n",
      "getting Cl power spectra for parameter  cosmomc_theta\n",
      "getting Cl power spectra for parameter  As\n",
      "getting Cl power spectra for parameter  ns\n",
      "getting Cl power spectra for parameter  tau\n",
      "getting Cl power spectra for parameter  mnu\n"
     ]
    }
   ],
   "source": [
    "# get all cross power spectra\n",
    "lmax = 2000 # may want to match lmax in other Fisher calculation\n",
    "pars = myPk.pars\n",
    "pars.set_for_lmax(lmax, lens_potential_accuracy=0)\n",
    "\n",
    "#calculate results for these parameters\n",
    "print 'getting Cl power spectrum'\n",
    "results = camb.get_results(pars)\n",
    "\n",
    "#get dictionary of CAMB power spectra\n",
    "powers =results.get_cmb_power_spectra(pars)\n",
    "#for name in powers: print name\n",
    "\n",
    "#get the total lensed CMB power spectra versus unlensed\n",
    "#myClName = 'total'\n",
    "myClName = 'unlensed_scalar'\n",
    "myCl = powers[myClName]\n",
    "\n",
    "#totCl=powers['total']\n",
    "#unlensedCl=powers['unlensed_scalar']\n",
    "print myCl.shape\n",
    "#Python Cl arrays are all zero based (starting at L=0), Note L=0,1 entries will be zero by default.\n",
    "#The different CL are always in the order TT, EE, BB, TE (with BB=0 for unlensed scalar results).\n",
    "\n",
    "# re-arrange the data structure to be consistent with code in FisherMatrix\n",
    "nMaps = 2 # T,E\n",
    "#crossCls      = np.zeros((nMaps,nMaps,           lmax+51)) # the 51 is a CAMB feature\n",
    "#crossClsPlus  = np.zeros((nMaps,nMaps,nCosParams,lmax+51))\n",
    "#crossClsMinus = np.zeros((nMaps,nMaps,nCosParams,lmax+51))\n",
    "# try without the excess 51, since Cl is not really supposed to be accurate there.\n",
    "crossCls      = np.zeros((nMaps,nMaps,           lmax))\n",
    "crossClsPlus  = np.zeros((nMaps,nMaps,nCosParams,lmax))\n",
    "crossClsMinus = np.zeros((nMaps,nMaps,nCosParams,lmax))\n",
    "\n",
    "crossCls[0,0] = myCl[:lmax,0] # TT\n",
    "crossCls[0,1] = myCl[:lmax,3] # TE\n",
    "crossCls[1,0] = myCl[:lmax,3] # ET\n",
    "crossCls[1,1] = myCl[:lmax,1] # EE\n",
    "\n",
    "# get the perturbed versions\n",
    "for paramNum in range(nCosParams):\n",
    "    print 'getting Cl power spectra for parameter ',paramList[paramNum]\n",
    "    parsUpper = myPksUpper[paramNum].pars\n",
    "    parsLower = myPksLower[paramNum].pars\n",
    "    parsUpper.set_for_lmax(lmax, lens_potential_accuracy=0)\n",
    "    parsLower.set_for_lmax(lmax, lens_potential_accuracy=0)\n",
    "\n",
    "    #calculate results for these parameters\n",
    "    resultsUpper = camb.get_results(parsUpper)\n",
    "    resultsLower = camb.get_results(parsLower)\n",
    "\n",
    "    #get dictionary of CAMB power spectra\n",
    "    powersUpper =resultsUpper.get_cmb_power_spectra(parsUpper)\n",
    "    powersLower =resultsLower.get_cmb_power_spectra(parsLower)\n",
    "    \n",
    "    #get the lensed power spectra\n",
    "    myClUpper=powersUpper[myClName]\n",
    "    myClLower=powersLower[myClName]\n",
    "    \n",
    "    #store them\n",
    "    crossClsPlus[0,0,paramNum]  = myClUpper[:lmax,0] # TT\n",
    "    crossClsPlus[0,1,paramNum]  = myClUpper[:lmax,3] # TE\n",
    "    crossClsPlus[1,0,paramNum]  = myClUpper[:lmax,3] # ET\n",
    "    crossClsPlus[1,1,paramNum]  = myClUpper[:lmax,1] # EE\n",
    "\n",
    "    crossClsMinus[0,0,paramNum] = myClLower[:lmax,0] # TT\n",
    "    crossClsMinus[0,1,paramNum] = myClLower[:lmax,3] # TE\n",
    "    crossClsMinus[1,0,paramNum] = myClLower[:lmax,3] # ET\n",
    "    crossClsMinus[1,1,paramNum] = myClLower[:lmax,1] # EE\n",
    "\n",
    "    \n"
   ]
  },
  {
   "cell_type": "code",
   "execution_count": 9,
   "metadata": {
    "collapsed": false
   },
   "outputs": [
    {
     "name": "stdout",
     "output_type": "stream",
     "text": [
      "band number max:  400\n"
     ]
    }
   ],
   "source": [
    "# convert power spectra to \"bandpowers\"\n",
    "bandWidth = 5 # number of ell values per \"band\"\n",
    "bandNumMax = lmax/bandWidth # should be integer\n",
    "print 'band number max: ',bandNumMax\n",
    "crossBPs      = np.zeros((nMaps,nMaps,           bandNumMax))\n",
    "crossBPsPlus  = np.zeros((nMaps,nMaps,nCosParams,bandNumMax))\n",
    "crossBPsMinus = np.zeros((nMaps,nMaps,nCosParams,bandNumMax))\n",
    "\n",
    "# wow, 5 nested for loops!  This blows!\n",
    "for bandNum in range(bandNumMax):\n",
    "    for ellNum in range(bandWidth):\n",
    "        for iObs in range(nMaps):\n",
    "            for jObs in range(nMaps):\n",
    "                crossBPs[iObs,jObs,bandNum] += crossCls[iObs,jObs,bandNum*bandWidth+ellNum]\n",
    "                for paramNum in range(nCosParams):\n",
    "                    crossBPsPlus[iObs,jObs,paramNum,bandNum] += \\\n",
    "                        crossClsPlus[iObs,jObs,paramNum,bandNum*bandWidth+ellNum]\n",
    "                    crossBPsMinus[iObs,jObs,paramNum,bandNum] += \\\n",
    "                        crossClsMinus[iObs,jObs,paramNum,bandNum*bandWidth+ellNum]\n",
    "\n",
    "# divide to complete the averaging\n",
    "crossBPs /= bandWidth\n",
    "crossBPsPlus /= bandWidth\n",
    "crossBPsMinus /= bandWidth\n",
    "# note: this has not accounted for the absence of ell=1 from first band"
   ]
  },
  {
   "cell_type": "code",
   "execution_count": 30,
   "metadata": {
    "collapsed": false
   },
   "outputs": [
    {
     "name": "stdout",
     "output_type": "stream",
     "text": [
      "building covariance matrix... \n",
      "starting covariance set  1  of  2 ... \n",
      "starting covariance set  2  of  2 ... \n",
      "inverting covariance matrix... \n",
      "lmin =  2\n",
      "obsList:  [ 0.  1.  3.]\n"
     ]
    }
   ],
   "source": [
    "# more code from FisherMatrix.__init__\n",
    "# create covariance matrix\n",
    "print 'building covariance matrix... '\n",
    "\n",
    "nCls = nMaps*(nMaps+1)/2 # This way removes redundancies, eg C_l^kg = C_l^gk\n",
    "#covar = np.zeros((nCls,nCls,lmax+51))\n",
    "#ells = np.arange(lmax+51)\n",
    "covar = np.zeros((nCls,nCls,lmax))\n",
    "ells = np.arange(lmax)\n",
    "\n",
    "# create obsList to contain base nMaps representation of data label\n",
    "obsList = np.zeros(nCls)\n",
    "\n",
    "for map1 in range(nMaps):\n",
    "    print 'starting covariance set ',map1+1,' of ',nMaps,'... '\n",
    "    for map2 in range(map1, nMaps):\n",
    "        covIndex1 = map1*nMaps+map2-map1*(map1+1)/2     # shortens the array\n",
    "        obsList[covIndex1] = map1*nMaps+map2       # base nMaps representation\n",
    "        for map3 in range(nMaps):\n",
    "          for map4 in range(map3, nMaps):\n",
    "            covIndex2 = map3*nMaps+map4-map3*(map3+1)/2 # shortens the array\n",
    "            if covIndex1 <= covIndex2:\n",
    "              covar[covIndex1,covIndex2] = (crossCls[map1,map3]*crossCls[map2,map4] + \\\n",
    "                                            crossCls[map1,map4]*crossCls[map2,map3] )/(2.*ells+1)\n",
    "            else:                                       # avoid double calculation\n",
    "              covar[covIndex1,covIndex2] = covar[covIndex2,covIndex1]\n",
    "            \n",
    "# band up the covar too\n",
    "covarBP = np.zeros((nCls,nCls,bandNumMax))\n",
    "for bandNum in range(bandNumMax):\n",
    "    for ellNum in range(bandWidth):\n",
    "        covarBP[:,:,bandNum] += covar[:,:,bandNum*bandWidth+ellNum]\n",
    "covarBP /= (bandWidth**2)\n",
    "\n",
    "\n",
    "# invert covariance matrix\n",
    "print 'inverting covariance matrix... '\n",
    "# transpose of inverse of transpose is inverse of original\n",
    "# need to do this to get indices in order that linalg.inv wants them\n",
    "invCov = np.transpose(np.linalg.inv(np.transpose(covar[:,:,2:])))\n",
    "ells = ells[2:]\n",
    "print 'lmin = ',ells[0]\n",
    "print 'obsList: ',obsList\n",
    "\n",
    "# invert the covarBP\n",
    "invCovBP = np.transpose(np.linalg.inv(np.transpose(covarBP)))"
   ]
  },
  {
   "cell_type": "code",
   "execution_count": null,
   "metadata": {
    "collapsed": true
   },
   "outputs": [],
   "source": []
  },
  {
   "cell_type": "code",
   "execution_count": null,
   "metadata": {
    "collapsed": true
   },
   "outputs": [],
   "source": []
  },
  {
   "cell_type": "code",
   "execution_count": null,
   "metadata": {
    "collapsed": true
   },
   "outputs": [],
   "source": []
  },
  {
   "cell_type": "code",
   "execution_count": 31,
   "metadata": {
    "collapsed": false
   },
   "outputs": [
    {
     "name": "stdout",
     "output_type": "stream",
     "text": [
      "starting creation of C_l derivatives... \n",
      "starting derivative set  1  of  2 ... \n",
      "starting derivative set  2  of  2 ... \n"
     ]
    }
   ],
   "source": [
    "# get derivatives wrt parameters\n",
    "print 'starting creation of C_l derivatives... '\n",
    "#dClVecs = np.empty((nCls, nCosParams, lmax+51))\n",
    "#Clzeros = np.zeros(lmax+51) # for putting into dClVecs when needed\n",
    "\n",
    "#dClVecs = np.empty((nCls, nCosParams, lmax))\n",
    "dBPVecs = np.empty((nCls, nCosParams, bandNumMax))\n",
    "\n",
    "for map1 in range(nMaps):\n",
    "    print 'starting derivative set ',map1+1,' of ',nMaps,'... '\n",
    "    for map2 in range(map1,nMaps):\n",
    "        mapIdx  = map1*nMaps+map2 -map1*(map1+1)/2  \n",
    "                                   # mapIdx = map index\n",
    "        for pIdx in range(nCosParams):\n",
    "            #dClPlus  = crossClsPlus[map1,map2,pIdx]\n",
    "            #dClMinus = crossClsMinus[map1,map2,pIdx]\n",
    "            #dClVecs[mapIdx, pIdx] = (dClPlus-dClMinus)/(2*deltaP[pIdx])\n",
    "            dBPPlus  = crossBPsPlus[map1,map2,pIdx]\n",
    "            dBPMinus = crossBPsMinus[map1,map2,pIdx]\n",
    "            dBPVecs[mapIdx, pIdx] = (dBPPlus-dBPMinus)/(2*deltaP[pIdx])\n"
   ]
  },
  {
   "cell_type": "code",
   "execution_count": null,
   "metadata": {
    "collapsed": true
   },
   "outputs": [],
   "source": []
  },
  {
   "cell_type": "code",
   "execution_count": 32,
   "metadata": {
    "collapsed": false
   },
   "outputs": [
    {
     "name": "stdout",
     "output_type": "stream",
     "text": [
      "band num min:  10 , band num max:  400\n",
      "building Fisher matrix from components...\n",
      "invCovBP.shape:  (3, 3, 400) , dBPVecs.shape:  (3, 7, 400)\n",
      "starting bin set  1  of  7\n",
      "starting bin set  2  of  7\n",
      "starting bin set  3  of  7\n",
      "starting bin set  4  of  7\n",
      "starting bin set  5  of  7\n",
      "starting bin set  6  of  7\n",
      "starting bin set  7  of  7\n",
      "creation of Fisher Matrix complete!\n",
      "\n",
      "Fij:\n",
      "[[  1.01308621e+09   3.87386194e+07   2.46442357e+09   4.01516556e+15\n",
      "    1.95079437e+07  -1.71005010e+07   5.68077628e+04]\n",
      " [  3.87386194e+07   1.70509918e+07   2.91557760e+09  -2.67912689e+15\n",
      "   -2.10919171e+06   1.14071079e+07   1.62458215e+04]\n",
      " [  2.46442357e+09   2.91557760e+09   4.02693595e+12  -3.33104220e+17\n",
      "   -6.80837916e+08   1.41912258e+09   2.37141498e+07]\n",
      " [  4.01516556e+15  -2.67912689e+15  -3.33104220e+17   8.81492308e+23\n",
      "    1.28750691e+15  -3.75446465e+15  -4.43848324e+11]\n",
      " [  1.95079437e+07  -2.10919171e+06  -6.80837916e+08   1.28750691e+15\n",
      "    2.69799566e+06  -5.48709606e+06  -9.66983318e+02]\n",
      " [ -1.71005010e+07   1.14071079e+07   1.41912258e+09  -3.75446465e+15\n",
      "   -5.48709606e+06   1.59911976e+07   1.89416123e+03]\n",
      " [  5.68077628e+04   1.62458215e+04   2.37141498e+07  -4.43848324e+11\n",
      "   -9.66983318e+02   1.89416123e+03   1.65287258e+02]]\n",
      "eigenvalues of F_ij^-1:\n",
      "[ -3.33604859e-22   2.56338837e-13   1.00667990e-09   1.71727965e-07\n",
      "   3.00992349e-06   9.24456347e-03   4.73540196e-02]\n"
     ]
    }
   ],
   "source": [
    "#Build Fisher matrix\n",
    "lmin = 50 #to match Allison et. al. and justify no ISW effect\n",
    "bandNumMin = lmin/bandWidth\n",
    "print 'band num min: ',bandNumMin,', band num max: ',bandNumMax\n",
    "#multply vectorT,invcov,vector and add up\n",
    "print 'building Fisher matrix from components...'\n",
    "#print 'invCov.shape: ',invCov.shape,', dClVecs.shape: ',dClVecs.shape\n",
    "print 'invCovBP.shape: ',invCovBP.shape,', dBPVecs.shape: ',dBPVecs.shape\n",
    "Fij = np.zeros((nCosParams,nCosParams)) # indices match those in paramList\n",
    "for i in range(nCosParams):\n",
    "    print 'starting bin set ',i+1,' of ',nCosParams\n",
    "    #dClVec_i = dClVecs[:,i,:] # shape (nCls,nElls)\n",
    "    dBPVec_i = dBPVecs[:,i,:] # shape (nCls,nBands)\n",
    "    for j in range(nCosParams):\n",
    "        #dClVec_j = dClVecs[:,j,:] # shape (nCls,nElls)\n",
    "        dBPVec_j = dBPVecs[:,j,:] # shape (nCls,nBands)\n",
    "        # ugh.  don't like nested loops in Python... but easier to program...\n",
    "        #for ell in range(lmin-2,lmax+51-2):\n",
    "        #for ell in range(lmin-2,lmax-2):\n",
    "        for bandNum in range(bandNumMin,bandNumMax):\n",
    "          #myCov = invCov[:,:,ell]  #note invCov has no ell=0,1 but dClVecs do\n",
    "          myCovBP = invCovBP[:,:,bandNum]\n",
    "          #fij = np.dot(dClVec_i[:,ell+2],np.dot(myCov,dClVec_j[:,ell+2]))\n",
    "          fij = np.dot(dBPVec_i[:,bandNum],np.dot(myCovBP,dBPVec_j[:,bandNum]))\n",
    "          Fij[i,j] += fij\n",
    "    \n",
    "print 'creation of Fisher Matrix complete!\\n'\n",
    "\n",
    "# Have a look at it\n",
    "print 'Fij:'\n",
    "print Fij\n",
    "# check eigenvalues\n",
    "w,v = np.linalg.eigh(np.linalg.inv(Fij))\n",
    "print 'eigenvalues of F_ij^-1:'\n",
    "print w"
   ]
  },
  {
   "cell_type": "code",
   "execution_count": null,
   "metadata": {
    "collapsed": true
   },
   "outputs": [],
   "source": []
  },
  {
   "cell_type": "code",
   "execution_count": null,
   "metadata": {
    "collapsed": true
   },
   "outputs": [],
   "source": []
  },
  {
   "cell_type": "code",
   "execution_count": null,
   "metadata": {
    "collapsed": true
   },
   "outputs": [],
   "source": []
  },
  {
   "cell_type": "code",
   "execution_count": null,
   "metadata": {
    "collapsed": true
   },
   "outputs": [],
   "source": []
  },
  {
   "cell_type": "code",
   "execution_count": null,
   "metadata": {
    "collapsed": true
   },
   "outputs": [],
   "source": []
  },
  {
   "cell_type": "code",
   "execution_count": null,
   "metadata": {
    "collapsed": true
   },
   "outputs": [],
   "source": []
  },
  {
   "cell_type": "code",
   "execution_count": 33,
   "metadata": {
    "collapsed": false
   },
   "outputs": [
    {
     "name": "stdout",
     "output_type": "stream",
     "text": [
      "15991197.5799\n",
      "15993697.5799\n"
     ]
    }
   ],
   "source": [
    "# add prior on Tau for comparison with Kevin's result\n",
    "tauNum = 5\n",
    "tauPrior = 1/0.02**2\n",
    "print Fij[tauNum,tauNum]\n",
    "Fij[tauNum,tauNum] = Fij[tauNum,tauNum] + tauPrior \n",
    "print Fij[tauNum,tauNum]"
   ]
  },
  {
   "cell_type": "code",
   "execution_count": null,
   "metadata": {
    "collapsed": true
   },
   "outputs": [],
   "source": []
  },
  {
   "cell_type": "code",
   "execution_count": 34,
   "metadata": {
    "collapsed": false
   },
   "outputs": [
    {
     "data": {
      "image/png": "[encoded data removed]",
      "text/plain": [
       "<matplotlib.figure.Figure at 0x1126ad550>"
      ]
     },
     "metadata": {},
     "output_type": "display_data"
    }
   ],
   "source": [
    "# just take a look at TT, TE, EE\n",
    "plt.loglog(ells,crossCls[0,0,2:]*ells*(ells+1))\n",
    "#plt.loglog(ells,crossCls[0,1,2:]*ells*(ells+1))\n",
    "plt.loglog(ells,crossCls[1,0,2:]*ells*(ells+1))\n",
    "plt.loglog(ells,crossCls[1,1,2:]*ells*(ells+1))\n",
    "plt.title('C_l TT, TE, EE');"
   ]
  },
  {
   "cell_type": "code",
   "execution_count": null,
   "metadata": {
    "collapsed": true
   },
   "outputs": [],
   "source": []
  },
  {
   "cell_type": "markdown",
   "metadata": {},
   "source": [
    "# Check out these uncertainties!"
   ]
  },
  {
   "cell_type": "code",
   "execution_count": 35,
   "metadata": {
    "collapsed": false
   },
   "outputs": [
    {
     "name": "stdout",
     "output_type": "stream",
     "text": [
      "ombh2 3.87107539171e-05\n",
      "omch2 0.000566866643445\n",
      "cosmomc_theta 1.41024241483e-06\n",
      "As 8.32689303863e-11\n",
      "ns 0.00169797886032\n",
      "tau 0.0195825139419\n",
      "mnu 0.217177546635\n"
     ]
    }
   ],
   "source": [
    "sigmas = np.sqrt(np.diag(np.linalg.inv(Fij)))\n",
    "for i,p in enumerate(paramList):\n",
    "    print p, sigmas[i]"
   ]
  },
  {
   "cell_type": "code",
   "execution_count": null,
   "metadata": {
    "collapsed": true
   },
   "outputs": [],
   "source": []
  },
  {
   "cell_type": "code",
   "execution_count": 36,
   "metadata": {
    "collapsed": false
   },
   "outputs": [
    {
     "name": "stdout",
     "output_type": "stream",
     "text": [
      "[  0.   1.   2.   3.   4.   6.   7.   8.   9.  12.  13.  14.  18.  19.  24.]\n",
      "['ombh2', 'omch2', 'cosmomc_theta', 'As', 'ns', 'tau', 'mnu', 'bin1', 'bin2', 'bin3', 'bin4']\n"
     ]
    }
   ],
   "source": [
    "# get lensing and galaxy Fisher matrix to add\n",
    "import FisherCl2 as fcl\n",
    "import pickle\n",
    "filehandler2 = open('Fisher_4_4.obj', 'r') \n",
    "Fobj = pickle.load(filehandler2) \n",
    "\n",
    "print Fobj.obsList\n",
    "print Fobj.paramList"
   ]
  },
  {
   "cell_type": "code",
   "execution_count": 37,
   "metadata": {
    "collapsed": true
   },
   "outputs": [],
   "source": [
    "# remake the kappa-g Fij with lmin=50 to match the other Fij\n",
    "# make comparison against version with higher lmin\n",
    "# copy some code from FisherMatrix.__init__\n",
    "\n",
    "def makeFisher(Fobj,lmin):\n",
    "    \"\"\" code copied from FisherMatrix.__init__\n",
    "        Inputs:\n",
    "            Fobj:\n",
    "            lmin: minimum ell to make Fij\n",
    "    \"\"\"\n",
    "    #Build Fisher matrix\n",
    "    #multply vectorT,invcov,vector and add up\n",
    "    print 'building Fisher matrix from components...'\n",
    "    print 'invCov.shape: ',Fobj.invCov.shape,', dClVecs.shape: ',Fobj.dClVecs.shape\n",
    "    nParams = Fobj.nParams\n",
    "    lmax = 2000 #Fobj.lmax\n",
    "    Fij = np.zeros((nParams,nParams)) # indices match those in paramList\n",
    "    for i in range(nParams):\n",
    "      print 'starting bin set ',i+1,' of ',nParams\n",
    "      dClVec_i = Fobj.dClVecs[:,i,:] # shape (nCls,nElls)\n",
    "      for j in range(nParams):\n",
    "        dClVec_j = Fobj.dClVecs[:,j,:] # shape (nCls,nElls)\n",
    "        # ugh.  don't like nested loops in Python... but easier to program...\n",
    "        for ell in range(lmin-2,lmax-1): #-2 to match the indices\n",
    "          myCov = Fobj.invCov[:,:,ell]\n",
    "          fij = np.dot(dClVec_i[:,ell],np.dot(myCov,dClVec_j[:,ell]))\n",
    "          \n",
    "          Fij[i,j] += fij\n",
    "    \n",
    "    print 'creation of Fisher Matrix complete!\\n'\n",
    "    return Fij"
   ]
  },
  {
   "cell_type": "code",
   "execution_count": 38,
   "metadata": {
    "collapsed": false
   },
   "outputs": [
    {
     "name": "stdout",
     "output_type": "stream",
     "text": [
      "building Fisher matrix from components...\n",
      "invCov.shape:  (15, 15, 1999) , dClVecs.shape:  (15, 11, 1999)\n",
      "starting bin set  1  of  11\n",
      "starting bin set  2  of  11\n",
      "starting bin set  3  of  11\n",
      "starting bin set  4  of  11\n",
      "starting bin set  5  of  11\n",
      "starting bin set  6  of  11\n",
      "starting bin set  7  of  11\n",
      "starting bin set  8  of  11\n",
      "starting bin set  9  of  11\n",
      "starting bin set  10  of  11\n",
      "starting bin set  11  of  11\n",
      "creation of Fisher Matrix complete!\n",
      "\n"
     ]
    }
   ],
   "source": [
    "Fij2 = makeFisher(Fobj,50)\n",
    "sigmas2 = np.sqrt(np.diag(np.linalg.inv(Fij2)))"
   ]
  },
  {
   "cell_type": "code",
   "execution_count": 39,
   "metadata": {
    "collapsed": false
   },
   "outputs": [
    {
     "name": "stdout",
     "output_type": "stream",
     "text": [
      "comparison of T,E sigmas with kappa,g sigmas:\n",
      "ombh2 3.87107539171e-05 0.000440831221394\n",
      "omch2 0.000566866643445 0.000890127314305\n",
      "cosmomc_theta 1.41024241483e-06 1.47199830004e-05\n",
      "As 8.32689303863e-11 2.0507238059e-11\n",
      "ns 0.00169797886032 0.00212105153535\n",
      "tau 0.0195825139419 0.910496254903\n",
      "mnu 0.217177546635 0.0166473588192\n"
     ]
    }
   ],
   "source": [
    "print 'comparison of T,E sigmas with kappa,g sigmas:'\n",
    "#sigmas2 = Fobj.getSigmas()\n",
    "for i,p in enumerate(paramList):\n",
    "    print p, sigmas[i],sigmas2[i]"
   ]
  },
  {
   "cell_type": "markdown",
   "metadata": {},
   "source": [
    "# Combine the Fisher matrices and see smaller sigmas"
   ]
  },
  {
   "cell_type": "code",
   "execution_count": 40,
   "metadata": {
    "collapsed": false
   },
   "outputs": [
    {
     "name": "stdout",
     "output_type": "stream",
     "text": [
      "comparison of sigma(T,E), sigma(kappa,g), and sigma(T,E,kappa,g):\n",
      "\n",
      "+---------------+------------+------------+----------------+\n",
      "|   Parameter   | sigma(T,E) | sigma(k,g) | sigma(T,E,k,g) |\n",
      "+---------------+------------+------------+----------------+\n",
      "|     ombh2     |  3.87e-05  |  0.000441  |    3.13e-05    |\n",
      "|     omch2     |  0.000567  |  0.00089   |    0.000161    |\n",
      "| cosmomc_theta |  1.41e-06  |  1.47e-05  |     5e-07      |\n",
      "|       As      |  8.33e-11  |  2.05e-11  |    1.14e-11    |\n",
      "|       ns      |   0.0017   |  0.00212   |    0.000983    |\n",
      "|      tau      |   0.0196   |    0.91    |    0.00298     |\n",
      "|      mnu      |   0.217    |   0.0166   |    0.00791     |\n",
      "+---------------+------------+------------+----------------+\n"
     ]
    }
   ],
   "source": [
    "print 'comparison of sigma(T,E), sigma(kappa,g), and sigma(T,E,kappa,g):\\n'\n",
    "#FijSum = Fij+Fobj.Fij[:nCosParams,:nCosParams]  #oops, that was the lmin=2 version\n",
    "FijSum = Fij+Fij2[:nCosParams,:nCosParams]   # this one has lmin=50\n",
    "#print FijSum\n",
    "#print FijSum-Fij\n",
    "#print FijSum-Fij2[:nCosParams,:nCosParams]\n",
    "sigmas3 = np.sqrt(np.diag(np.linalg.inv(FijSum)))\n",
    "#for i,p in enumerate(paramList):\n",
    "#    print p, sigmas[i],sigmas2[i],sigmas3[i]\n",
    "    \n",
    "from prettytable import PrettyTable\n",
    "t = PrettyTable(['Parameter', 'sigma(T,E)','sigma(k,g)','sigma(T,E,k,g)'])\n",
    "for i,p in enumerate(paramList):\n",
    "    t.add_row([p,\"%5.3g\" % sigmas[i],\"%5.3g\" % sigmas2[i],\"%5.3g\" % sigmas3[i]])\n",
    "print t"
   ]
  },
  {
   "cell_type": "code",
   "execution_count": 41,
   "metadata": {
    "collapsed": false
   },
   "outputs": [
    {
     "name": "stdout",
     "output_type": "stream",
     "text": [
      "comparison of sigma(T,E), sigma(kappa,g), and sigma(T,E,kappa,g):\n",
      "\n",
      "+---------------+------------+------------+----------------+\n",
      "|   Parameter   | sigma(T,E) | sigma(k,g) | sigma(T,E,k,g) |\n",
      "+---------------+------------+------------+----------------+\n",
      "|     ombh2     |  3.87e-05  |  0.000441  |    3.16e-05    |\n",
      "|     omch2     |  0.000567  |  0.00089   |    0.000249    |\n",
      "| cosmomc_theta |  1.41e-06  |  1.47e-05  |    5.29e-07    |\n",
      "|       As      |  8.33e-11  |  2.05e-11  |    1.55e-11    |\n",
      "|       ns      |   0.0017   |  0.00212   |    0.00113     |\n",
      "|      tau      |   0.0196   |    0.91    |    0.00395     |\n",
      "|      mnu      |   0.217    |   0.0166   |     0.0131     |\n",
      "|      bin1     |       0    |  0.00348   |    0.00246     |\n",
      "|      bin2     |       0    |  0.00305   |    0.00281     |\n",
      "|      bin3     |       0    |  0.00346   |    0.00319     |\n",
      "|      bin4     |       0    |  0.00434   |    0.00382     |\n",
      "+---------------+------------+------------+----------------+\n"
     ]
    }
   ],
   "source": [
    "# the previous result fixed the biases for the combined sigmas.\n",
    "# do a different version without fixing them\n",
    "print 'comparison of sigma(T,E), sigma(kappa,g), and sigma(T,E,kappa,g):\\n'\n",
    "FijSum2 = Fij2.copy()\n",
    "#print FijSum2\n",
    "FijSum2[:nCosParams,:nCosParams] = FijSum2[:nCosParams,:nCosParams] + Fij\n",
    "#print Fij2\n",
    "#print FijSum2\n",
    "#print FijSum2-Fij2\n",
    "\n",
    "sigmas4 = np.append(sigmas,[0,0,0,0])\n",
    "#FijSum = Fij+Fobj.Fij[:nCosParams,:nCosParams]\n",
    "sigmas5 = np.sqrt(np.diag(np.linalg.inv(FijSum2)))\n",
    "#for i,p in enumerate(Fobj.paramList):\n",
    "#    print p, sigmas4[i],sigmas2[i],sigmas5[i]\n",
    "    \n",
    "from prettytable import PrettyTable\n",
    "t = PrettyTable(['Parameter', 'sigma(T,E)','sigma(k,g)','sigma(T,E,k,g)'])\n",
    "for i,p in enumerate(Fobj.paramList):\n",
    "    t.add_row([p,\"%5.3g\" % sigmas4[i],\"%5.3g\" % sigmas2[i],\"%5.3g\" % sigmas5[i]])\n",
    "print t"
   ]
  },
  {
   "cell_type": "code",
   "execution_count": null,
   "metadata": {
    "collapsed": true
   },
   "outputs": [],
   "source": []
  },
  {
   "cell_type": "code",
   "execution_count": null,
   "metadata": {
    "collapsed": true
   },
   "outputs": [],
   "source": []
  },
  {
   "cell_type": "markdown",
   "metadata": {},
   "source": [
    "To add:\n",
    "    switch to halofit\n",
    "    shot noise\n",
    "    lensing recon noise\n",
    "    DE params\n",
    "    Improved bias model  (important but hard; not for 'first paper')\n",
    "    Inverted nu hiearchy: Is there any sensitivity beyond Sigma mnu (transition region)\n",
    "        (drawing: power stepping down for each species instead of one step down with ell)\n",
    "        Ll: guesses probably not"
   ]
  },
  {
   "cell_type": "markdown",
   "metadata": {},
   "source": [
    "priorities: byeonhee,kevin comparisons,\n",
    "    include DE\n",
    "    inverted nu hier\n",
    "    halofit\n",
    "    noise"
   ]
  },
  {
   "cell_type": "code",
   "execution_count": 42,
   "metadata": {
    "collapsed": true
   },
   "outputs": [],
   "source": [
    "# compare to Kevin's result\n",
    "Ksigmas = {\n",
    "    'As' : 8.36787928685e-11,\n",
    "    'cosmomc_theta' : 1.44400712682e-06,\n",
    "    'mnu' : 0.220088883622,\n",
    "    'ns' : 0.00193696953962,\n",
    "    'ombh2' : 4.50012028332e-05,\n",
    "    'omch2' : 0.000630720967738,\n",
    "    'tau' : 0.0196834629721\n",
    "}"
   ]
  },
  {
   "cell_type": "code",
   "execution_count": null,
   "metadata": {
    "collapsed": true
   },
   "outputs": [],
   "source": []
  },
  {
   "cell_type": "code",
   "execution_count": null,
   "metadata": {
    "collapsed": true
   },
   "outputs": [],
   "source": []
  },
  {
   "cell_type": "code",
   "execution_count": null,
   "metadata": {
    "collapsed": true
   },
   "outputs": [],
   "source": []
  },
  {
   "cell_type": "code",
   "execution_count": null,
   "metadata": {
    "collapsed": true
   },
   "outputs": [],
   "source": []
  },
  {
   "cell_type": "code",
   "execution_count": null,
   "metadata": {
    "collapsed": true
   },
   "outputs": [],
   "source": []
  },
  {
   "cell_type": "code",
   "execution_count": null,
   "metadata": {
    "collapsed": true
   },
   "outputs": [],
   "source": []
  },
  {
   "cell_type": "code",
   "execution_count": null,
   "metadata": {
    "collapsed": true
   },
   "outputs": [],
   "source": []
  },
  {
   "cell_type": "code",
   "execution_count": null,
   "metadata": {
    "collapsed": true
   },
   "outputs": [],
   "source": []
  },
  {
   "cell_type": "code",
   "execution_count": null,
   "metadata": {
    "collapsed": true
   },
   "outputs": [],
   "source": []
  },
  {
   "cell_type": "code",
   "execution_count": null,
   "metadata": {
    "collapsed": true
   },
   "outputs": [],
   "source": []
  },
  {
   "cell_type": "code",
   "execution_count": null,
   "metadata": {
    "collapsed": true
   },
   "outputs": [],
   "source": []
  },
  {
   "cell_type": "code",
   "execution_count": null,
   "metadata": {
    "collapsed": true
   },
   "outputs": [],
   "source": []
  },
  {
   "cell_type": "code",
   "execution_count": null,
   "metadata": {
    "collapsed": true
   },
   "outputs": [],
   "source": []
  },
  {
   "cell_type": "code",
   "execution_count": null,
   "metadata": {
    "collapsed": true
   },
   "outputs": [],
   "source": []
  },
  {
   "cell_type": "code",
   "execution_count": 43,
   "metadata": {
    "collapsed": false
   },
   "outputs": [
    {
     "name": "stdout",
     "output_type": "stream",
     "text": [
      "+---------------+--------------+--------------+---------------+\n",
      "|   Parameter   | sigma_Z(T,E) | sigma_K(T,E) | percent diff. |\n",
      "+---------------+--------------+--------------+---------------+\n",
      "|     ombh2     |   3.87e-05   |   4.5e-05    |      16.2     |\n",
      "|     omch2     |   0.000567   |   0.000631   |      11.3     |\n",
      "| cosmomc_theta |   1.41e-06   |   1.44e-06   |      2.39     |\n",
      "|       As      |   8.33e-11   |   8.37e-11   |     0.492     |\n",
      "|       ns      |    0.0017    |   0.00194    |      14.1     |\n",
      "|      tau      |    0.0196    |    0.0197    |     0.516     |\n",
      "|      mnu      |    0.217     |     0.22     |      1.34     |\n",
      "+---------------+--------------+--------------+---------------+\n"
     ]
    }
   ],
   "source": [
    "from prettytable import PrettyTable\n",
    "t = PrettyTable(['Parameter', 'sigma_Z(T,E)','sigma_K(T,E)','percent diff.'])\n",
    "for i,p in enumerate(paramList):\n",
    "    Zi = sigmas[i]\n",
    "    Ki = Ksigmas[paramList[i]]\n",
    "    diff = (Ki-Zi)/Zi *100\n",
    "    t.add_row([p,\"%5.3g\" % Zi,\"%5.3g\" % Ki, \"%5.3g\" % diff ] )\n",
    "print t"
   ]
  },
  {
   "cell_type": "code",
   "execution_count": null,
   "metadata": {
    "collapsed": true
   },
   "outputs": [],
   "source": []
  },
  {
   "cell_type": "code",
   "execution_count": 44,
   "metadata": {
    "collapsed": false
   },
   "outputs": [
    {
     "ename": "ValueError",
     "evalue": "unsupported pickle protocol: 3",
     "output_type": "error",
     "traceback": [
      "\u001b[0;31m---------------------------------------------------------------------------\u001b[0m",
      "\u001b[0;31mValueError\u001b[0m                                Traceback (most recent call last)",
      "\u001b[0;32m<ipython-input-44-e56296f63a24>\u001b[0m in \u001b[0;36m<module>\u001b[0;34m()\u001b[0m\n\u001b[1;32m      1\u001b[0m \u001b[0;31m# check out Kevin's pickle\u001b[0m\u001b[0;34m\u001b[0m\u001b[0;34m\u001b[0m\u001b[0m\n\u001b[1;32m      2\u001b[0m \u001b[0mfilehandler3\u001b[0m \u001b[0;34m=\u001b[0m \u001b[0mopen\u001b[0m\u001b[0;34m(\u001b[0m\u001b[0;34m'test_cov_for_z.pkl'\u001b[0m\u001b[0;34m,\u001b[0m \u001b[0;34m'r'\u001b[0m\u001b[0;34m)\u001b[0m\u001b[0;34m\u001b[0m\u001b[0m\n\u001b[0;32m----> 3\u001b[0;31m \u001b[0mKdict\u001b[0m \u001b[0;34m=\u001b[0m \u001b[0mpickle\u001b[0m\u001b[0;34m.\u001b[0m\u001b[0mload\u001b[0m\u001b[0;34m(\u001b[0m\u001b[0mfilehandler3\u001b[0m\u001b[0;34m)\u001b[0m\u001b[0;34m\u001b[0m\u001b[0m\n\u001b[0m",
      "\u001b[0;32m/sw/lib/python2.7/pickle.pyc\u001b[0m in \u001b[0;36mload\u001b[0;34m(file)\u001b[0m\n\u001b[1;32m   1382\u001b[0m \u001b[0;34m\u001b[0m\u001b[0m\n\u001b[1;32m   1383\u001b[0m \u001b[0;32mdef\u001b[0m \u001b[0mload\u001b[0m\u001b[0;34m(\u001b[0m\u001b[0mfile\u001b[0m\u001b[0;34m)\u001b[0m\u001b[0;34m:\u001b[0m\u001b[0;34m\u001b[0m\u001b[0m\n\u001b[0;32m-> 1384\u001b[0;31m     \u001b[0;32mreturn\u001b[0m \u001b[0mUnpickler\u001b[0m\u001b[0;34m(\u001b[0m\u001b[0mfile\u001b[0m\u001b[0;34m)\u001b[0m\u001b[0;34m.\u001b[0m\u001b[0mload\u001b[0m\u001b[0;34m(\u001b[0m\u001b[0;34m)\u001b[0m\u001b[0;34m\u001b[0m\u001b[0m\n\u001b[0m\u001b[1;32m   1385\u001b[0m \u001b[0;34m\u001b[0m\u001b[0m\n\u001b[1;32m   1386\u001b[0m \u001b[0;32mdef\u001b[0m \u001b[0mloads\u001b[0m\u001b[0;34m(\u001b[0m\u001b[0mstr\u001b[0m\u001b[0;34m)\u001b[0m\u001b[0;34m:\u001b[0m\u001b[0;34m\u001b[0m\u001b[0m\n",
      "\u001b[0;32m/sw/lib/python2.7/pickle.pyc\u001b[0m in \u001b[0;36mload\u001b[0;34m(self)\u001b[0m\n\u001b[1;32m    862\u001b[0m             \u001b[0;32mwhile\u001b[0m \u001b[0;36m1\u001b[0m\u001b[0;34m:\u001b[0m\u001b[0;34m\u001b[0m\u001b[0m\n\u001b[1;32m    863\u001b[0m                 \u001b[0mkey\u001b[0m \u001b[0;34m=\u001b[0m \u001b[0mread\u001b[0m\u001b[0;34m(\u001b[0m\u001b[0;36m1\u001b[0m\u001b[0;34m)\u001b[0m\u001b[0;34m\u001b[0m\u001b[0m\n\u001b[0;32m--> 864\u001b[0;31m                 \u001b[0mdispatch\u001b[0m\u001b[0;34m[\u001b[0m\u001b[0mkey\u001b[0m\u001b[0;34m]\u001b[0m\u001b[0;34m(\u001b[0m\u001b[0mself\u001b[0m\u001b[0;34m)\u001b[0m\u001b[0;34m\u001b[0m\u001b[0m\n\u001b[0m\u001b[1;32m    865\u001b[0m         \u001b[0;32mexcept\u001b[0m \u001b[0m_Stop\u001b[0m\u001b[0;34m,\u001b[0m \u001b[0mstopinst\u001b[0m\u001b[0;34m:\u001b[0m\u001b[0;34m\u001b[0m\u001b[0m\n\u001b[1;32m    866\u001b[0m             \u001b[0;32mreturn\u001b[0m \u001b[0mstopinst\u001b[0m\u001b[0;34m.\u001b[0m\u001b[0mvalue\u001b[0m\u001b[0;34m\u001b[0m\u001b[0m\n",
      "\u001b[0;32m/sw/lib/python2.7/pickle.pyc\u001b[0m in \u001b[0;36mload_proto\u001b[0;34m(self)\u001b[0m\n\u001b[1;32m    890\u001b[0m         \u001b[0mproto\u001b[0m \u001b[0;34m=\u001b[0m \u001b[0mord\u001b[0m\u001b[0;34m(\u001b[0m\u001b[0mself\u001b[0m\u001b[0;34m.\u001b[0m\u001b[0mread\u001b[0m\u001b[0;34m(\u001b[0m\u001b[0;36m1\u001b[0m\u001b[0;34m)\u001b[0m\u001b[0;34m)\u001b[0m\u001b[0;34m\u001b[0m\u001b[0m\n\u001b[1;32m    891\u001b[0m         \u001b[0;32mif\u001b[0m \u001b[0;32mnot\u001b[0m \u001b[0;36m0\u001b[0m \u001b[0;34m<=\u001b[0m \u001b[0mproto\u001b[0m \u001b[0;34m<=\u001b[0m \u001b[0;36m2\u001b[0m\u001b[0;34m:\u001b[0m\u001b[0;34m\u001b[0m\u001b[0m\n\u001b[0;32m--> 892\u001b[0;31m             \u001b[0;32mraise\u001b[0m \u001b[0mValueError\u001b[0m\u001b[0;34m,\u001b[0m \u001b[0;34m\"unsupported pickle protocol: %d\"\u001b[0m \u001b[0;34m%\u001b[0m \u001b[0mproto\u001b[0m\u001b[0;34m\u001b[0m\u001b[0m\n\u001b[0m\u001b[1;32m    893\u001b[0m     \u001b[0mdispatch\u001b[0m\u001b[0;34m[\u001b[0m\u001b[0mPROTO\u001b[0m\u001b[0;34m]\u001b[0m \u001b[0;34m=\u001b[0m \u001b[0mload_proto\u001b[0m\u001b[0;34m\u001b[0m\u001b[0m\n\u001b[1;32m    894\u001b[0m \u001b[0;34m\u001b[0m\u001b[0m\n",
      "\u001b[0;31mValueError\u001b[0m: unsupported pickle protocol: 3"
     ]
    }
   ],
   "source": [
    "# check out Kevin's pickle\n",
    "filehandler3 = open('test_cov_for_z.pkl', 'r') \n",
    "Kdict = pickle.load(filehandler3) "
   ]
  },
  {
   "cell_type": "code",
   "execution_count": null,
   "metadata": {
    "collapsed": true
   },
   "outputs": [],
   "source": []
  },
  {
   "cell_type": "code",
   "execution_count": null,
   "metadata": {
    "collapsed": true
   },
   "outputs": [],
   "source": []
  },
  {
   "cell_type": "code",
   "execution_count": null,
   "metadata": {
    "collapsed": true
   },
   "outputs": [],
   "source": []
  },
  {
   "cell_type": "code",
   "execution_count": null,
   "metadata": {
    "collapsed": true
   },
   "outputs": [],
   "source": []
  },
  {
   "cell_type": "code",
   "execution_count": null,
   "metadata": {
    "collapsed": true
   },
   "outputs": [],
   "source": []
  },
  {
   "cell_type": "code",
   "execution_count": null,
   "metadata": {
    "collapsed": true
   },
   "outputs": [],
   "source": []
  },
  {
   "cell_type": "code",
   "execution_count": null,
   "metadata": {
    "collapsed": true
   },
   "outputs": [],
   "source": []
  },
  {
   "cell_type": "code",
   "execution_count": null,
   "metadata": {
    "collapsed": true
   },
   "outputs": [],
   "source": []
  },
  {
   "cell_type": "code",
   "execution_count": null,
   "metadata": {
    "collapsed": true
   },
   "outputs": [],
   "source": []
  }
 ],
 "metadata": {
  "kernelspec": {
   "display_name": "Python 2",
   "language": "python",
   "name": "python2"
  },
  "language_info": {
   "codemirror_mode": {
    "name": "ipython",
    "version": 2
   },
   "file_extension": ".py",
   "mimetype": "text/x-python",
   "name": "python",
   "nbconvert_exporter": "python",
   "pygments_lexer": "ipython2",
   "version": "2.7.13"
  }
 },
 "nbformat": 4,
 "nbformat_minor": 0
}
