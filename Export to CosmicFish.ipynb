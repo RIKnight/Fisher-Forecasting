{
 "cells": [
  {
   "cell_type": "markdown",
   "metadata": {},
   "source": [
    "# Export FisherCl results in format for reading by CosmicFish plotting library"
   ]
  },
  {
   "cell_type": "code",
   "execution_count": 1,
   "metadata": {},
   "outputs": [],
   "source": [
    "import crosspower as cp\n",
    "import FisherCl as fcl # branch quickCl\n",
    "#import camb\n",
    "\n",
    "# set plotting to be in the notebook instead of its own qt window\n",
    "%matplotlib inline"
   ]
  },
  {
   "cell_type": "code",
   "execution_count": 2,
   "metadata": {},
   "outputs": [
    {
     "name": "stdout",
     "output_type": "stream",
     "text": [
      "[ 0.  1.  2.  3.  4.  5.  6.  8.  9. 10. 11. 12. 13. 16. 17. 18. 19. 20.\n",
      " 24. 25. 26. 27. 32. 33. 34. 40. 41. 48.]\n",
      "['k,k', 'k,g1', 'k,g2', 'k,g3', 'k,g4', 'k,g5', 'k,g6', 'g1,g1', 'g1,g2', 'g1,g3', 'g1,g4', 'g1,g5', 'g1,g6', 'g2,g2', 'g2,g3', 'g2,g4', 'g2,g5', 'g2,g6', 'g3,g3', 'g3,g4', 'g3,g5', 'g3,g6', 'g4,g4', 'g4,g5', 'g4,g6', 'g5,g5', 'g5,g6', 'g6,g6']\n",
      "['ombh2', 'omch2', 'cosmomc_theta', 'As', 'ns', 'tau', 'mnu', 'w', 'bin1', 'bin2', 'bin3', 'bin4', 'bin5', 'bin6']\n"
     ]
    }
   ],
   "source": [
    "# load saved Fobj\n",
    "# get lensing and galaxy Fisher matrix\n",
    "\n",
    "import FisherCl as fcl\n",
    "import crosspower as cp\n",
    "import pickle\n",
    "\n",
    "#filehandler = open('Fisher_4_1Y.obj','r') # AccuracyBoost=3, lmax=3000, lmaxP=5000; nz=3e5; nonlinear=True,\n",
    "#neutrino_hierarchy = 'normal', usePrimaryCMB = True; from FisherCl branch quickCl\n",
    "# this one used fiducial params and values to match CMB-S4 Science book verification table 8.1\n",
    "\n",
    "#filehandler = open('Fisher_7_6X.obj','r') # AccuracyBoost=3, lmax=2000, nz=3e5; nonlinear=False,\n",
    "#neutrino_hierarchy = 'normal', usePrimaryCMB = False; from FisherCl branch quickCl\n",
    "# kludge for this one: told cp.getDNDZinterp to use modelDNDZ3; set cp.tophat beesBins=True\n",
    "\n",
    "#filehandler = open('Fisher_7_6X_n1.obj','r') # AccuracyBoost=3, lmax=2000, nz=3e5; nonlinear=False,\n",
    "#neutrino_hierarchy = 'normal', usePrimaryCMB = False; from FisherCl branch quickCl\n",
    "# kludge for this one: told cp.getDNDZinterp to use modelDNDZ3; set cp.tophat beesBins=True\n",
    "# n1 for noise1; has kk noise but no gg\n",
    "\n",
    "filehandler = open('Fisher_7_6X_n2.obj','r') # AccuracyBoost=3, lmax=2000, nz=3e5; nonlinear=False,\n",
    "#neutrino_hierarchy = 'normal', usePrimaryCMB = False; from FisherCl branch quickCl\n",
    "# kludge for this one: told cp.getDNDZinterp to use modelDNDZ3; set cp.tophat beesBins=True\n",
    "# n2 for noise2; has kk noise and gg\n",
    "\n",
    "\n",
    "Fobj = pickle.load(filehandler) \n",
    "\n",
    "\n",
    "lmin = Fobj.lmin\n",
    "lmax = Fobj.lmax\n",
    "nMaps = Fobj.nBins + 1\n",
    "nCosParams = Fobj.nParams - Fobj.nBins\n",
    "ells = Fobj.ells\n",
    "obsNames = Fobj.obsNames\n",
    "paramList = Fobj.paramList\n",
    "\n",
    "print Fobj.obsList\n",
    "print Fobj.obsNames\n",
    "print Fobj.paramList\n"
   ]
  },
  {
   "cell_type": "code",
   "execution_count": 3,
   "metadata": {},
   "outputs": [
    {
     "name": "stdout",
     "output_type": "stream",
     "text": [
      "[[ 5.33380074e+10 -2.47071699e+10  2.08349036e+06 -4.84348021e+17\n",
      "  -3.57355218e+08 -7.14692899e+08  2.81158706e+08  5.01249395e+08]\n",
      " [-2.47071699e+10  2.40617447e+10 -1.25868675e+07  7.11684914e+17\n",
      "   1.04921856e+09  7.97406908e+07 -4.00674445e+08 -5.65024890e+08]\n",
      " [ 2.08349036e+06 -1.25868675e+07  1.15021430e+04 -4.79005022e+14\n",
      "  -8.40154387e+05  2.18483710e+05  2.69153462e+05  3.32078185e+05]\n",
      " [-4.84348021e+17  7.11684914e+17 -4.79005022e+14  2.37991651e+25\n",
      "   3.70825142e+16 -4.62891359e+15 -1.31935428e+16 -1.75564716e+16]\n",
      " [-3.57355218e+08  1.04921856e+09 -8.40154387e+05  3.70825142e+16\n",
      "   7.61059412e+07 -1.58113362e+07 -2.05418722e+07 -2.63796070e+07]\n",
      " [-7.14692899e+08  7.97406908e+07  2.18483710e+05 -4.62891359e+15\n",
      "  -1.58113362e+07  1.99954722e+07  1.81219208e+06  6.44740233e+04]\n",
      " [ 2.81158706e+08 -4.00674445e+08  2.69153462e+05 -1.31935428e+16\n",
      "  -2.05418722e+07  1.81219208e+06  7.41472154e+06  9.87134531e+06]\n",
      " [ 5.01249395e+08 -5.65024890e+08  3.32078185e+05 -1.75564716e+16\n",
      "  -2.63796070e+07  6.44740233e+04  9.87134531e+06  1.35608842e+07]]\n"
     ]
    }
   ],
   "source": [
    "# that Fobj has no FijTE, so load that one here:\n",
    "#Fij_TE = np.loadtxt('Fij_TE2.dat')  #only TE, with noise\n",
    "Fij_TE = np.loadtxt('Fij_TEk.dat')  #with k  # no fsky applied # uses H0,not thetaMC\n",
    "print Fij_TE"
   ]
  },
  {
   "cell_type": "code",
   "execution_count": null,
   "metadata": {},
   "outputs": [],
   "source": []
  },
  {
   "cell_type": "code",
   "execution_count": 4,
   "metadata": {},
   "outputs": [],
   "source": [
    "#print Fobj.Fij"
   ]
  },
  {
   "cell_type": "code",
   "execution_count": null,
   "metadata": {},
   "outputs": [],
   "source": []
  },
  {
   "cell_type": "code",
   "execution_count": 5,
   "metadata": {},
   "outputs": [],
   "source": [
    "# convert As to 10^-9 As.  This is necessary for the CosmicFish library to work properly\n",
    "AsIndex = 3\n",
    "Fij_kg = Fobj.Fij\n",
    "Fij_kg[AsIndex,:] *= 1e-9\n",
    "Fij_kg[:,AsIndex] *= 1e-9\n",
    "Fij_TE[AsIndex,:] *= 1e-9\n",
    "Fij_TE[:,AsIndex] *= 1e-9"
   ]
  },
  {
   "cell_type": "code",
   "execution_count": 6,
   "metadata": {},
   "outputs": [
    {
     "name": "stdout",
     "output_type": "stream",
     "text": [
      "[[ 1.00000000e+00  0.00000000e+00  0.00000000e+00  0.00000000e+00\n",
      "   0.00000000e+00  0.00000000e+00  0.00000000e+00  0.00000000e+00\n",
      "   0.00000000e+00  0.00000000e+00  0.00000000e+00  0.00000000e+00\n",
      "   0.00000000e+00  0.00000000e+00]\n",
      " [ 0.00000000e+00  1.00000000e+00  0.00000000e+00  0.00000000e+00\n",
      "   0.00000000e+00  0.00000000e+00  0.00000000e+00  0.00000000e+00\n",
      "   0.00000000e+00  0.00000000e+00  0.00000000e+00  0.00000000e+00\n",
      "   0.00000000e+00  0.00000000e+00]\n",
      " [-2.48396985e-02  1.04553864e-02  2.96219516e-05  0.00000000e+00\n",
      "   0.00000000e+00  0.00000000e+00  1.93470000e-04  9.34810000e-04\n",
      "   0.00000000e+00  0.00000000e+00  0.00000000e+00  0.00000000e+00\n",
      "   0.00000000e+00  0.00000000e+00]\n",
      " [ 0.00000000e+00  0.00000000e+00  0.00000000e+00  1.00000000e+00\n",
      "   0.00000000e+00  0.00000000e+00  0.00000000e+00  0.00000000e+00\n",
      "   0.00000000e+00  0.00000000e+00  0.00000000e+00  0.00000000e+00\n",
      "   0.00000000e+00  0.00000000e+00]\n",
      " [ 0.00000000e+00  0.00000000e+00  0.00000000e+00  0.00000000e+00\n",
      "   1.00000000e+00  0.00000000e+00  0.00000000e+00  0.00000000e+00\n",
      "   0.00000000e+00  0.00000000e+00  0.00000000e+00  0.00000000e+00\n",
      "   0.00000000e+00  0.00000000e+00]\n",
      " [ 0.00000000e+00  0.00000000e+00  0.00000000e+00  0.00000000e+00\n",
      "   0.00000000e+00  1.00000000e+00  0.00000000e+00  0.00000000e+00\n",
      "   0.00000000e+00  0.00000000e+00  0.00000000e+00  0.00000000e+00\n",
      "   0.00000000e+00  0.00000000e+00]\n",
      " [ 0.00000000e+00  0.00000000e+00  0.00000000e+00  0.00000000e+00\n",
      "   0.00000000e+00  0.00000000e+00  1.00000000e+00  0.00000000e+00\n",
      "   0.00000000e+00  0.00000000e+00  0.00000000e+00  0.00000000e+00\n",
      "   0.00000000e+00  0.00000000e+00]\n",
      " [ 0.00000000e+00  0.00000000e+00  0.00000000e+00  0.00000000e+00\n",
      "   0.00000000e+00  0.00000000e+00  0.00000000e+00  1.00000000e+00\n",
      "   0.00000000e+00  0.00000000e+00  0.00000000e+00  0.00000000e+00\n",
      "   0.00000000e+00  0.00000000e+00]\n",
      " [ 0.00000000e+00  0.00000000e+00  0.00000000e+00  0.00000000e+00\n",
      "   0.00000000e+00  0.00000000e+00  0.00000000e+00  0.00000000e+00\n",
      "   1.00000000e+00  0.00000000e+00  0.00000000e+00  0.00000000e+00\n",
      "   0.00000000e+00  0.00000000e+00]\n",
      " [ 0.00000000e+00  0.00000000e+00  0.00000000e+00  0.00000000e+00\n",
      "   0.00000000e+00  0.00000000e+00  0.00000000e+00  0.00000000e+00\n",
      "   0.00000000e+00  1.00000000e+00  0.00000000e+00  0.00000000e+00\n",
      "   0.00000000e+00  0.00000000e+00]\n",
      " [ 0.00000000e+00  0.00000000e+00  0.00000000e+00  0.00000000e+00\n",
      "   0.00000000e+00  0.00000000e+00  0.00000000e+00  0.00000000e+00\n",
      "   0.00000000e+00  0.00000000e+00  1.00000000e+00  0.00000000e+00\n",
      "   0.00000000e+00  0.00000000e+00]\n",
      " [ 0.00000000e+00  0.00000000e+00  0.00000000e+00  0.00000000e+00\n",
      "   0.00000000e+00  0.00000000e+00  0.00000000e+00  0.00000000e+00\n",
      "   0.00000000e+00  0.00000000e+00  0.00000000e+00  1.00000000e+00\n",
      "   0.00000000e+00  0.00000000e+00]\n",
      " [ 0.00000000e+00  0.00000000e+00  0.00000000e+00  0.00000000e+00\n",
      "   0.00000000e+00  0.00000000e+00  0.00000000e+00  0.00000000e+00\n",
      "   0.00000000e+00  0.00000000e+00  0.00000000e+00  0.00000000e+00\n",
      "   1.00000000e+00  0.00000000e+00]\n",
      " [ 0.00000000e+00  0.00000000e+00  0.00000000e+00  0.00000000e+00\n",
      "   0.00000000e+00  0.00000000e+00  0.00000000e+00  0.00000000e+00\n",
      "   0.00000000e+00  0.00000000e+00  0.00000000e+00  0.00000000e+00\n",
      "   0.00000000e+00  1.00000000e+00]]\n"
     ]
    }
   ],
   "source": [
    "# convert Fij_kg from cosmomc_theta to H0\n",
    "# dthetas calculated in 'Rebuild covar with noise'\n",
    "dthetas = [-0.0248396985185, 0.0104553863834, 2.96219516316e-05, 0.0, 0.0, 0.0, \n",
    "           0.00019347, 0.00093481, # mnu,w\n",
    "           0.0, 0.0, 0.0, 0.0, 0.0, 0.0] # these for bin biases.  confirm they are 0, please.\n",
    "# The only derivatives in the Jacobian are on the dtheta/dparam row.\n",
    "mcIndex = 2\n",
    "jacobian = np.diag(np.ones(Fobj.nParams))\n",
    "jacobian[mcIndex,:] = dthetas#*100\n",
    "#jacobian[:,mcIndex] = dthetas#*100\n",
    "\n",
    "# multiply these all by d{100thetamc}/d{thetamc} = 100\n",
    "#jacobian[mcIndex,:] *= 100\n",
    "#jacobian[:,mcIndex] *= 100\n",
    "\n",
    "print jacobian"
   ]
  },
  {
   "cell_type": "code",
   "execution_count": 7,
   "metadata": {},
   "outputs": [
    {
     "name": "stdout",
     "output_type": "stream",
     "text": [
      "[[ 3.86080568e+09 -2.73110390e+09 -3.39093176e+05 -8.93106444e+07\n",
      "  -3.19771041e+08  3.06059651e+05  7.13234091e+07  4.96129664e+06\n",
      "  -4.10262647e+07 -3.80602444e+07 -2.65855334e+07 -1.76367713e+07\n",
      "  -1.09242047e+07 -2.00538521e+07]\n",
      " [-2.73110390e+09  2.07150129e+09  1.15303591e+05  6.65375445e+07\n",
      "   2.53099244e+08 -2.32091632e+05 -5.32596343e+07 -9.58331691e+06\n",
      "   3.72161805e+07  3.22149357e+07  2.16795903e+07  1.42577345e+07\n",
      "   8.75021046e+06  9.79202783e+06]\n",
      " [-3.39093176e+05  1.15303591e+05  1.77198815e+02  5.65308107e+03\n",
      "   1.35822737e+03 -1.63740634e+01 -4.35009215e+03  8.54867305e+03\n",
      "  -4.76484149e+03 -1.15773490e+02  1.28224743e+03  1.08166589e+03\n",
      "   8.37201173e+02  4.84007493e+03]\n",
      " [-8.93106444e+07  6.65375445e+07  5.65308107e+03  2.18323860e+06\n",
      "   7.81570012e+06 -7.56487926e+03 -1.73508697e+06 -1.80930366e+05\n",
      "   1.06071382e+06  9.98331747e+05  7.17572850e+05  4.91472854e+05\n",
      "   3.14180096e+05  3.44810040e+05]\n",
      " [-3.19771041e+08  2.53099244e+08  1.35822737e+03  7.81570012e+06\n",
      "   3.38669522e+07 -2.78500001e+04 -6.39233240e+06 -1.96632224e+06\n",
      "   6.24505416e+06  4.44743232e+06  2.50800634e+06  1.46161075e+06\n",
      "   7.83236871e+05  8.74055845e+05]\n",
      " [ 3.06059651e+05 -2.32091632e+05 -1.63740634e+01 -7.56487926e+03\n",
      "  -2.78500001e+04  2.64626666e+01  6.04562214e+03  7.55454700e+02\n",
      "  -4.07354639e+03 -3.71418252e+03 -2.60084187e+03 -1.72425226e+03\n",
      "  -1.03167388e+03 -1.03095072e+03]\n",
      " [ 7.13234091e+07 -5.32596343e+07 -4.35009215e+03 -1.73508697e+06\n",
      "  -6.39233240e+06  6.04562214e+03  1.38997040e+06  1.67996734e+05\n",
      "  -9.45786967e+05 -8.50704543e+05 -5.69840157e+05 -3.69647461e+05\n",
      "  -2.20688640e+05 -2.73174770e+05]\n",
      " [ 4.96129664e+06 -9.58331691e+06  8.54867305e+03 -1.80930366e+05\n",
      "  -1.96632224e+06  7.55454700e+02  1.67996734e+05  6.78351387e+05\n",
      "  -7.97396444e+05 -1.94891561e+05  6.24555492e+04  7.70207088e+04\n",
      "   6.31712548e+04  6.71773448e+04]\n",
      " [-4.10262647e+07  3.72161805e+07 -4.76484149e+03  1.06071382e+06\n",
      "   6.24505416e+06 -4.07354639e+03 -9.45786967e+05 -7.97396444e+05\n",
      "   3.57081638e+06  3.66955850e-01  6.51880480e-01  1.17249005e+00\n",
      "   6.73769852e-01  3.00370231e-04]\n",
      " [-3.80602444e+07  3.22149357e+07 -1.15773490e+02  9.98331747e+05\n",
      "   4.44743232e+06 -3.71418252e+03 -8.50704543e+05 -1.94891561e+05\n",
      "   3.66955850e-01  2.52993062e+06  5.62690105e-01  1.00332362e+00\n",
      "   5.70487467e-01  2.60268213e-04]\n",
      " [-2.65855334e+07  2.16795903e+07  1.28224743e+03  7.17572850e+05\n",
      "   2.50800634e+06 -2.60084187e+03 -5.69840157e+05  6.24555492e+04\n",
      "   6.51880480e-01  5.62690105e-01  1.32035143e+06  1.78268553e+00\n",
      "   1.01321378e+00  4.62672676e-04]\n",
      " [-1.76367713e+07  1.42577345e+07  1.08166589e+03  4.91472854e+05\n",
      "   1.46161075e+06 -1.72425226e+03 -3.69647461e+05  7.70207088e+04\n",
      "   1.17249005e+00  1.00332362e+00  1.78268553e+00  7.30856778e+05\n",
      "   1.82921635e+00  8.22645206e-04]\n",
      " [-1.09242047e+07  8.75021046e+06  8.37201173e+02  3.14180096e+05\n",
      "   7.83236871e+05 -1.03167388e+03 -2.20688640e+05  6.31712548e+04\n",
      "   6.73769852e-01  5.70487467e-01  1.01321378e+00  1.82921635e+00\n",
      "   3.69314252e+05  4.66153340e-04]\n",
      " [-2.00538521e+07  9.79202783e+06  4.84007493e+03  3.44810040e+05\n",
      "   8.74055845e+05 -1.03095072e+03 -2.73174770e+05  6.71773448e+04\n",
      "   3.00370070e-04  2.60268107e-04  4.62672581e-04  8.22645050e-04\n",
      "   4.66153337e-04  2.75330378e+05]]\n"
     ]
    }
   ],
   "source": [
    "# jacobian-it-up\n",
    "Fij_kg = np.dot(jacobian.T,np.dot(Fij_kg,jacobian))\n",
    "print Fij_kg\n",
    "paramList[2] = 'H0'\n",
    "print paramList"
   ]
  },
  {
   "cell_type": "code",
   "execution_count": null,
   "metadata": {},
   "outputs": [],
   "source": []
  },
  {
   "cell_type": "code",
   "execution_count": 8,
   "metadata": {},
   "outputs": [],
   "source": [
    "# setup for saving files in directory structure\n",
    "import os\n",
    "\n",
    "def createFolder(directory):\n",
    "    try:\n",
    "        if not os.path.exists(directory):\n",
    "            os.makedirs(directory)\n",
    "    except OSError:\n",
    "        print ('Error: Creating directory. ' +  directory)\n"
   ]
  },
  {
   "cell_type": "code",
   "execution_count": 9,
   "metadata": {},
   "outputs": [],
   "source": [
    "#dirName = 'Z_test_2n2' # uses TE with noise, no k\n",
    "dirName = 'Z_test_2n3' # uses TEk with noise\n",
    "createFolder(dirName)\n",
    "\n",
    "createFolder(dirName+'/parameters_analysis')\n",
    "createFolder(dirName+'/raw_results')\n",
    "createFolder(dirName+'/results')"
   ]
  },
  {
   "cell_type": "code",
   "execution_count": 10,
   "metadata": {},
   "outputs": [
    {
     "name": "stdout",
     "output_type": "stream",
     "text": [
      "[1.27067632 1.69710864 2.3610698  2.91412519 3.65051625 5.32683556]\n"
     ]
    }
   ],
   "source": [
    "# get binBs\n",
    "binBs = Fobj.binBs\n",
    "print binBs"
   ]
  },
  {
   "cell_type": "code",
   "execution_count": null,
   "metadata": {},
   "outputs": [],
   "source": []
  },
  {
   "cell_type": "code",
   "execution_count": 11,
   "metadata": {},
   "outputs": [],
   "source": [
    "# create combined Fisher matrix\n",
    "#Fij_kg = Fobj.Fij\n",
    "Fij_kgTE = Fij_kg.copy()\n",
    "Fij_kgTE[:nCosParams,:nCosParams] += Fij_TE \n"
   ]
  },
  {
   "cell_type": "code",
   "execution_count": null,
   "metadata": {},
   "outputs": [],
   "source": []
  },
  {
   "cell_type": "code",
   "execution_count": 12,
   "metadata": {},
   "outputs": [
    {
     "data": {
      "text/plain": [
       "\"\\nos.chdir(dirName+'/raw_results')\\n\\nnp.savetxt('1_'+dirName+'_fisher_matrix_Fijkg_cls.dat',Fij_kg)\\nnp.savetxt('2_'+dirName+'_fisher_matrix_FijTE_cls.dat',Fij_TE)\\nnp.savetxt('3_'+dirName+'_fisher_matrix_FijkgTE_cls.dat',Fij_kgTE)\\n\\n# add some code to do the .paramnames files too... but not now\\n\\nos.chdir('../..')\\n\""
      ]
     },
     "execution_count": 12,
     "metadata": {},
     "output_type": "execute_result"
    }
   ],
   "source": [
    "# fill the raw_results directory\n",
    "\"\"\"\n",
    "os.chdir(dirName+'/raw_results')\n",
    "\n",
    "np.savetxt('1_'+dirName+'_fisher_matrix_Fijkg_cls.dat',Fij_kg)\n",
    "np.savetxt('2_'+dirName+'_fisher_matrix_FijTE_cls.dat',Fij_TE)\n",
    "np.savetxt('3_'+dirName+'_fisher_matrix_FijkgTE_cls.dat',Fij_kgTE)\n",
    "\n",
    "# add some code to do the .paramnames files too... but not now\n",
    "\n",
    "os.chdir('../..')\n",
    "\"\"\""
   ]
  },
  {
   "cell_type": "code",
   "execution_count": null,
   "metadata": {},
   "outputs": [],
   "source": []
  },
  {
   "cell_type": "markdown",
   "metadata": {},
   "source": [
    "# Try a version where I put increasing priors on mnu"
   ]
  },
  {
   "cell_type": "code",
   "execution_count": 17,
   "metadata": {},
   "outputs": [
    {
     "name": "stdout",
     "output_type": "stream",
     "text": [
      "['ombh2', 'omch2', 'H0', 'As', 'ns', 'tau', 'mnu', 'w', 'bin1', 'bin2', 'bin3', 'bin4', 'bin5', 'bin6']\n"
     ]
    }
   ],
   "source": [
    "print paramNames"
   ]
  },
  {
   "cell_type": "code",
   "execution_count": 20,
   "metadata": {},
   "outputs": [],
   "source": [
    "# define some mnu priors\n",
    "sigmaMnu1 = 0.03\n",
    "sigmaMnu2 = 0.01\n",
    "sigmaMnu3 = 0.003\n",
    "\n",
    "# copy Fisher matrix\n",
    "Fij_plus1 = Fij_kgTE.copy()\n",
    "Fij_plus2 = Fij_kgTE.copy()\n",
    "Fij_plus3 = Fij_kgTE.copy()\n",
    "\n",
    "# add priors\n",
    "mnuIndex = 6\n",
    "Fij_plus1[mnuIndex,mnuIndex] += sigmaMnu1**-2\n",
    "Fij_plus2[mnuIndex,mnuIndex] += sigmaMnu2**-2\n",
    "Fij_plus3[mnuIndex,mnuIndex] += sigmaMnu3**-2"
   ]
  },
  {
   "cell_type": "code",
   "execution_count": 22,
   "metadata": {},
   "outputs": [
    {
     "name": "stdout",
     "output_type": "stream",
     "text": [
      "8804691.939374954\n",
      "8805803.050486065\n",
      "8814691.939374954\n",
      "8915803.050486065\n"
     ]
    }
   ],
   "source": [
    "print Fij_kgTE[mnuIndex,mnuIndex]\n",
    "print Fij_plus1[mnuIndex,mnuIndex]\n",
    "print Fij_plus2[mnuIndex,mnuIndex]\n",
    "print Fij_plus3[mnuIndex,mnuIndex]"
   ]
  },
  {
   "cell_type": "code",
   "execution_count": null,
   "metadata": {},
   "outputs": [],
   "source": []
  },
  {
   "cell_type": "code",
   "execution_count": 23,
   "metadata": {},
   "outputs": [],
   "source": [
    "# save Fisher matrices\n",
    "dirName = 'Z_test_3' # priors on mnu\n",
    "createFolder(dirName)\n",
    "\n",
    "createFolder(dirName+'/parameters_analysis')\n",
    "createFolder(dirName+'/raw_results')\n",
    "createFolder(dirName+'/results')\n",
    "\n",
    "os.chdir(dirName+'/raw_results')\n",
    "\n",
    "np.savetxt('1_'+dirName+'_fisher_matrix_FijkgTE_cls.dat',Fij_kgTE)\n",
    "np.savetxt('2_'+dirName+'_fisher_matrix_Fij_plus1_cls.dat',Fij_plus1)\n",
    "np.savetxt('3_'+dirName+'_fisher_matrix_Fij_plus2_cls.dat',Fij_plus2)\n",
    "np.savetxt('4_'+dirName+'_fisher_matrix_Fij_plus3_cls.dat',Fij_plus3)\n",
    "\n",
    "# add some code to do the .paramnames files too... but not now\n",
    "\n",
    "os.chdir('../..')"
   ]
  },
  {
   "cell_type": "code",
   "execution_count": null,
   "metadata": {},
   "outputs": [],
   "source": []
  },
  {
   "cell_type": "code",
   "execution_count": null,
   "metadata": {},
   "outputs": [],
   "source": []
  },
  {
   "cell_type": "code",
   "execution_count": null,
   "metadata": {},
   "outputs": [],
   "source": []
  },
  {
   "cell_type": "code",
   "execution_count": null,
   "metadata": {},
   "outputs": [],
   "source": []
  },
  {
   "cell_type": "code",
   "execution_count": null,
   "metadata": {},
   "outputs": [],
   "source": []
  },
  {
   "cell_type": "code",
   "execution_count": null,
   "metadata": {},
   "outputs": [],
   "source": []
  },
  {
   "cell_type": "code",
   "execution_count": null,
   "metadata": {},
   "outputs": [],
   "source": []
  },
  {
   "cell_type": "code",
   "execution_count": null,
   "metadata": {},
   "outputs": [],
   "source": []
  },
  {
   "cell_type": "code",
   "execution_count": null,
   "metadata": {},
   "outputs": [],
   "source": []
  },
  {
   "cell_type": "code",
   "execution_count": null,
   "metadata": {},
   "outputs": [],
   "source": []
  }
 ],
 "metadata": {
  "kernelspec": {
   "display_name": "Python 2",
   "language": "python",
   "name": "python2"
  },
  "language_info": {
   "codemirror_mode": {
    "name": "ipython",
    "version": 2
   },
   "file_extension": ".py",
   "mimetype": "text/x-python",
   "name": "python",
   "nbconvert_exporter": "python",
   "pygments_lexer": "ipython2",
   "version": "2.7.15"
  }
 },
 "nbformat": 4,
 "nbformat_minor": 2
}
