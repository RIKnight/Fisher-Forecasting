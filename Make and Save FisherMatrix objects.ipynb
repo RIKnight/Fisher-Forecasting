{
 "cells": [
  {
   "cell_type": "markdown",
   "metadata": {},
   "source": [
    "# Make and Save FisherMatrix objects"
   ]
  },
  {
   "cell_type": "code",
   "execution_count": 1,
   "metadata": {},
   "outputs": [
    {
     "name": "stderr",
     "output_type": "stream",
     "text": [
      "IMPORT ERROR: /opt/local/Library/Frameworks/Python.framework/Versions/2.7/lib/python2.7/site-packages/quicklens/mpi.pyc (No module named pypar). Could not load pbs or pypar. MPI will not be used.\n"
     ]
    }
   ],
   "source": [
    "import crosspower as cp\n",
    "import FisherCl as fcl # branch quickCl\n",
    "#import camb\n",
    "\n",
    "# set plotting to be in the notebook instead of its own qt window\n",
    "%matplotlib inline"
   ]
  },
  {
   "cell_type": "code",
   "execution_count": 2,
   "metadata": {},
   "outputs": [],
   "source": [
    "# set cosmological parameters\n",
    "# copied from FisherCl\n",
    "\"\"\"\n",
    "cosParams = {\n",
    "        'H0'    : None, #67.51, #setting H0=None allows cosmomc_theta to be used instead\n",
    "        'cosmomc_theta'           : 1.04087e-2,\n",
    "        'ombh2' : 0.02226,\n",
    "        'omch2' : 0.1193,\n",
    "        'omk'   : 0,\n",
    "        'tau'   : 0.063,\n",
    "\n",
    "        'As'    : 2.130e-9,\n",
    "        'ns'    : 0.9653,\n",
    "        'r'     : 0,\n",
    "        'kPivot': 0.05,\n",
    "\n",
    "        'w'     : -1.0, # DARK ENERGY!!!\n",
    "        'wa'    : 0.0,\n",
    "\n",
    "        # if fiducial mnu is changed, need to adjust omch2 as well\n",
    "        'mnu'   : 0.06, # (eV)\n",
    "        #'mnu'   : 0.058, # Lloyd suggested this value for fiducial; adjust omch2 if I do use it\n",
    "        'nnu'   : 3.046,\n",
    "        'standard_neutrino_neff'  : 3.046,\n",
    "        'num_massive_neutrinos'   : 1}#,\n",
    "        #'neutrino_hierarchy'      : 'normal'}\n",
    "\"\"\"\n",
    "\n",
    "# modified to match CMB-S4 science book fiducial values\n",
    "# also need to modify parameter list in FisherMatrix to include H0\n",
    "cosParams = {\n",
    "        'H0'    : 69, #setting H0=None allows cosmomc_theta to be used instead\n",
    "        'cosmomc_theta'           : None,\n",
    "        'ombh2' : 0.0222,\n",
    "        'omch2' : 0.120,\n",
    "        'omk'   : 0,\n",
    "        'tau'   : 0.06,\n",
    "\n",
    "        'As'    : 2.20e-9,\n",
    "        'ns'    : 0.966,\n",
    "        'r'     : 0,\n",
    "        'kPivot': 0.05,\n",
    "\n",
    "        'w'     : -1.0, # DARK ENERGY!!!\n",
    "        'wa'    : 0.0,\n",
    "\n",
    "        # if fiducial mnu is changed, need to adjust omch2 as well\n",
    "        'mnu'   : 0.06, # (eV)\n",
    "        #'mnu'   : 0.058, # Lloyd suggested this value for fiducial; adjust omch2 if I do use it\n",
    "        'nnu'   : 3.046,\n",
    "        'standard_neutrino_neff'  : 3.046,\n",
    "        'num_massive_neutrinos'   : 1}#,\n",
    "        #'neutrino_hierarchy'      : 'normal'}\n"
   ]
  },
  {
   "cell_type": "code",
   "execution_count": 3,
   "metadata": {
    "scrolled": true
   },
   "outputs": [
    {
     "name": "stderr",
     "output_type": "stream",
     "text": [
      "WARNING:root:accuracy parameters are changed globally, not yet per parameter set\n"
     ]
    },
    {
     "name": "stdout",
     "output_type": "stream",
     "text": [
      "creating MatterPower object . . . \n",
      "neutrino_hierarchy =  normal\n",
      "zs.size:  299998\n",
      "creating Window object . . . \n",
      "calculating window  0 ... \n",
      "warning: b(z=0)=1 inserted.\n",
      "calculating window  1 ... \n",
      "warning: b(z=0)=1 inserted.\n"
     ]
    },
    {
     "name": "stderr",
     "output_type": "stream",
     "text": [
      "WARNING:root:accuracy parameters are changed globally, not yet per parameter set\n"
     ]
    },
    {
     "name": "stdout",
     "output_type": "stream",
     "text": [
      "creating modified parameter lists . . . \n",
      "starting kappa, galaxy cross power (with entire kappa) . . . \n",
      "calculating MatterPower and Window objects for  (All Fiducial)  derivative . . . \n",
      "neutrino_hierarchy =  normal\n",
      "zs.size:  299998\n",
      "calculating window  0 ... \n",
      "warning: b(z=0)=1 inserted.\n",
      "calculating window  1 ... \n",
      "warning: b(z=0)=1 inserted.\n",
      "  starting angular cross power spectrum  0 ,  0 ... \n",
      "window  1 : kappa  0\n",
      "window  2 : kappa  0\n",
      "  starting angular cross power spectrum  0 ,  1 ... \n",
      "window  1 : kappa  0\n",
      "window  2 : galaxies  1\n",
      "  starting angular cross power spectrum  1 ,  1 ... \n",
      "window  1 : galaxies  1\n",
      "window  2 : galaxies  1\n"
     ]
    },
    {
     "name": "stderr",
     "output_type": "stream",
     "text": [
      "WARNING:root:accuracy parameters are changed globally, not yet per parameter set\n"
     ]
    },
    {
     "name": "stdout",
     "output_type": "stream",
     "text": [
      "starting upper spectra for numeric derivatives . . . \n",
      "calculating MatterPower and Window objects for  ombh2  derivative . . . \n",
      "neutrino_hierarchy =  normal\n",
      "zs.size:  299998\n",
      "calculating window  0 ... \n",
      "warning: b(z=0)=1 inserted.\n",
      "calculating window  1 ... \n",
      "warning: b(z=0)=1 inserted.\n",
      "  starting angular cross power spectrum  0 ,  0 ... \n",
      "window  1 : kappa  0\n",
      "window  2 : kappa  0\n",
      "  starting angular cross power spectrum  0 ,  1 ... \n",
      "window  1 : kappa  0\n",
      "window  2 : galaxies  1\n",
      "  starting angular cross power spectrum  1 ,  1 ... \n",
      "window  1 : galaxies  1\n",
      "window  2 : galaxies  1\n"
     ]
    },
    {
     "name": "stderr",
     "output_type": "stream",
     "text": [
      "WARNING:root:accuracy parameters are changed globally, not yet per parameter set\n"
     ]
    },
    {
     "name": "stdout",
     "output_type": "stream",
     "text": [
      "calculating MatterPower and Window objects for  omch2  derivative . . . \n",
      "neutrino_hierarchy =  normal\n",
      "zs.size:  299998\n",
      "calculating window  0 ... \n",
      "warning: b(z=0)=1 inserted.\n",
      "calculating window  1 ... \n",
      "warning: b(z=0)=1 inserted.\n",
      "  starting angular cross power spectrum  0 ,  0 ... \n",
      "window  1 : kappa  0\n",
      "window  2 : kappa  0\n",
      "  starting angular cross power spectrum  0 ,  1 ... \n",
      "window  1 : kappa  0\n",
      "window  2 : galaxies  1\n",
      "  starting angular cross power spectrum  1 ,  1 ... \n",
      "window  1 : galaxies  1\n",
      "window  2 : galaxies  1\n"
     ]
    },
    {
     "name": "stderr",
     "output_type": "stream",
     "text": [
      "WARNING:root:accuracy parameters are changed globally, not yet per parameter set\n"
     ]
    },
    {
     "name": "stdout",
     "output_type": "stream",
     "text": [
      "calculating MatterPower and Window objects for  H0  derivative . . . \n",
      "neutrino_hierarchy =  normal\n",
      "zs.size:  299998\n",
      "calculating window  0 ... \n",
      "warning: b(z=0)=1 inserted.\n",
      "calculating window  1 ... \n",
      "warning: b(z=0)=1 inserted.\n",
      "  starting angular cross power spectrum  0 ,  0 ... \n",
      "window  1 : kappa  0\n",
      "window  2 : kappa  0\n",
      "  starting angular cross power spectrum  0 ,  1 ... \n",
      "window  1 : kappa  0\n",
      "window  2 : galaxies  1\n",
      "  starting angular cross power spectrum  1 ,  1 ... \n",
      "window  1 : galaxies  1\n",
      "window  2 : galaxies  1\n"
     ]
    },
    {
     "name": "stderr",
     "output_type": "stream",
     "text": [
      "WARNING:root:accuracy parameters are changed globally, not yet per parameter set\n"
     ]
    },
    {
     "name": "stdout",
     "output_type": "stream",
     "text": [
      "calculating MatterPower and Window objects for  As  derivative . . . \n",
      "neutrino_hierarchy =  normal\n",
      "zs.size:  299998\n",
      "calculating window  0 ... \n",
      "warning: b(z=0)=1 inserted.\n",
      "calculating window  1 ... \n",
      "warning: b(z=0)=1 inserted.\n",
      "  starting angular cross power spectrum  0 ,  0 ... \n",
      "window  1 : kappa  0\n",
      "window  2 : kappa  0\n",
      "  starting angular cross power spectrum  0 ,  1 ... \n",
      "window  1 : kappa  0\n",
      "window  2 : galaxies  1\n",
      "  starting angular cross power spectrum  1 ,  1 ... \n",
      "window  1 : galaxies  1\n",
      "window  2 : galaxies  1\n"
     ]
    },
    {
     "name": "stderr",
     "output_type": "stream",
     "text": [
      "WARNING:root:accuracy parameters are changed globally, not yet per parameter set\n"
     ]
    },
    {
     "name": "stdout",
     "output_type": "stream",
     "text": [
      "calculating MatterPower and Window objects for  ns  derivative . . . \n",
      "neutrino_hierarchy =  normal\n",
      "zs.size:  299998\n",
      "calculating window  0 ... \n",
      "warning: b(z=0)=1 inserted.\n",
      "calculating window  1 ... \n",
      "warning: b(z=0)=1 inserted.\n",
      "  starting angular cross power spectrum  0 ,  0 ... \n",
      "window  1 : kappa  0\n",
      "window  2 : kappa  0\n",
      "  starting angular cross power spectrum  0 ,  1 ... \n",
      "window  1 : kappa  0\n",
      "window  2 : galaxies  1\n",
      "  starting angular cross power spectrum  1 ,  1 ... \n",
      "window  1 : galaxies  1\n",
      "window  2 : galaxies  1\n"
     ]
    },
    {
     "name": "stderr",
     "output_type": "stream",
     "text": [
      "WARNING:root:accuracy parameters are changed globally, not yet per parameter set\n"
     ]
    },
    {
     "name": "stdout",
     "output_type": "stream",
     "text": [
      "calculating MatterPower and Window objects for  tau  derivative . . . \n",
      "neutrino_hierarchy =  normal\n",
      "zs.size:  299998\n",
      "calculating window  0 ... \n",
      "warning: b(z=0)=1 inserted.\n",
      "calculating window  1 ... \n",
      "warning: b(z=0)=1 inserted.\n",
      "  starting angular cross power spectrum  0 ,  0 ... \n",
      "window  1 : kappa  0\n",
      "window  2 : kappa  0\n",
      "  starting angular cross power spectrum  0 ,  1 ... \n",
      "window  1 : kappa  0\n",
      "window  2 : galaxies  1\n",
      "  starting angular cross power spectrum  1 ,  1 ... \n",
      "window  1 : galaxies  1\n",
      "window  2 : galaxies  1\n"
     ]
    },
    {
     "name": "stderr",
     "output_type": "stream",
     "text": [
      "WARNING:root:accuracy parameters are changed globally, not yet per parameter set\n"
     ]
    },
    {
     "name": "stdout",
     "output_type": "stream",
     "text": [
      "calculating MatterPower and Window objects for  mnu  derivative . . . \n",
      "neutrino_hierarchy =  normal\n",
      "zs.size:  299998\n",
      "calculating window  0 ... \n",
      "warning: b(z=0)=1 inserted.\n",
      "calculating window  1 ... \n",
      "warning: b(z=0)=1 inserted.\n",
      "  starting angular cross power spectrum  0 ,  0 ... \n",
      "window  1 : kappa  0\n",
      "window  2 : kappa  0\n",
      "  starting angular cross power spectrum  0 ,  1 ... \n",
      "window  1 : kappa  0\n",
      "window  2 : galaxies  1\n",
      "  starting angular cross power spectrum  1 ,  1 ... \n",
      "window  1 : galaxies  1\n",
      "window  2 : galaxies  1\n"
     ]
    },
    {
     "name": "stderr",
     "output_type": "stream",
     "text": [
      "WARNING:root:Currently dark energy parameters are changed globally, not per parameter set\n",
      "WARNING:root:accuracy parameters are changed globally, not yet per parameter set\n"
     ]
    },
    {
     "name": "stdout",
     "output_type": "stream",
     "text": [
      "calculating MatterPower and Window objects for  w  derivative . . . \n",
      "neutrino_hierarchy =  normal\n",
      "zs.size:  299998\n",
      "calculating window  0 ... \n",
      "warning: b(z=0)=1 inserted.\n",
      "calculating window  1 ... \n",
      "warning: b(z=0)=1 inserted.\n",
      "  starting angular cross power spectrum  0 ,  0 ... \n",
      "window  1 : kappa  0\n",
      "window  2 : kappa  0\n",
      "  starting angular cross power spectrum  0 ,  1 ... \n",
      "window  1 : kappa  0\n",
      "window  2 : galaxies  1\n",
      "  starting angular cross power spectrum  1 ,  1 ... \n",
      "window  1 : galaxies  1\n",
      "window  2 : galaxies  1\n"
     ]
    },
    {
     "name": "stderr",
     "output_type": "stream",
     "text": [
      "WARNING:root:accuracy parameters are changed globally, not yet per parameter set\n"
     ]
    },
    {
     "name": "stdout",
     "output_type": "stream",
     "text": [
      "calculating MatterPower and Window objects for  wa  derivative . . . \n",
      "neutrino_hierarchy =  normal\n",
      "zs.size:  299998\n",
      "calculating window  0 ... \n",
      "warning: b(z=0)=1 inserted.\n",
      "calculating window  1 ... \n",
      "warning: b(z=0)=1 inserted.\n",
      "  starting angular cross power spectrum  0 ,  0 ... \n",
      "window  1 : kappa  0\n",
      "window  2 : kappa  0\n",
      "  starting angular cross power spectrum  0 ,  1 ... \n",
      "window  1 : kappa  0\n",
      "window  2 : galaxies  1\n",
      "  starting angular cross power spectrum  1 ,  1 ... \n",
      "window  1 : galaxies  1\n",
      "window  2 : galaxies  1\n"
     ]
    },
    {
     "name": "stderr",
     "output_type": "stream",
     "text": [
      "WARNING:root:accuracy parameters are changed globally, not yet per parameter set\n"
     ]
    },
    {
     "name": "stdout",
     "output_type": "stream",
     "text": [
      "starting lower spectra for numeric derivatives . . . \n",
      "calculating MatterPower and Window objects for  ombh2  derivative . . . \n",
      "neutrino_hierarchy =  normal\n",
      "zs.size:  299998\n",
      "calculating window  0 ... \n",
      "warning: b(z=0)=1 inserted.\n",
      "calculating window  1 ... \n",
      "warning: b(z=0)=1 inserted.\n",
      "  starting angular cross power spectrum  0 ,  0 ... \n",
      "window  1 : kappa  0\n",
      "window  2 : kappa  0\n",
      "  starting angular cross power spectrum  0 ,  1 ... \n",
      "window  1 : kappa  0\n",
      "window  2 : galaxies  1\n",
      "  starting angular cross power spectrum  1 ,  1 ... \n",
      "window  1 : galaxies  1\n",
      "window  2 : galaxies  1\n"
     ]
    },
    {
     "name": "stderr",
     "output_type": "stream",
     "text": [
      "WARNING:root:accuracy parameters are changed globally, not yet per parameter set\n"
     ]
    },
    {
     "name": "stdout",
     "output_type": "stream",
     "text": [
      "calculating MatterPower and Window objects for  omch2  derivative . . . \n",
      "neutrino_hierarchy =  normal\n",
      "zs.size:  299998\n",
      "calculating window  0 ... \n",
      "warning: b(z=0)=1 inserted.\n",
      "calculating window  1 ... \n",
      "warning: b(z=0)=1 inserted.\n",
      "  starting angular cross power spectrum  0 ,  0 ... \n",
      "window  1 : kappa  0\n",
      "window  2 : kappa  0\n",
      "  starting angular cross power spectrum  0 ,  1 ... \n",
      "window  1 : kappa  0\n",
      "window  2 : galaxies  1\n",
      "  starting angular cross power spectrum  1 ,  1 ... \n",
      "window  1 : galaxies  1\n",
      "window  2 : galaxies  1\n"
     ]
    },
    {
     "name": "stderr",
     "output_type": "stream",
     "text": [
      "WARNING:root:accuracy parameters are changed globally, not yet per parameter set\n"
     ]
    },
    {
     "name": "stdout",
     "output_type": "stream",
     "text": [
      "calculating MatterPower and Window objects for  H0  derivative . . . \n",
      "neutrino_hierarchy =  normal\n",
      "zs.size:  299998\n",
      "calculating window  0 ... \n",
      "warning: b(z=0)=1 inserted.\n",
      "calculating window  1 ... \n",
      "warning: b(z=0)=1 inserted.\n",
      "  starting angular cross power spectrum  0 ,  0 ... \n",
      "window  1 : kappa  0\n",
      "window  2 : kappa  0\n",
      "  starting angular cross power spectrum  0 ,  1 ... \n",
      "window  1 : kappa  0\n",
      "window  2 : galaxies  1\n",
      "  starting angular cross power spectrum  1 ,  1 ... \n",
      "window  1 : galaxies  1\n",
      "window  2 : galaxies  1\n"
     ]
    },
    {
     "name": "stderr",
     "output_type": "stream",
     "text": [
      "WARNING:root:accuracy parameters are changed globally, not yet per parameter set\n"
     ]
    },
    {
     "name": "stdout",
     "output_type": "stream",
     "text": [
      "calculating MatterPower and Window objects for  As  derivative . . . \n",
      "neutrino_hierarchy =  normal\n",
      "zs.size:  299998\n",
      "calculating window  0 ... \n",
      "warning: b(z=0)=1 inserted.\n",
      "calculating window  1 ... \n",
      "warning: b(z=0)=1 inserted.\n",
      "  starting angular cross power spectrum  0 ,  0 ... \n",
      "window  1 : kappa  0\n",
      "window  2 : kappa  0\n",
      "  starting angular cross power spectrum  0 ,  1 ... \n",
      "window  1 : kappa  0\n",
      "window  2 : galaxies  1\n",
      "  starting angular cross power spectrum  1 ,  1 ... \n",
      "window  1 : galaxies  1\n",
      "window  2 : galaxies  1\n"
     ]
    },
    {
     "name": "stderr",
     "output_type": "stream",
     "text": [
      "WARNING:root:accuracy parameters are changed globally, not yet per parameter set\n"
     ]
    },
    {
     "name": "stdout",
     "output_type": "stream",
     "text": [
      "calculating MatterPower and Window objects for  ns  derivative . . . \n",
      "neutrino_hierarchy =  normal\n",
      "zs.size:  299998\n",
      "calculating window  0 ... \n",
      "warning: b(z=0)=1 inserted.\n",
      "calculating window  1 ... \n",
      "warning: b(z=0)=1 inserted.\n",
      "  starting angular cross power spectrum  0 ,  0 ... \n",
      "window  1 : kappa  0\n",
      "window  2 : kappa  0\n",
      "  starting angular cross power spectrum  0 ,  1 ... \n",
      "window  1 : kappa  0\n",
      "window  2 : galaxies  1\n",
      "  starting angular cross power spectrum  1 ,  1 ... \n",
      "window  1 : galaxies  1\n",
      "window  2 : galaxies  1\n"
     ]
    },
    {
     "name": "stderr",
     "output_type": "stream",
     "text": [
      "WARNING:root:accuracy parameters are changed globally, not yet per parameter set\n"
     ]
    },
    {
     "name": "stdout",
     "output_type": "stream",
     "text": [
      "calculating MatterPower and Window objects for  tau  derivative . . . \n",
      "neutrino_hierarchy =  normal\n",
      "zs.size:  299998\n",
      "calculating window  0 ... \n",
      "warning: b(z=0)=1 inserted.\n",
      "calculating window  1 ... \n",
      "warning: b(z=0)=1 inserted.\n",
      "  starting angular cross power spectrum  0 ,  0 ... \n",
      "window  1 : kappa  0\n",
      "window  2 : kappa  0\n",
      "  starting angular cross power spectrum  0 ,  1 ... \n",
      "window  1 : kappa  0\n",
      "window  2 : galaxies  1\n",
      "  starting angular cross power spectrum  1 ,  1 ... \n",
      "window  1 : galaxies  1\n",
      "window  2 : galaxies  1\n"
     ]
    },
    {
     "name": "stderr",
     "output_type": "stream",
     "text": [
      "WARNING:root:accuracy parameters are changed globally, not yet per parameter set\n"
     ]
    },
    {
     "name": "stdout",
     "output_type": "stream",
     "text": [
      "calculating MatterPower and Window objects for  mnu  derivative . . . \n",
      "neutrino_hierarchy =  normal\n",
      "zs.size:  299998\n",
      "calculating window  0 ... \n",
      "warning: b(z=0)=1 inserted.\n",
      "calculating window  1 ... \n",
      "warning: b(z=0)=1 inserted.\n",
      "  starting angular cross power spectrum  0 ,  0 ... \n",
      "window  1 : kappa  0\n",
      "window  2 : kappa  0\n",
      "  starting angular cross power spectrum  0 ,  1 ... \n",
      "window  1 : kappa  0\n",
      "window  2 : galaxies  1\n",
      "  starting angular cross power spectrum  1 ,  1 ... \n",
      "window  1 : galaxies  1\n",
      "window  2 : galaxies  1\n"
     ]
    },
    {
     "name": "stderr",
     "output_type": "stream",
     "text": [
      "WARNING:root:Currently dark energy parameters are changed globally, not per parameter set\n",
      "WARNING:root:accuracy parameters are changed globally, not yet per parameter set\n"
     ]
    },
    {
     "name": "stdout",
     "output_type": "stream",
     "text": [
      "calculating MatterPower and Window objects for  w  derivative . . . \n",
      "neutrino_hierarchy =  normal\n",
      "zs.size:  299998\n",
      "calculating window  0 ... \n",
      "warning: b(z=0)=1 inserted.\n",
      "calculating window  1 ... \n",
      "warning: b(z=0)=1 inserted.\n",
      "  starting angular cross power spectrum  0 ,  0 ... \n",
      "window  1 : kappa  0\n",
      "window  2 : kappa  0\n",
      "  starting angular cross power spectrum  0 ,  1 ... \n",
      "window  1 : kappa  0\n",
      "window  2 : galaxies  1\n",
      "  starting angular cross power spectrum  1 ,  1 ... \n",
      "window  1 : galaxies  1\n",
      "window  2 : galaxies  1\n"
     ]
    },
    {
     "name": "stderr",
     "output_type": "stream",
     "text": [
      "WARNING:root:accuracy parameters are changed globally, not yet per parameter set\n"
     ]
    },
    {
     "name": "stdout",
     "output_type": "stream",
     "text": [
      "calculating MatterPower and Window objects for  wa  derivative . . . \n",
      "neutrino_hierarchy =  normal\n",
      "zs.size:  299998\n",
      "calculating window  0 ... \n",
      "warning: b(z=0)=1 inserted.\n",
      "calculating window  1 ... \n",
      "warning: b(z=0)=1 inserted.\n",
      "  starting angular cross power spectrum  0 ,  0 ... \n",
      "window  1 : kappa  0\n",
      "window  2 : kappa  0\n",
      "  starting angular cross power spectrum  0 ,  1 ... \n",
      "window  1 : kappa  0\n",
      "window  2 : galaxies  1\n",
      "  starting angular cross power spectrum  1 ,  1 ... \n",
      "window  1 : galaxies  1\n",
      "window  2 : galaxies  1\n"
     ]
    },
    {
     "name": "stderr",
     "output_type": "stream",
     "text": [
      "WARNING:root:accuracy parameters are changed globally, not yet per parameter set\n",
      "WARNING:root:accuracy parameters are changed globally, not yet per parameter set\n"
     ]
    },
    {
     "name": "stdout",
     "output_type": "stream",
     "text": [
      "starting primary CMB cross-power . . . \n",
      "getting Cl power spectra for perturbed parameter  (All Fiducial)\n"
     ]
    },
    {
     "name": "stderr",
     "output_type": "stream",
     "text": [
      "WARNING:root:accuracy parameters are changed globally, not yet per parameter set\n"
     ]
    },
    {
     "name": "stdout",
     "output_type": "stream",
     "text": [
      "starting upper spectra for numeric derivatives . . . \n",
      "getting Cl power spectra for perturbed parameter  ombh2\n"
     ]
    },
    {
     "name": "stderr",
     "output_type": "stream",
     "text": [
      "WARNING:root:accuracy parameters are changed globally, not yet per parameter set\n"
     ]
    },
    {
     "name": "stdout",
     "output_type": "stream",
     "text": [
      "getting Cl power spectra for perturbed parameter  omch2\n"
     ]
    },
    {
     "name": "stderr",
     "output_type": "stream",
     "text": [
      "WARNING:root:accuracy parameters are changed globally, not yet per parameter set\n"
     ]
    },
    {
     "name": "stdout",
     "output_type": "stream",
     "text": [
      "getting Cl power spectra for perturbed parameter  H0\n"
     ]
    },
    {
     "name": "stderr",
     "output_type": "stream",
     "text": [
      "WARNING:root:accuracy parameters are changed globally, not yet per parameter set\n"
     ]
    },
    {
     "name": "stdout",
     "output_type": "stream",
     "text": [
      "getting Cl power spectra for perturbed parameter  As\n"
     ]
    },
    {
     "name": "stderr",
     "output_type": "stream",
     "text": [
      "WARNING:root:accuracy parameters are changed globally, not yet per parameter set\n"
     ]
    },
    {
     "name": "stdout",
     "output_type": "stream",
     "text": [
      "getting Cl power spectra for perturbed parameter  ns\n"
     ]
    },
    {
     "name": "stderr",
     "output_type": "stream",
     "text": [
      "WARNING:root:accuracy parameters are changed globally, not yet per parameter set\n"
     ]
    },
    {
     "name": "stdout",
     "output_type": "stream",
     "text": [
      "getting Cl power spectra for perturbed parameter  tau\n"
     ]
    },
    {
     "name": "stderr",
     "output_type": "stream",
     "text": [
      "WARNING:root:accuracy parameters are changed globally, not yet per parameter set\n"
     ]
    },
    {
     "name": "stdout",
     "output_type": "stream",
     "text": [
      "getting Cl power spectra for perturbed parameter  mnu\n"
     ]
    },
    {
     "name": "stderr",
     "output_type": "stream",
     "text": [
      "WARNING:root:Currently dark energy parameters are changed globally, not per parameter set\n",
      "WARNING:root:accuracy parameters are changed globally, not yet per parameter set\n"
     ]
    },
    {
     "name": "stdout",
     "output_type": "stream",
     "text": [
      "getting Cl power spectra for perturbed parameter  w\n"
     ]
    },
    {
     "name": "stderr",
     "output_type": "stream",
     "text": [
      "WARNING:root:accuracy parameters are changed globally, not yet per parameter set\n"
     ]
    },
    {
     "name": "stdout",
     "output_type": "stream",
     "text": [
      "getting Cl power spectra for perturbed parameter  wa\n"
     ]
    },
    {
     "name": "stderr",
     "output_type": "stream",
     "text": [
      "WARNING:root:accuracy parameters are changed globally, not yet per parameter set\n"
     ]
    },
    {
     "name": "stdout",
     "output_type": "stream",
     "text": [
      "starting lower spectra for numeric derivatives . . . \n",
      "getting Cl power spectra for perturbed parameter  ombh2\n"
     ]
    },
    {
     "name": "stderr",
     "output_type": "stream",
     "text": [
      "WARNING:root:accuracy parameters are changed globally, not yet per parameter set\n"
     ]
    },
    {
     "name": "stdout",
     "output_type": "stream",
     "text": [
      "getting Cl power spectra for perturbed parameter  omch2\n"
     ]
    },
    {
     "name": "stderr",
     "output_type": "stream",
     "text": [
      "WARNING:root:accuracy parameters are changed globally, not yet per parameter set\n"
     ]
    },
    {
     "name": "stdout",
     "output_type": "stream",
     "text": [
      "getting Cl power spectra for perturbed parameter  H0\n"
     ]
    },
    {
     "name": "stderr",
     "output_type": "stream",
     "text": [
      "WARNING:root:accuracy parameters are changed globally, not yet per parameter set\n"
     ]
    },
    {
     "name": "stdout",
     "output_type": "stream",
     "text": [
      "getting Cl power spectra for perturbed parameter  As\n"
     ]
    },
    {
     "name": "stderr",
     "output_type": "stream",
     "text": [
      "WARNING:root:accuracy parameters are changed globally, not yet per parameter set\n"
     ]
    },
    {
     "name": "stdout",
     "output_type": "stream",
     "text": [
      "getting Cl power spectra for perturbed parameter  ns\n"
     ]
    },
    {
     "name": "stderr",
     "output_type": "stream",
     "text": [
      "WARNING:root:accuracy parameters are changed globally, not yet per parameter set\n"
     ]
    },
    {
     "name": "stdout",
     "output_type": "stream",
     "text": [
      "getting Cl power spectra for perturbed parameter  tau\n"
     ]
    },
    {
     "name": "stderr",
     "output_type": "stream",
     "text": [
      "WARNING:root:accuracy parameters are changed globally, not yet per parameter set\n"
     ]
    },
    {
     "name": "stdout",
     "output_type": "stream",
     "text": [
      "getting Cl power spectra for perturbed parameter  mnu\n"
     ]
    },
    {
     "name": "stderr",
     "output_type": "stream",
     "text": [
      "WARNING:root:Currently dark energy parameters are changed globally, not per parameter set\n",
      "WARNING:root:accuracy parameters are changed globally, not yet per parameter set\n"
     ]
    },
    {
     "name": "stdout",
     "output_type": "stream",
     "text": [
      "getting Cl power spectra for perturbed parameter  w\n"
     ]
    },
    {
     "name": "stderr",
     "output_type": "stream",
     "text": [
      "WARNING:root:accuracy parameters are changed globally, not yet per parameter set\n"
     ]
    },
    {
     "name": "stdout",
     "output_type": "stream",
     "text": [
      "getting Cl power spectra for perturbed parameter  wa\n"
     ]
    },
    {
     "name": "stderr",
     "output_type": "stream",
     "text": [
      "WARNING:root:accuracy parameters are changed globally, not yet per parameter set\n"
     ]
    },
    {
     "name": "stdout",
     "output_type": "stream",
     "text": [
      "creating noise arrays... \n",
      "getting (EB) lensing reconstruction noise... \n",
      "[00:00:00] calculating full-sky noise level for estimator of type <class 'quicklens.qest.lens.phi_EB'>\n",
      "getting galaxy shot noise... \n"
     ]
    },
    {
     "name": "stderr",
     "output_type": "stream",
     "text": [
      "FisherCl.py:490: ComplexWarning: Casting complex values to real discards the imaginary part\n",
      "  self.noiseCls[0,0] = Nlkk[self.lmin:self.lmax+1]\n"
     ]
    },
    {
     "name": "stdout",
     "output_type": "stream",
     "text": [
      "getting (primary CMB) detector noise...\n",
      "building covariance matrix... \n",
      "starting covariance set  1  of  2 ... \n",
      "starting covariance set  2  of  2 ... \n",
      "starting covariance set  1  of  3 ... \n",
      "starting covariance set  2  of  3 ... \n",
      "starting covariance set  3  of  3 ... \n",
      "starting creation of C_l derivatives... \n",
      "starting derivative set  1  of  2 ... \n",
      "starting derivative set  2  of  2 ... \n",
      "starting primary CMB derivative set  1  of  3 ... \n",
      "starting primary CMB derivative set  2  of  3 ... \n",
      "starting primary CMB derivative set  3  of  3 ... \n",
      "adjusting lmax for TT... \n",
      "adjusting lmax for TT... \n",
      "adjusting lmax for TT... \n",
      "adjusting lmax for TT... \n",
      "adjusting lmax for TT... \n",
      "adjusting lmax for TT... \n",
      "adjusting lmax for TT... \n",
      "adjusting lmax for TT... \n",
      "adjusting lmax for TT... \n",
      "adjusting lmax for TT... \n",
      "adjusting lmax for TT... \n",
      "adjusting lmax for TT... \n",
      "adjusting lmax for TT... \n",
      "adjusting lmax for TT... \n",
      "adjusting lmax for TT... \n",
      "adjusting lmax for TT... \n",
      "adjusting lmax for TT... \n",
      "adjusting lmax for TT... \n",
      "adjusting lmax for TT... \n",
      "adjusting lmax for TT... \n",
      "adjusting lmax for TT... \n",
      "adjusting lmax for TT... \n",
      "adjusting lmax for TT... \n",
      "adjusting lmax for TT... \n",
      "adjusting lmax for TT... \n",
      "adjusting lmax for TT... \n",
      "adjusting lmax for TT... \n",
      "adjusting lmax for TT... \n",
      "adjusting lmax for TT... \n",
      "adjusting lmax for TT... \n",
      "adjusting lmax for TT... \n",
      "adjusting lmax for TT... \n",
      "adjusting lmax for TT... \n",
      "adjusting lmax for TT... \n",
      "adjusting lmax for TT... \n",
      "adjusting lmax for TT... \n",
      "adjusting lmax for TT... \n",
      "adjusting lmax for TT... \n",
      "adjusting lmax for TT... \n",
      "adjusting lmax for TT... \n",
      "adjusting lmax for TT... \n",
      "adjusting lmax for TT... \n",
      "adjusting lmax for TT... \n",
      "adjusting lmax for TT... \n",
      "adjusting lmax for TT... \n",
      "adjusting lmax for TT... \n",
      "adjusting lmax for TT... \n",
      "adjusting lmax for TT... \n",
      "adjusting lmax for TT... \n",
      "adjusting lmax for TT... \n",
      "adjusting lmax for TT... \n",
      "adjusting lmax for TT... \n",
      "adjusting lmax for TT... \n",
      "adjusting lmax for TT... \n",
      "adjusting lmax for TT... \n",
      "adjusting lmax for TT... \n",
      "adjusting lmax for TT... \n",
      "adjusting lmax for TT... \n",
      "adjusting lmax for TT... \n",
      "adjusting lmax for TT... \n",
      "adjusting lmax for TT... \n",
      "adjusting lmax for TT... \n",
      "adjusting lmax for TT... \n",
      "adjusting lmax for TT... \n",
      "adjusting lmax for TT... \n",
      "adjusting lmax for TT... \n",
      "adjusting lmax for TT... \n",
      "adjusting lmax for TT... \n",
      "adjusting lmax for TT... \n",
      "adjusting lmax for TT... \n",
      "adjusting lmax for TT... \n",
      "adjusting lmax for TT... \n",
      "adjusting lmax for TT... \n",
      "adjusting lmax for TT... \n",
      "adjusting lmax for TT... \n",
      "adjusting lmax for TT... \n",
      "adjusting lmax for TT... \n",
      "adjusting lmax for TT... \n",
      "adjusting lmax for TT... \n",
      "adjusting lmax for TT... \n",
      "adjusting lmax for TT... \n",
      "creation of Fisher Matrix complete!\n",
      "\n",
      "time elapsed:  23418.7041509  seconds\n",
      "time elapsed:  390.311735849  minutes\n",
      "time elapsed:  6.50519559748  hours\n",
      "binAs:  [1.]\n",
      "binBs:  [1.90707908]\n",
      "nonlinear =  True\n",
      "neutrino_hierarchy =  normal\n"
     ]
    }
   ],
   "source": [
    "# Create a Fisher Matrix object\n",
    "import time\n",
    "reload(fcl.cp)\n",
    "reload(fcl)\n",
    "#z0 = 0.3\n",
    "z0 = 0.5 # for modelDNDZ3; should be turned on in crosspower.getDNDZinterp\n",
    "zmax = 4\n",
    "#zmax = 7\n",
    "nBins = 1\n",
    "#nBins = 6 # for beesBins; should be turned on in crosspower.tophat\n",
    "lmax = 3000\n",
    "lmaxP = 5000\n",
    "AccuracyBoost = 3\n",
    "#doNorm = True\n",
    "nonlinear = True\n",
    "#nonlinear = False\n",
    "biasByBin = False\n",
    "#hier = 'degenerate'\n",
    "hier = 'normal'\n",
    "#nz = 10000\n",
    "nz = 300000\n",
    "usePrimaryCMB = True\n",
    "#usePrimaryCMB = False\n",
    "useNoise = True\n",
    "\n",
    "starttime = time.time()\n",
    "Fobj = fcl.FisherMatrix(lmax=lmax,z0=z0,zmax=zmax,nBins=nBins,AccuracyBoost=AccuracyBoost,\n",
    "                       nonlinear=nonlinear,biasByBin=biasByBin,neutrino_hierarchy=hier,nz=nz,\n",
    "                       usePrimaryCMB=usePrimaryCMB,lmaxP=lmaxP,useNoise=useNoise, **cosParams)\n",
    "# try without use of nonlinear keyword to check for bad behavior\n",
    "#Fobj = fcl.FisherMatrix(lmax=lmax,z0=z0,zmax=zmax,nBins=nBins,AccuracyBoost=AccuracyBoost,\n",
    "#                       biasByBin=biasByBin,nz=nz)\n",
    "# yes, the bad behavior shows up when nonlinear keyword is not used.  Hmmph.\n",
    "\n",
    "endtime = time.time()\n",
    "\n",
    "print 'time elapsed: ', endtime-starttime, ' seconds'\n",
    "print 'time elapsed: ', (endtime-starttime)/60., ' minutes'\n",
    "print 'time elapsed: ', (endtime-starttime)/3600., ' hours'\n",
    "\n",
    "print 'binAs: ',Fobj.binAs\n",
    "print 'binBs: ',Fobj.binBs\n",
    "print 'nonlinear = ',nonlinear\n",
    "print 'neutrino_hierarchy = ',Fobj.neutrino_hierarchy"
   ]
  },
  {
   "cell_type": "code",
   "execution_count": null,
   "metadata": {},
   "outputs": [],
   "source": []
  },
  {
   "cell_type": "code",
   "execution_count": null,
   "metadata": {},
   "outputs": [],
   "source": []
  },
  {
   "cell_type": "code",
   "execution_count": 8,
   "metadata": {
    "scrolled": true
   },
   "outputs": [
    {
     "name": "stdout",
     "output_type": "stream",
     "text": [
      "done\n"
     ]
    }
   ],
   "source": [
    "# save it\n",
    "\n",
    "import pickle\n",
    "\n",
    "#filehandler = open('Fisher_7_6X2B.obj','w') # AccuracyBoost=3, lmax=3000, lmaxP=5000, nz=3e5; nonlinear=True,\n",
    "#neutrino_hierarchy = 'normal', usePrimaryCMB = True; from FisherCl branch quickCl\n",
    "# kludge for this one: told cp.getDNDZinterp to use modelDNDZ3; set cp.tophat beesBins=True\n",
    "# biasByBin = False (uses sigma(b)/b), dw = 0.05, useNoise = False\n",
    "\n",
    "#filehandler = open('Fisher_7_6X3.obj','w') # AccuracyBoost=3, lmax=100, lmaxP=200, nz=100; nonlinear=True,\n",
    "#neutrino_hierarchy = 'normal', usePrimaryCMB = True; from FisherCl branch quickCl\n",
    "# kludge for this one: told cp.getDNDZinterp to use modelDNDZ3; set cp.tophat beesBins=True\n",
    "# biasByBin = False, dw = 0.005, useNoise = True\n",
    "\n",
    "#filehandler = open('Fisher_7_6X2.obj','w') # AccuracyBoost=3, lmax=3000, lmaxP=5000, nz=3e5; nonlinear=True,\n",
    "#neutrino_hierarchy = 'normal', usePrimaryCMB = True; from FisherCl branch quickCl\n",
    "# kludge for this one: told cp.getDNDZinterp to use modelDNDZ3; set cp.tophat beesBins=True\n",
    "# biasByBin = False (uses sigma(b)/b), dw = 0.005\n",
    "\n",
    "\n",
    "#filehandler = open('Fisher_4_1Zn.obj','w') # AccuracyBoost=3, lmax=3000, lmaxP=5000; nz=3e5; nonlinear=True,\n",
    "#neutrino_hierarchy='normal', usePrimaryCMB=True, nMapsP=3, useNoise=True; myClName='total'; \n",
    "#from FisherCl branch quickCl\n",
    "# this one used fiducial params and values to match CMB-S4 Science book verification table 8.1\n",
    "\n",
    "#filehandler = open('Fisher_4_1Y.obj','w') # AccuracyBoost=3, lmax=3000, lmaxP=5000; nz=3e5; nonlinear=True,\n",
    "#neutrino_hierarchy = 'normal', usePrimaryCMB = True; from FisherCl branch quickCl\n",
    "# this one used fiducial params and values to match CMB-S4 Science book verification table 8.1\n",
    "\n",
    "#filehandler = open('Fisher_7_6X.obj','w') # AccuracyBoost=3, lmax=2000, nz=3e5; nonlinear=False,\n",
    "#neutrino_hierarchy = 'normal', usePrimaryCMB = False; from FisherCl branch quickCl\n",
    "# kludge for this one: told cp.getDNDZinterp to use modelDNDZ3; set cp.tophat beesBins=True\n",
    "\n",
    "#filehandler = open('Fisher_4_4K4.obj','w') # AccuracyBoost=3, lmax=100, nz=1e4; nonlinear=True,\n",
    "#neutrino_hierarchy = 'normal', usePrimaryCMB = True; from FisherCl branch quickCl\n",
    "\n",
    "#filehandler = open('Fisher_4_4L3.obj','w') # accuracyBoost=3,doNorm=True,lmax=2000, nz=1e4; nonlinear=False,\n",
    "#neutrino_hierarchy = 'normal', usePrimaryCMB = False; from FisherCl branch quickCl\n",
    "#filehandler = open('Fisher_4_4K3.obj','w') # accuracyBoost=3,doNorm=True,lmax=2000, nz=1e4; nonlinear=True,\n",
    "#neutrino_hierarchy = 'normal', usePrimaryCMB = False; from FisherCl branch quickCl\n",
    "\n",
    "#filehandler = open('Fisher_4_4W.obj','w') # accuracyBoost=3,doNorm=True,lmax=2000, nz=3e5; nonlinear=True,\n",
    "#neutrino_hierarchy = 'degenerate'; from FisherCl branch quickCl\n",
    "\n",
    "#filehandler = open('Fisher_4_4L2.obj','w') # accuracyBoost=3,doNorm=True,lmax=2000, nz=1e4; nonlinear=False,\n",
    "#neutrino_hierarchy = 'normal'; from FisherCl branch quickCl\n",
    "#filehandler = open('Fisher_4_4K2.obj','w') # accuracyBoost=3,doNorm=True,lmax=2000, nz=1e4; nonlinear=True,\n",
    "#neutrino_hierarchy = 'normal'; from FisherCl branch quickCl\n",
    "\n",
    "#filehandler = open('Fisher_4_4V.obj','w') # accuracyBoost=3,doNorm=True,lmax=1000, epsrel = 1.49e-6; nonlinear=True,\n",
    "#dw=0.05, neutrino_hierarchy = 'normal', mnu=0.1; from FisherCl branch master\n",
    "\n",
    "#filehandler = open('Fisher_4_4U.obj','w') # accuracyBoost=3,doNorm=True,lmax=1000, epsrel = 1.49e-6; nonlinear=True,\n",
    "#dw=0.05, neutrino_hierarchy = 'degenerate', from FisherCl branch master\n",
    "#filehandler = open('Fisher_4_4T.obj','w') # accuracyBoost=3,doNorm=True,lmax=1000, epsrel = 1.49e-6; nonlinear=False,\n",
    "#dw=0.05, neutrino_hierarchy = 'degenerate', from FisherCl branch master\n",
    "\n",
    "#filehandler = open('Fisher_4_4S.obj','w') # accuracyBoost=3,doNorm=True,lmax=1000, epsrel = 1.49e-4; nonlinear=True,\n",
    "#dw=0.05, neutrino_hierarchy = 'degenerate', from FisherCl branch master\n",
    "#filehandler = open('Fisher_4_4R.obj','w') # accuracyBoost=3,doNorm=True,lmax=1000, epsrel = 1.49e-4; nonlinear=False,\n",
    "#dw=0.05, neutrino_hierarchy = 'degenerate', from FisherCl branch master\n",
    "\n",
    "#filehandler = open('Fisher_4_4Q.obj','w') # accuracyBoost=3,doNorm=True,lmax=1000, epsrel = 1.49e-6; nonlinear=False,\n",
    "#dw=0.05, from FisherCl branch master\n",
    "#filehandler = open('Fisher_4_4P.obj','w') # accuracyBoost=3,doNorm=True,lmax=1000, epsrel = 1.49e-6; nonlinear=True,\n",
    "#dw=0.05, from FisherCl branch master\n",
    "\n",
    "# ditch the myPk and myWin parts since pickle can't handle classes within a class\n",
    "myPkTemp = Fobj.myPk\n",
    "myWinTemp = Fobj.myWin\n",
    "Fobj.myPk = 0\n",
    "Fobj.myWin = 0\n",
    "pickle.dump(Fobj,filehandler)\n",
    "filehandler.close()\n",
    "\n",
    "# put them back\n",
    "Fobj.myPk = myPkTemp\n",
    "Fobj.myWin = myWinTemp\n",
    "print 'done'\n"
   ]
  },
  {
   "cell_type": "code",
   "execution_count": 9,
   "metadata": {},
   "outputs": [
    {
     "name": "stdout",
     "output_type": "stream",
     "text": [
      "[0. 1. 3.]\n",
      "['k,k', 'k,g1', 'g1,g1']\n",
      "['ombh2', 'omch2', 'H0', 'As', 'ns', 'tau', 'mnu', 'w', 'wa', 'bin1']\n"
     ]
    }
   ],
   "source": [
    "# load saved Fobj\n",
    "# get lensing and galaxy Fisher matrix to add\n",
    "\"\"\"\n",
    "import FisherCl as fcl\n",
    "import crosspower as cp\n",
    "import pickle\n",
    "\n",
    "# actually these two have an additional parameter wa but not crossClsPlus,Minus for it, etc.\n",
    "#filehandler = open('Fisher_7_6X2_w2_wan.obj','r') # AccuracyBoost=3, lmax=3000, lmaxP=5000, nz=3e5; nonlinear=True,\n",
    "#filehandler = open('Fisher_7_6X4_w2_wan.obj','r') # AccuracyBoost=3, lmax=3000, lmaxP=5000, nz=3e5; nonlinear=False,\n",
    "\n",
    "filehandler = open('Fisher_4_1Y.obj','r') # AccuracyBoost=3, lmax=3000, lmaxP=5000; nz=3e5; nonlinear=True,\n",
    "#neutrino_hierarchy = 'normal', usePrimaryCMB = True; from FisherCl branch quickCl\n",
    "# this one used fiducial params and values to match CMB-S4 Science book verification table 8.1\n",
    "\n",
    "#filehandler = open('Fisher_7_6X.obj','r') # AccuracyBoost=3, lmax=2000, nz=3e5; nonlinear=False,\n",
    "#neutrino_hierarchy = 'normal', usePrimaryCMB = False; from FisherCl branch quickCl\n",
    "# kludge for this one: told cp.getDNDZinterp to use modelDNDZ3; set cp.tophat beesBins=True\n",
    "\n",
    "#filehandler = open('Fisher_4_4K4.obj','r') # AccuracyBoost=3, lmax=100, nz=1e4; nonlinear=True,\n",
    "#neutrino_hierarchy = 'normal', usePrimaryCMB = True; from FisherCl branch quickCl\n",
    "\n",
    "#filehandler = open('Fisher_4_4L3.obj','r') # accuracyBoost=3,doNorm=True,lmax=2000, nz=1e4; nonlinear=False,\n",
    "#neutrino_hierarchy = 'normal', usePrimaryCMB = False; from FisherCl branch quickCl\n",
    "#filehandler = open('Fisher_4_4W.obj','r') # accuracyBoost=3,doNorm=True,lmax=2000, nz=3e5; nonlinear=True,\n",
    "#neutrino_hierarchy = 'degenerate'; from FisherCl branch quickCl\n",
    "\n",
    "#filehandler = open('Fisher_4_4L2.obj','r') # accuracyBoost=3,doNorm=True,lmax=2000, nz=1e4; nonlinear=False,\n",
    "#neutrino_hierarchy = 'normal'; from FisherCl branch quickCl\n",
    "#filehandler = open('Fisher_4_4K2.obj','r') # accuracyBoost=3,doNorm=True,lmax=2000, nz=1e4; nonlinear=True,\n",
    "#neutrino_hierarchy = 'normal'; from FisherCl branch quickCl\n",
    "\n",
    "#filehandler = open('Fisher_4_4V.obj','r') # accuracyBoost=3,doNorm=True,lmax=1000, epsrel = 1.49e-6; nonlinear=True,\n",
    "#dw=0.05, neutrino_hierarchy = 'normal', mnu=0.1; from FisherCl branch master\n",
    "\n",
    "#filehandler = open('Fisher_4_4U.obj','r') # accuracyBoost=3,doNorm=True,lmax=1000, epsrel = 1.49e-6; nonlinear=True,\n",
    "#dw=0.05, neutrino_hierarchy = 'degenerate', from FisherCl branch master\n",
    "#filehandler = open('Fisher_4_4T.obj','r') # accuracyBoost=3,doNorm=True,lmax=1000, epsrel = 1.49e-6; nonlinear=False,\n",
    "#dw=0.05, neutrino_hierarchy = 'degenerate', from FisherCl branch master\n",
    "\n",
    "#filehandler = open('Fisher_4_4S.obj','r') # accuracyBoost=3,doNorm=True,lmax=1000, epsrel = 1.49e-4; nonlinear=True,\n",
    "#dw=0.05, neutrino_hierarchy = 'degenerate', from FisherCl branch master\n",
    "#filehandler = open('Fisher_4_4R.obj','r') # accuracyBoost=3,doNorm=True,lmax=1000, epsrel = 1.49e-4; nonlinear=False,\n",
    "#dw=0.05, neutrino_hierarchy = 'degenerate', from FisherCl branch master\n",
    "\n",
    "#filehandler = open('Fisher_4_4Q.obj','r') # accuracyBoost=3,doNorm=True,lmax=1000, epsrel = 1.49e-6; nonlinear=False,\n",
    "#dw=0.05, from FisherCl branch master\n",
    "#filehandler = open('Fisher_4_4P.obj','r') # accuracyBoost=3,doNorm=True,lmax=1000, epsrel = 1.49e-6; nonlinear=True,\n",
    "#dw=0.05, from FisherCl branch master\n",
    "\n",
    "\n",
    "Fobj = pickle.load(filehandler) \n",
    "\"\"\"\n",
    "\n",
    "lmin = Fobj.lmin\n",
    "lmax = Fobj.lmax\n",
    "nMaps = Fobj.nBins + 1\n",
    "nCosParams = Fobj.nParams - Fobj.nBins\n",
    "ells = Fobj.ells\n",
    "obsNames = Fobj.obsNames\n",
    "paramList = Fobj.paramList\n",
    "\n",
    "print Fobj.obsList\n",
    "print Fobj.obsNames\n",
    "print Fobj.paramList\n"
   ]
  },
  {
   "cell_type": "code",
   "execution_count": null,
   "metadata": {},
   "outputs": [],
   "source": []
  },
  {
   "cell_type": "code",
   "execution_count": 10,
   "metadata": {},
   "outputs": [
    {
     "name": "stdout",
     "output_type": "stream",
     "text": [
      "ombh2 :  0.08920205524927252\n",
      "omch2 :  0.28595596907878384\n",
      "H0 :  96.12398371357145\n",
      "As :  5.573599479345753e-09\n",
      "ns :  0.5732823311329057\n",
      "tau :  183.9641924108418\n",
      "mnu :  0.8598034743700307\n",
      "w :  11.442391997018591\n",
      "wa :  29.45763668753392\n",
      "bin1 :  0.7315090314787351\n"
     ]
    }
   ],
   "source": [
    "# display the sigmas\n",
    "# this does not take lmin= 50 into account.\n",
    "paramList = Fobj.paramList\n",
    "sigmas = Fobj.getSigmas()\n",
    "for i, param in enumerate(paramList):\n",
    "    print param, ': ',sigmas[i]"
   ]
  },
  {
   "cell_type": "code",
   "execution_count": 11,
   "metadata": {},
   "outputs": [
    {
     "name": "stdout",
     "output_type": "stream",
     "text": [
      "building Fisher matrix from components...\n",
      "invCov.shape:  (3, 3, 2999) , dClVecs.shape:  (3, 10, 2999)\n",
      "starting bin set  1  of  10\n",
      "starting bin set  2  of  10\n",
      "starting bin set  3  of  10\n",
      "starting bin set  4  of  10\n",
      "starting bin set  5  of  10\n",
      "starting bin set  6  of  10\n",
      "starting bin set  7  of  10\n",
      "starting bin set  8  of  10\n",
      "starting bin set  9  of  10\n",
      "starting bin set  10  of  10\n"
     ]
    }
   ],
   "source": [
    "# remake with higher lmin for comparisons\n",
    "lmin=50\n",
    "#Fij2 = makeFisher(Fobj,lmin,lmax)\n",
    "#Fij2 = Fobj.makeFisher(lmin,lmax,verbose=True) # the old version had lmax\n",
    "Fij2 = Fobj.makeFisher(lmin,verbose=True)\n",
    "sigmas2 = np.sqrt(np.diag(np.linalg.inv(Fij2)))"
   ]
  },
  {
   "cell_type": "code",
   "execution_count": 12,
   "metadata": {},
   "outputs": [
    {
     "name": "stdout",
     "output_type": "stream",
     "text": [
      "['ombh2' 'omch2' 'H0' 'As' 'ns' 'mnu' 'wa' 'bin1']\n"
     ]
    }
   ],
   "source": [
    "# excise w, tau and remake sigmas2\n",
    "# define row,col deleting function\n",
    "def fixParam(Fij,pNum):\n",
    "    return np.delete(np.delete(Fij,pNum,0),pNum,1)\n",
    "\n",
    "if True:\n",
    "    # indices to remove need to be adjusted depending on whether Fobj has wa\n",
    "    # remove w: index = 8 (if there's a wa, 7 if not)\n",
    "    toDelete = 7 #8\n",
    "    paramList = np.delete(paramList,toDelete)\n",
    "    Fij2 = fixParam(Fij2,toDelete)\n",
    "    # remove wa: index = 7\n",
    "    #toDelete = 7\n",
    "    #paramList = np.delete(paramList,toDelete)\n",
    "    #Fij2 = fixParam(Fij2,toDelete)\n",
    "    # remove tau: row,column = 5\n",
    "    toDelete = 5\n",
    "    paramList = np.delete(paramList,toDelete)\n",
    "    Fij2 = fixParam(Fij2,toDelete)\n",
    "    \n",
    "    sigmas2 = np.sqrt(np.diag(np.linalg.inv(Fij2)))\n",
    "    print paramList"
   ]
  },
  {
   "cell_type": "code",
   "execution_count": 13,
   "metadata": {},
   "outputs": [
    {
     "name": "stdout",
     "output_type": "stream",
     "text": [
      "fsky = 0.5\n",
      "fsky^(-1/2) = 1.414213562373095\n"
     ]
    }
   ],
   "source": [
    "# multiply fsky factor\n",
    "fsky = 0.5\n",
    "print 'fsky =',fsky\n",
    "print 'fsky^(-1/2) =',1/np.sqrt(fsky)\n",
    "Fij2 *= fsky\n",
    "sigmas2 = np.sqrt(np.diag(np.linalg.inv(Fij2)))"
   ]
  },
  {
   "cell_type": "code",
   "execution_count": 14,
   "metadata": {},
   "outputs": [
    {
     "data": {
      "text/plain": [
       "'\\ntauNum = 5\\npriorTauSigma = 0.02\\ntauPrior = 1/priorTauSigma**2\\nprint Fij2[tauNum,tauNum]\\nFij2[tauNum,tauNum] = Fij2[tauNum,tauNum] + tauPrior \\nprint Fij2[tauNum,tauNum]\\n\\n# remake sigmas2 with this\\nsigmas2 = np.sqrt(np.diag(np.linalg.inv(Fij2)))\\n'"
      ]
     },
     "execution_count": 14,
     "metadata": {},
     "output_type": "execute_result"
    }
   ],
   "source": [
    "# add prior on Tau\n",
    "\"\"\"\n",
    "tauNum = 5\n",
    "priorTauSigma = 0.02\n",
    "tauPrior = 1/priorTauSigma**2\n",
    "print Fij2[tauNum,tauNum]\n",
    "Fij2[tauNum,tauNum] = Fij2[tauNum,tauNum] + tauPrior \n",
    "print Fij2[tauNum,tauNum]\n",
    "\n",
    "# remake sigmas2 with this\n",
    "sigmas2 = np.sqrt(np.diag(np.linalg.inv(Fij2)))\n",
    "\"\"\""
   ]
  },
  {
   "cell_type": "code",
   "execution_count": 15,
   "metadata": {},
   "outputs": [
    {
     "name": "stdout",
     "output_type": "stream",
     "text": [
      "ombh2 0.06569539110085905\n",
      "omch2 0.19436152895116773\n",
      "H0 106.93531405856064\n",
      "As 3.7655312426128486e-09\n",
      "ns 0.3177884193541266\n",
      "mnu 1.6095246172211028\n",
      "wa 4.937403404163754\n",
      "bin1 1.048806516919377\n"
     ]
    }
   ],
   "source": [
    "for i,p in enumerate(paramList):\n",
    "    print p, sigmas2[i]"
   ]
  },
  {
   "cell_type": "code",
   "execution_count": null,
   "metadata": {},
   "outputs": [],
   "source": []
  },
  {
   "cell_type": "markdown",
   "metadata": {},
   "source": [
    "# Compare result against Byeonghee's result"
   ]
  },
  {
   "cell_type": "code",
   "execution_count": 16,
   "metadata": {},
   "outputs": [
    {
     "data": {
      "text/plain": [
       "'\\nbinBs = Fobj.binBs\\nprint binBs\\nsigmas2[-4:]/=binBs\\nprint sigmas2\\n'"
      ]
     },
     "execution_count": 16,
     "metadata": {},
     "output_type": "execute_result"
    }
   ],
   "source": [
    "# convert to sigma(b)/b\n",
    "\"\"\"\n",
    "binBs = Fobj.binBs\n",
    "print binBs\n",
    "sigmas2[-4:]/=binBs\n",
    "print sigmas2\n",
    "\"\"\""
   ]
  },
  {
   "cell_type": "code",
   "execution_count": 17,
   "metadata": {},
   "outputs": [
    {
     "name": "stdout",
     "output_type": "stream",
     "text": [
      "['ombh2' 'omch2' 'H0' 'As' 'ns' 'mnu' 'wa' 'bin1']\n"
     ]
    }
   ],
   "source": [
    "# Byeonghee's result:\n",
    "# This used lmin 50, lmax 1000, halofit\n",
    "sigmasB1 = {\n",
    "    #sigma(b) (4 bins) =  [ 0.01220295  0.0092872   0.01058874  0.03529165]\n",
    "    'cosmomc_theta' : 0.00015113283201,\n",
    "    'ombh2' : 0.000504509008534,\n",
    "    'omch2' : 0.00151341881388,\n",
    "    'ns' : 0.00732594856064,\n",
    "    'As' : 0.0618279762973*1e-9,\n",
    "    'mnu' : 0.0564262366597,\n",
    "    'w' : 0.088058950571,\n",
    "    'tau' : 0.0595781322066,\n",
    "    'bin1' : 0.01220295,\n",
    "    'bin2' : 0.0092872,\n",
    "    'bin3' : 0.01058874,\n",
    "    'bin4' : 0.03529165\n",
    "}\n",
    "# This used lmin 50, lmax 1000, halofit, bias by bin\n",
    "sigmasB2 = {\n",
    "    'cosmomc_theta' : 7.31905124578e-05,\n",
    "    'ombh2' : 0.00117829505232,\n",
    "    'omch2' : 0.00253188668652,\n",
    "    'ns' : 0.0107531686379,\n",
    "    'As' : 0.0836156981509*1e-9,\n",
    "    'mnu' : 0.110362820478,\n",
    "    'w' : 0.0933472979446,\n",
    "    'tau' : 8.65882116522,\n",
    "    'bin1' : 0.01120403,\n",
    "    'bin2' : 0.0123868,\n",
    "    'bin3' : 0.01398429,\n",
    "    'bin4' : 0.0143556\n",
    "}\n",
    "# This one was after a late fix Byeonghee did:\n",
    "\"\"\"\n",
    "+---------------+--------------+--------------+\n",
    "|   Parameter   | sigma_Z(k,g) | sigma_B(k,g) | \n",
    "+---------------+--------------+--------------+\n",
    "|     ombh2     |   0.00182    |   0.00118    |    \n",
    "|     omch2     |   0.00509    |   0.00253    |     \n",
    "| cosmomc_theta |   6.51e-05   |   7.58e-05   |     \n",
    "|       As      |   9.26e-11   |   1.29e-10   |     \n",
    "|       ns      |    0.0116    |    0.0190    |    \n",
    "|      tau      |     0.33     |     8.26     |    \n",
    "|      mnu      |    0.0884    |     0.11     |      \n",
    "|       w       |    0.0448    |    0.0411    |       \n",
    "|      bin1     |    0.011     |    0.0063    |      \n",
    "|      bin2     |    0.0141    |    0.0056    |    \n",
    "|      bin3     |    0.0195    |    0.0054    |     \n",
    "|      bin4     |    0.0236    |    0.0047    |\n",
    "+---------------+--------------+--------------+\"\"\"\n",
    "sigmasB3 = {\n",
    "    'cosmomc_theta' : 7.58e-05,\n",
    "    'ombh2' : 0.00118,\n",
    "    'omch2' : 0.00253,\n",
    "    'ns' : 0.0190,\n",
    "    'As' : 1.29e-10,\n",
    "    'mnu' : 0.11,\n",
    "    'w' : 0.0411,\n",
    "    'tau' : 8.26,\n",
    "    'bin1' : 0.0063,\n",
    "    'bin2' : 0.0056,\n",
    "    'bin3' : 0.0054,\n",
    "    'bin4' : 0.0047\n",
    "}\n",
    "\"\"\"sigma(b)/b (4 bins) =  [ 0.0063022   0.00560226  0.00540911  0.00466538]\n",
    "sigma(cosmomc_theta) =  7.58276477127e-05\n",
    "sigma(\\Omega_bh^2) =  0.00206850078114\n",
    "sigma(\\Omega_ch^2) =  0.00624934014317\n",
    "sigma(n_s) =  0.0190489068958\n",
    "sigma(10^9A_s) =  0.129011144081\n",
    "sigma(m_{nu}) =  0.11056107791\n",
    "sigma(w) =  0.0411035064527\n",
    "sigma(tau) =  8.25658593413\"\"\"\n",
    "sigmasB4 = {\n",
    "    'cosmomc_theta' : 7.58276477127e-05,\n",
    "    'ombh2' : 0.00206850078114,\n",
    "    'omch2' : 0.00624934014317,\n",
    "    'ns' : 0.0190489068958,\n",
    "    'As' : 0.129011144081e-9,\n",
    "    'mnu' : 0.11056107791,\n",
    "    'w' : 0.0411035064527,\n",
    "    'tau' : 8.25658593413,\n",
    "    'bin1' : 0.0063022,\n",
    "    'bin2' : 0.00560226,\n",
    "    'bin3' : 0.00540911,\n",
    "    'bin4' : 0.00466538\n",
    "}\n",
    "\"\"\"Now do the one that has had w and tau removed\n",
    "sigma(b) (4 bins) =  [ 0.00553446  0.00386324  0.00346112  0.0028168 ]\n",
    "sigma(cosmomc_theta) =  5.3458847331e-05\n",
    "sigma(\\Omega_bh^2) =  0.00164438257858\n",
    "sigma(\\Omega_ch^2) =  0.00435030886836\n",
    "sigma(n_s) =  0.00865043065069\n",
    "sigma(10^9A_s) =  0.0723781128272\n",
    "sigma(m_{nu}) =  0.0667167394008\n",
    "\"\"\"\n",
    "sigmasB5_no_w_tau = {\n",
    "    'cosmomc_theta' : 5.3458847331e-05,\n",
    "    'ombh2' : 0.00164438257858,\n",
    "    'omch2' : 0.00435030886836,\n",
    "    'ns' : 0.00865043065069,\n",
    "    'As' : 0.0723781128272e-9,\n",
    "    'mnu' : 0.0667167394008,\n",
    "    'bin1' : 0.00553446,\n",
    "    'bin2' : 0.00386324,\n",
    "    'bin3' : 0.00346112,\n",
    "    'bin4' : 0.0028168\n",
    "}\n",
    "\n",
    "sigmasB = sigmasB5_no_w_tau\n",
    "\n",
    "print paramList\n"
   ]
  },
  {
   "cell_type": "code",
   "execution_count": 18,
   "metadata": {
    "scrolled": true
   },
   "outputs": [
    {
     "ename": "KeyError",
     "evalue": "'H0'",
     "output_type": "error",
     "traceback": [
      "\u001b[0;31m---------------------------------------------------------------------------\u001b[0m",
      "\u001b[0;31mKeyError\u001b[0m                                  Traceback (most recent call last)",
      "\u001b[0;32m<ipython-input-18-02e4caf77f21>\u001b[0m in \u001b[0;36m<module>\u001b[0;34m()\u001b[0m\n\u001b[1;32m      3\u001b[0m \u001b[0;32mfor\u001b[0m \u001b[0mi\u001b[0m\u001b[0;34m,\u001b[0m\u001b[0mp\u001b[0m \u001b[0;32min\u001b[0m \u001b[0menumerate\u001b[0m\u001b[0;34m(\u001b[0m\u001b[0mparamList\u001b[0m\u001b[0;34m[\u001b[0m\u001b[0;34m:\u001b[0m\u001b[0;36m6\u001b[0m\u001b[0;34m]\u001b[0m\u001b[0;34m)\u001b[0m\u001b[0;34m:\u001b[0m\u001b[0;34m\u001b[0m\u001b[0m\n\u001b[1;32m      4\u001b[0m     \u001b[0mZi\u001b[0m \u001b[0;34m=\u001b[0m \u001b[0msigmas2\u001b[0m\u001b[0;34m[\u001b[0m\u001b[0mi\u001b[0m\u001b[0;34m]\u001b[0m\u001b[0;34m\u001b[0m\u001b[0m\n\u001b[0;32m----> 5\u001b[0;31m     \u001b[0mBi\u001b[0m \u001b[0;34m=\u001b[0m \u001b[0msigmasB\u001b[0m\u001b[0;34m[\u001b[0m\u001b[0mparamList\u001b[0m\u001b[0;34m[\u001b[0m\u001b[0mi\u001b[0m\u001b[0;34m]\u001b[0m\u001b[0;34m]\u001b[0m\u001b[0;34m\u001b[0m\u001b[0m\n\u001b[0m\u001b[1;32m      6\u001b[0m     \u001b[0mdiff\u001b[0m \u001b[0;34m=\u001b[0m \u001b[0;34m(\u001b[0m\u001b[0mBi\u001b[0m\u001b[0;34m-\u001b[0m\u001b[0mZi\u001b[0m\u001b[0;34m)\u001b[0m\u001b[0;34m/\u001b[0m\u001b[0mZi\u001b[0m \u001b[0;34m*\u001b[0m\u001b[0;36m100\u001b[0m\u001b[0;34m\u001b[0m\u001b[0m\n\u001b[1;32m      7\u001b[0m     \u001b[0mt\u001b[0m\u001b[0;34m.\u001b[0m\u001b[0madd_row\u001b[0m\u001b[0;34m(\u001b[0m\u001b[0;34m[\u001b[0m\u001b[0mp\u001b[0m\u001b[0;34m,\u001b[0m\u001b[0;34m\"%5.3g\"\u001b[0m \u001b[0;34m%\u001b[0m \u001b[0mZi\u001b[0m\u001b[0;34m,\u001b[0m\u001b[0;34m\"%5.3g\"\u001b[0m \u001b[0;34m%\u001b[0m \u001b[0mBi\u001b[0m\u001b[0;34m,\u001b[0m \u001b[0;34m\"%5.3g\"\u001b[0m \u001b[0;34m%\u001b[0m \u001b[0mdiff\u001b[0m \u001b[0;34m]\u001b[0m \u001b[0;34m)\u001b[0m\u001b[0;34m\u001b[0m\u001b[0m\n",
      "\u001b[0;31mKeyError\u001b[0m: 'H0'"
     ]
    }
   ],
   "source": [
    "from prettytable import PrettyTable\n",
    "t = PrettyTable(['Parameter', 'sigma_Z(k,g)','sigma_B(k,g)','percent diff.'])\n",
    "for i,p in enumerate(paramList[:6]):\n",
    "    Zi = sigmas2[i]\n",
    "    Bi = sigmasB[paramList[i]]\n",
    "    diff = (Bi-Zi)/Zi *100\n",
    "    t.add_row([p,\"%5.3g\" % Zi,\"%5.3g\" % Bi, \"%5.3g\" % diff ] )\n",
    "print t\n"
   ]
  },
  {
   "cell_type": "code",
   "execution_count": null,
   "metadata": {},
   "outputs": [],
   "source": []
  },
  {
   "cell_type": "markdown",
   "metadata": {},
   "source": [
    "# check the power spectra for blips or worse"
   ]
  },
  {
   "cell_type": "code",
   "execution_count": null,
   "metadata": {},
   "outputs": [],
   "source": [
    "# check the power spectra for blips or worse\n",
    "print 'example: (5,5,999) means 999 symmetric 5x5 matrices, one at each ell'\n",
    "print Fobj.crossCls.shape\n",
    "print Fobj.crossClsPlus.shape\n",
    "print Fobj.crossClsMinus.shape\n",
    "nMaps = Fobj.nBins+1\n",
    "ells = Fobj.ells\n",
    "print 'nMaps =',nMaps\n",
    "nCosParams = Fobj.nParams - Fobj.nBins\n",
    "print 'nCosParams =',nCosParams\n",
    "paramList = Fobj.paramList\n",
    "print 'paramList =',paramList\n",
    "obsList = Fobj.obsList\n",
    "print 'obsList =',obsList\n",
    "obsNames = Fobj.obsNames\n",
    "#obsNames = ['k,k', 'k,g1', 'k,g2', 'k,g3', 'k,g4', 'g1,g1', 'g1,g2', 'g1,g3', 'g1,g4', 'g2,g2', 'g2,g3', 'g2,g4', 'g3,g3', 'g3,g4', 'g4,g4']\n",
    "print 'obsNames =',obsNames\n"
   ]
  },
  {
   "cell_type": "code",
   "execution_count": null,
   "metadata": {},
   "outputs": [],
   "source": []
  },
  {
   "cell_type": "code",
   "execution_count": null,
   "metadata": {},
   "outputs": [],
   "source": []
  },
  {
   "cell_type": "markdown",
   "metadata": {},
   "source": [
    "# Plot the power spectra used to make the discrete derivatives"
   ]
  },
  {
   "cell_type": "code",
   "execution_count": null,
   "metadata": {
    "scrolled": true
   },
   "outputs": [],
   "source": [
    "%matplotlib inline\n",
    "for param in range(nCosParams):        \n",
    "    for obs1 in range(nMaps):\n",
    "        for obs2 in range(obs1,nMaps):\n",
    "            if obs1 == 0 or obs1 == obs2:\n",
    "                nominal = Fobj.crossCls[obs1,obs2]\n",
    "                plus = Fobj.crossClsPlus[obs1,obs2,param]\n",
    "                minus = Fobj.crossClsMinus[obs1,obs2,param]\n",
    "                obsName = obsNames[obs1*nMaps+obs2 - obs1*(obs1+1)/2]\n",
    "                f, axarr = plt.subplots(1,2,figsize=(20,6))\n",
    "                \n",
    "                plt.sca(axarr[0])\n",
    "                plt.semilogx(ells,nominal,label='fiducial '+paramList[param],color='b')\n",
    "                plt.semilogx(ells,plus,label=paramList[param]+r' $+ \\Delta$'+paramList[param],color='r')\n",
    "                plt.semilogx(ells,minus,label=paramList[param]+r' $- \\Delta$'+paramList[param],color='g')\n",
    "                plt.title(r'$C_\\ell^{{{0}}}$({1})'.format(obsName,paramList[param]))\n",
    "                plt.xlabel(r'$\\ell$')\n",
    "                plt.legend()\n",
    "                \n",
    "                plt.sca(axarr[1])\n",
    "                plt.plot(ells,(plus-nominal)/nominal,label=r'$(\\Delta C_\\ell^+) / C_\\ell$',color='r')\n",
    "                plt.plot(ells,(nominal-minus)/nominal,label=r'$(\\Delta C_\\ell^-) / C_\\ell$',color='g')\n",
    "                plt.title(r'Fractional change to $C_\\ell^{{{0}}}$({1})'.format(obsName,paramList[param]))\n",
    "                plt.xlabel(r'$\\ell$')\n",
    "                plt.legend()\n",
    "                \n",
    "                plt.show()\n"
   ]
  },
  {
   "cell_type": "code",
   "execution_count": null,
   "metadata": {},
   "outputs": [],
   "source": [
    "# apparently the \"Rebuild\" notebook that added w, wa did not augment crossClsPlus, Minus like crossCls, etc."
   ]
  },
  {
   "cell_type": "code",
   "execution_count": null,
   "metadata": {},
   "outputs": [],
   "source": []
  },
  {
   "cell_type": "markdown",
   "metadata": {},
   "source": [
    "# Plot the discrete derivatives"
   ]
  },
  {
   "cell_type": "code",
   "execution_count": null,
   "metadata": {},
   "outputs": [],
   "source": [
    "dClVecs = Fobj.dClVecs\n",
    "print lmax\n",
    "print lmin\n",
    "print dClVecs.shape\n",
    "print '(nCls,nParams,lmax-1) (or lmax-lmin+1 with lmin=2)'\n",
    "nCls = nMaps*(nMaps+1)/2\n",
    "print 'nCls:',nCls\n",
    "nParams = nCosParams+Fobj.nBins\n",
    "print 'nParams:',nParams"
   ]
  },
  {
   "cell_type": "code",
   "execution_count": null,
   "metadata": {},
   "outputs": [],
   "source": [
    "# this turned out not to be as nice as the next attempt, below\n",
    "\"\"\"\n",
    "%matplotlib inline\n",
    "for ClNum in range(nCls):\n",
    "    #print ClNum\n",
    "    plt.figure()\n",
    "    for paramNum in range(nParams):        \n",
    "        plt.semilogx(ells,dClVecs[ClNum,paramNum],label=r'$dC_\\ell/d${{{0}}}'.format(paramList[paramNum]))\n",
    "    plt.title(r'$dC_\\ell^{{{0}}}/d\\theta$'.format(obsNames[ClNum]))\n",
    "    plt.xlabel(r'$\\ell$')\n",
    "    plt.legend()\n",
    "    plt.show()\n",
    "\"\"\""
   ]
  },
  {
   "cell_type": "code",
   "execution_count": null,
   "metadata": {
    "scrolled": true
   },
   "outputs": [],
   "source": [
    "%matplotlib inline\n",
    "for paramNum in range(nParams):    \n",
    "    #print paramNum\n",
    "    #plt.figure()\n",
    "    \n",
    "    f, axarr = plt.subplots(1,2,figsize=(20,6))            \n",
    "    for obs1 in range(nMaps):\n",
    "        for obs2 in range(obs1,nMaps):\n",
    "            if obs1 == 0 or obs1 == obs2:\n",
    "                ClNum = obs1*nMaps+obs2 - obs1*(obs1+1)/2\n",
    "                #obsName = obsNames[ClNum]\n",
    "                \n",
    "                if obs1 == 0: # cross with kappa\n",
    "                    plt.sca(axarr[1])\n",
    "                    plt.semilogx(ells,dClVecs[ClNum,paramNum],label=obsNames[ClNum]) #r'$dC_\\ell^{{{0}}}/d\\theta$'.format(obsNames[ClNum]))\n",
    "\n",
    "                if obs1 == obs2: # auto power\n",
    "                    plt.sca(axarr[0])\n",
    "                    plt.semilogx(ells,dClVecs[ClNum,paramNum],label=obsNames[ClNum]) #r'$dC_\\ell^{{{0}}}/d\\theta$'.format(obsNames[ClNum]))\n",
    "\n",
    "    plt.sca(axarr[1])            \n",
    "    plt.title(r'$dC_\\ell^{{\\alpha\\beta}}/d${{{0}}}'.format(paramList[paramNum]))\n",
    "    plt.xlabel(r'$\\ell$')\n",
    "    plt.legend()\n",
    "    \n",
    "    plt.sca(axarr[0])            \n",
    "    plt.title(r'$dC_\\ell^{{\\alpha\\alpha}}/d${{{0}}}'.format(paramList[paramNum]))\n",
    "    plt.xlabel(r'$\\ell$')\n",
    "    plt.legend()\n",
    "    \n",
    "    plt.show()\n",
    "    \n",
    "print 'done'"
   ]
  },
  {
   "cell_type": "code",
   "execution_count": null,
   "metadata": {},
   "outputs": [],
   "source": []
  },
  {
   "cell_type": "code",
   "execution_count": null,
   "metadata": {},
   "outputs": [],
   "source": []
  },
  {
   "cell_type": "code",
   "execution_count": null,
   "metadata": {},
   "outputs": [],
   "source": []
  },
  {
   "cell_type": "markdown",
   "metadata": {},
   "source": [
    "# Match Byeonghee's plots"
   ]
  },
  {
   "cell_type": "code",
   "execution_count": null,
   "metadata": {
    "scrolled": true
   },
   "outputs": [],
   "source": [
    "# dndz in bins\n",
    "#dndzFuncs = []\n",
    "%matplotlib inline\n",
    "zs = np.linspace(0,4,1000)\n",
    "z0 = 0.3\n",
    "plt.figure()\n",
    "for binNum in range(4):\n",
    "    dndzF = cp.getDNDZinterp(binNum=binNum,zmin=0,zmax=4,nBins=4,z0=z0)\n",
    "    plt.semilogy(zs,dndzF(zs))\n",
    "plt.ylim([1e-5,1e2])\n",
    "plt.xlim([0,7])\n",
    "plt.xlabel('redshift',fontsize=15)\n",
    "plt.ylabel('dn/dz',fontsize=15)\n",
    "plt.title('LSST dn/dz')\n",
    "plt.show()"
   ]
  },
  {
   "cell_type": "code",
   "execution_count": null,
   "metadata": {},
   "outputs": [],
   "source": []
  },
  {
   "cell_type": "markdown",
   "metadata": {},
   "source": [
    "# Byeonhgee_s Cl derivatives, version 1"
   ]
  },
  {
   "cell_type": "code",
   "execution_count": null,
   "metadata": {},
   "outputs": [],
   "source": [
    "# load some of Byeonghee's stuff\n",
    "ByeDir = 'Byeonghee_dat/'\n",
    "nThetas = 8\n",
    "# prepare some empty lists to laod data into\n",
    "dClg1g1 = []\n",
    "dClkg1  = []\n",
    "dClkk   = []\n",
    "for thetaNum in range(nThetas):\n",
    "    dClg1g1.append( np.loadtxt(ByeDir+'dclg1g1_theta{0}.dat'.format(thetaNum+1)) )\n",
    "    dClkg1.append( np.loadtxt(ByeDir+'dclkg1_theta{0}.dat'.format(thetaNum+1)) )\n",
    "    dClkk.append( np.loadtxt(ByeDir+'dclkk_theta{0}.dat'.format(thetaNum+1)) )\n",
    "    \n",
    "print dClg1g1[0].shape\n",
    "print dClkg1[0].shape\n",
    "print dClkk[0].shape\n",
    "\n",
    "bElls = np.arange(2000)+2\n",
    "print bElls[0]"
   ]
  },
  {
   "cell_type": "code",
   "execution_count": null,
   "metadata": {
    "scrolled": true
   },
   "outputs": [],
   "source": [
    "# plot them to make sure they look like I expect\n",
    "%matplotlib inline\n",
    "for thetaNum in range(nThetas):\n",
    "    f, axarr = plt.subplots(1,2,figsize=(20,6)) \n",
    "    \n",
    "    plt.sca(axarr[0])\n",
    "    plt.semilogx(bElls,dClkk[thetaNum],label = 'kk')\n",
    "    plt.semilogx(bElls,dClg1g1[thetaNum],label = 'g1g1')\n",
    "    plt.title(r'$dC_\\ell^{{\\alpha\\alpha}}/d${{theta{0}}}'.format(thetaNum+1))\n",
    "    plt.xlabel(r'$\\ell$')\n",
    "    plt.legend()\n",
    "    \n",
    "    plt.sca(axarr[1])\n",
    "    plt.semilogx(bElls,dClkk[thetaNum],label = 'kk')\n",
    "    plt.semilogx(bElls,dClkg1[thetaNum],label = 'kg1')\n",
    "    plt.title(r'$dC_\\ell^{{\\alpha\\beta}}/d${{theta{0}}}'.format(thetaNum+1))\n",
    "    plt.xlabel(r'$\\ell$')\n",
    "    plt.legend()\n",
    "    \n",
    "    plt.show()"
   ]
  },
  {
   "cell_type": "code",
   "execution_count": null,
   "metadata": {},
   "outputs": [],
   "source": [
    "# Dictionary to map my param numbers to Byeonghee's   (need to deal with 10^9 factor on As too)\n",
    "ByeParams = ['cosmomc_theta','ombh2','omch2','ns','As','mnu','w','tau']\n",
    "# my param numbers\n",
    "print paramList\n",
    "print ByeParams\n",
    "ByeDict = {2:0,0:1,1:2,4:3,3:4,6:5,7:6,5:7}\n",
    "for paramNum in range(8):\n",
    "    print 'Zparam {0}, Bparam {1}'.format(paramList[paramNum],ByeParams[ByeDict[paramNum]])"
   ]
  },
  {
   "cell_type": "code",
   "execution_count": null,
   "metadata": {},
   "outputs": [],
   "source": [
    "# adjust scale on As values\n",
    "dClg1g1[4] *=1e9\n",
    "dClkg1[4]  *=1e9\n",
    "dClkk[4]   *=1e9"
   ]
  },
  {
   "cell_type": "code",
   "execution_count": null,
   "metadata": {
    "scrolled": false
   },
   "outputs": [],
   "source": [
    "# make combined plot\n",
    "#%matplotlib qt\n",
    "colors = ['b','g','r','r','r','r']\n",
    "nMaps = 5#2\n",
    "obsToPlot = [0,1,5] # kk,kg1,g1g1\n",
    "for paramNum in range(nCosParams):    \n",
    "    f, axarr = plt.subplots(1,2,figsize=(20,6))            \n",
    "    for obs1 in range(nMaps):\n",
    "        for obs2 in range(obs1,nMaps):\n",
    "            if obs1 == 0 or obs1 == obs2:\n",
    "                ClNum = obs1*nMaps+obs2 - obs1*(obs1+1)/2\n",
    "                #obsName = obsNames[ClNum]\n",
    "                \n",
    "                if obs1 == 0 and ClNum in obsToPlot: # cross with kappa\n",
    "                    plt.sca(axarr[1])\n",
    "                    plt.semilogx(ells,dClVecs[ClNum,paramNum],label='Z_'+obsNames[ClNum],color=colors[ClNum])\n",
    "\n",
    "                if obs1 == obs2 and ClNum in obsToPlot: # auto power\n",
    "                    plt.sca(axarr[0])\n",
    "                    plt.semilogx(ells,dClVecs[ClNum,paramNum],label='Z_'+obsNames[ClNum],color=colors[ClNum])\n",
    "\n",
    "    plt.sca(axarr[1])            \n",
    "    plt.semilogx(bElls,dClkk[ByeDict[paramNum]],label = 'Bye_k,k',linestyle='--',color=colors[0])\n",
    "    plt.semilogx(bElls,dClkg1[ByeDict[paramNum]],label = 'Bye_k,g1',linestyle='--',color=colors[1])\n",
    "    plt.title(r'$dC_\\ell^{{\\alpha\\beta}}/d${{{0}}}'.format(paramList[paramNum]))\n",
    "    plt.xlabel(r'$\\ell$')\n",
    "    plt.legend()\n",
    "    \n",
    "    plt.sca(axarr[0])            \n",
    "    plt.semilogx(bElls,dClkk[ByeDict[paramNum]],label = 'Bye_k,k',linestyle='--',color=colors[0])\n",
    "    plt.semilogx(bElls,dClg1g1[ByeDict[paramNum]],label = 'Bye_g1,g1',linestyle='--',color=colors[2])\n",
    "    plt.title(r'$dC_\\ell^{{\\alpha\\alpha}}/d${{{0}}}'.format(paramList[paramNum]))\n",
    "    plt.xlabel(r'$\\ell$')\n",
    "    plt.legend()\n",
    "    \n",
    "    plt.show()\n",
    "    \n",
    "print 'done'"
   ]
  },
  {
   "cell_type": "code",
   "execution_count": null,
   "metadata": {},
   "outputs": [],
   "source": []
  },
  {
   "cell_type": "markdown",
   "metadata": {},
   "source": [
    "# Byeonhgee_s Cl derivatives, version 3"
   ]
  },
  {
   "cell_type": "code",
   "execution_count": null,
   "metadata": {},
   "outputs": [],
   "source": [
    "# load some of Byeonghee's stuff\n",
    "ByeDir = 'Byeonghee_dat3/'\n",
    "nBins = 4\n",
    "# prepare some empty lists to load data into\n",
    "dClgg = []\n",
    "dClkg  = []\n",
    "for binNum in range(nBins):\n",
    "    dClgg.append( np.loadtxt(ByeDir+'dclg{0}g{0}_dmnu.dat'.format(binNum+1)) )\n",
    "    dClkg.append( np.loadtxt(ByeDir+'dclkg{0}_dmnu.dat'.format(binNum+1)) )\n",
    "    \n",
    "print dClgg.__len__()\n",
    "print dClkg.__len__()\n",
    "print dClgg[0].shape\n",
    "print dClkg[0].shape\n",
    "\n",
    "bElls = np.arange(2000)+2\n",
    "print bElls[0]"
   ]
  },
  {
   "cell_type": "code",
   "execution_count": null,
   "metadata": {
    "scrolled": true
   },
   "outputs": [],
   "source": [
    "# make combined plot\n",
    "#%matplotlib qt\n",
    "#colors = ['b','g','r','r','r','r']\n",
    "nMaps = 5#2\n",
    "#obsToPlot = [0,1,5] # kk,kg1,g1g1\n",
    "obsToPlot = [0,1,2,3,4,5, 9,12,14] # kk,kg1,kg2,kg3,kg4,g1g1,  g2g2,g3g3,g4g4\n",
    "\n",
    "paramNum = 6\n",
    "f, axarr = plt.subplots(1,2,figsize=(20,6))            \n",
    "#\"\"\"\n",
    "for obs1 in range(nMaps):\n",
    "    for obs2 in range(obs1,nMaps):\n",
    "        if obs1 == 0 or obs1 == obs2:\n",
    "            ClNum = obs1*nMaps+obs2 - obs1*(obs1+1)/2\n",
    "            #obsName = obsNames[ClNum]\n",
    "\n",
    "            if obs1 == 0 and ClNum in obsToPlot: # cross with kappa\n",
    "                plt.sca(axarr[1])\n",
    "                plt.semilogx(ells,dClVecs[ClNum,paramNum],label='Z_'+obsNames[ClNum],color='C{0}'.format(obs2))\n",
    "                \n",
    "            if obs1 == obs2 and ClNum in obsToPlot: # auto power\n",
    "                plt.sca(axarr[0])\n",
    "                plt.semilogx(ells,dClVecs[ClNum,paramNum],label='Z_'+obsNames[ClNum],color='C{0}'.format(obs2))\n",
    "#\"\"\"\n",
    "\n",
    "plt.sca(axarr[1])            \n",
    "plt.semilogx(bElls,dClkk[ByeDict[paramNum]],label = 'Bye_k,k',linestyle='--',color='C0')\n",
    "for obs1 in range(nBins):\n",
    "    plt.semilogx(bElls,dClkg[obs1],label = 'Bye_k,g{0}'.format(obs1+1),linestyle='--',color='C{0}'.format(obs1+1))\n",
    "plt.title(r'$dC_\\ell^{{\\alpha\\beta}}/d${{{0}}}'.format(paramList[paramNum]))\n",
    "plt.xlabel(r'$\\ell$')\n",
    "plt.legend()\n",
    "\n",
    "plt.sca(axarr[0])            \n",
    "plt.semilogx(bElls,dClkk[ByeDict[paramNum]],label = 'Bye_k,k',linestyle='--',color='C0')\n",
    "for obs1 in range(nBins):\n",
    "    plt.semilogx(bElls,dClgg[obs1],label = 'Bye_g{0},g{0}'.format(obs1+1),linestyle='--',color='C{0}'.format(obs1+1))\n",
    "plt.title(r'$dC_\\ell^{{\\alpha\\alpha}}/d${{{0}}}'.format(paramList[paramNum]))\n",
    "plt.xlabel(r'$\\ell$')\n",
    "plt.legend()\n",
    "\n",
    "plt.show()\n",
    "    \n",
    "print 'done'"
   ]
  },
  {
   "cell_type": "code",
   "execution_count": null,
   "metadata": {},
   "outputs": [],
   "source": []
  },
  {
   "cell_type": "markdown",
   "metadata": {},
   "source": [
    "# Compare Cl.s"
   ]
  },
  {
   "cell_type": "code",
   "execution_count": null,
   "metadata": {},
   "outputs": [],
   "source": [
    "# read Byeonghee's Cls\n",
    "ByeDir = 'Byeonghee_dat/'\n",
    "N = 4\n",
    "Y = np.loadtxt(ByeDir+'cl_kki.dat')\n",
    "cl_kki = Y[:,].reshape(N,-1)\n",
    "# Why did he send kki?  This does not appear in our formulae anywhere!  Or is this really kiki?\n",
    "\n",
    "Y = np.loadtxt(ByeDir+'cl_kg.dat')\n",
    "cl_kg = Y[:,].reshape(N,-1)\n",
    "\n",
    "Y = np.loadtxt(ByeDir+'cl_gg.dat')\n",
    "cl_gg = Y[:,].reshape(N,-1)\n",
    "\n",
    "Y = np.loadtxt(ByeDir+'cl_kk.dat')\n",
    "cl_kk = Y\n",
    "\n",
    "print cl_kki.shape,cl_kg.shape,cl_gg.shape,cl_kk.shape"
   ]
  },
  {
   "cell_type": "code",
   "execution_count": null,
   "metadata": {},
   "outputs": [],
   "source": [
    "# plot auto power spectra\n",
    "#%matplotlib notebook\n",
    "f, axarr = plt.subplots(1,2,figsize=(20,6))\n",
    "print Fobj.crossCls.shape\n",
    "# auto power are on diagonal\n",
    "print nMaps\n",
    "labels = ['k','g1','g2','g3','g4']\n",
    "bEllsMax = ells.size\n",
    "for mapNum in range(nMaps):\n",
    "    ZcrossCls = Fobj.crossCls[mapNum,mapNum]\n",
    "    if mapNum == 0:\n",
    "        BcrossCls = cl_kk\n",
    "    else:\n",
    "        BcrossCls = cl_gg[mapNum-1]\n",
    "        \n",
    "    plt.sca(axarr[0])\n",
    "    plt.loglog(ells,ZcrossCls,label=labels[mapNum],color='C{0}'.format(mapNum))\n",
    "    plt.loglog(bElls,BcrossCls,label='Bye_'+labels[mapNum],linestyle='--',color='C{0}'.format(mapNum))\n",
    "    \n",
    "    plt.sca(axarr[1])\n",
    "    plt.plot(ells,(ZcrossCls-BcrossCls[:bEllsMax])*100/ZcrossCls,color='C{0}'.format(mapNum),label=labels[mapNum])\n",
    "    \n",
    "    \n",
    "plt.sca(axarr[0])\n",
    "plt.xlabel(r'$\\ell$',fontsize=15)\n",
    "plt.ylabel('auto power',fontsize=15)\n",
    "plt.title('auto power')\n",
    "plt.legend()\n",
    "\n",
    "plt.sca(axarr[1])\n",
    "plt.xlabel(r'$\\ell$',fontsize=15)\n",
    "plt.ylabel('percent',fontsize=15)\n",
    "plt.title('percent difference')\n",
    "plt.legend()\n",
    "\n",
    "\n",
    "plt.show()"
   ]
  },
  {
   "cell_type": "code",
   "execution_count": null,
   "metadata": {},
   "outputs": [],
   "source": [
    "\"\"\"# plot auto power spectra\n",
    "plt.figure()\n",
    "print Fobj.crossCls.shape\n",
    "# auto power are on diagonal\n",
    "print nMaps\n",
    "labels = ['k','g1','g2','g3','g4']\n",
    "for mapNum in range(nMaps):\n",
    "    plt.loglog(ells,Fobj.crossCls[mapNum,mapNum],label=labels[mapNum])\n",
    "plt.xlabel(r'$\\ell$',fontsize=15)\n",
    "plt.ylabel('auto power',fontsize=15)\n",
    "plt.legend()\n",
    "plt.show()\n",
    "\"\"\""
   ]
  },
  {
   "cell_type": "code",
   "execution_count": null,
   "metadata": {},
   "outputs": [],
   "source": [
    "# plot kappa cross galaxy spectra\n",
    "#%matplotlib notebook\n",
    "f, axarr = plt.subplots(1,2,figsize=(20,6))\n",
    "print Fobj.crossCls.shape\n",
    "# auto power are on diagonal\n",
    "print nMaps\n",
    "labels = ['kk','kg1','kg2','kg3','kg4']\n",
    "bEllsMax = ells.size\n",
    "for mapNum in range(nMaps):\n",
    "    ZcrossCls = Fobj.crossCls[0,mapNum]\n",
    "    if mapNum == 0:\n",
    "        BcrossCls = cl_kk\n",
    "    else:\n",
    "        BcrossCls = cl_kg[mapNum-1]\n",
    "        \n",
    "        \n",
    "    plt.sca(axarr[0])\n",
    "    plt.loglog(ells,ZcrossCls,label=labels[mapNum],color='C{0}'.format(mapNum))\n",
    "    plt.loglog(bElls,BcrossCls,label='Bye_'+labels[mapNum],linestyle='--',color='C{0}'.format(mapNum))\n",
    "    \n",
    "    plt.sca(axarr[1])\n",
    "    plt.plot(ells,(ZcrossCls-BcrossCls[:bEllsMax])*100/ZcrossCls,color='C{0}'.format(mapNum),label=labels[mapNum])\n",
    "    \n",
    "    \n",
    "plt.sca(axarr[0])\n",
    "plt.xlabel(r'$\\ell$',fontsize=15)\n",
    "plt.ylabel('cross power',fontsize=15)\n",
    "plt.title('cross power')\n",
    "plt.legend()\n",
    "\n",
    "plt.sca(axarr[1])\n",
    "plt.xlabel(r'$\\ell$',fontsize=15)\n",
    "plt.ylabel('percent',fontsize=15)\n",
    "plt.title('percent difference')\n",
    "plt.legend()\n",
    "\n",
    "\n",
    "plt.show()"
   ]
  },
  {
   "cell_type": "code",
   "execution_count": null,
   "metadata": {},
   "outputs": [],
   "source": [
    "\"\"\"# plot kappa cross galaxy spectra\n",
    "plt.figure()\n",
    "print Fobj.crossCls.shape\n",
    "# auto power are on diagonal\n",
    "print nMaps\n",
    "labels = ['kk','kg1','kg2','kg3','kg4']\n",
    "for mapNum in range(1,nMaps):\n",
    "    plt.loglog(ells,Fobj.crossCls[0,mapNum],label=labels[mapNum])\n",
    "plt.xlabel(r'$\\ell$',fontsize=15)\n",
    "plt.ylabel('cross power',fontsize=15)\n",
    "plt.legend()\n",
    "plt.show()\n",
    "\"\"\""
   ]
  },
  {
   "cell_type": "code",
   "execution_count": null,
   "metadata": {},
   "outputs": [],
   "source": [
    "#plot correlation coefficients\n",
    "#%matplotlib notebook\n",
    "f, axarr = plt.subplots(1,2,figsize=(20,6))\n",
    "labels = ['kk','kg1','kg2','kg3','kg4']\n",
    "bEllsMax = ells.size\n",
    "for mapNum in range(1,nMaps):\n",
    "    Clkg = Fobj.crossCls[0,mapNum]\n",
    "    Clkk = Fobj.crossCls[0,0]\n",
    "    Clgg = Fobj.crossCls[mapNum,mapNum]\n",
    "    r = Clkg/np.sqrt(Clkk*Clgg)\n",
    "    Br = cl_kg[mapNum-1]/np.sqrt(cl_kk*cl_gg[mapNum-1])\n",
    "             \n",
    "    plt.sca(axarr[0])\n",
    "    plt.semilogx(ells,r,label=labels[mapNum],color='C{0}'.format(mapNum))\n",
    "    plt.semilogx(bElls,Br,label='Bye_'+labels[mapNum],linestyle='--',color='C{0}'.format(mapNum))\n",
    "    \n",
    "    plt.sca(axarr[1])\n",
    "    plt.plot(ells,(r-Br[:bEllsMax])*100/r,color='C{0}'.format(mapNum),label=labels[mapNum])\n",
    "    \n",
    "plt.sca(axarr[0])\n",
    "plt.xlabel(r'$\\ell$',fontsize=15)\n",
    "plt.ylabel('Correlation with Cl^kk',fontsize=15)\n",
    "plt.ylim([0,1])\n",
    "plt.title('Correlation with Cl^kk')\n",
    "plt.legend()\n",
    "\n",
    "plt.sca(axarr[1])\n",
    "plt.xlabel(r'$\\ell$',fontsize=15)\n",
    "plt.ylabel('percent',fontsize=15)\n",
    "plt.title('percent difference')\n",
    "plt.legend()\n",
    "\n",
    "\n",
    "plt.show()"
   ]
  },
  {
   "cell_type": "code",
   "execution_count": null,
   "metadata": {},
   "outputs": [],
   "source": [
    "\"\"\"#plot correlation coefficients\n",
    "plt.figure()\n",
    "labels = ['kk','kg1','kg2','kg3','kg4']\n",
    "for mapNum in range(1,nMaps):\n",
    "    Clkg = Fobj.crossCls[0,mapNum]\n",
    "    Clkk = Fobj.crossCls[0,0]\n",
    "    Clgg = Fobj.crossCls[mapNum,mapNum]\n",
    "    r = Clkg/np.sqrt(Clkk*Clgg)\n",
    "    plt.semilogx(ells,r,label=labels[mapNum])\n",
    "plt.xlabel(r'$\\ell$',fontsize=15)\n",
    "plt.ylabel('Correlation with Cl^kk',fontsize=15)\n",
    "plt.ylim([0,1])\n",
    "plt.legend()\n",
    "plt.show()\n",
    "\"\"\""
   ]
  },
  {
   "cell_type": "code",
   "execution_count": null,
   "metadata": {},
   "outputs": [],
   "source": [
    "# plot sigma_b(l)/b\n",
    "\"\"\"\n",
    "plt.figure()\n",
    "ells = Fobj.ells.astype(int)\n",
    "nElls = ells.size\n",
    "nBins = Fobj.nBins\n",
    "Bs = Fobj.binBs\n",
    "#lmin = Fobj.lmin\n",
    "#Fijl = np.empty((nCls,nCls,nElls))\n",
    "sigmaBs = np.empty((nBins,nElls))\n",
    "plotLmin = ells[0]\n",
    "for ell in ells:\n",
    "    print 'ell = {0} of {1}'.format(ell,ells[-1])\n",
    "    #ellInd = ell+Fobj.lmin\n",
    "    #Fijl[:,:,ell] = Fobj.makeFisher(ellInd,ellInd)\n",
    "    Fijl = Fobj.makeFisher(plotLmin,ell)\n",
    "    sigmas = np.sqrt(np.diag(np.linalg.inv(Fijl)))\n",
    "    sigmaBs[:,ell-Fobj.lmin] = sigmas[nCosParams:]\n",
    "for binNum in range(nBins):\n",
    "    plt.loglog(ells,sigmaBs[binNum]/Bs[binNum],label='bin {0}'.format(binNum+1))\n",
    "plt.xlim([3e1,2e3])\n",
    "plt.ylim([1e-4,1e0])\n",
    "plt.legend()\n",
    "plt.xlabel(r'$\\ell_{max}$')\n",
    "plt.show()\n",
    "\"\"\""
   ]
  },
  {
   "cell_type": "code",
   "execution_count": null,
   "metadata": {},
   "outputs": [],
   "source": []
  },
  {
   "cell_type": "code",
   "execution_count": null,
   "metadata": {},
   "outputs": [],
   "source": []
  },
  {
   "cell_type": "code",
   "execution_count": null,
   "metadata": {},
   "outputs": [],
   "source": []
  },
  {
   "cell_type": "markdown",
   "metadata": {},
   "source": [
    "# play with tau"
   ]
  },
  {
   "cell_type": "code",
   "execution_count": null,
   "metadata": {},
   "outputs": [],
   "source": [
    "# play with tau\n",
    "tauNom = 0.063\n",
    "tauPlus = 0.076\n",
    "tauMinus = 0.050\n",
    "\n",
    "import crosspower as cp\n",
    "myPkTauNom = cp.MatterPower(tau=tauNom)\n",
    "myPkTauPlus = cp.MatterPower(tau=tauPlus)\n",
    "myPkTauMinus = cp.MatterPower(tau=tauMinus)\n",
    "\n",
    "print 'done'\n"
   ]
  },
  {
   "cell_type": "code",
   "execution_count": null,
   "metadata": {},
   "outputs": [],
   "source": [
    "kValues = np.array([0.010776, 0.02, 0.05, 0.1, 0.2, 0.3]) # Mpc^-1\n",
    "cSpeed = 2.99792458e5 # km/h\n",
    "H0Nom = myPkTauNom.H0*cSpeed\n",
    "H0Plus = myPkTauPlus.H0*cSpeed\n",
    "H0Minus = myPkTauMinus.H0*cSpeed\n",
    "print H0Nom,H0Plus,H0Minus\n",
    "kValsNom = kValues/(H0Nom/100)\n",
    "kValsPlus = kValues/(H0Plus/100)\n",
    "kValsMinus = kValues/(H0Minus/100)\n",
    "print kValsNom\n",
    "print kValsPlus\n",
    "print kValsMinus"
   ]
  },
  {
   "cell_type": "code",
   "execution_count": null,
   "metadata": {},
   "outputs": [],
   "source": [
    "myZ = 0\n",
    "print 'tau = ',tauPlus,': ',myPkTauPlus.PK.P(myZ,kValsPlus)\n",
    "print 'tau = ',tauNom,': ',myPkTauNom.PK.P(myZ,kValsNom)\n",
    "print 'tau = ',tauMinus,': ',myPkTauMinus.PK.P(myZ,kValsMinus)"
   ]
  },
  {
   "cell_type": "code",
   "execution_count": null,
   "metadata": {},
   "outputs": [],
   "source": []
  },
  {
   "cell_type": "code",
   "execution_count": null,
   "metadata": {},
   "outputs": [],
   "source": []
  },
  {
   "cell_type": "markdown",
   "metadata": {},
   "source": [
    "# Troubleshoot F_ij next"
   ]
  },
  {
   "cell_type": "code",
   "execution_count": null,
   "metadata": {},
   "outputs": [],
   "source": [
    "# definition of makeFisher function taken from FisherCl\n",
    "# modified to remove self references and for troubleshooting\n",
    "\n",
    "def makeFisher(lmin,lmax,nParams,invCov,dClVecs,TE=False,verbose=False,selfLmin=2,selfLmax=1000):\n",
    "    \"\"\"\n",
    "      Purpose:\n",
    "        multply vectorT,invcov,vector and add up\n",
    "      Inputs:\n",
    "        self: a FisherMatrix object\n",
    "        lmin: the lowest ell to include in the sum\n",
    "          must be GE self.lmin\n",
    "        lmax: the highest ell to inlude in the sum\n",
    "          must be LE self.lmax\n",
    "          \n",
    "        nParams,invCov,dClVecs,self.lmin,self.lmax: these are object fields in the FisherCl version\n",
    "        \n",
    "        TE: set to True to compute Fij for T,E instead of k,g; \n",
    "            not used in this version\n",
    "          Default: False\n",
    "        verbose: set to True to have extra output\n",
    "          Default: False\n",
    "          \n",
    "      Returns:\n",
    "        a Fisher Matrix, dimensions self.nParams x self.nParams\n",
    "    \"\"\"\n",
    "    \n",
    "    \n",
    "    \n",
    "    if verbose:\n",
    "      print 'building Fisher matrix from components...'\n",
    "      print 'invCov.shape: ',invCov.shape,', dClVecs.shape: ',dClVecs.shape\n",
    "\n",
    "    print 'using local makeFisher version... '\n",
    "    Fij = np.zeros((nParams,nParams)) # indices match those in paramList\n",
    "    for i in range(nParams):\n",
    "      if verbose:\n",
    "        print 'starting bin set ',i+1,' of ',nParams\n",
    "      dClVec_i = dClVecs[:,i,:] # shape (nCls,nElls); selected parameter i\n",
    "      for j in range(nParams):\n",
    "        dClVec_j = dClVecs[:,j,:] # shape (nCls,nElls); selected parameter j\n",
    "        # ugh.  don't like nested loops in Python... but easier to program...\n",
    "        for ell in range(lmax-lmin+1):\n",
    "            \n",
    "          # this number indexes invCov and dClVec for the ell value\n",
    "          # it needs to have ellInd = 0 at ell = 0, selfLmin = 2 (depending on lmin value used to make Fobj)\n",
    "          # with ell=0, add (lmin-selfLmin), the difference between lmin values\n",
    "          ellInd = ell+lmin-selfLmin # adjust ell to match indices in arrays\n",
    "          #ellInd = ell+selfLmin-lmin # adjust ell to match indices in arrays\n",
    "          #print 'ells: ',ell,selfLmin,lmin,ellInd  #0,2,423,-421\n",
    "          print 'paramNums = ',i+1,', ',j+1,', ellInd = ',ellInd\n",
    "            \n",
    "          myCov = invCov[:,:,ellInd] # shape (nCls,nCls,1)\n",
    "          myDClVecj = dClVec_j[:,ellInd]\n",
    "          myDClVeci = dClVec_i[:,ellInd]\n",
    "            \n",
    "          print 'myInvCov.shape: ',myCov.shape,', myDClVecj.shape: ',myDClVecj.shape\n",
    "          #print 'myInvCov: '\n",
    "          #print myCov\n",
    "            \n",
    "          tempMat = np.dot(myCov,myDClVecj)\n",
    "          print 'myDClVeci.shape: ',myDClVeci.shape,', tempMat.shape: ',tempMat.shape\n",
    "            \n",
    "          fij = np.dot(myDClVeci,tempMat)\n",
    "          print 'fij = ',fij,'\\n'\n",
    "        \n",
    "          #fij = np.dot(dClVec_i[:,ellInd],np.dot(myCov,dClVec_j[:,ellInd]))\n",
    "        \n",
    "        \n",
    "          Fij[i,j] += fij\n",
    "    return Fij\n",
    "    \n"
   ]
  },
  {
   "cell_type": "code",
   "execution_count": null,
   "metadata": {},
   "outputs": [],
   "source": []
  },
  {
   "cell_type": "code",
   "execution_count": null,
   "metadata": {},
   "outputs": [],
   "source": []
  },
  {
   "cell_type": "code",
   "execution_count": null,
   "metadata": {},
   "outputs": [],
   "source": []
  },
  {
   "cell_type": "code",
   "execution_count": null,
   "metadata": {},
   "outputs": [],
   "source": []
  },
  {
   "cell_type": "code",
   "execution_count": null,
   "metadata": {},
   "outputs": [],
   "source": [
    "# load a linear and a nonlinear Fobj for comparison\n",
    "import FisherCl as fcl\n",
    "import crosspower as cp\n",
    "import pickle\n",
    "filehandlerLin = open('Fisher_4_4Q.obj','r') # accuracyBoost=3,doNorm=True,lmax=1000, epsrel = 1.49e-6; nonlinear=False,\n",
    "#dw=0.05, from FisherCl branch master\n",
    "filehandlerNLn = open('Fisher_4_4P.obj','r') # accuracyBoost=3,doNorm=True,lmax=1000, epsrel = 1.49e-6; nonlinear=True,\n",
    "#dw=0.05, from FisherCl branch master\n",
    "\n",
    "FobjLin = pickle.load(filehandlerLin) \n",
    "FobjNLn = pickle.load(filehandlerNLn) \n",
    "\n",
    "\"\"\"\n",
    "lmin = Fobj.lmin\n",
    "lmax = Fobj.lmax\n",
    "nMaps = Fobj.nBins + 1\n",
    "nCosParams = Fobj.nParams - Fobj.nBins\n",
    "ells = Fobj.ells\n",
    "obsNames = Fobj.obsNames\n",
    "paramList = Fobj.paramList\n",
    "\"\"\"\n",
    "\n",
    "print FobjLin.obsList\n",
    "print FobjLin.obsNames\n",
    "print FobjLin.paramList\n",
    "print FobjNLn.obsList\n",
    "print FobjNLn.obsNames\n",
    "print FobjNLn.paramList"
   ]
  },
  {
   "cell_type": "code",
   "execution_count": null,
   "metadata": {},
   "outputs": [],
   "source": [
    "# get some variables to work with\n",
    "nParams = FobjLin.nParams\n",
    "invCov = FobjLin.invCov\n",
    "dClVecs = FobjLin.dClVecs\n",
    "\n",
    "print nParams\n",
    "print invCov.shape\n",
    "print dClVecs.shape"
   ]
  },
  {
   "cell_type": "code",
   "execution_count": null,
   "metadata": {},
   "outputs": [],
   "source": [
    "# makeFisher needs to have way less output if I'm going to run this\n",
    "\"\"\"\n",
    "FijLinA = FobjLin.Fij\n",
    "FijLinB = makeFisher(2,1000,nParams,invCov,dClVecs)\n",
    "print FijLinA-FijLinB\n",
    "\"\"\""
   ]
  },
  {
   "cell_type": "code",
   "execution_count": null,
   "metadata": {},
   "outputs": [],
   "source": []
  },
  {
   "cell_type": "code",
   "execution_count": null,
   "metadata": {},
   "outputs": [],
   "source": []
  },
  {
   "cell_type": "code",
   "execution_count": null,
   "metadata": {},
   "outputs": [],
   "source": [
    "# from 15 observable Cls and 999 ells, pick one of each:\n",
    "ClPick = 4 # starting Cl\n",
    "nCls = 3\n",
    "paramPick = 5 # starting param\n",
    "nParams = 2\n",
    "\n",
    "myEllmin = 423\n",
    "myEllmax = 450\n",
    "ellSize = myEllmax-myEllmin+1\n",
    "subInvCov = invCov[ClPick:ClPick+nCls,ClPick:ClPick+nCls,myEllmin:myEllmax+1].reshape(nCls,nCls,ellSize)\n",
    "subDClVecs = dClVecs[ClPick:ClPick+nCls,paramPick:paramPick+nParams,myEllmin:myEllmax+1].reshape(nCls,nParams,ellSize)\n",
    "print 'subInvCov.shape: ', subInvCov.shape\n",
    "print 'subDClVecs.shape: ', subDClVecs.shape, '\\n'\n",
    "#print makeFisher(myEllmin+17,myEllmax-5,nParams,subInvCov,subDClVecs,selfLmin=myEllmin,selfLmax=myEllmax)\n",
    "print makeFisher(444,445,nParams,subInvCov,subDClVecs,selfLmin=myEllmin,selfLmax=myEllmax)"
   ]
  },
  {
   "cell_type": "code",
   "execution_count": null,
   "metadata": {},
   "outputs": [],
   "source": []
  },
  {
   "cell_type": "code",
   "execution_count": null,
   "metadata": {},
   "outputs": [],
   "source": [
    "# re-do fisher calc with revised make_fisher routine\n",
    "# get some variables to work with\n",
    "nParamsLin = FobjLin.nParams\n",
    "invCovLin = FobjLin.invCov\n",
    "dClVecsLin = FobjLin.dClVecs\n",
    "nParamsNLn = FobjNLn.nParams\n",
    "invCovNLn = FobjNLn.invCov\n",
    "dClVecsNLn = FobjNLn.dClVecs\n",
    "\n",
    "print nParamsLin\n",
    "print invCovLin.shape\n",
    "print dClVecsLin.shape\n",
    "print nParamsNLn\n",
    "print invCovNLn.shape\n",
    "print dClVecsNLn.shape"
   ]
  },
  {
   "cell_type": "code",
   "execution_count": null,
   "metadata": {},
   "outputs": [],
   "source": [
    "# get Fisher matrices with lmin = 50\n",
    "# makeFisher needs to have way less output if I'm going to run this\n",
    "\"\"\"\n",
    "lmin=50\n",
    "lmax=1000\n",
    "FijLin = makeFisher(lmin,lmax,nParamsLin,invCovLin,dClVecsLin)\n",
    "FijNLn = makeFisher(lmin,lmax,nParamsNLn,invCovNLn,dClVecsNLn)\n",
    "\"\"\""
   ]
  },
  {
   "cell_type": "code",
   "execution_count": null,
   "metadata": {},
   "outputs": [],
   "source": []
  },
  {
   "cell_type": "code",
   "execution_count": null,
   "metadata": {},
   "outputs": [],
   "source": []
  },
  {
   "cell_type": "markdown",
   "metadata": {},
   "source": [
    "# Compare two FisherMatrix runs"
   ]
  },
  {
   "cell_type": "code",
   "execution_count": null,
   "metadata": {},
   "outputs": [],
   "source": [
    "# load saved Fobj\n",
    "# get lensing and galaxy Fisher matrix to add\n",
    "\n",
    "#\"\"\"\n",
    "import FisherCl as fcl\n",
    "import crosspower as cp\n",
    "import pickle\n",
    "\n",
    "#filehandlerA = open('Fisher_4_4L4.obj','r') # accuracyBoost=3,doNorm=True,lmax=2000, nz=1e4; nonlinear=False,\n",
    "#neutrino_hierarchy = 'normal', usePrimaryCMB = True; from FisherCl branch quickCl\n",
    "filehandlerA = open('Fisher_4_4K4.obj','r') # accuracyBoost=3,doNorm=True,lmax=2000, nz=1e4; nonlinear=True,\n",
    "#neutrino_hierarchy = 'normal', usePrimaryCMB = True; from FisherCl branch quickCl\n",
    "\n",
    "#filehandlerA = open('Fisher_4_4L3.obj','r') # accuracyBoost=3,doNorm=True,lmax=2000, nz=1e4; nonlinear=False,\n",
    "#neutrino_hierarchy = 'normal', usePrimaryCMB = False; from FisherCl branch quickCl\n",
    "#filehandlerA = open('Fisher_4_4K3.obj','r') # accuracyBoost=3,doNorm=True,lmax=2000, nz=1e4; nonlinear=True,\n",
    "#neutrino_hierarchy = 'normal', usePrimaryCMB = False; from FisherCl branch quickCl\n",
    "\n",
    "\n",
    "#filehandlerB = open('Fisher_4_4L2.obj','r') # accuracyBoost=3,doNorm=True,lmax=2000, nz=1e4; nonlinear=False,\n",
    "#neutrino_hierarchy = 'normal'; from FisherCl branch quickCl\n",
    "filehandlerB = open('Fisher_4_4K2.obj','r') # accuracyBoost=3,doNorm=True,lmax=2000, nz=1e4; nonlinear=True,\n",
    "#neutrino_hierarchy = 'normal'; from FisherCl branch quickCl\n",
    "\n",
    "#filehandlerA = open('Fisher_4_4V.obj','r') # accuracyBoost=3,doNorm=True,lmax=1000, epsrel = 1.49e-6; nonlinear=True,\n",
    "#dw=0.05, neutrino_hierarchy = 'normal', mnu=0.1; from FisherCl branch master\n",
    "\n",
    "#filehandlerB = open('Fisher_4_4U.obj','r') # accuracyBoost=3,doNorm=True,lmax=1000, epsrel = 1.49e-6; nonlinear=True,\n",
    "#dw=0.05, neutrino_hierarchy = 'degenerate', from FisherCl branch master\n",
    "#filehandler = open('Fisher_4_4T.obj','r') # accuracyBoost=3,doNorm=True,lmax=1000, epsrel = 1.49e-6; nonlinear=False,\n",
    "#dw=0.05, neutrino_hierarchy = 'degenerate', from FisherCl branch master\n",
    "\n",
    "#filehandler = open('Fisher_4_4S.obj','r') # accuracyBoost=3,doNorm=True,lmax=1000, epsrel = 1.49e-4; nonlinear=True,\n",
    "#dw=0.05, neutrino_hierarchy = 'degenerate', from FisherCl branch master\n",
    "#filehandler = open('Fisher_4_4R.obj','r') # accuracyBoost=3,doNorm=True,lmax=1000, epsrel = 1.49e-4; nonlinear=False,\n",
    "#dw=0.05, neutrino_hierarchy = 'degenerate', from FisherCl branch master\n",
    "\n",
    "#filehandler = open('Fisher_4_4Q.obj','r') # accuracyBoost=3,doNorm=True,lmax=1000, epsrel = 1.49e-6; nonlinear=False,\n",
    "#dw=0.05, from FisherCl branch master\n",
    "filehandlerC = open('Fisher_4_4P.obj','r') # accuracyBoost=3,doNorm=True,lmax=1000, epsrel = 1.49e-6; nonlinear=True,\n",
    "#dw=0.05, from FisherCl branch master\n",
    "\n",
    "FobjA = pickle.load(filehandlerA) \n",
    "FobjB = pickle.load(filehandlerB) \n",
    "FobjC = pickle.load(filehandlerC) \n",
    "\n",
    "#\"\"\"\n",
    "\n",
    "# supposing that these are all the same for A,B,C:\n",
    "lmin = FobjA.lmin\n",
    "lmax = FobjA.lmax\n",
    "nMaps = FobjA.nBins + 1\n",
    "nCosParams = FobjA.nParams - FobjA.nBins\n",
    "ells = FobjA.ells\n",
    "obsNames = FobjA.obsNames\n",
    "paramList = FobjA.paramList\n",
    "\n",
    "print FobjA.obsList\n",
    "print FobjA.obsNames\n",
    "print FobjA.paramList\n",
    "print FobjA.nonlinear\n",
    "print FobjB.nonlinear\n"
   ]
  },
  {
   "cell_type": "code",
   "execution_count": null,
   "metadata": {},
   "outputs": [],
   "source": []
  },
  {
   "cell_type": "code",
   "execution_count": null,
   "metadata": {},
   "outputs": [],
   "source": [
    "sigmasA = FobjA.getSigmas()\n",
    "sigmasB = FobjB.getSigmas()\n",
    "sigmasC = FobjC.getSigmas()\n"
   ]
  },
  {
   "cell_type": "code",
   "execution_count": null,
   "metadata": {},
   "outputs": [],
   "source": [
    "print 'A: hier=normal, mnu=0.100 ; B: hier=degen, mnu=0.060'\n",
    "from prettytable import PrettyTable\n",
    "t = PrettyTable(['Parameter', 'sigma_A(k,g)','sigma_B(k,g)','percent diff.'])\n",
    "for i,p in enumerate(paramList):\n",
    "    Zi = sigmasA[i]\n",
    "    Bi = sigmasB[i]\n",
    "    diff = (Bi-Zi)/Zi *100\n",
    "    t.add_row([p,\"%5.3g\" % Zi,\"%5.3g\" % Bi, \"%5.3g\" % diff ] )\n",
    "print t\n",
    "\n",
    "print 'A: hier=normal, mnu=0.100 ; C: hier=normal, mnu=0.060'\n",
    "from prettytable import PrettyTable\n",
    "t = PrettyTable(['Parameter', 'sigma_A(k,g)','sigma_C(k,g)','percent diff.'])\n",
    "for i,p in enumerate(paramList):\n",
    "    Zi = sigmasA[i]\n",
    "    Bi = sigmasC[i]\n",
    "    diff = (Bi-Zi)/Zi *100\n",
    "    t.add_row([p,\"%5.3g\" % Zi,\"%5.3g\" % Bi, \"%5.3g\" % diff ] )\n",
    "print t\n",
    "\n",
    "print 'B: hier=degen, mnu=0.060 ; C: hier=normal, mnu=0.060'\n",
    "from prettytable import PrettyTable\n",
    "t = PrettyTable(['Parameter', 'sigma_B(k,g)','sigma_C(k,g)','percent diff.'])\n",
    "for i,p in enumerate(paramList):\n",
    "    Zi = sigmasB[i]\n",
    "    Bi = sigmasC[i]\n",
    "    diff = (Bi-Zi)/Zi *100\n",
    "    t.add_row([p,\"%5.3g\" % Zi,\"%5.3g\" % Bi, \"%5.3g\" % diff ] )\n",
    "print t"
   ]
  },
  {
   "cell_type": "code",
   "execution_count": null,
   "metadata": {},
   "outputs": [],
   "source": []
  },
  {
   "cell_type": "code",
   "execution_count": null,
   "metadata": {},
   "outputs": [],
   "source": []
  },
  {
   "cell_type": "code",
   "execution_count": null,
   "metadata": {},
   "outputs": [],
   "source": []
  },
  {
   "cell_type": "code",
   "execution_count": null,
   "metadata": {},
   "outputs": [],
   "source": []
  },
  {
   "cell_type": "code",
   "execution_count": null,
   "metadata": {},
   "outputs": [],
   "source": []
  },
  {
   "cell_type": "code",
   "execution_count": null,
   "metadata": {},
   "outputs": [],
   "source": []
  },
  {
   "cell_type": "code",
   "execution_count": null,
   "metadata": {},
   "outputs": [],
   "source": []
  },
  {
   "cell_type": "code",
   "execution_count": null,
   "metadata": {},
   "outputs": [],
   "source": []
  },
  {
   "cell_type": "code",
   "execution_count": null,
   "metadata": {},
   "outputs": [],
   "source": []
  },
  {
   "cell_type": "code",
   "execution_count": null,
   "metadata": {},
   "outputs": [],
   "source": []
  }
 ],
 "metadata": {
  "kernelspec": {
   "display_name": "Python 2",
   "language": "python",
   "name": "python2"
  }
 },
 "nbformat": 4,
 "nbformat_minor": 1
}
