{
 "cells": [
  {
   "cell_type": "markdown",
   "metadata": {},
   "source": [
    "# Testing the Discrete Differentiation Method"
   ]
  },
  {
   "cell_type": "code",
   "execution_count": 1,
   "metadata": {
    "collapsed": true
   },
   "outputs": [],
   "source": [
    "import crosspower as cp\n",
    "import FisherCl2 as fcl\n",
    "from numpy.linalg import eigh\n",
    "\n",
    "# set plotting to be in the notebook instead of its own qt window\n",
    "%matplotlib inline"
   ]
  },
  {
   "cell_type": "code",
   "execution_count": 2,
   "metadata": {
    "collapsed": false
   },
   "outputs": [
    {
     "data": {
      "text/plain": [
       "<module 'FisherCl2' from 'FisherCl2.pyc'>"
      ]
     },
     "execution_count": 2,
     "metadata": {},
     "output_type": "execute_result"
    }
   ],
   "source": [
    "# reload any changes that have been made to crosspower.py\n",
    "reload(cp)\n",
    "reload(fcl.cp)\n",
    "reload(fcl)"
   ]
  },
  {
   "cell_type": "code",
   "execution_count": null,
   "metadata": {
    "collapsed": true
   },
   "outputs": [],
   "source": []
  },
  {
   "cell_type": "markdown",
   "metadata": {},
   "source": [
    "# Start with varying the sum of neutrino masses\n",
    "Want to match Figure 2 from Wu et. al. (2014)"
   ]
  },
  {
   "cell_type": "code",
   "execution_count": 3,
   "metadata": {
    "collapsed": true
   },
   "outputs": [],
   "source": [
    "# get some matter power interpolation objects\n",
    "nh = 'normal'\n",
    "nmn = 3\n",
    "mnu0 =   0.0\n",
    "mnu1 =  50e-3\n",
    "mnu2 = 100e-3\n",
    "mnu3 = 150e-3\n",
    "labels = ['50 meV','100 meV','150 meV']\n",
    "#mnu1 = 0.1\n",
    "#mnu2 = 0.2\n",
    "#mnu3 = 0.3\n",
    "#labels = ['100 meV','200 meV','300 meV']\n",
    "nonlinear = False # halofit"
   ]
  },
  {
   "cell_type": "code",
   "execution_count": 4,
   "metadata": {
    "collapsed": false
   },
   "outputs": [
    {
     "name": "stdout",
     "output_type": "stream",
     "text": [
      "0.119938297872\n",
      "0.119406382979\n",
      "0.118874468085\n",
      "0.118342553191\n"
     ]
    }
   ],
   "source": [
    "# adjust CDM density to accomodate extra neutrino mass; keep constant Omega_c + Omega_nu for all cases\n",
    "def omnh2(mnu):\n",
    "    \"\"\"\n",
    "    eqn. 12 from Wu et. al. 2014,\n",
    "    attributed to Mangano et. al. 2005\n",
    "    Input: \n",
    "        mnu: sum of mass of neutrinos in eV\n",
    "    Returns:\n",
    "        Omega_nu*h**2\n",
    "    \"\"\"\n",
    "    return mnu/94\n",
    "\n",
    "omnh2_1 = omnh2(mnu1)\n",
    "omnh2_2 = omnh2(mnu2)\n",
    "omnh2_3 = omnh2(mnu3)\n",
    "omnh2_06 = omnh2(0.06) # used by Planck\n",
    "\n",
    "omch2 = 0.1193 # Planck\n",
    "\n",
    "omch2_0 = omch2+omnh2_06\n",
    "omch2_1 = omch2+omnh2_06-omnh2_1\n",
    "omch2_2 = omch2+omnh2_06-omnh2_2\n",
    "omch2_3 = omch2+omnh2_06-omnh2_3\n",
    "\n",
    "print omch2_0\n",
    "print omch2_1\n",
    "print omch2_2\n",
    "print omch2_3"
   ]
  },
  {
   "cell_type": "code",
   "execution_count": 5,
   "metadata": {
    "collapsed": false
   },
   "outputs": [
    {
     "name": "stdout",
     "output_type": "stream",
     "text": [
      "starting myPk0...\n",
      "zs.size:  998\n",
      "starting myPk1...\n",
      "zs.size:  998\n",
      "starting myPk2...\n",
      "zs.size:  998\n",
      "starting myPk3...\n",
      "zs.size:  998\n"
     ]
    }
   ],
   "source": [
    "print 'starting myPk0...'\n",
    "#myPk0 = cp.matterPower(neutrino_hierarchy='degenerate',num_massive_neutrinos=0  ,mnu=mnu0,omch2=omch2_0)\n",
    "myPk0 = cp.matterPower(neutrino_hierarchy=nh,num_massive_neutrinos=0,  mnu=mnu0,omch2=omch2_0,nonlinear=nonlinear)\n",
    "print 'starting myPk1...'\n",
    "myPk1 = cp.matterPower(neutrino_hierarchy=nh,num_massive_neutrinos=nmn,mnu=mnu1,omch2=omch2_1,nonlinear=nonlinear)\n",
    "print 'starting myPk2...'\n",
    "myPk2 = cp.matterPower(neutrino_hierarchy=nh,num_massive_neutrinos=nmn,mnu=mnu2,omch2=omch2_2,nonlinear=nonlinear)\n",
    "print 'starting myPk3...'\n",
    "myPk3 = cp.matterPower(neutrino_hierarchy=nh,num_massive_neutrinos=nmn,mnu=mnu3,omch2=omch2_3,nonlinear=nonlinear)"
   ]
  },
  {
   "cell_type": "code",
   "execution_count": 6,
   "metadata": {
    "collapsed": false
   },
   "outputs": [],
   "source": [
    "# or try with degenerate\n",
    "#myPk0 = cp.matterPower(neutrino_hierarchy='degenerate',num_massive_neutrinos=0,mnu=mnu0,omch2=omch2_0)"
   ]
  },
  {
   "cell_type": "code",
   "execution_count": 7,
   "metadata": {
    "collapsed": false
   },
   "outputs": [
    {
     "name": "stdout",
     "output_type": "stream",
     "text": [
      "sizes:  1000 1000 1000 1000 1000\n"
     ]
    }
   ],
   "source": [
    "# try matter power spectra ratios\n",
    "kSpectrum = np.logspace(-3.7,1.0,1000)\n",
    "#print kSpectrum\n",
    "myZ = 0\n",
    "PKinterp0 = myPk0.PK\n",
    "PKinterp1 = myPk1.PK\n",
    "PKinterp2 = myPk2.PK\n",
    "PKinterp3 = myPk3.PK\n",
    "Pk0 = PKinterp0.P(myZ,kSpectrum)\n",
    "Pk1 = PKinterp1.P(myZ,kSpectrum)\n",
    "Pk2 = PKinterp2.P(myZ,kSpectrum)\n",
    "Pk3 = PKinterp3.P(myZ,kSpectrum)\n",
    "print 'sizes: ',kSpectrum.size,Pk0.size,Pk1.size,Pk2.size,Pk3.size"
   ]
  },
  {
   "cell_type": "code",
   "execution_count": null,
   "metadata": {
    "collapsed": true
   },
   "outputs": [],
   "source": []
  },
  {
   "cell_type": "code",
   "execution_count": 8,
   "metadata": {
    "collapsed": false
   },
   "outputs": [
    {
     "data": {
      "image/png": "[encoded data removed]",
      "text/plain": [
       "<matplotlib.figure.Figure at 0x10e60acd0>"
      ]
     },
     "metadata": {},
     "output_type": "display_data"
    }
   ],
   "source": [
    "plt.loglog(kSpectrum,Pk0)\n",
    "plt.loglog(kSpectrum,Pk1)\n",
    "plt.loglog(kSpectrum,Pk2)\n",
    "plt.loglog(kSpectrum,Pk3)\n",
    "plt.xlabel('wavenumber k')\n",
    "plt.ylabel('P(k)')\n",
    "plt.show();"
   ]
  },
  {
   "cell_type": "code",
   "execution_count": null,
   "metadata": {
    "collapsed": true
   },
   "outputs": [],
   "source": []
  },
  {
   "cell_type": "code",
   "execution_count": 9,
   "metadata": {
    "collapsed": false
   },
   "outputs": [
    {
     "data": {
      "image/png": "[encoded data removed]",
      "text/plain": [
       "<matplotlib.figure.Figure at 0x10febb6d0>"
      ]
     },
     "metadata": {},
     "output_type": "display_data"
    }
   ],
   "source": [
    "Pks = (Pk1,Pk2,Pk3)\n",
    "for pkNum in range(3):\n",
    "    t = (Pks[pkNum]-Pk0)/Pk0\n",
    "    plt.semilogx(kSpectrum,t,label=labels[pkNum])\n",
    "plt.xlabel('wavenumber k')\n",
    "plt.legend(loc='lower left')\n",
    "plt.show();"
   ]
  },
  {
   "cell_type": "code",
   "execution_count": 10,
   "metadata": {
    "collapsed": false
   },
   "outputs": [
    {
     "name": "stdout",
     "output_type": "stream",
     "text": [
      "window  1 : kappa  0\n",
      "window  2 : kappa  0\n",
      "window  1 : kappa  0\n",
      "window  2 : kappa  0\n",
      "window  1 : kappa  0\n",
      "window  2 : kappa  0\n",
      "window  1 : kappa  0\n",
      "window  2 : kappa  0\n"
     ]
    }
   ],
   "source": [
    "# use them to create power spectra\n",
    "ls0,Cl0 = cp.getCl(myPk0)\n",
    "ls1,Cl1 = cp.getCl(myPk1)\n",
    "ls2,Cl2 = cp.getCl(myPk2)\n",
    "ls3,Cl3 = cp.getCl(myPk3)"
   ]
  },
  {
   "cell_type": "code",
   "execution_count": 11,
   "metadata": {
    "collapsed": false
   },
   "outputs": [
    {
     "data": {
      "image/png": "[encoded data removed]",
      "text/plain": [
       "<matplotlib.figure.Figure at 0x10e60ac10>"
      ]
     },
     "metadata": {},
     "output_type": "display_data"
    }
   ],
   "source": [
    "# plot power spectra\n",
    "Cls = [Cl1,Cl2,Cl3]\n",
    "plt.semilogx(ls0,Cl0,label='0 MeV')\n",
    "for massNum in range(3):\n",
    "    plt.semilogx(ls0,Cls[massNum],label=labels[massNum])\n",
    "plt.xlabel('ell')\n",
    "plt.ylabel('C_l')\n",
    "plt.legend()\n",
    "plt.show()"
   ]
  },
  {
   "cell_type": "code",
   "execution_count": 12,
   "metadata": {
    "collapsed": false
   },
   "outputs": [
    {
     "data": {
      "image/png": "[encoded data removed]",
      "text/plain": [
       "<matplotlib.figure.Figure at 0x110442450>"
      ]
     },
     "metadata": {},
     "output_type": "display_data"
    }
   ],
   "source": [
    "# plot Delta Cl / Cl\n",
    "for massNum in range(3):\n",
    "    plt.semilogx(ls0,(Cls[massNum]-Cl0)/Cl0,label=labels[massNum])\n",
    "plt.legend(loc='lower left')\n",
    "plt.xlabel('wavenumber k')\n",
    "plt.title('Matter power ratios for various m_nu')\n",
    "plt.show();"
   ]
  },
  {
   "cell_type": "code",
   "execution_count": null,
   "metadata": {
    "collapsed": true
   },
   "outputs": [],
   "source": []
  },
  {
   "cell_type": "code",
   "execution_count": null,
   "metadata": {
    "collapsed": true
   },
   "outputs": [],
   "source": []
  },
  {
   "cell_type": "code",
   "execution_count": 13,
   "metadata": {
    "collapsed": false
   },
   "outputs": [],
   "source": [
    "# check CAMB parameters\n",
    "import camb\n",
    "#pars = camb.CAMBparams()\n",
    "#pars.set_cosmology()\n",
    "#pars.set_dark_energy()\n",
    "pars = myPk0.getPars()\n",
    "#pars.set_matter_power(k_per_logint = 10)\n",
    "#help(pars)\n",
    "#print pars"
   ]
  },
  {
   "cell_type": "code",
   "execution_count": 14,
   "metadata": {
    "collapsed": false
   },
   "outputs": [
    {
     "name": "stdout",
     "output_type": "stream",
     "text": [
      "zmax:  1019.86225059\n"
     ]
    },
    {
     "data": {
      "image/png": "[encoded data removed]",
      "text/plain": [
       "<matplotlib.figure.Figure at 0x1104a7090>"
      ]
     },
     "metadata": {},
     "output_type": "display_data"
    }
   ],
   "source": [
    "# check z,k values of Pk interpolator\n",
    "myVar = camb.model.Transfer_tot\n",
    "k_per_logint = None\n",
    "nonlinear = False\n",
    "zmax = myPk0.zs[-1]\n",
    "print 'zmax: ',zmax \n",
    "Pk, z, k = camb.get_matter_power_interpolator(pars,nonlinear=nonlinear,hubble_units=False,k_hunit=False,\n",
    "                                              kmax=10,k_per_logint=k_per_logint,var1=myVar,var2=myVar,\n",
    "                                              zmax=zmax,return_z_k=True)\n",
    "PofK = Pk.P(0,k)\n",
    "plt.loglog(k,PofK,'b+')\n",
    "plt.show();"
   ]
  },
  {
   "cell_type": "code",
   "execution_count": null,
   "metadata": {
    "collapsed": true
   },
   "outputs": [],
   "source": []
  },
  {
   "cell_type": "code",
   "execution_count": 15,
   "metadata": {
    "collapsed": false
   },
   "outputs": [
    {
     "name": "stdout",
     "output_type": "stream",
     "text": [
      "Help on method set_params in module camb.initialpower:\n",
      "\n",
      "set_params(self, As=2e-09, ns=0.96, nrun=0, nrunrun=0, r=0, nt=None, ntrun=0, pivot_scalar=0.05, pivot_tensor=0.05, parameterization=2) method of camb.initialpower.InitialPowerParams instance\n",
      "    Set parameters using standard power law parameterization. If nt=None, uses inflation consistency relation.\n",
      "    \n",
      "    :param As: comoving curvature power at k=piveo_scalar\n",
      "    :param ns: scalar spectral index\n",
      "    :param nrun: running of scalar spectral index d n_s/d log k\n",
      "    :param nrunrun: running of running of spectral index\n",
      "    :param r: tensor to scalar ratio at pivot\n",
      "    :param nt: tensor spectral index. If None, set using inflation consistency\n",
      "    :param ntrun: running of tensor spectral index\n",
      "    :param pivot_scalar: pivot scale for scalar spectrum\n",
      "    :param pivot_tensor:  pivot scale for tensor spectrum\n",
      "    :param parameterization: See CAMB notes. One of\n",
      "        - tensor_param_indeptilt = 1\n",
      "        - tensor_param_rpivot = 2\n",
      "        - tensor_param_AT = 3\n",
      "    :return: self\n",
      "\n"
     ]
    }
   ],
   "source": [
    "pars = camb.CAMBparams()\n",
    "#help(pars)\n",
    "help(pars.InitPower.set_params)"
   ]
  },
  {
   "cell_type": "code",
   "execution_count": 16,
   "metadata": {
    "collapsed": false
   },
   "outputs": [
    {
     "name": "stdout",
     "output_type": "stream",
     "text": [
      "['as', 're', 'tw', 'ex34']\n"
     ]
    }
   ],
   "source": [
    "paramList=['as','re','tw']\n",
    "paramList.append('ex'+str(34))\n",
    "print paramList"
   ]
  },
  {
   "cell_type": "code",
   "execution_count": null,
   "metadata": {
    "collapsed": true
   },
   "outputs": [],
   "source": []
  },
  {
   "cell_type": "markdown",
   "metadata": {
    "collapsed": true
   },
   "source": [
    "# Do some testing with discrete differentiation"
   ]
  },
  {
   "cell_type": "code",
   "execution_count": 17,
   "metadata": {
    "collapsed": false,
    "scrolled": true
   },
   "outputs": [
    {
     "name": "stdout",
     "output_type": "stream",
     "text": [
      "creating matter power spectrum object...\n",
      "zs.size:  998\n",
      "creating more matter power objects...\n",
      "creating matter power spectra for  ombh2  derivative...\n",
      "zs.size:  998\n",
      "zs.size:  998\n",
      "creating matter power spectra for  omch2  derivative...\n",
      "zs.size:  998\n",
      "zs.size:  998\n",
      "creating matter power spectra for  cosmomc_theta  derivative...\n",
      "zs.size:  998\n",
      "zs.size:  998\n",
      "creating matter power spectra for  As  derivative...\n",
      "zs.size:  998\n",
      "zs.size:  998\n",
      "creating matter power spectra for  ns  derivative...\n",
      "zs.size:  998\n",
      "zs.size:  998\n",
      "creating matter power spectra for  tau  derivative...\n",
      "zs.size:  998\n",
      "zs.size:  998\n",
      "creating matter power spectra for  mnu  derivative...\n",
      "zs.size:  998\n",
      "zs.size:  998\n",
      "fiducial bs:  [ 1.31336283  1.66697151  2.06888487  2.48113088  2.89695688  3.31442616\n",
      "  3.73278304  4.15167301]\n",
      "fiducial As:  [ 1.00205877  1.00134013  1.00118993  1.00112731  1.00109399  1.00107367\n",
      "  1.00106014  1.00105055]\n",
      "starting cross power with entire kappa... \n",
      "starting angular cross power spectrum  0 ,  0 ... \n",
      "window  1 : kappa  0\n",
      "window  2 : kappa  0\n",
      "window  1 : kappa  0\n",
      "window  2 : kappa  0\n",
      "window  1 : kappa  0\n",
      "window  2 : kappa  0\n",
      "window  1 : kappa  0\n",
      "window  2 : kappa  0\n",
      "window  1 : kappa  0\n",
      "window  2 : kappa  0\n",
      "window  1 : kappa  0\n",
      "window  2 : kappa  0\n",
      "window  1 : kappa  0\n",
      "window  2 : kappa  0\n",
      "window  1 : kappa  0\n",
      "window  2 : kappa  0\n",
      "window  1 : kappa  0\n",
      "window  2 : kappa  0\n",
      "window  1 : kappa  0\n",
      "window  2 : kappa  0\n",
      "window  1 : kappa  0\n",
      "window  2 : kappa  0\n",
      "window  1 : kappa  0\n",
      "window  2 : kappa  0\n",
      "window  1 : kappa  0\n",
      "window  2 : kappa  0\n",
      "window  1 : kappa  0\n",
      "window  2 : kappa  0\n",
      "window  1 : kappa  0\n",
      "window  2 : kappa  0\n",
      "starting angular cross power spectrum  0 ,  1 ... \n",
      "window  1 : kappa  0\n",
      "window  2 : galaxies  1\n",
      "window  1 : kappa  0\n",
      "window  2 : galaxies  1\n",
      "window  1 : kappa  0\n",
      "window  2 : galaxies  1\n",
      "window  1 : kappa  0\n",
      "window  2 : galaxies  1\n",
      "window  1 : kappa  0\n",
      "window  2 : galaxies  1\n",
      "window  1 : kappa  0\n",
      "window  2 : galaxies  1\n",
      "window  1 : kappa  0\n",
      "window  2 : galaxies  1\n",
      "window  1 : kappa  0\n",
      "window  2 : galaxies  1\n",
      "window  1 : kappa  0\n",
      "window  2 : galaxies  1\n",
      "window  1 : kappa  0\n",
      "window  2 : galaxies  1\n",
      "window  1 : kappa  0\n",
      "window  2 : galaxies  1\n",
      "window  1 : kappa  0\n",
      "window  2 : galaxies  1\n",
      "window  1 : kappa  0\n",
      "window  2 : galaxies  1\n",
      "window  1 : kappa  0\n",
      "window  2 : galaxies  1\n",
      "window  1 : kappa  0\n",
      "window  2 : galaxies  1\n",
      "starting angular cross power spectrum  0 ,  2 ... \n",
      "window  1 : kappa  0\n",
      "window  2 : galaxies  2\n",
      "window  1 : kappa  0\n",
      "window  2 : galaxies  2\n",
      "window  1 : kappa  0\n",
      "window  2 : galaxies  2\n",
      "window  1 : kappa  0\n",
      "window  2 : galaxies  2\n",
      "window  1 : kappa  0\n",
      "window  2 : galaxies  2\n",
      "window  1 : kappa  0\n",
      "window  2 : galaxies  2\n",
      "window  1 : kappa  0\n",
      "window  2 : galaxies  2\n",
      "window  1 : kappa  0\n",
      "window  2 : galaxies  2\n",
      "window  1 : kappa  0\n",
      "window  2 : galaxies  2\n",
      "window  1 : kappa  0\n",
      "window  2 : galaxies  2\n",
      "window  1 : kappa  0\n",
      "window  2 : galaxies  2\n",
      "window  1 : kappa  0\n",
      "window  2 : galaxies  2\n",
      "window  1 : kappa  0\n",
      "window  2 : galaxies  2\n",
      "window  1 : kappa  0\n",
      "window  2 : galaxies  2\n",
      "window  1 : kappa  0\n",
      "window  2 : galaxies  2\n",
      "starting angular cross power spectrum  0 ,  3 ... \n",
      "window  1 : kappa  0\n",
      "window  2 : galaxies  3\n",
      "window  1 : kappa  0\n",
      "window  2 : galaxies  3\n",
      "window  1 : kappa  0\n",
      "window  2 : galaxies  3\n",
      "window  1 : kappa  0\n",
      "window  2 : galaxies  3\n",
      "window  1 : kappa  0\n",
      "window  2 : galaxies  3\n",
      "window  1 : kappa  0\n",
      "window  2 : galaxies  3\n",
      "window  1 : kappa  0\n",
      "window  2 : galaxies  3\n",
      "window  1 : kappa  0\n",
      "window  2 : galaxies  3\n",
      "window  1 : kappa  0\n",
      "window  2 : galaxies  3\n",
      "window  1 : kappa  0\n",
      "window  2 : galaxies  3\n",
      "window  1 : kappa  0\n",
      "window  2 : galaxies  3\n",
      "window  1 : kappa  0\n",
      "window  2 : galaxies  3\n",
      "window  1 : kappa  0\n",
      "window  2 : galaxies  3\n",
      "window  1 : kappa  0\n",
      "window  2 : galaxies  3\n",
      "window  1 : kappa  0\n",
      "window  2 : galaxies  3\n",
      "starting angular cross power spectrum  0 ,  4 ... \n",
      "window  1 : kappa  0\n",
      "window  2 : galaxies  4\n",
      "window  1 : kappa  0\n",
      "window  2 : galaxies  4\n",
      "window  1 : kappa  0\n",
      "window  2 : galaxies  4\n",
      "window  1 : kappa  0\n",
      "window  2 : galaxies  4\n",
      "window  1 : kappa  0\n",
      "window  2 : galaxies  4\n",
      "window  1 : kappa  0\n",
      "window  2 : galaxies  4\n",
      "window  1 : kappa  0\n",
      "window  2 : galaxies  4\n",
      "window  1 : kappa  0\n",
      "window  2 : galaxies  4\n",
      "window  1 : kappa  0\n",
      "window  2 : galaxies  4\n",
      "window  1 : kappa  0\n",
      "window  2 : galaxies  4\n",
      "window  1 : kappa  0\n",
      "window  2 : galaxies  4\n",
      "window  1 : kappa  0\n",
      "window  2 : galaxies  4\n",
      "window  1 : kappa  0\n",
      "window  2 : galaxies  4\n",
      "window  1 : kappa  0\n",
      "window  2 : galaxies  4\n",
      "window  1 : kappa  0\n",
      "window  2 : galaxies  4\n",
      "starting angular cross power spectrum  0 ,  5 ... \n",
      "window  1 : kappa  0\n",
      "window  2 : galaxies  5\n",
      "window  1 : kappa  0\n",
      "window  2 : galaxies  5\n",
      "window  1 : kappa  0\n",
      "window  2 : galaxies  5\n",
      "window  1 : kappa  0\n",
      "window  2 : galaxies  5\n",
      "window  1 : kappa  0\n",
      "window  2 : galaxies  5\n",
      "window  1 : kappa  0\n",
      "window  2 : galaxies  5\n",
      "window  1 : kappa  0\n",
      "window  2 : galaxies  5\n",
      "window  1 : kappa  0\n",
      "window  2 : galaxies  5\n",
      "window  1 : kappa  0\n",
      "window  2 : galaxies  5\n",
      "window  1 : kappa  0\n",
      "window  2 : galaxies  5\n",
      "window  1 : kappa  0\n",
      "window  2 : galaxies  5\n",
      "window  1 : kappa  0\n",
      "window  2 : galaxies  5\n",
      "window  1 : kappa  0\n",
      "window  2 : galaxies  5\n",
      "window  1 : kappa  0\n",
      "window  2 : galaxies  5\n",
      "window  1 : kappa  0\n",
      "window  2 : galaxies  5\n",
      "starting angular cross power spectrum  0 ,  6 ... \n",
      "window  1 : kappa  0\n",
      "window  2 : galaxies  6\n",
      "window  1 : kappa  0\n",
      "window  2 : galaxies  6\n",
      "window  1 : kappa  0\n",
      "window  2 : galaxies  6\n",
      "window  1 : kappa  0\n",
      "window  2 : galaxies  6\n",
      "window  1 : kappa  0\n",
      "window  2 : galaxies  6\n",
      "window  1 : kappa  0\n",
      "window  2 : galaxies  6\n",
      "window  1 : kappa  0\n",
      "window  2 : galaxies  6\n",
      "window  1 : kappa  0\n",
      "window  2 : galaxies  6\n",
      "window  1 : kappa  0\n",
      "window  2 : galaxies  6\n",
      "window  1 : kappa  0\n",
      "window  2 : galaxies  6\n",
      "window  1 : kappa  0\n",
      "window  2 : galaxies  6\n",
      "window  1 : kappa  0\n",
      "window  2 : galaxies  6\n",
      "window  1 : kappa  0\n",
      "window  2 : galaxies  6\n",
      "window  1 : kappa  0\n",
      "window  2 : galaxies  6\n",
      "window  1 : kappa  0\n",
      "window  2 : galaxies  6\n",
      "starting angular cross power spectrum  0 ,  7 ... \n",
      "window  1 : kappa  0\n",
      "window  2 : galaxies  7\n",
      "window  1 : kappa  0\n",
      "window  2 : galaxies  7\n",
      "window  1 : kappa  0\n",
      "window  2 : galaxies  7\n",
      "window  1 : kappa  0\n",
      "window  2 : galaxies  7\n",
      "window  1 : kappa  0\n",
      "window  2 : galaxies  7\n",
      "window  1 : kappa  0\n",
      "window  2 : galaxies  7\n",
      "window  1 : kappa  0\n",
      "window  2 : galaxies  7\n",
      "window  1 : kappa  0\n",
      "window  2 : galaxies  7\n",
      "window  1 : kappa  0\n",
      "window  2 : galaxies  7\n",
      "window  1 : kappa  0\n",
      "window  2 : galaxies  7\n",
      "window  1 : kappa  0\n",
      "window  2 : galaxies  7\n",
      "window  1 : kappa  0\n",
      "window  2 : galaxies  7\n",
      "window  1 : kappa  0\n",
      "window  2 : galaxies  7\n",
      "window  1 : kappa  0\n",
      "window  2 : galaxies  7\n",
      "window  1 : kappa  0\n",
      "window  2 : galaxies  7\n",
      "starting angular cross power spectrum  0 ,  8 ... \n",
      "window  1 : kappa  0\n",
      "window  2 : galaxies  8\n",
      "window  1 : kappa  0\n",
      "window  2 : galaxies  8\n",
      "window  1 : kappa  0\n",
      "window  2 : galaxies  8\n",
      "window  1 : kappa  0\n",
      "window  2 : galaxies  8\n",
      "window  1 : kappa  0\n",
      "window  2 : galaxies  8\n",
      "window  1 : kappa  0\n",
      "window  2 : galaxies  8\n",
      "window  1 : kappa  0\n",
      "window  2 : galaxies  8\n",
      "window  1 : kappa  0\n",
      "window  2 : galaxies  8\n",
      "window  1 : kappa  0\n",
      "window  2 : galaxies  8\n",
      "window  1 : kappa  0\n",
      "window  2 : galaxies  8\n",
      "window  1 : kappa  0\n",
      "window  2 : galaxies  8\n",
      "window  1 : kappa  0\n",
      "window  2 : galaxies  8\n",
      "window  1 : kappa  0\n",
      "window  2 : galaxies  8\n",
      "window  1 : kappa  0\n",
      "window  2 : galaxies  8\n",
      "window  1 : kappa  0\n",
      "window  2 : galaxies  8\n",
      "starting angular cross power spectrum  1 ,  1 ... \n",
      "window  1 : galaxies  1\n",
      "window  2 : galaxies  1\n",
      "window  1 : galaxies  1\n",
      "window  2 : galaxies  1\n",
      "window  1 : galaxies  1\n",
      "window  2 : galaxies  1\n",
      "window  1 : galaxies  1\n",
      "window  2 : galaxies  1\n",
      "window  1 : galaxies  1\n",
      "window  2 : galaxies  1\n",
      "window  1 : galaxies  1\n",
      "window  2 : galaxies  1\n",
      "window  1 : galaxies  1\n",
      "window  2 : galaxies  1\n",
      "window  1 : galaxies  1\n",
      "window  2 : galaxies  1\n",
      "window  1 : galaxies  1\n",
      "window  2 : galaxies  1\n",
      "window  1 : galaxies  1\n",
      "window  2 : galaxies  1\n",
      "window  1 : galaxies  1\n",
      "window  2 : galaxies  1\n",
      "window  1 : galaxies  1\n",
      "window  2 : galaxies  1\n",
      "window  1 : galaxies  1\n",
      "window  2 : galaxies  1\n",
      "window  1 : galaxies  1\n",
      "window  2 : galaxies  1\n",
      "window  1 : galaxies  1\n",
      "window  2 : galaxies  1\n",
      "starting angular cross power spectrum  1 ,  2 ... \n",
      "starting angular cross power spectrum  1 ,  3 ... \n",
      "starting angular cross power spectrum  1 ,  4 ... \n",
      "starting angular cross power spectrum  1 ,  5 ... \n",
      "starting angular cross power spectrum  1 ,  6 ... \n",
      "starting angular cross power spectrum  1 ,  7 ... \n",
      "starting angular cross power spectrum  1 ,  8 ... \n",
      "starting angular cross power spectrum  2 ,  2 ... \n",
      "window  1 : galaxies  2\n",
      "window  2 : galaxies  2\n",
      "window  1 : galaxies  2\n",
      "window  2 : galaxies  2\n",
      "window  1 : galaxies  2\n",
      "window  2 : galaxies  2\n",
      "window  1 : galaxies  2\n",
      "window  2 : galaxies  2\n",
      "window  1 : galaxies  2\n",
      "window  2 : galaxies  2\n",
      "window  1 : galaxies  2\n",
      "window  2 : galaxies  2\n",
      "window  1 : galaxies  2\n",
      "window  2 : galaxies  2\n",
      "window  1 : galaxies  2\n",
      "window  2 : galaxies  2\n",
      "window  1 : galaxies  2\n",
      "window  2 : galaxies  2\n",
      "window  1 : galaxies  2\n",
      "window  2 : galaxies  2\n",
      "window  1 : galaxies  2\n",
      "window  2 : galaxies  2\n",
      "window  1 : galaxies  2\n",
      "window  2 : galaxies  2\n",
      "window  1 : galaxies  2\n",
      "window  2 : galaxies  2\n",
      "window  1 : galaxies  2\n",
      "window  2 : galaxies  2\n",
      "window  1 : galaxies  2\n",
      "window  2 : galaxies  2\n",
      "starting angular cross power spectrum  2 ,  3 ... \n",
      "starting angular cross power spectrum  2 ,  4 ... \n",
      "starting angular cross power spectrum  2 ,  5 ... \n",
      "starting angular cross power spectrum  2 ,  6 ... \n",
      "starting angular cross power spectrum  2 ,  7 ... \n",
      "starting angular cross power spectrum  2 ,  8 ... \n",
      "starting angular cross power spectrum  3 ,  3 ... \n",
      "window  1 : galaxies  3\n",
      "window  2 : galaxies  3\n",
      "window  1 : galaxies  3\n",
      "window  2 : galaxies  3\n",
      "window  1 : galaxies  3\n",
      "window  2 : galaxies  3\n",
      "window  1 : galaxies  3\n",
      "window  2 : galaxies  3\n",
      "window  1 : galaxies  3\n",
      "window  2 : galaxies  3\n",
      "window  1 : galaxies  3\n",
      "window  2 : galaxies  3\n",
      "window  1 : galaxies  3\n",
      "window  2 : galaxies  3\n",
      "window  1 : galaxies  3\n",
      "window  2 : galaxies  3\n",
      "window  1 : galaxies  3\n",
      "window  2 : galaxies  3\n",
      "window  1 : galaxies  3\n",
      "window  2 : galaxies  3\n",
      "window  1 : galaxies  3\n",
      "window  2 : galaxies  3\n",
      "window  1 : galaxies  3\n",
      "window  2 : galaxies  3\n",
      "window  1 : galaxies  3\n",
      "window  2 : galaxies  3\n",
      "window  1 : galaxies  3\n",
      "window  2 : galaxies  3\n",
      "window  1 : galaxies  3\n",
      "window  2 : galaxies  3\n",
      "starting angular cross power spectrum  3 ,  4 ... \n",
      "starting angular cross power spectrum  3 ,  5 ... \n",
      "starting angular cross power spectrum  3 ,  6 ... \n",
      "starting angular cross power spectrum  3 ,  7 ... \n",
      "starting angular cross power spectrum  3 ,  8 ... \n",
      "starting angular cross power spectrum  4 ,  4 ... \n",
      "window  1 : galaxies  4\n",
      "window  2 : galaxies  4\n",
      "window  1 : galaxies  4\n",
      "window  2 : galaxies  4\n",
      "window  1 : galaxies  4\n",
      "window  2 : galaxies  4\n",
      "window  1 : galaxies  4\n",
      "window  2 : galaxies  4\n",
      "window  1 : galaxies  4\n",
      "window  2 : galaxies  4\n",
      "window  1 : galaxies  4\n",
      "window  2 : galaxies  4\n",
      "window  1 : galaxies  4\n",
      "window  2 : galaxies  4\n",
      "window  1 : galaxies  4\n",
      "window  2 : galaxies  4\n",
      "window  1 : galaxies  4\n",
      "window  2 : galaxies  4\n",
      "window  1 : galaxies  4\n",
      "window  2 : galaxies  4\n",
      "window  1 : galaxies  4\n",
      "window  2 : galaxies  4\n",
      "window  1 : galaxies  4\n",
      "window  2 : galaxies  4\n",
      "window  1 : galaxies  4\n",
      "window  2 : galaxies  4\n",
      "window  1 : galaxies  4\n",
      "window  2 : galaxies  4\n",
      "window  1 : galaxies  4\n",
      "window  2 : galaxies  4\n",
      "starting angular cross power spectrum  4 ,  5 ... \n",
      "starting angular cross power spectrum  4 ,  6 ... \n",
      "starting angular cross power spectrum  4 ,  7 ... \n",
      "starting angular cross power spectrum  4 ,  8 ... \n",
      "starting angular cross power spectrum  5 ,  5 ... \n",
      "window  1 : galaxies  5\n",
      "window  2 : galaxies  5\n",
      "window  1 : galaxies  5\n",
      "window  2 : galaxies  5\n",
      "window  1 : galaxies  5\n",
      "window  2 : galaxies  5\n",
      "window  1 : galaxies  5\n",
      "window  2 : galaxies  5\n",
      "window  1 : galaxies  5\n",
      "window  2 : galaxies  5\n",
      "window  1 : galaxies  5\n",
      "window  2 : galaxies  5\n",
      "window  1 : galaxies  5\n",
      "window  2 : galaxies  5\n",
      "window  1 : galaxies  5\n",
      "window  2 : galaxies  5\n",
      "window  1 : galaxies  5\n",
      "window  2 : galaxies  5\n",
      "window  1 : galaxies  5\n",
      "window  2 : galaxies  5\n",
      "window  1 : galaxies  5\n",
      "window  2 : galaxies  5\n",
      "window  1 : galaxies  5\n",
      "window  2 : galaxies  5\n",
      "window  1 : galaxies  5\n",
      "window  2 : galaxies  5\n",
      "window  1 : galaxies  5\n",
      "window  2 : galaxies  5\n",
      "window  1 : galaxies  5\n",
      "window  2 : galaxies  5\n",
      "starting angular cross power spectrum  5 ,  6 ... \n",
      "starting angular cross power spectrum  5 ,  7 ... \n",
      "starting angular cross power spectrum  5 ,  8 ... \n",
      "starting angular cross power spectrum  6 ,  6 ... \n",
      "window  1 : galaxies  6\n",
      "window  2 : galaxies  6\n",
      "window  1 : galaxies  6\n",
      "window  2 : galaxies  6\n",
      "window  1 : galaxies  6\n",
      "window  2 : galaxies  6\n",
      "window  1 : galaxies  6\n",
      "window  2 : galaxies  6\n",
      "window  1 : galaxies  6\n",
      "window  2 : galaxies  6\n",
      "window  1 : galaxies  6\n",
      "window  2 : galaxies  6\n",
      "window  1 : galaxies  6\n",
      "window  2 : galaxies  6\n",
      "window  1 : galaxies  6\n",
      "window  2 : galaxies  6\n",
      "window  1 : galaxies  6\n",
      "window  2 : galaxies  6\n",
      "window  1 : galaxies  6\n",
      "window  2 : galaxies  6\n",
      "window  1 : galaxies  6\n",
      "window  2 : galaxies  6\n",
      "window  1 : galaxies  6\n",
      "window  2 : galaxies  6\n",
      "window  1 : galaxies  6\n",
      "window  2 : galaxies  6\n",
      "window  1 : galaxies  6\n",
      "window  2 : galaxies  6\n",
      "window  1 : galaxies  6\n",
      "window  2 : galaxies  6\n",
      "starting angular cross power spectrum  6 ,  7 ... \n",
      "starting angular cross power spectrum  6 ,  8 ... \n",
      "starting angular cross power spectrum  7 ,  7 ... \n",
      "window  1 : galaxies  7\n",
      "window  2 : galaxies  7\n",
      "window  1 : galaxies  7\n",
      "window  2 : galaxies  7\n",
      "window  1 : galaxies  7\n",
      "window  2 : galaxies  7\n",
      "window  1 : galaxies  7\n",
      "window  2 : galaxies  7\n",
      "window  1 : galaxies  7\n",
      "window  2 : galaxies  7\n",
      "window  1 : galaxies  7\n",
      "window  2 : galaxies  7\n",
      "window  1 : galaxies  7\n",
      "window  2 : galaxies  7\n",
      "window  1 : galaxies  7\n",
      "window  2 : galaxies  7\n",
      "window  1 : galaxies  7\n",
      "window  2 : galaxies  7\n",
      "window  1 : galaxies  7\n",
      "window  2 : galaxies  7\n",
      "window  1 : galaxies  7\n",
      "window  2 : galaxies  7\n",
      "window  1 : galaxies  7\n",
      "window  2 : galaxies  7\n",
      "window  1 : galaxies  7\n",
      "window  2 : galaxies  7\n",
      "window  1 : galaxies  7\n",
      "window  2 : galaxies  7\n",
      "window  1 : galaxies  7\n",
      "window  2 : galaxies  7\n",
      "starting angular cross power spectrum  7 ,  8 ... \n",
      "starting angular cross power spectrum  8 ,  8 ... \n",
      "window  1 : galaxies  8\n",
      "window  2 : galaxies  8\n",
      "window  1 : galaxies  8\n",
      "window  2 : galaxies  8\n",
      "window  1 : galaxies  8\n",
      "window  2 : galaxies  8\n",
      "window  1 : galaxies  8\n",
      "window  2 : galaxies  8\n",
      "window  1 : galaxies  8\n",
      "window  2 : galaxies  8\n",
      "window  1 : galaxies  8\n",
      "window  2 : galaxies  8\n",
      "window  1 : galaxies  8\n",
      "window  2 : galaxies  8\n",
      "window  1 : galaxies  8\n",
      "window  2 : galaxies  8\n",
      "window  1 : galaxies  8\n",
      "window  2 : galaxies  8\n",
      "window  1 : galaxies  8\n",
      "window  2 : galaxies  8\n",
      "window  1 : galaxies  8\n",
      "window  2 : galaxies  8\n",
      "window  1 : galaxies  8\n",
      "window  2 : galaxies  8\n",
      "window  1 : galaxies  8\n",
      "window  2 : galaxies  8\n",
      "window  1 : galaxies  8\n",
      "window  2 : galaxies  8\n",
      "window  1 : galaxies  8\n",
      "window  2 : galaxies  8\n",
      "starting cross power with binned kappa... \n",
      "starting angular cross power spectrum  0 ,  0 ... \n",
      "window  1 : kappa  1\n",
      "window  2 : kappa  1\n",
      "window  1 : kappa  1\n",
      "window  2 : galaxies  1\n",
      "window  1 : galaxies  1\n",
      "window  2 : galaxies  1\n",
      "starting angular cross power spectrum  1 ,  1 ... \n",
      "window  1 : kappa  2\n",
      "window  2 : kappa  2\n",
      "window  1 : kappa  2\n",
      "window  2 : galaxies  2\n",
      "window  1 : galaxies  2\n",
      "window  2 : galaxies  2\n",
      "starting angular cross power spectrum  2 ,  2 ... \n",
      "window  1 : kappa  3\n",
      "window  2 : kappa  3\n",
      "window  1 : kappa  3\n",
      "window  2 : galaxies  3\n",
      "window  1 : galaxies  3\n",
      "window  2 : galaxies  3\n",
      "starting angular cross power spectrum  3 ,  3 ... \n",
      "window  1 : kappa  4\n",
      "window  2 : kappa  4\n",
      "window  1 : kappa  4\n",
      "window  2 : galaxies  4\n",
      "window  1 : galaxies  4\n",
      "window  2 : galaxies  4\n",
      "starting angular cross power spectrum  4 ,  4 ... \n",
      "window  1 : kappa  5\n",
      "window  2 : kappa  5\n",
      "window  1 : kappa  5\n",
      "window  2 : galaxies  5\n",
      "window  1 : galaxies  5\n",
      "window  2 : galaxies  5\n",
      "starting angular cross power spectrum  5 ,  5 ... \n",
      "window  1 : kappa  6\n",
      "window  2 : kappa  6\n",
      "window  1 : kappa  6\n",
      "window  2 : galaxies  6\n",
      "window  1 : galaxies  6\n",
      "window  2 : galaxies  6\n",
      "starting angular cross power spectrum  6 ,  6 ... \n",
      "window  1 : kappa  7\n",
      "window  2 : kappa  7\n",
      "window  1 : kappa  7\n",
      "window  2 : galaxies  7\n",
      "window  1 : galaxies  7\n",
      "window  2 : galaxies  7\n",
      "starting angular cross power spectrum  7 ,  7 ... \n",
      "window  1 : kappa  8\n",
      "window  2 : kappa  8\n",
      "window  1 : kappa  8\n",
      "window  2 : galaxies  8\n",
      "window  1 : galaxies  8\n",
      "window  2 : galaxies  8\n",
      "building covariance matrix... \n",
      "starting covariance set  1  of  9 ... \n",
      "starting covariance set  2  of  9 ... \n",
      "starting covariance set  3  of  9 ... \n",
      "starting covariance set  4  of  9 ... \n",
      "starting covariance set  5  of  9 ... \n",
      "starting covariance set  6  of  9 ... \n",
      "starting covariance set  7  of  9 ... \n",
      "starting covariance set  8  of  9 ... \n",
      "starting covariance set  9  of  9 ... \n",
      "inverting covariance matrix... \n",
      "starting creation of C_l derivatives... \n",
      "starting derivative set  1  of  9 ... \n",
      "starting derivative set  2  of  9 ... \n",
      "starting derivative set  3  of  9 ... \n",
      "starting derivative set  4  of  9 ... \n",
      "starting derivative set  5  of  9 ... \n",
      "starting derivative set  6  of  9 ... \n",
      "starting derivative set  7  of  9 ... \n",
      "starting derivative set  8  of  9 ... \n",
      "starting derivative set  9  of  9 ... \n",
      "building Fisher matrix from components...\n",
      "invCov.shape:  (45, 45, 1999) , dClVecs.shape:  (45, 15, 1999)\n",
      "starting bin set  1  of  15\n",
      "starting bin set  2  of  15\n",
      "starting bin set  3  of  15\n",
      "starting bin set  4  of  15\n",
      "starting bin set  5  of  15\n",
      "starting bin set  6  of  15\n",
      "starting bin set  7  of  15\n",
      "starting bin set  8  of  15\n",
      "starting bin set  9  of  15\n",
      "starting bin set  10  of  15\n",
      "starting bin set  11  of  15\n",
      "starting bin set  12  of  15\n",
      "starting bin set  13  of  15\n",
      "starting bin set  14  of  15\n",
      "starting bin set  15  of  15\n",
      "creation of Fisher Matrix complete!\n",
      "\n"
     ]
    }
   ],
   "source": [
    "# get a Fisher Matrix object using new version FisherCl2\n",
    "reload(fcl)\n",
    "Fobj = fcl.FisherMatrix(zmax=4,nBins=8)"
   ]
  },
  {
   "cell_type": "code",
   "execution_count": 22,
   "metadata": {
    "collapsed": false
   },
   "outputs": [
    {
     "name": "stdout",
     "output_type": "stream",
     "text": [
      "['ombh2', 'omch2', 'cosmomc_theta', 'As', 'ns', 'tau', 'mnu', 'bin1', 'bin2', 'bin3', 'bin4', 'bin5', 'bin6', 'bin7', 'bin8']\n",
      "[  1.99390828e-04   7.39889930e-04   8.74015861e-06   1.26383785e-11\n",
      "   2.25479424e-03   1.35463366e+00   3.19616763e-03   1.84852377e-03\n",
      "   1.75112824e-03   2.51996195e-03   1.84119551e-03   2.53594120e-03\n",
      "   3.28137664e-03   4.10577402e-03   4.94957370e-03]\n",
      "mnu\n",
      "0.00319616763145\n"
     ]
    }
   ],
   "source": [
    "sigmas = np.sqrt(np.diag(np.linalg.inv(Fobj.Fij)))\n",
    "print Fobj.paramList\n",
    "print sigmas\n",
    "print Fobj.paramList[6]\n",
    "print sigmas[6]"
   ]
  },
  {
   "cell_type": "code",
   "execution_count": 23,
   "metadata": {
    "collapsed": false
   },
   "outputs": [
    {
     "data": {
      "image/png": "[encoded data removed]",
      "text/plain": [
       "<matplotlib.figure.Figure at 0x110442490>"
      ]
     },
     "metadata": {},
     "output_type": "display_data"
    }
   ],
   "source": [
    "zs = Fobj.getBinCenters()\n",
    "sigmaBs = sigmas[7:]\n",
    "plt.plot(zs,sigmaBs)\n",
    "plt.show();"
   ]
  },
  {
   "cell_type": "code",
   "execution_count": 35,
   "metadata": {
    "collapsed": false
   },
   "outputs": [
    {
     "data": {
      "image/png": "[encoded data removed]",
      "text/plain": [
       "<matplotlib.figure.Figure at 0x110173550>"
      ]
     },
     "metadata": {},
     "output_type": "display_data"
    }
   ],
   "source": [
    "# why the bump?  Check just the b_i portion\n",
    "sigmasBonly = np.sqrt(np.diag(np.linalg.inv(Fobj.Fij[7:,7:])))\n",
    "plt.plot(zs,sigmasBonly)\n",
    "plt.show();"
   ]
  },
  {
   "cell_type": "code",
   "execution_count": null,
   "metadata": {
    "collapsed": true
   },
   "outputs": [],
   "source": []
  },
  {
   "cell_type": "code",
   "execution_count": 25,
   "metadata": {
    "collapsed": false,
    "scrolled": true
   },
   "outputs": [
    {
     "name": "stdout",
     "output_type": "stream",
     "text": [
      "creating matter power spectrum object...\n",
      "zs.size:  998\n",
      "fiducial bs:  [ 1.31336283  1.66697151  2.06888487  2.48113088  2.89695688  3.31442616\n",
      "  3.73278304  4.15167301]\n",
      "fiducial As:  [ 1.00205884  1.00134017  1.00118995  1.00112732  1.00109399  1.00107368\n",
      "  1.00106014  1.00105056]\n",
      "starting cross power with entire kappa... \n",
      "starting angular cross power spectrum  0 ,  0 ... \n",
      "window  1 : kappa  0\n",
      "window  2 : kappa  0\n",
      "starting angular cross power spectrum  0 ,  1 ... \n",
      "window  1 : kappa  0\n",
      "window  2 : galaxies  1\n",
      "starting angular cross power spectrum  0 ,  2 ... \n",
      "window  1 : kappa  0\n",
      "window  2 : galaxies  2\n",
      "starting angular cross power spectrum  0 ,  3 ... \n",
      "window  1 : kappa  0\n",
      "window  2 : galaxies  3\n",
      "starting angular cross power spectrum  0 ,  4 ... \n",
      "window  1 : kappa  0\n",
      "window  2 : galaxies  4\n",
      "starting angular cross power spectrum  0 ,  5 ... \n",
      "window  1 : kappa  0\n",
      "window  2 : galaxies  5\n",
      "starting angular cross power spectrum  0 ,  6 ... \n",
      "window  1 : kappa  0\n",
      "window  2 : galaxies  6\n",
      "starting angular cross power spectrum  0 ,  7 ... \n",
      "window  1 : kappa  0\n",
      "window  2 : galaxies  7\n",
      "starting angular cross power spectrum  0 ,  8 ... \n",
      "window  1 : kappa  0\n",
      "window  2 : galaxies  8\n",
      "starting angular cross power spectrum  1 ,  1 ... \n",
      "window  1 : galaxies  1\n",
      "window  2 : galaxies  1\n",
      "starting angular cross power spectrum  1 ,  2 ... \n",
      "starting angular cross power spectrum  1 ,  3 ... \n",
      "starting angular cross power spectrum  1 ,  4 ... \n",
      "starting angular cross power spectrum  1 ,  5 ... \n",
      "starting angular cross power spectrum  1 ,  6 ... \n",
      "starting angular cross power spectrum  1 ,  7 ... \n",
      "starting angular cross power spectrum  1 ,  8 ... \n",
      "starting angular cross power spectrum  2 ,  2 ... \n",
      "window  1 : galaxies  2\n",
      "window  2 : galaxies  2\n",
      "starting angular cross power spectrum  2 ,  3 ... \n",
      "starting angular cross power spectrum  2 ,  4 ... \n",
      "starting angular cross power spectrum  2 ,  5 ... \n",
      "starting angular cross power spectrum  2 ,  6 ... \n",
      "starting angular cross power spectrum  2 ,  7 ... \n",
      "starting angular cross power spectrum  2 ,  8 ... \n",
      "starting angular cross power spectrum  3 ,  3 ... \n",
      "window  1 : galaxies  3\n",
      "window  2 : galaxies  3\n",
      "starting angular cross power spectrum  3 ,  4 ... \n",
      "starting angular cross power spectrum  3 ,  5 ... \n",
      "starting angular cross power spectrum  3 ,  6 ... \n",
      "starting angular cross power spectrum  3 ,  7 ... \n",
      "starting angular cross power spectrum  3 ,  8 ... \n",
      "starting angular cross power spectrum  4 ,  4 ... \n",
      "window  1 : galaxies  4\n",
      "window  2 : galaxies  4\n",
      "starting angular cross power spectrum  4 ,  5 ... \n",
      "starting angular cross power spectrum  4 ,  6 ... \n",
      "starting angular cross power spectrum  4 ,  7 ... \n",
      "starting angular cross power spectrum  4 ,  8 ... \n",
      "starting angular cross power spectrum  5 ,  5 ... \n",
      "window  1 : galaxies  5\n",
      "window  2 : galaxies  5\n",
      "starting angular cross power spectrum  5 ,  6 ... \n",
      "starting angular cross power spectrum  5 ,  7 ... \n",
      "starting angular cross power spectrum  5 ,  8 ... \n",
      "starting angular cross power spectrum  6 ,  6 ... \n",
      "window  1 : galaxies  6\n",
      "window  2 : galaxies  6\n",
      "starting angular cross power spectrum  6 ,  7 ... \n",
      "starting angular cross power spectrum  6 ,  8 ... \n",
      "starting angular cross power spectrum  7 ,  7 ... \n",
      "window  1 : galaxies  7\n",
      "window  2 : galaxies  7\n",
      "starting angular cross power spectrum  7 ,  8 ... \n",
      "starting angular cross power spectrum  8 ,  8 ... \n",
      "window  1 : galaxies  8\n",
      "window  2 : galaxies  8\n",
      "starting cross power with binned kappa... \n",
      "starting angular cross power spectrum  0 ,  0 ... \n",
      "window  1 : kappa  1\n",
      "window  2 : kappa  1\n",
      "window  1 : kappa  1\n",
      "window  2 : galaxies  1\n",
      "window  1 : galaxies  1\n",
      "window  2 : galaxies  1\n",
      "starting angular cross power spectrum  1 ,  1 ... \n",
      "window  1 : kappa  2\n",
      "window  2 : kappa  2\n",
      "window  1 : kappa  2\n",
      "window  2 : galaxies  2\n",
      "window  1 : galaxies  2\n",
      "window  2 : galaxies  2\n",
      "starting angular cross power spectrum  2 ,  2 ... \n",
      "window  1 : kappa  3\n",
      "window  2 : kappa  3\n",
      "window  1 : kappa  3\n",
      "window  2 : galaxies  3\n",
      "window  1 : galaxies  3\n",
      "window  2 : galaxies  3\n",
      "starting angular cross power spectrum  3 ,  3 ... \n",
      "window  1 : kappa  4\n",
      "window  2 : kappa  4\n",
      "window  1 : kappa  4\n",
      "window  2 : galaxies  4\n",
      "window  1 : galaxies  4\n",
      "window  2 : galaxies  4\n",
      "starting angular cross power spectrum  4 ,  4 ... \n",
      "window  1 : kappa  5\n",
      "window  2 : kappa  5\n",
      "window  1 : kappa  5\n",
      "window  2 : galaxies  5\n",
      "window  1 : galaxies  5\n",
      "window  2 : galaxies  5\n",
      "starting angular cross power spectrum  5 ,  5 ... \n",
      "window  1 : kappa  6\n",
      "window  2 : kappa  6\n",
      "window  1 : kappa  6\n",
      "window  2 : galaxies  6\n",
      "window  1 : galaxies  6\n",
      "window  2 : galaxies  6\n",
      "starting angular cross power spectrum  6 ,  6 ... \n",
      "window  1 : kappa  7\n",
      "window  2 : kappa  7\n",
      "window  1 : kappa  7\n",
      "window  2 : galaxies  7\n",
      "window  1 : galaxies  7\n",
      "window  2 : galaxies  7\n",
      "starting angular cross power spectrum  7 ,  7 ... \n",
      "window  1 : kappa  8\n",
      "window  2 : kappa  8\n",
      "window  1 : kappa  8\n",
      "window  2 : galaxies  8\n",
      "window  1 : galaxies  8\n",
      "window  2 : galaxies  8\n",
      "building covariance matrix... \n",
      "starting covariance set  1  of  9 ... \n",
      "starting covariance set  2  of  9 ... \n",
      "starting covariance set  3  of  9 ... \n",
      "starting covariance set  4  of  9 ... \n",
      "starting covariance set  5  of  9 ... \n",
      "starting covariance set  6  of  9 ... \n",
      "starting covariance set  7  of  9 ... \n",
      "starting covariance set  8  of  9 ... \n",
      "starting covariance set  9  of  9 ... \n",
      "inverting covariance matrix... \n",
      "starting creation of C_l derivatives... \n",
      "starting derivative set  1  of  9 ... \n",
      "starting derivative set  2  of  9 ... \n",
      "starting derivative set  3  of  9 ... \n",
      "starting derivative set  4  of  9 ... \n",
      "starting derivative set  5  of  9 ... \n",
      "starting derivative set  6  of  9 ... \n",
      "starting derivative set  7  of  9 ... \n",
      "starting derivative set  8  of  9 ... \n",
      "starting derivative set  9  of  9 ... \n",
      "building Fisher matrix from components...\n",
      "invCov.shape:  (45, 45, 1999) , dClVecs.shape:  (45, 16, 1999)\n",
      "starting bin set  1  of  16\n",
      "starting bin set  2  of  16\n",
      "starting bin set  3  of  16\n",
      "starting bin set  4  of  16\n",
      "starting bin set  5  of  16\n",
      "starting bin set  6  of  16\n",
      "starting bin set  7  of  16\n",
      "starting bin set  8  of  16\n",
      "starting bin set  9  of  16\n",
      "starting bin set  10  of  16\n",
      "starting bin set  11  of  16\n",
      "starting bin set  12  of  16\n",
      "starting bin set  13  of  16\n",
      "starting bin set  14  of  16\n",
      "starting bin set  15  of  16\n",
      "starting bin set  16  of  16\n",
      "creation of Fisher Matrix complete!\n",
      "\n"
     ]
    },
    {
     "data": {
      "image/png": "[encoded data removed]",
      "text/plain": [
       "<matplotlib.figure.Figure at 0x104ee6590>"
      ]
     },
     "metadata": {},
     "output_type": "display_data"
    }
   ],
   "source": [
    "# why the bump?  Try with other Fcl version\n",
    "import FisherCl as fcl0\n",
    "Fobj0 = fcl0.FisherMatrix(zmax=4,nBins=8)\n",
    "zs0 = Fobj0.getBinCenters()\n",
    "sigmasA0,sigmasB0 = Fobj0.getSigmas()\n",
    "plt.plot(zs0,sigmasB0)\n",
    "plt.show()"
   ]
  },
  {
   "cell_type": "code",
   "execution_count": 37,
   "metadata": {
    "collapsed": false
   },
   "outputs": [
    {
     "data": {
      "image/png": "[encoded data removed]",
      "text/plain": [
       "<matplotlib.figure.Figure at 0x11001ae50>"
      ]
     },
     "metadata": {},
     "output_type": "display_data"
    }
   ],
   "source": [
    "# Check just the b_i version\n",
    "sigmasB0only = np.sqrt(np.diag(np.linalg.inv(Fobj0.Fij[8:,8:])))\n",
    "plt.plot(zs,sigmasB0only)\n",
    "plt.show();"
   ]
  },
  {
   "cell_type": "code",
   "execution_count": null,
   "metadata": {
    "collapsed": true
   },
   "outputs": [],
   "source": []
  },
  {
   "cell_type": "code",
   "execution_count": null,
   "metadata": {
    "collapsed": true
   },
   "outputs": [],
   "source": []
  },
  {
   "cell_type": "code",
   "execution_count": 34,
   "metadata": {
    "collapsed": false,
    "scrolled": true
   },
   "outputs": [
    {
     "name": "stdout",
     "output_type": "stream",
     "text": [
      "creating matter power spectrum object...\n",
      "zs.size:  998\n",
      "fiducial bs:  [ 1.31336283  1.66697151  2.06888487  2.48113088  2.89695688  3.31442616\n",
      "  3.73278304  4.15167301]\n",
      "fiducial As:  [ 1.00205884  1.00134017  1.00118995  1.00112732  1.00109399  1.00107368\n",
      "  1.00106014  1.00105056]\n",
      "starting cross power with entire kappa... \n",
      "starting angular cross power spectrum  0 ,  0 ... \n",
      "window  1 : kappa  0\n",
      "window  2 : kappa  0\n",
      "starting angular cross power spectrum  0 ,  1 ... \n",
      "window  1 : kappa  0\n",
      "window  2 : galaxies  1\n",
      "starting angular cross power spectrum  0 ,  2 ... \n",
      "window  1 : kappa  0\n",
      "window  2 : galaxies  2\n",
      "starting angular cross power spectrum  0 ,  3 ... \n",
      "window  1 : kappa  0\n",
      "window  2 : galaxies  3\n",
      "starting angular cross power spectrum  0 ,  4 ... \n",
      "window  1 : kappa  0\n",
      "window  2 : galaxies  4\n",
      "starting angular cross power spectrum  0 ,  5 ... \n",
      "window  1 : kappa  0\n",
      "window  2 : galaxies  5\n",
      "starting angular cross power spectrum  0 ,  6 ... \n",
      "window  1 : kappa  0\n",
      "window  2 : galaxies  6\n",
      "starting angular cross power spectrum  0 ,  7 ... \n",
      "window  1 : kappa  0\n",
      "window  2 : galaxies  7\n",
      "starting angular cross power spectrum  0 ,  8 ... \n",
      "window  1 : kappa  0\n",
      "window  2 : galaxies  8\n",
      "starting angular cross power spectrum  1 ,  1 ... \n",
      "window  1 : galaxies  1\n",
      "window  2 : galaxies  1\n",
      "starting angular cross power spectrum  1 ,  2 ... \n",
      "starting angular cross power spectrum  1 ,  3 ... \n",
      "starting angular cross power spectrum  1 ,  4 ... \n",
      "starting angular cross power spectrum  1 ,  5 ... \n",
      "starting angular cross power spectrum  1 ,  6 ... \n",
      "starting angular cross power spectrum  1 ,  7 ... \n",
      "starting angular cross power spectrum  1 ,  8 ... \n",
      "starting angular cross power spectrum  2 ,  2 ... \n",
      "window  1 : galaxies  2\n",
      "window  2 : galaxies  2\n",
      "starting angular cross power spectrum  2 ,  3 ... \n",
      "starting angular cross power spectrum  2 ,  4 ... \n",
      "starting angular cross power spectrum  2 ,  5 ... \n",
      "starting angular cross power spectrum  2 ,  6 ... \n",
      "starting angular cross power spectrum  2 ,  7 ... \n",
      "starting angular cross power spectrum  2 ,  8 ... \n",
      "starting angular cross power spectrum  3 ,  3 ... \n",
      "window  1 : galaxies  3\n",
      "window  2 : galaxies  3\n",
      "starting angular cross power spectrum  3 ,  4 ... \n",
      "starting angular cross power spectrum  3 ,  5 ... \n",
      "starting angular cross power spectrum  3 ,  6 ... \n",
      "starting angular cross power spectrum  3 ,  7 ... \n",
      "starting angular cross power spectrum  3 ,  8 ... \n",
      "starting angular cross power spectrum  4 ,  4 ... \n",
      "window  1 : galaxies  4\n",
      "window  2 : galaxies  4\n",
      "starting angular cross power spectrum  4 ,  5 ... \n",
      "starting angular cross power spectrum  4 ,  6 ... \n",
      "starting angular cross power spectrum  4 ,  7 ... \n",
      "starting angular cross power spectrum  4 ,  8 ... \n",
      "starting angular cross power spectrum  5 ,  5 ... \n",
      "window  1 : galaxies  5\n",
      "window  2 : galaxies  5\n",
      "starting angular cross power spectrum  5 ,  6 ... \n",
      "starting angular cross power spectrum  5 ,  7 ... \n",
      "starting angular cross power spectrum  5 ,  8 ... \n",
      "starting angular cross power spectrum  6 ,  6 ... \n",
      "window  1 : galaxies  6\n",
      "window  2 : galaxies  6\n",
      "starting angular cross power spectrum  6 ,  7 ... \n",
      "starting angular cross power spectrum  6 ,  8 ... \n",
      "starting angular cross power spectrum  7 ,  7 ... \n",
      "window  1 : galaxies  7\n",
      "window  2 : galaxies  7\n",
      "starting angular cross power spectrum  7 ,  8 ... \n",
      "starting angular cross power spectrum  8 ,  8 ... \n",
      "window  1 : galaxies  8\n",
      "window  2 : galaxies  8\n",
      "starting cross power with binned kappa... \n",
      "starting angular cross power spectrum  0 ,  0 ... \n",
      "window  1 : kappa  1\n",
      "window  2 : kappa  1\n",
      "window  1 : kappa  1\n",
      "window  2 : galaxies  1\n",
      "window  1 : galaxies  1\n",
      "window  2 : galaxies  1\n",
      "starting angular cross power spectrum  1 ,  1 ... \n",
      "window  1 : kappa  2\n",
      "window  2 : kappa  2\n",
      "window  1 : kappa  2\n",
      "window  2 : galaxies  2\n",
      "window  1 : galaxies  2\n",
      "window  2 : galaxies  2\n",
      "starting angular cross power spectrum  2 ,  2 ... \n",
      "window  1 : kappa  3\n",
      "window  2 : kappa  3\n",
      "window  1 : kappa  3\n",
      "window  2 : galaxies  3\n",
      "window  1 : galaxies  3\n",
      "window  2 : galaxies  3\n",
      "starting angular cross power spectrum  3 ,  3 ... \n",
      "window  1 : kappa  4\n",
      "window  2 : kappa  4\n",
      "window  1 : kappa  4\n",
      "window  2 : galaxies  4\n",
      "window  1 : galaxies  4\n",
      "window  2 : galaxies  4\n",
      "starting angular cross power spectrum  4 ,  4 ... \n",
      "window  1 : kappa  5\n",
      "window  2 : kappa  5\n",
      "window  1 : kappa  5\n",
      "window  2 : galaxies  5\n",
      "window  1 : galaxies  5\n",
      "window  2 : galaxies  5\n",
      "starting angular cross power spectrum  5 ,  5 ... \n",
      "window  1 : kappa  6\n",
      "window  2 : kappa  6\n",
      "window  1 : kappa  6\n",
      "window  2 : galaxies  6\n",
      "window  1 : galaxies  6\n",
      "window  2 : galaxies  6\n",
      "starting angular cross power spectrum  6 ,  6 ... \n",
      "window  1 : kappa  7\n",
      "window  2 : kappa  7\n",
      "window  1 : kappa  7\n",
      "window  2 : galaxies  7\n",
      "window  1 : galaxies  7\n",
      "window  2 : galaxies  7\n",
      "starting angular cross power spectrum  7 ,  7 ... \n",
      "window  1 : kappa  8\n",
      "window  2 : kappa  8\n",
      "window  1 : kappa  8\n",
      "window  2 : galaxies  8\n",
      "window  1 : galaxies  8\n",
      "window  2 : galaxies  8\n",
      "building covariance matrix... \n",
      "starting covariance set  1  of  9 ... \n",
      "starting covariance set  2  of  9 ... \n",
      "starting covariance set  3  of  9 ... \n",
      "starting covariance set  4  of  9 ... \n",
      "starting covariance set  5  of  9 ... \n",
      "starting covariance set  6  of  9 ... \n",
      "starting covariance set  7  of  9 ... \n",
      "starting covariance set  8  of  9 ... \n",
      "starting covariance set  9  of  9 ... \n",
      "inverting covariance matrix... \n",
      "starting creation of C_l derivatives... \n",
      "starting derivative set  1  of  9 ... \n",
      "starting derivative set  2  of  9 ... \n",
      "starting derivative set  3  of  9 ... \n",
      "starting derivative set  4  of  9 ... \n",
      "starting derivative set  5  of  9 ... \n",
      "starting derivative set  6  of  9 ... \n",
      "starting derivative set  7  of  9 ... \n",
      "starting derivative set  8  of  9 ... \n",
      "starting derivative set  9  of  9 ... \n",
      "building Fisher matrix from components...\n",
      "invCov.shape:  (45, 45, 1999) , dClVecs.shape:  (45, 16, 1999)\n",
      "starting bin set  1  of  16\n",
      "starting bin set  2  of  16\n",
      "starting bin set  3  of  16\n",
      "starting bin set  4  of  16\n",
      "starting bin set  5  of  16\n",
      "starting bin set  6  of  16\n",
      "starting bin set  7  of  16\n",
      "starting bin set  8  of  16\n",
      "starting bin set  9  of  16\n",
      "starting bin set  10  of  16\n",
      "starting bin set  11  of  16\n",
      "starting bin set  12  of  16\n",
      "starting bin set  13  of  16\n",
      "starting bin set  14  of  16\n",
      "starting bin set  15  of  16\n",
      "starting bin set  16  of  16\n",
      "creation of Fisher Matrix complete!\n",
      "\n"
     ]
    },
    {
     "data": {
      "image/png": "[encoded data removed]",
      "text/plain": [
       "<matplotlib.figure.Figure at 0x10e61fa10>"
      ]
     },
     "metadata": {},
     "output_type": "display_data"
    }
   ],
   "source": [
    "#Well, I really should have done that with fixed As.\n",
    "Fobj1 = fcl0.FisherMatrix(zmax=4,nBins=8,noAs=True)\n",
    "zs1 = Fobj1.getBinCenters()\n",
    "#sigmasA1,sigmasB1 = Fobj1.getSigmas()\n",
    "sigmasB1 = np.sqrt(np.diag(np.linalg.inv(Fobj1.Fij[8:,8:])))\n",
    "plt.plot(zs1,sigmasB1)\n",
    "plt.show()"
   ]
  },
  {
   "cell_type": "code",
   "execution_count": null,
   "metadata": {
    "collapsed": true
   },
   "outputs": [],
   "source": []
  },
  {
   "cell_type": "code",
   "execution_count": 60,
   "metadata": {
    "collapsed": true
   },
   "outputs": [],
   "source": [
    "# save and load some Fisher Matrix data\n",
    "reload(fcl)\n",
    "filename='myFish.npz'\n",
    "fcl.saveFish(Fobj,filename=filename)\n",
    "x,y,z = fcl.loadFish(filename)"
   ]
  },
  {
   "cell_type": "code",
   "execution_count": 78,
   "metadata": {
    "collapsed": false
   },
   "outputs": [
    {
     "name": "stdout",
     "output_type": "stream",
     "text": [
      "dx, dy, p:  62417.2500662 2491.94984702 -0.728734656867\n",
      "fid0, fid1:  0.1193 0.06\n",
      "var0, var1:  omch2 mnu\n"
     ]
    },
    {
     "data": {
      "image/png": "[encoded data removed]",
      "text/plain": [
       "<matplotlib.figure.Figure at 0x10fffd890>"
      ]
     },
     "metadata": {},
     "output_type": "display_data"
    }
   ],
   "source": [
    "# plot error ellipses!\n",
    "reload(fcl)\n",
    "myFish = fcl.Fisher(filename)\n",
    "#select parameters\n",
    "p0=1\n",
    "p1=6\n",
    "dx,dy,p = myFish.dxdyp(p0,p1)\n",
    "print 'dx, dy, p: ',dx,dy,p\n",
    "print 'fid0, fid1: ',myFish.paramVals[p0],myFish.paramVals[p1]\n",
    "print 'var0, var1: ',myFish.paramList[p0],myFish.paramList[p1]\n",
    "myFish.twoParamConf(p0,p1)"
   ]
  },
  {
   "cell_type": "code",
   "execution_count": null,
   "metadata": {
    "collapsed": true
   },
   "outputs": [],
   "source": []
  },
  {
   "cell_type": "code",
   "execution_count": null,
   "metadata": {
    "collapsed": true
   },
   "outputs": [],
   "source": []
  },
  {
   "cell_type": "code",
   "execution_count": null,
   "metadata": {
    "collapsed": true
   },
   "outputs": [],
   "source": []
  },
  {
   "cell_type": "code",
   "execution_count": null,
   "metadata": {
    "collapsed": true
   },
   "outputs": [],
   "source": []
  },
  {
   "cell_type": "code",
   "execution_count": null,
   "metadata": {
    "collapsed": true
   },
   "outputs": [],
   "source": []
  },
  {
   "cell_type": "code",
   "execution_count": null,
   "metadata": {
    "collapsed": true
   },
   "outputs": [],
   "source": []
  },
  {
   "cell_type": "code",
   "execution_count": null,
   "metadata": {
    "collapsed": true
   },
   "outputs": [],
   "source": []
  },
  {
   "cell_type": "code",
   "execution_count": null,
   "metadata": {
    "collapsed": true
   },
   "outputs": [],
   "source": []
  },
  {
   "cell_type": "code",
   "execution_count": null,
   "metadata": {
    "collapsed": true
   },
   "outputs": [],
   "source": []
  },
  {
   "cell_type": "code",
   "execution_count": null,
   "metadata": {
    "collapsed": true
   },
   "outputs": [],
   "source": []
  },
  {
   "cell_type": "code",
   "execution_count": null,
   "metadata": {
    "collapsed": true
   },
   "outputs": [],
   "source": []
  },
  {
   "cell_type": "code",
   "execution_count": null,
   "metadata": {
    "collapsed": true
   },
   "outputs": [],
   "source": []
  },
  {
   "cell_type": "code",
   "execution_count": null,
   "metadata": {
    "collapsed": true
   },
   "outputs": [],
   "source": []
  },
  {
   "cell_type": "code",
   "execution_count": null,
   "metadata": {
    "collapsed": true
   },
   "outputs": [],
   "source": []
  },
  {
   "cell_type": "code",
   "execution_count": null,
   "metadata": {
    "collapsed": true
   },
   "outputs": [],
   "source": []
  },
  {
   "cell_type": "code",
   "execution_count": null,
   "metadata": {
    "collapsed": true
   },
   "outputs": [],
   "source": []
  },
  {
   "cell_type": "code",
   "execution_count": null,
   "metadata": {
    "collapsed": true
   },
   "outputs": [],
   "source": []
  },
  {
   "cell_type": "code",
   "execution_count": null,
   "metadata": {
    "collapsed": true
   },
   "outputs": [],
   "source": []
  },
  {
   "cell_type": "code",
   "execution_count": null,
   "metadata": {
    "collapsed": true
   },
   "outputs": [],
   "source": []
  },
  {
   "cell_type": "code",
   "execution_count": null,
   "metadata": {
    "collapsed": true
   },
   "outputs": [],
   "source": []
  },
  {
   "cell_type": "code",
   "execution_count": null,
   "metadata": {
    "collapsed": true
   },
   "outputs": [],
   "source": []
  },
  {
   "cell_type": "code",
   "execution_count": null,
   "metadata": {
    "collapsed": true
   },
   "outputs": [],
   "source": []
  },
  {
   "cell_type": "code",
   "execution_count": null,
   "metadata": {
    "collapsed": true
   },
   "outputs": [],
   "source": []
  },
  {
   "cell_type": "code",
   "execution_count": null,
   "metadata": {
    "collapsed": true
   },
   "outputs": [],
   "source": []
  },
  {
   "cell_type": "code",
   "execution_count": null,
   "metadata": {
    "collapsed": true
   },
   "outputs": [],
   "source": []
  },
  {
   "cell_type": "code",
   "execution_count": null,
   "metadata": {
    "collapsed": true
   },
   "outputs": [],
   "source": []
  },
  {
   "cell_type": "code",
   "execution_count": null,
   "metadata": {
    "collapsed": true
   },
   "outputs": [],
   "source": []
  },
  {
   "cell_type": "code",
   "execution_count": null,
   "metadata": {
    "collapsed": true
   },
   "outputs": [],
   "source": []
  },
  {
   "cell_type": "code",
   "execution_count": null,
   "metadata": {
    "collapsed": true
   },
   "outputs": [],
   "source": []
  },
  {
   "cell_type": "code",
   "execution_count": null,
   "metadata": {
    "collapsed": true
   },
   "outputs": [],
   "source": []
  },
  {
   "cell_type": "code",
   "execution_count": null,
   "metadata": {
    "collapsed": true
   },
   "outputs": [],
   "source": []
  },
  {
   "cell_type": "code",
   "execution_count": null,
   "metadata": {
    "collapsed": true
   },
   "outputs": [],
   "source": []
  },
  {
   "cell_type": "code",
   "execution_count": null,
   "metadata": {
    "collapsed": true
   },
   "outputs": [],
   "source": []
  },
  {
   "cell_type": "code",
   "execution_count": null,
   "metadata": {
    "collapsed": true
   },
   "outputs": [],
   "source": []
  },
  {
   "cell_type": "code",
   "execution_count": null,
   "metadata": {
    "collapsed": true
   },
   "outputs": [],
   "source": []
  },
  {
   "cell_type": "code",
   "execution_count": null,
   "metadata": {
    "collapsed": true
   },
   "outputs": [],
   "source": []
  },
  {
   "cell_type": "code",
   "execution_count": null,
   "metadata": {
    "collapsed": true
   },
   "outputs": [],
   "source": []
  },
  {
   "cell_type": "code",
   "execution_count": null,
   "metadata": {
    "collapsed": true
   },
   "outputs": [],
   "source": []
  },
  {
   "cell_type": "code",
   "execution_count": null,
   "metadata": {
    "collapsed": true
   },
   "outputs": [],
   "source": []
  },
  {
   "cell_type": "code",
   "execution_count": null,
   "metadata": {
    "collapsed": true
   },
   "outputs": [],
   "source": []
  },
  {
   "cell_type": "code",
   "execution_count": null,
   "metadata": {
    "collapsed": true
   },
   "outputs": [],
   "source": []
  },
  {
   "cell_type": "code",
   "execution_count": null,
   "metadata": {
    "collapsed": true
   },
   "outputs": [],
   "source": []
  },
  {
   "cell_type": "code",
   "execution_count": null,
   "metadata": {
    "collapsed": true
   },
   "outputs": [],
   "source": []
  },
  {
   "cell_type": "code",
   "execution_count": null,
   "metadata": {
    "collapsed": true
   },
   "outputs": [],
   "source": []
  },
  {
   "cell_type": "code",
   "execution_count": null,
   "metadata": {
    "collapsed": true
   },
   "outputs": [],
   "source": []
  },
  {
   "cell_type": "code",
   "execution_count": null,
   "metadata": {
    "collapsed": true
   },
   "outputs": [],
   "source": []
  },
  {
   "cell_type": "code",
   "execution_count": null,
   "metadata": {
    "collapsed": true
   },
   "outputs": [],
   "source": []
  },
  {
   "cell_type": "code",
   "execution_count": null,
   "metadata": {
    "collapsed": true
   },
   "outputs": [],
   "source": []
  },
  {
   "cell_type": "code",
   "execution_count": null,
   "metadata": {
    "collapsed": true
   },
   "outputs": [],
   "source": []
  },
  {
   "cell_type": "code",
   "execution_count": null,
   "metadata": {
    "collapsed": true
   },
   "outputs": [],
   "source": []
  },
  {
   "cell_type": "code",
   "execution_count": null,
   "metadata": {
    "collapsed": true
   },
   "outputs": [],
   "source": []
  },
  {
   "cell_type": "code",
   "execution_count": null,
   "metadata": {
    "collapsed": true
   },
   "outputs": [],
   "source": []
  },
  {
   "cell_type": "code",
   "execution_count": null,
   "metadata": {
    "collapsed": true
   },
   "outputs": [],
   "source": []
  }
 ],
 "metadata": {
  "kernelspec": {
   "display_name": "Python 2",
   "language": "python",
   "name": "python2"
  },
  "language_info": {
   "codemirror_mode": {
    "name": "ipython",
    "version": 2
   },
   "file_extension": ".py",
   "mimetype": "text/x-python",
   "name": "python",
   "nbconvert_exporter": "python",
   "pygments_lexer": "ipython2",
   "version": "2.7.13"
  }
 },
 "nbformat": 4,
 "nbformat_minor": 0
}
