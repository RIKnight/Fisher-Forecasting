{
 "cells": [
  {
   "cell_type": "markdown",
   "metadata": {},
   "source": [
    "# Making some quick calculations to get $F_{ij}$ working for $C_l^{TT},C_l^{TE},C_l^{EE}$ observables"
   ]
  },
  {
   "cell_type": "code",
   "execution_count": 27,
   "metadata": {
    "collapsed": true
   },
   "outputs": [],
   "source": [
    "import crosspower as cp\n",
    "#import FisherCl as fcl\n",
    "#import FisherCl2 as fcl\n",
    "#from numpy.linalg import eigh\n",
    "import camb\n",
    "\n",
    "# set plotting to be in the notebook instead of its own qt window\n",
    "%matplotlib inline"
   ]
  },
  {
   "cell_type": "code",
   "execution_count": null,
   "metadata": {
    "collapsed": true
   },
   "outputs": [],
   "source": []
  },
  {
   "cell_type": "code",
   "execution_count": 28,
   "metadata": {
    "collapsed": false
   },
   "outputs": [],
   "source": [
    "# set cosmological parameters\n",
    "\n",
    "cosParams = {\n",
    "        'H0'    : None, #67.51, #setting H0=None allows cosmomc_theta to be used instead\n",
    "        'cosmomc_theta'           : 1.04087e-2,\n",
    "        'ombh2' : 0.02226,\n",
    "        'omch2' : 0.1193,\n",
    "        'omk'   : 0,\n",
    "        'tau'   : 0.063,\n",
    "\n",
    "        'As'    : 2.130e-9,\n",
    "        'ns'    : 0.9653,\n",
    "        'r'     : 0,\n",
    "        'kPivot': 0.05,\n",
    "\n",
    "        # if fiducial mnu is changed, need to adjust omch2 as well\n",
    "        'mnu'   : 0.06, # (eV)\n",
    "        #'mnu'   : 0.058, # Lloyd suggested this value for fiducial; adjust omch2 if I do use it\n",
    "        'nnu'   : 3.046,\n",
    "        'standard_neutrino_neff'  : 3.046,\n",
    "        'num_massive_neutrinos'   : 1,\n",
    "        'neutrino_hierarchy'      : 'normal'}\n"
   ]
  },
  {
   "cell_type": "code",
   "execution_count": null,
   "metadata": {
    "collapsed": true
   },
   "outputs": [],
   "source": []
  },
  {
   "cell_type": "code",
   "execution_count": 106,
   "metadata": {
    "collapsed": false
   },
   "outputs": [
    {
     "data": {
      "text/plain": [
       "\"\\ncosParams = {\\n        'H0'    : None, #67.51, #setting H0=None allows cosmomc_theta to be used instead\\n        'cosmomc_theta'           : 1.04076967e-2,\\n        'ombh2' : 0.02227,\\n        'omch2' : 0.1413-0.02227,\\n        'omk'   : 0,\\n        'tau'   : 0.067,\\n\\n        'As'    : 1.873e-9,\\n        'ns'    : 0.9681,\\n        'r'     : 0,\\n        'kPivot': 0.05,\\n\\n        # if fiducial mnu is changed, need to adjust omch2 as well\\n        'mnu'   : 0.06, # (eV)\\n        #'mnu'   : 0.058, # Lloyd suggested this value for fiducial; adjust omch2 if I do use it\\n        'nnu'   : 3.046,\\n        'standard_neutrino_neff'  : 3.046,\\n        'num_massive_neutrinos'   : 1,\\n        'neutrino_hierarchy'      : 'normal'}\\n\""
      ]
     },
     "execution_count": 106,
     "metadata": {},
     "output_type": "execute_result"
    }
   ],
   "source": [
    "# set cosmological parameters\n",
    "# step sizes from Kevin's SPT-3G forecasting notebook\n",
    "\"\"\"params_base_theta={'H0':None,'cosmomc_theta':fish_param(1.04076967/100,0.000323773),\n",
    "                           'ombh2':fish_param(0.02227,0.0002),\n",
    "                           'ommh2':fish_param(0.1413,0.0011),\n",
    "                           'tau':fish_param(0.067,0.013, 0.02),\n",
    "                           'clamp':fish_param(1.873,0.0115),\n",
    "                           'ns':fish_param( 0.9681,0.0044),\n",
    "                           'lmax':6000,'lens_potential_accuracy':5.0}\"\"\"\n",
    "#                   ('lcdm_mnu',{'mnu':fish_param(.06,0.01)}),\n",
    "\"\"\"\n",
    "cosParams = {\n",
    "        'H0'    : None, #67.51, #setting H0=None allows cosmomc_theta to be used instead\n",
    "        'cosmomc_theta'           : 1.04076967e-2,\n",
    "        'ombh2' : 0.02227,\n",
    "        'omch2' : 0.1413-0.02227,\n",
    "        'omk'   : 0,\n",
    "        'tau'   : 0.067,\n",
    "\n",
    "        'As'    : 1.873e-9,\n",
    "        'ns'    : 0.9681,\n",
    "        'r'     : 0,\n",
    "        'kPivot': 0.05,\n",
    "\n",
    "        # if fiducial mnu is changed, need to adjust omch2 as well\n",
    "        'mnu'   : 0.06, # (eV)\n",
    "        #'mnu'   : 0.058, # Lloyd suggested this value for fiducial; adjust omch2 if I do use it\n",
    "        'nnu'   : 3.046,\n",
    "        'standard_neutrino_neff'  : 3.046,\n",
    "        'num_massive_neutrinos'   : 1,\n",
    "        'neutrino_hierarchy'      : 'normal'}\n",
    "\"\"\""
   ]
  },
  {
   "cell_type": "code",
   "execution_count": 29,
   "metadata": {
    "collapsed": false
   },
   "outputs": [
    {
     "name": "stdout",
     "output_type": "stream",
     "text": [
      "zs.size:  998\n"
     ]
    }
   ],
   "source": [
    "# get a matterPower object\n",
    "#reload(cp)\n",
    "myPk = cp.matterPower(**cosParams)"
   ]
  },
  {
   "cell_type": "code",
   "execution_count": null,
   "metadata": {
    "collapsed": true
   },
   "outputs": [],
   "source": []
  },
  {
   "cell_type": "code",
   "execution_count": null,
   "metadata": {
    "collapsed": true
   },
   "outputs": [],
   "source": []
  },
  {
   "cell_type": "code",
   "execution_count": 30,
   "metadata": {
    "collapsed": false
   },
   "outputs": [],
   "source": [
    "# copy some setup from FisherCl2.py\n",
    "\n",
    "#myParams = myPk.cosParams\n",
    "myParams = cosParams\n",
    "nz = 1000\n",
    "\n",
    "# parameters list:\n",
    "nCosParams = 7 # 6 LCDM + Mnu\n",
    "paramList = ['ombh2','omch2','cosmomc_theta','As','ns','tau','mnu']\n",
    "# step sizes for discrete derivatives: must correspond to paramList entries!\n",
    "#   from Allison et. al. (2015) Table III.\n",
    "deltaP = [0.0008,0.0030,0.0050e-2,0.1e-9,0.010,0.020,0.020] #last one in eV\n",
    "\n",
    "# step sizes from Kevin's SPT-3G forecasting notebook\n",
    "\"\"\"params_base_theta={'H0':None,'cosmomc_theta':fish_param(1.04076967/100,0.000323773),\n",
    "                           'ombh2':fish_param(0.02227,0.0002),\n",
    "                           'ommh2':fish_param(0.1413,0.0011),\n",
    "                           'tau':fish_param(0.067,0.013, 0.02),\n",
    "                           'clamp':fish_param(1.873,0.0115),\n",
    "                           'ns':fish_param( 0.9681,0.0044),\n",
    "                           'lmax':6000,'lens_potential_accuracy':5.0}\"\"\"\n",
    "#                   ('lcdm_mnu',{'mnu':fish_param(.06,0.01)}),\n",
    "#deltaP = [0.0002,0.0011,0.000323773,0.0115e-9,0.0044,0.013,0.01]\n",
    "\n",
    "# cut deltaP in half to see effect\n",
    "#deltaP = np.array(deltaP)/2.\n",
    "#deltaP = np.array(deltaP)/10.\n",
    "\n",
    "# double deltaP to see effect\n",
    "#deltaP = np.array(deltaP)*2.\n",
    "#deltaP = np.array(deltaP)*10.\n",
    "\n",
    "\n",
    "# make this a function that uses some global variables\n",
    "def getDerivParams(deltaP):\n",
    "    \"\"\"\n",
    "        deltaP: array of parameter step sizes\n",
    "        Returns:\n",
    "            parsUpper: array of camb pars objects, one element for each parameter\n",
    "            parsLower: array of camb pars objects, one element for each parameter\n",
    "    \"\"\"\n",
    "    \n",
    "    # get more matterPower objects for numeric differentiation\n",
    "    print 'creating parameter sets...'\n",
    "    myParamsUpper = []\n",
    "    myParamsLower = []\n",
    "    parsUpper = []\n",
    "    parsLower = []\n",
    "    for cParamNum in range(nCosParams):\n",
    "        #print 'creating matter power spectra for ',paramList[cParamNum],' derivative...'\n",
    "        print 'creating parameter set for ',paramList[cParamNum],' derivative...'\n",
    "        # add parameter dictionary to lists; HAVE TO BE COPIES!!!\n",
    "        myParamsUpper.append(myParams.copy())\n",
    "        myParamsLower.append(myParams.copy())\n",
    "        # modify parameter number cParamNum in dictionaries\n",
    "        myParamsUpper[cParamNum][paramList[cParamNum]] += deltaP[cParamNum]\n",
    "        myParamsLower[cParamNum][paramList[cParamNum]] -= deltaP[cParamNum]\n",
    "\n",
    "\n",
    "        # toggle this section off for comparison with Kevin's Fisher result:\n",
    "        \"\"\"\n",
    "        # check for mnu modification and adjust omch2 if necessary\n",
    "        if paramList[cParamNum] == 'mnu':\n",
    "            omch2Index = np.where(np.array(paramList) == 'omch2')[0][0]\n",
    "            deltaOmnh2 = deltaP[cParamNum]/94 #eq.n 12 from Wu et. al.\n",
    "            #deltaOmnh2 = pars.omegan*(pars.H0/100)**2 # probably a better measure of omega_nu\n",
    "            # note the -=,+= signs get reversed in next 2 lines compared to above\n",
    "            myParamsUpper[cParamNum][paramList[omch2Index]] -= deltaOmnh2\n",
    "            myParamsLower[cParamNum][paramList[omch2Index]] += deltaOmnh2\n",
    "        \"\"\"\n",
    "\n",
    "        #print 'cPramNum: ',cParamNum,', param name: ',paramList[cParamNum]\n",
    "        #print 'myParamsUpper[cParamNum][paramList[cParamNum]]: ',myParamsUpper[cParamNum][paramList[cParamNum]]\n",
    "        #print 'myParamsLower[cParamNum][paramList[cParamNum]]: ',myParamsLower[cParamNum][paramList[cParamNum]]\n",
    "        #print 'deltaP[cParamNum]: ',deltaP[cParamNum]\n",
    "\n",
    "        # create matter power objects and add to lists\n",
    "        # really I just need matterPower.pars, but this is a fast way to code it\n",
    "        #myPksUpper.append(cp.matterPower(nz=nz,**myParamsUpper[cParamNum]))\n",
    "        #myPksLower.append(cp.matterPower(nz=nz,**myParamsLower[cParamNum]))\n",
    "\n",
    "        # switch to using just pars objects.  No longer \"myPks\", should be renamed\n",
    "        parsUpper.append(cp.matterPower.getPars(myPk,**myParamsUpper[cParamNum]))\n",
    "        parsLower.append(cp.matterPower.getPars(myPk,**myParamsLower[cParamNum]))\n",
    "        \n",
    "    #return myPksUpper,myPksLower\n",
    "    return parsUpper,parsLower\n",
    "    \n"
   ]
  },
  {
   "cell_type": "code",
   "execution_count": null,
   "metadata": {
    "collapsed": true
   },
   "outputs": [],
   "source": []
  },
  {
   "cell_type": "code",
   "execution_count": null,
   "metadata": {
    "collapsed": true
   },
   "outputs": [],
   "source": []
  },
  {
   "cell_type": "code",
   "execution_count": null,
   "metadata": {
    "collapsed": true
   },
   "outputs": [],
   "source": []
  },
  {
   "cell_type": "code",
   "execution_count": null,
   "metadata": {
    "collapsed": true
   },
   "outputs": [],
   "source": []
  },
  {
   "cell_type": "code",
   "execution_count": null,
   "metadata": {
    "collapsed": true
   },
   "outputs": [],
   "source": []
  },
  {
   "cell_type": "code",
   "execution_count": null,
   "metadata": {
    "collapsed": true
   },
   "outputs": [],
   "source": []
  },
  {
   "cell_type": "code",
   "execution_count": 109,
   "metadata": {
    "collapsed": true
   },
   "outputs": [],
   "source": [
    "def checkPars(pars):\n",
    "    H0 = pars.H0\n",
    "    print 'ombh2: ',pars.omegab*(H0/100)**2\n",
    "    print 'omch2: ',pars.omegac*(H0/100)**2\n",
    "    print 'H_0: ',H0, '(proxy for theta?)'\n",
    "    #print 'initial condition vector: ',pars.InitialConditionVector\n",
    "    print 'As: ',pars.InitPower.ScalarPowerAmp[0]\n",
    "    print 'ns: ',pars.InitPower.an[0]\n",
    "    print 'tau: ',pars.Reion.optical_depth\n",
    "    #print 'omega_n: ',pars.omegan\n",
    "    print 'omega_n*94*h**2: ',pars.omegan*94*(H0/100)**2\n",
    "    \n",
    "    #print '\\n'\n",
    "    #print pars\n",
    "    "
   ]
  },
  {
   "cell_type": "code",
   "execution_count": 110,
   "metadata": {
    "collapsed": true
   },
   "outputs": [],
   "source": [
    "# set to True to check parameter values\n",
    "if False:\n",
    "    for cParamNum in range(nCosParams):\n",
    "        print '\\nContents of pars objects for parameter set ',cParamNum+1,' for parameter ',paramList[cParamNum], \\\n",
    "              ' with delta ',deltaP[cParamNum]\n",
    "        checkPars(myPksUpper[cParamNum])\n",
    "        checkPars(myPksLower[cParamNum])"
   ]
  },
  {
   "cell_type": "code",
   "execution_count": 111,
   "metadata": {
    "collapsed": false
   },
   "outputs": [],
   "source": [
    "# get all cross power spectra\n",
    "nMaps = 2 # T,E\n",
    "lmax = 2000 # may want to match lmax in other Fisher calculation\n",
    "\n",
    "# rewrite as function that uses global variables\n",
    "def getPowerSpectra(parsUpper,parsLower):\n",
    "    #def getPowerSpectra(myPksUpper,myPksLower):\n",
    "    #lmax = 2000 # may want to match lmax in other Fisher calculation\n",
    "    pars = myPk.pars\n",
    "    #pars.set_for_lmax(lmax, lens_potential_accuracy=0)\n",
    "    # try kicking it up for comaprison against Kevin's result\n",
    "    lensLmax = lmax #3*lmax\n",
    "    lpa = 0 #5.0\n",
    "    #aBoost = 1\n",
    "    #aBoost = 2\n",
    "    #aBoost = 3\n",
    "    #aBoost = 4\n",
    "    aBoost = 5\n",
    "    pars.set_for_lmax(lensLmax, lens_potential_accuracy=lpa)\n",
    "    pars.set_accuracy(AccuracyBoost=aBoost)\n",
    "\n",
    "    #calculate results for these parameters\n",
    "    print 'getting Cl power spectrum'\n",
    "    results = camb.get_results(pars)\n",
    "\n",
    "    #get dictionary of CAMB power spectra\n",
    "    powers =results.get_cmb_power_spectra(pars)\n",
    "    #for name in powers: print name\n",
    "\n",
    "    #get the total lensed CMB power spectra versus unlensed\n",
    "    #myClName = 'total'\n",
    "    myClName = 'unlensed_scalar'\n",
    "    myCl = powers[myClName]\n",
    "\n",
    "    #totCl=powers['total']\n",
    "    #unlensedCl=powers['unlensed_scalar']\n",
    "    print myCl.shape\n",
    "    #Python Cl arrays are all zero based (starting at L=0), Note L=0,1 entries will be zero by default.\n",
    "    #The different CL are always in the order TT, EE, BB, TE (with BB=0 for unlensed scalar results).\n",
    "\n",
    "    # re-arrange the data structure to be consistent with code in FisherMatrix\n",
    "    #nMaps = 2 # T,E\n",
    "    crossCls      = np.zeros((nMaps,nMaps,           lmax))\n",
    "    crossClsPlus  = np.zeros((nMaps,nMaps,nCosParams,lmax))\n",
    "    crossClsMinus = np.zeros((nMaps,nMaps,nCosParams,lmax))\n",
    "\n",
    "    crossCls[0,0] = myCl[:lmax,0] # TT\n",
    "    crossCls[0,1] = myCl[:lmax,3] # TE\n",
    "    crossCls[1,0] = myCl[:lmax,3] # ET\n",
    "    crossCls[1,1] = myCl[:lmax,1] # EE\n",
    "\n",
    "    # get the perturbed versions\n",
    "    for paramNum in range(nCosParams):\n",
    "        print 'getting Cl power spectra for parameter ',paramList[paramNum]\n",
    "        myParsUpper = parsUpper[paramNum] #.pars\n",
    "        myParsLower = parsLower[paramNum] #.pars\n",
    "        myParsUpper.set_for_lmax(lensLmax, lens_potential_accuracy=lpa)\n",
    "        myParsLower.set_for_lmax(lensLmax, lens_potential_accuracy=lpa)\n",
    "        myParsUpper.set_accuracy(AccuracyBoost=aBoost)\n",
    "        myParsLower.set_accuracy(AccuracyBoost=aBoost)\n",
    "\n",
    "\n",
    "        #calculate results for these parameters\n",
    "        resultsUpper = camb.get_results(myParsUpper)\n",
    "        resultsLower = camb.get_results(myParsLower)\n",
    "\n",
    "        #get dictionary of CAMB power spectra\n",
    "        powersUpper =resultsUpper.get_cmb_power_spectra(myParsUpper)\n",
    "        powersLower =resultsLower.get_cmb_power_spectra(myParsLower)\n",
    "\n",
    "        #get the selected power spectra\n",
    "        myClUpper=powersUpper[myClName]\n",
    "        myClLower=powersLower[myClName]\n",
    "\n",
    "        #store them\n",
    "        crossClsPlus[0,0,paramNum]  = myClUpper[:lmax,0] # TT\n",
    "        crossClsPlus[0,1,paramNum]  = myClUpper[:lmax,3] # TE\n",
    "        crossClsPlus[1,0,paramNum]  = myClUpper[:lmax,3] # ET\n",
    "        crossClsPlus[1,1,paramNum]  = myClUpper[:lmax,1] # EE\n",
    "\n",
    "        crossClsMinus[0,0,paramNum] = myClLower[:lmax,0] # TT\n",
    "        crossClsMinus[0,1,paramNum] = myClLower[:lmax,3] # TE\n",
    "        crossClsMinus[1,0,paramNum] = myClLower[:lmax,3] # ET\n",
    "        crossClsMinus[1,1,paramNum] = myClLower[:lmax,1] # EE\n",
    "\n",
    "    return crossCls,crossClsPlus,crossClsMinus\n"
   ]
  },
  {
   "cell_type": "code",
   "execution_count": null,
   "metadata": {
    "collapsed": true
   },
   "outputs": [],
   "source": []
  },
  {
   "cell_type": "code",
   "execution_count": null,
   "metadata": {
    "collapsed": true
   },
   "outputs": [],
   "source": []
  },
  {
   "cell_type": "code",
   "execution_count": null,
   "metadata": {
    "collapsed": true
   },
   "outputs": [],
   "source": []
  },
  {
   "cell_type": "code",
   "execution_count": null,
   "metadata": {
    "collapsed": true
   },
   "outputs": [],
   "source": []
  },
  {
   "cell_type": "code",
   "execution_count": null,
   "metadata": {
    "collapsed": true
   },
   "outputs": [],
   "source": []
  },
  {
   "cell_type": "code",
   "execution_count": null,
   "metadata": {
    "collapsed": true
   },
   "outputs": [],
   "source": []
  },
  {
   "cell_type": "code",
   "execution_count": null,
   "metadata": {
    "collapsed": true
   },
   "outputs": [],
   "source": []
  },
  {
   "cell_type": "code",
   "execution_count": 112,
   "metadata": {
    "collapsed": false
   },
   "outputs": [],
   "source": [
    "# get derivatives wrt parameters\n",
    "\n",
    "# rewrite as function that uses global variables\n",
    "def getDClVecs(crossCls,crossClsPlus,crossClsMinus):\n",
    "    \n",
    "    nCls = nMaps*(nMaps+1)/2 # This way removes redundancies, eg C_l^kg = C_l^gk\n",
    "    print 'starting creation of C_l derivatives... '\n",
    "    #dClVecs = np.empty((nCls, nCosParams, lmax+51))\n",
    "    #Clzeros = np.zeros(lmax+51) # for putting into dClVecs when needed\n",
    "    dClVecs = np.empty((nCls, nCosParams, lmax))\n",
    "\n",
    "    for map1 in range(nMaps):\n",
    "        print 'starting derivative set ',map1+1,' of ',nMaps,'... '\n",
    "        for map2 in range(map1,nMaps):\n",
    "            mapIdx  = map1*nMaps+map2 -map1*(map1+1)/2  \n",
    "                                       # mapIdx = map index\n",
    "            for pIdx in range(nCosParams):\n",
    "                dClPlus  = crossClsPlus[map1,map2,pIdx]\n",
    "                dClMinus = crossClsMinus[map1,map2,pIdx]\n",
    "                dClVecs[mapIdx, pIdx] = (dClPlus-dClMinus)/(2*deltaP[pIdx])\n",
    "\n",
    "    return dClVecs\n"
   ]
  },
  {
   "cell_type": "code",
   "execution_count": 113,
   "metadata": {
    "collapsed": false
   },
   "outputs": [
    {
     "name": "stdout",
     "output_type": "stream",
     "text": [
      "0 0 0\n",
      "0 1 1\n",
      "1 1 2\n"
     ]
    }
   ],
   "source": [
    "# verify mapIdx does what it's supposed to: count\n",
    "for map1 in range(nMaps):\n",
    "    for map2 in range(map1,nMaps):\n",
    "        mapIdx  = map1*nMaps+map2 -map1*(map1+1)/2  \n",
    "        print map1, map2, mapIdx"
   ]
  },
  {
   "cell_type": "code",
   "execution_count": null,
   "metadata": {
    "collapsed": true
   },
   "outputs": [],
   "source": []
  },
  {
   "cell_type": "code",
   "execution_count": 114,
   "metadata": {
    "collapsed": false,
    "scrolled": true
   },
   "outputs": [
    {
     "name": "stdout",
     "output_type": "stream",
     "text": [
      "deltaP:  [0.0008, 0.003, 5e-05, 1e-10, 0.01, 0.02, 0.02]\n",
      "starting set  1  with Delta parameters  [  8.00000000e-05   3.00000000e-04   5.00000000e-06   1.00000000e-11\n",
      "   1.00000000e-03   2.00000000e-03   2.00000000e-03]\n",
      "creating parameter sets...\n",
      "creating parameter set for  ombh2  derivative...\n",
      "creating parameter set for  omch2  derivative...\n",
      "creating parameter set for  cosmomc_theta  derivative...\n",
      "creating parameter set for  As  derivative...\n",
      "creating parameter set for  ns  derivative...\n",
      "creating parameter set for  tau  derivative...\n",
      "creating parameter set for  mnu  derivative...\n",
      "\n",
      "\n",
      "ombh2:  0.02234\n",
      "omch2:  0.1193\n",
      "H_0:  67.558393069 (proxy for theta?)\n",
      "As:  2.13e-09\n",
      "ns:  0.9653\n",
      "tau:  0.063\n",
      "omega_n*94*h**2:  0.0606435258047\n",
      "ombh2:  0.02218\n",
      "omch2:  0.1193\n",
      "H_0:  67.426663272 (proxy for theta?)\n",
      "As:  2.13e-09\n",
      "ns:  0.9653\n",
      "tau:  0.063\n",
      "omega_n*94*h**2:  0.0606435258047\n",
      "getting Cl power spectrum\n",
      "(2051, 4)\n",
      "getting Cl power spectra for parameter  ombh2\n",
      "getting Cl power spectra for parameter  omch2\n",
      "getting Cl power spectra for parameter  cosmomc_theta\n",
      "getting Cl power spectra for parameter  As\n",
      "getting Cl power spectra for parameter  ns\n",
      "getting Cl power spectra for parameter  tau\n",
      "getting Cl power spectra for parameter  mnu\n"
     ]
    },
    {
     "data": {
      "image/png": "[encoded data removed]",
      "text/plain": [
       "<matplotlib.figure.Figure at 0x113c05910>"
      ]
     },
     "metadata": {},
     "output_type": "display_data"
    },
    {
     "name": "stdout",
     "output_type": "stream",
     "text": [
      "starting creation of C_l derivatives... \n",
      "starting derivative set  1  of  2 ... \n",
      "starting derivative set  2  of  2 ... \n",
      "starting set  2  with Delta parameters  [  4.00000000e-04   1.50000000e-03   2.50000000e-05   5.00000000e-11\n",
      "   5.00000000e-03   1.00000000e-02   1.00000000e-02]\n",
      "creating parameter sets...\n",
      "creating parameter set for  ombh2  derivative...\n",
      "creating parameter set for  omch2  derivative...\n",
      "creating parameter set for  cosmomc_theta  derivative...\n",
      "creating parameter set for  As  derivative...\n",
      "creating parameter set for  ns  derivative...\n",
      "creating parameter set for  tau  derivative...\n",
      "creating parameter set for  mnu  derivative...\n",
      "\n",
      "\n",
      "ombh2:  0.02266\n",
      "omch2:  0.1193\n",
      "H_0:  67.8231350549 (proxy for theta?)\n",
      "As:  2.13e-09\n",
      "ns:  0.9653\n",
      "tau:  0.063\n",
      "omega_n*94*h**2:  0.0606435258047\n",
      "ombh2:  0.02186\n",
      "omch2:  0.1193\n",
      "H_0:  67.1645320834 (proxy for theta?)\n",
      "As:  2.13e-09\n",
      "ns:  0.9653\n",
      "tau:  0.063\n",
      "omega_n*94*h**2:  0.0606435258047\n",
      "getting Cl power spectrum\n",
      "(2051, 4)\n",
      "getting Cl power spectra for parameter  ombh2\n",
      "getting Cl power spectra for parameter  omch2\n",
      "getting Cl power spectra for parameter  cosmomc_theta\n",
      "getting Cl power spectra for parameter  As\n",
      "getting Cl power spectra for parameter  ns\n",
      "getting Cl power spectra for parameter  tau\n",
      "getting Cl power spectra for parameter  mnu\n"
     ]
    },
    {
     "data": {
      "image/png": "[encoded data removed]",
      "text/plain": [
       "<matplotlib.figure.Figure at 0x11a821650>"
      ]
     },
     "metadata": {},
     "output_type": "display_data"
    },
    {
     "name": "stdout",
     "output_type": "stream",
     "text": [
      "starting creation of C_l derivatives... \n",
      "starting derivative set  1  of  2 ... \n",
      "starting derivative set  2  of  2 ... \n",
      "starting set  3  with Delta parameters  [  8.00000000e-04   3.00000000e-03   5.00000000e-05   1.00000000e-10\n",
      "   1.00000000e-02   2.00000000e-02   2.00000000e-02]\n",
      "creating parameter sets...\n",
      "creating parameter set for  ombh2  derivative...\n",
      "creating parameter set for  omch2  derivative...\n",
      "creating parameter set for  cosmomc_theta  derivative...\n",
      "creating parameter set for  As  derivative...\n",
      "creating parameter set for  ns  derivative...\n",
      "creating parameter set for  tau  derivative...\n",
      "creating parameter set for  mnu  derivative...\n",
      "\n",
      "\n",
      "ombh2:  0.02306\n",
      "omch2:  0.1193\n",
      "H_0:  68.1563771999 (proxy for theta?)\n",
      "As:  2.13e-09\n",
      "ns:  0.9653\n",
      "tau:  0.063\n",
      "omega_n*94*h**2:  0.0606435258047\n",
      "ombh2:  0.02146\n",
      "omch2:  0.1193\n",
      "H_0:  66.8394586651 (proxy for theta?)\n",
      "As:  2.13e-09\n",
      "ns:  0.9653\n",
      "tau:  0.063\n",
      "omega_n*94*h**2:  0.0606435258047\n",
      "getting Cl power spectrum\n",
      "(2051, 4)\n",
      "getting Cl power spectra for parameter  ombh2\n",
      "getting Cl power spectra for parameter  omch2\n",
      "getting Cl power spectra for parameter  cosmomc_theta\n",
      "getting Cl power spectra for parameter  As\n",
      "getting Cl power spectra for parameter  ns\n",
      "getting Cl power spectra for parameter  tau\n",
      "getting Cl power spectra for parameter  mnu\n"
     ]
    },
    {
     "data": {
      "image/png": "[encoded data removed]",
      "text/plain": [
       "<matplotlib.figure.Figure at 0x114ee1c10>"
      ]
     },
     "metadata": {},
     "output_type": "display_data"
    },
    {
     "name": "stdout",
     "output_type": "stream",
     "text": [
      "starting creation of C_l derivatives... \n",
      "starting derivative set  1  of  2 ... \n",
      "starting derivative set  2  of  2 ... \n",
      "starting set  4  with Delta parameters  [  1.60000000e-03   6.00000000e-03   1.00000000e-04   2.00000000e-10\n",
      "   2.00000000e-02   4.00000000e-02   4.00000000e-02]\n",
      "creating parameter sets...\n",
      "creating parameter set for  ombh2  derivative...\n",
      "creating parameter set for  omch2  derivative...\n",
      "creating parameter set for  cosmomc_theta  derivative...\n",
      "creating parameter set for  As  derivative...\n",
      "creating parameter set for  ns  derivative...\n",
      "creating parameter set for  tau  derivative...\n",
      "creating parameter set for  mnu  derivative...\n",
      "\n",
      "\n",
      "ombh2:  0.02386\n",
      "omch2:  0.1193\n",
      "H_0:  68.8300933202 (proxy for theta?)\n",
      "As:  2.13e-09\n",
      "ns:  0.9653\n",
      "tau:  0.063\n",
      "omega_n*94*h**2:  0.0606435258047\n",
      "ombh2:  0.02066\n",
      "omch2:  0.1193\n",
      "H_0:  66.198566126 (proxy for theta?)\n",
      "As:  2.13e-09\n",
      "ns:  0.9653\n",
      "tau:  0.063\n",
      "omega_n*94*h**2:  0.0606435258047\n",
      "getting Cl power spectrum\n",
      "(2051, 4)\n",
      "getting Cl power spectra for parameter  ombh2\n",
      "getting Cl power spectra for parameter  omch2\n",
      "getting Cl power spectra for parameter  cosmomc_theta\n",
      "getting Cl power spectra for parameter  As\n",
      "getting Cl power spectra for parameter  ns\n",
      "getting Cl power spectra for parameter  tau\n",
      "getting Cl power spectra for parameter  mnu\n"
     ]
    },
    {
     "data": {
      "image/png": "[encoded data removed]",
      "text/plain": [
       "<matplotlib.figure.Figure at 0x1177844d0>"
      ]
     },
     "metadata": {},
     "output_type": "display_data"
    },
    {
     "name": "stdout",
     "output_type": "stream",
     "text": [
      "starting creation of C_l derivatives... \n",
      "starting derivative set  1  of  2 ... \n",
      "starting derivative set  2  of  2 ... \n",
      "starting set  5  with Delta parameters  [  8.00000000e-03   3.00000000e-02   5.00000000e-04   1.00000000e-09\n",
      "   1.00000000e-01   2.00000000e-01   2.00000000e-01]\n",
      "creating parameter sets...\n",
      "creating parameter set for  ombh2  derivative...\n",
      "creating parameter set for  omch2  derivative...\n",
      "creating parameter set for  cosmomc_theta  derivative...\n",
      "creating parameter set for  As  derivative...\n",
      "creating parameter set for  ns  derivative...\n",
      "creating parameter set for  tau  derivative...\n",
      "creating parameter set for  mnu  derivative...\n",
      "\n",
      "\n",
      "ombh2:  0.03026\n",
      "omch2:  0.1193\n",
      "H_0:  74.4803797871 (proxy for theta?)\n",
      "As:  2.13e-09\n",
      "ns:  0.9653\n",
      "tau:  0.063\n",
      "omega_n*94*h**2:  0.0606435258047\n",
      "ombh2:  0.01426\n",
      "omch2:  0.1193\n",
      "H_0:  61.7408055179 (proxy for theta?)\n",
      "As:  2.13e-09\n",
      "ns:  0.9653\n",
      "tau:  0.063\n",
      "omega_n*94*h**2:  0.0606435258047\n",
      "getting Cl power spectrum\n",
      "(2051, 4)\n",
      "getting Cl power spectra for parameter  ombh2\n",
      "getting Cl power spectra for parameter  omch2\n",
      "getting Cl power spectra for parameter  cosmomc_theta\n",
      "getting Cl power spectra for parameter  As\n",
      "getting Cl power spectra for parameter  ns\n",
      "getting Cl power spectra for parameter  tau\n",
      "getting Cl power spectra for parameter  mnu\n"
     ]
    },
    {
     "data": {
      "image/png": "[encoded data removed]",
      "text/plain": [
       "<matplotlib.figure.Figure at 0x1178f7950>"
      ]
     },
     "metadata": {},
     "output_type": "display_data"
    },
    {
     "name": "stdout",
     "output_type": "stream",
     "text": [
      "starting creation of C_l derivatives... \n",
      "starting derivative set  1  of  2 ... \n",
      "starting derivative set  2  of  2 ... \n"
     ]
    }
   ],
   "source": [
    "# loop it\n",
    "print 'deltaP: ',deltaP\n",
    "dp = np.array(deltaP)\n",
    "deltaP_half = dp/2.\n",
    "deltaP_tenth = dp/10.\n",
    "deltaP_double = dp*2.\n",
    "deltaP_decade = dp*10.\n",
    "deltaP_list = [deltaP_tenth,deltaP_half,dp,deltaP_double,deltaP_decade]\n",
    "\n",
    "dClVecs_list = []\n",
    "for pSetNum,deltaP in enumerate(deltaP_list):\n",
    "    print 'starting set ',pSetNum+1,' with Delta parameters ',deltaP\n",
    "    parsUpper,parsLower = getDerivParams(deltaP)\n",
    "    \n",
    "    # just check parameter 0\n",
    "    print '\\n'\n",
    "    checkPars(parsUpper[0]) #.pars)\n",
    "    checkPars(parsLower[0]) #.pars)\n",
    "    \n",
    "    crossCls,crossClsPlus,crossClsMinus = getPowerSpectra(parsUpper,parsLower)\n",
    "    \n",
    "    plt.plot(crossCls[0,0])\n",
    "    plt.plot(crossCls[0,1])\n",
    "    plt.plot(crossCls[1,1])\n",
    "    plt.show()\n",
    "    \n",
    "    dClVecs = getDClVecs(crossCls,crossClsPlus,crossClsMinus)\n",
    "    dClVecs_list.append(dClVecs)\n",
    "    "
   ]
  },
  {
   "cell_type": "code",
   "execution_count": 115,
   "metadata": {
    "collapsed": true
   },
   "outputs": [],
   "source": [
    "# save it.\n",
    "import pickle\n",
    "#filehandler = open('dClVecsList1.obj','w')\n",
    "#filehandler = open('dClVecsList3.obj','w')\n",
    "#filehandler = open('dClVecsList5.obj','w')\n",
    "pickle.dump(dClVecs_list,filehandler)"
   ]
  },
  {
   "cell_type": "code",
   "execution_count": 20,
   "metadata": {
    "collapsed": false
   },
   "outputs": [],
   "source": [
    "# load it\n",
    "import pickle\n",
    "file = open('dClVecsList5.obj','r')\n",
    "dClVecs_list = pickle.load(file)\n",
    "\n",
    "deltaP = [0.0008,0.0030,0.0050e-2,0.1e-9,0.010,0.020,0.020] #last one in eV\n",
    "dp = np.array(deltaP)\n",
    "deltaP_half = dp/2.\n",
    "deltaP_tenth = dp/10.\n",
    "deltaP_double = dp*2.\n",
    "deltaP_decade = dp*10.\n",
    "deltaP_list = [deltaP_tenth,deltaP_half,dp,deltaP_double,deltaP_decade]\n",
    "\n",
    "nCosParams = 7 # 6 LCDM + Mnu\n",
    "paramList = ['ombh2','omch2','cosmomc_theta','As','ns','tau','mnu']\n",
    "nMaps=2\n",
    "nCls = 3\n",
    "lmax=2000"
   ]
  },
  {
   "cell_type": "code",
   "execution_count": 31,
   "metadata": {
    "collapsed": false
   },
   "outputs": [
    {
     "name": "stdout",
     "output_type": "stream",
     "text": [
      "getting Cl power spectrum\n",
      "(2051, 4)\n"
     ]
    }
   ],
   "source": [
    "#def getPowerSpectra(myPksUpper,myPksLower):\n",
    "#lmax = 2000 # may want to match lmax in other Fisher calculation\n",
    "pars = myPk.pars\n",
    "#pars.set_for_lmax(lmax, lens_potential_accuracy=0)\n",
    "# try kicking it up for comaprison against Kevin's result\n",
    "lensLmax = lmax #3*lmax\n",
    "lpa = 0 #5.0\n",
    "#aBoost = 1\n",
    "#aBoost = 2\n",
    "#aBoost = 3\n",
    "#aBoost = 4\n",
    "aBoost = 5\n",
    "pars.set_for_lmax(lensLmax, lens_potential_accuracy=lpa)\n",
    "pars.set_accuracy(AccuracyBoost=aBoost)\n",
    "\n",
    "#calculate results for these parameters\n",
    "print 'getting Cl power spectrum'\n",
    "results = camb.get_results(pars)\n",
    "\n",
    "#get dictionary of CAMB power spectra\n",
    "powers =results.get_cmb_power_spectra(pars)\n",
    "#for name in powers: print name\n",
    "\n",
    "#get the total lensed CMB power spectra versus unlensed\n",
    "#myClName = 'total'\n",
    "myClName = 'unlensed_scalar'\n",
    "myCl = powers[myClName]\n",
    "\n",
    "#totCl=powers['total']\n",
    "#unlensedCl=powers['unlensed_scalar']\n",
    "print myCl.shape\n",
    "#Python Cl arrays are all zero based (starting at L=0), Note L=0,1 entries will be zero by default.\n",
    "#The different CL are always in the order TT, EE, BB, TE (with BB=0 for unlensed scalar results).\n",
    "\n",
    "# re-arrange the data structure to be consistent with code in FisherMatrix\n",
    "#nMaps = 2 # T,E\n",
    "crossCls      = np.zeros((nMaps,nMaps,           lmax))\n",
    "crossClsPlus  = np.zeros((nMaps,nMaps,nCosParams,lmax))\n",
    "crossClsMinus = np.zeros((nMaps,nMaps,nCosParams,lmax))\n",
    "\n",
    "crossCls[0,0] = myCl[:lmax,0] # TT\n",
    "crossCls[0,1] = myCl[:lmax,3] # TE\n",
    "crossCls[1,0] = myCl[:lmax,3] # ET\n",
    "crossCls[1,1] = myCl[:lmax,1] # EE\n"
   ]
  },
  {
   "cell_type": "code",
   "execution_count": null,
   "metadata": {
    "collapsed": true
   },
   "outputs": [],
   "source": []
  },
  {
   "cell_type": "code",
   "execution_count": null,
   "metadata": {
    "collapsed": true
   },
   "outputs": [],
   "source": []
  },
  {
   "cell_type": "code",
   "execution_count": null,
   "metadata": {
    "collapsed": true
   },
   "outputs": [],
   "source": []
  },
  {
   "cell_type": "code",
   "execution_count": null,
   "metadata": {
    "collapsed": true
   },
   "outputs": [],
   "source": []
  },
  {
   "cell_type": "code",
   "execution_count": null,
   "metadata": {
    "collapsed": true
   },
   "outputs": [],
   "source": []
  },
  {
   "cell_type": "code",
   "execution_count": null,
   "metadata": {
    "collapsed": true
   },
   "outputs": [],
   "source": []
  },
  {
   "cell_type": "code",
   "execution_count": 21,
   "metadata": {
    "collapsed": false
   },
   "outputs": [
    {
     "name": "stdout",
     "output_type": "stream",
     "text": [
      "nCls, nCosParams, lmax\n"
     ]
    },
    {
     "data": {
      "text/plain": [
       "(3, 7, 2000)"
      ]
     },
     "execution_count": 21,
     "metadata": {},
     "output_type": "execute_result"
    }
   ],
   "source": [
    "print 'nCls, nCosParams, lmax'\n",
    "dClVecs_list[0].shape"
   ]
  },
  {
   "cell_type": "code",
   "execution_count": null,
   "metadata": {
    "collapsed": true
   },
   "outputs": [],
   "source": []
  },
  {
   "cell_type": "code",
   "execution_count": 22,
   "metadata": {
    "collapsed": false
   },
   "outputs": [
    {
     "name": "stdout",
     "output_type": "stream",
     "text": [
      "['ombh2', 'omch2', 'cosmomc_theta', 'As', 'ns', 'tau', 'mnu']\n"
     ]
    }
   ],
   "source": [
    "print paramList"
   ]
  },
  {
   "cell_type": "code",
   "execution_count": 23,
   "metadata": {
    "collapsed": false
   },
   "outputs": [
    {
     "name": "stderr",
     "output_type": "stream",
     "text": [
      "/sw/lib/python2.7/site-packages/ipykernel/__main__.py:10: RuntimeWarning: invalid value encountered in divide\n",
      "/sw/lib/python2.7/site-packages/ipykernel/__main__.py:11: RuntimeWarning: invalid value encountered in divide\n",
      "/sw/lib/python2.7/site-packages/ipykernel/__main__.py:12: RuntimeWarning: invalid value encountered in divide\n",
      "/sw/lib/python2.7/site-packages/ipykernel/__main__.py:13: RuntimeWarning: invalid value encountered in divide\n"
     ]
    }
   ],
   "source": [
    "# pull mnu part out\n",
    "parIndex = 6\n",
    "mnu_tenth  = dClVecs_list[0][:,parIndex,:]\n",
    "mnu_half   = dClVecs_list[1][:,parIndex,:]\n",
    "mnu_nom    = dClVecs_list[2][:,parIndex,:]\n",
    "mnu_double = dClVecs_list[3][:,parIndex,:]\n",
    "mnu_decade = dClVecs_list[4][:,parIndex,:]\n",
    "\n",
    "# make ratios\n",
    "tenthToOne = mnu_tenth/mnu_nom\n",
    "halfToOne = mnu_half/mnu_nom\n",
    "doubleToOne = mnu_double/mnu_nom\n",
    "decadeToOne = mnu_decade/mnu_nom\n"
   ]
  },
  {
   "cell_type": "code",
   "execution_count": 24,
   "metadata": {
    "collapsed": false
   },
   "outputs": [
    {
     "data": {
      "application/javascript": [
       "/* Put everything inside the global mpl namespace */\n",
       "window.mpl = {};\n",
       "\n",
       "mpl.get_websocket_type = function() {\n",
       "    if (typeof(WebSocket) !== 'undefined') {\n",
       "        return WebSocket;\n",
       "    } else if (typeof(MozWebSocket) !== 'undefined') {\n",
       "        return MozWebSocket;\n",
       "    } else {\n",
       "        alert('Your browser does not have WebSocket support.' +\n",
       "              'Please try Chrome, Safari or Firefox ≥ 6. ' +\n",
       "              'Firefox 4 and 5 are also supported but you ' +\n",
       "              'have to enable WebSockets in about:config.');\n",
       "    };\n",
       "}\n",
       "\n",
       "mpl.figure = function(figure_id, websocket, ondownload, parent_element) {\n",
       "    this.id = figure_id;\n",
       "\n",
       "    this.ws = websocket;\n",
       "\n",
       "    this.supports_binary = (this.ws.binaryType != undefined);\n",
       "\n",
       "    if (!this.supports_binary) {\n",
       "        var warnings = document.getElementById(\"mpl-warnings\");\n",
       "        if (warnings) {\n",
       "            warnings.style.display = 'block';\n",
       "            warnings.textContent = (\n",
       "                \"This browser does not support binary websocket messages. \" +\n",
       "                    \"Performance may be slow.\");\n",
       "        }\n",
       "    }\n",
       "\n",
       "    this.imageObj = new Image();\n",
       "\n",
       "    this.context = undefined;\n",
       "    this.message = undefined;\n",
       "    this.canvas = undefined;\n",
       "    this.rubberband_canvas = undefined;\n",
       "    this.rubberband_context = undefined;\n",
       "    this.format_dropdown = undefined;\n",
       "\n",
       "    this.image_mode = 'full';\n",
       "\n",
       "    this.root = $('<div/>');\n",
       "    this._root_extra_style(this.root)\n",
       "    this.root.attr('style', 'display: inline-block');\n",
       "\n",
       "    $(parent_element).append(this.root);\n",
       "\n",
       "    this._init_header(this);\n",
       "    this._init_canvas(this);\n",
       "    this._init_toolbar(this);\n",
       "\n",
       "    var fig = this;\n",
       "\n",
       "    this.waiting = false;\n",
       "\n",
       "    this.ws.onopen =  function () {\n",
       "            fig.send_message(\"supports_binary\", {value: fig.supports_binary});\n",
       "            fig.send_message(\"send_image_mode\", {});\n",
       "            fig.send_message(\"refresh\", {});\n",
       "        }\n",
       "\n",
       "    this.imageObj.onload = function() {\n",
       "            if (fig.image_mode == 'full') {\n",
       "                // Full images could contain transparency (where diff images\n",
       "                // almost always do), so we need to clear the canvas so that\n",
       "                // there is no ghosting.\n",
       "                fig.context.clearRect(0, 0, fig.canvas.width, fig.canvas.height);\n",
       "            }\n",
       "            fig.context.drawImage(fig.imageObj, 0, 0);\n",
       "        };\n",
       "\n",
       "    this.imageObj.onunload = function() {\n",
       "        this.ws.close();\n",
       "    }\n",
       "\n",
       "    this.ws.onmessage = this._make_on_message_function(this);\n",
       "\n",
       "    this.ondownload = ondownload;\n",
       "}\n",
       "\n",
       "mpl.figure.prototype._init_header = function() {\n",
       "    var titlebar = $(\n",
       "        '<div class=\"ui-dialog-titlebar ui-widget-header ui-corner-all ' +\n",
       "        'ui-helper-clearfix\"/>');\n",
       "    var titletext = $(\n",
       "        '<div class=\"ui-dialog-title\" style=\"width: 100%; ' +\n",
       "        'text-align: center; padding: 3px;\"/>');\n",
       "    titlebar.append(titletext)\n",
       "    this.root.append(titlebar);\n",
       "    this.header = titletext[0];\n",
       "}\n",
       "\n",
       "\n",
       "\n",
       "mpl.figure.prototype._canvas_extra_style = function(canvas_div) {\n",
       "\n",
       "}\n",
       "\n",
       "\n",
       "mpl.figure.prototype._root_extra_style = function(canvas_div) {\n",
       "\n",
       "}\n",
       "\n",
       "mpl.figure.prototype._init_canvas = function() {\n",
       "    var fig = this;\n",
       "\n",
       "    var canvas_div = $('<div/>');\n",
       "\n",
       "    canvas_div.attr('style', 'position: relative; clear: both; outline: 0');\n",
       "\n",
       "    function canvas_keyboard_event(event) {\n",
       "        return fig.key_event(event, event['data']);\n",
       "    }\n",
       "\n",
       "    canvas_div.keydown('key_press', canvas_keyboard_event);\n",
       "    canvas_div.keyup('key_release', canvas_keyboard_event);\n",
       "    this.canvas_div = canvas_div\n",
       "    this._canvas_extra_style(canvas_div)\n",
       "    this.root.append(canvas_div);\n",
       "\n",
       "    var canvas = $('<canvas/>');\n",
       "    canvas.addClass('mpl-canvas');\n",
       "    canvas.attr('style', \"left: 0; top: 0; z-index: 0; outline: 0\")\n",
       "\n",
       "    this.canvas = canvas[0];\n",
       "    this.context = canvas[0].getContext(\"2d\");\n",
       "\n",
       "    var rubberband = $('<canvas/>');\n",
       "    rubberband.attr('style', \"position: absolute; left: 0; top: 0; z-index: 1;\")\n",
       "\n",
       "    var pass_mouse_events = true;\n",
       "\n",
       "    canvas_div.resizable({\n",
       "        start: function(event, ui) {\n",
       "            pass_mouse_events = false;\n",
       "        },\n",
       "        resize: function(event, ui) {\n",
       "            fig.request_resize(ui.size.width, ui.size.height);\n",
       "        },\n",
       "        stop: function(event, ui) {\n",
       "            pass_mouse_events = true;\n",
       "            fig.request_resize(ui.size.width, ui.size.height);\n",
       "        },\n",
       "    });\n",
       "\n",
       "    function mouse_event_fn(event) {\n",
       "        if (pass_mouse_events)\n",
       "            return fig.mouse_event(event, event['data']);\n",
       "    }\n",
       "\n",
       "    rubberband.mousedown('button_press', mouse_event_fn);\n",
       "    rubberband.mouseup('button_release', mouse_event_fn);\n",
       "    // Throttle sequential mouse events to 1 every 20ms.\n",
       "    rubberband.mousemove('motion_notify', mouse_event_fn);\n",
       "\n",
       "    rubberband.mouseenter('figure_enter', mouse_event_fn);\n",
       "    rubberband.mouseleave('figure_leave', mouse_event_fn);\n",
       "\n",
       "    canvas_div.on(\"wheel\", function (event) {\n",
       "        event = event.originalEvent;\n",
       "        event['data'] = 'scroll'\n",
       "        if (event.deltaY < 0) {\n",
       "            event.step = 1;\n",
       "        } else {\n",
       "            event.step = -1;\n",
       "        }\n",
       "        mouse_event_fn(event);\n",
       "    });\n",
       "\n",
       "    canvas_div.append(canvas);\n",
       "    canvas_div.append(rubberband);\n",
       "\n",
       "    this.rubberband = rubberband;\n",
       "    this.rubberband_canvas = rubberband[0];\n",
       "    this.rubberband_context = rubberband[0].getContext(\"2d\");\n",
       "    this.rubberband_context.strokeStyle = \"#000000\";\n",
       "\n",
       "    this._resize_canvas = function(width, height) {\n",
       "        // Keep the size of the canvas, canvas container, and rubber band\n",
       "        // canvas in synch.\n",
       "        canvas_div.css('width', width)\n",
       "        canvas_div.css('height', height)\n",
       "\n",
       "        canvas.attr('width', width);\n",
       "        canvas.attr('height', height);\n",
       "\n",
       "        rubberband.attr('width', width);\n",
       "        rubberband.attr('height', height);\n",
       "    }\n",
       "\n",
       "    // Set the figure to an initial 600x600px, this will subsequently be updated\n",
       "    // upon first draw.\n",
       "    this._resize_canvas(600, 600);\n",
       "\n",
       "    // Disable right mouse context menu.\n",
       "    $(this.rubberband_canvas).bind(\"contextmenu\",function(e){\n",
       "        return false;\n",
       "    });\n",
       "\n",
       "    function set_focus () {\n",
       "        canvas.focus();\n",
       "        canvas_div.focus();\n",
       "    }\n",
       "\n",
       "    window.setTimeout(set_focus, 100);\n",
       "}\n",
       "\n",
       "mpl.figure.prototype._init_toolbar = function() {\n",
       "    var fig = this;\n",
       "\n",
       "    var nav_element = $('<div/>')\n",
       "    nav_element.attr('style', 'width: 100%');\n",
       "    this.root.append(nav_element);\n",
       "\n",
       "    // Define a callback function for later on.\n",
       "    function toolbar_event(event) {\n",
       "        return fig.toolbar_button_onclick(event['data']);\n",
       "    }\n",
       "    function toolbar_mouse_event(event) {\n",
       "        return fig.toolbar_button_onmouseover(event['data']);\n",
       "    }\n",
       "\n",
       "    for(var toolbar_ind in mpl.toolbar_items) {\n",
       "        var name = mpl.toolbar_items[toolbar_ind][0];\n",
       "        var tooltip = mpl.toolbar_items[toolbar_ind][1];\n",
       "        var image = mpl.toolbar_items[toolbar_ind][2];\n",
       "        var method_name = mpl.toolbar_items[toolbar_ind][3];\n",
       "\n",
       "        if (!name) {\n",
       "            // put a spacer in here.\n",
       "            continue;\n",
       "        }\n",
       "        var button = $('<button/>');\n",
       "        button.addClass('ui-button ui-widget ui-state-default ui-corner-all ' +\n",
       "                        'ui-button-icon-only');\n",
       "        button.attr('role', 'button');\n",
       "        button.attr('aria-disabled', 'false');\n",
       "        button.click(method_name, toolbar_event);\n",
       "        button.mouseover(tooltip, toolbar_mouse_event);\n",
       "\n",
       "        var icon_img = $('<span/>');\n",
       "        icon_img.addClass('ui-button-icon-primary ui-icon');\n",
       "        icon_img.addClass(image);\n",
       "        icon_img.addClass('ui-corner-all');\n",
       "\n",
       "        var tooltip_span = $('<span/>');\n",
       "        tooltip_span.addClass('ui-button-text');\n",
       "        tooltip_span.html(tooltip);\n",
       "\n",
       "        button.append(icon_img);\n",
       "        button.append(tooltip_span);\n",
       "\n",
       "        nav_element.append(button);\n",
       "    }\n",
       "\n",
       "    var fmt_picker_span = $('<span/>');\n",
       "\n",
       "    var fmt_picker = $('<select/>');\n",
       "    fmt_picker.addClass('mpl-toolbar-option ui-widget ui-widget-content');\n",
       "    fmt_picker_span.append(fmt_picker);\n",
       "    nav_element.append(fmt_picker_span);\n",
       "    this.format_dropdown = fmt_picker[0];\n",
       "\n",
       "    for (var ind in mpl.extensions) {\n",
       "        var fmt = mpl.extensions[ind];\n",
       "        var option = $(\n",
       "            '<option/>', {selected: fmt === mpl.default_extension}).html(fmt);\n",
       "        fmt_picker.append(option)\n",
       "    }\n",
       "\n",
       "    // Add hover states to the ui-buttons\n",
       "    $( \".ui-button\" ).hover(\n",
       "        function() { $(this).addClass(\"ui-state-hover\");},\n",
       "        function() { $(this).removeClass(\"ui-state-hover\");}\n",
       "    );\n",
       "\n",
       "    var status_bar = $('<span class=\"mpl-message\"/>');\n",
       "    nav_element.append(status_bar);\n",
       "    this.message = status_bar[0];\n",
       "}\n",
       "\n",
       "mpl.figure.prototype.request_resize = function(x_pixels, y_pixels) {\n",
       "    // Request matplotlib to resize the figure. Matplotlib will then trigger a resize in the client,\n",
       "    // which will in turn request a refresh of the image.\n",
       "    this.send_message('resize', {'width': x_pixels, 'height': y_pixels});\n",
       "}\n",
       "\n",
       "mpl.figure.prototype.send_message = function(type, properties) {\n",
       "    properties['type'] = type;\n",
       "    properties['figure_id'] = this.id;\n",
       "    this.ws.send(JSON.stringify(properties));\n",
       "}\n",
       "\n",
       "mpl.figure.prototype.send_draw_message = function() {\n",
       "    if (!this.waiting) {\n",
       "        this.waiting = true;\n",
       "        this.ws.send(JSON.stringify({type: \"draw\", figure_id: this.id}));\n",
       "    }\n",
       "}\n",
       "\n",
       "\n",
       "mpl.figure.prototype.handle_save = function(fig, msg) {\n",
       "    var format_dropdown = fig.format_dropdown;\n",
       "    var format = format_dropdown.options[format_dropdown.selectedIndex].value;\n",
       "    fig.ondownload(fig, format);\n",
       "}\n",
       "\n",
       "\n",
       "mpl.figure.prototype.handle_resize = function(fig, msg) {\n",
       "    var size = msg['size'];\n",
       "    if (size[0] != fig.canvas.width || size[1] != fig.canvas.height) {\n",
       "        fig._resize_canvas(size[0], size[1]);\n",
       "        fig.send_message(\"refresh\", {});\n",
       "    };\n",
       "}\n",
       "\n",
       "mpl.figure.prototype.handle_rubberband = function(fig, msg) {\n",
       "    var x0 = msg['x0'];\n",
       "    var y0 = fig.canvas.height - msg['y0'];\n",
       "    var x1 = msg['x1'];\n",
       "    var y1 = fig.canvas.height - msg['y1'];\n",
       "    x0 = Math.floor(x0) + 0.5;\n",
       "    y0 = Math.floor(y0) + 0.5;\n",
       "    x1 = Math.floor(x1) + 0.5;\n",
       "    y1 = Math.floor(y1) + 0.5;\n",
       "    var min_x = Math.min(x0, x1);\n",
       "    var min_y = Math.min(y0, y1);\n",
       "    var width = Math.abs(x1 - x0);\n",
       "    var height = Math.abs(y1 - y0);\n",
       "\n",
       "    fig.rubberband_context.clearRect(\n",
       "        0, 0, fig.canvas.width, fig.canvas.height);\n",
       "\n",
       "    fig.rubberband_context.strokeRect(min_x, min_y, width, height);\n",
       "}\n",
       "\n",
       "mpl.figure.prototype.handle_figure_label = function(fig, msg) {\n",
       "    // Updates the figure title.\n",
       "    fig.header.textContent = msg['label'];\n",
       "}\n",
       "\n",
       "mpl.figure.prototype.handle_cursor = function(fig, msg) {\n",
       "    var cursor = msg['cursor'];\n",
       "    switch(cursor)\n",
       "    {\n",
       "    case 0:\n",
       "        cursor = 'pointer';\n",
       "        break;\n",
       "    case 1:\n",
       "        cursor = 'default';\n",
       "        break;\n",
       "    case 2:\n",
       "        cursor = 'crosshair';\n",
       "        break;\n",
       "    case 3:\n",
       "        cursor = 'move';\n",
       "        break;\n",
       "    }\n",
       "    fig.rubberband_canvas.style.cursor = cursor;\n",
       "}\n",
       "\n",
       "mpl.figure.prototype.handle_message = function(fig, msg) {\n",
       "    fig.message.textContent = msg['message'];\n",
       "}\n",
       "\n",
       "mpl.figure.prototype.handle_draw = function(fig, msg) {\n",
       "    // Request the server to send over a new figure.\n",
       "    fig.send_draw_message();\n",
       "}\n",
       "\n",
       "mpl.figure.prototype.handle_image_mode = function(fig, msg) {\n",
       "    fig.image_mode = msg['mode'];\n",
       "}\n",
       "\n",
       "mpl.figure.prototype.updated_canvas_event = function() {\n",
       "    // Called whenever the canvas gets updated.\n",
       "    this.send_message(\"ack\", {});\n",
       "}\n",
       "\n",
       "// A function to construct a web socket function for onmessage handling.\n",
       "// Called in the figure constructor.\n",
       "mpl.figure.prototype._make_on_message_function = function(fig) {\n",
       "    return function socket_on_message(evt) {\n",
       "        if (evt.data instanceof Blob) {\n",
       "            /* FIXME: We get \"Resource interpreted as Image but\n",
       "             * transferred with MIME type text/plain:\" errors on\n",
       "             * Chrome.  But how to set the MIME type?  It doesn't seem\n",
       "             * to be part of the websocket stream */\n",
       "            evt.data.type = \"image/png\";\n",
       "\n",
       "            /* Free the memory for the previous frames */\n",
       "            if (fig.imageObj.src) {\n",
       "                (window.URL || window.webkitURL).revokeObjectURL(\n",
       "                    fig.imageObj.src);\n",
       "            }\n",
       "\n",
       "            fig.imageObj.src = (window.URL || window.webkitURL).createObjectURL(\n",
       "                evt.data);\n",
       "            fig.updated_canvas_event();\n",
       "            fig.waiting = false;\n",
       "            return;\n",
       "        }\n",
       "        else if (typeof evt.data === 'string' && evt.data.slice(0, 21) == \"data:image/png;base64\") {\n",
       "            fig.imageObj.src = evt.data;\n",
       "            fig.updated_canvas_event();\n",
       "            fig.waiting = false;\n",
       "            return;\n",
       "        }\n",
       "\n",
       "        var msg = JSON.parse(evt.data);\n",
       "        var msg_type = msg['type'];\n",
       "\n",
       "        // Call the  \"handle_{type}\" callback, which takes\n",
       "        // the figure and JSON message as its only arguments.\n",
       "        try {\n",
       "            var callback = fig[\"handle_\" + msg_type];\n",
       "        } catch (e) {\n",
       "            console.log(\"No handler for the '\" + msg_type + \"' message type: \", msg);\n",
       "            return;\n",
       "        }\n",
       "\n",
       "        if (callback) {\n",
       "            try {\n",
       "                // console.log(\"Handling '\" + msg_type + \"' message: \", msg);\n",
       "                callback(fig, msg);\n",
       "            } catch (e) {\n",
       "                console.log(\"Exception inside the 'handler_\" + msg_type + \"' callback:\", e, e.stack, msg);\n",
       "            }\n",
       "        }\n",
       "    };\n",
       "}\n",
       "\n",
       "// from http://stackoverflow.com/questions/1114465/getting-mouse-location-in-canvas\n",
       "mpl.findpos = function(e) {\n",
       "    //this section is from http://www.quirksmode.org/js/events_properties.html\n",
       "    var targ;\n",
       "    if (!e)\n",
       "        e = window.event;\n",
       "    if (e.target)\n",
       "        targ = e.target;\n",
       "    else if (e.srcElement)\n",
       "        targ = e.srcElement;\n",
       "    if (targ.nodeType == 3) // defeat Safari bug\n",
       "        targ = targ.parentNode;\n",
       "\n",
       "    // jQuery normalizes the pageX and pageY\n",
       "    // pageX,Y are the mouse positions relative to the document\n",
       "    // offset() returns the position of the element relative to the document\n",
       "    var x = e.pageX - $(targ).offset().left;\n",
       "    var y = e.pageY - $(targ).offset().top;\n",
       "\n",
       "    return {\"x\": x, \"y\": y};\n",
       "};\n",
       "\n",
       "/*\n",
       " * return a copy of an object with only non-object keys\n",
       " * we need this to avoid circular references\n",
       " * http://stackoverflow.com/a/24161582/3208463\n",
       " */\n",
       "function simpleKeys (original) {\n",
       "  return Object.keys(original).reduce(function (obj, key) {\n",
       "    if (typeof original[key] !== 'object')\n",
       "        obj[key] = original[key]\n",
       "    return obj;\n",
       "  }, {});\n",
       "}\n",
       "\n",
       "mpl.figure.prototype.mouse_event = function(event, name) {\n",
       "    var canvas_pos = mpl.findpos(event)\n",
       "\n",
       "    if (name === 'button_press')\n",
       "    {\n",
       "        this.canvas.focus();\n",
       "        this.canvas_div.focus();\n",
       "    }\n",
       "\n",
       "    var x = canvas_pos.x;\n",
       "    var y = canvas_pos.y;\n",
       "\n",
       "    this.send_message(name, {x: x, y: y, button: event.button,\n",
       "                             step: event.step,\n",
       "                             guiEvent: simpleKeys(event)});\n",
       "\n",
       "    /* This prevents the web browser from automatically changing to\n",
       "     * the text insertion cursor when the button is pressed.  We want\n",
       "     * to control all of the cursor setting manually through the\n",
       "     * 'cursor' event from matplotlib */\n",
       "    event.preventDefault();\n",
       "    return false;\n",
       "}\n",
       "\n",
       "mpl.figure.prototype._key_event_extra = function(event, name) {\n",
       "    // Handle any extra behaviour associated with a key event\n",
       "}\n",
       "\n",
       "mpl.figure.prototype.key_event = function(event, name) {\n",
       "\n",
       "    // Prevent repeat events\n",
       "    if (name == 'key_press')\n",
       "    {\n",
       "        if (event.which === this._key)\n",
       "            return;\n",
       "        else\n",
       "            this._key = event.which;\n",
       "    }\n",
       "    if (name == 'key_release')\n",
       "        this._key = null;\n",
       "\n",
       "    var value = '';\n",
       "    if (event.ctrlKey && event.which != 17)\n",
       "        value += \"ctrl+\";\n",
       "    if (event.altKey && event.which != 18)\n",
       "        value += \"alt+\";\n",
       "    if (event.shiftKey && event.which != 16)\n",
       "        value += \"shift+\";\n",
       "\n",
       "    value += 'k';\n",
       "    value += event.which.toString();\n",
       "\n",
       "    this._key_event_extra(event, name);\n",
       "\n",
       "    this.send_message(name, {key: value,\n",
       "                             guiEvent: simpleKeys(event)});\n",
       "    return false;\n",
       "}\n",
       "\n",
       "mpl.figure.prototype.toolbar_button_onclick = function(name) {\n",
       "    if (name == 'download') {\n",
       "        this.handle_save(this, null);\n",
       "    } else {\n",
       "        this.send_message(\"toolbar_button\", {name: name});\n",
       "    }\n",
       "};\n",
       "\n",
       "mpl.figure.prototype.toolbar_button_onmouseover = function(tooltip) {\n",
       "    this.message.textContent = tooltip;\n",
       "};\n",
       "mpl.toolbar_items = [[\"Home\", \"Reset original view\", \"fa fa-home icon-home\", \"home\"], [\"Back\", \"Back to  previous view\", \"fa fa-arrow-left icon-arrow-left\", \"back\"], [\"Forward\", \"Forward to next view\", \"fa fa-arrow-right icon-arrow-right\", \"forward\"], [\"\", \"\", \"\", \"\"], [\"Pan\", \"Pan axes with left mouse, zoom with right\", \"fa fa-arrows icon-move\", \"pan\"], [\"Zoom\", \"Zoom to rectangle\", \"fa fa-square-o icon-check-empty\", \"zoom\"], [\"\", \"\", \"\", \"\"], [\"Download\", \"Download plot\", \"fa fa-floppy-o icon-save\", \"download\"]];\n",
       "\n",
       "mpl.extensions = [\"eps\", \"pdf\", \"png\", \"ps\", \"raw\", \"svg\"];\n",
       "\n",
       "mpl.default_extension = \"png\";var comm_websocket_adapter = function(comm) {\n",
       "    // Create a \"websocket\"-like object which calls the given IPython comm\n",
       "    // object with the appropriate methods. Currently this is a non binary\n",
       "    // socket, so there is still some room for performance tuning.\n",
       "    var ws = {};\n",
       "\n",
       "    ws.close = function() {\n",
       "        comm.close()\n",
       "    };\n",
       "    ws.send = function(m) {\n",
       "        //console.log('sending', m);\n",
       "        comm.send(m);\n",
       "    };\n",
       "    // Register the callback with on_msg.\n",
       "    comm.on_msg(function(msg) {\n",
       "        //console.log('receiving', msg['content']['data'], msg);\n",
       "        // Pass the mpl event to the overriden (by mpl) onmessage function.\n",
       "        ws.onmessage(msg['content']['data'])\n",
       "    });\n",
       "    return ws;\n",
       "}\n",
       "\n",
       "mpl.mpl_figure_comm = function(comm, msg) {\n",
       "    // This is the function which gets called when the mpl process\n",
       "    // starts-up an IPython Comm through the \"matplotlib\" channel.\n",
       "\n",
       "    var id = msg.content.data.id;\n",
       "    // Get hold of the div created by the display call when the Comm\n",
       "    // socket was opened in Python.\n",
       "    var element = $(\"#\" + id);\n",
       "    var ws_proxy = comm_websocket_adapter(comm)\n",
       "\n",
       "    function ondownload(figure, format) {\n",
       "        window.open(figure.imageObj.src);\n",
       "    }\n",
       "\n",
       "    var fig = new mpl.figure(id, ws_proxy,\n",
       "                           ondownload,\n",
       "                           element.get(0));\n",
       "\n",
       "    // Call onopen now - mpl needs it, as it is assuming we've passed it a real\n",
       "    // web socket which is closed, not our websocket->open comm proxy.\n",
       "    ws_proxy.onopen();\n",
       "\n",
       "    fig.parent_element = element.get(0);\n",
       "    fig.cell_info = mpl.find_output_cell(\"<div id='\" + id + \"'></div>\");\n",
       "    if (!fig.cell_info) {\n",
       "        console.error(\"Failed to find cell for figure\", id, fig);\n",
       "        return;\n",
       "    }\n",
       "\n",
       "    var output_index = fig.cell_info[2]\n",
       "    var cell = fig.cell_info[0];\n",
       "\n",
       "};\n",
       "\n",
       "mpl.figure.prototype.handle_close = function(fig, msg) {\n",
       "    fig.root.unbind('remove')\n",
       "\n",
       "    // Update the output cell to use the data from the current canvas.\n",
       "    fig.push_to_output();\n",
       "    var dataURL = fig.canvas.toDataURL();\n",
       "    // Re-enable the keyboard manager in IPython - without this line, in FF,\n",
       "    // the notebook keyboard shortcuts fail.\n",
       "    IPython.keyboard_manager.enable()\n",
       "    $(fig.parent_element).html('<img src=\"' + dataURL + '\">');\n",
       "    fig.close_ws(fig, msg);\n",
       "}\n",
       "\n",
       "mpl.figure.prototype.close_ws = function(fig, msg){\n",
       "    fig.send_message('closing', msg);\n",
       "    // fig.ws.close()\n",
       "}\n",
       "\n",
       "mpl.figure.prototype.push_to_output = function(remove_interactive) {\n",
       "    // Turn the data on the canvas into data in the output cell.\n",
       "    var dataURL = this.canvas.toDataURL();\n",
       "    this.cell_info[1]['text/html'] = '<img src=\"' + dataURL + '\">';\n",
       "}\n",
       "\n",
       "mpl.figure.prototype.updated_canvas_event = function() {\n",
       "    // Tell IPython that the notebook contents must change.\n",
       "    IPython.notebook.set_dirty(true);\n",
       "    this.send_message(\"ack\", {});\n",
       "    var fig = this;\n",
       "    // Wait a second, then push the new image to the DOM so\n",
       "    // that it is saved nicely (might be nice to debounce this).\n",
       "    setTimeout(function () { fig.push_to_output() }, 1000);\n",
       "}\n",
       "\n",
       "mpl.figure.prototype._init_toolbar = function() {\n",
       "    var fig = this;\n",
       "\n",
       "    var nav_element = $('<div/>')\n",
       "    nav_element.attr('style', 'width: 100%');\n",
       "    this.root.append(nav_element);\n",
       "\n",
       "    // Define a callback function for later on.\n",
       "    function toolbar_event(event) {\n",
       "        return fig.toolbar_button_onclick(event['data']);\n",
       "    }\n",
       "    function toolbar_mouse_event(event) {\n",
       "        return fig.toolbar_button_onmouseover(event['data']);\n",
       "    }\n",
       "\n",
       "    for(var toolbar_ind in mpl.toolbar_items){\n",
       "        var name = mpl.toolbar_items[toolbar_ind][0];\n",
       "        var tooltip = mpl.toolbar_items[toolbar_ind][1];\n",
       "        var image = mpl.toolbar_items[toolbar_ind][2];\n",
       "        var method_name = mpl.toolbar_items[toolbar_ind][3];\n",
       "\n",
       "        if (!name) { continue; };\n",
       "\n",
       "        var button = $('<button class=\"btn btn-default\" href=\"#\" title=\"' + name + '\"><i class=\"fa ' + image + ' fa-lg\"></i></button>');\n",
       "        button.click(method_name, toolbar_event);\n",
       "        button.mouseover(tooltip, toolbar_mouse_event);\n",
       "        nav_element.append(button);\n",
       "    }\n",
       "\n",
       "    // Add the status bar.\n",
       "    var status_bar = $('<span class=\"mpl-message\" style=\"text-align:right; float: right;\"/>');\n",
       "    nav_element.append(status_bar);\n",
       "    this.message = status_bar[0];\n",
       "\n",
       "    // Add the close button to the window.\n",
       "    var buttongrp = $('<div class=\"btn-group inline pull-right\"></div>');\n",
       "    var button = $('<button class=\"btn btn-mini btn-primary\" href=\"#\" title=\"Stop Interaction\"><i class=\"fa fa-power-off icon-remove icon-large\"></i></button>');\n",
       "    button.click(function (evt) { fig.handle_close(fig, {}); } );\n",
       "    button.mouseover('Stop Interaction', toolbar_mouse_event);\n",
       "    buttongrp.append(button);\n",
       "    var titlebar = this.root.find($('.ui-dialog-titlebar'));\n",
       "    titlebar.prepend(buttongrp);\n",
       "}\n",
       "\n",
       "mpl.figure.prototype._root_extra_style = function(el){\n",
       "    var fig = this\n",
       "    el.on(\"remove\", function(){\n",
       "\tfig.close_ws(fig, {});\n",
       "    });\n",
       "}\n",
       "\n",
       "mpl.figure.prototype._canvas_extra_style = function(el){\n",
       "    // this is important to make the div 'focusable\n",
       "    el.attr('tabindex', 0)\n",
       "    // reach out to IPython and tell the keyboard manager to turn it's self\n",
       "    // off when our div gets focus\n",
       "\n",
       "    // location in version 3\n",
       "    if (IPython.notebook.keyboard_manager) {\n",
       "        IPython.notebook.keyboard_manager.register_events(el);\n",
       "    }\n",
       "    else {\n",
       "        // location in version 2\n",
       "        IPython.keyboard_manager.register_events(el);\n",
       "    }\n",
       "\n",
       "}\n",
       "\n",
       "mpl.figure.prototype._key_event_extra = function(event, name) {\n",
       "    var manager = IPython.notebook.keyboard_manager;\n",
       "    if (!manager)\n",
       "        manager = IPython.keyboard_manager;\n",
       "\n",
       "    // Check for shift+enter\n",
       "    if (event.shiftKey && event.which == 13) {\n",
       "        this.canvas_div.blur();\n",
       "        event.shiftKey = false;\n",
       "        // Send a \"J\" for go to next cell\n",
       "        event.which = 74;\n",
       "        event.keyCode = 74;\n",
       "        manager.command_mode();\n",
       "        manager.handle_keydown(event);\n",
       "    }\n",
       "}\n",
       "\n",
       "mpl.figure.prototype.handle_save = function(fig, msg) {\n",
       "    fig.ondownload(fig, null);\n",
       "}\n",
       "\n",
       "\n",
       "mpl.find_output_cell = function(html_output) {\n",
       "    // Return the cell and output element which can be found *uniquely* in the notebook.\n",
       "    // Note - this is a bit hacky, but it is done because the \"notebook_saving.Notebook\"\n",
       "    // IPython event is triggered only after the cells have been serialised, which for\n",
       "    // our purposes (turning an active figure into a static one), is too late.\n",
       "    var cells = IPython.notebook.get_cells();\n",
       "    var ncells = cells.length;\n",
       "    for (var i=0; i<ncells; i++) {\n",
       "        var cell = cells[i];\n",
       "        if (cell.cell_type === 'code'){\n",
       "            for (var j=0; j<cell.output_area.outputs.length; j++) {\n",
       "                var data = cell.output_area.outputs[j];\n",
       "                if (data.data) {\n",
       "                    // IPython >= 3 moved mimebundle to data attribute of output\n",
       "                    data = data.data;\n",
       "                }\n",
       "                if (data['text/html'] == html_output) {\n",
       "                    return [cell, data, j];\n",
       "                }\n",
       "            }\n",
       "        }\n",
       "    }\n",
       "}\n",
       "\n",
       "// Register the function which deals with the matplotlib target/channel.\n",
       "// The kernel may be null if the page has been refreshed.\n",
       "if (IPython.notebook.kernel != null) {\n",
       "    IPython.notebook.kernel.comm_manager.register_target('matplotlib', mpl.mpl_figure_comm);\n",
       "}\n"
      ],
      "text/plain": [
       "<IPython.core.display.Javascript object>"
      ]
     },
     "metadata": {},
     "output_type": "display_data"
    },
    {
     "data": {
      "text/html": [
       "<img src=\"data:image/png;base64,iVBORw0KGgoAAAANSUhEUgAAAoAAAAHgCAYAAAA10dzkAAAEvklEQVR4nO3BAQ0AAADCoPdPbQ43oAAAAAAAAAAAAAAAAAAAAAAAAAAAAAAAAAAAAAAAAAAAAAAAAAAAAAAAAAAAAAAAAAAAAAAAAAAAAAAAAAAAAAAAAAAAAAAAAAAAAAAAAAAAAAAAAAAAAAAAAAAAAAAAAAAAAAAAAAAAAAAAAAAAAAAAAAAAAAAAAAAAAAAAAAAAAAAAAAAAAAAAAAAAAAAAAAAAAAAAAAAAAAAAAAAAAAAAAAAAAAAAAAAAAAAAAAAAAAAAAAAAAAAAAAAAAAAAAAAAAAAAAAAAAAAAAAAAAAAAAAAAAAAAAAAAAAAAAAAAAAAAAAAAAAAAAAAAAAAAAAAAAAAAAAAAAAAAAAAAAAAAAAAAAAAAAAAAAAAAAAAAAAAAAAAAAAAAAAAAAAAAAAAAAAAAAAAAAAAAAAAAAAAAAAAAAAAAAAAAAAAAAAAAAAAAAAAAAAAAAAAAAAAAAAAAAAAAAAAAAAAAAAAAAAAAAAAAAAAAAAAAAAAAAAAAAAAAAAAAAAAAAAAAAAAAAAAAAAAAAAAAAAAAAAAAAAAAAAAAAAAAAAAAAAAAAAAAAAAAAAAAAAAAAAAAAAAAAAAAAAAAAAAAAAAAAAAAAAAAAAAAAAAAAAAAAAAAAAAAAAAAAAAAAAAAAAAAAAAAAAAAAAAAAAAAAAAAAAAAAAAAAAAAAAAAAAAAAAAAAAAAAAAAAAAAAAAAAAAAAAAAAAAAAAAAAAAAAAAAAAAAAAAAAAAAAAAAAAAAAAAAAAAAAAAAAAAAAAAAAAAAAAAAAAAAAAAAAAAAAAAAAAAAAAAAAAAAAAAAAAAAAAAAAAAAAAAAAAAAAAAAAAAAAAAAAAAAAAAAAAAAAAAAAAAAAAAAAAAAAAAAAAAAAAAAAAAAAAAAAAAAAAAAAAAAAAAAAAAAAAAAAAAAAAAAAAAAAAAAAAAAAAAAAAAAAAAAAAAAAAAAAAAAAAAAAAAAAAAAAAAAAAAAAAAAAAAAAAAAAAAAAAAAAAAAAAAAAAAAAAAAAAAAAAAAAAAAAAAAAAAAAAAAAAAAAAAAAAAAAAAAAAAAAAAAAAAAAAAAAAAAAAAAAAAAAAAAAAAAAAAAAAAAAAAAAAAAAAAAAAAAAAAAAAAAAAAAAAAAAAAAAAAAAAAAAAAAAAAAAAAAAAAAAAAAAAAAAAAAAAAAAAAAAAAAAAAAAAAAAAAAAAAAAAAAAAAAAAAAAAAAAAAAAAAAAAAAAAAAAAAAAAAAAAAAAAAAAAAAAAAAAAAAAAAAAAAAAAAAAAAAAAAAAAAAAAAAAAAAAAAAAAAAAAAAAAAAAAAAAAAAAAAAAAAAAAAAAAAAAAAAAAAAAAAAAAAAAAAAAAAAAAAAAAAAAAAAAAAAAAAAAAAAAAAAAAAAAAAAAAAAAAAAAAAAAAAAAAAAAAAAAAAAAAAAAAAAAAAAAAAAAAAAAAAAAAAAAAAAAAAAAAAAAAAAAAAAAAAAAAAAAAAAAAAAAAAAAAAAAAAAAAAAAAAAAAAAAAAAAAAAAAAAAAAAAAAAAAAAAAAAAAAAAAAAAAAAAAAAAAAAAAAAAAAAAAAAAAAAAAAAAAAAAAAAAAAAAAAAAAAAAAAAAD4Mwu4AAehrHaUAAAAASUVORK5CYII=\">"
      ],
      "text/plain": [
       "<IPython.core.display.HTML object>"
      ]
     },
     "metadata": {},
     "output_type": "display_data"
    }
   ],
   "source": [
    "# select observable\n",
    "#obsNum = 0 # TT\n",
    "#obsNum = 1 # TE\n",
    "obsNum = 2 # EE\n",
    "\n",
    "%matplotlib notebook\n",
    "plt.plot(mnu_tenth[obsNum],label='one tenth')\n",
    "plt.plot(mnu_half[obsNum],label='one half')\n",
    "plt.plot(mnu_nom[obsNum],label='nominal')\n",
    "plt.plot(mnu_double[obsNum],label='double')\n",
    "plt.plot(mnu_decade[obsNum],label='decuple')\n",
    "#plt.legend(loc='upper right') #TT, TE\n",
    "plt.legend(loc='lower left') #EE\n",
    "plt.title('dCl^EE / dmnu at CAMB accuracyBoost=5')\n",
    "#plt.ylim((-1.5e-10,1.5e-10)) #TT\n",
    "#plt.ylim((-0.2e-11,0.2e-11)) #TT\n",
    "#plt.ylim((-1.5e-11,1.5e-11)) #TE\n",
    "#plt.ylim((-0.8e-11,0.8e-11)) #TE\n",
    "#plt.ylim((-1e-12,0.2e-12)) #EE\n",
    "#plt.ylim((-0.1e-12,0.05e-12)) #EE\n",
    "plt.show()\n"
   ]
  },
  {
   "cell_type": "code",
   "execution_count": null,
   "metadata": {
    "collapsed": true
   },
   "outputs": [],
   "source": []
  },
  {
   "cell_type": "markdown",
   "metadata": {},
   "source": [
    "# I don't need the rest of this for checking dClVecs"
   ]
  },
  {
   "cell_type": "code",
   "execution_count": 25,
   "metadata": {
    "collapsed": false
   },
   "outputs": [
    {
     "name": "stdout",
     "output_type": "stream",
     "text": [
      "building covariance matrix... \n",
      "starting covariance set  1  of  2 ... \n"
     ]
    },
    {
     "ename": "NameError",
     "evalue": "name 'crossCls' is not defined",
     "output_type": "error",
     "traceback": [
      "\u001b[0;31m---------------------------------------------------------------------------\u001b[0m",
      "\u001b[0;31mNameError\u001b[0m                                 Traceback (most recent call last)",
      "\u001b[0;32m<ipython-input-25-88246d77e2cb>\u001b[0m in \u001b[0;36m<module>\u001b[0;34m()\u001b[0m\n\u001b[1;32m     21\u001b[0m             \u001b[0mcovIndex2\u001b[0m \u001b[0;34m=\u001b[0m \u001b[0mmap3\u001b[0m\u001b[0;34m*\u001b[0m\u001b[0mnMaps\u001b[0m\u001b[0;34m+\u001b[0m\u001b[0mmap4\u001b[0m\u001b[0;34m-\u001b[0m\u001b[0mmap3\u001b[0m\u001b[0;34m*\u001b[0m\u001b[0;34m(\u001b[0m\u001b[0mmap3\u001b[0m\u001b[0;34m+\u001b[0m\u001b[0;36m1\u001b[0m\u001b[0;34m)\u001b[0m\u001b[0;34m/\u001b[0m\u001b[0;36m2\u001b[0m \u001b[0;31m# shortens the array\u001b[0m\u001b[0;34m\u001b[0m\u001b[0m\n\u001b[1;32m     22\u001b[0m             \u001b[0;32mif\u001b[0m \u001b[0mcovIndex1\u001b[0m \u001b[0;34m<=\u001b[0m \u001b[0mcovIndex2\u001b[0m\u001b[0;34m:\u001b[0m\u001b[0;34m\u001b[0m\u001b[0m\n\u001b[0;32m---> 23\u001b[0;31m               \u001b[0mcovar\u001b[0m\u001b[0;34m[\u001b[0m\u001b[0mcovIndex1\u001b[0m\u001b[0;34m,\u001b[0m\u001b[0mcovIndex2\u001b[0m\u001b[0;34m]\u001b[0m \u001b[0;34m=\u001b[0m \u001b[0;34m(\u001b[0m\u001b[0mcrossCls\u001b[0m\u001b[0;34m[\u001b[0m\u001b[0mmap1\u001b[0m\u001b[0;34m,\u001b[0m\u001b[0mmap3\u001b[0m\u001b[0;34m]\u001b[0m\u001b[0;34m*\u001b[0m\u001b[0mcrossCls\u001b[0m\u001b[0;34m[\u001b[0m\u001b[0mmap2\u001b[0m\u001b[0;34m,\u001b[0m\u001b[0mmap4\u001b[0m\u001b[0;34m]\u001b[0m \u001b[0;34m+\u001b[0m                                             \u001b[0mcrossCls\u001b[0m\u001b[0;34m[\u001b[0m\u001b[0mmap1\u001b[0m\u001b[0;34m,\u001b[0m\u001b[0mmap4\u001b[0m\u001b[0;34m]\u001b[0m\u001b[0;34m*\u001b[0m\u001b[0mcrossCls\u001b[0m\u001b[0;34m[\u001b[0m\u001b[0mmap2\u001b[0m\u001b[0;34m,\u001b[0m\u001b[0mmap3\u001b[0m\u001b[0;34m]\u001b[0m \u001b[0;34m)\u001b[0m\u001b[0;34m/\u001b[0m\u001b[0;34m(\u001b[0m\u001b[0;36m2.\u001b[0m\u001b[0;34m*\u001b[0m\u001b[0mells\u001b[0m\u001b[0;34m+\u001b[0m\u001b[0;36m1\u001b[0m\u001b[0;34m)\u001b[0m\u001b[0;34m\u001b[0m\u001b[0m\n\u001b[0m\u001b[1;32m     24\u001b[0m             \u001b[0;32melse\u001b[0m\u001b[0;34m:\u001b[0m                                       \u001b[0;31m# avoid double calculation\u001b[0m\u001b[0;34m\u001b[0m\u001b[0m\n\u001b[1;32m     25\u001b[0m               \u001b[0mcovar\u001b[0m\u001b[0;34m[\u001b[0m\u001b[0mcovIndex1\u001b[0m\u001b[0;34m,\u001b[0m\u001b[0mcovIndex2\u001b[0m\u001b[0;34m]\u001b[0m \u001b[0;34m=\u001b[0m \u001b[0mcovar\u001b[0m\u001b[0;34m[\u001b[0m\u001b[0mcovIndex2\u001b[0m\u001b[0;34m,\u001b[0m\u001b[0mcovIndex1\u001b[0m\u001b[0;34m]\u001b[0m\u001b[0;34m\u001b[0m\u001b[0m\n",
      "\u001b[0;31mNameError\u001b[0m: name 'crossCls' is not defined"
     ]
    }
   ],
   "source": [
    "# more code from FisherMatrix.__init__\n",
    "# create covariance matrix\n",
    "print 'building covariance matrix... '\n",
    "\n",
    "nCls = nMaps*(nMaps+1)/2 # This way removes redundancies, eg C_l^kg = C_l^gk\n",
    "#covar = np.zeros((nCls,nCls,lmax+51))\n",
    "#ells = np.arange(lmax+51)\n",
    "covar = np.zeros((nCls,nCls,lmax))\n",
    "ells = np.arange(lmax)\n",
    "\n",
    "# create obsList to contain base nMaps representation of data label\n",
    "obsList = np.zeros(nCls)\n",
    "\n",
    "for map1 in range(nMaps):\n",
    "    print 'starting covariance set ',map1+1,' of ',nMaps,'... '\n",
    "    for map2 in range(map1, nMaps):\n",
    "        covIndex1 = map1*nMaps+map2-map1*(map1+1)/2     # shortens the array\n",
    "        obsList[covIndex1] = map1*nMaps+map2       # base nMaps representation\n",
    "        for map3 in range(nMaps):\n",
    "          for map4 in range(map3, nMaps):\n",
    "            covIndex2 = map3*nMaps+map4-map3*(map3+1)/2 # shortens the array\n",
    "            if covIndex1 <= covIndex2:\n",
    "              covar[covIndex1,covIndex2] = (crossCls[map1,map3]*crossCls[map2,map4] + \\\n",
    "                                            crossCls[map1,map4]*crossCls[map2,map3] )/(2.*ells+1)\n",
    "            else:                                       # avoid double calculation\n",
    "              covar[covIndex1,covIndex2] = covar[covIndex2,covIndex1]\n",
    "\n",
    "# invert covariance matrix\n",
    "print 'inverting covariance matrix... '\n",
    "# transpose of inverse of transpose is inverse of original\n",
    "# need to do this to get indices in order that linalg.inv wants them\n",
    "invCov = np.transpose(np.linalg.inv(np.transpose(covar[:,:,2:])))\n",
    "ells = ells[2:]\n",
    "print 'lmin = ',ells[0]\n",
    "print 'obsList: ',obsList"
   ]
  },
  {
   "cell_type": "code",
   "execution_count": null,
   "metadata": {
    "collapsed": true
   },
   "outputs": [],
   "source": []
  },
  {
   "cell_type": "markdown",
   "metadata": {
    "collapsed": true
   },
   "source": [
    "# select a dClVecs and deltaP for use on the rest of the notebook\n"
   ]
  },
  {
   "cell_type": "code",
   "execution_count": null,
   "metadata": {
    "collapsed": true
   },
   "outputs": [],
   "source": [
    "# nominal:\n",
    "#deltaP = np.array([0.0008,0.0030,0.0050e-2,0.1e-9,0.010,0.020,0.020]) #last one in eV\n",
    "deltaNum = 0\n",
    "deltaP = deltaP_list[deltaNum]\n",
    "dClVecs = dClVecs_list[deltaNum]"
   ]
  },
  {
   "cell_type": "code",
   "execution_count": null,
   "metadata": {
    "collapsed": false
   },
   "outputs": [],
   "source": [
    "#Build Fisher matrix\n",
    "lmin = 50 #to match Allison et. al. and justify no ISW effect\n",
    "#multply vectorT,invcov,vector and add up\n",
    "print 'building Fisher matrix from components...'\n",
    "print 'invCov.shape: ',invCov.shape,', dClVecs.shape: ',dClVecs.shape\n",
    "Fij = np.zeros((nCosParams,nCosParams)) # indices match those in paramList\n",
    "for i in range(nCosParams):\n",
    "    print 'starting bin set ',i+1,' of ',nCosParams\n",
    "    dClVec_i = dClVecs[:,i,:] # shape (nCls,nElls)\n",
    "    for j in range(nCosParams):\n",
    "        dClVec_j = dClVecs[:,j,:] # shape (nCls,nElls)\n",
    "        # ugh.  don't like nested loops in Python... but easier to program...\n",
    "        for ell in range(lmin-2,lmax-2):\n",
    "          myCov = invCov[:,:,ell]  #note invCov has no ell=0,1 but dClVecs do\n",
    "          fij = np.dot(dClVec_i[:,ell+2],np.dot(myCov,dClVec_j[:,ell+2]))\n",
    "          Fij[i,j] += fij\n",
    "    \n",
    "print 'creation of Fisher Matrix complete!\\n'\n",
    "\n",
    "# Have a look at it\n",
    "print 'Fij:'\n",
    "print Fij\n",
    "# check eigenvalues\n",
    "w,v = np.linalg.eigh(np.linalg.inv(Fij))\n",
    "print 'eigenvalues of F_ij^-1:'\n",
    "print w"
   ]
  },
  {
   "cell_type": "code",
   "execution_count": null,
   "metadata": {
    "collapsed": true
   },
   "outputs": [],
   "source": []
  },
  {
   "cell_type": "code",
   "execution_count": null,
   "metadata": {
    "collapsed": false
   },
   "outputs": [],
   "source": [
    "# add prior on Tau for comparison with Kevin's result\n",
    "tauNum = 5\n",
    "tauPrior = 1/0.02**2\n",
    "print Fij[tauNum,tauNum]\n",
    "Fij[tauNum,tauNum] = Fij[tauNum,tauNum] + tauPrior \n",
    "print Fij[tauNum,tauNum]"
   ]
  },
  {
   "cell_type": "code",
   "execution_count": null,
   "metadata": {
    "collapsed": true
   },
   "outputs": [],
   "source": []
  },
  {
   "cell_type": "code",
   "execution_count": null,
   "metadata": {
    "collapsed": true
   },
   "outputs": [],
   "source": []
  },
  {
   "cell_type": "markdown",
   "metadata": {},
   "source": [
    "# Check out these uncertainties!"
   ]
  },
  {
   "cell_type": "code",
   "execution_count": null,
   "metadata": {
    "collapsed": false
   },
   "outputs": [],
   "source": [
    "sigmas = np.sqrt(np.diag(np.linalg.inv(Fij)))\n",
    "for i,p in enumerate(paramList):\n",
    "    print p, sigmas[i]"
   ]
  },
  {
   "cell_type": "code",
   "execution_count": null,
   "metadata": {
    "collapsed": true
   },
   "outputs": [],
   "source": []
  },
  {
   "cell_type": "code",
   "execution_count": null,
   "metadata": {
    "collapsed": false
   },
   "outputs": [],
   "source": [
    "# get lensing and galaxy Fisher matrix to add\n",
    "import FisherCl2 as fcl\n",
    "import pickle\n",
    "filehandler2 = open('Fisher_4_4.obj', 'r') \n",
    "Fobj = pickle.load(filehandler2) \n",
    "\n",
    "print Fobj.obsList\n",
    "print Fobj.paramList"
   ]
  },
  {
   "cell_type": "code",
   "execution_count": null,
   "metadata": {
    "collapsed": true
   },
   "outputs": [],
   "source": [
    "# remake the kappa-g Fij with lmin=50 to match the other Fij\n",
    "# make comparison against version with higher lmin\n",
    "# copy some code from FisherMatrix.__init__\n",
    "\n",
    "def makeFisher(Fobj,lmin):\n",
    "    \"\"\" code copied from FisherMatrix.__init__\n",
    "        Inputs:\n",
    "            Fobj:\n",
    "            lmin: minimum ell to make Fij\n",
    "    \"\"\"\n",
    "    #Build Fisher matrix\n",
    "    #multply vectorT,invcov,vector and add up\n",
    "    print 'building Fisher matrix from components...'\n",
    "    print 'invCov.shape: ',Fobj.invCov.shape,', dClVecs.shape: ',Fobj.dClVecs.shape\n",
    "    nParams = Fobj.nParams\n",
    "    lmax = 2000 #Fobj.lmax\n",
    "    Fij = np.zeros((nParams,nParams)) # indices match those in paramList\n",
    "    for i in range(nParams):\n",
    "      print 'starting bin set ',i+1,' of ',nParams\n",
    "      dClVec_i = Fobj.dClVecs[:,i,:] # shape (nCls,nElls)\n",
    "      for j in range(nParams):\n",
    "        dClVec_j = Fobj.dClVecs[:,j,:] # shape (nCls,nElls)\n",
    "        # ugh.  don't like nested loops in Python... but easier to program...\n",
    "        for ell in range(lmin-2,lmax-1): #-2 to match the indices\n",
    "          myCov = Fobj.invCov[:,:,ell]\n",
    "          fij = np.dot(dClVec_i[:,ell],np.dot(myCov,dClVec_j[:,ell]))\n",
    "          \n",
    "          Fij[i,j] += fij\n",
    "    \n",
    "    print 'creation of Fisher Matrix complete!\\n'\n",
    "    return Fij"
   ]
  },
  {
   "cell_type": "code",
   "execution_count": null,
   "metadata": {
    "collapsed": false
   },
   "outputs": [],
   "source": [
    "Fij2 = makeFisher(Fobj,50)\n",
    "sigmas2 = np.sqrt(np.diag(np.linalg.inv(Fij2)))"
   ]
  },
  {
   "cell_type": "code",
   "execution_count": null,
   "metadata": {
    "collapsed": false
   },
   "outputs": [],
   "source": [
    "print 'comparison of T,E sigmas with kappa,g sigmas:'\n",
    "#sigmas2 = Fobj.getSigmas()\n",
    "for i,p in enumerate(paramList):\n",
    "    print p, sigmas[i],sigmas2[i]"
   ]
  },
  {
   "cell_type": "markdown",
   "metadata": {},
   "source": [
    "# Combine the Fisher matrices and see smaller sigmas"
   ]
  },
  {
   "cell_type": "code",
   "execution_count": null,
   "metadata": {
    "collapsed": false
   },
   "outputs": [],
   "source": [
    "print 'comparison of sigma(T,E), sigma(kappa,g), and sigma(T,E,kappa,g):\\n'\n",
    "#FijSum = Fij+Fobj.Fij[:nCosParams,:nCosParams]  #oops, that was the lmin=2 version\n",
    "FijSum = Fij+Fij2[:nCosParams,:nCosParams]   # this one has lmin=50\n",
    "#print FijSum\n",
    "#print FijSum-Fij\n",
    "#print FijSum-Fij2[:nCosParams,:nCosParams]\n",
    "sigmas3 = np.sqrt(np.diag(np.linalg.inv(FijSum)))\n",
    "#for i,p in enumerate(paramList):\n",
    "#    print p, sigmas[i],sigmas2[i],sigmas3[i]\n",
    "    \n",
    "from prettytable import PrettyTable\n",
    "t = PrettyTable(['Parameter', 'sigma(T,E)','sigma(k,g)','sigma(T,E,k,g)'])\n",
    "for i,p in enumerate(paramList):\n",
    "    t.add_row([p,\"%5.3g\" % sigmas[i],\"%5.3g\" % sigmas2[i],\"%5.3g\" % sigmas3[i]])\n",
    "print t"
   ]
  },
  {
   "cell_type": "code",
   "execution_count": null,
   "metadata": {
    "collapsed": false
   },
   "outputs": [],
   "source": [
    "# the previous result fixed the biases for the combined sigmas.\n",
    "# do a different version without fixing them\n",
    "print 'comparison of sigma(T,E), sigma(kappa,g), and sigma(T,E,kappa,g):\\n'\n",
    "FijSum2 = Fij2.copy()\n",
    "#print FijSum2\n",
    "FijSum2[:nCosParams,:nCosParams] = FijSum2[:nCosParams,:nCosParams] + Fij\n",
    "#print Fij2\n",
    "#print FijSum2\n",
    "#print FijSum2-Fij2\n",
    "\n",
    "sigmas4 = np.append(sigmas,[0,0,0,0])\n",
    "#FijSum = Fij+Fobj.Fij[:nCosParams,:nCosParams]\n",
    "sigmas5 = np.sqrt(np.diag(np.linalg.inv(FijSum2)))\n",
    "#for i,p in enumerate(Fobj.paramList):\n",
    "#    print p, sigmas4[i],sigmas2[i],sigmas5[i]\n",
    "    \n",
    "from prettytable import PrettyTable\n",
    "t = PrettyTable(['Parameter', 'sigma(T,E)','sigma(k,g)','sigma(T,E,k,g)'])\n",
    "for i,p in enumerate(Fobj.paramList):\n",
    "    t.add_row([p,\"%5.3g\" % sigmas4[i],\"%5.3g\" % sigmas2[i],\"%5.3g\" % sigmas5[i]])\n",
    "print t"
   ]
  },
  {
   "cell_type": "code",
   "execution_count": null,
   "metadata": {
    "collapsed": true
   },
   "outputs": [],
   "source": []
  },
  {
   "cell_type": "code",
   "execution_count": null,
   "metadata": {
    "collapsed": true
   },
   "outputs": [],
   "source": []
  },
  {
   "cell_type": "markdown",
   "metadata": {},
   "source": [
    "To add:\n",
    "    switch to halofit\n",
    "    shot noise\n",
    "    lensing recon noise\n",
    "    DE params\n",
    "    Improved bias model  (important but hard; not for 'first paper')\n",
    "    Inverted nu hiearchy: Is there any sensitivity beyond Sigma mnu (transition region)\n",
    "        (drawing: power stepping down for each species instead of one step down with ell)\n",
    "        Ll: guesses probably not"
   ]
  },
  {
   "cell_type": "markdown",
   "metadata": {},
   "source": [
    "priorities: byeonhee,kevin comparisons,\n",
    "    include DE\n",
    "    inverted nu hier\n",
    "    halofit\n",
    "    noise"
   ]
  },
  {
   "cell_type": "code",
   "execution_count": 32,
   "metadata": {
    "collapsed": true
   },
   "outputs": [],
   "source": [
    "# compare to Kevin's result  (reportedly from unlensed spectra; \n",
    "#   Lloyd wanted him to double check that due to the small size of mnu)\n",
    "Ksigmas = {\n",
    "    'As' : 8.36787928685e-11,\n",
    "    'cosmomc_theta' : 1.44400712682e-06,\n",
    "    'mnu' : 0.220088883622,\n",
    "    'ns' : 0.00193696953962,\n",
    "    'ombh2' : 4.50012028332e-05,\n",
    "    'omch2' : 0.000630720967738,\n",
    "    'tau' : 0.0196834629721\n",
    "}\n",
    "\n",
    "# Kevin has more results for me, using my fiducial parameter values and step sizes:\n",
    "# Using lensed spectra:\n",
    "Ksigmas2 = {\n",
    "    'As' : 7.16774197011e-11,\n",
    "    'cosmomc_theta' : 1.09586297761e-06,\n",
    "    'mnu' : 0.146118415833,\n",
    "    'ns' : 0.00177830934705,\n",
    "    'ombh2' : 4.070676724e-05,\n",
    "    'omch2' : 0.000576393112142,\n",
    "    'tau' : 0.0171234498358\n",
    "}\n",
    "\n",
    "# Using unlensed spectra:\n",
    "Ksigmas3 = {\n",
    "    'As' : 8.33407946912e-11,\n",
    "    'cosmomc_theta' : 1.69789979871e-06,\n",
    "    'mnu' : 0.285834557983,\n",
    "    'ns' : 0.00176069831712,\n",
    "    'ombh2' : 4.1390440571e-05,\n",
    "    'omch2' : 0.000566243441739,\n",
    "    'tau' : 0.0195975583329\n",
    "}"
   ]
  },
  {
   "cell_type": "code",
   "execution_count": null,
   "metadata": {
    "collapsed": true
   },
   "outputs": [],
   "source": []
  },
  {
   "cell_type": "code",
   "execution_count": null,
   "metadata": {
    "collapsed": false
   },
   "outputs": [],
   "source": [
    "from prettytable import PrettyTable\n",
    "t = PrettyTable(['Parameter', 'sigma_Z(T,E)','sigma_K(T,E)','percent diff.'])\n",
    "for i,p in enumerate(paramList):\n",
    "    Zi = sigmas[i]\n",
    "    Ki = Ksigmas[paramList[i]]\n",
    "    diff = (Ki-Zi)/Zi *100\n",
    "    t.add_row([p,\"%5.3g\" % Zi,\"%5.3g\" % Ki, \"%5.3g\" % diff ] )\n",
    "print t"
   ]
  },
  {
   "cell_type": "code",
   "execution_count": null,
   "metadata": {
    "collapsed": false
   },
   "outputs": [],
   "source": [
    "print deltaP\n"
   ]
  },
  {
   "cell_type": "code",
   "execution_count": null,
   "metadata": {
    "collapsed": true
   },
   "outputs": [],
   "source": []
  },
  {
   "cell_type": "code",
   "execution_count": null,
   "metadata": {
    "collapsed": false
   },
   "outputs": [],
   "source": [
    "# check out Kevin's pickle\n",
    "# oops, doesn't load in python 2.  Need to re-save as python 2 version.\n",
    "#filehandler3 = open('test_cov_for_z.pkl', 'r') \n",
    "#Kdict = pickle.load(filehandler3) "
   ]
  },
  {
   "cell_type": "code",
   "execution_count": null,
   "metadata": {
    "collapsed": true
   },
   "outputs": [],
   "source": []
  }
 ],
 "metadata": {
  "kernelspec": {
   "display_name": "Python 2",
   "language": "python",
   "name": "python2"
  },
  "language_info": {
   "codemirror_mode": {
    "name": "ipython",
    "version": 2
   },
   "file_extension": ".py",
   "mimetype": "text/x-python",
   "name": "python",
   "nbconvert_exporter": "python",
   "pygments_lexer": "ipython2",
   "version": "2.7.14"
  }
 },
 "nbformat": 4,
 "nbformat_minor": 0
}
