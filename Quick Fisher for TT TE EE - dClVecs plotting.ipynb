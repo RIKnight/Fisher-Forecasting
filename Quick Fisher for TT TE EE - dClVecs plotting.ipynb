{
 "cells": [
  {
   "cell_type": "markdown",
   "metadata": {},
   "source": [
    "# Making some quick calculations to get $F_{ij}$ working for $C_l^{TT},C_l^{TE},C_l^{EE}$ observables"
   ]
  },
  {
   "cell_type": "code",
   "execution_count": 1,
   "metadata": {
    "collapsed": true
   },
   "outputs": [],
   "source": [
    "import crosspower as cp\n",
    "#import FisherCl as fcl\n",
    "#import FisherCl2 as fcl\n",
    "#from numpy.linalg import eigh\n",
    "import camb\n",
    "\n",
    "# set plotting to be in the notebook instead of its own qt window\n",
    "%matplotlib inline"
   ]
  },
  {
   "cell_type": "code",
   "execution_count": null,
   "metadata": {
    "collapsed": true
   },
   "outputs": [],
   "source": []
  },
  {
   "cell_type": "code",
   "execution_count": 2,
   "metadata": {
    "collapsed": false
   },
   "outputs": [],
   "source": [
    "# set cosmological parameters\n",
    "\n",
    "cosParams = {\n",
    "        'H0'    : None, #67.51, #setting H0=None allows cosmomc_theta to be used instead\n",
    "        'cosmomc_theta'           : 1.04087e-2,\n",
    "        'ombh2' : 0.02226,\n",
    "        'omch2' : 0.1193,\n",
    "        'omk'   : 0,\n",
    "        'tau'   : 0.063,\n",
    "\n",
    "        'As'    : 2.130e-9,\n",
    "        'ns'    : 0.9653,\n",
    "        'r'     : 0,\n",
    "        'kPivot': 0.05,\n",
    "    \n",
    "        'w'     : -1,\n",
    "\n",
    "        # if fiducial mnu is changed, need to adjust omch2 as well\n",
    "        'mnu'   : 0.06, # (eV)\n",
    "        #'mnu'   : 0.058, # Lloyd suggested this value for fiducial; adjust omch2 if I do use it\n",
    "        'nnu'   : 3.046,\n",
    "        'standard_neutrino_neff'  : 3.046,\n",
    "        'num_massive_neutrinos'   : 1,\n",
    "        'neutrino_hierarchy'      : 'normal'}\n"
   ]
  },
  {
   "cell_type": "code",
   "execution_count": null,
   "metadata": {
    "collapsed": true
   },
   "outputs": [],
   "source": []
  },
  {
   "cell_type": "code",
   "execution_count": 3,
   "metadata": {
    "collapsed": false
   },
   "outputs": [
    {
     "data": {
      "text/plain": [
       "\"\\ncosParams = {\\n        'H0'    : None, #67.51, #setting H0=None allows cosmomc_theta to be used instead\\n        'cosmomc_theta'           : 1.04076967e-2,\\n        'ombh2' : 0.02227,\\n        'omch2' : 0.1413-0.02227,\\n        'omk'   : 0,\\n        'tau'   : 0.067,\\n\\n        'As'    : 1.873e-9,\\n        'ns'    : 0.9681,\\n        'r'     : 0,\\n        'kPivot': 0.05,\\n\\n        # if fiducial mnu is changed, need to adjust omch2 as well\\n        'mnu'   : 0.06, # (eV)\\n        #'mnu'   : 0.058, # Lloyd suggested this value for fiducial; adjust omch2 if I do use it\\n        'nnu'   : 3.046,\\n        'standard_neutrino_neff'  : 3.046,\\n        'num_massive_neutrinos'   : 1,\\n        'neutrino_hierarchy'      : 'normal'}\\n\""
      ]
     },
     "execution_count": 3,
     "metadata": {},
     "output_type": "execute_result"
    }
   ],
   "source": [
    "# set cosmological parameters\n",
    "# step sizes from Kevin's SPT-3G forecasting notebook\n",
    "\"\"\"params_base_theta={'H0':None,'cosmomc_theta':fish_param(1.04076967/100,0.000323773),\n",
    "                           'ombh2':fish_param(0.02227,0.0002),\n",
    "                           'ommh2':fish_param(0.1413,0.0011),\n",
    "                           'tau':fish_param(0.067,0.013, 0.02),\n",
    "                           'clamp':fish_param(1.873,0.0115),\n",
    "                           'ns':fish_param( 0.9681,0.0044),\n",
    "                           'lmax':6000,'lens_potential_accuracy':5.0}\"\"\"\n",
    "#                   ('lcdm_mnu',{'mnu':fish_param(.06,0.01)}),\n",
    "\"\"\"\n",
    "cosParams = {\n",
    "        'H0'    : None, #67.51, #setting H0=None allows cosmomc_theta to be used instead\n",
    "        'cosmomc_theta'           : 1.04076967e-2,\n",
    "        'ombh2' : 0.02227,\n",
    "        'omch2' : 0.1413-0.02227,\n",
    "        'omk'   : 0,\n",
    "        'tau'   : 0.067,\n",
    "\n",
    "        'As'    : 1.873e-9,\n",
    "        'ns'    : 0.9681,\n",
    "        'r'     : 0,\n",
    "        'kPivot': 0.05,\n",
    "\n",
    "        # if fiducial mnu is changed, need to adjust omch2 as well\n",
    "        'mnu'   : 0.06, # (eV)\n",
    "        #'mnu'   : 0.058, # Lloyd suggested this value for fiducial; adjust omch2 if I do use it\n",
    "        'nnu'   : 3.046,\n",
    "        'standard_neutrino_neff'  : 3.046,\n",
    "        'num_massive_neutrinos'   : 1,\n",
    "        'neutrino_hierarchy'      : 'normal'}\n",
    "\"\"\""
   ]
  },
  {
   "cell_type": "code",
   "execution_count": 4,
   "metadata": {
    "collapsed": false
   },
   "outputs": [
    {
     "name": "stdout",
     "output_type": "stream",
     "text": [
      "zs.size:  998\n"
     ]
    }
   ],
   "source": [
    "# get a matterPower object\n",
    "#reload(cp)\n",
    "nonlinear = True\n",
    "myPk = cp.matterPower(nonlinear=nonlinear,**cosParams)"
   ]
  },
  {
   "cell_type": "code",
   "execution_count": null,
   "metadata": {
    "collapsed": true
   },
   "outputs": [],
   "source": []
  },
  {
   "cell_type": "code",
   "execution_count": null,
   "metadata": {
    "collapsed": true
   },
   "outputs": [],
   "source": []
  },
  {
   "cell_type": "code",
   "execution_count": 5,
   "metadata": {
    "collapsed": false
   },
   "outputs": [],
   "source": [
    "# copy some setup from FisherCl2.py\n",
    "\n",
    "#myParams = myPk.cosParams\n",
    "myParams = cosParams\n",
    "nz = 1000\n",
    "\n",
    "# parameters list:\n",
    "#nCosParams = 7 # 6 LCDM + Mnu\n",
    "nCosParams = 8 # 6 LCDM + Mnu + w\n",
    "#paramList = ['ombh2','omch2','cosmomc_theta','As','ns','tau','mnu']\n",
    "paramList = ['ombh2','omch2','cosmomc_theta','As','ns','tau','mnu','w']\n",
    "# step sizes for discrete derivatives: must correspond to paramList entries!\n",
    "#   from Allison et. al. (2015) Table III.\n",
    "deltaP = [0.0008,0.0030,0.0050e-2,0.1e-9,0.010,0.020,0.020,0.3] #mnu one in eV\n",
    "\n",
    "# step sizes from Kevin's SPT-3G forecasting notebook\n",
    "\"\"\"params_base_theta={'H0':None,'cosmomc_theta':fish_param(1.04076967/100,0.000323773),\n",
    "                           'ombh2':fish_param(0.02227,0.0002),\n",
    "                           'ommh2':fish_param(0.1413,0.0011),\n",
    "                           'tau':fish_param(0.067,0.013, 0.02),\n",
    "                           'clamp':fish_param(1.873,0.0115),\n",
    "                           'ns':fish_param( 0.9681,0.0044),\n",
    "                           'lmax':6000,'lens_potential_accuracy':5.0}\"\"\"\n",
    "#                   ('lcdm_mnu',{'mnu':fish_param(.06,0.01)}),\n",
    "#deltaP = [0.0002,0.0011,0.000323773,0.0115e-9,0.0044,0.013,0.01]\n",
    "\n",
    "# cut deltaP in half to see effect\n",
    "#deltaP = np.array(deltaP)/2.\n",
    "#deltaP = np.array(deltaP)/10.\n",
    "\n",
    "# double deltaP to see effect\n",
    "#deltaP = np.array(deltaP)*2.\n",
    "#deltaP = np.array(deltaP)*10.\n",
    "\n",
    "\n",
    "# make this a function that uses some global variables\n",
    "def getDerivParams(deltaP):\n",
    "    \"\"\"\n",
    "        deltaP: array of parameter step sizes\n",
    "        Returns:\n",
    "            parsUpper: array of camb pars objects, one element for each parameter\n",
    "            parsLower: array of camb pars objects, one element for each parameter\n",
    "    \"\"\"\n",
    "    \n",
    "    # get more matterPower objects for numeric differentiation\n",
    "    print 'creating parameter sets...'\n",
    "    myParamsUpper = []\n",
    "    myParamsLower = []\n",
    "    parsUpper = []\n",
    "    parsLower = []\n",
    "    for cParamNum in range(nCosParams):\n",
    "        #print 'creating matter power spectra for ',paramList[cParamNum],' derivative...'\n",
    "        print 'creating parameter set for ',paramList[cParamNum],' derivative...'\n",
    "        # add parameter dictionary to lists; HAVE TO BE COPIES!!!\n",
    "        myParamsUpper.append(myParams.copy())\n",
    "        myParamsLower.append(myParams.copy())\n",
    "        # modify parameter number cParamNum in dictionaries\n",
    "        myParamsUpper[cParamNum][paramList[cParamNum]] += deltaP[cParamNum]\n",
    "        myParamsLower[cParamNum][paramList[cParamNum]] -= deltaP[cParamNum]\n",
    "\n",
    "\n",
    "        # toggle this section off for comparison with Kevin's Fisher result:\n",
    "        \"\"\"\n",
    "        # check for mnu modification and adjust omch2 if necessary\n",
    "        if paramList[cParamNum] == 'mnu':\n",
    "            omch2Index = np.where(np.array(paramList) == 'omch2')[0][0]\n",
    "            deltaOmnh2 = deltaP[cParamNum]/94 #eq.n 12 from Wu et. al.\n",
    "            #deltaOmnh2 = pars.omegan*(pars.H0/100)**2 # probably a better measure of omega_nu\n",
    "            # note the -=,+= signs get reversed in next 2 lines compared to above\n",
    "            myParamsUpper[cParamNum][paramList[omch2Index]] -= deltaOmnh2\n",
    "            myParamsLower[cParamNum][paramList[omch2Index]] += deltaOmnh2\n",
    "        \"\"\"\n",
    "\n",
    "        #print 'cPramNum: ',cParamNum,', param name: ',paramList[cParamNum]\n",
    "        #print 'myParamsUpper[cParamNum][paramList[cParamNum]]: ',myParamsUpper[cParamNum][paramList[cParamNum]]\n",
    "        #print 'myParamsLower[cParamNum][paramList[cParamNum]]: ',myParamsLower[cParamNum][paramList[cParamNum]]\n",
    "        #print 'deltaP[cParamNum]: ',deltaP[cParamNum]\n",
    "\n",
    "        # create matter power objects and add to lists\n",
    "        # really I just need matterPower.pars, but this is a fast way to code it\n",
    "        #myPksUpper.append(cp.matterPower(nz=nz,**myParamsUpper[cParamNum]))\n",
    "        #myPksLower.append(cp.matterPower(nz=nz,**myParamsLower[cParamNum]))\n",
    "\n",
    "        # switch to using just pars objects.  No longer \"myPks\", should be renamed\n",
    "        parsUpper.append(cp.matterPower.getPars(myPk,**myParamsUpper[cParamNum]))\n",
    "        parsLower.append(cp.matterPower.getPars(myPk,**myParamsLower[cParamNum]))\n",
    "        \n",
    "    #return myPksUpper,myPksLower\n",
    "    return parsUpper,parsLower\n",
    "    \n"
   ]
  },
  {
   "cell_type": "code",
   "execution_count": 6,
   "metadata": {
    "collapsed": true
   },
   "outputs": [],
   "source": [
    "def checkPars(pars):\n",
    "    H0 = pars.H0\n",
    "    print 'ombh2: ',pars.omegab*(H0/100)**2\n",
    "    print 'omch2: ',pars.omegac*(H0/100)**2\n",
    "    print 'H_0: ',H0, '(proxy for theta?)'\n",
    "    #print 'initial condition vector: ',pars.InitialConditionVector\n",
    "    print 'As: ',pars.InitPower.ScalarPowerAmp[0]\n",
    "    print 'ns: ',pars.InitPower.an[0]\n",
    "    print 'tau: ',pars.Reion.optical_depth\n",
    "    #print 'omega_n: ',pars.omegan\n",
    "    print 'omega_n*94*h**2: ',pars.omegan*94*(H0/100)**2\n",
    "    \n",
    "    #print '\\n'\n",
    "    #print pars\n",
    "    "
   ]
  },
  {
   "cell_type": "code",
   "execution_count": 7,
   "metadata": {
    "collapsed": true
   },
   "outputs": [],
   "source": [
    "# set to True to check parameter values\n",
    "if False:\n",
    "    for cParamNum in range(nCosParams):\n",
    "        print '\\nContents of pars objects for parameter set ',cParamNum+1,' for parameter ',paramList[cParamNum], \\\n",
    "              ' with delta ',deltaP[cParamNum]\n",
    "        checkPars(myPksUpper[cParamNum])\n",
    "        checkPars(myPksLower[cParamNum])"
   ]
  },
  {
   "cell_type": "code",
   "execution_count": 12,
   "metadata": {
    "collapsed": false
   },
   "outputs": [],
   "source": [
    "# get all cross power spectra\n",
    "nMaps = 2 # T,E\n",
    "lmax = 1000 #2000 # may want to match lmax in other Fisher calculation\n",
    "\n",
    "# rewrite as function that uses global variables\n",
    "def getPowerSpectra(parsUpper,parsLower):\n",
    "    #def getPowerSpectra(myPksUpper,myPksLower):\n",
    "    #lmax = 2000 # may want to match lmax in other Fisher calculation\n",
    "    pars = myPk.pars\n",
    "    #pars.set_for_lmax(lmax, lens_potential_accuracy=0)\n",
    "    # try kicking it up for comaprison against Kevin's result\n",
    "    lensLmax = lmax #3*lmax\n",
    "    lpa = 5.0\n",
    "    #aBoost = 1\n",
    "    #aBoost = 2\n",
    "    aBoost = 3\n",
    "    #aBoost = 4\n",
    "    #aBoost = 5\n",
    "    pars.set_for_lmax(lensLmax, lens_potential_accuracy=lpa)\n",
    "    pars.set_accuracy(AccuracyBoost=aBoost)\n",
    "\n",
    "    #calculate results for these parameters\n",
    "    print 'getting Cl power spectrum'\n",
    "    results = camb.get_results(pars)\n",
    "\n",
    "    #get dictionary of CAMB power spectra\n",
    "    powers =results.get_cmb_power_spectra(pars)\n",
    "    #for name in powers: print name\n",
    "\n",
    "    #get the total lensed CMB power spectra versus unlensed\n",
    "    #myClName = 'total'\n",
    "    myClName = 'unlensed_scalar'\n",
    "    myCl = powers[myClName]\n",
    "\n",
    "    #totCl=powers['total']\n",
    "    #unlensedCl=powers['unlensed_scalar']\n",
    "    print myCl.shape\n",
    "    #Python Cl arrays are all zero based (starting at L=0), Note L=0,1 entries will be zero by default.\n",
    "    #The different CL are always in the order TT, EE, BB, TE (with BB=0 for unlensed scalar results).\n",
    "\n",
    "    # re-arrange the data structure to be consistent with code in FisherMatrix\n",
    "    #nMaps = 2 # T,E\n",
    "    crossCls      = np.zeros((nMaps,nMaps,           lmax))\n",
    "    crossClsPlus  = np.zeros((nMaps,nMaps,nCosParams,lmax))\n",
    "    crossClsMinus = np.zeros((nMaps,nMaps,nCosParams,lmax))\n",
    "\n",
    "    crossCls[0,0] = myCl[:lmax,0] # TT\n",
    "    crossCls[0,1] = myCl[:lmax,3] # TE\n",
    "    crossCls[1,0] = myCl[:lmax,3] # ET\n",
    "    crossCls[1,1] = myCl[:lmax,1] # EE\n",
    "\n",
    "    # get the perturbed versions\n",
    "    for paramNum in range(nCosParams):\n",
    "        print 'getting Cl power spectra for parameter ',paramList[paramNum]\n",
    "        myParsUpper = parsUpper[paramNum] #.pars\n",
    "        myParsLower = parsLower[paramNum] #.pars\n",
    "        myParsUpper.set_for_lmax(lensLmax, lens_potential_accuracy=lpa)\n",
    "        myParsLower.set_for_lmax(lensLmax, lens_potential_accuracy=lpa)\n",
    "        myParsUpper.set_accuracy(AccuracyBoost=aBoost)\n",
    "        myParsLower.set_accuracy(AccuracyBoost=aBoost)\n",
    "\n",
    "\n",
    "        #calculate results for these parameters\n",
    "        resultsUpper = camb.get_results(myParsUpper)\n",
    "        resultsLower = camb.get_results(myParsLower)\n",
    "\n",
    "        #get dictionary of CAMB power spectra\n",
    "        powersUpper =resultsUpper.get_cmb_power_spectra(myParsUpper)\n",
    "        powersLower =resultsLower.get_cmb_power_spectra(myParsLower)\n",
    "\n",
    "        #get the selected power spectra\n",
    "        myClUpper=powersUpper[myClName]\n",
    "        myClLower=powersLower[myClName]\n",
    "\n",
    "        #store them\n",
    "        crossClsPlus[0,0,paramNum]  = myClUpper[:lmax,0] # TT\n",
    "        crossClsPlus[0,1,paramNum]  = myClUpper[:lmax,3] # TE\n",
    "        crossClsPlus[1,0,paramNum]  = myClUpper[:lmax,3] # ET\n",
    "        crossClsPlus[1,1,paramNum]  = myClUpper[:lmax,1] # EE\n",
    "\n",
    "        crossClsMinus[0,0,paramNum] = myClLower[:lmax,0] # TT\n",
    "        crossClsMinus[0,1,paramNum] = myClLower[:lmax,3] # TE\n",
    "        crossClsMinus[1,0,paramNum] = myClLower[:lmax,3] # ET\n",
    "        crossClsMinus[1,1,paramNum] = myClLower[:lmax,1] # EE\n",
    "\n",
    "    return crossCls,crossClsPlus,crossClsMinus\n"
   ]
  },
  {
   "cell_type": "code",
   "execution_count": 13,
   "metadata": {
    "collapsed": false
   },
   "outputs": [],
   "source": [
    "# get derivatives wrt parameters\n",
    "\n",
    "# rewrite as function that uses global variables\n",
    "def getDClVecs(crossCls,crossClsPlus,crossClsMinus):\n",
    "    \n",
    "    nCls = nMaps*(nMaps+1)/2 # This way removes redundancies, eg C_l^kg = C_l^gk\n",
    "    print 'starting creation of C_l derivatives... '\n",
    "    #dClVecs = np.empty((nCls, nCosParams, lmax+51))\n",
    "    #Clzeros = np.zeros(lmax+51) # for putting into dClVecs when needed\n",
    "    dClVecs = np.empty((nCls, nCosParams, lmax))\n",
    "\n",
    "    for map1 in range(nMaps):\n",
    "        print 'starting derivative set ',map1+1,' of ',nMaps,'... '\n",
    "        for map2 in range(map1,nMaps):\n",
    "            mapIdx  = map1*nMaps+map2 -map1*(map1+1)/2  \n",
    "                                       # mapIdx = map index\n",
    "            for pIdx in range(nCosParams):\n",
    "                dClPlus  = crossClsPlus[map1,map2,pIdx]\n",
    "                dClMinus = crossClsMinus[map1,map2,pIdx]\n",
    "                dClVecs[mapIdx, pIdx] = (dClPlus-dClMinus)/(2*deltaP[pIdx])\n",
    "\n",
    "    return dClVecs\n"
   ]
  },
  {
   "cell_type": "code",
   "execution_count": 14,
   "metadata": {
    "collapsed": false
   },
   "outputs": [
    {
     "name": "stdout",
     "output_type": "stream",
     "text": [
      "0 0 0\n",
      "0 1 1\n",
      "1 1 2\n"
     ]
    }
   ],
   "source": [
    "# verify mapIdx does what it's supposed to: count\n",
    "for map1 in range(nMaps):\n",
    "    for map2 in range(map1,nMaps):\n",
    "        mapIdx  = map1*nMaps+map2 -map1*(map1+1)/2  \n",
    "        print map1, map2, mapIdx"
   ]
  },
  {
   "cell_type": "code",
   "execution_count": 16,
   "metadata": {
    "collapsed": false,
    "scrolled": true
   },
   "outputs": [
    {
     "name": "stdout",
     "output_type": "stream",
     "text": [
      "deltaP:  [  8.00000000e-06   3.00000000e-05   5.00000000e-07   1.00000000e-12\n",
      "   1.00000000e-04   2.00000000e-04   2.00000000e-04   3.00000000e-03]\n",
      "starting set  1  with Delta parameters  [  8.00000000e-06   3.00000000e-05   5.00000000e-07   1.00000000e-12\n",
      "   1.00000000e-04   2.00000000e-04   2.00000000e-04   3.00000000e-03]\n",
      "creating parameter sets...\n",
      "creating parameter set for  ombh2  derivative...\n",
      "creating parameter set for  omch2  derivative...\n",
      "creating parameter set for  cosmomc_theta  derivative...\n",
      "creating parameter set for  As  derivative...\n",
      "creating parameter set for  ns  derivative...\n",
      "creating parameter set for  tau  derivative...\n",
      "creating parameter set for  mnu  derivative...\n",
      "creating parameter set for  w  derivative...\n",
      "\n",
      "\n",
      "ombh2:  0.022268\n",
      "omch2:  0.1193\n",
      "H_0:  67.5888957161 (proxy for theta?)\n",
      "As:  2.13e-09\n",
      "ns:  0.9653\n",
      "tau:  0.063\n",
      "omega_n*94*h**2:  0.0606435258047\n",
      "ombh2:  0.022252\n",
      "omch2:  0.1193\n",
      "H_0:  67.4858878288 (proxy for theta?)\n",
      "As:  2.13e-09\n",
      "ns:  0.9653\n",
      "tau:  0.063\n",
      "omega_n*94*h**2:  0.0606435258047\n",
      "getting Cl power spectrum\n",
      "(1051, 4)\n",
      "getting Cl power spectra for parameter  ombh2\n"
     ]
    },
    {
     "ename": "KeyboardInterrupt",
     "evalue": "",
     "output_type": "error",
     "traceback": [
      "\u001b[0;31m---------------------------------------------------------------------------\u001b[0m",
      "\u001b[0;31mKeyboardInterrupt\u001b[0m                         Traceback (most recent call last)",
      "\u001b[0;32m<ipython-input-16-4c2bc6b29770>\u001b[0m in \u001b[0;36m<module>\u001b[0;34m()\u001b[0m\n\u001b[1;32m     21\u001b[0m     \u001b[0mcheckPars\u001b[0m\u001b[0;34m(\u001b[0m\u001b[0mparsLower\u001b[0m\u001b[0;34m[\u001b[0m\u001b[0;36m0\u001b[0m\u001b[0;34m]\u001b[0m\u001b[0;34m)\u001b[0m \u001b[0;31m#.pars)\u001b[0m\u001b[0;34m\u001b[0m\u001b[0m\n\u001b[1;32m     22\u001b[0m \u001b[0;34m\u001b[0m\u001b[0m\n\u001b[0;32m---> 23\u001b[0;31m     \u001b[0mcrossCls\u001b[0m\u001b[0;34m,\u001b[0m\u001b[0mcrossClsPlus\u001b[0m\u001b[0;34m,\u001b[0m\u001b[0mcrossClsMinus\u001b[0m \u001b[0;34m=\u001b[0m \u001b[0mgetPowerSpectra\u001b[0m\u001b[0;34m(\u001b[0m\u001b[0mparsUpper\u001b[0m\u001b[0;34m,\u001b[0m\u001b[0mparsLower\u001b[0m\u001b[0;34m)\u001b[0m\u001b[0;34m\u001b[0m\u001b[0m\n\u001b[0m\u001b[1;32m     24\u001b[0m \u001b[0;34m\u001b[0m\u001b[0m\n\u001b[1;32m     25\u001b[0m     \u001b[0mplt\u001b[0m\u001b[0;34m.\u001b[0m\u001b[0mplot\u001b[0m\u001b[0;34m(\u001b[0m\u001b[0mcrossCls\u001b[0m\u001b[0;34m[\u001b[0m\u001b[0;36m0\u001b[0m\u001b[0;34m,\u001b[0m\u001b[0;36m0\u001b[0m\u001b[0;34m]\u001b[0m\u001b[0;34m)\u001b[0m\u001b[0;34m\u001b[0m\u001b[0m\n",
      "\u001b[0;32m<ipython-input-12-0b9d6c6248ee>\u001b[0m in \u001b[0;36mgetPowerSpectra\u001b[0;34m(parsUpper, parsLower)\u001b[0m\n\u001b[1;32m     66\u001b[0m \u001b[0;34m\u001b[0m\u001b[0m\n\u001b[1;32m     67\u001b[0m         \u001b[0;31m#get dictionary of CAMB power spectra\u001b[0m\u001b[0;34m\u001b[0m\u001b[0;34m\u001b[0m\u001b[0m\n\u001b[0;32m---> 68\u001b[0;31m         \u001b[0mpowersUpper\u001b[0m \u001b[0;34m=\u001b[0m\u001b[0mresultsUpper\u001b[0m\u001b[0;34m.\u001b[0m\u001b[0mget_cmb_power_spectra\u001b[0m\u001b[0;34m(\u001b[0m\u001b[0mmyParsUpper\u001b[0m\u001b[0;34m)\u001b[0m\u001b[0;34m\u001b[0m\u001b[0m\n\u001b[0m\u001b[1;32m     69\u001b[0m         \u001b[0mpowersLower\u001b[0m \u001b[0;34m=\u001b[0m\u001b[0mresultsLower\u001b[0m\u001b[0;34m.\u001b[0m\u001b[0mget_cmb_power_spectra\u001b[0m\u001b[0;34m(\u001b[0m\u001b[0mmyParsLower\u001b[0m\u001b[0;34m)\u001b[0m\u001b[0;34m\u001b[0m\u001b[0m\n\u001b[1;32m     70\u001b[0m \u001b[0;34m\u001b[0m\u001b[0m\n",
      "\u001b[0;32m/Users/zork/.local/lib/python2.7/site-packages/camb/camb.pyc\u001b[0m in \u001b[0;36mget_cmb_power_spectra\u001b[0;34m(self, params, lmax, spectra)\u001b[0m\n\u001b[1;32m    441\u001b[0m         \u001b[0mP\u001b[0m \u001b[0;34m=\u001b[0m \u001b[0;34m{\u001b[0m\u001b[0;34m}\u001b[0m\u001b[0;34m\u001b[0m\u001b[0m\n\u001b[1;32m    442\u001b[0m         \u001b[0;32mif\u001b[0m \u001b[0mparams\u001b[0m \u001b[0;32mis\u001b[0m \u001b[0;32mnot\u001b[0m \u001b[0mNone\u001b[0m\u001b[0;34m:\u001b[0m\u001b[0;34m\u001b[0m\u001b[0m\n\u001b[0;32m--> 443\u001b[0;31m             \u001b[0mself\u001b[0m\u001b[0;34m.\u001b[0m\u001b[0mcalc_power_spectra\u001b[0m\u001b[0;34m(\u001b[0m\u001b[0mparams\u001b[0m\u001b[0;34m)\u001b[0m\u001b[0;34m\u001b[0m\u001b[0m\n\u001b[0m\u001b[1;32m    444\u001b[0m         \u001b[0;32mif\u001b[0m \u001b[0mself\u001b[0m\u001b[0;34m.\u001b[0m\u001b[0mParams\u001b[0m\u001b[0;34m.\u001b[0m\u001b[0mInitPower\u001b[0m\u001b[0;34m.\u001b[0m\u001b[0mhas_tensors\u001b[0m\u001b[0;34m(\u001b[0m\u001b[0;34m)\u001b[0m \u001b[0;32mand\u001b[0m \u001b[0;32mnot\u001b[0m \u001b[0mself\u001b[0m\u001b[0;34m.\u001b[0m\u001b[0mParams\u001b[0m\u001b[0;34m.\u001b[0m\u001b[0mWantTensors\u001b[0m\u001b[0;34m:\u001b[0m\u001b[0;34m\u001b[0m\u001b[0m\n\u001b[1;32m    445\u001b[0m             \u001b[0;32mraise\u001b[0m \u001b[0mCAMBError\u001b[0m\u001b[0;34m(\u001b[0m\u001b[0;34m'r>0 but params.WantTensors = F'\u001b[0m\u001b[0;34m)\u001b[0m\u001b[0;34m\u001b[0m\u001b[0m\n",
      "\u001b[0;32m/Users/zork/.local/lib/python2.7/site-packages/camb/camb.pyc\u001b[0m in \u001b[0;36mcalc_power_spectra\u001b[0;34m(self, params)\u001b[0m\n\u001b[1;32m    407\u001b[0m         \"\"\"\n\u001b[1;32m    408\u001b[0m         \u001b[0;32mif\u001b[0m \u001b[0mparams\u001b[0m \u001b[0;32mis\u001b[0m \u001b[0;32mnot\u001b[0m \u001b[0mNone\u001b[0m\u001b[0;34m:\u001b[0m\u001b[0;34m\u001b[0m\u001b[0m\n\u001b[0;32m--> 409\u001b[0;31m             \u001b[0mresult\u001b[0m \u001b[0;34m=\u001b[0m \u001b[0mself\u001b[0m\u001b[0;34m.\u001b[0m\u001b[0mcalc_transfers\u001b[0m\u001b[0;34m(\u001b[0m\u001b[0mparams\u001b[0m\u001b[0;34m,\u001b[0m \u001b[0monly_transfers\u001b[0m\u001b[0;34m=\u001b[0m\u001b[0mFalse\u001b[0m\u001b[0;34m)\u001b[0m\u001b[0;34m\u001b[0m\u001b[0m\n\u001b[0m\u001b[1;32m    410\u001b[0m             \u001b[0;32mif\u001b[0m \u001b[0mresult\u001b[0m \u001b[0;34m!=\u001b[0m \u001b[0;36m0\u001b[0m\u001b[0;34m:\u001b[0m\u001b[0;34m\u001b[0m\u001b[0m\n\u001b[1;32m    411\u001b[0m                 \u001b[0;32mraise\u001b[0m \u001b[0mCAMBError\u001b[0m\u001b[0;34m(\u001b[0m\u001b[0;34m'Error getting transfer functions: %u'\u001b[0m \u001b[0;34m%\u001b[0m \u001b[0mresult\u001b[0m\u001b[0;34m)\u001b[0m\u001b[0;34m\u001b[0m\u001b[0m\n",
      "\u001b[0;32m/Users/zork/.local/lib/python2.7/site-packages/camb/camb.pyc\u001b[0m in \u001b[0;36mcalc_transfers\u001b[0;34m(self, params, only_transfers)\u001b[0m\n\u001b[1;32m    397\u001b[0m         \u001b[0mopt\u001b[0m \u001b[0;34m=\u001b[0m \u001b[0mc_bool\u001b[0m\u001b[0;34m(\u001b[0m\u001b[0;34m)\u001b[0m\u001b[0;34m\u001b[0m\u001b[0m\n\u001b[1;32m    398\u001b[0m         \u001b[0mopt\u001b[0m\u001b[0;34m.\u001b[0m\u001b[0mvalue\u001b[0m \u001b[0;34m=\u001b[0m \u001b[0monly_transfers\u001b[0m\u001b[0;34m\u001b[0m\u001b[0m\n\u001b[0;32m--> 399\u001b[0;31m         \u001b[0;32mreturn\u001b[0m \u001b[0mCAMBdata_gettransfers\u001b[0m\u001b[0;34m(\u001b[0m\u001b[0mself\u001b[0m\u001b[0;34m.\u001b[0m\u001b[0m_key\u001b[0m\u001b[0;34m,\u001b[0m \u001b[0mbyref\u001b[0m\u001b[0;34m(\u001b[0m\u001b[0mparams\u001b[0m\u001b[0;34m)\u001b[0m\u001b[0;34m,\u001b[0m \u001b[0mbyref\u001b[0m\u001b[0;34m(\u001b[0m\u001b[0mopt\u001b[0m\u001b[0;34m)\u001b[0m\u001b[0;34m)\u001b[0m\u001b[0;34m\u001b[0m\u001b[0m\n\u001b[0m\u001b[1;32m    400\u001b[0m \u001b[0;34m\u001b[0m\u001b[0m\n\u001b[1;32m    401\u001b[0m     \u001b[0;32mdef\u001b[0m \u001b[0mcalc_power_spectra\u001b[0m\u001b[0;34m(\u001b[0m\u001b[0mself\u001b[0m\u001b[0;34m,\u001b[0m \u001b[0mparams\u001b[0m\u001b[0;34m=\u001b[0m\u001b[0mNone\u001b[0m\u001b[0;34m)\u001b[0m\u001b[0;34m:\u001b[0m\u001b[0;34m\u001b[0m\u001b[0m\n",
      "\u001b[0;31mKeyboardInterrupt\u001b[0m: "
     ]
    }
   ],
   "source": [
    "# loop it\n",
    "print 'deltaP: ',deltaP\n",
    "dp = np.array(deltaP)\n",
    "deltaP_half = dp/2.\n",
    "deltaP_tenth = dp/10.\n",
    "deltaP_double = dp*2.\n",
    "deltaP_decade = dp*10.\n",
    "deltaP_list = [deltaP_tenth,deltaP_half,dp,deltaP_double,deltaP_decade]\n",
    "\n",
    "#or don't\n",
    "deltaP_list = [dp]\n",
    "\n",
    "dClVecs_list = []\n",
    "for pSetNum,deltaP in enumerate(deltaP_list):\n",
    "    print 'starting set ',pSetNum+1,' with Delta parameters ',deltaP\n",
    "    parsUpper,parsLower = getDerivParams(deltaP)\n",
    "    \n",
    "    # just check parameter 0\n",
    "    print '\\n'\n",
    "    checkPars(parsUpper[0]) #.pars)\n",
    "    checkPars(parsLower[0]) #.pars)\n",
    "    \n",
    "    crossCls,crossClsPlus,crossClsMinus = getPowerSpectra(parsUpper,parsLower)\n",
    "    \n",
    "    plt.plot(crossCls[0,0])\n",
    "    plt.plot(crossCls[0,1])\n",
    "    plt.plot(crossCls[1,1])\n",
    "    plt.show()\n",
    "    \n",
    "    dClVecs = getDClVecs(crossCls,crossClsPlus,crossClsMinus)\n",
    "    dClVecs_list.append(dClVecs)\n",
    "    "
   ]
  },
  {
   "cell_type": "code",
   "execution_count": null,
   "metadata": {
    "collapsed": true
   },
   "outputs": [],
   "source": [
    "# save it.\n",
    "import pickle\n",
    "#filehandler = open('dClVecsList1.obj','w')\n",
    "#filehandler = open('dClVecsList3.obj','w')\n",
    "#filehandler = open('dClVecsList5.obj','w')\n",
    "filehandler = open('dClVecsList6.obj','w') # working to connect with Byeonghee's result\n",
    "pickle.dump(dClVecs_list,filehandler)"
   ]
  },
  {
   "cell_type": "code",
   "execution_count": null,
   "metadata": {
    "collapsed": false
   },
   "outputs": [],
   "source": [
    "# load it\n",
    "\"\"\"\n",
    "import pickle\n",
    "file = open('dClVecsList5.obj','r')\n",
    "dClVecs_list = pickle.load(file)\n",
    "\n",
    "deltaP = [0.0008,0.0030,0.0050e-2,0.1e-9,0.010,0.020,0.020] #last one in eV\n",
    "dp = np.array(deltaP)\n",
    "deltaP_half = dp/2.\n",
    "deltaP_tenth = dp/10.\n",
    "deltaP_double = dp*2.\n",
    "deltaP_decade = dp*10.\n",
    "deltaP_list = [deltaP_tenth,deltaP_half,dp,deltaP_double,deltaP_decade]\n",
    "\n",
    "nCosParams = 7 # 6 LCDM + Mnu\n",
    "paramList = ['ombh2','omch2','cosmomc_theta','As','ns','tau','mnu']\n",
    "nMaps=2\n",
    "nCls = 3\n",
    "lmax=2000\n",
    "\"\"\"\n"
   ]
  },
  {
   "cell_type": "code",
   "execution_count": null,
   "metadata": {
    "collapsed": false
   },
   "outputs": [],
   "source": [
    "#def getPowerSpectra(myPksUpper,myPksLower):\n",
    "#lmax = 2000 # may want to match lmax in other Fisher calculation\n",
    "pars = myPk.pars\n",
    "#pars.set_for_lmax(lmax, lens_potential_accuracy=0)\n",
    "# try kicking it up for comaprison against Kevin's result\n",
    "lensLmax = lmax #3*lmax\n",
    "lpa = 0 #5.0\n",
    "#aBoost = 1\n",
    "#aBoost = 2\n",
    "aBoost = 3\n",
    "#aBoost = 4\n",
    "#aBoost = 5\n",
    "pars.set_for_lmax(lensLmax, lens_potential_accuracy=lpa)\n",
    "pars.set_accuracy(AccuracyBoost=aBoost)\n",
    "\n",
    "#calculate results for these parameters\n",
    "print 'getting Cl power spectrum'\n",
    "results = camb.get_results(pars)\n",
    "\n",
    "#get dictionary of CAMB power spectra\n",
    "powers =results.get_cmb_power_spectra(pars)\n",
    "#for name in powers: print name\n",
    "\n",
    "#get the total lensed CMB power spectra versus unlensed\n",
    "#myClName = 'total'\n",
    "myClName = 'unlensed_scalar'\n",
    "myCl = powers[myClName]\n",
    "\n",
    "#totCl=powers['total']\n",
    "#unlensedCl=powers['unlensed_scalar']\n",
    "print myCl.shape\n",
    "#Python Cl arrays are all zero based (starting at L=0), Note L=0,1 entries will be zero by default.\n",
    "#The different CL are always in the order TT, EE, BB, TE (with BB=0 for unlensed scalar results).\n",
    "\n",
    "# re-arrange the data structure to be consistent with code in FisherMatrix\n",
    "#nMaps = 2 # T,E\n",
    "crossCls      = np.zeros((nMaps,nMaps,           lmax))\n",
    "crossClsPlus  = np.zeros((nMaps,nMaps,nCosParams,lmax))\n",
    "crossClsMinus = np.zeros((nMaps,nMaps,nCosParams,lmax))\n",
    "\n",
    "crossCls[0,0] = myCl[:lmax,0] # TT\n",
    "crossCls[0,1] = myCl[:lmax,3] # TE\n",
    "crossCls[1,0] = myCl[:lmax,3] # ET\n",
    "crossCls[1,1] = myCl[:lmax,1] # EE\n"
   ]
  },
  {
   "cell_type": "code",
   "execution_count": null,
   "metadata": {
    "collapsed": true
   },
   "outputs": [],
   "source": []
  },
  {
   "cell_type": "code",
   "execution_count": null,
   "metadata": {
    "collapsed": true
   },
   "outputs": [],
   "source": []
  },
  {
   "cell_type": "code",
   "execution_count": null,
   "metadata": {
    "collapsed": true
   },
   "outputs": [],
   "source": []
  },
  {
   "cell_type": "code",
   "execution_count": null,
   "metadata": {
    "collapsed": true
   },
   "outputs": [],
   "source": []
  },
  {
   "cell_type": "code",
   "execution_count": null,
   "metadata": {
    "collapsed": true
   },
   "outputs": [],
   "source": []
  },
  {
   "cell_type": "code",
   "execution_count": null,
   "metadata": {
    "collapsed": true
   },
   "outputs": [],
   "source": []
  },
  {
   "cell_type": "code",
   "execution_count": null,
   "metadata": {
    "collapsed": false
   },
   "outputs": [],
   "source": [
    "print 'nCls, nCosParams, lmax'\n",
    "dClVecs_list[0].shape"
   ]
  },
  {
   "cell_type": "code",
   "execution_count": null,
   "metadata": {
    "collapsed": true
   },
   "outputs": [],
   "source": []
  },
  {
   "cell_type": "code",
   "execution_count": null,
   "metadata": {
    "collapsed": false
   },
   "outputs": [],
   "source": [
    "print paramList"
   ]
  },
  {
   "cell_type": "code",
   "execution_count": null,
   "metadata": {
    "collapsed": false
   },
   "outputs": [],
   "source": [
    "# pull mnu part out\n",
    "parIndex = 6\n",
    "mnu_tenth  = dClVecs_list[0][:,parIndex,:]\n",
    "mnu_half   = dClVecs_list[1][:,parIndex,:]\n",
    "mnu_nom    = dClVecs_list[2][:,parIndex,:]\n",
    "mnu_double = dClVecs_list[3][:,parIndex,:]\n",
    "mnu_decade = dClVecs_list[4][:,parIndex,:]\n",
    "\n",
    "# make ratios\n",
    "tenthToOne = mnu_tenth/mnu_nom\n",
    "halfToOne = mnu_half/mnu_nom\n",
    "doubleToOne = mnu_double/mnu_nom\n",
    "decadeToOne = mnu_decade/mnu_nom\n"
   ]
  },
  {
   "cell_type": "code",
   "execution_count": null,
   "metadata": {
    "collapsed": false
   },
   "outputs": [],
   "source": [
    "# select observable\n",
    "#obsNum = 0 # TT\n",
    "#obsNum = 1 # TE\n",
    "obsNum = 2 # EE\n",
    "\n",
    "%matplotlib notebook\n",
    "plt.plot(mnu_tenth[obsNum],label='one tenth')\n",
    "plt.plot(mnu_half[obsNum],label='one half')\n",
    "plt.plot(mnu_nom[obsNum],label='nominal')\n",
    "plt.plot(mnu_double[obsNum],label='double')\n",
    "plt.plot(mnu_decade[obsNum],label='decuple')\n",
    "#plt.legend(loc='upper right') #TT, TE\n",
    "plt.legend(loc='lower left') #EE\n",
    "plt.title('dCl^EE / dmnu at CAMB accuracyBoost=3')\n",
    "#plt.ylim((-1.5e-10,1.5e-10)) #TT\n",
    "#plt.ylim((-0.2e-11,0.2e-11)) #TT\n",
    "#plt.ylim((-1.5e-11,1.5e-11)) #TE\n",
    "#plt.ylim((-0.8e-11,0.8e-11)) #TE\n",
    "#plt.ylim((-1e-12,0.2e-12)) #EE\n",
    "#plt.ylim((-0.1e-12,0.05e-12)) #EE\n",
    "plt.show()\n"
   ]
  },
  {
   "cell_type": "code",
   "execution_count": null,
   "metadata": {
    "collapsed": true
   },
   "outputs": [],
   "source": []
  },
  {
   "cell_type": "markdown",
   "metadata": {},
   "source": [
    "# I don't need the rest of this for checking dClVecs"
   ]
  },
  {
   "cell_type": "code",
   "execution_count": null,
   "metadata": {
    "collapsed": false
   },
   "outputs": [],
   "source": [
    "# more code from FisherMatrix.__init__\n",
    "# create covariance matrix\n",
    "print 'building covariance matrix... '\n",
    "\n",
    "nCls = nMaps*(nMaps+1)/2 # This way removes redundancies, eg C_l^kg = C_l^gk\n",
    "#covar = np.zeros((nCls,nCls,lmax+51))\n",
    "#ells = np.arange(lmax+51)\n",
    "covar = np.zeros((nCls,nCls,lmax))\n",
    "ells = np.arange(lmax)\n",
    "\n",
    "# create obsList to contain base nMaps representation of data label\n",
    "obsList = np.zeros(nCls)\n",
    "\n",
    "for map1 in range(nMaps):\n",
    "    print 'starting covariance set ',map1+1,' of ',nMaps,'... '\n",
    "    for map2 in range(map1, nMaps):\n",
    "        covIndex1 = map1*nMaps+map2-map1*(map1+1)/2     # shortens the array\n",
    "        obsList[covIndex1] = map1*nMaps+map2       # base nMaps representation\n",
    "        for map3 in range(nMaps):\n",
    "          for map4 in range(map3, nMaps):\n",
    "            covIndex2 = map3*nMaps+map4-map3*(map3+1)/2 # shortens the array\n",
    "            if covIndex1 <= covIndex2:\n",
    "              covar[covIndex1,covIndex2] = (crossCls[map1,map3]*crossCls[map2,map4] + \\\n",
    "                                            crossCls[map1,map4]*crossCls[map2,map3] )/(2.*ells+1)\n",
    "            else:                                       # avoid double calculation\n",
    "              covar[covIndex1,covIndex2] = covar[covIndex2,covIndex1]\n",
    "\n",
    "# invert covariance matrix\n",
    "print 'inverting covariance matrix... '\n",
    "# transpose of inverse of transpose is inverse of original\n",
    "# need to do this to get indices in order that linalg.inv wants them\n",
    "invCov = np.transpose(np.linalg.inv(np.transpose(covar[:,:,2:])))\n",
    "ells = ells[2:]\n",
    "print 'lmin = ',ells[0]\n",
    "print 'obsList: ',obsList"
   ]
  },
  {
   "cell_type": "code",
   "execution_count": null,
   "metadata": {
    "collapsed": true
   },
   "outputs": [],
   "source": []
  },
  {
   "cell_type": "markdown",
   "metadata": {
    "collapsed": true
   },
   "source": [
    "# select a dClVecs and deltaP for use on the rest of the notebook\n"
   ]
  },
  {
   "cell_type": "code",
   "execution_count": null,
   "metadata": {
    "collapsed": true
   },
   "outputs": [],
   "source": [
    "# nominal:\n",
    "#deltaP = np.array([0.0008,0.0030,0.0050e-2,0.1e-9,0.010,0.020,0.020]) #last one in eV\n",
    "deltaNum = 0\n",
    "deltaP = deltaP_list[deltaNum]\n",
    "dClVecs = dClVecs_list[deltaNum]"
   ]
  },
  {
   "cell_type": "code",
   "execution_count": null,
   "metadata": {
    "collapsed": false
   },
   "outputs": [],
   "source": [
    "#Build Fisher matrix\n",
    "lmin = 50 #to match Allison et. al. and justify no ISW effect\n",
    "#multply vectorT,invcov,vector and add up\n",
    "print 'building Fisher matrix from components...'\n",
    "print 'invCov.shape: ',invCov.shape,', dClVecs.shape: ',dClVecs.shape\n",
    "Fij = np.zeros((nCosParams,nCosParams)) # indices match those in paramList\n",
    "for i in range(nCosParams):\n",
    "    print 'starting bin set ',i+1,' of ',nCosParams\n",
    "    dClVec_i = dClVecs[:,i,:] # shape (nCls,nElls)\n",
    "    for j in range(nCosParams):\n",
    "        dClVec_j = dClVecs[:,j,:] # shape (nCls,nElls)\n",
    "        # ugh.  don't like nested loops in Python... but easier to program...\n",
    "        for ell in range(lmin-2,lmax-2):\n",
    "          myCov = invCov[:,:,ell]  #note invCov has no ell=0,1 but dClVecs do\n",
    "          fij = np.dot(dClVec_i[:,ell+2],np.dot(myCov,dClVec_j[:,ell+2]))\n",
    "          Fij[i,j] += fij\n",
    "    \n",
    "print 'creation of Fisher Matrix complete!\\n'\n",
    "\n",
    "# Have a look at it\n",
    "print 'Fij:'\n",
    "print Fij\n",
    "# check eigenvalues\n",
    "w,v = np.linalg.eigh(np.linalg.inv(Fij))\n",
    "print 'eigenvalues of F_ij^-1:'\n",
    "print w"
   ]
  },
  {
   "cell_type": "code",
   "execution_count": null,
   "metadata": {
    "collapsed": true
   },
   "outputs": [],
   "source": []
  },
  {
   "cell_type": "code",
   "execution_count": null,
   "metadata": {
    "collapsed": false
   },
   "outputs": [],
   "source": [
    "# add prior on Tau for comparison with Kevin's result\n",
    "tauNum = 5\n",
    "tauPrior = 1/0.02**2\n",
    "print Fij[tauNum,tauNum]\n",
    "Fij[tauNum,tauNum] = Fij[tauNum,tauNum] + tauPrior \n",
    "print Fij[tauNum,tauNum]"
   ]
  },
  {
   "cell_type": "code",
   "execution_count": null,
   "metadata": {
    "collapsed": true
   },
   "outputs": [],
   "source": []
  },
  {
   "cell_type": "code",
   "execution_count": null,
   "metadata": {
    "collapsed": true
   },
   "outputs": [],
   "source": []
  },
  {
   "cell_type": "markdown",
   "metadata": {},
   "source": [
    "# Check out these uncertainties!"
   ]
  },
  {
   "cell_type": "code",
   "execution_count": null,
   "metadata": {
    "collapsed": false
   },
   "outputs": [],
   "source": [
    "sigmas = np.sqrt(np.diag(np.linalg.inv(Fij)))\n",
    "for i,p in enumerate(paramList):\n",
    "    print p, sigmas[i]"
   ]
  },
  {
   "cell_type": "code",
   "execution_count": null,
   "metadata": {
    "collapsed": true
   },
   "outputs": [],
   "source": []
  },
  {
   "cell_type": "code",
   "execution_count": null,
   "metadata": {
    "collapsed": false
   },
   "outputs": [],
   "source": [
    "# get lensing and galaxy Fisher matrix to add\n",
    "import FisherCl2 as fcl\n",
    "import pickle\n",
    "filehandler2 = open('Fisher_4_4.obj', 'r') \n",
    "Fobj = pickle.load(filehandler2) \n",
    "\n",
    "print Fobj.obsList\n",
    "print Fobj.paramList"
   ]
  },
  {
   "cell_type": "code",
   "execution_count": null,
   "metadata": {
    "collapsed": true
   },
   "outputs": [],
   "source": [
    "# remake the kappa-g Fij with lmin=50 to match the other Fij\n",
    "# make comparison against version with higher lmin\n",
    "# copy some code from FisherMatrix.__init__\n",
    "\n",
    "def makeFisher(Fobj,lmin):\n",
    "    \"\"\" code copied from FisherMatrix.__init__\n",
    "        Inputs:\n",
    "            Fobj:\n",
    "            lmin: minimum ell to make Fij\n",
    "    \"\"\"\n",
    "    #Build Fisher matrix\n",
    "    #multply vectorT,invcov,vector and add up\n",
    "    print 'building Fisher matrix from components...'\n",
    "    print 'invCov.shape: ',Fobj.invCov.shape,', dClVecs.shape: ',Fobj.dClVecs.shape\n",
    "    nParams = Fobj.nParams\n",
    "    lmax = 2000 #Fobj.lmax\n",
    "    Fij = np.zeros((nParams,nParams)) # indices match those in paramList\n",
    "    for i in range(nParams):\n",
    "      print 'starting bin set ',i+1,' of ',nParams\n",
    "      dClVec_i = Fobj.dClVecs[:,i,:] # shape (nCls,nElls)\n",
    "      for j in range(nParams):\n",
    "        dClVec_j = Fobj.dClVecs[:,j,:] # shape (nCls,nElls)\n",
    "        # ugh.  don't like nested loops in Python... but easier to program...\n",
    "        for ell in range(lmin-2,lmax-1): #-2 to match the indices\n",
    "          myCov = Fobj.invCov[:,:,ell]\n",
    "          fij = np.dot(dClVec_i[:,ell],np.dot(myCov,dClVec_j[:,ell]))\n",
    "          \n",
    "          Fij[i,j] += fij\n",
    "    \n",
    "    print 'creation of Fisher Matrix complete!\\n'\n",
    "    return Fij"
   ]
  },
  {
   "cell_type": "code",
   "execution_count": null,
   "metadata": {
    "collapsed": false
   },
   "outputs": [],
   "source": [
    "Fij2 = makeFisher(Fobj,50)\n",
    "sigmas2 = np.sqrt(np.diag(np.linalg.inv(Fij2)))"
   ]
  },
  {
   "cell_type": "code",
   "execution_count": null,
   "metadata": {
    "collapsed": false
   },
   "outputs": [],
   "source": [
    "print 'comparison of T,E sigmas with kappa,g sigmas:'\n",
    "#sigmas2 = Fobj.getSigmas()\n",
    "for i,p in enumerate(paramList):\n",
    "    print p, sigmas[i],sigmas2[i]"
   ]
  },
  {
   "cell_type": "markdown",
   "metadata": {},
   "source": [
    "# Combine the Fisher matrices and see smaller sigmas"
   ]
  },
  {
   "cell_type": "code",
   "execution_count": null,
   "metadata": {
    "collapsed": false
   },
   "outputs": [],
   "source": [
    "print 'comparison of sigma(T,E), sigma(kappa,g), and sigma(T,E,kappa,g):\\n'\n",
    "#FijSum = Fij+Fobj.Fij[:nCosParams,:nCosParams]  #oops, that was the lmin=2 version\n",
    "FijSum = Fij+Fij2[:nCosParams,:nCosParams]   # this one has lmin=50\n",
    "#print FijSum\n",
    "#print FijSum-Fij\n",
    "#print FijSum-Fij2[:nCosParams,:nCosParams]\n",
    "sigmas3 = np.sqrt(np.diag(np.linalg.inv(FijSum)))\n",
    "#for i,p in enumerate(paramList):\n",
    "#    print p, sigmas[i],sigmas2[i],sigmas3[i]\n",
    "    \n",
    "from prettytable import PrettyTable\n",
    "t = PrettyTable(['Parameter', 'sigma(T,E)','sigma(k,g)','sigma(T,E,k,g)'])\n",
    "for i,p in enumerate(paramList):\n",
    "    t.add_row([p,\"%5.3g\" % sigmas[i],\"%5.3g\" % sigmas2[i],\"%5.3g\" % sigmas3[i]])\n",
    "print t"
   ]
  },
  {
   "cell_type": "code",
   "execution_count": null,
   "metadata": {
    "collapsed": false
   },
   "outputs": [],
   "source": [
    "# the previous result fixed the biases for the combined sigmas.\n",
    "# do a different version without fixing them\n",
    "print 'comparison of sigma(T,E), sigma(kappa,g), and sigma(T,E,kappa,g):\\n'\n",
    "FijSum2 = Fij2.copy()\n",
    "#print FijSum2\n",
    "FijSum2[:nCosParams,:nCosParams] = FijSum2[:nCosParams,:nCosParams] + Fij\n",
    "#print Fij2\n",
    "#print FijSum2\n",
    "#print FijSum2-Fij2\n",
    "\n",
    "sigmas4 = np.append(sigmas,[0,0,0,0])\n",
    "#FijSum = Fij+Fobj.Fij[:nCosParams,:nCosParams]\n",
    "sigmas5 = np.sqrt(np.diag(np.linalg.inv(FijSum2)))\n",
    "#for i,p in enumerate(Fobj.paramList):\n",
    "#    print p, sigmas4[i],sigmas2[i],sigmas5[i]\n",
    "    \n",
    "from prettytable import PrettyTable\n",
    "t = PrettyTable(['Parameter', 'sigma(T,E)','sigma(k,g)','sigma(T,E,k,g)'])\n",
    "for i,p in enumerate(Fobj.paramList):\n",
    "    t.add_row([p,\"%5.3g\" % sigmas4[i],\"%5.3g\" % sigmas2[i],\"%5.3g\" % sigmas5[i]])\n",
    "print t"
   ]
  },
  {
   "cell_type": "code",
   "execution_count": null,
   "metadata": {
    "collapsed": true
   },
   "outputs": [],
   "source": []
  },
  {
   "cell_type": "code",
   "execution_count": null,
   "metadata": {
    "collapsed": true
   },
   "outputs": [],
   "source": []
  },
  {
   "cell_type": "markdown",
   "metadata": {},
   "source": [
    "To add:\n",
    "    switch to halofit\n",
    "    shot noise\n",
    "    lensing recon noise\n",
    "    DE params\n",
    "    Improved bias model  (important but hard; not for 'first paper')\n",
    "    Inverted nu hiearchy: Is there any sensitivity beyond Sigma mnu (transition region)\n",
    "        (drawing: power stepping down for each species instead of one step down with ell)\n",
    "        Ll: guesses probably not"
   ]
  },
  {
   "cell_type": "markdown",
   "metadata": {},
   "source": [
    "priorities: byeonhee,kevin comparisons,\n",
    "    include DE\n",
    "    inverted nu hier\n",
    "    halofit\n",
    "    noise"
   ]
  },
  {
   "cell_type": "code",
   "execution_count": null,
   "metadata": {
    "collapsed": true
   },
   "outputs": [],
   "source": [
    "# compare to Kevin's result  (reportedly from unlensed spectra; \n",
    "#   Lloyd wanted him to double check that due to the small size of mnu)\n",
    "Ksigmas = {\n",
    "    'As' : 8.36787928685e-11,\n",
    "    'cosmomc_theta' : 1.44400712682e-06,\n",
    "    'mnu' : 0.220088883622,\n",
    "    'ns' : 0.00193696953962,\n",
    "    'ombh2' : 4.50012028332e-05,\n",
    "    'omch2' : 0.000630720967738,\n",
    "    'tau' : 0.0196834629721\n",
    "}\n",
    "\n",
    "# Kevin has more results for me, using my fiducial parameter values and step sizes:\n",
    "# Using lensed spectra:\n",
    "Ksigmas2 = {\n",
    "    'As' : 7.16774197011e-11,\n",
    "    'cosmomc_theta' : 1.09586297761e-06,\n",
    "    'mnu' : 0.146118415833,\n",
    "    'ns' : 0.00177830934705,\n",
    "    'ombh2' : 4.070676724e-05,\n",
    "    'omch2' : 0.000576393112142,\n",
    "    'tau' : 0.0171234498358\n",
    "}\n",
    "\n",
    "# Using unlensed spectra:\n",
    "Ksigmas3 = {\n",
    "    'As' : 8.33407946912e-11,\n",
    "    'cosmomc_theta' : 1.69789979871e-06,\n",
    "    'mnu' : 0.285834557983,\n",
    "    'ns' : 0.00176069831712,\n",
    "    'ombh2' : 4.1390440571e-05,\n",
    "    'omch2' : 0.000566243441739,\n",
    "    'tau' : 0.0195975583329\n",
    "}"
   ]
  },
  {
   "cell_type": "code",
   "execution_count": null,
   "metadata": {
    "collapsed": true
   },
   "outputs": [],
   "source": []
  },
  {
   "cell_type": "code",
   "execution_count": null,
   "metadata": {
    "collapsed": false
   },
   "outputs": [],
   "source": [
    "from prettytable import PrettyTable\n",
    "t = PrettyTable(['Parameter', 'sigma_Z(T,E)','sigma_K(T,E)','percent diff.'])\n",
    "for i,p in enumerate(paramList):\n",
    "    Zi = sigmas[i]\n",
    "    Ki = Ksigmas[paramList[i]]\n",
    "    diff = (Ki-Zi)/Zi *100\n",
    "    t.add_row([p,\"%5.3g\" % Zi,\"%5.3g\" % Ki, \"%5.3g\" % diff ] )\n",
    "print t"
   ]
  },
  {
   "cell_type": "code",
   "execution_count": null,
   "metadata": {
    "collapsed": false
   },
   "outputs": [],
   "source": [
    "print deltaP\n"
   ]
  },
  {
   "cell_type": "code",
   "execution_count": null,
   "metadata": {
    "collapsed": true
   },
   "outputs": [],
   "source": []
  },
  {
   "cell_type": "code",
   "execution_count": null,
   "metadata": {
    "collapsed": false
   },
   "outputs": [],
   "source": [
    "# check out Kevin's pickle\n",
    "# oops, doesn't load in python 2.  Need to re-save as python 2 version.\n",
    "#filehandler3 = open('test_cov_for_z.pkl', 'r') \n",
    "#Kdict = pickle.load(filehandler3) "
   ]
  },
  {
   "cell_type": "code",
   "execution_count": null,
   "metadata": {
    "collapsed": true
   },
   "outputs": [],
   "source": []
  }
 ],
 "metadata": {
  "kernelspec": {
   "display_name": "Python 2",
   "language": "python",
   "name": "python2"
  }
 },
 "nbformat": 4,
 "nbformat_minor": 0
}
