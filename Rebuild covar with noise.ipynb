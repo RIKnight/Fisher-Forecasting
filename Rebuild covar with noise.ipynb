{
 "cells": [
  {
   "cell_type": "markdown",
   "metadata": {},
   "source": [
    "# Rebuild a noise-free covariance matrix to include noise"
   ]
  },
  {
   "cell_type": "code",
   "execution_count": 16,
   "metadata": {},
   "outputs": [],
   "source": [
    "import crosspower as cp\n",
    "import FisherCl as fcl # branch quickCl\n",
    "import noiseCl as ncl\n",
    "#import camb\n",
    "import os\n",
    "\n",
    "# set plotting to be in the notebook instead of its own qt window\n",
    "%matplotlib inline"
   ]
  },
  {
   "cell_type": "code",
   "execution_count": null,
   "metadata": {},
   "outputs": [],
   "source": []
  },
  {
   "cell_type": "markdown",
   "metadata": {},
   "source": [
    "# Load a Noise-Free k,g + T,E Fisher Matrix"
   ]
  },
  {
   "cell_type": "code",
   "execution_count": 17,
   "metadata": {},
   "outputs": [
    {
     "name": "stdout",
     "output_type": "stream",
     "text": [
      "[ 0.  1.  2.  3.  4.  5.  6.  8.  9. 10. 11. 12. 13. 16. 17. 18. 19. 20.\n",
      " 24. 25. 26. 27. 32. 33. 34. 40. 41. 48.]\n",
      "['k,k', 'k,g1', 'k,g2', 'k,g3', 'k,g4', 'k,g5', 'k,g6', 'g1,g1', 'g1,g2', 'g1,g3', 'g1,g4', 'g1,g5', 'g1,g6', 'g2,g2', 'g2,g3', 'g2,g4', 'g2,g5', 'g2,g6', 'g3,g3', 'g3,g4', 'g3,g5', 'g3,g6', 'g4,g4', 'g4,g5', 'g4,g6', 'g5,g5', 'g5,g6', 'g6,g6']\n",
      "['ombh2', 'omch2', 'cosmomc_theta', 'As', 'ns', 'tau', 'mnu', 'wa', 'w', 'bin1', 'bin2', 'bin3', 'bin4', 'bin5', 'bin6']\n",
      "[0. 1. 3.]\n",
      "['TT', 'TE', 'EE']\n",
      "(14, 14)\n",
      "(8, 8)\n",
      "15\n",
      "9\n"
     ]
    }
   ],
   "source": [
    "# load saved Fobj\n",
    "# get lensing and galaxy Fisher matrix to add\n",
    "\n",
    "import FisherCl as fcl\n",
    "import noiseCl as ncl\n",
    "import crosspower as cp\n",
    "import pickle\n",
    "\n",
    "#filehandler = open('Fisher_7_6X4_w2_wa.obj','r') # AccuracyBoost=3, lmax=3000, lmaxP=5000, nz=3e5; nonlinear=False,\n",
    "#filehandler = open('Fisher_7_6X4_w2.obj','r') # AccuracyBoost=3, lmax=3000, lmaxP=5000, nz=3e5; nonlinear=False,\n",
    "#filehandler = open('Fisher_7_6X4.obj','r') # AccuracyBoost=3, lmax=3000, lmaxP=5000, nz=3e5; nonlinear=False,\n",
    "#neutrino_hierarchy = 'normal', usePrimaryCMB = True; from FisherCl branch quickCl\n",
    "# kludge for this one: told cp.getDNDZinterp to use modelDNDZ3; set cp.tophat beesBins=True\n",
    "# biasByBin = False (uses sigma(b)/b), dw = 0.005\n",
    "\n",
    "filehandler = open('Fisher_7_6X2_w2_wa.obj','r') # AccuracyBoost=3, lmax=3000, lmaxP=5000, nz=3e5; nonlinear=True,\n",
    "#filehandler = open('Fisher_7_6X2_w2.obj','r') # AccuracyBoost=3, lmax=3000, lmaxP=5000, nz=3e5; nonlinear=True,\n",
    "#filehandler = open('Fisher_7_6X2.obj','r') # AccuracyBoost=3, lmax=3000, lmaxP=5000, nz=3e5; nonlinear=True,\n",
    "#neutrino_hierarchy = 'normal', usePrimaryCMB = True; from FisherCl branch quickCl\n",
    "# kludge for this one: told cp.getDNDZinterp to use modelDNDZ3; set cp.tophat beesBins=True\n",
    "# biasByBin = False (uses sigma(b)/b), dw = 0.005\n",
    "\n",
    "# this one has TE polarazation to l=5000, but only one galaxy bin\n",
    "#filehandler = open('Fisher_4_1Y.obj','r') # AccuracyBoost=3, lmax=3000, lmaxP=5000; nz=3e5; nonlinear=True,\n",
    "#neutrino_hierarchy = 'normal', usePrimaryCMB = True; from FisherCl branch quickCl\n",
    "# this one used fiducial params and values to match CMB-S4 Science book verification table 8.1\n",
    "\n",
    "Fobj = pickle.load(filehandler) \n",
    "\n",
    "\n",
    "lmin = Fobj.lmin\n",
    "lmax = Fobj.lmax\n",
    "nMaps = Fobj.nBins + 1\n",
    "nParams = Fobj.nParams\n",
    "nCosParams = Fobj.nParams - Fobj.nBins\n",
    "ells = Fobj.ells\n",
    "obsNames = Fobj.obsNames\n",
    "paramList = Fobj.paramList\n",
    "\n",
    "print Fobj.obsList\n",
    "print Fobj.obsNames\n",
    "print Fobj.paramList\n",
    "print Fobj.obsListP\n",
    "print Fobj.obsNamesP\n",
    "\n",
    "print Fobj.Fij.shape\n",
    "print Fobj.FijTE.shape\n",
    "print Fobj.nParams\n",
    "print Fobj.nCosParams\n",
    "\n",
    "#FijTE0 = Fobj.FijTE\n",
    "#invCovP = Fobj.invCovP"
   ]
  },
  {
   "cell_type": "code",
   "execution_count": null,
   "metadata": {},
   "outputs": [],
   "source": []
  },
  {
   "cell_type": "code",
   "execution_count": 18,
   "metadata": {},
   "outputs": [
    {
     "name": "stdout",
     "output_type": "stream",
     "text": [
      "[2.000e+00 3.000e+00 4.000e+00 ... 2.998e+03 2.999e+03 3.000e+03]\n",
      "[   2    3    4 ... 4998 4999 5000]\n"
     ]
    }
   ],
   "source": [
    "print Fobj.ells\n",
    "print Fobj.ellsP"
   ]
  },
  {
   "cell_type": "code",
   "execution_count": 19,
   "metadata": {},
   "outputs": [],
   "source": [
    "# define ranges for ell, ellP in Fisher matrices\n",
    "myLmin = 50; myLmax=3000\n",
    "myLminP = 50; myLmaxP=5000"
   ]
  },
  {
   "cell_type": "code",
   "execution_count": 20,
   "metadata": {},
   "outputs": [
    {
     "name": "stdout",
     "output_type": "stream",
     "text": [
      "Clkk shape:  (2999,)\n",
      "dClkk shape:  (15, 2999)\n",
      "parameters:  ['ombh2', 'omch2', 'cosmomc_theta', 'As', 'ns', 'tau', 'mnu', 'wa', 'w']\n",
      "kappa-only, noise-free Fisher matrix:\n",
      "[[ 3.36597600e+09 -2.97013769e+09  4.81306485e+10 -7.25322080e+16\n",
      "  -1.78380957e+08  6.85316634e+04  3.09078162e+07  6.65224434e+07\n",
      "   7.46243119e+07]\n",
      " [-2.97013769e+09  2.62099272e+09 -4.24744577e+10  6.40146781e+16\n",
      "   1.57379040e+08 -6.04956725e+04 -2.72783892e+07 -5.87062893e+07\n",
      "  -6.58571766e+07]\n",
      " [ 4.81306485e+10 -4.24744577e+10  6.88435671e+11 -1.03795915e+18\n",
      "  -2.54440217e+09  9.85732071e+05  4.42219892e+08  9.51565863e+08\n",
      "   1.06753035e+09]\n",
      " [-7.25322080e+16  6.40146781e+16 -1.03795915e+18  1.56650847e+24\n",
      "   3.81307835e+15 -1.50511451e+12 -6.67138841e+14 -1.43485079e+15\n",
      "  -1.60991427e+15]\n",
      " [-1.78380957e+08  1.57379040e+08 -2.54440217e+09  3.81307835e+15\n",
      "   9.79398669e+06 -3.31945818e+03 -1.62966540e+06 -3.51482806e+06\n",
      "  -3.94005074e+06]\n",
      " [ 6.85316634e+04 -6.04956725e+04  9.85732071e+05 -1.50511451e+12\n",
      "  -3.31945818e+03  1.68203493e+00  6.36957584e+02  1.36410651e+03\n",
      "   1.53285539e+03]\n",
      " [ 3.09078162e+07 -2.72783892e+07  4.42219892e+08 -6.67138841e+14\n",
      "  -1.62966540e+06  6.36957584e+02  2.84194075e+05  6.11295236e+05\n",
      "   6.85840350e+05]\n",
      " [ 6.65224434e+07 -5.87062893e+07  9.51565863e+08 -1.43485079e+15\n",
      "  -3.51482806e+06  1.36410651e+03  6.11295236e+05  1.31529131e+06\n",
      "   1.47560440e+06]\n",
      " [ 7.46243119e+07 -6.58571766e+07  1.06753035e+09 -1.60991427e+15\n",
      "  -3.94005074e+06  1.53285539e+03  6.85840350e+05  1.47560440e+06\n",
      "   1.65548570e+06]]\n"
     ]
    }
   ],
   "source": [
    "# make a noise-free kk-only Fisher matrix\n",
    "Clkk = Fobj.crossCls[0,0]\n",
    "dClkk = Fobj.dClVecs[0]\n",
    "print 'Clkk shape: ',Clkk.shape\n",
    "print 'dClkk shape: ',dClkk.shape\n",
    "cov_kk = 2*Clkk**2 / (2*ells+1)\n",
    "Fij_kk = np.zeros((nCosParams,nCosParams))\n",
    "minEllInd = myLmin-lmin  # eg. 50-2\n",
    "for pNum1 in range(nCosParams):\n",
    "    for pNum2 in range(pNum1,nCosParams):\n",
    "        # the next line does the summation over ell\n",
    "        Fij_kk[pNum1,pNum2] = np.sum(dClkk[pNum1,minEllInd:]*dClkk[pNum2,minEllInd:]/cov_kk[minEllInd:])\n",
    "        Fij_kk[pNum2,pNum1] = Fij_kk[pNum1,pNum2]\n",
    "print 'parameters: ',Fobj.paramList[:nCosParams]\n",
    "print 'kappa-only, noise-free Fisher matrix:'\n",
    "print Fij_kk"
   ]
  },
  {
   "cell_type": "code",
   "execution_count": null,
   "metadata": {},
   "outputs": [],
   "source": []
  },
  {
   "cell_type": "code",
   "execution_count": null,
   "metadata": {},
   "outputs": [],
   "source": []
  },
  {
   "cell_type": "markdown",
   "metadata": {},
   "source": [
    "# Add noise to kg, k and TE covariance matrices"
   ]
  },
  {
   "cell_type": "code",
   "execution_count": 21,
   "metadata": {},
   "outputs": [
    {
     "name": "stdout",
     "output_type": "stream",
     "text": [
      "adjusting lmax for TT... \n",
      "adjusting lmax for TT... \n",
      "adjusting lmax for TT... \n",
      "adjusting lmax for TT... \n",
      "adjusting lmax for TT... \n",
      "adjusting lmax for TT... \n",
      "adjusting lmax for TT... \n",
      "adjusting lmax for TT... \n",
      "adjusting lmax for TT... \n",
      "adjusting lmax for TT... \n",
      "adjusting lmax for TT... \n",
      "adjusting lmax for TT... \n",
      "adjusting lmax for TT... \n",
      "adjusting lmax for TT... \n",
      "adjusting lmax for TT... \n",
      "adjusting lmax for TT... \n",
      "adjusting lmax for TT... \n",
      "adjusting lmax for TT... \n",
      "adjusting lmax for TT... \n",
      "adjusting lmax for TT... \n",
      "adjusting lmax for TT... \n",
      "adjusting lmax for TT... \n",
      "adjusting lmax for TT... \n",
      "adjusting lmax for TT... \n",
      "adjusting lmax for TT... \n",
      "adjusting lmax for TT... \n",
      "adjusting lmax for TT... \n",
      "adjusting lmax for TT... \n",
      "adjusting lmax for TT... \n",
      "adjusting lmax for TT... \n",
      "adjusting lmax for TT... \n",
      "adjusting lmax for TT... \n",
      "adjusting lmax for TT... \n",
      "adjusting lmax for TT... \n",
      "adjusting lmax for TT... \n",
      "adjusting lmax for TT... \n",
      "adjusting lmax for TT... \n",
      "adjusting lmax for TT... \n",
      "adjusting lmax for TT... \n",
      "adjusting lmax for TT... \n",
      "adjusting lmax for TT... \n",
      "adjusting lmax for TT... \n",
      "adjusting lmax for TT... \n",
      "adjusting lmax for TT... \n",
      "adjusting lmax for TT... \n",
      "adjusting lmax for TT... \n",
      "adjusting lmax for TT... \n",
      "adjusting lmax for TT... \n",
      "adjusting lmax for TT... \n",
      "adjusting lmax for TT... \n",
      "adjusting lmax for TT... \n",
      "adjusting lmax for TT... \n",
      "adjusting lmax for TT... \n",
      "adjusting lmax for TT... \n",
      "adjusting lmax for TT... \n",
      "adjusting lmax for TT... \n",
      "adjusting lmax for TT... \n",
      "adjusting lmax for TT... \n",
      "adjusting lmax for TT... \n",
      "adjusting lmax for TT... \n",
      "adjusting lmax for TT... \n",
      "adjusting lmax for TT... \n",
      "adjusting lmax for TT... \n",
      "adjusting lmax for TT... \n",
      "adjusting lmax for TT... \n",
      "adjusting lmax for TT... \n",
      "adjusting lmax for TT... \n",
      "adjusting lmax for TT... \n",
      "adjusting lmax for TT... \n",
      "adjusting lmax for TT... \n",
      "adjusting lmax for TT... \n",
      "adjusting lmax for TT... \n",
      "adjusting lmax for TT... \n",
      "adjusting lmax for TT... \n",
      "adjusting lmax for TT... \n",
      "adjusting lmax for TT... \n",
      "adjusting lmax for TT... \n",
      "adjusting lmax for TT... \n",
      "adjusting lmax for TT... \n",
      "adjusting lmax for TT... \n",
      "adjusting lmax for TT... \n",
      "done\n"
     ]
    }
   ],
   "source": [
    "# get copies of original version with lmin=50\n",
    "Fij_kg = Fobj.makeFisher(myLmin)\n",
    "Fij_TE = Fobj.makeFisher(myLminP,TE=True)\n",
    "print 'done'"
   ]
  },
  {
   "cell_type": "code",
   "execution_count": 22,
   "metadata": {},
   "outputs": [
    {
     "name": "stdout",
     "output_type": "stream",
     "text": [
      "creating noise arrays... \n",
      "getting (EB) lensing reconstruction noise... \n",
      "[00:00:00] calculating full-sky noise level for estimator of type <class 'quicklens.qest.lens.phi_EB'>\n",
      "getting galaxy shot noise... \n",
      "getting (primary CMB) detector noise...\n",
      "(7, 7, 2999)\n",
      "(2, 2, 4999)\n"
     ]
    },
    {
     "name": "stderr",
     "output_type": "stream",
     "text": [
      "/opt/local/Library/Frameworks/Python.framework/Versions/2.7/lib/python2.7/site-packages/ipykernel_launcher.py:64: ComplexWarning: Casting complex values to real discards the imaginary part\n"
     ]
    }
   ],
   "source": [
    "# copy some code from FisherCl\n",
    "# there are 3 places in this cell to edit for z0,beesBins,modelDNDZ3\n",
    "\n",
    "#z0 = 0.3 # for use with cp.modelDNDZ\n",
    "z0 = 0.5 # for use wiht cp.modelDNDZ3\n",
    "\n",
    "print 'creating noise arrays... '\n",
    "\n",
    "print 'getting (EB) lensing reconstruction noise... '\n",
    "# noise levels from a possible CMB-S4 design:\n",
    "nlev_t     = 1.   # temperature noise level, in uK.arcmin.\n",
    "nlev_p     = 1.414   # polarization noise level, in uK.arcmin.\n",
    "beam_fwhm  = 1.   # Gaussian beam full-width-at-half-maximum.\n",
    "\n",
    "#ells,EB_noise = ncl.getRecNoise(self.lmax,nlev_t,nlev_p,beam_fwhm)\n",
    "ellsQC,EB_noise = ncl.getRecNoise(lmax,nlev_t,nlev_p,beam_fwhm)\n",
    "\n",
    "# convert Nl^dd to Nl^kk\n",
    "# use Cl^kk = 1/4*[l*(l+1)]^2 * Cl^phiphi?\n",
    "# but d is in between k and phi, so...?\n",
    "# Scratch that.\n",
    "# Assume output of quicklens is Cl^phiphi\n",
    "#Nlkk = EB_noise * (ells*(ells+1)/2)**2\n",
    "Nlkk = EB_noise * (ellsQC*(ellsQC+1)/2)**2\n",
    "\n",
    "\n",
    "print 'getting galaxy shot noise... '\n",
    "# From Schaan et. al.: LSST n_source = 26/arcmin^2 for full survey\n",
    "#nbar = 26 # arcmin^-2\n",
    "nbar = 66 # 66 arcmin^-2 to match Bye's value\n",
    "\n",
    "# the selection of beesBins must be consistent with that which is selected in cp.tophat\n",
    "beesBins = True\n",
    "#beesBins = False\n",
    "if beesBins:\n",
    "    binEdges = [0.0,0.5,1.0,2.0,3.0,4.0,7.0]\n",
    "    nBins = 6\n",
    "else:\n",
    "    #binEdges = np.linspace(self.zmin,self.zmax,self.nBins+1)\n",
    "    #nBins = self.nBins\n",
    "    binEdges = np.linspace(Fobj.zmin,Fobj.zmax,Fobj.nBins+1)\n",
    "    nBins = Fobj.nBins\n",
    "    print 'binEdges: ',binEdges,', nBins: ',nBins\n",
    "\n",
    "# the selection of dndz function must be consistent with that which is selected in cp.getDNDZinterp\n",
    "# myDNDZ must be a function only of z\n",
    "#myDNDZ = lambda z: cp.modelDNDZ(z,z0)\n",
    "myDNDZ = lambda z: cp.modelDNDZ3(z,z0)\n",
    "\n",
    "N_gg = ncl.shotNoise(nbar,binEdges,myDNDZ=myDNDZ)\n",
    "\n",
    "\n",
    "\n",
    "# create noiseCls array to accompany crossCls: \n",
    "#  Nl^kk will be reconstruction noise\n",
    "#  Nl^gigi will be shot noise\n",
    "#  Nl^kg, Nl^gigj are zero because noise is uncorrelated\n",
    "\n",
    "#self.noiseCls = np.zeros(self.crossCls.shape)\n",
    "#self.noiseCls[0,0] = Nlkk[self.lmin:self.lmax+1]\n",
    "#for binNum in range(nBins):\n",
    "#    self.noiseCls[binNum+1,binNum+1] = N_gg[binNum]*np.ones(self.lmax-self.lmin+1)\n",
    "noiseCls = np.zeros(Fobj.crossCls.shape)\n",
    "noiseCls[0,0] = Nlkk[Fobj.lmin:Fobj.lmax+1]\n",
    "for binNum in range(nBins):\n",
    "    noiseCls[binNum+1,binNum+1] = N_gg[binNum]*np.ones(Fobj.lmax-Fobj.lmin+1)\n",
    "\n",
    "\n",
    "print 'getting (primary CMB) detector noise...'\n",
    "# CMBS4 v1\n",
    "fwhm = 1; ST = 1; SP = ST*1.414\n",
    "#noiseCMBS4_TT1 = ncl.noisePower(ST,ST,fwhm,self.ellsP)\n",
    "#noiseCMBS4_TP1 = ncl.noisePower(ST,SP,fwhm,self.ellsP)\n",
    "#noiseCMBS4_PP1 = ncl.noisePower(SP,SP,fwhm,self.ellsP)\n",
    "noiseCMBS4_TT1 = ncl.noisePower(ST,ST,fwhm,Fobj.ellsP)\n",
    "#noiseCMBS4_TP1 = ncl.noisePower(ST,SP,fwhm,Fobj.ellsP)\n",
    "noiseCMBS4_PP1 = ncl.noisePower(SP,SP,fwhm,Fobj.ellsP)\n",
    "\n",
    "# CMBS4 v2\n",
    "#fwhm = 2; ST = 1; SP = ST*1.414\n",
    "#noiseCMBS4_TT2 = ncl.noisePower(ST,ST,fwhm,self.ellsP)\n",
    "#noiseCMBS4_TP2 = ncl.noisePower(ST,SP,fwhm,self.ellsP)\n",
    "#noiseCMBS4_PP2 = ncl.noisePower(SP,SP,fwhm,self.ellsP)\n",
    "\n",
    "# set TE noise to zero\n",
    "noiseCMBS4_TP1 = np.zeros(Fobj.ellsP.__len__())\n",
    "\n",
    "# shape like crossCls\n",
    "noiseCls1 = np.array([[noiseCMBS4_TT1,noiseCMBS4_TP1],[noiseCMBS4_TP1,noiseCMBS4_PP1]])\n",
    "#noiseCls2 = np.array([[noiseCMBS4_TT2,noiseCMBS4_TP2],[noiseCMBS4_TP2,noiseCMBS4_PP2]])\n",
    "\n",
    "# pick one\n",
    "#self.noiseClsP = noiseCls1\n",
    "noiseClsP = noiseCls1\n",
    "\n",
    "print noiseCls.shape\n",
    "print noiseClsP.shape"
   ]
  },
  {
   "cell_type": "code",
   "execution_count": 23,
   "metadata": {},
   "outputs": [
    {
     "name": "stdout",
     "output_type": "stream",
     "text": [
      "[1.44053822e-08 1.15270707e-08 1.06745275e-08 ... 1.28079160e-07\n",
      " 1.28090978e-07 1.28102819e-07]\n",
      "[0. 0. 0. ... 0. 0. 0.]\n",
      "[0.07316074 0.07316074 0.07316074 ... 0.07316074 0.07316074 0.07316074]\n",
      "[8.46159577e-08 8.46159654e-08 8.46159758e-08 ... 1.23888050e-07\n",
      " 1.23906952e-07 1.23925861e-07]\n",
      "[0. 0. 0. ... 0. 0. 0.]\n",
      "[1.69180807e-07 1.69180823e-07 1.69180843e-07 ... 2.47701271e-07\n",
      " 2.47739064e-07 2.47776870e-07]\n"
     ]
    }
   ],
   "source": [
    "print noiseCls[0,0]\n",
    "print noiseCls[0,1]\n",
    "print noiseCls[1,1]\n",
    "\n",
    "print noiseClsP[0,0]\n",
    "print noiseClsP[0,1]\n",
    "print noiseClsP[1,1]"
   ]
  },
  {
   "cell_type": "code",
   "execution_count": null,
   "metadata": {},
   "outputs": [],
   "source": []
  },
  {
   "cell_type": "code",
   "execution_count": null,
   "metadata": {},
   "outputs": [],
   "source": []
  },
  {
   "cell_type": "code",
   "execution_count": 24,
   "metadata": {
    "scrolled": true
   },
   "outputs": [
    {
     "name": "stdout",
     "output_type": "stream",
     "text": [
      "starting covariance set  1  of  7 ... \n",
      "starting covariance set  2  of  7 ... \n",
      "starting covariance set  3  of  7 ... \n",
      "starting covariance set  4  of  7 ... \n",
      "starting covariance set  5  of  7 ... \n",
      "starting covariance set  6  of  7 ... \n",
      "starting covariance set  7  of  7 ... \n",
      "starting covariance set  1  of  2 ... \n",
      "starting covariance set  2  of  2 ... \n",
      "(28, 28, 2999)\n",
      "(3, 3, 4999)\n"
     ]
    }
   ],
   "source": [
    "# make covariance matrices with noise\n",
    "covar, invCov ,ells ,obsList  = Fobj.makeCovar(Fobj.crossCls ,noiseCls ,lmin,myLmax )\n",
    "covarP,invCovP,ellsP,obsListP = Fobj.makeCovar(Fobj.crossClsP,noiseClsP,lmin,myLmaxP)\n",
    "\n",
    "print invCov.shape\n",
    "print invCovP.shape"
   ]
  },
  {
   "cell_type": "code",
   "execution_count": null,
   "metadata": {},
   "outputs": [],
   "source": []
  },
  {
   "cell_type": "markdown",
   "metadata": {},
   "source": [
    "# Calculate kg, TE, k Fisher matrices with noise included"
   ]
  },
  {
   "cell_type": "code",
   "execution_count": 25,
   "metadata": {},
   "outputs": [
    {
     "name": "stdout",
     "output_type": "stream",
     "text": [
      "[   2    3    4 ... 2998 2999 3000]\n",
      "[   0    1    2 ... 2998 2999 3000]\n"
     ]
    }
   ],
   "source": [
    "# check ell ranges for kappa noise\n",
    "print ells\n",
    "print ellsQC"
   ]
  },
  {
   "cell_type": "code",
   "execution_count": 26,
   "metadata": {
    "scrolled": true
   },
   "outputs": [
    {
     "name": "stdout",
     "output_type": "stream",
     "text": [
      "Clkk shape:  (2999,)\n",
      "dClkk shape:  (15, 2999)\n",
      "parameters:  ['ombh2', 'omch2', 'cosmomc_theta', 'As', 'ns', 'tau', 'mnu', 'wa', 'w']\n",
      "kappa-only, noise-included Fisher matrix:\n",
      "[[ 1.03122666e+08 -9.14472644e+07  1.52908844e+09 -2.50693859e+15\n",
      "  -2.66796003e+06  4.68712913e+03  1.03431182e+06  2.13308694e+06\n",
      "   2.41679540e+06]\n",
      " [-9.14472644e+07  8.11941234e+07 -1.35945382e+09  2.23426825e+15\n",
      "   2.31346933e+06 -4.20459452e+03 -9.21349424e+05 -1.89747544e+06\n",
      "  -2.15076949e+06]\n",
      " [ 1.52908844e+09 -1.35945382e+09  2.27963880e+10 -3.75764362e+16\n",
      "  -3.75842182e+07  7.13138328e+04  1.54865824e+07  3.18381799e+07\n",
      "   3.61060034e+07]\n",
      " [-2.50693859e+15  2.23426825e+15 -3.75764362e+16  6.23577129e+22\n",
      "   5.74713376e+13 -1.20715874e+11 -2.56749025e+13 -5.25505077e+13\n",
      "  -5.96560569e+13]\n",
      " [-2.66796003e+06  2.31346933e+06 -3.75842182e+07  5.74713376e+13\n",
      "   1.10661811e+05 -8.30996789e+01 -2.39740649e+04 -5.17470108e+04\n",
      "  -5.80279032e+04]\n",
      " [ 4.68712913e+03 -4.20459452e+03  7.13138328e+04 -1.20715874e+11\n",
      "  -8.30996789e+01  2.48055126e-01  4.95610965e+01  1.00107084e+02\n",
      "   1.13971348e+02]\n",
      " [ 1.03431182e+06 -9.21349424e+05  1.54865824e+07 -2.56749025e+13\n",
      "  -2.39740649e+04  4.95610965e+01  1.05746560e+04  2.16533739e+04\n",
      "   2.45769367e+04]\n",
      " [ 2.13308694e+06 -1.89747544e+06  3.18381799e+07 -5.25505077e+13\n",
      "  -5.17470108e+04  1.00107084e+02  2.16533739e+04  4.44785811e+04\n",
      "   5.04516859e+04]\n",
      " [ 2.41679540e+06 -2.15076949e+06  3.61060034e+07 -5.96560569e+13\n",
      "  -5.80279032e+04  1.13971348e+02  2.45769367e+04  5.04516859e+04\n",
      "   5.72365538e+04]]\n"
     ]
    },
    {
     "name": "stderr",
     "output_type": "stream",
     "text": [
      "/opt/local/Library/Frameworks/Python.framework/Versions/2.7/lib/python2.7/site-packages/ipykernel_launcher.py:17: ComplexWarning: Casting complex values to real discards the imaginary part\n"
     ]
    }
   ],
   "source": [
    "# remake kk covar and fisher with noise\n",
    "\n",
    "#Clkk = Fobj.crossCls[0,0]\n",
    "#dClkk = Fobj.dClVecs[0]\n",
    "\n",
    "# add noise to crossCls for making covar\n",
    "Clkk2 = Fobj.crossCls[0,0]+Nlkk[lmin:]\n",
    "\n",
    "print 'Clkk shape: ',Clkk2.shape\n",
    "print 'dClkk shape: ',dClkk.shape\n",
    "cov_kk2 = 2*Clkk2**2 / (2*ells+1)\n",
    "Fij_kk2 = np.zeros((nCosParams,nCosParams))\n",
    "minEllInd = myLmin-lmin  # eg. 50-2\n",
    "for pNum1 in range(nCosParams):\n",
    "    for pNum2 in range(pNum1,nCosParams):\n",
    "        # the next line does the summation over ell\n",
    "        Fij_kk2[pNum1,pNum2] = np.sum(dClkk[pNum1,minEllInd:]*dClkk[pNum2,minEllInd:]/cov_kk2[minEllInd:])\n",
    "        Fij_kk2[pNum2,pNum1] = Fij_kk2[pNum1,pNum2]\n",
    "print 'parameters: ',Fobj.paramList[:nCosParams]\n",
    "print 'kappa-only, noise-included Fisher matrix:'\n",
    "print Fij_kk2"
   ]
  },
  {
   "cell_type": "code",
   "execution_count": null,
   "metadata": {},
   "outputs": [],
   "source": []
  },
  {
   "cell_type": "code",
   "execution_count": 27,
   "metadata": {},
   "outputs": [
    {
     "name": "stdout",
     "output_type": "stream",
     "text": [
      "adjusting lmax for TT... \n",
      "adjusting lmax for TT... \n",
      "adjusting lmax for TT... \n",
      "adjusting lmax for TT... \n",
      "adjusting lmax for TT... \n",
      "adjusting lmax for TT... \n",
      "adjusting lmax for TT... \n",
      "adjusting lmax for TT... \n",
      "adjusting lmax for TT... \n",
      "adjusting lmax for TT... \n",
      "adjusting lmax for TT... \n",
      "adjusting lmax for TT... \n",
      "adjusting lmax for TT... \n",
      "adjusting lmax for TT... \n",
      "adjusting lmax for TT... \n",
      "adjusting lmax for TT... \n",
      "adjusting lmax for TT... \n",
      "adjusting lmax for TT... \n",
      "adjusting lmax for TT... \n",
      "adjusting lmax for TT... \n",
      "adjusting lmax for TT... \n",
      "adjusting lmax for TT... \n",
      "adjusting lmax for TT... \n",
      "adjusting lmax for TT... \n",
      "adjusting lmax for TT... \n",
      "adjusting lmax for TT... \n",
      "adjusting lmax for TT... \n",
      "adjusting lmax for TT... \n",
      "adjusting lmax for TT... \n",
      "adjusting lmax for TT... \n",
      "adjusting lmax for TT... \n",
      "adjusting lmax for TT... \n",
      "adjusting lmax for TT... \n",
      "adjusting lmax for TT... \n",
      "adjusting lmax for TT... \n",
      "adjusting lmax for TT... \n",
      "adjusting lmax for TT... \n",
      "adjusting lmax for TT... \n",
      "adjusting lmax for TT... \n",
      "adjusting lmax for TT... \n",
      "adjusting lmax for TT... \n",
      "adjusting lmax for TT... \n",
      "adjusting lmax for TT... \n",
      "adjusting lmax for TT... \n",
      "adjusting lmax for TT... \n",
      "adjusting lmax for TT... \n",
      "adjusting lmax for TT... \n",
      "adjusting lmax for TT... \n",
      "adjusting lmax for TT... \n",
      "adjusting lmax for TT... \n",
      "adjusting lmax for TT... \n",
      "adjusting lmax for TT... \n",
      "adjusting lmax for TT... \n",
      "adjusting lmax for TT... \n",
      "adjusting lmax for TT... \n",
      "adjusting lmax for TT... \n",
      "adjusting lmax for TT... \n",
      "adjusting lmax for TT... \n",
      "adjusting lmax for TT... \n",
      "adjusting lmax for TT... \n",
      "adjusting lmax for TT... \n",
      "adjusting lmax for TT... \n",
      "adjusting lmax for TT... \n",
      "adjusting lmax for TT... \n",
      "adjusting lmax for TT... \n",
      "adjusting lmax for TT... \n",
      "adjusting lmax for TT... \n",
      "adjusting lmax for TT... \n",
      "adjusting lmax for TT... \n",
      "adjusting lmax for TT... \n",
      "adjusting lmax for TT... \n",
      "adjusting lmax for TT... \n",
      "adjusting lmax for TT... \n",
      "adjusting lmax for TT... \n",
      "adjusting lmax for TT... \n",
      "adjusting lmax for TT... \n",
      "adjusting lmax for TT... \n",
      "adjusting lmax for TT... \n",
      "adjusting lmax for TT... \n",
      "adjusting lmax for TT... \n",
      "adjusting lmax for TT... \n",
      "done.\n"
     ]
    }
   ],
   "source": [
    "# now the kg, TE ones\n",
    "\n",
    "# Insert into Fobj to get new Fij, FijTE\n",
    "Fobj.invCov  = invCov\n",
    "Fobj.invCovP = invCovP\n",
    "Fij_kg2 = Fobj.makeFisher(myLmin)\n",
    "Fij_TE2 = Fobj.makeFisher(myLminP,TE=True)\n",
    "\n",
    "# restore originals\n",
    "#Fobj.invCov  = invCov_o\n",
    "#Fobj.invCovP = invCovP_o\n",
    "print 'done.'"
   ]
  },
  {
   "cell_type": "code",
   "execution_count": 28,
   "metadata": {},
   "outputs": [
    {
     "data": {
      "text/plain": [
       "\"\\nprint 'kappa-galaxy Fisher matrix:'\\nprint Fij_kg2\\nprint 'T-E Fisher matrix:'\\nprint Fij_TE2\\n\""
      ]
     },
     "execution_count": 28,
     "metadata": {},
     "output_type": "execute_result"
    }
   ],
   "source": [
    "\"\"\"\n",
    "print 'kappa-galaxy Fisher matrix:'\n",
    "print Fij_kg2\n",
    "print 'T-E Fisher matrix:'\n",
    "print Fij_TE2\n",
    "\"\"\""
   ]
  },
  {
   "cell_type": "code",
   "execution_count": null,
   "metadata": {},
   "outputs": [],
   "source": []
  },
  {
   "cell_type": "markdown",
   "metadata": {},
   "source": [
    "# Save Fobj with noise included"
   ]
  },
  {
   "cell_type": "code",
   "execution_count": 29,
   "metadata": {},
   "outputs": [
    {
     "name": "stdout",
     "output_type": "stream",
     "text": [
      "adjusting lmax for TT... \n",
      "adjusting lmax for TT... \n",
      "adjusting lmax for TT... \n",
      "adjusting lmax for TT... \n",
      "adjusting lmax for TT... \n",
      "adjusting lmax for TT... \n",
      "adjusting lmax for TT... \n",
      "adjusting lmax for TT... \n",
      "adjusting lmax for TT... \n",
      "adjusting lmax for TT... \n",
      "adjusting lmax for TT... \n",
      "adjusting lmax for TT... \n",
      "adjusting lmax for TT... \n",
      "adjusting lmax for TT... \n",
      "adjusting lmax for TT... \n",
      "adjusting lmax for TT... \n",
      "adjusting lmax for TT... \n",
      "adjusting lmax for TT... \n",
      "adjusting lmax for TT... \n",
      "adjusting lmax for TT... \n",
      "adjusting lmax for TT... \n",
      "adjusting lmax for TT... \n",
      "adjusting lmax for TT... \n",
      "adjusting lmax for TT... \n",
      "adjusting lmax for TT... \n",
      "adjusting lmax for TT... \n",
      "adjusting lmax for TT... \n",
      "adjusting lmax for TT... \n",
      "adjusting lmax for TT... \n",
      "adjusting lmax for TT... \n",
      "adjusting lmax for TT... \n",
      "adjusting lmax for TT... \n",
      "adjusting lmax for TT... \n",
      "adjusting lmax for TT... \n",
      "adjusting lmax for TT... \n",
      "adjusting lmax for TT... \n",
      "adjusting lmax for TT... \n",
      "adjusting lmax for TT... \n",
      "adjusting lmax for TT... \n",
      "adjusting lmax for TT... \n",
      "adjusting lmax for TT... \n",
      "adjusting lmax for TT... \n",
      "adjusting lmax for TT... \n",
      "adjusting lmax for TT... \n",
      "adjusting lmax for TT... \n",
      "adjusting lmax for TT... \n",
      "adjusting lmax for TT... \n",
      "adjusting lmax for TT... \n",
      "adjusting lmax for TT... \n",
      "adjusting lmax for TT... \n",
      "adjusting lmax for TT... \n",
      "adjusting lmax for TT... \n",
      "adjusting lmax for TT... \n",
      "adjusting lmax for TT... \n",
      "adjusting lmax for TT... \n",
      "adjusting lmax for TT... \n",
      "adjusting lmax for TT... \n",
      "adjusting lmax for TT... \n",
      "adjusting lmax for TT... \n",
      "adjusting lmax for TT... \n",
      "adjusting lmax for TT... \n",
      "adjusting lmax for TT... \n",
      "adjusting lmax for TT... \n",
      "adjusting lmax for TT... \n",
      "adjusting lmax for TT... \n",
      "adjusting lmax for TT... \n",
      "adjusting lmax for TT... \n",
      "adjusting lmax for TT... \n",
      "adjusting lmax for TT... \n",
      "adjusting lmax for TT... \n",
      "adjusting lmax for TT... \n",
      "adjusting lmax for TT... \n",
      "adjusting lmax for TT... \n",
      "adjusting lmax for TT... \n",
      "adjusting lmax for TT... \n",
      "adjusting lmax for TT... \n",
      "adjusting lmax for TT... \n",
      "adjusting lmax for TT... \n",
      "adjusting lmax for TT... \n",
      "adjusting lmax for TT... \n",
      "adjusting lmax for TT... \n",
      "done.\n"
     ]
    }
   ],
   "source": [
    "Fobj_X2n = Fobj # is this a copy or an identity?  Don't know; hope it's a copy\n",
    "Fobj_X2n.covar = covar\n",
    "Fobj_X2n.covarP = covarP\n",
    "Fobj_X2n.invCov = invCov\n",
    "Fobj_X2n.invCovP = invCovP\n",
    "Fobj_X2n.noiseCls = noiseCls\n",
    "Fobj_X2n.noiseClsP = noiseClsP\n",
    "Fobj_X2n.Fij = Fobj_X2n.makeFisher(Fobj.lmin)\n",
    "Fobj_X2n.FijTE = Fobj_X2n.makeFisher(Fobj.lminP,TE=True)\n",
    "print 'done.'"
   ]
  },
  {
   "cell_type": "code",
   "execution_count": 30,
   "metadata": {},
   "outputs": [
    {
     "name": "stdout",
     "output_type": "stream",
     "text": [
      "done\n"
     ]
    }
   ],
   "source": [
    "#\"\"\"\n",
    "import pickle\n",
    "\n",
    "#filehandler = open('Fisher_7_6X4_w2_wan.obj','w') # AccuracyBoost=3, lmax=3000, lmaxP=5000, nz=3e5; nonlinear=False,\n",
    "#filehandler = open('Fisher_7_6X4_w2n.obj','w') # AccuracyBoost=3, lmax=3000, lmaxP=5000, nz=3e5; nonlinear=False,\n",
    "#filehandler = open('Fisher_7_6X4n.obj','w') # AccuracyBoost=3, lmax=3000, lmaxP=5000, nz=3e5; nonlinear=False,\n",
    "#neutrino_hierarchy = 'normal', usePrimaryCMB = True; from FisherCl branch quickCl\n",
    "# kludge for this one: told cp.getDNDZinterp to use modelDNDZ3; set cp.tophat beesBins=True\n",
    "# biasByBin = False (uses sigma(b)/b), dw = 0.005; X2n version has noise included\n",
    "\n",
    "filehandler = open('Fisher_7_6X2_w2_wan.obj','w') # AccuracyBoost=3, lmax=3000, lmaxP=5000, nz=3e5; nonlinear=True,\n",
    "#filehandler = open('Fisher_7_6X2_w2n.obj','w') # AccuracyBoost=3, lmax=3000, lmaxP=5000, nz=3e5; nonlinear=True,\n",
    "#filehandler = open('Fisher_7_6X2n.obj','w') # AccuracyBoost=3, lmax=3000, lmaxP=5000, nz=3e5; nonlinear=True,\n",
    "#neutrino_hierarchy = 'normal', usePrimaryCMB = True; from FisherCl branch quickCl\n",
    "# kludge for this one: told cp.getDNDZinterp to use modelDNDZ3; set cp.tophat beesBins=True\n",
    "# biasByBin = False (uses sigma(b)/b), dw = 0.005; X2n version has noise included\n",
    "\n",
    "# this one has TE polarazation to l=5000, but only one galaxy bin\n",
    "#filehandler = open('Fisher_4_1Yn.obj','w') # AccuracyBoost=3, lmax=3000, lmaxP=5000; nz=3e5; nonlinear=True,\n",
    "#neutrino_hierarchy = 'normal', usePrimaryCMB = True; from FisherCl branch quickCl\n",
    "# this one used fiducial params and values to match CMB-S4 Science book verification table 8.1\n",
    "\n",
    "pickle.dump(Fobj_X2n,filehandler)\n",
    "filehandler.close()\n",
    "print 'done'\n",
    "#\"\"\""
   ]
  },
  {
   "cell_type": "code",
   "execution_count": null,
   "metadata": {},
   "outputs": [],
   "source": []
  },
  {
   "cell_type": "code",
   "execution_count": null,
   "metadata": {},
   "outputs": [],
   "source": []
  },
  {
   "cell_type": "markdown",
   "metadata": {},
   "source": [
    "# Create combined Fisher matrices, apply fsky, and convert variables"
   ]
  },
  {
   "cell_type": "code",
   "execution_count": 19,
   "metadata": {},
   "outputs": [],
   "source": [
    "# create combined Fisher matrices\n",
    "Fij_kgTE2 = Fij_kg2.copy()\n",
    "Fij_kgTE2[:nCosParams,:nCosParams] += Fij_TE2\n",
    "\n",
    "Fij_kTE2 = Fij_kk2.copy()\n",
    "Fij_kTE2 += Fij_TE2"
   ]
  },
  {
   "cell_type": "code",
   "execution_count": 20,
   "metadata": {},
   "outputs": [],
   "source": [
    "# apply fsky\n",
    "fsky = 0.4\n",
    "Fij_kk2   *= fsky\n",
    "Fij_kg2   *= fsky\n",
    "Fij_TE2   *= fsky\n",
    "Fij_kgTE2 *= fsky\n",
    "Fij_kTE2  *= fsky"
   ]
  },
  {
   "cell_type": "code",
   "execution_count": 21,
   "metadata": {},
   "outputs": [],
   "source": [
    "# Convert As to 10^9*As\n",
    "#\"\"\"\n",
    "AsIndex = 3\n",
    "mult = 1e-9\n",
    "def rowColMult(array,index,mult):\n",
    "    array[index,:] *= mult\n",
    "    array[:,index] *= mult\n",
    "    return array\n",
    "    \n",
    "Fij_kk2   = rowColMult(Fij_kk2,AsIndex,mult)\n",
    "Fij_kg2   = rowColMult(Fij_kg2,AsIndex,mult)\n",
    "Fij_TE2   = rowColMult(Fij_TE2,AsIndex,mult)\n",
    "Fij_kgTE2 = rowColMult(Fij_kgTE2,AsIndex,mult)\n",
    "Fij_kTE2  = rowColMult(Fij_kTE2,AsIndex,mult)\n",
    "\n",
    "# adjust name\n",
    "paramList[AsIndex] = '10^9 As'\n",
    "#\"\"\""
   ]
  },
  {
   "cell_type": "code",
   "execution_count": 22,
   "metadata": {},
   "outputs": [],
   "source": [
    "# transform basis from cosmomc_theta to HO\n",
    "# use derivative results from \"Transform Fisher Matrix with Jacobian\"\n",
    "if nCosParams == 8:\n",
    "    dthetas = [-2.46099289e-02,  1.05373002e-02,  2.98929388e-05,  # dtheta_dombh2, dtheta_domch2, dtheta_dH0\n",
    "               0.00000000e+00,  0.00000000e+00,  0.00000000e+00,   # dtheta_dAs, dtheta_dns, dtheta_dtau\n",
    "               1.94175593e-04,  8.94926461e-04]                    # dtheta_mnu, dtheta_w\n",
    "elif nCosParams == 9:\n",
    "    dthetas = [-2.46099289e-02,  1.05373002e-02,  2.98929388e-05,  # dtheta_dombh2, dtheta_domch2, dtheta_dH0\n",
    "               0.00000000e+00,  0.00000000e+00,  0.00000000e+00,   # dtheta_dAs, dtheta_dns, dtheta_dtau\n",
    "               1.94175593e-04,  2.43189330e-04,  8.94926461e-04]   # dtheta_mnu, dtheta_wa, dtheta_w\n",
    "else:\n",
    "    print 'wtf'"
   ]
  },
  {
   "cell_type": "code",
   "execution_count": 23,
   "metadata": {},
   "outputs": [
    {
     "name": "stdout",
     "output_type": "stream",
     "text": [
      "['ombh2', 'omch2', 'H0', '10^9 As', 'ns', 'tau', 'mnu', 'w', 'bin1']\n"
     ]
    }
   ],
   "source": [
    "print Fobj.paramList"
   ]
  },
  {
   "cell_type": "code",
   "execution_count": 24,
   "metadata": {},
   "outputs": [
    {
     "name": "stdout",
     "output_type": "stream",
     "text": [
      "[[ 1.00000000e+00  0.00000000e+00  0.00000000e+00  0.00000000e+00\n",
      "   0.00000000e+00  0.00000000e+00  0.00000000e+00  0.00000000e+00]\n",
      " [ 0.00000000e+00  1.00000000e+00  0.00000000e+00  0.00000000e+00\n",
      "   0.00000000e+00  0.00000000e+00  0.00000000e+00  0.00000000e+00]\n",
      " [-2.46099289e-02  1.05373002e-02  2.98929388e-05  0.00000000e+00\n",
      "   0.00000000e+00  0.00000000e+00  1.94175593e-04  8.94926461e-04]\n",
      " [ 0.00000000e+00  0.00000000e+00  0.00000000e+00  1.00000000e+00\n",
      "   0.00000000e+00  0.00000000e+00  0.00000000e+00  0.00000000e+00]\n",
      " [ 0.00000000e+00  0.00000000e+00  0.00000000e+00  0.00000000e+00\n",
      "   1.00000000e+00  0.00000000e+00  0.00000000e+00  0.00000000e+00]\n",
      " [ 0.00000000e+00  0.00000000e+00  0.00000000e+00  0.00000000e+00\n",
      "   0.00000000e+00  1.00000000e+00  0.00000000e+00  0.00000000e+00]\n",
      " [ 0.00000000e+00  0.00000000e+00  0.00000000e+00  0.00000000e+00\n",
      "   0.00000000e+00  0.00000000e+00  1.00000000e+00  0.00000000e+00]\n",
      " [ 0.00000000e+00  0.00000000e+00  0.00000000e+00  0.00000000e+00\n",
      "   0.00000000e+00  0.00000000e+00  0.00000000e+00  1.00000000e+00]]\n"
     ]
    }
   ],
   "source": [
    "# The only derivatives in the Jacobian are on the dtheta/dparam row.\n",
    "mcIndex = 2\n",
    "jacobian = np.diag(np.ones(nParams))\n",
    "jacobian[mcIndex,:nCosParams] = dthetas#*100\n",
    "#jacobian[:,mcIndex] = dthetas#*100\n",
    "\n",
    "# multiply these all by d{100thetamc}/d{thetamc} = 100\n",
    "#jacobian[mcIndex,:] *= 100\n",
    "#jacobian[:,mcIndex] *= 100\n",
    "\n",
    "print jacobian[:nCosParams,:nCosParams]"
   ]
  },
  {
   "cell_type": "code",
   "execution_count": 25,
   "metadata": {},
   "outputs": [],
   "source": [
    "# jacobian-it-up\n",
    "miniJac = jacobian[:nCosParams,:nCosParams]\n",
    "\n",
    "Fij_kk2j   = np.dot(miniJac.T,np.dot(Fij_kk2,miniJac))\n",
    "Fij_kg2j   = np.dot(jacobian.T,np.dot(Fij_kg2,jacobian))\n",
    "Fij_TE2j   = np.dot(miniJac.T,np.dot(Fij_TE2,miniJac))\n",
    "Fij_kgTE2j = np.dot(jacobian.T,np.dot(Fij_kgTE2,jacobian))\n",
    "Fij_kTE2j  = np.dot(miniJac.T,np.dot(Fij_kTE2,miniJac))\n",
    "\n",
    "# adjust name\n",
    "paramList[mcIndex] = 'H0'"
   ]
  },
  {
   "cell_type": "code",
   "execution_count": 26,
   "metadata": {},
   "outputs": [
    {
     "name": "stdout",
     "output_type": "stream",
     "text": [
      "(8, 8)\n"
     ]
    }
   ],
   "source": [
    "print Fij_kk2.shape"
   ]
  },
  {
   "cell_type": "code",
   "execution_count": null,
   "metadata": {},
   "outputs": [],
   "source": []
  },
  {
   "cell_type": "markdown",
   "metadata": {},
   "source": [
    "# Get and compare sigmas"
   ]
  },
  {
   "cell_type": "code",
   "execution_count": 27,
   "metadata": {},
   "outputs": [],
   "source": [
    "def getSigmas(Fij):\n",
    "    return np.sqrt(np.diag(np.linalg.inv(Fij)))\n",
    "    \n",
    "sigmaskk = getSigmas(Fij_kk2j)\n",
    "sigmaskg = getSigmas(Fij_kg2j)\n",
    "sigmasTE = getSigmas(Fij_TE2j)\n",
    "sigmaskgTE = getSigmas(Fij_kgTE2j)\n",
    "sigmaskTE = getSigmas(Fij_kTE2j)"
   ]
  },
  {
   "cell_type": "code",
   "execution_count": 28,
   "metadata": {
    "scrolled": false
   },
   "outputs": [
    {
     "name": "stdout",
     "output_type": "stream",
     "text": [
      "fsky =  0.4\n",
      "kappa-only and kappa-galaxies, with noise (biases marg.)\n",
      "+-----------+-----------+-----------+---------------+\n",
      "| Parameter | sigmas_kk | sigmas_kg | percent diff. |\n",
      "+-----------+-----------+-----------+---------------+\n",
      "|   ombh2   |   0.354   |   0.272   |     -23.2     |\n",
      "|   omch2   |    1.18   |   0.899   |     -23.8     |\n",
      "|     H0    |  9.84e+06 |  1.04e+07 |      5.57     |\n",
      "|  10^9 As  |    21.7   |    16.5   |     -23.9     |\n",
      "|     ns    |    2.65   |    2.01   |     -24.2     |\n",
      "|    tau    |     485   |     400   |     -17.5     |\n",
      "|    mnu    |    2.77   |    3.25   |      17.4     |\n",
      "|     w     |     4.4   |    6.02   |      36.8     |\n",
      "+-----------+-----------+-----------+---------------+\n",
      "kappa-galaxies and kappa-galaxies + TE, with noise\n",
      "+-----------+-----------+--------------+---------------+\n",
      "| Parameter | sigmas_kg | sigmas_kg+TE | percent diff. |\n",
      "+-----------+-----------+--------------+---------------+\n",
      "|   ombh2   |   0.272   |   8.45e-05   |      -100     |\n",
      "|   omch2   |   0.899   |   0.00168    |     -99.8     |\n",
      "|     H0    |  1.04e+07 |   1.09e+05   |     -98.9     |\n",
      "|  10^9 As  |    16.5   |    0.228     |     -98.6     |\n",
      "|     ns    |    2.01   |   0.00424    |     -99.8     |\n",
      "|    tau    |     400   |    0.0529    |      -100     |\n",
      "|    mnu    |    3.25   |     0.41     |     -87.4     |\n",
      "|     w     |    6.02   |    0.228     |     -96.2     |\n",
      "+-----------+-----------+--------------+---------------+\n",
      "TE and kappa + TE, with noise (biases marg.)\n",
      "+-----------+-----------+-------------+---------------+\n",
      "| Parameter | sigmas_TE | sigmas_k+TE | percent diff. |\n",
      "+-----------+-----------+-------------+---------------+\n",
      "|   ombh2   |  8.85e-05 |   8.45e-05  |     -4.54     |\n",
      "|   omch2   |  0.00182  |   0.00168   |     -7.43     |\n",
      "|     H0    |  3.01e+11 |   1.09e+05  |      -100     |\n",
      "|  10^9 As  |    1.01   |    0.225    |     -77.7     |\n",
      "|     ns    |  0.00459  |   0.00424   |     -7.48     |\n",
      "|    tau    |    0.23   |    0.0522   |     -77.3     |\n",
      "|    mnu    |   0.453   |    0.409    |     -9.63     |\n",
      "|     w     |   1e+10   |    0.224    |      -100     |\n",
      "+-----------+-----------+-------------+---------------+\n",
      "kappa and kappa + TE, with noise (biases marg.)\n",
      "+-----------+----------+-------------+---------------+\n",
      "| Parameter | sigmas_k | sigmas_k+TE | percent diff. |\n",
      "+-----------+----------+-------------+---------------+\n",
      "|   ombh2   |  0.354   |   8.45e-05  |      -100     |\n",
      "|   omch2   |   1.18   |   0.00168   |     -99.9     |\n",
      "|     H0    | 9.84e+06 |   1.09e+05  |     -98.9     |\n",
      "|  10^9 As  |   21.7   |    0.225    |       -99     |\n",
      "|     ns    |   2.65   |   0.00424   |     -99.8     |\n",
      "|    tau    |    485   |    0.0522   |      -100     |\n",
      "|    mnu    |   2.77   |    0.409    |     -85.2     |\n",
      "|     w     |    4.4   |    0.224    |     -94.9     |\n",
      "+-----------+----------+-------------+---------------+\n",
      "kappa + TE and kappa-galaxies + TE, with noise (biases marg.)\n",
      "+-----------+-------------+--------------+---------------+\n",
      "| Parameter | sigmas_k+TE | sigmas_kg+TE | percent diff. |\n",
      "+-----------+-------------+--------------+---------------+\n",
      "|   ombh2   |   8.45e-05  |   8.45e-05   |     0.0423    |\n",
      "|   omch2   |   0.00168   |   0.00168    |     0.0539    |\n",
      "|     H0    |   1.09e+05  |   1.09e+05   |     0.209     |\n",
      "|  10^9 As  |    0.225    |    0.228     |      1.39     |\n",
      "|     ns    |   0.00424   |   0.00424    |    0.00258    |\n",
      "|    tau    |    0.0522   |    0.0529    |      1.33     |\n",
      "|    mnu    |    0.409    |     0.41     |      0.15     |\n",
      "|     w     |    0.224    |    0.228     |      1.71     |\n",
      "+-----------+-------------+--------------+---------------+\n"
     ]
    }
   ],
   "source": [
    "from prettytable import PrettyTable\n",
    "\n",
    "print 'fsky = ',fsky\n",
    "print 'kappa-only and kappa-galaxies, with noise (biases marg.)'\n",
    "t = PrettyTable(['Parameter', 'sigmas_kk','sigmas_kg','percent diff.'])\n",
    "for i,p in enumerate(paramList[:nCosParams]):\n",
    "    Zi = sigmaskk[i]\n",
    "    Bi = sigmaskg[i]\n",
    "    diff = (Bi-Zi)/Zi *100\n",
    "    t.add_row([p,\"%5.3g\" % Zi,\"%5.3g\" % Bi, \"%5.3g\" % diff ] )\n",
    "print t\n",
    "\n",
    "print 'kappa-galaxies and kappa-galaxies + TE, with noise'\n",
    "t = PrettyTable(['Parameter', 'sigmas_kg','sigmas_kg+TE','percent diff.'])\n",
    "for i,p in enumerate(paramList[:nCosParams]):\n",
    "    Zi = sigmaskg[i]\n",
    "    Bi = sigmaskgTE[i]\n",
    "    diff = (Bi-Zi)/Zi *100\n",
    "    t.add_row([p,\"%5.3g\" % Zi,\"%5.3g\" % Bi, \"%5.3g\" % diff ] )\n",
    "print t\n",
    "\n",
    "print 'TE and kappa + TE, with noise (biases marg.)'\n",
    "t = PrettyTable(['Parameter', 'sigmas_TE','sigmas_k+TE','percent diff.'])\n",
    "for i,p in enumerate(paramList[:nCosParams]):\n",
    "    Zi = sigmasTE[i]\n",
    "    Bi = sigmaskTE[i]\n",
    "    diff = (Bi-Zi)/Zi *100\n",
    "    t.add_row([p,\"%5.3g\" % Zi,\"%5.3g\" % Bi, \"%5.3g\" % diff ] )\n",
    "print t\n",
    "\n",
    "print 'kappa and kappa + TE, with noise (biases marg.)'\n",
    "t = PrettyTable(['Parameter', 'sigmas_k','sigmas_k+TE','percent diff.'])\n",
    "for i,p in enumerate(paramList[:nCosParams]):\n",
    "    Zi = sigmaskk[i]\n",
    "    Bi = sigmaskTE[i]\n",
    "    diff = (Bi-Zi)/Zi *100\n",
    "    t.add_row([p,\"%5.3g\" % Zi,\"%5.3g\" % Bi, \"%5.3g\" % diff ] )\n",
    "print t\n",
    "\n",
    "print 'kappa + TE and kappa-galaxies + TE, with noise (biases marg.)'\n",
    "t = PrettyTable(['Parameter', 'sigmas_k+TE','sigmas_kg+TE','percent diff.'])\n",
    "for i,p in enumerate(paramList[:nCosParams]):\n",
    "    Zi = sigmaskTE[i]\n",
    "    Bi = sigmaskgTE[i]\n",
    "    diff = (Bi-Zi)/Zi *100\n",
    "    t.add_row([p,\"%5.3g\" % Zi,\"%5.3g\" % Bi, \"%5.3g\" % diff ] )\n",
    "print t\n",
    "\n",
    "\n"
   ]
  },
  {
   "cell_type": "code",
   "execution_count": null,
   "metadata": {},
   "outputs": [],
   "source": []
  },
  {
   "cell_type": "markdown",
   "metadata": {},
   "source": [
    "# Fix wa to compare to S4 forecasts"
   ]
  },
  {
   "cell_type": "code",
   "execution_count": 29,
   "metadata": {},
   "outputs": [],
   "source": [
    "#doWa = False\n",
    "doWa = True\n",
    "# set to true if loaded file has a wa parameter\n",
    "\n",
    "Fij_kk2j_nw = Fij_kk2j.copy()\n",
    "Fij_kg2j_nw = Fij_kg2j.copy()\n",
    "Fij_TE2j_nw = Fij_TE2j.copy()\n",
    "Fij_kgTE2j_nw = Fij_kgTE2j.copy()\n",
    "Fij_kTE2j_nw = Fij_kTE2j.copy()"
   ]
  },
  {
   "cell_type": "code",
   "execution_count": 30,
   "metadata": {},
   "outputs": [
    {
     "name": "stdout",
     "output_type": "stream",
     "text": [
      "['ombh2', 'omch2', 'H0', '10^9 As', 'ns', 'tau', 'mnu', 'w', 'bin1']\n"
     ]
    }
   ],
   "source": [
    "paramList = Fobj.paramList\n",
    "print paramList"
   ]
  },
  {
   "cell_type": "code",
   "execution_count": 31,
   "metadata": {},
   "outputs": [
    {
     "name": "stdout",
     "output_type": "stream",
     "text": [
      "['ombh2' 'omch2' 'H0' '10^9 As' 'ns' 'tau' 'mnu' 'bin1']\n"
     ]
    }
   ],
   "source": [
    "# define row,col deleting function\n",
    "def fixParam(Fij,pNum):\n",
    "    return np.delete(np.delete(Fij,pNum,0),pNum,1)\n",
    "\n",
    "# ditch wa\n",
    "if doWa:\n",
    "    wIndex = 7 # 7 for wa\n",
    "    Fij_kk2j_nw = fixParam(Fij_kk2j_nw,wIndex)\n",
    "    Fij_kg2j_nw = fixParam(Fij_kg2j_nw,wIndex)\n",
    "    Fij_TE2j_nw = fixParam(Fij_TE2j_nw,wIndex)\n",
    "    Fij_kgTE2j_nw = fixParam(Fij_kgTE2j_nw,wIndex)\n",
    "    Fij_kTE2j_nw = fixParam(Fij_kTE2j_nw,wIndex)\n",
    "\n",
    "    paramList = np.delete(paramList,wIndex)\n",
    "    print paramList"
   ]
  },
  {
   "cell_type": "code",
   "execution_count": null,
   "metadata": {},
   "outputs": [],
   "source": []
  },
  {
   "cell_type": "code",
   "execution_count": null,
   "metadata": {},
   "outputs": [],
   "source": []
  },
  {
   "cell_type": "code",
   "execution_count": 32,
   "metadata": {},
   "outputs": [],
   "source": [
    "# get sigmas\n",
    "if doWa:\n",
    "    sigmaskk_nw = getSigmas(Fij_kk2j_nw)\n",
    "    sigmaskg_nw = getSigmas(Fij_kg2j_nw)\n",
    "    sigmasTE_nw = getSigmas(Fij_TE2j_nw)\n",
    "    sigmaskgTE_nw = getSigmas(Fij_kgTE2j_nw)\n",
    "    sigmaskTE_nw = getSigmas(Fij_kTE2j_nw)\n"
   ]
  },
  {
   "cell_type": "code",
   "execution_count": null,
   "metadata": {},
   "outputs": [],
   "source": []
  },
  {
   "cell_type": "code",
   "execution_count": 33,
   "metadata": {},
   "outputs": [
    {
     "name": "stdout",
     "output_type": "stream",
     "text": [
      "fsky =  0.4\n",
      "kappa-only and kappa-galaxies, with noise (biases marg.)\n",
      "+-----------+-----------+-----------+---------------+\n",
      "| Parameter | sigmas_kk | sigmas_kg | percent diff. |\n",
      "+-----------+-----------+-----------+---------------+\n",
      "|   ombh2   |   0.354   |   0.272   |     -23.4     |\n",
      "|   omch2   |    1.18   |   0.899   |     -23.8     |\n",
      "|     H0    |  7.96e+06 |  6.47e+06 |     -18.7     |\n",
      "|  10^9 As  |    21.7   |    16.5   |     -24.2     |\n",
      "|     ns    |    2.64   |       2   |     -24.3     |\n",
      "|    tau    |     461   |     350   |     -24.1     |\n",
      "|    mnu    |    2.07   |    2.04   |     -1.14     |\n",
      "+-----------+-----------+-----------+---------------+\n",
      "kappa-galaxies and kappa-galaxies + TE, with noise\n",
      "+-----------+-----------+--------------+---------------+\n",
      "| Parameter | sigmas_kg | sigmas_kg+TE | percent diff. |\n",
      "+-----------+-----------+--------------+---------------+\n",
      "|   ombh2   |   0.272   |   8.14e-05   |      -100     |\n",
      "|   omch2   |   0.899   |    0.0015    |     -99.8     |\n",
      "|     H0    |  6.47e+06 |   1.09e+05   |     -98.3     |\n",
      "|  10^9 As  |    16.5   |    0.188     |     -98.9     |\n",
      "|     ns    |       2   |   0.00422    |     -99.8     |\n",
      "|    tau    |     350   |    0.0442    |      -100     |\n",
      "|    mnu    |    2.04   |    0.409     |       -80     |\n",
      "+-----------+-----------+--------------+---------------+\n",
      "TE and kappa + TE, with noise (biases marg.)\n",
      "+-----------+-----------+-------------+---------------+\n",
      "| Parameter | sigmas_TE | sigmas_k+TE | percent diff. |\n",
      "+-----------+-----------+-------------+---------------+\n",
      "|   ombh2   |  8.85e-05 |   8.14e-05  |     -8.01     |\n",
      "|   omch2   |  0.00182  |    0.0015   |     -17.7     |\n",
      "|     H0    |  1.18e+05 |   1.09e+05  |     -7.91     |\n",
      "|  10^9 As  |    1.01   |    0.187    |     -81.4     |\n",
      "|     ns    |  0.00459  |   0.00422   |     -7.91     |\n",
      "|    tau    |    0.23   |    0.0441   |     -80.8     |\n",
      "|    mnu    |   0.453   |    0.408    |     -9.95     |\n",
      "+-----------+-----------+-------------+---------------+\n",
      "kappa and kappa + TE, with noise (biases marg.)\n",
      "+-----------+----------+-------------+---------------+\n",
      "| Parameter | sigmas_k | sigmas_k+TE | percent diff. |\n",
      "+-----------+----------+-------------+---------------+\n",
      "|   ombh2   |  0.354   |   8.14e-05  |      -100     |\n",
      "|   omch2   |   1.18   |    0.0015   |     -99.9     |\n",
      "|     H0    | 7.96e+06 |   1.09e+05  |     -98.6     |\n",
      "|  10^9 As  |   21.7   |    0.187    |     -99.1     |\n",
      "|     ns    |   2.64   |   0.00422   |     -99.8     |\n",
      "|    tau    |    461   |    0.0441   |      -100     |\n",
      "|    mnu    |   2.07   |    0.408    |     -80.3     |\n",
      "+-----------+----------+-------------+---------------+\n",
      "kappa + TE and kappa-galaxies + TE, with noise (biases marg.)\n",
      "+-----------+-------------+--------------+---------------+\n",
      "| Parameter | sigmas_k+TE | sigmas_kg+TE | percent diff. |\n",
      "+-----------+-------------+--------------+---------------+\n",
      "|   ombh2   |   8.14e-05  |   8.14e-05   |     0.0214    |\n",
      "|   omch2   |    0.0015   |    0.0015    |     0.163     |\n",
      "|     H0    |   1.09e+05  |   1.09e+05   |     0.187     |\n",
      "|  10^9 As  |    0.187    |    0.188     |     0.283     |\n",
      "|     ns    |   0.00422   |   0.00422    |    0.00449    |\n",
      "|    tau    |    0.0441   |    0.0442    |     0.276     |\n",
      "|    mnu    |    0.408    |    0.409     |     0.243     |\n",
      "+-----------+-------------+--------------+---------------+\n"
     ]
    }
   ],
   "source": [
    "from prettytable import PrettyTable\n",
    "\n",
    "if doWa:\n",
    "    print 'fsky = ',fsky\n",
    "    print 'kappa-only and kappa-galaxies, with noise (biases marg.)'\n",
    "    t = PrettyTable(['Parameter', 'sigmas_kk','sigmas_kg','percent diff.'])\n",
    "    for i,p in enumerate(paramList[:nCosParams-1]):\n",
    "        Zi = sigmaskk_nw[i]\n",
    "        Bi = sigmaskg_nw[i]\n",
    "        diff = (Bi-Zi)/Zi *100\n",
    "        t.add_row([p,\"%5.3g\" % Zi,\"%5.3g\" % Bi, \"%5.3g\" % diff ] )\n",
    "    print t\n",
    "\n",
    "    print 'kappa-galaxies and kappa-galaxies + TE, with noise'\n",
    "    t = PrettyTable(['Parameter', 'sigmas_kg','sigmas_kg+TE','percent diff.'])\n",
    "    for i,p in enumerate(paramList[:nCosParams-1]):\n",
    "        Zi = sigmaskg_nw[i]\n",
    "        Bi = sigmaskgTE_nw[i]\n",
    "        diff = (Bi-Zi)/Zi *100\n",
    "        t.add_row([p,\"%5.3g\" % Zi,\"%5.3g\" % Bi, \"%5.3g\" % diff ] )\n",
    "    print t\n",
    "\n",
    "    print 'TE and kappa + TE, with noise (biases marg.)'\n",
    "    t = PrettyTable(['Parameter', 'sigmas_TE','sigmas_k+TE','percent diff.'])\n",
    "    for i,p in enumerate(paramList[:nCosParams-1]):\n",
    "        Zi = sigmasTE_nw[i]\n",
    "        Bi = sigmaskTE_nw[i]\n",
    "        diff = (Bi-Zi)/Zi *100\n",
    "        t.add_row([p,\"%5.3g\" % Zi,\"%5.3g\" % Bi, \"%5.3g\" % diff ] )\n",
    "    print t\n",
    "\n",
    "    print 'kappa and kappa + TE, with noise (biases marg.)'\n",
    "    t = PrettyTable(['Parameter', 'sigmas_k','sigmas_k+TE','percent diff.'])\n",
    "    for i,p in enumerate(paramList[:nCosParams-1]):\n",
    "        Zi = sigmaskk_nw[i]\n",
    "        Bi = sigmaskTE_nw[i]\n",
    "        diff = (Bi-Zi)/Zi *100\n",
    "        t.add_row([p,\"%5.3g\" % Zi,\"%5.3g\" % Bi, \"%5.3g\" % diff ] )\n",
    "    print t\n",
    "\n",
    "    print 'kappa + TE and kappa-galaxies + TE, with noise (biases marg.)'\n",
    "    t = PrettyTable(['Parameter', 'sigmas_k+TE','sigmas_kg+TE','percent diff.'])\n",
    "    for i,p in enumerate(paramList[:nCosParams-1]):\n",
    "        Zi = sigmaskTE_nw[i]\n",
    "        Bi = sigmaskgTE_nw[i]\n",
    "        diff = (Bi-Zi)/Zi *100\n",
    "        t.add_row([p,\"%5.3g\" % Zi,\"%5.3g\" % Bi, \"%5.3g\" % diff ] )\n",
    "    print t\n",
    "\n",
    "\n"
   ]
  },
  {
   "cell_type": "code",
   "execution_count": null,
   "metadata": {},
   "outputs": [],
   "source": []
  },
  {
   "cell_type": "code",
   "execution_count": null,
   "metadata": {},
   "outputs": [],
   "source": []
  },
  {
   "cell_type": "code",
   "execution_count": null,
   "metadata": {},
   "outputs": [],
   "source": []
  },
  {
   "cell_type": "markdown",
   "metadata": {},
   "source": [
    "# Fix w, bias to compare with Bye's results"
   ]
  },
  {
   "cell_type": "code",
   "execution_count": 34,
   "metadata": {},
   "outputs": [],
   "source": [
    "#Fij_kk2j_nw = Fij_kk2j.copy()\n",
    "#Fij_kg2j_nw = Fij_kg2j.copy()\n",
    "#Fij_TE2j_nw = Fij_TE2j.copy()\n",
    "#Fij_kgTE2j_nw = Fij_kgTE2j.copy()\n",
    "#Fij_kTE2j_nw = Fij_kTE2j.copy()"
   ]
  },
  {
   "cell_type": "code",
   "execution_count": 35,
   "metadata": {},
   "outputs": [
    {
     "ename": "IndexError",
     "evalue": "index 7 is out of bounds for axis 0 with size 7",
     "output_type": "error",
     "traceback": [
      "\u001b[0;31m---------------------------------------------------------------------------\u001b[0m",
      "\u001b[0;31mIndexError\u001b[0m                                Traceback (most recent call last)",
      "\u001b[0;32m<ipython-input-35-e54c3af01299>\u001b[0m in \u001b[0;36m<module>\u001b[0;34m()\u001b[0m\n\u001b[1;32m      5\u001b[0m \u001b[0;31m# ditch w\u001b[0m\u001b[0;34m\u001b[0m\u001b[0;34m\u001b[0m\u001b[0m\n\u001b[1;32m      6\u001b[0m \u001b[0mwIndex\u001b[0m \u001b[0;34m=\u001b[0m \u001b[0;36m7\u001b[0m \u001b[0;31m# 7 for w after removing wa\u001b[0m\u001b[0;34m\u001b[0m\u001b[0m\n\u001b[0;32m----> 7\u001b[0;31m \u001b[0mFij_kk2j_nw\u001b[0m \u001b[0;34m=\u001b[0m \u001b[0mfixParam\u001b[0m\u001b[0;34m(\u001b[0m\u001b[0mFij_kk2j_nw\u001b[0m\u001b[0;34m,\u001b[0m\u001b[0mwIndex\u001b[0m\u001b[0;34m)\u001b[0m\u001b[0;34m\u001b[0m\u001b[0m\n\u001b[0m\u001b[1;32m      8\u001b[0m \u001b[0mFij_kg2j_nw\u001b[0m \u001b[0;34m=\u001b[0m \u001b[0mfixParam\u001b[0m\u001b[0;34m(\u001b[0m\u001b[0mFij_kg2j_nw\u001b[0m\u001b[0;34m,\u001b[0m\u001b[0mwIndex\u001b[0m\u001b[0;34m)\u001b[0m\u001b[0;34m\u001b[0m\u001b[0m\n\u001b[1;32m      9\u001b[0m \u001b[0mFij_TE2j_nw\u001b[0m \u001b[0;34m=\u001b[0m \u001b[0mfixParam\u001b[0m\u001b[0;34m(\u001b[0m\u001b[0mFij_TE2j_nw\u001b[0m\u001b[0;34m,\u001b[0m\u001b[0mwIndex\u001b[0m\u001b[0;34m)\u001b[0m\u001b[0;34m\u001b[0m\u001b[0m\n",
      "\u001b[0;32m<ipython-input-31-1cffee9d2f10>\u001b[0m in \u001b[0;36mfixParam\u001b[0;34m(Fij, pNum)\u001b[0m\n\u001b[1;32m      1\u001b[0m \u001b[0;31m# define row,col deleting function\u001b[0m\u001b[0;34m\u001b[0m\u001b[0;34m\u001b[0m\u001b[0m\n\u001b[1;32m      2\u001b[0m \u001b[0;32mdef\u001b[0m \u001b[0mfixParam\u001b[0m\u001b[0;34m(\u001b[0m\u001b[0mFij\u001b[0m\u001b[0;34m,\u001b[0m\u001b[0mpNum\u001b[0m\u001b[0;34m)\u001b[0m\u001b[0;34m:\u001b[0m\u001b[0;34m\u001b[0m\u001b[0m\n\u001b[0;32m----> 3\u001b[0;31m     \u001b[0;32mreturn\u001b[0m \u001b[0mnp\u001b[0m\u001b[0;34m.\u001b[0m\u001b[0mdelete\u001b[0m\u001b[0;34m(\u001b[0m\u001b[0mnp\u001b[0m\u001b[0;34m.\u001b[0m\u001b[0mdelete\u001b[0m\u001b[0;34m(\u001b[0m\u001b[0mFij\u001b[0m\u001b[0;34m,\u001b[0m\u001b[0mpNum\u001b[0m\u001b[0;34m,\u001b[0m\u001b[0;36m0\u001b[0m\u001b[0;34m)\u001b[0m\u001b[0;34m,\u001b[0m\u001b[0mpNum\u001b[0m\u001b[0;34m,\u001b[0m\u001b[0;36m1\u001b[0m\u001b[0;34m)\u001b[0m\u001b[0;34m\u001b[0m\u001b[0m\n\u001b[0m\u001b[1;32m      4\u001b[0m \u001b[0;34m\u001b[0m\u001b[0m\n\u001b[1;32m      5\u001b[0m \u001b[0;31m# ditch wa\u001b[0m\u001b[0;34m\u001b[0m\u001b[0;34m\u001b[0m\u001b[0m\n",
      "\u001b[0;32m/opt/local/Library/Frameworks/Python.framework/Versions/2.7/lib/python2.7/site-packages/numpy/lib/function_base.pyc\u001b[0m in \u001b[0;36mdelete\u001b[0;34m(arr, obj, axis)\u001b[0m\n\u001b[1;32m   4856\u001b[0m             raise IndexError(\n\u001b[1;32m   4857\u001b[0m                 \u001b[0;34m\"index %i is out of bounds for axis %i with \"\u001b[0m\u001b[0;34m\u001b[0m\u001b[0m\n\u001b[0;32m-> 4858\u001b[0;31m                 \"size %i\" % (obj, axis, N))\n\u001b[0m\u001b[1;32m   4859\u001b[0m         \u001b[0;32mif\u001b[0m \u001b[0;34m(\u001b[0m\u001b[0mobj\u001b[0m \u001b[0;34m<\u001b[0m \u001b[0;36m0\u001b[0m\u001b[0;34m)\u001b[0m\u001b[0;34m:\u001b[0m\u001b[0;34m\u001b[0m\u001b[0m\n\u001b[1;32m   4860\u001b[0m             \u001b[0mobj\u001b[0m \u001b[0;34m+=\u001b[0m \u001b[0mN\u001b[0m\u001b[0;34m\u001b[0m\u001b[0m\n",
      "\u001b[0;31mIndexError\u001b[0m: index 7 is out of bounds for axis 0 with size 7"
     ]
    }
   ],
   "source": [
    "# define row,col deleting function\n",
    "#def fixParam(Fij,pNum):\n",
    "#    return np.delete(np.delete(Fij,pNum,0),pNum,1)\n",
    "\n",
    "# ditch w\n",
    "wIndex = 7 # 7 for w after removing wa\n",
    "Fij_kk2j_nw = fixParam(Fij_kk2j_nw,wIndex)\n",
    "Fij_kg2j_nw = fixParam(Fij_kg2j_nw,wIndex)\n",
    "Fij_TE2j_nw = fixParam(Fij_TE2j_nw,wIndex)\n",
    "Fij_kgTE2j_nw = fixParam(Fij_kgTE2j_nw,wIndex)\n",
    "Fij_kTE2j_nw = fixParam(Fij_kTE2j_nw,wIndex)\n",
    "\n",
    "paramList = np.delete(paramList,wIndex)\n",
    "print paramList"
   ]
  },
  {
   "cell_type": "code",
   "execution_count": null,
   "metadata": {},
   "outputs": [],
   "source": [
    "# ditch bias\n",
    "Fij_kk2j_nwb = Fij_kk2j_nw[:7,:7]\n",
    "Fij_kg2j_nwb = Fij_kg2j_nw[:7,:7]\n",
    "Fij_TE2j_nwb = Fij_TE2j_nw[:7,:7]\n",
    "Fij_kgTE2j_nwb = Fij_kgTE2j_nw[:7,:7]\n",
    "Fij_kTE2j_nwb = Fij_kTE2j_nw[:7,:7]"
   ]
  },
  {
   "cell_type": "code",
   "execution_count": null,
   "metadata": {},
   "outputs": [],
   "source": [
    "# get sigmas\n",
    "sigmaskk_nw = getSigmas(Fij_kk2j_nw)\n",
    "sigmaskg_nw = getSigmas(Fij_kg2j_nw)\n",
    "sigmasTE_nw = getSigmas(Fij_TE2j_nw)\n",
    "sigmaskgTE_nw = getSigmas(Fij_kgTE2j_nw)\n",
    "sigmaskTE_nw = getSigmas(Fij_kTE2j_nw)\n",
    "\n",
    "sigmaskk_nwb = getSigmas(Fij_kk2j_nwb)\n",
    "sigmaskg_nwb = getSigmas(Fij_kg2j_nwb)\n",
    "sigmasTE_nwb = getSigmas(Fij_TE2j_nwb)\n",
    "sigmaskgTE_nwb = getSigmas(Fij_kgTE2j_nwb)\n",
    "sigmaskTE_nwb = getSigmas(Fij_kTE2j_nwb)\n"
   ]
  },
  {
   "cell_type": "code",
   "execution_count": null,
   "metadata": {},
   "outputs": [],
   "source": [
    "print 'fsky = ',fsky,', w fixed'\n",
    "print 'kappa-only and kappa-galaxies, with noise (biases marg.)'\n",
    "t = PrettyTable(['Parameter', 'sigmas_kk','sigmas_kg','percent diff.'])\n",
    "if doWa:\n",
    "    dn = 2\n",
    "else:\n",
    "    dn = 1\n",
    "for i,p in enumerate(paramList[:nCosParams-dn]):\n",
    "    Zi = sigmaskk_nw[i]\n",
    "    Bi = sigmaskg_nw[i]\n",
    "    diff = (Bi-Zi)/Zi *100\n",
    "    t.add_row([p,\"%5.3g\" % Zi,\"%5.3g\" % Bi, \"%5.3g\" % diff ] )\n",
    "print t\n",
    "\n",
    "print 'kappa-galaxies and kappa-galaxies + TE, with noise'\n",
    "t = PrettyTable(['Parameter', 'sigmas_kg','sigmas_kg+TE','percent diff.'])\n",
    "for i,p in enumerate(paramList[:nCosParams-dn]):\n",
    "    Zi = sigmaskg_nw[i]\n",
    "    Bi = sigmaskgTE_nw[i]\n",
    "    diff = (Bi-Zi)/Zi *100\n",
    "    t.add_row([p,\"%5.3g\" % Zi,\"%5.3g\" % Bi, \"%5.3g\" % diff ] )\n",
    "print t\n",
    "\n",
    "print 'kappa + TE and kappa-galaxies + TE, with noise (biases marg.)'\n",
    "t = PrettyTable(['Parameter', 'sigmas_k+TE','sigmas_kg+TE','percent diff.'])\n",
    "for i,p in enumerate(paramList[:nCosParams-dn]):\n",
    "    Zi = sigmaskTE_nw[i]\n",
    "    Bi = sigmaskgTE_nw[i]\n",
    "    diff = (Bi-Zi)/Zi *100\n",
    "    t.add_row([p,\"%5.3g\" % Zi,\"%5.3g\" % Bi, \"%5.3g\" % diff ] )\n",
    "print t\n",
    "\n"
   ]
  },
  {
   "cell_type": "code",
   "execution_count": null,
   "metadata": {},
   "outputs": [],
   "source": [
    "#\"\"\"\n",
    "print 'fsky = ',fsky,', w and biases fixed'\n",
    "print 'kappa-only and kappa-galaxies, with noise'\n",
    "t = PrettyTable(['Parameter', 'sigmas_kk','sigmas_kg','percent diff.'])\n",
    "for i,p in enumerate(paramList[:nCosParams-dn]):\n",
    "    Zi = sigmaskk_nwb[i]\n",
    "    Bi = sigmaskg_nwb[i]\n",
    "    diff = (Bi-Zi)/Zi *100\n",
    "    t.add_row([p,\"%5.3g\" % Zi,\"%5.3g\" % Bi, \"%5.3g\" % diff ] )\n",
    "print t\n",
    "\n",
    "print 'kappa-galaxies and kappa-galaxies + TE, with noise'\n",
    "t = PrettyTable(['Parameter', 'sigmas_kg','sigmas_kg+TE','percent diff.'])\n",
    "for i,p in enumerate(paramList[:nCosParams-dn]):\n",
    "    Zi = sigmaskg_nwb[i]\n",
    "    Bi = sigmaskgTE_nwb[i]\n",
    "    diff = (Bi-Zi)/Zi *100\n",
    "    t.add_row([p,\"%5.3g\" % Zi,\"%5.3g\" % Bi, \"%5.3g\" % diff ] )\n",
    "print t\n",
    "\n",
    "print 'kappa + TE and kappa-galaxies + TE, with noise'\n",
    "t = PrettyTable(['Parameter', 'sigmas_k+TE','sigmas_kg+TE','percent diff.'])\n",
    "for i,p in enumerate(paramList[:nCosParams-dn]):\n",
    "    Zi = sigmaskTE_nwb[i]\n",
    "    Bi = sigmaskgTE_nwb[i]\n",
    "    diff = (Bi-Zi)/Zi *100\n",
    "    t.add_row([p,\"%5.3g\" % Zi,\"%5.3g\" % Bi, \"%5.3g\" % diff ] )\n",
    "print t\n",
    "#\"\"\"\n"
   ]
  },
  {
   "cell_type": "code",
   "execution_count": null,
   "metadata": {},
   "outputs": [],
   "source": []
  },
  {
   "cell_type": "code",
   "execution_count": null,
   "metadata": {},
   "outputs": [],
   "source": []
  },
  {
   "cell_type": "code",
   "execution_count": null,
   "metadata": {},
   "outputs": [],
   "source": []
  },
  {
   "cell_type": "markdown",
   "metadata": {},
   "source": [
    "# Export to CosmicFish"
   ]
  },
  {
   "cell_type": "code",
   "execution_count": null,
   "metadata": {},
   "outputs": [],
   "source": [
    "# setup for saving files in directory structure\n",
    "import os\n",
    "\n",
    "def createFolder(directory):\n",
    "    try:\n",
    "        if not os.path.exists(directory):\n",
    "            os.makedirs(directory)\n",
    "    except OSError:\n",
    "        print ('Error: Creating directory. ' +  directory)\n"
   ]
  },
  {
   "cell_type": "code",
   "execution_count": null,
   "metadata": {},
   "outputs": [],
   "source": [
    "#dirName = 'Z_test_4L' # uses TEk, gk, kgTE with noise; linear P(k)\n",
    "dirName = 'Z_test_4' # uses TEk, gk, kgTE with noise; nonlinear P(k)\n",
    "# adjust dirName after creation\n",
    "\n",
    "createFolder(dirName)\n",
    "\n",
    "createFolder(dirName+'/parameters_analysis')\n",
    "createFolder(dirName+'/raw_results')\n",
    "createFolder(dirName+'/results')"
   ]
  },
  {
   "cell_type": "code",
   "execution_count": null,
   "metadata": {},
   "outputs": [],
   "source": [
    "# fill the raw_results directory\n",
    "#\"\"\"\n",
    "import os\n",
    "os.chdir(dirName+'/raw_results')\n",
    "\n",
    "np.savetxt('1_'+dirName+'_fisher_matrix_Fijkk_cls.dat',Fij_kk2j,fmt='%26.16E', #delimiter='\\t',\n",
    "           header='This file contains a Fisher matrix created with the FisherCl code.')\n",
    "np.savetxt('2_'+dirName+'_fisher_matrix_Fijkg_cls.dat',Fij_kg2j,fmt='%26.16E', #delimiter='\\t',\n",
    "           header='This file contains a Fisher matrix created with the FisherCl code.')\n",
    "np.savetxt('3_'+dirName+'_fisher_matrix_FijTE_cls.dat',Fij_TE2j,fmt='%26.16E', #delimiter='\\t',\n",
    "           header='This file contains a Fisher matrix created with the FisherCl code.')\n",
    "np.savetxt('4_'+dirName+'_fisher_matrix_FijkTE_cls.dat',Fij_kTE2j,fmt='%26.16E', #delimiter='\\t',\n",
    "           header='This file contains a Fisher matrix created with the FisherCl code.')\n",
    "np.savetxt('5_'+dirName+'_fisher_matrix_FijkgTE_cls.dat',Fij_kgTE2j,fmt='%26.16E', #delimiter='\\t',\n",
    "           header='This file contains a Fisher matrix created with the FisherCl code.')\n",
    "\n",
    "# add some code to do the .paramnames files too... but not now\n",
    "\n",
    "os.chdir('../..')\n",
    "#\"\"\"\n"
   ]
  },
  {
   "cell_type": "code",
   "execution_count": null,
   "metadata": {},
   "outputs": [],
   "source": []
  },
  {
   "cell_type": "code",
   "execution_count": null,
   "metadata": {},
   "outputs": [],
   "source": [
    "# get binBs\n",
    "binBs = Fobj.binBs\n",
    "print binBs"
   ]
  },
  {
   "cell_type": "code",
   "execution_count": null,
   "metadata": {},
   "outputs": [],
   "source": []
  },
  {
   "cell_type": "code",
   "execution_count": null,
   "metadata": {},
   "outputs": [],
   "source": [
    "print Fobj.nonlinear"
   ]
  },
  {
   "cell_type": "code",
   "execution_count": null,
   "metadata": {},
   "outputs": [],
   "source": []
  },
  {
   "cell_type": "code",
   "execution_count": null,
   "metadata": {},
   "outputs": [],
   "source": []
  },
  {
   "cell_type": "markdown",
   "metadata": {},
   "source": [
    "# Load a Planck Fisher Matrix"
   ]
  },
  {
   "cell_type": "code",
   "execution_count": null,
   "metadata": {},
   "outputs": [],
   "source": [
    "# load Planck invCov matrix saved in notebook \"Get Planck Parameter Fisher\"\n",
    "invCovPlanck = np.loadtxt('PlanckInvCovFromMCMC.txt')\n",
    "print invCovPlanck"
   ]
  },
  {
   "cell_type": "code",
   "execution_count": null,
   "metadata": {},
   "outputs": [],
   "source": [
    "# parameters:\n",
    "# covmat:  [' omegabh2\\t\\\\Omega_b h^2\\n', ' omegach2\\t\\\\Omega_c h^2\\n', ' theta\\t100\\\\theta_{MC}\\n', \n",
    "#           ' logA\\t{\\\\rm{ln}}(10^{10} A_s)\\n', ' ns\\tn_s\\n', ' tau\\t\\\\tau\\n']\n",
    "# Note: that third one is 100thetamc, not just thetamc."
   ]
  },
  {
   "cell_type": "code",
   "execution_count": null,
   "metadata": {},
   "outputs": [],
   "source": []
  },
  {
   "cell_type": "markdown",
   "metadata": {},
   "source": [
    "# Transform cosmomc_theta parameter matrix to H0 parameter matrix"
   ]
  },
  {
   "cell_type": "code",
   "execution_count": null,
   "metadata": {},
   "outputs": [],
   "source": [
    "# calculation of Jacobian only requires partial derivatives of cosmomc_theta\n",
    "# This is done in notebook \"Transform Fisher Matrix with Jacobian\"\n",
    "# Result is copied here:\n",
    "dthetaNames =  ['dtheta_dombh2','dtheta_domch2','dtheta_dH0','dtheta_dAs','dtheta_dns','dtheta_dtau']\n",
    "dthetas = [-0.0248396985185, 0.0104553863834, 2.96219516316e-05, 0.0, 0.0, 0.0]"
   ]
  },
  {
   "cell_type": "code",
   "execution_count": null,
   "metadata": {},
   "outputs": [],
   "source": [
    "# The only derivatives in the Jacobian are on the dtheta/dparam row.\n",
    "mcIndex = 2\n",
    "jacobian = np.diag(np.ones(6)) # 6 is nCosParams above\n",
    "jacobian[mcIndex,:] = dthetas#*100\n",
    "#jacobian[:,mcIndex] = dthetas#*100\n",
    "\n",
    "# multiply these all by d{100thetamc}/d{thetamc} = 100\n",
    "jacobian[mcIndex,:] *= 100\n",
    "#jacobian[:,mcIndex] *= 100\n",
    "\n",
    "print jacobian"
   ]
  },
  {
   "cell_type": "code",
   "execution_count": null,
   "metadata": {},
   "outputs": [],
   "source": [
    "# jacobian-it-up\n",
    "invCovPlanck = np.dot(jacobian.T,np.dot(invCovPlanck,jacobian))\n",
    "print invCovPlanck"
   ]
  },
  {
   "cell_type": "code",
   "execution_count": null,
   "metadata": {},
   "outputs": [],
   "source": []
  },
  {
   "cell_type": "code",
   "execution_count": null,
   "metadata": {},
   "outputs": [],
   "source": [
    "# ok, also convert ln(10^10*As) to 10^9*As\n",
    "# exponentiate and divide by 10?  No, use Jacobian again.\n",
    "# no, actually convert to just As, since that's what FijTE uses\n",
    "As_fid = 2.2e-9\n",
    "AsIndex = 3\n",
    "invCovPlanck[AsIndex,:] *= 1./As_fid\n",
    "invCovPlanck[:,AsIndex] *= 1./As_fid"
   ]
  },
  {
   "cell_type": "code",
   "execution_count": null,
   "metadata": {},
   "outputs": [],
   "source": []
  },
  {
   "cell_type": "markdown",
   "metadata": {},
   "source": [
    "# Combine Fisher matrices and show comparison"
   ]
  },
  {
   "cell_type": "code",
   "execution_count": null,
   "metadata": {},
   "outputs": [],
   "source": [
    "FijSum1 = FijTE1t+invCovPlanck\n",
    "FijSum2 = FijTE2t+invCovPlanck"
   ]
  },
  {
   "cell_type": "code",
   "execution_count": null,
   "metadata": {},
   "outputs": [],
   "source": [
    "# get sigmas\n",
    "sigmasSum1 = getSigmas(FijSum1)\n",
    "sigmasSum2 = getSigmas(FijSum2)\n",
    "# rescale As\n",
    "sigmasSum1[AsIndex] *= 1e9\n",
    "sigmasSum2[AsIndex] *= 1e9"
   ]
  },
  {
   "cell_type": "code",
   "execution_count": null,
   "metadata": {},
   "outputs": [],
   "source": [
    "# rescale Planck As for comparison too\n",
    "sigmasP = getSigmas(invCovPlanck)\n",
    "sigmasP[AsIndex] *= 1e9"
   ]
  },
  {
   "cell_type": "code",
   "execution_count": null,
   "metadata": {},
   "outputs": [],
   "source": [
    "# alter the As label\n",
    "paramList[AsIndex] = '10^9 As'"
   ]
  },
  {
   "cell_type": "code",
   "execution_count": null,
   "metadata": {},
   "outputs": [],
   "source": [
    "# alter the ombh2 label and values\n",
    "paramList[0] = '100ombh2'\n",
    "sigmasP[0] *= 100\n",
    "sigmasSum1[0] *= 100\n",
    "sigmasSum2[0] *= 100"
   ]
  },
  {
   "cell_type": "code",
   "execution_count": null,
   "metadata": {},
   "outputs": [],
   "source": [
    "fiducial = [2.22,0.120,69.0,2.2,0.966,0.06]"
   ]
  },
  {
   "cell_type": "code",
   "execution_count": null,
   "metadata": {
    "scrolled": false
   },
   "outputs": [],
   "source": [
    "print 'CMB-S4 FWHM = 1 arcmin'\n",
    "#t = PrettyTable(['Parameter','fiducial','Planck','S4a+Planck','percent diff.'])\n",
    "t = PrettyTable(['Parameter','fiducial','Planck','S4a+Planck'])\n",
    "for i,p in enumerate(paramList):\n",
    "    fid = fiducial[i]\n",
    "    Zi = sigmasP[i]\n",
    "    Bi = sigmasSum1[i]\n",
    "    #diff = (Bi-Zi)/Zi *100\n",
    "    #t.add_row([p,\"%5.3g\" % fid,\"±%5.3g\" % Zi,\"±%5.3g\" % Bi, \"%5.3g\" % diff ] )\n",
    "    t.add_row([p,\"%5.3g\" % fid,\"±%5.3g\" % Zi,\"±%5.3g\" % Bi] )\n",
    "print t\n",
    "\n",
    "print 'CMB-S4 FWHM = 2 arcmin'\n",
    "#t = PrettyTable(['Parameter','fiducial','Planck','S4a+Planck','percent diff.'])\n",
    "t = PrettyTable(['Parameter','fiducial','Planck','S4b+Planck'])\n",
    "for i,p in enumerate(paramList):\n",
    "    fid = fiducial[i]\n",
    "    Zi = sigmasP[i]\n",
    "    Bi = sigmasSum2[i]\n",
    "    diff = (Bi-Zi)/Zi *100\n",
    "    #t.add_row([p,\"%5.3g\" % fid,\"±%5.3g\" % Zi,\"±%5.3g\" % Bi, \"%5.3g\" % diff ] )\n",
    "    t.add_row([p,\"%5.3g\" % fid,\"±%5.3g\" % Zi,\"±%5.3g\" % Bi] )\n",
    "print t"
   ]
  },
  {
   "cell_type": "code",
   "execution_count": null,
   "metadata": {},
   "outputs": [],
   "source": []
  },
  {
   "cell_type": "code",
   "execution_count": null,
   "metadata": {},
   "outputs": [],
   "source": []
  },
  {
   "cell_type": "code",
   "execution_count": null,
   "metadata": {},
   "outputs": [],
   "source": []
  },
  {
   "cell_type": "code",
   "execution_count": null,
   "metadata": {},
   "outputs": [],
   "source": []
  },
  {
   "cell_type": "code",
   "execution_count": null,
   "metadata": {},
   "outputs": [],
   "source": []
  }
 ],
 "metadata": {
  "kernelspec": {
   "display_name": "Python 2",
   "language": "python",
   "name": "python2"
  },
  "language_info": {
   "codemirror_mode": {
    "name": "ipython",
    "version": 2
   },
   "file_extension": ".py",
   "mimetype": "text/x-python",
   "name": "python",
   "nbconvert_exporter": "python",
   "pygments_lexer": "ipython2",
   "version": "2.7.14"
  }
 },
 "nbformat": 4,
 "nbformat_minor": 2
}
