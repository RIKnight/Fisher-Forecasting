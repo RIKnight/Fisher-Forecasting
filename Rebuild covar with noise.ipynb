{
 "cells": [
  {
   "cell_type": "markdown",
   "metadata": {},
   "source": [
    "# Rebuild a noise-free covariance matrix to include noise"
   ]
  },
  {
   "cell_type": "code",
   "execution_count": 49,
   "metadata": {},
   "outputs": [],
   "source": [
    "import crosspower as cp\n",
    "import FisherCl as fcl # branch quickCl\n",
    "import noiseCl as ncl\n",
    "#import camb\n",
    "import os\n",
    "\n",
    "# set plotting to be in the notebook instead of its own qt window\n",
    "%matplotlib inline"
   ]
  },
  {
   "cell_type": "code",
   "execution_count": null,
   "metadata": {},
   "outputs": [],
   "source": []
  },
  {
   "cell_type": "markdown",
   "metadata": {},
   "source": [
    "# Load a Noise-Free k,g + T,E Fisher Matrix"
   ]
  },
  {
   "cell_type": "code",
   "execution_count": 50,
   "metadata": {},
   "outputs": [
    {
     "name": "stdout",
     "output_type": "stream",
     "text": [
      "[  0.   1.   2.   3.   4.   5.   6.   7.   8.   9.  10.  11.  12.  13.\n",
      "  14.  15.  16.  18.  19.  20.  21.  22.  23.  24.  25.  26.  27.  28.\n",
      "  29.  30.  31.  32.  33.  36.  37.  38.  39.  40.  41.  42.  43.  44.\n",
      "  45.  46.  47.  48.  49.  50.  54.  55.  56.  57.  58.  59.  60.  61.\n",
      "  62.  63.  64.  65.  66.  67.  72.  73.  74.  75.  76.  77.  78.  79.\n",
      "  80.  81.  82.  83.  84.  90.  91.  92.  93.  94.  95.  96.  97.  98.\n",
      "  99. 100. 101. 108. 109. 110. 111. 112. 113. 114. 115. 116. 117. 118.\n",
      " 126. 127. 128. 129. 130. 131. 132. 133. 134. 135. 144. 145. 146. 147.\n",
      " 148. 149. 150. 151. 152. 162. 163. 164. 165. 166. 167. 168. 169. 180.\n",
      " 181. 182. 183. 184. 185. 186. 198. 199. 200. 201. 202. 203. 216. 217.\n",
      " 218. 219. 220. 234. 235. 236. 237. 252. 253. 254. 270. 271. 288.]\n",
      "['k,k', 'k,g1', 'k,g2', 'k,g3', 'k,g4', 'k,g5', 'k,g6', 'k,g7', 'k,g8', 'k,g9', 'k,g10', 'k,g11', 'k,g12', 'k,g13', 'k,g14', 'k,g15', 'k,g16', 'g1,g1', 'g1,g2', 'g1,g3', 'g1,g4', 'g1,g5', 'g1,g6', 'g1,g7', 'g1,g8', 'g1,g9', 'g1,g10', 'g1,g11', 'g1,g12', 'g1,g13', 'g1,g14', 'g1,g15', 'g1,g16', 'g2,g2', 'g2,g3', 'g2,g4', 'g2,g5', 'g2,g6', 'g2,g7', 'g2,g8', 'g2,g9', 'g2,g10', 'g2,g11', 'g2,g12', 'g2,g13', 'g2,g14', 'g2,g15', 'g2,g16', 'g3,g3', 'g3,g4', 'g3,g5', 'g3,g6', 'g3,g7', 'g3,g8', 'g3,g9', 'g3,g10', 'g3,g11', 'g3,g12', 'g3,g13', 'g3,g14', 'g3,g15', 'g3,g16', 'g4,g4', 'g4,g5', 'g4,g6', 'g4,g7', 'g4,g8', 'g4,g9', 'g4,g10', 'g4,g11', 'g4,g12', 'g4,g13', 'g4,g14', 'g4,g15', 'g4,g16', 'g5,g5', 'g5,g6', 'g5,g7', 'g5,g8', 'g5,g9', 'g5,g10', 'g5,g11', 'g5,g12', 'g5,g13', 'g5,g14', 'g5,g15', 'g5,g16', 'g6,g6', 'g6,g7', 'g6,g8', 'g6,g9', 'g6,g10', 'g6,g11', 'g6,g12', 'g6,g13', 'g6,g14', 'g6,g15', 'g6,g16', 'g7,g7', 'g7,g8', 'g7,g9', 'g7,g10', 'g7,g11', 'g7,g12', 'g7,g13', 'g7,g14', 'g7,g15', 'g7,g16', 'g8,g8', 'g8,g9', 'g8,g10', 'g8,g11', 'g8,g12', 'g8,g13', 'g8,g14', 'g8,g15', 'g8,g16', 'g9,g9', 'g9,g10', 'g9,g11', 'g9,g12', 'g9,g13', 'g9,g14', 'g9,g15', 'g9,g16', 'g10,g10', 'g10,g11', 'g10,g12', 'g10,g13', 'g10,g14', 'g10,g15', 'g10,g16', 'g11,g11', 'g11,g12', 'g11,g13', 'g11,g14', 'g11,g15', 'g11,g16', 'g12,g12', 'g12,g13', 'g12,g14', 'g12,g15', 'g12,g16', 'g13,g13', 'g13,g14', 'g13,g15', 'g13,g16', 'g14,g14', 'g14,g15', 'g14,g16', 'g15,g15', 'g15,g16', 'g16,g16']\n",
      "['ombh2', 'omch2', 'cosmomc_theta', 'As', 'ns', 'tau', 'mnu', 'w', 'wa', 'bin1', 'bin2', 'bin3', 'bin4', 'bin5', 'bin6', 'bin7', 'bin8', 'bin9', 'bin10', 'bin11', 'bin12', 'bin13', 'bin14', 'bin15', 'bin16']\n",
      "[0. 1. 3.]\n",
      "['TT', 'TE', 'EE']\n",
      "(25, 25)\n",
      "(9, 9)\n",
      "25\n",
      "9\n"
     ]
    }
   ],
   "source": [
    "# load saved Fobj\n",
    "# get lensing and galaxy Fisher matrix to add\n",
    "\n",
    "import FisherCl as fcl\n",
    "import noiseCl as ncl\n",
    "import crosspower as cp\n",
    "import pickle\n",
    "\n",
    "filehandler = open('Fisher_7_16L.obj','r') # AccuracyBoost=3, lmax=3000, lmaxP=5000, nz=3e5; nonlinear=True,\n",
    "#neutrino_hierarchy = 'degenerate', usePrimaryCMB = True; dndzMode = 1 (kludged); from FisherCl branch quickCl\n",
    "# kludge for this one: told cp.getDNDZinterp to use getDNDZM (Optimistic); set cp.tophat beesBins=True\n",
    "# biasByBin = False (uses sigma(b)/b), dw = 0.05, useNoise = True, nbar = 40 (in FisherCl) dang. should be 66\n",
    "# uses nBins=16 bin version with beesBins v16; modified cp.byeBiasFit to use b(z)=1+z instead of standard 1+0.84*z\n",
    "# shot noise without b^2, kk noise converted from pp (not dd), kk noise divided by 2.5\n",
    "# fiducial w = -0.95; Casarini Halofit version\n",
    "\n",
    "#filehandler = open('Fisher_7_16K.obj','r') # AccuracyBoost=3, lmax=3000, lmaxP=5000, nz=3e5; nonlinear=True,\n",
    "#neutrino_hierarchy = 'degenerate', usePrimaryCMB = True; dndzMode = 1 (kludged); from FisherCl branch quickCl\n",
    "# kludge for this one: told cp.getDNDZinterp to use getDNDZM (Optimistic); set cp.tophat beesBins=True\n",
    "# biasByBin = False (uses sigma(b)/b), dw = 0.05, useNoise = True, nbar = 40 (in FisherCl) dang. should be 66\n",
    "# uses nBins=16 bin version with beesBins v16; modified cp.byeBiasFit to use b(z)=1+z instead of standard 1+0.84*z\n",
    "# shot noise without b^2, kk noise converted from pp (not dd), kk noise divided by 2.5\n",
    "# fiducial w = -0.95\n",
    "\n",
    "\n",
    "#filehandler = open('Fisher_7_16J.obj','r') # AccuracyBoost=3, lmax=3000, lmaxP=5000, nz=3e5; nonlinear=True,\n",
    "#neutrino_hierarchy = 'degenerate', usePrimaryCMB = True; dndzMode = 1 (kludged); from FisherCl branch quickCl\n",
    "# kludge for this one: told cp.getDNDZinterp to use getDNDZM (Optimistic); set cp.tophat beesBins=True\n",
    "# biasByBin = False (uses sigma(b)/b), dw = 0.05, useNoise = True, nbar = 66 (in FisherCl)\n",
    "# uses nBins=16 bin version with beesBins v16; modified cp.byeBiasFit to use b(z)=1+z instead of standard 1+0.84*z\n",
    "# shot noise without b^2, kk noise converted from pp (not dd), kk noise divided by 2.5\n",
    "\n",
    "#filehandler = open('Fisher_7_16I.obj','r') # AccuracyBoost=3, lmax=3000, lmaxP=5000, nz=3e5; nonlinear=True,\n",
    "#neutrino_hierarchy = 'degenerate', usePrimaryCMB = True; dndzMode = 2 (Gold); from FisherCl branch quickCl\n",
    "# set cp.tophat beesBins=True\n",
    "# biasByBin = False (uses sigma(b)/b), dw = 0.05, useNoise = True, nbar = 40 (in FisherCl)\n",
    "# uses nBins=16 bin version with beesBins v16; modified cp.byeBiasFit to use b(z)=1+z instead of standard 1+0.84*z\n",
    "# shot noise without b^2, kk noise converted from pp (not dd), kk noise divided by 2.5\n",
    "\n",
    "#filehandler = open('Fisher_7_16H.obj','r') # AccuracyBoost=3, lmax=3000, lmaxP=5000, nz=3e5; nonlinear=False,\n",
    "#neutrino_hierarchy = 'degenerate', usePrimaryCMB = True; dndzMode = 2 (Gold); from FisherCl branch quickCl\n",
    "# set cp.tophat beesBins=True\n",
    "# biasByBin = False (uses sigma(b)/b), dw = 0.05, useNoise = True, nbar = 66 (in FisherCl) (oops, should be 40)\n",
    "# uses nBins=16 bin version with beesBins v16; modified cp.byeBiasFit to use b(z)=1+z instead of standard 1+0.84*z\n",
    "# shot noise without b^2, kk noise converted from pp (not dd), kk noise divided by 2.5\n",
    "\n",
    "#filehandler = open('Fisher_7_16G.obj','r') # AccuracyBoost=3, lmax=3000, lmaxP=5000, nz=3e5; nonlinear=False,\n",
    "#neutrino_hierarchy = 'degenerate', usePrimaryCMB = True; dndzMode = 1 (kludged); from FisherCl branch quickCl\n",
    "# kludge for this one: told cp.getDNDZinterp to use getDNDZM (Optimistic); set cp.tophat beesBins=True\n",
    "# biasByBin = False (uses sigma(b)/b), dw = 0.05, useNoise = True, nbar = 66 (in FisherCl)\n",
    "# uses nBins=16 bin version with beesBins v16; modified cp.byeBiasFit to use b(z)=1+z instead of standard 1+0.84*z\n",
    "# shot noise without b^2, kk noise converted from pp (not dd), kk noise divided by 2.5\n",
    "\n",
    "\n",
    "\n",
    "\n",
    "#filehandler = open('Fisher_7_6C.obj','r') # AccuracyBoost=3, lmax=3000, lmaxP=5000, nz=3e5; nonlinear=True,\n",
    "#neutrino_hierarchy = 'degenerate', usePrimaryCMB = True; from FisherCl branch quickCl\n",
    "# kludge for this one: told cp.getDNDZinterp to use getDNDZM (Optimistic); set cp.tophat beesBins=True\n",
    "# biasByBin = False (uses sigma(b)/b), dw = 0.05, useNoise = True; nbar=66 (in FisherCl); nBins = 6 (in dndzMode1)\n",
    "# modified cp.byeBiasFit to use b(z)=1+z instead of standard 1+0.84*z\n",
    "\n",
    "#filehandler = open('Fisher_7_6B.obj','r') # AccuracyBoost=3, lmax=3000, lmaxP=5000, nz=3e5; nonlinear=True,\n",
    "#neutrino_hierarchy = 'degenerate', usePrimaryCMB = True; from FisherCl branch quickCl\n",
    "# kludge for this one: told cp.getDNDZinterp to use getDNDZM (Optimistic); set cp.tophat beesBins=True\n",
    "# biasByBin = False (uses sigma(b)/b), dw = 0.05, useNoise = True; nbar=66 (in FisherCl); nBins = 6 (in dndzMode1)\n",
    "\n",
    "#filehandler = open('Fisher_7_6A.obj','r') # AccuracyBoost=3, lmax=3000, lmaxP=5000, nz=3e5; nonlinear=True,\n",
    "#neutrino_hierarchy = 'normal', usePrimaryCMB = True; from FisherCl branch quickCl\n",
    "# kludge for this one: told cp.getDNDZinterp to use modelDNDZ3; set cp.tophat beesBins=True\n",
    "# biasByBin = False (uses sigma(b)/b), dw = 0.05, useNoise = True\n",
    "# apparently this one had way too much shot noise - need to re-make it with fixed code\n",
    "\n",
    "# set nbar = 66 in FisherCl for optimistic\n",
    "#filehandler = open('Fisher_7_16D.obj','r') # AccuracyBoost=3, lmax=3000, lmaxP=5000, nz=3e5; nonlinear=True,\n",
    "#neutrino_hierarchy = 'normal', usePrimaryCMB = True; dndzMode = 1 (kludged); from FisherCl branch quickCl\n",
    "# kludge for this one: told cp.getDNDZinterp to use getDNDZM (Optimistic); set cp.tophat beesBins=True\n",
    "# biasByBin = False (uses sigma(b)/b), dw = 0.05, useNoise = True, nbar = 40\n",
    "# uses nBins=16 bin version with beesBins v16; normBin2 introduced since 7_16C\n",
    "\n",
    "# set nbar = 40 in FisherCl for gold\n",
    "#filehandler = open('Fisher_7_16A2.obj','r') # AccuracyBoost=3, lmax=3000, lmaxP=5000, nz=3e5; nonlinear=True,\n",
    "#neutrino_hierarchy = 'normal', usePrimaryCMB = True; from FisherCl branch quickCl\n",
    "# kludge for this one: told cp.getDNDZinterp to use modelDNDZ with z0=0.3(Gold), dndzMode=2; \n",
    "# set cp.tophat beesBins=True\n",
    "# biasByBin = False (uses sigma(b)/b), dw = 0.05, useNoise = True\n",
    "# uses nBins=16 bin version with beesBins v16\n",
    "\n",
    "\n",
    "#filehandler = open('Fisher_7_6X4_w2_wa.obj','r') # AccuracyBoost=3, lmax=3000, lmaxP=5000, nz=3e5; nonlinear=False,\n",
    "#filehandler = open('Fisher_7_6X4_w2.obj','r') # AccuracyBoost=3, lmax=3000, lmaxP=5000, nz=3e5; nonlinear=False,\n",
    "#filehandler = open('Fisher_7_6X4.obj','r') # AccuracyBoost=3, lmax=3000, lmaxP=5000, nz=3e5; nonlinear=False,\n",
    "#neutrino_hierarchy = 'normal', usePrimaryCMB = True; from FisherCl branch quickCl\n",
    "# kludge for this one: told cp.getDNDZinterp to use modelDNDZ3; set cp.tophat beesBins=True\n",
    "# biasByBin = False (uses sigma(b)/b), dw = 0.005\n",
    "\n",
    "#filehandler = open('Fisher_7_6X2_w2_wa.obj','r') # AccuracyBoost=3, lmax=3000, lmaxP=5000, nz=3e5; nonlinear=True,\n",
    "#filehandler = open('Fisher_7_6X2_w2.obj','r') # AccuracyBoost=3, lmax=3000, lmaxP=5000, nz=3e5; nonlinear=True,\n",
    "#filehandler = open('Fisher_7_6X2.obj','r') # AccuracyBoost=3, lmax=3000, lmaxP=5000, nz=3e5; nonlinear=True,\n",
    "#neutrino_hierarchy = 'normal', usePrimaryCMB = True; from FisherCl branch quickCl\n",
    "# kludge for this one: told cp.getDNDZinterp to use modelDNDZ3; set cp.tophat beesBins=True\n",
    "# biasByBin = False (uses sigma(b)/b), dw = 0.005\n",
    "\n",
    "# this one has TE polarazation to l=5000, but only one galaxy bin\n",
    "#filehandler = open('Fisher_4_1Y.obj','r') # AccuracyBoost=3, lmax=3000, lmaxP=5000; nz=3e5; nonlinear=True,\n",
    "#neutrino_hierarchy = 'normal', usePrimaryCMB = True; from FisherCl branch quickCl\n",
    "# this one used fiducial params and values to match CMB-S4 Science book verification table 8.1\n",
    "\n",
    "Fobj = pickle.load(filehandler) \n",
    "\n",
    "\n",
    "lmin = Fobj.lmin\n",
    "lmax = Fobj.lmax\n",
    "nMaps = Fobj.nBins + 1\n",
    "nParams = Fobj.nParams\n",
    "nCosParams = Fobj.nParams - Fobj.nBins\n",
    "ells = Fobj.ells\n",
    "obsNames = Fobj.obsNames\n",
    "paramList = Fobj.paramList\n",
    "nBins = Fobj.nBins\n",
    "#beesBins = Fobj.beesBins\n",
    "\n",
    "print Fobj.obsList\n",
    "print Fobj.obsNames\n",
    "print Fobj.paramList\n",
    "print Fobj.obsListP\n",
    "print Fobj.obsNamesP\n",
    "\n",
    "print Fobj.Fij.shape\n",
    "print Fobj.FijTE.shape\n",
    "print Fobj.nParams\n",
    "print Fobj.nCosParams\n",
    "\n",
    "#FijTE0 = Fobj.FijTE\n",
    "#invCovP = Fobj.invCovP"
   ]
  },
  {
   "cell_type": "code",
   "execution_count": null,
   "metadata": {},
   "outputs": [],
   "source": []
  },
  {
   "cell_type": "code",
   "execution_count": 51,
   "metadata": {},
   "outputs": [
    {
     "name": "stdout",
     "output_type": "stream",
     "text": [
      "[   2    3    4 ... 2998 2999 3000]\n",
      "[   2    3    4 ... 4998 4999 5000]\n"
     ]
    }
   ],
   "source": [
    "print Fobj.ells\n",
    "print Fobj.ellsP"
   ]
  },
  {
   "cell_type": "code",
   "execution_count": 52,
   "metadata": {},
   "outputs": [],
   "source": [
    "# define ranges for ell, ellP in Fisher matrices\n",
    "myLmin = 50; myLmax=3000\n",
    "myLminP = 50; myLmaxP=5000"
   ]
  },
  {
   "cell_type": "code",
   "execution_count": 53,
   "metadata": {},
   "outputs": [
    {
     "name": "stdout",
     "output_type": "stream",
     "text": [
      "Clkk shape:  (2999,)\n",
      "dClkk shape:  (25, 2999)\n",
      "parameters:  ['ombh2', 'omch2', 'cosmomc_theta', 'As', 'ns', 'tau', 'mnu', 'w', 'wa']\n",
      "kappa-only, noise-free Fisher matrix:\n",
      "[[ 3.46611696e+09 -3.01954303e+09  5.04149387e+10 -7.38081931e+16\n",
      "  -1.78426332e+08  6.95033058e+04  4.82271649e+07  1.37180324e+07\n",
      "   6.30288678e+06]\n",
      " [-3.01954303e+09  2.63065882e+09 -4.39250233e+10  6.43190398e+16\n",
      "   1.55312263e+08 -6.06666675e+04 -4.20226943e+07 -1.19555306e+07\n",
      "  -5.49386352e+06]\n",
      " [ 5.04149387e+10 -4.39250233e+10  7.33503725e+11 -1.07438216e+18\n",
      "  -2.58898963e+09  1.01677377e+06  7.01841115e+08  1.99711207e+08\n",
      "   9.18006062e+07]\n",
      " [-7.38081931e+16  6.43190398e+16 -1.07438216e+18  1.57542356e+24\n",
      "   3.76771304e+15 -1.50986365e+12 -1.02869493e+15 -2.92823192e+14\n",
      "  -1.34766680e+14]\n",
      " [-1.78426332e+08  1.55312263e+08 -2.58898963e+09  3.76771304e+15\n",
      "   9.51767611e+06 -3.26574758e+03 -2.46801607e+06 -7.01496945e+05\n",
      "  -3.19821308e+05]\n",
      " [ 6.95033058e+04 -6.06666675e+04  1.01677377e+06 -1.50986365e+12\n",
      "  -3.26574758e+03  1.68667782e+00  9.80824519e+02  2.79454914e+02\n",
      "   1.30740245e+02]\n",
      " [ 4.82271649e+07 -4.20226943e+07  7.01841115e+08 -1.02869493e+15\n",
      "  -2.46801607e+06  9.80824519e+02  6.71862336e+05  1.91197091e+05\n",
      "   8.79528907e+04]\n",
      " [ 1.37180324e+07 -1.19555306e+07  1.99711207e+08 -2.92823192e+14\n",
      "  -7.01496945e+05  2.79454914e+02  1.91197091e+05  5.44601051e+04\n",
      "   2.50518389e+04]\n",
      " [ 6.30288678e+06 -5.49386352e+06  9.18006062e+07 -1.34766680e+14\n",
      "  -3.19821308e+05  1.30740245e+02  8.79528907e+04  2.50518389e+04\n",
      "   1.15430534e+04]]\n"
     ]
    }
   ],
   "source": [
    "# make a noise-free kk-only Fisher matrix\n",
    "Clkk = Fobj.crossCls[0,0]\n",
    "dClkk = Fobj.dClVecs[0]\n",
    "print 'Clkk shape: ',Clkk.shape\n",
    "print 'dClkk shape: ',dClkk.shape\n",
    "cov_kk = 2*Clkk**2 / (2*ells+1)\n",
    "Fij_kk = np.zeros((nCosParams,nCosParams))\n",
    "minEllInd = myLmin-lmin  # eg. 50-2\n",
    "for pNum1 in range(nCosParams):\n",
    "    for pNum2 in range(pNum1,nCosParams):\n",
    "        # the next line does the summation over ell\n",
    "        Fij_kk[pNum1,pNum2] = np.sum(dClkk[pNum1,minEllInd:]*dClkk[pNum2,minEllInd:]/cov_kk[minEllInd:])\n",
    "        Fij_kk[pNum2,pNum1] = Fij_kk[pNum1,pNum2]\n",
    "print 'parameters: ',Fobj.paramList[:nCosParams]\n",
    "print 'kappa-only, noise-free Fisher matrix:'\n",
    "print Fij_kk"
   ]
  },
  {
   "cell_type": "code",
   "execution_count": null,
   "metadata": {},
   "outputs": [],
   "source": []
  },
  {
   "cell_type": "code",
   "execution_count": null,
   "metadata": {},
   "outputs": [],
   "source": []
  },
  {
   "cell_type": "markdown",
   "metadata": {},
   "source": [
    "# Add noise to kg, k and TE covariance matrices"
   ]
  },
  {
   "cell_type": "code",
   "execution_count": 54,
   "metadata": {
    "scrolled": true
   },
   "outputs": [
    {
     "name": "stdout",
     "output_type": "stream",
     "text": [
      "done\n"
     ]
    }
   ],
   "source": [
    "# get copies of original version with lmin=50\n",
    "Fij_kg = Fobj.makeFisher(myLmin)\n",
    "Fij_TE = Fobj.makeFisher(myLminP,TE=True)\n",
    "print 'done'"
   ]
  },
  {
   "cell_type": "code",
   "execution_count": 55,
   "metadata": {},
   "outputs": [
    {
     "name": "stdout",
     "output_type": "stream",
     "text": [
      "creating noise arrays... \n",
      "getting (EB) lensing reconstruction noise... \n",
      "[00:00:00] calculating full-sky noise level for estimator of type <class 'quicklens.qest.lens.phi_EB'>\n",
      "getting galaxy shot noise... \n",
      "getting (primary CMB) detector noise...\n",
      "(17, 17, 2999)\n",
      "(2, 2, 4999)\n"
     ]
    },
    {
     "name": "stderr",
     "output_type": "stream",
     "text": [
      "/opt/local/Library/Frameworks/Python.framework/Versions/2.7/lib/python2.7/site-packages/ipykernel_launcher.py:100: ComplexWarning: Casting complex values to real discards the imaginary part\n"
     ]
    }
   ],
   "source": [
    "# copy some code from FisherCl\n",
    "from scipy.interpolate import interp1d\n",
    "# there are 3 places in this cell to edit for z0,beesBins,modelDNDZ3\n",
    "\n",
    "#dndzMode = 1\n",
    "#dndzMode = 2\n",
    "dndzMode = Fobj.dndzMode\n",
    "#in dndzMode 2, select z0\n",
    "z0 = 0.3 # for use with cp.modelDNDZ\n",
    "#z0 = 0.5 # for use wiht cp.modelDNDZ3\n",
    "\n",
    "print 'creating noise arrays... '\n",
    "\n",
    "print 'getting (EB) lensing reconstruction noise... '\n",
    "# noise levels from a possible CMB-S4 design:\n",
    "nlev_t     = 1.   # temperature noise level, in uK.arcmin.\n",
    "nlev_p     = 1.414   # polarization noise level, in uK.arcmin.\n",
    "beam_fwhm  = 1.   # Gaussian beam full-width-at-half-maximum.\n",
    "\n",
    "#ells,EB_noise = ncl.getRecNoise(self.lmax,nlev_t,nlev_p,beam_fwhm)\n",
    "ellsQC,EB_noise = ncl.getRecNoise(lmax,nlev_t,nlev_p,beam_fwhm)\n",
    "\n",
    "# convert Nl^dd to Nl^kk\n",
    "# use Cl^kk = 1/4*[l*(l+1)]^2 * Cl^phiphi?\n",
    "# but d is in between k and phi, so...?\n",
    "# Scratch that.\n",
    "# Assume output of quicklens is Cl^phiphi\n",
    "Nlkk = EB_noise * (ellsQC*(ellsQC+1)/2)**2\n",
    "\n",
    "# no, assume it's Nl^dd\n",
    "# this formula is a reasonable guess based on Fourier analog.\n",
    "#Nlkk = EB_noise * ellsQC*(ellsQC+1)/4\n",
    "\n",
    "# scale by factor of 1/2.5 as was done in Marcel's paper\n",
    "Nlkk /= 2.5\n",
    "\n",
    "print 'getting galaxy shot noise... '\n",
    "# From Schaan et. al.: LSST n_source = 26/arcmin^2 for full survey\n",
    "#nbar = 26 # arcmin^-2\n",
    "if dndzMode == 1:\n",
    "    nbar = 66 # for optimistic dndz\n",
    "else: #dndzMode 2\n",
    "    nbar = 40 # for gold dndz\n",
    "\n",
    "    \n",
    "# the selection of beesBins must be consistent with that which is selected in cp.tophat\n",
    "beesBins = True\n",
    "#beesBins = False\n",
    "if beesBins:\n",
    "    if nBins == 6:\n",
    "        binEdges = [0.0,0.5,1.0,2.0,3.0,4.0,7.0]\n",
    "    elif nBins == 16:\n",
    "        binEdges = [0.0, 0.2, 0.4, 0.6, 0.8, 1.0, 1.2, 1.4, 1.6, 1.8, 2.0, \n",
    "                    2.3, 2.6, 3.0, 3.5, 4.0, 7.0]\n",
    "else:\n",
    "    #binEdges = np.linspace(self.zmin,self.zmax,self.nBins+1)\n",
    "    #nBins = self.nBins\n",
    "    binEdges = np.linspace(Fobj.zmin,Fobj.zmax,Fobj.nBins+1)\n",
    "    nBins = Fobj.nBins\n",
    "    print 'binEdges: ',binEdges,', nBins: ',nBins\n",
    "\n",
    "if dndzMode == 1:\n",
    "    zs,dndz = cp.getDNDZM(binNum=0)\n",
    "    lowZInd = np.where(zs == binEdges[0])[0][1]\n",
    "    highZInd = np.where(zs == binEdges[-1])[0][1]\n",
    "    myDNDZ = interp1d(zs[lowZInd:highZInd],dndz[lowZInd:highZInd])\n",
    "else: # dndzMode 2\n",
    "    # the selection of dndz function must be consistent with that which is selected in cp.getDNDZinterp\n",
    "    # myDNDZ must be a function only of z\n",
    "    myDNDZ = lambda z: cp.modelDNDZ(z,z0)\n",
    "    #myDNDZ = lambda z: cp.modelDNDZ3(z,z0)\n",
    "\n",
    "#rawDNDZ = cp.getDNDZinterp(binNum=0,BPZ=BPZ,zmin=zmin,zmax=zmax,dndzMode=dndzMode,\n",
    "#                           binSmooth=binSmooth,z0=z0,nBins=nBins)\n",
    "\n",
    "\n",
    "N_gg = ncl.shotNoise(nbar,binEdges,myDNDZ=myDNDZ)\n",
    "\n",
    "# testing with nbar in each bin\n",
    "# convert arcmin^-2 to sr^-1 : use (arcmin/rad)^2\n",
    "#arcminPerRad = 60*180/np.pi\n",
    "#nbarSr = nbar*(arcminPerRad)**2\n",
    "#print 'nbar: ',nbar,'nbarSr: ',nbarSr\n",
    "#N_gg = np.zeros(nBins)\n",
    "#for binNum in range(nBins):\n",
    "#    N_gg[binNum] = 1.0/nbarSr\n",
    "\n",
    "\n",
    "\n",
    "# create noiseCls array to accompany crossCls: \n",
    "#  Nl^kk will be reconstruction noise\n",
    "#  Nl^gigi will be shot noise\n",
    "#  Nl^kg, Nl^gigj are zero because noise is uncorrelated\n",
    "\n",
    "#self.noiseCls = np.zeros(self.crossCls.shape)\n",
    "#self.noiseCls[0,0] = Nlkk[self.lmin:self.lmax+1]\n",
    "#for binNum in range(nBins):\n",
    "#    self.noiseCls[binNum+1,binNum+1] = N_gg[binNum]*np.ones(self.lmax-self.lmin+1)\n",
    "noiseCls = np.zeros(Fobj.crossCls.shape)\n",
    "noiseCls[0,0] = Nlkk[Fobj.lmin:Fobj.lmax+1]\n",
    "for binNum in range(nBins):\n",
    "    noiseCls[binNum+1,binNum+1] = N_gg[binNum]*np.ones(Fobj.lmax-Fobj.lmin+1)\n",
    "    # or scale by galaxy bias:\n",
    "    #noiseCls[binNum+1,binNum+1] = N_gg[binNum]*np.ones(Fobj.lmax-Fobj.lmin+1)*Fobj.binBs[binNum]**2\n",
    "\n",
    "# scale down noise in last bin; looking for a response to actually having this bin here!\n",
    "#noiseCls[-1,-1] *= 0.1\n",
    "\n",
    "print 'getting (primary CMB) detector noise...'\n",
    "# CMBS4 v1\n",
    "fwhm = 1; ST = 1; SP = ST*1.414\n",
    "#noiseCMBS4_TT1 = ncl.noisePower(ST,ST,fwhm,self.ellsP)\n",
    "#noiseCMBS4_TP1 = ncl.noisePower(ST,SP,fwhm,self.ellsP)\n",
    "#noiseCMBS4_PP1 = ncl.noisePower(SP,SP,fwhm,self.ellsP)\n",
    "noiseCMBS4_TT1 = ncl.noisePower(ST,ST,fwhm,Fobj.ellsP)\n",
    "#noiseCMBS4_TP1 = ncl.noisePower(ST,SP,fwhm,Fobj.ellsP)\n",
    "noiseCMBS4_PP1 = ncl.noisePower(SP,SP,fwhm,Fobj.ellsP)\n",
    "\n",
    "# CMBS4 v2\n",
    "#fwhm = 2; ST = 1; SP = ST*1.414\n",
    "#noiseCMBS4_TT2 = ncl.noisePower(ST,ST,fwhm,self.ellsP)\n",
    "#noiseCMBS4_TP2 = ncl.noisePower(ST,SP,fwhm,self.ellsP)\n",
    "#noiseCMBS4_PP2 = ncl.noisePower(SP,SP,fwhm,self.ellsP)\n",
    "\n",
    "# set TE noise to zero\n",
    "noiseCMBS4_TP1 = np.zeros(Fobj.ellsP.__len__())\n",
    "\n",
    "# shape like crossCls\n",
    "noiseCls1 = np.array([[noiseCMBS4_TT1,noiseCMBS4_TP1],[noiseCMBS4_TP1,noiseCMBS4_PP1]])\n",
    "#noiseCls2 = np.array([[noiseCMBS4_TT2,noiseCMBS4_TP2],[noiseCMBS4_TP2,noiseCMBS4_PP2]])\n",
    "\n",
    "# pick one\n",
    "#self.noiseClsP = noiseCls1\n",
    "noiseClsP = noiseCls1\n",
    "\n",
    "print noiseCls.shape\n",
    "print noiseClsP.shape"
   ]
  },
  {
   "cell_type": "code",
   "execution_count": 56,
   "metadata": {},
   "outputs": [
    {
     "name": "stdout",
     "output_type": "stream",
     "text": [
      "[5.76215288e-09 4.61082829e-09 4.26981101e-09 ... 5.12316638e-08\n",
      " 5.12363911e-08 5.12411274e-08]\n",
      "[0. 0. 0. ... 0. 0. 0.]\n",
      "[3.93393315e-08 3.93393315e-08 3.93393315e-08 ... 3.93393315e-08\n",
      " 3.93393315e-08 3.93393315e-08]\n",
      "[8.46159577e-08 8.46159654e-08 8.46159758e-08 ... 1.23888050e-07\n",
      " 1.23906952e-07 1.23925861e-07]\n",
      "[0. 0. 0. ... 0. 0. 0.]\n",
      "[1.69180807e-07 1.69180823e-07 1.69180843e-07 ... 2.47701271e-07\n",
      " 2.47739064e-07 2.47776870e-07]\n"
     ]
    }
   ],
   "source": [
    "print noiseCls[0,0]\n",
    "print noiseCls[0,1]\n",
    "print noiseCls[1,1]\n",
    "\n",
    "print noiseClsP[0,0]\n",
    "print noiseClsP[0,1]\n",
    "print noiseClsP[1,1]"
   ]
  },
  {
   "cell_type": "code",
   "execution_count": 57,
   "metadata": {
    "scrolled": true
   },
   "outputs": [
    {
     "name": "stdout",
     "output_type": "stream",
     "text": [
      "starting covariance set  1  of  17 ... \n",
      "starting covariance set  2  of  17 ... \n",
      "starting covariance set  3  of  17 ... \n",
      "starting covariance set  4  of  17 ... \n",
      "starting covariance set  5  of  17 ... \n",
      "starting covariance set  6  of  17 ... \n",
      "starting covariance set  7  of  17 ... \n",
      "starting covariance set  8  of  17 ... \n",
      "starting covariance set  9  of  17 ... \n",
      "starting covariance set  10  of  17 ... \n",
      "starting covariance set  11  of  17 ... \n",
      "starting covariance set  12  of  17 ... \n",
      "starting covariance set  13  of  17 ... \n",
      "starting covariance set  14  of  17 ... \n",
      "starting covariance set  15  of  17 ... \n",
      "starting covariance set  16  of  17 ... \n",
      "starting covariance set  17  of  17 ... \n",
      "starting covariance set  1  of  2 ... \n",
      "starting covariance set  2  of  2 ... \n",
      "(153, 153, 2999)\n",
      "(3, 3, 4999)\n"
     ]
    }
   ],
   "source": [
    "# make covariance matrices with noise\n",
    "covar, invCov ,ells ,obsList  = Fobj.makeCovar(Fobj.crossCls ,noiseCls ,lmin,myLmax )\n",
    "covarP,invCovP,ellsP,obsListP = Fobj.makeCovar(Fobj.crossClsP,noiseClsP,lmin,myLmaxP)\n",
    "\n",
    "print invCov.shape\n",
    "print invCovP.shape"
   ]
  },
  {
   "cell_type": "code",
   "execution_count": null,
   "metadata": {},
   "outputs": [],
   "source": []
  },
  {
   "cell_type": "markdown",
   "metadata": {},
   "source": [
    "# Calculate kg, TE, k Fisher matrices with noise included"
   ]
  },
  {
   "cell_type": "code",
   "execution_count": 58,
   "metadata": {},
   "outputs": [
    {
     "name": "stdout",
     "output_type": "stream",
     "text": [
      "[   2    3    4 ... 2998 2999 3000]\n",
      "[   0    1    2 ... 2998 2999 3000]\n"
     ]
    }
   ],
   "source": [
    "# check ell ranges for kappa noise\n",
    "print ells\n",
    "print ellsQC"
   ]
  },
  {
   "cell_type": "code",
   "execution_count": 59,
   "metadata": {
    "scrolled": true
   },
   "outputs": [
    {
     "name": "stdout",
     "output_type": "stream",
     "text": [
      "Clkk shape:  (2999,)\n",
      "dClkk shape:  (25, 2999)\n",
      "parameters:  ['ombh2', 'omch2', 'cosmomc_theta', 'As', 'ns', 'tau', 'mnu', 'w', 'wa']\n",
      "kappa-only, noise-included Fisher matrix:\n",
      "[[ 2.38599364e+08 -2.09387428e+08  3.54849384e+09 -5.53132535e+15\n",
      "  -7.53747378e+06  9.28002762e+03  3.53966260e+06  1.00418236e+06\n",
      "   4.98696557e+05]\n",
      " [-2.09387428e+08  1.83880856e+08 -3.11852091e+09  4.86899529e+15\n",
      "   6.53878619e+06 -8.21466472e+03 -3.11273626e+06 -8.85305209e+05\n",
      "  -4.39901138e+05]\n",
      " [ 3.54849384e+09 -3.11852091e+09  5.29299970e+10 -8.27876993e+16\n",
      "  -1.09365738e+08  1.40565428e+05  5.28712710e+07  1.50763505e+07\n",
      "   7.49640495e+06]\n",
      " [-5.53132535e+15  4.86899529e+15 -8.27876993e+16  1.30162945e+23\n",
      "   1.63756799e+14 -2.25410210e+11 -8.29485962e+13 -2.37778608e+13\n",
      "  -1.18535316e+13]\n",
      " [-7.53747378e+06  6.53878619e+06 -1.09365738e+08  1.63756799e+14\n",
      "   3.06398987e+05 -2.29007176e+02 -1.06536634e+05 -2.90636803e+04\n",
      "  -1.41035741e+04]\n",
      " [ 9.28002762e+03 -8.21466472e+03  1.40565428e+05 -2.25410210e+11\n",
      "  -2.29007176e+02  4.21267079e-01  1.42624681e+02  4.15308230e+01\n",
      "   2.09382862e+01]\n",
      " [ 3.53966260e+06 -3.11273626e+06  5.28712710e+07 -8.29485962e+13\n",
      "  -1.06536634e+05  1.42624681e+02  5.29398692e+04  1.51193269e+04\n",
      "   7.53221088e+03]\n",
      " [ 1.00418236e+06 -8.85305209e+05  1.50763505e+07 -2.37778608e+13\n",
      "  -2.90636803e+04  4.15308230e+01  1.51193269e+04  4.36091109e+03\n",
      "   2.17494007e+03]\n",
      " [ 4.98696557e+05 -4.39901138e+05  7.49640495e+06 -1.18535316e+13\n",
      "  -1.41035741e+04  2.09382862e+01  7.53221088e+03  2.17494007e+03\n",
      "   1.08672361e+03]]\n"
     ]
    },
    {
     "name": "stderr",
     "output_type": "stream",
     "text": [
      "/opt/local/Library/Frameworks/Python.framework/Versions/2.7/lib/python2.7/site-packages/ipykernel_launcher.py:17: ComplexWarning: Casting complex values to real discards the imaginary part\n"
     ]
    }
   ],
   "source": [
    "# remake kk covar and fisher with noise\n",
    "\n",
    "#Clkk = Fobj.crossCls[0,0]\n",
    "#dClkk = Fobj.dClVecs[0]\n",
    "\n",
    "# add noise to crossCls for making covar\n",
    "Clkk2 = Fobj.crossCls[0,0]+Nlkk[lmin:]\n",
    "\n",
    "print 'Clkk shape: ',Clkk2.shape\n",
    "print 'dClkk shape: ',dClkk.shape\n",
    "cov_kk2 = 2*Clkk2**2 / (2*ells+1)\n",
    "Fij_kk2 = np.zeros((nCosParams,nCosParams))\n",
    "minEllInd = myLmin-lmin  # eg. 50-2\n",
    "for pNum1 in range(nCosParams):\n",
    "    for pNum2 in range(pNum1,nCosParams):\n",
    "        # the next line does the summation over ell\n",
    "        Fij_kk2[pNum1,pNum2] = np.sum(dClkk[pNum1,minEllInd:]*dClkk[pNum2,minEllInd:]/cov_kk2[minEllInd:])\n",
    "        Fij_kk2[pNum2,pNum1] = Fij_kk2[pNum1,pNum2]\n",
    "print 'parameters: ',Fobj.paramList[:nCosParams]\n",
    "print 'kappa-only, noise-included Fisher matrix:'\n",
    "print Fij_kk2"
   ]
  },
  {
   "cell_type": "code",
   "execution_count": 60,
   "metadata": {},
   "outputs": [
    {
     "name": "stdout",
     "output_type": "stream",
     "text": [
      "done.\n"
     ]
    }
   ],
   "source": [
    "# now the kg, TE ones\n",
    "\n",
    "# Insert into Fobj to get new Fij, FijTE\n",
    "Fobj.invCov  = invCov\n",
    "Fobj.invCovP = invCovP\n",
    "Fij_kg2 = Fobj.makeFisher(myLmin)\n",
    "Fij_TE2 = Fobj.makeFisher(myLminP,TE=True)\n",
    "\n",
    "# restore originals\n",
    "#Fobj.invCov  = invCov_o\n",
    "#Fobj.invCovP = invCovP_o\n",
    "print 'done.'"
   ]
  },
  {
   "cell_type": "code",
   "execution_count": 61,
   "metadata": {},
   "outputs": [
    {
     "data": {
      "text/plain": [
       "\"\\nprint 'kappa-galaxy Fisher matrix:'\\nprint Fij_kg2\\nprint 'T-E Fisher matrix:'\\nprint Fij_TE2\\n\""
      ]
     },
     "execution_count": 61,
     "metadata": {},
     "output_type": "execute_result"
    }
   ],
   "source": [
    "\"\"\"\n",
    "print 'kappa-galaxy Fisher matrix:'\n",
    "print Fij_kg2\n",
    "print 'T-E Fisher matrix:'\n",
    "print Fij_TE2\n",
    "\"\"\""
   ]
  },
  {
   "cell_type": "code",
   "execution_count": null,
   "metadata": {},
   "outputs": [],
   "source": []
  },
  {
   "cell_type": "markdown",
   "metadata": {},
   "source": [
    "# Save Fobj with noise included"
   ]
  },
  {
   "cell_type": "code",
   "execution_count": 62,
   "metadata": {},
   "outputs": [
    {
     "name": "stdout",
     "output_type": "stream",
     "text": [
      "done.\n"
     ]
    }
   ],
   "source": [
    "Fobj_X2n = Fobj # is this a copy or an identity?  Don't know; hope it's a copy\n",
    "Fobj_X2n.covar = covar\n",
    "Fobj_X2n.covarP = covarP\n",
    "Fobj_X2n.invCov = invCov\n",
    "Fobj_X2n.invCovP = invCovP\n",
    "Fobj_X2n.noiseCls = noiseCls\n",
    "Fobj_X2n.noiseClsP = noiseClsP\n",
    "Fobj_X2n.Fij = Fobj_X2n.makeFisher(Fobj.lmin)\n",
    "Fobj_X2n.FijTE = Fobj_X2n.makeFisher(Fobj.lminP,TE=True)\n",
    "# was that really everything noise-related that I want to add in to save?\n",
    "print 'done.'"
   ]
  },
  {
   "cell_type": "code",
   "execution_count": 63,
   "metadata": {},
   "outputs": [
    {
     "name": "stdout",
     "output_type": "stream",
     "text": [
      "done\n"
     ]
    }
   ],
   "source": [
    "#\"\"\"\n",
    "import pickle\n",
    "\n",
    "filehandler = open('Fisher_7_16Ln0.obj','w') # AccuracyBoost=3, lmax=3000, lmaxP=5000, nz=3e5; nonlinear=True,\n",
    "#neutrino_hierarchy = 'degenerate', usePrimaryCMB = True; dndzMode = 1 (kludged); from FisherCl branch quickCl\n",
    "# kludge for this one: told cp.getDNDZinterp to use getDNDZM (Optimistic); set cp.tophat beesBins=True\n",
    "# biasByBin = False (uses sigma(b)/b), dw = 0.05, useNoise = True, nbar = 40 (in FisherCl) dang. should be 66\n",
    "# uses nBins=16 bin version with beesBins v16; modified cp.byeBiasFit to use b(z)=1+z instead of standard 1+0.84*z\n",
    "# shot noise without b^2, kk noise converted from pp (not dd), kk noise divided by 2.5\n",
    "# fiducial w = -0.95; Casarini Halofit version\n",
    "\n",
    "#filehandler = open('Fisher_7_16Kn0.obj','w') # AccuracyBoost=3, lmax=3000, lmaxP=5000, nz=3e5; nonlinear=True,\n",
    "#neutrino_hierarchy = 'degenerate', usePrimaryCMB = True; dndzMode = 1 (kludged); from FisherCl branch quickCl\n",
    "# kludge for this one: told cp.getDNDZinterp to use getDNDZM (Optimistic); set cp.tophat beesBins=True\n",
    "# biasByBin = False (uses sigma(b)/b), dw = 0.05, useNoise = True, nbar = 40 (in FisherCl) dang. should be 66\n",
    "# uses nBins=16 bin version with beesBins v16; modified cp.byeBiasFit to use b(z)=1+z instead of standard 1+0.84*z\n",
    "# shot noise without b^2, kk noise converted from pp (not dd), kk noise divided by 2.5\n",
    "# fiducial w = -0.95\n",
    "\n",
    "\n",
    "#filehandler = open('Fisher_7_16Jn0.obj','w') # AccuracyBoost=3, lmax=3000, lmaxP=5000, nz=3e5; nonlinear=True,\n",
    "#neutrino_hierarchy = 'degenerate', usePrimaryCMB = True; dndzMode = 1 (kludged); from FisherCl branch quickCl\n",
    "# kludge for this one: told cp.getDNDZinterp to use getDNDZM (Optimistic); set cp.tophat beesBins=True\n",
    "# biasByBin = False (uses sigma(b)/b), dw = 0.05, useNoise = True, nbar = 66 (in FisherCl)\n",
    "# uses nBins=16 bin version with beesBins v16; modified cp.byeBiasFit to use b(z)=1+z instead of standard 1+0.84*z\n",
    "# shot noise without b^2, kk noise converted from pp (not dd), kk noise divided by 2.5\n",
    "\n",
    "#filehandler = open('Fisher_7_16In0.obj','w') # AccuracyBoost=3, lmax=3000, lmaxP=5000, nz=3e5; nonlinear=True,\n",
    "#neutrino_hierarchy = 'degenerate', usePrimaryCMB = True; dndzMode = 2 (Gold); from FisherCl branch quickCl\n",
    "# set cp.tophat beesBins=True\n",
    "# biasByBin = False (uses sigma(b)/b), dw = 0.05, useNoise = True, nbar = 40 (in FisherCl)\n",
    "# uses nBins=16 bin version with beesBins v16; modified cp.byeBiasFit to use b(z)=1+z instead of standard 1+0.84*z\n",
    "# shot noise without b^2, kk noise converted from pp (not dd), kk noise divided by 2.5\n",
    "\n",
    "#filehandler = open('Fisher_7_16Hn0.obj','w') # AccuracyBoost=3, lmax=3000, lmaxP=5000, nz=3e5; nonlinear=False,\n",
    "#neutrino_hierarchy = 'degenerate', usePrimaryCMB = True; dndzMode = 2 (Gold); from FisherCl branch quickCl\n",
    "# set cp.tophat beesBins=True\n",
    "# biasByBin = False (uses sigma(b)/b), dw = 0.05, useNoise = True, nbar = 40 (in FisherCl)\n",
    "# uses nBins=16 bin version with beesBins v16; modified cp.byeBiasFit to use b(z)=1+z instead of standard 1+0.84*z\n",
    "# shot noise without b^2, kk noise converted from pp (not dd), kk noise divided by 2.5\n",
    "\n",
    "#filehandler = open('Fisher_7_16Gn0.obj','w') # AccuracyBoost=3, lmax=3000, lmaxP=5000, nz=3e5; nonlinear=False,\n",
    "#neutrino_hierarchy = 'degenerate', usePrimaryCMB = True; dndzMode = 1 (kludged); from FisherCl branch quickCl\n",
    "# kludge for this one: told cp.getDNDZinterp to use getDNDZM (Optimistic); set cp.tophat beesBins=True\n",
    "# biasByBin = False (uses sigma(b)/b), dw = 0.05, useNoise = True, nbar = 66 (in FisherCl)\n",
    "# uses nBins=16 bin version with beesBins v16; modified cp.byeBiasFit to use b(z)=1+z instead of standard 1+0.84*z\n",
    "# shot noise without b^2, kk noise converted from pp (not dd), kk noise divided by 2.5\n",
    "\n",
    "\n",
    "\n",
    "#filehandler = open('Fisher_7_6Cn.obj','w') # AccuracyBoost=3, lmax=3000, lmaxP=5000, nz=3e5; nonlinear=True,\n",
    "#neutrino_hierarchy = 'degenerate', usePrimaryCMB = True; from FisherCl branch quickCl\n",
    "# kludge for this one: told cp.getDNDZinterp to use getDNDZM (Optimistic); set cp.tophat beesBins=True\n",
    "# biasByBin = False (uses sigma(b)/b), dw = 0.05, useNoise = True; nbar=66 (in FisherCl); nBins = 6 (in dndzMode1)\n",
    "# modified cp.byeBiasFit to use b(z)=1+z instead of standard 1+0.84*z\n",
    "\n",
    "#filehandler = open('Fisher_7_6Bn.obj','w') # AccuracyBoost=3, lmax=3000, lmaxP=5000, nz=3e5; nonlinear=True,\n",
    "#neutrino_hierarchy = 'degenerate', usePrimaryCMB = True; from FisherCl branch quickCl\n",
    "# kludge for this one: told cp.getDNDZinterp to use getDNDZM (Optimistic); set cp.tophat beesBins=True\n",
    "# biasByBin = False (uses sigma(b)/b), dw = 0.05, useNoise = True; nbar=66 (in FisherCl); nBins = 6 (in dndzMode1)\n",
    "# galaxy shot noise re-made without b*2 scaling, reconstruction noise re-made with phi->k not d->k\n",
    "\n",
    "#filehandler = open('Fisher_7_6An.obj','w') # AccuracyBoost=3, lmax=3000, lmaxP=5000, nz=3e5; nonlinear=True,\n",
    "#neutrino_hierarchy = 'normal', usePrimaryCMB = True; from FisherCl branch quickCl\n",
    "# kludge for this one: told cp.getDNDZinterp to use modelDNDZ3 (neither gold nor optimistic); \n",
    "# set cp.tophat beesBins=True; biasByBin = False (uses sigma(b)/b), dw = 0.05\n",
    "# useNoise = True; noise level fixed: nbar = 66\n",
    "\n",
    "# set nbar = 66 in FisherCl for optimistic\n",
    "#filehandler = open('Fisher_7_16D_nbar66.obj','w') # AccuracyBoost=3, lmax=3000, lmaxP=5000, nz=3e5; nonlinear=True,\n",
    "#neutrino_hierarchy = 'normal', usePrimaryCMB = True; dndzMode = 1 (kludged); from FisherCl branch quickCl\n",
    "# kludge for this one: told cp.getDNDZinterp to use getDNDZM (Optimistic); set cp.tophat beesBins=True\n",
    "# biasByBin = False (uses sigma(b)/b), dw = 0.05, useNoise = True, nbar = 40\n",
    "# uses nBins=16 bin version with beesBins v16; normBin2 introduced since 7_16C\n",
    "\n",
    "# set nbar = 40 in FisherCl for gold\n",
    "#filehandler = open('Fisher_7_16A2_nbar40.obj','w') # AccuracyBoost=3, lmax=3000, lmaxP=5000, nz=3e5; nonlinear=True,\n",
    "#neutrino_hierarchy = 'normal', usePrimaryCMB = True; from FisherCl branch quickCl\n",
    "# kludge for this one: told cp.getDNDZinterp to use modelDNDZ with z0=0.3(Gold), dndzMode=2; \n",
    "# set cp.tophat beesBins=True\n",
    "# biasByBin = False (uses sigma(b)/b), dw = 0.05, useNoise = True\n",
    "# uses nBins=16 bin version with beesBins v16\n",
    "\n",
    "\n",
    "# set nbar = 66 in FisherCl for optimistic\n",
    "#filehandler = open('Fisher_7_16D_nBad.obj','w') # AccuracyBoost=3, lmax=3000, lmaxP=5000, nz=3e5; nonlinear=True,\n",
    "#neutrino_hierarchy = 'normal', usePrimaryCMB = True; dndzMode = 1 (kludged); from FisherCl branch quickCl\n",
    "# kludge for this one: told cp.getDNDZinterp to use getDNDZM (Optimistic); set cp.tophat beesBins=True\n",
    "# biasByBin = False (uses sigma(b)/b), dw = 0.05, useNoise = True, nbar = 40\n",
    "# uses nBins=16 bin version with beesBins v16; normBin2 introduced since 7_16C\n",
    "\n",
    "# set nbar = 40 in FisherCl for gold\n",
    "#filehandler = open('Fisher_7_16A2_nBad.obj','w') # AccuracyBoost=3, lmax=3000, lmaxP=5000, nz=3e5; nonlinear=True,\n",
    "#neutrino_hierarchy = 'normal', usePrimaryCMB = True; from FisherCl branch quickCl\n",
    "# kludge for this one: told cp.getDNDZinterp to use modelDNDZ with z0=0.3(Gold), dndzMode=2; \n",
    "# set cp.tophat beesBins=True\n",
    "# biasByBin = False (uses sigma(b)/b), dw = 0.05, useNoise = True\n",
    "# uses nBins=16 bin version with beesBins v16\n",
    "\n",
    "#filehandler = open('Fisher_7_6X4_w2_wan.obj','w') # AccuracyBoost=3, lmax=3000, lmaxP=5000, nz=3e5; nonlinear=False,\n",
    "#filehandler = open('Fisher_7_6X4_w2n.obj','w') # AccuracyBoost=3, lmax=3000, lmaxP=5000, nz=3e5; nonlinear=False,\n",
    "#filehandler = open('Fisher_7_6X4n.obj','w') # AccuracyBoost=3, lmax=3000, lmaxP=5000, nz=3e5; nonlinear=False,\n",
    "#neutrino_hierarchy = 'normal', usePrimaryCMB = True; from FisherCl branch quickCl\n",
    "# kludge for this one: told cp.getDNDZinterp to use modelDNDZ3; set cp.tophat beesBins=True\n",
    "# biasByBin = False (uses sigma(b)/b), dw = 0.005; X2n version has noise included\n",
    "\n",
    "#filehandler = open('Fisher_7_6X2_w2_wan.obj','w') # AccuracyBoost=3, lmax=3000, lmaxP=5000, nz=3e5; nonlinear=True,\n",
    "#filehandler = open('Fisher_7_6X2_w2n.obj','w') # AccuracyBoost=3, lmax=3000, lmaxP=5000, nz=3e5; nonlinear=True,\n",
    "#filehandler = open('Fisher_7_6X2n.obj','w') # AccuracyBoost=3, lmax=3000, lmaxP=5000, nz=3e5; nonlinear=True,\n",
    "#neutrino_hierarchy = 'normal', usePrimaryCMB = True; from FisherCl branch quickCl\n",
    "# kludge for this one: told cp.getDNDZinterp to use modelDNDZ3; set cp.tophat beesBins=True\n",
    "# biasByBin = False (uses sigma(b)/b), dw = 0.005; X2n version has noise included\n",
    "\n",
    "# this one has TE polarazation to l=5000, but only one galaxy bin\n",
    "#filehandler = open('Fisher_4_1Yn.obj','w') # AccuracyBoost=3, lmax=3000, lmaxP=5000; nz=3e5; nonlinear=True,\n",
    "#neutrino_hierarchy = 'normal', usePrimaryCMB = True; from FisherCl branch quickCl\n",
    "# this one used fiducial params and values to match CMB-S4 Science book verification table 8.1\n",
    "\n",
    "pickle.dump(Fobj_X2n,filehandler)\n",
    "filehandler.close()\n",
    "print 'done'\n",
    "#\"\"\""
   ]
  },
  {
   "cell_type": "code",
   "execution_count": null,
   "metadata": {},
   "outputs": [],
   "source": []
  },
  {
   "cell_type": "markdown",
   "metadata": {},
   "source": [
    "# Create combined Fisher matrices, apply fsky, and convert variables"
   ]
  },
  {
   "cell_type": "code",
   "execution_count": 64,
   "metadata": {},
   "outputs": [],
   "source": [
    "# create combined Fisher matrices\n",
    "Fij_kgTE2 = Fij_kg2.copy()\n",
    "Fij_kgTE2[:nCosParams,:nCosParams] += Fij_TE2\n",
    "\n",
    "Fij_kTE2 = Fij_kk2.copy()\n",
    "Fij_kTE2 += Fij_TE2"
   ]
  },
  {
   "cell_type": "code",
   "execution_count": 65,
   "metadata": {},
   "outputs": [],
   "source": [
    "# apply fsky\n",
    "fsky = 0.4\n",
    "Fij_kk2   *= fsky\n",
    "Fij_kg2   *= fsky\n",
    "Fij_TE2   *= fsky\n",
    "Fij_kgTE2 *= fsky\n",
    "Fij_kTE2  *= fsky"
   ]
  },
  {
   "cell_type": "code",
   "execution_count": 66,
   "metadata": {},
   "outputs": [],
   "source": [
    "# Convert As to 10^9*As\n",
    "#\"\"\"\n",
    "AsIndex = 3\n",
    "mult = 1e-9\n",
    "def rowColMult(array,index,mult):\n",
    "    array[index,:] *= mult\n",
    "    array[:,index] *= mult\n",
    "    return array\n",
    "    \n",
    "Fij_kk2   = rowColMult(Fij_kk2,AsIndex,mult)\n",
    "Fij_kg2   = rowColMult(Fij_kg2,AsIndex,mult)\n",
    "Fij_TE2   = rowColMult(Fij_TE2,AsIndex,mult)\n",
    "Fij_kgTE2 = rowColMult(Fij_kgTE2,AsIndex,mult)\n",
    "Fij_kTE2  = rowColMult(Fij_kTE2,AsIndex,mult)\n",
    "\n",
    "# adjust name\n",
    "paramList[AsIndex] = '10^9 As'\n",
    "#\"\"\""
   ]
  },
  {
   "cell_type": "code",
   "execution_count": 67,
   "metadata": {},
   "outputs": [],
   "source": [
    "# transform basis from cosmomc_theta to HO\n",
    "# use derivative results from \"Transform Fisher Matrix with Jacobian\"\n",
    "if nCosParams == 8:\n",
    "    dthetas = [-2.46099289e-02,  1.05373002e-02,  2.98929388e-05,  # dtheta_dombh2, dtheta_domch2, dtheta_dH0\n",
    "               0.00000000e+00,  0.00000000e+00,  0.00000000e+00,   # dtheta_dAs, dtheta_dns, dtheta_dtau\n",
    "               1.94175593e-04,  8.94926461e-04]                    # dtheta_mnu, dtheta_w\n",
    "elif nCosParams == 9:\n",
    "    dthetas = [-2.46099289e-02,  1.05373002e-02,  2.98929388e-05,  # dtheta_dombh2, dtheta_domch2, dtheta_dH0\n",
    "               0.00000000e+00,  0.00000000e+00,  0.00000000e+00,   # dtheta_dAs, dtheta_dns, dtheta_dtau\n",
    "               1.94175593e-04,  2.43189330e-04,  8.94926461e-04]   # dtheta_mnu, dtheta_wa, dtheta_w\n",
    "else:\n",
    "    print 'wtf'"
   ]
  },
  {
   "cell_type": "code",
   "execution_count": 68,
   "metadata": {},
   "outputs": [
    {
     "name": "stdout",
     "output_type": "stream",
     "text": [
      "['ombh2', 'omch2', 'cosmomc_theta', '10^9 As', 'ns', 'tau', 'mnu', 'w', 'wa', 'bin1', 'bin2', 'bin3', 'bin4', 'bin5', 'bin6', 'bin7', 'bin8', 'bin9', 'bin10', 'bin11', 'bin12', 'bin13', 'bin14', 'bin15', 'bin16']\n"
     ]
    }
   ],
   "source": [
    "print Fobj.paramList"
   ]
  },
  {
   "cell_type": "code",
   "execution_count": 69,
   "metadata": {},
   "outputs": [
    {
     "name": "stdout",
     "output_type": "stream",
     "text": [
      "[[ 1.00000000e+00  0.00000000e+00  0.00000000e+00  0.00000000e+00\n",
      "   0.00000000e+00  0.00000000e+00  0.00000000e+00  0.00000000e+00\n",
      "   0.00000000e+00]\n",
      " [ 0.00000000e+00  1.00000000e+00  0.00000000e+00  0.00000000e+00\n",
      "   0.00000000e+00  0.00000000e+00  0.00000000e+00  0.00000000e+00\n",
      "   0.00000000e+00]\n",
      " [-2.46099289e-02  1.05373002e-02  2.98929388e-05  0.00000000e+00\n",
      "   0.00000000e+00  0.00000000e+00  1.94175593e-04  2.43189330e-04\n",
      "   8.94926461e-04]\n",
      " [ 0.00000000e+00  0.00000000e+00  0.00000000e+00  1.00000000e+00\n",
      "   0.00000000e+00  0.00000000e+00  0.00000000e+00  0.00000000e+00\n",
      "   0.00000000e+00]\n",
      " [ 0.00000000e+00  0.00000000e+00  0.00000000e+00  0.00000000e+00\n",
      "   1.00000000e+00  0.00000000e+00  0.00000000e+00  0.00000000e+00\n",
      "   0.00000000e+00]\n",
      " [ 0.00000000e+00  0.00000000e+00  0.00000000e+00  0.00000000e+00\n",
      "   0.00000000e+00  1.00000000e+00  0.00000000e+00  0.00000000e+00\n",
      "   0.00000000e+00]\n",
      " [ 0.00000000e+00  0.00000000e+00  0.00000000e+00  0.00000000e+00\n",
      "   0.00000000e+00  0.00000000e+00  1.00000000e+00  0.00000000e+00\n",
      "   0.00000000e+00]\n",
      " [ 0.00000000e+00  0.00000000e+00  0.00000000e+00  0.00000000e+00\n",
      "   0.00000000e+00  0.00000000e+00  0.00000000e+00  1.00000000e+00\n",
      "   0.00000000e+00]\n",
      " [ 0.00000000e+00  0.00000000e+00  0.00000000e+00  0.00000000e+00\n",
      "   0.00000000e+00  0.00000000e+00  0.00000000e+00  0.00000000e+00\n",
      "   1.00000000e+00]]\n"
     ]
    }
   ],
   "source": [
    "# The only derivatives in the Jacobian are on the dtheta/dparam row.\n",
    "mcIndex = 2\n",
    "jacobian = np.diag(np.ones(nParams))\n",
    "jacobian[mcIndex,:nCosParams] = dthetas#*100\n",
    "#jacobian[:,mcIndex] = dthetas#*100\n",
    "\n",
    "# multiply these all by d{100thetamc}/d{thetamc} = 100\n",
    "#jacobian[mcIndex,:] *= 100\n",
    "#jacobian[:,mcIndex] *= 100\n",
    "\n",
    "print jacobian[:nCosParams,:nCosParams]"
   ]
  },
  {
   "cell_type": "code",
   "execution_count": 70,
   "metadata": {},
   "outputs": [],
   "source": [
    "# jacobian-it-up\n",
    "miniJac = jacobian[:nCosParams,:nCosParams]\n",
    "\n",
    "Fij_kk2j   = np.dot(miniJac.T,np.dot(Fij_kk2,miniJac))\n",
    "Fij_kg2j   = np.dot(jacobian.T,np.dot(Fij_kg2,jacobian))\n",
    "Fij_TE2j   = np.dot(miniJac.T,np.dot(Fij_TE2,miniJac))\n",
    "Fij_kgTE2j = np.dot(jacobian.T,np.dot(Fij_kgTE2,jacobian))\n",
    "Fij_kTE2j  = np.dot(miniJac.T,np.dot(Fij_kTE2,miniJac))\n",
    "\n",
    "# adjust name\n",
    "paramList[mcIndex] = 'H0'"
   ]
  },
  {
   "cell_type": "code",
   "execution_count": 71,
   "metadata": {},
   "outputs": [
    {
     "name": "stdout",
     "output_type": "stream",
     "text": [
      "(9, 9)\n"
     ]
    }
   ],
   "source": [
    "print Fij_kk2.shape"
   ]
  },
  {
   "cell_type": "code",
   "execution_count": null,
   "metadata": {},
   "outputs": [],
   "source": []
  },
  {
   "cell_type": "markdown",
   "metadata": {},
   "source": [
    "# Get and compare sigmas"
   ]
  },
  {
   "cell_type": "code",
   "execution_count": 72,
   "metadata": {},
   "outputs": [],
   "source": [
    "def getSigmas(Fij):\n",
    "    return np.sqrt(np.diag(np.linalg.inv(Fij)))\n",
    "    \n",
    "sigmaskk = getSigmas(Fij_kk2j)\n",
    "sigmaskg = getSigmas(Fij_kg2j)\n",
    "sigmasTE = getSigmas(Fij_TE2j)\n",
    "sigmaskgTE = getSigmas(Fij_kgTE2j)\n",
    "sigmaskTE = getSigmas(Fij_kTE2j)"
   ]
  },
  {
   "cell_type": "code",
   "execution_count": 73,
   "metadata": {
    "scrolled": false
   },
   "outputs": [
    {
     "name": "stdout",
     "output_type": "stream",
     "text": [
      "fsky =  0.4\n",
      "kappa-only and kappa-galaxies, with noise (biases marg.)\n",
      "+-----------+-----------+-----------+---------------+\n",
      "| Parameter | sigmas_kk | sigmas_kg | percent diff. |\n",
      "+-----------+-----------+-----------+---------------+\n",
      "|   ombh2   |    0.11   |  0.000529 |     -99.5     |\n",
      "|   omch2   |   0.237   |  0.00134  |     -99.4     |\n",
      "|     H0    |  1.8e+03  |    1.03   |     -99.9     |\n",
      "|  10^9 As  |    6.96   |   0.025   |     -99.6     |\n",
      "|     ns    |   0.571   |  0.00359  |     -99.4     |\n",
      "|    tau    |     771   |    2.25   |     -99.7     |\n",
      "|    mnu    |     2.3   |   0.0219  |       -99     |\n",
      "|     w     |    18.6   |   0.0176  |     -99.9     |\n",
      "|     wa    |    62.6   |   0.0383  |     -99.9     |\n",
      "+-----------+-----------+-----------+---------------+\n",
      "kappa-galaxies and kappa-galaxies + TE, with noise\n",
      "+-----------+-----------+--------------+---------------+\n",
      "| Parameter | sigmas_kg | sigmas_kg+TE | percent diff. |\n",
      "+-----------+-----------+--------------+---------------+\n",
      "|   ombh2   |  0.000529 |   1.15e-05   |     -97.8     |\n",
      "|   omch2   |  0.00134  |   0.000242   |     -81.9     |\n",
      "|     H0    |    1.03   |    0.967     |     -6.01     |\n",
      "|  10^9 As  |   0.025   |    0.0159    |     -36.6     |\n",
      "|     ns    |  0.00359  |   0.00115    |     -67.9     |\n",
      "|    tau    |    2.25   |   0.00419    |     -99.8     |\n",
      "|    mnu    |   0.0219  |    0.0177    |     -19.5     |\n",
      "|     w     |   0.0176  |    0.016     |     -9.38     |\n",
      "|     wa    |   0.0383  |    0.0357    |     -6.77     |\n",
      "+-----------+-----------+--------------+---------------+\n",
      "TE and kappa + TE, with noise (biases marg.)\n",
      "+-----------+-----------+-------------+---------------+\n",
      "| Parameter | sigmas_TE | sigmas_k+TE | percent diff. |\n",
      "+-----------+-----------+-------------+---------------+\n",
      "|   ombh2   |  1.49e-05 |   1.38e-05  |     -7.15     |\n",
      "|   omch2   |  0.000639 |   0.00062   |     -3.02     |\n",
      "|     H0    |  1.12e+04 |     34.7    |     -99.7     |\n",
      "|  10^9 As  |    2.12   |    0.224    |     -89.4     |\n",
      "|     ns    |  0.00248  |   0.00195   |     -21.3     |\n",
      "|    tau    |   0.579   |    0.0525   |     -90.9     |\n",
      "|    mnu    |   0.323   |    0.216    |     -33.3     |\n",
      "|     w     |     172   |    0.752    |     -99.6     |\n",
      "|     wa    |     420   |     1.27    |     -99.7     |\n",
      "+-----------+-----------+-------------+---------------+\n",
      "kappa and kappa + TE, with noise (biases marg.)\n",
      "+-----------+----------+-------------+---------------+\n",
      "| Parameter | sigmas_k | sigmas_k+TE | percent diff. |\n",
      "+-----------+----------+-------------+---------------+\n",
      "|   ombh2   |   0.11   |   1.38e-05  |      -100     |\n",
      "|   omch2   |  0.237   |   0.00062   |     -99.7     |\n",
      "|     H0    | 1.8e+03  |     34.7    |     -98.1     |\n",
      "|  10^9 As  |   6.96   |    0.224    |     -96.8     |\n",
      "|     ns    |  0.571   |   0.00195   |     -99.7     |\n",
      "|    tau    |    771   |    0.0525   |      -100     |\n",
      "|    mnu    |    2.3   |    0.216    |     -90.6     |\n",
      "|     w     |   18.6   |    0.752    |       -96     |\n",
      "|     wa    |   62.6   |     1.27    |       -98     |\n",
      "+-----------+----------+-------------+---------------+\n",
      "kappa + TE and kappa-galaxies + TE, with noise (biases marg.)\n",
      "+-----------+-------------+--------------+---------------+\n",
      "| Parameter | sigmas_k+TE | sigmas_kg+TE | percent diff. |\n",
      "+-----------+-------------+--------------+---------------+\n",
      "|   ombh2   |   1.38e-05  |   1.15e-05   |     -16.7     |\n",
      "|   omch2   |   0.00062   |   0.000242   |       -61     |\n",
      "|     H0    |     34.7    |    0.967     |     -97.2     |\n",
      "|  10^9 As  |    0.224    |    0.0159    |     -92.9     |\n",
      "|     ns    |   0.00195   |   0.00115    |     -40.8     |\n",
      "|    tau    |    0.0525   |   0.00419    |       -92     |\n",
      "|    mnu    |    0.216    |    0.0177    |     -91.8     |\n",
      "|     w     |    0.752    |    0.016     |     -97.9     |\n",
      "|     wa    |     1.27    |    0.0357    |     -97.2     |\n",
      "+-----------+-------------+--------------+---------------+\n"
     ]
    }
   ],
   "source": [
    "from prettytable import PrettyTable\n",
    "\n",
    "print 'fsky = ',fsky\n",
    "print 'kappa-only and kappa-galaxies, with noise (biases marg.)'\n",
    "t = PrettyTable(['Parameter', 'sigmas_kk','sigmas_kg','percent diff.'])\n",
    "for i,p in enumerate(paramList[:nCosParams]):\n",
    "    Zi = sigmaskk[i]\n",
    "    Bi = sigmaskg[i]\n",
    "    diff = (Bi-Zi)/Zi *100\n",
    "    t.add_row([p,\"%5.3g\" % Zi,\"%5.3g\" % Bi, \"%5.3g\" % diff ] )\n",
    "print t\n",
    "\n",
    "print 'kappa-galaxies and kappa-galaxies + TE, with noise'\n",
    "t = PrettyTable(['Parameter', 'sigmas_kg','sigmas_kg+TE','percent diff.'])\n",
    "for i,p in enumerate(paramList[:nCosParams]):\n",
    "    Zi = sigmaskg[i]\n",
    "    Bi = sigmaskgTE[i]\n",
    "    diff = (Bi-Zi)/Zi *100\n",
    "    t.add_row([p,\"%5.3g\" % Zi,\"%5.3g\" % Bi, \"%5.3g\" % diff ] )\n",
    "print t\n",
    "\n",
    "print 'TE and kappa + TE, with noise (biases marg.)'\n",
    "t = PrettyTable(['Parameter', 'sigmas_TE','sigmas_k+TE','percent diff.'])\n",
    "for i,p in enumerate(paramList[:nCosParams]):\n",
    "    Zi = sigmasTE[i]\n",
    "    Bi = sigmaskTE[i]\n",
    "    diff = (Bi-Zi)/Zi *100\n",
    "    t.add_row([p,\"%5.3g\" % Zi,\"%5.3g\" % Bi, \"%5.3g\" % diff ] )\n",
    "print t\n",
    "\n",
    "print 'kappa and kappa + TE, with noise (biases marg.)'\n",
    "t = PrettyTable(['Parameter', 'sigmas_k','sigmas_k+TE','percent diff.'])\n",
    "for i,p in enumerate(paramList[:nCosParams]):\n",
    "    Zi = sigmaskk[i]\n",
    "    Bi = sigmaskTE[i]\n",
    "    diff = (Bi-Zi)/Zi *100\n",
    "    t.add_row([p,\"%5.3g\" % Zi,\"%5.3g\" % Bi, \"%5.3g\" % diff ] )\n",
    "print t\n",
    "\n",
    "print 'kappa + TE and kappa-galaxies + TE, with noise (biases marg.)'\n",
    "t = PrettyTable(['Parameter', 'sigmas_k+TE','sigmas_kg+TE','percent diff.'])\n",
    "for i,p in enumerate(paramList[:nCosParams]):\n",
    "    Zi = sigmaskTE[i]\n",
    "    Bi = sigmaskgTE[i]\n",
    "    diff = (Bi-Zi)/Zi *100\n",
    "    t.add_row([p,\"%5.3g\" % Zi,\"%5.3g\" % Bi, \"%5.3g\" % diff ] )\n",
    "print t\n",
    "\n",
    "\n"
   ]
  },
  {
   "cell_type": "code",
   "execution_count": null,
   "metadata": {},
   "outputs": [],
   "source": []
  },
  {
   "cell_type": "markdown",
   "metadata": {},
   "source": [
    "# Fix wa to compare to S4 forecasts"
   ]
  },
  {
   "cell_type": "code",
   "execution_count": 74,
   "metadata": {},
   "outputs": [],
   "source": [
    "#doWa = False\n",
    "doWa = True\n",
    "# set to true if loaded file has a wa parameter\n",
    "\n",
    "Fij_kk2j_nw = Fij_kk2j.copy()\n",
    "Fij_kg2j_nw = Fij_kg2j.copy()\n",
    "Fij_TE2j_nw = Fij_TE2j.copy()\n",
    "Fij_kgTE2j_nw = Fij_kgTE2j.copy()\n",
    "Fij_kTE2j_nw = Fij_kTE2j.copy()"
   ]
  },
  {
   "cell_type": "code",
   "execution_count": 75,
   "metadata": {},
   "outputs": [
    {
     "name": "stdout",
     "output_type": "stream",
     "text": [
      "['ombh2', 'omch2', 'H0', '10^9 As', 'ns', 'tau', 'mnu', 'w', 'wa', 'bin1', 'bin2', 'bin3', 'bin4', 'bin5', 'bin6', 'bin7', 'bin8', 'bin9', 'bin10', 'bin11', 'bin12', 'bin13', 'bin14', 'bin15', 'bin16']\n"
     ]
    }
   ],
   "source": [
    "paramList = Fobj.paramList\n",
    "print paramList"
   ]
  },
  {
   "cell_type": "code",
   "execution_count": 76,
   "metadata": {},
   "outputs": [
    {
     "name": "stdout",
     "output_type": "stream",
     "text": [
      "['ombh2' 'omch2' 'H0' '10^9 As' 'ns' 'tau' 'mnu' 'wa' 'bin1' 'bin2' 'bin3'\n",
      " 'bin4' 'bin5' 'bin6' 'bin7' 'bin8' 'bin9' 'bin10' 'bin11' 'bin12' 'bin13'\n",
      " 'bin14' 'bin15' 'bin16']\n"
     ]
    }
   ],
   "source": [
    "# define row,col deleting function\n",
    "def fixParam(Fij,pNum):\n",
    "    return np.delete(np.delete(Fij,pNum,0),pNum,1)\n",
    "\n",
    "# ditch wa\n",
    "if doWa:\n",
    "    wIndex = 7 # 7 for wa\n",
    "    Fij_kk2j_nw = fixParam(Fij_kk2j_nw,wIndex)\n",
    "    Fij_kg2j_nw = fixParam(Fij_kg2j_nw,wIndex)\n",
    "    Fij_TE2j_nw = fixParam(Fij_TE2j_nw,wIndex)\n",
    "    Fij_kgTE2j_nw = fixParam(Fij_kgTE2j_nw,wIndex)\n",
    "    Fij_kTE2j_nw = fixParam(Fij_kTE2j_nw,wIndex)\n",
    "\n",
    "    paramList = np.delete(paramList,wIndex)\n",
    "    print paramList"
   ]
  },
  {
   "cell_type": "code",
   "execution_count": null,
   "metadata": {},
   "outputs": [],
   "source": []
  },
  {
   "cell_type": "code",
   "execution_count": null,
   "metadata": {},
   "outputs": [],
   "source": []
  },
  {
   "cell_type": "code",
   "execution_count": 77,
   "metadata": {},
   "outputs": [],
   "source": [
    "# get sigmas\n",
    "if doWa:\n",
    "    sigmaskk_nw = getSigmas(Fij_kk2j_nw)\n",
    "    sigmaskg_nw = getSigmas(Fij_kg2j_nw)\n",
    "    sigmasTE_nw = getSigmas(Fij_TE2j_nw)\n",
    "    sigmaskgTE_nw = getSigmas(Fij_kgTE2j_nw)\n",
    "    sigmaskTE_nw = getSigmas(Fij_kTE2j_nw)\n"
   ]
  },
  {
   "cell_type": "code",
   "execution_count": null,
   "metadata": {},
   "outputs": [],
   "source": []
  },
  {
   "cell_type": "code",
   "execution_count": 78,
   "metadata": {},
   "outputs": [
    {
     "name": "stdout",
     "output_type": "stream",
     "text": [
      "fsky =  0.4\n",
      "kappa-only and kappa-galaxies, with noise (biases marg.)\n",
      "+-----------+-----------+-----------+---------------+\n",
      "| Parameter | sigmas_kk | sigmas_kg | percent diff. |\n",
      "+-----------+-----------+-----------+---------------+\n",
      "|   ombh2   |   0.0899  |  0.000529 |     -99.4     |\n",
      "|   omch2   |   0.187   |  0.00133  |     -99.3     |\n",
      "|     H0    |     711   |   0.836   |     -99.9     |\n",
      "|  10^9 As  |    6.06   |   0.0244  |     -99.6     |\n",
      "|     ns    |   0.561   |  0.00332  |     -99.4     |\n",
      "|    tau    |     628   |    2.08   |     -99.7     |\n",
      "|    mnu    |    2.03   |   0.0208  |       -99     |\n",
      "|     wa    |    22.5   |   0.0305  |     -99.9     |\n",
      "+-----------+-----------+-----------+---------------+\n",
      "kappa-galaxies and kappa-galaxies + TE, with noise\n",
      "+-----------+-----------+--------------+---------------+\n",
      "| Parameter | sigmas_kg | sigmas_kg+TE | percent diff. |\n",
      "+-----------+-----------+--------------+---------------+\n",
      "|   ombh2   |  0.000529 |   1.14e-05   |     -97.8     |\n",
      "|   omch2   |  0.00133  |   0.000242   |     -81.8     |\n",
      "|     H0    |   0.836   |    0.744     |       -11     |\n",
      "|  10^9 As  |   0.0244  |    0.0158    |     -35.3     |\n",
      "|     ns    |  0.00332  |   0.00115    |     -65.5     |\n",
      "|    tau    |    2.08   |   0.00417    |     -99.8     |\n",
      "|    mnu    |   0.0208  |    0.0169    |     -18.4     |\n",
      "|     wa    |   0.0305  |    0.0267    |     -12.5     |\n",
      "+-----------+-----------+--------------+---------------+\n",
      "TE and kappa + TE, with noise (biases marg.)\n",
      "+-----------+-----------+-------------+---------------+\n",
      "| Parameter | sigmas_TE | sigmas_k+TE | percent diff. |\n",
      "+-----------+-----------+-------------+---------------+\n",
      "|   ombh2   |  1.4e-05  |   1.37e-05  |     -1.76     |\n",
      "|   omch2   |  0.000621 |   0.00062   |      -0.1     |\n",
      "|     H0    |  1.61e+03 |     28.5    |     -98.2     |\n",
      "|  10^9 As  |    1.76   |    0.207    |     -88.2     |\n",
      "|     ns    |   0.0024  |   0.00195   |     -18.9     |\n",
      "|    tau    |   0.427   |    0.0484   |     -88.7     |\n",
      "|    mnu    |   0.314   |    0.211    |     -32.8     |\n",
      "|     wa    |    53.8   |    0.918    |     -98.3     |\n",
      "+-----------+-----------+-------------+---------------+\n",
      "kappa and kappa + TE, with noise (biases marg.)\n",
      "+-----------+----------+-------------+---------------+\n",
      "| Parameter | sigmas_k | sigmas_k+TE | percent diff. |\n",
      "+-----------+----------+-------------+---------------+\n",
      "|   ombh2   |  0.0899  |   1.37e-05  |      -100     |\n",
      "|   omch2   |  0.187   |   0.00062   |     -99.7     |\n",
      "|     H0    |    711   |     28.5    |       -96     |\n",
      "|  10^9 As  |   6.06   |    0.207    |     -96.6     |\n",
      "|     ns    |  0.561   |   0.00195   |     -99.7     |\n",
      "|    tau    |    628   |    0.0484   |      -100     |\n",
      "|    mnu    |   2.03   |    0.211    |     -89.6     |\n",
      "|     wa    |   22.5   |    0.918    |     -95.9     |\n",
      "+-----------+----------+-------------+---------------+\n",
      "kappa + TE and kappa-galaxies + TE, with noise (biases marg.)\n",
      "+-----------+-------------+--------------+---------------+\n",
      "| Parameter | sigmas_k+TE | sigmas_kg+TE | percent diff. |\n",
      "+-----------+-------------+--------------+---------------+\n",
      "|   ombh2   |   1.37e-05  |   1.14e-05   |     -16.6     |\n",
      "|   omch2   |   0.00062   |   0.000242   |       -61     |\n",
      "|     H0    |     28.5    |    0.744     |     -97.4     |\n",
      "|  10^9 As  |    0.207    |    0.0158    |     -92.4     |\n",
      "|     ns    |   0.00195   |   0.00115    |     -41.1     |\n",
      "|    tau    |    0.0484   |   0.00417    |     -91.4     |\n",
      "|    mnu    |    0.211    |    0.0169    |       -92     |\n",
      "|     wa    |    0.918    |    0.0267    |     -97.1     |\n",
      "+-----------+-------------+--------------+---------------+\n"
     ]
    }
   ],
   "source": [
    "from prettytable import PrettyTable\n",
    "\n",
    "if doWa:\n",
    "    print 'fsky = ',fsky\n",
    "    print 'kappa-only and kappa-galaxies, with noise (biases marg.)'\n",
    "    t = PrettyTable(['Parameter', 'sigmas_kk','sigmas_kg','percent diff.'])\n",
    "    for i,p in enumerate(paramList[:nCosParams-1]):\n",
    "        Zi = sigmaskk_nw[i]\n",
    "        Bi = sigmaskg_nw[i]\n",
    "        diff = (Bi-Zi)/Zi *100\n",
    "        t.add_row([p,\"%5.3g\" % Zi,\"%5.3g\" % Bi, \"%5.3g\" % diff ] )\n",
    "    print t\n",
    "\n",
    "    print 'kappa-galaxies and kappa-galaxies + TE, with noise'\n",
    "    t = PrettyTable(['Parameter', 'sigmas_kg','sigmas_kg+TE','percent diff.'])\n",
    "    for i,p in enumerate(paramList[:nCosParams-1]):\n",
    "        Zi = sigmaskg_nw[i]\n",
    "        Bi = sigmaskgTE_nw[i]\n",
    "        diff = (Bi-Zi)/Zi *100\n",
    "        t.add_row([p,\"%5.3g\" % Zi,\"%5.3g\" % Bi, \"%5.3g\" % diff ] )\n",
    "    print t\n",
    "\n",
    "    print 'TE and kappa + TE, with noise (biases marg.)'\n",
    "    t = PrettyTable(['Parameter', 'sigmas_TE','sigmas_k+TE','percent diff.'])\n",
    "    for i,p in enumerate(paramList[:nCosParams-1]):\n",
    "        Zi = sigmasTE_nw[i]\n",
    "        Bi = sigmaskTE_nw[i]\n",
    "        diff = (Bi-Zi)/Zi *100\n",
    "        t.add_row([p,\"%5.3g\" % Zi,\"%5.3g\" % Bi, \"%5.3g\" % diff ] )\n",
    "    print t\n",
    "\n",
    "    print 'kappa and kappa + TE, with noise (biases marg.)'\n",
    "    t = PrettyTable(['Parameter', 'sigmas_k','sigmas_k+TE','percent diff.'])\n",
    "    for i,p in enumerate(paramList[:nCosParams-1]):\n",
    "        Zi = sigmaskk_nw[i]\n",
    "        Bi = sigmaskTE_nw[i]\n",
    "        diff = (Bi-Zi)/Zi *100\n",
    "        t.add_row([p,\"%5.3g\" % Zi,\"%5.3g\" % Bi, \"%5.3g\" % diff ] )\n",
    "    print t\n",
    "\n",
    "    print 'kappa + TE and kappa-galaxies + TE, with noise (biases marg.)'\n",
    "    t = PrettyTable(['Parameter', 'sigmas_k+TE','sigmas_kg+TE','percent diff.'])\n",
    "    for i,p in enumerate(paramList[:nCosParams-1]):\n",
    "        Zi = sigmaskTE_nw[i]\n",
    "        Bi = sigmaskgTE_nw[i]\n",
    "        diff = (Bi-Zi)/Zi *100\n",
    "        t.add_row([p,\"%5.3g\" % Zi,\"%5.3g\" % Bi, \"%5.3g\" % diff ] )\n",
    "    print t\n",
    "\n",
    "\n"
   ]
  },
  {
   "cell_type": "code",
   "execution_count": null,
   "metadata": {},
   "outputs": [],
   "source": []
  },
  {
   "cell_type": "code",
   "execution_count": null,
   "metadata": {},
   "outputs": [],
   "source": []
  },
  {
   "cell_type": "code",
   "execution_count": null,
   "metadata": {},
   "outputs": [],
   "source": []
  },
  {
   "cell_type": "markdown",
   "metadata": {},
   "source": [
    "# Fix w, bias to compare with Bye's results"
   ]
  },
  {
   "cell_type": "code",
   "execution_count": 79,
   "metadata": {},
   "outputs": [],
   "source": [
    "#Fij_kk2j_nw = Fij_kk2j.copy()\n",
    "#Fij_kg2j_nw = Fij_kg2j.copy()\n",
    "#Fij_TE2j_nw = Fij_TE2j.copy()\n",
    "#Fij_kgTE2j_nw = Fij_kgTE2j.copy()\n",
    "#Fij_kTE2j_nw = Fij_kTE2j.copy()"
   ]
  },
  {
   "cell_type": "code",
   "execution_count": 80,
   "metadata": {},
   "outputs": [
    {
     "name": "stdout",
     "output_type": "stream",
     "text": [
      "['ombh2' 'omch2' 'H0' '10^9 As' 'ns' 'tau' 'mnu' 'bin1' 'bin2' 'bin3'\n",
      " 'bin4' 'bin5' 'bin6' 'bin7' 'bin8' 'bin9' 'bin10' 'bin11' 'bin12' 'bin13'\n",
      " 'bin14' 'bin15' 'bin16']\n"
     ]
    }
   ],
   "source": [
    "# define row,col deleting function\n",
    "#def fixParam(Fij,pNum):\n",
    "#    return np.delete(np.delete(Fij,pNum,0),pNum,1)\n",
    "\n",
    "# ditch w\n",
    "wIndex = 7 # 7 for w after removing wa\n",
    "Fij_kk2j_nw = fixParam(Fij_kk2j_nw,wIndex)\n",
    "Fij_kg2j_nw = fixParam(Fij_kg2j_nw,wIndex)\n",
    "Fij_TE2j_nw = fixParam(Fij_TE2j_nw,wIndex)\n",
    "Fij_kgTE2j_nw = fixParam(Fij_kgTE2j_nw,wIndex)\n",
    "Fij_kTE2j_nw = fixParam(Fij_kTE2j_nw,wIndex)\n",
    "\n",
    "paramList = np.delete(paramList,wIndex)\n",
    "print paramList"
   ]
  },
  {
   "cell_type": "code",
   "execution_count": 81,
   "metadata": {},
   "outputs": [],
   "source": [
    "# ditch bias\n",
    "Fij_kk2j_nwb = Fij_kk2j_nw[:7,:7]\n",
    "Fij_kg2j_nwb = Fij_kg2j_nw[:7,:7]\n",
    "Fij_TE2j_nwb = Fij_TE2j_nw[:7,:7]\n",
    "Fij_kgTE2j_nwb = Fij_kgTE2j_nw[:7,:7]\n",
    "Fij_kTE2j_nwb = Fij_kTE2j_nw[:7,:7]"
   ]
  },
  {
   "cell_type": "code",
   "execution_count": 82,
   "metadata": {},
   "outputs": [],
   "source": [
    "# get sigmas\n",
    "sigmaskk_nw = getSigmas(Fij_kk2j_nw)\n",
    "sigmaskg_nw = getSigmas(Fij_kg2j_nw)\n",
    "sigmasTE_nw = getSigmas(Fij_TE2j_nw)\n",
    "sigmaskgTE_nw = getSigmas(Fij_kgTE2j_nw)\n",
    "sigmaskTE_nw = getSigmas(Fij_kTE2j_nw)\n",
    "\n",
    "sigmaskk_nwb = getSigmas(Fij_kk2j_nwb)\n",
    "sigmaskg_nwb = getSigmas(Fij_kg2j_nwb)\n",
    "sigmasTE_nwb = getSigmas(Fij_TE2j_nwb)\n",
    "sigmaskgTE_nwb = getSigmas(Fij_kgTE2j_nwb)\n",
    "sigmaskTE_nwb = getSigmas(Fij_kTE2j_nwb)\n"
   ]
  },
  {
   "cell_type": "code",
   "execution_count": 83,
   "metadata": {},
   "outputs": [
    {
     "name": "stdout",
     "output_type": "stream",
     "text": [
      "fsky =  0.4 , w fixed\n",
      "kappa-only and kappa-galaxies, with noise (biases marg.)\n",
      "+-----------+-----------+-----------+---------------+\n",
      "| Parameter | sigmas_kk | sigmas_kg | percent diff. |\n",
      "+-----------+-----------+-----------+---------------+\n",
      "|   ombh2   |   0.0494  |  0.000515 |       -99     |\n",
      "|   omch2   |   0.143   |  0.00125  |     -99.1     |\n",
      "|     H0    |      83   |   0.438   |     -99.5     |\n",
      "|  10^9 As  |    1.43   |   0.0216  |     -98.5     |\n",
      "|     ns    |    0.43   |  0.00302  |     -99.3     |\n",
      "|    tau    |     355   |    2.08   |     -99.4     |\n",
      "|    mnu    |   0.783   |   0.0163  |     -97.9     |\n",
      "+-----------+-----------+-----------+---------------+\n",
      "kappa-galaxies and kappa-galaxies + TE, with noise\n",
      "+-----------+-----------+--------------+---------------+\n",
      "| Parameter | sigmas_kg | sigmas_kg+TE | percent diff. |\n",
      "+-----------+-----------+--------------+---------------+\n",
      "|   ombh2   |  0.000515 |   1.1e-05    |     -97.9     |\n",
      "|   omch2   |  0.00125  |   0.000241   |     -80.7     |\n",
      "|     H0    |   0.438   |    0.0876    |       -80     |\n",
      "|  10^9 As  |   0.0216  |    0.0153    |     -29.1     |\n",
      "|     ns    |  0.00302  |    0.0011    |     -63.6     |\n",
      "|    tau    |    2.08   |   0.00403    |     -99.8     |\n",
      "|    mnu    |   0.0163  |    0.0139    |     -14.9     |\n",
      "+-----------+-----------+--------------+---------------+\n",
      "kappa + TE and kappa-galaxies + TE, with noise (biases marg.)\n",
      "+-----------+-------------+--------------+---------------+\n",
      "| Parameter | sigmas_k+TE | sigmas_kg+TE | percent diff. |\n",
      "+-----------+-------------+--------------+---------------+\n",
      "|   ombh2   |   1.36e-05  |   1.1e-05    |     -18.9     |\n",
      "|   omch2   |   0.000612  |   0.000241   |     -60.6     |\n",
      "|     H0    |     1.03    |    0.0876    |     -91.5     |\n",
      "|  10^9 As  |    0.0885   |    0.0153    |     -82.7     |\n",
      "|     ns    |   0.00184   |    0.0011    |     -40.3     |\n",
      "|    tau    |    0.0209   |   0.00403    |     -80.7     |\n",
      "|    mnu    |    0.143    |    0.0139    |     -90.2     |\n",
      "+-----------+-------------+--------------+---------------+\n"
     ]
    }
   ],
   "source": [
    "print 'fsky = ',fsky,', w fixed'\n",
    "print 'kappa-only and kappa-galaxies, with noise (biases marg.)'\n",
    "t = PrettyTable(['Parameter', 'sigmas_kk','sigmas_kg','percent diff.'])\n",
    "if doWa:\n",
    "    dn = 2\n",
    "else:\n",
    "    dn = 1\n",
    "for i,p in enumerate(paramList[:nCosParams-dn]):\n",
    "    Zi = sigmaskk_nw[i]\n",
    "    Bi = sigmaskg_nw[i]\n",
    "    diff = (Bi-Zi)/Zi *100\n",
    "    t.add_row([p,\"%5.3g\" % Zi,\"%5.3g\" % Bi, \"%5.3g\" % diff ] )\n",
    "print t\n",
    "\n",
    "print 'kappa-galaxies and kappa-galaxies + TE, with noise'\n",
    "t = PrettyTable(['Parameter', 'sigmas_kg','sigmas_kg+TE','percent diff.'])\n",
    "for i,p in enumerate(paramList[:nCosParams-dn]):\n",
    "    Zi = sigmaskg_nw[i]\n",
    "    Bi = sigmaskgTE_nw[i]\n",
    "    diff = (Bi-Zi)/Zi *100\n",
    "    t.add_row([p,\"%5.3g\" % Zi,\"%5.3g\" % Bi, \"%5.3g\" % diff ] )\n",
    "print t\n",
    "\n",
    "print 'kappa + TE and kappa-galaxies + TE, with noise (biases marg.)'\n",
    "t = PrettyTable(['Parameter', 'sigmas_k+TE','sigmas_kg+TE','percent diff.'])\n",
    "for i,p in enumerate(paramList[:nCosParams-dn]):\n",
    "    Zi = sigmaskTE_nw[i]\n",
    "    Bi = sigmaskgTE_nw[i]\n",
    "    diff = (Bi-Zi)/Zi *100\n",
    "    t.add_row([p,\"%5.3g\" % Zi,\"%5.3g\" % Bi, \"%5.3g\" % diff ] )\n",
    "print t\n",
    "\n"
   ]
  },
  {
   "cell_type": "code",
   "execution_count": 84,
   "metadata": {},
   "outputs": [
    {
     "name": "stdout",
     "output_type": "stream",
     "text": [
      "fsky =  0.4 , w and biases fixed\n",
      "kappa-only and kappa-galaxies, with noise\n",
      "+-----------+-----------+-----------+---------------+\n",
      "| Parameter | sigmas_kk | sigmas_kg | percent diff. |\n",
      "+-----------+-----------+-----------+---------------+\n",
      "|   ombh2   |   0.0494  |  0.000203 |     -99.6     |\n",
      "|   omch2   |   0.143   |  0.000482 |     -99.7     |\n",
      "|     H0    |      83   |   0.187   |     -99.8     |\n",
      "|  10^9 As  |    1.43   |    0.01   |     -99.3     |\n",
      "|     ns    |    0.43   |  0.00168  |     -99.6     |\n",
      "|    tau    |     355   |   0.884   |     -99.8     |\n",
      "|    mnu    |   0.783   |  0.00598  |     -99.2     |\n",
      "+-----------+-----------+-----------+---------------+\n",
      "kappa-galaxies and kappa-galaxies + TE, with noise\n",
      "+-----------+-----------+--------------+---------------+\n",
      "| Parameter | sigmas_kg | sigmas_kg+TE | percent diff. |\n",
      "+-----------+-----------+--------------+---------------+\n",
      "|   ombh2   |  0.000203 |   1.01e-05   |       -95     |\n",
      "|   omch2   |  0.000482 |   0.000154   |     -67.9     |\n",
      "|     H0    |   0.187   |    0.0426    |     -77.2     |\n",
      "|  10^9 As  |    0.01   |   0.00703    |     -29.9     |\n",
      "|     ns    |  0.00168  |   0.000861   |     -48.7     |\n",
      "|    tau    |   0.884   |   0.00195    |     -99.8     |\n",
      "|    mnu    |  0.00598  |   0.00487    |     -18.7     |\n",
      "+-----------+-----------+--------------+---------------+\n",
      "kappa + TE and kappa-galaxies + TE, with noise\n",
      "+-----------+-------------+--------------+---------------+\n",
      "| Parameter | sigmas_k+TE | sigmas_kg+TE | percent diff. |\n",
      "+-----------+-------------+--------------+---------------+\n",
      "|   ombh2   |   1.36e-05  |   1.01e-05   |     -25.4     |\n",
      "|   omch2   |   0.000612  |   0.000154   |     -74.8     |\n",
      "|     H0    |     1.03    |    0.0426    |     -95.9     |\n",
      "|  10^9 As  |    0.0885   |   0.00703    |     -92.1     |\n",
      "|     ns    |   0.00184   |   0.000861   |     -53.1     |\n",
      "|    tau    |    0.0209   |   0.00195    |     -90.7     |\n",
      "|    mnu    |    0.143    |   0.00487    |     -96.6     |\n",
      "+-----------+-------------+--------------+---------------+\n"
     ]
    }
   ],
   "source": [
    "#\"\"\"\n",
    "print 'fsky = ',fsky,', w and biases fixed'\n",
    "print 'kappa-only and kappa-galaxies, with noise'\n",
    "t = PrettyTable(['Parameter', 'sigmas_kk','sigmas_kg','percent diff.'])\n",
    "for i,p in enumerate(paramList[:nCosParams-dn]):\n",
    "    Zi = sigmaskk_nwb[i]\n",
    "    Bi = sigmaskg_nwb[i]\n",
    "    diff = (Bi-Zi)/Zi *100\n",
    "    t.add_row([p,\"%5.3g\" % Zi,\"%5.3g\" % Bi, \"%5.3g\" % diff ] )\n",
    "print t\n",
    "\n",
    "print 'kappa-galaxies and kappa-galaxies + TE, with noise'\n",
    "t = PrettyTable(['Parameter', 'sigmas_kg','sigmas_kg+TE','percent diff.'])\n",
    "for i,p in enumerate(paramList[:nCosParams-dn]):\n",
    "    Zi = sigmaskg_nwb[i]\n",
    "    Bi = sigmaskgTE_nwb[i]\n",
    "    diff = (Bi-Zi)/Zi *100\n",
    "    t.add_row([p,\"%5.3g\" % Zi,\"%5.3g\" % Bi, \"%5.3g\" % diff ] )\n",
    "print t\n",
    "\n",
    "print 'kappa + TE and kappa-galaxies + TE, with noise'\n",
    "t = PrettyTable(['Parameter', 'sigmas_k+TE','sigmas_kg+TE','percent diff.'])\n",
    "for i,p in enumerate(paramList[:nCosParams-dn]):\n",
    "    Zi = sigmaskTE_nwb[i]\n",
    "    Bi = sigmaskgTE_nwb[i]\n",
    "    diff = (Bi-Zi)/Zi *100\n",
    "    t.add_row([p,\"%5.3g\" % Zi,\"%5.3g\" % Bi, \"%5.3g\" % diff ] )\n",
    "print t\n",
    "#\"\"\"\n"
   ]
  },
  {
   "cell_type": "code",
   "execution_count": null,
   "metadata": {},
   "outputs": [],
   "source": []
  },
  {
   "cell_type": "code",
   "execution_count": null,
   "metadata": {},
   "outputs": [],
   "source": []
  },
  {
   "cell_type": "code",
   "execution_count": null,
   "metadata": {},
   "outputs": [],
   "source": []
  },
  {
   "cell_type": "markdown",
   "metadata": {},
   "source": [
    "# Export to CosmicFish"
   ]
  },
  {
   "cell_type": "code",
   "execution_count": 85,
   "metadata": {},
   "outputs": [],
   "source": [
    "# setup for saving files in directory structure\n",
    "import os\n",
    "\n",
    "def createFolder(directory):\n",
    "    try:\n",
    "        if not os.path.exists(directory):\n",
    "            os.makedirs(directory)\n",
    "    except OSError:\n",
    "        print ('Error: Creating directory. ' +  directory)\n"
   ]
  },
  {
   "cell_type": "code",
   "execution_count": 86,
   "metadata": {},
   "outputs": [],
   "source": [
    "#dirName = 'Z_test_4L' # uses TEk, gk, kgTE with noise; linear P(k)\n",
    "dirName = 'Z_test_4' # uses TEk, gk, kgTE with noise; nonlinear P(k)\n",
    "# adjust dirName after creation\n",
    "\n",
    "createFolder(dirName)\n",
    "\n",
    "createFolder(dirName+'/parameters_analysis')\n",
    "createFolder(dirName+'/raw_results')\n",
    "createFolder(dirName+'/results')"
   ]
  },
  {
   "cell_type": "code",
   "execution_count": 87,
   "metadata": {},
   "outputs": [],
   "source": [
    "# fill the raw_results directory\n",
    "#\"\"\"\n",
    "import os\n",
    "os.chdir(dirName+'/raw_results')\n",
    "\n",
    "np.savetxt('1_'+dirName+'_fisher_matrix_Fijkk_cls.dat',Fij_kk2j,fmt='%26.16E', #delimiter='\\t',\n",
    "           header='This file contains a Fisher matrix created with the FisherCl code.')\n",
    "np.savetxt('2_'+dirName+'_fisher_matrix_Fijkg_cls.dat',Fij_kg2j,fmt='%26.16E', #delimiter='\\t',\n",
    "           header='This file contains a Fisher matrix created with the FisherCl code.')\n",
    "np.savetxt('3_'+dirName+'_fisher_matrix_FijTE_cls.dat',Fij_TE2j,fmt='%26.16E', #delimiter='\\t',\n",
    "           header='This file contains a Fisher matrix created with the FisherCl code.')\n",
    "np.savetxt('4_'+dirName+'_fisher_matrix_FijkTE_cls.dat',Fij_kTE2j,fmt='%26.16E', #delimiter='\\t',\n",
    "           header='This file contains a Fisher matrix created with the FisherCl code.')\n",
    "np.savetxt('5_'+dirName+'_fisher_matrix_FijkgTE_cls.dat',Fij_kgTE2j,fmt='%26.16E', #delimiter='\\t',\n",
    "           header='This file contains a Fisher matrix created with the FisherCl code.')\n",
    "\n",
    "# add some code to do the .paramnames files too... but not now\n",
    "\n",
    "os.chdir('../..')\n",
    "#\"\"\"\n"
   ]
  },
  {
   "cell_type": "code",
   "execution_count": null,
   "metadata": {},
   "outputs": [],
   "source": []
  },
  {
   "cell_type": "code",
   "execution_count": 88,
   "metadata": {},
   "outputs": [
    {
     "name": "stdout",
     "output_type": "stream",
     "text": [
      "[1.14294795 1.30873406 1.50185773 1.69811274 1.89627686 2.09527623\n",
      " 2.29533252 2.50025211 2.69207091 2.89133023 3.13451835 3.43443236\n",
      " 3.7948853  4.22902893 4.73675563 5.63212837]\n"
     ]
    }
   ],
   "source": [
    "# get binBs\n",
    "binBs = Fobj.binBs\n",
    "print binBs"
   ]
  },
  {
   "cell_type": "code",
   "execution_count": null,
   "metadata": {},
   "outputs": [],
   "source": []
  },
  {
   "cell_type": "code",
   "execution_count": 89,
   "metadata": {},
   "outputs": [
    {
     "name": "stdout",
     "output_type": "stream",
     "text": [
      "True\n"
     ]
    }
   ],
   "source": [
    "print Fobj.nonlinear"
   ]
  },
  {
   "cell_type": "code",
   "execution_count": null,
   "metadata": {},
   "outputs": [],
   "source": []
  },
  {
   "cell_type": "code",
   "execution_count": null,
   "metadata": {},
   "outputs": [],
   "source": []
  },
  {
   "cell_type": "markdown",
   "metadata": {},
   "source": [
    "# Load a Planck Fisher Matrix"
   ]
  },
  {
   "cell_type": "code",
   "execution_count": 90,
   "metadata": {},
   "outputs": [
    {
     "name": "stdout",
     "output_type": "stream",
     "text": [
      "[[33650264.75304625  2335958.50637353 -3904789.70134036  -249198.80754804\n",
      "    267830.80105359   503131.88639574]\n",
      " [ 2335958.50637333  1729869.64336173   752580.99974116  -613707.42911061\n",
      "    -68341.82410296  1235168.30464804]\n",
      " [-3904789.70134046   752580.99974117  4962497.99100187  -637530.39591852\n",
      "   -488195.63059164  1253588.0009308 ]\n",
      " [ -249198.80754788  -613707.42911059  -637530.39591853   395050.69626645\n",
      "    180386.62016251  -782525.05507982]\n",
      " [  267830.80105366   -68341.82410294  -488195.63059163   180386.6201625\n",
      "    193655.85777067  -360630.58999698]\n",
      " [  503131.88639543  1235168.30464799  1253588.00093082  -782525.05507982\n",
      "   -360630.589997    1559034.31753978]]\n"
     ]
    }
   ],
   "source": [
    "# load Planck invCov matrix saved in notebook \"Get Planck Parameter Fisher\"\n",
    "invCovPlanck = np.loadtxt('PlanckInvCovFromMCMC.txt')\n",
    "print invCovPlanck"
   ]
  },
  {
   "cell_type": "code",
   "execution_count": 91,
   "metadata": {},
   "outputs": [],
   "source": [
    "# parameters:\n",
    "# covmat:  [' omegabh2\\t\\\\Omega_b h^2\\n', ' omegach2\\t\\\\Omega_c h^2\\n', ' theta\\t100\\\\theta_{MC}\\n', \n",
    "#           ' logA\\t{\\\\rm{ln}}(10^{10} A_s)\\n', ' ns\\tn_s\\n', ' tau\\t\\\\tau\\n']\n",
    "# Note: that third one is 100thetamc, not just thetamc."
   ]
  },
  {
   "cell_type": "code",
   "execution_count": null,
   "metadata": {},
   "outputs": [],
   "source": []
  },
  {
   "cell_type": "markdown",
   "metadata": {},
   "source": [
    "# Transform cosmomc_theta parameter matrix to H0 parameter matrix"
   ]
  },
  {
   "cell_type": "code",
   "execution_count": 92,
   "metadata": {},
   "outputs": [],
   "source": [
    "# calculation of Jacobian only requires partial derivatives of cosmomc_theta\n",
    "# This is done in notebook \"Transform Fisher Matrix with Jacobian\"\n",
    "# Result is copied here:\n",
    "dthetaNames =  ['dtheta_dombh2','dtheta_domch2','dtheta_dH0','dtheta_dAs','dtheta_dns','dtheta_dtau']\n",
    "dthetas = [-0.0248396985185, 0.0104553863834, 2.96219516316e-05, 0.0, 0.0, 0.0]"
   ]
  },
  {
   "cell_type": "code",
   "execution_count": 93,
   "metadata": {},
   "outputs": [
    {
     "name": "stdout",
     "output_type": "stream",
     "text": [
      "[[ 1.          0.          0.          0.          0.          0.        ]\n",
      " [ 0.          1.          0.          0.          0.          0.        ]\n",
      " [-2.48396985  1.04553864  0.0029622   0.          0.          0.        ]\n",
      " [ 0.          0.          0.          1.          0.          0.        ]\n",
      " [ 0.          0.          0.          0.          1.          0.        ]\n",
      " [ 0.          0.          0.          0.          0.          1.        ]]\n"
     ]
    }
   ],
   "source": [
    "# The only derivatives in the Jacobian are on the dtheta/dparam row.\n",
    "mcIndex = 2\n",
    "jacobian = np.diag(np.ones(6)) # 6 is nCosParams above\n",
    "jacobian[mcIndex,:] = dthetas#*100\n",
    "#jacobian[:,mcIndex] = dthetas#*100\n",
    "\n",
    "# multiply these all by d{100thetamc}/d{thetamc} = 100\n",
    "jacobian[mcIndex,:] *= 100\n",
    "#jacobian[:,mcIndex] *= 100\n",
    "\n",
    "print jacobian"
   ]
  },
  {
   "cell_type": "code",
   "execution_count": 94,
   "metadata": {},
   "outputs": [
    {
     "name": "stdout",
     "output_type": "stream",
     "text": [
      "[[ 8.36681643e+07 -1.65040748e+07 -4.80808267e+04  1.33440748e+06\n",
      "   1.48049403e+06 -2.61074291e+06]\n",
      " [-1.65040748e+07  8.72833453e+06  1.75985922e+04 -1.28027009e+06\n",
      "  -5.78769219e+05  2.54584300e+06]\n",
      " [-4.80808267e+04  1.75985922e+04  4.35439358e+01 -1.88848946e+03\n",
      "  -1.44613074e+03  3.71337231e+03]\n",
      " [ 1.33440748e+06 -1.28027009e+06 -1.88848946e+03  3.95050696e+05\n",
      "   1.80386620e+05 -7.82525055e+05]\n",
      " [ 1.48049403e+06 -5.78769219e+05 -1.44613074e+03  1.80386620e+05\n",
      "   1.93655858e+05 -3.60630590e+05]\n",
      " [-2.61074291e+06  2.54584300e+06  3.71337231e+03 -7.82525055e+05\n",
      "  -3.60630590e+05  1.55903432e+06]]\n"
     ]
    }
   ],
   "source": [
    "# jacobian-it-up\n",
    "invCovPlanck = np.dot(jacobian.T,np.dot(invCovPlanck,jacobian))\n",
    "print invCovPlanck"
   ]
  },
  {
   "cell_type": "code",
   "execution_count": null,
   "metadata": {},
   "outputs": [],
   "source": []
  },
  {
   "cell_type": "code",
   "execution_count": 95,
   "metadata": {},
   "outputs": [],
   "source": [
    "# ok, also convert ln(10^10*As) to 10^9*As\n",
    "# exponentiate and divide by 10?  No, use Jacobian again.\n",
    "# no, actually convert to just As, since that's what FijTE uses\n",
    "As_fid = 2.2e-9\n",
    "AsIndex = 3\n",
    "invCovPlanck[AsIndex,:] *= 1./As_fid\n",
    "invCovPlanck[:,AsIndex] *= 1./As_fid"
   ]
  },
  {
   "cell_type": "code",
   "execution_count": null,
   "metadata": {},
   "outputs": [],
   "source": []
  },
  {
   "cell_type": "markdown",
   "metadata": {},
   "source": [
    "# Combine Fisher matrices and show comparison"
   ]
  },
  {
   "cell_type": "code",
   "execution_count": 96,
   "metadata": {},
   "outputs": [
    {
     "ename": "NameError",
     "evalue": "name 'FijTE1t' is not defined",
     "output_type": "error",
     "traceback": [
      "\u001b[0;31m---------------------------------------------------------------------------\u001b[0m",
      "\u001b[0;31mNameError\u001b[0m                                 Traceback (most recent call last)",
      "\u001b[0;32m<ipython-input-96-f3aa6abbe7e4>\u001b[0m in \u001b[0;36m<module>\u001b[0;34m()\u001b[0m\n\u001b[0;32m----> 1\u001b[0;31m \u001b[0mFijSum1\u001b[0m \u001b[0;34m=\u001b[0m \u001b[0mFijTE1t\u001b[0m\u001b[0;34m+\u001b[0m\u001b[0minvCovPlanck\u001b[0m\u001b[0;34m\u001b[0m\u001b[0m\n\u001b[0m\u001b[1;32m      2\u001b[0m \u001b[0mFijSum2\u001b[0m \u001b[0;34m=\u001b[0m \u001b[0mFijTE2t\u001b[0m\u001b[0;34m+\u001b[0m\u001b[0minvCovPlanck\u001b[0m\u001b[0;34m\u001b[0m\u001b[0m\n",
      "\u001b[0;31mNameError\u001b[0m: name 'FijTE1t' is not defined"
     ]
    }
   ],
   "source": [
    "FijSum1 = FijTE1t+invCovPlanck\n",
    "FijSum2 = FijTE2t+invCovPlanck"
   ]
  },
  {
   "cell_type": "code",
   "execution_count": null,
   "metadata": {},
   "outputs": [],
   "source": [
    "# get sigmas\n",
    "sigmasSum1 = getSigmas(FijSum1)\n",
    "sigmasSum2 = getSigmas(FijSum2)\n",
    "# rescale As\n",
    "sigmasSum1[AsIndex] *= 1e9\n",
    "sigmasSum2[AsIndex] *= 1e9"
   ]
  },
  {
   "cell_type": "code",
   "execution_count": null,
   "metadata": {},
   "outputs": [],
   "source": [
    "# rescale Planck As for comparison too\n",
    "sigmasP = getSigmas(invCovPlanck)\n",
    "sigmasP[AsIndex] *= 1e9"
   ]
  },
  {
   "cell_type": "code",
   "execution_count": null,
   "metadata": {},
   "outputs": [],
   "source": [
    "# alter the As label\n",
    "paramList[AsIndex] = '10^9 As'"
   ]
  },
  {
   "cell_type": "code",
   "execution_count": null,
   "metadata": {},
   "outputs": [],
   "source": [
    "# alter the ombh2 label and values\n",
    "paramList[0] = '100ombh2'\n",
    "sigmasP[0] *= 100\n",
    "sigmasSum1[0] *= 100\n",
    "sigmasSum2[0] *= 100"
   ]
  },
  {
   "cell_type": "code",
   "execution_count": null,
   "metadata": {},
   "outputs": [],
   "source": [
    "fiducial = [2.22,0.120,69.0,2.2,0.966,0.06]"
   ]
  },
  {
   "cell_type": "code",
   "execution_count": null,
   "metadata": {
    "scrolled": false
   },
   "outputs": [],
   "source": [
    "print 'CMB-S4 FWHM = 1 arcmin'\n",
    "#t = PrettyTable(['Parameter','fiducial','Planck','S4a+Planck','percent diff.'])\n",
    "t = PrettyTable(['Parameter','fiducial','Planck','S4a+Planck'])\n",
    "for i,p in enumerate(paramList):\n",
    "    fid = fiducial[i]\n",
    "    Zi = sigmasP[i]\n",
    "    Bi = sigmasSum1[i]\n",
    "    #diff = (Bi-Zi)/Zi *100\n",
    "    #t.add_row([p,\"%5.3g\" % fid,\"±%5.3g\" % Zi,\"±%5.3g\" % Bi, \"%5.3g\" % diff ] )\n",
    "    t.add_row([p,\"%5.3g\" % fid,\"±%5.3g\" % Zi,\"±%5.3g\" % Bi] )\n",
    "print t\n",
    "\n",
    "print 'CMB-S4 FWHM = 2 arcmin'\n",
    "#t = PrettyTable(['Parameter','fiducial','Planck','S4a+Planck','percent diff.'])\n",
    "t = PrettyTable(['Parameter','fiducial','Planck','S4b+Planck'])\n",
    "for i,p in enumerate(paramList):\n",
    "    fid = fiducial[i]\n",
    "    Zi = sigmasP[i]\n",
    "    Bi = sigmasSum2[i]\n",
    "    diff = (Bi-Zi)/Zi *100\n",
    "    #t.add_row([p,\"%5.3g\" % fid,\"±%5.3g\" % Zi,\"±%5.3g\" % Bi, \"%5.3g\" % diff ] )\n",
    "    t.add_row([p,\"%5.3g\" % fid,\"±%5.3g\" % Zi,\"±%5.3g\" % Bi] )\n",
    "print t"
   ]
  },
  {
   "cell_type": "code",
   "execution_count": null,
   "metadata": {},
   "outputs": [],
   "source": []
  },
  {
   "cell_type": "code",
   "execution_count": null,
   "metadata": {},
   "outputs": [],
   "source": []
  },
  {
   "cell_type": "code",
   "execution_count": null,
   "metadata": {},
   "outputs": [],
   "source": []
  },
  {
   "cell_type": "code",
   "execution_count": null,
   "metadata": {},
   "outputs": [],
   "source": []
  },
  {
   "cell_type": "code",
   "execution_count": null,
   "metadata": {},
   "outputs": [],
   "source": []
  }
 ],
 "metadata": {
  "kernelspec": {
   "display_name": "Python 2",
   "language": "python",
   "name": "python2"
  },
  "language_info": {
   "codemirror_mode": {
    "name": "ipython",
    "version": 2
   },
   "file_extension": ".py",
   "mimetype": "text/x-python",
   "name": "python",
   "nbconvert_exporter": "python",
   "pygments_lexer": "ipython2",
   "version": "2.7.15"
  }
 },
 "nbformat": 4,
 "nbformat_minor": 2
}
