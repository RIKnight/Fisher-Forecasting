{
 "cells": [
  {
   "cell_type": "markdown",
   "metadata": {},
   "source": [
    "# Look for a decrease in $\\sigma(\\Sigma m_\\nu)$ with increasing redshift"
   ]
  },
  {
   "cell_type": "code",
   "execution_count": 177,
   "metadata": {},
   "outputs": [],
   "source": [
    "import crosspower as cp\n",
    "import FisherCl as fcl # branch quickCl\n",
    "#import camb\n",
    "\n",
    "# set plotting to be in the notebook instead of its own qt window\n",
    "%matplotlib inline"
   ]
  },
  {
   "cell_type": "code",
   "execution_count": 178,
   "metadata": {},
   "outputs": [
    {
     "name": "stdout",
     "output_type": "stream",
     "text": [
      "[ 0.  1.  2.  3.  4.  5.  6.  8.  9. 10. 11. 12. 13. 16. 17. 18. 19. 20.\n",
      " 24. 25. 26. 27. 32. 33. 34. 40. 41. 48.]\n",
      "['k,k', 'k,g1', 'k,g2', 'k,g3', 'k,g4', 'k,g5', 'k,g6', 'g1,g1', 'g1,g2', 'g1,g3', 'g1,g4', 'g1,g5', 'g1,g6', 'g2,g2', 'g2,g3', 'g2,g4', 'g2,g5', 'g2,g6', 'g3,g3', 'g3,g4', 'g3,g5', 'g3,g6', 'g4,g4', 'g4,g5', 'g4,g6', 'g5,g5', 'g5,g6', 'g6,g6']\n",
      "['ombh2', 'omch2', 'cosmomc_theta', 'As', 'ns', 'tau', 'mnu', 'w', 'bin1', 'bin2', 'bin3', 'bin4', 'bin5', 'bin6']\n"
     ]
    }
   ],
   "source": [
    "# load saved Fobj\n",
    "# get lensing and galaxy Fisher matrix\n",
    "\n",
    "import FisherCl as fcl\n",
    "import crosspower as cp\n",
    "import pickle\n",
    "\n",
    "#filehandler = open('Fisher_4_1Y.obj','r') # AccuracyBoost=3, lmax=3000, lmaxP=5000; nz=3e5; nonlinear=True,\n",
    "#neutrino_hierarchy = 'normal', usePrimaryCMB = True; from FisherCl branch quickCl\n",
    "# this one used fiducial params and values to match CMB-S4 Science book verification table 8.1\n",
    "\n",
    "#filehandler = open('Fisher_7_6X.obj','r') # AccuracyBoost=3, lmax=2000, nz=3e5; nonlinear=False,\n",
    "#neutrino_hierarchy = 'normal', usePrimaryCMB = False; from FisherCl branch quickCl\n",
    "# kludge for this one: told cp.getDNDZinterp to use modelDNDZ3; set cp.tophat beesBins=True\n",
    "\n",
    "#filehandler = open('Fisher_7_6X_n1.obj','r') # AccuracyBoost=3, lmax=2000, nz=3e5; nonlinear=False,\n",
    "#neutrino_hierarchy = 'normal', usePrimaryCMB = False; from FisherCl branch quickCl\n",
    "# kludge for this one: told cp.getDNDZinterp to use modelDNDZ3; set cp.tophat beesBins=True\n",
    "# n1 for noise1; has kk noise but no gg\n",
    "\n",
    "filehandler = open('Fisher_7_6X_n2.obj','r') # AccuracyBoost=3, lmax=2000, nz=3e5; nonlinear=False,\n",
    "#neutrino_hierarchy = 'normal', usePrimaryCMB = False; from FisherCl branch quickCl\n",
    "# kludge for this one: told cp.getDNDZinterp to use modelDNDZ3; set cp.tophat beesBins=True\n",
    "# n2 for noise2; has kk noise and gg\n",
    "\n",
    "Fobj = pickle.load(filehandler) \n",
    "\n",
    "\n",
    "lmin = Fobj.lmin\n",
    "lmax = Fobj.lmax\n",
    "nMaps = Fobj.nBins + 1\n",
    "nCosParams = Fobj.nParams - Fobj.nBins\n",
    "ells = Fobj.ells\n",
    "obsNames = Fobj.obsNames\n",
    "paramList = Fobj.paramList\n",
    "\n",
    "print Fobj.obsList\n",
    "print Fobj.obsNames\n",
    "print Fobj.paramList\n"
   ]
  },
  {
   "cell_type": "code",
   "execution_count": 179,
   "metadata": {},
   "outputs": [
    {
     "name": "stdout",
     "output_type": "stream",
     "text": [
      "(28, 14, 1999)\n",
      "(28, 28, 1999)\n",
      "28 14\n"
     ]
    }
   ],
   "source": [
    "# Get sigmas for reduced number of bins\n",
    "# start with full set\n",
    "lminF = 50\n",
    "lmaxFa = 2000\n",
    "lmaxFb = 1000\n",
    "fsky = 0.4\n",
    "\n",
    "def getSigmas(Fij):\n",
    "    return np.sqrt(np.diag(np.linalg.inv(Fij)))\n",
    "    \n",
    "Fij6a = Fobj.makeFisher(lminF,lmaxFa)\n",
    "Fij6b = Fobj.makeFisher(lminF,lmaxFb)\n",
    "\n",
    "Fij6a *= fsky\n",
    "Fij6b *= fsky\n",
    "\n",
    "sigmas6a = getSigmas(Fij6a)\n",
    "sigmas6b = getSigmas(Fij6b)\n",
    "\n",
    "dClVecs = Fobj.dClVecs\n",
    "invCov = Fobj.invCov\n",
    "print dClVecs.shape\n",
    "print invCov.shape\n",
    "\n",
    "nCls = nMaps*(nMaps+1)/2\n",
    "nParams = Fobj.nParams\n",
    "print nCls, nParams"
   ]
  },
  {
   "cell_type": "code",
   "execution_count": 180,
   "metadata": {},
   "outputs": [
    {
     "name": "stdout",
     "output_type": "stream",
     "text": [
      "[0. 0. 0. 0. 0. 0. 0. 1. 1. 1. 1. 1. 1. 2. 2. 2. 2. 2. 3. 3. 3. 3. 4. 4.\n",
      " 4. 5. 5. 6.]\n",
      "[0. 1. 2. 3. 4. 5. 6. 1. 2. 3. 4. 5. 6. 2. 3. 4. 5. 6. 3. 4. 5. 6. 4. 5.\n",
      " 6. 5. 6. 6.]\n",
      "(array([ 6, 12, 17, 21, 24, 26, 27]),)\n"
     ]
    }
   ],
   "source": [
    "# use obsList to find which vector and matrix elements have g6\n",
    "# base nMaps code\n",
    "def getMapNums(obsList,nMaps):\n",
    "    map1 = np.floor(obsList/nMaps)\n",
    "    map2 = Fobj.obsList%nMaps\n",
    "    return map1,map2\n",
    "\n",
    "map1,map2= getMapNums(Fobj.obsList,nMaps)\n",
    "print map1\n",
    "print map2\n",
    "\n",
    "selectIndices = np.where(map2==6)\n",
    "print selectIndices"
   ]
  },
  {
   "cell_type": "code",
   "execution_count": 181,
   "metadata": {},
   "outputs": [
    {
     "name": "stdout",
     "output_type": "stream",
     "text": [
      "[ 0.  1.  2.  3.  4.  5.  8.  9. 10. 11. 12. 16. 17. 18. 19. 24. 25. 26.\n",
      " 32. 33. 40.]\n",
      "['k,k' 'k,g1' 'k,g2' 'k,g3' 'k,g4' 'k,g5' 'g1,g1' 'g1,g2' 'g1,g3' 'g1,g4'\n",
      " 'g1,g5' 'g2,g2' 'g2,g3' 'g2,g4' 'g2,g5' 'g3,g3' 'g3,g4' 'g3,g5' 'g4,g4'\n",
      " 'g4,g5' 'g5,g5']\n",
      "[0. 1. 2. 3. 4. 5. 1. 2. 3. 4. 5. 2. 3. 4. 5. 3. 4. 5. 4. 5. 5.]\n",
      "(21, 13, 1999)\n",
      "(21, 21, 1999)\n"
     ]
    }
   ],
   "source": [
    "def trimVecs(dClVecs,invCov,obsList,obsNames,map2,selectIndices):\n",
    "    dCl=dClVecs;iC=invCov;oL=obsList;oN=obsNames\n",
    "    for si in np.flip(selectIndices,0): #flip so indices still line up correctly\n",
    "        iC = np.delete(np.delete(iC,si,0),si,1)\n",
    "        dCl = np.delete(dCl,si,0)\n",
    "        oL = np.delete(oL,si)\n",
    "        oN = np.delete(oN,si)\n",
    "        map2 = np.delete(map2,si)\n",
    "    return dCl,iC,oL,oN,map2\n",
    "\n",
    "dClVecs5,invCov5,obsList5,obsNames5,map2_5 = trimVecs(dClVecs,invCov,Fobj.obsList,Fobj.obsNames,map2,selectIndices)\n",
    "print obsList5\n",
    "print obsNames5\n",
    "print map2_5\n",
    "        \n",
    "dClVecs5 = dClVecs5[:,:-1,:]\n",
    "\n",
    "print dClVecs5.shape\n",
    "print invCov5.shape"
   ]
  },
  {
   "cell_type": "code",
   "execution_count": 182,
   "metadata": {
    "scrolled": false
   },
   "outputs": [
    {
     "name": "stdout",
     "output_type": "stream",
     "text": [
      "done.\n"
     ]
    }
   ],
   "source": [
    "Fobj.invCov = invCov5\n",
    "Fobj.dClVecs = dClVecs5\n",
    "Fobj.nParams = 13\n",
    "Fij5a = Fobj.makeFisher(lminF,lmaxFa)\n",
    "Fij5b = Fobj.makeFisher(lminF,lmaxFb)\n",
    "\n",
    "Fij5a *= fsky\n",
    "Fij5b *= fsky\n",
    "\n",
    "sigmas5a = getSigmas(Fij5a)\n",
    "sigmas5b = getSigmas(Fij5b)\n",
    "print 'done.'"
   ]
  },
  {
   "cell_type": "code",
   "execution_count": null,
   "metadata": {},
   "outputs": [],
   "source": []
  },
  {
   "cell_type": "code",
   "execution_count": 183,
   "metadata": {},
   "outputs": [
    {
     "name": "stdout",
     "output_type": "stream",
     "text": [
      "(array([ 5, 10, 14, 17, 19, 20]),)\n",
      "[ 0.  1.  2.  3.  4.  8.  9. 10. 11. 16. 17. 18. 24. 25. 32.]\n",
      "['k,k' 'k,g1' 'k,g2' 'k,g3' 'k,g4' 'g1,g1' 'g1,g2' 'g1,g3' 'g1,g4' 'g2,g2'\n",
      " 'g2,g3' 'g2,g4' 'g3,g3' 'g3,g4' 'g4,g4']\n",
      "[0. 1. 2. 3. 4. 1. 2. 3. 4. 2. 3. 4. 3. 4. 4.]\n",
      "(15, 12, 1999)\n",
      "(15, 15, 1999)\n",
      "done.\n"
     ]
    }
   ],
   "source": [
    "selectIndices = np.where(map2_5==5)\n",
    "print selectIndices\n",
    "\n",
    "dClVecs4,invCov4,obsList4,obsNames4,map2_4 = trimVecs(dClVecs5,invCov5,obsList5,obsNames5,map2_5,selectIndices)\n",
    "print obsList4\n",
    "print obsNames4\n",
    "print map2_4\n",
    "\n",
    "dClVecs4 = dClVecs4[:,:-1,:]\n",
    "      \n",
    "print dClVecs4.shape\n",
    "print invCov4.shape\n",
    "\n",
    "Fobj.invCov = invCov4\n",
    "Fobj.dClVecs = dClVecs4\n",
    "Fobj.nParams = 12\n",
    "Fij4a = Fobj.makeFisher(lminF,lmaxFa)\n",
    "Fij4b = Fobj.makeFisher(lminF,lmaxFb)\n",
    "Fij4a *= fsky\n",
    "Fij4b *= fsky\n",
    "sigmas4a = getSigmas(Fij4a)\n",
    "sigmas4b = getSigmas(Fij4b)\n",
    "print 'done.'"
   ]
  },
  {
   "cell_type": "code",
   "execution_count": 184,
   "metadata": {},
   "outputs": [
    {
     "name": "stdout",
     "output_type": "stream",
     "text": [
      "(array([ 4,  8, 11, 13, 14]),)\n",
      "[ 0.  1.  2.  3.  8.  9. 10. 16. 17. 24.]\n",
      "['k,k' 'k,g1' 'k,g2' 'k,g3' 'g1,g1' 'g1,g2' 'g1,g3' 'g2,g2' 'g2,g3'\n",
      " 'g3,g3']\n",
      "[0. 1. 2. 3. 1. 2. 3. 2. 3. 3.]\n",
      "(10, 11, 1999)\n",
      "(10, 10, 1999)\n",
      "done.\n"
     ]
    }
   ],
   "source": [
    "selectIndices = np.where(map2_4==4)\n",
    "print selectIndices\n",
    "\n",
    "dClVecs3,invCov3,obsList3,obsNames3,map2_3 = trimVecs(dClVecs4,invCov4,obsList4,obsNames4,map2_4,selectIndices)\n",
    "print obsList3\n",
    "print obsNames3\n",
    "print map2_3\n",
    "\n",
    "dClVecs3 = dClVecs3[:,:-1,:]\n",
    "\n",
    "print dClVecs3.shape\n",
    "print invCov3.shape\n",
    "\n",
    "Fobj.invCov = invCov3\n",
    "Fobj.dClVecs = dClVecs3\n",
    "Fobj.nParams = 11\n",
    "Fij3a = Fobj.makeFisher(lminF,lmaxFa)\n",
    "Fij3b = Fobj.makeFisher(lminF,lmaxFb)\n",
    "Fij3a *= fsky\n",
    "Fij3b *= fsky\n",
    "sigmas3a = getSigmas(Fij3a)\n",
    "sigmas3b = getSigmas(Fij3b)\n",
    "print 'done.'"
   ]
  },
  {
   "cell_type": "code",
   "execution_count": 185,
   "metadata": {},
   "outputs": [
    {
     "name": "stdout",
     "output_type": "stream",
     "text": [
      "(array([3, 6, 8, 9]),)\n",
      "[ 0.  1.  2.  8.  9. 16.]\n",
      "['k,k' 'k,g1' 'k,g2' 'g1,g1' 'g1,g2' 'g2,g2']\n",
      "[0. 1. 2. 1. 2. 2.]\n",
      "(6, 10, 1999)\n",
      "(6, 6, 1999)\n",
      "done.\n"
     ]
    }
   ],
   "source": [
    "selectIndices = np.where(map2_3==3)\n",
    "print selectIndices\n",
    "\n",
    "dClVecs2,invCov2,obsList2,obsNames2,map2_2 = trimVecs(dClVecs3,invCov3,obsList3,obsNames3,map2_3,selectIndices)\n",
    "print obsList2\n",
    "print obsNames2\n",
    "print map2_2\n",
    "\n",
    "dClVecs2 = dClVecs2[:,:-1,:]\n",
    "\n",
    "print dClVecs2.shape\n",
    "print invCov2.shape\n",
    "\n",
    "Fobj.invCov = invCov2\n",
    "Fobj.dClVecs = dClVecs2\n",
    "Fobj.nParams = 10\n",
    "Fij2a = Fobj.makeFisher(lminF,lmaxFa)\n",
    "Fij2b = Fobj.makeFisher(lminF,lmaxFb)\n",
    "Fij2a *= fsky\n",
    "Fij2b *= fsky\n",
    "sigmas2a = getSigmas(Fij2a)\n",
    "sigmas2b = getSigmas(Fij2b)\n",
    "print 'done.'"
   ]
  },
  {
   "cell_type": "code",
   "execution_count": 186,
   "metadata": {},
   "outputs": [
    {
     "name": "stdout",
     "output_type": "stream",
     "text": [
      "(array([2, 4, 5]),)\n",
      "[0. 1. 8.]\n",
      "['k,k' 'k,g1' 'g1,g1']\n",
      "[0. 1. 1.]\n",
      "(3, 10, 1999)\n",
      "(3, 3, 1999)\n",
      "done.\n"
     ]
    }
   ],
   "source": [
    "selectIndices = np.where(map2_2==2)\n",
    "print selectIndices\n",
    "\n",
    "dClVecs1,invCov1,obsList1,obsNames1,map2_1 = trimVecs(dClVecs2,invCov2,obsList2,obsNames2,map2_2,selectIndices)\n",
    "print obsList1\n",
    "print obsNames1\n",
    "print map2_1\n",
    "        \n",
    "print dClVecs1.shape\n",
    "print invCov1.shape\n",
    "\n",
    "dClVecs1 = dClVecs1[:,:-1,:]\n",
    "\n",
    "Fobj.invCov = invCov1\n",
    "Fobj.dClVecs = dClVecs1\n",
    "Fobj.nParams = 9\n",
    "Fij1a = Fobj.makeFisher(lminF,lmaxFa)\n",
    "Fij1b = Fobj.makeFisher(lminF,lmaxFb)\n",
    "Fij1a *= fsky\n",
    "Fij1b *= fsky\n",
    "sigmas1a = getSigmas(Fij1a)\n",
    "sigmas1b = getSigmas(Fij1b)\n",
    "print 'done.'"
   ]
  },
  {
   "cell_type": "code",
   "execution_count": null,
   "metadata": {},
   "outputs": [],
   "source": []
  },
  {
   "cell_type": "code",
   "execution_count": 187,
   "metadata": {},
   "outputs": [],
   "source": [
    "# collect sigma_mnu values\n",
    "sigmaMnuA = np.zeros(6)\n",
    "sigmaMnuB = np.zeros(6)\n",
    "\n",
    "pNum = 6 #mnu\n",
    "\n",
    "sigmaMnuA[0] = sigmas1a[pNum]\n",
    "sigmaMnuB[0] = sigmas1b[pNum]\n",
    "sigmaMnuA[1] = sigmas2a[pNum]\n",
    "sigmaMnuB[1] = sigmas2b[pNum]\n",
    "sigmaMnuA[2] = sigmas3a[pNum]\n",
    "sigmaMnuB[2] = sigmas3b[pNum]\n",
    "sigmaMnuA[3] = sigmas4a[pNum]\n",
    "sigmaMnuB[3] = sigmas4b[pNum]\n",
    "sigmaMnuA[4] = sigmas5a[pNum]\n",
    "sigmaMnuB[4] = sigmas5b[pNum]\n",
    "sigmaMnuA[5] = sigmas6a[pNum]\n",
    "sigmaMnuB[5] = sigmas6b[pNum]\n"
   ]
  },
  {
   "cell_type": "code",
   "execution_count": 188,
   "metadata": {},
   "outputs": [],
   "source": [
    "# save for later\n",
    "# no noise\n",
    "#sigmaMnuA_N0 = sigmaMnuA\n",
    "#sigmaMnuB_N0 = sigmaMnuB\n",
    "\n",
    "# reconstruction noise\n",
    "#sigmaMnuA_N1 = sigmaMnuA\n",
    "#sigmaMnuB_N1 = sigmaMnuB\n",
    "\n",
    "# reconstruction + shot noise\n",
    "sigmaMnuA_N2 = sigmaMnuA\n",
    "sigmaMnuB_N2 = sigmaMnuB\n"
   ]
  },
  {
   "cell_type": "code",
   "execution_count": 189,
   "metadata": {},
   "outputs": [
    {
     "data": {
      "image/png": "[encoded data removed]",
      "text/plain": [
       "<matplotlib.figure.Figure at 0x10c796450>"
      ]
     },
     "metadata": {},
     "output_type": "display_data"
    }
   ],
   "source": [
    "# plot them\n",
    "zVals = [0.5,1,2,3,4,7]\n",
    "plt.semilogy(zVals,sigmaMnuA_N0*1000,label='N0, lmax 2000',color='C0')\n",
    "plt.semilogy(zVals,sigmaMnuB_N0*1000,linestyle = '--',label='N0, lmax 1000',color='C0')\n",
    "plt.semilogy(zVals,sigmaMnuA_N1*1000,label='N1, lmax 2000',color='C1')\n",
    "plt.semilogy(zVals,sigmaMnuB_N1*1000,linestyle = '--',label='N1, lmax 1000',color='C1')\n",
    "plt.semilogy(zVals,sigmaMnuA_N2*1000,label='N2, lmax 2000',color='C2')\n",
    "plt.semilogy(zVals,sigmaMnuB_N2*1000,linestyle = '--',label='N2, lmax 1000',color='C2')\n",
    "\n",
    "\n",
    "plt.legend()\n",
    "plt.xlabel(r'$z_{max}$')\n",
    "plt.ylabel(r'$\\sigma(\\Sigma m_\\nu) [meV]$')\n",
    "plt.title(r'$\\sigma(\\Sigma m_\\nu):$ increasing $z_{max}$ by adding bins')\n",
    "plt.show()"
   ]
  },
  {
   "cell_type": "code",
   "execution_count": null,
   "metadata": {},
   "outputs": [],
   "source": []
  },
  {
   "cell_type": "code",
   "execution_count": null,
   "metadata": {},
   "outputs": [],
   "source": []
  },
  {
   "cell_type": "code",
   "execution_count": 190,
   "metadata": {},
   "outputs": [],
   "source": [
    "# collect sigma_mnu values\n",
    "sigmaMnuA = np.zeros(6)\n",
    "sigmaMnuB = np.zeros(6)\n",
    "\n",
    "#pNum = 6 #mnu\n",
    "pNum = 7 #w\n",
    "\n",
    "sigmaMnuA[0] = sigmas1a[pNum]\n",
    "sigmaMnuB[0] = sigmas1b[pNum]\n",
    "sigmaMnuA[1] = sigmas2a[pNum]\n",
    "sigmaMnuB[1] = sigmas2b[pNum]\n",
    "sigmaMnuA[2] = sigmas3a[pNum]\n",
    "sigmaMnuB[2] = sigmas3b[pNum]\n",
    "sigmaMnuA[3] = sigmas4a[pNum]\n",
    "sigmaMnuB[3] = sigmas4b[pNum]\n",
    "sigmaMnuA[4] = sigmas5a[pNum]\n",
    "sigmaMnuB[4] = sigmas5b[pNum]\n",
    "sigmaMnuA[5] = sigmas6a[pNum]\n",
    "sigmaMnuB[5] = sigmas6b[pNum]\n"
   ]
  },
  {
   "cell_type": "code",
   "execution_count": 191,
   "metadata": {},
   "outputs": [],
   "source": [
    "# save for later\n",
    "# no noise\n",
    "#sigmaWA_N0 = sigmaMnuA\n",
    "#sigmaWB_N0 = sigmaMnuB\n",
    "\n",
    "# reconstruction noise\n",
    "#sigmaWA_N1 = sigmaMnuA\n",
    "#sigmaWB_N1 = sigmaMnuB\n",
    "\n",
    "# reconstruction + shot noise\n",
    "sigmaWA_N2 = sigmaMnuA\n",
    "sigmaWB_N2 = sigmaMnuB\n",
    "\n"
   ]
  },
  {
   "cell_type": "code",
   "execution_count": 192,
   "metadata": {},
   "outputs": [
    {
     "data": {
      "image/png": "[encoded data removed]",
      "text/plain": [
       "<matplotlib.figure.Figure at 0x10a0d9590>"
      ]
     },
     "metadata": {},
     "output_type": "display_data"
    }
   ],
   "source": [
    "# plot them\n",
    "zVals = [0.5,1,2,3,4,7]\n",
    "plt.semilogy(zVals,sigmaWA_N0,label='N0, lmax 2000',color='C0')\n",
    "plt.semilogy(zVals,sigmaWB_N0,linestyle = '--',label='N0, lmax 1000',color='C0')\n",
    "plt.semilogy(zVals,sigmaWA_N1,label='N1, lmax 2000',color='C1')\n",
    "plt.semilogy(zVals,sigmaWB_N1,linestyle = '--',label='N1, lmax 1000',color='C1')\n",
    "plt.semilogy(zVals,sigmaWA_N2,label='N2, lmax 2000',color='C2')\n",
    "plt.semilogy(zVals,sigmaWB_N2,linestyle = '--',label='N2, lmax 1000',color='C2')\n",
    "\n",
    "plt.legend()\n",
    "plt.xlabel(r'$z_{max}$')\n",
    "#plt.ylabel(r'$\\sigma(\\Sigma m_\\nu) [meV]$')\n",
    "plt.ylabel(r'$\\sigma(w)$')\n",
    "plt.title(r'$w$: increasing $z_{max}$ by adding bins')\n",
    "plt.show()"
   ]
  },
  {
   "cell_type": "code",
   "execution_count": null,
   "metadata": {},
   "outputs": [],
   "source": []
  },
  {
   "cell_type": "code",
   "execution_count": null,
   "metadata": {},
   "outputs": [],
   "source": []
  },
  {
   "cell_type": "code",
   "execution_count": 5,
   "metadata": {},
   "outputs": [
    {
     "data": {
      "image/png": "[encoded data removed]",
      "text/plain": [
       "<matplotlib.figure.Figure at 0x10bb29850>"
      ]
     },
     "metadata": {},
     "output_type": "display_data"
    },
    {
     "data": {
      "image/png": "[encoded data removed]",
      "text/plain": [
       "<matplotlib.figure.Figure at 0x10ba3af10>"
      ]
     },
     "metadata": {},
     "output_type": "display_data"
    }
   ],
   "source": [
    "# show the bins\n",
    "import crosspower as cp\n",
    "myZs = np.linspace(0,7,500)\n",
    "myDNDZ = cp.modelDNDZ3(myZs)\n",
    "nBins = 6\n",
    "for binNum in range(nBins):\n",
    "    plt.plot(myZs,cp.tophat(myDNDZ,myZs,0,7,6,binNum,beesBins=True))\n",
    "    plt.xlabel('redshift')\n",
    "    plt.ylabel('dN/dz')\n",
    "plt.show()\n",
    "for binNum in range(nBins):\n",
    "    plt.semilogy(myZs,cp.tophat(myDNDZ,myZs,0,7,6,binNum,beesBins=True))\n",
    "    plt.xlabel('redshift')\n",
    "    plt.ylabel('dN/dz')\n",
    "plt.show()"
   ]
  },
  {
   "cell_type": "code",
   "execution_count": null,
   "metadata": {},
   "outputs": [],
   "source": []
  },
  {
   "cell_type": "code",
   "execution_count": null,
   "metadata": {},
   "outputs": [],
   "source": []
  },
  {
   "cell_type": "code",
   "execution_count": 6,
   "metadata": {},
   "outputs": [
    {
     "name": "stderr",
     "output_type": "stream",
     "text": [
      "WARNING:root:accuracy parameters are changed globally, not yet per parameter set\n"
     ]
    },
    {
     "name": "stdout",
     "output_type": "stream",
     "text": [
      "neutrino_hierarchy =  normal\n",
      "zs.size:  9998\n"
     ]
    }
   ],
   "source": [
    "# check kk spectrum\n",
    "reload(cp)\n",
    "myPk = cp.MatterPower(nonlinear=False)"
   ]
  },
  {
   "cell_type": "code",
   "execution_count": 9,
   "metadata": {},
   "outputs": [
    {
     "name": "stdout",
     "output_type": "stream",
     "text": [
      "calculating window  0 ... \n",
      "warning: b(z=0)=1 inserted.\n",
      "calculating window  1 ... \n",
      "warning: b(z=0)=1 inserted.\n",
      "calculating window  2 ... \n",
      "warning: b(z=0)=1 inserted.\n",
      "calculating window  3 ... \n",
      "warning: b(z=0)=1 inserted.\n",
      "calculating window  4 ... \n",
      "warning: b(z=0)=1 inserted.\n",
      "calculating window  5 ... \n",
      "warning: b(z=0)=1 inserted.\n",
      "window  1 : kappa  0\n",
      "window  2 : kappa  0\n",
      "window  1 : kappa  0\n",
      "window  2 : galaxies  0\n",
      "window  1 : galaxies  0\n",
      "window  2 : kappa  0\n",
      "window  1 : galaxies  0\n",
      "window  2 : galaxies  0\n"
     ]
    },
    {
     "name": "stderr",
     "output_type": "stream",
     "text": [
      "/opt/local/Library/Frameworks/Python.framework/Versions/2.7/lib/python2.7/site-packages/matplotlib/axes/_base.py:2966: UserWarning: Attempted to set non-positive xlimits for log-scale axis; invalid limits will be ignored.\n",
      "  'Attempted to set non-positive xlimits for log-scale axis; '\n"
     ]
    },
    {
     "data": {
      "image/png": "[encoded data removed]",
      "text/plain": [
       "<matplotlib.figure.Figure at 0x10b699fd0>"
      ]
     },
     "metadata": {},
     "output_type": "display_data"
    }
   ],
   "source": [
    "reload(cp)\n",
    "cp.plotKG(myPk)"
   ]
  },
  {
   "cell_type": "code",
   "execution_count": null,
   "metadata": {},
   "outputs": [],
   "source": []
  },
  {
   "cell_type": "code",
   "execution_count": null,
   "metadata": {},
   "outputs": [],
   "source": []
  },
  {
   "cell_type": "code",
   "execution_count": null,
   "metadata": {},
   "outputs": [],
   "source": []
  },
  {
   "cell_type": "code",
   "execution_count": null,
   "metadata": {},
   "outputs": [],
   "source": []
  },
  {
   "cell_type": "code",
   "execution_count": null,
   "metadata": {},
   "outputs": [],
   "source": []
  },
  {
   "cell_type": "code",
   "execution_count": null,
   "metadata": {},
   "outputs": [],
   "source": []
  }
 ],
 "metadata": {
  "kernelspec": {
   "display_name": "Python 2",
   "language": "python",
   "name": "python2"
  },
  "language_info": {
   "codemirror_mode": {
    "name": "ipython",
    "version": 2
   },
   "file_extension": ".py",
   "mimetype": "text/x-python",
   "name": "python",
   "nbconvert_exporter": "python",
   "pygments_lexer": "ipython2",
   "version": "2.7.14"
  }
 },
 "nbformat": 4,
 "nbformat_minor": 2
}
