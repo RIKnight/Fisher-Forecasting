{
 "cells": [
  {
   "cell_type": "markdown",
   "metadata": {},
   "source": [
    "# Transform a Fisher matrix to a different parameter set using a Jacobian"
   ]
  },
  {
   "cell_type": "code",
   "execution_count": 2,
   "metadata": {},
   "outputs": [
    {
     "name": "stderr",
     "output_type": "stream",
     "text": [
      "IMPORT ERROR: /opt/local/Library/Frameworks/Python.framework/Versions/2.7/lib/python2.7/site-packages/quicklens/mpi.pyc (No module named pypar). Could not load pbs or pypar. MPI will not be used.\n"
     ]
    }
   ],
   "source": [
    "import crosspower as cp\n",
    "import FisherCl as fcl # branch quickCl\n",
    "import noiseCl as ncl\n",
    "#import camb\n",
    "\n",
    "# set plotting to be in the notebook instead of its own qt window\n",
    "%matplotlib inline"
   ]
  },
  {
   "cell_type": "code",
   "execution_count": null,
   "metadata": {},
   "outputs": [],
   "source": []
  },
  {
   "cell_type": "code",
   "execution_count": null,
   "metadata": {},
   "outputs": [],
   "source": []
  },
  {
   "cell_type": "markdown",
   "metadata": {},
   "source": [
    "# 1. Jacobian around CMB-S4 Science Book fiducial parameters"
   ]
  },
  {
   "cell_type": "code",
   "execution_count": 2,
   "metadata": {},
   "outputs": [
    {
     "name": "stdout",
     "output_type": "stream",
     "text": [
      "[-0.0248396985185, 0.0104553863834, 2.96219516316e-05, 0.0, 0.0, 0.0]\n"
     ]
    }
   ],
   "source": [
    "# Need to convert theta_mc to H0\n",
    "# to get Jacobian:\n",
    "#   calculate all partial derivatives of cosmomc_theta\n",
    "# This calculation uses fiducial values to match table 8-1 in CMB-S4 science book\n",
    "\n",
    "newDeriv = False\n",
    "\n",
    "AccuracyBoost = 3\n",
    "nonlinear = True\n",
    "nz = 300000\n",
    "nCosParams = 6\n",
    "paramList = ['ombh2','omch2','H0','As','ns','tau']\n",
    "deltaP = np.array([0.0008,0.0030,0.1,0.1e-9,0.010,0.020])/2.\n",
    "\n",
    "cosParams = {\n",
    "        'H0'    : 69, #setting H0=None allows cosmomc_theta to be used instead\n",
    "        'cosmomc_theta'           : None,\n",
    "        'ombh2' : 0.0222,\n",
    "        'omch2' : 0.120,\n",
    "        'omk'   : 0,\n",
    "        'tau'   : 0.06,\n",
    "\n",
    "        'As'    : 2.20e-9,\n",
    "        'ns'    : 0.966,\n",
    "        'r'     : 0,\n",
    "        'kPivot': 0.05,\n",
    "\n",
    "        'w'     : -1.0, # actually is w0 but CAMB calls it w\n",
    "        'wa'    : 0.0,\n",
    "    \n",
    "        # if fiducial mnu is changed, need to adjust omch2 as well\n",
    "        'mnu'   : 0.06, # (eV)\n",
    "        #'mnu'   : 0.058, # Lloyd suggested this value for fiducial; adjust omch2 if I do use it\n",
    "        'nnu'   : 3.046,\n",
    "        'standard_neutrino_neff'  : 3.046,\n",
    "        'num_massive_neutrinos'   : 1,\n",
    "        'neutrino_hierarchy'      : 'normal'}\n",
    "\n",
    "if newDeriv:\n",
    "    # modified param lists\n",
    "    myParamsUpper = []\n",
    "    myParamsLower = []\n",
    "    for cParamNum in range(nCosParams):\n",
    "      # add parameter dictionary to lists; HAVE TO BE COPIES!!!\n",
    "      myParamsUpper.append(cosParams.copy())\n",
    "      myParamsLower.append(cosParams.copy())\n",
    "      # modify parameter number cParamNum in ditionaries\n",
    "      myParamsUpper[cParamNum][paramList[cParamNum]] += deltaP[cParamNum]\n",
    "      myParamsLower[cParamNum][paramList[cParamNum]] -= deltaP[cParamNum]\n",
    "\n",
    "    # get MatterPower objs.\n",
    "    myPksUpper = []\n",
    "    myPksLower = []\n",
    "    for cParamNum in range(nCosParams):\n",
    "        print 'calculating MatterPower objects for ',\\\n",
    "              paramList[cParamNum], ' derivative . . . '\n",
    "\n",
    "        # create MatterPower objects\n",
    "        myPksUpper.append(cp.MatterPower(nz=nz,AccuracyBoost=AccuracyBoost,\n",
    "                             nonlinear=nonlinear,**myParamsUpper[cParamNum]))\n",
    "        myPksLower.append(cp.MatterPower(nz=nz,AccuracyBoost=AccuracyBoost,\n",
    "                             nonlinear=nonlinear,**myParamsLower[cParamNum]))\n",
    "\n",
    "\n",
    "\n",
    "    # ['ombh2','omch2','As','ns','tau']\n",
    "    dtheta_dombh2 = (myPksUpper[0].cosmomc_theta-myPksLower[0].cosmomc_theta)/(2*deltaP[0])\n",
    "    dtheta_domch2 = (myPksUpper[1].cosmomc_theta-myPksLower[1].cosmomc_theta)/(2*deltaP[1])\n",
    "    dtheta_dH0    = (myPksUpper[2].cosmomc_theta-myPksLower[2].cosmomc_theta)/(2*deltaP[2])\n",
    "    dtheta_dAs    = (myPksUpper[3].cosmomc_theta-myPksLower[3].cosmomc_theta)/(2*deltaP[3])\n",
    "    dtheta_dns    = (myPksUpper[4].cosmomc_theta-myPksLower[4].cosmomc_theta)/(2*deltaP[4])\n",
    "    dtheta_dtau   = (myPksUpper[5].cosmomc_theta-myPksLower[5].cosmomc_theta)/(2*deltaP[5])\n",
    "\n",
    "    dthetas = np.array([dtheta_dombh2,dtheta_domch2,dtheta_dH0,dtheta_dAs,dtheta_dns,dtheta_dtau])\n",
    "\n",
    "else:\n",
    "    dthetas = [-0.0248396985185, 0.0104553863834, 2.96219516316e-05, 0.0, 0.0, 0.0]\n",
    "print dthetas"
   ]
  },
  {
   "cell_type": "code",
   "execution_count": 3,
   "metadata": {},
   "outputs": [
    {
     "name": "stdout",
     "output_type": "stream",
     "text": [
      "[0.00019347, 0.00093481]\n"
     ]
    }
   ],
   "source": [
    "# Sometimes the other parts will be needed\n",
    "# This is a continuation of the previous calculation for mnu and w, though they are not in table 8-1\n",
    "\n",
    "newDeriv = False\n",
    "\n",
    "AccuracyBoost = 3\n",
    "nonlinear = True\n",
    "nz = 300000\n",
    "nCosParams = 2\n",
    "paramList = ['mnu','w']\n",
    "deltaP = np.array([0.020,0.05])/2.\n",
    "\n",
    "cosParams = {\n",
    "        'H0'    : 69, #setting H0=None allows cosmomc_theta to be used instead\n",
    "        'cosmomc_theta'           : None,\n",
    "        'ombh2' : 0.0222,\n",
    "        'omch2' : 0.120,\n",
    "        'omk'   : 0,\n",
    "        'tau'   : 0.06,\n",
    "\n",
    "        'As'    : 2.20e-9,\n",
    "        'ns'    : 0.966,\n",
    "        'r'     : 0,\n",
    "        'kPivot': 0.05,\n",
    "\n",
    "        'w'     : -1.0, # DARK ENERGY!!!\n",
    "\n",
    "        # if fiducial mnu is changed, need to adjust omch2 as well\n",
    "        'mnu'   : 0.06, # (eV)\n",
    "        #'mnu'   : 0.058, # Lloyd suggested this value for fiducial; adjust omch2 if I do use it\n",
    "        'nnu'   : 3.046,\n",
    "        'standard_neutrino_neff'  : 3.046,\n",
    "        'num_massive_neutrinos'   : 1,\n",
    "        'neutrino_hierarchy'      : 'normal'}\n",
    "\n",
    "if newDeriv:\n",
    "    # modified param lists\n",
    "    myParamsUpper = []\n",
    "    myParamsLower = []\n",
    "    for cParamNum in range(nCosParams):\n",
    "      # add parameter dictionary to lists; HAVE TO BE COPIES!!!\n",
    "      myParamsUpper.append(cosParams.copy())\n",
    "      myParamsLower.append(cosParams.copy())\n",
    "      # modify parameter number cParamNum in ditionaries\n",
    "      myParamsUpper[cParamNum][paramList[cParamNum]] += deltaP[cParamNum]\n",
    "      myParamsLower[cParamNum][paramList[cParamNum]] -= deltaP[cParamNum]\n",
    "\n",
    "    # get MatterPower objs.\n",
    "    myPksUpper = []\n",
    "    myPksLower = []\n",
    "    for cParamNum in range(nCosParams):\n",
    "        print 'calculating MatterPower objects for ',\\\n",
    "              paramList[cParamNum], ' derivative . . . '\n",
    "\n",
    "        # create MatterPower objects\n",
    "        \n",
    "        \n",
    "        # no, don't do it this way for dark energy params.  re-factor to accomodate global variables!\n",
    "        \n",
    "        \n",
    "        myPksUpper.append(cp.MatterPower(nz=nz,AccuracyBoost=AccuracyBoost,\n",
    "                             nonlinear=nonlinear,**myParamsUpper[cParamNum]))\n",
    "        myPksLower.append(cp.MatterPower(nz=nz,AccuracyBoost=AccuracyBoost,\n",
    "                             nonlinear=nonlinear,**myParamsLower[cParamNum]))\n",
    "\n",
    "\n",
    "\n",
    "    # ['mnu','w']\n",
    "    dtheta_mnu = (myPksUpper[0].cosmomc_theta-myPksLower[0].cosmomc_theta)/(2*deltaP[0])\n",
    "    dtheta_w   = (myPksUpper[1].cosmomc_theta-myPksLower[1].cosmomc_theta)/(2*deltaP[1])\n",
    "    \n",
    "    dthetas2 = np.array([dtheta_mnu,dtheta_w])\n",
    "\n",
    "else:\n",
    "    dthetas2 = [0.00019347, 0.00093481]\n",
    "print dthetas2"
   ]
  },
  {
   "cell_type": "code",
   "execution_count": null,
   "metadata": {},
   "outputs": [],
   "source": []
  },
  {
   "cell_type": "code",
   "execution_count": 4,
   "metadata": {},
   "outputs": [
    {
     "name": "stdout",
     "output_type": "stream",
     "text": [
      "[[ 1.          0.          0.          0.          0.          0.        ]\n",
      " [ 0.          1.          0.          0.          0.          0.        ]\n",
      " [-2.48396985  1.04553864  0.0029622   0.          0.          0.        ]\n",
      " [ 0.          0.          0.          1.          0.          0.        ]\n",
      " [ 0.          0.          0.          0.          1.          0.        ]\n",
      " [ 0.          0.          0.          0.          0.          1.        ]]\n"
     ]
    }
   ],
   "source": [
    "# The only derivatives in the Jacobian are on the dtheta/dparam row.\n",
    "mcIndex = 2\n",
    "jacobian = np.diag(np.ones(6)) # 6 is nCosParams above\n",
    "jacobian[mcIndex,:] = dthetas#*100\n",
    "#jacobian[:,mcIndex] = dthetas#*100\n",
    "\n",
    "# multiply these all by d{100thetamc}/d{thetamc} = 100\n",
    "jacobian[mcIndex,:] *= 100\n",
    "#jacobian[:,mcIndex] *= 100\n",
    "\n",
    "print jacobian"
   ]
  },
  {
   "cell_type": "code",
   "execution_count": 5,
   "metadata": {},
   "outputs": [
    {
     "ename": "NameError",
     "evalue": "name 'invCovPlanck' is not defined",
     "output_type": "error",
     "traceback": [
      "\u001b[0;31m---------------------------------------------------------------------------\u001b[0m",
      "\u001b[0;31mNameError\u001b[0m                                 Traceback (most recent call last)",
      "\u001b[0;32m<ipython-input-5-c0e0dd37c84c>\u001b[0m in \u001b[0;36m<module>\u001b[0;34m()\u001b[0m\n\u001b[1;32m      1\u001b[0m \u001b[0;31m# jacobian-it-up\u001b[0m\u001b[0;34m\u001b[0m\u001b[0;34m\u001b[0m\u001b[0m\n\u001b[0;32m----> 2\u001b[0;31m \u001b[0minvCovPlanck\u001b[0m \u001b[0;34m=\u001b[0m \u001b[0mnp\u001b[0m\u001b[0;34m.\u001b[0m\u001b[0mdot\u001b[0m\u001b[0;34m(\u001b[0m\u001b[0mjacobian\u001b[0m\u001b[0;34m.\u001b[0m\u001b[0mT\u001b[0m\u001b[0;34m,\u001b[0m\u001b[0mnp\u001b[0m\u001b[0;34m.\u001b[0m\u001b[0mdot\u001b[0m\u001b[0;34m(\u001b[0m\u001b[0minvCovPlanck\u001b[0m\u001b[0;34m,\u001b[0m\u001b[0mjacobian\u001b[0m\u001b[0;34m)\u001b[0m\u001b[0;34m)\u001b[0m\u001b[0;34m\u001b[0m\u001b[0m\n\u001b[0m\u001b[1;32m      3\u001b[0m \u001b[0;32mprint\u001b[0m \u001b[0minvCovPlanck\u001b[0m\u001b[0;34m\u001b[0m\u001b[0m\n",
      "\u001b[0;31mNameError\u001b[0m: name 'invCovPlanck' is not defined"
     ]
    }
   ],
   "source": [
    "# jacobian-it-up\n",
    "#invCovPlanck = np.dot(jacobian.T,np.dot(invCovPlanck,jacobian))\n",
    "#print invCovPlanck"
   ]
  },
  {
   "cell_type": "code",
   "execution_count": null,
   "metadata": {},
   "outputs": [],
   "source": []
  },
  {
   "cell_type": "code",
   "execution_count": null,
   "metadata": {},
   "outputs": [],
   "source": [
    "# ok, also convert ln(10^10*As) to 10^9*As\n",
    "# exponentiate and divide by 10?  No, use Jacobian again.\n",
    "# no, actually convert to just As, since that's what FijTE uses\n",
    "As_fid = 2.2e-9\n",
    "AsIndex = 3\n",
    "invCovPlanck[AsIndex,:] *= 1./As_fid\n",
    "invCovPlanck[:,AsIndex] *= 1./As_fid"
   ]
  },
  {
   "cell_type": "code",
   "execution_count": null,
   "metadata": {},
   "outputs": [],
   "source": []
  },
  {
   "cell_type": "markdown",
   "metadata": {},
   "source": [
    "# 2. Jacobian around my FisherCl fiducial parameters"
   ]
  },
  {
   "cell_type": "code",
   "execution_count": 3,
   "metadata": {
    "collapsed": true
   },
   "outputs": [
    {
     "name": "stderr",
     "output_type": "stream",
     "text": [
      "WARNING:root:accuracy parameters are changed globally, not yet per parameter set\n"
     ]
    },
    {
     "name": "stdout",
     "output_type": "stream",
     "text": [
      "calculating MatterPower objects for  ombh2  derivative . . . \n",
      "neutrino_hierarchy =  normal\n",
      "starting makePkInterp.\n"
     ]
    },
    {
     "name": "stderr",
     "output_type": "stream",
     "text": [
      "WARNING:root:accuracy parameters are changed globally, not yet per parameter set\n"
     ]
    },
    {
     "name": "stdout",
     "output_type": "stream",
     "text": [
      "finishing makePkInterp.\n",
      "neutrino_hierarchy =  normal\n",
      "starting makePkInterp.\n"
     ]
    },
    {
     "name": "stderr",
     "output_type": "stream",
     "text": [
      "WARNING:root:accuracy parameters are changed globally, not yet per parameter set\n"
     ]
    },
    {
     "name": "stdout",
     "output_type": "stream",
     "text": [
      "finishing makePkInterp.\n",
      "calculating MatterPower objects for  omch2  derivative . . . \n",
      "neutrino_hierarchy =  normal\n",
      "starting makePkInterp.\n"
     ]
    },
    {
     "name": "stderr",
     "output_type": "stream",
     "text": [
      "WARNING:root:accuracy parameters are changed globally, not yet per parameter set\n"
     ]
    },
    {
     "name": "stdout",
     "output_type": "stream",
     "text": [
      "finishing makePkInterp.\n",
      "neutrino_hierarchy =  normal\n",
      "starting makePkInterp.\n"
     ]
    },
    {
     "name": "stderr",
     "output_type": "stream",
     "text": [
      "WARNING:root:accuracy parameters are changed globally, not yet per parameter set\n"
     ]
    },
    {
     "name": "stdout",
     "output_type": "stream",
     "text": [
      "finishing makePkInterp.\n",
      "calculating MatterPower objects for  H0  derivative . . . \n",
      "neutrino_hierarchy =  normal\n",
      "starting makePkInterp.\n"
     ]
    },
    {
     "name": "stderr",
     "output_type": "stream",
     "text": [
      "WARNING:root:accuracy parameters are changed globally, not yet per parameter set\n"
     ]
    },
    {
     "name": "stdout",
     "output_type": "stream",
     "text": [
      "finishing makePkInterp.\n",
      "neutrino_hierarchy =  normal\n",
      "starting makePkInterp.\n"
     ]
    },
    {
     "name": "stderr",
     "output_type": "stream",
     "text": [
      "WARNING:root:accuracy parameters are changed globally, not yet per parameter set\n"
     ]
    },
    {
     "name": "stdout",
     "output_type": "stream",
     "text": [
      "finishing makePkInterp.\n",
      "calculating MatterPower objects for  As  derivative . . . \n",
      "neutrino_hierarchy =  normal\n",
      "starting makePkInterp.\n"
     ]
    },
    {
     "name": "stderr",
     "output_type": "stream",
     "text": [
      "WARNING:root:accuracy parameters are changed globally, not yet per parameter set\n"
     ]
    },
    {
     "name": "stdout",
     "output_type": "stream",
     "text": [
      "finishing makePkInterp.\n",
      "neutrino_hierarchy =  normal\n",
      "starting makePkInterp.\n"
     ]
    },
    {
     "name": "stderr",
     "output_type": "stream",
     "text": [
      "WARNING:root:accuracy parameters are changed globally, not yet per parameter set\n"
     ]
    },
    {
     "name": "stdout",
     "output_type": "stream",
     "text": [
      "finishing makePkInterp.\n",
      "calculating MatterPower objects for  ns  derivative . . . \n",
      "neutrino_hierarchy =  normal\n",
      "starting makePkInterp.\n"
     ]
    },
    {
     "name": "stderr",
     "output_type": "stream",
     "text": [
      "WARNING:root:accuracy parameters are changed globally, not yet per parameter set\n"
     ]
    },
    {
     "name": "stdout",
     "output_type": "stream",
     "text": [
      "finishing makePkInterp.\n",
      "neutrino_hierarchy =  normal\n",
      "starting makePkInterp.\n"
     ]
    },
    {
     "name": "stderr",
     "output_type": "stream",
     "text": [
      "WARNING:root:accuracy parameters are changed globally, not yet per parameter set\n"
     ]
    },
    {
     "name": "stdout",
     "output_type": "stream",
     "text": [
      "finishing makePkInterp.\n",
      "calculating MatterPower objects for  tau  derivative . . . \n",
      "neutrino_hierarchy =  normal\n",
      "starting makePkInterp.\n"
     ]
    },
    {
     "name": "stderr",
     "output_type": "stream",
     "text": [
      "WARNING:root:accuracy parameters are changed globally, not yet per parameter set\n"
     ]
    },
    {
     "name": "stdout",
     "output_type": "stream",
     "text": [
      "finishing makePkInterp.\n",
      "neutrino_hierarchy =  normal\n",
      "starting makePkInterp.\n"
     ]
    },
    {
     "name": "stderr",
     "output_type": "stream",
     "text": [
      "WARNING:root:accuracy parameters are changed globally, not yet per parameter set\n"
     ]
    },
    {
     "name": "stdout",
     "output_type": "stream",
     "text": [
      "finishing makePkInterp.\n",
      "calculating MatterPower objects for  mnu  derivative . . . \n",
      "neutrino_hierarchy =  normal\n",
      "starting makePkInterp.\n"
     ]
    },
    {
     "name": "stderr",
     "output_type": "stream",
     "text": [
      "WARNING:root:accuracy parameters are changed globally, not yet per parameter set\n"
     ]
    },
    {
     "name": "stdout",
     "output_type": "stream",
     "text": [
      "finishing makePkInterp.\n",
      "neutrino_hierarchy =  normal\n",
      "starting makePkInterp.\n"
     ]
    },
    {
     "name": "stderr",
     "output_type": "stream",
     "text": [
      "WARNING:root:Currently dark energy parameters are changed globally, not per parameter set\n",
      "WARNING:root:accuracy parameters are changed globally, not yet per parameter set\n"
     ]
    },
    {
     "name": "stdout",
     "output_type": "stream",
     "text": [
      "finishing makePkInterp.\n",
      "calculating MatterPower objects for  w  derivative . . . \n",
      "neutrino_hierarchy =  normal\n",
      "starting makePkInterp.\n"
     ]
    },
    {
     "name": "stderr",
     "output_type": "stream",
     "text": [
      "WARNING:root:Currently dark energy parameters are changed globally, not per parameter set\n",
      "WARNING:root:accuracy parameters are changed globally, not yet per parameter set\n"
     ]
    },
    {
     "name": "stdout",
     "output_type": "stream",
     "text": [
      "finishing makePkInterp.\n",
      "neutrino_hierarchy =  normal\n",
      "starting makePkInterp.\n"
     ]
    },
    {
     "name": "stderr",
     "output_type": "stream",
     "text": [
      "WARNING:root:accuracy parameters are changed globally, not yet per parameter set\n"
     ]
    },
    {
     "name": "stdout",
     "output_type": "stream",
     "text": [
      "finishing makePkInterp.\n",
      "calculating MatterPower objects for  wa  derivative . . . \n",
      "neutrino_hierarchy =  normal\n",
      "starting makePkInterp.\n"
     ]
    },
    {
     "name": "stderr",
     "output_type": "stream",
     "text": [
      "WARNING:root:accuracy parameters are changed globally, not yet per parameter set\n"
     ]
    },
    {
     "name": "stdout",
     "output_type": "stream",
     "text": [
      "finishing makePkInterp.\n",
      "neutrino_hierarchy =  normal\n",
      "starting makePkInterp.\n",
      "finishing makePkInterp.\n"
     ]
    },
    {
     "ename": "TypeError",
     "evalue": "unsupported operand type(s) for -: 'list' and 'list'",
     "output_type": "error",
     "traceback": [
      "\u001b[0;31m---------------------------------------------------------------------------\u001b[0m",
      "\u001b[0;31mTypeError\u001b[0m                                 Traceback (most recent call last)",
      "\u001b[0;32m<ipython-input-3-26057910d3c3>\u001b[0m in \u001b[0;36m<module>\u001b[0;34m()\u001b[0m\n\u001b[1;32m     76\u001b[0m         \u001b[0mcosmomc_thetas_lower\u001b[0m\u001b[0;34m.\u001b[0m\u001b[0mappend\u001b[0m\u001b[0;34m(\u001b[0m\u001b[0mmyPkLower\u001b[0m\u001b[0;34m.\u001b[0m\u001b[0mcosmomc_theta\u001b[0m\u001b[0;34m)\u001b[0m\u001b[0;34m\u001b[0m\u001b[0m\n\u001b[1;32m     77\u001b[0m \u001b[0;34m\u001b[0m\u001b[0m\n\u001b[0;32m---> 78\u001b[0;31m     \u001b[0mdthetas\u001b[0m \u001b[0;34m=\u001b[0m \u001b[0;34m(\u001b[0m\u001b[0mcosmomc_thetas_upper\u001b[0m\u001b[0;34m-\u001b[0m\u001b[0mcosmomc_thetas_lower\u001b[0m\u001b[0;34m)\u001b[0m\u001b[0;34m/\u001b[0m\u001b[0;34m(\u001b[0m\u001b[0;36m2\u001b[0m\u001b[0;34m*\u001b[0m\u001b[0mdeltaP\u001b[0m\u001b[0;34m)\u001b[0m\u001b[0;34m\u001b[0m\u001b[0m\n\u001b[0m\u001b[1;32m     79\u001b[0m \u001b[0;34m\u001b[0m\u001b[0m\n\u001b[1;32m     80\u001b[0m     \u001b[0;31m#dtheta_dombh2 = (myPksUpper[0].cosmomc_theta-myPksLower[0].cosmomc_theta)/(2*deltaP[0])\u001b[0m\u001b[0;34m\u001b[0m\u001b[0;34m\u001b[0m\u001b[0m\n",
      "\u001b[0;31mTypeError\u001b[0m: unsupported operand type(s) for -: 'list' and 'list'"
     ]
    }
   ],
   "source": [
    "# convert cosmomc_theta to H_0\n",
    "# The fiducial parameters list is the default from FisherCl, \n",
    "#   with cosmomc_theta switched to None and H0 switched to a typical FisherCl value of 67.49\n",
    "\n",
    "newDeriv = True# False\n",
    "\n",
    "AccuracyBoost = 3\n",
    "nonlinear = False #True\n",
    "nz = 300000\n",
    "#nCosParams = 8\n",
    "#paramList =       ['ombh2','omch2','H0','As'  ,'ns' ,'tau','mnu','w' ]\n",
    "#deltaP = np.array([0.0008 ,0.0030 ,0.1 ,0.1e-9,0.010,0.020,0.020,0.05])/2.\n",
    "nCosParams = 9 #8\n",
    "paramList =       ['ombh2','omch2','H0','As'  ,'ns' ,'tau','mnu','w' ,'wa' ]\n",
    "deltaP = np.array([0.0008 ,0.0030 ,0.1 ,0.1e-9,0.010,0.020,0.020,0.05,0.025])/2.\n",
    "\n",
    "cosParams = {\n",
    "    'H0'    : 67.49, #None, #67.51, #setting H0=None allows cosmomc_theta to be used instead\n",
    "    'cosmomc_theta' : None, #1.04087e-2,\n",
    "    'ombh2' : 0.02226,\n",
    "    'omch2' : 0.1193,\n",
    "    'omk'   : 0,\n",
    "    'tau'   : 0.063,\n",
    "\n",
    "    'As'    : 2.130e-9,\n",
    "    'ns'    : 0.9653,\n",
    "    'r'     : 0,\n",
    "    'kPivot': 0.05,\n",
    "\n",
    "    'w'     : -1.0,\n",
    "    'wa'    : 0.0, # new param!\n",
    "\n",
    "    # if fiducial mnu is changed, need to adjust omch2 as well\n",
    "    'mnu'   : 0.06, # (eV)\n",
    "    #'mnu'   : 0.058, # Lloyd suggested this value for fiducial; adjust omch2 if I do use it\n",
    "    'nnu'   : 3.046,\n",
    "    'standard_neutrino_neff'  : 3.046,\n",
    "    'num_massive_neutrinos'   : 1,\n",
    "    'neutrino_hierarchy'      : 'normal'}\n",
    "\n",
    "if newDeriv:\n",
    "    # modified param lists\n",
    "    myParamsUpper = []\n",
    "    myParamsLower = []\n",
    "    for cParamNum in range(nCosParams):\n",
    "      # add parameter dictionary to lists; HAVE TO BE COPIES!!!\n",
    "      myParamsUpper.append(cosParams.copy())\n",
    "      myParamsLower.append(cosParams.copy())\n",
    "      # modify parameter number cParamNum in ditionaries\n",
    "      myParamsUpper[cParamNum][paramList[cParamNum]] += deltaP[cParamNum]\n",
    "      myParamsLower[cParamNum][paramList[cParamNum]] -= deltaP[cParamNum]\n",
    "\n",
    "    # get MatterPower objs.\n",
    "    #myPksUpper = []\n",
    "    #myPksLower = []\n",
    "    cosmomc_thetas_upper = []\n",
    "    cosmomc_thetas_lower = []\n",
    "    for cParamNum in range(nCosParams):\n",
    "        print 'calculating MatterPower objects for ',\\\n",
    "              paramList[cParamNum], ' derivative . . . '\n",
    "\n",
    "        # create MatterPower objects\n",
    "        \n",
    "        \n",
    "        # no, don't do it this way for dark energy params.  re-factor to accomodate global variables!\n",
    "        #myPksUpper.append(cp.MatterPower(nz=nz,AccuracyBoost=AccuracyBoost,\n",
    "        #                     nonlinear=nonlinear,**myParamsUpper[cParamNum]))\n",
    "        #myPksLower.append(cp.MatterPower(nz=nz,AccuracyBoost=AccuracyBoost,\n",
    "        #                     nonlinear=nonlinear,**myParamsLower[cParamNum]))\n",
    "        \n",
    "        myPkUpper = cp.MatterPower(nz=nz,AccuracyBoost=AccuracyBoost,\n",
    "                                   nonlinear=nonlinear,**myParamsUpper[cParamNum])\n",
    "        cosmomc_thetas_upper.append(myPkUpper.cosmomc_theta)\n",
    "        \n",
    "        myPkLower = cp.MatterPower(nz=nz,AccuracyBoost=AccuracyBoost,\n",
    "                                   nonlinear=nonlinear,**myParamsLower[cParamNum])\n",
    "        cosmomc_thetas_lower.append(myPkLower.cosmomc_theta)\n",
    "        \n",
    "    dthetas = (np.array(cosmomc_thetas_upper)-np.array(cosmomc_thetas_lower))/(2*deltaP)\n",
    "\n",
    "    #dtheta_dombh2 = (myPksUpper[0].cosmomc_theta-myPksLower[0].cosmomc_theta)/(2*deltaP[0])\n",
    "    #dtheta_domch2 = (myPksUpper[1].cosmomc_theta-myPksLower[1].cosmomc_theta)/(2*deltaP[1])\n",
    "    #dtheta_dH0    = (myPksUpper[2].cosmomc_theta-myPksLower[2].cosmomc_theta)/(2*deltaP[2])\n",
    "    #dtheta_dAs    = (myPksUpper[3].cosmomc_theta-myPksLower[3].cosmomc_theta)/(2*deltaP[3])\n",
    "    #dtheta_dns    = (myPksUpper[4].cosmomc_theta-myPksLower[4].cosmomc_theta)/(2*deltaP[4])\n",
    "    #dtheta_dtau   = (myPksUpper[5].cosmomc_theta-myPksLower[5].cosmomc_theta)/(2*deltaP[5])\n",
    "    #dtheta_mnu    = (myPksUpper[6].cosmomc_theta-myPksLower[6].cosmomc_theta)/(2*deltaP[6])\n",
    "    #dtheta_w      = (myPksUpper[7].cosmomc_theta-myPksLower[7].cosmomc_theta)/(2*deltaP[7])\n",
    "    #dtheta_wa     = (myPksUpper[8].cosmomc_theta-myPksLower[8].cosmomc_theta)/(2*deltaP[8])\n",
    "    \n",
    "    #print dtheta_dombh2,dtheta_domch2,dtheta_dH0,dtheta_dAs,dtheta_dns,dtheta_dtau,dtheta_mnu,dtheta_w\n",
    "    #dthetas = np.array([dtheta_dombh2,dtheta_domch2,dtheta_dH0,dtheta_dAs,dtheta_dns,dtheta_dtau,dtheta_mnu,dtheta_w])\n",
    "    \n",
    "    #print dtheta_dombh2,dtheta_domch2,dtheta_dH0,dtheta_dAs,dtheta_dns,dtheta_dtau,dtheta_mnu,dtheta_w,dtheta_wa\n",
    "    #dthetas = np.array([dtheta_dombh2,dtheta_domch2,dtheta_dH0,dtheta_dAs,dtheta_dns,dtheta_dtau,dtheta_mnu,\n",
    "    #                    dtheta_w,dtheta_wa])\n",
    "\n",
    "else:\n",
    "    dthetas = [-2.46099289e-02,  1.05373002e-02,  2.98929388e-05,  # dtheta_dombh2, dtheta_domch2, dtheta_dH0\n",
    "               0.00000000e+00,  0.00000000e+00,  0.00000000e+00,   # dtheta_dAs, dtheta_dns, dtheta_dtau\n",
    "               1.94175593e-04,  8.94926461e-04,  2.43189330e-04]   # dtheta_mnu, dtheta_w, dtheta_wa\n",
    "\n",
    "\n",
    "print dthetas"
   ]
  },
  {
   "cell_type": "code",
   "execution_count": 4,
   "metadata": {
    "scrolled": true
   },
   "outputs": [
    {
     "name": "stdout",
     "output_type": "stream",
     "text": [
      "[-2.46099289e-02  1.05373002e-02  2.98929388e-05  0.00000000e+00\n",
      "  0.00000000e+00  0.00000000e+00  1.94175593e-04  8.94926461e-04\n",
      "  2.43189330e-04]\n"
     ]
    }
   ],
   "source": [
    "dthetas = (np.array(cosmomc_thetas_upper)-np.array(cosmomc_thetas_lower))/(2*deltaP)\n",
    "print dthetas"
   ]
  },
  {
   "cell_type": "code",
   "execution_count": null,
   "metadata": {},
   "outputs": [],
   "source": []
  },
  {
   "cell_type": "code",
   "execution_count": null,
   "metadata": {},
   "outputs": [],
   "source": []
  },
  {
   "cell_type": "code",
   "execution_count": null,
   "metadata": {},
   "outputs": [],
   "source": []
  },
  {
   "cell_type": "code",
   "execution_count": null,
   "metadata": {},
   "outputs": [],
   "source": []
  }
 ],
 "metadata": {
  "kernelspec": {
   "display_name": "Python 2",
   "language": "python",
   "name": "python2"
  },
  "language_info": {
   "codemirror_mode": {
    "name": "ipython",
    "version": 2
   },
   "file_extension": ".py",
   "mimetype": "text/x-python",
   "name": "python",
   "nbconvert_exporter": "python",
   "pygments_lexer": "ipython2",
   "version": "2.7.14"
  }
 },
 "nbformat": 4,
 "nbformat_minor": 2
}
