{
 "cells": [
  {
   "cell_type": "code",
   "execution_count": null,
   "metadata": {},
   "outputs": [],
   "source": [
    "# Load 2 FisherMatrix objects and calculate Fij_kk,TE,kTE; fix mnu in them and find sigmas.\n",
    "# No good for kg, gTE, or kgTE since there is no k-limiting function in this notebook.  \n",
    "#   See \"Rebuild Fij with k_max\" for that."
   ]
  },
  {
   "cell_type": "code",
   "execution_count": 1,
   "metadata": {},
   "outputs": [
    {
     "name": "stderr",
     "output_type": "stream",
     "text": [
      "IMPORT ERROR: /opt/local/Library/Frameworks/Python.framework/Versions/2.7/lib/python2.7/site-packages/quicklens/mpi.pyc (No module named pypar). Could not load pbs or pypar. MPI will not be used.\n"
     ]
    }
   ],
   "source": [
    "import crosspower as cp\n",
    "import FisherCl as fcl # branch quickCl\n",
    "#import noiseCl as ncl\n",
    "#import camb\n",
    "\n",
    "# set plotting to be in the notebook instead of its own qt window\n",
    "%matplotlib inline"
   ]
  },
  {
   "cell_type": "code",
   "execution_count": 2,
   "metadata": {},
   "outputs": [
    {
     "name": "stdout",
     "output_type": "stream",
     "text": [
      "[  0.   1.   2.   3.   4.   5.   6.   7.   8.   9.  10.  11.  12.  13.\n",
      "  14.  15.  16.  18.  19.  20.  21.  22.  23.  24.  25.  26.  27.  28.\n",
      "  29.  30.  31.  32.  33.  36.  37.  38.  39.  40.  41.  42.  43.  44.\n",
      "  45.  46.  47.  48.  49.  50.  54.  55.  56.  57.  58.  59.  60.  61.\n",
      "  62.  63.  64.  65.  66.  67.  72.  73.  74.  75.  76.  77.  78.  79.\n",
      "  80.  81.  82.  83.  84.  90.  91.  92.  93.  94.  95.  96.  97.  98.\n",
      "  99. 100. 101. 108. 109. 110. 111. 112. 113. 114. 115. 116. 117. 118.\n",
      " 126. 127. 128. 129. 130. 131. 132. 133. 134. 135. 144. 145. 146. 147.\n",
      " 148. 149. 150. 151. 152. 162. 163. 164. 165. 166. 167. 168. 169. 180.\n",
      " 181. 182. 183. 184. 185. 186. 198. 199. 200. 201. 202. 203. 216. 217.\n",
      " 218. 219. 220. 234. 235. 236. 237. 252. 253. 254. 270. 271. 288.]\n",
      "['k,k', 'k,g1', 'k,g2', 'k,g3', 'k,g4', 'k,g5', 'k,g6', 'k,g7', 'k,g8', 'k,g9', 'k,g10', 'k,g11', 'k,g12', 'k,g13', 'k,g14', 'k,g15', 'k,g16', 'g1,g1', 'g1,g2', 'g1,g3', 'g1,g4', 'g1,g5', 'g1,g6', 'g1,g7', 'g1,g8', 'g1,g9', 'g1,g10', 'g1,g11', 'g1,g12', 'g1,g13', 'g1,g14', 'g1,g15', 'g1,g16', 'g2,g2', 'g2,g3', 'g2,g4', 'g2,g5', 'g2,g6', 'g2,g7', 'g2,g8', 'g2,g9', 'g2,g10', 'g2,g11', 'g2,g12', 'g2,g13', 'g2,g14', 'g2,g15', 'g2,g16', 'g3,g3', 'g3,g4', 'g3,g5', 'g3,g6', 'g3,g7', 'g3,g8', 'g3,g9', 'g3,g10', 'g3,g11', 'g3,g12', 'g3,g13', 'g3,g14', 'g3,g15', 'g3,g16', 'g4,g4', 'g4,g5', 'g4,g6', 'g4,g7', 'g4,g8', 'g4,g9', 'g4,g10', 'g4,g11', 'g4,g12', 'g4,g13', 'g4,g14', 'g4,g15', 'g4,g16', 'g5,g5', 'g5,g6', 'g5,g7', 'g5,g8', 'g5,g9', 'g5,g10', 'g5,g11', 'g5,g12', 'g5,g13', 'g5,g14', 'g5,g15', 'g5,g16', 'g6,g6', 'g6,g7', 'g6,g8', 'g6,g9', 'g6,g10', 'g6,g11', 'g6,g12', 'g6,g13', 'g6,g14', 'g6,g15', 'g6,g16', 'g7,g7', 'g7,g8', 'g7,g9', 'g7,g10', 'g7,g11', 'g7,g12', 'g7,g13', 'g7,g14', 'g7,g15', 'g7,g16', 'g8,g8', 'g8,g9', 'g8,g10', 'g8,g11', 'g8,g12', 'g8,g13', 'g8,g14', 'g8,g15', 'g8,g16', 'g9,g9', 'g9,g10', 'g9,g11', 'g9,g12', 'g9,g13', 'g9,g14', 'g9,g15', 'g9,g16', 'g10,g10', 'g10,g11', 'g10,g12', 'g10,g13', 'g10,g14', 'g10,g15', 'g10,g16', 'g11,g11', 'g11,g12', 'g11,g13', 'g11,g14', 'g11,g15', 'g11,g16', 'g12,g12', 'g12,g13', 'g12,g14', 'g12,g15', 'g12,g16', 'g13,g13', 'g13,g14', 'g13,g15', 'g13,g16', 'g14,g14', 'g14,g15', 'g14,g16', 'g15,g15', 'g15,g16', 'g16,g16']\n",
      "['ombh2', 'omch2', 'cosmomc_theta', 'As', 'ns', 'tau', 'mnu', 'w', 'wa', 'bin1', 'bin2', 'bin3', 'bin4', 'bin5', 'bin6', 'bin7', 'bin8', 'bin9', 'bin10', 'bin11', 'bin12', 'bin13', 'bin14', 'bin15', 'bin16']\n",
      "(25, 25)\n",
      "(9, 9)\n",
      "25\n",
      "9\n"
     ]
    }
   ],
   "source": [
    "import FisherCl as fcl\n",
    "import noiseCl as ncl\n",
    "import crosspower as cp\n",
    "import pickle\n",
    "\n",
    "filehandler2 = open('Fisher_7_16O.obj','r') # AccuracyBoost=3, lmax=3000, lmaxP=5000, nz=3e5; nonlinear=False,\n",
    "#neutrino_hierarchy = 'degenerate', usePrimaryCMB = True; dndzMode = 2 (Gold); from FisherCl branch quickCl\n",
    "# set cp.tophat beesBins=True\n",
    "# biasByBin = False (uses sigma(b)/b), dw = 0.05, useNoise = True, nbar = 40\n",
    "# uses nBins=16 bin version with beesBins v16; modified cp.byeBiasFit to use b(z)=1+z instead of standard 1+0.84*z\n",
    "# shot noise without b^2, kk noise converted from pp (not dd), kk noise divided by 2.5\n",
    "# fiducial w = -0.95; Casarini Halofit version\n",
    "\n",
    "#filehandler2 = open('Fisher_7_16N.obj','r') # AccuracyBoost=3, lmax=3000, lmaxP=5000, nz=3e5; nonlinear=False,\n",
    "#neutrino_hierarchy = 'degenerate', usePrimaryCMB = True; dndzMode = 1 (kludged); from FisherCl branch quickCl\n",
    "# kludge for this one: told cp.getDNDZinterp to use getDNDZM (Optimistic); set cp.tophat beesBins=True\n",
    "# biasByBin = False (uses sigma(b)/b), dw = 0.05, useNoise = True, nbar = 66\n",
    "# uses nBins=16 bin version with beesBins v16; modified cp.byeBiasFit to use b(z)=1+z instead of standard 1+0.84*z\n",
    "# shot noise without b^2, kk noise converted from pp (not dd), kk noise divided by 2.5\n",
    "# fiducial w = -0.95; Casarini Halofit version\n",
    "\n",
    "filehandler4 = open('Fisher_7_16M.obj','r') # AccuracyBoost=3, lmax=3000, lmaxP=5000, nz=3e5; nonlinear=True,\n",
    "#neutrino_hierarchy = 'degenerate', usePrimaryCMB = True; dndzMode = 2 (Gold); from FisherCl branch quickCl\n",
    "# set cp.tophat beesBins=True\n",
    "# biasByBin = False (uses sigma(b)/b), dw = 0.05, useNoise = True, nbar = 40\n",
    "# uses nBins=16 bin version with beesBins v16; modified cp.byeBiasFit to use b(z)=1+z instead of standard 1+0.84*z\n",
    "# shot noise without b^2, kk noise converted from pp (not dd), kk noise divided by 2.5\n",
    "# fiducial w = -0.95; Casarini Halofit version\n",
    "\n",
    "#filehandler4 = open('Fisher_7_16Ln0.obj','r') # AccuracyBoost=3, lmax=3000, lmaxP=5000, nz=3e5; nonlinear=True,\n",
    "#neutrino_hierarchy = 'degenerate', usePrimaryCMB = True; dndzMode = 1 (kludged); from FisherCl branch quickCl\n",
    "# kludge for this one: told cp.getDNDZinterp to use getDNDZM (Optimistic); set cp.tophat beesBins=True\n",
    "# biasByBin = False (uses sigma(b)/b), dw = 0.05, useNoise = True, nbar = 66 ('n0' indicates fix)\n",
    "# uses nBins=16 bin version with beesBins v16; modified cp.byeBiasFit to use b(z)=1+z instead of standard 1+0.84*z\n",
    "# shot noise without b^2, kk noise converted from pp (not dd), kk noise divided by 2.5\n",
    "# fiducial w = -0.95; Casarini Halofit version\n",
    "\n",
    "\n",
    "\n",
    "Fobj2 = pickle.load(filehandler2) \n",
    "Fobj4 = pickle.load(filehandler4) \n",
    "label2 = 'gold lin' \n",
    "label4 = 'gold nln'\n",
    "\n",
    "\n",
    "\n",
    "lmin = Fobj2.lmin\n",
    "lmax = Fobj2.lmax\n",
    "nBins = Fobj2.nBins\n",
    "nMaps = Fobj2.nBins + 1\n",
    "nParams = Fobj2.nParams\n",
    "nCosParams = Fobj2.nParams - Fobj2.nBins\n",
    "ells = Fobj2.ells\n",
    "obsNames = Fobj2.obsNames\n",
    "paramList = Fobj2.paramList\n",
    "\n",
    "print Fobj2.obsList\n",
    "print Fobj2.obsNames\n",
    "print Fobj2.paramList\n",
    "\n",
    "print Fobj2.Fij.shape\n",
    "print Fobj2.FijTE.shape\n",
    "print Fobj2.nParams\n",
    "print Fobj2.nCosParams\n",
    "\n"
   ]
  },
  {
   "cell_type": "code",
   "execution_count": 6,
   "metadata": {},
   "outputs": [
    {
     "name": "stdout",
     "output_type": "stream",
     "text": [
      "done.\n"
     ]
    }
   ],
   "source": [
    "# get Fisher Matrices\n",
    "myLmin = 30\n",
    "Fij_kg2 = Fobj2.makeFisher(myLmin) # not very useful since not k-limited\n",
    "Fij_kg4 = Fobj4.makeFisher(myLmin) # not very useful since not k-limited\n",
    "Fij_TE2 = Fobj2.makeFisher(myLmin,TE=True)\n",
    "Fij_TE4 = Fobj4.makeFisher(myLmin,TE=True)\n",
    "\n",
    "print 'done.'"
   ]
  },
  {
   "cell_type": "code",
   "execution_count": 9,
   "metadata": {},
   "outputs": [],
   "source": [
    "# define function to get f_ij^kk, or f_ij^gg\n",
    "def getFijkk(Fobj,myLmin=50,lmax=2000,verbose=False,gg=0):\n",
    "    \"\"\"\n",
    "        Inputs:\n",
    "            Fobj: a FisherMatrix object\n",
    "            myLmin, lmax:\n",
    "            verbose:\n",
    "            gg: index to extract from diagonal. \n",
    "              Must be 0 <= gg <= nBins\n",
    "              Default: 0 (for Kappa)\n",
    "        remake kk covar and fisher with noise\n",
    "        (copy some code from \"Rebuild covar with noise\")\n",
    "        Originally written for kk, but modified to do any gg; ZK, 2018.05.10\n",
    "    \"\"\"\n",
    "\n",
    "    \"\"\"\n",
    "    Clkk = Fobj.crossCls[0,0]\n",
    "    Nlkk = Fobj.noiseCls[0,0]\n",
    "    dClkk = Fobj.dClVecs[0]\n",
    "    nCosParams = Fobj.nCosParams\n",
    "    ells = Fobj.ells\n",
    "\n",
    "    # add noise to crossCls for making covar\n",
    "    Clkk2 = Clkk+Nlkk\n",
    "\n",
    "    print 'Clkk shape: ',Clkk2.shape\n",
    "    print 'dClkk shape: ',dClkk.shape\n",
    "    cov_kk2 = 2*Clkk2**2 / (2*ells+1)\n",
    "    \"\"\"\n",
    "    # check gg\n",
    "    if gg < 0 or gg > Fobj.nBins:\n",
    "        print 'covfefe!'\n",
    "        return 0\n",
    "    \n",
    "    if gg == 0:\n",
    "        nParams = Fobj.nCosParams\n",
    "    else:\n",
    "        nParams = Fobj.nParams\n",
    "    cov_kk2 = Fobj.covar[gg,gg]\n",
    "    dClkk = Fobj.dClVecs[gg]\n",
    "    Fij_kk2 = np.zeros((nParams,nParams))\n",
    "    lmin = Fobj.lmin\n",
    "    minEllInd = myLmin-lmin  # eg. 30-2\n",
    "    maxEllInd = lmax-lmin \n",
    "    for pNum1 in range(nParams):\n",
    "        for pNum2 in range(pNum1,nParams):\n",
    "            # the next line does the summation over ell\n",
    "            Fij_kk2[pNum1,pNum2] = np.sum( dClkk[pNum1,minEllInd:maxEllInd] * \\\n",
    "                                           dClkk[pNum2,minEllInd:maxEllInd] / cov_kk2[minEllInd:maxEllInd])\n",
    "            Fij_kk2[pNum2,pNum1] = Fij_kk2[pNum1,pNum2]\n",
    "    \n",
    "    if verbose:\n",
    "        print 'parameters: ',Fobj.paramList[:nParams]\n",
    "        print 'kappa-only, noise-included Fisher matrix (from ell = {0} to {1}):'.format(myLmin,lmax)\n",
    "        print Fij_kk2\n",
    "    return Fij_kk2"
   ]
  },
  {
   "cell_type": "code",
   "execution_count": 11,
   "metadata": {},
   "outputs": [
    {
     "name": "stdout",
     "output_type": "stream",
     "text": [
      "done.\n"
     ]
    }
   ],
   "source": [
    "# get kappa-only Fij.s\n",
    "myLmin = 30\n",
    "Fij_kk2 = getFijkk(Fobj2,myLmin=myLmin,lmax=2000,verbose=False)\n",
    "Fij_kk4 = getFijkk(Fobj4,myLmin=myLmin,lmax=2000,verbose=False)\n",
    "print 'done.'"
   ]
  },
  {
   "cell_type": "code",
   "execution_count": 3,
   "metadata": {},
   "outputs": [],
   "source": [
    "# define row,col deleting function\n",
    "def fixParam(Fij,pNum):\n",
    "    return np.delete(np.delete(Fij,pNum,0),pNum,1)\n"
   ]
  },
  {
   "cell_type": "code",
   "execution_count": 12,
   "metadata": {},
   "outputs": [],
   "source": [
    "# fix mnu\n",
    "mnuIndex = 6\n",
    "Fij_kg2_nmn = fixParam(Fij_kg2,mnuIndex)\n",
    "Fij_kg4_nmn = fixParam(Fij_kg4,mnuIndex)\n",
    "Fij_TE2_nmn = fixParam(Fij_TE2,mnuIndex)\n",
    "Fij_TE4_nmn = fixParam(Fij_TE4,mnuIndex)\n",
    "Fij_kk2_nmn = fixParam(Fij_kk2,mnuIndex)\n",
    "Fij_kk4_nmn = fixParam(Fij_kk4,mnuIndex)\n"
   ]
  },
  {
   "cell_type": "code",
   "execution_count": 15,
   "metadata": {},
   "outputs": [
    {
     "name": "stdout",
     "output_type": "stream",
     "text": [
      "done\n"
     ]
    }
   ],
   "source": [
    "# create combined Fisher matrices\n",
    "Fij_kTE2 = Fij_kk2_nmn.copy()\n",
    "Fij_kTE2[:nCosParams-1,:nCosParams-1] += Fij_TE2_nmn\n",
    "Fij_kTE4 = Fij_kk4_nmn.copy()\n",
    "Fij_kTE4[:nCosParams-1,:nCosParams-1] += Fij_TE4_nmn\n",
    "\n",
    "print 'done'"
   ]
  },
  {
   "cell_type": "code",
   "execution_count": 16,
   "metadata": {},
   "outputs": [
    {
     "name": "stdout",
     "output_type": "stream",
     "text": [
      "kk ok\n",
      "TE ok\n",
      "kTE ok\n"
     ]
    }
   ],
   "source": [
    "# check sigmas\n",
    "def getSigmas(Fij):\n",
    "    #print np.diag(np.linalg.inv(Fij))\n",
    "    return np.sqrt(np.diag(np.linalg.inv(Fij)))\n",
    " \n",
    "sigmas_kk2 = getSigmas(Fij_kk2_nmn)\n",
    "sigmas_kk4 = getSigmas(Fij_kk4_nmn)\n",
    "print 'kk ok'\n",
    "\n",
    "sigmas_TE2 = getSigmas(Fij_TE2_nmn)\n",
    "sigmas_TE4 = getSigmas(Fij_TE4_nmn)\n",
    "print 'TE ok'\n",
    "    \n",
    "sigmas_kTE2 = getSigmas(Fij_kTE2)\n",
    "sigmas_kTE4 = getSigmas(Fij_kTE4)\n",
    "print 'kTE ok'"
   ]
  },
  {
   "cell_type": "code",
   "execution_count": 17,
   "metadata": {},
   "outputs": [],
   "source": [
    "# define a few functions for calculating FoM\n",
    "\n",
    "# define function for getting ap (pivot a) for each matrix\n",
    "def getAp(FijInv,iw0=8,iwa=7):\n",
    "    dw0dwa = FijInv[iw0,iwa]\n",
    "    dwadwa = FijInv[iwa,iwa]\n",
    "    return 1+dw0dwa/dwadwa\n",
    "\n",
    "# define function for getting sigma^2(w_p) (variance of w_p)\n",
    "def getVarWp(FijInv,iw0=8,iwa=7):\n",
    "    dw0dw0 = FijInv[iw0,iw0]\n",
    "    dw0dwa = FijInv[iw0,iwa]\n",
    "    dwadwa = FijInv[iwa,iwa]\n",
    "    a_p = getAp(FijInv,iw0,iwa)\n",
    "    return dw0dw0 +2*(1-a_p)*dw0dwa +(1-a_p)**2*dwadwa\n",
    "\n",
    "# define function for getting value proportional to FoM\n",
    "def FoMprop(FijInv,iw0=8,iwa=7):\n",
    "    sigmaWp = np.sqrt(getVarWp(FijInv,iw0,iwa))\n",
    "    sigmaWa = np.sqrt(FijInv[iwa,iwa])\n",
    "    return 1/(sigmaWp*sigmaWa)\n"
   ]
  },
  {
   "cell_type": "code",
   "execution_count": 19,
   "metadata": {},
   "outputs": [],
   "source": [
    "# get FoMprop for kTE\n",
    "FoMprop_kTE2 = FoMprop(np.linalg.inv(Fij_kTE2),iw0=7,iwa=6)\n",
    "FoMprop_kTE4 = FoMprop(np.linalg.inv(Fij_kTE4),iw0=7,iwa=6)"
   ]
  },
  {
   "cell_type": "code",
   "execution_count": 20,
   "metadata": {},
   "outputs": [
    {
     "name": "stdout",
     "output_type": "stream",
     "text": [
      "0.7617711388869962\n",
      "5.537917648265571\n"
     ]
    }
   ],
   "source": [
    "print FoMprop_kTE2\n",
    "print FoMprop_kTE4"
   ]
  },
  {
   "cell_type": "code",
   "execution_count": null,
   "metadata": {},
   "outputs": [],
   "source": []
  },
  {
   "cell_type": "code",
   "execution_count": null,
   "metadata": {},
   "outputs": [],
   "source": []
  },
  {
   "cell_type": "code",
   "execution_count": null,
   "metadata": {},
   "outputs": [],
   "source": []
  },
  {
   "cell_type": "code",
   "execution_count": null,
   "metadata": {},
   "outputs": [],
   "source": []
  },
  {
   "cell_type": "code",
   "execution_count": null,
   "metadata": {},
   "outputs": [],
   "source": []
  },
  {
   "cell_type": "code",
   "execution_count": null,
   "metadata": {},
   "outputs": [],
   "source": []
  }
 ],
 "metadata": {
  "kernelspec": {
   "display_name": "Python 2",
   "language": "python",
   "name": "python2"
  },
  "language_info": {
   "codemirror_mode": {
    "name": "ipython",
    "version": 2
   },
   "file_extension": ".py",
   "mimetype": "text/x-python",
   "name": "python",
   "nbconvert_exporter": "python",
   "pygments_lexer": "ipython2",
   "version": "2.7.15"
  }
 },
 "nbformat": 4,
 "nbformat_minor": 2
}
