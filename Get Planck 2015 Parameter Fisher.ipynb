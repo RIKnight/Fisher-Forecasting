{
 "cells": [
  {
   "cell_type": "markdown",
   "metadata": {},
   "source": [
    "# Get Planck MCMC parameter Covariance Matrices and Process into Fisher matrices"
   ]
  },
  {
   "cell_type": "code",
   "execution_count": 47,
   "metadata": {},
   "outputs": [
    {
     "name": "stdout",
     "output_type": "stream",
     "text": [
      "59\n",
      "57\n",
      "82\n",
      "line  0 :  omegabh2\t\\Omega_b h^2\n",
      "        :  omegabh2\t\\Omega_b h^2\n",
      "        :  omegabh2\t\\Omega_b h^2\n",
      "\n",
      "line  1 :  omegach2\t\\Omega_c h^2\n",
      "        :  omegach2\t\\Omega_c h^2\n",
      "        :  omegach2\t\\Omega_c h^2\n",
      "\n",
      "line  2 :  theta\t100\\theta_{MC}\n",
      "        :  theta\t100\\theta_{MC}\n",
      "        :  theta\t100\\theta_{MC}\n",
      "\n",
      "line  3 :  tau\t\\tau\n",
      "        :  tau\t\\tau\n",
      "        :  tau\t\\tau\n",
      "\n",
      "line  4 :  logA\t{\\rm{ln}}(10^{10} A_s)\n",
      "        :  logA\t{\\rm{ln}}(10^{10} A_s)\n",
      "        :  logA\t{\\rm{ln}}(10^{10} A_s)\n",
      "\n",
      "line  5 :  ns\tn_s\n",
      "        :  ns\tn_s\n",
      "        :  ns\tn_s\n",
      "\n",
      "line  6 :  calPlanck\ty_{\\rm cal}\n",
      "        :  galfEE100\tA^{{\\rm dust}EE}_{100}\n",
      "        :  galfEE100\tA^{{\\rm dust}EE}_{100}\n",
      "\n",
      "line  7 :  galfEE100\tA^{{\\rm dust}EE}_{100}\n",
      "        :  galfEE100143\tA^{{\\rm dust}EE}_{100\\times 143}\n",
      "        :  galfEE100143\tA^{{\\rm dust}EE}_{100\\times 143}\n",
      "\n",
      "line  8 :  galfEE100143\tA^{{\\rm dust}EE}_{100\\times 143}\n",
      "        :  galfEE100217\tA^{{\\rm dust}EE}_{100\\times 217}\n",
      "        :  galfEE100217\tA^{{\\rm dust}EE}_{100\\times 217}\n",
      "\n",
      "line  9 :  galfEE100217\tA^{{\\rm dust}EE}_{100\\times 217}\n",
      "        :  galfEE143\tA^{{\\rm dust}EE}_{143}\n",
      "        :  galfEE143\tA^{{\\rm dust}EE}_{143}\n",
      "\n",
      "line  10 :  galfEE143\tA^{{\\rm dust}EE}_{143}\n",
      "        :  galfEE143217\tA^{{\\rm dust}EE}_{143\\times 217}\n",
      "        :  galfEE143217\tA^{{\\rm dust}EE}_{143\\times 217}\n",
      "\n",
      "line  11 :  galfEE143217\tA^{{\\rm dust}EE}_{143\\times 217}\n",
      "        :  galfEE217\tA^{{\\rm dust}EE}_{217}\n",
      "        :  galfEE217\tA^{{\\rm dust}EE}_{217}\n",
      "\n",
      "line  12 :  galfEE217\tA^{{\\rm dust}EE}_{217}\n",
      "        :  calPlanck\ty_{\\rm cal}\n",
      "        :  calPlanck\ty_{\\rm cal}\n",
      "\n"
     ]
    }
   ],
   "source": [
    "# load the data\n",
    "planckDir = 'Planck_data/'\n",
    "\n",
    "covmatFile1 = 'base_plikHM_EE_lowTEB.covmat'\n",
    "paramNamesFile1 = 'base_plikHM_EE_lowTEB.paramnames'\n",
    "covmatFile2 = 'base_plikHM_EE.covmat'\n",
    "paramNamesFile2 = 'base_plikHM_EE.paramnames'\n",
    "covmatFile3 = 'base_plikHM_TTTEEE_lowTEB.covmat'\n",
    "paramNamesFile3 = 'base_plikHM_TTTEEE_lowTEB.paramnames'\n",
    "\n",
    "# data from pages:\n",
    "# https://wiki.cosmos.esa.int/planckpla2015/index.php/Cosmological_Parameters\n",
    "# http://pla.esac.esa.int/pla/#cosmology\n",
    "\n",
    "covmat1 = np.loadtxt(planckDir+covmatFile1)\n",
    "text_file = open(planckDir+paramNamesFile1, \"r\")\n",
    "paramNames1 = text_file.readlines()\n",
    "#print paramNames1\n",
    "print len(paramNames1)\n",
    "text_file.close()\n",
    "\n",
    "covmat2 = np.loadtxt(planckDir+covmatFile2)\n",
    "text_file = open(planckDir+paramNamesFile2, \"r\")\n",
    "paramNames2 = text_file.readlines()\n",
    "#print paramNames2\n",
    "print len(paramNames2)\n",
    "text_file.close()\n",
    "\n",
    "covmat3 = np.loadtxt(planckDir+covmatFile3)\n",
    "text_file = open(planckDir+paramNamesFile3, \"r\")\n",
    "paramNames3 = text_file.readlines()\n",
    "#print paramNames3\n",
    "print len(paramNames3)\n",
    "text_file.close()\n",
    "\n",
    "for lineNum in range(13):\n",
    "    print 'line ',lineNum,': ',paramNames1[lineNum], \\\n",
    "                  '        : ',paramNames2[lineNum], \\\n",
    "                  '        : ',paramNames2[lineNum]"
   ]
  },
  {
   "cell_type": "code",
   "execution_count": null,
   "metadata": {},
   "outputs": [],
   "source": []
  },
  {
   "cell_type": "code",
   "execution_count": 48,
   "metadata": {},
   "outputs": [
    {
     "name": "stdout",
     "output_type": "stream",
     "text": [
      "covmat1 shape:  (13, 13)\n",
      "covmat2 shape:  (13, 13)\n",
      "covmat3 shape:  (33, 33)\n",
      "covmat1:  ['omegabh2\\t\\\\Omega_b h^2\\n', 'omegach2\\t\\\\Omega_c h^2\\n', 'theta\\t100\\\\theta_{MC}\\n', 'logA\\t{\\\\rm{ln}}(10^{10} A_s)\\n', 'ns\\tn_s\\n', 'tau\\t\\\\tau\\n']\n",
      "covmat2:  ['omegabh2\\t\\\\Omega_b h^2\\n', 'omegach2\\t\\\\Omega_c h^2\\n', 'theta\\t100\\\\theta_{MC}\\n', 'logA\\t{\\\\rm{ln}}(10^{10} A_s)\\n', 'ns\\tn_s\\n', 'tau\\t\\\\tau\\n']\n",
      "covmat3:  ['omegabh2\\t\\\\Omega_b h^2\\n', 'omegach2\\t\\\\Omega_c h^2\\n', 'theta\\t100\\\\theta_{MC}\\n', 'logA\\t{\\\\rm{ln}}(10^{10} A_s)\\n', 'ns\\tn_s\\n', 'tau\\t\\\\tau\\n']\n"
     ]
    }
   ],
   "source": [
    "# get indices of interest from the above output\n",
    "print 'covmat1 shape: ', covmat1.shape\n",
    "print 'covmat2 shape: ', covmat2.shape\n",
    "print 'covmat3 shape: ', covmat3.shape\n",
    "\n",
    "# covariance matrix is only 20x20.  If I use this then I'll have to use theta_mc instead of H0.\n",
    "selectIndices = [0,1,2,4,5,3] # used later to put them in order compatible with my Fij\n",
    "print 'covmat1: ',[paramNames1[si] for si in selectIndices]\n",
    "print 'covmat2: ',[paramNames2[si] for si in selectIndices]\n",
    "print 'covmat3: ',[paramNames3[si] for si in selectIndices]\n",
    "\n"
   ]
  },
  {
   "cell_type": "code",
   "execution_count": 49,
   "metadata": {
    "scrolled": true
   },
   "outputs": [
    {
     "name": "stdout",
     "output_type": "stream",
     "text": [
      "(13, 13)\n",
      "(13, 13)\n",
      "(33, 33)\n",
      "[14392681.1929545   1049528.32399962  1437035.41942155    46769.37259216\n",
      "    15165.26890736   189447.056113  ]\n",
      "[1.43899404e+07 1.08746731e+06 1.38833734e+06 4.72009326e+04\n",
      " 1.22552384e+04 1.90637457e+05]\n",
      "[93644638.67707175  4268555.25616327 14958494.88509028   804119.32282487\n",
      "   369396.33712423  3204935.51385855]\n",
      "[14392681.1929545   1049528.32399962  1437035.41942155    46769.37259216\n",
      "    15165.26890736   189447.056113  ]\n",
      "[1.43899404e+07 1.08746731e+06 1.38833734e+06 4.72009326e+04\n",
      " 1.22552384e+04 1.90637457e+05]\n",
      "[93644638.67707175  4268555.25616327 14958494.88509028   804119.32282487\n",
      "   369396.33712423  3204935.51385855]\n"
     ]
    }
   ],
   "source": [
    "# fix the nuissance parameters\n",
    "\n",
    "# invert covariance matrices\n",
    "invCov1 = np.linalg.inv(covmat1)\n",
    "invCov2 = np.linalg.inv(covmat2)\n",
    "invCov3 = np.linalg.inv(covmat3)\n",
    "\n",
    "# print shapes and diagonals\n",
    "print invCov1.shape\n",
    "print invCov2.shape\n",
    "print invCov3.shape\n",
    "print np.array([invCov1[si,si] for si in selectIndices])\n",
    "print np.array([invCov2[si,si] for si in selectIndices])\n",
    "print np.array([invCov3[si,si] for si in selectIndices])\n",
    "\n",
    "#subInvCov = [invCov[si1][si2] for si1 in selectIndices for si2 in selectIndices]\n",
    "#subInvCov = [[invCov[:,si1] for si1 in selectIndices[si2]] for si2 in selectIndices]\n",
    "#subInvCov1 = [invCov[si1] for si1 in selectIndices]\n",
    "#print subInvCov1\n",
    "#subInvCov = [subInvCov1[:,si2] for si2 in selectIndices]\n",
    "\n",
    "nParams = selectIndices.__len__()\n",
    "subInvCov1 = np.empty((nParams,nParams))\n",
    "subInvCov2 = np.empty((nParams,nParams))\n",
    "subInvCov3 = np.empty((nParams,nParams))\n",
    "# pull out the parameters indicated in selectIndices in order indicated there\n",
    "for si1 in range(6):\n",
    "    for si2 in range(6):\n",
    "        subInvCov1[si1,si2] = invCov1[selectIndices[si1],selectIndices[si2]]\n",
    "        subInvCov2[si1,si2] = invCov2[selectIndices[si1],selectIndices[si2]]\n",
    "        subInvCov3[si1,si2] = invCov3[selectIndices[si1],selectIndices[si2]]\n",
    "#print subInvCov\n",
    "print np.diag(subInvCov1)\n",
    "print np.diag(subInvCov2)\n",
    "print np.diag(subInvCov3)"
   ]
  },
  {
   "cell_type": "code",
   "execution_count": 50,
   "metadata": {},
   "outputs": [],
   "source": [
    "# get desired combinations before finding sigmas\n",
    "\"\"\"\n",
    "covmatFile1 = 'base_plikHM_EE_lowTEB.covmat'\n",
    "paramNamesFile1 = 'base_plikHM_EE_lowTEB.paramnames'\n",
    "covmatFile2 = 'base_plikHM_EE.covmat'\n",
    "paramNamesFile2 = 'base_plikHM_EE.paramnames'\n",
    "covmatFile3 = 'base_plikHM_TTTEEE_lowTEB.covmat'\n",
    "paramNamesFile3 = 'base_plikHM_TTTEEE_lowTEB.paramnames'\n",
    "\"\"\"\n",
    "Fij_plikHM_EE_lowTEB = subInvCov1\n",
    "Fij_plikHM_EE = subInvCov2\n",
    "Fij_plikHM_TTTEEE_lowTEB = subInvCov3\n",
    "\n",
    "Fij_plikHM_lowTEB = Fij_plikHM_EE_lowTEB - Fij_plikHM_EE"
   ]
  },
  {
   "cell_type": "code",
   "execution_count": 51,
   "metadata": {},
   "outputs": [
    {
     "name": "stdout",
     "output_type": "stream",
     "text": [
      "[0.00013805 0.00139624 0.00032041 0.03085309 0.00389213 0.01601033]\n",
      "[0.00315051 0.00444641 0.00440098 0.01898294 0.01669401 0.02325072]\n"
     ]
    }
   ],
   "source": [
    "# re-invert and get sigmas\n",
    "getSigmas = lambda Fij: np.sqrt(np.diag(np.linalg.inv(Fij)))\n",
    "sigmas_TTTEEE_lowTEB = getSigmas(Fij_plikHM_TTTEEE_lowTEB)\n",
    "sigmas_lowTEB = getSigmas(Fij_plikHM_lowTEB)\n",
    "print sigmas_TTTEEE_lowTEB\n",
    "print sigmas_lowTEB"
   ]
  },
  {
   "cell_type": "code",
   "execution_count": null,
   "metadata": {},
   "outputs": [],
   "source": []
  },
  {
   "cell_type": "code",
   "execution_count": 52,
   "metadata": {},
   "outputs": [],
   "source": [
    "# save that sub-Fisher matrix to use in another notebook\n",
    "# I will want it in \"Rebuild covar with noise\"\n",
    "#np.savetxt('PlanckInvCovFromMCMC.txt',subInvCov)\n",
    "np.savetxt('Planck_TTTEEE_lowTEB_FromMCMC.txt',Fij_plikHM_TTTEEE_lowTEB)\n",
    "np.savetxt('Planck_lowTEB_FromMCMC.txt',Fij_plikHM_lowTEB)"
   ]
  },
  {
   "cell_type": "code",
   "execution_count": null,
   "metadata": {},
   "outputs": [],
   "source": []
  },
  {
   "cell_type": "markdown",
   "metadata": {},
   "source": [
    "# Transform to H0 parameter via Jacobian"
   ]
  },
  {
   "cell_type": "code",
   "execution_count": 53,
   "metadata": {},
   "outputs": [],
   "source": [
    "# can I get a jacobian to translate theta_mc to H0?\n",
    "# yes.  Use discrete derivative with CAMB.  \n",
    "# dtheta/dparams vector below from notebook \"Rebuild covar with noise\""
   ]
  },
  {
   "cell_type": "code",
   "execution_count": 54,
   "metadata": {},
   "outputs": [],
   "source": [
    "# first need to convert 100*theta_MC to theta_MC\n",
    "mcIndex = 2\n",
    "mcFac = 100\n",
    "Fij_plikHM_TTTEEE_lowTEB[:,mcIndex] *= mcFac\n",
    "Fij_plikHM_TTTEEE_lowTEB[mcIndex,:] *= mcFac\n",
    "Fij_plikHM_lowTEB[:,mcIndex] *= mcFac\n",
    "Fij_plikHM_lowTEB[mcIndex,:] *= mcFac"
   ]
  },
  {
   "cell_type": "code",
   "execution_count": 55,
   "metadata": {},
   "outputs": [
    {
     "name": "stdout",
     "output_type": "stream",
     "text": [
      "[[ 1.00000000e+00  0.00000000e+00  0.00000000e+00  0.00000000e+00\n",
      "   0.00000000e+00  0.00000000e+00]\n",
      " [ 0.00000000e+00  1.00000000e+00  0.00000000e+00  0.00000000e+00\n",
      "   0.00000000e+00  0.00000000e+00]\n",
      " [-2.48333991e-02  1.04570657e-02  2.96219550e-05  0.00000000e+00\n",
      "   0.00000000e+00  0.00000000e+00]\n",
      " [ 0.00000000e+00  0.00000000e+00  0.00000000e+00  1.00000000e+00\n",
      "   0.00000000e+00  0.00000000e+00]\n",
      " [ 0.00000000e+00  0.00000000e+00  0.00000000e+00  0.00000000e+00\n",
      "   1.00000000e+00  0.00000000e+00]\n",
      " [ 0.00000000e+00  0.00000000e+00  0.00000000e+00  0.00000000e+00\n",
      "   0.00000000e+00  1.00000000e+00]]\n"
     ]
    }
   ],
   "source": [
    "#dtheta/dparams\n",
    "nCosParams = 6\n",
    "# paramList after transforming to (H0, 10^9 As) from (cosmomc_theta, ln(10^10*As) )\n",
    "paramList = ['ombh2','omch2','H0','10^9 As','ns','tau'] \n",
    "dthetas = [-0.024833399132992862, 0.010457065703734872, 2.9621955038288544e-05, 0.0, 0.0, 0.0]\n",
    "\n",
    "# The only derivatives in the Jacobian are on the dtheta/dparam row.\n",
    "mcIndex = 2\n",
    "jacobian = np.diag(np.ones(nCosParams))\n",
    "jacobian[mcIndex,:] = dthetas#*100\n",
    "#jacobian[:,mcIndex] = dthetas#*100\n",
    "\n",
    "# multiply these all by d{100thetamc}/d{thetamc} = 100\n",
    "#jacobian[mcIndex,:] *= 100\n",
    "#jacobian[:,mcIndex] *= 100\n",
    "\n",
    "print jacobian"
   ]
  },
  {
   "cell_type": "code",
   "execution_count": 56,
   "metadata": {},
   "outputs": [],
   "source": [
    "# jacobian-it-up\n",
    "Fij_plikHM_TTTEEE_lowTEB = np.dot(jacobian.T,np.dot(Fij_plikHM_TTTEEE_lowTEB,jacobian))\n",
    "Fij_plikHM_lowTEB = np.dot(jacobian.T,np.dot(Fij_plikHM_lowTEB,jacobian))\n",
    "\n",
    "#print Fij_plikHM_TTTEEE_lowTEB\n",
    "#print Fij_plikHM_lowTEB"
   ]
  },
  {
   "cell_type": "markdown",
   "metadata": {},
   "source": [
    "# Transform to $10^9 As$ via Jacobian"
   ]
  },
  {
   "cell_type": "code",
   "execution_count": 57,
   "metadata": {},
   "outputs": [],
   "source": [
    "# only one partial derivative needed\n",
    "# d( ln(10^10*As)) / d(10^9*As) = 1/(10^9*As)*d(10*10^9*As)/d(10^9*As) = 1/(10^9*As)\n",
    "TenToTheNineAs_fid = 2.2\n",
    "AsIndex = 3\n",
    "Fij_plikHM_TTTEEE_lowTEB[:,AsIndex] *= 1/TenToTheNineAs_fid\n",
    "Fij_plikHM_TTTEEE_lowTEB[AsIndex,:] *= 1/TenToTheNineAs_fid\n",
    "Fij_plikHM_lowTEB[:,AsIndex] *= 1/TenToTheNineAs_fid\n",
    "Fij_plikHM_lowTEB[AsIndex,:] *= 1/TenToTheNineAs_fid"
   ]
  },
  {
   "cell_type": "code",
   "execution_count": null,
   "metadata": {},
   "outputs": [],
   "source": []
  },
  {
   "cell_type": "code",
   "execution_count": null,
   "metadata": {},
   "outputs": [],
   "source": []
  },
  {
   "cell_type": "code",
   "execution_count": null,
   "metadata": {},
   "outputs": [],
   "source": []
  },
  {
   "cell_type": "code",
   "execution_count": null,
   "metadata": {},
   "outputs": [],
   "source": []
  },
  {
   "cell_type": "markdown",
   "metadata": {},
   "source": [
    "# Load  FisherMatrix objects that have the CMB-S4 fiducial parameters for combination with this result"
   ]
  },
  {
   "cell_type": "code",
   "execution_count": 58,
   "metadata": {},
   "outputs": [
    {
     "name": "stdout",
     "output_type": "stream",
     "text": [
      "['ombh2', 'omch2', 'H0', 'As', 'ns', 'tau', 'mnu', 'w', 'bin1']\n",
      "{'cosmomc_theta': None, 'r': 0, 'kPivot': 0.05, 'omk': 0, 'H0': 69.0, 'mnu': 0.06, 'nnu': 3.046, 'tau': 0.06, 'neutrino_hierarchy': 'normal', 'standard_neutrino_neff': 3.046, 'As': 2.2e-09, 'omch2': 0.12, 'w': -1.0, 'num_massive_neutrinos': 1, 'ns': 0.966, 'ombh2': 0.0222}\n"
     ]
    }
   ],
   "source": [
    "# load saved Fobj\n",
    "import FisherCl as fcl\n",
    "import noiseCl as ncl\n",
    "import crosspower as cp\n",
    "import pickle\n",
    "\n",
    "#filehandler = open('Fisher_7_6X4_w2_wan.obj','r') # AccuracyBoost=3, lmax=3000, lmaxP=5000, nz=3e5; nonlinear=False,\n",
    "#filehandler = open('Fisher_7_6X4_w2n.obj','r') # AccuracyBoost=3, lmax=3000, lmaxP=5000, nz=3e5; nonlinear=False,\n",
    "#filehandler = open('Fisher_7_6X4n.obj','r') # AccuracyBoost=3, lmax=3000, lmaxP=5000, nz=3e5; nonlinear=False,\n",
    "#neutrino_hierarchy = 'normal', usePrimaryCMB = True; from FisherCl branch quickCl\n",
    "# kludge for this one: told cp.getDNDZinterp to use modelDNDZ3; set cp.tophat beesBins=True\n",
    "# biasByBin = False (uses sigma(b)/b), dw = 0.05; X2n version has noise included\n",
    "\n",
    "#filehandler = open('Fisher_7_6X2_w2_wan.obj','r') # AccuracyBoost=3, lmax=3000, lmaxP=5000, nz=3e5; nonlinear=True,\n",
    "#filehandler = open('Fisher_7_6X2_w2n.obj','r') # AccuracyBoost=3, lmax=3000, lmaxP=5000, nz=3e5; nonlinear=True,\n",
    "#filehandler = open('Fisher_7_6X2n.obj','r') # AccuracyBoost=3, lmax=3000, lmaxP=5000, nz=3e5; nonlinear=True,\n",
    "#neutrino_hierarchy = 'normal', usePrimaryCMB = True; from FisherCl branch quickCl\n",
    "# kludge for this one: told cp.getDNDZinterp to use modelDNDZ3; set cp.tophat beesBins=True\n",
    "# biasByBin = False (uses sigma(b)/b), dw = 0.05; X2n version has noise included\n",
    "\n",
    "# this one has TE polarazation to l=5000, but only one galaxy bin\n",
    "filehandler = open('Fisher_4_1Yn.obj','r') # AccuracyBoost=3, lmax=3000, lmaxP=5000; nz=3e5; nonlinear=True,\n",
    "#neutrino_hierarchy = 'normal', usePrimaryCMB = True; from FisherCl branch quickCl\n",
    "# this one used fiducial params and values to match CMB-S4 Science book verification table 8.1\n",
    "\n",
    "# this on like the Yn version but uses 'total' rather than 'unlensed' power spectra\n",
    "#filehandler = open('Fisher_4_1Zn.obj','r') # AccuracyBoost=3, lmax=3000, lmaxP=5000; nz=3e5; nonlinear=True,\n",
    "#neutrino_hierarchy='normal', usePrimaryCMB=True, nMapsP=3, useNoise=True; myClName='total'; \n",
    "#from FisherCl branch quickCl\n",
    "# this one used fiducial params and values to match CMB-S4 Science book verification table 8.1\n",
    "\n",
    "Fobj = pickle.load(filehandler) \n",
    "\n",
    "print Fobj.paramList\n",
    "print Fobj.cosParams"
   ]
  },
  {
   "cell_type": "code",
   "execution_count": null,
   "metadata": {},
   "outputs": [],
   "source": []
  },
  {
   "cell_type": "code",
   "execution_count": null,
   "metadata": {},
   "outputs": [],
   "source": []
  },
  {
   "cell_type": "markdown",
   "metadata": {},
   "source": [
    "# break from the main point of this notebook for a moment to check the primary CMB Cls"
   ]
  },
  {
   "cell_type": "code",
   "execution_count": 59,
   "metadata": {},
   "outputs": [
    {
     "name": "stdout",
     "output_type": "stream",
     "text": [
      "(2, 2, 4999)\n",
      "['TT', 'TE', 'EE']\n"
     ]
    }
   ],
   "source": [
    "crossClsP = Fobj.crossClsP\n",
    "#crossClsP = Fobj.crossClsPPlus[:,:,0,:]\n",
    "print crossClsP.shape\n",
    "#print Fobj.fieldNamesP\n",
    "print Fobj.obsNamesP"
   ]
  },
  {
   "cell_type": "code",
   "execution_count": null,
   "metadata": {},
   "outputs": [],
   "source": []
  },
  {
   "cell_type": "code",
   "execution_count": 60,
   "metadata": {},
   "outputs": [
    {
     "data": {
      "image/png": "[encoded data removed]",
      "text/plain": [
       "<matplotlib.figure.Figure at 0x10e2e5cd0>"
      ]
     },
     "metadata": {},
     "output_type": "display_data"
    }
   ],
   "source": [
    "# plot them\n",
    "ellsP = Fobj.ellsP\n",
    "\n",
    "plt.plot(ellsP,crossClsP[0,0],label='TT')\n",
    "plt.plot(ellsP,crossClsP[0,1],label='TE')\n",
    "plt.plot(ellsP,crossClsP[1,1],label='EE')\n",
    "plt.legend()\n",
    "plt.show()\n"
   ]
  },
  {
   "cell_type": "code",
   "execution_count": null,
   "metadata": {},
   "outputs": [],
   "source": []
  },
  {
   "cell_type": "code",
   "execution_count": 61,
   "metadata": {},
   "outputs": [],
   "source": [
    "# the familiar shape of Cl^TT here shows that it really is Dl=ell*(ell+1)*Cl/2pi"
   ]
  },
  {
   "cell_type": "code",
   "execution_count": 62,
   "metadata": {},
   "outputs": [
    {
     "name": "stdout",
     "output_type": "stream",
     "text": [
      "(2, 2, 4999)\n"
     ]
    }
   ],
   "source": [
    "# convert the Dl to Cl in crossCls, the re-compute everything that follows from it\n",
    "DlFac = ellsP*(ellsP+1)/(2*np.pi)\n",
    "crossClsMod = crossClsP/DlFac\n",
    "print crossClsMod.shape"
   ]
  },
  {
   "cell_type": "code",
   "execution_count": 63,
   "metadata": {},
   "outputs": [
    {
     "data": {
      "image/png": "[encoded data removed]",
      "text/plain": [
       "<matplotlib.figure.Figure at 0x10d073d50>"
      ]
     },
     "metadata": {},
     "output_type": "display_data"
    },
    {
     "data": {
      "image/png": "[encoded data removed]",
      "text/plain": [
       "<matplotlib.figure.Figure at 0x10d1466d0>"
      ]
     },
     "metadata": {},
     "output_type": "display_data"
    }
   ],
   "source": [
    "# plot them\n",
    "ellsP = Fobj.ellsP\n",
    "\n",
    "plt.plot(ellsP,crossClsMod[0,0],label='TT')\n",
    "plt.plot(ellsP,crossClsMod[0,1],label='TE')\n",
    "plt.plot(ellsP,crossClsMod[1,1],label='EE')\n",
    "plt.legend()\n",
    "plt.show()\n",
    "\n",
    "plt.plot(ellsP,crossClsMod[0,0]*DlFac,label='TT')\n",
    "plt.plot(ellsP,crossClsMod[0,1]*DlFac,label='TE')\n",
    "plt.plot(ellsP,crossClsMod[1,1]*DlFac,label='EE')\n",
    "plt.legend()\n",
    "plt.show()\n"
   ]
  },
  {
   "cell_type": "code",
   "execution_count": 64,
   "metadata": {},
   "outputs": [],
   "source": [
    "# now, are the units for Cl and Nl compatible?\n",
    "# sensitivities given in units of microK-arcmin should be converted to microK-radian for microK^2 Cl\n",
    "\n",
    "# convert unitless spectra to microK^2\n",
    "TCMB = 2.7260 #Fixsen\n",
    "crossClsMod *=(TCMB*1e6)**2"
   ]
  },
  {
   "cell_type": "code",
   "execution_count": 65,
   "metadata": {},
   "outputs": [
    {
     "data": {
      "image/png": "[encoded data removed]",
      "text/plain": [
       "<matplotlib.figure.Figure at 0x10d093490>"
      ]
     },
     "metadata": {},
     "output_type": "display_data"
    }
   ],
   "source": [
    "plt.plot(ellsP,crossClsMod[0,0]*DlFac,label='TT')\n",
    "plt.plot(ellsP,crossClsMod[0,1]*DlFac,label='TE')\n",
    "plt.plot(ellsP,crossClsMod[1,1]*DlFac,label='EE')\n",
    "plt.legend()\n",
    "plt.show()\n"
   ]
  },
  {
   "cell_type": "code",
   "execution_count": null,
   "metadata": {},
   "outputs": [],
   "source": []
  },
  {
   "cell_type": "code",
   "execution_count": null,
   "metadata": {},
   "outputs": [],
   "source": []
  },
  {
   "cell_type": "code",
   "execution_count": 66,
   "metadata": {},
   "outputs": [
    {
     "name": "stdout",
     "output_type": "stream",
     "text": [
      "getting (primary CMB) detector noise...\n"
     ]
    }
   ],
   "source": [
    "# grab some FisherCl\n",
    "import noiseCl as ncl\n",
    "\n",
    "#arcminPerRad = 60*180/np.pi\n",
    "\n",
    "print 'getting (primary CMB) detector noise...'\n",
    "fwhm = 1; ST = 1; SP = ST*1.414\n",
    "#fwhm = 2; ST = 1; SP = ST*1.414\n",
    "#ST /= arcminPerRad; SP /= arcminPerRad\n",
    "noiseCMBS4_TT1 = ncl.noisePower(ST,ST,fwhm,ellsP)\n",
    "noiseCMBS4_PP1 = ncl.noisePower(SP,SP,fwhm,ellsP)\n",
    "\n",
    "# shape like crossCls\n",
    "noiseClsP = np.zeros(crossClsP.shape)\n",
    "noiseClsP[0,0] = noiseCMBS4_TT1\n",
    "noiseClsP[1,1] = noiseCMBS4_PP1\n"
   ]
  },
  {
   "cell_type": "code",
   "execution_count": 67,
   "metadata": {},
   "outputs": [],
   "source": [
    "# also scale crossClsPPlus, crossClsPMinus, dClVecsP\n",
    "crossClsPPlus = Fobj.crossClsPPlus*(TCMB*1e6)**2/DlFac\n",
    "crossClsPMinus = Fobj.crossClsPMinus*(TCMB*1e6)**2/DlFac\n",
    "dClVecsP = Fobj.dClVecsP*(TCMB*1e6)**2/DlFac"
   ]
  },
  {
   "cell_type": "code",
   "execution_count": 68,
   "metadata": {},
   "outputs": [
    {
     "name": "stdout",
     "output_type": "stream",
     "text": [
      "starting covariance set  1  of  2 ... \n",
      "starting covariance set  2  of  2 ... \n"
     ]
    }
   ],
   "source": [
    "# insert these into Fobj and make covar\n",
    "Fobj.crossClsP = crossClsMod\n",
    "Fobj.noiseClsP = noiseClsP\n",
    "Fobj.crossClsPPlus = crossClsPPlus\n",
    "Fobj.crossClsPMinus = crossClsPMinus\n",
    "Fobj.dClVecsP = dClVecsP\n",
    "\n",
    "Fobj.covarP,Fobj.invCovP,Fobj.ellsP,Fobj.obsListP = \\\n",
    "            Fobj.makeCovar(Fobj.crossClsP,Fobj.noiseClsP,Fobj.lminP,Fobj.lmaxP)"
   ]
  },
  {
   "cell_type": "code",
   "execution_count": 69,
   "metadata": {
    "scrolled": true
   },
   "outputs": [
    {
     "name": "stdout",
     "output_type": "stream",
     "text": [
      "adjusting lmax for TT... \n",
      "adjusting lmax for TT... \n",
      "adjusting lmax for TT... \n",
      "adjusting lmax for TT... \n",
      "adjusting lmax for TT... \n",
      "adjusting lmax for TT... \n",
      "adjusting lmax for TT... \n",
      "adjusting lmax for TT... \n",
      "adjusting lmax for TT... \n",
      "adjusting lmax for TT... \n",
      "adjusting lmax for TT... \n",
      "adjusting lmax for TT... \n",
      "adjusting lmax for TT... \n",
      "adjusting lmax for TT... \n",
      "adjusting lmax for TT... \n",
      "adjusting lmax for TT... \n",
      "adjusting lmax for TT... \n",
      "adjusting lmax for TT... \n",
      "adjusting lmax for TT... \n",
      "adjusting lmax for TT... \n",
      "adjusting lmax for TT... \n",
      "adjusting lmax for TT... \n",
      "adjusting lmax for TT... \n",
      "adjusting lmax for TT... \n",
      "adjusting lmax for TT... \n",
      "adjusting lmax for TT... \n",
      "adjusting lmax for TT... \n",
      "adjusting lmax for TT... \n",
      "adjusting lmax for TT... \n",
      "adjusting lmax for TT... \n",
      "adjusting lmax for TT... \n",
      "adjusting lmax for TT... \n",
      "adjusting lmax for TT... \n",
      "adjusting lmax for TT... \n",
      "adjusting lmax for TT... \n",
      "adjusting lmax for TT... \n",
      "adjusting lmax for TT... \n",
      "adjusting lmax for TT... \n",
      "adjusting lmax for TT... \n",
      "adjusting lmax for TT... \n",
      "adjusting lmax for TT... \n",
      "adjusting lmax for TT... \n",
      "adjusting lmax for TT... \n",
      "adjusting lmax for TT... \n",
      "adjusting lmax for TT... \n",
      "adjusting lmax for TT... \n",
      "adjusting lmax for TT... \n",
      "adjusting lmax for TT... \n",
      "adjusting lmax for TT... \n",
      "adjusting lmax for TT... \n",
      "adjusting lmax for TT... \n",
      "adjusting lmax for TT... \n",
      "adjusting lmax for TT... \n",
      "adjusting lmax for TT... \n",
      "adjusting lmax for TT... \n",
      "adjusting lmax for TT... \n",
      "adjusting lmax for TT... \n",
      "adjusting lmax for TT... \n",
      "adjusting lmax for TT... \n",
      "adjusting lmax for TT... \n",
      "adjusting lmax for TT... \n",
      "adjusting lmax for TT... \n",
      "adjusting lmax for TT... \n",
      "adjusting lmax for TT... \n"
     ]
    }
   ],
   "source": [
    "# make Fisher matrices\n",
    "Fobj.FijTE = Fobj.makeFisher(Fobj.lminP,TE=True)\n",
    "#FijTE = Fobj.makeFisher(30,TE=True)"
   ]
  },
  {
   "cell_type": "code",
   "execution_count": 70,
   "metadata": {},
   "outputs": [
    {
     "name": "stdout",
     "output_type": "stream",
     "text": [
      "creating noise arrays... \n",
      "getting (EB) lensing reconstruction noise... \n",
      "[00:00:00] calculating full-sky noise level for estimator of type <class 'quicklens.qest.lens.phi_EB'>\n",
      "getting galaxy shot noise... \n"
     ]
    },
    {
     "name": "stderr",
     "output_type": "stream",
     "text": [
      "/opt/local/Library/Frameworks/Python.framework/Versions/2.7/lib/python2.7/site-packages/ipykernel_launcher.py:52: ComplexWarning: Casting complex values to real discards the imaginary part\n"
     ]
    }
   ],
   "source": [
    "# make a similar adjustment for Nl^kk\n",
    "# grab some FisherCl\n",
    "import crosspower as cp\n",
    "\n",
    "print 'creating noise arrays... '\n",
    "\n",
    "print 'getting (EB) lensing reconstruction noise... '\n",
    "# noise levels from a possible CMB-S4 design:\n",
    "nlev_t     = 1.   # temperature noise level, in uK.arcmin.\n",
    "nlev_p     = 1.414   # polarization noise level, in uK.arcmin.\n",
    "beam_fwhm  = 1.   # Gaussian beam full-width-at-half-maximum.\n",
    "\n",
    "#beam_fwhm  = 2.   # Gaussian beam full-width-at-half-maximum.\n",
    "#beam_fwhm  = 4.   # Gaussian beam full-width-at-half-maximum. \n",
    "#From Hu & Okamoto's \"near-perfect\" experiment\n",
    "\n",
    "ells,EB_noise = ncl.getRecNoise(Fobj.lmax,nlev_t,nlev_p,beam_fwhm)\n",
    "\n",
    "# convert Nl^dd to Nl^kk\n",
    "# this formula is a reasonable guess based on Fourier analog.\n",
    "Nlkk = EB_noise * ells*(ells+1)/4\n",
    "\n",
    "print 'getting galaxy shot noise... '\n",
    "# From Schaan et. al.: LSST n_source = 26/arcmin^2 for full survey\n",
    "#nbar = 26 # arcmin^-2\n",
    "nbar = 66 # 66 arcmin^-2 to match Bye's value\n",
    "\n",
    "# the selection of beesBins must be consistent with that which is selected in cp.tophat\n",
    "#beesBins = True\n",
    "beesBins = False\n",
    "if beesBins:\n",
    "    binEdges = [0.0,0.5,1.0,2.0,3.0,4.0,7.0]\n",
    "    nBins = 6\n",
    "else:\n",
    "    binEdges = np.linspace(Fobj.zmin,Fobj.zmax,Fobj.nBins+1)\n",
    "    nBins = Fobj.nBins\n",
    "\n",
    "# the selection of dndz function must be consistent with that which is selected in cp.getDNDZinterp\n",
    "# myDNDZ must be a function only of z\n",
    "#myDNDZ = lambda z: cp.modelDNDZ(z,z0)\n",
    "myDNDZ = lambda z: cp.modelDNDZ3(z,Fobj.z0)\n",
    "\n",
    "N_gg = ncl.shotNoise(nbar,binEdges,myDNDZ=myDNDZ)\n",
    "\n",
    "\n",
    "\n",
    "# create noiseCls array to accompany crossCls: \n",
    "#  Nl^kk will be reconstruction noise\n",
    "#  Nl^gigi will be shot noise\n",
    "#  Nl^kg, Nl^gigj are zero because noise is uncorrelated\n",
    "noiseCls = np.zeros(Fobj.crossCls.shape)\n",
    "noiseCls[0,0] = Nlkk[Fobj.lmin:Fobj.lmax+1]\n",
    "for binNum in range(nBins):\n",
    "    noiseCls[binNum+1,binNum+1] = N_gg[binNum]*np.ones(Fobj.lmax-Fobj.lmin+1)\n"
   ]
  },
  {
   "cell_type": "code",
   "execution_count": 71,
   "metadata": {},
   "outputs": [
    {
     "name": "stdout",
     "output_type": "stream",
     "text": [
      "starting covariance set  1  of  2 ... \n",
      "starting covariance set  2  of  2 ... \n"
     ]
    }
   ],
   "source": [
    "# put into Fobj and make covar\n",
    "Fobj.noiseCls = noiseCls\n",
    "\n",
    "Fobj.covar,Fobj.invCov,Fobj.ells,Fobj.obsList = \\\n",
    "        Fobj.makeCovar(Fobj.crossCls,Fobj.noiseCls,Fobj.lmin,Fobj.lmax)\n",
    "    "
   ]
  },
  {
   "cell_type": "code",
   "execution_count": null,
   "metadata": {},
   "outputs": [],
   "source": []
  },
  {
   "cell_type": "markdown",
   "metadata": {},
   "source": [
    "# Back to our regularly scheduled programming"
   ]
  },
  {
   "cell_type": "code",
   "execution_count": 72,
   "metadata": {
    "scrolled": true
   },
   "outputs": [
    {
     "name": "stdout",
     "output_type": "stream",
     "text": [
      "adjusting lmax for TT... \n",
      "adjusting lmax for TT... \n",
      "adjusting lmax for TT... \n",
      "adjusting lmax for TT... \n",
      "adjusting lmax for TT... \n",
      "adjusting lmax for TT... \n",
      "adjusting lmax for TT... \n",
      "adjusting lmax for TT... \n",
      "adjusting lmax for TT... \n",
      "adjusting lmax for TT... \n",
      "adjusting lmax for TT... \n",
      "adjusting lmax for TT... \n",
      "adjusting lmax for TT... \n",
      "adjusting lmax for TT... \n",
      "adjusting lmax for TT... \n",
      "adjusting lmax for TT... \n",
      "adjusting lmax for TT... \n",
      "adjusting lmax for TT... \n",
      "adjusting lmax for TT... \n",
      "adjusting lmax for TT... \n",
      "adjusting lmax for TT... \n",
      "adjusting lmax for TT... \n",
      "adjusting lmax for TT... \n",
      "adjusting lmax for TT... \n",
      "adjusting lmax for TT... \n",
      "adjusting lmax for TT... \n",
      "adjusting lmax for TT... \n",
      "adjusting lmax for TT... \n",
      "adjusting lmax for TT... \n",
      "adjusting lmax for TT... \n",
      "adjusting lmax for TT... \n",
      "adjusting lmax for TT... \n",
      "adjusting lmax for TT... \n",
      "adjusting lmax for TT... \n",
      "adjusting lmax for TT... \n",
      "adjusting lmax for TT... \n",
      "adjusting lmax for TT... \n",
      "adjusting lmax for TT... \n",
      "adjusting lmax for TT... \n",
      "adjusting lmax for TT... \n",
      "adjusting lmax for TT... \n",
      "adjusting lmax for TT... \n",
      "adjusting lmax for TT... \n",
      "adjusting lmax for TT... \n",
      "adjusting lmax for TT... \n",
      "adjusting lmax for TT... \n",
      "adjusting lmax for TT... \n",
      "adjusting lmax for TT... \n",
      "adjusting lmax for TT... \n",
      "adjusting lmax for TT... \n",
      "adjusting lmax for TT... \n",
      "adjusting lmax for TT... \n",
      "adjusting lmax for TT... \n",
      "adjusting lmax for TT... \n",
      "adjusting lmax for TT... \n",
      "adjusting lmax for TT... \n",
      "adjusting lmax for TT... \n",
      "adjusting lmax for TT... \n",
      "adjusting lmax for TT... \n",
      "adjusting lmax for TT... \n",
      "adjusting lmax for TT... \n",
      "adjusting lmax for TT... \n",
      "adjusting lmax for TT... \n",
      "adjusting lmax for TT... \n",
      "(6, 6) (6, 6) (6, 6)\n"
     ]
    }
   ],
   "source": [
    "# get TE fisher\n",
    "myLmin = 30\n",
    "myFij = Fobj.makeFisher(myLmin,TE=True)\n",
    "\n",
    "# fix w, mnu \n",
    "# nCosParams should be 6 to fix w, mnu\n",
    "Fij_S4_TE = myFij[:nCosParams,:nCosParams] \n",
    "Fij_plikHM_lowTEB = Fij_plikHM_lowTEB[:nCosParams,:nCosParams]\n",
    "Fij_plikHM_TTTEEE_lowTEB = Fij_plikHM_TTTEEE_lowTEB[:nCosParams,:nCosParams]\n",
    "print Fij_S4_TE.shape, Fij_plikHM_lowTEB.shape, Fij_plikHM_TTTEEE_lowTEB.shape\n",
    "\n",
    "# convert As to 10^9 As\n",
    "Fij_S4_TE[:,AsIndex] *= 1e-9\n",
    "Fij_S4_TE[AsIndex,:] *= 1e-9\n",
    "\n",
    "# combine using appropriate fsky weighting\n",
    "fsky_S4 = 0.4\n",
    "fsky_Pl = 0.2 # this is in addition to area covered by S4\n",
    "\n",
    "# fsky is in denominator of covariance matrix, putting it in numerator of Fij matrix\n",
    "Fij_Sum = (Fij_S4_TE+Fij_plikHM_lowTEB)*fsky_S4 + Fij_plikHM_TTTEEE_lowTEB*fsky_Pl\n",
    "Fij_Sum_Pl = Fij_plikHM_TTTEEE_lowTEB*(fsky_S4+fsky_Pl)"
   ]
  },
  {
   "cell_type": "code",
   "execution_count": null,
   "metadata": {},
   "outputs": [],
   "source": []
  },
  {
   "cell_type": "code",
   "execution_count": 73,
   "metadata": {},
   "outputs": [],
   "source": [
    "# add sigma = 0.01 prior on tau\n",
    "tauIndex = 5\n",
    "tauPrior = 1/0.01**2\n",
    "Fij_Sum[tauIndex,tauIndex] += tauPrior\n",
    "Fij_Sum_Pl[tauIndex,tauIndex] += tauPrior"
   ]
  },
  {
   "cell_type": "code",
   "execution_count": 74,
   "metadata": {},
   "outputs": [],
   "source": [
    "# get sigmas\n",
    "sigmas_Sum = getSigmas(Fij_Sum)\n",
    "sigmas_Sum_Pl = getSigmas(Fij_Sum_Pl)"
   ]
  },
  {
   "cell_type": "code",
   "execution_count": 75,
   "metadata": {},
   "outputs": [],
   "source": [
    "# one more conversion before printout and comparison\n",
    "ombh2Fac = 100\n",
    "sigmas_Sum[0] *= ombh2Fac\n",
    "sigmas_Sum_Pl[0] *= ombh2Fac\n",
    "paramList[0] = '100 ombh2'"
   ]
  },
  {
   "cell_type": "code",
   "execution_count": 76,
   "metadata": {},
   "outputs": [
    {
     "name": "stdout",
     "output_type": "stream",
     "text": [
      "Planck only and Planck+CMB-S4\n",
      "+-----------+---------+-----------+\n",
      "| Parameter |  Planck | S4+Planck |\n",
      "+-----------+---------+-----------+\n",
      "| 100 ombh2 |  0.0174 |   0.0025  |\n",
      "|   omch2   | 0.00171 |  0.000712 |\n",
      "|     H0    |  0.759  |   0.286   |\n",
      "|  10^9 As  |  0.0393 |   0.0407  |\n",
      "|     ns    |  0.0048 |  0.00196  |\n",
      "|    tau    |  0.009  |  0.00922  |\n",
      "+-----------+---------+-----------+\n"
     ]
    }
   ],
   "source": [
    "# show sigmas\n",
    "from prettytable import PrettyTable\n",
    "\n",
    "print 'Planck only and Planck+CMB-S4'\n",
    "t = PrettyTable(['Parameter', 'Planck','S4+Planck'])\n",
    "for i,p in enumerate(paramList[:nCosParams]):\n",
    "    Zi = sigmas_Sum_Pl[i]\n",
    "    Bi = sigmas_Sum[i]\n",
    "    #diff = (Bi-Zi)/Zi *100\n",
    "    t.add_row([p,\"%5.3g\" % Zi,\"%5.3g\" % Bi] )\n",
    "print t"
   ]
  },
  {
   "cell_type": "code",
   "execution_count": 77,
   "metadata": {},
   "outputs": [
    {
     "name": "stdout",
     "output_type": "stream",
     "text": [
      "+-----------+-------------+----------+--------+\n",
      "| Parameter | Planck_book | Planck_Z | % diff |\n",
      "+-----------+-------------+----------+--------+\n",
      "| 100 ombh2 |    0.017    |  0.0174  |  2.61  |\n",
      "|   omch2   |    0.0014   | 0.00171  |  21.8  |\n",
      "|     H0    |      0.7    |  0.759   |  8.38  |\n",
      "|  10^9 As  |    0.039    |  0.0393  |  0.69  |\n",
      "|     ns    |    0.004    |  0.0048  |  20.1  |\n",
      "|    tau    |     0.01    |  0.009   | -9.98  |\n",
      "+-----------+-------------+----------+--------+\n",
      "+-----------+----------------+-------------+--------+\n",
      "| Parameter | S4+Planck_book | S4+Planck_Z | % diff |\n",
      "+-----------+----------------+-------------+--------+\n",
      "| 100 ombh2 |     0.003      |    0.0025   | -16.6  |\n",
      "|   omch2   |     0.0006     |   0.000712  |  18.7  |\n",
      "|     H0    |      0.24      |    0.286    |  19.1  |\n",
      "|  10^9 As  |     0.021      |    0.0407   |  93.6  |\n",
      "|     ns    |     0.002      |   0.00196   | -1.87  |\n",
      "|    tau    |     0.006      |   0.00922   |  53.7  |\n",
      "+-----------+----------------+-------------+--------+\n"
     ]
    }
   ],
   "source": [
    "# print out with CMB-S4 table 8.1 values\n",
    "sigmas_S4book_Planck = [0.017,0.0014,0.7,0.039,0.004,0.01]\n",
    "sigmas_S4book_PlanckS4 = [0.003,0.0006,0.24,0.021,0.002,0.006]\n",
    "\n",
    "t = PrettyTable(['Parameter','Planck_book', 'Planck_Z','% diff'])\n",
    "for i,p in enumerate(paramList[:nCosParams]):\n",
    "    Bi = sigmas_Sum_Pl[i]\n",
    "    Zi = sigmas_S4book_Planck[i]\n",
    "    diff = (Bi-Zi)/Zi *100\n",
    "    t.add_row([p,\"%5.3g\" % Zi,\"%5.3g\" % Bi,\"%5.3g\" % diff] )\n",
    "print t\n",
    "\n",
    "t = PrettyTable(['Parameter','S4+Planck_book', 'S4+Planck_Z','% diff'])\n",
    "for i,p in enumerate(paramList[:nCosParams]):\n",
    "    Bi = sigmas_Sum[i]\n",
    "    Zi = sigmas_S4book_PlanckS4[i]\n",
    "    diff = (Bi-Zi)/Zi *100\n",
    "    t.add_row([p,\"%5.3g\" % Zi,\"%5.3g\" % Bi,\"%5.3g\" % diff] )\n",
    "print t"
   ]
  },
  {
   "cell_type": "code",
   "execution_count": null,
   "metadata": {},
   "outputs": [],
   "source": []
  },
  {
   "cell_type": "markdown",
   "metadata": {},
   "source": [
    "# that was without kappa.  Now get kappa into the S4 part"
   ]
  },
  {
   "cell_type": "code",
   "execution_count": 78,
   "metadata": {},
   "outputs": [
    {
     "name": "stdout",
     "output_type": "stream",
     "text": [
      "(3, 3, 2999)\n",
      "(3, 9, 2999)\n",
      "2 3000\n"
     ]
    }
   ],
   "source": [
    "print Fobj.covar.shape\n",
    "print Fobj.dClVecs.shape\n",
    "print Fobj.lmin,Fobj.lmax"
   ]
  },
  {
   "cell_type": "code",
   "execution_count": 79,
   "metadata": {},
   "outputs": [
    {
     "name": "stdout",
     "output_type": "stream",
     "text": [
      "parameters:  ['ombh2', 'omch2', 'H0', 'As', 'ns', 'tau', 'mnu', 'w']\n",
      "kappa-only, noise-included Fisher matrix:\n",
      "[[ 1.42206889e+09 -1.58420001e+09  8.98451527e+05 -4.55824080e+16\n",
      "  -1.16209723e+08  2.51574140e+05  2.62964188e+07  3.69206028e+07]\n",
      " [-1.58420001e+09  1.76520321e+09 -1.00131934e+06  5.08187823e+16\n",
      "   1.29261301e+08 -2.80174719e+05 -2.93128138e+07 -4.11520360e+07]\n",
      " [ 8.98451527e+05 -1.00131934e+06  5.68266873e+02 -2.88532688e+13\n",
      "  -7.30323351e+04  1.58439597e+02  1.66376565e+04  2.33534966e+04]\n",
      " [-4.55824080e+16  5.08187823e+16 -2.88532688e+13  1.46614355e+24\n",
      "   3.69042144e+15 -8.02590267e+12 -8.45136302e+14 -1.18592061e+15]\n",
      " [-1.16209723e+08  1.29261301e+08 -7.30323351e+04  3.69042144e+15\n",
      "   9.80918158e+06 -2.10753653e+04 -2.13467173e+06 -3.00251394e+06]\n",
      " [ 2.51574140e+05 -2.80174719e+05  1.58439597e+02 -8.02590267e+12\n",
      "  -2.10753653e+04  4.56985488e+01  4.63891840e+03  6.51963222e+03]\n",
      " [ 2.62964188e+07 -2.93128138e+07  1.66376565e+04 -8.45136302e+14\n",
      "  -2.13467173e+06  4.63891840e+03  4.87275091e+05  6.83848789e+05]\n",
      " [ 3.69206028e+07 -4.11520360e+07  2.33534966e+04 -1.18592061e+15\n",
      "  -3.00251394e+06  6.51963222e+03  6.83848789e+05  9.59871214e+05]]\n"
     ]
    }
   ],
   "source": [
    "# make kk fisher with noise\n",
    "nCosParams = Fobj.nCosParams\n",
    "dClkk = Fobj.dClVecs[0] # the dCl/dkk part\n",
    "cov_kk2 = Fobj.covar[0,0] # the kk part\n",
    "Fij_kk2 = np.zeros((nCosParams,nCosParams))\n",
    "minEllInd = myLmin-Fobj.lmin  # eg. 30-2\n",
    "for pNum1 in range(nCosParams):\n",
    "    for pNum2 in range(pNum1,nCosParams):\n",
    "        # the next line does the summation over ell\n",
    "        Fij_kk2[pNum1,pNum2] = np.sum(dClkk[pNum1,minEllInd:]*dClkk[pNum2,minEllInd:]/cov_kk2[minEllInd:])\n",
    "        Fij_kk2[pNum2,pNum1] = Fij_kk2[pNum1,pNum2]\n",
    "print 'parameters: ',Fobj.paramList[:nCosParams]\n",
    "print 'kappa-only, noise-included Fisher matrix:'\n",
    "print Fij_kk2"
   ]
  },
  {
   "cell_type": "code",
   "execution_count": 80,
   "metadata": {},
   "outputs": [],
   "source": [
    "# convert As to 10^9 As\n",
    "Fij_kk2[:,AsIndex] *= 1e-9\n",
    "Fij_kk2[AsIndex,:] *= 1e-9\n",
    "\n",
    "# fix w, mnu\n",
    "Fij_kk2 = Fij_kk2[:6,:6]\n",
    "\n",
    "# get sigmas\n",
    "sigmas_Sum2 = getSigmas(Fij_Sum+Fij_kk2*fsky_S4)\n",
    "\n",
    "# one more conversion before printout and comparison\n",
    "sigmas_Sum2[0] *= ombh2Fac"
   ]
  },
  {
   "cell_type": "code",
   "execution_count": null,
   "metadata": {},
   "outputs": [],
   "source": []
  },
  {
   "cell_type": "code",
   "execution_count": 81,
   "metadata": {},
   "outputs": [
    {
     "name": "stdout",
     "output_type": "stream",
     "text": [
      "Planck only and Planck+CMB-S4\n",
      "+-----------+---------+-----------+\n",
      "| Parameter |  Planck | S4+Planck |\n",
      "+-----------+---------+-----------+\n",
      "| 100 ombh2 |  0.0174 |  0.00229  |\n",
      "|   omch2   | 0.00171 |  0.00055  |\n",
      "|     H0    |  0.759  |   0.219   |\n",
      "|  10^9 As  |  0.0393 |   0.0205  |\n",
      "|     ns    |  0.0048 |  0.00172  |\n",
      "|    tau    |  0.009  |  0.00543  |\n",
      "+-----------+---------+-----------+\n"
     ]
    }
   ],
   "source": [
    "# show sigmas\n",
    "from prettytable import PrettyTable\n",
    "\n",
    "print 'Planck only and Planck+CMB-S4'\n",
    "t = PrettyTable(['Parameter', 'Planck','S4+Planck'])\n",
    "for i,p in enumerate(paramList[:nCosParams]):\n",
    "    Zi = sigmas_Sum_Pl[i]\n",
    "    Bi = sigmas_Sum2[i]\n",
    "    #diff = (Bi-Zi)/Zi *100\n",
    "    t.add_row([p,\"%5.3g\" % Zi,\"%5.3g\" % Bi] )\n",
    "print t"
   ]
  },
  {
   "cell_type": "code",
   "execution_count": 82,
   "metadata": {},
   "outputs": [
    {
     "name": "stdout",
     "output_type": "stream",
     "text": [
      "+-----------+-------------+----------+--------+\n",
      "| Parameter | Planck_book | Planck_Z | % diff |\n",
      "+-----------+-------------+----------+--------+\n",
      "| 100 ombh2 |    0.017    |  0.0174  |  2.61  |\n",
      "|   omch2   |    0.0014   | 0.00171  |  21.8  |\n",
      "|     H0    |      0.7    |  0.759   |  8.38  |\n",
      "|  10^9 As  |    0.039    |  0.0393  |  0.69  |\n",
      "|     ns    |    0.004    |  0.0048  |  20.1  |\n",
      "|    tau    |     0.01    |  0.009   | -9.98  |\n",
      "+-----------+-------------+----------+--------+\n",
      "+-----------+----------------+-------------+--------+\n",
      "| Parameter | S4+Planck_book | S4+Planck_Z | % diff |\n",
      "+-----------+----------------+-------------+--------+\n",
      "| 100 ombh2 |     0.003      |   0.00229   | -23.5  |\n",
      "|   omch2   |     0.0006     |   0.00055   | -8.35  |\n",
      "|     H0    |      0.24      |    0.219    | -8.75  |\n",
      "|  10^9 As  |     0.021      |    0.0205   | -2.42  |\n",
      "|     ns    |     0.002      |   0.00172   | -13.8  |\n",
      "|    tau    |     0.006      |   0.00543   | -9.47  |\n",
      "+-----------+----------------+-------------+--------+\n"
     ]
    }
   ],
   "source": [
    "# print out with CMB-S4 table 8.1 values\n",
    "sigmas_S4book_Planck = [0.017,0.0014,0.7,0.039,0.004,0.01]\n",
    "sigmas_S4book_PlanckS4 = [0.003,0.0006,0.24,0.021,0.002,0.006]\n",
    "\n",
    "t = PrettyTable(['Parameter','Planck_book', 'Planck_Z','% diff'])\n",
    "for i,p in enumerate(paramList[:nCosParams]):\n",
    "    Bi = sigmas_Sum_Pl[i]\n",
    "    Zi = sigmas_S4book_Planck[i]\n",
    "    diff = (Bi-Zi)/Zi *100\n",
    "    t.add_row([p,\"%5.3g\" % Zi,\"%5.3g\" % Bi,\"%5.3g\" % diff] )\n",
    "print t\n",
    "\n",
    "t = PrettyTable(['Parameter','S4+Planck_book', 'S4+Planck_Z','% diff'])\n",
    "for i,p in enumerate(paramList[:nCosParams]):\n",
    "    Bi = sigmas_Sum2[i]\n",
    "    Zi = sigmas_S4book_PlanckS4[i]\n",
    "    diff = (Bi-Zi)/Zi *100\n",
    "    t.add_row([p,\"%5.3g\" % Zi,\"%5.3g\" % Bi,\"%5.3g\" % diff] )\n",
    "print t"
   ]
  },
  {
   "cell_type": "code",
   "execution_count": null,
   "metadata": {},
   "outputs": [],
   "source": []
  },
  {
   "cell_type": "markdown",
   "metadata": {},
   "source": [
    "# Next try with CosmicFish results"
   ]
  },
  {
   "cell_type": "code",
   "execution_count": 83,
   "metadata": {},
   "outputs": [
    {
     "name": "stdout",
     "output_type": "stream",
     "text": [
      "[[ 4.30400590e+09 -6.59605228e+08 -1.95219475e+08  7.37773638e+07\n",
      "   9.94588306e+07 -1.42641941e+08]\n",
      " [-6.59605228e+08  2.06770781e+08  5.40309866e+07 -1.12167620e+07\n",
      "  -1.24332342e+07  2.26744356e+07]\n",
      " [-1.95219475e+08  5.40309866e+07  1.54081445e+07 -3.36576138e+06\n",
      "  -3.86681499e+06  6.28546909e+06]\n",
      " [ 7.37773638e+07 -1.12167620e+07 -3.36576138e+06  3.44653161e+06\n",
      "   3.14441968e+06 -6.42453437e+06]\n",
      " [ 9.94588306e+07 -1.24332342e+07 -3.86681499e+06  3.14441968e+06\n",
      "   3.66513392e+06 -5.99246391e+06]\n",
      " [-1.42641941e+08  2.26744356e+07  6.28546909e+06 -6.42453437e+06\n",
      "  -5.99246391e+06  1.22193648e+07]]\n"
     ]
    }
   ],
   "source": [
    "cfDir = 'cosmicfish_results/'\n",
    "FijFilename = '3_CMBS4_TEB_fisher_matrix_cls.dat'  # TEB only\n",
    "\n",
    "# The parameters of this Fisher matrix are:\n",
    "#\n",
    "#    1    omegabh2    \\Omega_b h^2       0.2220000000000000E-01\n",
    "#    2    omegach2    \\Omega_c h^2       0.1200000000000000E+00\n",
    "#    3    h    h       0.6900000000000001E+00\n",
    "#    4    logA    {\\rm{ln}}(10^{10} A_s)       0.3091042453358316E+01\n",
    "#    5    ns    n_s       0.9660000000000000E+00\n",
    "#    6    tau    \\tau       0.6000000000000000E-01\n",
    "#\n",
    "\n",
    "Fij_CF = np.loadtxt(cfDir+FijFilename)\n",
    "print Fij_CF"
   ]
  },
  {
   "cell_type": "markdown",
   "metadata": {},
   "source": [
    "# Transform to $10^9 As$ via Jacobian"
   ]
  },
  {
   "cell_type": "code",
   "execution_count": 84,
   "metadata": {},
   "outputs": [],
   "source": [
    "# only one partial derivative needed\n",
    "# d( ln(10^10*As)) / d(10^9*As) = 1/(10^9*As)*d(10*10^9*As)/d(10^9*As) = 1/(10^9*As)\n",
    "TenToTheNineAs_fid = 2.2\n",
    "AsIndex = 3\n",
    "Fij_CF[:,AsIndex] *= 1/TenToTheNineAs_fid\n",
    "Fij_CF[AsIndex,:] *= 1/TenToTheNineAs_fid"
   ]
  },
  {
   "cell_type": "markdown",
   "metadata": {},
   "source": [
    "# Transform to $H_0$ via Jacobian"
   ]
  },
  {
   "cell_type": "code",
   "execution_count": 85,
   "metadata": {},
   "outputs": [],
   "source": [
    "# d(h)/d(100h) = 1/100\n",
    "HIndex = 2\n",
    "Fij_CF[:,HIndex] /= 100\n",
    "Fij_CF[HIndex,:] /= 100"
   ]
  },
  {
   "cell_type": "code",
   "execution_count": 86,
   "metadata": {},
   "outputs": [
    {
     "name": "stdout",
     "output_type": "stream",
     "text": [
      "[3.83938345e-05 8.56005710e-04 3.23719005e-01 2.75374827e-02\n",
      " 2.48307919e-03 7.44515332e-03]\n"
     ]
    }
   ],
   "source": [
    "# get sigmas\n",
    "getSigmas = lambda Fij: np.sqrt(np.diag(np.linalg.inv(Fij)))\n",
    "sigmas_CosmicFish = getSigmas(Fij_CF)\n",
    "print sigmas_CosmicFish"
   ]
  },
  {
   "cell_type": "code",
   "execution_count": 87,
   "metadata": {},
   "outputs": [],
   "source": [
    "# combine with others\n",
    "# fsky is in denominator of covariance matrix, putting it in numerator of Fij matrix\n",
    "#Fij_Sum = (Fij_S4_TE+Fij_plikHM_lowTEB)*fsky_S4 + Fij_plikHM_TTTEEE_lowTEB*fsky_Pl\n",
    "#Fij_Sum_Pl = Fij_plikHM_TTTEEE_lowTEB*(fsky_S4+fsky_Pl)\n",
    "\n",
    "# fsky already applied to Fij_CF\n",
    "Fij_Sum_CF = Fij_CF + Fij_plikHM_TTTEEE_lowTEB*fsky_Pl\n"
   ]
  },
  {
   "cell_type": "code",
   "execution_count": 88,
   "metadata": {},
   "outputs": [],
   "source": [
    "# add sigma = 0.01 prior on tau\n",
    "tauIndex = 5\n",
    "tauPrior = 1/0.01**2\n",
    "#Fij_Sum[tauIndex,tauIndex] += tauPrior\n",
    "#Fij_Sum_Pl[tauIndex,tauIndex] += tauPrior\n",
    "\n",
    "Fij_Sum_CF[tauIndex,tauIndex] += tauPrior\n"
   ]
  },
  {
   "cell_type": "markdown",
   "metadata": {},
   "source": [
    "# Transform to $100 \\Omega_b h^2$ via Jacobian"
   ]
  },
  {
   "cell_type": "code",
   "execution_count": 89,
   "metadata": {},
   "outputs": [],
   "source": [
    "# d(ombh2)/d(100obmh2) = 1/100\n",
    "ObIndex = 0\n",
    "Fij_CF[:,ObIndex] /= 100\n",
    "Fij_CF[ObIndex,:] /= 100\n",
    "\n",
    "Fij_Sum_CF[:,ObIndex] /= 100\n",
    "Fij_Sum_CF[ObIndex,:] /= 100\n",
    "\n",
    "Fij_kk2[:,ObIndex] /= 100\n",
    "Fij_kk2[ObIndex,:] /= 100"
   ]
  },
  {
   "cell_type": "code",
   "execution_count": null,
   "metadata": {},
   "outputs": [],
   "source": []
  },
  {
   "cell_type": "code",
   "execution_count": 90,
   "metadata": {},
   "outputs": [
    {
     "name": "stdout",
     "output_type": "stream",
     "text": [
      "+-----------+-------------+----------+--------+\n",
      "| Parameter | Planck_book | Planck_Z | % diff |\n",
      "+-----------+-------------+----------+--------+\n",
      "| 100 ombh2 |    0.017    |  0.0174  |  2.61  |\n",
      "|   omch2   |    0.0014   | 0.00171  |  21.8  |\n",
      "|     H0    |      0.7    |  0.759   |  8.38  |\n",
      "|  10^9 As  |    0.039    |  0.0393  |  0.69  |\n",
      "|     ns    |    0.004    |  0.0048  |  20.1  |\n",
      "|    tau    |     0.01    |  0.009   | -9.98  |\n",
      "+-----------+-------------+----------+--------+\n",
      "+-----------+----------------+----------------+--------+\n",
      "| Parameter | S4+Planck_book | S4_CF+Planck_Z | % diff |\n",
      "+-----------+----------------+----------------+--------+\n",
      "| 100 ombh2 |     0.003      |    0.00372     |  23.9  |\n",
      "|   omch2   |     0.0006     |    0.000675    |  12.5  |\n",
      "|     H0    |      0.24      |     0.256      |  6.84  |\n",
      "|  10^9 As  |     0.021      |     0.0214     |   1.8  |\n",
      "|     ns    |     0.002      |    0.00213     |   6.3  |\n",
      "|    tau    |     0.006      |    0.00575     | -4.15  |\n",
      "+-----------+----------------+----------------+--------+\n",
      "This from CosmicFish with no kappa\n"
     ]
    }
   ],
   "source": [
    "# Show the sigmas\n",
    "# get sigmas\n",
    "#sigmas_Sum = getSigmas(Fij_Sum)\n",
    "#sigmas_Sum_Pl = getSigmas(Fij_Sum_Pl)\n",
    "sigmas_Sum_CF = getSigmas(Fij_Sum_CF)\n",
    "\n",
    "t = PrettyTable(['Parameter','Planck_book', 'Planck_Z','% diff'])\n",
    "for i,p in enumerate(paramList[:nCosParams]):\n",
    "    Bi = sigmas_Sum_Pl[i]\n",
    "    Zi = sigmas_S4book_Planck[i]\n",
    "    diff = (Bi-Zi)/Zi *100\n",
    "    t.add_row([p,\"%5.3g\" % Zi,\"%5.3g\" % Bi,\"%5.3g\" % diff] )\n",
    "print t\n",
    "\n",
    "t = PrettyTable(['Parameter','S4+Planck_book', 'S4_CF+Planck_Z','% diff'])\n",
    "for i,p in enumerate(paramList[:nCosParams]):\n",
    "    Bi = sigmas_Sum_CF[i]\n",
    "    Zi = sigmas_S4book_PlanckS4[i]\n",
    "    diff = (Bi-Zi)/Zi *100\n",
    "    t.add_row([p,\"%5.3g\" % Zi,\"%5.3g\" % Bi,\"%5.3g\" % diff] )\n",
    "print t\n",
    "print \"This from CosmicFish with no kappa\""
   ]
  },
  {
   "cell_type": "code",
   "execution_count": null,
   "metadata": {},
   "outputs": [],
   "source": []
  },
  {
   "cell_type": "code",
   "execution_count": 91,
   "metadata": {},
   "outputs": [],
   "source": [
    "# now add in kappa\n",
    "Fij_Sum_CF_k = Fij_Sum_CF + Fij_kk2*fsky_S4\n",
    "sigmas_Sum_CF_k = getSigmas(Fij_Sum_CF_k)"
   ]
  },
  {
   "cell_type": "code",
   "execution_count": 92,
   "metadata": {},
   "outputs": [
    {
     "name": "stdout",
     "output_type": "stream",
     "text": [
      "+-----------+-------------+----------+--------+\n",
      "| Parameter | Planck_book | Planck_Z | % diff |\n",
      "+-----------+-------------+----------+--------+\n",
      "| 100 ombh2 |    0.017    |  0.0174  |  2.61  |\n",
      "|   omch2   |    0.0014   | 0.00171  |  21.8  |\n",
      "|     H0    |      0.7    |  0.759   |  8.38  |\n",
      "|  10^9 As  |    0.039    |  0.0393  |  0.69  |\n",
      "|     ns    |    0.004    |  0.0048  |  20.1  |\n",
      "|    tau    |     0.01    |  0.009   | -9.98  |\n",
      "+-----------+-------------+----------+--------+\n",
      "+-----------+----------------+---------------------+--------+\n",
      "| Parameter | S4+Planck_book | S4_CF+Planck_Z+kk_Z | % diff |\n",
      "+-----------+----------------+---------------------+--------+\n",
      "| 100 ombh2 |     0.003      |       0.00323       |  7.53  |\n",
      "|   omch2   |     0.0006     |       0.000567      | -5.52  |\n",
      "|     H0    |      0.24      |        0.212        | -11.5  |\n",
      "|  10^9 As  |     0.021      |        0.0201       | -4.08  |\n",
      "|     ns    |     0.002      |       0.00196       | -2.22  |\n",
      "|    tau    |     0.006      |       0.00546       | -8.92  |\n",
      "+-----------+----------------+---------------------+--------+\n"
     ]
    }
   ],
   "source": [
    "t = PrettyTable(['Parameter','Planck_book', 'Planck_Z','% diff'])\n",
    "for i,p in enumerate(paramList[:nCosParams]):\n",
    "    Bi = sigmas_Sum_Pl[i]\n",
    "    Zi = sigmas_S4book_Planck[i]\n",
    "    diff = (Bi-Zi)/Zi *100\n",
    "    t.add_row([p,\"%5.3g\" % Zi,\"%5.3g\" % Bi,\"%5.3g\" % diff] )\n",
    "print t\n",
    "\n",
    "t = PrettyTable(['Parameter','S4+Planck_book', 'S4_CF+Planck_Z+kk_Z','% diff'])\n",
    "for i,p in enumerate(paramList[:nCosParams]):\n",
    "    Bi = sigmas_Sum_CF_k[i]\n",
    "    Zi = sigmas_S4book_PlanckS4[i]\n",
    "    diff = (Bi-Zi)/Zi *100\n",
    "    t.add_row([p,\"%5.3g\" % Zi,\"%5.3g\" % Bi,\"%5.3g\" % diff] )\n",
    "print t"
   ]
  },
  {
   "cell_type": "code",
   "execution_count": null,
   "metadata": {},
   "outputs": [],
   "source": []
  },
  {
   "cell_type": "code",
   "execution_count": null,
   "metadata": {},
   "outputs": [],
   "source": []
  },
  {
   "cell_type": "code",
   "execution_count": null,
   "metadata": {},
   "outputs": [],
   "source": []
  },
  {
   "cell_type": "code",
   "execution_count": null,
   "metadata": {},
   "outputs": [],
   "source": []
  },
  {
   "cell_type": "code",
   "execution_count": null,
   "metadata": {},
   "outputs": [],
   "source": []
  },
  {
   "cell_type": "code",
   "execution_count": null,
   "metadata": {},
   "outputs": [],
   "source": []
  },
  {
   "cell_type": "code",
   "execution_count": null,
   "metadata": {},
   "outputs": [],
   "source": []
  }
 ],
 "metadata": {
  "kernelspec": {
   "display_name": "Python 2",
   "language": "python",
   "name": "python2"
  },
  "language_info": {
   "codemirror_mode": {
    "name": "ipython",
    "version": 2
   },
   "file_extension": ".py",
   "mimetype": "text/x-python",
   "name": "python",
   "nbconvert_exporter": "python",
   "pygments_lexer": "ipython2",
   "version": "2.7.14"
  }
 },
 "nbformat": 4,
 "nbformat_minor": 2
}
