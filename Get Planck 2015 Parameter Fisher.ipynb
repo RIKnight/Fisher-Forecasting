{
 "cells": [
  {
   "cell_type": "markdown",
   "metadata": {},
   "source": [
    "# Get Planck MCMC parameter Covariance Matrices and Process into Fisher matrices"
   ]
  },
  {
   "cell_type": "code",
   "execution_count": 1,
   "metadata": {},
   "outputs": [
    {
     "name": "stdout",
     "output_type": "stream",
     "text": [
      "59\n",
      "57\n",
      "82\n",
      "line  0 :  omegabh2\t\\Omega_b h^2\n",
      "        :  omegabh2\t\\Omega_b h^2\n",
      "        :  omegabh2\t\\Omega_b h^2\n",
      "\n",
      "line  1 :  omegach2\t\\Omega_c h^2\n",
      "        :  omegach2\t\\Omega_c h^2\n",
      "        :  omegach2\t\\Omega_c h^2\n",
      "\n",
      "line  2 :  theta\t100\\theta_{MC}\n",
      "        :  theta\t100\\theta_{MC}\n",
      "        :  theta\t100\\theta_{MC}\n",
      "\n",
      "line  3 :  tau\t\\tau\n",
      "        :  tau\t\\tau\n",
      "        :  tau\t\\tau\n",
      "\n",
      "line  4 :  logA\t{\\rm{ln}}(10^{10} A_s)\n",
      "        :  logA\t{\\rm{ln}}(10^{10} A_s)\n",
      "        :  logA\t{\\rm{ln}}(10^{10} A_s)\n",
      "\n",
      "line  5 :  ns\tn_s\n",
      "        :  ns\tn_s\n",
      "        :  ns\tn_s\n",
      "\n",
      "line  6 :  calPlanck\ty_{\\rm cal}\n",
      "        :  galfEE100\tA^{{\\rm dust}EE}_{100}\n",
      "        :  galfEE100\tA^{{\\rm dust}EE}_{100}\n",
      "\n",
      "line  7 :  galfEE100\tA^{{\\rm dust}EE}_{100}\n",
      "        :  galfEE100143\tA^{{\\rm dust}EE}_{100\\times 143}\n",
      "        :  galfEE100143\tA^{{\\rm dust}EE}_{100\\times 143}\n",
      "\n",
      "line  8 :  galfEE100143\tA^{{\\rm dust}EE}_{100\\times 143}\n",
      "        :  galfEE100217\tA^{{\\rm dust}EE}_{100\\times 217}\n",
      "        :  galfEE100217\tA^{{\\rm dust}EE}_{100\\times 217}\n",
      "\n",
      "line  9 :  galfEE100217\tA^{{\\rm dust}EE}_{100\\times 217}\n",
      "        :  galfEE143\tA^{{\\rm dust}EE}_{143}\n",
      "        :  galfEE143\tA^{{\\rm dust}EE}_{143}\n",
      "\n",
      "line  10 :  galfEE143\tA^{{\\rm dust}EE}_{143}\n",
      "        :  galfEE143217\tA^{{\\rm dust}EE}_{143\\times 217}\n",
      "        :  galfEE143217\tA^{{\\rm dust}EE}_{143\\times 217}\n",
      "\n",
      "line  11 :  galfEE143217\tA^{{\\rm dust}EE}_{143\\times 217}\n",
      "        :  galfEE217\tA^{{\\rm dust}EE}_{217}\n",
      "        :  galfEE217\tA^{{\\rm dust}EE}_{217}\n",
      "\n",
      "line  12 :  galfEE217\tA^{{\\rm dust}EE}_{217}\n",
      "        :  calPlanck\ty_{\\rm cal}\n",
      "        :  calPlanck\ty_{\\rm cal}\n",
      "\n"
     ]
    }
   ],
   "source": [
    "# load the data\n",
    "planckDir = 'Planck_data/'\n",
    "\n",
    "covmatFile1 = 'base_plikHM_EE_lowTEB.covmat'\n",
    "paramNamesFile1 = 'base_plikHM_EE_lowTEB.paramnames'\n",
    "covmatFile2 = 'base_plikHM_EE.covmat'\n",
    "paramNamesFile2 = 'base_plikHM_EE.paramnames'\n",
    "covmatFile3 = 'base_plikHM_TTTEEE_lowTEB.covmat'\n",
    "paramNamesFile3 = 'base_plikHM_TTTEEE_lowTEB.paramnames'\n",
    "\n",
    "# data from pages:\n",
    "# https://wiki.cosmos.esa.int/planckpla2015/index.php/Cosmological_Parameters\n",
    "# http://pla.esac.esa.int/pla/#cosmology\n",
    "\n",
    "covmat1 = np.loadtxt(planckDir+covmatFile1)\n",
    "text_file = open(planckDir+paramNamesFile1, \"r\")\n",
    "paramNames1 = text_file.readlines()\n",
    "#print paramNames1\n",
    "print len(paramNames1)\n",
    "text_file.close()\n",
    "\n",
    "covmat2 = np.loadtxt(planckDir+covmatFile2)\n",
    "text_file = open(planckDir+paramNamesFile2, \"r\")\n",
    "paramNames2 = text_file.readlines()\n",
    "#print paramNames2\n",
    "print len(paramNames2)\n",
    "text_file.close()\n",
    "\n",
    "covmat3 = np.loadtxt(planckDir+covmatFile3)\n",
    "text_file = open(planckDir+paramNamesFile3, \"r\")\n",
    "paramNames3 = text_file.readlines()\n",
    "#print paramNames3\n",
    "print len(paramNames3)\n",
    "text_file.close()\n",
    "\n",
    "for lineNum in range(13):\n",
    "    print 'line ',lineNum,': ',paramNames1[lineNum], \\\n",
    "                  '        : ',paramNames2[lineNum], \\\n",
    "                  '        : ',paramNames2[lineNum]"
   ]
  },
  {
   "cell_type": "code",
   "execution_count": null,
   "metadata": {},
   "outputs": [],
   "source": []
  },
  {
   "cell_type": "code",
   "execution_count": 2,
   "metadata": {},
   "outputs": [
    {
     "name": "stdout",
     "output_type": "stream",
     "text": [
      "covmat1 shape:  (13, 13)\n",
      "covmat2 shape:  (13, 13)\n",
      "covmat3 shape:  (33, 33)\n",
      "covmat1:  ['omegabh2\\t\\\\Omega_b h^2\\n', 'omegach2\\t\\\\Omega_c h^2\\n', 'theta\\t100\\\\theta_{MC}\\n', 'logA\\t{\\\\rm{ln}}(10^{10} A_s)\\n', 'ns\\tn_s\\n', 'tau\\t\\\\tau\\n']\n",
      "covmat2:  ['omegabh2\\t\\\\Omega_b h^2\\n', 'omegach2\\t\\\\Omega_c h^2\\n', 'theta\\t100\\\\theta_{MC}\\n', 'logA\\t{\\\\rm{ln}}(10^{10} A_s)\\n', 'ns\\tn_s\\n', 'tau\\t\\\\tau\\n']\n",
      "covmat3:  ['omegabh2\\t\\\\Omega_b h^2\\n', 'omegach2\\t\\\\Omega_c h^2\\n', 'theta\\t100\\\\theta_{MC}\\n', 'logA\\t{\\\\rm{ln}}(10^{10} A_s)\\n', 'ns\\tn_s\\n', 'tau\\t\\\\tau\\n']\n"
     ]
    }
   ],
   "source": [
    "# get indices of interest from the above output\n",
    "print 'covmat1 shape: ', covmat1.shape\n",
    "print 'covmat2 shape: ', covmat2.shape\n",
    "print 'covmat3 shape: ', covmat3.shape\n",
    "\n",
    "# covariance matrix is only 20x20.  If I use this then I'll have to use theta_mc instead of H0.\n",
    "selectIndices = [0,1,2,4,5,3] # used later to put them in order compatible with my Fij\n",
    "print 'covmat1: ',[paramNames1[si] for si in selectIndices]\n",
    "print 'covmat2: ',[paramNames2[si] for si in selectIndices]\n",
    "print 'covmat3: ',[paramNames3[si] for si in selectIndices]\n",
    "\n"
   ]
  },
  {
   "cell_type": "code",
   "execution_count": 3,
   "metadata": {
    "scrolled": true
   },
   "outputs": [
    {
     "name": "stdout",
     "output_type": "stream",
     "text": [
      "(13, 13)\n",
      "(13, 13)\n",
      "(33, 33)\n",
      "[14392681.1929545   1049528.32399962  1437035.41942155    46769.37259216\n",
      "    15165.26890736   189447.056113  ]\n",
      "[1.43899404e+07 1.08746731e+06 1.38833734e+06 4.72009326e+04\n",
      " 1.22552384e+04 1.90637457e+05]\n",
      "[93644638.67707175  4268555.25616327 14958494.88509028   804119.32282487\n",
      "   369396.33712423  3204935.51385855]\n",
      "[14392681.1929545   1049528.32399962  1437035.41942155    46769.37259216\n",
      "    15165.26890736   189447.056113  ]\n",
      "[1.43899404e+07 1.08746731e+06 1.38833734e+06 4.72009326e+04\n",
      " 1.22552384e+04 1.90637457e+05]\n",
      "[93644638.67707175  4268555.25616327 14958494.88509028   804119.32282487\n",
      "   369396.33712423  3204935.51385855]\n"
     ]
    }
   ],
   "source": [
    "# fix the nuissance parameters\n",
    "\n",
    "# invert covariance matrices\n",
    "invCov1 = np.linalg.inv(covmat1)\n",
    "invCov2 = np.linalg.inv(covmat2)\n",
    "invCov3 = np.linalg.inv(covmat3)\n",
    "\n",
    "# print shapes and diagonals\n",
    "print invCov1.shape\n",
    "print invCov2.shape\n",
    "print invCov3.shape\n",
    "print np.array([invCov1[si,si] for si in selectIndices])\n",
    "print np.array([invCov2[si,si] for si in selectIndices])\n",
    "print np.array([invCov3[si,si] for si in selectIndices])\n",
    "\n",
    "#subInvCov = [invCov[si1][si2] for si1 in selectIndices for si2 in selectIndices]\n",
    "#subInvCov = [[invCov[:,si1] for si1 in selectIndices[si2]] for si2 in selectIndices]\n",
    "#subInvCov1 = [invCov[si1] for si1 in selectIndices]\n",
    "#print subInvCov1\n",
    "#subInvCov = [subInvCov1[:,si2] for si2 in selectIndices]\n",
    "\n",
    "nParams = selectIndices.__len__()\n",
    "subInvCov1 = np.empty((nParams,nParams))\n",
    "subInvCov2 = np.empty((nParams,nParams))\n",
    "subInvCov3 = np.empty((nParams,nParams))\n",
    "# pull out the parameters indicated in selectIndices in order indicated there\n",
    "for si1 in range(6):\n",
    "    for si2 in range(6):\n",
    "        subInvCov1[si1,si2] = invCov1[selectIndices[si1],selectIndices[si2]]\n",
    "        subInvCov2[si1,si2] = invCov2[selectIndices[si1],selectIndices[si2]]\n",
    "        subInvCov3[si1,si2] = invCov3[selectIndices[si1],selectIndices[si2]]\n",
    "#print subInvCov\n",
    "print np.diag(subInvCov1)\n",
    "print np.diag(subInvCov2)\n",
    "print np.diag(subInvCov3)"
   ]
  },
  {
   "cell_type": "code",
   "execution_count": 4,
   "metadata": {},
   "outputs": [],
   "source": [
    "# get desired combinations before finding sigmas\n",
    "\"\"\"\n",
    "covmatFile1 = 'base_plikHM_EE_lowTEB.covmat'\n",
    "paramNamesFile1 = 'base_plikHM_EE_lowTEB.paramnames'\n",
    "covmatFile2 = 'base_plikHM_EE.covmat'\n",
    "paramNamesFile2 = 'base_plikHM_EE.paramnames'\n",
    "covmatFile3 = 'base_plikHM_TTTEEE_lowTEB.covmat'\n",
    "paramNamesFile3 = 'base_plikHM_TTTEEE_lowTEB.paramnames'\n",
    "\"\"\"\n",
    "Fij_plikHM_EE_lowTEB = subInvCov1\n",
    "Fij_plikHM_EE = subInvCov2\n",
    "Fij_plikHM_TTTEEE_lowTEB = subInvCov3\n",
    "\n",
    "Fij_plikHM_lowTEB = Fij_plikHM_EE_lowTEB - Fij_plikHM_EE"
   ]
  },
  {
   "cell_type": "code",
   "execution_count": 5,
   "metadata": {},
   "outputs": [
    {
     "name": "stdout",
     "output_type": "stream",
     "text": [
      "[0.00013805 0.00139624 0.00032041 0.03085309 0.00389213 0.01601033]\n",
      "[0.00315051 0.00444641 0.00440098 0.01898294 0.01669401 0.02325072]\n"
     ]
    }
   ],
   "source": [
    "# re-invert and get sigmas\n",
    "getSigmas = lambda Fij: np.sqrt(np.diag(np.linalg.inv(Fij)))\n",
    "sigmas_TTTEEE_lowTEB = getSigmas(Fij_plikHM_TTTEEE_lowTEB)\n",
    "sigmas_lowTEB = getSigmas(Fij_plikHM_lowTEB)\n",
    "print sigmas_TTTEEE_lowTEB\n",
    "print sigmas_lowTEB"
   ]
  },
  {
   "cell_type": "code",
   "execution_count": null,
   "metadata": {},
   "outputs": [],
   "source": []
  },
  {
   "cell_type": "code",
   "execution_count": 6,
   "metadata": {},
   "outputs": [],
   "source": [
    "# save that sub-Fisher matrix to use in another notebook\n",
    "# I will want it in \"Rebuild covar with noise\"\n",
    "#np.savetxt('PlanckInvCovFromMCMC.txt',subInvCov)\n",
    "np.savetxt('Planck_TTTEEE_lowTEB_FromMCMC.txt',Fij_plikHM_TTTEEE_lowTEB)\n",
    "np.savetxt('Planck_lowTEB_FromMCMC.txt',Fij_plikHM_lowTEB)"
   ]
  },
  {
   "cell_type": "code",
   "execution_count": null,
   "metadata": {},
   "outputs": [],
   "source": []
  },
  {
   "cell_type": "markdown",
   "metadata": {},
   "source": [
    "# Transform to H0 parameter via Jacobian"
   ]
  },
  {
   "cell_type": "code",
   "execution_count": 7,
   "metadata": {},
   "outputs": [],
   "source": [
    "# can I get a jacobian to translate theta_mc to H0?\n",
    "# yes.  Use discrete derivative with CAMB.  \n",
    "# dtheta/dparams vector below from notebook \"Rebuild covar with noise\""
   ]
  },
  {
   "cell_type": "code",
   "execution_count": 8,
   "metadata": {},
   "outputs": [],
   "source": [
    "# first need to convert 100*theta_MC to theta_MC\n",
    "mcIndex = 2\n",
    "mcFac = 100\n",
    "Fij_plikHM_TTTEEE_lowTEB[:,mcIndex] *= mcFac\n",
    "Fij_plikHM_TTTEEE_lowTEB[mcIndex,:] *= mcFac\n",
    "Fij_plikHM_lowTEB[:,mcIndex] *= mcFac\n",
    "Fij_plikHM_lowTEB[mcIndex,:] *= mcFac"
   ]
  },
  {
   "cell_type": "code",
   "execution_count": 9,
   "metadata": {},
   "outputs": [
    {
     "name": "stdout",
     "output_type": "stream",
     "text": [
      "[[ 1.00000000e+00  0.00000000e+00  0.00000000e+00  0.00000000e+00\n",
      "   0.00000000e+00  0.00000000e+00]\n",
      " [ 0.00000000e+00  1.00000000e+00  0.00000000e+00  0.00000000e+00\n",
      "   0.00000000e+00  0.00000000e+00]\n",
      " [-2.48333991e-02  1.04570657e-02  2.96219550e-05  0.00000000e+00\n",
      "   0.00000000e+00  0.00000000e+00]\n",
      " [ 0.00000000e+00  0.00000000e+00  0.00000000e+00  1.00000000e+00\n",
      "   0.00000000e+00  0.00000000e+00]\n",
      " [ 0.00000000e+00  0.00000000e+00  0.00000000e+00  0.00000000e+00\n",
      "   1.00000000e+00  0.00000000e+00]\n",
      " [ 0.00000000e+00  0.00000000e+00  0.00000000e+00  0.00000000e+00\n",
      "   0.00000000e+00  1.00000000e+00]]\n"
     ]
    }
   ],
   "source": [
    "#dtheta/dparams\n",
    "nCosParams = 6\n",
    "# paramList after transforming to (H0, 10^9 As) from (cosmomc_theta, ln(10^10*As) )\n",
    "paramList = ['ombh2','omch2','H0','10^9 As','ns','tau'] \n",
    "dthetas = [-0.024833399132992862, 0.010457065703734872, 2.9621955038288544e-05, 0.0, 0.0, 0.0]\n",
    "\n",
    "# The only derivatives in the Jacobian are on the dtheta/dparam row.\n",
    "mcIndex = 2\n",
    "jacobian = np.diag(np.ones(nCosParams))\n",
    "jacobian[mcIndex,:] = dthetas#*100\n",
    "#jacobian[:,mcIndex] = dthetas#*100\n",
    "\n",
    "# multiply these all by d{100thetamc}/d{thetamc} = 100\n",
    "#jacobian[mcIndex,:] *= 100\n",
    "#jacobian[:,mcIndex] *= 100\n",
    "\n",
    "print jacobian"
   ]
  },
  {
   "cell_type": "code",
   "execution_count": 10,
   "metadata": {},
   "outputs": [],
   "source": [
    "# jacobian-it-up\n",
    "Fij_plikHM_TTTEEE_lowTEB = np.dot(jacobian.T,np.dot(Fij_plikHM_TTTEEE_lowTEB,jacobian))\n",
    "Fij_plikHM_lowTEB = np.dot(jacobian.T,np.dot(Fij_plikHM_lowTEB,jacobian))\n",
    "\n",
    "#print Fij_plikHM_TTTEEE_lowTEB\n",
    "#print Fij_plikHM_lowTEB"
   ]
  },
  {
   "cell_type": "markdown",
   "metadata": {},
   "source": [
    "# Transform to $10^9 As$ via Jacobian"
   ]
  },
  {
   "cell_type": "code",
   "execution_count": 11,
   "metadata": {},
   "outputs": [],
   "source": [
    "# only one partial derivative needed\n",
    "# d( ln(10^10*As)) / d(10^9*As) = 1/(10^9*As)*d(10*10^9*As)/d(10^9*As) = 1/(10^9*As)\n",
    "TenToTheNineAs_fid = 2.2\n",
    "AsIndex = 3\n",
    "Fij_plikHM_TTTEEE_lowTEB[:,AsIndex] *= 1/TenToTheNineAs_fid\n",
    "Fij_plikHM_TTTEEE_lowTEB[AsIndex,:] *= 1/TenToTheNineAs_fid\n",
    "Fij_plikHM_lowTEB[:,AsIndex] *= 1/TenToTheNineAs_fid\n",
    "Fij_plikHM_lowTEB[AsIndex,:] *= 1/TenToTheNineAs_fid"
   ]
  },
  {
   "cell_type": "code",
   "execution_count": null,
   "metadata": {},
   "outputs": [],
   "source": []
  },
  {
   "cell_type": "code",
   "execution_count": null,
   "metadata": {},
   "outputs": [],
   "source": []
  },
  {
   "cell_type": "code",
   "execution_count": null,
   "metadata": {},
   "outputs": [],
   "source": []
  },
  {
   "cell_type": "code",
   "execution_count": null,
   "metadata": {},
   "outputs": [],
   "source": []
  },
  {
   "cell_type": "markdown",
   "metadata": {},
   "source": [
    "# Load  FisherMatrix objects that have the CMB-S4 fiducial parameters for combination with this result"
   ]
  },
  {
   "cell_type": "code",
   "execution_count": 12,
   "metadata": {},
   "outputs": [
    {
     "name": "stderr",
     "output_type": "stream",
     "text": [
      "IMPORT ERROR: /opt/local/Library/Frameworks/Python.framework/Versions/2.7/lib/python2.7/site-packages/quicklens/mpi.pyc (No module named pypar). Could not load pbs or pypar. MPI will not be used.\n"
     ]
    },
    {
     "name": "stdout",
     "output_type": "stream",
     "text": [
      "['ombh2', 'omch2', 'H0', 'As', 'ns', 'tau', 'mnu', 'w', 'wa', 'bin1']\n",
      "{'tau': 0.06, 'r': 0, 'num_massive_neutrinos': 1, 'wa': 0.0, 'kPivot': 0.05, 'neutrino_hierarchy': 'normal', 'H0': 69, 'mnu': 0.06, 'omk': 0, 'standard_neutrino_neff': 3.046, 'As': 2.2e-09, 'omch2': 0.12, 'w': -1.0, 'cosmomc_theta': None, 'nnu': 3.046, 'ns': 0.966, 'ombh2': 0.0222}\n"
     ]
    }
   ],
   "source": [
    "# load saved Fobj\n",
    "import FisherCl as fcl\n",
    "import noiseCl as ncl\n",
    "import crosspower as cp\n",
    "import pickle\n",
    "\n",
    "#filehandler = open('Fisher_7_6X4_w2_wan.obj','r') # AccuracyBoost=3, lmax=3000, lmaxP=5000, nz=3e5; nonlinear=False,\n",
    "#filehandler = open('Fisher_7_6X4_w2n.obj','r') # AccuracyBoost=3, lmax=3000, lmaxP=5000, nz=3e5; nonlinear=False,\n",
    "#filehandler = open('Fisher_7_6X4n.obj','r') # AccuracyBoost=3, lmax=3000, lmaxP=5000, nz=3e5; nonlinear=False,\n",
    "#neutrino_hierarchy = 'normal', usePrimaryCMB = True; from FisherCl branch quickCl\n",
    "# kludge for this one: told cp.getDNDZinterp to use modelDNDZ3; set cp.tophat beesBins=True\n",
    "# biasByBin = False (uses sigma(b)/b), dw = 0.05; X2n version has noise included\n",
    "\n",
    "#filehandler = open('Fisher_7_6X2_w2_wan.obj','r') # AccuracyBoost=3, lmax=3000, lmaxP=5000, nz=3e5; nonlinear=True,\n",
    "#filehandler = open('Fisher_7_6X2_w2n.obj','r') # AccuracyBoost=3, lmax=3000, lmaxP=5000, nz=3e5; nonlinear=True,\n",
    "#filehandler = open('Fisher_7_6X2n.obj','r') # AccuracyBoost=3, lmax=3000, lmaxP=5000, nz=3e5; nonlinear=True,\n",
    "#neutrino_hierarchy = 'normal', usePrimaryCMB = True; from FisherCl branch quickCl\n",
    "# kludge for this one: told cp.getDNDZinterp to use modelDNDZ3; set cp.tophat beesBins=True\n",
    "# biasByBin = False (uses sigma(b)/b), dw = 0.05; X2n version has noise included\n",
    "\n",
    "# this one has TE polarazation to l=5000, but only one galaxy bin\n",
    "#filehandler = open('Fisher_4_1Yn.obj','r') # AccuracyBoost=3, lmax=3000, lmaxP=5000; nz=3e5; nonlinear=True,\n",
    "#neutrino_hierarchy = 'normal', usePrimaryCMB = True; from FisherCl branch quickCl\n",
    "# this one used fiducial params and values to match CMB-S4 Science book verification table 8.1\n",
    "\n",
    "# this on like the Yn version but uses 'total' rather than 'unlensed' power spectra\n",
    "filehandler = open('Fisher_4_1Zn.obj','r') # AccuracyBoost=3, lmax=3000, lmaxP=5000; nz=3e5; nonlinear=True,\n",
    "#neutrino_hierarchy='normal', usePrimaryCMB=True, nMapsP=3, useNoise=True; myClName='total'; \n",
    "#from FisherCl branch quickCl\n",
    "# this one used fiducial params and values to match CMB-S4 Science book verification table 8.1\n",
    "\n",
    "Fobj = pickle.load(filehandler) \n",
    "\n",
    "print Fobj.paramList\n",
    "print Fobj.cosParams"
   ]
  },
  {
   "cell_type": "code",
   "execution_count": null,
   "metadata": {},
   "outputs": [],
   "source": []
  },
  {
   "cell_type": "code",
   "execution_count": 13,
   "metadata": {
    "scrolled": true
   },
   "outputs": [
    {
     "name": "stdout",
     "output_type": "stream",
     "text": [
      "adjusting lmax for TT... \n",
      "adjusting lmax for TT... \n",
      "adjusting lmax for TT... \n",
      "adjusting lmax for TT... \n",
      "adjusting lmax for TT... \n",
      "adjusting lmax for TT... \n",
      "adjusting lmax for TT... \n",
      "adjusting lmax for TT... \n",
      "adjusting lmax for TT... \n",
      "adjusting lmax for TT... \n",
      "adjusting lmax for TT... \n",
      "adjusting lmax for TT... \n",
      "adjusting lmax for TT... \n",
      "adjusting lmax for TT... \n",
      "adjusting lmax for TT... \n",
      "adjusting lmax for TT... \n",
      "adjusting lmax for TT... \n",
      "adjusting lmax for TT... \n",
      "adjusting lmax for TT... \n",
      "adjusting lmax for TT... \n",
      "adjusting lmax for TT... \n",
      "adjusting lmax for TT... \n",
      "adjusting lmax for TT... \n",
      "adjusting lmax for TT... \n",
      "adjusting lmax for TT... \n",
      "adjusting lmax for TT... \n",
      "adjusting lmax for TT... \n",
      "adjusting lmax for TT... \n",
      "adjusting lmax for TT... \n",
      "adjusting lmax for TT... \n",
      "adjusting lmax for TT... \n",
      "adjusting lmax for TT... \n",
      "adjusting lmax for TT... \n",
      "adjusting lmax for TT... \n",
      "adjusting lmax for TT... \n",
      "adjusting lmax for TT... \n",
      "adjusting lmax for TT... \n",
      "adjusting lmax for TT... \n",
      "adjusting lmax for TT... \n",
      "adjusting lmax for TT... \n",
      "adjusting lmax for TT... \n",
      "adjusting lmax for TT... \n",
      "adjusting lmax for TT... \n",
      "adjusting lmax for TT... \n",
      "adjusting lmax for TT... \n",
      "adjusting lmax for TT... \n",
      "adjusting lmax for TT... \n",
      "adjusting lmax for TT... \n",
      "adjusting lmax for TT... \n",
      "adjusting lmax for TT... \n",
      "adjusting lmax for TT... \n",
      "adjusting lmax for TT... \n",
      "adjusting lmax for TT... \n",
      "adjusting lmax for TT... \n",
      "adjusting lmax for TT... \n",
      "adjusting lmax for TT... \n",
      "adjusting lmax for TT... \n",
      "adjusting lmax for TT... \n",
      "adjusting lmax for TT... \n",
      "adjusting lmax for TT... \n",
      "adjusting lmax for TT... \n",
      "adjusting lmax for TT... \n",
      "adjusting lmax for TT... \n",
      "adjusting lmax for TT... \n",
      "adjusting lmax for TT... \n",
      "adjusting lmax for TT... \n",
      "adjusting lmax for TT... \n",
      "adjusting lmax for TT... \n",
      "adjusting lmax for TT... \n",
      "adjusting lmax for TT... \n",
      "adjusting lmax for TT... \n",
      "adjusting lmax for TT... \n",
      "adjusting lmax for TT... \n",
      "adjusting lmax for TT... \n",
      "adjusting lmax for TT... \n",
      "adjusting lmax for TT... \n",
      "adjusting lmax for TT... \n",
      "adjusting lmax for TT... \n",
      "adjusting lmax for TT... \n",
      "adjusting lmax for TT... \n",
      "adjusting lmax for TT... \n",
      "(6, 6) (6, 6) (6, 6)\n"
     ]
    }
   ],
   "source": [
    "# get TE fisher\n",
    "myLmin = 30\n",
    "myFij = Fobj.makeFisher(myLmin,TE=True)\n",
    "\n",
    "# fix w, mnu \n",
    "# nCosParams should be 6 to fix w, mnu\n",
    "Fij_S4_TE = myFij[:nCosParams,:nCosParams] \n",
    "Fij_plikHM_lowTEB = Fij_plikHM_lowTEB[:nCosParams,:nCosParams]\n",
    "Fij_plikHM_TTTEEE_lowTEB = Fij_plikHM_TTTEEE_lowTEB[:nCosParams,:nCosParams]\n",
    "print Fij_S4_TE.shape, Fij_plikHM_lowTEB.shape, Fij_plikHM_TTTEEE_lowTEB.shape\n",
    "\n",
    "# convert As to 10^9 As\n",
    "Fij_S4_TE[:,AsIndex] *= 1e-9\n",
    "Fij_S4_TE[AsIndex,:] *= 1e-9\n",
    "\n",
    "# combine using appropriate fsky weighting\n",
    "fsky_S4 = 0.4\n",
    "fsky_Pl = 0.2 # this is in addition to area covered by S4\n",
    "\n",
    "# fsky is in denominator of covariance matrix, putting it in numerator of Fij matrix\n",
    "Fij_Sum = (Fij_S4_TE+Fij_plikHM_lowTEB)*fsky_S4 + Fij_plikHM_TTTEEE_lowTEB*fsky_Pl\n",
    "Fij_Sum_Pl = Fij_plikHM_TTTEEE_lowTEB*(fsky_S4+fsky_Pl)"
   ]
  },
  {
   "cell_type": "code",
   "execution_count": null,
   "metadata": {},
   "outputs": [],
   "source": []
  },
  {
   "cell_type": "code",
   "execution_count": 14,
   "metadata": {},
   "outputs": [],
   "source": [
    "# add sigma = 0.01 prior on tau\n",
    "tauIndex = 5\n",
    "tauPrior = 1/0.01**2\n",
    "Fij_Sum[tauIndex,tauIndex] += tauPrior\n",
    "Fij_Sum_Pl[tauIndex,tauIndex] += tauPrior"
   ]
  },
  {
   "cell_type": "code",
   "execution_count": 15,
   "metadata": {},
   "outputs": [],
   "source": [
    "# get sigmas\n",
    "sigmas_Sum = getSigmas(Fij_Sum)\n",
    "sigmas_Sum_Pl = getSigmas(Fij_Sum_Pl)"
   ]
  },
  {
   "cell_type": "code",
   "execution_count": 16,
   "metadata": {},
   "outputs": [],
   "source": [
    "# one more conversion before printout and comparison\n",
    "ombh2Fac = 100\n",
    "sigmas_Sum[0] *= ombh2Fac\n",
    "sigmas_Sum_Pl[0] *= ombh2Fac\n",
    "paramList[0] = '100 ombh2'"
   ]
  },
  {
   "cell_type": "code",
   "execution_count": 17,
   "metadata": {},
   "outputs": [
    {
     "name": "stdout",
     "output_type": "stream",
     "text": [
      "Planck only and Planck+CMB-S4\n",
      "+-----------+---------+-----------+\n",
      "| Parameter |  Planck | S4+Planck |\n",
      "+-----------+---------+-----------+\n",
      "| 100 ombh2 |  0.0174 |   0.0301  |\n",
      "|   omch2   | 0.00171 |  0.00292  |\n",
      "|     H0    |  0.759  |     1.3   |\n",
      "|  10^9 As  |  0.0393 |   0.0427  |\n",
      "|     ns    |  0.0048 |  0.00798  |\n",
      "|    tau    |  0.009  |  0.00931  |\n",
      "+-----------+---------+-----------+\n"
     ]
    }
   ],
   "source": [
    "# show sigmas\n",
    "from prettytable import PrettyTable\n",
    "\n",
    "print 'Planck only and Planck+CMB-S4'\n",
    "t = PrettyTable(['Parameter', 'Planck','S4+Planck'])\n",
    "for i,p in enumerate(paramList[:nCosParams]):\n",
    "    Zi = sigmas_Sum_Pl[i]\n",
    "    Bi = sigmas_Sum[i]\n",
    "    #diff = (Bi-Zi)/Zi *100\n",
    "    t.add_row([p,\"%5.3g\" % Zi,\"%5.3g\" % Bi] )\n",
    "print t"
   ]
  },
  {
   "cell_type": "markdown",
   "metadata": {},
   "source": [
    "# that was without kappa.  Now get kappa into the S4 part"
   ]
  },
  {
   "cell_type": "code",
   "execution_count": 18,
   "metadata": {},
   "outputs": [
    {
     "name": "stdout",
     "output_type": "stream",
     "text": [
      "(3, 3, 2999)\n",
      "(3, 10, 2999)\n",
      "2 3000\n"
     ]
    }
   ],
   "source": [
    "print Fobj.covar.shape\n",
    "print Fobj.dClVecs.shape\n",
    "print Fobj.lmin,Fobj.lmax"
   ]
  },
  {
   "cell_type": "code",
   "execution_count": 19,
   "metadata": {},
   "outputs": [
    {
     "name": "stdout",
     "output_type": "stream",
     "text": [
      "parameters:  ['ombh2', 'omch2', 'H0', 'As', 'ns', 'tau', 'mnu', 'w', 'wa']\n",
      "kappa-only, noise-included Fisher matrix:\n",
      "[[ 1.41550564e+09 -1.57853830e+09  8.96341460e+05 -4.54711017e+16\n",
      "  -1.16716845e+08  4.17968771e+04  2.61241272e+07  3.67119270e+07\n",
      "   1.23475453e+07]\n",
      " [-1.57853830e+09  1.76073958e+09 -1.00001942e+06  5.07482298e+16\n",
      "   1.29956674e+08 -4.68120051e+04 -2.91516271e+07 -4.09627844e+07\n",
      "  -1.37772735e+07]\n",
      " [ 8.96341460e+05 -1.00001942e+06  5.68225276e+02 -2.88484967e+13\n",
      "  -7.35180269e+04  2.68361730e+01  1.65667230e+04  2.32753524e+04\n",
      "   7.82686040e+03]\n",
      " [-4.54711017e+16  5.07482298e+16 -2.88484967e+13  1.46576755e+24\n",
      "   3.71461133e+15 -1.37566737e+12 -8.41472575e+14 -1.18186831e+15\n",
      "  -3.97409679e+14]\n",
      " [-1.16716845e+08  1.29956674e+08 -7.35180269e+04  3.71461133e+15\n",
      "   9.94048054e+06 -3.15491039e+03 -2.13949924e+06 -3.01168275e+06\n",
      "  -1.01460661e+06]\n",
      " [ 4.17968771e+04 -4.68120051e+04  2.68361730e+01 -1.37566737e+12\n",
      "  -3.15491039e+03  1.50357994e+00  7.85354052e+02  1.09889619e+03\n",
      "   3.68130094e+02]\n",
      " [ 2.61241272e+07 -2.91516271e+07  1.65667230e+04 -8.41472575e+14\n",
      "  -2.13949924e+06  7.85354052e+02  4.83172744e+05  6.78704887e+05\n",
      "   2.28244435e+05]\n",
      " [ 3.67119270e+07 -4.09627844e+07  2.32753524e+04 -1.18186831e+15\n",
      "  -3.01168275e+06  1.09889619e+03  6.78704887e+05  9.53511087e+05\n",
      "   3.20671896e+05]\n",
      " [ 1.23475453e+07 -1.37772735e+07  7.82686040e+03 -3.97409679e+14\n",
      "  -1.01460661e+06  3.68130094e+02  2.28244435e+05  3.20671896e+05\n",
      "   1.07860648e+05]]\n"
     ]
    }
   ],
   "source": [
    "# make kk fisher with noise\n",
    "nCosParams = Fobj.nCosParams\n",
    "dClkk = Fobj.dClVecs[0] # the dCl/dkk part\n",
    "cov_kk2 = Fobj.covar[0,0] # the kk part\n",
    "Fij_kk2 = np.zeros((nCosParams,nCosParams))\n",
    "minEllInd = myLmin-Fobj.lmin  # eg. 30-2\n",
    "for pNum1 in range(nCosParams):\n",
    "    for pNum2 in range(pNum1,nCosParams):\n",
    "        # the next line does the summation over ell\n",
    "        Fij_kk2[pNum1,pNum2] = np.sum(dClkk[pNum1,minEllInd:]*dClkk[pNum2,minEllInd:]/cov_kk2[minEllInd:])\n",
    "        Fij_kk2[pNum2,pNum1] = Fij_kk2[pNum1,pNum2]\n",
    "print 'parameters: ',Fobj.paramList[:nCosParams]\n",
    "print 'kappa-only, noise-included Fisher matrix:'\n",
    "print Fij_kk2"
   ]
  },
  {
   "cell_type": "code",
   "execution_count": 20,
   "metadata": {},
   "outputs": [],
   "source": [
    "# convert As to 10^9 As\n",
    "Fij_kk2[:,AsIndex] *= 1e-9\n",
    "Fij_kk2[AsIndex,:] *= 1e-9\n",
    "\n",
    "# fix w, mnu\n",
    "Fij_kk2 = Fij_kk2[:6,:6]\n",
    "\n",
    "# get sigmas\n",
    "sigmas_Sum2 = getSigmas(Fij_Sum+Fij_kk2*fsky_S4)\n",
    "\n",
    "# one more conversion before printout and comparison\n",
    "sigmas_Sum2[0] *= ombh2Fac"
   ]
  },
  {
   "cell_type": "code",
   "execution_count": null,
   "metadata": {},
   "outputs": [],
   "source": []
  },
  {
   "cell_type": "code",
   "execution_count": 21,
   "metadata": {},
   "outputs": [
    {
     "name": "stdout",
     "output_type": "stream",
     "text": [
      "Planck only and Planck+CMB-S4\n",
      "+-----------+---------+-----------+\n",
      "| Parameter |  Planck | S4+Planck |\n",
      "+-----------+---------+-----------+\n",
      "| 100 ombh2 |  0.0174 |   0.0227  |\n",
      "|   omch2   | 0.00171 |  0.00089  |\n",
      "|     H0    |  0.759  |   0.442   |\n",
      "|  10^9 As  |  0.0393 |   0.0319  |\n",
      "|     ns    |  0.0048 |   0.0033  |\n",
      "|    tau    |  0.009  |  0.00837  |\n",
      "+-----------+---------+-----------+\n"
     ]
    }
   ],
   "source": [
    "# show sigmas\n",
    "from prettytable import PrettyTable\n",
    "\n",
    "print 'Planck only and Planck+CMB-S4'\n",
    "t = PrettyTable(['Parameter', 'Planck','S4+Planck'])\n",
    "for i,p in enumerate(paramList[:nCosParams]):\n",
    "    Zi = sigmas_Sum_Pl[i]\n",
    "    Bi = sigmas_Sum2[i]\n",
    "    #diff = (Bi-Zi)/Zi *100\n",
    "    t.add_row([p,\"%5.3g\" % Zi,\"%5.3g\" % Bi] )\n",
    "print t"
   ]
  },
  {
   "cell_type": "code",
   "execution_count": 22,
   "metadata": {},
   "outputs": [
    {
     "name": "stdout",
     "output_type": "stream",
     "text": [
      "+-----------+-------------+----------+--------+\n",
      "| Parameter | Planck_book | Planck_Z | % diff |\n",
      "+-----------+-------------+----------+--------+\n",
      "| 100 ombh2 |    0.017    |  0.0174  |  2.61  |\n",
      "|   omch2   |    0.0014   | 0.00171  |  21.8  |\n",
      "|     H0    |      0.7    |  0.759   |  8.38  |\n",
      "|  10^9 As  |    0.039    |  0.0393  |  0.69  |\n",
      "|     ns    |    0.004    |  0.0048  |  20.1  |\n",
      "|    tau    |     0.01    |  0.009   | -9.98  |\n",
      "+-----------+-------------+----------+--------+\n",
      "+-----------+----------------+-------------+--------+\n",
      "| Parameter | S4+Planck_book | S4+Planck_Z | % diff |\n",
      "+-----------+----------------+-------------+--------+\n",
      "| 100 ombh2 |     0.003      |    0.0227   |   655  |\n",
      "|   omch2   |     0.0006     |   0.00089   |  48.3  |\n",
      "|     H0    |      0.24      |    0.442    |  84.4  |\n",
      "|  10^9 As  |     0.021      |    0.0319   |  52.1  |\n",
      "|     ns    |     0.002      |    0.0033   |  64.8  |\n",
      "|    tau    |     0.006      |   0.00837   |  39.5  |\n",
      "+-----------+----------------+-------------+--------+\n"
     ]
    }
   ],
   "source": [
    "# print out with CMB-S4 table 8.1 values\n",
    "sigmas_S4book_Planck = [0.017,0.0014,0.7,0.039,0.004,0.01]\n",
    "sigmas_S4book_PlanckS4 = [0.003,0.0006,0.24,0.021,0.002,0.006]\n",
    "\n",
    "t = PrettyTable(['Parameter','Planck_book', 'Planck_Z','% diff'])\n",
    "for i,p in enumerate(paramList[:nCosParams]):\n",
    "    Bi = sigmas_Sum_Pl[i]\n",
    "    Zi = sigmas_S4book_Planck[i]\n",
    "    diff = (Bi-Zi)/Zi *100\n",
    "    t.add_row([p,\"%5.3g\" % Zi,\"%5.3g\" % Bi,\"%5.3g\" % diff] )\n",
    "print t\n",
    "\n",
    "t = PrettyTable(['Parameter','S4+Planck_book', 'S4+Planck_Z','% diff'])\n",
    "for i,p in enumerate(paramList[:nCosParams]):\n",
    "    Bi = sigmas_Sum2[i]\n",
    "    Zi = sigmas_S4book_PlanckS4[i]\n",
    "    diff = (Bi-Zi)/Zi *100\n",
    "    t.add_row([p,\"%5.3g\" % Zi,\"%5.3g\" % Bi,\"%5.3g\" % diff] )\n",
    "print t"
   ]
  },
  {
   "cell_type": "code",
   "execution_count": null,
   "metadata": {},
   "outputs": [],
   "source": []
  },
  {
   "cell_type": "markdown",
   "metadata": {},
   "source": [
    "# Next try with CosmicFish results"
   ]
  },
  {
   "cell_type": "code",
   "execution_count": 23,
   "metadata": {},
   "outputs": [
    {
     "name": "stdout",
     "output_type": "stream",
     "text": [
      "[[ 4.30400590e+09 -6.59605228e+08 -1.95219475e+08  7.37773638e+07\n",
      "   9.94588306e+07 -1.42641941e+08]\n",
      " [-6.59605228e+08  2.06770781e+08  5.40309866e+07 -1.12167620e+07\n",
      "  -1.24332342e+07  2.26744356e+07]\n",
      " [-1.95219475e+08  5.40309866e+07  1.54081445e+07 -3.36576138e+06\n",
      "  -3.86681499e+06  6.28546909e+06]\n",
      " [ 7.37773638e+07 -1.12167620e+07 -3.36576138e+06  3.44653161e+06\n",
      "   3.14441968e+06 -6.42453437e+06]\n",
      " [ 9.94588306e+07 -1.24332342e+07 -3.86681499e+06  3.14441968e+06\n",
      "   3.66513392e+06 -5.99246391e+06]\n",
      " [-1.42641941e+08  2.26744356e+07  6.28546909e+06 -6.42453437e+06\n",
      "  -5.99246391e+06  1.22193648e+07]]\n"
     ]
    }
   ],
   "source": [
    "cfDir = 'cosmicfish_results/'\n",
    "FijFilename = '3_CMBS4_TEB_fisher_matrix_cls.dat'  # TEB only\n",
    "\n",
    "# The parameters of this Fisher matrix are:\n",
    "#\n",
    "#    1    omegabh2    \\Omega_b h^2       0.2220000000000000E-01\n",
    "#    2    omegach2    \\Omega_c h^2       0.1200000000000000E+00\n",
    "#    3    h    h       0.6900000000000001E+00\n",
    "#    4    logA    {\\rm{ln}}(10^{10} A_s)       0.3091042453358316E+01\n",
    "#    5    ns    n_s       0.9660000000000000E+00\n",
    "#    6    tau    \\tau       0.6000000000000000E-01\n",
    "#\n",
    "\n",
    "Fij_CF = np.loadtxt(cfDir+FijFilename)\n",
    "print Fij_CF"
   ]
  },
  {
   "cell_type": "markdown",
   "metadata": {},
   "source": [
    "# Transform to $10^9 As$ via Jacobian"
   ]
  },
  {
   "cell_type": "code",
   "execution_count": 24,
   "metadata": {},
   "outputs": [],
   "source": [
    "# only one partial derivative needed\n",
    "# d( ln(10^10*As)) / d(10^9*As) = 1/(10^9*As)*d(10*10^9*As)/d(10^9*As) = 1/(10^9*As)\n",
    "TenToTheNineAs_fid = 2.2\n",
    "AsIndex = 3\n",
    "Fij_CF[:,AsIndex] *= 1/TenToTheNineAs_fid\n",
    "Fij_CF[AsIndex,:] *= 1/TenToTheNineAs_fid"
   ]
  },
  {
   "cell_type": "markdown",
   "metadata": {},
   "source": [
    "# Transform to $H_0$ via Jacobian"
   ]
  },
  {
   "cell_type": "code",
   "execution_count": 25,
   "metadata": {},
   "outputs": [],
   "source": [
    "# d(h)/d(100h) = 1/100\n",
    "HIndex = 2\n",
    "Fij_CF[:,HIndex] /= 100\n",
    "Fij_CF[HIndex,:] /= 100"
   ]
  },
  {
   "cell_type": "code",
   "execution_count": 26,
   "metadata": {},
   "outputs": [
    {
     "name": "stdout",
     "output_type": "stream",
     "text": [
      "[3.83938345e-05 8.56005710e-04 3.23719005e-01 2.75374827e-02\n",
      " 2.48307919e-03 7.44515332e-03]\n"
     ]
    }
   ],
   "source": [
    "# get sigmas\n",
    "getSigmas = lambda Fij: np.sqrt(np.diag(np.linalg.inv(Fij)))\n",
    "sigmas_CosmicFish = getSigmas(Fij_CF)\n",
    "print sigmas_CosmicFish"
   ]
  },
  {
   "cell_type": "code",
   "execution_count": 27,
   "metadata": {},
   "outputs": [],
   "source": [
    "# combine with others\n",
    "# fsky is in denominator of covariance matrix, putting it in numerator of Fij matrix\n",
    "#Fij_Sum = (Fij_S4_TE+Fij_plikHM_lowTEB)*fsky_S4 + Fij_plikHM_TTTEEE_lowTEB*fsky_Pl\n",
    "#Fij_Sum_Pl = Fij_plikHM_TTTEEE_lowTEB*(fsky_S4+fsky_Pl)\n",
    "\n",
    "# fsky already applied to Fij_CF\n",
    "Fij_Sum_CF = Fij_CF + Fij_plikHM_TTTEEE_lowTEB*fsky_Pl\n"
   ]
  },
  {
   "cell_type": "code",
   "execution_count": 28,
   "metadata": {},
   "outputs": [],
   "source": [
    "# add sigma = 0.01 prior on tau\n",
    "tauIndex = 5\n",
    "tauPrior = 1/0.01**2\n",
    "#Fij_Sum[tauIndex,tauIndex] += tauPrior\n",
    "#Fij_Sum_Pl[tauIndex,tauIndex] += tauPrior\n",
    "\n",
    "Fij_Sum_CF[tauIndex,tauIndex] += tauPrior\n"
   ]
  },
  {
   "cell_type": "markdown",
   "metadata": {},
   "source": [
    "# Transform to $100 \\Omega_b h^2$ via Jacobian"
   ]
  },
  {
   "cell_type": "code",
   "execution_count": 29,
   "metadata": {},
   "outputs": [],
   "source": [
    "# d(ombh2)/d(100obmh2) = 1/100\n",
    "ObIndex = 0\n",
    "Fij_CF[:,ObIndex] /= 100\n",
    "Fij_CF[ObIndex,:] /= 100\n",
    "\n",
    "Fij_Sum_CF[:,ObIndex] /= 100\n",
    "Fij_Sum_CF[ObIndex,:] /= 100\n",
    "\n",
    "Fij_kk2[:,ObIndex] /= 100\n",
    "Fij_kk2[ObIndex,:] /= 100"
   ]
  },
  {
   "cell_type": "code",
   "execution_count": null,
   "metadata": {},
   "outputs": [],
   "source": []
  },
  {
   "cell_type": "code",
   "execution_count": 30,
   "metadata": {},
   "outputs": [
    {
     "name": "stdout",
     "output_type": "stream",
     "text": [
      "+-----------+-------------+----------+--------+\n",
      "| Parameter | Planck_book | Planck_Z | % diff |\n",
      "+-----------+-------------+----------+--------+\n",
      "| 100 ombh2 |    0.017    |  0.0174  |  2.61  |\n",
      "|   omch2   |    0.0014   | 0.00171  |  21.8  |\n",
      "|     H0    |      0.7    |  0.759   |  8.38  |\n",
      "|  10^9 As  |    0.039    |  0.0393  |  0.69  |\n",
      "|     ns    |    0.004    |  0.0048  |  20.1  |\n",
      "|    tau    |     0.01    |  0.009   | -9.98  |\n",
      "+-----------+-------------+----------+--------+\n",
      "+-----------+----------------+----------------+--------+\n",
      "| Parameter | S4+Planck_book | S4_CF+Planck_Z | % diff |\n",
      "+-----------+----------------+----------------+--------+\n",
      "| 100 ombh2 |     0.003      |    0.00372     |  23.9  |\n",
      "|   omch2   |     0.0006     |    0.000675    |  12.5  |\n",
      "|     H0    |      0.24      |     0.256      |  6.84  |\n",
      "|  10^9 As  |     0.021      |     0.0214     |   1.8  |\n",
      "|     ns    |     0.002      |    0.00213     |   6.3  |\n",
      "|    tau    |     0.006      |    0.00575     | -4.15  |\n",
      "+-----------+----------------+----------------+--------+\n",
      "This from CosmicFish with no kappa\n"
     ]
    }
   ],
   "source": [
    "# Show the sigmas\n",
    "# get sigmas\n",
    "#sigmas_Sum = getSigmas(Fij_Sum)\n",
    "#sigmas_Sum_Pl = getSigmas(Fij_Sum_Pl)\n",
    "sigmas_Sum_CF = getSigmas(Fij_Sum_CF)\n",
    "\n",
    "t = PrettyTable(['Parameter','Planck_book', 'Planck_Z','% diff'])\n",
    "for i,p in enumerate(paramList[:nCosParams]):\n",
    "    Bi = sigmas_Sum_Pl[i]\n",
    "    Zi = sigmas_S4book_Planck[i]\n",
    "    diff = (Bi-Zi)/Zi *100\n",
    "    t.add_row([p,\"%5.3g\" % Zi,\"%5.3g\" % Bi,\"%5.3g\" % diff] )\n",
    "print t\n",
    "\n",
    "t = PrettyTable(['Parameter','S4+Planck_book', 'S4_CF+Planck_Z','% diff'])\n",
    "for i,p in enumerate(paramList[:nCosParams]):\n",
    "    Bi = sigmas_Sum_CF[i]\n",
    "    Zi = sigmas_S4book_PlanckS4[i]\n",
    "    diff = (Bi-Zi)/Zi *100\n",
    "    t.add_row([p,\"%5.3g\" % Zi,\"%5.3g\" % Bi,\"%5.3g\" % diff] )\n",
    "print t\n",
    "print \"This from CosmicFish with no kappa\""
   ]
  },
  {
   "cell_type": "code",
   "execution_count": null,
   "metadata": {},
   "outputs": [],
   "source": []
  },
  {
   "cell_type": "code",
   "execution_count": 31,
   "metadata": {},
   "outputs": [],
   "source": [
    "# now add in kappa\n",
    "Fij_Sum_CF_k = Fij_Sum_CF + Fij_kk2*fsky_S4\n",
    "sigmas_Sum_CF_k = getSigmas(Fij_Sum_CF_k)"
   ]
  },
  {
   "cell_type": "code",
   "execution_count": 32,
   "metadata": {},
   "outputs": [
    {
     "name": "stdout",
     "output_type": "stream",
     "text": [
      "+-----------+-------------+----------+--------+\n",
      "| Parameter | Planck_book | Planck_Z | % diff |\n",
      "+-----------+-------------+----------+--------+\n",
      "| 100 ombh2 |    0.017    |  0.0174  |  2.61  |\n",
      "|   omch2   |    0.0014   | 0.00171  |  21.8  |\n",
      "|     H0    |      0.7    |  0.759   |  8.38  |\n",
      "|  10^9 As  |    0.039    |  0.0393  |  0.69  |\n",
      "|     ns    |    0.004    |  0.0048  |  20.1  |\n",
      "|    tau    |     0.01    |  0.009   | -9.98  |\n",
      "+-----------+-------------+----------+--------+\n",
      "+-----------+----------------+---------------------+--------+\n",
      "| Parameter | S4+Planck_book | S4_CF+Planck_Z+kk_Z | % diff |\n",
      "+-----------+----------------+---------------------+--------+\n",
      "| 100 ombh2 |     0.003      |       0.00322       |  7.41  |\n",
      "|   omch2   |     0.0006     |       0.000569      |  -5.2  |\n",
      "|     H0    |      0.24      |        0.213        | -11.1  |\n",
      "|  10^9 As  |     0.021      |        0.0202       | -3.92  |\n",
      "|     ns    |     0.002      |       0.00195       | -2.55  |\n",
      "|    tau    |     0.006      |       0.00547       | -8.81  |\n",
      "+-----------+----------------+---------------------+--------+\n"
     ]
    }
   ],
   "source": [
    "t = PrettyTable(['Parameter','Planck_book', 'Planck_Z','% diff'])\n",
    "for i,p in enumerate(paramList[:nCosParams]):\n",
    "    Bi = sigmas_Sum_Pl[i]\n",
    "    Zi = sigmas_S4book_Planck[i]\n",
    "    diff = (Bi-Zi)/Zi *100\n",
    "    t.add_row([p,\"%5.3g\" % Zi,\"%5.3g\" % Bi,\"%5.3g\" % diff] )\n",
    "print t\n",
    "\n",
    "t = PrettyTable(['Parameter','S4+Planck_book', 'S4_CF+Planck_Z+kk_Z','% diff'])\n",
    "for i,p in enumerate(paramList[:nCosParams]):\n",
    "    Bi = sigmas_Sum_CF_k[i]\n",
    "    Zi = sigmas_S4book_PlanckS4[i]\n",
    "    diff = (Bi-Zi)/Zi *100\n",
    "    t.add_row([p,\"%5.3g\" % Zi,\"%5.3g\" % Bi,\"%5.3g\" % diff] )\n",
    "print t"
   ]
  },
  {
   "cell_type": "code",
   "execution_count": null,
   "metadata": {},
   "outputs": [],
   "source": []
  },
  {
   "cell_type": "code",
   "execution_count": null,
   "metadata": {},
   "outputs": [],
   "source": []
  },
  {
   "cell_type": "code",
   "execution_count": null,
   "metadata": {},
   "outputs": [],
   "source": []
  },
  {
   "cell_type": "code",
   "execution_count": null,
   "metadata": {},
   "outputs": [],
   "source": []
  },
  {
   "cell_type": "code",
   "execution_count": null,
   "metadata": {},
   "outputs": [],
   "source": []
  },
  {
   "cell_type": "code",
   "execution_count": null,
   "metadata": {},
   "outputs": [],
   "source": []
  },
  {
   "cell_type": "code",
   "execution_count": null,
   "metadata": {},
   "outputs": [],
   "source": []
  }
 ],
 "metadata": {
  "kernelspec": {
   "display_name": "Python 2",
   "language": "python",
   "name": "python2"
  },
  "language_info": {
   "codemirror_mode": {
    "name": "ipython",
    "version": 2
   },
   "file_extension": ".py",
   "mimetype": "text/x-python",
   "name": "python",
   "nbconvert_exporter": "python",
   "pygments_lexer": "ipython2",
   "version": "2.7.14"
  }
 },
 "nbformat": 4,
 "nbformat_minor": 2
}
