{
 "cells": [
  {
   "cell_type": "markdown",
   "metadata": {},
   "source": [
    "# Get Planck MCMC parameter Covariance Matrices and Process into Fisher matrices"
   ]
  },
  {
   "cell_type": "code",
   "execution_count": 153,
   "metadata": {},
   "outputs": [
    {
     "name": "stdout",
     "output_type": "stream",
     "text": [
      "59\n",
      "57\n",
      "82\n",
      "line  0 :  omegabh2\t\\Omega_b h^2\n",
      "        :  omegabh2\t\\Omega_b h^2\n",
      "        :  omegabh2\t\\Omega_b h^2\n",
      "\n",
      "line  1 :  omegach2\t\\Omega_c h^2\n",
      "        :  omegach2\t\\Omega_c h^2\n",
      "        :  omegach2\t\\Omega_c h^2\n",
      "\n",
      "line  2 :  theta\t100\\theta_{MC}\n",
      "        :  theta\t100\\theta_{MC}\n",
      "        :  theta\t100\\theta_{MC}\n",
      "\n",
      "line  3 :  tau\t\\tau\n",
      "        :  tau\t\\tau\n",
      "        :  tau\t\\tau\n",
      "\n",
      "line  4 :  logA\t{\\rm{ln}}(10^{10} A_s)\n",
      "        :  logA\t{\\rm{ln}}(10^{10} A_s)\n",
      "        :  logA\t{\\rm{ln}}(10^{10} A_s)\n",
      "\n",
      "line  5 :  ns\tn_s\n",
      "        :  ns\tn_s\n",
      "        :  ns\tn_s\n",
      "\n",
      "line  6 :  calPlanck\ty_{\\rm cal}\n",
      "        :  galfEE100\tA^{{\\rm dust}EE}_{100}\n",
      "        :  galfEE100\tA^{{\\rm dust}EE}_{100}\n",
      "\n",
      "line  7 :  galfEE100\tA^{{\\rm dust}EE}_{100}\n",
      "        :  galfEE100143\tA^{{\\rm dust}EE}_{100\\times 143}\n",
      "        :  galfEE100143\tA^{{\\rm dust}EE}_{100\\times 143}\n",
      "\n",
      "line  8 :  galfEE100143\tA^{{\\rm dust}EE}_{100\\times 143}\n",
      "        :  galfEE100217\tA^{{\\rm dust}EE}_{100\\times 217}\n",
      "        :  galfEE100217\tA^{{\\rm dust}EE}_{100\\times 217}\n",
      "\n",
      "line  9 :  galfEE100217\tA^{{\\rm dust}EE}_{100\\times 217}\n",
      "        :  galfEE143\tA^{{\\rm dust}EE}_{143}\n",
      "        :  galfEE143\tA^{{\\rm dust}EE}_{143}\n",
      "\n",
      "line  10 :  galfEE143\tA^{{\\rm dust}EE}_{143}\n",
      "        :  galfEE143217\tA^{{\\rm dust}EE}_{143\\times 217}\n",
      "        :  galfEE143217\tA^{{\\rm dust}EE}_{143\\times 217}\n",
      "\n",
      "line  11 :  galfEE143217\tA^{{\\rm dust}EE}_{143\\times 217}\n",
      "        :  galfEE217\tA^{{\\rm dust}EE}_{217}\n",
      "        :  galfEE217\tA^{{\\rm dust}EE}_{217}\n",
      "\n",
      "line  12 :  galfEE217\tA^{{\\rm dust}EE}_{217}\n",
      "        :  calPlanck\ty_{\\rm cal}\n",
      "        :  calPlanck\ty_{\\rm cal}\n",
      "\n"
     ]
    }
   ],
   "source": [
    "# load the data\n",
    "planckDir = 'Planck_data/'\n",
    "\n",
    "covmatFile1 = 'base_plikHM_EE_lowTEB.covmat'\n",
    "paramNamesFile1 = 'base_plikHM_EE_lowTEB.paramnames'\n",
    "covmatFile2 = 'base_plikHM_EE.covmat'\n",
    "paramNamesFile2 = 'base_plikHM_EE.paramnames'\n",
    "covmatFile3 = 'base_plikHM_TTTEEE_lowTEB.covmat'\n",
    "paramNamesFile3 = 'base_plikHM_TTTEEE_lowTEB.paramnames'\n",
    "\n",
    "# data from page:\n",
    "# https://wiki.cosmos.esa.int/planckpla2015/index.php/Cosmological_Parameters\n",
    "# http://pla.esac.esa.int/pla/#cosmology\n",
    "\n",
    "covmat1 = np.loadtxt(planckDir+covmatFile1)\n",
    "text_file = open(planckDir+paramNamesFile1, \"r\")\n",
    "paramNames1 = text_file.readlines()\n",
    "#print paramNames1\n",
    "print len(paramNames1)\n",
    "text_file.close()\n",
    "\n",
    "covmat2 = np.loadtxt(planckDir+covmatFile2)\n",
    "text_file = open(planckDir+paramNamesFile2, \"r\")\n",
    "paramNames2 = text_file.readlines()\n",
    "#print paramNames2\n",
    "print len(paramNames2)\n",
    "text_file.close()\n",
    "\n",
    "covmat3 = np.loadtxt(planckDir+covmatFile3)\n",
    "text_file = open(planckDir+paramNamesFile3, \"r\")\n",
    "paramNames3 = text_file.readlines()\n",
    "#print paramNames3\n",
    "print len(paramNames3)\n",
    "text_file.close()\n",
    "\n",
    "for lineNum in range(13):\n",
    "    print 'line ',lineNum,': ',paramNames1[lineNum], \\\n",
    "                  '        : ',paramNames2[lineNum], \\\n",
    "                  '        : ',paramNames2[lineNum]"
   ]
  },
  {
   "cell_type": "code",
   "execution_count": null,
   "metadata": {},
   "outputs": [],
   "source": []
  },
  {
   "cell_type": "code",
   "execution_count": 154,
   "metadata": {},
   "outputs": [
    {
     "name": "stdout",
     "output_type": "stream",
     "text": [
      "covmat1 shape:  (13, 13)\n",
      "covmat2 shape:  (13, 13)\n",
      "covmat3 shape:  (33, 33)\n",
      "covmat1:  ['omegabh2\\t\\\\Omega_b h^2\\n', 'omegach2\\t\\\\Omega_c h^2\\n', 'theta\\t100\\\\theta_{MC}\\n', 'logA\\t{\\\\rm{ln}}(10^{10} A_s)\\n', 'ns\\tn_s\\n', 'tau\\t\\\\tau\\n']\n",
      "covmat2:  ['omegabh2\\t\\\\Omega_b h^2\\n', 'omegach2\\t\\\\Omega_c h^2\\n', 'theta\\t100\\\\theta_{MC}\\n', 'logA\\t{\\\\rm{ln}}(10^{10} A_s)\\n', 'ns\\tn_s\\n', 'tau\\t\\\\tau\\n']\n",
      "covmat3:  ['omegabh2\\t\\\\Omega_b h^2\\n', 'omegach2\\t\\\\Omega_c h^2\\n', 'theta\\t100\\\\theta_{MC}\\n', 'logA\\t{\\\\rm{ln}}(10^{10} A_s)\\n', 'ns\\tn_s\\n', 'tau\\t\\\\tau\\n']\n"
     ]
    }
   ],
   "source": [
    "# get indices of interest from the above output\n",
    "print 'covmat1 shape: ', covmat1.shape\n",
    "print 'covmat2 shape: ', covmat2.shape\n",
    "print 'covmat3 shape: ', covmat3.shape\n",
    "\n",
    "# covariance matrix is only 20x20.  If I use this then I'll have to use theta_mc instead of H0.\n",
    "selectIndices = [0,1,2,4,5,3] # used later to put them in order compatible with my Fij\n",
    "print 'covmat1: ',[paramNames1[si] for si in selectIndices]\n",
    "print 'covmat2: ',[paramNames2[si] for si in selectIndices]\n",
    "print 'covmat3: ',[paramNames3[si] for si in selectIndices]\n",
    "\n"
   ]
  },
  {
   "cell_type": "code",
   "execution_count": 155,
   "metadata": {
    "scrolled": true
   },
   "outputs": [
    {
     "name": "stdout",
     "output_type": "stream",
     "text": [
      "(13, 13)\n",
      "(13, 13)\n",
      "(33, 33)\n",
      "[14392681.1929545   1049528.32399962  1437035.41942155    46769.37259216\n",
      "    15165.26890736   189447.056113  ]\n",
      "[1.43899404e+07 1.08746731e+06 1.38833734e+06 4.72009326e+04\n",
      " 1.22552384e+04 1.90637457e+05]\n",
      "[93644638.67707175  4268555.25616327 14958494.88509028   804119.32282487\n",
      "   369396.33712423  3204935.51385855]\n",
      "[14392681.1929545   1049528.32399962  1437035.41942155    46769.37259216\n",
      "    15165.26890736   189447.056113  ]\n",
      "[1.43899404e+07 1.08746731e+06 1.38833734e+06 4.72009326e+04\n",
      " 1.22552384e+04 1.90637457e+05]\n",
      "[93644638.67707175  4268555.25616327 14958494.88509028   804119.32282487\n",
      "   369396.33712423  3204935.51385855]\n"
     ]
    }
   ],
   "source": [
    "# fix the nuissance parameters\n",
    "\n",
    "# invert covariance matrices\n",
    "invCov1 = np.linalg.inv(covmat1)\n",
    "invCov2 = np.linalg.inv(covmat2)\n",
    "invCov3 = np.linalg.inv(covmat3)\n",
    "\n",
    "# print shapes and diagonals\n",
    "print invCov1.shape\n",
    "print invCov2.shape\n",
    "print invCov3.shape\n",
    "print np.array([invCov1[si,si] for si in selectIndices])\n",
    "print np.array([invCov2[si,si] for si in selectIndices])\n",
    "print np.array([invCov3[si,si] for si in selectIndices])\n",
    "\n",
    "#subInvCov = [invCov[si1][si2] for si1 in selectIndices for si2 in selectIndices]\n",
    "#subInvCov = [[invCov[:,si1] for si1 in selectIndices[si2]] for si2 in selectIndices]\n",
    "#subInvCov1 = [invCov[si1] for si1 in selectIndices]\n",
    "#print subInvCov1\n",
    "#subInvCov = [subInvCov1[:,si2] for si2 in selectIndices]\n",
    "\n",
    "nParams = selectIndices.__len__()\n",
    "subInvCov1 = np.empty((nParams,nParams))\n",
    "subInvCov2 = np.empty((nParams,nParams))\n",
    "subInvCov3 = np.empty((nParams,nParams))\n",
    "# pull out the parameters indicated in selectIndices in order indicated there\n",
    "for si1 in range(6):\n",
    "    for si2 in range(6):\n",
    "        subInvCov1[si1,si2] = invCov1[selectIndices[si1],selectIndices[si2]]\n",
    "        subInvCov2[si1,si2] = invCov2[selectIndices[si1],selectIndices[si2]]\n",
    "        subInvCov3[si1,si2] = invCov3[selectIndices[si1],selectIndices[si2]]\n",
    "#print subInvCov\n",
    "print np.diag(subInvCov1)\n",
    "print np.diag(subInvCov2)\n",
    "print np.diag(subInvCov3)"
   ]
  },
  {
   "cell_type": "code",
   "execution_count": 156,
   "metadata": {},
   "outputs": [],
   "source": [
    "# get desired combinations before finding sigmas\n",
    "\"\"\"\n",
    "covmatFile1 = 'base_plikHM_EE_lowTEB.covmat'\n",
    "paramNamesFile1 = 'base_plikHM_EE_lowTEB.paramnames'\n",
    "covmatFile2 = 'base_plikHM_EE.covmat'\n",
    "paramNamesFile2 = 'base_plikHM_EE.paramnames'\n",
    "covmatFile3 = 'base_plikHM_TTTEEE_lowTEB.covmat'\n",
    "paramNamesFile3 = 'base_plikHM_TTTEEE_lowTEB.paramnames'\n",
    "\"\"\"\n",
    "Fij_plikHM_EE_lowTEB = subInvCov1\n",
    "Fij_plikHM_EE = subInvCov2\n",
    "Fij_plikHM_TTTEEE_lowTEB = subInvCov3\n",
    "\n",
    "Fij_plikHM_lowTEB = Fij_plikHM_EE_lowTEB - Fij_plikHM_EE"
   ]
  },
  {
   "cell_type": "code",
   "execution_count": 157,
   "metadata": {},
   "outputs": [
    {
     "name": "stdout",
     "output_type": "stream",
     "text": [
      "[0.00013805 0.00139624 0.00032041 0.03085309 0.00389213 0.01601033]\n",
      "[0.00315051 0.00444641 0.00440098 0.01898294 0.01669401 0.02325072]\n"
     ]
    }
   ],
   "source": [
    "# re-invert and get sigmas\n",
    "getSigmas = lambda Fij: np.sqrt(np.diag(np.linalg.inv(Fij)))\n",
    "sigmas_TTTEEE_lowTEB = getSigmas(Fij_plikHM_TTTEEE_lowTEB)\n",
    "sigmas_lowTEB = getSigmas(Fij_plikHM_lowTEB)\n",
    "print sigmas_TTTEEE_lowTEB\n",
    "print sigmas_lowTEB"
   ]
  },
  {
   "cell_type": "code",
   "execution_count": null,
   "metadata": {},
   "outputs": [],
   "source": []
  },
  {
   "cell_type": "code",
   "execution_count": 158,
   "metadata": {},
   "outputs": [],
   "source": [
    "# save that sub-Fisher matrix to use in another notebook\n",
    "# I will want it in \"Rebuild covar with noise\"\n",
    "#np.savetxt('PlanckInvCovFromMCMC.txt',subInvCov)\n",
    "np.savetxt('Planck_TTTEEE_lowTEB_FromMCMC.txt',Fij_plikHM_TTTEEE_lowTEB)\n",
    "np.savetxt('Planck_lowTEB_FromMCMC.txt',Fij_plikHM_lowTEB)"
   ]
  },
  {
   "cell_type": "code",
   "execution_count": null,
   "metadata": {},
   "outputs": [],
   "source": []
  },
  {
   "cell_type": "markdown",
   "metadata": {},
   "source": [
    "# Transform to H0 parameter via Jacobian"
   ]
  },
  {
   "cell_type": "code",
   "execution_count": 159,
   "metadata": {},
   "outputs": [],
   "source": [
    "# can I get a jacobian to translate theta_mc to H0?\n",
    "# yes.  Use discrete derivative with CAMB.  \n",
    "# dtheta/dparams vector below from notebook \"Rebuild covar with noise\""
   ]
  },
  {
   "cell_type": "code",
   "execution_count": 160,
   "metadata": {},
   "outputs": [],
   "source": [
    "# first need to convert 100*theta_MC to theta_MC\n",
    "mcIndex = 2\n",
    "mcFac = 100\n",
    "Fij_plikHM_TTTEEE_lowTEB[:,mcIndex] *= mcFac\n",
    "Fij_plikHM_TTTEEE_lowTEB[mcIndex,:] *= mcFac\n",
    "Fij_plikHM_lowTEB[:,mcIndex] *= mcFac\n",
    "Fij_plikHM_lowTEB[mcIndex,:] *= mcFac"
   ]
  },
  {
   "cell_type": "code",
   "execution_count": 161,
   "metadata": {},
   "outputs": [
    {
     "name": "stdout",
     "output_type": "stream",
     "text": [
      "[[ 1.          0.          0.          0.          0.          0.        ]\n",
      " [ 0.          1.          0.          0.          0.          0.        ]\n",
      " [-2.48333991  1.04570657  0.0029622   0.          0.          0.        ]\n",
      " [ 0.          0.          0.          1.          0.          0.        ]\n",
      " [ 0.          0.          0.          0.          1.          0.        ]\n",
      " [ 0.          0.          0.          0.          0.          1.        ]]\n"
     ]
    }
   ],
   "source": [
    "#dtheta/dparams\n",
    "nCosParams = 6\n",
    "# paramList after transforming to (H0, 10^9 As) from (cosmomc_theta, ln(10^10*As) )\n",
    "paramList = ['ombh2','omch2','H0','10^9 As','ns','tau'] \n",
    "dthetas = [-0.024833399132992862, 0.010457065703734872, 2.9621955038288544e-05, 0.0, 0.0, 0.0]\n",
    "\n",
    "# The only derivatives in the Jacobian are on the dtheta/dparam row.\n",
    "mcIndex = 2\n",
    "jacobian = np.diag(np.ones(nCosParams))\n",
    "jacobian[mcIndex,:] = dthetas#*100\n",
    "#jacobian[:,mcIndex] = dthetas#*100\n",
    "\n",
    "# multiply these all by d{100thetamc}/d{thetamc} = 100\n",
    "jacobian[mcIndex,:] *= 100\n",
    "#jacobian[:,mcIndex] *= 100\n",
    "\n",
    "print jacobian"
   ]
  },
  {
   "cell_type": "code",
   "execution_count": 162,
   "metadata": {},
   "outputs": [],
   "source": [
    "# jacobian-it-up\n",
    "Fij_plikHM_TTTEEE_lowTEB = np.dot(jacobian.T,np.dot(Fij_plikHM_TTTEEE_lowTEB,jacobian))\n",
    "Fij_plikHM_lowTEB = np.dot(jacobian.T,np.dot(Fij_plikHM_lowTEB,jacobian))\n",
    "\n",
    "#print Fij_plikHM_TTTEEE_lowTEB\n",
    "#print Fij_plikHM_lowTEB"
   ]
  },
  {
   "cell_type": "markdown",
   "metadata": {},
   "source": [
    "# Transform to $10^9 As$ via Jacobian"
   ]
  },
  {
   "cell_type": "code",
   "execution_count": 163,
   "metadata": {},
   "outputs": [],
   "source": [
    "# only one partial derivative needed\n",
    "# d( ln(10^10*As)) / d(10^9*As) = 1/(10^9*As)*d(10*10^9*As)/d(10^9*As) = 1/(10^9*As)\n",
    "TenToTheNineAs_fid = 2.2\n",
    "AsIndex = 3\n",
    "Fij_plikHM_TTTEEE_lowTEB[:,AsIndex] *= 1/TenToTheNineAs_fid\n",
    "Fij_plikHM_TTTEEE_lowTEB[AsIndex,:] *= 1/TenToTheNineAs_fid\n",
    "Fij_plikHM_lowTEB[:,AsIndex] *= 1/TenToTheNineAs_fid\n",
    "Fij_plikHM_lowTEB[AsIndex,:] *= 1/TenToTheNineAs_fid"
   ]
  },
  {
   "cell_type": "code",
   "execution_count": null,
   "metadata": {},
   "outputs": [],
   "source": []
  },
  {
   "cell_type": "code",
   "execution_count": null,
   "metadata": {},
   "outputs": [],
   "source": []
  },
  {
   "cell_type": "code",
   "execution_count": null,
   "metadata": {},
   "outputs": [],
   "source": []
  },
  {
   "cell_type": "code",
   "execution_count": null,
   "metadata": {},
   "outputs": [],
   "source": []
  },
  {
   "cell_type": "markdown",
   "metadata": {},
   "source": [
    "# Load  FisherMatrix objects that have the CMB-S4 fiducial parameters for combination with this result"
   ]
  },
  {
   "cell_type": "code",
   "execution_count": 164,
   "metadata": {},
   "outputs": [
    {
     "name": "stdout",
     "output_type": "stream",
     "text": [
      "['ombh2', 'omch2', 'H0', 'As', 'ns', 'tau', 'mnu', 'w', 'bin1']\n",
      "{'cosmomc_theta': None, 'r': 0, 'kPivot': 0.05, 'omk': 0, 'H0': 69.0, 'mnu': 0.06, 'nnu': 3.046, 'tau': 0.06, 'neutrino_hierarchy': 'normal', 'standard_neutrino_neff': 3.046, 'As': 2.2e-09, 'omch2': 0.12, 'w': -1.0, 'num_massive_neutrinos': 1, 'ns': 0.966, 'ombh2': 0.0222}\n"
     ]
    }
   ],
   "source": [
    "# load saved Fobj\n",
    "import FisherCl as fcl\n",
    "import noiseCl as ncl\n",
    "import crosspower as cp\n",
    "import pickle\n",
    "\n",
    "#filehandler = open('Fisher_7_6X4_w2_wan.obj','r') # AccuracyBoost=3, lmax=3000, lmaxP=5000, nz=3e5; nonlinear=False,\n",
    "#filehandler = open('Fisher_7_6X4_w2n.obj','r') # AccuracyBoost=3, lmax=3000, lmaxP=5000, nz=3e5; nonlinear=False,\n",
    "#filehandler = open('Fisher_7_6X4n.obj','r') # AccuracyBoost=3, lmax=3000, lmaxP=5000, nz=3e5; nonlinear=False,\n",
    "#neutrino_hierarchy = 'normal', usePrimaryCMB = True; from FisherCl branch quickCl\n",
    "# kludge for this one: told cp.getDNDZinterp to use modelDNDZ3; set cp.tophat beesBins=True\n",
    "# biasByBin = False (uses sigma(b)/b), dw = 0.05; X2n version has noise included\n",
    "\n",
    "#filehandler = open('Fisher_7_6X2_w2_wan.obj','r') # AccuracyBoost=3, lmax=3000, lmaxP=5000, nz=3e5; nonlinear=True,\n",
    "#filehandler = open('Fisher_7_6X2_w2n.obj','r') # AccuracyBoost=3, lmax=3000, lmaxP=5000, nz=3e5; nonlinear=True,\n",
    "#filehandler = open('Fisher_7_6X2n.obj','r') # AccuracyBoost=3, lmax=3000, lmaxP=5000, nz=3e5; nonlinear=True,\n",
    "#neutrino_hierarchy = 'normal', usePrimaryCMB = True; from FisherCl branch quickCl\n",
    "# kludge for this one: told cp.getDNDZinterp to use modelDNDZ3; set cp.tophat beesBins=True\n",
    "# biasByBin = False (uses sigma(b)/b), dw = 0.05; X2n version has noise included\n",
    "\n",
    "# this one has TE polarazation to l=5000, but only one galaxy bin\n",
    "filehandler = open('Fisher_4_1Yn.obj','r') # AccuracyBoost=3, lmax=3000, lmaxP=5000; nz=3e5; nonlinear=True,\n",
    "#neutrino_hierarchy = 'normal', usePrimaryCMB = True; from FisherCl branch quickCl\n",
    "# this one used fiducial params and values to match CMB-S4 Science book verification table 8.1\n",
    "\n",
    "Fobj = pickle.load(filehandler) \n",
    "\n",
    "print Fobj.paramList\n",
    "print Fobj.cosParams"
   ]
  },
  {
   "cell_type": "code",
   "execution_count": null,
   "metadata": {},
   "outputs": [],
   "source": []
  },
  {
   "cell_type": "code",
   "execution_count": 165,
   "metadata": {
    "scrolled": true
   },
   "outputs": [
    {
     "name": "stdout",
     "output_type": "stream",
     "text": [
      "adjusting lmax for TT... \n",
      "adjusting lmax for TT... \n",
      "adjusting lmax for TT... \n",
      "adjusting lmax for TT... \n",
      "adjusting lmax for TT... \n",
      "adjusting lmax for TT... \n",
      "adjusting lmax for TT... \n",
      "adjusting lmax for TT... \n",
      "adjusting lmax for TT... \n",
      "adjusting lmax for TT... \n",
      "adjusting lmax for TT... \n",
      "adjusting lmax for TT... \n",
      "adjusting lmax for TT... \n",
      "adjusting lmax for TT... \n",
      "adjusting lmax for TT... \n",
      "adjusting lmax for TT... \n",
      "adjusting lmax for TT... \n",
      "adjusting lmax for TT... \n",
      "adjusting lmax for TT... \n",
      "adjusting lmax for TT... \n",
      "adjusting lmax for TT... \n",
      "adjusting lmax for TT... \n",
      "adjusting lmax for TT... \n",
      "adjusting lmax for TT... \n",
      "adjusting lmax for TT... \n",
      "adjusting lmax for TT... \n",
      "adjusting lmax for TT... \n",
      "adjusting lmax for TT... \n",
      "adjusting lmax for TT... \n",
      "adjusting lmax for TT... \n",
      "adjusting lmax for TT... \n",
      "adjusting lmax for TT... \n",
      "adjusting lmax for TT... \n",
      "adjusting lmax for TT... \n",
      "adjusting lmax for TT... \n",
      "adjusting lmax for TT... \n",
      "adjusting lmax for TT... \n",
      "adjusting lmax for TT... \n",
      "adjusting lmax for TT... \n",
      "adjusting lmax for TT... \n",
      "adjusting lmax for TT... \n",
      "adjusting lmax for TT... \n",
      "adjusting lmax for TT... \n",
      "adjusting lmax for TT... \n",
      "adjusting lmax for TT... \n",
      "adjusting lmax for TT... \n",
      "adjusting lmax for TT... \n",
      "adjusting lmax for TT... \n",
      "adjusting lmax for TT... \n",
      "adjusting lmax for TT... \n",
      "adjusting lmax for TT... \n",
      "adjusting lmax for TT... \n",
      "adjusting lmax for TT... \n",
      "adjusting lmax for TT... \n",
      "adjusting lmax for TT... \n",
      "adjusting lmax for TT... \n",
      "adjusting lmax for TT... \n",
      "adjusting lmax for TT... \n",
      "adjusting lmax for TT... \n",
      "adjusting lmax for TT... \n",
      "adjusting lmax for TT... \n",
      "adjusting lmax for TT... \n",
      "adjusting lmax for TT... \n",
      "adjusting lmax for TT... \n"
     ]
    }
   ],
   "source": [
    "# get TE fisher and fix w, mnu\n",
    "myLmin = 30\n",
    "myFij = Fobj.makeFisher(myLmin,TE=True)\n",
    "Fij_S4_TE = myFij[:nParams,:nParams]\n",
    "\n",
    "# convert As to 10^9 As\n",
    "Fij_S4_TE[:,AsIndex] *= 1e-9\n",
    "Fij_S4_TE[AsIndex,:] *= 1e-9\n",
    "\n",
    "# combine using appropriate fsky weighting\n",
    "fsky_S4 = 0.4\n",
    "fsky_Pl = 0.2 # this is in addition to area covered by S4\n",
    "\n",
    "# fsky is in denominator of covariance matrix, putting it in numerator of Fij matrix\n",
    "Fij_Sum = (Fij_S4_TE+Fij_plikHM_lowTEB)*fsky_S4 + Fij_plikHM_TTTEEE_lowTEB*fsky_Pl\n",
    "Fij_Sum_Pl = Fij_plikHM_TTTEEE_lowTEB*(fsky_S4+fsky_Pl)"
   ]
  },
  {
   "cell_type": "code",
   "execution_count": 166,
   "metadata": {},
   "outputs": [],
   "source": [
    "# add sigma = 0.01 prior on tau\n",
    "tauIndex = 5\n",
    "tauPrior = 1/0.01**2\n",
    "Fij_Sum[tauIndex,tauIndex] += tauPrior\n",
    "Fij_Sum_Pl[tauIndex,tauIndex] += tauPrior"
   ]
  },
  {
   "cell_type": "code",
   "execution_count": 167,
   "metadata": {},
   "outputs": [],
   "source": [
    "# get sigmas\n",
    "sigmas_Sum = getSigmas(Fij_Sum)\n",
    "sigmas_Sum_Pl = getSigmas(Fij_Sum_Pl)"
   ]
  },
  {
   "cell_type": "code",
   "execution_count": 168,
   "metadata": {},
   "outputs": [],
   "source": [
    "# one more conversion before printout and comparison\n",
    "ombh2Fac = 100\n",
    "sigmas_Sum[0] *= ombh2Fac\n",
    "sigmas_Sum_Pl[0] *= ombh2Fac\n",
    "paramList[0] = '100*ombh2'"
   ]
  },
  {
   "cell_type": "code",
   "execution_count": 169,
   "metadata": {},
   "outputs": [
    {
     "name": "stdout",
     "output_type": "stream",
     "text": [
      "Planck only and Planck+CMB-S4\n",
      "+-----------+---------+-----------+\n",
      "| Parameter |  Planck | S4+Planck |\n",
      "+-----------+---------+-----------+\n",
      "| 100*ombh2 |  0.0174 |   0.0301  |\n",
      "|   omch2   | 0.00171 |  0.00292  |\n",
      "|     H0    |  0.694  |    1.19   |\n",
      "|  10^9 As  |  0.0393 |   0.0427  |\n",
      "|     ns    |  0.0048 |  0.00798  |\n",
      "|    tau    |  0.009  |  0.00931  |\n",
      "+-----------+---------+-----------+\n"
     ]
    }
   ],
   "source": [
    "# show sigmas\n",
    "from prettytable import PrettyTable\n",
    "\n",
    "print 'Planck only and Planck+CMB-S4'\n",
    "t = PrettyTable(['Parameter', 'Planck','S4+Planck'])\n",
    "for i,p in enumerate(paramList[:nCosParams]):\n",
    "    Zi = sigmas_Sum_Pl[i]\n",
    "    Bi = sigmas_Sum[i]\n",
    "    #diff = (Bi-Zi)/Zi *100\n",
    "    t.add_row([p,\"%5.3g\" % Zi,\"%5.3g\" % Bi] )\n",
    "print t"
   ]
  },
  {
   "cell_type": "markdown",
   "metadata": {},
   "source": [
    "# that was without kappa.  Now get kappa into the S4 part"
   ]
  },
  {
   "cell_type": "code",
   "execution_count": 170,
   "metadata": {},
   "outputs": [
    {
     "name": "stdout",
     "output_type": "stream",
     "text": [
      "(3, 3, 2999)\n",
      "(3, 9, 2999)\n",
      "2 3000\n"
     ]
    }
   ],
   "source": [
    "print Fobj.covar.shape\n",
    "print Fobj.dClVecs.shape\n",
    "print Fobj.lmin,Fobj.lmax"
   ]
  },
  {
   "cell_type": "code",
   "execution_count": 171,
   "metadata": {},
   "outputs": [
    {
     "name": "stdout",
     "output_type": "stream",
     "text": [
      "parameters:  ['ombh2', 'omch2', 'H0', 'As', 'ns', 'tau', 'mnu', 'w']\n",
      "kappa-only, noise-included Fisher matrix:\n",
      "[[ 4.31546112e+07 -4.91616441e+07  2.92063390e+04 -1.58339161e+15\n",
      "  -1.83068540e+06  5.33932049e+03  8.84119768e+05  1.20063057e+06]\n",
      " [-4.91616441e+07  5.62941990e+07 -3.35567194e+04  1.82903909e+15\n",
      "   1.99523824e+06 -6.13501274e+03 -1.01922976e+06 -1.38337395e+06]\n",
      " [ 2.92063390e+04 -3.35567194e+04  2.00489049e+01 -1.09681278e+12\n",
      "  -1.14637207e+03  3.66082480e+00  6.10366977e+02  8.28030830e+02]\n",
      " [-1.58339161e+15  1.82903909e+15 -1.09681278e+12  6.04246285e+22\n",
      "   5.80873524e+13 -1.99572221e+11 -3.35530245e+13 -4.54434950e+13]\n",
      " [-1.83068540e+06  1.99523824e+06 -1.14637207e+03  5.80873524e+13\n",
      "   1.17634267e+05 -2.20080859e+02 -3.31526131e+04 -4.57943229e+04]\n",
      " [ 5.33932049e+03 -6.13501274e+03  3.66082480e+00 -1.99572221e+11\n",
      "  -2.20080859e+02  6.82803778e-01  1.11151368e+02  1.51221552e+02]\n",
      " [ 8.84119768e+05 -1.01922976e+06  6.10366977e+02 -3.35530245e+13\n",
      "  -3.31526131e+04  1.11151368e+02  1.86476082e+04  2.52612347e+04]\n",
      " [ 1.20063057e+06 -1.38337395e+06  8.28030830e+02 -4.54434950e+13\n",
      "  -4.57943229e+04  1.51221552e+02  2.52612347e+04  3.42547037e+04]]\n"
     ]
    }
   ],
   "source": [
    "# make kk fisher with noise\n",
    "nCosParams = Fobj.nCosParams\n",
    "dClkk = Fobj.dClVecs[0] # the dCl/dkk part\n",
    "cov_kk2 = Fobj.covar[0,0] # the kk part\n",
    "Fij_kk2 = np.zeros((nCosParams,nCosParams))\n",
    "minEllInd = myLmin-Fobj.lmin  # eg. 30-2\n",
    "for pNum1 in range(nCosParams):\n",
    "    for pNum2 in range(pNum1,nCosParams):\n",
    "        # the next line does the summation over ell\n",
    "        Fij_kk2[pNum1,pNum2] = np.sum(dClkk[pNum1,minEllInd:]*dClkk[pNum2,minEllInd:]/cov_kk2[minEllInd:])\n",
    "        Fij_kk2[pNum2,pNum1] = Fij_kk2[pNum1,pNum2]\n",
    "print 'parameters: ',Fobj.paramList[:nCosParams]\n",
    "print 'kappa-only, noise-included Fisher matrix:'\n",
    "print Fij_kk2"
   ]
  },
  {
   "cell_type": "code",
   "execution_count": 172,
   "metadata": {},
   "outputs": [],
   "source": [
    "# convert As to 10^9 As\n",
    "Fij_kk2[:,AsIndex] *= 1e-9\n",
    "Fij_kk2[AsIndex,:] *= 1e-9\n",
    "\n",
    "# fix w, mnu\n",
    "Fij_kk2 = Fij_kk2[:nParams,:nParams]\n",
    "\n",
    "# get sigmas\n",
    "sigmas_Sum2 = getSigmas(Fij_Sum+Fij_kk2)\n",
    "\n",
    "# one more conversion before printout and comparison\n",
    "sigmas_Sum2[0] *= ombh2Fac"
   ]
  },
  {
   "cell_type": "code",
   "execution_count": 173,
   "metadata": {},
   "outputs": [
    {
     "name": "stdout",
     "output_type": "stream",
     "text": [
      "Planck only and Planck+CMB-S4\n",
      "+-----------+---------+-----------+\n",
      "| Parameter |  Planck | S4+Planck |\n",
      "+-----------+---------+-----------+\n",
      "| 100*ombh2 |  0.0174 |   0.0228  |\n",
      "|   omch2   | 0.00171 |  0.000931 |\n",
      "|     H0    |  0.694  |   0.366   |\n",
      "|  10^9 As  |  0.0393 |   0.0315  |\n",
      "|     ns    |  0.0048 |  0.00465  |\n",
      "|    tau    |  0.009  |   0.0085  |\n",
      "+-----------+---------+-----------+\n"
     ]
    }
   ],
   "source": [
    "# show sigmas\n",
    "from prettytable import PrettyTable\n",
    "\n",
    "print 'Planck only and Planck+CMB-S4'\n",
    "t = PrettyTable(['Parameter', 'Planck','S4+Planck'])\n",
    "for i,p in enumerate(paramList[:nCosParams]):\n",
    "    Zi = sigmas_Sum_Pl[i]\n",
    "    Bi = sigmas_Sum2[i]\n",
    "    #diff = (Bi-Zi)/Zi *100\n",
    "    t.add_row([p,\"%5.3g\" % Zi,\"%5.3g\" % Bi] )\n",
    "print t"
   ]
  },
  {
   "cell_type": "code",
   "execution_count": null,
   "metadata": {},
   "outputs": [],
   "source": []
  },
  {
   "cell_type": "code",
   "execution_count": 174,
   "metadata": {},
   "outputs": [
    {
     "name": "stdout",
     "output_type": "stream",
     "text": [
      "(2, 2, 2999)\n"
     ]
    }
   ],
   "source": [
    "# noise terms?\n",
    "print Fobj.noiseCls.shape"
   ]
  },
  {
   "cell_type": "code",
   "execution_count": 175,
   "metadata": {
    "scrolled": true
   },
   "outputs": [
    {
     "data": {
      "image/png": "[encoded data removed]",
      "text/plain": [
       "<matplotlib.figure.Figure at 0x105809210>"
      ]
     },
     "metadata": {},
     "output_type": "display_data"
    }
   ],
   "source": [
    "plt.plot(Fobj.ells,Fobj.noiseCls[0,0],label='TT')\n",
    "plt.plot(Fobj.ells,Fobj.noiseCls[0,1],label='TE')\n",
    "plt.plot(Fobj.ells,Fobj.noiseCls[1,1],label='EE')\n",
    "plt.legend()\n",
    "plt.show()"
   ]
  },
  {
   "cell_type": "code",
   "execution_count": 176,
   "metadata": {},
   "outputs": [
    {
     "name": "stdout",
     "output_type": "stream",
     "text": [
      "[8.46159577e-08 8.46159654e-08 8.46159758e-08 ... 1.23888050e-07\n",
      " 1.23906952e-07 1.23925861e-07]\n",
      "[0. 0. 0. ... 0. 0. 0.]\n",
      "[1.69180807e-07 1.69180823e-07 1.69180843e-07 ... 2.47701271e-07\n",
      " 2.47739064e-07 2.47776870e-07]\n"
     ]
    }
   ],
   "source": [
    "print Fobj.noiseClsP[0,0]\n",
    "print Fobj.noiseClsP[0,1]\n",
    "print Fobj.noiseClsP[1,1]"
   ]
  },
  {
   "cell_type": "code",
   "execution_count": null,
   "metadata": {},
   "outputs": [],
   "source": []
  },
  {
   "cell_type": "code",
   "execution_count": null,
   "metadata": {},
   "outputs": [],
   "source": []
  },
  {
   "cell_type": "code",
   "execution_count": null,
   "metadata": {},
   "outputs": [],
   "source": []
  },
  {
   "cell_type": "code",
   "execution_count": null,
   "metadata": {},
   "outputs": [],
   "source": []
  },
  {
   "cell_type": "code",
   "execution_count": null,
   "metadata": {},
   "outputs": [],
   "source": []
  }
 ],
 "metadata": {
  "kernelspec": {
   "display_name": "Python 2",
   "language": "python",
   "name": "python2"
  },
  "language_info": {
   "codemirror_mode": {
    "name": "ipython",
    "version": 2
   },
   "file_extension": ".py",
   "mimetype": "text/x-python",
   "name": "python",
   "nbconvert_exporter": "python",
   "pygments_lexer": "ipython2",
   "version": "2.7.14"
  }
 },
 "nbformat": 4,
 "nbformat_minor": 2
}
