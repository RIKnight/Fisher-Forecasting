{
 "cells": [
  {
   "cell_type": "markdown",
   "metadata": {},
   "source": [
    "# Make some error ellipses"
   ]
  },
  {
   "cell_type": "code",
   "execution_count": 1,
   "metadata": {},
   "outputs": [
    {
     "name": "stdout",
     "output_type": "stream",
     "text": [
      "done.\n"
     ]
    }
   ],
   "source": [
    "# load some fisher matrices\n",
    "\n",
    "sigmaBins2_01_lin,FoMPropBins2_01_lin,paramList2_01_lin,FijBins2_01_lin, \\\n",
    "    sigmaBins2_01g_lin,FoMPropBins2_01g_lin,paramList2_01g_lin,FijBins2_01g_lin = np.load('KZlimited_gold_lin_k1_wa1_median.npy')\n",
    "sigmaBins2_02_lin,FoMPropBins2_02_lin,paramList2_02_lin,FijBins2_02_lin, \\\n",
    "    sigmaBins2_02g_lin,FoMPropBins2_02g_lin,paramList2_02g_lin,FijBins2_02g_lin = np.load('KZlimited_gold_lin_k2_wa1_median.npy')\n",
    "sigmaBins4_01_lin,FoMPropBins4_01_lin,paramList4_01_lin,FijBins4_01_lin, \\\n",
    "    sigmaBins4_01g_lin,FoMPropBins4_01g_lin,paramList4_01g_lin,FijBins4_01g_lin = np.load('KZlimited_opti_lin_k1_wa1_median.npy')\n",
    "sigmaBins4_02_lin,FoMPropBins4_02_lin,paramList4_02_lin,FijBins4_02_lin, \\\n",
    "    sigmaBins4_02g_lin,FoMPropBins4_02g_lin,paramList4_02g_lin,FijBins4_02g_lin = np.load('KZlimited_opti_lin_k2_wa1_median.npy')\n",
    "    \n",
    "sigmaBins2_01_nln,FoMPropBins2_01_nln,paramList2_01_nln,FijBins2_01_nln, \\\n",
    "    sigmaBins2_01g_nln,FoMPropBins2_01g_nln,paramList2_01g_nln,FijBins2_01g_nln = np.load('KZlimited_gold_nln_k1_wa1_median.npy')\n",
    "sigmaBins2_02_nln,FoMPropBins2_02_nln,paramList2_02_nln,FijBins2_02_nln, \\\n",
    "    sigmaBins2_02g_nln,FoMPropBins2_02g_nln,paramList2_02g_nln,FijBins2_02g_nln = np.load('KZlimited_gold_nln_k2_wa1_median.npy')\n",
    "sigmaBins4_01_nln,FoMPropBins4_01_nln,paramList4_01_nln,FijBins4_01_nln, \\\n",
    "    sigmaBins4_01g_nln,FoMPropBins4_01g_nln,paramList4_01g_nln,FijBins4_01g_nln = np.load('KZlimited_opti_nln_k1_wa1_median.npy')\n",
    "sigmaBins4_02_nln,FoMPropBins4_02_nln,paramList4_02_nln,FijBins4_02_nln, \\\n",
    "    sigmaBins4_02g_nln,FoMPropBins4_02g_nln,paramList4_02g_nln,FijBins4_02g_nln = np.load('KZlimited_opti_nln_k2_wa1_median.npy')\n",
    "  \n",
    "print 'done.'"
   ]
  },
  {
   "cell_type": "code",
   "execution_count": 2,
   "metadata": {},
   "outputs": [
    {
     "name": "stdout",
     "output_type": "stream",
     "text": [
      "(24, 24) (24, 24) (24, 24) (24, 24)\n",
      "(24, 24) (24, 24) (24, 24) (24, 24)\n"
     ]
    }
   ],
   "source": [
    "# extract z=7 end of lists\n",
    "Fij_gold_lin_k1 = FijBins2_01_lin[-1]\n",
    "Fij_gold_lin_k2 = FijBins2_02_lin[-1]\n",
    "Fij_opti_lin_k1 = FijBins4_01_lin[-1]\n",
    "Fij_opti_lin_k2 = FijBins4_02_lin[-1]\n",
    "Fij_gold_nln_k1 = FijBins2_01_nln[-1]\n",
    "Fij_gold_nln_k2 = FijBins2_02_nln[-1]\n",
    "Fij_opti_nln_k1 = FijBins4_01_nln[-1]\n",
    "Fij_opti_nln_k2 = FijBins4_02_nln[-1]\n",
    "print Fij_gold_lin_k1.shape,Fij_gold_lin_k2.shape,Fij_opti_lin_k1.shape,Fij_opti_lin_k2.shape\n",
    "print Fij_gold_nln_k1.shape,Fij_gold_nln_k2.shape,Fij_opti_nln_k1.shape,Fij_opti_nln_k2.shape"
   ]
  },
  {
   "cell_type": "code",
   "execution_count": 3,
   "metadata": {},
   "outputs": [
    {
     "name": "stdout",
     "output_type": "stream",
     "text": [
      "24 15\n"
     ]
    }
   ],
   "source": [
    "print len(Fij_gold_lin_k1), len(FijBins2_01_lin)"
   ]
  },
  {
   "cell_type": "code",
   "execution_count": 4,
   "metadata": {},
   "outputs": [
    {
     "name": "stdout",
     "output_type": "stream",
     "text": [
      "done.\n"
     ]
    }
   ],
   "source": [
    "# Fix mnu\n",
    "# define row,col deleting function\n",
    "def fixParam(Fij,pNum):\n",
    "    return np.delete(np.delete(Fij,pNum,0),pNum,1)\n",
    "\n",
    "mnuIndex = 6\n",
    "Fij_gold_lin_k1_nmn = fixParam(Fij_gold_lin_k1,mnuIndex)\n",
    "Fij_gold_lin_k2_nmn = fixParam(Fij_gold_lin_k2,mnuIndex)\n",
    "Fij_opti_lin_k1_nmn = fixParam(Fij_opti_lin_k1,mnuIndex)\n",
    "Fij_opti_lin_k2_nmn = fixParam(Fij_opti_lin_k2,mnuIndex)\n",
    "Fij_gold_nln_k1_nmn = fixParam(Fij_gold_nln_k1,mnuIndex)\n",
    "Fij_gold_nln_k2_nmn = fixParam(Fij_gold_nln_k2,mnuIndex)\n",
    "Fij_opti_nln_k1_nmn = fixParam(Fij_opti_nln_k1,mnuIndex)\n",
    "Fij_opti_nln_k2_nmn = fixParam(Fij_opti_nln_k2,mnuIndex)\n",
    "\n",
    "print 'done.'"
   ]
  },
  {
   "cell_type": "code",
   "execution_count": null,
   "metadata": {},
   "outputs": [],
   "source": []
  },
  {
   "cell_type": "code",
   "execution_count": null,
   "metadata": {},
   "outputs": [],
   "source": []
  },
  {
   "cell_type": "code",
   "execution_count": 5,
   "metadata": {},
   "outputs": [],
   "source": [
    "# from: https://github.com/damonge/GoFish/blob/master/fisher_plot.py\n",
    "# I'm not running this code.  It is here because it is what I copied from.\n",
    "\n",
    "import numpy as np\n",
    "import os as os\n",
    "import sys as sys\n",
    "import matplotlib.pyplot as plt\n",
    "from matplotlib.patches import Ellipse\n",
    "import copy\n",
    "\n",
    "FS=16\n",
    "\n",
    "class ParamFisher:\n",
    "    \"\"\" Fisher matrix parameter \"\"\"\n",
    "    val=0.0\n",
    "    dval=0.0\n",
    "    prior=0.0\n",
    "    onesided=0\n",
    "    name=\"str\"\n",
    "    label=\"$x$\"\n",
    "    isfree=False\n",
    "    do_plot=True\n",
    "\n",
    "    def __init__(self,val,dval,prior,name,label,isfree,do_plot,onesided):\n",
    "        self.val=val\n",
    "        self.dval=dval\n",
    "        self.prior=prior\n",
    "        self.name=name\n",
    "        self.label=label\n",
    "        self.isfree=isfree\n",
    "        self.do_plot=do_plot\n",
    "        self.onesided=onesided\n",
    "\n",
    "def find_param(param_list,name):\n",
    "    index=0\n",
    "    for par in param_list:\n",
    "        if par.name==name :\n",
    "            return index\n",
    "        index+=1\n",
    "    sys.exit(\"No parameter \"+name)\n",
    "\n",
    "def plot_fisher_single(params,name,fishermat,ax,fc,lw,ls,lc,fact_axis,show_title=True, legend=False, labels=[], unit=\"\") :\n",
    "    nb=128\n",
    "\n",
    "    sigma_max=0\n",
    "    i1=find_param(params,name)\n",
    "    for i in np.arange(len(fishermat)) :\n",
    "        covar_full=np.linalg.inv(fishermat[i])\n",
    "        sigma=np.sqrt(covar_full[i1,i1])\n",
    "        if sigma>=sigma_max :\n",
    "            sigma_max=sigma\n",
    "        x_arr=params[i1].val-4*sigma+8*sigma*np.arange(nb)/(nb-1.)\n",
    "        p_arr=np.exp(-(x_arr-params[i1].val)**2/(2*sigma**2))\n",
    "        if labels != []:\n",
    "            ax.plot(x_arr,p_arr,color=lc[i],linestyle=ls[i],linewidth=lw[i], label=labels[i])\n",
    "        else:\n",
    "            ax.plot(x_arr,p_arr,color=lc[i],linestyle=ls[i],linewidth=lw[i])\n",
    "    if show_title:\n",
    "        ax.set_title(\"$\\\\sigma($\"+params[i1].label+\"$)=%.3lf$\"%sigma)\n",
    "    ax.set_xlim([params[i1].val-fact_axis*sigma_max,params[i1].val+fact_axis*sigma_max])\n",
    "    ax.set_xlabel(params[i1].label + \" \" + unit,fontsize=FS)\n",
    "    for label in ax.get_yticklabels():\n",
    "        label.set_fontsize(FS-2)\n",
    "    for label in ax.get_xticklabels():\n",
    "        label.set_fontsize(FS-2)\n",
    "    \n",
    "\n",
    "def plot_fisher_two(params,name1,name2,fishermat,ax,fc,lw,ls,lc,fact_axis,plot_2s=True, units=['','']) :\n",
    "    sig0_max=0\n",
    "    sig1_max=0\n",
    "    i1=find_param(params,name1)\n",
    "    i2=find_param(params,name2)\n",
    "    for i in np.arange(len(fishermat)) :\n",
    "        covar_full=np.linalg.inv(fishermat[i])\n",
    "        covar=np.zeros([2,2])\n",
    "        covar[0,0]=covar_full[i1,i1]\n",
    "        covar[0,1]=covar_full[i1,i2]\n",
    "        covar[1,0]=covar_full[i2,i1]\n",
    "        covar[1,1]=covar_full[i2,i2]\n",
    "        sig0=np.sqrt(covar[0,0])\n",
    "        sig1=np.sqrt(covar[1,1])\n",
    "\n",
    "        if sig0>=sig0_max :\n",
    "            sig0_max=sig0\n",
    "        if sig1>=sig1_max :\n",
    "            sig1_max=sig1\n",
    "\n",
    "        w,v=np.linalg.eigh(covar)\n",
    "        angle=180*np.arctan2(v[1,0],v[0,0])/np.pi\n",
    "        a_1s=np.sqrt(2.3*w[0])\n",
    "        b_1s=np.sqrt(2.3*w[1])\n",
    "        a_2s=np.sqrt(6.17*w[0])\n",
    "        b_2s=np.sqrt(6.17*w[1])\n",
    "\n",
    "        centre=np.array([params[i1].val,params[i2].val])\n",
    "\n",
    "        e_1s=Ellipse(xy=centre,width=2*a_1s,height=2*b_1s,angle=angle,\n",
    "                     # facecolor=fc[i],linewidth=lw[i],linestyle=\"solid\",edgecolor=lc[i])\n",
    "                    facecolor=fc[i],linewidth=lw[i],linestyle=ls[i],edgecolor=lc[i])\n",
    "        e_2s=Ellipse(xy=centre,width=2*a_2s,height=2*b_2s,angle=angle,\n",
    "                     facecolor=fc[i],linewidth=lw[i]/2.,linestyle=\"dashed\",edgecolor=lc[i])\n",
    "                    # facecolor=fc[i],linewidth=lw[i],linestyle=ls[i],edgecolor=lc[i])\n",
    "\n",
    "        if plot_2s:\n",
    "            ax.add_artist(e_2s)\n",
    "        ax.add_artist(e_1s)\n",
    "        ax.set_xlim([params[i1].val-fact_axis*sig0_max,\n",
    "                     params[i1].val+fact_axis*sig0_max])\n",
    "        ax.set_ylim([params[i2].val-fact_axis*sig1_max,\n",
    "                     params[i2].val+fact_axis*sig1_max])\n",
    "        ax.set_xlabel(params[i1].label + ' ' + units[0],fontsize=FS)\n",
    "        ax.set_ylabel(params[i2].label + ' ' + units[1],fontsize=FS)\n",
    "    for label in ax.get_yticklabels():\n",
    "        label.set_fontsize(FS-2)\n",
    "    for label in ax.get_xticklabels():\n",
    "        label.set_fontsize(FS-2)\n",
    "\n",
    "def plot_fisher_all(params, #Parameters in the FMs\n",
    "                    fishermat, #FMs to plot\n",
    "                    fc,lw,ls,lc, #Foreground colors, line widths, line styles and line colours for each FM\n",
    "                    labels, #Labels for each FM\n",
    "                    fact_axis, #The x and y axes will be fact_axis x error in each parameter\n",
    "                    fname) : #File to save the plot\n",
    "    index_plot=np.where(np.array([p.do_plot for p in params]))\n",
    "    n_params=len(index_plot[0])\n",
    "    param_plot=params[index_plot]\n",
    "\n",
    "    fig=plt.figure(figsize=(10,9))\n",
    "    plt.subplots_adjust(hspace=0,wspace=0)\n",
    "    for i in np.arange(n_params) : #Plot pdfs and ellipses\n",
    "        i_col=i\n",
    "        for j in np.arange(n_params-i)+i :\n",
    "            i_row=j\n",
    "            iplot=i_col+n_params*i_row+1\n",
    "\n",
    "            ax=fig.add_subplot(n_params,n_params,iplot)\n",
    "            if i==j :\n",
    "                plot_fisher_single(params,param_plot[i].name,fishermat,\n",
    "                                   ax,fc,lw,ls,lc,fact_axis)\n",
    "            else :\n",
    "                plot_fisher_two(params,param_plot[i].name,param_plot[j].name,\n",
    "                                fishermat,ax,fc,lw,ls,lc,fact_axis)\n",
    "\n",
    "            if i_row!=n_params-1 :\n",
    "                ax.get_xaxis().set_visible(False)\n",
    "\n",
    "            if i_col!=0 :\n",
    "                ax.get_yaxis().set_visible(False)\n",
    "\n",
    "            if i_col==0 and i_row==0 :\n",
    "                ax.get_yaxis().set_visible(False)\n",
    "                \n",
    "            ax.locator_params(nbins=6)\n",
    "\n",
    "    if n_params>1 : #Add labels in a separate plot\n",
    "        ax=fig.add_subplot(n_params,n_params,2)\n",
    "        ax.set_xlim([-1,1])\n",
    "        ax.set_ylim([-1,1])\n",
    "        for i in np.arange(len(labels)) :\n",
    "            ax.plot([-1,1],[-3,-3],color=lc[i],linestyle=ls[i],\n",
    "                    linewidth=lw[i],label=labels[i])\n",
    "        ax.legend(loc='upper left',frameon=False,fontsize=FS)\n",
    "        ax.axis('off')\n",
    "\n",
    "    if fname!=\"none\" :\n",
    "        plt.savefig(fname,bbox_inches='tight')\n",
    "\n",
    "    plt.show()\n"
   ]
  },
  {
   "cell_type": "code",
   "execution_count": null,
   "metadata": {},
   "outputs": [],
   "source": []
  },
  {
   "cell_type": "code",
   "execution_count": null,
   "metadata": {},
   "outputs": [],
   "source": []
  },
  {
   "cell_type": "code",
   "execution_count": 6,
   "metadata": {},
   "outputs": [
    {
     "name": "stdout",
     "output_type": "stream",
     "text": [
      "ok\n"
     ]
    }
   ],
   "source": [
    "# pare this down to the 2d version that I want to use\n",
    "from matplotlib.patches import Ellipse\n",
    "\n",
    "nCosParams = 9 # 6 LCDM + Mnu + w0 + wa\n",
    "paramList = ['ombh2','omch2','cosmomc_theta',  'As', 'ns','tau','mnu', 'w', 'wa']\n",
    "paramVals = [0.02226,0.1193 ,1.04087e-2   ,2.130e-9,0.9653,0.063,0.06,-0.95,0.0 ]\n",
    "deltaP =    [ 0.0008, 0.0030,      0.0050e-2,0.1e-9,0.010,0.020,0.020,0.05,0.010] #mnu one in eV\n",
    "\n",
    "\n",
    "#def plot_fisher_two(params,name1,name2,fishermat,ax,fc,lw,ls,lc,fact_axis,plot_2s=True, units=['','']) :\n",
    "def plot_fisher_two(paramIndex1,label1,paramIndex2,label2,paramVals,fishermat,ax,fc,lw,ls,lc,eLabels,fact_axis,fact_axis2,\n",
    "                    plot_2s=True, units=['',''],FS=16,fill=False,handles=[]) :\n",
    "    \"\"\"\n",
    "    Inputs:\n",
    "        paramIndex1,paramIndex2: indices for the two parameters to use from fishermat\n",
    "        label1,label2: xlabel,ylabel\n",
    "        paramVals: fiducial values of the parameters\n",
    "        fishermat: FMs to plot [list]\n",
    "        fc,lw,ls,lc: Foreground colors, line widths, line styles and line colours for each FM [list]\n",
    "        eLabels: labels for each ellipse [list]\n",
    "        ##labels: Labels for each FM\n",
    "        fact_axis,fact_axis2: The x and y axis plotting limits will be fact_axis x error in each parameter\n",
    "        ##fname:  File to save the plot\n",
    "    \n",
    "        ax: from fig.add_subplot\n",
    "        plot_2s: set to true to plot 2sigma countour as well as 1sigma\n",
    "        units: units to put into axis labels\n",
    "        FS: font size for axis labels\n",
    "        fill: set to True to fill ellipses.  Default: False\n",
    "        handles: for returning a list of handles for use in legend\n",
    "    \n",
    "    \"\"\"\n",
    "    # chi-square values for dof=24:\n",
    "    # p-value = 0.3173: ~26.921  (found from linear interp. between p-val 0.025 at 28.241 and p-val 0.5 at 23.337)\n",
    "    # p-value = 0.05: 36.415\n",
    "    chisq1 = 26.921\n",
    "    chisq2 = 36.415\n",
    "    \n",
    "    # default values from github\n",
    "    chisq1 = 2.3\n",
    "    chisq2 = 6.17\n",
    "    \n",
    "    sig0_max=0\n",
    "    sig1_max=0\n",
    "    i1=paramIndex1 #find_param(params,name1)\n",
    "    i2=paramIndex2 #find_param(params,name2)\n",
    "    for i in np.arange(len(fishermat)) :\n",
    "        covar_full=np.linalg.inv(fishermat[i])\n",
    "        covar=np.zeros([2,2])\n",
    "        covar[0,0]=covar_full[i1,i1]\n",
    "        covar[0,1]=covar_full[i1,i2]\n",
    "        covar[1,0]=covar_full[i2,i1]\n",
    "        covar[1,1]=covar_full[i2,i2]\n",
    "        sig0=np.sqrt(covar[0,0])\n",
    "        sig1=np.sqrt(covar[1,1])\n",
    "\n",
    "        if sig0>=sig0_max :\n",
    "            sig0_max=sig0\n",
    "        if sig1>=sig1_max :\n",
    "            sig1_max=sig1\n",
    "\n",
    "        w,v=np.linalg.eigh(covar) # for a hermitian or symmetric matrix\n",
    "        angle=180*np.arctan2(v[1,0],v[0,0])/np.pi\n",
    "        a_1s=np.sqrt(chisq1*w[0])\n",
    "        b_1s=np.sqrt(chisq1*w[1])\n",
    "        a_2s=np.sqrt(chisq2*w[0])\n",
    "        b_2s=np.sqrt(chisq2*w[1])\n",
    "\n",
    "        #centre=np.array([params[i1].val,params[i2].val])\n",
    "        centre=np.array([paramVals[i1],paramVals[i2]])\n",
    "\n",
    "        e_1s=Ellipse(xy=centre,width=2*a_1s,height=2*b_1s,angle=angle,label=eLabels[i],\n",
    "                     #facecolor=fc[i],linewidth=lw[i],linestyle=\"solid\",edgecolor=lc[i],fill=fill)\n",
    "                     facecolor=fc[i],linewidth=lw[i],linestyle=ls[i],edgecolor=lc[i],fill=fill)\n",
    "        e_2s=Ellipse(xy=centre,width=2*a_2s,height=2*b_2s,angle=angle, #label=eLabels[i],\n",
    "                     #facecolor=fc[i],linewidth=lw[i]/2.,linestyle=\"dashed\",edgecolor=lc[i],fill=fill)\n",
    "                     facecolor=fc[i],linewidth=lw[i],linestyle=ls[i],edgecolor=lc[i],fill=fill)\n",
    "\n",
    "        if plot_2s:\n",
    "            ax.add_artist(e_2s)\n",
    "            handles.append(e_2s)\n",
    "        ax.add_artist(e_1s)\n",
    "        handles.append(e_1s)\n",
    "        #ax.set_xlim([params[i1].val-fact_axis*sig0_max,\n",
    "        #             params[i1].val+fact_axis*sig0_max])\n",
    "        #ax.set_ylim([params[i2].val-fact_axis*sig1_max,\n",
    "        #             params[i2].val+fact_axis*sig1_max])\n",
    "        #ax.set_xlabel(params[i1].label + ' ' + units[0],fontsize=FS)\n",
    "        #ax.set_ylabel(params[i2].label + ' ' + units[1],fontsize=FS)\n",
    "        ax.set_xlim([paramVals[i1]-fact_axis*sig0_max,\n",
    "                     paramVals[i1]+fact_axis*sig0_max])\n",
    "        ax.set_ylim([paramVals[i2]-fact_axis2*sig1_max,\n",
    "                     paramVals[i2]+fact_axis2*sig1_max])\n",
    "        ax.set_xlabel(label1 + ' ' + units[0],fontsize=FS)\n",
    "        ax.set_ylabel(label2 + ' ' + units[1],fontsize=FS)\n",
    "    for label in ax.get_yticklabels():\n",
    "        label.set_fontsize(FS-2)\n",
    "    for label in ax.get_xticklabels():\n",
    "        label.set_fontsize(FS-2)\n",
    "        \n",
    "        \n",
    "print 'ok'        "
   ]
  },
  {
   "cell_type": "code",
   "execution_count": null,
   "metadata": {},
   "outputs": [],
   "source": []
  },
  {
   "cell_type": "code",
   "execution_count": null,
   "metadata": {},
   "outputs": [],
   "source": []
  },
  {
   "cell_type": "code",
   "execution_count": null,
   "metadata": {},
   "outputs": [],
   "source": []
  },
  {
   "cell_type": "code",
   "execution_count": 7,
   "metadata": {},
   "outputs": [
    {
     "name": "stdout",
     "output_type": "stream",
     "text": [
      "done.\n"
     ]
    }
   ],
   "source": [
    "# for the fixed-mnu version\n",
    "paramList2 = np.delete(paramList,mnuIndex)\n",
    "paramVals2 = np.delete(paramVals,mnuIndex)\n",
    "deltaP2    = np.delete(deltaP,   mnuIndex)\n",
    "\n",
    "print 'done.'"
   ]
  },
  {
   "cell_type": "code",
   "execution_count": null,
   "metadata": {},
   "outputs": [],
   "source": []
  },
  {
   "cell_type": "code",
   "execution_count": null,
   "metadata": {},
   "outputs": [],
   "source": []
  },
  {
   "cell_type": "code",
   "execution_count": 8,
   "metadata": {},
   "outputs": [
    {
     "name": "stdout",
     "output_type": "stream",
     "text": [
      "done.\n"
     ]
    }
   ],
   "source": [
    "# set up some test arrays to use with this\n",
    "fishermat_lin = [Fij_gold_lin_k1,Fij_gold_lin_k2,Fij_opti_lin_k1,Fij_opti_lin_k2]\n",
    "fishermat_nln = [Fij_gold_nln_k1,Fij_gold_nln_k2,Fij_opti_nln_k1,Fij_opti_nln_k2]\n",
    "fishermat_gold = [Fij_gold_lin_k1,Fij_gold_lin_k2,Fij_gold_nln_k1,Fij_gold_nln_k2]\n",
    "fishermat_opti = [Fij_opti_lin_k1,Fij_opti_lin_k2,Fij_opti_nln_k1,Fij_opti_nln_k2]\n",
    "fishermat_k1 = [Fij_gold_lin_k1,Fij_opti_lin_k1,Fij_gold_nln_k1,Fij_opti_nln_k1]\n",
    "fishermat_k2 = [Fij_gold_lin_k2,Fij_opti_lin_k2,Fij_gold_nln_k2,Fij_opti_nln_k2]\n",
    "\n",
    "# set colors, etc.\n",
    "#fc = [None,None,None,None]\n",
    "fc = ['b','c','r','y']\n",
    "lw = [2,2,2,2]\n",
    "ls = ['-','-','--','--']\n",
    "lc = ['b','g','c','y']\n",
    "eLabels = ['t','e','s','t']\n",
    "\n",
    "paramIndex1 = 7; label1 = 'w0'\n",
    "paramIndex2 = 8; label2 = 'wa'\n",
    "\n",
    "\n",
    "\n",
    "print 'done.'"
   ]
  },
  {
   "cell_type": "code",
   "execution_count": null,
   "metadata": {},
   "outputs": [],
   "source": []
  },
  {
   "cell_type": "code",
   "execution_count": null,
   "metadata": {},
   "outputs": [],
   "source": []
  },
  {
   "cell_type": "code",
   "execution_count": null,
   "metadata": {},
   "outputs": [],
   "source": []
  },
  {
   "cell_type": "code",
   "execution_count": null,
   "metadata": {},
   "outputs": [],
   "source": []
  },
  {
   "cell_type": "code",
   "execution_count": null,
   "metadata": {},
   "outputs": [],
   "source": []
  },
  {
   "cell_type": "code",
   "execution_count": 9,
   "metadata": {},
   "outputs": [
    {
     "data": {
      "image/png": "[encoded data removed]",
      "text/plain": [
       "<Figure size 432x288 with 1 Axes>"
      ]
     },
     "metadata": {},
     "output_type": "display_data"
    }
   ],
   "source": [
    "# try it\n",
    "\n",
    "# call subplot with just one plot\n",
    "fig, ax = plt.subplots()  \n",
    "fact_axis = 2\n",
    "#plot_2s = True\n",
    "plot_2s = False\n",
    "fishermat = fishermat_nln\n",
    "paramIndex1 = 7; label1 = 'w0'\n",
    "paramIndex2 = 8; label2 = 'wa'\n",
    "handles = []\n",
    "\n",
    "plot_fisher_two(paramIndex1,label1,paramIndex2,label2,paramVals,fishermat,ax,fc,lw,ls,lc,eLabels,fact_axis,fact_axis,\n",
    "                    plot_2s=plot_2s, units=['',''],FS=16,handles=handles)\n",
    "ax.legend(handles=handles)\n",
    "plt.show()"
   ]
  },
  {
   "cell_type": "code",
   "execution_count": null,
   "metadata": {},
   "outputs": [],
   "source": []
  },
  {
   "cell_type": "code",
   "execution_count": null,
   "metadata": {},
   "outputs": [],
   "source": []
  },
  {
   "cell_type": "code",
   "execution_count": null,
   "metadata": {},
   "outputs": [],
   "source": []
  },
  {
   "cell_type": "code",
   "execution_count": null,
   "metadata": {},
   "outputs": [],
   "source": []
  },
  {
   "cell_type": "code",
   "execution_count": null,
   "metadata": {},
   "outputs": [],
   "source": []
  },
  {
   "cell_type": "code",
   "execution_count": null,
   "metadata": {},
   "outputs": [],
   "source": []
  },
  {
   "cell_type": "code",
   "execution_count": null,
   "metadata": {},
   "outputs": [],
   "source": []
  },
  {
   "cell_type": "code",
   "execution_count": null,
   "metadata": {},
   "outputs": [],
   "source": []
  },
  {
   "cell_type": "code",
   "execution_count": 10,
   "metadata": {},
   "outputs": [
    {
     "name": "stdout",
     "output_type": "stream",
     "text": [
      "ok\n"
     ]
    }
   ],
   "source": [
    "# plot error ellipse from Tony's paper\n",
    "\n",
    "tony_data = np.genfromtxt('LSST 1sigma w0wa.csv', delimiter=',')\n",
    "tony_data_3x2pt = np.genfromtxt('LSST 1sigma w0wa 3x2pt.csv', delimiter=',')\n",
    "print 'ok'"
   ]
  },
  {
   "cell_type": "code",
   "execution_count": 11,
   "metadata": {
    "scrolled": true
   },
   "outputs": [
    {
     "name": "stdout",
     "output_type": "stream",
     "text": [
      "[[-1.21165049  0.49709302]\n",
      " [-1.21035599  0.50290698]\n",
      " [-1.20647249  0.50290698]\n",
      " [-1.2012945   0.5       ]\n",
      " [-1.19093851  0.48546512]\n",
      " [-1.17928803  0.46802326]\n",
      " [-1.15469256  0.4244186 ]\n",
      " [-1.12491909  0.36627907]\n",
      " [-1.08867314  0.2877907 ]\n",
      " [-1.06537217  0.23837209]\n",
      " [-1.0394822   0.18023256]\n",
      " [-1.01229773  0.11918605]\n",
      " [-0.96957929  0.01744186]\n",
      " [-0.93462783 -0.06686047]\n",
      " [-0.89449838 -0.16860465]\n",
      " [-0.85954693 -0.26162791]\n",
      " [-0.83365696 -0.33430233]\n",
      " [-0.81423948 -0.39244186]\n",
      " [-0.8038835  -0.4244186 ]\n",
      " [-0.797411   -0.44767442]\n",
      " [-0.79223301 -0.47093023]\n",
      " [-0.78964401 -0.49127907]\n",
      " [-0.79093851 -0.5       ]\n",
      " [-0.797411   -0.5       ]\n",
      " [-0.80906149 -0.48546512]\n",
      " [-0.81812298 -0.47093023]\n",
      " [-0.83883495 -0.43604651]\n",
      " [-0.86860841 -0.37790698]\n",
      " [-0.89838188 -0.31686047]\n",
      " [-0.94498382 -0.21511628]\n",
      " [-0.98252427 -0.13081395]\n",
      " [-1.01488673 -0.05523256]\n",
      " [-1.04724919  0.02325581]\n",
      " [-1.07572816  0.09302326]\n",
      " [-1.10938511  0.18023256]\n",
      " [-1.14304207  0.26744186]\n",
      " [-1.17152104  0.34883721]\n",
      " [-1.18576052  0.39244186]\n",
      " [-1.197411    0.43023256]\n",
      " [-1.20517799  0.45930233]\n",
      " [-1.20906149  0.47674419]\n",
      " [-1.21165049  0.48837209]\n",
      " [-1.21165049  0.49709302]]\n",
      "[[-1.08844221  0.21493213]\n",
      " [-1.08844221  0.21945701]\n",
      " [-1.08844221  0.2239819 ]\n",
      " [-1.08542714  0.2239819 ]\n",
      " [-1.08241206  0.22171946]\n",
      " [-1.07839196  0.21719457]\n",
      " [-1.07236181  0.2081448 ]\n",
      " [-1.06633166  0.19909502]\n",
      " [-1.05628141  0.17873303]\n",
      " [-1.03718593  0.13800905]\n",
      " [-1.0241206   0.10633484]\n",
      " [-1.00502513  0.06334842]\n",
      " [-0.98894472  0.02262443]\n",
      " [-0.9718593  -0.02262443]\n",
      " [-0.95778894 -0.06108597]\n",
      " [-0.94773869 -0.09049774]\n",
      " [-0.93668342 -0.12217195]\n",
      " [-0.92663317 -0.1561086 ]\n",
      " [-0.92160804 -0.1719457 ]\n",
      " [-0.91758794 -0.18778281]\n",
      " [-0.91457286 -0.20135747]\n",
      " [-0.91256281 -0.21266968]\n",
      " [-0.91256281 -0.21945701]\n",
      " [-0.91256281 -0.2239819 ]\n",
      " [-0.91557789 -0.2239819 ]\n",
      " [-0.91959799 -0.21945701]\n",
      " [-0.92562814 -0.21040724]\n",
      " [-0.93266332 -0.19909502]\n",
      " [-0.93969849 -0.18552036]\n",
      " [-0.94974874 -0.16515837]\n",
      " [-0.95979899 -0.14253394]\n",
      " [-0.9718593  -0.11764706]\n",
      " [-0.98592965 -0.08371041]\n",
      " [-0.99899497 -0.0520362 ]\n",
      " [-1.01005025 -0.02488688]\n",
      " [-1.01909548  0.        ]\n",
      " [-1.03015075  0.02941176]\n",
      " [-1.04120603  0.05882353]\n",
      " [-1.05226131  0.08823529]\n",
      " [-1.06130653  0.11764706]\n",
      " [-1.07135678  0.14705882]\n",
      " [-1.07939698  0.17420814]\n",
      " [-1.08241206  0.18778281]\n",
      " [-1.08542714  0.19909502]\n",
      " [-1.08743719  0.2081448 ]\n",
      " [-1.08844221  0.21493213]]\n"
     ]
    }
   ],
   "source": [
    "# tack the first entry on to the end\n",
    "tony_data = np.append(tony_data,[tony_data[0]],axis=0)\n",
    "tony_data_3x2pt = np.append(tony_data_3x2pt,[tony_data_3x2pt[0]],axis=0)\n",
    "\n",
    "print tony_data\n",
    "print tony_data_3x2pt"
   ]
  },
  {
   "cell_type": "code",
   "execution_count": 12,
   "metadata": {},
   "outputs": [
    {
     "data": {
      "image/png": "[encoded data removed]",
      "text/plain": [
       "<Figure size 432x288 with 1 Axes>"
      ]
     },
     "metadata": {},
     "output_type": "display_data"
    }
   ],
   "source": [
    "plt.plot(tony_data[:,0],tony_data[:,1])\n",
    "plt.plot(tony_data_3x2pt[:,0],tony_data_3x2pt[:,1])\n",
    "\n",
    "plt.show()"
   ]
  },
  {
   "cell_type": "code",
   "execution_count": null,
   "metadata": {},
   "outputs": [],
   "source": []
  },
  {
   "cell_type": "code",
   "execution_count": 13,
   "metadata": {},
   "outputs": [
    {
     "data": {
      "image/png": "[encoded data removed]",
      "text/plain": [
       "<Figure size 432x288 with 1 Axes>"
      ]
     },
     "metadata": {},
     "output_type": "display_data"
    }
   ],
   "source": [
    "# try it\n",
    "\n",
    "# call subplot with just one plot\n",
    "fig, ax = plt.subplots()  \n",
    "fact_axis = 2\n",
    "#plot_2s = True\n",
    "plot_2s = False\n",
    "#fishermat = fishermat_nln\n",
    "fishermat = [Fij_gold_nln_k2,Fij_opti_nln_k2] # nln k2\n",
    "paramIndex1 = 7; label1 = 'w0'\n",
    "paramIndex2 = 8; label2 = 'wa'\n",
    "eLabels[0] = 'Gold'\n",
    "eLabels[1] = 'Optimistic'\n",
    "handles=[]\n",
    "\n",
    "plot_fisher_two(paramIndex1,label1,paramIndex2,label2,paramVals,fishermat,ax,fc,lw,ls,lc,eLabels,fact_axis,fact_axis,\n",
    "                    plot_2s=plot_2s, units=['',''],FS=16,handles=handles)\n",
    "thandle, = ax.plot(tony_data[:,0],tony_data[:,1],linewidth=2,color='r',label='LSST WL') \n",
    "thandle2, = ax.plot(tony_data_3x2pt[:,0],tony_data_3x2pt[:,1],linewidth=1,color='r',label='LSST WL+BAO') \n",
    "# the handle doesn't work without the comma\n",
    "handles.append(thandle)\n",
    "handles.append(thandle2)\n",
    "ax.legend(handles=handles)\n",
    "plt.title(r'$1\\sigma$ error for nonlinear $P(k)$, $k_{max} = 0.3 h/$Mpc')\n",
    "plt.show()"
   ]
  },
  {
   "cell_type": "code",
   "execution_count": null,
   "metadata": {},
   "outputs": [],
   "source": []
  },
  {
   "cell_type": "code",
   "execution_count": null,
   "metadata": {},
   "outputs": [],
   "source": []
  },
  {
   "cell_type": "code",
   "execution_count": 20,
   "metadata": {},
   "outputs": [],
   "source": [
    "# try it\n",
    "# now with better line widths, colors\n",
    "%matplotlib qt\n",
    "#%matplotlib inline\n",
    "\n",
    "# set colors, etc.\n",
    "#fc = ['b','g','c','y']\n",
    "lw = [2,2,2,2]\n",
    "ls = ['-.','-','--','--']\n",
    "lc = ['b','g','c','y']\n",
    "eLabels = ['t','e','s','t']\n",
    "\n",
    "\n",
    "# call subplot with just one plot\n",
    "fig, ax = plt.subplots()  \n",
    "fact_axis = 2\n",
    "#plot_2s = True\n",
    "plot_2s = False\n",
    "#fishermat = fishermat_nln\n",
    "fishermat = [Fij_gold_nln_k2,Fij_opti_nln_k2] # nln k2\n",
    "paramIndex1 = 7; label1 = r'$w_0$'\n",
    "paramIndex2 = 8; label2 = r'$w_a$'\n",
    "eLabels[0] = r'Gold $\\kappa g$'\n",
    "eLabels[1] = r'Optimistic $\\kappa g$'\n",
    "handles=[]\n",
    "\n",
    "plot_fisher_two(paramIndex1,label1,paramIndex2,label2,paramVals,fishermat,ax,fc,lw,ls,lc,eLabels,fact_axis,fact_axis,\n",
    "                    plot_2s=plot_2s, units=['',''],FS=16,handles=handles)\n",
    "thandle, = ax.plot(tony_data[:,0],tony_data[:,1],linewidth=1,color='r',label='LSST WL',linestyle='-') \n",
    "thandle2, = ax.plot(tony_data_3x2pt[:,0],tony_data_3x2pt[:,1],linewidth=2,color='k',label='LSST WL+BAO',linestyle='--') \n",
    "# the handle doesn't work without the comma\n",
    "handles.append(thandle)\n",
    "handles.append(thandle2)\n",
    "ax.legend(handles=handles)\n",
    "plt.title(r'$1\\sigma$ error for nonlinear $P(k)$, $k_{max} = 0.3 h/$Mpc',fontsize=15)\n",
    "plt.show()"
   ]
  },
  {
   "cell_type": "code",
   "execution_count": null,
   "metadata": {},
   "outputs": [],
   "source": []
  },
  {
   "cell_type": "code",
   "execution_count": null,
   "metadata": {},
   "outputs": [],
   "source": []
  },
  {
   "cell_type": "code",
   "execution_count": null,
   "metadata": {},
   "outputs": [],
   "source": []
  },
  {
   "cell_type": "code",
   "execution_count": null,
   "metadata": {},
   "outputs": [],
   "source": []
  },
  {
   "cell_type": "code",
   "execution_count": null,
   "metadata": {},
   "outputs": [],
   "source": []
  },
  {
   "cell_type": "code",
   "execution_count": null,
   "metadata": {},
   "outputs": [],
   "source": []
  },
  {
   "cell_type": "code",
   "execution_count": null,
   "metadata": {},
   "outputs": [],
   "source": []
  },
  {
   "cell_type": "code",
   "execution_count": 15,
   "metadata": {},
   "outputs": [
    {
     "data": {
      "image/png": "[encoded data removed]",
      "text/plain": [
       "<Figure size 432x288 with 1 Axes>"
      ]
     },
     "metadata": {},
     "output_type": "display_data"
    }
   ],
   "source": [
    "# try it\n",
    "\n",
    "# call subplot with just one plot\n",
    "fig, ax = plt.subplots()  \n",
    "fact_axis = 2\n",
    "#plot_2s = True\n",
    "plot_2s = False\n",
    "#fishermat = fishermat_nln\n",
    "fishermat = [Fij_gold_nln_k2,Fij_opti_nln_k2,Fij_gold_nln_k1,Fij_opti_nln_k1] # nln k2,k1\n",
    "paramIndex1 = 7; label1 = 'w0'\n",
    "paramIndex2 = 8; label2 = 'wa'\n",
    "eLabels[0] = 'Gold kmax = 0.30'\n",
    "eLabels[1] = 'Opti kmax = 0.30'\n",
    "eLabels[2] = 'Gold kmax = 0.15'\n",
    "eLabels[3] = 'Opti kmax = 0.15'\n",
    "handles=[]\n",
    "\n",
    "plot_fisher_two(paramIndex1,label1,paramIndex2,label2,paramVals,fishermat,ax,fc,lw,ls,lc,eLabels,fact_axis,fact_axis,\n",
    "                    plot_2s=plot_2s, units=['',''],FS=16,handles=handles)\n",
    "thandle, = ax.plot(tony_data[:,0],tony_data[:,1],linewidth=2,color='r',label='LSST WL') \n",
    "# the handle doesn't work without the comma\n",
    "handles.append(thandle)\n",
    "ax.legend(handles=handles)\n",
    "plt.title(r'$1\\sigma$ error for nonlinear $P(k)$')\n",
    "plt.show()"
   ]
  },
  {
   "cell_type": "code",
   "execution_count": null,
   "metadata": {},
   "outputs": [],
   "source": []
  },
  {
   "cell_type": "code",
   "execution_count": null,
   "metadata": {},
   "outputs": [],
   "source": []
  },
  {
   "cell_type": "code",
   "execution_count": null,
   "metadata": {},
   "outputs": [],
   "source": []
  },
  {
   "cell_type": "code",
   "execution_count": 16,
   "metadata": {},
   "outputs": [
    {
     "ename": "TypeError",
     "evalue": "plot_fisher_two() takes at least 14 arguments (16 given)",
     "output_type": "error",
     "traceback": [
      "\u001b[0;31m---------------------------------------------------------------------------\u001b[0m",
      "\u001b[0;31mTypeError\u001b[0m                                 Traceback (most recent call last)",
      "\u001b[0;32m<ipython-input-16-9a66e1f426c3>\u001b[0m in \u001b[0;36m<module>\u001b[0;34m()\u001b[0m\n\u001b[1;32m     13\u001b[0m \u001b[0;34m\u001b[0m\u001b[0m\n\u001b[1;32m     14\u001b[0m plot_fisher_two(paramIndex1,label1,paramIndex2,label2,paramVals2,fishermat,ax,fc,lw,ls,lc,fact_axis,fact_axis,\n\u001b[0;32m---> 15\u001b[0;31m                     plot_2s=plot_2s, units=['',''],FS=16)\n\u001b[0m\u001b[1;32m     16\u001b[0m \u001b[0mplt\u001b[0m\u001b[0;34m.\u001b[0m\u001b[0mplot\u001b[0m\u001b[0;34m(\u001b[0m\u001b[0mtony_data\u001b[0m\u001b[0;34m[\u001b[0m\u001b[0;34m:\u001b[0m\u001b[0;34m,\u001b[0m\u001b[0;36m0\u001b[0m\u001b[0;34m]\u001b[0m\u001b[0;34m,\u001b[0m\u001b[0mtony_data\u001b[0m\u001b[0;34m[\u001b[0m\u001b[0;34m:\u001b[0m\u001b[0;34m,\u001b[0m\u001b[0;36m1\u001b[0m\u001b[0;34m]\u001b[0m\u001b[0;34m,\u001b[0m\u001b[0mlinewidth\u001b[0m\u001b[0;34m=\u001b[0m\u001b[0;36m2\u001b[0m\u001b[0;34m,\u001b[0m\u001b[0mcolor\u001b[0m\u001b[0;34m=\u001b[0m\u001b[0;34m'r'\u001b[0m\u001b[0;34m)\u001b[0m\u001b[0;34m\u001b[0m\u001b[0m\n\u001b[1;32m     17\u001b[0m \u001b[0mplt\u001b[0m\u001b[0;34m.\u001b[0m\u001b[0mshow\u001b[0m\u001b[0;34m(\u001b[0m\u001b[0;34m)\u001b[0m\u001b[0;34m\u001b[0m\u001b[0m\n",
      "\u001b[0;31mTypeError\u001b[0m: plot_fisher_two() takes at least 14 arguments (16 given)"
     ]
    },
    {
     "data": {
      "image/png": "[encoded data removed]",
      "text/plain": [
       "<Figure size 432x288 with 1 Axes>"
      ]
     },
     "metadata": {},
     "output_type": "display_data"
    }
   ],
   "source": [
    "# now with fixed mnu\n",
    "\n",
    "# call subplot with just one plot\n",
    "fig, ax = plt.subplots()  \n",
    "fact_axis = 2.3\n",
    "#fact_axis2= 60\n",
    "#plot_2s = True\n",
    "plot_2s = False\n",
    "#fishermat = fishermat_nln\n",
    "fishermat = [Fij_gold_nln_k2_nmn,Fij_opti_nln_k2_nmn] # nln k2 _nmn\n",
    "paramIndex1 = 6; label1 = 'w0'\n",
    "paramIndex2 = 7; label2 = 'wa'\n",
    "\n",
    "plot_fisher_two(paramIndex1,label1,paramIndex2,label2,paramVals2,fishermat,ax,fc,lw,ls,lc,fact_axis,fact_axis,\n",
    "                    plot_2s=plot_2s, units=['',''],FS=16)\n",
    "plt.plot(tony_data[:,0],tony_data[:,1],linewidth=2,color='r')\n",
    "plt.show()"
   ]
  },
  {
   "cell_type": "code",
   "execution_count": null,
   "metadata": {},
   "outputs": [],
   "source": []
  },
  {
   "cell_type": "code",
   "execution_count": null,
   "metadata": {},
   "outputs": [],
   "source": []
  }
 ],
 "metadata": {
  "kernelspec": {
   "display_name": "Python 2",
   "language": "python",
   "name": "python2"
  },
  "language_info": {
   "codemirror_mode": {
    "name": "ipython",
    "version": 2
   },
   "file_extension": ".py",
   "mimetype": "text/x-python",
   "name": "python",
   "nbconvert_exporter": "python",
   "pygments_lexer": "ipython2",
   "version": "2.7.15"
  }
 },
 "nbformat": 4,
 "nbformat_minor": 2
}
