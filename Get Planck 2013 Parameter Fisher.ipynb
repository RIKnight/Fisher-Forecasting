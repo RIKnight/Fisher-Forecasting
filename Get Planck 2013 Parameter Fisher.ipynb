{
 "cells": [
  {
   "cell_type": "markdown",
   "metadata": {},
   "source": [
    "# Get Planck MCMC parameter Covariance Matrices and Process into Fisher matrices"
   ]
  },
  {
   "cell_type": "code",
   "execution_count": 44,
   "metadata": {},
   "outputs": [
    {
     "name": "stdout",
     "output_type": "stream",
     "text": [
      "[' omegabh2\\t\\\\Omega_b h^2\\n', ' omegach2\\t\\\\Omega_c h^2\\n', ' theta\\t100\\\\theta_{MC}\\n', ' tau\\t\\\\tau\\n', ' ns\\tn_s\\n', ' logA\\t{\\\\rm{ln}}(10^{10} A_s)\\n', ' aps100\\tA^{PS}_{100}\\n', ' aps143\\tA^{PS}_{143}\\n', ' aps217\\tA^{PS}_{217}\\n', ' acib143\\tA^{CIB}_{143}\\n', ' acib217\\tA^{CIB}_{217}\\n', ' asz143\\tA^{tSZ}_{143}\\n', ' psr\\tr^{PS}_{143\\\\times217}\\n', ' cibr\\tr^{CIB}_{143\\\\times217}\\n', ' ncib\\t\\\\gamma^{CIB}\\n', ' cal0\\tc_{100}\\n', ' cal2\\tc_{217}\\n', ' xi\\t\\\\xi^{tSZ-CIB}\\n', ' aksz\\tA^{kSZ}\\n', ' bm_1_1\\t\\\\beta^1_1\\n', ' a_ps_act_148\\tA^{PS,ACT}_{148}\\n', ' a_ps_act_217\\tA^{PS,ACT}_{218}\\n', ' a_ps_spt_95\\tA^{PS,SPT}_{95}\\n', ' a_ps_spt_150\\tA^{PS,SPT}_{150}\\n', ' a_ps_spt_220\\tA^{PS,SPT}_{220}\\n', ' r_ps_spt_95x150\\tr^{PS}_{95\\\\times150}\\n', ' r_ps_spt_95x220\\tr^{PS}_{95\\\\times220}\\n', ' r_ps_150x220\\tr^{PS}_{150\\\\times220}\\n', ' act_dust_s\\tA^{ACTs}_{\\\\rm dust}\\n', ' act_dust_e\\tA^{ACTe}_{\\\\rm dust}\\n', ' cal_acts_148\\ty_{ACTs}^{148}\\n', ' cal_acts_217\\ty_{ACTs}^{217}\\n', ' cal_acte_148\\ty_{ACTe}^{148}\\n', ' cal_acte_217\\ty_{ACTe}^{217}\\n', ' cal_spt_95\\ty_{SPT}^{95}\\n', ' cal_spt_150\\ty_{SPT}^{150}\\n', ' cal_spt_220\\ty_{SPT}^{220}\\n', ' omegal*\\t\\\\Omega_\\\\Lambda\\n', ' omegam*\\t\\\\Omega_m\\n', ' sigma8*\\t\\\\sigma_8\\n', ' zrei*\\tz_{re}\\n', ' r10*\\tr_{10}\\n', ' H0*\\tH_0\\n', ' r02*\\tr\\n', ' A*\\t10^9 A_s\\n', ' omegamh2*\\t\\\\Omega_m h^2\\n', ' omegamh3*\\t\\\\Omega_m h^3\\n', ' yheused*\\tY_P\\n', ' clamp*\\t10^9 A_s e^{-2\\\\tau}\\n', ' omeganuh2*\\t\\\\Omega_\\\\nu h^2\\n', ' age*\\t{\\\\rm{Age}}/{\\\\rm{Gyr}}\\n', ' zstar*\\tz_*\\n', ' rstar*\\tr_*\\n', ' thetastar*\\t\\\\theta_*\\n', ' zdrag*\\tz_{\\\\rm{drag}}\\n', ' rdrag*\\tr_{\\\\rm{drag}}\\n', ' kd*\\tk_D\\n', ' thetad*\\t\\\\theta_D\\n', ' zeq*\\tz_{\\\\rm{eq}}\\n', ' thetaeq*\\t\\\\theta_{\\\\rm{eq}}\\n', ' rsDv057*\\tr_{\\\\rm{drag}}/D_V(0.57)\\n', ' H057*\\tH(0.57)\\n', ' DA057*\\tD_A(0.57)\\n']\n",
      "63\n",
      "line  0 :   omegabh2\t\\Omega_b h^2\n",
      "\n",
      "line  1 :   omegach2\t\\Omega_c h^2\n",
      "\n",
      "line  2 :   theta\t100\\theta_{MC}\n",
      "\n",
      "line  3 :   tau\t\\tau\n",
      "\n",
      "line  4 :   ns\tn_s\n",
      "\n",
      "line  5 :   logA\t{\\rm{ln}}(10^{10} A_s)\n",
      "\n",
      "line  6 :   aps100\tA^{PS}_{100}\n",
      "\n",
      "line  7 :   aps143\tA^{PS}_{143}\n",
      "\n",
      "line  8 :   aps217\tA^{PS}_{217}\n",
      "\n",
      "line  9 :   acib143\tA^{CIB}_{143}\n",
      "\n",
      "line  10 :   acib217\tA^{CIB}_{217}\n",
      "\n",
      "line  11 :   asz143\tA^{tSZ}_{143}\n",
      "\n",
      "line  12 :   psr\tr^{PS}_{143\\times217}\n",
      "\n",
      "line  13 :   cibr\tr^{CIB}_{143\\times217}\n",
      "\n",
      "line  14 :   ncib\t\\gamma^{CIB}\n",
      "\n",
      "line  15 :   cal0\tc_{100}\n",
      "\n",
      "line  16 :   cal2\tc_{217}\n",
      "\n",
      "line  17 :   xi\t\\xi^{tSZ-CIB}\n",
      "\n",
      "line  18 :   aksz\tA^{kSZ}\n",
      "\n",
      "line  19 :   bm_1_1\t\\beta^1_1\n",
      "\n",
      "line  20 :   a_ps_act_148\tA^{PS,ACT}_{148}\n",
      "\n",
      "line  21 :   a_ps_act_217\tA^{PS,ACT}_{218}\n",
      "\n",
      "line  22 :   a_ps_spt_95\tA^{PS,SPT}_{95}\n",
      "\n",
      "line  23 :   a_ps_spt_150\tA^{PS,SPT}_{150}\n",
      "\n",
      "line  24 :   a_ps_spt_220\tA^{PS,SPT}_{220}\n",
      "\n",
      "line  25 :   r_ps_spt_95x150\tr^{PS}_{95\\times150}\n",
      "\n",
      "line  26 :   r_ps_spt_95x220\tr^{PS}_{95\\times220}\n",
      "\n",
      "line  27 :   r_ps_150x220\tr^{PS}_{150\\times220}\n",
      "\n",
      "line  28 :   act_dust_s\tA^{ACTs}_{\\rm dust}\n",
      "\n",
      "line  29 :   act_dust_e\tA^{ACTe}_{\\rm dust}\n",
      "\n",
      "line  30 :   cal_acts_148\ty_{ACTs}^{148}\n",
      "\n",
      "line  31 :   cal_acts_217\ty_{ACTs}^{217}\n",
      "\n",
      "line  32 :   cal_acte_148\ty_{ACTe}^{148}\n",
      "\n",
      "line  33 :   cal_acte_217\ty_{ACTe}^{217}\n",
      "\n",
      "line  34 :   cal_spt_95\ty_{SPT}^{95}\n",
      "\n",
      "line  35 :   cal_spt_150\ty_{SPT}^{150}\n",
      "\n",
      "line  36 :   cal_spt_220\ty_{SPT}^{220}\n",
      "\n",
      "line  37 :   omegal*\t\\Omega_\\Lambda\n",
      "\n",
      "line  38 :   omegam*\t\\Omega_m\n",
      "\n",
      "line  39 :   sigma8*\t\\sigma_8\n",
      "\n",
      "line  40 :   zrei*\tz_{re}\n",
      "\n",
      "line  41 :   r10*\tr_{10}\n",
      "\n",
      "line  42 :   H0*\tH_0\n",
      "\n",
      "line  43 :   r02*\tr\n",
      "\n",
      "line  44 :   A*\t10^9 A_s\n",
      "\n",
      "line  45 :   omegamh2*\t\\Omega_m h^2\n",
      "\n",
      "line  46 :   omegamh3*\t\\Omega_m h^3\n",
      "\n",
      "line  47 :   yheused*\tY_P\n",
      "\n",
      "line  48 :   clamp*\t10^9 A_s e^{-2\\tau}\n",
      "\n",
      "line  49 :   omeganuh2*\t\\Omega_\\nu h^2\n",
      "\n",
      "line  50 :   age*\t{\\rm{Age}}/{\\rm{Gyr}}\n",
      "\n",
      "line  51 :   zstar*\tz_*\n",
      "\n",
      "line  52 :   rstar*\tr_*\n",
      "\n",
      "line  53 :   thetastar*\t\\theta_*\n",
      "\n",
      "line  54 :   zdrag*\tz_{\\rm{drag}}\n",
      "\n",
      "line  55 :   rdrag*\tr_{\\rm{drag}}\n",
      "\n",
      "line  56 :   kd*\tk_D\n",
      "\n",
      "line  57 :   thetad*\t\\theta_D\n",
      "\n",
      "line  58 :   zeq*\tz_{\\rm{eq}}\n",
      "\n",
      "line  59 :   thetaeq*\t\\theta_{\\rm{eq}}\n",
      "\n",
      "line  60 :   rsDv057*\tr_{\\rm{drag}}/D_V(0.57)\n",
      "\n",
      "line  61 :   H057*\tH(0.57)\n",
      "\n",
      "line  62 :   DA057*\tD_A(0.57)\n",
      "\n"
     ]
    }
   ],
   "source": [
    "# load the data\n",
    "planckDir = 'Planck_data/2013/'\n",
    "#covmatFile = 'base_planck_lowl_post_lensing.covmat'\n",
    "#cormatFile = 'base_planck_lowl_post_lensing.corr'\n",
    "#paramNamesFile = 'base_planck_lowl_post_lensing.paramnames'\n",
    "\n",
    "covmatFile = 'base_planck_lowl_lowLike_highL_post_lensing.covmat'\n",
    "cormatFile = 'base_planck_lowl_lowLike_highL_post_lensing.corr'\n",
    "paramNamesFile = 'base_planck_lowl_lowLike_highL_post_lensing.paramnames'\n",
    "\n",
    "# data from page:\n",
    "# https://wiki.cosmos.esa.int/planckpla/index.php/Cosmological_Parameters\n",
    "\n",
    "covmat = np.loadtxt(planckDir+covmatFile)\n",
    "cormat = np.loadtxt(planckDir+cormatFile)\n",
    "#paramNames = np.loadtxt(planckDir+paramNamesFile)\n",
    "\n",
    "text_file = open(planckDir+paramNamesFile, \"r\")\n",
    "lines = text_file.readlines()\n",
    "print lines\n",
    "print len(lines)\n",
    "text_file.close()\n",
    "\n",
    "for lineNum in range(len(lines)):\n",
    "    print 'line ',lineNum,': ',lines[lineNum]"
   ]
  },
  {
   "cell_type": "code",
   "execution_count": 45,
   "metadata": {},
   "outputs": [
    {
     "name": "stdout",
     "output_type": "stream",
     "text": [
      "covmat shape:  (37, 37)\n",
      "cormat shape:  (63, 63)\n",
      "covmat:  [' omegabh2\\t\\\\Omega_b h^2\\n', ' omegach2\\t\\\\Omega_c h^2\\n', ' theta\\t100\\\\theta_{MC}\\n', ' logA\\t{\\\\rm{ln}}(10^{10} A_s)\\n', ' ns\\tn_s\\n', ' tau\\t\\\\tau\\n']\n"
     ]
    }
   ],
   "source": [
    "# get indices of interest from the above output\n",
    "print 'covmat shape: ', covmat.shape\n",
    "print 'cormat shape: ', cormat.shape\n",
    "\n",
    "# covariance matrix is only 20x20.  If I use this then I'll have to use theta_mc instead of H0.\n",
    "selectIndices = [0,1,2,5,4,3] #covmat\n",
    "print 'covmat: ',[lines[si] for si in selectIndices]\n",
    "\n",
    "# correlation matrix is 46x46.  Too bad this isn't also a covariance matrix.\n",
    "#selectIndices = [0,1,25,27,4,3]  #cormat\n",
    "#print 'cormat: ',[lines[si] for si in selectIndices]\n"
   ]
  },
  {
   "cell_type": "code",
   "execution_count": null,
   "metadata": {},
   "outputs": [],
   "source": []
  },
  {
   "cell_type": "code",
   "execution_count": 46,
   "metadata": {},
   "outputs": [],
   "source": [
    "# can I get a jacobian to translate theta_mc to H0?\n",
    "# yes.  Use discrete derivative with CAMB.  \n",
    "# dtheta/dparams vector below from notebook \"Rebuild covar with noise\""
   ]
  },
  {
   "cell_type": "code",
   "execution_count": 57,
   "metadata": {},
   "outputs": [
    {
     "name": "stdout",
     "output_type": "stream",
     "text": [
      "[[ 1.          0.          0.          0.          0.          0.        ]\n",
      " [ 0.          1.          0.          0.          0.          0.        ]\n",
      " [-2.48333991  1.04570657  0.0029622   0.          0.          0.        ]\n",
      " [ 0.          0.          0.          1.          0.          0.        ]\n",
      " [ 0.          0.          0.          0.          1.          0.        ]\n",
      " [ 0.          0.          0.          0.          0.          1.        ]]\n"
     ]
    }
   ],
   "source": [
    "#dtheta/dparams\n",
    "nCosParams = 6\n",
    "paramList = ['ombh2','omch2','H0','As','ns','tau']\n",
    "dthetas = [-0.024833399132992862, 0.010457065703734872, 2.9621955038288544e-05, 0.0, 0.0, 0.0]\n",
    "\n",
    "# The only derivatives in the Jacobian are on the dtheta/dparam row.\n",
    "mcIndex = 2\n",
    "jacobian = np.diag(np.ones(nCosParams))\n",
    "jacobian[mcIndex,:] = dthetas#*100\n",
    "#jacobian[:,mcIndex] = dthetas#*100\n",
    "\n",
    "# multiply these all by d{100thetamc}/d{thetamc} = 100\n",
    "jacobian[mcIndex,:] *= 100\n",
    "#jacobian[:,mcIndex] *= 100\n",
    "\n",
    "print jacobian"
   ]
  },
  {
   "cell_type": "code",
   "execution_count": null,
   "metadata": {},
   "outputs": [],
   "source": []
  },
  {
   "cell_type": "code",
   "execution_count": null,
   "metadata": {},
   "outputs": [],
   "source": [
    "# jacobian-it-up\n",
    "#invCovPlanck = np.dot(jacobian.T,np.dot(invCovPlanck,jacobian))\n",
    "#print invCovPlanck"
   ]
  },
  {
   "cell_type": "code",
   "execution_count": null,
   "metadata": {},
   "outputs": [],
   "source": []
  },
  {
   "cell_type": "code",
   "execution_count": null,
   "metadata": {},
   "outputs": [],
   "source": []
  },
  {
   "cell_type": "code",
   "execution_count": null,
   "metadata": {},
   "outputs": [],
   "source": []
  },
  {
   "cell_type": "code",
   "execution_count": null,
   "metadata": {},
   "outputs": [],
   "source": []
  },
  {
   "cell_type": "code",
   "execution_count": 47,
   "metadata": {},
   "outputs": [],
   "source": [
    "# the best-fit parameter values for planck-lowl-post-lensing\n",
    "# from https://wiki.cosmos.esa.int/planckpla/images/6/62/Comparetables_limit68.pdf\n",
    "bestFit = [0.02228,0.1174,68.53,3.042,0.9674,0.0682]  # cormat version.  look at table again to get covmat version\n",
    "# but, the 3 index entry 3.042 is in ln 10^10 As, not 10^9 As"
   ]
  },
  {
   "cell_type": "code",
   "execution_count": null,
   "metadata": {},
   "outputs": [],
   "source": []
  },
  {
   "cell_type": "code",
   "execution_count": 48,
   "metadata": {
    "scrolled": true
   },
   "outputs": [
    {
     "name": "stdout",
     "output_type": "stream",
     "text": [
      "(37, 37)\n",
      "[ 33650264.75304625   1729869.64336173   4962497.99100187\n",
      "    395050.69626645    193655.85777067   1559034.31753978]\n",
      "[ 33650264.75304625   1729869.64336173   4962497.99100187\n",
      "    395050.69626645    193655.85777067   1559034.31753978]\n"
     ]
    }
   ],
   "source": [
    "# fix the nuissance parameters\n",
    "\n",
    "# invert covariance matrix\n",
    "invCov = np.linalg.inv(covmat)\n",
    "print invCov.shape\n",
    "print np.array([invCov[si,si] for si in selectIndices])\n",
    "\n",
    "#subInvCov = [invCov[si1][si2] for si1 in selectIndices for si2 in selectIndices]\n",
    "#subInvCov = [[invCov[:,si1] for si1 in selectIndices[si2]] for si2 in selectIndices]\n",
    "#subInvCov1 = [invCov[si1] for si1 in selectIndices]\n",
    "#print subInvCov1\n",
    "#subInvCov = [subInvCov1[:,si2] for si2 in selectIndices]\n",
    "\n",
    "nParams = selectIndices.__len__()\n",
    "subInvCov = np.empty((nParams,nParams))\n",
    "for si1 in range(6):\n",
    "    for si2 in range(6):\n",
    "        subInvCov[si1,si2] = invCov[selectIndices[si1],selectIndices[si2]]\n",
    "#print subInvCov\n",
    "print np.diag(subInvCov)"
   ]
  },
  {
   "cell_type": "code",
   "execution_count": 49,
   "metadata": {},
   "outputs": [
    {
     "name": "stdout",
     "output_type": "stream",
     "text": [
      "[ 0.00021205  0.00210681  0.00059998  0.02239803  0.00528772  0.0123382 ]\n"
     ]
    }
   ],
   "source": [
    "# re-invert and get sigmas\n",
    "sigmas = np.sqrt(np.diag(np.linalg.inv(subInvCov)))\n",
    "print sigmas"
   ]
  },
  {
   "cell_type": "code",
   "execution_count": null,
   "metadata": {},
   "outputs": [],
   "source": []
  },
  {
   "cell_type": "code",
   "execution_count": 51,
   "metadata": {},
   "outputs": [],
   "source": [
    "# save that sub-Fisher matrix to use in another notebook\n",
    "# I will want it in \"Rebuild covar with noise\"\n",
    "np.savetxt('PlanckInvCovFromMCMC.txt',subInvCov)"
   ]
  },
  {
   "cell_type": "code",
   "execution_count": null,
   "metadata": {},
   "outputs": [],
   "source": []
  }
 ],
 "metadata": {
  "kernelspec": {
   "display_name": "Python 2",
   "language": "python",
   "name": "python2"
  },
  "language_info": {
   "codemirror_mode": {
    "name": "ipython",
    "version": 2
   },
   "file_extension": ".py",
   "mimetype": "text/x-python",
   "name": "python",
   "nbconvert_exporter": "python",
   "pygments_lexer": "ipython2",
   "version": "2.7.14"
  }
 },
 "nbformat": 4,
 "nbformat_minor": 2
}
