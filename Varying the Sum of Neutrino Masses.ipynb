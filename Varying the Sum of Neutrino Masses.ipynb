{
 "cells": [
  {
   "cell_type": "markdown",
   "metadata": {},
   "source": [
    "# Varying the Sum of Neutrino Masses"
   ]
  },
  {
   "cell_type": "code",
   "execution_count": 1,
   "metadata": {},
   "outputs": [
    {
     "ename": "ImportError",
     "evalue": "No module named CLtools",
     "output_type": "error",
     "traceback": [
      "\u001b[0;31m---------------------------------------------------------------------------\u001b[0m",
      "\u001b[0;31mImportError\u001b[0m                               Traceback (most recent call last)",
      "\u001b[0;32m<ipython-input-1-cdb175286464>\u001b[0m in \u001b[0;36m<module>\u001b[0;34m()\u001b[0m\n\u001b[1;32m      1\u001b[0m \u001b[0;32mimport\u001b[0m \u001b[0mcrosspower\u001b[0m \u001b[0;32mas\u001b[0m \u001b[0mcp\u001b[0m\u001b[0;34m\u001b[0m\u001b[0m\n\u001b[0;32m----> 2\u001b[0;31m \u001b[0;32mimport\u001b[0m \u001b[0mFisherCl2\u001b[0m \u001b[0;32mas\u001b[0m \u001b[0mfcl\u001b[0m\u001b[0;34m\u001b[0m\u001b[0m\n\u001b[0m\u001b[1;32m      3\u001b[0m \u001b[0;32mfrom\u001b[0m \u001b[0mnumpy\u001b[0m\u001b[0;34m.\u001b[0m\u001b[0mlinalg\u001b[0m \u001b[0;32mimport\u001b[0m \u001b[0meigh\u001b[0m\u001b[0;34m\u001b[0m\u001b[0m\n\u001b[1;32m      4\u001b[0m \u001b[0;34m\u001b[0m\u001b[0m\n\u001b[1;32m      5\u001b[0m \u001b[0;31m# set plotting to be in the notebook instead of its own qt window\u001b[0m\u001b[0;34m\u001b[0m\u001b[0;34m\u001b[0m\u001b[0m\n",
      "\u001b[0;32m/Users/zork/GoogleDrive/Programming/Python/crosscor/FisherCl2.py\u001b[0m in \u001b[0;36m<module>\u001b[0;34m()\u001b[0m\n\u001b[1;32m     35\u001b[0m \u001b[0;34m\u001b[0m\u001b[0m\n\u001b[1;32m     36\u001b[0m \u001b[0;31m# Dan Coe's CLtools (confidence limit; c2009), for Fisher Matrix, etc.\u001b[0m\u001b[0;34m\u001b[0m\u001b[0;34m\u001b[0m\u001b[0m\n\u001b[0;32m---> 37\u001b[0;31m \u001b[0;32mimport\u001b[0m \u001b[0mCLtools\u001b[0m \u001b[0;32mas\u001b[0m \u001b[0mcl\u001b[0m\u001b[0;34m\u001b[0m\u001b[0m\n\u001b[0m\u001b[1;32m     38\u001b[0m \u001b[0;34m\u001b[0m\u001b[0m\n\u001b[1;32m     39\u001b[0m \u001b[0;31m################################################################################\u001b[0m\u001b[0;34m\u001b[0m\u001b[0;34m\u001b[0m\u001b[0m\n",
      "\u001b[0;31mImportError\u001b[0m: No module named CLtools"
     ]
    }
   ],
   "source": [
    "import crosspower as cp\n",
    "import FisherCl2 as fcl\n",
    "from numpy.linalg import eigh\n",
    "\n",
    "# set plotting to be in the notebook instead of its own qt window\n",
    "%matplotlib inline"
   ]
  },
  {
   "cell_type": "code",
   "execution_count": null,
   "metadata": {},
   "outputs": [],
   "source": [
    "# reload any changes that have been made to crosspower.py\n",
    "reload(cp)\n",
    "reload(fcl.cp)\n",
    "reload(fcl)"
   ]
  },
  {
   "cell_type": "code",
   "execution_count": null,
   "metadata": {},
   "outputs": [],
   "source": []
  },
  {
   "cell_type": "markdown",
   "metadata": {},
   "source": [
    "# Start with varying the sum of neutrino masses\n",
    "Want to match Figure 2 from Wu et. al. (2014)"
   ]
  },
  {
   "cell_type": "code",
   "execution_count": null,
   "metadata": {},
   "outputs": [],
   "source": [
    "# get some matter power interpolation objects\n",
    "nh = 'normal'\n",
    "nmn = 3\n",
    "mnu0 =   0.0\n",
    "#mnu1 =  50e-3\n",
    "#mnu2 = 100e-3\n",
    "#mnu3 = 150e-3\n",
    "#labels = ['50 meV','100 meV','150 meV']\n",
    "mnu1 = 0.1\n",
    "mnu2 = 0.2\n",
    "mnu3 = 0.3\n",
    "labels = ['100 meV','200 meV','300 meV']\n",
    "nonlinear = False # halofit\n",
    "nz = 1000 # number of points in matterPower arrays"
   ]
  },
  {
   "cell_type": "code",
   "execution_count": null,
   "metadata": {},
   "outputs": [],
   "source": [
    "# adjust CDM density to accomodate extra neutrino mass; keep constant Omega_c + Omega_nu for all cases\n",
    "def omnh2(mnu):\n",
    "    \"\"\"\n",
    "    eqn. 12 from Wu et. al. 2014,\n",
    "    attributed to Mangano et. al. 2005\n",
    "    Input: \n",
    "        mnu: sum of mass of neutrinos in eV\n",
    "    Returns:\n",
    "        Omega_nu*h**2\n",
    "    \"\"\"\n",
    "    return mnu/94\n",
    "\n",
    "omnh2_1  =  omnh2(mnu1)\n",
    "omnh2_2  =  omnh2(mnu2)\n",
    "omnh2_3  =  omnh2(mnu3)\n",
    "omnh2_06 =  omnh2(0.06) # used by Planck\n",
    "\n",
    "omch2 = 0.1193 # Planck\n",
    "\n",
    "# remove correction to dm mass due to neutrinos for simplicity\n",
    "omch2_0 = omch2+omnh2_06\n",
    "omch2_1 = omch2+omnh2_06#-omnh2_1\n",
    "omch2_2 = omch2+omnh2_06#-omnh2_2\n",
    "omch2_3 = omch2+omnh2_06#-omnh2_3\n",
    "\n",
    "print omch2_0\n",
    "print omch2_1\n",
    "print omch2_2\n",
    "print omch2_3"
   ]
  },
  {
   "cell_type": "code",
   "execution_count": null,
   "metadata": {},
   "outputs": [],
   "source": [
    "print 'starting myPk0...'\n",
    "AccuracyBoost = 3\n",
    "#myPk0 = cp.matterPower(neutrino_hierarchy='degenerate',num_massive_neutrinos=0  ,mnu=mnu0,omch2=omch2_0,nz=nz)\n",
    "myPk0 = cp.matterPower(neutrino_hierarchy=nh,num_massive_neutrinos=0,  mnu=mnu0,omch2=omch2_0,\n",
    "                       nonlinear=nonlinear,nz=nz,AccuracyBoost=AccuracyBoost)\n",
    "print 'starting myPk1...'\n",
    "myPk1 = cp.matterPower(neutrino_hierarchy=nh,num_massive_neutrinos=nmn,mnu=mnu1,omch2=omch2_1,\n",
    "                       nonlinear=nonlinear,nz=nz,AccuracyBoost=AccuracyBoost)\n",
    "print 'starting myPk2...'\n",
    "myPk2 = cp.matterPower(neutrino_hierarchy=nh,num_massive_neutrinos=nmn,mnu=mnu2,omch2=omch2_2,\n",
    "                       nonlinear=nonlinear,nz=nz,AccuracyBoost=AccuracyBoost)\n",
    "print 'starting myPk3...'\n",
    "myPk3 = cp.matterPower(neutrino_hierarchy=nh,num_massive_neutrinos=nmn,mnu=mnu3,omch2=omch2_3,\n",
    "                       nonlinear=nonlinear,nz=nz,AccuracyBoost=AccuracyBoost)\n",
    "print 'done'"
   ]
  },
  {
   "cell_type": "code",
   "execution_count": null,
   "metadata": {},
   "outputs": [],
   "source": [
    "# try matter power spectra ratios\n",
    "kSpectrum = np.logspace(-3.7,1.0,1000)\n",
    "#print kSpectrum\n",
    "myZ = 0\n",
    "PKinterp0 = myPk0.PK\n",
    "PKinterp1 = myPk1.PK\n",
    "PKinterp2 = myPk2.PK\n",
    "PKinterp3 = myPk3.PK\n",
    "Pk0 = PKinterp0.P(myZ,kSpectrum)\n",
    "Pk1 = PKinterp1.P(myZ,kSpectrum)\n",
    "Pk2 = PKinterp2.P(myZ,kSpectrum)\n",
    "Pk3 = PKinterp3.P(myZ,kSpectrum)\n",
    "print 'sizes: ',kSpectrum.size,Pk0.size,Pk1.size,Pk2.size,Pk3.size"
   ]
  },
  {
   "cell_type": "code",
   "execution_count": null,
   "metadata": {},
   "outputs": [],
   "source": []
  },
  {
   "cell_type": "code",
   "execution_count": null,
   "metadata": {
    "scrolled": true
   },
   "outputs": [],
   "source": [
    "plt.loglog(kSpectrum,Pk0)\n",
    "plt.loglog(kSpectrum,Pk1)\n",
    "plt.loglog(kSpectrum,Pk2)\n",
    "plt.loglog(kSpectrum,Pk3)\n",
    "plt.xlabel('wavenumber k')\n",
    "plt.ylabel('P(k)')\n",
    "plt.show();"
   ]
  },
  {
   "cell_type": "code",
   "execution_count": null,
   "metadata": {},
   "outputs": [],
   "source": []
  },
  {
   "cell_type": "code",
   "execution_count": null,
   "metadata": {},
   "outputs": [],
   "source": [
    "Pks = (Pk1,Pk2,Pk3)\n",
    "for pkNum in range(3):\n",
    "    t = (Pks[pkNum]-Pk0)/Pk0\n",
    "    plt.semilogx(kSpectrum,t,label=labels[pkNum])\n",
    "    plt.ylabel(r'$\\Delta(P(k,\\Sigma m_\\nu))/P(k,\\Sigma m_\\nu = 0) $',fontsize=15)\n",
    "    plt.xlabel(r'wavenumber $k$')\n",
    "    plt.title('Fractional Matter Power change at z = 0')\n",
    "plt.legend(loc='lower left')\n",
    "plt.show();"
   ]
  },
  {
   "cell_type": "markdown",
   "metadata": {},
   "source": [
    "In this version of the plot, $\\theta_A$ is held fixed, not $H_0$.  \n",
    "This causes an increase in the ratio at all $k$ values compared to the version with $H_0$ fixed, not $\\theta_A$."
   ]
  },
  {
   "cell_type": "code",
   "execution_count": null,
   "metadata": {},
   "outputs": [],
   "source": []
  },
  {
   "cell_type": "code",
   "execution_count": null,
   "metadata": {},
   "outputs": [],
   "source": []
  },
  {
   "cell_type": "markdown",
   "metadata": {},
   "source": [
    "# Use matter power interpolaters to create angular power spectra"
   ]
  },
  {
   "cell_type": "code",
   "execution_count": null,
   "metadata": {},
   "outputs": [],
   "source": [
    "# what redshift bins am I using?\n",
    "z0 = 3 #1.5\n",
    "zmax = 4\n",
    "nBins = 8\n",
    "cp.plotModelDNDZbins(z0=z0,zmax=zmax,nBins=nBins)\n",
    "cp.plotModelDNDZbins(z0=z0,zmax=zmax,nBins=nBins,doNorm=True)"
   ]
  },
  {
   "cell_type": "code",
   "execution_count": null,
   "metadata": {},
   "outputs": [],
   "source": [
    "# set up to collect power spectra\n",
    "Cls0=[]\n",
    "Cls1=[]\n",
    "Cls2=[]\n",
    "Cls3=[]"
   ]
  },
  {
   "cell_type": "code",
   "execution_count": null,
   "metadata": {},
   "outputs": [],
   "source": [
    "# getCl has default values: epsrel=1.49e-2, epsabs=0\n",
    "epsrel = 1.49e-8\n",
    "epsabs = 1.49e-8"
   ]
  },
  {
   "cell_type": "code",
   "execution_count": null,
   "metadata": {},
   "outputs": [],
   "source": [
    "# time the output\n",
    "import time\n",
    "starttime = time.time()"
   ]
  },
  {
   "cell_type": "code",
   "execution_count": null,
   "metadata": {},
   "outputs": [],
   "source": [
    "# these are the kk power spectra\n",
    "ls0,Cl0kk = cp.getCl(myPk0,epsrel=epsrel,epsabs=epsabs)\n",
    "ls1,Cl1kk = cp.getCl(myPk1,epsrel=epsrel,epsabs=epsabs)\n",
    "ls2,Cl2kk = cp.getCl(myPk2,epsrel=epsrel,epsabs=epsabs)\n",
    "ls3,Cl3kk = cp.getCl(myPk3,epsrel=epsrel,epsabs=epsabs)\n",
    "Cls0.append(Cl0kk)\n",
    "Cls1.append(Cl1kk)\n",
    "Cls2.append(Cl2kk)\n",
    "Cls3.append(Cl3kk)"
   ]
  },
  {
   "cell_type": "code",
   "execution_count": null,
   "metadata": {
    "scrolled": true
   },
   "outputs": [],
   "source": [
    "# get kg\n",
    "# use same parameters as for bins shown above\n",
    "#zmax=4\n",
    "#nBins=8\n",
    "#z0 = 3 #1.5\n",
    "for binNum in range(1,nBins+1):\n",
    "    print 'starting bin ',binNum,' of ',nBins\n",
    "    ls0,Cl0kg = cp.getCl(myPk0,winfunc2=cp.winGalaxies,zmax=zmax,nBins=nBins,binNum2=binNum,dndzMode=2,\n",
    "                         z0=z0,epsrel=epsrel,epsabs=epsabs)\n",
    "    ls1,Cl1kg = cp.getCl(myPk1,winfunc2=cp.winGalaxies,zmax=zmax,nBins=nBins,binNum2=binNum,dndzMode=2,\n",
    "                         z0=z0,epsrel=epsrel,epsabs=epsabs)\n",
    "    ls2,Cl2kg = cp.getCl(myPk2,winfunc2=cp.winGalaxies,zmax=zmax,nBins=nBins,binNum2=binNum,dndzMode=2,\n",
    "                         z0=z0,epsrel=epsrel,epsabs=epsabs)\n",
    "    ls3,Cl3kg = cp.getCl(myPk3,winfunc2=cp.winGalaxies,zmax=zmax,nBins=nBins,binNum2=binNum,dndzMode=2,\n",
    "                         z0=z0,epsrel=epsrel,epsabs=epsabs)\n",
    "    Cls0.append(Cl0kg)\n",
    "    Cls1.append(Cl1kg)\n",
    "    Cls2.append(Cl2kg)\n",
    "    Cls3.append(Cl3kg)"
   ]
  },
  {
   "cell_type": "code",
   "execution_count": null,
   "metadata": {
    "scrolled": true
   },
   "outputs": [],
   "source": [
    "# get gg\n",
    "zmax=4\n",
    "nBins=8\n",
    "for binNum in range(1,nBins+1):\n",
    "    print 'starting bin ',binNum,' of ',nBins\n",
    "    ls0,Cl0gg = cp.getCl(myPk0,winfunc1=cp.winGalaxies,winfunc2=cp.winGalaxies,zmax=zmax,nBins=nBins,\n",
    "                         binNum1=binNum,binNum2=binNum,dndzMode=2,z0=z0,epsrel=epsrel,epsabs=epsabs)\n",
    "    ls1,Cl1gg = cp.getCl(myPk1,winfunc1=cp.winGalaxies,winfunc2=cp.winGalaxies,zmax=zmax,nBins=nBins,\n",
    "                         binNum1=binNum,binNum2=binNum,dndzMode=2,z0=z0,epsrel=epsrel,epsabs=epsabs)\n",
    "    ls2,Cl2gg = cp.getCl(myPk2,winfunc1=cp.winGalaxies,winfunc2=cp.winGalaxies,zmax=zmax,nBins=nBins,\n",
    "                         binNum1=binNum,binNum2=binNum,dndzMode=2,z0=z0,epsrel=epsrel,epsabs=epsabs)\n",
    "    ls3,Cl3gg = cp.getCl(myPk3,winfunc1=cp.winGalaxies,winfunc2=cp.winGalaxies,zmax=zmax,nBins=nBins,\n",
    "                         binNum1=binNum,binNum2=binNum,dndzMode=2,z0=z0,epsrel=epsrel,epsabs=epsabs)\n",
    "    Cls0.append(Cl0gg)\n",
    "    Cls1.append(Cl1gg)\n",
    "    Cls2.append(Cl2gg)\n",
    "    Cls3.append(Cl3gg)"
   ]
  },
  {
   "cell_type": "code",
   "execution_count": null,
   "metadata": {},
   "outputs": [],
   "source": [
    "endtime = time.time()\n",
    "print 'done making Cls'\n",
    "print 'time elapsed: ',endtime-starttime,' seconds'\n",
    "print 'time elapsed: ',(endtime-starttime)/60,' minutes'\n",
    "\n",
    "print Cls0.__len__()\n",
    "print Cls0[0].shape"
   ]
  },
  {
   "cell_type": "code",
   "execution_count": null,
   "metadata": {},
   "outputs": [],
   "source": [
    "# save it\n",
    "\n",
    "import pickle\n",
    "Cl_dict = {'Cls0':Cls0,'Cls1':Cls1,'Cls2':Cls2,'Cls3':Cls3}\n",
    "\n",
    "filehandler = open('Cl_kk_kg_gg_linear_b.pkl','w') # no nonlinear, AccuracyBoost = 3\n",
    "\n",
    "pickle.dump(Cl_dict,filehandler)\n",
    "filehandler.close()\n",
    "print 'done'\n"
   ]
  },
  {
   "cell_type": "code",
   "execution_count": null,
   "metadata": {},
   "outputs": [],
   "source": [
    "# or load it\n",
    "\"\"\"\n",
    "import pickle\n",
    "Cl_dict = pickle.load(open('Cl_kk_kg_gg_linear.pkl','r'))\n",
    "\"\"\""
   ]
  },
  {
   "cell_type": "code",
   "execution_count": null,
   "metadata": {},
   "outputs": [],
   "source": []
  },
  {
   "cell_type": "markdown",
   "metadata": {},
   "source": [
    "# make some plots"
   ]
  },
  {
   "cell_type": "code",
   "execution_count": null,
   "metadata": {
    "scrolled": true
   },
   "outputs": [],
   "source": [
    "# plot kk power spectra\n",
    "%matplotlib notebook\n",
    "Cls = [Cls1,Cls2,Cls3]\n",
    "plt.semilogx(ls0,Cls0[0],label='000 meV')\n",
    "for massNum in range(3):\n",
    "    plt.semilogx(ls0,Cls[massNum][0],label=labels[massNum])\n",
    "plt.xlabel(r'$\\ell$',fontsize=15)\n",
    "plt.ylabel(r'$C_\\ell^{\\kappa\\kappa}$',fontsize=15)\n",
    "plt.title(r'Angular power spectra for various $\\Sigma m_\\nu$')\n",
    "plt.legend()\n",
    "plt.show()"
   ]
  },
  {
   "cell_type": "code",
   "execution_count": null,
   "metadata": {},
   "outputs": [],
   "source": [
    "# plot Delta Cl / Cl\n",
    "for massNum in range(3):\n",
    "    plt.semilogx(ls0,(Cls[massNum][0]-Cls0[0])/Cls0[0],label=labels[massNum])\n",
    "plt.axhline(y=0,linestyle=':',color='k')\n",
    "plt.legend(loc='lower left')\n",
    "plt.xlabel(r'$\\ell$',fontsize=15)\n",
    "plt.ylabel(r'$\\Delta(C_\\ell^{\\kappa\\kappa}(\\Sigma m_\\nu))/C_\\ell^{\\kappa\\kappa} (\\Sigma m_\\nu = 0) $',fontsize=15)\n",
    "plt.title(r'Lensing power ratios for various $\\Sigma m_\\nu$')\n",
    "plt.ylim([-0.18,0.01])\n",
    "plt.show();"
   ]
  },
  {
   "cell_type": "code",
   "execution_count": null,
   "metadata": {},
   "outputs": [],
   "source": []
  },
  {
   "cell_type": "code",
   "execution_count": null,
   "metadata": {},
   "outputs": [],
   "source": []
  },
  {
   "cell_type": "code",
   "execution_count": null,
   "metadata": {},
   "outputs": [],
   "source": []
  },
  {
   "cell_type": "code",
   "execution_count": null,
   "metadata": {},
   "outputs": [],
   "source": []
  },
  {
   "cell_type": "code",
   "execution_count": null,
   "metadata": {
    "scrolled": false
   },
   "outputs": [],
   "source": [
    "# plot the kg and gg power spectra\n",
    "#%matplotlib notebook\n",
    "#doRatios = False\n",
    "doRatios = True\n",
    "f, axarr = plt.subplots(nBins,2,figsize=(20,20))\n",
    "for binNum in range(1,nBins+1):\n",
    "    plt.sca(axarr[binNum-1,0])\n",
    "    if not doRatios:\n",
    "        plt.semilogx(ls0,Cls0[binNum],label='0 meV')\n",
    "    for massNum in range(3):\n",
    "        if doRatios:\n",
    "            plt.semilogx(ls0,(Cls[massNum][binNum]-Cls0[binNum])/Cls0[binNum],label=labels[massNum])\n",
    "            plt.ylim([-0.18,0.01])\n",
    "        else:\n",
    "            plt.semilogx(ls0,Cls[massNum][binNum],label=labels[massNum])\n",
    "            plt.ylim([0,12.5e-7])\n",
    "    plt.axhline(y=0,linestyle=':',color='k')\n",
    "    plt.sca(axarr[binNum-1,1])\n",
    "    for massNum in range(3):\n",
    "        if doRatios:\n",
    "            plt.semilogx(ls0,(Cls[massNum][binNum+nBins]-Cls0[binNum+nBins])/Cls0[binNum+nBins],label=labels[massNum])\n",
    "            plt.ylim([-0.18,0.01])\n",
    "        else:\n",
    "            plt.semilogx(ls0,Cls[massNum][binNum+nBins],label=labels[massNum])\n",
    "            plt.ylim([0,12.5e-7])\n",
    "    plt.axhline(y=0,linestyle=':',color='k')\n",
    "f.subplots_adjust(hspace=0)\n",
    "#f.subplots_adjust(wspace=0)\n",
    "plt.show();\n",
    "#%matplotlib inline"
   ]
  },
  {
   "cell_type": "code",
   "execution_count": null,
   "metadata": {},
   "outputs": [],
   "source": []
  },
  {
   "cell_type": "code",
   "execution_count": null,
   "metadata": {},
   "outputs": [],
   "source": []
  },
  {
   "cell_type": "code",
   "execution_count": null,
   "metadata": {},
   "outputs": [],
   "source": []
  },
  {
   "cell_type": "markdown",
   "metadata": {
    "collapsed": true
   },
   "source": [
    "The lines are unexpectedly crossing each other.  Why?"
   ]
  },
  {
   "cell_type": "code",
   "execution_count": null,
   "metadata": {},
   "outputs": [],
   "source": []
  },
  {
   "cell_type": "markdown",
   "metadata": {
    "collapsed": true
   },
   "source": [
    "# Check P(z,k) interpolator values"
   ]
  },
  {
   "cell_type": "code",
   "execution_count": null,
   "metadata": {},
   "outputs": [],
   "source": [
    "# check CAMB parameters\n",
    "pars = myPk1.getPars() # the one with smallest nonzero neutrino mass\n",
    "#pars.set_matter_power(k_per_logint = 10)\n",
    "#help(pars)\n",
    "#print pars\n",
    "print pars.omegab,pars.omegac,pars.omegan\n",
    "print mnu1/94/(pars.H0/100)**2"
   ]
  },
  {
   "cell_type": "code",
   "execution_count": null,
   "metadata": {},
   "outputs": [],
   "source": [
    "# check z,k values of Pk interpolator\n",
    "import camb\n",
    "myVar = camb.model.Transfer_tot\n",
    "k_per_logint = None\n",
    "nonlinear = False\n",
    "zmax = myPk0.zs[-1]\n",
    "print 'zmax: ',zmax \n",
    "Pk, z, k = camb.get_matter_power_interpolator(pars,nonlinear=nonlinear,hubble_units=False,k_hunit=False,\n",
    "                                              kmax=10,k_per_logint=k_per_logint,var1=myVar,var2=myVar,\n",
    "                                              zmax=zmax,return_z_k=True)\n",
    "PofK = Pk.P(0,k)\n",
    "plt.loglog(k,PofK,'b+')\n",
    "plt.show();"
   ]
  },
  {
   "cell_type": "code",
   "execution_count": null,
   "metadata": {},
   "outputs": [],
   "source": [
    "results = camb.get_background(pars)\n",
    "#help(results)\n",
    "H0=results.h_of_z(0)\n",
    "print H0*2.997e5"
   ]
  },
  {
   "cell_type": "markdown",
   "metadata": {},
   "source": [
    "# Check H(z) and its approximation"
   ]
  },
  {
   "cell_type": "code",
   "execution_count": null,
   "metadata": {},
   "outputs": [],
   "source": [
    "# extract zs, dzs, dchis, H0, and Hs from each matterPower object\n",
    "zs0 = myPk0.zs\n",
    "zs1 = myPk1.zs\n",
    "zs2 = myPk2.zs\n",
    "zs3 = myPk3.zs\n",
    "dzs0 = myPk0.dzs\n",
    "dzs1 = myPk1.dzs\n",
    "dzs2 = myPk2.dzs\n",
    "dzs3 = myPk3.dzs\n",
    "dchis0 = myPk0.dchis\n",
    "dchis1 = myPk1.dchis\n",
    "dchis2 = myPk2.dchis\n",
    "dchis3 = myPk3.dchis\n",
    "H00 = myPk0.H0\n",
    "H01 = myPk1.H0\n",
    "H02 = myPk2.H0\n",
    "H03 = myPk3.H0\n",
    "Hs0 = myPk0.Hs\n",
    "Hs1 = myPk1.Hs\n",
    "Hs2 = myPk2.Hs\n",
    "Hs3 = myPk3.Hs\n",
    "print 'H_0: ',np.array((H00,H01,H02,H03))*2.997e5\n",
    "\n",
    "# add in 0, H_0\n",
    "zs0 = np.hstack(([0],zs0))\n",
    "zs1 = np.hstack(([0],zs1))\n",
    "zs2 = np.hstack(([0],zs2))\n",
    "zs3 = np.hstack(([0],zs3))\n",
    "Hs0 = np.hstack(([H00],Hs0))\n",
    "Hs1 = np.hstack(([H01],Hs1))\n",
    "Hs2 = np.hstack(([H02],Hs2))\n",
    "Hs3 = np.hstack(([H03],Hs3))"
   ]
  },
  {
   "cell_type": "code",
   "execution_count": null,
   "metadata": {},
   "outputs": [],
   "source": []
  },
  {
   "cell_type": "code",
   "execution_count": null,
   "metadata": {},
   "outputs": [],
   "source": [
    "# get interpolators\n",
    "from scipy.interpolate import interp1d\n",
    "Hz0 = interp1d(zs0,Hs0)\n",
    "Hz1 = interp1d(zs1,Hs1)\n",
    "Hz2 = interp1d(zs2,Hs2)\n",
    "Hz3 = interp1d(zs3,Hs3)"
   ]
  },
  {
   "cell_type": "code",
   "execution_count": null,
   "metadata": {},
   "outputs": [],
   "source": [
    "myZs = np.linspace(0,5,1000)\n",
    "myHs0 = Hz0(myZs)\n",
    "myHs1 = Hz1(myZs)\n",
    "myHs2 = Hz2(myZs)\n",
    "myHs3 = Hz3(myZs)"
   ]
  },
  {
   "cell_type": "code",
   "execution_count": null,
   "metadata": {},
   "outputs": [],
   "source": [
    "plt.plot(myZs,(myHs1-myHs0)/myHs0)\n",
    "plt.plot(myZs,(myHs2-myHs0)/myHs0)\n",
    "plt.plot(myZs,(myHs3-myHs0)/myHs0)\n",
    "plt.ylabel(r'$\\Delta(H(z,\\Sigma m_\\nu))/H(z,\\Sigma m_\\nu = 0) $',fontsize=15)\n",
    "plt.xlabel('redshift')"
   ]
  },
  {
   "cell_type": "markdown",
   "metadata": {},
   "source": [
    "The value of $H_0$ and $\\Sigma m_\\nu$ appear negatively correlated, as expected."
   ]
  },
  {
   "cell_type": "code",
   "execution_count": null,
   "metadata": {},
   "outputs": [],
   "source": []
  },
  {
   "cell_type": "markdown",
   "metadata": {},
   "source": [
    "# Next do $\\chi(z)$"
   ]
  },
  {
   "cell_type": "code",
   "execution_count": null,
   "metadata": {},
   "outputs": [],
   "source": [
    "# next do chi(z)\n",
    "chis0 = myPk0.chis\n",
    "chis1 = myPk1.chis\n",
    "chis2 = myPk2.chis\n",
    "chis3 = myPk3.chis\n",
    "\n",
    "# could put in chistar, zstar, but didn't\n",
    "chis0 = np.hstack(([0],chis0))\n",
    "chis1 = np.hstack(([0],chis1))\n",
    "chis2 = np.hstack(([0],chis2))\n",
    "chis3 = np.hstack(([0],chis3))\n",
    "\n",
    "chi0 = interp1d(zs0,chis0)\n",
    "chi1 = interp1d(zs1,chis1)\n",
    "chi2 = interp1d(zs2,chis2)\n",
    "chi3 = interp1d(zs3,chis3)\n",
    "\n",
    "myChis0 = chi0(myZs)\n",
    "myChis1 = chi1(myZs)\n",
    "myChis2 = chi2(myZs)\n",
    "myChis3 = chi3(myZs)\n",
    "\n",
    "plt.plot(myZs,(myChis1-myChis0)/myChis0,label=labels[0])\n",
    "plt.plot(myZs,(myChis2-myChis0)/myChis0,label=labels[1])\n",
    "plt.plot(myZs,(myChis3-myChis0)/myChis0,label=labels[2])\n",
    "plt.ylabel(r'$\\Delta(\\chi(z,\\Sigma m_\\nu))/\\chi(z,\\Sigma m_\\nu = 0) $',fontsize=15)\n",
    "plt.title('Fractional change to Distance-Redshift relation')\n",
    "plt.xlabel('redshift',fontsize=13)\n",
    "plt.legend(loc='upper right');"
   ]
  },
  {
   "cell_type": "markdown",
   "metadata": {},
   "source": [
    "The higher $\\Sigma m_\\nu$ values have higher $\\chi(z)$ for all $z$, as expected from \n",
    "$\\chi(z) = c \\int_z^0 \\frac{- dz\\prime}{H(z\\prime)}$ relation."
   ]
  },
  {
   "cell_type": "markdown",
   "metadata": {},
   "source": [
    "Also, higher $\\Sigma m_\\nu$ values asymptote towards higher values, due to faster late-time expansion."
   ]
  },
  {
   "cell_type": "code",
   "execution_count": null,
   "metadata": {},
   "outputs": [],
   "source": [
    "plt.loglog(zs0,chis0)\n",
    "plt.loglog(zs1,chis1)\n",
    "plt.loglog(zs2,chis2)\n",
    "plt.loglog(zs3,chis3);"
   ]
  },
  {
   "cell_type": "code",
   "execution_count": null,
   "metadata": {},
   "outputs": [],
   "source": []
  },
  {
   "cell_type": "code",
   "execution_count": null,
   "metadata": {},
   "outputs": [],
   "source": []
  },
  {
   "cell_type": "code",
   "execution_count": null,
   "metadata": {},
   "outputs": [],
   "source": []
  },
  {
   "cell_type": "code",
   "execution_count": null,
   "metadata": {},
   "outputs": [],
   "source": []
  },
  {
   "cell_type": "markdown",
   "metadata": {},
   "source": [
    "# Try a simpler integral:\n",
    "#    $C_\\ell = \\int_{\\chi(z_{min})}^{\\chi(z_{max})} P\\left(k=\\frac{\\ell+0.5}{\\chi},z(\\chi)\\right) d\\chi $"
   ]
  },
  {
   "cell_type": "code",
   "execution_count": null,
   "metadata": {},
   "outputs": [],
   "source": [
    "# simplified version of angular power spectrum code in crosspower.getCl()\n",
    "def getSimpleClOld(myPk,lmax=2500,zmin=0,zmax=1100):\n",
    "    \"\"\"\n",
    "      inputs:\n",
    "        myPk: a matterPower object\n",
    "        lmax: maximum ell to be calculated and returned\n",
    "        zmin,zmax: minimum,maximum of integration range for dchi(z)\n",
    "      returns:\n",
    "        ls: ell values\n",
    "        cl: function evaluated at those values\n",
    "    \"\"\"\n",
    "    PK,chistar,chis,dchis,zs,dzs,pars = myPk.getPKinterp()\n",
    "    ls = np.arange(2,lmax+1, dtype=np.float64)\n",
    "    cl = np.zeros(ls.shape)\n",
    "    w = np.ones(chis.shape) #to zero integrand outside k,z ranges\n",
    "    for i,l in enumerate(ls):\n",
    "        k=(l+0.5)/chis  # k(l,chi)\n",
    "        w[k<1e-4]=0\n",
    "        w[k>=myPk.kmax]=0\n",
    "        w[zs<zmin]=0\n",
    "        w[zs>zmax]=0\n",
    "        cl[i] = np.dot( dchis, w*PK.P(zs,k,grid=False) )\n",
    "        # rewrite this using the quad function\n",
    "        \n",
    "    return ls, cl\n"
   ]
  },
  {
   "cell_type": "code",
   "execution_count": null,
   "metadata": {},
   "outputs": [],
   "source": [
    "# simplified version of angular power spectrum code in crosspower.getCl()\n",
    "#   ok... it's actulally much less simple now that I am refactoring it to use quad\n",
    "from scipy.integrate import quad\n",
    "\n",
    "def getChiofZ(myPk):\n",
    "    \"\"\"\n",
    "      get a chi(z) interpolator\n",
    "      inputs:\n",
    "        myPk: a matterPower object\n",
    "    \"\"\"\n",
    "    zs = myPk.zs\n",
    "    chis = myPk.chis\n",
    "    zstar = myPk.zstar\n",
    "    chistar = myPk.chistar\n",
    "    zs = np.hstack(([0],zs,zstar))\n",
    "    chis = np.hstack(([0],chis,chistar))\n",
    "    return interp1d(zs,chis)\n",
    "    \n",
    "def gsCl_integrand(myPk,zmin=0,zmax=1100):\n",
    "    \"\"\"\n",
    "      the integrand for the getSimpleCl integral\n",
    "      inputs:\n",
    "        myPk: a matterPower object\n",
    "        zmin,zmax: minimum,maximum of integration range for dchi(z)\n",
    "      returns:\n",
    "        a function of redshift z, frequency ell: f(z,l)\n",
    "        will evaluate to zero outside of zmin,zmax range\n",
    "        also zero outside of k(chi(z)) kmin,kmax range\n",
    "    \"\"\"\n",
    "    PK,chistar,chis,dchis,zs,dzs,pars = myPk.getPKinterp()\n",
    "    #chiOfZ = getChiofZ(myPk)\n",
    "    chiOfZ = myPk.getChiofZ()\n",
    "    myK = lambda z,ell: (ell+0.5)/chiOfZ(z)\n",
    "    def wOfKZ(z,k,zmin,zmax,kmin=1e-4,kmax=myPk.kmax):\n",
    "        if k < kmin:  return 0\n",
    "        if k >= kmax: return 0\n",
    "        if z < zmin:  return 0\n",
    "        if z > zmax:  return 0\n",
    "        return 1\n",
    "    \n",
    "    return lambda z,ell: wOfKZ(z,myK(z,ell),zmin,zmax) * PK.P(z,myK(z,ell)) #,grid=False)\n",
    "    \n",
    "\n",
    "def getSimpleCl(myPk,lmax=2500,zmin=0,zmax=1100,epsrel=1.49e-8,epsabs=1.49e-8):\n",
    "    \"\"\"\n",
    "      inputs:\n",
    "        myPk: a matterPower object\n",
    "        lmax: maximum ell to be calculated and returned\n",
    "        zmin,zmax: minimum,maximum of integration range for dchi(z)\n",
    "        epsrel,epsabs: relative and absolute error margins to pass to quad\n",
    "          whichever one is attained first ends the integration\n",
    "      returns:\n",
    "        ls: ell values\n",
    "        cl: function evaluated at those values\n",
    "    \"\"\"\n",
    "    #zstar = myPk.zstar\n",
    "    #print 'zstar = ',zstar\n",
    "    print 'zmin = ',zmin,', zmax = ',zmax\n",
    "    ls  = np.arange(2,lmax+1, dtype=np.float64)\n",
    "    cl  = np.zeros(ls.shape)\n",
    "    err = np.zeros(ls.shape)\n",
    "    integrandOfZL = gsCl_integrand(myPk,zmin=zmin,zmax=zmax)\n",
    "    \n",
    "    #nzs = 1000\n",
    "    #zs = np.linspace(zmin,zmax,nzs)\n",
    "    #dzs = np.ones(nzs-1)*(zmax-zmin)/(nzs-1)\n",
    "    \n",
    "    for i,ell in enumerate(ls):\n",
    "        #integrandOfZ = lambda z: integrandOfZL(z,ell)\n",
    "        #print 'ell = ',ell,'integrand(z=0.25,ell) = ',integrandOfZ(0.25)\n",
    "        #cl[i],err[i] = quad(integrandOfZ,0,zstar)\n",
    "        cl[i],err[i] = quad(integrandOfZL,zmin,zmax,ell,epsabs=epsabs,epsrel=epsrel)\n",
    "        \n",
    "        #print 'starting ell = ',ell\n",
    "        #igs = [integrandOfZL(zs[j],ell) for j in range(nzs)]\n",
    "        #print '  igs = ',igs\n",
    "        #cl[i] = np.dot(dzs,igs[:-1]) #integrandOfZL(zs[:-1],ell))\n",
    "        \n",
    "    #return ls, cl\n",
    "    return ls, cl, err  #do I need err?\n",
    "    "
   ]
  },
  {
   "cell_type": "code",
   "execution_count": null,
   "metadata": {},
   "outputs": [],
   "source": []
  },
  {
   "cell_type": "code",
   "execution_count": null,
   "metadata": {},
   "outputs": [],
   "source": []
  },
  {
   "cell_type": "code",
   "execution_count": null,
   "metadata": {},
   "outputs": [],
   "source": [
    "# test getChiofZ, k(z,l)\n",
    "chiOfZ = getChiofZ(myPk0)\n",
    "print 'chi(1): ',chiOfZ(1)\n",
    "myK = lambda z,ell: (ell+0.5)/chiOfZ(z)\n",
    "print 'k(1,1): ',myK(1,1)\n",
    "print 'k(1,[1,2,3,4]): ',myK(1,np.array([1,2,3,4]))\n",
    "\n",
    "# test integrand\n",
    "t = gsCl_integrand(myPk0,zmin=1,zmax=2)\n",
    "print t(1.5,10)\n",
    "print t(1.5,100)\n",
    "print t(1.5,1000)\n",
    "print t(0.5,10)"
   ]
  },
  {
   "cell_type": "code",
   "execution_count": null,
   "metadata": {},
   "outputs": [],
   "source": [
    "# test the wOfKZ window function\n",
    "kmax = myPk0.kmax\n",
    "def wOfKZ(z,k,zmin,zmax,kmin=1e-4,kmax=kmax):\n",
    "        if k < kmin:  return 0\n",
    "        if k >= kmax: return 0\n",
    "        if z < zmin:  return 0\n",
    "        if z > zmax:  return 0\n",
    "        return 1"
   ]
  },
  {
   "cell_type": "code",
   "execution_count": null,
   "metadata": {},
   "outputs": [],
   "source": [
    "print wOfKZ(1,5,0,10)\n",
    "print wOfKZ(1,5,5,10)\n",
    "print wOfKZ(1,1e-5,0,10)\n",
    "print wOfKZ(1,20,0,10)\n",
    "print wOfKZ(1,1,0,10)\n",
    "\n"
   ]
  },
  {
   "cell_type": "code",
   "execution_count": null,
   "metadata": {
    "scrolled": true
   },
   "outputs": [],
   "source": [
    "# time the output\n",
    "import time\n",
    "\n",
    "# get redshift ranges\n",
    "zmin = 0\n",
    "zmax = 4\n",
    "nBins = 8\n",
    "binEdges = np.linspace(zmin,zmax,nBins+1)\n",
    "print binEdges\n",
    "\n",
    "# set up to collect power spectra\n",
    "ClsS0=[]\n",
    "ClsS1=[]\n",
    "ClsS2=[]\n",
    "ClsS3=[]\n",
    "errS0=[]\n",
    "errS1=[]\n",
    "errS2=[]\n",
    "errS3=[]\n",
    "times=[]\n",
    "\n",
    "# set precision\n",
    "epsabs = 0\n",
    "epsrel = 1.49e-2\n",
    "\n",
    "starttime= time.time()\n",
    "for binNum in range(nBins):\n",
    "    print 'starting bin ',binNum+1,' of ',nBins\n",
    "    \n",
    "    print 'starting mnu 0..'\n",
    "    ls0,ClS0,err0 = getSimpleCl(myPk0,zmin=binEdges[binNum],zmax=binEdges[binNum+1],epsabs=epsabs,epsrel=epsrel)\n",
    "    endtime=time.time()\n",
    "    times.append(endtime-starttime)\n",
    "    \n",
    "    print 'starting mnu 1..'\n",
    "    ls1,ClS1,err1 = getSimpleCl(myPk1,zmin=binEdges[binNum],zmax=binEdges[binNum+1],epsabs=epsabs,epsrel=epsrel)\n",
    "    endtime=time.time()\n",
    "    times.append(endtime-starttime)\n",
    "    \n",
    "    print 'starting mnu 2..'\n",
    "    ls2,ClS2,err2 = getSimpleCl(myPk2,zmin=binEdges[binNum],zmax=binEdges[binNum+1],epsabs=epsabs,epsrel=epsrel)\n",
    "    endtime=time.time()\n",
    "    times.append(endtime-starttime)\n",
    "    \n",
    "    print 'starting mnu 3..'\n",
    "    ls3,ClS3,err3 = getSimpleCl(myPk3,zmin=binEdges[binNum],zmax=binEdges[binNum+1],epsabs=epsabs,epsrel=epsrel)\n",
    "    endtime=time.time()\n",
    "    times.append(endtime-starttime)\n",
    "    \n",
    "    ClsS0.append(ClS0)\n",
    "    ClsS1.append(ClS1)\n",
    "    ClsS2.append(ClS2)\n",
    "    ClsS3.append(ClS3)\n",
    "    errS0.append(err0)\n",
    "    errS1.append(err1)\n",
    "    errS2.append(err2)\n",
    "    errS3.append(err3)\n",
    "    \n",
    "print 'done making Cls'\n",
    "print 'time elapsed: ',times[-1],' seconds'"
   ]
  },
  {
   "cell_type": "code",
   "execution_count": null,
   "metadata": {},
   "outputs": [],
   "source": [
    "print ClsS1.__len__()\n",
    "print ClsS1[0].__len__()"
   ]
  },
  {
   "cell_type": "code",
   "execution_count": null,
   "metadata": {},
   "outputs": [],
   "source": []
  },
  {
   "cell_type": "code",
   "execution_count": null,
   "metadata": {},
   "outputs": [],
   "source": []
  },
  {
   "cell_type": "code",
   "execution_count": null,
   "metadata": {},
   "outputs": [],
   "source": []
  },
  {
   "cell_type": "code",
   "execution_count": null,
   "metadata": {},
   "outputs": [],
   "source": []
  },
  {
   "cell_type": "code",
   "execution_count": null,
   "metadata": {},
   "outputs": [],
   "source": []
  },
  {
   "cell_type": "code",
   "execution_count": null,
   "metadata": {},
   "outputs": [],
   "source": []
  },
  {
   "cell_type": "code",
   "execution_count": null,
   "metadata": {},
   "outputs": [],
   "source": []
  },
  {
   "cell_type": "code",
   "execution_count": null,
   "metadata": {},
   "outputs": [],
   "source": []
  },
  {
   "cell_type": "code",
   "execution_count": null,
   "metadata": {},
   "outputs": [],
   "source": []
  },
  {
   "cell_type": "code",
   "execution_count": null,
   "metadata": {},
   "outputs": [],
   "source": []
  },
  {
   "cell_type": "code",
   "execution_count": null,
   "metadata": {},
   "outputs": [],
   "source": [
    "print 'time to do 1 bin for 4 mnu values: 33.9 seconds. (bin8) (precision 1.49e-2)'\n",
    "print 'time to do 1 bin for 4 mnu values: 35.5 seconds. (bin8) (precision 1.49e-4)'\n",
    "print 'time to do 1 bin for 4 mnu values: 47.9 seconds. (bin8) (precision 1.49e-6)'\n",
    "print 'time to do 1 bin for 4 mnu values: ',2434/60.,'minutes. (bin8) (precisoin 1.49e-8)'\n",
    "print 'time to do 1 bin for 4 mnu values: ',2998/60.,'minutes. (bin1)'\n",
    "print 'to do 8 bins: ',2998/60.*8/60.,'hours.'\n"
   ]
  },
  {
   "cell_type": "code",
   "execution_count": null,
   "metadata": {},
   "outputs": [],
   "source": [
    "# time to evaluate one getSimpleCl call with zmin=0,zmax=0.5\n",
    "myMinutes = 813.17/60.\n",
    "print 'time = ',myMinutes,' minutes with default quad precision: epsabs=1.49e-8, epsrel=1.49e-8.'\n",
    "\n",
    "print 'time = ',92.3/60,' minutes with quad precision epsabs=0, epsrel=1e-4.'\n",
    "print 'time = ',304.9/60,' minutes with quad precision epsabs=1e-4, epsrel=0.'\n",
    "\n",
    "print 'to do a set of 8: ',myMinutes*8/60.,' hours.'\n",
    "print 'For one Fisher matrix calculation, I have... lots of power spectra to calculate'\n",
    "print 'for 8 bins: nMaps = 9, there will be 1+8+8 = 17 (nonzero) observable power spectra'\n",
    "print 'there will be two more for each of 7 cosmic parameters for numeric differentiation'\n",
    "print 'total: 17+14 = 31.  And more for the b_i derivatives...'"
   ]
  },
  {
   "cell_type": "code",
   "execution_count": null,
   "metadata": {},
   "outputs": [],
   "source": []
  },
  {
   "cell_type": "code",
   "execution_count": null,
   "metadata": {},
   "outputs": [],
   "source": []
  },
  {
   "cell_type": "code",
   "execution_count": null,
   "metadata": {},
   "outputs": [],
   "source": []
  },
  {
   "cell_type": "code",
   "execution_count": null,
   "metadata": {},
   "outputs": [],
   "source": [
    "print 'what is the default precision of quad?'\n",
    "print 'from the def: def quad(... epsabs=1.49e-8, epsrel=1.49e-8, ...):'"
   ]
  },
  {
   "cell_type": "code",
   "execution_count": null,
   "metadata": {},
   "outputs": [],
   "source": [
    "#err0epsabs_1em4 = err0\n",
    "#err0epsrel_1em4 = err0\n",
    "plt.plot(ls0,err0/ClS0)"
   ]
  },
  {
   "cell_type": "code",
   "execution_count": null,
   "metadata": {},
   "outputs": [],
   "source": []
  },
  {
   "cell_type": "code",
   "execution_count": null,
   "metadata": {},
   "outputs": [],
   "source": []
  },
  {
   "cell_type": "code",
   "execution_count": null,
   "metadata": {},
   "outputs": [],
   "source": [
    "mnuNum = 0\n",
    "print ClsS0[mnuNum]\n",
    "plt.loglog(ls0,ClsS0[mnuNum])"
   ]
  },
  {
   "cell_type": "code",
   "execution_count": null,
   "metadata": {},
   "outputs": [],
   "source": []
  },
  {
   "cell_type": "code",
   "execution_count": null,
   "metadata": {},
   "outputs": [],
   "source": []
  },
  {
   "cell_type": "code",
   "execution_count": null,
   "metadata": {},
   "outputs": [],
   "source": []
  },
  {
   "cell_type": "code",
   "execution_count": null,
   "metadata": {},
   "outputs": [],
   "source": []
  },
  {
   "cell_type": "code",
   "execution_count": null,
   "metadata": {
    "scrolled": true
   },
   "outputs": [],
   "source": [
    "ClSs = [ClsS1,ClsS2,ClsS3]\n",
    "\"\"\"\n",
    "f, axarr = plt.subplots(nBins,1,figsize=(10,20))\n",
    "doRatios=True\n",
    "for binNum in range(nBins):\n",
    "    plt.sca(axarr[binNum])\n",
    "    if not doRatios:\n",
    "        plt.semilogx(ls0,ClsS0[binNum],label='0 meV')\n",
    "    for massNum in range(3):\n",
    "        if doRatios:\n",
    "            #print massNum,binNum\n",
    "            plt.semilogx(ls0,(ClSs[massNum][binNum]-ClsS0[binNum])/ClsS0[binNum],label=labels[massNum])\n",
    "            plt.ylim([-0.2,0.05])\n",
    "        else:\n",
    "            plt.semilogx(ls0,ClSs[massNum][binNum],label=labels[massNum])\n",
    "            plt.ylim([0,12.5e-7])\n",
    "\n",
    "f.subplots_adjust(hspace=0)\n",
    "plt.show();\n",
    "\"\"\"\n",
    "\n",
    "%matplotlib inline\n",
    "for binNum in range(nBins):\n",
    "    \n",
    "    for massNum in range(3):\n",
    "        #print massNum,binNum\n",
    "        plt.semilogx(ls0,(ClSs[massNum][binNum]-ClsS0[binNum])/ClsS0[binNum],label=labels[massNum])\n",
    "        plt.ylim([-0.2,0.05])\n",
    "    plt.ylabel(r'$\\Delta(C_\\ell(\\Sigma m_\\nu))/C_\\ell(\\Sigma m_\\nu = 0) $',fontsize=15)\n",
    "    plt.xlabel(r'$\\ell$',fontsize=15)\n",
    "    zmin = str(binEdges[binNum])\n",
    "    zmax = str(binEdges[binNum+1])\n",
    "    plt.title(r'Fractional Change to $C_\\ell = \\int P(k,z) d\\chi$ at z in range('+zmin+','+zmax+')')\n",
    "    plt.legend(loc='lower left')\n",
    "    plt.show();"
   ]
  },
  {
   "cell_type": "code",
   "execution_count": null,
   "metadata": {},
   "outputs": [],
   "source": []
  },
  {
   "cell_type": "markdown",
   "metadata": {},
   "source": [
    "This simple integral over the power spectrum is showing the same unexpected behavior as the projected galaxy power spectra, above."
   ]
  },
  {
   "cell_type": "code",
   "execution_count": null,
   "metadata": {},
   "outputs": [],
   "source": []
  },
  {
   "cell_type": "code",
   "execution_count": null,
   "metadata": {},
   "outputs": [],
   "source": []
  },
  {
   "cell_type": "markdown",
   "metadata": {
    "collapsed": true
   },
   "source": [
    "# Look at the matter power spectrum at the centers and edges of the bins"
   ]
  },
  {
   "cell_type": "code",
   "execution_count": null,
   "metadata": {},
   "outputs": [],
   "source": [
    "# look at the matter power spectrum at the centers and edges of the bins\n",
    "zsForPzk = np.linspace(0,4,17)\n",
    "print zsForPzk"
   ]
  },
  {
   "cell_type": "code",
   "execution_count": null,
   "metadata": {
    "scrolled": true
   },
   "outputs": [],
   "source": [
    "%matplotlib inline\n",
    "for myZ in zsForPzk:\n",
    "    #print 'starting redshift z = ',myZ\n",
    "    Pk0 = PKinterp0.P(myZ,kSpectrum)\n",
    "    Pk1 = PKinterp1.P(myZ,kSpectrum)\n",
    "    Pk2 = PKinterp2.P(myZ,kSpectrum)\n",
    "    Pk3 = PKinterp3.P(myZ,kSpectrum)\n",
    "    Pks = (Pk1,Pk2,Pk3)\n",
    "    for pkNum in range(3):\n",
    "        t = (Pks[pkNum]-Pk0)/Pk0\n",
    "        plt.semilogx(kSpectrum,t,label=labels[pkNum])\n",
    "    plt.ylabel(r'$\\Delta(P(k,\\Sigma m_\\nu))/P(k,\\Sigma m_\\nu = 0) $',fontsize=15)\n",
    "    plt.xlabel(r'wavenumber $k$')\n",
    "    plt.title('Fractional Matter Power change at z = '+str(myZ))\n",
    "    plt.legend(loc='lower left')\n",
    "    plt.show();"
   ]
  },
  {
   "cell_type": "code",
   "execution_count": null,
   "metadata": {},
   "outputs": [],
   "source": []
  },
  {
   "cell_type": "markdown",
   "metadata": {},
   "source": [
    "# Identify which part of $P(k,z,\\Sigma m_\\nu)$ goes into each point on the $C_\\ell$ plot.\n",
    "\n",
    "Use relation $k = \\frac{\\ell+0.5}{\\chi}$\n",
    "\n",
    "Start by using two $\\ell$ values: $\\ell_1 = 10, \\ell_2 = 100$"
   ]
  },
  {
   "cell_type": "code",
   "execution_count": null,
   "metadata": {},
   "outputs": [],
   "source": [
    "# select redshift bin and ell values\n",
    "# 8 redshift bins defined above\n",
    "binNum = 7\n",
    "ell1 = 10\n",
    "ell2 = 100\n",
    "# locate edges\n",
    "print 'z_min = ',binEdges[binNum]\n",
    "print 'z_max = ',binEdges[binNum+1]"
   ]
  },
  {
   "cell_type": "code",
   "execution_count": null,
   "metadata": {},
   "outputs": [],
   "source": []
  },
  {
   "cell_type": "code",
   "execution_count": null,
   "metadata": {},
   "outputs": [],
   "source": []
  },
  {
   "cell_type": "code",
   "execution_count": null,
   "metadata": {},
   "outputs": [],
   "source": []
  },
  {
   "cell_type": "code",
   "execution_count": null,
   "metadata": {},
   "outputs": [],
   "source": [
    "# get \\chi(z)\n",
    "print 'bin edges: z = ',binEdges\n",
    "chi0edges = chi0(binEdges)\n",
    "chi1edges = chi1(binEdges)\n",
    "chi2edges = chi2(binEdges)\n",
    "chi3edges = chi3(binEdges)\n",
    "#print 'bin edges in chi(Sigma m_nu):'\n",
    "#print 'mnu0,chi0edges: ',mnu0,chi0edges\n",
    "#print 'mnu1,chi1edges: ',mnu1,chi1edges\n",
    "#print 'mnu2,chi2edges: ',mnu2,chi2edges\n",
    "#print 'mnu3,chi3edges: ',mnu3,chi3edges\n",
    "\n",
    "# look at bin for selected binNum\n",
    "chi0edges = np.array(chi0edges[binNum:binNum+2])\n",
    "chi1edges = np.array(chi1edges[binNum:binNum+2])\n",
    "chi2edges = np.array(chi2edges[binNum:binNum+2])\n",
    "chi3edges = np.array(chi3edges[binNum:binNum+2])\n",
    "\n",
    "print 'bin edges in chi(Sigma m_nu):'\n",
    "print 'mnu0,chi0edges: ',mnu0,chi0edges\n",
    "print 'mnu1,chi1edges: ',mnu1,chi1edges\n",
    "print 'mnu2,chi2edges: ',mnu2,chi2edges\n",
    "print 'mnu3,chi3edges: ',mnu3,chi3edges\n",
    "\n",
    "\n",
    "# k as a function of l, chi\n",
    "def kNum(ell,chi):\n",
    "    return (ell+0.5)/chi\n",
    "# get kmin, kmax for both test ell values for each Sigma m_nu\n",
    "k0edgesAtEll1 = kNum(ell1,chi0edges)\n",
    "k0edgesAtEll2 = kNum(ell2,chi0edges)\n",
    "k1edgesAtEll1 = kNum(ell1,chi1edges)\n",
    "k1edgesAtEll2 = kNum(ell2,chi1edges)\n",
    "k2edgesAtEll1 = kNum(ell1,chi2edges)\n",
    "k2edgesAtEll2 = kNum(ell2,chi2edges)\n",
    "k3edgesAtEll1 = kNum(ell1,chi3edges)\n",
    "k3edgesAtEll2 = kNum(ell2,chi3edges)\n",
    "\n",
    "print 'k edges:'\n",
    "print k0edgesAtEll1\n",
    "print k0edgesAtEll2\n",
    "print k1edgesAtEll1\n",
    "print k1edgesAtEll2\n",
    "print k2edgesAtEll1\n",
    "print k2edgesAtEll2\n",
    "print k3edgesAtEll1\n",
    "print k3edgesAtEll2\n",
    "\n",
    "k0edges = [k0edgesAtEll1,k0edgesAtEll2]\n",
    "k1edges = [k1edgesAtEll1,k1edgesAtEll2]\n",
    "k2edges = [k2edgesAtEll1,k2edgesAtEll2]\n",
    "k3edges = [k3edgesAtEll1,k3edgesAtEll2]\n",
    "\n",
    "kedges = [k1edges,k2edges,k3edges]\n",
    "#print kedges"
   ]
  },
  {
   "cell_type": "code",
   "execution_count": null,
   "metadata": {},
   "outputs": [],
   "source": []
  },
  {
   "cell_type": "code",
   "execution_count": null,
   "metadata": {},
   "outputs": [],
   "source": []
  },
  {
   "cell_type": "code",
   "execution_count": null,
   "metadata": {},
   "outputs": [],
   "source": [
    "#delta P(k) at bin center: z= 2.25\n",
    "\n",
    "f, axarr = plt.subplots(1,2,figsize=(20,10))\n",
    "\n",
    "plt.sca(axarr[1])\n",
    "\n",
    "colors = ['b','g','r']\n",
    "myZ = (binEdges[binNum]+binEdges[binNum+1])/2 #2.25\n",
    "Pk0 = PKinterp0.P(myZ,kSpectrum)\n",
    "Pk1 = PKinterp1.P(myZ,kSpectrum)\n",
    "Pk2 = PKinterp2.P(myZ,kSpectrum)\n",
    "Pk3 = PKinterp3.P(myZ,kSpectrum)\n",
    "Pks = (Pk1,Pk2,Pk3)\n",
    "for pkNum in range(3):\n",
    "    t = (Pks[pkNum]-Pk0)/Pk0\n",
    "    plt.semilogx(kSpectrum,t,label=labels[pkNum],color=colors[pkNum])\n",
    "    plt.axvline(x=kedges[pkNum][0][0] ,color=colors[pkNum],linestyle='-') # ell1, low k\n",
    "    plt.axvline(x=kedges[pkNum][0][1] ,color=colors[pkNum],linestyle='-') # ell1, high k\n",
    "    plt.axvline(x=kedges[pkNum][1][0] ,color=colors[pkNum],linestyle='-.')# ell2, low k\n",
    "    plt.axvline(x=kedges[pkNum][1][1] ,color=colors[pkNum],linestyle='-.')# ell2, high k\n",
    "plt.axhline(y=0,linestyle=':',color='k')\n",
    "plt.ylabel(r'$\\Delta(P(k,\\Sigma m_\\nu))/P(k,\\Sigma m_\\nu = 0) $',fontsize=15)\n",
    "plt.xlabel(r'wavenumber $k$')\n",
    "plt.title('Fractional Matter Power change at z = '+str(myZ))\n",
    "plt.legend(loc='lower left')\n",
    "#plt.show();\n",
    "\n",
    "plt.sca(axarr[0])\n",
    "\n",
    "binNum = 0 # kludge for when there is only one bin in ClSs\n",
    "for massNum in range(3):\n",
    "    plt.semilogx(ls0,(ClSs[massNum][binNum]-ClsS0[binNum])/ClsS0[binNum],label=labels[massNum])\n",
    "    plt.ylim([-0.2,0.05])\n",
    "    \n",
    "plt.axvline(ell1,linestyle='-')\n",
    "plt.axvline(ell2,linestyle='-.')\n",
    "plt.ylabel(r'$\\Delta(C_\\ell(\\Sigma m_\\nu))/C_\\ell(\\Sigma m_\\nu = 0) $',fontsize=15)\n",
    "plt.xlabel(r'$\\ell$',fontsize=15)\n",
    "\n",
    "binNum=7 #remove kludge for accurate labeling\n",
    "zmin = str(binEdges[binNum])\n",
    "zmax = str(binEdges[binNum+1])\n",
    "plt.axhline(y=0,linestyle=':',color='k')\n",
    "plt.title(r'Fractional Change to $C_\\ell = \\int P(k,z) d\\chi$ at z in range('+zmin+','+zmax+')')\n",
    "plt.legend(loc='lower left')\n",
    "plt.show();\n"
   ]
  },
  {
   "cell_type": "code",
   "execution_count": null,
   "metadata": {},
   "outputs": [],
   "source": []
  },
  {
   "cell_type": "code",
   "execution_count": null,
   "metadata": {},
   "outputs": [],
   "source": []
  },
  {
   "cell_type": "code",
   "execution_count": null,
   "metadata": {},
   "outputs": [],
   "source": []
  },
  {
   "cell_type": "code",
   "execution_count": null,
   "metadata": {},
   "outputs": [],
   "source": []
  },
  {
   "cell_type": "code",
   "execution_count": null,
   "metadata": {},
   "outputs": [],
   "source": []
  },
  {
   "cell_type": "code",
   "execution_count": null,
   "metadata": {},
   "outputs": [],
   "source": []
  },
  {
   "cell_type": "code",
   "execution_count": null,
   "metadata": {},
   "outputs": [],
   "source": []
  }
 ],
 "metadata": {
  "kernelspec": {
   "display_name": "Python 2",
   "language": "python",
   "name": "python2"
  },
  "language_info": {
   "codemirror_mode": {
    "name": "ipython",
    "version": 2
   },
   "file_extension": ".py",
   "mimetype": "text/x-python",
   "name": "python",
   "nbconvert_exporter": "python",
   "pygments_lexer": "ipython2",
   "version": "2.7.14"
  }
 },
 "nbformat": 4,
 "nbformat_minor": 1
}
