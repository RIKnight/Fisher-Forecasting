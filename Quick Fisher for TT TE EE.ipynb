{
 "cells": [
  {
   "cell_type": "markdown",
   "metadata": {},
   "source": [
    "# Making some quick calculations to get $F_{ij}$ working for $C_l^{TT},C_l^{TE},C_l^{EE}$ observables"
   ]
  },
  {
   "cell_type": "code",
   "execution_count": 249,
   "metadata": {
    "collapsed": true
   },
   "outputs": [],
   "source": [
    "import crosspower as cp\n",
    "#import FisherCl as fcl\n",
    "#import FisherCl2 as fcl\n",
    "#from numpy.linalg import eigh\n",
    "import camb\n",
    "\n",
    "# set plotting to be in the notebook instead of its own qt window\n",
    "%matplotlib inline"
   ]
  },
  {
   "cell_type": "code",
   "execution_count": 254,
   "metadata": {
    "collapsed": false
   },
   "outputs": [],
   "source": [
    "# set cosmological parameters\n",
    "\n",
    "cosParams = {\n",
    "        'H0'    : None, #67.51, #setting H0=None allows cosmomc_theta to be used instead\n",
    "        'cosmomc_theta'           : 1.04087e-2,\n",
    "        'ombh2' : 0.02226,\n",
    "        'omch2' : 0.1193,\n",
    "        'omk'   : 0,\n",
    "        'tau'   : 0.063,\n",
    "\n",
    "        'As'    : 2.130e-9,\n",
    "        'ns'    : 0.9653,\n",
    "        'r'     : 0,\n",
    "        'kPivot': 0.05,\n",
    "    \n",
    "        'w'     : -1,\n",
    "\n",
    "        # if fiducial mnu is changed, need to adjust omch2 as well\n",
    "        'mnu'   : 0.06, # (eV)\n",
    "        #'mnu'   : 0.058, # Lloyd suggested this value for fiducial; adjust omch2 if I do use it\n",
    "        'nnu'   : 3.046,\n",
    "        'standard_neutrino_neff'  : 3.046,\n",
    "        'num_massive_neutrinos'   : 1,\n",
    "        'neutrino_hierarchy'      : 'normal'}\n"
   ]
  },
  {
   "cell_type": "code",
   "execution_count": 255,
   "metadata": {
    "collapsed": false
   },
   "outputs": [
    {
     "data": {
      "text/plain": [
       "\"\\ncosParams = {\\n        'H0'    : None, #67.51, #setting H0=None allows cosmomc_theta to be used instead\\n        'cosmomc_theta'           : 1.04076967e-2,\\n        'ombh2' : 0.02227,\\n        'omch2' : 0.1413-0.02227,\\n        'omk'   : 0,\\n        'tau'   : 0.067,\\n\\n        'As'    : 1.873e-9,\\n        'ns'    : 0.9681,\\n        'r'     : 0,\\n        'kPivot': 0.05,\\n\\n        # if fiducial mnu is changed, need to adjust omch2 as well\\n        'mnu'   : 0.06, # (eV)\\n        #'mnu'   : 0.058, # Lloyd suggested this value for fiducial; adjust omch2 if I do use it\\n        'nnu'   : 3.046,\\n        'standard_neutrino_neff'  : 3.046,\\n        'num_massive_neutrinos'   : 1,\\n        'neutrino_hierarchy'      : 'normal'}\\n\""
      ]
     },
     "execution_count": 255,
     "metadata": {},
     "output_type": "execute_result"
    }
   ],
   "source": [
    "# set cosmological parameters\n",
    "# step sizes from Kevin's SPT-3G forecasting notebook\n",
    "\"\"\"params_base_theta={'H0':None,'cosmomc_theta':fish_param(1.04076967/100,0.000323773),\n",
    "                           'ombh2':fish_param(0.02227,0.0002),\n",
    "                           'ommh2':fish_param(0.1413,0.0011),\n",
    "                           'tau':fish_param(0.067,0.013, 0.02),\n",
    "                           'clamp':fish_param(1.873,0.0115),\n",
    "                           'ns':fish_param( 0.9681,0.0044),\n",
    "                           'lmax':6000,'lens_potential_accuracy':5.0}\"\"\"\n",
    "#                   ('lcdm_mnu',{'mnu':fish_param(.06,0.01)}),\n",
    "\"\"\"\n",
    "cosParams = {\n",
    "        'H0'    : None, #67.51, #setting H0=None allows cosmomc_theta to be used instead\n",
    "        'cosmomc_theta'           : 1.04076967e-2,\n",
    "        'ombh2' : 0.02227,\n",
    "        'omch2' : 0.1413-0.02227,\n",
    "        'omk'   : 0,\n",
    "        'tau'   : 0.067,\n",
    "\n",
    "        'As'    : 1.873e-9,\n",
    "        'ns'    : 0.9681,\n",
    "        'r'     : 0,\n",
    "        'kPivot': 0.05,\n",
    "\n",
    "        # if fiducial mnu is changed, need to adjust omch2 as well\n",
    "        'mnu'   : 0.06, # (eV)\n",
    "        #'mnu'   : 0.058, # Lloyd suggested this value for fiducial; adjust omch2 if I do use it\n",
    "        'nnu'   : 3.046,\n",
    "        'standard_neutrino_neff'  : 3.046,\n",
    "        'num_massive_neutrinos'   : 1,\n",
    "        'neutrino_hierarchy'      : 'normal'}\n",
    "\"\"\""
   ]
  },
  {
   "cell_type": "code",
   "execution_count": 256,
   "metadata": {
    "collapsed": false
   },
   "outputs": [
    {
     "name": "stdout",
     "output_type": "stream",
     "text": [
      "zs.size:  998\n"
     ]
    }
   ],
   "source": [
    "# get a matterPower object\n",
    "reload(cp)\n",
    "myPk = cp.matterPower(**cosParams)"
   ]
  },
  {
   "cell_type": "code",
   "execution_count": 278,
   "metadata": {
    "collapsed": false
   },
   "outputs": [
    {
     "name": "stdout",
     "output_type": "stream",
     "text": [
      "creating more matter power objects...\n",
      "creating parameter set for  ombh2  derivative...\n",
      "creating parameter set for  omch2  derivative...\n",
      "creating parameter set for  cosmomc_theta  derivative...\n",
      "creating parameter set for  As  derivative...\n",
      "creating parameter set for  ns  derivative...\n",
      "creating parameter set for  tau  derivative...\n",
      "creating parameter set for  mnu  derivative...\n",
      "creating parameter set for  w  derivative...\n"
     ]
    }
   ],
   "source": [
    "# copy some setup from FisherCl2.py\n",
    "\n",
    "#myParams = myPk.cosParams\n",
    "myParams = cosParams\n",
    "nz = 1000\n",
    "\n",
    "# parameters list:\n",
    "#nCosParams = 7 # 6 LCDM + Mnu\n",
    "#paramList = ['ombh2','omch2','cosmomc_theta','As','ns','tau','mnu']\n",
    "nCosParams = 8 # 6 LCDM + Mnu + w\n",
    "paramList = ['ombh2','omch2','cosmomc_theta','As','ns','tau','mnu','w']\n",
    "# step sizes for discrete derivatives: must correspond to paramList entries!\n",
    "#   from Allison et. al. (2015) Table III.\n",
    "#deltaP = [0.0008,0.0030,0.0050e-2,0.1e-9,0.010,0.020,0.020] #mnu one in eV\n",
    "deltaP = [0.0008,0.0030,0.0050e-2,0.1e-9,0.010,0.020,0.020,0.3] #mnu one in eV\n",
    "\n",
    "# step sizes from Kevin's SPT-3G forecasting notebook\n",
    "\"\"\"params_base_theta={'H0':None,'cosmomc_theta':fish_param(1.04076967/100,0.000323773),\n",
    "                           'ombh2':fish_param(0.02227,0.0002),\n",
    "                           'ommh2':fish_param(0.1413,0.0011),\n",
    "                           'tau':fish_param(0.067,0.013, 0.02),\n",
    "                           'clamp':fish_param(1.873,0.0115),\n",
    "                           'ns':fish_param( 0.9681,0.0044),\n",
    "                           'lmax':6000,'lens_potential_accuracy':5.0}\"\"\"\n",
    "#                   ('lcdm_mnu',{'mnu':fish_param(.06,0.01)}),\n",
    "#deltaP = [0.0002,0.0011,0.000323773,0.0115e-9,0.0044,0.013,0.01]\n",
    "\n",
    "# cut deltaP in half to see effect\n",
    "#deltaP = np.array(deltaP)/2.\n",
    "\n",
    "# double deltaP to see effect\n",
    "#deltaP = np.array(deltaP)*2.\n",
    "\n",
    "# get more parameter sets for numeric differentiation\n",
    "print 'creating parameter sets for making discrete derivatives...'\n",
    "myParamsUpper = []\n",
    "myParamsLower = []\n",
    "myPksUpper = []\n",
    "myPksLower = []\n",
    "for cParamNum in range(nCosParams):\n",
    "    #print 'creating matter power spectra for ',paramList[cParamNum],' derivative...'\n",
    "    print 'creating parameter set for ',paramList[cParamNum],' derivative...'\n",
    "    # add parameter dictionary to lists; HAVE TO BE COPIES!!!\n",
    "    myParamsUpper.append(myParams.copy())\n",
    "    myParamsLower.append(myParams.copy())\n",
    "    # modify parameter number cParamNum in dictionaries\n",
    "    myParamsUpper[cParamNum][paramList[cParamNum]] += deltaP[cParamNum]\n",
    "    myParamsLower[cParamNum][paramList[cParamNum]] -= deltaP[cParamNum]\n",
    "\n",
    "    \n",
    "    # toggle this section off for comparison with Kevin's Fisher result:\n",
    "    # actually, don't use it generally, since it's simpler without.\n",
    "    # toggle this on to make comparisons with Byeonghee's result\n",
    "    \"\"\"\n",
    "    # check for mnu modification and adjust omch2 if necessary\n",
    "    if paramList[cParamNum] == 'mnu':\n",
    "        omch2Index = np.where(np.array(paramList) == 'omch2')[0][0]\n",
    "        deltaOmnh2 = deltaP[cParamNum]/94 #eq.n 12 from Wu et. al.\n",
    "        #deltaOmnh2 = pars.omegan*(pars.H0/100)**2 # probably a better measure of omega_nu\n",
    "        # note the -=,+= signs get reversed in next 2 lines compared to above\n",
    "        myParamsUpper[cParamNum][paramList[omch2Index]] -= deltaOmnh2\n",
    "        myParamsLower[cParamNum][paramList[omch2Index]] += deltaOmnh2\n",
    "    \"\"\"\n",
    "\n",
    "    #print 'cPramNum: ',cParamNum,', param name: ',paramList[cParamNum]\n",
    "    #print 'myParamsUpper[cParamNum][paramList[cParamNum]]: ',myParamsUpper[cParamNum][paramList[cParamNum]]\n",
    "    #print 'myParamsLower[cParamNum][paramList[cParamNum]]: ',myParamsLower[cParamNum][paramList[cParamNum]]\n",
    "    #print 'deltaP[cParamNum]: ',deltaP[cParamNum]\n",
    "\n",
    "    # create matter power objects and add to lists\n",
    "    # really I just need matterPower.pars, but this is a fast way to code it\n",
    "    #myPksUpper.append(cp.matterPower(nz=nz,**myParamsUpper[cParamNum]))\n",
    "    #myPksLower.append(cp.matterPower(nz=nz,**myParamsLower[cParamNum]))\n",
    "    \n",
    "    # switch to using just pars objects.  No longer \"myPks\", should be renamed\n",
    "    myPksUpper.append(cp.matterPower.getPars(myPk,**myParamsUpper[cParamNum]))\n",
    "    myPksLower.append(cp.matterPower.getPars(myPk,**myParamsLower[cParamNum]))\n",
    "\n"
   ]
  },
  {
   "cell_type": "code",
   "execution_count": 279,
   "metadata": {
    "collapsed": true
   },
   "outputs": [],
   "source": [
    "def checkPars(pars):\n",
    "    H0 = pars.H0\n",
    "    print 'ombh2: ',pars.omegab*(H0/100)**2\n",
    "    print 'omch2: ',pars.omegac*(H0/100)**2\n",
    "    print 'H_0: ',H0, '(proxy for theta?)'\n",
    "    #print 'initial condition vector: ',pars.InitialConditionVector\n",
    "    print 'As: ',pars.InitPower.ScalarPowerAmp[0]\n",
    "    print 'ns: ',pars.InitPower.an[0]\n",
    "    print 'tau: ',pars.Reion.optical_depth\n",
    "    #print 'omega_n: ',pars.omegan\n",
    "    print 'omega_n*94*h**2: ',pars.omegan*94*(H0/100)**2\n",
    "    \n",
    "    #print '\\n'\n",
    "    #print pars\n",
    "    \n",
    "#checkPars(parsTest)\n",
    "if False:\n",
    "    for cParamNum in range(nCosParams):\n",
    "        print '\\nContents of pars objects for parameter set ',cParamNum+1,' for parameter ',paramList[cParamNum], \\\n",
    "              ' with delta ',deltaP[cParamNum]\n",
    "        checkPars(myPksUpper[cParamNum])\n",
    "        checkPars(myPksLower[cParamNum])"
   ]
  },
  {
   "cell_type": "code",
   "execution_count": null,
   "metadata": {
    "collapsed": true
   },
   "outputs": [],
   "source": []
  },
  {
   "cell_type": "code",
   "execution_count": null,
   "metadata": {
    "collapsed": true
   },
   "outputs": [],
   "source": []
  },
  {
   "cell_type": "code",
   "execution_count": 300,
   "metadata": {
    "collapsed": false
   },
   "outputs": [
    {
     "name": "stdout",
     "output_type": "stream",
     "text": [
      "getting Cl power spectrum\n",
      "(2051, 4)\n",
      "getting Cl power spectra for parameter  ombh2\n",
      "getting Cl power spectra for parameter  omch2\n",
      "getting Cl power spectra for parameter  cosmomc_theta\n",
      "getting Cl power spectra for parameter  As\n",
      "getting Cl power spectra for parameter  ns\n",
      "getting Cl power spectra for parameter  tau\n",
      "getting Cl power spectra for parameter  mnu\n",
      "getting Cl power spectra for parameter  w\n",
      "done\n"
     ]
    }
   ],
   "source": [
    "# get all cross power spectra\n",
    "lmax = 2000 # may want to match lmax in other Fisher calculation\n",
    "pars = myPk.pars\n",
    "#pars.set_for_lmax(lmax, lens_potential_accuracy=0)\n",
    "# try kicking it up for comaprison against Kevin's result\n",
    "lensLmax = lmax #3*lmax\n",
    "lpa = 5.0 # set_for_lmax also sets lensing to be non-linear if lens_potential_accuracy>0\n",
    "#aBoost = 1\n",
    "#aBoost = 2\n",
    "aBoost = 3\n",
    "#aBoost = 4\n",
    "#aBoost = 5\n",
    "pars.set_for_lmax(lensLmax, lens_potential_accuracy=lpa)\n",
    "pars.set_accuracy(AccuracyBoost=aBoost)\n",
    "\n",
    "#calculate results for these parameters\n",
    "print 'getting Cl power spectrum'\n",
    "results = camb.get_results(pars)\n",
    "\n",
    "#get dictionary of CAMB power spectra\n",
    "powers =results.get_cmb_power_spectra(pars)\n",
    "#for name in powers: print name\n",
    "\n",
    "#get the total lensed CMB power spectra versus unlensed\n",
    "#myClName = 'total'\n",
    "myClName = 'unlensed_scalar'\n",
    "myCl = powers[myClName]\n",
    "\n",
    "#totCl=powers['total']\n",
    "#unlensedCl=powers['unlensed_scalar']\n",
    "print myCl.shape\n",
    "#Python Cl arrays are all zero based (starting at L=0), Note L=0,1 entries will be zero by default.\n",
    "#The different CL are always in the order TT, EE, BB, TE (with BB=0 for unlensed scalar results).\n",
    "\n",
    "# re-arrange the data structure to be consistent with code in FisherMatrix\n",
    "nMaps = 2 # T,E\n",
    "crossCls      = np.zeros((nMaps,nMaps,           lmax))\n",
    "crossClsPlus  = np.zeros((nMaps,nMaps,nCosParams,lmax))\n",
    "crossClsMinus = np.zeros((nMaps,nMaps,nCosParams,lmax))\n",
    "\n",
    "crossCls[0,0] = myCl[:lmax,0] # TT\n",
    "crossCls[0,1] = myCl[:lmax,3] # TE\n",
    "crossCls[1,0] = myCl[:lmax,3] # ET\n",
    "crossCls[1,1] = myCl[:lmax,1] # EE\n",
    "\n",
    "# get the perturbed versions\n",
    "for paramNum in range(nCosParams):\n",
    "    print 'getting Cl power spectra for parameter ',paramList[paramNum]\n",
    "    parsUpper = myPksUpper[paramNum] #.pars\n",
    "    parsLower = myPksLower[paramNum] #.pars\n",
    "    parsUpper.set_for_lmax(lensLmax, lens_potential_accuracy=lpa)\n",
    "    parsLower.set_for_lmax(lensLmax, lens_potential_accuracy=lpa)\n",
    "    parsUpper.set_accuracy(AccuracyBoost=aBoost)\n",
    "    parsLower.set_accuracy(AccuracyBoost=aBoost)\n",
    "\n",
    "\n",
    "    #calculate results for these parameters\n",
    "    resultsUpper = camb.get_results(parsUpper)\n",
    "    resultsLower = camb.get_results(parsLower)\n",
    "\n",
    "    #get dictionary of CAMB power spectra\n",
    "    powersUpper =resultsUpper.get_cmb_power_spectra(parsUpper)\n",
    "    powersLower =resultsLower.get_cmb_power_spectra(parsLower)\n",
    "    \n",
    "    #get the selected power spectra\n",
    "    myClUpper=powersUpper[myClName]\n",
    "    myClLower=powersLower[myClName]\n",
    "    \n",
    "    #store them\n",
    "    crossClsPlus[0,0,paramNum]  = myClUpper[:lmax,0] # TT\n",
    "    crossClsPlus[0,1,paramNum]  = myClUpper[:lmax,3] # TE\n",
    "    crossClsPlus[1,0,paramNum]  = myClUpper[:lmax,3] # ET\n",
    "    crossClsPlus[1,1,paramNum]  = myClUpper[:lmax,1] # EE\n",
    "\n",
    "    crossClsMinus[0,0,paramNum] = myClLower[:lmax,0] # TT\n",
    "    crossClsMinus[0,1,paramNum] = myClLower[:lmax,3] # TE\n",
    "    crossClsMinus[1,0,paramNum] = myClLower[:lmax,3] # ET\n",
    "    crossClsMinus[1,1,paramNum] = myClLower[:lmax,1] # EE\n",
    "\n",
    "print 'done'\n"
   ]
  },
  {
   "cell_type": "code",
   "execution_count": null,
   "metadata": {
    "collapsed": true
   },
   "outputs": [],
   "source": []
  },
  {
   "cell_type": "code",
   "execution_count": 301,
   "metadata": {
    "collapsed": false
   },
   "outputs": [
    {
     "name": "stdout",
     "output_type": "stream",
     "text": [
      "building covariance matrix... \n",
      "starting covariance set  1  of  2 ... \n",
      "starting covariance set  2  of  2 ... \n",
      "inverting covariance matrix... \n",
      "lmin =  2\n",
      "obsList:  [ 0.  1.  3.]\n"
     ]
    }
   ],
   "source": [
    "# more code from FisherMatrix.__init__\n",
    "# create covariance matrix\n",
    "print 'building covariance matrix... '\n",
    "\n",
    "nCls = nMaps*(nMaps+1)/2 # This way removes redundancies, eg C_l^kg = C_l^gk\n",
    "#covar = np.zeros((nCls,nCls,lmax+51))\n",
    "#ells = np.arange(lmax+51)\n",
    "covar = np.zeros((nCls,nCls,lmax))\n",
    "ells = np.arange(lmax)\n",
    "\n",
    "# create obsList to contain base nMaps representation of data label\n",
    "obsList = np.zeros(nCls)\n",
    "\n",
    "for map1 in range(nMaps):\n",
    "    print 'starting covariance set ',map1+1,' of ',nMaps,'... '\n",
    "    for map2 in range(map1, nMaps):\n",
    "        covIndex1 = map1*nMaps+map2-map1*(map1+1)/2     # shortens the array\n",
    "        obsList[covIndex1] = map1*nMaps+map2       # base nMaps representation\n",
    "        for map3 in range(nMaps):\n",
    "          for map4 in range(map3, nMaps):\n",
    "            covIndex2 = map3*nMaps+map4-map3*(map3+1)/2 # shortens the array\n",
    "            if covIndex1 <= covIndex2:\n",
    "              covar[covIndex1,covIndex2] = (crossCls[map1,map3]*crossCls[map2,map4] + \\\n",
    "                                            crossCls[map1,map4]*crossCls[map2,map3] )/(2.*ells+1)\n",
    "            else:                                       # avoid double calculation\n",
    "              covar[covIndex1,covIndex2] = covar[covIndex2,covIndex1]\n",
    "\n",
    "# invert covariance matrix\n",
    "print 'inverting covariance matrix... '\n",
    "# transpose of inverse of transpose is inverse of original\n",
    "# need to do this to get indices in order that linalg.inv wants them\n",
    "invCov = np.transpose(np.linalg.inv(np.transpose(covar[:,:,2:])))\n",
    "ells = ells[2:]\n",
    "print 'lmin = ',ells[0]\n",
    "print 'obsList: ',obsList"
   ]
  },
  {
   "cell_type": "code",
   "execution_count": 302,
   "metadata": {
    "collapsed": false
   },
   "outputs": [],
   "source": [
    "# save covar\n",
    "# ell values go from 0 to lmax-1\n",
    "#import pickle \n",
    "#pickle.dump(covar,open('covar.pkl','w'))"
   ]
  },
  {
   "cell_type": "code",
   "execution_count": null,
   "metadata": {
    "collapsed": true
   },
   "outputs": [],
   "source": []
  },
  {
   "cell_type": "code",
   "execution_count": null,
   "metadata": {
    "collapsed": true
   },
   "outputs": [],
   "source": []
  },
  {
   "cell_type": "code",
   "execution_count": 303,
   "metadata": {
    "collapsed": false
   },
   "outputs": [
    {
     "name": "stdout",
     "output_type": "stream",
     "text": [
      "starting creation of C_l derivatives... \n",
      "starting derivative set  1  of  2 ... \n",
      "starting derivative set  2  of  2 ... \n"
     ]
    }
   ],
   "source": [
    "# get derivatives wrt parameters\n",
    "print 'starting creation of C_l derivatives... '\n",
    "#dClVecs = np.empty((nCls, nCosParams, lmax+51))\n",
    "#Clzeros = np.zeros(lmax+51) # for putting into dClVecs when needed\n",
    "dClVecs = np.empty((nCls, nCosParams, lmax))\n",
    "\n",
    "for map1 in range(nMaps):\n",
    "    print 'starting derivative set ',map1+1,' of ',nMaps,'... '\n",
    "    for map2 in range(map1,nMaps):\n",
    "        mapIdx  = map1*nMaps+map2 -map1*(map1+1)/2  \n",
    "                                   # mapIdx = map index\n",
    "        for pIdx in range(nCosParams):\n",
    "            dClPlus  = crossClsPlus[map1,map2,pIdx]\n",
    "            dClMinus = crossClsMinus[map1,map2,pIdx]\n",
    "            dClVecs[mapIdx, pIdx] = (dClPlus-dClMinus)/(2*deltaP[pIdx])\n"
   ]
  },
  {
   "cell_type": "code",
   "execution_count": 304,
   "metadata": {
    "collapsed": false
   },
   "outputs": [
    {
     "name": "stdout",
     "output_type": "stream",
     "text": [
      "building Fisher matrix from components...\n",
      "invCov.shape:  (3, 3, 1998) , dClVecs.shape:  (3, 8, 2000)\n",
      "starting bin set  1  of  8\n",
      "starting bin set  2  of  8\n",
      "starting bin set  3  of  8\n",
      "starting bin set  4  of  8\n",
      "starting bin set  5  of  8\n",
      "starting bin set  6  of  8\n",
      "starting bin set  7  of  8\n",
      "starting bin set  8  of  8\n",
      "creation of Fisher Matrix complete!\n",
      "\n",
      "Fij:\n",
      "[[  6.49374984e+10   2.06096301e+09   3.74664924e+11  -1.20127345e+16\n",
      "   -1.60514561e+07   5.11882487e+07   3.26853039e+07   1.44589930e+08]\n",
      " [  2.06096301e+09   9.12818447e+07   1.37395435e+10  -3.78798948e+15\n",
      "   -4.15729218e+06   1.61305633e+07   1.18762897e+06   6.23788369e+06]\n",
      " [  3.74664924e+11   1.37395435e+10   2.49009795e+12  -2.29997367e+17\n",
      "   -4.55623907e+08   9.79822277e+08   2.17001679e+08   1.10559279e+09]\n",
      " [ -1.20127345e+16  -3.78798948e+15  -2.29997367e+17   8.81510961e+23\n",
      "    1.25210693e+15  -3.75439989e+15  -1.71987369e+13  -1.67803653e+14]\n",
      " [ -1.60514561e+07  -4.15729218e+06  -4.55623907e+08   1.25210693e+15\n",
      "    2.59594448e+06  -5.33610603e+06  -3.51217566e+04  -3.25281207e+05]\n",
      " [  5.11882487e+07   1.61305633e+07   9.79822277e+08  -3.75439989e+15\n",
      "   -5.33610603e+06   1.59903085e+07   7.32739495e+04   7.14852312e+05]\n",
      " [  3.26853039e+07   1.18762897e+06   2.17001679e+08  -1.71987369e+13\n",
      "   -3.51217566e+04   7.32739495e+04   1.89513111e+04   9.62547115e+04]\n",
      " [  1.44589930e+08   6.23788369e+06   1.10559279e+09  -1.67803653e+14\n",
      "   -3.25281207e+05   7.14852312e+05   9.62547115e+04   5.52633606e+05]]\n",
      "eigenvalues of F_ij^-1:\n",
      "[  1.08505879e-18   4.02064240e-13   1.28383590e-10   1.24013913e-07\n",
      "   2.93798129e-06   1.92681938e-04   9.03927231e-03   3.63645876e-02]\n"
     ]
    }
   ],
   "source": [
    "#Build Fisher matrix\n",
    "lmin = 50 #to match Allison et. al. and justify no ISW effect\n",
    "#multply vectorT,invcov,vector and add up\n",
    "print 'building Fisher matrix from components...'\n",
    "print 'invCov.shape: ',invCov.shape,', dClVecs.shape: ',dClVecs.shape\n",
    "Fij = np.zeros((nCosParams,nCosParams)) # indices match those in paramList\n",
    "for i in range(nCosParams):\n",
    "    print 'starting bin set ',i+1,' of ',nCosParams\n",
    "    dClVec_i = dClVecs[:,i,:] # shape (nCls,nElls)\n",
    "    for j in range(nCosParams):\n",
    "        dClVec_j = dClVecs[:,j,:] # shape (nCls,nElls)\n",
    "        # ugh.  don't like nested loops in Python... but easier to program...\n",
    "        #for ell in range(lmin-2,lmax+51-2):\n",
    "        for ell in range(lmin-2,lmax-2):\n",
    "          myCov = invCov[:,:,ell]  #note invCov has no ell=0,1 but dClVecs do\n",
    "          fij = np.dot(dClVec_i[:,ell+2],np.dot(myCov,dClVec_j[:,ell+2]))\n",
    "          Fij[i,j] += fij\n",
    "    \n",
    "print 'creation of Fisher Matrix complete!\\n'\n",
    "\n",
    "# Have a look at it\n",
    "print 'Fij:'\n",
    "print Fij\n",
    "# check eigenvalues\n",
    "w,v = np.linalg.eigh(np.linalg.inv(Fij))\n",
    "print 'eigenvalues of F_ij^-1:'\n",
    "print w"
   ]
  },
  {
   "cell_type": "code",
   "execution_count": null,
   "metadata": {
    "collapsed": true
   },
   "outputs": [],
   "source": []
  },
  {
   "cell_type": "code",
   "execution_count": 305,
   "metadata": {
    "collapsed": false
   },
   "outputs": [
    {
     "name": "stdout",
     "output_type": "stream",
     "text": [
      "15990308.5226\n",
      "15992808.5226\n"
     ]
    }
   ],
   "source": [
    "# add prior on Tau for comparison with Kevin's result\n",
    "tauNum = 5\n",
    "tauPrior = 1/0.02**2\n",
    "print Fij[tauNum,tauNum]\n",
    "Fij[tauNum,tauNum] = Fij[tauNum,tauNum] + tauPrior \n",
    "print Fij[tauNum,tauNum]"
   ]
  },
  {
   "cell_type": "code",
   "execution_count": null,
   "metadata": {
    "collapsed": true
   },
   "outputs": [],
   "source": []
  },
  {
   "cell_type": "code",
   "execution_count": 306,
   "metadata": {
    "collapsed": false
   },
   "outputs": [
    {
     "data": {
      "image/png": "[encoded data removed]",
      "text/plain": [
       "<matplotlib.figure.Figure at 0x10ea7fcd0>"
      ]
     },
     "metadata": {},
     "output_type": "display_data"
    }
   ],
   "source": [
    "# just take a look at TT, TE, EE\n",
    "plt.loglog(ells,crossCls[0,0,2:]*ells*(ells+1))\n",
    "#plt.loglog(ells,crossCls[0,1,2:]*ells*(ells+1))\n",
    "plt.loglog(ells,crossCls[1,0,2:]*ells*(ells+1))\n",
    "plt.loglog(ells,crossCls[1,1,2:]*ells*(ells+1))\n",
    "plt.title('C_l TT, TE, EE');"
   ]
  },
  {
   "cell_type": "code",
   "execution_count": null,
   "metadata": {
    "collapsed": true
   },
   "outputs": [],
   "source": []
  },
  {
   "cell_type": "markdown",
   "metadata": {},
   "source": [
    "# Check out these uncertainties!"
   ]
  },
  {
   "cell_type": "code",
   "execution_count": 307,
   "metadata": {
    "collapsed": false
   },
   "outputs": [
    {
     "name": "stdout",
     "output_type": "stream",
     "text": [
      "ombh2 3.80885387057e-05\n",
      "omch2 0.00057607315743\n",
      "cosmomc_theta 1.98391611956e-05\n",
      "As 8.32379912479e-11\n",
      "ns 0.00174635031405\n",
      "tau 0.0195795620757\n",
      "mnu 0.188897719118\n",
      "w 0.0139532209965\n"
     ]
    }
   ],
   "source": [
    "sigmas = np.sqrt(np.diag(np.linalg.inv(Fij)))\n",
    "for i,p in enumerate(paramList):\n",
    "    print p, sigmas[i]"
   ]
  },
  {
   "cell_type": "code",
   "execution_count": null,
   "metadata": {
    "collapsed": true
   },
   "outputs": [],
   "source": []
  },
  {
   "cell_type": "code",
   "execution_count": 308,
   "metadata": {
    "collapsed": false
   },
   "outputs": [
    {
     "name": "stdout",
     "output_type": "stream",
     "text": [
      "[  0.   1.   2.   3.   4.   6.   7.   8.   9.  12.  13.  14.  18.  19.  24.]\n",
      "['ombh2', 'omch2', 'cosmomc_theta', 'As', 'ns', 'tau', 'mnu', 'w', 'bin1', 'bin2', 'bin3', 'bin4']\n"
     ]
    }
   ],
   "source": [
    "# get lensing and galaxy Fisher matrix to add\n",
    "import FisherCl2 as fcl\n",
    "import pickle\n",
    "filehandler2 = open('Fisher_4_4e.obj', 'r') # this one also has dark energy w; no omega_m fix\n",
    "#filehandler2 = open('Fisher_4_4d.obj', 'r') \n",
    "#filehandler2 = open('Fisher_4_4c.obj', 'r') \n",
    "#filehandler2 = open('Fisher_4_4b.obj', 'r') \n",
    "Fobj = pickle.load(filehandler2) \n",
    "\n",
    "print Fobj.obsList\n",
    "print Fobj.paramList"
   ]
  },
  {
   "cell_type": "code",
   "execution_count": 309,
   "metadata": {
    "collapsed": true
   },
   "outputs": [],
   "source": [
    "# remake the kappa-g Fij with lmin=50 to match the other Fij\n",
    "# make comparison against version with higher lmin\n",
    "# copy some code from FisherMatrix.__init__\n",
    "\n",
    "def makeFisher(Fobj,lmin):\n",
    "    \"\"\" code copied from FisherMatrix.__init__\n",
    "        Inputs:\n",
    "            Fobj:\n",
    "            lmin: minimum ell to make Fij\n",
    "    \"\"\"\n",
    "    #Build Fisher matrix\n",
    "    #multply vectorT,invcov,vector and add up\n",
    "    print 'building Fisher matrix from components...'\n",
    "    print 'invCov.shape: ',Fobj.invCov.shape,', dClVecs.shape: ',Fobj.dClVecs.shape\n",
    "    nParams = Fobj.nParams\n",
    "    lmax = 2000 #Fobj.lmax\n",
    "    Fij = np.zeros((nParams,nParams)) # indices match those in paramList\n",
    "    for i in range(nParams):\n",
    "      print 'starting bin set ',i+1,' of ',nParams\n",
    "      dClVec_i = Fobj.dClVecs[:,i,:] # shape (nCls,nElls)\n",
    "      for j in range(nParams):\n",
    "        dClVec_j = Fobj.dClVecs[:,j,:] # shape (nCls,nElls)\n",
    "        # ugh.  don't like nested loops in Python... but easier to program...\n",
    "        for ell in range(lmin-2,lmax-1): #-2 to match the indices\n",
    "          myCov = Fobj.invCov[:,:,ell]\n",
    "          fij = np.dot(dClVec_i[:,ell],np.dot(myCov,dClVec_j[:,ell]))\n",
    "          \n",
    "          Fij[i,j] += fij\n",
    "    \n",
    "    print 'creation of Fisher Matrix complete!\\n'\n",
    "    return Fij"
   ]
  },
  {
   "cell_type": "code",
   "execution_count": 310,
   "metadata": {
    "collapsed": false
   },
   "outputs": [
    {
     "name": "stdout",
     "output_type": "stream",
     "text": [
      "building Fisher matrix from components...\n",
      "invCov.shape:  (15, 15, 1999) , dClVecs.shape:  (15, 12, 1999)\n",
      "starting bin set  1  of  12\n",
      "starting bin set  2  of  12\n",
      "starting bin set  3  of  12\n",
      "starting bin set  4  of  12\n",
      "starting bin set  5  of  12\n",
      "starting bin set  6  of  12\n",
      "starting bin set  7  of  12\n",
      "starting bin set  8  of  12\n",
      "starting bin set  9  of  12\n",
      "starting bin set  10  of  12\n",
      "starting bin set  11  of  12\n",
      "starting bin set  12  of  12\n",
      "creation of Fisher Matrix complete!\n",
      "\n"
     ]
    }
   ],
   "source": [
    "lmin = 50\n",
    "Fij2 = makeFisher(Fobj,lmin)\n",
    "#Fij2 = makeFisher(Fobj,50)\n",
    "sigmas2 = np.sqrt(np.diag(np.linalg.inv(Fij2)))"
   ]
  },
  {
   "cell_type": "code",
   "execution_count": 311,
   "metadata": {
    "collapsed": false
   },
   "outputs": [
    {
     "name": "stdout",
     "output_type": "stream",
     "text": [
      "comparison of T,E sigmas with kappa,g sigmas:\n",
      "ombh2 3.80885387057e-05 0.000554303334438\n",
      "omch2 0.00057607315743 0.00120972570401\n",
      "cosmomc_theta 1.98391611956e-05 3.17596278766e-05\n",
      "As 8.32379912479e-11 3.12909652595e-11\n",
      "ns 0.00174635031405 0.00352117084085\n",
      "tau 0.0195795620757 2.92905561958\n",
      "mnu 0.188897719118 0.0184590840337\n",
      "w 0.0139532209965 0.02090654782\n"
     ]
    }
   ],
   "source": [
    "print 'comparison of T,E sigmas with kappa,g sigmas:'\n",
    "#sigmas2 = Fobj.getSigmas()\n",
    "for i,p in enumerate(paramList):\n",
    "    print p, sigmas[i],sigmas2[i]"
   ]
  },
  {
   "cell_type": "markdown",
   "metadata": {},
   "source": [
    "# Combine the Fisher matrices and see smaller sigmas"
   ]
  },
  {
   "cell_type": "code",
   "execution_count": 312,
   "metadata": {
    "collapsed": false
   },
   "outputs": [
    {
     "name": "stdout",
     "output_type": "stream",
     "text": [
      "comparison of sigma(T,E), sigma(kappa,g), and sigma(T,E,kappa,g):\n",
      "\n",
      "+---------------+------------+------------+----------------+\n",
      "|   Parameter   | sigma(T,E) | sigma(k,g) | sigma(T,E,k,g) |\n",
      "+---------------+------------+------------+----------------+\n",
      "|     ombh2     |  3.81e-05  |  0.000554  |    1.43e-05    |\n",
      "|     omch2     |  0.000576  |  0.00121   |    0.000104    |\n",
      "| cosmomc_theta |  1.98e-05  |  3.18e-05  |    3.32e-06    |\n",
      "|       As      |  8.32e-11  |  3.13e-11  |    1.17e-11    |\n",
      "|       ns      |  0.00175   |  0.00352   |    0.000769    |\n",
      "|      tau      |   0.0196   |    2.93    |    0.00289     |\n",
      "|      mnu      |   0.189    |   0.0185   |     0.0125     |\n",
      "|       w       |   0.014    |   0.0209   |    0.00258     |\n",
      "+---------------+------------+------------+----------------+\n"
     ]
    }
   ],
   "source": [
    "print 'comparison of sigma(T,E), sigma(kappa,g), and sigma(T,E,kappa,g):\\n'\n",
    "#FijSum = Fij+Fobj.Fij[:nCosParams,:nCosParams]  #oops, that was the lmin=2 version\n",
    "FijSum = Fij+Fij2[:nCosParams,:nCosParams]   # this one has lmin=50\n",
    "#print FijSum\n",
    "#print FijSum-Fij\n",
    "#print FijSum-Fij2[:nCosParams,:nCosParams]\n",
    "sigmas3 = np.sqrt(np.diag(np.linalg.inv(FijSum)))\n",
    "#for i,p in enumerate(paramList):\n",
    "#    print p, sigmas[i],sigmas2[i],sigmas3[i]\n",
    "    \n",
    "from prettytable import PrettyTable\n",
    "t = PrettyTable(['Parameter', 'sigma(T,E)','sigma(k,g)','sigma(T,E,k,g)'])\n",
    "for i,p in enumerate(paramList):\n",
    "    t.add_row([p,\"%5.3g\" % sigmas[i],\"%5.3g\" % sigmas2[i],\"%5.3g\" % sigmas3[i]])\n",
    "print t"
   ]
  },
  {
   "cell_type": "code",
   "execution_count": 313,
   "metadata": {
    "collapsed": false
   },
   "outputs": [
    {
     "name": "stdout",
     "output_type": "stream",
     "text": [
      "comparison of sigma(T,E), sigma(kappa,g), and sigma(T,E,kappa,g):\n",
      "\n",
      "+---------------+------------+------------+----------------+\n",
      "|   Parameter   | sigma(T,E) | sigma(k,g) | sigma(T,E,k,g) |\n",
      "+---------------+------------+------------+----------------+\n",
      "|     ombh2     |  3.81e-05  |  0.000554  |    2.47e-05    |\n",
      "|     omch2     |  0.000576  |  0.00121   |    0.000271    |\n",
      "| cosmomc_theta |  1.98e-05  |  3.18e-05  |    8.15e-06    |\n",
      "|       As      |  8.32e-11  |  3.13e-11  |    1.63e-11    |\n",
      "|       ns      |  0.00175   |  0.00352   |    0.00113     |\n",
      "|      tau      |   0.0196   |    2.93    |    0.00424     |\n",
      "|      mnu      |   0.189    |   0.0185   |     0.0148     |\n",
      "|       w       |   0.014    |   0.0209   |    0.00882     |\n",
      "|      bin1     |       0    |   0.0185   |    0.00452     |\n",
      "|      bin2     |       0    |   0.0262   |    0.00602     |\n",
      "|      bin3     |       0    |   0.0368   |    0.00699     |\n",
      "|      bin4     |       0    |   0.0476   |    0.00824     |\n",
      "+---------------+------------+------------+----------------+\n",
      "which Cl used for T,E:  unlensed_scalar\n"
     ]
    }
   ],
   "source": [
    "# the previous result fixed the biases for the combined sigmas.\n",
    "# do a different version without fixing them\n",
    "print 'comparison of sigma(T,E), sigma(kappa,g), and sigma(T,E,kappa,g):\\n'\n",
    "FijSum2 = Fij2.copy()\n",
    "#print FijSum2\n",
    "FijSum2[:nCosParams,:nCosParams] = FijSum2[:nCosParams,:nCosParams] + Fij\n",
    "#print Fij2\n",
    "#print FijSum2\n",
    "#print FijSum2-Fij2\n",
    "\n",
    "sigmas4 = np.append(sigmas,[0,0,0,0])\n",
    "#FijSum = Fij+Fobj.Fij[:nCosParams,:nCosParams]\n",
    "sigmas5 = np.sqrt(np.diag(np.linalg.inv(FijSum2)))\n",
    "#for i,p in enumerate(Fobj.paramList):\n",
    "#    print p, sigmas4[i],sigmas2[i],sigmas5[i]\n",
    "    \n",
    "from prettytable import PrettyTable\n",
    "t = PrettyTable(['Parameter', 'sigma(T,E)','sigma(k,g)','sigma(T,E,k,g)'])\n",
    "for i,p in enumerate(Fobj.paramList):\n",
    "    t.add_row([p,\"%5.3g\" % sigmas4[i],\"%5.3g\" % sigmas2[i],\"%5.3g\" % sigmas5[i]])\n",
    "print t\n",
    "print 'which Cl used for T,E: ',myClName"
   ]
  },
  {
   "cell_type": "code",
   "execution_count": null,
   "metadata": {
    "collapsed": true
   },
   "outputs": [],
   "source": []
  },
  {
   "cell_type": "code",
   "execution_count": 314,
   "metadata": {
    "collapsed": false
   },
   "outputs": [
    {
     "name": "stdout",
     "output_type": "stream",
     "text": [
      "unlensed_scalar\n"
     ]
    }
   ],
   "source": [
    "print myClName"
   ]
  },
  {
   "cell_type": "markdown",
   "metadata": {},
   "source": [
    "# Compare to Byeonghee's result"
   ]
  },
  {
   "cell_type": "code",
   "execution_count": null,
   "metadata": {
    "collapsed": true
   },
   "outputs": [],
   "source": []
  },
  {
   "cell_type": "code",
   "execution_count": 315,
   "metadata": {
    "collapsed": false
   },
   "outputs": [
    {
     "name": "stdout",
     "output_type": "stream",
     "text": [
      "['ombh2', 'omch2', 'cosmomc_theta', 'As', 'ns', 'tau', 'mnu', 'w']\n"
     ]
    }
   ],
   "source": [
    "# compare to Byeonghee's result.  Used lmin=2\n",
    "Bsigmas = {\n",
    "\n",
    "    'H0' :  0.250055784082, # uh oh, I didn't use this one and he did.\n",
    "    'ombh2' :  0.00023824067735,\n",
    "    'omch2' :  0.000568893510655,\n",
    "    'ns' :  0.00376239787388,\n",
    "    'As' :  0.0301429575374*1e-9,\n",
    "    'mnu' :  0.0266878886484,\n",
    "    \n",
    "    'bin1' : 0.00279368,\n",
    "    'bin2' : 0.00315648,\n",
    "    'bin3' : 0.00389477,\n",
    "    'bin4' : 0.00576142\n",
    "    \n",
    "}\n",
    "\"\"\"        sigma(b) (4 bins) =  [ 0.00344426  0.00602486  0.01024407  0.01938123]\n",
    "\n",
    "    sigma(b)/b (4 bins) =  [ 0.00279368  0.00315648  0.00389477  0.00576142]\n",
    "\"\"\"\n",
    "\n",
    "print paramList\n"
   ]
  },
  {
   "cell_type": "code",
   "execution_count": 316,
   "metadata": {
    "collapsed": false
   },
   "outputs": [
    {
     "name": "stdout",
     "output_type": "stream",
     "text": [
      "[  5.16910416e-04   8.89208196e-04   2.96579417e-05   2.51542879e-11\n",
      "   2.04587741e-03   0.00000000e+00   1.84448924e-02   2.02566623e-02\n",
      "   1.52396112e-02   1.99923124e-02   2.66909666e-02   3.42857626e-02]\n"
     ]
    }
   ],
   "source": [
    "# remove tau from my Fisher matrix, since Byeonghee omitted it.\n",
    "# define row,col deleting function\n",
    "def fixParam(Fij,pNum):\n",
    "    return np.delete(np.delete(Fij,pNum,0),pNum,1)\n",
    "Fij3 = fixParam(Fij2,5) # 5 for neutrinos\n",
    "sigmas3 = np.sqrt(np.diag(np.linalg.inv(Fij3)))\n",
    "sigmas3 = np.insert(sigmas3,5,0)\n",
    "print sigmas3"
   ]
  },
  {
   "cell_type": "code",
   "execution_count": 317,
   "metadata": {
    "collapsed": false
   },
   "outputs": [
    {
     "name": "stdout",
     "output_type": "stream",
     "text": [
      "fiducial B_i:  [ 1.6101423   2.30928962  3.11272888  3.93740365]\n",
      "[  5.16910416e-04   8.89208196e-04   2.96579417e-05   2.51542879e-11\n",
      "   2.04587741e-03   0.00000000e+00   1.84448924e-02   2.02566623e-02\n",
      "   9.46476049e-03   8.65734301e-03   8.57478040e-03   8.70770835e-03]\n"
     ]
    }
   ],
   "source": [
    "# convert sigma_bi to sigma_bi/fid_bi\n",
    "fidBs = Fobj.binBs\n",
    "print 'fiducial B_i: ',fidBs\n",
    "sigmas3[-4:] = sigmas3[-4:]/fidBs\n",
    "print sigmas3"
   ]
  },
  {
   "cell_type": "code",
   "execution_count": 318,
   "metadata": {
    "collapsed": false
   },
   "outputs": [
    {
     "ename": "IndexError",
     "evalue": "boolean index did not match indexed array along dimension 0; dimension is 12 but corresponding boolean dimension is 11",
     "output_type": "error",
     "traceback": [
      "\u001b[0;31m---------------------------------------------------------------------------\u001b[0m",
      "\u001b[0;31mIndexError\u001b[0m                                Traceback (most recent call last)",
      "\u001b[0;32m<ipython-input-318-b5c0b9a145e0>\u001b[0m in \u001b[0;36m<module>\u001b[0;34m()\u001b[0m\n\u001b[1;32m      3\u001b[0m \u001b[0mparamListB\u001b[0m \u001b[0;34m=\u001b[0m \u001b[0mnp\u001b[0m\u001b[0;34m.\u001b[0m\u001b[0marray\u001b[0m\u001b[0;34m(\u001b[0m\u001b[0mparamList\u001b[0m\u001b[0;34m)\u001b[0m\u001b[0;34m\u001b[0m\u001b[0m\n\u001b[1;32m      4\u001b[0m \u001b[0mparamListB\u001b[0m \u001b[0;34m=\u001b[0m \u001b[0mnp\u001b[0m\u001b[0;34m.\u001b[0m\u001b[0mappend\u001b[0m\u001b[0;34m(\u001b[0m\u001b[0mparamListB\u001b[0m\u001b[0;34m,\u001b[0m\u001b[0;34m[\u001b[0m\u001b[0;34m'bin1'\u001b[0m\u001b[0;34m,\u001b[0m\u001b[0;34m'bin2'\u001b[0m\u001b[0;34m,\u001b[0m\u001b[0;34m'bin3'\u001b[0m\u001b[0;34m,\u001b[0m\u001b[0;34m'bin4'\u001b[0m\u001b[0;34m]\u001b[0m\u001b[0;34m)\u001b[0m\u001b[0;34m\u001b[0m\u001b[0m\n\u001b[0;32m----> 5\u001b[0;31m \u001b[0mparamListB\u001b[0m \u001b[0;34m=\u001b[0m \u001b[0mparamListB\u001b[0m\u001b[0;34m[\u001b[0m\u001b[0mmask\u001b[0m\u001b[0;34m]\u001b[0m\u001b[0;34m\u001b[0m\u001b[0m\n\u001b[0m\u001b[1;32m      6\u001b[0m \u001b[0msigmasB\u001b[0m \u001b[0;34m=\u001b[0m \u001b[0msigmas3\u001b[0m\u001b[0;34m[\u001b[0m\u001b[0mmask\u001b[0m\u001b[0;34m]\u001b[0m\u001b[0;34m\u001b[0m\u001b[0m\n\u001b[1;32m      7\u001b[0m \u001b[0;32mprint\u001b[0m \u001b[0msigmas3\u001b[0m\u001b[0;34m\u001b[0m\u001b[0m\n",
      "\u001b[0;31mIndexError\u001b[0m: boolean index did not match indexed array along dimension 0; dimension is 12 but corresponding boolean dimension is 11"
     ]
    }
   ],
   "source": [
    "#paramList = ['ombh2','omch2','cosmomc_theta','As','ns','tau','mnu']\n",
    "mask = [True,True,False,True,True,False,True, True,True,True,True]\n",
    "paramListB = np.array(paramList)\n",
    "paramListB = np.append(paramListB,['bin1','bin2','bin3','bin4'])\n",
    "paramListB = paramListB[mask]\n",
    "sigmasB = sigmas3[mask]\n",
    "print sigmas3\n",
    "print sigmasB\n",
    "print paramListB\n",
    "print lmin"
   ]
  },
  {
   "cell_type": "code",
   "execution_count": null,
   "metadata": {
    "collapsed": false
   },
   "outputs": [],
   "source": [
    "from prettytable import PrettyTable\n",
    "t = PrettyTable(['Parameter', 'sigma_Z(k,g)','sigma_B(k,g)','percent diff.'])\n",
    "for i,p in enumerate(paramListB):\n",
    "    Zi = sigmasB[i]\n",
    "    Bi = Bsigmas[paramListB[i]]\n",
    "    diff = (Bi-Zi)/Zi *100\n",
    "    t.add_row([p,\"%5.3g\" % Zi,\"%5.3g\" % Bi, \"%5.3g\" % diff ] )\n",
    "print t"
   ]
  },
  {
   "cell_type": "code",
   "execution_count": null,
   "metadata": {
    "collapsed": true
   },
   "outputs": [],
   "source": []
  },
  {
   "cell_type": "markdown",
   "metadata": {},
   "source": [
    "To add:\n",
    "    switch to halofit\n",
    "    shot noise\n",
    "    lensing recon noise\n",
    "    DE params\n",
    "    Improved bias model  (important but hard; not for 'first paper')\n",
    "    Inverted nu hiearchy: Is there any sensitivity beyond Sigma mnu (transition region)\n",
    "        (drawing: power stepping down for each species instead of one step down with ell)\n",
    "        Ll: guesses probably not"
   ]
  },
  {
   "cell_type": "markdown",
   "metadata": {},
   "source": [
    "priorities: byeonhee,kevin comparisons,\n",
    "    include DE\n",
    "    inverted nu hier\n",
    "    halofit\n",
    "    noise"
   ]
  },
  {
   "cell_type": "markdown",
   "metadata": {},
   "source": [
    "# Compare to Kevin's result"
   ]
  },
  {
   "cell_type": "code",
   "execution_count": null,
   "metadata": {
    "collapsed": true
   },
   "outputs": [],
   "source": [
    "# compare to Kevin's result  (reportedly from unlensed spectra; \n",
    "#   Lloyd wanted him to double check that due to the small size of mnu)\n",
    "Ksigmas = {\n",
    "    'As' : 8.36787928685e-11,\n",
    "    'cosmomc_theta' : 1.44400712682e-06,\n",
    "    'mnu' : 0.220088883622,\n",
    "    'ns' : 0.00193696953962,\n",
    "    'ombh2' : 4.50012028332e-05,\n",
    "    'omch2' : 0.000630720967738,\n",
    "    'tau' : 0.0196834629721\n",
    "}\n",
    "\n",
    "# Kevin has more results for me, using my fiducial parameter values and step sizes:\n",
    "# Using lensed spectra:\n",
    "Ksigmas2 = {\n",
    "    'As' : 7.16774197011e-11,\n",
    "    'cosmomc_theta' : 1.09586297761e-06,\n",
    "    'mnu' : 0.146118415833,\n",
    "    'ns' : 0.00177830934705,\n",
    "    'ombh2' : 4.070676724e-05,\n",
    "    'omch2' : 0.000576393112142,\n",
    "    'tau' : 0.0171234498358\n",
    "}\n",
    "\n",
    "# Using unlensed spectra:\n",
    "Ksigmas3 = {\n",
    "    'As' : 8.33407946912e-11,\n",
    "    'cosmomc_theta' : 1.69789979871e-06,\n",
    "    'mnu' : 0.285834557983,\n",
    "    'ns' : 0.00176069831712,\n",
    "    'ombh2' : 4.1390440571e-05,\n",
    "    'omch2' : 0.000566243441739,\n",
    "    'tau' : 0.0195975583329\n",
    "}"
   ]
  },
  {
   "cell_type": "code",
   "execution_count": null,
   "metadata": {
    "collapsed": false
   },
   "outputs": [],
   "source": [
    "from prettytable import PrettyTable\n",
    "t = PrettyTable(['Parameter', 'sigma_Z(T,E)','sigma_K(T,E)','percent diff.'])\n",
    "for i,p in enumerate(paramList):\n",
    "    Zi = sigmas[i]\n",
    "    Ki = Ksigmas3[paramList[i]]\n",
    "    diff = (Ki-Zi)/Zi *100\n",
    "    t.add_row([p,\"%5.3g\" % Zi,\"%5.3g\" % Ki, \"%5.3g\" % diff ] )\n",
    "print t"
   ]
  },
  {
   "cell_type": "code",
   "execution_count": null,
   "metadata": {
    "collapsed": false
   },
   "outputs": [],
   "source": [
    "print deltaP\n"
   ]
  },
  {
   "cell_type": "code",
   "execution_count": null,
   "metadata": {
    "collapsed": true
   },
   "outputs": [],
   "source": []
  }
 ],
 "metadata": {
  "kernelspec": {
   "display_name": "Python 2",
   "language": "python",
   "name": "python2"
  },
  "language_info": {
   "codemirror_mode": {
    "name": "ipython",
    "version": 2
   },
   "file_extension": ".py",
   "mimetype": "text/x-python",
   "name": "python",
   "nbconvert_exporter": "python",
   "pygments_lexer": "ipython2",
   "version": "2.7.14"
  }
 },
 "nbformat": 4,
 "nbformat_minor": 0
}
