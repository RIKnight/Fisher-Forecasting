{
 "cells": [
  {
   "cell_type": "markdown",
   "metadata": {},
   "source": [
    "# Making some quick calculations to get $F_{ij}$ working for $C_l^{TT},C_l^{TE},C_l^{EE}$ observables"
   ]
  },
  {
   "cell_type": "code",
   "execution_count": 3,
   "metadata": {},
   "outputs": [],
   "source": [
    "import crosspower as cp # branch quickCl\n",
    "#import FisherCl as fcl\n",
    "#import FisherCl2 as fcl\n",
    "#from numpy.linalg import eigh\n",
    "import camb\n",
    "\n",
    "# set plotting to be in the notebook instead of its own qt window\n",
    "%matplotlib inline"
   ]
  },
  {
   "cell_type": "code",
   "execution_count": 4,
   "metadata": {},
   "outputs": [
    {
     "name": "stdout",
     "output_type": "stream",
     "text": [
      "nonlinear =  True\n"
     ]
    }
   ],
   "source": [
    "# set cosmological parameters\n",
    "\n",
    "cosParams = {\n",
    "        'H0'    : None, #67.51, #setting H0=None allows cosmomc_theta to be used instead\n",
    "        'cosmomc_theta'           : 1.04087e-2,\n",
    "        'ombh2' : 0.02226,\n",
    "        'omch2' : 0.1193,\n",
    "        'omk'   : 0,\n",
    "        'tau'   : 0.063,\n",
    "\n",
    "        'As'    : 2.130e-9,\n",
    "        'ns'    : 0.9653,\n",
    "        'r'     : 0,\n",
    "        'kPivot': 0.05,\n",
    "    \n",
    "        'w'     : -1.0,\n",
    "        'wa'    : 0.0,\n",
    "\n",
    "        # if fiducial mnu is changed, need to adjust omch2 as well\n",
    "        'mnu'   : 0.06, # (eV)\n",
    "        #'mnu'   : 0.058, # Lloyd suggested this value for fiducial; adjust omch2 if I do use it\n",
    "        'nnu'   : 3.046,\n",
    "        'standard_neutrino_neff'  : 3.046,\n",
    "        'num_massive_neutrinos'   : 1,\n",
    "        'neutrino_hierarchy'      : 'normal'}\n",
    "\n",
    "AccuracyBoost = 3\n",
    "nonlinear = True\n",
    "nz = 30000\n",
    "lpa = 5.0\n",
    "print 'nonlinear = ',nonlinear\n"
   ]
  },
  {
   "cell_type": "code",
   "execution_count": null,
   "metadata": {},
   "outputs": [],
   "source": []
  },
  {
   "cell_type": "code",
   "execution_count": 5,
   "metadata": {},
   "outputs": [
    {
     "data": {
      "text/plain": [
       "\"\\ncosParams = {\\n        'H0'    : None, #67.51, #setting H0=None allows cosmomc_theta to be used instead\\n        'cosmomc_theta'           : 1.04076967e-2,\\n        'ombh2' : 0.02227,\\n        'omch2' : 0.1413-0.02227,\\n        'omk'   : 0,\\n        'tau'   : 0.067,\\n\\n        'As'    : 1.873e-9,\\n        'ns'    : 0.9681,\\n        'r'     : 0,\\n        'kPivot': 0.05,\\n\\n        # if fiducial mnu is changed, need to adjust omch2 as well\\n        'mnu'   : 0.06, # (eV)\\n        #'mnu'   : 0.058, # Lloyd suggested this value for fiducial; adjust omch2 if I do use it\\n        'nnu'   : 3.046,\\n        'standard_neutrino_neff'  : 3.046,\\n        'num_massive_neutrinos'   : 1,\\n        'neutrino_hierarchy'      : 'normal'}\\n\""
      ]
     },
     "execution_count": 5,
     "metadata": {},
     "output_type": "execute_result"
    }
   ],
   "source": [
    "# set cosmological parameters\n",
    "# step sizes from Kevin's SPT-3G forecasting notebook\n",
    "\"\"\"params_base_theta={'H0':None,'cosmomc_theta':fish_param(1.04076967/100,0.000323773),\n",
    "                           'ombh2':fish_param(0.02227,0.0002),\n",
    "                           'ommh2':fish_param(0.1413,0.0011),\n",
    "                           'tau':fish_param(0.067,0.013, 0.02),\n",
    "                           'clamp':fish_param(1.873,0.0115),\n",
    "                           'ns':fish_param( 0.9681,0.0044),\n",
    "                           'lmax':6000,'lens_potential_accuracy':5.0}\"\"\"\n",
    "#                   ('lcdm_mnu',{'mnu':fish_param(.06,0.01)}),\n",
    "\"\"\"\n",
    "cosParams = {\n",
    "        'H0'    : None, #67.51, #setting H0=None allows cosmomc_theta to be used instead\n",
    "        'cosmomc_theta'           : 1.04076967e-2,\n",
    "        'ombh2' : 0.02227,\n",
    "        'omch2' : 0.1413-0.02227,\n",
    "        'omk'   : 0,\n",
    "        'tau'   : 0.067,\n",
    "\n",
    "        'As'    : 1.873e-9,\n",
    "        'ns'    : 0.9681,\n",
    "        'r'     : 0,\n",
    "        'kPivot': 0.05,\n",
    "\n",
    "        # if fiducial mnu is changed, need to adjust omch2 as well\n",
    "        'mnu'   : 0.06, # (eV)\n",
    "        #'mnu'   : 0.058, # Lloyd suggested this value for fiducial; adjust omch2 if I do use it\n",
    "        'nnu'   : 3.046,\n",
    "        'standard_neutrino_neff'  : 3.046,\n",
    "        'num_massive_neutrinos'   : 1,\n",
    "        'neutrino_hierarchy'      : 'normal'}\n",
    "\"\"\"\n"
   ]
  },
  {
   "cell_type": "code",
   "execution_count": 6,
   "metadata": {},
   "outputs": [
    {
     "name": "stdout",
     "output_type": "stream",
     "text": [
      "neutrino_hierarchy =  normal\n"
     ]
    },
    {
     "name": "stderr",
     "output_type": "stream",
     "text": [
      "WARNING:root:accuracy parameters are changed globally, not yet per parameter set\n"
     ]
    },
    {
     "name": "stdout",
     "output_type": "stream",
     "text": [
      "zs.size:  29998\n",
      "done.\n"
     ]
    }
   ],
   "source": [
    "# get a matterPower object\n",
    "reload(cp)\n",
    "myPk = cp.MatterPower(nz=nz,AccuracyBoost=AccuracyBoost,nonlinear=nonlinear,**cosParams)\n",
    "print 'done.'"
   ]
  },
  {
   "cell_type": "code",
   "execution_count": 8,
   "metadata": {},
   "outputs": [
    {
     "name": "stderr",
     "output_type": "stream",
     "text": [
      "WARNING:root:accuracy parameters are changed globally, not yet per parameter set\n"
     ]
    },
    {
     "name": "stdout",
     "output_type": "stream",
     "text": [
      "creating parameter sets for making discrete derivatives...\n",
      "creating parameter set for  ombh2  derivative...\n"
     ]
    },
    {
     "name": "stderr",
     "output_type": "stream",
     "text": [
      "WARNING:root:accuracy parameters are changed globally, not yet per parameter set\n",
      "WARNING:root:accuracy parameters are changed globally, not yet per parameter set\n"
     ]
    },
    {
     "name": "stdout",
     "output_type": "stream",
     "text": [
      "creating parameter set for  omch2  derivative...\n"
     ]
    },
    {
     "name": "stderr",
     "output_type": "stream",
     "text": [
      "WARNING:root:accuracy parameters are changed globally, not yet per parameter set\n"
     ]
    },
    {
     "name": "stdout",
     "output_type": "stream",
     "text": [
      "creating parameter set for  cosmomc_theta  derivative...\n"
     ]
    },
    {
     "name": "stderr",
     "output_type": "stream",
     "text": [
      "WARNING:root:accuracy parameters are changed globally, not yet per parameter set\n",
      "WARNING:root:accuracy parameters are changed globally, not yet per parameter set\n",
      "WARNING:root:accuracy parameters are changed globally, not yet per parameter set\n",
      "WARNING:root:accuracy parameters are changed globally, not yet per parameter set\n"
     ]
    },
    {
     "name": "stdout",
     "output_type": "stream",
     "text": [
      "creating parameter set for  As  derivative...\n",
      "creating parameter set for "
     ]
    },
    {
     "name": "stderr",
     "output_type": "stream",
     "text": [
      "WARNING:root:accuracy parameters are changed globally, not yet per parameter set\n"
     ]
    },
    {
     "name": "stdout",
     "output_type": "stream",
     "text": [
      " ns  derivative...\n"
     ]
    },
    {
     "name": "stderr",
     "output_type": "stream",
     "text": [
      "WARNING:root:accuracy parameters are changed globally, not yet per parameter set\n",
      "WARNING:root:accuracy parameters are changed globally, not yet per parameter set\n"
     ]
    },
    {
     "name": "stdout",
     "output_type": "stream",
     "text": [
      "creating parameter set for  tau  derivative...\n"
     ]
    },
    {
     "name": "stderr",
     "output_type": "stream",
     "text": [
      "WARNING:root:accuracy parameters are changed globally, not yet per parameter set\n",
      "WARNING:root:accuracy parameters are changed globally, not yet per parameter set\n"
     ]
    },
    {
     "name": "stdout",
     "output_type": "stream",
     "text": [
      "creating parameter set for  mnu  derivative...\n"
     ]
    },
    {
     "name": "stderr",
     "output_type": "stream",
     "text": [
      "WARNING:root:accuracy parameters are changed globally, not yet per parameter set\n",
      "WARNING:root:Currently dark energy parameters are changed globally, not per parameter set\n",
      "WARNING:root:accuracy parameters are changed globally, not yet per parameter set\n"
     ]
    },
    {
     "name": "stdout",
     "output_type": "stream",
     "text": [
      "creating parameter set for  w  derivative...\n"
     ]
    },
    {
     "name": "stderr",
     "output_type": "stream",
     "text": [
      "WARNING:root:Currently dark energy parameters are changed globally, not per parameter set\n",
      "WARNING:root:accuracy parameters are changed globally, not yet per parameter set\n",
      "WARNING:root:accuracy parameters are changed globally, not yet per parameter set\n"
     ]
    },
    {
     "name": "stdout",
     "output_type": "stream",
     "text": [
      "creating parameter set for  wa  derivative...\n"
     ]
    },
    {
     "name": "stderr",
     "output_type": "stream",
     "text": [
      "WARNING:root:accuracy parameters are changed globally, not yet per parameter set\n"
     ]
    }
   ],
   "source": [
    "# copy some setup from FisherCl2.py\n",
    "\n",
    "#myParams = myPk.cosParams\n",
    "myParams = cosParams\n",
    "nz = 1000\n",
    "\n",
    "# parameters list:\n",
    "# step sizes for discrete derivatives: must correspond to paramList entries!\n",
    "#   from Allison et. al. (2015) Table III.\n",
    "nCosParams = 9 # 6 LCDM + Mnu + w0 + wa\n",
    "paramList = ['ombh2','omch2','cosmomc_theta',  'As', 'ns','tau','mnu', 'w', 'wa']\n",
    "deltaP =    [ 0.0008, 0.0030,      0.0050e-2,0.1e-9,0.010,0.020,0.020,0.05,0.025] #mnu one in eV\n",
    "\n",
    "# step sizes from Kevin's SPT-3G forecasting notebook\n",
    "\"\"\"params_base_theta={'H0':None,'cosmomc_theta':fish_param(1.04076967/100,0.000323773),\n",
    "                           'ombh2':fish_param(0.02227,0.0002),\n",
    "                           'ommh2':fish_param(0.1413,0.0011),\n",
    "                           'tau':fish_param(0.067,0.013, 0.02),\n",
    "                           'clamp':fish_param(1.873,0.0115),\n",
    "                           'ns':fish_param( 0.9681,0.0044),\n",
    "                           'lmax':6000,'lens_potential_accuracy':5.0}\"\"\"\n",
    "#                   ('lcdm_mnu',{'mnu':fish_param(.06,0.01)}),\n",
    "#deltaP = [0.0002,0.0011,0.000323773,0.0115e-9,0.0044,0.013,0.01]\n",
    "\n",
    "# cut deltaP in half to see effect\n",
    "#deltaP = np.array(deltaP)/2.\n",
    "\n",
    "# double deltaP to see effect\n",
    "#deltaP = np.array(deltaP)*2.\n",
    "\n",
    "# get more parameter sets for numeric differentiation\n",
    "print 'creating parameter sets for making discrete derivatives...'\n",
    "myParamsUpper = []\n",
    "myParamsLower = []\n",
    "myPksUpper = []\n",
    "myPksLower = []\n",
    "for cParamNum in range(nCosParams):\n",
    "    #print 'creating matter power spectra for ',paramList[cParamNum],' derivative...'\n",
    "    print 'creating parameter set for ',paramList[cParamNum],' derivative...'\n",
    "    # add parameter dictionary to lists; HAVE TO BE COPIES!!!\n",
    "    myParamsUpper.append(myParams.copy())\n",
    "    myParamsLower.append(myParams.copy())\n",
    "    # modify parameter number cParamNum in dictionaries\n",
    "    myParamsUpper[cParamNum][paramList[cParamNum]] += deltaP[cParamNum]\n",
    "    myParamsLower[cParamNum][paramList[cParamNum]] -= deltaP[cParamNum]\n",
    "\n",
    "    \n",
    "    # toggle this section off for comparison with Kevin's Fisher result:\n",
    "    # actually, don't use it generally, since it's simpler without.\n",
    "    # toggle this on to make comparisons with Byeonghee's result\n",
    "    \"\"\"\n",
    "    # check for mnu modification and adjust omch2 if necessary\n",
    "    if paramList[cParamNum] == 'mnu':\n",
    "        omch2Index = np.where(np.array(paramList) == 'omch2')[0][0]\n",
    "        deltaOmnh2 = deltaP[cParamNum]/94 #eq.n 12 from Wu et. al.\n",
    "        #deltaOmnh2 = pars.omegan*(pars.H0/100)**2 # probably a better measure of omega_nu\n",
    "        # note the -=,+= signs get reversed in next 2 lines compared to above\n",
    "        myParamsUpper[cParamNum][paramList[omch2Index]] -= deltaOmnh2\n",
    "        myParamsLower[cParamNum][paramList[omch2Index]] += deltaOmnh2\n",
    "    \"\"\"\n",
    "\n",
    "    #print 'cPramNum: ',cParamNum,', param name: ',paramList[cParamNum]\n",
    "    #print 'myParamsUpper[cParamNum][paramList[cParamNum]]: ',myParamsUpper[cParamNum][paramList[cParamNum]]\n",
    "    #print 'myParamsLower[cParamNum][paramList[cParamNum]]: ',myParamsLower[cParamNum][paramList[cParamNum]]\n",
    "    #print 'deltaP[cParamNum]: ',deltaP[cParamNum]\n",
    "\n",
    "    # create matter power objects and add to lists\n",
    "    # really I just need matterPower.pars, but this is a fast way to code it\n",
    "    #myPksUpper.append(cp.matterPower(nz=nz,**myParamsUpper[cParamNum]))\n",
    "    #myPksLower.append(cp.matterPower(nz=nz,**myParamsLower[cParamNum]))\n",
    "    \n",
    "    # switch to using just pars objects.  No longer \"myPks\", should be renamed\n",
    "    myPksUpper.append(cp.MatterPower.getPars(myPk,**myParamsUpper[cParamNum]))\n",
    "    myPksLower.append(cp.MatterPower.getPars(myPk,**myParamsLower[cParamNum]))\n",
    "\n"
   ]
  },
  {
   "cell_type": "code",
   "execution_count": 9,
   "metadata": {},
   "outputs": [],
   "source": [
    "def checkPars(pars):\n",
    "    H0 = pars.H0\n",
    "    print 'ombh2: ',pars.omegab*(H0/100)**2\n",
    "    print 'omch2: ',pars.omegac*(H0/100)**2\n",
    "    print 'H_0: ',H0, '(proxy for theta?)'\n",
    "    #print 'initial condition vector: ',pars.InitialConditionVector\n",
    "    print 'As: ',pars.InitPower.ScalarPowerAmp[0]\n",
    "    print 'ns: ',pars.InitPower.an[0]\n",
    "    print 'tau: ',pars.Reion.optical_depth\n",
    "    #print 'omega_n: ',pars.omegan\n",
    "    print 'omega_n*94*h**2: ',pars.omegan*94*(H0/100)**2\n",
    "    \n",
    "    #print '\\n'\n",
    "    #print pars\n",
    "    \n",
    "#checkPars(parsTest)\n",
    "if False:\n",
    "    for cParamNum in range(nCosParams):\n",
    "        print '\\nContents of pars objects for parameter set ',cParamNum+1,' for parameter ',paramList[cParamNum], \\\n",
    "              ' with delta ',deltaP[cParamNum]\n",
    "        checkPars(myPksUpper[cParamNum])\n",
    "        checkPars(myPksLower[cParamNum])"
   ]
  },
  {
   "cell_type": "code",
   "execution_count": null,
   "metadata": {},
   "outputs": [],
   "source": []
  },
  {
   "cell_type": "code",
   "execution_count": null,
   "metadata": {},
   "outputs": [],
   "source": []
  },
  {
   "cell_type": "code",
   "execution_count": 12,
   "metadata": {
    "scrolled": false
   },
   "outputs": [
    {
     "name": "stderr",
     "output_type": "stream",
     "text": [
      "WARNING:root:accuracy parameters are changed globally, not yet per parameter set\n"
     ]
    },
    {
     "name": "stdout",
     "output_type": "stream",
     "text": [
      "getting Cl power spectrum\n"
     ]
    },
    {
     "name": "stderr",
     "output_type": "stream",
     "text": [
      "WARNING:root:accuracy parameters are changed globally, not yet per parameter set\n",
      "WARNING:root:accuracy parameters are changed globally, not yet per parameter set\n"
     ]
    },
    {
     "name": "stdout",
     "output_type": "stream",
     "text": [
      "(3051, 4)\n",
      "getting Cl power spectra for parameter  ombh2\n"
     ]
    },
    {
     "name": "stderr",
     "output_type": "stream",
     "text": [
      "WARNING:root:accuracy parameters are changed globally, not yet per parameter set\n",
      "WARNING:root:accuracy parameters are changed globally, not yet per parameter set\n"
     ]
    },
    {
     "name": "stdout",
     "output_type": "stream",
     "text": [
      "getting Cl power spectra for parameter  omch2\n"
     ]
    },
    {
     "name": "stderr",
     "output_type": "stream",
     "text": [
      "WARNING:root:accuracy parameters are changed globally, not yet per parameter set\n",
      "WARNING:root:accuracy parameters are changed globally, not yet per parameter set\n"
     ]
    },
    {
     "name": "stdout",
     "output_type": "stream",
     "text": [
      "getting Cl power spectra for parameter  cosmomc_theta\n"
     ]
    },
    {
     "name": "stderr",
     "output_type": "stream",
     "text": [
      "WARNING:root:accuracy parameters are changed globally, not yet per parameter set\n",
      "WARNING:root:accuracy parameters are changed globally, not yet per parameter set\n"
     ]
    },
    {
     "name": "stdout",
     "output_type": "stream",
     "text": [
      "getting Cl power spectra for parameter  As\n"
     ]
    },
    {
     "name": "stderr",
     "output_type": "stream",
     "text": [
      "WARNING:root:accuracy parameters are changed globally, not yet per parameter set\n",
      "WARNING:root:accuracy parameters are changed globally, not yet per parameter set\n"
     ]
    },
    {
     "name": "stdout",
     "output_type": "stream",
     "text": [
      "getting Cl power spectra for parameter  ns\n"
     ]
    },
    {
     "name": "stderr",
     "output_type": "stream",
     "text": [
      "WARNING:root:accuracy parameters are changed globally, not yet per parameter set\n",
      "WARNING:root:accuracy parameters are changed globally, not yet per parameter set\n"
     ]
    },
    {
     "name": "stdout",
     "output_type": "stream",
     "text": [
      "getting Cl power spectra for parameter  tau\n"
     ]
    },
    {
     "name": "stderr",
     "output_type": "stream",
     "text": [
      "WARNING:root:accuracy parameters are changed globally, not yet per parameter set\n",
      "WARNING:root:accuracy parameters are changed globally, not yet per parameter set\n"
     ]
    },
    {
     "name": "stdout",
     "output_type": "stream",
     "text": [
      "getting Cl power spectra for parameter  mnu\n"
     ]
    },
    {
     "name": "stderr",
     "output_type": "stream",
     "text": [
      "WARNING:root:accuracy parameters are changed globally, not yet per parameter set\n",
      "WARNING:root:accuracy parameters are changed globally, not yet per parameter set\n"
     ]
    },
    {
     "name": "stdout",
     "output_type": "stream",
     "text": [
      "getting Cl power spectra for parameter  w\n"
     ]
    },
    {
     "name": "stderr",
     "output_type": "stream",
     "text": [
      "WARNING:root:accuracy parameters are changed globally, not yet per parameter set\n",
      "WARNING:root:accuracy parameters are changed globally, not yet per parameter set\n"
     ]
    },
    {
     "name": "stdout",
     "output_type": "stream",
     "text": [
      "getting Cl power spectra for parameter  wa\n",
      "done\n"
     ]
    }
   ],
   "source": [
    "# get all cross power spectra\n",
    "lmax = 5000 # may want to match lmax in other Fisher calculation\n",
    "pars = myPk.pars\n",
    "#pars.set_for_lmax(lmax, lens_potential_accuracy=0)\n",
    "# try kicking it up for comaprison against Kevin's result\n",
    "lensLmax = 3000 #lmax #3*lmax\n",
    "pars.set_for_lmax(lensLmax, lens_potential_accuracy=lpa)\n",
    "pars.set_accuracy(AccuracyBoost=AccuracyBoost)\n",
    "\n",
    "#calculate results for these parameters\n",
    "print 'getting Cl power spectrum'\n",
    "results = camb.get_results(pars)\n",
    "\n",
    "#get dictionary of CAMB power spectra\n",
    "powers =results.get_cmb_power_spectra(pars)\n",
    "#for name in powers: print name\n",
    "\n",
    "#get the total lensed CMB power spectra versus unlensed\n",
    "myClName = 'total'\n",
    "#myClName = 'unlensed_scalar'\n",
    "myCl = powers[myClName]\n",
    "\n",
    "#totCl=powers['total']\n",
    "#unlensedCl=powers['unlensed_scalar']\n",
    "print myCl.shape\n",
    "#Python Cl arrays are all zero based (starting at L=0), Note L=0,1 entries will be zero by default.\n",
    "#The different CL are always in the order TT, EE, BB, TE (with BB=0 for unlensed scalar results).\n",
    "\n",
    "# re-arrange the data structure to be consistent with code in FisherMatrix\n",
    "nMaps = 2 # T,E\n",
    "crossCls      = np.zeros((nMaps,nMaps,           lensLmax))\n",
    "crossClsPlus  = np.zeros((nMaps,nMaps,nCosParams,lensLmax))\n",
    "crossClsMinus = np.zeros((nMaps,nMaps,nCosParams,lensLmax))\n",
    "\n",
    "crossCls[0,0] = myCl[:lensLmax,0] # TT\n",
    "crossCls[0,1] = myCl[:lensLmax,3] # TE\n",
    "crossCls[1,0] = myCl[:lensLmax,3] # ET\n",
    "crossCls[1,1] = myCl[:lensLmax,1] # EE\n",
    "\n",
    "# get the perturbed versions\n",
    "for paramNum in range(nCosParams):\n",
    "    print 'getting Cl power spectra for parameter ',paramList[paramNum]\n",
    "    parsUpper = myPksUpper[paramNum] #.pars\n",
    "    parsLower = myPksLower[paramNum] #.pars\n",
    "    parsUpper.set_for_lmax(lensLmax, lens_potential_accuracy=lpa)\n",
    "    parsLower.set_for_lmax(lensLmax, lens_potential_accuracy=lpa)\n",
    "    parsUpper.set_accuracy(AccuracyBoost=AccuracyBoost)\n",
    "    parsLower.set_accuracy(AccuracyBoost=AccuracyBoost)\n",
    "\n",
    "\n",
    "    #calculate results for these parameters\n",
    "    resultsUpper = camb.get_results(parsUpper)\n",
    "    resultsLower = camb.get_results(parsLower)\n",
    "\n",
    "    #get dictionary of CAMB power spectra\n",
    "    powersUpper =resultsUpper.get_cmb_power_spectra(parsUpper)\n",
    "    powersLower =resultsLower.get_cmb_power_spectra(parsLower)\n",
    "    \n",
    "    #get the selected power spectra\n",
    "    myClUpper=powersUpper[myClName]\n",
    "    myClLower=powersLower[myClName]\n",
    "    \n",
    "    #store them\n",
    "    crossClsPlus[0,0,paramNum]  = myClUpper[:lensLmax,0] # TT\n",
    "    crossClsPlus[0,1,paramNum]  = myClUpper[:lensLmax,3] # TE\n",
    "    crossClsPlus[1,0,paramNum]  = myClUpper[:lensLmax,3] # ET\n",
    "    crossClsPlus[1,1,paramNum]  = myClUpper[:lensLmax,1] # EE\n",
    "\n",
    "    crossClsMinus[0,0,paramNum] = myClLower[:lensLmax,0] # TT\n",
    "    crossClsMinus[0,1,paramNum] = myClLower[:lensLmax,3] # TE\n",
    "    crossClsMinus[1,0,paramNum] = myClLower[:lensLmax,3] # ET\n",
    "    crossClsMinus[1,1,paramNum] = myClLower[:lensLmax,1] # EE\n",
    "\n",
    "print 'done'\n"
   ]
  },
  {
   "cell_type": "code",
   "execution_count": null,
   "metadata": {},
   "outputs": [],
   "source": []
  },
  {
   "cell_type": "code",
   "execution_count": 13,
   "metadata": {},
   "outputs": [
    {
     "data": {
      "text/plain": [
       "\"\\nimport camb\\nlmax = 2500 # may want to match lmax in other Fisher calculation\\npars = myPk.pars\\n#pars.set_for_lmax(lmax, lens_potential_accuracy=0)\\n# try kicking it up for comaprison against Kevin's result\\nlensLmax = lmax #3*lmax\\nlpa = 5.0 # set_for_lmax also sets lensing to be non-linear if lens_potential_accuracy>0\\n#aBoost = 1\\n#aBoost = 2\\naBoost = 3\\n#aBoost = 4\\n#aBoost = 5\\npars.set_for_lmax(lensLmax, lens_potential_accuracy=lpa)\\npars.set_accuracy(AccuracyBoost=aBoost)\\n\\n#calculate results for these parameters\\nprint 'getting CAMB results . . . '\\nresults = camb.get_results(pars)\\nprint 'done.'\\n\""
      ]
     },
     "execution_count": 13,
     "metadata": {},
     "output_type": "execute_result"
    }
   ],
   "source": [
    "# if this wasn't done earlier:\n",
    "\"\"\"\n",
    "import camb\n",
    "lmax = 2500 # may want to match lmax in other Fisher calculation\n",
    "pars = myPk.pars\n",
    "#pars.set_for_lmax(lmax, lens_potential_accuracy=0)\n",
    "# try kicking it up for comaprison against Kevin's result\n",
    "lensLmax = lmax #3*lmax\n",
    "lpa = 5.0 # set_for_lmax also sets lensing to be non-linear if lens_potential_accuracy>0\n",
    "#aBoost = 1\n",
    "#aBoost = 2\n",
    "aBoost = 3\n",
    "#aBoost = 4\n",
    "#aBoost = 5\n",
    "pars.set_for_lmax(lensLmax, lens_potential_accuracy=lpa)\n",
    "pars.set_accuracy(AccuracyBoost=aBoost)\n",
    "\n",
    "#calculate results for these parameters\n",
    "print 'getting CAMB results . . . '\n",
    "results = camb.get_results(pars)\n",
    "print 'done.'\n",
    "\"\"\""
   ]
  },
  {
   "cell_type": "code",
   "execution_count": null,
   "metadata": {},
   "outputs": [],
   "source": []
  },
  {
   "cell_type": "code",
   "execution_count": null,
   "metadata": {},
   "outputs": [],
   "source": []
  },
  {
   "cell_type": "code",
   "execution_count": 19,
   "metadata": {},
   "outputs": [
    {
     "data": {
      "image/png": "[encoded data removed]",
      "text/plain": [
       "<matplotlib.figure.Figure at 0x11779da10>"
      ]
     },
     "metadata": {},
     "output_type": "display_data"
    }
   ],
   "source": [
    "# compare my Cl^kk with Limber appx. to CAMB's calc w/o Limber\n",
    "\n",
    "# get C_l^kk\n",
    "\"\"\"\n",
    "import crosspower as cp\n",
    "print 'getting MatterPower object . . . '\n",
    "myPk = cp.MatterPower(**cosParams)\n",
    "print 'getting Window object . . . '\n",
    "myWin = cp.Window(myPk)\n",
    "print 'getting C_l^kk . . . '\n",
    "lmax = 2500\n",
    "ells,cl_kappa = cp.getCl(myPk,myWin,lmax=lmax)\n",
    "\"\"\"\n",
    "\n",
    "# or load Fobj and get Cl from there\n",
    "#\"\"\"\n",
    "import FisherCl as fcl\n",
    "import crosspower as cp\n",
    "import pickle\n",
    "\n",
    "filehandler = open('Fisher_7_6X2_w2_wan.obj','r') # AccuracyBoost=3, lmax=3000, lmaxP=5000, nz=3e5; nonlinear=True,\n",
    "#neutrino_hierarchy = 'normal', usePrimaryCMB = True; from FisherCl branch quickCl\n",
    "# kludge for this one: told cp.getDNDZinterp to use modelDNDZ3; set cp.tophat beesBins=True\n",
    "# biasByBin = False (uses sigma(b)/b), dw = 0.05\n",
    "\n",
    "Fobj = pickle.load(filehandler) \n",
    "cl_kappa = Fobj.crossCls[0,0]\n",
    "lmax = Fobj.lmax\n",
    "#\"\"\"\n",
    "\n",
    "#Compare with CAMB's calculation (code from CAMBdemo):\n",
    "#note that to get CAMB's internal calculation accurate at the 1% level at L~2000, \n",
    "#need lens_potential_accuracy=2. Increase to 4 for accurate match to the Limber calculation here\n",
    "\n",
    "#pars.set_for_lmax(2500,lens_potential_accuracy=2)\n",
    "#results = camb.get_results(pars)\n",
    "cl_camb=results.get_lens_potential_cls(lmax) \n",
    "ls = np.arange(2,lmax+1, dtype=np.float64)\n",
    "\n",
    "#Make plot. Expect difference at very low-L from inaccuracy in Limber approximation, and\n",
    "#very high L from differences in kmax (lens_potential_accuracy is only 2, though good by eye here)\n",
    "cl_limber= 4*cl_kappa/2/np.pi #convert kappa power to [l(l+1)]^2C_phi/2pi (what cl_camb is)\n",
    "plt.loglog(ls,cl_limber, color='b', label='Limber')\n",
    "plt.loglog(np.arange(2,cl_camb[:,0].size),cl_camb[2:,0], color='r', label='CAMB')\n",
    "plt.xlim([1,2000])\n",
    "plt.legend()\n",
    "plt.ylabel('$[L(L+1)]^2C_L^{\\phi}/2\\pi$')\n",
    "plt.xlabel('$L$')\n",
    "plt.show();"
   ]
  },
  {
   "cell_type": "code",
   "execution_count": 20,
   "metadata": {
    "scrolled": true
   },
   "outputs": [
    {
     "data": {
      "image/png": "[encoded data removed]",
      "text/plain": [
       "<matplotlib.figure.Figure at 0x1177e39d0>"
      ]
     },
     "metadata": {},
     "output_type": "display_data"
    }
   ],
   "source": [
    "plt.semilogx(cl_camb[2:,0]/cl_limber)\n",
    "plt.show()"
   ]
  },
  {
   "cell_type": "code",
   "execution_count": null,
   "metadata": {},
   "outputs": [],
   "source": []
  },
  {
   "cell_type": "code",
   "execution_count": null,
   "metadata": {},
   "outputs": [],
   "source": []
  },
  {
   "cell_type": "code",
   "execution_count": null,
   "metadata": {},
   "outputs": [],
   "source": []
  },
  {
   "cell_type": "code",
   "execution_count": null,
   "metadata": {},
   "outputs": [],
   "source": []
  },
  {
   "cell_type": "code",
   "execution_count": null,
   "metadata": {},
   "outputs": [],
   "source": []
  },
  {
   "cell_type": "code",
   "execution_count": null,
   "metadata": {},
   "outputs": [],
   "source": []
  },
  {
   "cell_type": "code",
   "execution_count": null,
   "metadata": {},
   "outputs": [],
   "source": []
  },
  {
   "cell_type": "code",
   "execution_count": null,
   "metadata": {},
   "outputs": [],
   "source": []
  },
  {
   "cell_type": "code",
   "execution_count": null,
   "metadata": {},
   "outputs": [],
   "source": []
  },
  {
   "cell_type": "code",
   "execution_count": null,
   "metadata": {},
   "outputs": [],
   "source": []
  },
  {
   "cell_type": "code",
   "execution_count": 21,
   "metadata": {},
   "outputs": [
    {
     "name": "stdout",
     "output_type": "stream",
     "text": [
      "building covariance matrix... \n",
      "starting covariance set  1  of  2 ... \n",
      "starting covariance set  2  of  2 ... \n",
      "inverting covariance matrix... \n",
      "lmin =  2\n",
      "obsList:  [ 0.  1.  3.]\n"
     ]
    }
   ],
   "source": [
    "# more code from FisherMatrix.__init__\n",
    "# create covariance matrix\n",
    "print 'building covariance matrix... '\n",
    "\n",
    "nCls = nMaps*(nMaps+1)/2 # This way removes redundancies, eg C_l^kg = C_l^gk\n",
    "#covar = np.zeros((nCls,nCls,lmax+51))\n",
    "#ells = np.arange(lmax+51)\n",
    "covar = np.zeros((nCls,nCls,lmax))\n",
    "ells = np.arange(lmax)\n",
    "\n",
    "# create obsList to contain base nMaps representation of data label\n",
    "obsList = np.zeros(nCls)\n",
    "\n",
    "for map1 in range(nMaps):\n",
    "    print 'starting covariance set ',map1+1,' of ',nMaps,'... '\n",
    "    for map2 in range(map1, nMaps):\n",
    "        covIndex1 = map1*nMaps+map2-map1*(map1+1)/2     # shortens the array\n",
    "        obsList[covIndex1] = map1*nMaps+map2       # base nMaps representation\n",
    "        for map3 in range(nMaps):\n",
    "          for map4 in range(map3, nMaps):\n",
    "            covIndex2 = map3*nMaps+map4-map3*(map3+1)/2 # shortens the array\n",
    "            if covIndex1 <= covIndex2:\n",
    "              covar[covIndex1,covIndex2] = (crossCls[map1,map3]*crossCls[map2,map4] + \\\n",
    "                                            crossCls[map1,map4]*crossCls[map2,map3] )/(2.*ells+1)\n",
    "            else:                                       # avoid double calculation\n",
    "              covar[covIndex1,covIndex2] = covar[covIndex2,covIndex1]\n",
    "\n",
    "# invert covariance matrix\n",
    "print 'inverting covariance matrix... '\n",
    "# transpose of inverse of transpose is inverse of original\n",
    "# need to do this to get indices in order that linalg.inv wants them\n",
    "invCov = np.transpose(np.linalg.inv(np.transpose(covar[:,:,2:])))\n",
    "ells = ells[2:]\n",
    "print 'lmin = ',ells[0]\n",
    "print 'obsList: ',obsList"
   ]
  },
  {
   "cell_type": "code",
   "execution_count": 22,
   "metadata": {},
   "outputs": [],
   "source": [
    "# save covar\n",
    "# ell values go from 0 to lmax-1\n",
    "#import pickle \n",
    "#pickle.dump(covar,open('covar.pkl','w'))"
   ]
  },
  {
   "cell_type": "code",
   "execution_count": null,
   "metadata": {},
   "outputs": [],
   "source": []
  },
  {
   "cell_type": "code",
   "execution_count": null,
   "metadata": {},
   "outputs": [],
   "source": []
  },
  {
   "cell_type": "code",
   "execution_count": 23,
   "metadata": {},
   "outputs": [
    {
     "name": "stdout",
     "output_type": "stream",
     "text": [
      "starting creation of C_l derivatives... \n",
      "starting derivative set  1  of  2 ... \n",
      "starting derivative set  2  of  2 ... \n"
     ]
    }
   ],
   "source": [
    "# get derivatives wrt parameters\n",
    "print 'starting creation of C_l derivatives... '\n",
    "#dClVecs = np.empty((nCls, nCosParams, lmax+51))\n",
    "#Clzeros = np.zeros(lmax+51) # for putting into dClVecs when needed\n",
    "dClVecs = np.empty((nCls, nCosParams, lmax))\n",
    "\n",
    "for map1 in range(nMaps):\n",
    "    print 'starting derivative set ',map1+1,' of ',nMaps,'... '\n",
    "    for map2 in range(map1,nMaps):\n",
    "        mapIdx  = map1*nMaps+map2 -map1*(map1+1)/2  \n",
    "                                   # mapIdx = map index\n",
    "        for pIdx in range(nCosParams):\n",
    "            dClPlus  = crossClsPlus[map1,map2,pIdx]\n",
    "            dClMinus = crossClsMinus[map1,map2,pIdx]\n",
    "            dClVecs[mapIdx, pIdx] = (dClPlus-dClMinus)/(2*deltaP[pIdx])\n"
   ]
  },
  {
   "cell_type": "code",
   "execution_count": 24,
   "metadata": {},
   "outputs": [
    {
     "name": "stdout",
     "output_type": "stream",
     "text": [
      "building Fisher matrix from components...\n",
      "invCov.shape:  (3, 3, 2998) , dClVecs.shape:  (3, 9, 3000)\n",
      "starting bin set  1  of  9\n",
      "starting bin set  2  of  9\n",
      "starting bin set  3  of  9\n",
      "starting bin set  4  of  9\n",
      "starting bin set  5  of  9\n",
      "starting bin set  6  of  9\n",
      "starting bin set  7  of  9\n",
      "starting bin set  8  of  9\n",
      "starting bin set  9  of  9\n",
      "creation of Fisher Matrix complete!\n",
      "\n",
      "Fij:\n",
      "[[  8.17211093e+09   1.52599230e+08  -9.09876861e+10   8.79450053e+16\n",
      "    2.50054846e+08  -3.54301179e+08  -2.20460154e+06   8.14170671e+07\n",
      "    2.21147603e+07]\n",
      " [  1.52599230e+08   2.68100011e+07   8.30021578e+08  -5.22891638e+14\n",
      "    2.94135701e+06   3.83167729e+06  -1.31956202e+05  -7.44397747e+05\n",
      "   -2.10649658e+05]\n",
      " [ -9.09876861e+10   8.30021578e+08   5.42406280e+12  -1.70221653e+18\n",
      "   -4.27259312e+09   6.79399666e+09   7.78075785e+07  -4.85590760e+09\n",
      "   -1.32427741e+09]\n",
      " [  8.79450053e+16  -5.22891638e+14  -1.70221653e+18   2.16574296e+24\n",
      "    4.60895550e+15  -8.80072719e+15  -4.45108305e+13   1.52231757e+15\n",
      "    4.14393099e+14]\n",
      " [  2.50054846e+08   2.94135701e+06  -4.27259312e+09   4.60895550e+15\n",
      "    1.16401855e+07  -1.87161752e+07  -1.00116797e+05   3.82220342e+06\n",
      "    1.03960320e+06]\n",
      " [ -3.54301179e+08   3.83167729e+06   6.79399666e+09  -8.80072719e+15\n",
      "   -1.87161752e+07   3.59916949e+07   1.59962673e+05  -6.07614895e+06\n",
      "   -1.65452906e+06]\n",
      " [ -2.20460154e+06  -1.31956202e+05   7.78075785e+07  -4.45108305e+13\n",
      "   -1.00116797e+05   1.59962673e+05   3.07777667e+03  -6.96101789e+04\n",
      "   -1.89217796e+04]\n",
      " [  8.14170671e+07  -7.44397747e+05  -4.85590760e+09   1.52231757e+15\n",
      "    3.82220342e+06  -6.07614895e+06  -6.96101789e+04   4.34726981e+06\n",
      "    1.18556631e+06]\n",
      " [  2.21147603e+07  -2.10649658e+05  -1.32427741e+09   4.14393099e+14\n",
      "    1.03960320e+06  -1.65452906e+06  -1.89217796e+04   1.18556631e+06\n",
      "    3.23326950e+05]]\n",
      "eigenvalues of F_ij^-1:\n",
      "[  1.41673262e-17   2.44739938e-13   2.22642557e-10   5.00119514e-08\n",
      "   1.21588886e-06   2.32372930e-05   1.85855503e-01   2.73869142e-01\n",
      "   1.09904545e+00]\n"
     ]
    }
   ],
   "source": [
    "#Build Fisher matrix\n",
    "lmin = 50 #to match Allison et. al. and justify no ISW effect\n",
    "#multply vectorT,invcov,vector and add up\n",
    "print 'building Fisher matrix from components...'\n",
    "print 'invCov.shape: ',invCov.shape,', dClVecs.shape: ',dClVecs.shape\n",
    "Fij = np.zeros((nCosParams,nCosParams)) # indices match those in paramList\n",
    "for i in range(nCosParams):\n",
    "    print 'starting bin set ',i+1,' of ',nCosParams\n",
    "    dClVec_i = dClVecs[:,i,:] # shape (nCls,nElls)\n",
    "    for j in range(nCosParams):\n",
    "        dClVec_j = dClVecs[:,j,:] # shape (nCls,nElls)\n",
    "        # ugh.  don't like nested loops in Python... but easier to program...\n",
    "        #for ell in range(lmin-2,lmax+51-2):\n",
    "        for ell in range(lmin-2,lmax-2):\n",
    "          myCov = invCov[:,:,ell]  #note invCov has no ell=0,1 but dClVecs do\n",
    "          fij = np.dot(dClVec_i[:,ell+2],np.dot(myCov,dClVec_j[:,ell+2]))\n",
    "          Fij[i,j] += fij\n",
    "    \n",
    "print 'creation of Fisher Matrix complete!\\n'\n",
    "\n",
    "# Have a look at it\n",
    "print 'Fij:'\n",
    "print Fij\n",
    "# check eigenvalues\n",
    "w,v = np.linalg.eigh(np.linalg.inv(Fij))\n",
    "print 'eigenvalues of F_ij^-1:'\n",
    "print w"
   ]
  },
  {
   "cell_type": "code",
   "execution_count": 29,
   "metadata": {},
   "outputs": [],
   "source": [
    "# Save these as part of Fobj.\n",
    "# Is Fobj loaded?\n",
    "Fobj.FijTE = Fij\n",
    "Fobj.dClVecsP = dClVecs\n",
    "Fobj.covarP = covar\n",
    "Fobj.invCovP = invCov\n",
    "\n",
    "Fobj.ellsP = ells\n",
    "Fobj.lminP = lmin\n",
    "Fobj.lmaxP = lensLmax # oops, that's strange.  \n",
    "Fobj.nMapsP = nMaps\n"
   ]
  },
  {
   "cell_type": "code",
   "execution_count": 30,
   "metadata": {},
   "outputs": [
    {
     "name": "stdout",
     "output_type": "stream",
     "text": [
      "done\n"
     ]
    }
   ],
   "source": [
    "# save new Fobj\n",
    "import pickle\n",
    "\n",
    "filehandler = open('Fisher_7_6X2_w2_wan_TEtotal.obj','w') # accuracyBoost=3,doNorm=True,lmax=2000, nz=3e5; nonlinear=True,\n",
    "#neutrino_hierarchy = 'degenerate'; from FisherCl branch quickCl\n",
    "\n",
    "\n",
    "pickle.dump(Fobj,filehandler)\n",
    "filehandler.close()\n",
    "\n",
    "print 'done'"
   ]
  },
  {
   "cell_type": "code",
   "execution_count": null,
   "metadata": {},
   "outputs": [],
   "source": []
  },
  {
   "cell_type": "code",
   "execution_count": 25,
   "metadata": {},
   "outputs": [
    {
     "data": {
      "text/plain": [
       "'\\nFij = np.array([[  1.01041058e+09,   3.57691298e+05,  -7.09007296e+09,   3.88802623e+15,\\n    1.91629679e+07,  -1.65568034e+07,  -6.06728603e+05,  -2.94964383e+06],\\n [  3.57691298e+05,   9.12361502e+07,   1.37369796e+10,  -3.78696097e+15,\\n   -4.15832219e+06,   1.61260685e+07,   1.18762534e+06,   6.23710073e+06],\\n [ -7.09007296e+09,   1.37369796e+10,   2.48994047e+12,  -2.30054985e+17,\\n   -4.55782100e+08,   9.80055593e+08,   2.17010468e+08,   1.10553928e+09],\\n [  3.88802623e+15,  -3.78696097e+15,  -2.30054985e+17,   8.81510238e+23,\\n    1.25213550e+15,  -3.75439610e+15,  -1.72422175e+13,  -1.67831305e+14],\\n [  1.91629679e+07,  -4.15832219e+06,  -4.55782100e+08,   1.25213550e+15,\\n    2.59595678e+06,  -5.33606510e+06,  -3.51619750e+04,  -3.25334668e+05],\\n [ -1.65568034e+07,   1.61260685e+07,   9.80055593e+08,  -3.75439610e+15,\\n   -5.33606510e+06,   1.59902873e+07,   7.34578870e+04,   7.14962387e+05],\\n [ -6.06728603e+05,   1.18762534e+06,   2.17010468e+08,  -1.72422175e+13,\\n   -3.51619750e+04,   7.34578870e+04,   1.89530610e+04,   9.62604700e+04],\\n [ -2.94964383e+06,   6.23710073e+06,   1.10553928e+09,  -1.67831305e+14,\\n   -3.25334668e+05,   7.14962387e+05,   9.62604700e+04,   5.52603530e+05]])\\n'"
      ]
     },
     "execution_count": 25,
     "metadata": {},
     "output_type": "execute_result"
    }
   ],
   "source": [
    "# or, load Fij from previous computation:\n",
    "\"\"\"\n",
    "Fij = np.array([[  1.01041058e+09,   3.57691298e+05,  -7.09007296e+09,   3.88802623e+15,\n",
    "    1.91629679e+07,  -1.65568034e+07,  -6.06728603e+05,  -2.94964383e+06],\n",
    " [  3.57691298e+05,   9.12361502e+07,   1.37369796e+10,  -3.78696097e+15,\n",
    "   -4.15832219e+06,   1.61260685e+07,   1.18762534e+06,   6.23710073e+06],\n",
    " [ -7.09007296e+09,   1.37369796e+10,   2.48994047e+12,  -2.30054985e+17,\n",
    "   -4.55782100e+08,   9.80055593e+08,   2.17010468e+08,   1.10553928e+09],\n",
    " [  3.88802623e+15,  -3.78696097e+15,  -2.30054985e+17,   8.81510238e+23,\n",
    "    1.25213550e+15,  -3.75439610e+15,  -1.72422175e+13,  -1.67831305e+14],\n",
    " [  1.91629679e+07,  -4.15832219e+06,  -4.55782100e+08,   1.25213550e+15,\n",
    "    2.59595678e+06,  -5.33606510e+06,  -3.51619750e+04,  -3.25334668e+05],\n",
    " [ -1.65568034e+07,   1.61260685e+07,   9.80055593e+08,  -3.75439610e+15,\n",
    "   -5.33606510e+06,   1.59902873e+07,   7.34578870e+04,   7.14962387e+05],\n",
    " [ -6.06728603e+05,   1.18762534e+06,   2.17010468e+08,  -1.72422175e+13,\n",
    "   -3.51619750e+04,   7.34578870e+04,   1.89530610e+04,   9.62604700e+04],\n",
    " [ -2.94964383e+06,   6.23710073e+06,   1.10553928e+09,  -1.67831305e+14,\n",
    "   -3.25334668e+05,   7.14962387e+05,   9.62604700e+04,   5.52603530e+05]])\n",
    "\"\"\""
   ]
  },
  {
   "cell_type": "code",
   "execution_count": null,
   "metadata": {},
   "outputs": [],
   "source": []
  },
  {
   "cell_type": "code",
   "execution_count": 26,
   "metadata": {},
   "outputs": [
    {
     "data": {
      "text/plain": [
       "'\\ntauNum = 5\\ntauPrior = 1/0.02**2\\nprint Fij[tauNum,tauNum]\\nFij[tauNum,tauNum] = Fij[tauNum,tauNum] + tauPrior \\nprint Fij[tauNum,tauNum]\\n'"
      ]
     },
     "execution_count": 26,
     "metadata": {},
     "output_type": "execute_result"
    }
   ],
   "source": [
    "# add prior on Tau for comparison with Kevin's result\n",
    "\"\"\"\n",
    "tauNum = 5\n",
    "tauPrior = 1/0.02**2\n",
    "print Fij[tauNum,tauNum]\n",
    "Fij[tauNum,tauNum] = Fij[tauNum,tauNum] + tauPrior \n",
    "print Fij[tauNum,tauNum]\n",
    "\"\"\"\n"
   ]
  },
  {
   "cell_type": "code",
   "execution_count": null,
   "metadata": {},
   "outputs": [],
   "source": []
  },
  {
   "cell_type": "code",
   "execution_count": 27,
   "metadata": {},
   "outputs": [
    {
     "data": {
      "image/png": "[encoded data removed]",
      "text/plain": [
       "<matplotlib.figure.Figure at 0x10eb01c50>"
      ]
     },
     "metadata": {},
     "output_type": "display_data"
    }
   ],
   "source": [
    "# just take a look at TT, TE, EE\n",
    "plt.loglog(ells,crossCls[0,0,2:]*ells*(ells+1))\n",
    "#plt.loglog(ells,crossCls[0,1,2:]*ells*(ells+1))\n",
    "plt.loglog(ells,crossCls[1,0,2:]*ells*(ells+1))\n",
    "plt.loglog(ells,crossCls[1,1,2:]*ells*(ells+1))\n",
    "plt.title('C_l TT, TE, EE');"
   ]
  },
  {
   "cell_type": "code",
   "execution_count": null,
   "metadata": {},
   "outputs": [],
   "source": []
  },
  {
   "cell_type": "markdown",
   "metadata": {},
   "source": [
    "# Check out these uncertainties!"
   ]
  },
  {
   "cell_type": "code",
   "execution_count": null,
   "metadata": {},
   "outputs": [],
   "source": []
  },
  {
   "cell_type": "code",
   "execution_count": 28,
   "metadata": {},
   "outputs": [
    {
     "ename": "IOError",
     "evalue": "[Errno 2] No such file or directory: 'Fisher_4_4G.obj'",
     "output_type": "error",
     "traceback": [
      "\u001b[0;31m---------------------------------------------------------------------------\u001b[0m",
      "\u001b[0;31mIOError\u001b[0m                                   Traceback (most recent call last)",
      "\u001b[0;32m<ipython-input-28-25212cf4592c>\u001b[0m in \u001b[0;36m<module>\u001b[0;34m()\u001b[0m\n\u001b[1;32m      5\u001b[0m \u001b[0;32mimport\u001b[0m \u001b[0mcrosspower\u001b[0m \u001b[0;32mas\u001b[0m \u001b[0mcp\u001b[0m\u001b[0;34m\u001b[0m\u001b[0m\n\u001b[1;32m      6\u001b[0m \u001b[0;32mimport\u001b[0m \u001b[0mpickle\u001b[0m\u001b[0;34m\u001b[0m\u001b[0m\n\u001b[0;32m----> 7\u001b[0;31m \u001b[0mfilehandler\u001b[0m \u001b[0;34m=\u001b[0m \u001b[0mopen\u001b[0m\u001b[0;34m(\u001b[0m\u001b[0;34m'Fisher_4_4G.obj'\u001b[0m\u001b[0;34m,\u001b[0m\u001b[0;34m'r'\u001b[0m\u001b[0;34m)\u001b[0m \u001b[0;31m# accuracyBoost=3,doNorm=True,lmax=1000, epsrel = 1.49e-6; from FisherCl branch master\u001b[0m\u001b[0;34m\u001b[0m\u001b[0m\n\u001b[0m\u001b[1;32m      8\u001b[0m \u001b[0;34m\u001b[0m\u001b[0m\n\u001b[1;32m      9\u001b[0m \u001b[0mFobj\u001b[0m \u001b[0;34m=\u001b[0m \u001b[0mpickle\u001b[0m\u001b[0;34m.\u001b[0m\u001b[0mload\u001b[0m\u001b[0;34m(\u001b[0m\u001b[0mfilehandler\u001b[0m\u001b[0;34m)\u001b[0m\u001b[0;34m\u001b[0m\u001b[0m\n",
      "\u001b[0;31mIOError\u001b[0m: [Errno 2] No such file or directory: 'Fisher_4_4G.obj'"
     ]
    }
   ],
   "source": [
    "# get lensing and galaxy Fisher matrix to add\n",
    "# load saved Fobj\n",
    "\n",
    "import FisherCl as fcl\n",
    "import crosspower as cp\n",
    "import pickle\n",
    "filehandler = open('Fisher_4_4G.obj','r') # accuracyBoost=3,doNorm=True,lmax=1000, epsrel = 1.49e-6; from FisherCl branch master\n",
    "\n",
    "Fobj = pickle.load(filehandler) \n",
    "lmin = Fobj.lmin\n",
    "lmax = Fobj.lmax\n",
    "nMaps = Fobj.nBins + 1\n",
    "nCosParams = Fobj.nParams - Fobj.nBins\n",
    "ells = Fobj.ells\n",
    "obsNames = Fobj.obsNames\n",
    "paramList = Fobj.paramList\n",
    "\n",
    "print Fobj.obsList\n",
    "print Fobj.obsNames\n",
    "print Fobj.paramList"
   ]
  },
  {
   "cell_type": "code",
   "execution_count": null,
   "metadata": {},
   "outputs": [],
   "source": [
    "sigmas = np.sqrt(np.diag(np.linalg.inv(Fij)))\n",
    "for i,p in enumerate(paramList[:-4]):\n",
    "    print p, sigmas[i]"
   ]
  },
  {
   "cell_type": "code",
   "execution_count": null,
   "metadata": {},
   "outputs": [],
   "source": [
    "# Zero out the dCl^gg/dtau derivatives\n",
    "\"\"\"\n",
    "print Fobj.dClVecs.shape\n",
    "print Fobj.obsList.size\n",
    "print paramList.__len__()\n",
    "for ClNum in (5,9,12,14):\n",
    "    print 'Clnum = ',ClNum\n",
    "    Fobj.dClVecs[ClNum,5] = np.zeros(999)\n",
    "\"\"\""
   ]
  },
  {
   "cell_type": "code",
   "execution_count": null,
   "metadata": {},
   "outputs": [],
   "source": [
    "# remake the kappa-g Fij with lmin=50 to match the other Fij\n",
    "# make comparison against version with higher lmin\n",
    "# This is now included in FisherMatrix\n",
    "\n",
    "\n",
    "\"\"\"def makeFisher(Fobj,lmin):\n",
    "\"\"\"    \"\"\" code copied from FisherMatrix.__init__\n",
    "        Inputs:\n",
    "            Fobj:\n",
    "            lmin: minimum ell to make Fij\n",
    "\"\"\"    \"\"\"\n",
    "    #Build Fisher matrix\n",
    "    #multply vectorT,invcov,vector and add up\n",
    "    print 'building Fisher matrix from components...'\n",
    "    print 'invCov.shape: ',Fobj.invCov.shape,', dClVecs.shape: ',Fobj.dClVecs.shape\n",
    "    nParams = Fobj.nParams\n",
    "    lmax = 2000 #Fobj.lmax\n",
    "    Fij = np.zeros((nParams,nParams)) # indices match those in paramList\n",
    "    for i in range(nParams):\n",
    "      print 'starting bin set ',i+1,' of ',nParams\n",
    "      dClVec_i = Fobj.dClVecs[:,i,:] # shape (nCls,nElls)\n",
    "      for j in range(nParams):\n",
    "        dClVec_j = Fobj.dClVecs[:,j,:] # shape (nCls,nElls)\n",
    "        # ugh.  don't like nested loops in Python... but easier to program...\n",
    "        for ell in range(lmin-2,lmax-1): #-2 to match the indices\n",
    "          myCov = Fobj.invCov[:,:,ell]\n",
    "          fij = np.dot(dClVec_i[:,ell],np.dot(myCov,dClVec_j[:,ell]))\n",
    "          \n",
    "          Fij[i,j] += fij\n",
    "    \n",
    "    print 'creation of Fisher Matrix complete!\\n'\n",
    "    return Fij\n",
    "\"\"\""
   ]
  },
  {
   "cell_type": "code",
   "execution_count": null,
   "metadata": {},
   "outputs": [],
   "source": [
    "lmin = 50\n",
    "#Fij2 = makeFisher(Fobj,lmin)\n",
    "lmax = Fobj.lmax\n",
    "Fij2 = Fobj.makeFisher(lmin,lmax,verbose=True)\n",
    "sigmas2 = np.sqrt(np.diag(np.linalg.inv(Fij2)))\n",
    "print 'lmin = {0}, lmax = {1}'.format(lmin,lmax)"
   ]
  },
  {
   "cell_type": "markdown",
   "metadata": {},
   "source": [
    "# Combine the Fisher matrices and see smaller sigmas"
   ]
  },
  {
   "cell_type": "code",
   "execution_count": null,
   "metadata": {},
   "outputs": [],
   "source": [
    "print 'comparison of sigma(T,E), sigma(kappa,g), and sigma(T,E,kappa,g):\\n'\n",
    "#FijSum = Fij+Fobj.Fij[:nCosParams,:nCosParams]  #oops, that was the lmin=2 version\n",
    "FijSum = Fij+Fij2[:nCosParams,:nCosParams]   # this one has lmin=50\n",
    "#print FijSum\n",
    "#print FijSum-Fij\n",
    "#print FijSum-Fij2[:nCosParams,:nCosParams]\n",
    "sigmas3 = np.sqrt(np.diag(np.linalg.inv(FijSum)))\n",
    "#for i,p in enumerate(paramList):\n",
    "#    print p, sigmas[i],sigmas2[i],sigmas3[i]\n",
    "    \n",
    "from prettytable import PrettyTable\n",
    "\n",
    "# for a set of fsky values\n",
    "for fsky in (1.0,0.75,0.5,0.25):\n",
    "    fskyFac = np.sqrt(1./fsky)\n",
    "    sigmasA = sigmas*fskyFac\n",
    "    sigmasB = sigmas2*fskyFac\n",
    "    sigmasC = sigmas3*fskyFac\n",
    "    t = PrettyTable(['Parameter', 'sigma(T,E)','sigma(k,g)','sigma(T,E,k,g)'])\n",
    "    for i,p in enumerate(paramList[:-4]):\n",
    "        t.add_row([p,\"%5.3g\" % sigmasA[i],\"%5.3g\" % sigmasB[i],\"%5.3g\" % sigmasC[i]])\n",
    "    print 'fsky = {0}:'.format(fsky)\n",
    "    print t"
   ]
  },
  {
   "cell_type": "code",
   "execution_count": null,
   "metadata": {},
   "outputs": [],
   "source": []
  },
  {
   "cell_type": "code",
   "execution_count": null,
   "metadata": {},
   "outputs": [],
   "source": []
  },
  {
   "cell_type": "code",
   "execution_count": null,
   "metadata": {},
   "outputs": [],
   "source": []
  },
  {
   "cell_type": "code",
   "execution_count": null,
   "metadata": {
    "scrolled": false
   },
   "outputs": [],
   "source": [
    "# the previous result fixed the biases for the combined sigmas.\n",
    "# do a different version without fixing them\n",
    "print 'comparison of sigma(T,E), sigma(kappa,g), and sigma(T,E,kappa,g):\\n'\n",
    "FijSum2 = Fij2.copy()\n",
    "#print FijSum2\n",
    "FijSum2[:nCosParams,:nCosParams] = FijSum2[:nCosParams,:nCosParams] + Fij\n",
    "#print Fij2\n",
    "#print FijSum2\n",
    "#print FijSum2-Fij2\n",
    "\n",
    "sigmas4 = np.append(sigmas,[0,0,0,0])\n",
    "#FijSum = Fij+Fobj.Fij[:nCosParams,:nCosParams]\n",
    "sigmas5 = np.sqrt(np.diag(np.linalg.inv(FijSum2)))\n",
    "#for i,p in enumerate(Fobj.paramList):\n",
    "#    print p, sigmas4[i],sigmas2[i],sigmas5[i]\n",
    "    \n",
    "from prettytable import PrettyTable\n",
    "# for a set of fsky values\n",
    "for fsky in (1.0,0.75,0.5,0.25):\n",
    "    fskyFac = np.sqrt(1./fsky)\n",
    "    sigmasA = sigmas4*fskyFac\n",
    "    sigmasB = sigmas2*fskyFac\n",
    "    sigmasC = sigmas5*fskyFac\n",
    "    t = PrettyTable(['Parameter', 'sigma(T,E)','sigma(k,g)','sigma(T,E,k,g)'])\n",
    "    for i,p in enumerate(Fobj.paramList):\n",
    "        t.add_row([p,\"%5.3g\" % sigmasA[i],\"%5.3g\" % sigmasB[i],\"%5.3g\" % sigmasC[i]])\n",
    "    print 'fsky = {0}:'.format(fsky)\n",
    "    print t\n",
    "\n",
    "print 'which Cl used for T,E: ',myClName"
   ]
  },
  {
   "cell_type": "markdown",
   "metadata": {},
   "source": [
    "# Save Fisher Matrices and Parameter Names for export to CosmicFish"
   ]
  },
  {
   "cell_type": "code",
   "execution_count": null,
   "metadata": {},
   "outputs": [],
   "source": [
    "# reduce A_s to 10^-9 A_s so CosmicFish doesn't choke on it\n",
    "def As_reduce(Fij,AsIndex=3):\n",
    "    #nParams = Fij.shape[0]\n",
    "    #print 'nParams = {0}'.format(nParams)\n",
    "    FijReturn = Fij.copy()\n",
    "    FijReturn[:,AsIndex] *= 1e-9\n",
    "    FijReturn[AsIndex,:] *= 1e-9\n",
    "    return FijReturn\n",
    "\n",
    "FijAR = As_reduce(Fij)\n",
    "Fij2AR = As_reduce(Fij2)\n",
    "FijSum2AR = As_reduce(FijSum2)"
   ]
  },
  {
   "cell_type": "code",
   "execution_count": null,
   "metadata": {},
   "outputs": [],
   "source": []
  },
  {
   "cell_type": "code",
   "execution_count": null,
   "metadata": {},
   "outputs": [],
   "source": [
    "# TE Fisher matrix: Fij\n",
    "# kg Fisher matrix: Fij2\n",
    "# kgTE Fisher matr: FijSum\n",
    "# parameter names:  paramList\n",
    "\n",
    "# select fsky:\n",
    "fsky = 0.5\n",
    "\n",
    "np.savetxt('Fij_TE.dat',FijAR*fsky)\n",
    "np.savetxt('Fij_kg.dat',Fij2AR*fsky)\n",
    "np.savetxt('Fij_kgTE.dat',FijSum2AR*fsky)\n",
    "#np.savetxt('Fij.paramnames',np.array(paramList))\n",
    "f = open('Fij.paramnames', \"w\")\n",
    "for i in paramList:\n",
    "    f.write(str(i)+'\\n')\n",
    "f.close()\n",
    "print 'done'"
   ]
  },
  {
   "cell_type": "code",
   "execution_count": null,
   "metadata": {},
   "outputs": [],
   "source": []
  },
  {
   "cell_type": "code",
   "execution_count": null,
   "metadata": {},
   "outputs": [],
   "source": [
    "print Fobj.binBs"
   ]
  },
  {
   "cell_type": "markdown",
   "metadata": {},
   "source": [
    "# Import results from CosmicFish for comparison"
   ]
  },
  {
   "cell_type": "code",
   "execution_count": null,
   "metadata": {},
   "outputs": [],
   "source": [
    "cf = 'CosmicFish_results/'\n",
    "CF_Fij_kg = np.loadtxt(cf+'1_lensing_galaxies_noNoise_fisher_matrix_derived.dat')\n",
    "CF_Fij_kgTE = np.loadtxt(cf+'2_lensing_galaxies_TE_noNoise_fisher_matrix_derived.dat')\n",
    "CF_paramNames = ['omegabh2','omegach2','omeganuh2','h','logA','ns','tau','b_1','b_2','b_3','b_4',\n",
    "                 'w0_ppf','wa_ppf','omegam','mnu','sigma8_1']\n",
    "\n",
    "print CF_Fij_kg.shape\n",
    "print CF_Fij_kgTE.shape\n",
    "print CF_paramNames"
   ]
  },
  {
   "cell_type": "code",
   "execution_count": null,
   "metadata": {},
   "outputs": [],
   "source": []
  },
  {
   "cell_type": "code",
   "execution_count": null,
   "metadata": {},
   "outputs": [],
   "source": [
    "sigmas_CF_kg = np.sqrt(np.diag(np.linalg.inv(CF_Fij_kg)))\n",
    "sigmas_CF_kgTE = np.sqrt(np.diag(np.linalg.inv(CF_Fij_kgTE)))\n",
    "\n",
    "from prettytable import PrettyTable\n",
    "# for a set of fsky values\n",
    "for fsky in (1.0,0.75,0.5,0.25):\n",
    "    fskyFac = np.sqrt(1./fsky)\n",
    "    sigmasA = sigmas_CF_kg*fskyFac\n",
    "    sigmasB = sigmasCF_kgTE*fskyFac\n",
    "    t = PrettyTable(['Parameter','sigma(k,g)','sigma(T,E,k,g)'])\n",
    "    for i,p in enumerate(CF_paramNames):\n",
    "        t.add_row([p,\"%5.3g\" % sigmasA[i],\"%5.3g\" % sigmasB[i]])\n",
    "    print 'fsky = {0}:'.format(fsky)\n",
    "    print t"
   ]
  },
  {
   "cell_type": "code",
   "execution_count": null,
   "metadata": {},
   "outputs": [],
   "source": []
  },
  {
   "cell_type": "code",
   "execution_count": null,
   "metadata": {},
   "outputs": [],
   "source": []
  },
  {
   "cell_type": "code",
   "execution_count": null,
   "metadata": {},
   "outputs": [],
   "source": []
  },
  {
   "cell_type": "code",
   "execution_count": null,
   "metadata": {},
   "outputs": [],
   "source": []
  },
  {
   "cell_type": "code",
   "execution_count": null,
   "metadata": {},
   "outputs": [],
   "source": []
  },
  {
   "cell_type": "code",
   "execution_count": null,
   "metadata": {},
   "outputs": [],
   "source": []
  },
  {
   "cell_type": "code",
   "execution_count": null,
   "metadata": {},
   "outputs": [],
   "source": []
  },
  {
   "cell_type": "code",
   "execution_count": null,
   "metadata": {},
   "outputs": [],
   "source": []
  },
  {
   "cell_type": "code",
   "execution_count": null,
   "metadata": {},
   "outputs": [],
   "source": []
  },
  {
   "cell_type": "code",
   "execution_count": null,
   "metadata": {},
   "outputs": [],
   "source": []
  },
  {
   "cell_type": "code",
   "execution_count": null,
   "metadata": {},
   "outputs": [],
   "source": [
    "print myClName"
   ]
  },
  {
   "cell_type": "markdown",
   "metadata": {},
   "source": [
    "# Compare to Byeonghee's result"
   ]
  },
  {
   "cell_type": "code",
   "execution_count": null,
   "metadata": {},
   "outputs": [],
   "source": []
  },
  {
   "cell_type": "code",
   "execution_count": null,
   "metadata": {},
   "outputs": [],
   "source": [
    "# Byeonghee's result:\n",
    "# This used lmin 50, lmax 1000, halofit\n",
    "sigmasB1 = {\n",
    "    #sigma(b) (4 bins) =  [ 0.01220295  0.0092872   0.01058874  0.03529165]\n",
    "    'cosmomc_theta' : 0.00015113283201,\n",
    "    'ombh2' : 0.000504509008534,\n",
    "    'omch2' : 0.00151341881388,\n",
    "    'ns' : 0.00732594856064,\n",
    "    'As' : 0.0618279762973*1e-9,\n",
    "    'mnu' : 0.0564262366597,\n",
    "    'w' : 0.088058950571,\n",
    "    'tau' : 0.0595781322066,\n",
    "    'bin1' : 0.01220295,\n",
    "    'bin2' : 0.0092872,\n",
    "    'bin3' : 0.01058874,\n",
    "    'bin4' : 0.03529165\n",
    "}\n",
    "# This used lmin 50, lmax 1000, halofit, bias by bin\n",
    "sigmasB2 = {\n",
    "    'cosmomc_theta' : 7.31905124578e-05,\n",
    "    'ombh2' : 0.00117829505232,\n",
    "    'omch2' : 0.00253188668652,\n",
    "    'ns' : 0.0107531686379,\n",
    "    'As' : 0.0836156981509*1e-9,\n",
    "    'mnu' : 0.110362820478,\n",
    "    'w' : 0.0933472979446,\n",
    "    'tau' : 8.65882116522,\n",
    "    'bin1' : 0.01120403,\n",
    "    'bin2' : 0.0123868,\n",
    "    'bin3' : 0.01398429,\n",
    "    'bin4' : 0.0143556\n",
    "}\n",
    "# This one was after a late fix Byeonghee did:\n",
    "\"\"\"\n",
    "+---------------+--------------+--------------+\n",
    "|   Parameter   | sigma_Z(k,g) | sigma_B(k,g) | \n",
    "+---------------+--------------+--------------+\n",
    "|     ombh2     |   0.00182    |   0.00118    |    \n",
    "|     omch2     |   0.00509    |   0.00253    |     \n",
    "| cosmomc_theta |   6.51e-05   |   7.58e-05   |     \n",
    "|       As      |   9.26e-11   |   1.29e-10   |     \n",
    "|       ns      |    0.0116    |    0.0190    |    \n",
    "|      tau      |     0.33     |     8.26     |    \n",
    "|      mnu      |    0.0884    |     0.11     |      \n",
    "|       w       |    0.0448    |    0.0411    |       \n",
    "|      bin1     |    0.011     |    0.0063    |      \n",
    "|      bin2     |    0.0141    |    0.0056    |    \n",
    "|      bin3     |    0.0195    |    0.0054    |     \n",
    "|      bin4     |    0.0236    |    0.0047    |\n",
    "+---------------+--------------+--------------+\"\"\"\n",
    "sigmasB3 = {\n",
    "    'cosmomc_theta' : 7.58e-05,\n",
    "    'ombh2' : 0.00118,\n",
    "    'omch2' : 0.00253,\n",
    "    'ns' : 0.0190,\n",
    "    'As' : 1.29e-10,\n",
    "    'mnu' : 0.11,\n",
    "    'w' : 0.0411,\n",
    "    'tau' : 8.26,\n",
    "    'bin1' : 0.0063,\n",
    "    'bin2' : 0.0056,\n",
    "    'bin3' : 0.0054,\n",
    "    'bin4' : 0.0047\n",
    "}\n",
    "\n",
    "\n",
    "sigmasB = sigmasB3\n",
    "\n",
    "print paramList\n"
   ]
  },
  {
   "cell_type": "code",
   "execution_count": null,
   "metadata": {},
   "outputs": [],
   "source": [
    "\"\"\"\n",
    "# remove tau from my Fisher matrix, since Byeonghee omitted it.\n",
    "# define row,col deleting function\n",
    "def fixParam(Fij,pNum):\n",
    "    return np.delete(np.delete(Fij,pNum,0),pNum,1)\n",
    "Fij3 = fixParam(Fij2,5) # 5 for neutrinos\n",
    "sigmas3 = np.sqrt(np.diag(np.linalg.inv(Fij3)))\n",
    "sigmas3 = np.insert(sigmas3,5,0)\n",
    "print sigmas3\n",
    "\"\"\""
   ]
  },
  {
   "cell_type": "code",
   "execution_count": null,
   "metadata": {},
   "outputs": [],
   "source": [
    "\"\"\"\n",
    "# convert sigma_bi to sigma_bi/fid_bi\n",
    "fidBs = Fobj.binBs\n",
    "print 'fiducial B_i: ',fidBs\n",
    "sigmas3[-4:] = sigmas3[-4:]/fidBs\n",
    "print sigmas3\n",
    "\"\"\""
   ]
  },
  {
   "cell_type": "code",
   "execution_count": null,
   "metadata": {},
   "outputs": [],
   "source": [
    "\"\"\"\n",
    "#paramList = ['ombh2','omch2','cosmomc_theta','As','ns','tau','mnu']\n",
    "mask = [True,True,False,True,True,False,True, True,True,True,True]\n",
    "paramListB = np.array(paramList)\n",
    "paramListB = np.append(paramListB,['bin1','bin2','bin3','bin4'])\n",
    "paramListB = paramListB[mask]\n",
    "sigmasB = sigmas3[mask]\n",
    "print sigmas3\n",
    "print sigmasB\n",
    "print paramListB\n",
    "print lmin\n",
    "\"\"\""
   ]
  },
  {
   "cell_type": "code",
   "execution_count": null,
   "metadata": {},
   "outputs": [],
   "source": [
    "from prettytable import PrettyTable\n",
    "t = PrettyTable(['Parameter', 'sigma_Z(k,g)','sigma_B(k,g)','percent diff.'])\n",
    "for i,p in enumerate(paramList):\n",
    "    Zi = sigmasB[i]\n",
    "    Bi = Bsigmas[paramList[i]]\n",
    "    diff = (Bi-Zi)/Zi *100\n",
    "    t.add_row([p,\"%5.3g\" % Zi,\"%5.3g\" % Bi, \"%5.3g\" % diff ] )\n",
    "print t"
   ]
  },
  {
   "cell_type": "code",
   "execution_count": null,
   "metadata": {},
   "outputs": [],
   "source": []
  },
  {
   "cell_type": "markdown",
   "metadata": {},
   "source": [
    "To add:\n",
    "    switch to halofit\n",
    "    shot noise\n",
    "    lensing recon noise\n",
    "    DE params\n",
    "    Improved bias model  (important but hard; not for 'first paper')\n",
    "    Inverted nu hiearchy: Is there any sensitivity beyond Sigma mnu (transition region)\n",
    "        (drawing: power stepping down for each species instead of one step down with ell)\n",
    "        Ll: guesses probably not"
   ]
  },
  {
   "cell_type": "markdown",
   "metadata": {},
   "source": [
    "priorities: byeonhee,kevin comparisons,\n",
    "    include DE\n",
    "    inverted nu hier\n",
    "    halofit\n",
    "    noise"
   ]
  },
  {
   "cell_type": "markdown",
   "metadata": {},
   "source": [
    "# Compare to Kevin's result"
   ]
  },
  {
   "cell_type": "code",
   "execution_count": null,
   "metadata": {},
   "outputs": [],
   "source": [
    "# compare to Kevin's result  (reportedly from unlensed spectra; \n",
    "#   Lloyd wanted him to double check that due to the small size of mnu)\n",
    "Ksigmas = {\n",
    "    'As' : 8.36787928685e-11,\n",
    "    'cosmomc_theta' : 1.44400712682e-06,\n",
    "    'mnu' : 0.220088883622,\n",
    "    'ns' : 0.00193696953962,\n",
    "    'ombh2' : 4.50012028332e-05,\n",
    "    'omch2' : 0.000630720967738,\n",
    "    'tau' : 0.0196834629721\n",
    "}\n",
    "\n",
    "# Kevin has more results for me, using my fiducial parameter values and step sizes:\n",
    "# Using lensed spectra:\n",
    "Ksigmas2 = {\n",
    "    'As' : 7.16774197011e-11,\n",
    "    'cosmomc_theta' : 1.09586297761e-06,\n",
    "    'mnu' : 0.146118415833,\n",
    "    'ns' : 0.00177830934705,\n",
    "    'ombh2' : 4.070676724e-05,\n",
    "    'omch2' : 0.000576393112142,\n",
    "    'tau' : 0.0171234498358,\n",
    "    'w' : 0 # kludge; there's not really a w entry here\n",
    "}\n",
    "\n",
    "# Using unlensed spectra:\n",
    "Ksigmas3 = {\n",
    "    'As' : 8.33407946912e-11,\n",
    "    'cosmomc_theta' : 1.69789979871e-06,\n",
    "    'mnu' : 0.285834557983,\n",
    "    'ns' : 0.00176069831712,\n",
    "    'ombh2' : 4.1390440571e-05,\n",
    "    'omch2' : 0.000566243441739,\n",
    "    'tau' : 0.0195975583329,\n",
    "    'w' : 0 # kludge; there's not really a w entry here\n",
    "}"
   ]
  },
  {
   "cell_type": "code",
   "execution_count": null,
   "metadata": {},
   "outputs": [],
   "source": [
    "from prettytable import PrettyTable\n",
    "t = PrettyTable(['Parameter', 'sigma_Z(T,E)','sigma_K(T,E)','percent diff.'])\n",
    "for i,p in enumerate(paramList):\n",
    "    Zi = sigmas[i]\n",
    "    Ki = Ksigmas3[paramList[i]]\n",
    "    diff = (Ki-Zi)/Zi *100\n",
    "    t.add_row([p,\"%5.3g\" % Zi,\"%5.3g\" % Ki, \"%5.3g\" % diff ] )\n",
    "print t"
   ]
  },
  {
   "cell_type": "code",
   "execution_count": null,
   "metadata": {},
   "outputs": [],
   "source": [
    "print deltaP\n"
   ]
  },
  {
   "cell_type": "code",
   "execution_count": null,
   "metadata": {},
   "outputs": [],
   "source": []
  }
 ],
 "metadata": {
  "kernelspec": {
   "display_name": "Python 2",
   "language": "python",
   "name": "python2"
  },
  "language_info": {
   "codemirror_mode": {
    "name": "ipython",
    "version": 2
   },
   "file_extension": ".py",
   "mimetype": "text/x-python",
   "name": "python",
   "nbconvert_exporter": "python",
   "pygments_lexer": "ipython2",
   "version": "2.7.14"
  }
 },
 "nbformat": 4,
 "nbformat_minor": 1
}
