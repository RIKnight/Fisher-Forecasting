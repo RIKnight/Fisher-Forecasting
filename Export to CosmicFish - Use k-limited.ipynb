{
 "cells": [
  {
   "cell_type": "markdown",
   "metadata": {},
   "source": [
    "# Export FisherCl results in format for reading by CosmicFish plotting library"
   ]
  },
  {
   "cell_type": "code",
   "execution_count": 19,
   "metadata": {},
   "outputs": [],
   "source": [
    "# set plotting to be in the notebook instead of its own qt window\n",
    "%matplotlib inline"
   ]
  },
  {
   "cell_type": "code",
   "execution_count": 20,
   "metadata": {},
   "outputs": [
    {
     "name": "stdout",
     "output_type": "stream",
     "text": [
      "done.\n"
     ]
    }
   ],
   "source": [
    "# Load the saved Fisher matrices, etc.\n",
    "# These are for the dgi/dw multiplier version\n",
    "\n",
    "# P(k) shape fixed\n",
    "sigmaBins2_01_lin,FoMPropBins2_01_lin,paramList2_01_lin,FijBins2_01_lin, \\\n",
    "    sigmaBins2_01g_lin,FoMPropBins2_01g_lin,paramList2_01g_lin,FijBins2_01g_lin = np.load('KZlimited_gold_lin_k1_wa1_bothk1.npy')\n",
    "sigmaBins2_02_lin,FoMPropBins2_02_lin,paramList2_02_lin,FijBins2_02_lin, \\\n",
    "    sigmaBins2_02g_lin,FoMPropBins2_02g_lin,paramList2_02g_lin,FijBins2_02g_lin = np.load('KZlimited_gold_lin_k2_wa1_bothk2.npy')\n",
    "# P(k) fixed\n",
    "sigmaBins2_01_lin_chi,FoMPropBins2_01_lin_chi,paramList2_01_lin_chi,FijBins2_01_lin_chi, \\\n",
    "    sigmaBins2_01g_lin_chi,FoMPropBins2_01g_lin_chi,paramList2_01g_lin_chi,FijBins2_01g_lin_chi = np.load('KZlimited_gold_lin_k1_wa1_chi.npy')\n",
    "sigmaBins2_02_lin_chi,FoMPropBins2_02_lin_chi,paramList2_02_lin_chi,FijBins2_02_lin_chi, \\\n",
    "    sigmaBins2_02g_lin_chi,FoMPropBins2_02g_lin_chi,paramList2_02g_lin_chi,FijBins2_02g_lin_chi = np.load('KZlimited_gold_lin_k2_wa1_chi.npy')\n",
    "# chi and shape fixed\n",
    "sigmaBins2_01_lin_pzk,FoMPropBins2_01_lin_pzk,paramList2_01_lin_pzk,FijBins2_01_lin_pzk, \\\n",
    "    sigmaBins2_01g_lin_pzk,FoMPropBins2_01g_lin_pzk,paramList2_01g_lin_pzk,FijBins2_01g_lin_pzk = np.load('KZlimited_gold_lin_k1_wa1_pzk_amponlyk1.npy')\n",
    "sigmaBins2_02_lin_pzk,FoMPropBins2_02_lin_pzk,paramList2_02_lin_pzk,FijBins2_02_lin_pzk, \\\n",
    "    sigmaBins2_02g_lin_pzk,FoMPropBins2_02g_lin_pzk,paramList2_02g_lin_pzk,FijBins2_02g_lin_pzk = np.load('KZlimited_gold_lin_k2_wa1_pzk_amponlyk2.npy')\n",
    "# chi fixed\n",
    "sigmaBins2_01_lin_pzk0,FoMPropBins2_01_lin_pzk0,paramList2_01_lin_pzk0,FijBins2_01_lin_pzk0, \\\n",
    "    sigmaBins2_01g_lin_pzk0,FoMPropBins2_01g_lin_pzk0,paramList2_01g_lin_pzk0,FijBins2_01g_lin_pzk0 = np.load('KZlimited_gold_lin_k1_wa1_pzk.npy')\n",
    "sigmaBins2_02_lin_pzk0,FoMPropBins2_02_lin_pzk0,paramList2_02_lin_pzk0,FijBins2_02_lin_pzk0, \\\n",
    "    sigmaBins2_02g_lin_pzk0,FoMPropBins2_02g_lin_pzk0,paramList2_02g_lin_pzk0,FijBins2_02g_lin_pzk0 = np.load('KZlimited_gold_lin_k2_wa1_pzk.npy')\n",
    "# full\n",
    "sigmaBins2_01_lin_both,FoMPropBins2_01_lin_both,paramList2_01_lin_both,FijBins2_01_lin_both, \\\n",
    "    sigmaBins2_01g_lin_both,FoMPropBins2_01g_lin_both,paramList2_01g_lin_both,FijBins2_01g_lin_both = np.load('KZlimited_gold_lin_k1_wa1.npy')\n",
    "sigmaBins2_02_lin_both,FoMPropBins2_02_lin_both,paramList2_02_lin_both,FijBins2_02_lin_both, \\\n",
    "    sigmaBins2_02g_lin_both,FoMPropBins2_02g_lin_both,paramList2_02g_lin_both,FijBins2_02g_lin_both = np.load('KZlimited_gold_lin_k2_wa1.npy')\n",
    "\n",
    "    \n",
    "# P(k) shape fixed\n",
    "sigmaBins2_01_nln,FoMPropBins2_01_nln,paramList2_01_nln,FijBins2_01_nln, \\\n",
    "    sigmaBins2_01g_nln,FoMPropBins2_01g_nln,paramList2_01g_nln,FijBins2_01g_nln = np.load('KZlimited_gold_nln_k1_wa1_bothk1.npy')\n",
    "sigmaBins2_02_nln,FoMPropBins2_02_nln,paramList2_02_nln,FijBins2_02_nln, \\\n",
    "    sigmaBins2_02g_nln,FoMPropBins2_02g_nln,paramList2_02g_nln,FijBins2_02g_nln = np.load('KZlimited_gold_nln_k2_wa1_bothk2.npy')\n",
    "# P(k) fixed\n",
    "sigmaBins2_01_nln_chi,FoMPropBins2_01_nln_chi,paramList2_01_nln_chi,FijBins2_01_nln_chi, \\\n",
    "    sigmaBins2_01g_nln_chi,FoMPropBins2_01g_nln_chi,paramList2_01g_nln_chi,FijBins2_01g_nln_chi = np.load('KZlimited_gold_nln_k1_wa1_chi.npy')\n",
    "sigmaBins2_02_nln_chi,FoMPropBins2_02_nln_chi,paramList2_02_nln_chi,FijBins2_02_nln_chi, \\\n",
    "    sigmaBins2_02g_nln_chi,FoMPropBins2_02g_nln_chi,paramList2_02g_nln_chi,FijBins2_02g_nln_chi = np.load('KZlimited_gold_nln_k2_wa1_chi.npy')\n",
    "# chi and shape fixed\n",
    "sigmaBins2_01_nln_pzk,FoMPropBins2_01_nln_pzk,paramList2_01_nln_pzk,FijBins2_01_nln_pzk, \\\n",
    "    sigmaBins2_01g_nln_pzk,FoMPropBins2_01g_nln_pzk,paramList2_01g_nln_pzk,FijBins2_01g_nln_pzk = np.load('KZlimited_gold_nln_k1_wa1_pzk_amponlyk1.npy')\n",
    "sigmaBins2_02_nln_pzk,FoMPropBins2_02_nln_pzk,paramList2_02_nln_pzk,FijBins2_02_nln_pzk, \\\n",
    "    sigmaBins2_02g_nln_pzk,FoMPropBins2_02g_nln_pzk,paramList2_02g_nln_pzk,FijBins2_02g_nln_pzk = np.load('KZlimited_gold_nln_k2_wa1_pzk_amponlyk2.npy')\n",
    "# chi fixed\n",
    "covarBins2_01_nln_pzk0,dClVecsBins2_01_nln_pzk0,lmaxByBin2_01_nln_pzk0,preMaskBins2_01_nln_pzk0, \\\n",
    "    covarBins2_01g_nln_pzk0,dClVecsBins2_01g_nln_pzk0,lmaxByBin2_01g_nln_pzk0,preMaskBins2_01g_nln_pzk0 = np.load('Klimited_gold_nln_k1_wa1_pzk.npy')\n",
    "covarBins2_02_nln_pzk0,dClVecsBins2_02_nln_pzk0,lmaxByBin2_02_nln_pzk0,preMaskBins2_02_nln_pzk0, \\\n",
    "    covarBins2_02g_nln_pzk0,dClVecsBins2_02g_nln_pzk0,lmaxByBin2_02g_nln_pzk0,preMaskBins2_02g_nln_pzk0 = np.load('Klimited_gold_nln_k2_wa1_pzk.npy')\n",
    "# full\n",
    "sigmaBins2_01_nln_both,FoMPropBins2_01_nln_both,paramList2_01_nln_both,FijBins2_01_nln_both, \\\n",
    "    sigmaBins2_01g_nln_both,FoMPropBins2_01g_nln_both,paramList2_01g_nln_both,FijBins2_01g_nln_both = np.load('KZlimited_gold_nln_k1_wa1.npy')\n",
    "sigmaBins2_02_nln_both,FoMPropBins2_02_nln_both,paramList2_02_nln_both,FijBins2_02_nln_both, \\\n",
    "    sigmaBins2_02g_nln_both,FoMPropBins2_02g_nln_both,paramList2_02g_nln_both,FijBins2_02g_nln_both = np.load('KZlimited_gold_nln_k2_wa1.npy')\n",
    "\n",
    "\n",
    "print 'done.'"
   ]
  },
  {
   "cell_type": "code",
   "execution_count": null,
   "metadata": {},
   "outputs": [],
   "source": []
  },
  {
   "cell_type": "code",
   "execution_count": 21,
   "metadata": {},
   "outputs": [],
   "source": [
    "# set fsky\n",
    "fsky = 0.44\n",
    "\n",
    "# some labels\n",
    "labelGlin = 'Gold lin'\n",
    "labelOlin = 'Opti lin'\n",
    "labelGnln = 'Gold nln'\n",
    "labelOnln = 'Opti nln'"
   ]
  },
  {
   "cell_type": "code",
   "execution_count": 22,
   "metadata": {},
   "outputs": [
    {
     "name": "stdout",
     "output_type": "stream",
     "text": [
      "nSigmas =  15\n",
      "redshifts =  [0.4, 0.6, 0.8, 1.0, 1.2, 1.4, 1.6, 1.8, 2.0, 2.3, 2.6, 3.0, 3.5, 4.0, 7.0]\n"
     ]
    }
   ],
   "source": [
    "# get nSigmas and redshifts\n",
    "nSigmas = sigmaBins2_01_lin.__len__()\n",
    "#if Fobj2.nBins == 6:\n",
    "    #binEdges = [0.0,0.5,1.0,2.0,3.0,4.0,7.0]\n",
    "#elif Fobj2.nBins == 16:\n",
    "binEdges = [0.0, 0.2, 0.4, 0.6, 0.8, 1.0, 1.2, 1.4, 1.6, 1.8, 2.0, \n",
    "                  2.3, 2.6, 3.0, 3.5, 4.0, 7.0]\n",
    "redshifts = binEdges[2:] # top end of each bin; bin1 not included\n",
    "\n",
    "print 'nSigmas = ',nSigmas\n",
    "print 'redshifts = ',redshifts"
   ]
  },
  {
   "cell_type": "code",
   "execution_count": 23,
   "metadata": {},
   "outputs": [],
   "source": [
    "# get kmax\n",
    "kmax1 = 0.15 #h/Mpc\n",
    "kmax2 = 0.30 #h/Mpc"
   ]
  },
  {
   "cell_type": "code",
   "execution_count": null,
   "metadata": {},
   "outputs": [],
   "source": []
  },
  {
   "cell_type": "code",
   "execution_count": null,
   "metadata": {},
   "outputs": [],
   "source": []
  },
  {
   "cell_type": "code",
   "execution_count": null,
   "metadata": {},
   "outputs": [],
   "source": []
  },
  {
   "cell_type": "code",
   "execution_count": 24,
   "metadata": {},
   "outputs": [
    {
     "data": {
      "text/plain": [
       "'\\nAsIndex = 3\\nFij_kg = Fobj.Fij\\nFij_kg[AsIndex,:] *= 1e-9\\nFij_kg[:,AsIndex] *= 1e-9\\nFij_TE[AsIndex,:] *= 1e-9\\nFij_TE[:,AsIndex] *= 1e-9\\n'"
      ]
     },
     "execution_count": 24,
     "metadata": {},
     "output_type": "execute_result"
    }
   ],
   "source": [
    "# convert As to 10^-9 As.  This is necessary for the CosmicFish library to work properly\n",
    "# already done in loaded files\n",
    "\"\"\"\n",
    "AsIndex = 3\n",
    "Fij_kg = Fobj.Fij\n",
    "Fij_kg[AsIndex,:] *= 1e-9\n",
    "Fij_kg[:,AsIndex] *= 1e-9\n",
    "Fij_TE[AsIndex,:] *= 1e-9\n",
    "Fij_TE[:,AsIndex] *= 1e-9\n",
    "\"\"\""
   ]
  },
  {
   "cell_type": "code",
   "execution_count": null,
   "metadata": {},
   "outputs": [],
   "source": []
  },
  {
   "cell_type": "code",
   "execution_count": 25,
   "metadata": {},
   "outputs": [],
   "source": [
    "# convert Fij_kg from cosmomc_theta to H0\n",
    "# dthetas calculated in 'Rebuild covar with noise'\n",
    "doH0Trans = False # maybe later.  No need for H0 now.\n",
    "#doH0Trans = True\n",
    "if doH0Trans:\n",
    "    # using w0=-0.95, wa=0.0\n",
    "    dthetas = [-2.50452454e-02,  1.02591994e-02,  3.13939138e-05,  0.00000000e+00,\n",
    "            0.00000000e+00,  0.00000000e+00,  2.71153407e-04,  9.81696492e-04,\n",
    "            2.75664407e-04]\n",
    "    #dthetas = [-0.0248396985185, 0.0104553863834, 2.96219516316e-05, 0.0, 0.0, 0.0, \n",
    "    #           0.00019347, 0.00093481, # mnu,w\n",
    "    #           0.0, 0.0, 0.0, 0.0, 0.0, 0.0] # these for bin biases.  confirm they are 0, please.\n",
    "    # The only derivatives in the Jacobian are on the dtheta/dparam row.\n",
    "    mcIndex = 2\n",
    "    jacobian = np.diag(np.ones(25)) #9+15\n",
    "    jacobian[mcIndex,:9] = dthetas#*100\n",
    "    #jacobian[:,mcIndex] = dthetas#*100\n",
    "\n",
    "    # multiply these all by d{100thetamc}/d{thetamc} = 100\n",
    "    #jacobian[mcIndex,:] *= 100\n",
    "    #jacobian[:,mcIndex] *= 100\n",
    "\n",
    "    print jacobian"
   ]
  },
  {
   "cell_type": "code",
   "execution_count": 26,
   "metadata": {},
   "outputs": [],
   "source": [
    "# jacobian-it-up\n",
    "def JacItUp(Fij,nCosParams=9):\n",
    "    nPars = Fij.shape[0] # cut off excess bins\n",
    "    miniJac = jacobian[:nPars,:nPars]\n",
    "    return np.dot(miniJac.T,np.dot(Fij[:nPars,:nPars],miniJac))\n",
    "\n",
    "if doH0Trans:\n",
    "    #Fij_kg = JacItUp(Fij_kg)\n",
    "    #print Fij_kg\n",
    "    #paramList[2] = 'H0'\n",
    "    #print paramList\n",
    "    \n",
    "    FijBins2_01_nln_H0      = JacItUp(FijBins2_01_nln[-1]     )\n",
    "    FijBins2_01g_nln_H0     = JacItUp(FijBins2_01g_nln[-1]    )    \n",
    "    FijBins2_02_nln_H0      = JacItUp(FijBins2_02_nln[-1]     )     \n",
    "    FijBins2_02g_nln_H0     = JacItUp(FijBins2_02g_nln[-1]    )    \n",
    "    FijBins2_01_nln_chi_H0  = JacItUp(FijBins2_01_nln_chi[-1] )  \n",
    "    FijBins2_01g_nln_chi_H0 = JacItUp(FijBins2_01g_nln_chi[-1])\n",
    "    FijBins2_02_nln_chi_H0  = JacItUp(FijBins2_02_nln_chi[-1] ) \n",
    "    FijBins2_02g_nln_chi_H0 = JacItUp(FijBins2_02g_nln_chi[-1])\n",
    "    FijBins2_01_nln_pzk_H0  = JacItUp(FijBins2_01_nln_pzk[-1] ) \n",
    "    FijBins2_01g_nln_pzk_H0 = JacItUp(FijBins2_01g_nln_pzk[-1])\n",
    "    FijBins2_02_nln_pzk_H0  = JacItUp(FijBins2_02_nln_pzk[-1] ) \n",
    "    FijBins2_02g_nln_pzk_H0 = JacItUp(FijBins2_02g_nln_pzk[-1])\n",
    "    \n",
    "    print 'done.'"
   ]
  },
  {
   "cell_type": "code",
   "execution_count": null,
   "metadata": {},
   "outputs": [],
   "source": []
  },
  {
   "cell_type": "code",
   "execution_count": 27,
   "metadata": {},
   "outputs": [],
   "source": [
    "# create combined Fisher matrix\n",
    "# this is already done\n",
    "##Fij_kg = Fobj.Fij\n",
    "#Fij_kgTE = Fij_kg.copy()\n",
    "#Fij_kgTE[:nCosParams,:nCosParams] += Fij_TE \n"
   ]
  },
  {
   "cell_type": "markdown",
   "metadata": {},
   "source": [
    "# Fix w"
   ]
  },
  {
   "cell_type": "code",
   "execution_count": 28,
   "metadata": {},
   "outputs": [],
   "source": [
    "#fixW = True # to fix w0 and wa\n",
    "fixW = False\n",
    "\n",
    "# define row,col deleting function\n",
    "def fixParam(Fij,pNum):\n",
    "    return np.delete(np.delete(Fij,pNum,0),pNum,1)\n",
    "\n",
    "if fixW:\n",
    "    for binNum in range(FijBins2_01_nln.__len__()):\n",
    "        for pNum in range(2): # for w0 and wa\n",
    "            FijBins2_01_nln[binNum] = fixParam(FijBins2_01_nln[binNum],7)\n",
    "            FijBins2_02_nln[binNum] = fixParam(FijBins2_02_nln[binNum],7)\n",
    "            FijBins2_01g_nln[binNum] = fixParam(FijBins2_01g_nln[binNum],7)\n",
    "            FijBins2_02g_nln[binNum] = fixParam(FijBins2_02g_nln[binNum],7)\n",
    "            FijBins2_01_nln_chi[binNum] = fixParam(FijBins2_01_nln_chi[binNum],7)\n",
    "            FijBins2_02_nln_chi[binNum] = fixParam(FijBins2_02_nln_chi[binNum],7)\n",
    "            FijBins2_01g_nln_chi[binNum] = fixParam(FijBins2_01g_nln_chi[binNum],7)\n",
    "            FijBins2_02g_nln_chi[binNum] = fixParam(FijBins2_02g_nln_chi[binNum],7)\n",
    "            FijBins2_01_nln_pzk[binNum] = fixParam(FijBins2_01_nln_pzk[binNum],7)\n",
    "            FijBins2_02_nln_pzk[binNum] = fixParam(FijBins2_02_nln_pzk[binNum],7)\n",
    "            FijBins2_01g_nln_pzk[binNum] = fixParam(FijBins2_01g_nln_pzk[binNum],7)\n",
    "            FijBins2_02g_nln_pzk[binNum] = fixParam(FijBins2_02g_nln_pzk[binNum],7)\n",
    "    print 'done.'"
   ]
  },
  {
   "cell_type": "code",
   "execution_count": null,
   "metadata": {},
   "outputs": [],
   "source": []
  },
  {
   "cell_type": "markdown",
   "metadata": {},
   "source": [
    "# Save to directory"
   ]
  },
  {
   "cell_type": "code",
   "execution_count": 29,
   "metadata": {},
   "outputs": [],
   "source": [
    "# setup for saving files in directory structure\n",
    "import os\n",
    "\n",
    "def createFolder(directory):\n",
    "    try:\n",
    "        if not os.path.exists(directory):\n",
    "            os.makedirs(directory)\n",
    "    except OSError:\n",
    "        print ('Error: Creating directory. ' +  directory)\n"
   ]
  },
  {
   "cell_type": "code",
   "execution_count": null,
   "metadata": {},
   "outputs": [],
   "source": []
  },
  {
   "cell_type": "code",
   "execution_count": 30,
   "metadata": {},
   "outputs": [],
   "source": [
    "#dirName = 'Z_test_Fij_kgTE_all'  # does not include gTE\n",
    "#dirName = 'Z_test_Fij_gTE_all'  # does not include kgTE\n",
    "#dirName = 'Z_test_Fij_pzkchi_nonlinear'  # gold nln; no opti, lin\n",
    "#dirName = 'Z_test_Fij_pzkchi_nonlinear_H0'  # gold nln; no opti, lin\n",
    "\n",
    "#dirName = 'Z_test_Fij_pzkchi_nln_noW'  # gold nln; no opti, lin; w fixed\n",
    "\n",
    "dirName = 'Z_test_Fij_linB' # just linear: full,pzk,chi,pzkamp,chiamp; B for 2nd try\n",
    "\n",
    "createFolder(dirName)\n",
    "\n",
    "createFolder(dirName+'/parameters_analysis')\n",
    "createFolder(dirName+'/raw_results')\n",
    "createFolder(dirName+'/results')"
   ]
  },
  {
   "cell_type": "code",
   "execution_count": null,
   "metadata": {},
   "outputs": [],
   "source": []
  },
  {
   "cell_type": "code",
   "execution_count": null,
   "metadata": {},
   "outputs": [],
   "source": []
  },
  {
   "cell_type": "code",
   "execution_count": null,
   "metadata": {},
   "outputs": [],
   "source": []
  },
  {
   "cell_type": "code",
   "execution_count": 31,
   "metadata": {},
   "outputs": [
    {
     "name": "stdout",
     "output_type": "stream",
     "text": [
      "15\n"
     ]
    }
   ],
   "source": [
    "print FijBins2_01_lin.__len__()"
   ]
  },
  {
   "cell_type": "code",
   "execution_count": 32,
   "metadata": {},
   "outputs": [],
   "source": [
    "# fill the raw_results directory\n",
    "#\"\"\"\n",
    "os.chdir(dirName+'/raw_results')\n",
    "\n",
    "#np.savetxt('1_'+dirName+'_fisher_matrix_Fijkg_cls.dat',Fij_kg)\n",
    "#np.savetxt('2_'+dirName+'_fisher_matrix_FijTE_cls.dat',Fij_TE)\n",
    "#np.savetxt('3_'+dirName+'_fisher_matrix_FijkgTE_cls.dat',Fij_kgTE)\n",
    "\n",
    "#np.savetxt('1_'+dirName+'_fisher_matrix_Fij_Gold_k01_lin.dat',FijBins2_01_lin[-1])\n",
    "#np.savetxt('2_'+dirName+'_fisher_matrix_Fij_Gold_k02_lin.dat',FijBins2_02_lin[-1])\n",
    "#np.savetxt('3_'+dirName+'_fisher_matrix_Fij_Opti_k01_lin.dat',FijBins4_01_lin[-1])\n",
    "#np.savetxt('4_'+dirName+'_fisher_matrix_Fij_Opti_k02_lin.dat',FijBins4_02_lin[-1])\n",
    "#np.savetxt('5_'+dirName+'_fisher_matrix_Fij_Gold_k01_nln.dat',FijBins2_01_nln[-1])\n",
    "#np.savetxt('6_'+dirName+'_fisher_matrix_Fij_Gold_k02_nln.dat',FijBins2_02_nln[-1])\n",
    "#np.savetxt('7_'+dirName+'_fisher_matrix_Fij_Opti_k01_nln.dat',FijBins4_01_nln[-1])\n",
    "#np.savetxt('8_'+dirName+'_fisher_matrix_Fij_Opti_k02_nln.dat',FijBins4_02_nln[-1])\n",
    "\n",
    "#np.savetxt('1_'+dirName+'_fisher_matrix_Fij_Gold_k01g_lin.dat',FijBins2_01g_lin[-1])\n",
    "#np.savetxt('2_'+dirName+'_fisher_matrix_Fij_Gold_k02g_lin.dat',FijBins2_02g_lin[-1])\n",
    "#np.savetxt('3_'+dirName+'_fisher_matrix_Fij_Opti_k01g_lin.dat',FijBins4_01g_lin[-1])\n",
    "#np.savetxt('4_'+dirName+'_fisher_matrix_Fij_Opti_k02g_lin.dat',FijBins4_02g_lin[-1])\n",
    "#np.savetxt('5_'+dirName+'_fisher_matrix_Fij_Gold_k01g_nln.dat',FijBins2_01g_nln[-1])\n",
    "#np.savetxt('6_'+dirName+'_fisher_matrix_Fij_Gold_k02g_nln.dat',FijBins2_02g_nln[-1])\n",
    "#np.savetxt('7_'+dirName+'_fisher_matrix_Fij_Opti_k01g_nln.dat',FijBins4_01g_nln[-1])\n",
    "#np.savetxt('8_'+dirName+'_fisher_matrix_Fij_Opti_k02g_nln.dat',FijBins4_02g_nln[-1])\n",
    "\"\"\"\n",
    "np.savetxt('1_'+dirName+'_fisher_matrix_Fij_Gold_k01_nln.dat',     FijBins2_01_nln[3]     )\n",
    "np.savetxt('2_'+dirName+'_fisher_matrix_Fij_Gold_k01g_nln.dat',    FijBins2_01g_nln[3]    )\n",
    "np.savetxt('3_'+dirName+'_fisher_matrix_Fij_Gold_k02_nln.dat',     FijBins2_02_nln[3]     )\n",
    "np.savetxt('4_'+dirName+'_fisher_matrix_Fij_Gold_k02g_nln.dat',    FijBins2_02g_nln[3]    )\n",
    "\n",
    "np.savetxt('5_'+dirName+'_fisher_matrix_Fij_Gold_k01_nln_chi.dat', FijBins2_01_nln_chi[3] )\n",
    "np.savetxt('6_'+dirName+'_fisher_matrix_Fij_Gold_k01g_nln_chi.dat',FijBins2_01g_nln_chi[3])\n",
    "np.savetxt('7_'+dirName+'_fisher_matrix_Fij_Gold_k02_nln_chi.dat', FijBins2_02_nln_chi[3] )\n",
    "np.savetxt('8_'+dirName+'_fisher_matrix_Fij_Gold_k02g_nln_chi.dat',FijBins2_02g_nln_chi[3])\n",
    "\n",
    "np.savetxt('9_'+dirName+'_fisher_matrix_Fij_Gold_k01_nln_pzk.dat', FijBins2_01_nln_pzk[3] )\n",
    "np.savetxt('A_'+dirName+'_fisher_matrix_Fij_Gold_k01g_nln_pzk.dat',FijBins2_01g_nln_pzk[3])\n",
    "np.savetxt('B_'+dirName+'_fisher_matrix_Fij_Gold_k02_nln_pzk.dat', FijBins2_02_nln_pzk[3] )\n",
    "np.savetxt('C_'+dirName+'_fisher_matrix_Fij_Gold_k02g_nln_pzk.dat',FijBins2_02g_nln_pzk[3])\n",
    "\n",
    "\n",
    "np.savetxt('1_'+dirName+'_fisher_matrix_Fij_Gold_k01_nln.dat',     FijBins2_01_nln[-1]     )\n",
    "np.savetxt('2_'+dirName+'_fisher_matrix_Fij_Gold_k01g_nln.dat',    FijBins2_01g_nln[-1]    )\n",
    "np.savetxt('3_'+dirName+'_fisher_matrix_Fij_Gold_k02_nln.dat',     FijBins2_02_nln[-1]     )\n",
    "np.savetxt('4_'+dirName+'_fisher_matrix_Fij_Gold_k02g_nln.dat',    FijBins2_02g_nln[-1]    )\n",
    "\n",
    "np.savetxt('5_'+dirName+'_fisher_matrix_Fij_Gold_k01_nln_chi.dat', FijBins2_01_nln_chi[-1] )\n",
    "np.savetxt('6_'+dirName+'_fisher_matrix_Fij_Gold_k01g_nln_chi.dat',FijBins2_01g_nln_chi[-1])\n",
    "np.savetxt('7_'+dirName+'_fisher_matrix_Fij_Gold_k02_nln_chi.dat', FijBins2_02_nln_chi[-1] )\n",
    "np.savetxt('8_'+dirName+'_fisher_matrix_Fij_Gold_k02g_nln_chi.dat',FijBins2_02g_nln_chi[-1])\n",
    "\n",
    "np.savetxt('9_'+dirName+'_fisher_matrix_Fij_Gold_k01_nln_pzk.dat', FijBins2_01_nln_pzk[-1] )\n",
    "np.savetxt('A_'+dirName+'_fisher_matrix_Fij_Gold_k01g_nln_pzk.dat',FijBins2_01g_nln_pzk[-1])\n",
    "np.savetxt('B_'+dirName+'_fisher_matrix_Fij_Gold_k02_nln_pzk.dat', FijBins2_02_nln_pzk[-1] )\n",
    "np.savetxt('C_'+dirName+'_fisher_matrix_Fij_Gold_k02g_nln_pzk.dat',FijBins2_02g_nln_pzk[-1])\n",
    "\n",
    "\n",
    "np.savetxt('1_'+dirName+'_fisher_matrix_Fij_Gold_k01_nln.dat',     FijBins2_01_nln_H0     )\n",
    "np.savetxt('2_'+dirName+'_fisher_matrix_Fij_Gold_k01g_nln.dat',    FijBins2_01g_nln_H0    )\n",
    "np.savetxt('3_'+dirName+'_fisher_matrix_Fij_Gold_k02_nln.dat',     FijBins2_02_nln_H0     )\n",
    "np.savetxt('4_'+dirName+'_fisher_matrix_Fij_Gold_k02g_nln.dat',    FijBins2_02g_nln_H0    )\n",
    "\n",
    "np.savetxt('5_'+dirName+'_fisher_matrix_Fij_Gold_k01_nln_chi.dat', FijBins2_01_nln_chi_H0 )\n",
    "np.savetxt('6_'+dirName+'_fisher_matrix_Fij_Gold_k01g_nln_chi.dat',FijBins2_01g_nln_chi_H0)\n",
    "np.savetxt('7_'+dirName+'_fisher_matrix_Fij_Gold_k02_nln_chi.dat', FijBins2_02_nln_chi_H0 )\n",
    "np.savetxt('8_'+dirName+'_fisher_matrix_Fij_Gold_k02g_nln_chi.dat',FijBins2_02g_nln_chi_H0)\n",
    "\n",
    "np.savetxt('9_'+dirName+'_fisher_matrix_Fij_Gold_k01_nln_pzk.dat', FijBins2_01_nln_pzk_H0 )\n",
    "np.savetxt('A_'+dirName+'_fisher_matrix_Fij_Gold_k01g_nln_pzk.dat',FijBins2_01g_nln_pzk_H0)\n",
    "np.savetxt('B_'+dirName+'_fisher_matrix_Fij_Gold_k02_nln_pzk.dat', FijBins2_02_nln_pzk_H0 )\n",
    "np.savetxt('C_'+dirName+'_fisher_matrix_Fij_Gold_k02g_nln_pzk.dat',FijBins2_02g_nln_pzk_H0)\n",
    "\"\"\"\n",
    "\n",
    "# -1 for the last bin, to redshift 7\n",
    "# P(k) shape fixed; chi+amp vary\n",
    "np.savetxt('01_lin_Gold_kgTE_k01_chiAmp.dat',FijBins2_01_lin[-1]      )\n",
    "np.savetxt('02_lin_Gold_gTE_k01g_chiAmp.dat',FijBins2_01g_lin[-1]     )\n",
    "np.savetxt('03_lin_Gold_kgTE_k02_chiAmp.dat',FijBins2_02_lin[-1]      )\n",
    "np.savetxt('04_lin_Gold_gTE_k02g_chiAmp.dat',FijBins2_02g_lin[-1]     )\n",
    "# P(k) fixed; chi varies\n",
    "np.savetxt('05_lin_Gold_kgTE_k01_chi.dat',FijBins2_01_lin_chi[-1]     )\n",
    "np.savetxt('06_lin_Gold_gTE_k01g_chi.dat',FijBins2_01g_lin_chi[-1]    )\n",
    "np.savetxt('07_lin_Gold_kgTE_k02_chi.dat',FijBins2_02_lin_chi[-1]     )\n",
    "np.savetxt('08_lin_Gold_gTE_k02g_chi.dat',FijBins2_02g_lin_chi[-1]    )\n",
    "# chi and shape fixed; amp varies\n",
    "np.savetxt('09_lin_Gold_kgTE_k01_ampOnly.dat',FijBins2_01_lin_pzk[-1] )\n",
    "np.savetxt('10_lin_Gold_gTE_k01g_ampOnly.dat',FijBins2_01g_lin_pzk[-1])\n",
    "np.savetxt('11_lin_Gold_kgTE_k02_ampOnly.dat',FijBins2_02_lin_pzk[-1] )\n",
    "np.savetxt('12_lin_Gold_gTE_k02g_ampOnly.dat',FijBins2_02g_lin_pzk[-1])\n",
    "# chi fixed; pzk shape+amp varies\n",
    "np.savetxt('13_lin_Gold_kgTE_k01_pzk.dat',FijBins2_01_lin_pzk0[-1]    )\n",
    "np.savetxt('14_lin_Gold_gTE_k01g_pzk.dat',FijBins2_01g_lin_pzk0[-1]   )\n",
    "np.savetxt('15_lin_Gold_kgTE_k02_pzk.dat',FijBins2_02_lin_pzk0[-1]    )\n",
    "np.savetxt('16_lin_Gold_gTE_k02g_pzk.dat',FijBins2_02g_lin_pzk0[-1]   )\n",
    "# full; pzk shape+amp + distance all vary\n",
    "np.savetxt('17_lin_Gold_kgTE_k01_full.dat',FijBins2_01_lin_both[-1]   )\n",
    "np.savetxt('18_lin_Gold_gTE_k01g_full.dat',FijBins2_01g_lin_both[-1]  )\n",
    "np.savetxt('19_lin_Gold_kgTE_k02_full.dat',FijBins2_02_lin_both[-1]   )\n",
    "np.savetxt('20_lin_Gold_gTE_k02g_full.dat',FijBins2_02g_lin_both[-1]  )\n",
    "\n",
    "# add some code to do the .paramnames files too... but not now\n",
    "\n",
    "os.chdir('../..')\n",
    "#\"\"\""
   ]
  },
  {
   "cell_type": "code",
   "execution_count": 33,
   "metadata": {},
   "outputs": [
    {
     "name": "stdout",
     "output_type": "stream",
     "text": [
      "(24, 24)\n"
     ]
    }
   ],
   "source": [
    "print FijBins2_01_nln[-1].shape"
   ]
  },
  {
   "cell_type": "code",
   "execution_count": null,
   "metadata": {},
   "outputs": [],
   "source": []
  },
  {
   "cell_type": "code",
   "execution_count": null,
   "metadata": {},
   "outputs": [],
   "source": []
  },
  {
   "cell_type": "code",
   "execution_count": null,
   "metadata": {},
   "outputs": [],
   "source": []
  },
  {
   "cell_type": "code",
   "execution_count": null,
   "metadata": {},
   "outputs": [],
   "source": []
  },
  {
   "cell_type": "code",
   "execution_count": null,
   "metadata": {},
   "outputs": [],
   "source": []
  },
  {
   "cell_type": "code",
   "execution_count": null,
   "metadata": {},
   "outputs": [],
   "source": []
  },
  {
   "cell_type": "markdown",
   "metadata": {},
   "source": [
    "# Try a version where I put increasing priors on mnu"
   ]
  },
  {
   "cell_type": "code",
   "execution_count": 34,
   "metadata": {},
   "outputs": [],
   "source": [
    "doMnuPrior = False\n",
    "if doMnuPrior: # need to rename Fisher matrices to use this\n",
    "    # define some mnu priors\n",
    "    sigmaMnu1 = 0.03\n",
    "    sigmaMnu2 = 0.01\n",
    "    sigmaMnu3 = 0.003\n",
    "\n",
    "    # copy Fisher matrix\n",
    "    Fij_plus1 = Fij_kgTE.copy()\n",
    "    Fij_plus2 = Fij_kgTE.copy()\n",
    "    Fij_plus3 = Fij_kgTE.copy()\n",
    "\n",
    "    # add priors\n",
    "    mnuIndex = 6\n",
    "    Fij_plus1[mnuIndex,mnuIndex] += sigmaMnu1**-2\n",
    "    Fij_plus2[mnuIndex,mnuIndex] += sigmaMnu2**-2\n",
    "    Fij_plus3[mnuIndex,mnuIndex] += sigmaMnu3**-2"
   ]
  },
  {
   "cell_type": "code",
   "execution_count": 35,
   "metadata": {},
   "outputs": [],
   "source": [
    "if doMnuPrior:\n",
    "    print Fij_kgTE[mnuIndex,mnuIndex]\n",
    "    print Fij_plus1[mnuIndex,mnuIndex]\n",
    "    print Fij_plus2[mnuIndex,mnuIndex]\n",
    "    print Fij_plus3[mnuIndex,mnuIndex]"
   ]
  },
  {
   "cell_type": "code",
   "execution_count": null,
   "metadata": {},
   "outputs": [],
   "source": []
  },
  {
   "cell_type": "code",
   "execution_count": 36,
   "metadata": {},
   "outputs": [],
   "source": [
    "if doMnuPrior:\n",
    "    # save Fisher matrices\n",
    "    dirName = 'Z_test_3' # priors on mnu\n",
    "    createFolder(dirName)\n",
    "\n",
    "    createFolder(dirName+'/parameters_analysis')\n",
    "    createFolder(dirName+'/raw_results')\n",
    "    createFolder(dirName+'/results')\n",
    "\n",
    "    os.chdir(dirName+'/raw_results')\n",
    "\n",
    "    np.savetxt('1_'+dirName+'_fisher_matrix_FijkgTE_cls.dat',Fij_kgTE)\n",
    "    np.savetxt('2_'+dirName+'_fisher_matrix_Fij_plus1_cls.dat',Fij_plus1)\n",
    "    np.savetxt('3_'+dirName+'_fisher_matrix_Fij_plus2_cls.dat',Fij_plus2)\n",
    "    np.savetxt('4_'+dirName+'_fisher_matrix_Fij_plus3_cls.dat',Fij_plus3)\n",
    "\n",
    "    # add some code to do the .paramnames files too... but not now\n",
    "\n",
    "    os.chdir('../..')"
   ]
  },
  {
   "cell_type": "code",
   "execution_count": null,
   "metadata": {},
   "outputs": [],
   "source": []
  },
  {
   "cell_type": "code",
   "execution_count": null,
   "metadata": {},
   "outputs": [],
   "source": []
  },
  {
   "cell_type": "code",
   "execution_count": null,
   "metadata": {},
   "outputs": [],
   "source": []
  },
  {
   "cell_type": "code",
   "execution_count": null,
   "metadata": {},
   "outputs": [],
   "source": []
  },
  {
   "cell_type": "code",
   "execution_count": null,
   "metadata": {},
   "outputs": [],
   "source": []
  },
  {
   "cell_type": "code",
   "execution_count": null,
   "metadata": {},
   "outputs": [],
   "source": []
  },
  {
   "cell_type": "code",
   "execution_count": null,
   "metadata": {},
   "outputs": [],
   "source": []
  },
  {
   "cell_type": "code",
   "execution_count": null,
   "metadata": {},
   "outputs": [],
   "source": []
  },
  {
   "cell_type": "code",
   "execution_count": null,
   "metadata": {},
   "outputs": [],
   "source": []
  },
  {
   "cell_type": "code",
   "execution_count": null,
   "metadata": {},
   "outputs": [],
   "source": []
  }
 ],
 "metadata": {
  "kernelspec": {
   "display_name": "Python 2",
   "language": "python",
   "name": "python2"
  },
  "language_info": {
   "codemirror_mode": {
    "name": "ipython",
    "version": 2
   },
   "file_extension": ".py",
   "mimetype": "text/x-python",
   "name": "python",
   "nbconvert_exporter": "python",
   "pygments_lexer": "ipython2",
   "version": "2.7.15"
  }
 },
 "nbformat": 4,
 "nbformat_minor": 2
}
