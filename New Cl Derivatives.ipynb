{
 "cells": [
  {
   "cell_type": "markdown",
   "metadata": {},
   "source": [
    "# Create new derivatives and attach them to a FisherMatrix object"
   ]
  },
  {
   "cell_type": "code",
   "execution_count": 10,
   "metadata": {},
   "outputs": [],
   "source": [
    "import crosspower as cp\n",
    "import FisherCl as fcl # branch quickCl\n",
    "#import camb\n",
    "\n",
    "# set plotting to be in the notebook instead of its own qt window\n",
    "%matplotlib inline"
   ]
  },
  {
   "cell_type": "markdown",
   "metadata": {},
   "source": [
    "# Load Fobj to insert derivatives into"
   ]
  },
  {
   "cell_type": "code",
   "execution_count": 11,
   "metadata": {},
   "outputs": [
    {
     "name": "stdout",
     "output_type": "stream",
     "text": [
      "[ 0.  1.  2.  3.  4.  6.  7.  8.  9. 12. 13. 14. 18. 19. 24.]\n",
      "['k,k', 'k,g1', 'k,g2', 'k,g3', 'k,g4', 'g1,g1', 'g1,g2', 'g1,g3', 'g1,g4', 'g2,g2', 'g2,g3', 'g2,g4', 'g3,g3', 'g3,g4', 'g4,g4']\n",
      "['ombh2', 'omch2', 'cosmomc_theta', 'As', 'ns', 'tau', 'mnu', 'w', 'bin1', 'bin2', 'bin3', 'bin4']\n",
      "(12, 12)\n",
      "nParams:  12\n",
      "crossCls.shape:  (5, 5, 1999)\n",
      "dClVecs.shape:  (15, 12, 1999)\n"
     ]
    }
   ],
   "source": [
    "# load Fobj to insert these into\n",
    "import FisherCl as fcl\n",
    "import crosspower as cp\n",
    "import pickle\n",
    "\n",
    "#filehandler = open('Fisher_7_6X4_w2.obj','r') # AccuracyBoost=3, lmax=3000, lmaxP=5000, nz=3e5; nonlinear=False,\n",
    "#filehandler = open('Fisher_7_6X4.obj','r') # AccuracyBoost=3, lmax=3000, lmaxP=5000, nz=3e5; nonlinear=False,\n",
    "#neutrino_hierarchy = 'normal', usePrimaryCMB = True; from FisherCl branch quickCl\n",
    "# kludge for this one: told cp.getDNDZinterp to use modelDNDZ3; set cp.tophat beesBins=True\n",
    "# biasByBin = False (uses sigma(b)/b), dw = 0.005\n",
    "\n",
    "#filehandler = open('Fisher_7_6X2_w2.obj','r') # AccuracyBoost=3, lmax=3000, lmaxP=5000, nz=3e5; nonlinear=True,\n",
    "#filehandler = open('Fisher_7_6X2.obj','r') # AccuracyBoost=3, lmax=3000, lmaxP=5000, nz=3e5; nonlinear=True,\n",
    "#neutrino_hierarchy = 'normal', usePrimaryCMB = True; from FisherCl branch quickCl\n",
    "# kludge for this one: told cp.getDNDZinterp to use modelDNDZ3; set cp.tophat beesBins=True\n",
    "# biasByBin = False (uses sigma(b)/b), dw = 0.005\n",
    "\n",
    "#filehandler = open('Fisher_7_6X.obj','r') # AccuracyBoost=3, lmax=2000, nz=3e5; nonlinear=False,\n",
    "#neutrino_hierarchy = 'normal', usePrimaryCMB = False; from FisherCl branch quickCl\n",
    "# kludge for this one: told cp.getDNDZinterp to use modelDNDZ3; set cp.tophat beesBins=True\n",
    "\n",
    "filehandler = open('Fisher_4_4W.obj','r') # accuracyBoost=3,doNorm=True,lmax=2000, nz=3e5; nonlinear=True,\n",
    "#neutrino_hierarchy = 'degenerate'; from FisherCl branch quickCl\n",
    "\n",
    "Fobj = pickle.load(filehandler) \n",
    "\n",
    "\n",
    "lmin = Fobj.lmin\n",
    "lmax = Fobj.lmax\n",
    "ells = Fobj.ells\n",
    "#lminP = Fobj.lminP\n",
    "#lmaxP = Fobj.lmaxP\n",
    "#ellsP = Fobj.ellsP\n",
    "\n",
    "nMaps = Fobj.nBins + 1\n",
    "nCosParams = Fobj.nParams - Fobj.nBins\n",
    "obsNames = Fobj.obsNames\n",
    "paramList = Fobj.paramList\n",
    "\n",
    "print Fobj.obsList\n",
    "print Fobj.obsNames\n",
    "print Fobj.paramList\n",
    "\n",
    "print Fobj.Fij.shape\n",
    "#print Fobj.FijTE.shape\n",
    "print 'nParams: ',Fobj.nParams\n",
    "#print 'nCosParams: ',Fobj.nCosParams\n",
    "\n",
    "crossCls = Fobj.crossCls\n",
    "print 'crossCls.shape: ',crossCls.shape\n",
    "dClVecs = Fobj.dClVecs\n",
    "print 'dClVecs.shape: ',dClVecs.shape\n",
    "\n",
    "#crossClsP = Fobj.crossClsP\n",
    "#print 'crossClsP.shape: ',crossClsP.shape\n",
    "#dClVecsP = Fobj.dClVecsP\n",
    "#print 'dClVecsP.shape: ',dClVecsP.shape"
   ]
  },
  {
   "cell_type": "code",
   "execution_count": 12,
   "metadata": {},
   "outputs": [
    {
     "name": "stdout",
     "output_type": "stream",
     "text": [
      "[9.33857024e-04 2.36813256e-03 2.19339970e-05 3.97997147e-11\n",
      " 4.99196500e-03 1.91527758e+00 2.54010532e-02 1.62545627e-02\n",
      " 4.02007798e-03 4.82482850e-03 6.05583006e-03 6.27846283e-03]\n"
     ]
    }
   ],
   "source": [
    "# get sigmas to compare against\n",
    "getSigmas = lambda Fij: np.sqrt(np.diag(np.linalg.inv(Fij)))\n",
    "sigmas = getSigmas(Fobj.Fij)\n",
    "#sigmasTE = getSigmas(Fobj.FijTE)\n",
    "print sigmas\n",
    "#print sigmasTE"
   ]
  },
  {
   "cell_type": "code",
   "execution_count": 13,
   "metadata": {},
   "outputs": [
    {
     "name": "stdout",
     "output_type": "stream",
     "text": [
      "{'cosmomc_theta': 0.0104087, 'ns': 0.9653, 'kPivot': 0.05, 'omk': 0, 'H0': None, 'mnu': 0.06, 'ombh2': 0.02226, 'tau': 0.063, 'neutrino_hierarchy': 'degenerate', 'standard_neutrino_neff': 3.046, 'As': 2.13e-09, 'omch2': 0.1193, 'w': -1.0, 'num_massive_neutrinos': 1, 'r': 0, 'nnu': 3.046}\n"
     ]
    }
   ],
   "source": [
    "print Fobj.cosParams"
   ]
  },
  {
   "cell_type": "code",
   "execution_count": null,
   "metadata": {},
   "outputs": [],
   "source": []
  },
  {
   "cell_type": "markdown",
   "metadata": {},
   "source": [
    "# Make new dCl/dws using $\\Delta w = 0.05$"
   ]
  },
  {
   "cell_type": "code",
   "execution_count": 14,
   "metadata": {},
   "outputs": [],
   "source": [
    "# get parameters for w+, w-\n",
    "# get Cl^ab for w+,w- for ab in {kk, kg1, ..., gagb,...}\n",
    "# get pars objects for w+, w-\n",
    "# get Cl^TT,ET,EE for w+,w-\n",
    "\n",
    "# calculate dCl/dw for all Cl using +,- parts\n",
    "# insert into Fobj\n"
   ]
  },
  {
   "cell_type": "code",
   "execution_count": 15,
   "metadata": {},
   "outputs": [
    {
     "name": "stdout",
     "output_type": "stream",
     "text": [
      "nonlinear =  True\n"
     ]
    }
   ],
   "source": [
    "# set cosmological parameters\n",
    "\"\"\"\n",
    "cosParams = {\n",
    "        'H0'    : None, #67.51, #setting H0=None allows cosmomc_theta to be used instead\n",
    "        'cosmomc_theta'           : 1.04087e-2,\n",
    "        'ombh2' : 0.02226,\n",
    "        'omch2' : 0.1193,\n",
    "        'omk'   : 0,\n",
    "        'tau'   : 0.063,\n",
    "\n",
    "        'As'    : 2.130e-9,\n",
    "        'ns'    : 0.9653,\n",
    "        'r'     : 0,\n",
    "        'kPivot': 0.05,\n",
    "    \n",
    "        'w'     : -1.0,\n",
    "        'wa'    : 0.0,\n",
    "\n",
    "        # if fiducial mnu is changed, need to adjust omch2 as well\n",
    "        'mnu'   : 0.06, # (eV)\n",
    "        #'mnu'   : 0.058, # Lloyd suggested this value for fiducial; adjust omch2 if I do use it\n",
    "        'nnu'   : 3.046,\n",
    "        'standard_neutrino_neff'  : 3.046,\n",
    "        'num_massive_neutrinos'   : 1,\n",
    "        'neutrino_hierarchy'      : 'normal'}\n",
    "\"\"\"\n",
    "# add wa parameter and value to object\n",
    "Fobj.cosParams['wa'] = 0.0\n",
    "cosParams = Fobj.cosParams\n",
    "\n",
    "AccuracyBoost = 3\n",
    "nonlinear = Fobj.nonlinear\n",
    "print 'nonlinear = ',nonlinear\n"
   ]
  },
  {
   "cell_type": "code",
   "execution_count": 16,
   "metadata": {},
   "outputs": [],
   "source": [
    "# copy some setup from FisherCl.py\n",
    "#  modified to only calculate derivatives of one parameter: w\n",
    "import camb\n",
    "\n",
    "# to use with Fisher_7_6X.obj or similar result:\n",
    "#   in crosspower.py, set tophat to beesBins = True\n",
    "#   in crosspower.py, set getDNDZinterp to use modelDNDZ3\n",
    "\n",
    "myParams = Fobj.cosParams\n",
    "nz = Fobj.nz #300000\n",
    "\n",
    "zmin = Fobj.zmin #0\n",
    "zmax = Fobj.zmax #7\n",
    "nBins = Fobj.nBins #6\n",
    "nMaps = nBins+1\n",
    "nMapsP = 2 #T,E\n",
    "\n",
    "# use Beesbins? Need to turn on in crosspower.tophat\n",
    "dndzMode = 2\n",
    "z0 = 0.3 # for modelDNDZ; turn on in crosspower.getDNDZinterp\n",
    "#z0 = 0.5 # for modelDNDZ3; turn on in crosspower.getDNDZinterp\n",
    "doNorm = True\n",
    "useWk = False\n",
    "BPZ = True\n",
    "binSmooth = False\n",
    "biasByBin = True\n",
    "tophatBins = True\n",
    "\n",
    "lpa = 5.0\n",
    "myClName = 'unlensed_scalar'\n",
    "\n",
    "\n",
    "# parameters list:\n",
    "# step sizes for discrete derivatives: must correspond to paramList entries!\n",
    "#   from Allison et. al. (2015) Table III.\n",
    "nCosParams = 9 # 6 LCDM + Mnu + w + wa\n",
    "paramList = ['ombh2','omch2','cosmomc_theta',  'As', 'ns','tau','mnu', 'w', 'wa']\n",
    "deltaP =    [ 0.0008, 0.0030,      0.0050e-2,0.1e-9,0.010,0.020,0.020,0.05,0.025] #mnu one in eV\n",
    "\n",
    "# the same shape as in FisherCl, but I'll use only 1 parameter here\n",
    "crossClsPlus  = np.zeros((nMaps,nMaps,nCosParams,lmax-lmin+1))\n",
    "crossClsMinus = np.zeros((nMaps,nMaps,nCosParams,lmax-lmin+1))\n",
    "#crossClsPPlus  = np.zeros((nMapsP,nMapsP,nCosParams,lmaxP-lminP+1))\n",
    "#crossClsPMinus = np.zeros((nMapsP,nMapsP,nCosParams,lmaxP-lminP+1))\n",
    "\n",
    "\n"
   ]
  },
  {
   "cell_type": "code",
   "execution_count": null,
   "metadata": {},
   "outputs": [],
   "source": []
  },
  {
   "cell_type": "code",
   "execution_count": 17,
   "metadata": {
    "scrolled": true
   },
   "outputs": [
    {
     "name": "stderr",
     "output_type": "stream",
     "text": [
      "WARNING:root:Currently dark energy parameters are changed globally, not per parameter set\n",
      "WARNING:root:accuracy parameters are changed globally, not yet per parameter set\n"
     ]
    },
    {
     "name": "stdout",
     "output_type": "stream",
     "text": [
      "creating parameter sets for making discrete derivatives...\n",
      "creating parameter set for  w  derivative...\n",
      "neutrino_hierarchy =  degenerate\n",
      "zs.size:  299998\n"
     ]
    },
    {
     "name": "stderr",
     "output_type": "stream",
     "text": [
      "WARNING:root:Currently dark energy parameters are changed globally, not per parameter set\n",
      "WARNING:root:accuracy parameters are changed globally, not yet per parameter set\n"
     ]
    },
    {
     "name": "stdout",
     "output_type": "stream",
     "text": [
      "neutrino_hierarchy =  degenerate\n",
      "zs.size:  299998\n"
     ]
    },
    {
     "ename": "KeyboardInterrupt",
     "evalue": "",
     "output_type": "error",
     "traceback": [
      "\u001b[0;31m---------------------------------------------------------------------------\u001b[0m",
      "\u001b[0;31mKeyboardInterrupt\u001b[0m                         Traceback (most recent call last)",
      "\u001b[0;32m<ipython-input-17-d0b2dbc6b65c>\u001b[0m in \u001b[0;36m<module>\u001b[0;34m()\u001b[0m\n\u001b[1;32m     24\u001b[0m                                      **myParamsUpper)\n\u001b[1;32m     25\u001b[0m     myPksLower = cp.MatterPower(nz=nz,AccuracyBoost=AccuracyBoost,nonlinear=nonlinear,\n\u001b[0;32m---> 26\u001b[0;31m                                      **myParamsLower)\n\u001b[0m\u001b[1;32m     27\u001b[0m     \u001b[0;31m# create Window objects\u001b[0m\u001b[0;34m\u001b[0m\u001b[0;34m\u001b[0m\u001b[0m\n\u001b[1;32m     28\u001b[0m     myWinsUpper = cp.Window(myPksUpper,zmin=zmin,zmax=zmax,\n",
      "\u001b[0;32m/Users/zork/Programming/Python/crosscor/crosspower.py\u001b[0m in \u001b[0;36m__init__\u001b[0;34m(self, nz, As, ns, r, kPivot, w, wa, nonlinear, AccuracyBoost, myVar1, myVar2, hunits, **cos_kwargs)\u001b[0m\n\u001b[1;32m    197\u001b[0m                       \u001b[0mkPivot\u001b[0m\u001b[0;34m=\u001b[0m\u001b[0mkPivot\u001b[0m\u001b[0;34m,\u001b[0m\u001b[0mk_per_logint\u001b[0m\u001b[0;34m=\u001b[0m\u001b[0mk_per_logint\u001b[0m\u001b[0;34m,\u001b[0m\u001b[0mnonlinear\u001b[0m\u001b[0;34m=\u001b[0m\u001b[0mnonlinear\u001b[0m\u001b[0;34m,\u001b[0m\u001b[0;34m\u001b[0m\u001b[0m\n\u001b[1;32m    198\u001b[0m                       \u001b[0mAccuracyBoost\u001b[0m\u001b[0;34m=\u001b[0m\u001b[0mAccuracyBoost\u001b[0m\u001b[0;34m,\u001b[0m\u001b[0mmyVar1\u001b[0m\u001b[0;34m=\u001b[0m\u001b[0mmyVar1\u001b[0m\u001b[0;34m,\u001b[0m\u001b[0mmyVar2\u001b[0m\u001b[0;34m=\u001b[0m\u001b[0mmyVar2\u001b[0m\u001b[0;34m,\u001b[0m\u001b[0;34m\u001b[0m\u001b[0m\n\u001b[0;32m--> 199\u001b[0;31m                       hunits=hunits)\n\u001b[0m\u001b[1;32m    200\u001b[0m \u001b[0;34m\u001b[0m\u001b[0m\n\u001b[1;32m    201\u001b[0m \u001b[0;34m\u001b[0m\u001b[0m\n",
      "\u001b[0;32m/Users/zork/Programming/Python/crosscor/crosspower.py\u001b[0m in \u001b[0;36mmakePKinterp\u001b[0;34m(self, newPk, nz, kmax, As, ns, r, kPivot, w, wa, myVar1, myVar2, k_per_logint, nonlinear, AccuracyBoost, hunits, **cos_kwargs)\u001b[0m\n\u001b[1;32m    329\u001b[0m         self.PK = camb.get_matter_power_interpolator(self.pars, nonlinear=nonlinear, \n\u001b[1;32m    330\u001b[0m             \u001b[0mhubble_units\u001b[0m\u001b[0;34m=\u001b[0m\u001b[0mhunits\u001b[0m\u001b[0;34m,\u001b[0m \u001b[0mk_hunit\u001b[0m\u001b[0;34m=\u001b[0m\u001b[0mhunits\u001b[0m\u001b[0;34m,\u001b[0m \u001b[0mkmax\u001b[0m\u001b[0;34m=\u001b[0m\u001b[0mkmax\u001b[0m\u001b[0;34m,\u001b[0m\u001b[0mk_per_logint\u001b[0m\u001b[0;34m=\u001b[0m\u001b[0mk_per_logint\u001b[0m\u001b[0;34m,\u001b[0m\u001b[0;34m\u001b[0m\u001b[0m\n\u001b[0;32m--> 331\u001b[0;31m             var1=myVar1,var2=myVar2, zmax=self.zstar)\n\u001b[0m\u001b[1;32m    332\u001b[0m \u001b[0;34m\u001b[0m\u001b[0m\n\u001b[1;32m    333\u001b[0m     \u001b[0;31m#Get H(z) values (in Mpc^-1 units)\u001b[0m\u001b[0;34m\u001b[0m\u001b[0;34m\u001b[0m\u001b[0m\n",
      "\u001b[0;32m/opt/local/Library/Frameworks/Python.framework/Versions/2.7/lib/python2.7/site-packages/camb/camb.pyc\u001b[0m in \u001b[0;36mget_matter_power_interpolator\u001b[0;34m(params, zmin, zmax, nz_step, zs, kmax, nonlinear, var1, var2, hubble_units, k_hunit, return_z_k, k_per_logint, log_interp)\u001b[0m\n\u001b[1;32m   1315\u001b[0m     \u001b[0mpars\u001b[0m\u001b[0;34m.\u001b[0m\u001b[0mset_matter_power\u001b[0m\u001b[0;34m(\u001b[0m\u001b[0mredshifts\u001b[0m\u001b[0;34m=\u001b[0m\u001b[0mzs\u001b[0m\u001b[0;34m,\u001b[0m \u001b[0mkmax\u001b[0m\u001b[0;34m=\u001b[0m\u001b[0mkmax\u001b[0m\u001b[0;34m,\u001b[0m \u001b[0mk_per_logint\u001b[0m\u001b[0;34m=\u001b[0m\u001b[0mk_per_logint\u001b[0m\u001b[0;34m,\u001b[0m \u001b[0msilent\u001b[0m\u001b[0;34m=\u001b[0m\u001b[0mTrue\u001b[0m\u001b[0;34m)\u001b[0m\u001b[0;34m\u001b[0m\u001b[0m\n\u001b[1;32m   1316\u001b[0m     \u001b[0mpars\u001b[0m\u001b[0;34m.\u001b[0m\u001b[0mNonLinear\u001b[0m \u001b[0;34m=\u001b[0m \u001b[0mmodel\u001b[0m\u001b[0;34m.\u001b[0m\u001b[0mNonLinear_none\u001b[0m\u001b[0;34m\u001b[0m\u001b[0m\n\u001b[0;32m-> 1317\u001b[0;31m     \u001b[0mresults\u001b[0m \u001b[0;34m=\u001b[0m \u001b[0mget_results\u001b[0m\u001b[0;34m(\u001b[0m\u001b[0mpars\u001b[0m\u001b[0;34m)\u001b[0m\u001b[0;34m\u001b[0m\u001b[0m\n\u001b[0m\u001b[1;32m   1318\u001b[0m \u001b[0;34m\u001b[0m\u001b[0m\n\u001b[1;32m   1319\u001b[0m     \u001b[0;32mclass\u001b[0m \u001b[0mPKInterpolator\u001b[0m\u001b[0;34m(\u001b[0m\u001b[0mRectBivariateSpline\u001b[0m\u001b[0;34m)\u001b[0m\u001b[0;34m:\u001b[0m\u001b[0;34m\u001b[0m\u001b[0m\n",
      "\u001b[0;32m/opt/local/Library/Frameworks/Python.framework/Versions/2.7/lib/python2.7/site-packages/camb/camb.pyc\u001b[0m in \u001b[0;36mget_results\u001b[0;34m(params)\u001b[0m\n\u001b[1;32m   1149\u001b[0m     \"\"\"\n\u001b[1;32m   1150\u001b[0m     \u001b[0mres\u001b[0m \u001b[0;34m=\u001b[0m \u001b[0mCAMBdata\u001b[0m\u001b[0;34m(\u001b[0m\u001b[0;34m)\u001b[0m\u001b[0;34m\u001b[0m\u001b[0m\n\u001b[0;32m-> 1151\u001b[0;31m     \u001b[0mres\u001b[0m\u001b[0;34m.\u001b[0m\u001b[0mcalc_power_spectra\u001b[0m\u001b[0;34m(\u001b[0m\u001b[0mparams\u001b[0m\u001b[0;34m)\u001b[0m\u001b[0;34m\u001b[0m\u001b[0m\n\u001b[0m\u001b[1;32m   1152\u001b[0m     \u001b[0;32mreturn\u001b[0m \u001b[0mres\u001b[0m\u001b[0;34m\u001b[0m\u001b[0m\n\u001b[1;32m   1153\u001b[0m \u001b[0;34m\u001b[0m\u001b[0m\n",
      "\u001b[0;32m/opt/local/Library/Frameworks/Python.framework/Versions/2.7/lib/python2.7/site-packages/camb/camb.pyc\u001b[0m in \u001b[0;36mcalc_power_spectra\u001b[0;34m(self, params)\u001b[0m\n\u001b[1;32m    425\u001b[0m         \"\"\"\n\u001b[1;32m    426\u001b[0m         \u001b[0;32mif\u001b[0m \u001b[0mparams\u001b[0m \u001b[0;32mis\u001b[0m \u001b[0;32mnot\u001b[0m \u001b[0mNone\u001b[0m\u001b[0;34m:\u001b[0m\u001b[0;34m\u001b[0m\u001b[0m\n\u001b[0;32m--> 427\u001b[0;31m             \u001b[0mresult\u001b[0m \u001b[0;34m=\u001b[0m \u001b[0mself\u001b[0m\u001b[0;34m.\u001b[0m\u001b[0mcalc_transfers\u001b[0m\u001b[0;34m(\u001b[0m\u001b[0mparams\u001b[0m\u001b[0;34m,\u001b[0m \u001b[0monly_transfers\u001b[0m\u001b[0;34m=\u001b[0m\u001b[0mFalse\u001b[0m\u001b[0;34m)\u001b[0m\u001b[0;34m\u001b[0m\u001b[0m\n\u001b[0m\u001b[1;32m    428\u001b[0m             \u001b[0;32mif\u001b[0m \u001b[0mresult\u001b[0m \u001b[0;34m!=\u001b[0m \u001b[0;36m0\u001b[0m\u001b[0;34m:\u001b[0m\u001b[0;34m\u001b[0m\u001b[0m\n\u001b[1;32m    429\u001b[0m                 \u001b[0;32mraise\u001b[0m \u001b[0mCAMBError\u001b[0m\u001b[0;34m(\u001b[0m\u001b[0;34m'Error getting transfer functions: %u'\u001b[0m \u001b[0;34m%\u001b[0m \u001b[0mresult\u001b[0m\u001b[0;34m)\u001b[0m\u001b[0;34m\u001b[0m\u001b[0m\n",
      "\u001b[0;32m/opt/local/Library/Frameworks/Python.framework/Versions/2.7/lib/python2.7/site-packages/camb/camb.pyc\u001b[0m in \u001b[0;36mcalc_transfers\u001b[0;34m(self, params, only_transfers)\u001b[0m\n\u001b[1;32m    415\u001b[0m         \u001b[0mopt\u001b[0m \u001b[0;34m=\u001b[0m \u001b[0mc_bool\u001b[0m\u001b[0;34m(\u001b[0m\u001b[0;34m)\u001b[0m\u001b[0;34m\u001b[0m\u001b[0m\n\u001b[1;32m    416\u001b[0m         \u001b[0mopt\u001b[0m\u001b[0;34m.\u001b[0m\u001b[0mvalue\u001b[0m \u001b[0;34m=\u001b[0m \u001b[0monly_transfers\u001b[0m\u001b[0;34m\u001b[0m\u001b[0m\n\u001b[0;32m--> 417\u001b[0;31m         \u001b[0;32mreturn\u001b[0m \u001b[0mCAMBdata_gettransfers\u001b[0m\u001b[0;34m(\u001b[0m\u001b[0mself\u001b[0m\u001b[0;34m.\u001b[0m\u001b[0m_key\u001b[0m\u001b[0;34m,\u001b[0m \u001b[0mbyref\u001b[0m\u001b[0;34m(\u001b[0m\u001b[0mparams\u001b[0m\u001b[0;34m)\u001b[0m\u001b[0;34m,\u001b[0m \u001b[0mbyref\u001b[0m\u001b[0;34m(\u001b[0m\u001b[0mopt\u001b[0m\u001b[0;34m)\u001b[0m\u001b[0;34m)\u001b[0m\u001b[0;34m\u001b[0m\u001b[0m\n\u001b[0m\u001b[1;32m    418\u001b[0m \u001b[0;34m\u001b[0m\u001b[0m\n\u001b[1;32m    419\u001b[0m     \u001b[0;32mdef\u001b[0m \u001b[0mcalc_power_spectra\u001b[0m\u001b[0;34m(\u001b[0m\u001b[0mself\u001b[0m\u001b[0;34m,\u001b[0m \u001b[0mparams\u001b[0m\u001b[0;34m=\u001b[0m\u001b[0mNone\u001b[0m\u001b[0;34m)\u001b[0m\u001b[0;34m:\u001b[0m\u001b[0;34m\u001b[0m\u001b[0m\n",
      "\u001b[0;31mKeyboardInterrupt\u001b[0m: "
     ]
    }
   ],
   "source": [
    "# get parameter sets for numeric differentiation\n",
    "\n",
    "# select parameter\n",
    "myParamNum = 7 # 7 for w\n",
    "#myParamNum = 8 # 8 for wa\n",
    "#newWa = True # set to True if adding wa to parameter set that didn't already have it\n",
    "newWa = False # set to True if adding wa to parameter set that didn't already have it\n",
    "\n",
    "print 'creating parameter sets for making discrete derivatives...'\n",
    "#for cParamNum in range(nCosParams):\n",
    "for cParamNum in [myParamNum]:\n",
    "    \n",
    "    #print 'creating matter power spectra for ',paramList[cParamNum],' derivative...'\n",
    "    print 'creating parameter set for ',paramList[cParamNum],' derivative...'\n",
    "    # add parameter dictionary to lists; HAVE TO BE COPIES!!!\n",
    "    myParamsUpper = myParams.copy()\n",
    "    myParamsLower = myParams.copy()\n",
    "    # modify parameter number cParamNum in dictionaries\n",
    "    myParamsUpper[paramList[cParamNum]] += deltaP[cParamNum]\n",
    "    myParamsLower[paramList[cParamNum]] -= deltaP[cParamNum]\n",
    "    \n",
    "    # create matter power objects and add to lists\n",
    "    myPksUpper = cp.MatterPower(nz=nz,AccuracyBoost=AccuracyBoost,nonlinear=nonlinear,\n",
    "                                     **myParamsUpper)\n",
    "    myPksLower = cp.MatterPower(nz=nz,AccuracyBoost=AccuracyBoost,nonlinear=nonlinear,\n",
    "                                     **myParamsLower)\n",
    "    # create Window objects\n",
    "    myWinsUpper = cp.Window(myPksUpper,zmin=zmin,zmax=zmax,\n",
    "                         nBins=nBins,biasK=cp.ones,biasG=cp.byeBias,\n",
    "                         dndzMode=dndzMode,z0=z0,doNorm=doNorm,useWk=useWk,\n",
    "                         BPZ=BPZ,binSmooth=binSmooth,biasByBin=biasByBin)\n",
    "    myWinsLower = cp.Window(myPksLower,zmin=zmin,zmax=zmax,\n",
    "                         nBins=nBins,biasK=cp.ones,biasG=cp.byeBias,\n",
    "                         dndzMode=dndzMode,z0=z0,doNorm=doNorm,useWk=useWk,\n",
    "                         BPZ=BPZ,binSmooth=binSmooth,biasByBin=biasByBin)\n",
    "    \n",
    "    for map1 in range(nMaps):\n",
    "      if map1==0:\n",
    "        cor1 = cp.Window.kappa\n",
    "      else:\n",
    "        cor1 = cp.Window.galaxies\n",
    "      for map2 in range(map1,nMaps):\n",
    "        print '  starting angular cross power spectrum ',map1,', ',map2,'... '\n",
    "        if map2==0:\n",
    "          cor2 = cp.Window.kappa\n",
    "        else:\n",
    "          cor2 = cp.Window.galaxies\n",
    "        # since nonoverlapping bins have zero correlation use this condition:\n",
    "        if map1==0 or map1==map2 or not tophatBins:\n",
    "        \n",
    "          ells,Cls = cp.getCl(myPksUpper,myWinsUpper,\n",
    "                              binNum1=map1,binNum2=map2,\n",
    "                              cor1=cor1,cor2=cor2,lmin=lmin,lmax=lmax)\n",
    "          crossClsPlus[map1,map2,cParamNum] = Cls\n",
    "          crossClsPlus[map2,map1,cParamNum] = Cls #symmetric\n",
    "          \n",
    "          ells,Cls = cp.getCl(myPksLower,myWinsLower,\n",
    "                              binNum1=map1,binNum2=map2,\n",
    "                              cor1=cor1,cor2=cor2,lmin=lmin,lmax=lmax)\n",
    "          crossClsMinus[map1,map2,cParamNum] = Cls\n",
    "          crossClsMinus[map2,map1,cParamNum] = Cls #symmetric\n",
    "    \n",
    "    \"\"\"\n",
    "    print 'getting Primary CMB Cl power spectra for parameter ', \\\n",
    "          paramList[cParamNum]\n",
    "    parsUpper = myPksUpper.pars\n",
    "    parsLower = myPksLower.pars\n",
    "    parsUpper.set_for_lmax(lmaxP, lens_potential_accuracy=lpa)\n",
    "    parsLower.set_for_lmax(lmaxP, lens_potential_accuracy=lpa)\n",
    "    parsUpper.set_accuracy(AccuracyBoost=AccuracyBoost)\n",
    "    parsLower.set_accuracy(AccuracyBoost=AccuracyBoost)\n",
    "\n",
    "\n",
    "    #calculate results for these parameters\n",
    "    resultsUpper = camb.get_results(parsUpper)\n",
    "    resultsLower = camb.get_results(parsLower)\n",
    "\n",
    "    #get dictionary of CAMB power spectra\n",
    "    powersUpper =resultsUpper.get_cmb_power_spectra(parsUpper)\n",
    "    powersLower =resultsLower.get_cmb_power_spectra(parsLower)\n",
    "\n",
    "    #get the selected power spectra\n",
    "    myClUpper=powersUpper[myClName]\n",
    "    myClLower=powersLower[myClName]\n",
    "\n",
    "    #store them\n",
    "    crossClsPPlus[0,0,cParamNum]  = myClUpper[lminP:lmaxP+1,0] # TT\n",
    "    crossClsPPlus[0,1,cParamNum]  = myClUpper[lminP:lmaxP+1,3] # TE\n",
    "    crossClsPPlus[1,0,cParamNum]  = myClUpper[lminP:lmaxP+1,3] # ET\n",
    "    crossClsPPlus[1,1,cParamNum]  = myClUpper[lminP:lmaxP+1,1] # EE\n",
    "\n",
    "    crossClsPMinus[0,0,cParamNum] = myClLower[lminP:lmaxP+1,0] # TT\n",
    "    crossClsPMinus[0,1,cParamNum] = myClLower[lminP:lmaxP+1,3] # TE\n",
    "    crossClsPMinus[1,0,cParamNum] = myClLower[lminP:lmaxP+1,3] # ET\n",
    "    crossClsPMinus[1,1,cParamNum] = myClLower[lminP:lmaxP+1,1] # EE\n",
    "\n",
    "    \"\"\"\n",
    "    \n",
    "    # ditch the MatterPower and Window objects\n",
    "    del myPksUpper\n",
    "    del myPksLower\n",
    "    del myWinsUpper\n",
    "    del myWinsLower\n",
    "\n",
    "print 'done'\n"
   ]
  },
  {
   "cell_type": "code",
   "execution_count": null,
   "metadata": {},
   "outputs": [],
   "source": []
  },
  {
   "cell_type": "code",
   "execution_count": 18,
   "metadata": {
    "scrolled": true
   },
   "outputs": [
    {
     "name": "stdout",
     "output_type": "stream",
     "text": [
      "starting creation of C_l derivatives... \n",
      "starting derivative set  1  of  5 ... \n",
      "starting derivative set  2  of  5 ... \n",
      "starting derivative set  3  of  5 ... \n",
      "starting derivative set  4  of  5 ... \n",
      "starting derivative set  5  of  5 ... \n",
      "done\n"
     ]
    }
   ],
   "source": [
    "# assemble derivative vectors\n",
    "nCls = nMaps*(nMaps+1)/2\n",
    "#nClsP = nMapsP*(nMapsP+1)/2\n",
    "\n",
    "# keep the same shape as in FisherCl but only do one parameter\n",
    "dClVecs = np.empty((nCls,1,lmax-lmin+1))\n",
    "#dClVecsP = np.empty((nClsP,1,lmaxP-lminP+1))\n",
    "\n",
    "# get derivatives wrt parameters\n",
    "print 'starting creation of C_l derivatives... '\n",
    "for map1 in range(nMaps):\n",
    "  print 'starting derivative set ',map1+1,' of ',nMaps,'... '\n",
    "  for map2 in range(map1,nMaps):\n",
    "    mapIdx  = map1*nMaps+map2 -map1*(map1+1)/2  \n",
    "                               \n",
    "    # do numerical derivs wrt nuLCDM params\n",
    "    #for pIdx in range(nCosParams):\n",
    "    for pIdx in [myParamNum]:\n",
    "        dClPlus  = crossClsPlus[map1,map2,pIdx]\n",
    "        dClMinus = crossClsMinus[map1,map2,pIdx]\n",
    "        dClVecs[mapIdx, 0] = (dClPlus-dClMinus)/(2*deltaP[pIdx])\n",
    "\"\"\"\n",
    "for map1 in range(nMapsP):\n",
    "  print 'starting derivative set ',map1+1,' of ',nMapsP,'... '\n",
    "  for map2 in range(map1,nMapsP):\n",
    "    mapIdx  = map1*nMapsP+map2 -map1*(map1+1)/2  \n",
    "    for pIdx in [myParamNum]:\n",
    "        # do the primary CMB component\n",
    "        dClPlus  = crossClsPPlus[map1,map2,pIdx]\n",
    "        dClMinus = crossClsPMinus[map1,map2,pIdx]\n",
    "        dClVecsP[mapIdx, 0] = (dClPlus-dClMinus)/(2*deltaP[pIdx])\n",
    "\"\"\"        \n",
    "print 'done'"
   ]
  },
  {
   "cell_type": "code",
   "execution_count": null,
   "metadata": {},
   "outputs": [],
   "source": []
  },
  {
   "cell_type": "code",
   "execution_count": null,
   "metadata": {},
   "outputs": [],
   "source": []
  },
  {
   "cell_type": "code",
   "execution_count": 22,
   "metadata": {},
   "outputs": [
    {
     "name": "stdout",
     "output_type": "stream",
     "text": [
      "[[ 3.40491077e+09 -2.82587922e+09 -1.96724902e+09 -1.00405973e+17\n",
      "  -1.98164971e+08  1.45951098e+05  9.23950657e+07  0.00000000e+00\n",
      "  -3.53111140e+07 -3.05359140e+07 -2.23045971e+07 -1.72664380e+07]\n",
      " [-2.82587922e+09  2.35895566e+09 -1.85120521e+09  8.16894793e+16\n",
      "   1.60714677e+08 -1.19669142e+05 -7.37254658e+07  0.00000000e+00\n",
      "   2.46341198e+07  2.40249974e+07  1.80980429e+07  1.39712381e+07]\n",
      " [-1.96724902e+09 -1.85120521e+09  1.10555617e+12  6.39804139e+17\n",
      "   1.27236691e+09 -6.01391861e+05 -1.03210631e+09  0.00000000e+00\n",
      "   1.44945373e+09  5.39210911e+08  1.53587825e+08  7.03663482e+07]\n",
      " [-1.00405973e+17  8.16894793e+16  6.39804139e+17  3.29334369e+24\n",
      "   6.38231067e+15 -4.63451985e+12 -3.26092263e+15  0.00000000e+00\n",
      "   1.82702191e+15  1.17791111e+15  7.27077399e+14  5.31815780e+14]\n",
      " [-1.98164971e+08  1.60714677e+08  1.27236691e+09  6.38231067e+15\n",
      "   1.36757996e+07 -7.82709625e+03 -6.40970841e+06  0.00000000e+00\n",
      "   4.22292386e+06  2.00718387e+06  1.22764053e+06  9.73509989e+05]\n",
      " [ 1.45951098e+05 -1.19669142e+05 -6.01391861e+05 -4.63451985e+12\n",
      "  -7.82709625e+03  9.10958128e+00  4.33600973e+03  0.00000000e+00\n",
      "  -7.85359609e+02 -1.59944579e+03 -1.66877218e+03 -1.31851662e+03]\n",
      " [ 9.23950657e+07 -7.37254658e+07 -1.03210631e+09 -3.26092263e+15\n",
      "  -6.40970841e+06  4.33600973e+03  3.41510983e+06  0.00000000e+00\n",
      "  -2.39889137e+06 -1.28402529e+06 -7.11389369e+05 -4.85139543e+05]\n",
      " [ 0.00000000e+00  0.00000000e+00  0.00000000e+00  0.00000000e+00\n",
      "   0.00000000e+00  0.00000000e+00  0.00000000e+00  0.00000000e+00\n",
      "   0.00000000e+00  0.00000000e+00  0.00000000e+00  0.00000000e+00]\n",
      " [-3.53111140e+07  2.46341198e+07  1.44945373e+09  1.82702191e+15\n",
      "   4.22292386e+06 -7.85359609e+02 -2.39889137e+06  0.00000000e+00\n",
      "   4.30534602e+06 -8.48342267e-12  9.08637642e-12  4.12443772e-13]\n",
      " [-3.05359140e+07  2.40249974e+07  5.39210911e+08  1.17791111e+15\n",
      "   2.00718387e+06 -1.59944579e+03 -1.28402529e+06  0.00000000e+00\n",
      "  -6.58982423e-12  2.06038437e+06  8.61253710e-13  3.07872222e-13]\n",
      " [-2.23045971e+07  1.80980429e+07  1.53587825e+08  7.27077399e+14\n",
      "   1.22764053e+06 -1.66877218e+03 -7.11389369e+05  0.00000000e+00\n",
      "   2.47539241e-11  1.03725847e-11  1.02288826e+06  1.14693258e-12]\n",
      " [-1.72664380e+07  1.39712381e+07  7.03663482e+07  5.31815780e+14\n",
      "   9.73509989e+05 -1.31851662e+03 -4.85139543e+05  0.00000000e+00\n",
      "   1.55468830e-11  1.13343314e-11  3.54002249e-12  6.02000295e+05]]\n"
     ]
    }
   ],
   "source": [
    "print Fobj.Fij"
   ]
  },
  {
   "cell_type": "code",
   "execution_count": 23,
   "metadata": {},
   "outputs": [
    {
     "name": "stdout",
     "output_type": "stream",
     "text": [
      "['ombh2', 'omch2', 'cosmomc_theta', 'As', 'ns', 'tau', 'mnu', 'w', 'bin1', 'bin2', 'bin3', 'bin4']\n"
     ]
    }
   ],
   "source": [
    "print Fobj.paramList"
   ]
  },
  {
   "cell_type": "code",
   "execution_count": null,
   "metadata": {},
   "outputs": [],
   "source": []
  },
  {
   "cell_type": "markdown",
   "metadata": {},
   "source": [
    "# Insert dClVecs, dClVecsP into FisherMatrix object"
   ]
  },
  {
   "cell_type": "code",
   "execution_count": 21,
   "metadata": {},
   "outputs": [
    {
     "ename": "LinAlgError",
     "evalue": "Singular matrix",
     "output_type": "error",
     "traceback": [
      "\u001b[0;31m---------------------------------------------------------------------------\u001b[0m",
      "\u001b[0;31mLinAlgError\u001b[0m                               Traceback (most recent call last)",
      "\u001b[0;32m<ipython-input-21-1cc2e98b607e>\u001b[0m in \u001b[0;36m<module>\u001b[0;34m()\u001b[0m\n\u001b[1;32m     17\u001b[0m \u001b[0;34m\u001b[0m\u001b[0m\n\u001b[1;32m     18\u001b[0m \u001b[0;31m# get sigmas to compare against\u001b[0m\u001b[0;34m\u001b[0m\u001b[0;34m\u001b[0m\u001b[0m\n\u001b[0;32m---> 19\u001b[0;31m \u001b[0msigmas2\u001b[0m \u001b[0;34m=\u001b[0m \u001b[0mgetSigmas\u001b[0m\u001b[0;34m(\u001b[0m\u001b[0mFobj\u001b[0m\u001b[0;34m.\u001b[0m\u001b[0mFij\u001b[0m\u001b[0;34m)\u001b[0m\u001b[0;34m\u001b[0m\u001b[0m\n\u001b[0m\u001b[1;32m     20\u001b[0m \u001b[0;31m#sigmasTE2 = getSigmas(Fobj.FijTE)\u001b[0m\u001b[0;34m\u001b[0m\u001b[0;34m\u001b[0m\u001b[0m\n\u001b[1;32m     21\u001b[0m \u001b[0;32mprint\u001b[0m \u001b[0msigmas2\u001b[0m\u001b[0;34m\u001b[0m\u001b[0m\n",
      "\u001b[0;32m<ipython-input-12-7ad5cd7e1f39>\u001b[0m in \u001b[0;36m<lambda>\u001b[0;34m(Fij)\u001b[0m\n\u001b[1;32m      1\u001b[0m \u001b[0;31m# get sigmas to compare against\u001b[0m\u001b[0;34m\u001b[0m\u001b[0;34m\u001b[0m\u001b[0m\n\u001b[0;32m----> 2\u001b[0;31m \u001b[0mgetSigmas\u001b[0m \u001b[0;34m=\u001b[0m \u001b[0;32mlambda\u001b[0m \u001b[0mFij\u001b[0m\u001b[0;34m:\u001b[0m \u001b[0mnp\u001b[0m\u001b[0;34m.\u001b[0m\u001b[0msqrt\u001b[0m\u001b[0;34m(\u001b[0m\u001b[0mnp\u001b[0m\u001b[0;34m.\u001b[0m\u001b[0mdiag\u001b[0m\u001b[0;34m(\u001b[0m\u001b[0mnp\u001b[0m\u001b[0;34m.\u001b[0m\u001b[0mlinalg\u001b[0m\u001b[0;34m.\u001b[0m\u001b[0minv\u001b[0m\u001b[0;34m(\u001b[0m\u001b[0mFij\u001b[0m\u001b[0;34m)\u001b[0m\u001b[0;34m)\u001b[0m\u001b[0;34m)\u001b[0m\u001b[0;34m\u001b[0m\u001b[0m\n\u001b[0m\u001b[1;32m      3\u001b[0m \u001b[0msigmas\u001b[0m \u001b[0;34m=\u001b[0m \u001b[0mgetSigmas\u001b[0m\u001b[0;34m(\u001b[0m\u001b[0mFobj\u001b[0m\u001b[0;34m.\u001b[0m\u001b[0mFij\u001b[0m\u001b[0;34m)\u001b[0m\u001b[0;34m\u001b[0m\u001b[0m\n\u001b[1;32m      4\u001b[0m \u001b[0;31m#sigmasTE = getSigmas(Fobj.FijTE)\u001b[0m\u001b[0;34m\u001b[0m\u001b[0;34m\u001b[0m\u001b[0m\n\u001b[1;32m      5\u001b[0m \u001b[0;32mprint\u001b[0m \u001b[0msigmas\u001b[0m\u001b[0;34m\u001b[0m\u001b[0m\n",
      "\u001b[0;32m/opt/local/Library/Frameworks/Python.framework/Versions/2.7/lib/python2.7/site-packages/numpy/linalg/linalg.pyc\u001b[0m in \u001b[0;36minv\u001b[0;34m(a)\u001b[0m\n\u001b[1;32m    526\u001b[0m     \u001b[0msignature\u001b[0m \u001b[0;34m=\u001b[0m \u001b[0;34m'D->D'\u001b[0m \u001b[0;32mif\u001b[0m \u001b[0misComplexType\u001b[0m\u001b[0;34m(\u001b[0m\u001b[0mt\u001b[0m\u001b[0;34m)\u001b[0m \u001b[0;32melse\u001b[0m \u001b[0;34m'd->d'\u001b[0m\u001b[0;34m\u001b[0m\u001b[0m\n\u001b[1;32m    527\u001b[0m     \u001b[0mextobj\u001b[0m \u001b[0;34m=\u001b[0m \u001b[0mget_linalg_error_extobj\u001b[0m\u001b[0;34m(\u001b[0m\u001b[0m_raise_linalgerror_singular\u001b[0m\u001b[0;34m)\u001b[0m\u001b[0;34m\u001b[0m\u001b[0m\n\u001b[0;32m--> 528\u001b[0;31m     \u001b[0mainv\u001b[0m \u001b[0;34m=\u001b[0m \u001b[0m_umath_linalg\u001b[0m\u001b[0;34m.\u001b[0m\u001b[0minv\u001b[0m\u001b[0;34m(\u001b[0m\u001b[0ma\u001b[0m\u001b[0;34m,\u001b[0m \u001b[0msignature\u001b[0m\u001b[0;34m=\u001b[0m\u001b[0msignature\u001b[0m\u001b[0;34m,\u001b[0m \u001b[0mextobj\u001b[0m\u001b[0;34m=\u001b[0m\u001b[0mextobj\u001b[0m\u001b[0;34m)\u001b[0m\u001b[0;34m\u001b[0m\u001b[0m\n\u001b[0m\u001b[1;32m    529\u001b[0m     \u001b[0;32mreturn\u001b[0m \u001b[0mwrap\u001b[0m\u001b[0;34m(\u001b[0m\u001b[0mainv\u001b[0m\u001b[0;34m.\u001b[0m\u001b[0mastype\u001b[0m\u001b[0;34m(\u001b[0m\u001b[0mresult_t\u001b[0m\u001b[0;34m,\u001b[0m \u001b[0mcopy\u001b[0m\u001b[0;34m=\u001b[0m\u001b[0mFalse\u001b[0m\u001b[0;34m)\u001b[0m\u001b[0;34m)\u001b[0m\u001b[0;34m\u001b[0m\u001b[0m\n\u001b[1;32m    530\u001b[0m \u001b[0;34m\u001b[0m\u001b[0m\n",
      "\u001b[0;32m/opt/local/Library/Frameworks/Python.framework/Versions/2.7/lib/python2.7/site-packages/numpy/linalg/linalg.pyc\u001b[0m in \u001b[0;36m_raise_linalgerror_singular\u001b[0;34m(err, flag)\u001b[0m\n\u001b[1;32m     87\u001b[0m \u001b[0;34m\u001b[0m\u001b[0m\n\u001b[1;32m     88\u001b[0m \u001b[0;32mdef\u001b[0m \u001b[0m_raise_linalgerror_singular\u001b[0m\u001b[0;34m(\u001b[0m\u001b[0merr\u001b[0m\u001b[0;34m,\u001b[0m \u001b[0mflag\u001b[0m\u001b[0;34m)\u001b[0m\u001b[0;34m:\u001b[0m\u001b[0;34m\u001b[0m\u001b[0m\n\u001b[0;32m---> 89\u001b[0;31m     \u001b[0;32mraise\u001b[0m \u001b[0mLinAlgError\u001b[0m\u001b[0;34m(\u001b[0m\u001b[0;34m\"Singular matrix\"\u001b[0m\u001b[0;34m)\u001b[0m\u001b[0;34m\u001b[0m\u001b[0m\n\u001b[0m\u001b[1;32m     90\u001b[0m \u001b[0;34m\u001b[0m\u001b[0m\n\u001b[1;32m     91\u001b[0m \u001b[0;32mdef\u001b[0m \u001b[0m_raise_linalgerror_nonposdef\u001b[0m\u001b[0;34m(\u001b[0m\u001b[0merr\u001b[0m\u001b[0;34m,\u001b[0m \u001b[0mflag\u001b[0m\u001b[0;34m)\u001b[0m\u001b[0;34m:\u001b[0m\u001b[0;34m\u001b[0m\u001b[0m\n",
      "\u001b[0;31mLinAlgError\u001b[0m: Singular matrix"
     ]
    }
   ],
   "source": [
    "# insert\n",
    "if newWa:\n",
    "    # expand arrays to put dCl/dwa in after dCl/dw\n",
    "    Fobj.dClVecs  = np.insert(Fobj.dClVecs, myParamNum-1,dClVecs[:,0,:], axis=1)\n",
    "    Fobj.dClVecsP = np.insert(Fobj.dClVecsP,myParamNum-1,dClVecsP[:,0,:],axis=1)\n",
    "    Fobj.paramList = np.insert(Fobj.paramList,myParamNum-1,'wa').tolist()\n",
    "    Fobj.nCosParams = Fobj.nCosParams+1\n",
    "    Fobj.nParams = Fobj.nParams+1\n",
    "else:\n",
    "    # replace old dCl/dw with new one\n",
    "    Fobj.dClVecs[:,myParamNum] = dClVecs[:,0,:]\n",
    "    #Fobj.dClVecsP[:,myParamNum] = dClVecsP[:,0,:]\n",
    "    \n",
    "# replace Fisher Matrices with new versions using new derivatives\n",
    "Fobj.Fij = Fobj.makeFisher(lmin)\n",
    "#Fobj.FijTE = Fobj.makeFisher(lminP,TE=True)\n",
    "\n",
    "# zero out wa section\n",
    "# define row,col deleting function\n",
    "#def fixParam(Fij,pNum):\n",
    "#    return np.delete(np.delete(Fij,pNum,0),pNum,1)\n",
    "#if not newWa:\n",
    "#    Fobj.Fij = fixParam(Fobj.Fij,?)\n",
    "\n",
    "# get sigmas to compare against\n",
    "sigmas2 = getSigmas(Fobj.Fij)\n",
    "#sigmasTE2 = getSigmas(Fobj.FijTE)\n",
    "print sigmas2\n",
    "#print sigmasTE2"
   ]
  },
  {
   "cell_type": "code",
   "execution_count": null,
   "metadata": {},
   "outputs": [],
   "source": []
  },
  {
   "cell_type": "markdown",
   "metadata": {},
   "source": [
    "# Save new Fobj"
   ]
  },
  {
   "cell_type": "code",
   "execution_count": null,
   "metadata": {},
   "outputs": [],
   "source": [
    "# save new Fobj\n",
    "import pickle\n",
    "\n",
    "#filehandler = open('Fisher_7_6X4_w2_wa.obj','w') # AccuracyBoost=3, lmax=3000, lmaxP=5000, nz=3e5; nonlinear=False,\n",
    "#filehandler = open('Fisher_7_6X4_w2.obj','w') # AccuracyBoost=3, lmax=3000, lmaxP=5000, nz=3e5; nonlinear=False,\n",
    "#neutrino_hierarchy = 'normal', usePrimaryCMB = True; from FisherCl branch quickCl\n",
    "# kludge for this one: told cp.getDNDZinterp to use modelDNDZ3; set cp.tophat beesBins=True\n",
    "# biasByBin = False (uses sigma(b)/b), dw = 0.05\n",
    "\n",
    "#filehandler = open('Fisher_7_6X2_w2_wa.obj','w') # AccuracyBoost=3, lmax=3000, lmaxP=5000, nz=3e5; nonlinear=True,\n",
    "#filehandler = open('Fisher_7_6X2_w2.obj','w') # AccuracyBoost=3, lmax=3000, lmaxP=5000, nz=3e5; nonlinear=True,\n",
    "#neutrino_hierarchy = 'normal', usePrimaryCMB = True; from FisherCl branch quickCl\n",
    "# kludge for this one: told cp.getDNDZinterp to use modelDNDZ3; set cp.tophat beesBins=True\n",
    "# biasByBin = False (uses sigma(b)/b), dw = 0.05\n",
    "\n",
    "#filehandler = open('Fisher_7_6X_w2.obj','w') # AccuracyBoost=3, lmax=2000, nz=3e5; nonlinear=False,\n",
    "#neutrino_hierarchy = 'normal', usePrimaryCMB = False; from FisherCl branch quickCl\n",
    "# kludge for this one: told cp.getDNDZinterp to use modelDNDZ3; set cp.tophat beesBins=True\n",
    "# w2 indicates that this is the second dw value used for this Fobj\n",
    "\n",
    "filehandler = open('Fisher_4_4W_w2.obj','w') # accuracyBoost=3,doNorm=True,lmax=2000, nz=3e5; nonlinear=True,\n",
    "#neutrino_hierarchy = 'degenerate'; from FisherCl branch quickCl\n",
    "\n",
    "\n",
    "pickle.dump(Fobj,filehandler)\n",
    "filehandler.close()\n",
    "\n",
    "print 'done'"
   ]
  },
  {
   "cell_type": "code",
   "execution_count": null,
   "metadata": {},
   "outputs": [],
   "source": []
  },
  {
   "cell_type": "code",
   "execution_count": null,
   "metadata": {},
   "outputs": [],
   "source": []
  },
  {
   "cell_type": "code",
   "execution_count": null,
   "metadata": {},
   "outputs": [],
   "source": []
  },
  {
   "cell_type": "code",
   "execution_count": null,
   "metadata": {},
   "outputs": [],
   "source": []
  },
  {
   "cell_type": "code",
   "execution_count": null,
   "metadata": {},
   "outputs": [],
   "source": []
  },
  {
   "cell_type": "code",
   "execution_count": null,
   "metadata": {},
   "outputs": [],
   "source": []
  },
  {
   "cell_type": "code",
   "execution_count": null,
   "metadata": {},
   "outputs": [],
   "source": []
  }
 ],
 "metadata": {
  "kernelspec": {
   "display_name": "Python 2",
   "language": "python",
   "name": "python2"
  }
 },
 "nbformat": 4,
 "nbformat_minor": 2
}
