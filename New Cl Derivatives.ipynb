{
 "cells": [
  {
   "cell_type": "markdown",
   "metadata": {},
   "source": [
    "# Create new derivatives and attach them to a FisherMatrix object"
   ]
  },
  {
   "cell_type": "code",
   "execution_count": 15,
   "metadata": {},
   "outputs": [],
   "source": [
    "import crosspower as cp\n",
    "import FisherCl as fcl # branch quickCl\n",
    "#import camb\n",
    "\n",
    "# set plotting to be in the notebook instead of its own qt window\n",
    "%matplotlib inline"
   ]
  },
  {
   "cell_type": "markdown",
   "metadata": {},
   "source": [
    "# Load Fobj to insert derivatives into"
   ]
  },
  {
   "cell_type": "code",
   "execution_count": 16,
   "metadata": {},
   "outputs": [
    {
     "name": "stdout",
     "output_type": "stream",
     "text": [
      "[ 0.  1.  2.  3.  4.  5.  6.  8.  9. 10. 11. 12. 13. 16. 17. 18. 19. 20.\n",
      " 24. 25. 26. 27. 32. 33. 34. 40. 41. 48.]\n",
      "['k,k', 'k,g1', 'k,g2', 'k,g3', 'k,g4', 'k,g5', 'k,g6', 'g1,g1', 'g1,g2', 'g1,g3', 'g1,g4', 'g1,g5', 'g1,g6', 'g2,g2', 'g2,g3', 'g2,g4', 'g2,g5', 'g2,g6', 'g3,g3', 'g3,g4', 'g3,g5', 'g3,g6', 'g4,g4', 'g4,g5', 'g4,g6', 'g5,g5', 'g5,g6', 'g6,g6']\n",
      "['ombh2', 'omch2', 'cosmomc_theta', 'As', 'ns', 'tau', 'mnu', 'w', 'bin1', 'bin2', 'bin3', 'bin4', 'bin5', 'bin6']\n",
      "(14, 14)\n",
      "nParams:  14\n",
      "crossCls.shape:  (7, 7, 2999)\n",
      "dClVecs.shape:  (28, 14, 2999)\n"
     ]
    }
   ],
   "source": [
    "# load Fobj to insert these into\n",
    "import FisherCl as fcl\n",
    "import crosspower as cp\n",
    "import pickle\n",
    "\n",
    "#filehandler = open('Fisher_7_6X4_w2.obj','r') # AccuracyBoost=3, lmax=3000, lmaxP=5000, nz=3e5; nonlinear=False,\n",
    "#filehandler = open('Fisher_7_6X4.obj','r') # AccuracyBoost=3, lmax=3000, lmaxP=5000, nz=3e5; nonlinear=False,\n",
    "#neutrino_hierarchy = 'normal', usePrimaryCMB = True; from FisherCl branch quickCl\n",
    "# kludge for this one: told cp.getDNDZinterp to use modelDNDZ3; set cp.tophat beesBins=True\n",
    "# biasByBin = False (uses sigma(b)/b), dw = 0.005\n",
    "\n",
    "#filehandler = open('Fisher_7_6X2_w2.obj','r') # AccuracyBoost=3, lmax=3000, lmaxP=5000, nz=3e5; nonlinear=True,\n",
    "filehandler = open('Fisher_7_6X2.obj','r') # AccuracyBoost=3, lmax=3000, lmaxP=5000, nz=3e5; nonlinear=True,\n",
    "#neutrino_hierarchy = 'normal', usePrimaryCMB = True; from FisherCl branch quickCl\n",
    "# kludge for this one: told cp.getDNDZinterp to use modelDNDZ3; set cp.tophat beesBins=True\n",
    "# biasByBin = False (uses sigma(b)/b), dw = 0.005\n",
    "\n",
    "#filehandler = open('Fisher_7_6X.obj','r') # AccuracyBoost=3, lmax=2000, nz=3e5; nonlinear=False,\n",
    "#neutrino_hierarchy = 'normal', usePrimaryCMB = False; from FisherCl branch quickCl\n",
    "# kludge for this one: told cp.getDNDZinterp to use modelDNDZ3; set cp.tophat beesBins=True\n",
    "\n",
    "#filehandler = open('Fisher_4_4W.obj','r') # accuracyBoost=3,doNorm=True,lmax=2000, nz=3e5; nonlinear=True,\n",
    "#neutrino_hierarchy = 'degenerate'; from FisherCl branch quickCl\n",
    "\n",
    "Fobj = pickle.load(filehandler) \n",
    "\n",
    "\n",
    "lmin = Fobj.lmin\n",
    "lmax = Fobj.lmax\n",
    "ells = Fobj.ells\n",
    "#lminP = Fobj.lminP\n",
    "#lmaxP = Fobj.lmaxP\n",
    "#ellsP = Fobj.ellsP\n",
    "\n",
    "nMaps = Fobj.nBins + 1\n",
    "nCosParams = Fobj.nParams - Fobj.nBins\n",
    "obsNames = Fobj.obsNames\n",
    "paramList = Fobj.paramList\n",
    "nz = Fobj.nz\n",
    "AccuracyBoost = Fobj.AccuracyBoost\n",
    "nonlinear = Fobj.nonlinear\n",
    "myParams = Fobj.cosParams\n",
    "\n",
    "print Fobj.obsList\n",
    "print Fobj.obsNames\n",
    "print Fobj.paramList\n",
    "\n",
    "print Fobj.Fij.shape\n",
    "#print Fobj.FijTE.shape\n",
    "print 'nParams: ',Fobj.nParams\n",
    "#print 'nCosParams: ',Fobj.nCosParams\n",
    "\n",
    "crossCls = Fobj.crossCls\n",
    "print 'crossCls.shape: ',crossCls.shape\n",
    "dClVecs = Fobj.dClVecs\n",
    "print 'dClVecs.shape: ',dClVecs.shape\n",
    "\n",
    "#crossClsP = Fobj.crossClsP\n",
    "#print 'crossClsP.shape: ',crossClsP.shape\n",
    "#dClVecsP = Fobj.dClVecsP\n",
    "#print 'dClVecsP.shape: ',dClVecsP.shape"
   ]
  },
  {
   "cell_type": "code",
   "execution_count": 17,
   "metadata": {},
   "outputs": [
    {
     "name": "stderr",
     "output_type": "stream",
     "text": [
      "WARNING:root:accuracy parameters are changed globally, not yet per parameter set\n"
     ]
    },
    {
     "name": "stdout",
     "output_type": "stream",
     "text": [
      "neutrino_hierarchy =  normal\n",
      "zs.size:  299998\n",
      "done.\n"
     ]
    }
   ],
   "source": [
    "# get a matterPower object\n",
    "#reload(cp)\n",
    "myPk = cp.MatterPower(nz=nz,AccuracyBoost=AccuracyBoost,nonlinear=nonlinear,**myParams)\n",
    "print 'done.'"
   ]
  },
  {
   "cell_type": "code",
   "execution_count": 18,
   "metadata": {},
   "outputs": [
    {
     "name": "stdout",
     "output_type": "stream",
     "text": [
      "[5.67497081e-04 1.32492374e-03 1.06843599e-05 1.88657178e-11\n",
      " 2.32622314e-03 1.20438100e+00 1.10482665e-02 6.33034527e-03\n",
      " 2.19743040e-03 2.12951856e-03 3.17109506e-03 2.97674479e-03\n",
      " 3.56333398e-03 1.32330505e-02]\n"
     ]
    }
   ],
   "source": [
    "# get sigmas to compare against\n",
    "getSigmas = lambda Fij: np.sqrt(np.diag(np.linalg.inv(Fij)))\n",
    "sigmas = getSigmas(Fobj.Fij)\n",
    "#sigmasTE = getSigmas(Fobj.FijTE)\n",
    "print sigmas\n",
    "#print sigmasTE"
   ]
  },
  {
   "cell_type": "code",
   "execution_count": 19,
   "metadata": {},
   "outputs": [
    {
     "name": "stdout",
     "output_type": "stream",
     "text": [
      "{'cosmomc_theta': 0.0104087, 'ns': 0.9653, 'kPivot': 0.05, 'omk': 0, 'H0': None, 'mnu': 0.06, 'ombh2': 0.02226, 'tau': 0.063, 'neutrino_hierarchy': 'normal', 'standard_neutrino_neff': 3.046, 'As': 2.13e-09, 'omch2': 0.1193, 'w': -1.0, 'num_massive_neutrinos': 1, 'r': 0, 'nnu': 3.046}\n"
     ]
    }
   ],
   "source": [
    "print Fobj.cosParams"
   ]
  },
  {
   "cell_type": "code",
   "execution_count": null,
   "metadata": {},
   "outputs": [],
   "source": []
  },
  {
   "cell_type": "markdown",
   "metadata": {},
   "source": [
    "# Make new dCl/dws using $\\Delta w = 0.05$"
   ]
  },
  {
   "cell_type": "code",
   "execution_count": 20,
   "metadata": {},
   "outputs": [
    {
     "name": "stdout",
     "output_type": "stream",
     "text": [
      "nonlinear =  True\n"
     ]
    }
   ],
   "source": [
    "# set cosmological parameters\n",
    "\"\"\"\n",
    "cosParams = {\n",
    "        'H0'    : None, #67.51, #setting H0=None allows cosmomc_theta to be used instead\n",
    "        'cosmomc_theta'           : 1.04087e-2,\n",
    "        'ombh2' : 0.02226,\n",
    "        'omch2' : 0.1193,\n",
    "        'omk'   : 0,\n",
    "        'tau'   : 0.063,\n",
    "\n",
    "        'As'    : 2.130e-9,\n",
    "        'ns'    : 0.9653,\n",
    "        'r'     : 0,\n",
    "        'kPivot': 0.05,\n",
    "    \n",
    "        'w'     : -1.0,\n",
    "        'wa'    : 0.0,\n",
    "\n",
    "        # if fiducial mnu is changed, need to adjust omch2 as well\n",
    "        'mnu'   : 0.06, # (eV)\n",
    "        #'mnu'   : 0.058, # Lloyd suggested this value for fiducial; adjust omch2 if I do use it\n",
    "        'nnu'   : 3.046,\n",
    "        'standard_neutrino_neff'  : 3.046,\n",
    "        'num_massive_neutrinos'   : 1,\n",
    "        'neutrino_hierarchy'      : 'normal'}\n",
    "\"\"\"\n",
    "# add wa parameter and value to object\n",
    "Fobj.cosParams['wa'] = 0.0\n",
    "cosParams = Fobj.cosParams\n",
    "\n",
    "AccuracyBoost = 3\n",
    "nonlinear = Fobj.nonlinear\n",
    "print 'nonlinear = ',nonlinear\n"
   ]
  },
  {
   "cell_type": "code",
   "execution_count": 21,
   "metadata": {},
   "outputs": [],
   "source": [
    "# copy some setup from FisherCl.py\n",
    "#  modified to only calculate derivatives of one parameter: w\n",
    "import camb\n",
    "\n",
    "# to use with Fisher_7_6X.obj or similar result:\n",
    "#   in crosspower.py, set tophat to beesBins = True\n",
    "#   in crosspower.py, set getDNDZinterp to use modelDNDZ3\n",
    "\n",
    "myParams = Fobj.cosParams\n",
    "nz = Fobj.nz #300000\n",
    "\n",
    "zmin = Fobj.zmin #0\n",
    "zmax = Fobj.zmax #7\n",
    "nBins = Fobj.nBins #6\n",
    "nMaps = nBins+1\n",
    "nMapsP = 2 #T,E\n",
    "\n",
    "# use Beesbins? Need to turn on in crosspower.tophat\n",
    "dndzMode = 2\n",
    "#z0 = 0.3 # for modelDNDZ; turn on in crosspower.getDNDZinterp\n",
    "z0 = 0.5 # for modelDNDZ3; turn on in crosspower.getDNDZinterp\n",
    "doNorm = True\n",
    "useWk = False\n",
    "BPZ = True\n",
    "binSmooth = False\n",
    "biasByBin = True\n",
    "tophatBins = True\n",
    "\n",
    "lpa = 5.0\n",
    "myClName = 'unlensed_scalar'\n",
    "\n",
    "\n",
    "# parameters list:\n",
    "# step sizes for discrete derivatives: must correspond to paramList entries!\n",
    "#   from Allison et. al. (2015) Table III.\n",
    "nCosParams = 9 # 6 LCDM + Mnu + w0 + wa\n",
    "paramList = ['ombh2','omch2','cosmomc_theta',  'As', 'ns','tau','mnu', 'w', 'wa']\n",
    "deltaP =    [ 0.0008, 0.0030,      0.0050e-2,0.1e-9,0.010,0.020,0.020,0.05,0.025] #mnu one in eV\n",
    "\n",
    "# the same shape as in FisherCl, but I'll use only 1 parameter here\n",
    "#crossClsPlus  = np.zeros((nMaps,nMaps,nCosParams,lmax-lmin+1))\n",
    "#crossClsMinus = np.zeros((nMaps,nMaps,nCosParams,lmax-lmin+1))\n",
    "#crossClsPPlus  = np.zeros((nMapsP,nMapsP,nCosParams,lmaxP-lminP+1))\n",
    "#crossClsPMinus = np.zeros((nMapsP,nMapsP,nCosParams,lmaxP-lminP+1))\n"
   ]
  },
  {
   "cell_type": "code",
   "execution_count": null,
   "metadata": {},
   "outputs": [],
   "source": []
  },
  {
   "cell_type": "code",
   "execution_count": 22,
   "metadata": {
    "scrolled": true
   },
   "outputs": [
    {
     "name": "stdout",
     "output_type": "stream",
     "text": [
      "creating parameter sets for making discrete derivatives...\n",
      "creating parameter set for  w  derivative...\n",
      "starting kappa, galaxy cross power (with entire kappa) . . . \n",
      "calculating MatterPower and Window objects for  (All Fiducial)  derivative . . . \n",
      "neutrino_hierarchy =  normal\n"
     ]
    },
    {
     "name": "stderr",
     "output_type": "stream",
     "text": [
      "WARNING:root:accuracy parameters are changed globally, not yet per parameter set\n"
     ]
    },
    {
     "name": "stdout",
     "output_type": "stream",
     "text": [
      "zs.size:  299998\n",
      "calculating window  0 ... \n",
      "warning: b(z=0)=1 inserted.\n",
      "calculating window  1 ... \n",
      "warning: b(z=0)=1 inserted.\n",
      "calculating window  2 ... \n",
      "warning: b(z=0)=1 inserted.\n",
      "calculating window  3 ... \n",
      "warning: b(z=0)=1 inserted.\n",
      "calculating window  4 ... \n",
      "warning: b(z=0)=1 inserted.\n",
      "calculating window  5 ... \n",
      "warning: b(z=0)=1 inserted.\n",
      "calculating window  6 ... \n",
      "warning: b(z=0)=1 inserted.\n",
      "  starting angular cross power spectrum  0 ,  0 ... \n",
      "window  1 : kappa  0\n",
      "window  2 : kappa  0\n",
      "  starting angular cross power spectrum  0 ,  1 ... \n",
      "window  1 : kappa  0\n",
      "window  2 : galaxies  1\n",
      "  starting angular cross power spectrum  0 ,  2 ... \n",
      "window  1 : kappa  0\n",
      "window  2 : galaxies  2\n",
      "  starting angular cross power spectrum  0 ,  3 ... \n",
      "window  1 : kappa  0\n",
      "window  2 : galaxies  3\n",
      "  starting angular cross power spectrum  0 ,  4 ... \n",
      "window  1 : kappa  0\n",
      "window  2 : galaxies  4\n",
      "  starting angular cross power spectrum  0 ,  5 ... \n",
      "window  1 : kappa  0\n",
      "window  2 : galaxies  5\n",
      "  starting angular cross power spectrum  0 ,  6 ... \n",
      "window  1 : kappa  0\n",
      "window  2 : galaxies  6\n",
      "  starting angular cross power spectrum  1 ,  1 ... \n",
      "window  1 : galaxies  1\n",
      "window  2 : galaxies  1\n",
      "  starting angular cross power spectrum  1 ,  2 ... \n",
      "  starting angular cross power spectrum  1 ,  3 ... \n",
      "  starting angular cross power spectrum  1 ,  4 ... \n",
      "  starting angular cross power spectrum  1 ,  5 ... \n",
      "  starting angular cross power spectrum  1 ,  6 ... \n",
      "  starting angular cross power spectrum  2 ,  2 ... \n",
      "window  1 : galaxies  2\n",
      "window  2 : galaxies  2\n",
      "  starting angular cross power spectrum  2 ,  3 ... \n",
      "  starting angular cross power spectrum  2 ,  4 ... \n",
      "  starting angular cross power spectrum  2 ,  5 ... \n",
      "  starting angular cross power spectrum  2 ,  6 ... \n",
      "  starting angular cross power spectrum  3 ,  3 ... \n",
      "window  1 : galaxies  3\n",
      "window  2 : galaxies  3\n",
      "  starting angular cross power spectrum  3 ,  4 ... \n",
      "  starting angular cross power spectrum  3 ,  5 ... \n",
      "  starting angular cross power spectrum  3 ,  6 ... \n",
      "  starting angular cross power spectrum  4 ,  4 ... \n",
      "window  1 : galaxies  4\n",
      "window  2 : galaxies  4\n",
      "  starting angular cross power spectrum  4 ,  5 ... \n",
      "  starting angular cross power spectrum  4 ,  6 ... \n",
      "  starting angular cross power spectrum  5 ,  5 ... \n",
      "window  1 : galaxies  5\n",
      "window  2 : galaxies  5\n",
      "  starting angular cross power spectrum  5 ,  6 ... \n",
      "  starting angular cross power spectrum  6 ,  6 ... \n",
      "window  1 : galaxies  6\n",
      "window  2 : galaxies  6\n"
     ]
    },
    {
     "name": "stderr",
     "output_type": "stream",
     "text": [
      "WARNING:root:Currently dark energy parameters are changed globally, not per parameter set\n",
      "WARNING:root:accuracy parameters are changed globally, not yet per parameter set\n"
     ]
    },
    {
     "name": "stdout",
     "output_type": "stream",
     "text": [
      "starting upper spectra for numeric derivatives . . . \n",
      "calculating MatterPower and Window objects for  w  derivative . . . \n",
      "neutrino_hierarchy =  normal\n",
      "zs.size:  299998\n",
      "calculating window  0 ... \n",
      "warning: b(z=0)=1 inserted.\n",
      "calculating window  1 ... \n",
      "warning: b(z=0)=1 inserted.\n",
      "calculating window  2 ... \n",
      "warning: b(z=0)=1 inserted.\n",
      "calculating window  3 ... \n",
      "warning: b(z=0)=1 inserted.\n",
      "calculating window  4 ... \n",
      "warning: b(z=0)=1 inserted.\n",
      "calculating window  5 ... \n",
      "warning: b(z=0)=1 inserted.\n",
      "calculating window  6 ... \n",
      "warning: b(z=0)=1 inserted.\n",
      "  starting angular cross power spectrum  0 ,  0 ... \n",
      "window  1 : kappa  0\n",
      "window  2 : kappa  0\n",
      "  starting angular cross power spectrum  0 ,  1 ... \n",
      "window  1 : kappa  0\n",
      "window  2 : galaxies  1\n",
      "  starting angular cross power spectrum  0 ,  2 ... \n",
      "window  1 : kappa  0\n",
      "window  2 : galaxies  2\n",
      "  starting angular cross power spectrum  0 ,  3 ... \n",
      "window  1 : kappa  0\n",
      "window  2 : galaxies  3\n",
      "  starting angular cross power spectrum  0 ,  4 ... \n",
      "window  1 : kappa  0\n",
      "window  2 : galaxies  4\n",
      "  starting angular cross power spectrum  0 ,  5 ... \n",
      "window  1 : kappa  0\n",
      "window  2 : galaxies  5\n",
      "  starting angular cross power spectrum  0 ,  6 ... \n",
      "window  1 : kappa  0\n",
      "window  2 : galaxies  6\n",
      "  starting angular cross power spectrum  1 ,  1 ... \n",
      "window  1 : galaxies  1\n",
      "window  2 : galaxies  1\n",
      "  starting angular cross power spectrum  1 ,  2 ... \n",
      "  starting angular cross power spectrum  1 ,  3 ... \n",
      "  starting angular cross power spectrum  1 ,  4 ... \n",
      "  starting angular cross power spectrum  1 ,  5 ... \n",
      "  starting angular cross power spectrum  1 ,  6 ... \n",
      "  starting angular cross power spectrum  2 ,  2 ... \n",
      "window  1 : galaxies  2\n",
      "window  2 : galaxies  2\n",
      "  starting angular cross power spectrum  2 ,  3 ... \n",
      "  starting angular cross power spectrum  2 ,  4 ... \n",
      "  starting angular cross power spectrum  2 ,  5 ... \n",
      "  starting angular cross power spectrum  2 ,  6 ... \n",
      "  starting angular cross power spectrum  3 ,  3 ... \n",
      "window  1 : galaxies  3\n",
      "window  2 : galaxies  3\n",
      "  starting angular cross power spectrum  3 ,  4 ... \n",
      "  starting angular cross power spectrum  3 ,  5 ... \n",
      "  starting angular cross power spectrum  3 ,  6 ... \n",
      "  starting angular cross power spectrum  4 ,  4 ... \n",
      "window  1 : galaxies  4\n",
      "window  2 : galaxies  4\n",
      "  starting angular cross power spectrum  4 ,  5 ... \n",
      "  starting angular cross power spectrum  4 ,  6 ... \n",
      "  starting angular cross power spectrum  5 ,  5 ... \n",
      "window  1 : galaxies  5\n",
      "window  2 : galaxies  5\n",
      "  starting angular cross power spectrum  5 ,  6 ... \n",
      "  starting angular cross power spectrum  6 ,  6 ... \n",
      "window  1 : galaxies  6\n",
      "window  2 : galaxies  6\n"
     ]
    },
    {
     "name": "stderr",
     "output_type": "stream",
     "text": [
      "WARNING:root:Currently dark energy parameters are changed globally, not per parameter set\n",
      "WARNING:root:accuracy parameters are changed globally, not yet per parameter set\n"
     ]
    },
    {
     "name": "stdout",
     "output_type": "stream",
     "text": [
      "starting lower spectra for numeric derivatives . . . \n",
      "calculating MatterPower and Window objects for  w  derivative . . . \n",
      "neutrino_hierarchy =  normal\n",
      "zs.size:  299998\n",
      "calculating window  0 ... \n",
      "warning: b(z=0)=1 inserted.\n",
      "calculating window  1 ... \n",
      "warning: b(z=0)=1 inserted.\n",
      "calculating window  2 ... \n",
      "warning: b(z=0)=1 inserted.\n",
      "calculating window  3 ... \n",
      "warning: b(z=0)=1 inserted.\n",
      "calculating window  4 ... \n",
      "warning: b(z=0)=1 inserted.\n",
      "calculating window  5 ... \n",
      "warning: b(z=0)=1 inserted.\n",
      "calculating window  6 ... \n",
      "warning: b(z=0)=1 inserted.\n",
      "  starting angular cross power spectrum  0 ,  0 ... \n",
      "window  1 : kappa  0\n",
      "window  2 : kappa  0\n",
      "  starting angular cross power spectrum  0 ,  1 ... \n",
      "window  1 : kappa  0\n",
      "window  2 : galaxies  1\n",
      "  starting angular cross power spectrum  0 ,  2 ... \n",
      "window  1 : kappa  0\n",
      "window  2 : galaxies  2\n",
      "  starting angular cross power spectrum  0 ,  3 ... \n",
      "window  1 : kappa  0\n",
      "window  2 : galaxies  3\n",
      "  starting angular cross power spectrum  0 ,  4 ... \n",
      "window  1 : kappa  0\n",
      "window  2 : galaxies  4\n",
      "  starting angular cross power spectrum  0 ,  5 ... \n",
      "window  1 : kappa  0\n",
      "window  2 : galaxies  5\n",
      "  starting angular cross power spectrum  0 ,  6 ... \n",
      "window  1 : kappa  0\n",
      "window  2 : galaxies  6\n",
      "  starting angular cross power spectrum  1 ,  1 ... \n",
      "window  1 : galaxies  1\n",
      "window  2 : galaxies  1\n",
      "  starting angular cross power spectrum  1 ,  2 ... \n",
      "  starting angular cross power spectrum  1 ,  3 ... \n",
      "  starting angular cross power spectrum  1 ,  4 ... \n",
      "  starting angular cross power spectrum  1 ,  5 ... \n",
      "  starting angular cross power spectrum  1 ,  6 ... \n",
      "  starting angular cross power spectrum  2 ,  2 ... \n",
      "window  1 : galaxies  2\n",
      "window  2 : galaxies  2\n",
      "  starting angular cross power spectrum  2 ,  3 ... \n",
      "  starting angular cross power spectrum  2 ,  4 ... \n",
      "  starting angular cross power spectrum  2 ,  5 ... \n",
      "  starting angular cross power spectrum  2 ,  6 ... \n",
      "  starting angular cross power spectrum  3 ,  3 ... \n",
      "window  1 : galaxies  3\n",
      "window  2 : galaxies  3\n",
      "  starting angular cross power spectrum  3 ,  4 ... \n",
      "  starting angular cross power spectrum  3 ,  5 ... \n",
      "  starting angular cross power spectrum  3 ,  6 ... \n",
      "  starting angular cross power spectrum  4 ,  4 ... \n",
      "window  1 : galaxies  4\n",
      "window  2 : galaxies  4\n",
      "  starting angular cross power spectrum  4 ,  5 ... \n",
      "  starting angular cross power spectrum  4 ,  6 ... \n",
      "  starting angular cross power spectrum  5 ,  5 ... \n",
      "window  1 : galaxies  5\n",
      "window  2 : galaxies  5\n",
      "  starting angular cross power spectrum  5 ,  6 ... \n",
      "  starting angular cross power spectrum  6 ,  6 ... \n",
      "window  1 : galaxies  6\n",
      "window  2 : galaxies  6\n"
     ]
    },
    {
     "name": "stderr",
     "output_type": "stream",
     "text": [
      "WARNING:root:accuracy parameters are changed globally, not yet per parameter set\n"
     ]
    },
    {
     "name": "stdout",
     "output_type": "stream",
     "text": [
      "done\n"
     ]
    }
   ],
   "source": [
    "# get parameter sets for numeric differentiation\n",
    "\n",
    "# select parameter\n",
    "myParamNum = 7 # 7 for w\n",
    "#myParamNum = 8 # 8 for wa\n",
    "#newWa = True # set to True if adding wa to parameter set that didn't already have it\n",
    "newWa = False # set to True if adding wa to parameter set that didn't already have it\n",
    "\n",
    "print 'creating parameter sets for making discrete derivatives...'\n",
    "#for cParamNum in range(nCosParams):\n",
    "for cParamNum in [myParamNum]: # yeah, it's just one element.\n",
    "    \n",
    "    #print 'creating matter power spectra for ',paramList[cParamNum],' derivative...'\n",
    "    print 'creating parameter set for ',paramList[cParamNum],' derivative...'\n",
    "    # add parameter dictionary to lists; HAVE TO BE COPIES!!!\n",
    "    myParamsUpper = myParams.copy()\n",
    "    myParamsLower = myParams.copy()\n",
    "    # modify parameter number cParamNum in dictionaries\n",
    "    myParamsUpper[paramList[cParamNum]] += deltaP[cParamNum]\n",
    "    myParamsLower[paramList[cParamNum]] -= deltaP[cParamNum]\n",
    "    \n",
    "    \n",
    "print 'starting kappa, galaxy cross power (with entire kappa) . . . '\n",
    "\n",
    "#self.crossCls      = np.zeros((nMaps,nMaps,           lmax-lmin+1))\n",
    "#self.crossClsPlus  = np.zeros((nMaps,nMaps,nCosParams,lmax-lmin+1))\n",
    "#self.crossClsMinus = np.zeros((nMaps,nMaps,nCosParams,lmax-lmin+1))\n",
    "\n",
    "# get main set of power spectra    \n",
    "crossCls = Fobj.getCrossCls(['(All Fiducial)'],[myParams],myPk,\n",
    "                                 lmin,lmax,nMaps,tophatBins=tophatBins)\n",
    "# get the perturbed versions\n",
    "print 'starting upper spectra for numeric derivatives . . . '\n",
    "crossClsPlus = Fobj.getCrossCls([paramList[myParamNum]],[myParamsUpper],myPk,\n",
    "                                     lmin,lmax,nMaps,tophatBins=tophatBins)    \n",
    "print 'starting lower spectra for numeric derivatives . . . '\n",
    "crossClsMinus = Fobj.getCrossCls([paramList[myParamNum]],[myParamsLower],myPk,\n",
    "                                      lmin,lmax,nMaps,tophatBins=tophatBins)\n",
    "\n",
    "# need to reshape these? No.\n",
    "\n",
    "# reset global (dark energy and AccuracyBoost) settings\n",
    "pars = myPk.getPars(lmax=lmax,lpa=lpa,AccuracyBoost=AccuracyBoost)\n",
    "\n",
    "ells = np.arange(lmin,lmax+1)\n",
    "\n",
    "print 'done'\n"
   ]
  },
  {
   "cell_type": "code",
   "execution_count": null,
   "metadata": {},
   "outputs": [],
   "source": []
  },
  {
   "cell_type": "code",
   "execution_count": 23,
   "metadata": {
    "scrolled": true
   },
   "outputs": [
    {
     "name": "stdout",
     "output_type": "stream",
     "text": [
      "starting creation of C_l derivatives... \n",
      "starting derivative set  1  of  7 ... \n",
      "starting derivative set  2  of  7 ... \n",
      "starting derivative set  3  of  7 ... \n",
      "starting derivative set  4  of  7 ... \n",
      "starting derivative set  5  of  7 ... \n",
      "starting derivative set  6  of  7 ... \n",
      "starting derivative set  7  of  7 ... \n",
      "done\n"
     ]
    }
   ],
   "source": [
    "# assemble derivative vectors\n",
    "nCls = nMaps*(nMaps+1)/2\n",
    "#nClsP = nMapsP*(nMapsP+1)/2\n",
    "\n",
    "# keep the same shape as in FisherCl but only do one parameter\n",
    "dClVecs = np.empty((nCls,1,lmax-lmin+1))\n",
    "#dClVecsP = np.empty((nClsP,1,lmaxP-lminP+1))\n",
    "\n",
    "# get derivatives wrt parameters\n",
    "print 'starting creation of C_l derivatives... '\n",
    "for map1 in range(nMaps):\n",
    "  print 'starting derivative set ',map1+1,' of ',nMaps,'... '\n",
    "  for map2 in range(map1,nMaps):\n",
    "    mapIdx  = map1*nMaps+map2 -map1*(map1+1)/2  \n",
    "                               \n",
    "    # do numerical derivs wrt nuLCDM params\n",
    "    #for pIdx in range(nCosParams):\n",
    "    for pIdx in [myParamNum]:\n",
    "        #dClPlus  = crossClsPlus[map1,map2,pIdx]\n",
    "        #dClMinus = crossClsMinus[map1,map2,pIdx]\n",
    "        \n",
    "        # if single parameter has not been reshaped:\n",
    "        dClPlus  = crossClsPlus[map1,map2]\n",
    "        dClMinus = crossClsMinus[map1,map2]\n",
    "        dClVecs[mapIdx, 0] = (dClPlus-dClMinus)/(2*deltaP[pIdx])\n",
    "\"\"\"\n",
    "for map1 in range(nMapsP):\n",
    "  print 'starting derivative set ',map1+1,' of ',nMapsP,'... '\n",
    "  for map2 in range(map1,nMapsP):\n",
    "    mapIdx  = map1*nMapsP+map2 -map1*(map1+1)/2  \n",
    "    for pIdx in [myParamNum]:\n",
    "        # do the primary CMB component\n",
    "        dClPlus  = crossClsPPlus[map1,map2,pIdx]\n",
    "        dClMinus = crossClsPMinus[map1,map2,pIdx]\n",
    "        dClVecsP[mapIdx, 0] = (dClPlus-dClMinus)/(2*deltaP[pIdx])\n",
    "\"\"\"        \n",
    "print 'done'"
   ]
  },
  {
   "cell_type": "code",
   "execution_count": null,
   "metadata": {},
   "outputs": [],
   "source": []
  },
  {
   "cell_type": "code",
   "execution_count": null,
   "metadata": {},
   "outputs": [],
   "source": []
  },
  {
   "cell_type": "code",
   "execution_count": 24,
   "metadata": {},
   "outputs": [
    {
     "name": "stdout",
     "output_type": "stream",
     "text": [
      "[[ 1.37501928e+10 -1.06561162e+10 -3.99763567e+10 -3.81957571e+17\n",
      "  -9.30474272e+08  4.33437659e+05  2.68085500e+08 -4.12221005e+07\n",
      "  -1.03712630e+08 -9.56352523e+07 -7.19669182e+07 -5.83536983e+07\n",
      "  -4.59943083e+07 -4.08709519e+07]\n",
      " [-1.06561162e+10  8.47305437e+09  1.89611496e+10  2.97649410e+17\n",
      "   7.23455745e+08 -3.27502300e+05 -2.04892320e+08  5.64131031e+06\n",
      "   7.71530099e+07  7.50429228e+07  5.85562975e+07  4.77497856e+07\n",
      "   3.75799531e+07  2.18822892e+07]\n",
      " [-3.99763567e+10  1.89611496e+10  2.62510809e+12  2.24990617e+18\n",
      "   5.49551991e+09 -1.86715520e+06 -2.55282294e+09  2.97825689e+09\n",
      "   2.92061463e+09  1.73332160e+09  8.10698798e+08  3.25047632e+08\n",
      "   1.02449109e+08  3.63187741e+08]\n",
      " [-3.81957571e+17  2.97649410e+17  2.24990617e+18  1.14804513e+25\n",
      "   2.76838470e+16 -1.21450386e+13 -8.54001770e+15  1.84553417e+15\n",
      "   4.58960800e+15  3.77107964e+15  2.47224386e+15  1.80898936e+15\n",
      "   1.31907144e+15  8.61705944e+14]\n",
      " [-9.30474272e+08  7.23455745e+08  5.49551991e+09  2.76838470e+16\n",
      "   7.17569090e+07 -2.55843008e+04 -2.07952236e+07  4.20439902e+06\n",
      "   1.45888582e+07  8.20692057e+06  4.99912433e+06  3.75127964e+06\n",
      "   3.05326495e+06  2.15460067e+06]\n",
      " [ 4.33437659e+05 -3.27502300e+05 -1.86715520e+06 -1.21450386e+13\n",
      "  -2.55843008e+04  2.02652201e+01  8.38814740e+03 -3.20522927e+03\n",
      "  -5.13528085e+02 -1.84574851e+03 -3.00799084e+03 -3.12614926e+03\n",
      "  -2.63329190e+03 -1.63660151e+03]\n",
      " [ 2.68085500e+08 -2.04892320e+08 -2.55282294e+09 -8.54001770e+15\n",
      "  -2.07952236e+07  8.38814740e+03  6.77206990e+06 -2.28928112e+06\n",
      "  -4.66302457e+06 -3.25808266e+06 -2.03901016e+06 -1.23575778e+06\n",
      "  -8.13378470e+05 -6.65530269e+05]\n",
      " [-4.12221005e+07  5.64131031e+06  2.97825689e+09  1.84553417e+15\n",
      "   4.20439902e+06 -3.20522927e+03 -2.28928112e+06  4.77820434e+06\n",
      "   1.23869634e+06  1.36885190e+06  8.50393585e+05  3.42324892e+05\n",
      "   2.11762181e+05  1.11256478e+06]\n",
      " [-1.03712630e+08  7.71530099e+07  2.92061463e+09  4.58960800e+15\n",
      "   1.45888582e+07 -5.13528085e+02 -4.66302457e+06  1.23869634e+06\n",
      "   1.19982940e+07  2.70984351e-11  1.85818830e-11 -7.16447707e-12\n",
      "  -4.54890742e-12  6.26182624e-14]\n",
      " [-9.56352523e+07  7.50429228e+07  1.73332160e+09  3.77107964e+15\n",
      "   8.20692057e+06 -1.84574851e+03 -3.25808266e+06  1.36885190e+06\n",
      "  -2.53256534e-11  6.83983660e+06  1.59093469e-11  1.66466720e-11\n",
      "  -2.78066871e-12  2.63823642e-14]\n",
      " [-7.19669182e+07  5.85562975e+07  8.10698798e+08  2.47224386e+15\n",
      "   4.99912433e+06 -3.00799084e+03 -2.03901016e+06  8.50393585e+05\n",
      "  -3.21629141e-12 -5.35175974e-12  3.60611455e+06 -2.03163228e-11\n",
      "  -1.85275908e-12 -2.23971808e-14]\n",
      " [-5.83536983e+07  4.77497856e+07  3.25047632e+08  1.80898936e+15\n",
      "   3.75127964e+06 -3.12614926e+03 -1.23575778e+06  3.42324892e+05\n",
      "   1.80027723e-12 -6.91751987e-12  4.84875307e-12  2.29306207e+06\n",
      "   1.61226327e-12  3.06012795e-15]\n",
      " [-4.59943083e+07  3.75799531e+07  1.02449109e+08  1.31907144e+15\n",
      "   3.05326495e+06 -2.63329190e+03 -8.13378470e+05  2.11762181e+05\n",
      "   3.26289988e-12  1.21239324e-11  4.55469149e-11  3.83814894e-11\n",
      "   1.39127069e+06 -2.91111984e-15]\n",
      " [-4.08709519e+07  2.18822892e+07  3.63187741e+08  8.61705944e+14\n",
      "   2.15460067e+06 -1.63660151e+03 -6.65530269e+05  1.11256478e+06\n",
      "  -1.60964829e-10  6.78502099e-11  1.90753634e-09  1.27780660e-09\n",
      "   2.23294961e-10  6.34984034e+05]]\n"
     ]
    }
   ],
   "source": [
    "print Fobj.Fij"
   ]
  },
  {
   "cell_type": "code",
   "execution_count": 25,
   "metadata": {},
   "outputs": [
    {
     "name": "stdout",
     "output_type": "stream",
     "text": [
      "['ombh2', 'omch2', 'cosmomc_theta', 'As', 'ns', 'tau', 'mnu', 'w', 'bin1', 'bin2', 'bin3', 'bin4', 'bin5', 'bin6']\n"
     ]
    }
   ],
   "source": [
    "print Fobj.paramList"
   ]
  },
  {
   "cell_type": "code",
   "execution_count": null,
   "metadata": {},
   "outputs": [],
   "source": []
  },
  {
   "cell_type": "markdown",
   "metadata": {},
   "source": [
    "# Insert dClVecs, dClVecsP into FisherMatrix object"
   ]
  },
  {
   "cell_type": "code",
   "execution_count": 26,
   "metadata": {},
   "outputs": [
    {
     "name": "stdout",
     "output_type": "stream",
     "text": [
      "[6.19161281e-04 1.59668441e-03 1.59820731e-05 3.02255873e-11\n",
      " 3.48469573e-03 1.82277888e+00 2.65725381e-02 1.14560785e-02\n",
      " 3.53843748e-03 3.31130883e-03 4.32991270e-03 4.05824270e-03\n",
      " 4.63521509e-03 1.38294697e-02]\n"
     ]
    }
   ],
   "source": [
    "# insert\n",
    "if newWa:\n",
    "    # expand arrays to put dCl/dwa in after dCl/dw\n",
    "    Fobj.dClVecs  = np.insert(Fobj.dClVecs, myParamNum-1,dClVecs[:,0,:], axis=1)\n",
    "    Fobj.dClVecsP = np.insert(Fobj.dClVecsP,myParamNum-1,dClVecsP[:,0,:],axis=1)\n",
    "    Fobj.paramList = np.insert(Fobj.paramList,myParamNum-1,'wa').tolist()\n",
    "    Fobj.nCosParams = Fobj.nCosParams+1\n",
    "    Fobj.nParams = Fobj.nParams+1\n",
    "else:\n",
    "    # replace old dCl/dw with new one\n",
    "    Fobj.dClVecs[:,myParamNum] = dClVecs[:,0,:]\n",
    "    #Fobj.dClVecsP[:,myParamNum] = dClVecsP[:,0,:]\n",
    "    \n",
    "# replace Fisher Matrices with new versions using new derivatives\n",
    "Fobj.Fij = Fobj.makeFisher(lmin)\n",
    "#Fobj.FijTE = Fobj.makeFisher(lminP,TE=True)\n",
    "\n",
    "# zero out wa section\n",
    "# define row,col deleting function\n",
    "#def fixParam(Fij,pNum):\n",
    "#    return np.delete(np.delete(Fij,pNum,0),pNum,1)\n",
    "#if not newWa:\n",
    "#    Fobj.Fij = fixParam(Fobj.Fij,?)\n",
    "\n",
    "# get sigmas to compare against\n",
    "sigmas2 = getSigmas(Fobj.Fij)\n",
    "#sigmasTE2 = getSigmas(Fobj.FijTE)\n",
    "print sigmas2\n",
    "#print sigmasTE2"
   ]
  },
  {
   "cell_type": "code",
   "execution_count": null,
   "metadata": {},
   "outputs": [],
   "source": []
  },
  {
   "cell_type": "markdown",
   "metadata": {},
   "source": [
    "# Save new Fobj"
   ]
  },
  {
   "cell_type": "code",
   "execution_count": 27,
   "metadata": {},
   "outputs": [
    {
     "name": "stdout",
     "output_type": "stream",
     "text": [
      "done\n"
     ]
    }
   ],
   "source": [
    "# save new Fobj\n",
    "import pickle\n",
    "\n",
    "#filehandler = open('Fisher_7_6X4_w2_wa.obj','w') # AccuracyBoost=3, lmax=3000, lmaxP=5000, nz=3e5; nonlinear=False,\n",
    "#filehandler = open('Fisher_7_6X4_w2.obj','w') # AccuracyBoost=3, lmax=3000, lmaxP=5000, nz=3e5; nonlinear=False,\n",
    "#neutrino_hierarchy = 'normal', usePrimaryCMB = True; from FisherCl branch quickCl\n",
    "# kludge for this one: told cp.getDNDZinterp to use modelDNDZ3; set cp.tophat beesBins=True\n",
    "# biasByBin = False (uses sigma(b)/b), dw = 0.05\n",
    "\n",
    "#filehandler = open('Fisher_7_6X2_w2_wa.obj','w') # AccuracyBoost=3, lmax=3000, lmaxP=5000, nz=3e5; nonlinear=True,\n",
    "filehandler = open('Fisher_7_6X2_w2.obj','w') # AccuracyBoost=3, lmax=3000, lmaxP=5000, nz=3e5; nonlinear=True,\n",
    "#neutrino_hierarchy = 'normal', usePrimaryCMB = True; from FisherCl branch quickCl\n",
    "# kludge for this one: told cp.getDNDZinterp to use modelDNDZ3; set cp.tophat beesBins=True\n",
    "# biasByBin = False (uses sigma(b)/b), dw = 0.05\n",
    "\n",
    "#filehandler = open('Fisher_4_4W_w2.obj','w') # accuracyBoost=3,doNorm=True,lmax=2000, nz=3e5; nonlinear=True,\n",
    "#neutrino_hierarchy = 'degenerate'; from FisherCl branch quickCl\n",
    "\n",
    "\n",
    "pickle.dump(Fobj,filehandler)\n",
    "filehandler.close()\n",
    "\n",
    "print 'done'"
   ]
  },
  {
   "cell_type": "code",
   "execution_count": null,
   "metadata": {},
   "outputs": [],
   "source": []
  },
  {
   "cell_type": "code",
   "execution_count": null,
   "metadata": {},
   "outputs": [],
   "source": []
  },
  {
   "cell_type": "code",
   "execution_count": null,
   "metadata": {},
   "outputs": [],
   "source": []
  },
  {
   "cell_type": "code",
   "execution_count": null,
   "metadata": {},
   "outputs": [],
   "source": []
  },
  {
   "cell_type": "code",
   "execution_count": null,
   "metadata": {},
   "outputs": [],
   "source": []
  },
  {
   "cell_type": "code",
   "execution_count": null,
   "metadata": {},
   "outputs": [],
   "source": []
  },
  {
   "cell_type": "code",
   "execution_count": null,
   "metadata": {},
   "outputs": [],
   "source": []
  }
 ],
 "metadata": {
  "kernelspec": {
   "display_name": "Python 2",
   "language": "python",
   "name": "python2"
  },
  "language_info": {
   "codemirror_mode": {
    "name": "ipython",
    "version": 2
   },
   "file_extension": ".py",
   "mimetype": "text/x-python",
   "name": "python",
   "nbconvert_exporter": "python",
   "pygments_lexer": "ipython2",
   "version": "2.7.14"
  }
 },
 "nbformat": 4,
 "nbformat_minor": 2
}
