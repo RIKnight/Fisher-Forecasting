{
 "cells": [
  {
   "cell_type": "markdown",
   "metadata": {},
   "source": [
    "# Compare my results against those of Santos et. al."
   ]
  },
  {
   "cell_type": "code",
   "execution_count": 1,
   "metadata": {},
   "outputs": [
    {
     "name": "stderr",
     "output_type": "stream",
     "text": [
      "IMPORT ERROR: /opt/local/Library/Frameworks/Python.framework/Versions/2.7/lib/python2.7/site-packages/quicklens/mpi.pyc (No module named pypar). Could not load pbs or pypar. MPI will not be used.\n"
     ]
    },
    {
     "name": "stdout",
     "output_type": "stream",
     "text": [
      "[0. 1. 3.]\n",
      "['k,k', 'k,g1', 'g1,g1']\n",
      "['ombh2', 'omch2', 'H0', 'As', 'ns', 'tau', 'mnu', 'w', 'wa', 'bin1']\n"
     ]
    }
   ],
   "source": [
    "# load my FisherCl result\n",
    "import FisherCl as fcl\n",
    "import crosspower as cp\n",
    "import pickle\n",
    "\n",
    "\n",
    "filehandler = open('Fisher_4_1Bn.obj','r') # AccuracyBoost=3, lmax=3000, lmaxP=5000; nz=3e5; nonlinear=True,\n",
    "#neutrino_hierarchy='degenerate', num_massive_neutrinos=2; \n",
    "#usePrimaryCMB=True, nMapsP=2, useNoise=True; myClName='unlensed_scalar'; \n",
    "#from FisherCl branch quickCl\n",
    "# this one used fiducial params and values to match Santos et. al, including beam_fwhm=4.0.\n",
    "\n",
    "Fobj = pickle.load(filehandler) \n",
    "\n",
    "\n",
    "lmin = Fobj.lmin\n",
    "lmax = Fobj.lmax\n",
    "nMaps = Fobj.nBins + 1\n",
    "nCosParams = Fobj.nParams - Fobj.nBins\n",
    "ells = Fobj.ells\n",
    "obsNames = Fobj.obsNames\n",
    "paramList = Fobj.paramList\n",
    "\n",
    "print Fobj.obsList\n",
    "print Fobj.obsNames\n",
    "print Fobj.paramList\n",
    "\n"
   ]
  },
  {
   "cell_type": "code",
   "execution_count": 3,
   "metadata": {},
   "outputs": [
    {
     "name": "stdout",
     "output_type": "stream",
     "text": [
      "[[ 9.93674154e+07 -1.78259258e+07 -9.38062178e+07 -2.12129396e+07\n",
      "  -1.29939618e+06 -2.82941001e+06  2.79121849e+06 -1.36589225e+06\n",
      "  -3.28677684e+05]\n",
      " [-1.78259258e+07  3.45752139e+07  2.85859383e+07  6.83707229e+06\n",
      "  -1.80370537e+06 -1.69844514e+06  3.51673727e+06  4.41816414e+05\n",
      "   1.03495125e+05]\n",
      " [-9.38062178e+07  2.85859383e+07  1.12598690e+08  2.61907633e+07\n",
      "  -2.94136955e+06 -3.22641214e+06  5.40954161e+06  1.69012932e+06\n",
      "   4.01855725e+05]\n",
      " [-2.12129396e+07  6.83707229e+06  2.61907633e+07  6.14104840e+06\n",
      "  -8.59677272e+05 -9.98380830e+05  1.62593551e+06  3.96252437e+05\n",
      "   9.39585474e+04]\n",
      " [-1.29939618e+06 -1.80370537e+06 -2.94136955e+06 -8.59677272e+05\n",
      "   1.38506308e+06  1.49894837e+06 -2.71662669e+06 -5.63292212e+04\n",
      "  -1.19295137e+04]\n",
      " [-2.82941001e+06 -1.69844514e+06 -3.22641214e+06 -9.98380830e+05\n",
      "   1.49894837e+06  2.01274931e+06 -2.96344114e+06 -6.51471929e+04\n",
      "  -1.38654067e+04]\n",
      " [ 2.79121849e+06  3.51673727e+06  5.40954161e+06  1.62593551e+06\n",
      "  -2.71662669e+06 -2.96344114e+06  5.35831168e+06  1.06411857e+05\n",
      "   2.23459687e+04]\n",
      " [-1.36589225e+06  4.41816414e+05  1.69012932e+06  3.96252437e+05\n",
      "  -5.63292212e+04 -6.51471929e+04  1.06411857e+05  2.55702478e+04\n",
      "   6.06267286e+03]\n",
      " [-3.28677684e+05  1.03495125e+05  4.01855725e+05  9.39585474e+04\n",
      "  -1.19295137e+04 -1.38654067e+04  2.23459687e+04  6.06267286e+03\n",
      "   1.43929719e+03]]\n"
     ]
    }
   ],
   "source": [
    "# load the CosmicFish result\n",
    "\n",
    "cfDir = 'cosmicfish_results/'\n",
    "FijFilename = '3_CMBS4_fisher_matrix_cls_Santos.dat'  # TEB only\n",
    "\n",
    "# The parameters of this Fisher matrix are:\n",
    "#\n",
    "#    1    omegabh2    \\Omega_b h^2       0.2219000000000000E+00\n",
    "#    2    omegach2    \\Omega_c h^2       0.1122000000000000E+00\n",
    "#    3    omeganuh2    \\Omega_\\nu h^2       0.2700000000000000E-02\n",
    "#    4    h    h       0.6500000000000000E+00\n",
    "#    5    logA    {\\rm{ln}}(10^{10} A_s)       0.3058707072715379E+01\n",
    "#    6    ns    n_s       0.9520000000000000E+00\n",
    "#    7    tau    \\tau       0.6300000000000000E-01\n",
    "#    8    w0_ppf    w_{0}^{\\rm ppf}      -0.9500000000000000E+00\n",
    "#    9    wa_ppf    w_{a}^{\\rm ppf}       0.0000000000000000E+00\n",
    "#\n",
    "\n",
    "\n",
    "Fij_CF = np.loadtxt(cfDir+FijFilename)\n",
    "print Fij_CF"
   ]
  },
  {
   "cell_type": "code",
   "execution_count": 4,
   "metadata": {
    "collapsed": true
   },
   "outputs": [
    {
     "name": "stdout",
     "output_type": "stream",
     "text": [
      "adjusting lmax for TT... \n",
      "adjusting lmax for TT... \n",
      "adjusting lmax for TT... \n",
      "adjusting lmax for TT... \n",
      "adjusting lmax for TT... \n",
      "adjusting lmax for TT... \n",
      "adjusting lmax for TT... \n",
      "adjusting lmax for TT... \n",
      "adjusting lmax for TT... \n",
      "adjusting lmax for TT... \n",
      "adjusting lmax for TT... \n",
      "adjusting lmax for TT... \n",
      "adjusting lmax for TT... \n",
      "adjusting lmax for TT... \n",
      "adjusting lmax for TT... \n",
      "adjusting lmax for TT... \n",
      "adjusting lmax for TT... \n",
      "adjusting lmax for TT... \n",
      "adjusting lmax for TT... \n",
      "adjusting lmax for TT... \n",
      "adjusting lmax for TT... \n",
      "adjusting lmax for TT... \n",
      "adjusting lmax for TT... \n",
      "adjusting lmax for TT... \n",
      "adjusting lmax for TT... \n",
      "adjusting lmax for TT... \n",
      "adjusting lmax for TT... \n",
      "adjusting lmax for TT... \n",
      "adjusting lmax for TT... \n",
      "adjusting lmax for TT... \n",
      "adjusting lmax for TT... \n",
      "adjusting lmax for TT... \n",
      "adjusting lmax for TT... \n",
      "adjusting lmax for TT... \n",
      "adjusting lmax for TT... \n",
      "adjusting lmax for TT... \n",
      "adjusting lmax for TT... \n",
      "adjusting lmax for TT... \n",
      "adjusting lmax for TT... \n",
      "adjusting lmax for TT... \n",
      "adjusting lmax for TT... \n",
      "adjusting lmax for TT... \n",
      "adjusting lmax for TT... \n",
      "adjusting lmax for TT... \n",
      "adjusting lmax for TT... \n",
      "adjusting lmax for TT... \n",
      "adjusting lmax for TT... \n",
      "adjusting lmax for TT... \n",
      "adjusting lmax for TT... \n",
      "adjusting lmax for TT... \n",
      "adjusting lmax for TT... \n",
      "adjusting lmax for TT... \n",
      "adjusting lmax for TT... \n",
      "adjusting lmax for TT... \n",
      "adjusting lmax for TT... \n",
      "adjusting lmax for TT... \n",
      "adjusting lmax for TT... \n",
      "adjusting lmax for TT... \n",
      "adjusting lmax for TT... \n",
      "adjusting lmax for TT... \n",
      "adjusting lmax for TT... \n",
      "adjusting lmax for TT... \n",
      "adjusting lmax for TT... \n",
      "adjusting lmax for TT... \n",
      "adjusting lmax for TT... \n",
      "adjusting lmax for TT... \n",
      "adjusting lmax for TT... \n",
      "adjusting lmax for TT... \n",
      "adjusting lmax for TT... \n",
      "adjusting lmax for TT... \n",
      "adjusting lmax for TT... \n",
      "adjusting lmax for TT... \n",
      "adjusting lmax for TT... \n",
      "adjusting lmax for TT... \n",
      "adjusting lmax for TT... \n",
      "adjusting lmax for TT... \n",
      "adjusting lmax for TT... \n",
      "adjusting lmax for TT... \n",
      "adjusting lmax for TT... \n",
      "adjusting lmax for TT... \n",
      "adjusting lmax for TT... \n"
     ]
    }
   ],
   "source": [
    "# get Fij_FisherCl\n",
    "Fij_FisherCl = Fobj.makeFisher(30,TE=True)"
   ]
  },
  {
   "cell_type": "code",
   "execution_count": 5,
   "metadata": {},
   "outputs": [
    {
     "name": "stdout",
     "output_type": "stream",
     "text": [
      "FisherCl:  [7.01706416e-02 8.52917809e-01 5.72681666e+04 5.92395081e-07\n",
      " 3.23569256e+00 1.41881754e+02 3.90761473e+02 3.46889109e+02\n",
      " 7.28682036e+03]\n",
      "CosmicFish:  [5.88851849e-04 2.24918540e-04 4.66112185e-03 1.97694495e-01\n",
      " 5.66168352e-02 3.60950884e-03 3.09977268e-02 2.77486036e+00\n",
      " 8.18587421e+00]\n"
     ]
    }
   ],
   "source": [
    "# show marginalized sigmas\n",
    "getSigmas = lambda Fij: np.sqrt(np.diag(np.linalg.inv(Fij)))\n",
    "\n",
    "sigmas_FisherCl = getSigmas(Fij_FisherCl)\n",
    "sigmas_CosmicFish = getSigmas(Fij_CF)\n",
    "print 'FisherCl: ',sigmas_FisherCl\n",
    "print 'CosmicFish: ',sigmas_CosmicFish"
   ]
  },
  {
   "cell_type": "code",
   "execution_count": null,
   "metadata": {},
   "outputs": [],
   "source": []
  },
  {
   "cell_type": "code",
   "execution_count": null,
   "metadata": {},
   "outputs": [],
   "source": []
  }
 ],
 "metadata": {
  "kernelspec": {
   "display_name": "Python 2",
   "language": "python",
   "name": "python2"
  },
  "language_info": {
   "codemirror_mode": {
    "name": "ipython",
    "version": 2
   },
   "file_extension": ".py",
   "mimetype": "text/x-python",
   "name": "python",
   "nbconvert_exporter": "python",
   "pygments_lexer": "ipython2",
   "version": "2.7.14"
  }
 },
 "nbformat": 4,
 "nbformat_minor": 2
}
