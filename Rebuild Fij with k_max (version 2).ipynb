{
 "cells": [
  {
   "cell_type": "markdown",
   "metadata": {},
   "source": [
    "# Make a FisherMatrix object that was only limited by l_max also have a k_max limit"
   ]
  },
  {
   "cell_type": "code",
   "execution_count": 1,
   "metadata": {},
   "outputs": [
    {
     "name": "stderr",
     "output_type": "stream",
     "text": [
      "IMPORT ERROR: /opt/local/Library/Frameworks/Python.framework/Versions/2.7/lib/python2.7/site-packages/quicklens/mpi.pyc (No module named pypar). Could not load pbs or pypar. MPI will not be used.\n"
     ]
    }
   ],
   "source": [
    "import crosspower as cp\n",
    "import FisherCl as fcl # branch quickCl\n",
    "#import noiseCl as ncl\n",
    "#import camb\n",
    "\n",
    "# set plotting to be in the notebook instead of its own qt window\n",
    "%matplotlib inline"
   ]
  },
  {
   "cell_type": "markdown",
   "metadata": {},
   "source": [
    "# Load two k,g + T,E Fisher Objects with noise"
   ]
  },
  {
   "cell_type": "code",
   "execution_count": 2,
   "metadata": {},
   "outputs": [
    {
     "name": "stdout",
     "output_type": "stream",
     "text": [
      "[ 0.  1.  2.  3.  4.  5.  6.  8.  9. 10. 11. 12. 13. 16. 17. 18. 19. 20.\n",
      " 24. 25. 26. 27. 32. 33. 34. 40. 41. 48.]\n",
      "['k,k', 'k,g1', 'k,g2', 'k,g3', 'k,g4', 'k,g5', 'k,g6', 'g1,g1', 'g1,g2', 'g1,g3', 'g1,g4', 'g1,g5', 'g1,g6', 'g2,g2', 'g2,g3', 'g2,g4', 'g2,g5', 'g2,g6', 'g3,g3', 'g3,g4', 'g3,g5', 'g3,g6', 'g4,g4', 'g4,g5', 'g4,g6', 'g5,g5', 'g5,g6', 'g6,g6']\n",
      "['ombh2', 'omch2', 'cosmomc_theta', 'As', 'ns', 'tau', 'mnu', 'w', 'wa', 'bin1', 'bin2', 'bin3', 'bin4', 'bin5', 'bin6']\n",
      "(15, 15)\n",
      "(9, 9)\n",
      "15\n",
      "9\n"
     ]
    }
   ],
   "source": [
    "# Load saved Fobj2, Fobj4\n",
    "# The suffix 2 is for nonlinear, suffix 4 is for linear (just to keep with the established pattern)\n",
    "\n",
    "import FisherCl as fcl\n",
    "import noiseCl as ncl\n",
    "import crosspower as cp\n",
    "import pickle\n",
    "\n",
    "filehandler2 = open('Fisher_7_6A.obj','r') # AccuracyBoost=3, lmax=3000, lmaxP=5000, nz=3e5; nonlinear=True,\n",
    "#neutrino_hierarchy = 'normal', usePrimaryCMB = True; from FisherCl branch quickCl\n",
    "# kludge for this one: told cp.getDNDZinterp to use modelDNDZ3; set cp.tophat beesBins=True\n",
    "# biasByBin = False (uses sigma(b)/b), dw = 0.05, useNoise = True\n",
    "# apparently this one had way too much shot noise - need to re-make it with fixed code\n",
    "\n",
    "#filehandler2 = open('Fisher_7_6X2_w2_wan.obj','r') # AccuracyBoost=3, lmax=3000, lmaxP=5000, nz=3e5; nonlinear=True,\n",
    "filehandler4 = open('Fisher_7_6X4_w2_wan.obj','r') # AccuracyBoost=3, lmax=3000, lmaxP=5000, nz=3e5; nonlinear=False,\n",
    "\n",
    "Fobj2 = pickle.load(filehandler2) \n",
    "Fobj4 = pickle.load(filehandler4) \n",
    "\n",
    "\n",
    "lmin = Fobj2.lmin\n",
    "lmax = Fobj2.lmax\n",
    "nBins = Fobj2.nBins\n",
    "nMaps = Fobj2.nBins + 1\n",
    "nParams = Fobj2.nParams\n",
    "nCosParams = Fobj2.nParams - Fobj2.nBins\n",
    "ells = Fobj2.ells\n",
    "obsNames = Fobj2.obsNames\n",
    "paramList = Fobj2.paramList\n",
    "\n",
    "print Fobj2.obsList\n",
    "print Fobj2.obsNames\n",
    "print Fobj2.paramList\n",
    "\n",
    "print Fobj2.Fij.shape\n",
    "print Fobj2.FijTE.shape\n",
    "print Fobj2.nParams\n",
    "print Fobj2.nCosParams\n",
    "\n"
   ]
  },
  {
   "cell_type": "code",
   "execution_count": null,
   "metadata": {},
   "outputs": [],
   "source": [
    "\n"
   ]
  },
  {
   "cell_type": "code",
   "execution_count": 3,
   "metadata": {},
   "outputs": [],
   "source": [
    "# test shot noise generator\n",
    "#newNoise = True\n",
    "newNoise = False\n",
    "if newNoise:\n",
    "    import noiseCl as ncl\n",
    "    reload(ncl)\n",
    "\n",
    "    nbar = 66\n",
    "    binEdges = binEdges = [0.0,0.5,1.0,2.0,3.0,4.0,7.0]\n",
    "    #binEdges = np.linspace(Fobj2.zmin,Fobj2.zmax,Fobj2.nBins+1)\n",
    "    N_gg = ncl.shotNoise(nbar,binEdges,myDNDZ=cp.modelDNDZ3,nz=100000,verbose=False)\n",
    "    print N_gg\n"
   ]
  },
  {
   "cell_type": "code",
   "execution_count": null,
   "metadata": {},
   "outputs": [],
   "source": []
  },
  {
   "cell_type": "code",
   "execution_count": 4,
   "metadata": {},
   "outputs": [],
   "source": [
    "# adjust noise in Fobj2\n",
    "if newNoise:\n",
    "    for binNum in range(Fobj2.nBins):\n",
    "        Fobj2.noiseCls[binNum+1,binNum+1] = N_gg[binNum]*np.ones(Fobj2.lmax-Fobj2.lmin+1)\n",
    "        # or try with zero noise:\n",
    "        #Fobj2.noiseCls[binNum+1,binNum+1] = N_gg[binNum]*np.zeros(Fobj2.lmax-Fobj2.lmin+1)\n",
    "        # or try scaling by b**-1:\n",
    "        #Fobj2.noiseCls[binNum+1,binNum+1] = N_gg[binNum]*np.ones(Fobj2.lmax-Fobj2.lmin+1)/Fobj2.binBs[binNum]\n",
    "    Fobj2.covar,Fobj2.invCov,Fobj2.ells,Fobj2.obsList = \\\n",
    "        Fobj2.makeCovar(Fobj2.crossCls,Fobj2.noiseCls,Fobj2.lmin,Fobj2.lmax)\n",
    "    Fobj2.Fij = Fobj2.makeFisher(Fobj2.lmin)\n",
    "    print 'done.'"
   ]
  },
  {
   "cell_type": "code",
   "execution_count": 5,
   "metadata": {},
   "outputs": [
    {
     "name": "stdout",
     "output_type": "stream",
     "text": [
      "0.024206479664841445\n",
      "0.04872266115456238\n",
      "0.27623302447473885\n",
      "2.0738527158240956\n",
      "17.83176396456695\n",
      "166.36826370533282\n"
     ]
    }
   ],
   "source": [
    "for i in range(1,7):\n",
    "    print Fobj2.noiseCls[i][i][0]\n"
   ]
  },
  {
   "cell_type": "code",
   "execution_count": null,
   "metadata": {},
   "outputs": [],
   "source": []
  },
  {
   "cell_type": "code",
   "execution_count": null,
   "metadata": {},
   "outputs": [],
   "source": []
  },
  {
   "cell_type": "code",
   "execution_count": null,
   "metadata": {},
   "outputs": [],
   "source": []
  },
  {
   "cell_type": "markdown",
   "metadata": {},
   "source": [
    "# Create $\\chi(z)$ and $\\ell_{max}(k_{max})$ functions"
   ]
  },
  {
   "cell_type": "code",
   "execution_count": 7,
   "metadata": {},
   "outputs": [
    {
     "name": "stderr",
     "output_type": "stream",
     "text": [
      "WARNING:root:accuracy parameters are changed globally, not yet per parameter set\n"
     ]
    },
    {
     "name": "stdout",
     "output_type": "stream",
     "text": [
      "get nonlinear P(k)...\n",
      "neutrino_hierarchy =  normal\n",
      "starting makePkInterp.\n"
     ]
    },
    {
     "name": "stderr",
     "output_type": "stream",
     "text": [
      "WARNING:root:accuracy parameters are changed globally, not yet per parameter set\n"
     ]
    },
    {
     "name": "stdout",
     "output_type": "stream",
     "text": [
      "finishing makePkInterp.\n",
      "get linear P(k)...\n",
      "neutrino_hierarchy =  normal\n",
      "starting makePkInterp.\n",
      "finishing makePkInterp.\n",
      "redshift of bin edges:  [0.0, 0.5, 1.0, 2.0, 3.0, 4.0, 7.0]\n",
      "Chi of bin edges (nonlin):  [   0.         1950.44919184 3401.79011296 5316.35644135 6513.17408877\n",
      " 7341.61486127 8822.44869176]\n",
      "Chi of bin edges (linear):  [   0.         1950.44919184 3401.79011296 5316.35644135 6513.17408877\n",
      " 7341.61486127 8822.44869176]\n"
     ]
    }
   ],
   "source": [
    "# MatterPower has a getChiOfZ function, but MatterPower object has been stripped from saved Fobj\n",
    "# get params for MatterPower from FisherMatrix:\n",
    "def getPk(Fobj):\n",
    "    return cp.MatterPower(nz=Fobj.nz,AccuracyBoost=Fobj.AccuracyBoost,nonlinear=Fobj.nonlinear,**Fobj.cosParams)\n",
    "\n",
    "print 'get nonlinear P(k)...'\n",
    "myPk2 = getPk(Fobj2)\n",
    "print 'get linear P(k)...'\n",
    "myPk4 = getPk(Fobj4)\n",
    "\n",
    "chiOfZ2 = myPk2.getChiofZ()\n",
    "chiOfZ4 = myPk4.getChiofZ()\n",
    "\n",
    "# define bin edges\n",
    "# the selection of beesBins must be consistent with that which was selected in cp.tophat\n",
    "beesBins = True\n",
    "if beesBins:\n",
    "    if Fobj2.nBins == 6:\n",
    "      binEdges = [0.0,0.5,1.0,2.0,3.0,4.0,7.0]\n",
    "    elif Fobj2.nBins == 16:\n",
    "      binEdges = [0.0, 0.2, 0.4, 0.6, 0.8, 1.0, 1.2, 1.4, 1.6, 1.8, 2.0, \n",
    "                  2.3, 2.6, 3.0, 3.5, 4.0, 7.0]\n",
    "    else:\n",
    "      print '!!!!! wrong nBins for beesBins detected !!!!!'\n",
    "      #return 0\n",
    "else:\n",
    "    binEdges = np.linspace(Fobj.zmin,Fobj.zmax,Fobj.nBins+1)\n",
    "\n",
    "print 'redshift of bin edges: ',binEdges\n",
    "print 'Chi of bin edges (nonlin): ',chiOfZ2(binEdges)\n",
    "print 'Chi of bin edges (linear): ',chiOfZ4(binEdges)"
   ]
  },
  {
   "cell_type": "code",
   "execution_count": 8,
   "metadata": {},
   "outputs": [],
   "source": [
    "# lmax(kmax) function moved to within getKlimited function below"
   ]
  },
  {
   "cell_type": "code",
   "execution_count": null,
   "metadata": {},
   "outputs": [],
   "source": []
  },
  {
   "cell_type": "markdown",
   "metadata": {},
   "source": [
    "# Break apart covar and dClVecs as observables drop out"
   ]
  },
  {
   "cell_type": "code",
   "execution_count": 9,
   "metadata": {},
   "outputs": [],
   "source": [
    "# set the kmax values used throughout\n",
    "\n",
    "#kmax1 = 0.05  # don't go below this or bin 2 will have less than 50 ells and crash program\n",
    "#kmax2 = 0.075\n",
    "\n",
    "kmax1 = 0.1\n",
    "kmax2 = 0.2\n",
    "\n",
    "#kmax1 = 1.0\n",
    "#kmax2 = 2.0  # no need to go above this since it is high enough to only kill bin1\n"
   ]
  },
  {
   "cell_type": "code",
   "execution_count": 10,
   "metadata": {},
   "outputs": [],
   "source": [
    "# some helper functions for getKlimited, getKZlimited\n",
    "\n",
    "# define row,col deleting function\n",
    "def fixParam(Fij,pNum):\n",
    "    return np.delete(np.delete(Fij,pNum,0),pNum,1)\n",
    "\n",
    "# define the covar cutting function\n",
    "def covarCut(covar,dClVecs,preMask,cutNum,verbose=True):\n",
    "    \"\"\"\n",
    "    Purpose:\n",
    "        produce covar and dClVecs with fewer observables\n",
    "    Inputs:\n",
    "        covar,dClVecs: like in Fobj\n",
    "        preMask: this is a 1d array of binNumbers, \n",
    "          indicating which is the lowest bin number used for each row, col of covar \n",
    "          and each dClVec\n",
    "        cutNum: a number contained in preMask indicating which rows, cols of covar, dClVecs to cut\n",
    "    Returns:\n",
    "        cut versions of covar,dClVecs,preMask\n",
    "    \"\"\"\n",
    "    #toCut = np.flip(np.where(preMask[0]==cutNum),1)\n",
    "    toCut = np.flip(np.where(preMask==cutNum),1) # removed 2nd dim of preMask since not needed\n",
    "    if verbose:\n",
    "        print 'to cut: ',toCut\n",
    "    for cut in toCut:\n",
    "        covar = fixParam(covar,cut)\n",
    "        #preMask = fixParam(preMask,cut)\n",
    "        preMask = np.delete(preMask,cut,0)\n",
    "        dClVecs = np.delete(dClVecs,cut,0)\n",
    "    if verbose:\n",
    "        print 'covar.shape: ',covar.shape,', dClVecs.shape: ',dClVecs.shape\n",
    "        print 'premask: ',preMask\n",
    "    return covar,dClVecs,preMask\n"
   ]
  },
  {
   "cell_type": "code",
   "execution_count": 11,
   "metadata": {},
   "outputs": [],
   "source": [
    "# check effect of dropping bin 1\n",
    "# first define local makeFisher function\n",
    "# (copied from below; don't really need both.)\n",
    "def makeFij(dClVecs,invCov,nParams):\n",
    "    \"\"\"\n",
    "    This may replace the previous makeFisher function... blah blah blah.\n",
    "    Inputs:\n",
    "        all must have same ell range.  All ell values will be summed over.\n",
    "    \"\"\"\n",
    "    Fij = np.zeros((nParams,nParams)) # indices match those in paramList\n",
    "    for i in range(nParams):\n",
    "      dClVec_i = dClVecs[:,i,:] # shape (nCls,nElls)\n",
    "      for j in range(nParams):\n",
    "        dClVec_j = dClVecs[:,j,:] # shape (nCls,nElls)\n",
    "        # here is the summation over ell:\n",
    "        for ellInd in range(invCov.shape[2]):\n",
    "          #print dClVec_i.shape,invCov.shape,dClVec_j.shape\n",
    "          fij = np.dot(dClVec_i[:,ellInd],np.dot(invCov[:,:,ellInd],dClVec_j[:,ellInd]))\n",
    "          #if ellInd == 100:\n",
    "            #print 'i,j: ',i,j\n",
    "            #print 'f_ij: ',fij\n",
    "            #print 'dClVec_i: ',dClVec_i[:,ellInd]\n",
    "            #print 'invCov: ',invCov[:,:,ellInd]\n",
    "            #print 'dClVec_j: ',dClVec_j[:,ellInd]\n",
    "          Fij[i,j] += fij\n",
    "    return Fij\n"
   ]
  },
  {
   "cell_type": "code",
   "execution_count": null,
   "metadata": {},
   "outputs": [],
   "source": []
  },
  {
   "cell_type": "code",
   "execution_count": null,
   "metadata": {},
   "outputs": [],
   "source": []
  },
  {
   "cell_type": "code",
   "execution_count": null,
   "metadata": {},
   "outputs": [],
   "source": []
  },
  {
   "cell_type": "code",
   "execution_count": 12,
   "metadata": {},
   "outputs": [
    {
     "name": "stdout",
     "output_type": "stream",
     "text": [
      "(28, 15, 2999)\n",
      "(28, 28, 2999)\n"
     ]
    }
   ],
   "source": [
    "# get pieces of Fobj2 for making Fij\n",
    "dClVecs2 = Fobj2.dClVecs\n",
    "covar2 = Fobj2.covar\n",
    "\n",
    "invCov2 = np.transpose(np.linalg.inv(np.transpose(covar2)))\n",
    "myLmin = 30\n",
    "#myLmin = 50\n",
    "#myLmin = 70\n",
    "lmin = Fobj2.lmin #2\n",
    "myLmax = 2000\n",
    "print dClVecs2.shape\n",
    "print invCov2.shape"
   ]
  },
  {
   "cell_type": "code",
   "execution_count": null,
   "metadata": {},
   "outputs": [],
   "source": []
  },
  {
   "cell_type": "code",
   "execution_count": 13,
   "metadata": {},
   "outputs": [],
   "source": [
    "# trim the bottom and get Fij\n",
    "dClVecs50 = dClVecs2[:,:,myLmin-lmin:myLmax-lmin]\n",
    "invCov50 = invCov2[:,:,myLmin-lmin:myLmax-lmin]\n",
    "Fij50 = makeFij(dClVecs50,invCov50,Fobj2.nParams)"
   ]
  },
  {
   "cell_type": "code",
   "execution_count": null,
   "metadata": {},
   "outputs": [],
   "source": []
  },
  {
   "cell_type": "code",
   "execution_count": 14,
   "metadata": {},
   "outputs": [],
   "source": [
    "# this function also doubled from below\n",
    "def getSigmas(Fij):\n",
    "    #print np.diag(np.linalg.inv(Fij))\n",
    "    return np.sqrt(np.diag(np.linalg.inv(Fij)))\n",
    " \n",
    "sigmas50 = getSigmas(Fij50)"
   ]
  },
  {
   "cell_type": "code",
   "execution_count": 15,
   "metadata": {},
   "outputs": [
    {
     "name": "stdout",
     "output_type": "stream",
     "text": [
      "map i numbers:  [0. 0. 0. 0. 0. 0. 0. 1. 1. 1. 1. 1. 1. 2. 2. 2. 2. 2. 3. 3. 3. 3. 4. 4.\n",
      " 4. 5. 5. 6.]\n",
      "map j numbers:  [0. 1. 2. 3. 4. 5. 6. 1. 2. 3. 4. 5. 6. 2. 3. 4. 5. 6. 3. 4. 5. 6. 4. 5.\n",
      " 6. 5. 6. 6.]\n"
     ]
    }
   ],
   "source": [
    "# excise bin 1 and repeat Fij, sigmas calc.\n",
    "#print Fobj.obsList\n",
    "nMaps = Fobj2.nBins + 1\n",
    "map1List = np.floor(Fobj2.obsList/nMaps)\n",
    "map2List = Fobj2.obsList%nMaps\n",
    "print 'map i numbers: ',map1List\n",
    "print 'map j numbers: ',map2List"
   ]
  },
  {
   "cell_type": "code",
   "execution_count": 16,
   "metadata": {},
   "outputs": [
    {
     "name": "stdout",
     "output_type": "stream",
     "text": [
      "[0. 1. 0. 0. 0. 0. 0. 1. 1. 1. 1. 1. 1. 0. 0. 0. 0. 0. 0. 0. 0. 0. 0. 0.\n",
      " 0. 0. 0. 0.]\n",
      "[1. 1. 1. 1. 1. 1. 0.]\n",
      "[6. 5. 4. 3. 2. 1. 1.]\n",
      "to cut:  [[12 11 10  9  8  7  1]]\n",
      "covar.shape:  (21, 21, 2999) , dClVecs.shape:  (21, 15, 2999)\n",
      "premask:  [0. 0. 0. 0. 0. 0. 0. 0. 0. 0. 0. 0. 0. 0. 0. 0. 0. 0. 0. 0. 0.]\n",
      "done.\n"
     ]
    }
   ],
   "source": [
    "whereOnes = [12,11,10,9,8,7,1]\n",
    "preMaskOne = np.zeros((28))\n",
    "preMaskOne[whereOnes] = 1\n",
    "print preMaskOne\n",
    "print map1List[whereOnes]\n",
    "print map2List[whereOnes]\n",
    "toCut = 1\n",
    "covarOne,dClVecsOne,preMaskOne = covarCut(covar2.copy(),dClVecs2.copy(),preMaskOne,toCut)\n",
    "print 'done.'"
   ]
  },
  {
   "cell_type": "code",
   "execution_count": 17,
   "metadata": {},
   "outputs": [],
   "source": [
    "invCovOne = np.transpose(np.linalg.inv(np.transpose(covarOne)))\n",
    "dClVecs50B = dClVecsOne[:,:,myLmin-lmin:myLmax-lmin]\n",
    "invCov50B = invCovOne[:,:,myLmin-lmin:myLmax-lmin]\n",
    "Fij50B = makeFij(dClVecs50B,invCov50B,Fobj2.nParams)"
   ]
  },
  {
   "cell_type": "code",
   "execution_count": 18,
   "metadata": {},
   "outputs": [
    {
     "name": "stdout",
     "output_type": "stream",
     "text": [
      "[0. 0. 0. 0. 0. 0. 0. 0. 0. 0. 0. 0. 0. 0. 0.]\n"
     ]
    }
   ],
   "source": [
    "print Fij50B[:,9]\n",
    "# again, copied from below\n",
    "def fixParam(Fij,pNum):\n",
    "        return np.delete(np.delete(Fij,pNum,0),pNum,1)\n",
    "Fij50B = fixParam(Fij50B,9)\n",
    "sigmas50B = getSigmas(Fij50B)"
   ]
  },
  {
   "cell_type": "code",
   "execution_count": 19,
   "metadata": {},
   "outputs": [
    {
     "name": "stdout",
     "output_type": "stream",
     "text": [
      "with bin1, and without bin1\n",
      "+---------------+-----------------+----------------+---------------+\n",
      "|   Parameter   | sigmas_yes_bin1 | sigmas_no_bin1 | percent diff. |\n",
      "+---------------+-----------------+----------------+---------------+\n",
      "|     ombh2     |      0.0239     |     0.0247     |       3.3     |\n",
      "|     omch2     |      0.0782     |     0.0827     |      5.82     |\n",
      "| cosmomc_theta |     0.00132     |    0.00132     |     0.356     |\n",
      "|       As      |     1.39e-09    |    1.52e-09    |      9.02     |\n",
      "|       ns      |      0.357      |     0.373      |      4.46     |\n",
      "|      tau      |        384      |       442      |      14.9     |\n",
      "|      mnu      |       1.02      |      1.12      |      9.71     |\n",
      "|       w       |       13.2      |      18.3      |        39     |\n",
      "|       wa      |       34.4      |      47.7      |      38.5     |\n",
      "+---------------+-----------------+----------------+---------------+\n"
     ]
    }
   ],
   "source": [
    "from prettytable import PrettyTable\n",
    "\n",
    "print 'with bin1, and without bin1'\n",
    "t = PrettyTable(['Parameter','sigmas_yes_bin1','sigmas_no_bin1','percent diff.'])\n",
    "for i,p in enumerate(paramList[:nCosParams]):\n",
    "    Zi = sigmas50[i]\n",
    "    Bi = sigmas50B[i]\n",
    "    diff = (Bi-Zi)/Zi *100\n",
    "    t.add_row([p,\"%5.3g\" % Zi,\"%5.3g\" % Bi, \"%5.3g\" % diff ] )\n",
    "print t\n"
   ]
  },
  {
   "cell_type": "code",
   "execution_count": 20,
   "metadata": {},
   "outputs": [],
   "source": [
    "# ok, that increased uncertainties, as expected.\n",
    "# Also, sigmas_no_bin1 is the same result as with ketKlimited(kmax=5), which also just excises bin1."
   ]
  },
  {
   "cell_type": "code",
   "execution_count": null,
   "metadata": {},
   "outputs": [],
   "source": []
  },
  {
   "cell_type": "code",
   "execution_count": null,
   "metadata": {},
   "outputs": [],
   "source": []
  },
  {
   "cell_type": "code",
   "execution_count": null,
   "metadata": {},
   "outputs": [],
   "source": []
  },
  {
   "cell_type": "code",
   "execution_count": 61,
   "metadata": {},
   "outputs": [
    {
     "name": "stdout",
     "output_type": "stream",
     "text": [
      "starting nonlinear P(k), kmax = 0.2...\n",
      "kmax =  0.2 : lmax =  [   2  389  679 1062 1302 1467 2000]\n",
      "obs names:  ['k,k', 'k,g1', 'k,g2', 'k,g3', 'k,g4', 'k,g5', 'k,g6', 'g1,g1', 'g1,g2', 'g1,g3', 'g1,g4', 'g1,g5', 'g1,g6', 'g2,g2', 'g2,g3', 'g2,g4', 'g2,g5', 'g2,g6', 'g3,g3', 'g3,g4', 'g3,g5', 'g3,g6', 'g4,g4', 'g4,g5', 'g4,g6', 'g5,g5', 'g5,g6', 'g6,g6']\n",
      "map i numbers:  [0. 0. 0. 0. 0. 0. 0. 1. 1. 1. 1. 1. 1. 2. 2. 2. 2. 2. 3. 3. 3. 3. 4. 4.\n",
      " 4. 5. 5. 6.]\n",
      "map j numbers:  [0. 1. 2. 3. 4. 5. 6. 1. 2. 3. 4. 5. 6. 2. 3. 4. 5. 6. 3. 4. 5. 6. 4. 5.\n",
      " 6. 5. 6. 6.]\n",
      "invCov shape:  (28, 28, 2999) number of observables:  28\n",
      "lmin, lmax for k,g summation:  2 2000\n",
      "preMask shape:  (28, 28)\n",
      "[[0 1 2 3 4 5 6 1 1 1 1 1 1 2 2 2 2 2 3 3 3 3 4 4 4 5 5 6]\n",
      " [1 1 1 1 1 1 1 1 1 1 1 1 1 1 1 1 1 1 1 1 1 1 1 1 1 1 1 1]\n",
      " [2 1 2 2 2 2 2 1 1 1 1 1 1 2 2 2 2 2 2 2 2 2 2 2 2 2 2 2]\n",
      " [3 1 2 3 3 3 3 1 1 1 1 1 1 2 2 2 2 2 3 3 3 3 3 3 3 3 3 3]\n",
      " [4 1 2 3 4 4 4 1 1 1 1 1 1 2 2 2 2 2 3 3 3 3 4 4 4 4 4 4]\n",
      " [5 1 2 3 4 5 5 1 1 1 1 1 1 2 2 2 2 2 3 3 3 3 4 4 4 5 5 5]\n",
      " [6 1 2 3 4 5 6 1 1 1 1 1 1 2 2 2 2 2 3 3 3 3 4 4 4 5 5 6]\n",
      " [1 1 1 1 1 1 1 1 1 1 1 1 1 1 1 1 1 1 1 1 1 1 1 1 1 1 1 1]\n",
      " [1 1 1 1 1 1 1 1 1 1 1 1 1 1 1 1 1 1 1 1 1 1 1 1 1 1 1 1]\n",
      " [1 1 1 1 1 1 1 1 1 1 1 1 1 1 1 1 1 1 1 1 1 1 1 1 1 1 1 1]\n",
      " [1 1 1 1 1 1 1 1 1 1 1 1 1 1 1 1 1 1 1 1 1 1 1 1 1 1 1 1]\n",
      " [1 1 1 1 1 1 1 1 1 1 1 1 1 1 1 1 1 1 1 1 1 1 1 1 1 1 1 1]\n",
      " [1 1 1 1 1 1 1 1 1 1 1 1 1 1 1 1 1 1 1 1 1 1 1 1 1 1 1 1]\n",
      " [2 1 2 2 2 2 2 1 1 1 1 1 1 2 2 2 2 2 2 2 2 2 2 2 2 2 2 2]\n",
      " [2 1 2 2 2 2 2 1 1 1 1 1 1 2 2 2 2 2 2 2 2 2 2 2 2 2 2 2]\n",
      " [2 1 2 2 2 2 2 1 1 1 1 1 1 2 2 2 2 2 2 2 2 2 2 2 2 2 2 2]\n",
      " [2 1 2 2 2 2 2 1 1 1 1 1 1 2 2 2 2 2 2 2 2 2 2 2 2 2 2 2]\n",
      " [2 1 2 2 2 2 2 1 1 1 1 1 1 2 2 2 2 2 2 2 2 2 2 2 2 2 2 2]\n",
      " [3 1 2 3 3 3 3 1 1 1 1 1 1 2 2 2 2 2 3 3 3 3 3 3 3 3 3 3]\n",
      " [3 1 2 3 3 3 3 1 1 1 1 1 1 2 2 2 2 2 3 3 3 3 3 3 3 3 3 3]\n",
      " [3 1 2 3 3 3 3 1 1 1 1 1 1 2 2 2 2 2 3 3 3 3 3 3 3 3 3 3]\n",
      " [3 1 2 3 3 3 3 1 1 1 1 1 1 2 2 2 2 2 3 3 3 3 3 3 3 3 3 3]\n",
      " [4 1 2 3 4 4 4 1 1 1 1 1 1 2 2 2 2 2 3 3 3 3 4 4 4 4 4 4]\n",
      " [4 1 2 3 4 4 4 1 1 1 1 1 1 2 2 2 2 2 3 3 3 3 4 4 4 4 4 4]\n",
      " [4 1 2 3 4 4 4 1 1 1 1 1 1 2 2 2 2 2 3 3 3 3 4 4 4 4 4 4]\n",
      " [5 1 2 3 4 5 5 1 1 1 1 1 1 2 2 2 2 2 3 3 3 3 4 4 4 5 5 5]\n",
      " [5 1 2 3 4 5 5 1 1 1 1 1 1 2 2 2 2 2 3 3 3 3 4 4 4 5 5 5]\n",
      " [6 1 2 3 4 5 6 1 1 1 1 1 1 2 2 2 2 2 3 3 3 3 4 4 4 5 5 6]]\n",
      "covar shape:  (28, 28, 2999)\n",
      "dClVecs shape:  (28, 15, 2999)\n",
      "\n",
      "starting binNum 1 of 6...\n",
      "to cut:  [[12 11 10  9  8  7  1]]\n",
      "covar.shape:  (21, 21, 2999) , dClVecs.shape:  (21, 15, 2999)\n",
      "premask:  [0 2 3 4 5 6 2 2 2 2 2 3 3 3 3 4 4 4 5 5 6]\n",
      "binNum =  0 , covarBins.shape =  (21, 21, 387) , dClVecsBins.shape =  (21, 15, 387)\n",
      "covariance shape:  (21, 21, 387)\n",
      "derivative array shape:  (21, 15, 387)\n",
      "bin $\\ell_{min} = 2$, bin $\\ell_{max} = 388$\n",
      "\n",
      "starting binNum 2 of 6...\n",
      "to cut:  [[10  9  8  7  6  1]]\n",
      "covar.shape:  (15, 15, 2999) , dClVecs.shape:  (15, 15, 2999)\n",
      "premask:  [0 3 4 5 6 3 3 3 3 4 4 4 5 5 6]\n",
      "binNum =  1 , covarBins.shape =  (15, 15, 290) , dClVecsBins.shape =  (15, 15, 290)\n",
      "covariance shape:  (15, 15, 290)\n",
      "derivative array shape:  (15, 15, 290)\n",
      "bin $\\ell_{min} = 389$, bin $\\ell_{max} = 678$\n",
      "\n",
      "starting binNum 3 of 6...\n",
      "to cut:  [[8 7 6 5 1]]\n",
      "covar.shape:  (10, 10, 2999) , dClVecs.shape:  (10, 15, 2999)\n",
      "premask:  [0 4 5 6 4 4 4 5 5 6]\n",
      "binNum =  2 , covarBins.shape =  (10, 10, 383) , dClVecsBins.shape =  (10, 15, 383)\n",
      "covariance shape:  (10, 10, 383)\n",
      "derivative array shape:  (10, 15, 383)\n",
      "bin $\\ell_{min} = 679$, bin $\\ell_{max} = 1061$\n",
      "\n",
      "starting binNum 4 of 6...\n",
      "to cut:  [[6 5 4 1]]\n",
      "covar.shape:  (6, 6, 2999) , dClVecs.shape:  (6, 15, 2999)\n",
      "premask:  [0 5 6 5 5 6]\n",
      "binNum =  3 , covarBins.shape =  (6, 6, 240) , dClVecsBins.shape =  (6, 15, 240)\n",
      "covariance shape:  (6, 6, 240)\n",
      "derivative array shape:  (6, 15, 240)\n",
      "bin $\\ell_{min} = 1062$, bin $\\ell_{max} = 1301$\n",
      "\n",
      "starting binNum 5 of 6...\n",
      "to cut:  [[4 3 1]]\n",
      "covar.shape:  (3, 3, 2999) , dClVecs.shape:  (3, 15, 2999)\n",
      "premask:  [0 6 6]\n",
      "binNum =  4 , covarBins.shape =  (3, 3, 165) , dClVecsBins.shape =  (3, 15, 165)\n",
      "covariance shape:  (3, 3, 165)\n",
      "derivative array shape:  (3, 15, 165)\n",
      "bin $\\ell_{min} = 1302$, bin $\\ell_{max} = 1466$\n",
      "\n",
      "starting binNum 6 of 6...\n",
      "to cut:  [[2 1]]\n",
      "covar.shape:  (1, 1, 2999) , dClVecs.shape:  (1, 15, 2999)\n",
      "premask:  [0]\n",
      "binNum =  5 , covarBins.shape =  (1, 1, 533) , dClVecsBins.shape =  (1, 15, 533)\n",
      "covariance shape:  (1, 1, 533)\n",
      "derivative array shape:  (1, 15, 533)\n",
      "bin $\\ell_{min} = 1467$, bin $\\ell_{max} = 1999$\n",
      "done\n"
     ]
    }
   ],
   "source": [
    "# define function for creating blocks for making Fij\n",
    "def getKlimited(binEdges,chiOfZ,Fobj,kmax=0.1,kgLmax=2000):\n",
    "    \"\"\"\n",
    "    Purpose:\n",
    "        Chop up Fobj.covar and Fobj.dClVecs into blocks that correspond to having ell values\n",
    "          below ell(k_max,low_z_bin_edge) in Limber approximation\n",
    "    Inputs:\n",
    "        binEdges: an array of redshifts indicating the edges of the redshift bins\n",
    "        chiOfZ: a distance-redshift relation function chi(z)\n",
    "        Fobj: FisherMatrix object\n",
    "        kmax: set the limit that controls the lmax of each redshift bin via Limber appx\n",
    "          default: 0.1\n",
    "        kgLmax: ell_max value for k,g\n",
    "          default: 2000\n",
    "    Returns:\n",
    "        covarBins,dClVecsBins: lists of covar and dClVecs arrays to be used for making Fisher matrix\n",
    "        lmaxByBin: the ell_max for each bin edge\n",
    "        preMaskBins: list of one dimensional masks containing minimum bin numbers for covarBins,dClVecsBins\n",
    "    \"\"\"\n",
    "    # create lmax function via the Limber approximation\n",
    "    myLmax = lambda kmax: np.floor(kmax*chiOfZ(binEdges)-0.5).astype(int)\n",
    "    lmaxByBin = myLmax(kmax) # gives array of lmax at lower bin edges\n",
    "    # the -1 is from the -0.5 in the Limber approximation put into the floor function\n",
    "\n",
    "    # modify this for use in looping below\n",
    "    lmin = Fobj.lmin\n",
    "    lmaxByBin[0] = Fobj.lmin\n",
    "    if lmaxByBin[-1] < kgLmax:\n",
    "        lmaxByBin[-1] = kgLmax\n",
    "    print 'kmax = ',kmax,': lmax = ',lmaxByBin\n",
    "    \n",
    "    # get codes describing observables\n",
    "    nBins = Fobj.nBins\n",
    "    nMaps = Fobj.nBins+1\n",
    "    print 'obs names: ',Fobj.obsNames\n",
    "    #print Fobj.obsList\n",
    "    map1List = np.floor(Fobj.obsList/nMaps)\n",
    "    map2List = Fobj.obsList%nMaps\n",
    "    print 'map i numbers: ',map1List\n",
    "    print 'map j numbers: ',map2List\n",
    "\n",
    "    print 'invCov shape: ',Fobj.invCov.shape, 'number of observables: ',Fobj.obsList.shape[0]\n",
    "    print 'lmin, lmax for k,g summation: ',lmin,kgLmax\n",
    "\n",
    "    # create mask for covariance matrix to be applied to implement lmax\n",
    "    mSize = Fobj.obsList.__len__()\n",
    "    preMask = np.zeros((mSize,mSize)) # contains lowest bin number (>0) of 4 used in covar\n",
    "    print 'preMask shape: ',preMask.shape\n",
    "    for i in range(mSize):\n",
    "        for j in range(i,mSize):\n",
    "            myMaps = np.array([map1List[i],map1List[j],map2List[i],map2List[j]])        \n",
    "            if i>0 or j>0:\n",
    "                preMask[i,j] = np.min(myMaps[np.where(myMaps>0)])\n",
    "                preMask[j,i] = preMask[i,j]\n",
    "            else:\n",
    "                preMask[0,0] = 0\n",
    "            #print i,j,myMaps, myMaps[np.where(myMaps>0)], preMask[i,j]\n",
    "    preMask = preMask.astype(int)\n",
    "    print preMask[0]\n",
    "    \n",
    "    covar=Fobj.covar\n",
    "    dClVecs=Fobj.dClVecs\n",
    "    print 'covar shape: ',covar.shape\n",
    "    print 'dClVecs shape: ',dClVecs.shape\n",
    "        \n",
    "    # cut out all covar,dClVecs,preMask elements with row/col of 1s below lmaxByBin[0] = -1 : so all the way to lmin.\n",
    "\n",
    "    # prepare containers for the results\n",
    "    covarBins = []\n",
    "    dClVecsBins = []\n",
    "    preMaskBins = []\n",
    "\n",
    "    # iterate as bins are removed\n",
    "    verbose = True\n",
    "    myEllMin = lmaxByBin[0]\n",
    "    myEllMax = lmaxByBin[1]\n",
    "    lastBlock = False # for stopping iteration if myEllMax is below kgLmax\n",
    "    preMaskLine = preMask[0] # modified to use just the first line\n",
    "    for binNum in range(nBins):\n",
    "        print '\\nstarting binNum {0} of {1}...'.format(binNum+1,nBins)\n",
    "        covar,dClVecs,preMaskLine = covarCut(covar,dClVecs,preMaskLine,binNum+1,verbose=verbose)\n",
    "\n",
    "        if lmaxByBin[binNum+1] < kgLmax:\n",
    "            myEllMin = lmaxByBin[binNum]\n",
    "            myEllMax = lmaxByBin[binNum+1]\n",
    "        else:\n",
    "            if lmaxByBin[binNum] < kgLmax:\n",
    "                # prob. don't need this if here since only one endpoint will pass kgLmax then end the for loop\n",
    "                myEllMin = lmaxByBin[binNum]\n",
    "            myEllMax = kgLmax\n",
    "            lastBlock = True\n",
    "            \n",
    "        covarBins.append( covar[:,:,myEllMin-lmin:myEllMax-lmin] )\n",
    "        dClVecsBins.append( dClVecs[:,:,myEllMin-lmin:myEllMax-lmin] )\n",
    "        preMaskBins.append( preMaskLine.copy() )\n",
    "        print 'binNum = ',binNum,', covarBins.shape = ',covarBins[binNum].shape,', dClVecsBins.shape = ',dClVecsBins[binNum].shape\n",
    "        if verbose:\n",
    "            print 'covariance shape: ',covarBins[binNum].shape\n",
    "            print 'derivative array shape: ',dClVecsBins[binNum].shape\n",
    "            print r'bin $\\ell_{{min}} = {0}$, bin $\\ell_{{max}} = {1}$'.format(lmaxByBin[binNum],lmaxByBin[binNum+1]-1)\n",
    "        if lastBlock:\n",
    "            break # should break the for binNum loop\n",
    "            \n",
    "    print 'done'  \n",
    "    return covarBins,dClVecsBins,lmaxByBin,preMaskBins\n",
    "\n",
    "# test it\n",
    "#kmax_t = 5\n",
    "kmax_t = 0.2\n",
    "print 'starting nonlinear P(k), kmax = {0}...'.format(kmax_t)\n",
    "covarBins2_01,dClVecsBins2_01,lmaxByBin2_01,preMaskBins2_01 = getKlimited(binEdges,chiOfZ2,Fobj2,kmax=kmax_t)\n"
   ]
  },
  {
   "cell_type": "code",
   "execution_count": null,
   "metadata": {},
   "outputs": [],
   "source": []
  },
  {
   "cell_type": "code",
   "execution_count": null,
   "metadata": {},
   "outputs": [],
   "source": []
  },
  {
   "cell_type": "code",
   "execution_count": null,
   "metadata": {},
   "outputs": [],
   "source": []
  },
  {
   "cell_type": "code",
   "execution_count": null,
   "metadata": {},
   "outputs": [],
   "source": []
  },
  {
   "cell_type": "code",
   "execution_count": 22,
   "metadata": {},
   "outputs": [
    {
     "name": "stdout",
     "output_type": "stream",
     "text": [
      "done.\n"
     ]
    }
   ],
   "source": [
    "# testing\n",
    "invCovOneC = np.transpose(np.linalg.inv(np.transpose(covarBins2_01[0])))\n",
    "dClVecs50C = dClVecsBins2_01[0][:,:,myLmin-lmin:myLmax-lmin]\n",
    "invCov50C = invCovOneC[:,:,myLmin-lmin:myLmax-lmin]\n",
    "Fij50C = makeFij(dClVecs50C,invCov50C,Fobj2.nParams)\n",
    "Fij50C = fixParam(Fij50C,9)\n",
    "sigmas50C = getSigmas(Fij50C)\n",
    "print 'done.'"
   ]
  },
  {
   "cell_type": "code",
   "execution_count": null,
   "metadata": {},
   "outputs": [],
   "source": []
  },
  {
   "cell_type": "code",
   "execution_count": 23,
   "metadata": {},
   "outputs": [
    {
     "name": "stdout",
     "output_type": "stream",
     "text": [
      "without bin1\n",
      "+---------------+-----------------+-----------------+---------------+\n",
      "|   Parameter   | sigmas_no_bin1B | sigmas_no_bin1C | percent diff. |\n",
      "+---------------+-----------------+-----------------+---------------+\n",
      "|     ombh2     |      0.0247     |      0.0247     |         0     |\n",
      "|     omch2     |      0.0827     |      0.0827     |         0     |\n",
      "| cosmomc_theta |     0.00132     |     0.00132     |         0     |\n",
      "|       As      |     1.52e-09    |     1.52e-09    |         0     |\n",
      "|       ns      |      0.373      |      0.373      |         0     |\n",
      "|      tau      |        442      |        442      |         0     |\n",
      "|      mnu      |       1.12      |       1.12      |         0     |\n",
      "|       w       |       18.3      |       18.3      |         0     |\n",
      "|       wa      |       47.7      |       47.7      |         0     |\n",
      "+---------------+-----------------+-----------------+---------------+\n"
     ]
    }
   ],
   "source": [
    "print 'without bin1'\n",
    "t = PrettyTable(['Parameter','sigmas_no_bin1B','sigmas_no_bin1C','percent diff.'])\n",
    "for i,p in enumerate(paramList[:nCosParams]):\n",
    "    Zi = sigmas50B[i]\n",
    "    Bi = sigmas50C[i]\n",
    "    diff = (Bi-Zi)/Zi *100\n",
    "    t.add_row([p,\"%5.3g\" % Zi,\"%5.3g\" % Bi, \"%5.3g\" % diff ] )\n",
    "print t\n"
   ]
  },
  {
   "cell_type": "code",
   "execution_count": null,
   "metadata": {},
   "outputs": [],
   "source": []
  },
  {
   "cell_type": "code",
   "execution_count": null,
   "metadata": {},
   "outputs": [],
   "source": []
  },
  {
   "cell_type": "code",
   "execution_count": null,
   "metadata": {},
   "outputs": [],
   "source": []
  },
  {
   "cell_type": "code",
   "execution_count": null,
   "metadata": {},
   "outputs": [],
   "source": []
  },
  {
   "cell_type": "code",
   "execution_count": null,
   "metadata": {},
   "outputs": [],
   "source": []
  },
  {
   "cell_type": "code",
   "execution_count": null,
   "metadata": {},
   "outputs": [],
   "source": []
  },
  {
   "cell_type": "code",
   "execution_count": null,
   "metadata": {},
   "outputs": [],
   "source": []
  },
  {
   "cell_type": "code",
   "execution_count": null,
   "metadata": {},
   "outputs": [],
   "source": []
  },
  {
   "cell_type": "code",
   "execution_count": 24,
   "metadata": {
    "scrolled": true
   },
   "outputs": [
    {
     "name": "stdout",
     "output_type": "stream",
     "text": [
      "starting nonlinear P(k), kmax = 0.1...\n",
      "kmax =  0.1 : lmax =  [   2  194  339  531  650  733 2000]\n",
      "obs names:  ['k,k', 'k,g1', 'k,g2', 'k,g3', 'k,g4', 'k,g5', 'k,g6', 'g1,g1', 'g1,g2', 'g1,g3', 'g1,g4', 'g1,g5', 'g1,g6', 'g2,g2', 'g2,g3', 'g2,g4', 'g2,g5', 'g2,g6', 'g3,g3', 'g3,g4', 'g3,g5', 'g3,g6', 'g4,g4', 'g4,g5', 'g4,g6', 'g5,g5', 'g5,g6', 'g6,g6']\n",
      "map i numbers:  [0. 0. 0. 0. 0. 0. 0. 1. 1. 1. 1. 1. 1. 2. 2. 2. 2. 2. 3. 3. 3. 3. 4. 4.\n",
      " 4. 5. 5. 6.]\n",
      "map j numbers:  [0. 1. 2. 3. 4. 5. 6. 1. 2. 3. 4. 5. 6. 2. 3. 4. 5. 6. 3. 4. 5. 6. 4. 5.\n",
      " 6. 5. 6. 6.]\n",
      "invCov shape:  (28, 28, 2999) number of observables:  28\n",
      "lmin, lmax for k,g summation:  2 2000\n",
      "preMask shape:  (28, 28)\n",
      "[[0. 0. 0. 0. 0. 0. 0. 0. 0. 0. 0. 0. 0. 0. 0. 0. 0. 0. 0. 0. 0. 0. 0. 0.\n",
      "  0. 0. 0. 0.]\n",
      " [0. 0. 0. 0. 0. 0. 0. 0. 0. 0. 0. 0. 0. 0. 0. 0. 0. 0. 0. 0. 0. 0. 0. 0.\n",
      "  0. 0. 0. 0.]\n",
      " [0. 0. 0. 0. 0. 0. 0. 0. 0. 0. 0. 0. 0. 0. 0. 0. 0. 0. 0. 0. 0. 0. 0. 0.\n",
      "  0. 0. 0. 0.]\n",
      " [0. 0. 0. 0. 0. 0. 0. 0. 0. 0. 0. 0. 0. 0. 0. 0. 0. 0. 0. 0. 0. 0. 0. 0.\n",
      "  0. 0. 0. 0.]\n",
      " [0. 0. 0. 0. 0. 0. 0. 0. 0. 0. 0. 0. 0. 0. 0. 0. 0. 0. 0. 0. 0. 0. 0. 0.\n",
      "  0. 0. 0. 0.]\n",
      " [0. 0. 0. 0. 0. 0. 0. 0. 0. 0. 0. 0. 0. 0. 0. 0. 0. 0. 0. 0. 0. 0. 0. 0.\n",
      "  0. 0. 0. 0.]\n",
      " [0. 0. 0. 0. 0. 0. 0. 0. 0. 0. 0. 0. 0. 0. 0. 0. 0. 0. 0. 0. 0. 0. 0. 0.\n",
      "  0. 0. 0. 0.]\n",
      " [0. 0. 0. 0. 0. 0. 0. 0. 0. 0. 0. 0. 0. 0. 0. 0. 0. 0. 0. 0. 0. 0. 0. 0.\n",
      "  0. 0. 0. 0.]\n",
      " [0. 0. 0. 0. 0. 0. 0. 0. 0. 0. 0. 0. 0. 0. 0. 0. 0. 0. 0. 0. 0. 0. 0. 0.\n",
      "  0. 0. 0. 0.]\n",
      " [0. 0. 0. 0. 0. 0. 0. 0. 0. 0. 0. 0. 0. 0. 0. 0. 0. 0. 0. 0. 0. 0. 0. 0.\n",
      "  0. 0. 0. 0.]\n",
      " [0. 0. 0. 0. 0. 0. 0. 0. 0. 0. 0. 0. 0. 0. 0. 0. 0. 0. 0. 0. 0. 0. 0. 0.\n",
      "  0. 0. 0. 0.]\n",
      " [0. 0. 0. 0. 0. 0. 0. 0. 0. 0. 0. 0. 0. 0. 0. 0. 0. 0. 0. 0. 0. 0. 0. 0.\n",
      "  0. 0. 0. 0.]\n",
      " [0. 0. 0. 0. 0. 0. 0. 0. 0. 0. 0. 0. 0. 0. 0. 0. 0. 0. 0. 0. 0. 0. 0. 0.\n",
      "  0. 0. 0. 0.]\n",
      " [0. 0. 0. 0. 0. 0. 0. 0. 0. 0. 0. 0. 0. 0. 0. 0. 0. 0. 0. 0. 0. 0. 0. 0.\n",
      "  0. 0. 0. 0.]\n",
      " [0. 0. 0. 0. 0. 0. 0. 0. 0. 0. 0. 0. 0. 0. 0. 0. 0. 0. 0. 0. 0. 0. 0. 0.\n",
      "  0. 0. 0. 0.]\n",
      " [0. 0. 0. 0. 0. 0. 0. 0. 0. 0. 0. 0. 0. 0. 0. 0. 0. 0. 0. 0. 0. 0. 0. 0.\n",
      "  0. 0. 0. 0.]\n",
      " [0. 0. 0. 0. 0. 0. 0. 0. 0. 0. 0. 0. 0. 0. 0. 0. 0. 0. 0. 0. 0. 0. 0. 0.\n",
      "  0. 0. 0. 0.]\n",
      " [0. 0. 0. 0. 0. 0. 0. 0. 0. 0. 0. 0. 0. 0. 0. 0. 0. 0. 0. 0. 0. 0. 0. 0.\n",
      "  0. 0. 0. 0.]\n",
      " [0. 0. 0. 0. 0. 0. 0. 0. 0. 0. 0. 0. 0. 0. 0. 0. 0. 0. 0. 0. 0. 0. 0. 0.\n",
      "  0. 0. 0. 0.]\n",
      " [0. 0. 0. 0. 0. 0. 0. 0. 0. 0. 0. 0. 0. 0. 0. 0. 0. 0. 0. 0. 0. 0. 0. 0.\n",
      "  0. 0. 0. 0.]\n",
      " [0. 0. 0. 0. 0. 0. 0. 0. 0. 0. 0. 0. 0. 0. 0. 0. 0. 0. 0. 0. 0. 0. 0. 0.\n",
      "  0. 0. 0. 0.]\n",
      " [0. 0. 0. 0. 0. 0. 0. 0. 0. 0. 0. 0. 0. 0. 0. 0. 0. 0. 0. 0. 0. 0. 0. 0.\n",
      "  0. 0. 0. 0.]\n",
      " [0. 0. 0. 0. 0. 0. 0. 0. 0. 0. 0. 0. 0. 0. 0. 0. 0. 0. 0. 0. 0. 0. 0. 0.\n",
      "  0. 0. 0. 0.]\n",
      " [0. 0. 0. 0. 0. 0. 0. 0. 0. 0. 0. 0. 0. 0. 0. 0. 0. 0. 0. 0. 0. 0. 0. 0.\n",
      "  0. 0. 0. 0.]\n",
      " [0. 0. 0. 0. 0. 0. 0. 0. 0. 0. 0. 0. 0. 0. 0. 0. 0. 0. 0. 0. 0. 0. 0. 0.\n",
      "  0. 0. 0. 0.]\n",
      " [0. 0. 0. 0. 0. 0. 0. 0. 0. 0. 0. 0. 0. 0. 0. 0. 0. 0. 0. 0. 0. 0. 0. 0.\n",
      "  0. 0. 0. 0.]\n",
      " [0. 0. 0. 0. 0. 0. 0. 0. 0. 0. 0. 0. 0. 0. 0. 0. 0. 0. 0. 0. 0. 0. 0. 0.\n",
      "  0. 0. 0. 0.]\n",
      " [0. 0. 0. 0. 0. 0. 0. 0. 0. 0. 0. 0. 0. 0. 0. 0. 0. 0. 0. 0. 0. 0. 0. 0.\n",
      "  0. 0. 0. 0.]]\n",
      "[0 1 2 3 4 5 6 1 1 1 1 1 1 2 2 2 2 2 3 3 3 3 4 4 4 5 5 6]\n",
      "covar shape:  (28, 28, 2999)\n",
      "dClVecs shape:  (28, 15, 2999)\n",
      "\n",
      "starting binNum 1 of 6...\n",
      "to cut:  [[12 11 10  9  8  7  1]]\n",
      "covar.shape:  (21, 21, 2999) , dClVecs.shape:  (21, 15, 2999)\n",
      "premask:  [0 2 3 4 5 6 2 2 2 2 2 3 3 3 3 4 4 4 5 5 6]\n",
      "binNum =  0 , covarBins.shape =  (21, 21, 192) , dClVecsBins.shape =  (21, 15, 192)\n",
      "covariance shape:  (21, 21, 192)\n",
      "derivative array shape:  (21, 15, 192)\n",
      "bin $\\ell_{min} = 2$, bin $\\ell_{max} = 193$\n",
      "\n",
      "starting binNum 2 of 6...\n",
      "to cut:  [[10  9  8  7  6  1]]\n",
      "covar.shape:  (15, 15, 2999) , dClVecs.shape:  (15, 15, 2999)\n",
      "premask:  [0 3 4 5 6 3 3 3 3 4 4 4 5 5 6]\n",
      "binNum =  1 , covarBins.shape =  (15, 15, 145) , dClVecsBins.shape =  (15, 15, 145)\n",
      "covariance shape:  (15, 15, 145)\n",
      "derivative array shape:  (15, 15, 145)\n",
      "bin $\\ell_{min} = 194$, bin $\\ell_{max} = 338$\n",
      "\n",
      "starting binNum 3 of 6...\n",
      "to cut:  [[8 7 6 5 1]]\n",
      "covar.shape:  (10, 10, 2999) , dClVecs.shape:  (10, 15, 2999)\n",
      "premask:  [0 4 5 6 4 4 4 5 5 6]\n",
      "binNum =  2 , covarBins.shape =  (10, 10, 192) , dClVecsBins.shape =  (10, 15, 192)\n",
      "covariance shape:  (10, 10, 192)\n",
      "derivative array shape:  (10, 15, 192)\n",
      "bin $\\ell_{min} = 339$, bin $\\ell_{max} = 530$\n",
      "\n",
      "starting binNum 4 of 6...\n",
      "to cut:  [[6 5 4 1]]\n",
      "covar.shape:  (6, 6, 2999) , dClVecs.shape:  (6, 15, 2999)\n",
      "premask:  [0 5 6 5 5 6]\n",
      "binNum =  3 , covarBins.shape =  (6, 6, 119) , dClVecsBins.shape =  (6, 15, 119)\n",
      "covariance shape:  (6, 6, 119)\n",
      "derivative array shape:  (6, 15, 119)\n",
      "bin $\\ell_{min} = 531$, bin $\\ell_{max} = 649$\n",
      "\n",
      "starting binNum 5 of 6...\n",
      "to cut:  [[4 3 1]]\n",
      "covar.shape:  (3, 3, 2999) , dClVecs.shape:  (3, 15, 2999)\n",
      "premask:  [0 6 6]\n",
      "binNum =  4 , covarBins.shape =  (3, 3, 83) , dClVecsBins.shape =  (3, 15, 83)\n",
      "covariance shape:  (3, 3, 83)\n",
      "derivative array shape:  (3, 15, 83)\n",
      "bin $\\ell_{min} = 650$, bin $\\ell_{max} = 732$\n",
      "\n",
      "starting binNum 6 of 6...\n",
      "to cut:  [[2 1]]\n",
      "covar.shape:  (1, 1, 2999) , dClVecs.shape:  (1, 15, 2999)\n",
      "premask:  [0]\n",
      "binNum =  5 , covarBins.shape =  (1, 1, 1267) , dClVecsBins.shape =  (1, 15, 1267)\n",
      "covariance shape:  (1, 1, 1267)\n",
      "derivative array shape:  (1, 15, 1267)\n",
      "bin $\\ell_{min} = 733$, bin $\\ell_{max} = 1999$\n",
      "done\n",
      "starting nonlinear P(k), kmax = 0.2...\n",
      "kmax =  0.2 : lmax =  [   2  389  679 1062 1302 1467 2000]\n",
      "obs names:  ['k,k', 'k,g1', 'k,g2', 'k,g3', 'k,g4', 'k,g5', 'k,g6', 'g1,g1', 'g1,g2', 'g1,g3', 'g1,g4', 'g1,g5', 'g1,g6', 'g2,g2', 'g2,g3', 'g2,g4', 'g2,g5', 'g2,g6', 'g3,g3', 'g3,g4', 'g3,g5', 'g3,g6', 'g4,g4', 'g4,g5', 'g4,g6', 'g5,g5', 'g5,g6', 'g6,g6']\n",
      "map i numbers:  [0. 0. 0. 0. 0. 0. 0. 1. 1. 1. 1. 1. 1. 2. 2. 2. 2. 2. 3. 3. 3. 3. 4. 4.\n",
      " 4. 5. 5. 6.]\n",
      "map j numbers:  [0. 1. 2. 3. 4. 5. 6. 1. 2. 3. 4. 5. 6. 2. 3. 4. 5. 6. 3. 4. 5. 6. 4. 5.\n",
      " 6. 5. 6. 6.]\n",
      "invCov shape:  (28, 28, 2999) number of observables:  28\n",
      "lmin, lmax for k,g summation:  2 2000\n",
      "preMask shape:  (28, 28)\n",
      "[[0. 0. 0. 0. 0. 0. 0. 0. 0. 0. 0. 0. 0. 0. 0. 0. 0. 0. 0. 0. 0. 0. 0. 0.\n",
      "  0. 0. 0. 0.]\n",
      " [0. 0. 0. 0. 0. 0. 0. 0. 0. 0. 0. 0. 0. 0. 0. 0. 0. 0. 0. 0. 0. 0. 0. 0.\n",
      "  0. 0. 0. 0.]\n",
      " [0. 0. 0. 0. 0. 0. 0. 0. 0. 0. 0. 0. 0. 0. 0. 0. 0. 0. 0. 0. 0. 0. 0. 0.\n",
      "  0. 0. 0. 0.]\n",
      " [0. 0. 0. 0. 0. 0. 0. 0. 0. 0. 0. 0. 0. 0. 0. 0. 0. 0. 0. 0. 0. 0. 0. 0.\n",
      "  0. 0. 0. 0.]\n",
      " [0. 0. 0. 0. 0. 0. 0. 0. 0. 0. 0. 0. 0. 0. 0. 0. 0. 0. 0. 0. 0. 0. 0. 0.\n",
      "  0. 0. 0. 0.]\n",
      " [0. 0. 0. 0. 0. 0. 0. 0. 0. 0. 0. 0. 0. 0. 0. 0. 0. 0. 0. 0. 0. 0. 0. 0.\n",
      "  0. 0. 0. 0.]\n",
      " [0. 0. 0. 0. 0. 0. 0. 0. 0. 0. 0. 0. 0. 0. 0. 0. 0. 0. 0. 0. 0. 0. 0. 0.\n",
      "  0. 0. 0. 0.]\n",
      " [0. 0. 0. 0. 0. 0. 0. 0. 0. 0. 0. 0. 0. 0. 0. 0. 0. 0. 0. 0. 0. 0. 0. 0.\n",
      "  0. 0. 0. 0.]\n",
      " [0. 0. 0. 0. 0. 0. 0. 0. 0. 0. 0. 0. 0. 0. 0. 0. 0. 0. 0. 0. 0. 0. 0. 0.\n",
      "  0. 0. 0. 0.]\n",
      " [0. 0. 0. 0. 0. 0. 0. 0. 0. 0. 0. 0. 0. 0. 0. 0. 0. 0. 0. 0. 0. 0. 0. 0.\n",
      "  0. 0. 0. 0.]\n",
      " [0. 0. 0. 0. 0. 0. 0. 0. 0. 0. 0. 0. 0. 0. 0. 0. 0. 0. 0. 0. 0. 0. 0. 0.\n",
      "  0. 0. 0. 0.]\n",
      " [0. 0. 0. 0. 0. 0. 0. 0. 0. 0. 0. 0. 0. 0. 0. 0. 0. 0. 0. 0. 0. 0. 0. 0.\n",
      "  0. 0. 0. 0.]\n",
      " [0. 0. 0. 0. 0. 0. 0. 0. 0. 0. 0. 0. 0. 0. 0. 0. 0. 0. 0. 0. 0. 0. 0. 0.\n",
      "  0. 0. 0. 0.]\n",
      " [0. 0. 0. 0. 0. 0. 0. 0. 0. 0. 0. 0. 0. 0. 0. 0. 0. 0. 0. 0. 0. 0. 0. 0.\n",
      "  0. 0. 0. 0.]\n",
      " [0. 0. 0. 0. 0. 0. 0. 0. 0. 0. 0. 0. 0. 0. 0. 0. 0. 0. 0. 0. 0. 0. 0. 0.\n",
      "  0. 0. 0. 0.]\n",
      " [0. 0. 0. 0. 0. 0. 0. 0. 0. 0. 0. 0. 0. 0. 0. 0. 0. 0. 0. 0. 0. 0. 0. 0.\n",
      "  0. 0. 0. 0.]\n",
      " [0. 0. 0. 0. 0. 0. 0. 0. 0. 0. 0. 0. 0. 0. 0. 0. 0. 0. 0. 0. 0. 0. 0. 0.\n",
      "  0. 0. 0. 0.]\n",
      " [0. 0. 0. 0. 0. 0. 0. 0. 0. 0. 0. 0. 0. 0. 0. 0. 0. 0. 0. 0. 0. 0. 0. 0.\n",
      "  0. 0. 0. 0.]\n",
      " [0. 0. 0. 0. 0. 0. 0. 0. 0. 0. 0. 0. 0. 0. 0. 0. 0. 0. 0. 0. 0. 0. 0. 0.\n",
      "  0. 0. 0. 0.]\n",
      " [0. 0. 0. 0. 0. 0. 0. 0. 0. 0. 0. 0. 0. 0. 0. 0. 0. 0. 0. 0. 0. 0. 0. 0.\n",
      "  0. 0. 0. 0.]\n",
      " [0. 0. 0. 0. 0. 0. 0. 0. 0. 0. 0. 0. 0. 0. 0. 0. 0. 0. 0. 0. 0. 0. 0. 0.\n",
      "  0. 0. 0. 0.]\n",
      " [0. 0. 0. 0. 0. 0. 0. 0. 0. 0. 0. 0. 0. 0. 0. 0. 0. 0. 0. 0. 0. 0. 0. 0.\n",
      "  0. 0. 0. 0.]\n",
      " [0. 0. 0. 0. 0. 0. 0. 0. 0. 0. 0. 0. 0. 0. 0. 0. 0. 0. 0. 0. 0. 0. 0. 0.\n",
      "  0. 0. 0. 0.]\n",
      " [0. 0. 0. 0. 0. 0. 0. 0. 0. 0. 0. 0. 0. 0. 0. 0. 0. 0. 0. 0. 0. 0. 0. 0.\n",
      "  0. 0. 0. 0.]\n",
      " [0. 0. 0. 0. 0. 0. 0. 0. 0. 0. 0. 0. 0. 0. 0. 0. 0. 0. 0. 0. 0. 0. 0. 0.\n",
      "  0. 0. 0. 0.]\n",
      " [0. 0. 0. 0. 0. 0. 0. 0. 0. 0. 0. 0. 0. 0. 0. 0. 0. 0. 0. 0. 0. 0. 0. 0.\n",
      "  0. 0. 0. 0.]\n",
      " [0. 0. 0. 0. 0. 0. 0. 0. 0. 0. 0. 0. 0. 0. 0. 0. 0. 0. 0. 0. 0. 0. 0. 0.\n",
      "  0. 0. 0. 0.]\n",
      " [0. 0. 0. 0. 0. 0. 0. 0. 0. 0. 0. 0. 0. 0. 0. 0. 0. 0. 0. 0. 0. 0. 0. 0.\n"
     ]
    },
    {
     "name": "stdout",
     "output_type": "stream",
     "text": [
      "  0. 0. 0. 0.]]\n",
      "[0 1 2 3 4 5 6 1 1 1 1 1 1 2 2 2 2 2 3 3 3 3 4 4 4 5 5 6]\n",
      "covar shape:  (28, 28, 2999)\n",
      "dClVecs shape:  (28, 15, 2999)\n",
      "\n",
      "starting binNum 1 of 6...\n",
      "to cut:  [[12 11 10  9  8  7  1]]\n",
      "covar.shape:  (21, 21, 2999) , dClVecs.shape:  (21, 15, 2999)\n",
      "premask:  [0 2 3 4 5 6 2 2 2 2 2 3 3 3 3 4 4 4 5 5 6]\n",
      "binNum =  0 , covarBins.shape =  (21, 21, 387) , dClVecsBins.shape =  (21, 15, 387)\n",
      "covariance shape:  (21, 21, 387)\n",
      "derivative array shape:  (21, 15, 387)\n",
      "bin $\\ell_{min} = 2$, bin $\\ell_{max} = 388$\n",
      "\n",
      "starting binNum 2 of 6...\n",
      "to cut:  [[10  9  8  7  6  1]]\n",
      "covar.shape:  (15, 15, 2999) , dClVecs.shape:  (15, 15, 2999)\n",
      "premask:  [0 3 4 5 6 3 3 3 3 4 4 4 5 5 6]\n",
      "binNum =  1 , covarBins.shape =  (15, 15, 290) , dClVecsBins.shape =  (15, 15, 290)\n",
      "covariance shape:  (15, 15, 290)\n",
      "derivative array shape:  (15, 15, 290)\n",
      "bin $\\ell_{min} = 389$, bin $\\ell_{max} = 678$\n",
      "\n",
      "starting binNum 3 of 6...\n",
      "to cut:  [[8 7 6 5 1]]\n",
      "covar.shape:  (10, 10, 2999) , dClVecs.shape:  (10, 15, 2999)\n",
      "premask:  [0 4 5 6 4 4 4 5 5 6]\n",
      "binNum =  2 , covarBins.shape =  (10, 10, 383) , dClVecsBins.shape =  (10, 15, 383)\n",
      "covariance shape:  (10, 10, 383)\n",
      "derivative array shape:  (10, 15, 383)\n",
      "bin $\\ell_{min} = 679$, bin $\\ell_{max} = 1061$\n",
      "\n",
      "starting binNum 4 of 6...\n",
      "to cut:  [[6 5 4 1]]\n",
      "covar.shape:  (6, 6, 2999) , dClVecs.shape:  (6, 15, 2999)\n",
      "premask:  [0 5 6 5 5 6]\n",
      "binNum =  3 , covarBins.shape =  (6, 6, 240) , dClVecsBins.shape =  (6, 15, 240)\n",
      "covariance shape:  (6, 6, 240)\n",
      "derivative array shape:  (6, 15, 240)\n",
      "bin $\\ell_{min} = 1062$, bin $\\ell_{max} = 1301$\n",
      "\n",
      "starting binNum 5 of 6...\n",
      "to cut:  [[4 3 1]]\n",
      "covar.shape:  (3, 3, 2999) , dClVecs.shape:  (3, 15, 2999)\n",
      "premask:  [0 6 6]\n",
      "binNum =  4 , covarBins.shape =  (3, 3, 165) , dClVecsBins.shape =  (3, 15, 165)\n",
      "covariance shape:  (3, 3, 165)\n",
      "derivative array shape:  (3, 15, 165)\n",
      "bin $\\ell_{min} = 1302$, bin $\\ell_{max} = 1466$\n",
      "\n",
      "starting binNum 6 of 6...\n",
      "to cut:  [[2 1]]\n",
      "covar.shape:  (1, 1, 2999) , dClVecs.shape:  (1, 15, 2999)\n",
      "premask:  [0]\n",
      "binNum =  5 , covarBins.shape =  (1, 1, 533) , dClVecsBins.shape =  (1, 15, 533)\n",
      "covariance shape:  (1, 1, 533)\n",
      "derivative array shape:  (1, 15, 533)\n",
      "bin $\\ell_{min} = 1467$, bin $\\ell_{max} = 1999$\n",
      "done\n",
      "starting linear P(k), kmax = 0.1...\n",
      "kmax =  0.1 : lmax =  [   2  194  339  531  650  733 2000]\n",
      "obs names:  ['k,k', 'k,g1', 'k,g2', 'k,g3', 'k,g4', 'k,g5', 'k,g6', 'g1,g1', 'g1,g2', 'g1,g3', 'g1,g4', 'g1,g5', 'g1,g6', 'g2,g2', 'g2,g3', 'g2,g4', 'g2,g5', 'g2,g6', 'g3,g3', 'g3,g4', 'g3,g5', 'g3,g6', 'g4,g4', 'g4,g5', 'g4,g6', 'g5,g5', 'g5,g6', 'g6,g6']\n",
      "map i numbers:  [0. 0. 0. 0. 0. 0. 0. 1. 1. 1. 1. 1. 1. 2. 2. 2. 2. 2. 3. 3. 3. 3. 4. 4.\n",
      " 4. 5. 5. 6.]\n",
      "map j numbers:  [0. 1. 2. 3. 4. 5. 6. 1. 2. 3. 4. 5. 6. 2. 3. 4. 5. 6. 3. 4. 5. 6. 4. 5.\n",
      " 6. 5. 6. 6.]\n",
      "invCov shape:  (28, 28, 2999) number of observables:  28\n",
      "lmin, lmax for k,g summation:  2 2000\n",
      "preMask shape:  (28, 28)\n",
      "[[0. 0. 0. 0. 0. 0. 0. 0. 0. 0. 0. 0. 0. 0. 0. 0. 0. 0. 0. 0. 0. 0. 0. 0.\n",
      "  0. 0. 0. 0.]\n",
      " [0. 0. 0. 0. 0. 0. 0. 0. 0. 0. 0. 0. 0. 0. 0. 0. 0. 0. 0. 0. 0. 0. 0. 0.\n",
      "  0. 0. 0. 0.]\n",
      " [0. 0. 0. 0. 0. 0. 0. 0. 0. 0. 0. 0. 0. 0. 0. 0. 0. 0. 0. 0. 0. 0. 0. 0.\n",
      "  0. 0. 0. 0.]\n",
      " [0. 0. 0. 0. 0. 0. 0. 0. 0. 0. 0. 0. 0. 0. 0. 0. 0. 0. 0. 0. 0. 0. 0. 0.\n",
      "  0. 0. 0. 0.]\n",
      " [0. 0. 0. 0. 0. 0. 0. 0. 0. 0. 0. 0. 0. 0. 0. 0. 0. 0. 0. 0. 0. 0. 0. 0.\n",
      "  0. 0. 0. 0.]\n",
      " [0. 0. 0. 0. 0. 0. 0. 0. 0. 0. 0. 0. 0. 0. 0. 0. 0. 0. 0. 0. 0. 0. 0. 0.\n",
      "  0. 0. 0. 0.]\n",
      " [0. 0. 0. 0. 0. 0. 0. 0. 0. 0. 0. 0. 0. 0. 0. 0. 0. 0. 0. 0. 0. 0. 0. 0.\n",
      "  0. 0. 0. 0.]\n",
      " [0. 0. 0. 0. 0. 0. 0. 0. 0. 0. 0. 0. 0. 0. 0. 0. 0. 0. 0. 0. 0. 0. 0. 0.\n",
      "  0. 0. 0. 0.]\n",
      " [0. 0. 0. 0. 0. 0. 0. 0. 0. 0. 0. 0. 0. 0. 0. 0. 0. 0. 0. 0. 0. 0. 0. 0.\n",
      "  0. 0. 0. 0.]\n",
      " [0. 0. 0. 0. 0. 0. 0. 0. 0. 0. 0. 0. 0. 0. 0. 0. 0. 0. 0. 0. 0. 0. 0. 0.\n",
      "  0. 0. 0. 0.]\n",
      " [0. 0. 0. 0. 0. 0. 0. 0. 0. 0. 0. 0. 0. 0. 0. 0. 0. 0. 0. 0. 0. 0. 0. 0.\n",
      "  0. 0. 0. 0.]\n",
      " [0. 0. 0. 0. 0. 0. 0. 0. 0. 0. 0. 0. 0. 0. 0. 0. 0. 0. 0. 0. 0. 0. 0. 0.\n",
      "  0. 0. 0. 0.]\n",
      " [0. 0. 0. 0. 0. 0. 0. 0. 0. 0. 0. 0. 0. 0. 0. 0. 0. 0. 0. 0. 0. 0. 0. 0.\n",
      "  0. 0. 0. 0.]\n",
      " [0. 0. 0. 0. 0. 0. 0. 0. 0. 0. 0. 0. 0. 0. 0. 0. 0. 0. 0. 0. 0. 0. 0. 0.\n",
      "  0. 0. 0. 0.]\n",
      " [0. 0. 0. 0. 0. 0. 0. 0. 0. 0. 0. 0. 0. 0. 0. 0. 0. 0. 0. 0. 0. 0. 0. 0.\n",
      "  0. 0. 0. 0.]\n",
      " [0. 0. 0. 0. 0. 0. 0. 0. 0. 0. 0. 0. 0. 0. 0. 0. 0. 0. 0. 0. 0. 0. 0. 0.\n",
      "  0. 0. 0. 0.]\n",
      " [0. 0. 0. 0. 0. 0. 0. 0. 0. 0. 0. 0. 0. 0. 0. 0. 0. 0. 0. 0. 0. 0. 0. 0.\n",
      "  0. 0. 0. 0.]\n",
      " [0. 0. 0. 0. 0. 0. 0. 0. 0. 0. 0. 0. 0. 0. 0. 0. 0. 0. 0. 0. 0. 0. 0. 0.\n",
      "  0. 0. 0. 0.]\n",
      " [0. 0. 0. 0. 0. 0. 0. 0. 0. 0. 0. 0. 0. 0. 0. 0. 0. 0. 0. 0. 0. 0. 0. 0.\n",
      "  0. 0. 0. 0.]\n",
      " [0. 0. 0. 0. 0. 0. 0. 0. 0. 0. 0. 0. 0. 0. 0. 0. 0. 0. 0. 0. 0. 0. 0. 0.\n",
      "  0. 0. 0. 0.]\n",
      " [0. 0. 0. 0. 0. 0. 0. 0. 0. 0. 0. 0. 0. 0. 0. 0. 0. 0. 0. 0. 0. 0. 0. 0.\n",
      "  0. 0. 0. 0.]\n",
      " [0. 0. 0. 0. 0. 0. 0. 0. 0. 0. 0. 0. 0. 0. 0. 0. 0. 0. 0. 0. 0. 0. 0. 0.\n",
      "  0. 0. 0. 0.]\n",
      " [0. 0. 0. 0. 0. 0. 0. 0. 0. 0. 0. 0. 0. 0. 0. 0. 0. 0. 0. 0. 0. 0. 0. 0.\n",
      "  0. 0. 0. 0.]\n",
      " [0. 0. 0. 0. 0. 0. 0. 0. 0. 0. 0. 0. 0. 0. 0. 0. 0. 0. 0. 0. 0. 0. 0. 0.\n",
      "  0. 0. 0. 0.]\n",
      " [0. 0. 0. 0. 0. 0. 0. 0. 0. 0. 0. 0. 0. 0. 0. 0. 0. 0. 0. 0. 0. 0. 0. 0.\n",
      "  0. 0. 0. 0.]\n",
      " [0. 0. 0. 0. 0. 0. 0. 0. 0. 0. 0. 0. 0. 0. 0. 0. 0. 0. 0. 0. 0. 0. 0. 0.\n",
      "  0. 0. 0. 0.]\n",
      " [0. 0. 0. 0. 0. 0. 0. 0. 0. 0. 0. 0. 0. 0. 0. 0. 0. 0. 0. 0. 0. 0. 0. 0.\n",
      "  0. 0. 0. 0.]\n",
      " [0. 0. 0. 0. 0. 0. 0. 0. 0. 0. 0. 0. 0. 0. 0. 0. 0. 0. 0. 0. 0. 0. 0. 0.\n",
      "  0. 0. 0. 0.]]\n",
      "[0 1 2 3 4 5 6 1 1 1 1 1 1 2 2 2 2 2 3 3 3 3 4 4 4 5 5 6]\n",
      "covar shape:  (28, 28, 2999)\n",
      "dClVecs shape:  (28, 15, 2999)\n",
      "\n",
      "starting binNum 1 of 6...\n",
      "to cut:  [[12 11 10  9  8  7  1]]\n",
      "covar.shape:  (21, 21, 2999) , dClVecs.shape:  (21, 15, 2999)\n",
      "premask:  [0 2 3 4 5 6 2 2 2 2 2 3 3 3 3 4 4 4 5 5 6]\n",
      "binNum =  0 , covarBins.shape =  (21, 21, 192) , dClVecsBins.shape =  (21, 15, 192)\n",
      "covariance shape:  (21, 21, 192)\n",
      "derivative array shape:  (21, 15, 192)\n",
      "bin $\\ell_{min} = 2$, bin $\\ell_{max} = 193$\n",
      "\n",
      "starting binNum 2 of 6...\n",
      "to cut:  [[10  9  8  7  6  1]]\n",
      "covar.shape:  (15, 15, 2999) , dClVecs.shape:  (15, 15, 2999)\n",
      "premask:  [0 3 4 5 6 3 3 3 3 4 4 4 5 5 6]\n",
      "binNum =  1 , covarBins.shape =  (15, 15, 145) , dClVecsBins.shape =  (15, 15, 145)\n",
      "covariance shape:  (15, 15, 145)\n",
      "derivative array shape:  (15, 15, 145)\n",
      "bin $\\ell_{min} = 194$, bin $\\ell_{max} = 338$\n",
      "\n",
      "starting binNum 3 of 6...\n",
      "to cut:  [[8 7 6 5 1]]\n",
      "covar.shape:  (10, 10, 2999) , dClVecs.shape:  (10, 15, 2999)\n",
      "premask:  [0 4 5 6 4 4 4 5 5 6]\n",
      "binNum =  2 , covarBins.shape =  (10, 10, 192) , dClVecsBins.shape =  (10, 15, 192)\n",
      "covariance shape:  (10, 10, 192)\n",
      "derivative array shape:  (10, 15, 192)\n",
      "bin $\\ell_{min} = 339$, bin $\\ell_{max} = 530$\n",
      "\n",
      "starting binNum 4 of 6...\n",
      "to cut:  [[6 5 4 1]]\n",
      "covar.shape:  (6, 6, 2999) , dClVecs.shape:  (6, 15, 2999)\n",
      "premask:  [0 5 6 5 5 6]\n",
      "binNum =  3 , covarBins.shape =  (6, 6, 119) , dClVecsBins.shape =  (6, 15, 119)\n",
      "covariance shape:  (6, 6, 119)\n",
      "derivative array shape:  (6, 15, 119)\n",
      "bin $\\ell_{min} = 531$, bin $\\ell_{max} = 649$\n",
      "\n",
      "starting binNum 5 of 6...\n",
      "to cut:  [[4 3 1]]\n",
      "covar.shape:  (3, 3, 2999) , dClVecs.shape:  (3, 15, 2999)\n",
      "premask:  [0 6 6]\n",
      "binNum =  4 , covarBins.shape =  (3, 3, 83) , dClVecsBins.shape =  (3, 15, 83)\n",
      "covariance shape:  (3, 3, 83)\n",
      "derivative array shape:  (3, 15, 83)\n",
      "bin $\\ell_{min} = 650$, bin $\\ell_{max} = 732$\n",
      "\n",
      "starting binNum 6 of 6...\n",
      "to cut:  [[2 1]]\n",
      "covar.shape:  (1, 1, 2999) , dClVecs.shape:  (1, 15, 2999)\n",
      "premask:  [0]\n",
      "binNum =  5 , covarBins.shape =  (1, 1, 1267) , dClVecsBins.shape =  (1, 15, 1267)\n",
      "covariance shape:  (1, 1, 1267)\n",
      "derivative array shape:  (1, 15, 1267)\n",
      "bin $\\ell_{min} = 733$, bin $\\ell_{max} = 1999$\n",
      "done\n",
      "starting linear P(k), kmax = 0.2...\n",
      "kmax =  0.2 : lmax =  [   2  389  679 1062 1302 1467 2000]\n",
      "obs names:  ['k,k', 'k,g1', 'k,g2', 'k,g3', 'k,g4', 'k,g5', 'k,g6', 'g1,g1', 'g1,g2', 'g1,g3', 'g1,g4', 'g1,g5', 'g1,g6', 'g2,g2', 'g2,g3', 'g2,g4', 'g2,g5', 'g2,g6', 'g3,g3', 'g3,g4', 'g3,g5', 'g3,g6', 'g4,g4', 'g4,g5', 'g4,g6', 'g5,g5', 'g5,g6', 'g6,g6']\n",
      "map i numbers:  [0. 0. 0. 0. 0. 0. 0. 1. 1. 1. 1. 1. 1. 2. 2. 2. 2. 2. 3. 3. 3. 3. 4. 4.\n",
      " 4. 5. 5. 6.]\n",
      "map j numbers:  [0. 1. 2. 3. 4. 5. 6. 1. 2. 3. 4. 5. 6. 2. 3. 4. 5. 6. 3. 4. 5. 6. 4. 5.\n",
      " 6. 5. 6. 6.]\n",
      "invCov shape:  (28, 28, 2999) number of observables:  28\n",
      "lmin, lmax for k,g summation:  2 2000\n",
      "preMask shape:  (28, 28)\n",
      "[[0. 0. 0. 0. 0. 0. 0. 0. 0. 0. 0. 0. 0. 0. 0. 0. 0. 0. 0. 0. 0. 0. 0. 0.\n",
      "  0. 0. 0. 0.]\n",
      " [0. 0. 0. 0. 0. 0. 0. 0. 0. 0. 0. 0. 0. 0. 0. 0. 0. 0. 0. 0. 0. 0. 0. 0.\n",
      "  0. 0. 0. 0.]\n",
      " [0. 0. 0. 0. 0. 0. 0. 0. 0. 0. 0. 0. 0. 0. 0. 0. 0. 0. 0. 0. 0. 0. 0. 0.\n",
      "  0. 0. 0. 0.]\n",
      " [0. 0. 0. 0. 0. 0. 0. 0. 0. 0. 0. 0. 0. 0. 0. 0. 0. 0. 0. 0. 0. 0. 0. 0.\n",
      "  0. 0. 0. 0.]\n",
      " [0. 0. 0. 0. 0. 0. 0. 0. 0. 0. 0. 0. 0. 0. 0. 0. 0. 0. 0. 0. 0. 0. 0. 0.\n",
      "  0. 0. 0. 0.]\n",
      " [0. 0. 0. 0. 0. 0. 0. 0. 0. 0. 0. 0. 0. 0. 0. 0. 0. 0. 0. 0. 0. 0. 0. 0.\n",
      "  0. 0. 0. 0.]\n",
      " [0. 0. 0. 0. 0. 0. 0. 0. 0. 0. 0. 0. 0. 0. 0. 0. 0. 0. 0. 0. 0. 0. 0. 0.\n",
      "  0. 0. 0. 0.]\n",
      " [0. 0. 0. 0. 0. 0. 0. 0. 0. 0. 0. 0. 0. 0. 0. 0. 0. 0. 0. 0. 0. 0. 0. 0.\n",
      "  0. 0. 0. 0.]\n",
      " [0. 0. 0. 0. 0. 0. 0. 0. 0. 0. 0. 0. 0. 0. 0. 0. 0. 0. 0. 0. 0. 0. 0. 0.\n",
      "  0. 0. 0. 0.]\n",
      " [0. 0. 0. 0. 0. 0. 0. 0. 0. 0. 0. 0. 0. 0. 0. 0. 0. 0. 0. 0. 0. 0. 0. 0.\n",
      "  0. 0. 0. 0.]\n",
      " [0. 0. 0. 0. 0. 0. 0. 0. 0. 0. 0. 0. 0. 0. 0. 0. 0. 0. 0. 0. 0. 0. 0. 0.\n",
      "  0. 0. 0. 0.]\n",
      " [0. 0. 0. 0. 0. 0. 0. 0. 0. 0. 0. 0. 0. 0. 0. 0. 0. 0. 0. 0. 0. 0. 0. 0.\n",
      "  0. 0. 0. 0.]\n",
      " [0. 0. 0. 0. 0. 0. 0. 0. 0. 0. 0. 0. 0. 0. 0. 0. 0. 0. 0. 0. 0. 0. 0. 0.\n",
      "  0. 0. 0. 0.]\n",
      " [0. 0. 0. 0. 0. 0. 0. 0. 0. 0. 0. 0. 0. 0. 0. 0. 0. 0. 0. 0. 0. 0. 0. 0.\n",
      "  0. 0. 0. 0.]\n",
      " [0. 0. 0. 0. 0. 0. 0. 0. 0. 0. 0. 0. 0. 0. 0. 0. 0. 0. 0. 0. 0. 0. 0. 0.\n",
      "  0. 0. 0. 0.]\n",
      " [0. 0. 0. 0. 0. 0. 0. 0. 0. 0. 0. 0. 0. 0. 0. 0. 0. 0. 0. 0. 0. 0. 0. 0.\n",
      "  0. 0. 0. 0.]\n",
      " [0. 0. 0. 0. 0. 0. 0. 0. 0. 0. 0. 0. 0. 0. 0. 0. 0. 0. 0. 0. 0. 0. 0. 0.\n",
      "  0. 0. 0. 0.]\n",
      " [0. 0. 0. 0. 0. 0. 0. 0. 0. 0. 0. 0. 0. 0. 0. 0. 0. 0. 0. 0. 0. 0. 0. 0.\n",
      "  0. 0. 0. 0.]\n",
      " [0. 0. 0. 0. 0. 0. 0. 0. 0. 0. 0. 0. 0. 0. 0. 0. 0. 0. 0. 0. 0. 0. 0. 0.\n",
      "  0. 0. 0. 0.]\n",
      " [0. 0. 0. 0. 0. 0. 0. 0. 0. 0. 0. 0. 0. 0. 0. 0. 0. 0. 0. 0. 0. 0. 0. 0.\n",
      "  0. 0. 0. 0.]\n",
      " [0. 0. 0. 0. 0. 0. 0. 0. 0. 0. 0. 0. 0. 0. 0. 0. 0. 0. 0. 0. 0. 0. 0. 0.\n",
      "  0. 0. 0. 0.]\n",
      " [0. 0. 0. 0. 0. 0. 0. 0. 0. 0. 0. 0. 0. 0. 0. 0. 0. 0. 0. 0. 0. 0. 0. 0.\n",
      "  0. 0. 0. 0.]\n",
      " [0. 0. 0. 0. 0. 0. 0. 0. 0. 0. 0. 0. 0. 0. 0. 0. 0. 0. 0. 0. 0. 0. 0. 0.\n",
      "  0. 0. 0. 0.]\n",
      " [0. 0. 0. 0. 0. 0. 0. 0. 0. 0. 0. 0. 0. 0. 0. 0. 0. 0. 0. 0. 0. 0. 0. 0.\n",
      "  0. 0. 0. 0.]\n",
      " [0. 0. 0. 0. 0. 0. 0. 0. 0. 0. 0. 0. 0. 0. 0. 0. 0. 0. 0. 0. 0. 0. 0. 0.\n",
      "  0. 0. 0. 0.]\n",
      " [0. 0. 0. 0. 0. 0. 0. 0. 0. 0. 0. 0. 0. 0. 0. 0. 0. 0. 0. 0. 0. 0. 0. 0.\n",
      "  0. 0. 0. 0.]\n",
      " [0. 0. 0. 0. 0. 0. 0. 0. 0. 0. 0. 0. 0. 0. 0. 0. 0. 0. 0. 0. 0. 0. 0. 0.\n",
      "  0. 0. 0. 0.]\n",
      " [0. 0. 0. 0. 0. 0. 0. 0. 0. 0. 0. 0. 0. 0. 0. 0. 0. 0. 0. 0. 0. 0. 0. 0.\n",
      "  0. 0. 0. 0.]]\n",
      "[0 1 2 3 4 5 6 1 1 1 1 1 1 2 2 2 2 2 3 3 3 3 4 4 4 5 5 6]\n",
      "covar shape:  (28, 28, 2999)\n",
      "dClVecs shape:  (28, 15, 2999)\n",
      "\n",
      "starting binNum 1 of 6...\n",
      "to cut:  [[12 11 10  9  8  7  1]]\n"
     ]
    },
    {
     "name": "stdout",
     "output_type": "stream",
     "text": [
      "covar.shape:  (21, 21, 2999) , dClVecs.shape:  (21, 15, 2999)\n",
      "premask:  [0 2 3 4 5 6 2 2 2 2 2 3 3 3 3 4 4 4 5 5 6]\n",
      "binNum =  0 , covarBins.shape =  (21, 21, 387) , dClVecsBins.shape =  (21, 15, 387)\n",
      "covariance shape:  (21, 21, 387)\n",
      "derivative array shape:  (21, 15, 387)\n",
      "bin $\\ell_{min} = 2$, bin $\\ell_{max} = 388$\n",
      "\n",
      "starting binNum 2 of 6...\n",
      "to cut:  [[10  9  8  7  6  1]]\n",
      "covar.shape:  (15, 15, 2999) , dClVecs.shape:  (15, 15, 2999)\n",
      "premask:  [0 3 4 5 6 3 3 3 3 4 4 4 5 5 6]\n",
      "binNum =  1 , covarBins.shape =  (15, 15, 290) , dClVecsBins.shape =  (15, 15, 290)\n",
      "covariance shape:  (15, 15, 290)\n",
      "derivative array shape:  (15, 15, 290)\n",
      "bin $\\ell_{min} = 389$, bin $\\ell_{max} = 678$\n",
      "\n",
      "starting binNum 3 of 6...\n",
      "to cut:  [[8 7 6 5 1]]\n",
      "covar.shape:  (10, 10, 2999) , dClVecs.shape:  (10, 15, 2999)\n",
      "premask:  [0 4 5 6 4 4 4 5 5 6]\n",
      "binNum =  2 , covarBins.shape =  (10, 10, 383) , dClVecsBins.shape =  (10, 15, 383)\n",
      "covariance shape:  (10, 10, 383)\n",
      "derivative array shape:  (10, 15, 383)\n",
      "bin $\\ell_{min} = 679$, bin $\\ell_{max} = 1061$\n",
      "\n",
      "starting binNum 4 of 6...\n",
      "to cut:  [[6 5 4 1]]\n",
      "covar.shape:  (6, 6, 2999) , dClVecs.shape:  (6, 15, 2999)\n",
      "premask:  [0 5 6 5 5 6]\n",
      "binNum =  3 , covarBins.shape =  (6, 6, 240) , dClVecsBins.shape =  (6, 15, 240)\n",
      "covariance shape:  (6, 6, 240)\n",
      "derivative array shape:  (6, 15, 240)\n",
      "bin $\\ell_{min} = 1062$, bin $\\ell_{max} = 1301$\n",
      "\n",
      "starting binNum 5 of 6...\n",
      "to cut:  [[4 3 1]]\n",
      "covar.shape:  (3, 3, 2999) , dClVecs.shape:  (3, 15, 2999)\n",
      "premask:  [0 6 6]\n",
      "binNum =  4 , covarBins.shape =  (3, 3, 165) , dClVecsBins.shape =  (3, 15, 165)\n",
      "covariance shape:  (3, 3, 165)\n",
      "derivative array shape:  (3, 15, 165)\n",
      "bin $\\ell_{min} = 1302$, bin $\\ell_{max} = 1466$\n",
      "\n",
      "starting binNum 6 of 6...\n",
      "to cut:  [[2 1]]\n",
      "covar.shape:  (1, 1, 2999) , dClVecs.shape:  (1, 15, 2999)\n",
      "premask:  [0]\n",
      "binNum =  5 , covarBins.shape =  (1, 1, 533) , dClVecsBins.shape =  (1, 15, 533)\n",
      "covariance shape:  (1, 1, 533)\n",
      "derivative array shape:  (1, 15, 533)\n",
      "bin $\\ell_{min} = 1467$, bin $\\ell_{max} = 1999$\n",
      "done\n",
      "done with all 4 cases.\n"
     ]
    }
   ],
   "source": [
    "print 'starting nonlinear P(k), kmax = {0}...'.format(kmax1)\n",
    "covarBins2_01,dClVecsBins2_01,lmaxByBin2_01,preMaskBins2_01 = getKlimited(binEdges,chiOfZ2,Fobj2,kmax=kmax1)\n",
    "print 'starting nonlinear P(k), kmax = {0}...'.format(kmax2)\n",
    "covarBins2_02,dClVecsBins2_02,lmaxByBin2_02,preMaskBins2_02 = getKlimited(binEdges,chiOfZ2,Fobj2,kmax=kmax2)\n",
    "\n",
    "print 'starting linear P(k), kmax = {0}...'.format(kmax1)\n",
    "covarBins4_01,dClVecsBins4_01,lmaxByBin4_01,preMaskBins4_01 = getKlimited(binEdges,chiOfZ4,Fobj4,kmax=kmax1)\n",
    "print 'starting linear P(k), kmax = {0}...'.format(kmax2)\n",
    "covarBins4_02,dClVecsBins4_02,lmaxByBin4_02,preMaskBins4_02 = getKlimited(binEdges,chiOfZ4,Fobj4,kmax=kmax2)\n",
    "\n",
    "print 'done with all 4 cases.'\n"
   ]
  },
  {
   "cell_type": "code",
   "execution_count": null,
   "metadata": {},
   "outputs": [],
   "source": []
  },
  {
   "cell_type": "code",
   "execution_count": null,
   "metadata": {},
   "outputs": [],
   "source": []
  },
  {
   "cell_type": "markdown",
   "metadata": {},
   "source": [
    "# Get inverse covariance matrices"
   ]
  },
  {
   "cell_type": "code",
   "execution_count": 25,
   "metadata": {},
   "outputs": [],
   "source": [
    "# get inverse covariance matrices\n",
    "def getInvArray(covarBins):\n",
    "    invCovBins = []\n",
    "    nBlocks = covarBins.__len__()\n",
    "    for binNum in range(nBlocks):\n",
    "        invCovBins.append( np.transpose(np.linalg.inv(np.transpose(covarBins[binNum]))) )\n",
    "    return invCovBins\n",
    "\n",
    "invCovBins2_01 = getInvArray(covarBins2_01)\n",
    "invCovBins2_02 = getInvArray(covarBins2_02)\n",
    "invCovBins4_01 = getInvArray(covarBins4_01)\n",
    "invCovBins4_02 = getInvArray(covarBins4_02)\n"
   ]
  },
  {
   "cell_type": "code",
   "execution_count": 26,
   "metadata": {},
   "outputs": [],
   "source": [
    "# cut to myLmin in first bin\n",
    "#myLmin = 30\n",
    "minEllInd = myLmin-Fobj2.lmin\n",
    "\n",
    "dClVecsBins2_01[0] = dClVecsBins2_01[0][:,:,minEllInd:]\n",
    "covarBins2_01[0]  =  covarBins2_01[0][:,:,minEllInd:]\n",
    "invCovBins2_01[0]  =  invCovBins2_01[0][:,:,minEllInd:]\n",
    "dClVecsBins2_02[0] = dClVecsBins2_02[0][:,:,minEllInd:]\n",
    "covarBins2_02[0]  =  covarBins2_02[0][:,:,minEllInd:]\n",
    "invCovBins2_02[0]  =  invCovBins2_02[0][:,:,minEllInd:]\n",
    "\n",
    "dClVecsBins4_01[0] = dClVecsBins4_01[0][:,:,minEllInd:]\n",
    "covarBins4_01[0]  =  covarBins4_01[0][:,:,minEllInd:]\n",
    "invCovBins4_01[0]  =  invCovBins4_01[0][:,:,minEllInd:]\n",
    "dClVecsBins4_02[0] = dClVecsBins4_02[0][:,:,minEllInd:]\n",
    "covarBins4_02[0]  =  covarBins4_02[0][:,:,minEllInd:]\n",
    "invCovBins4_02[0]  =  invCovBins4_02[0][:,:,minEllInd:]"
   ]
  },
  {
   "cell_type": "code",
   "execution_count": null,
   "metadata": {},
   "outputs": [],
   "source": []
  },
  {
   "cell_type": "code",
   "execution_count": null,
   "metadata": {},
   "outputs": [],
   "source": []
  },
  {
   "cell_type": "code",
   "execution_count": null,
   "metadata": {},
   "outputs": [],
   "source": []
  },
  {
   "cell_type": "markdown",
   "metadata": {},
   "source": [
    "# Assemble the $F_{ij}$ matrices and add them up"
   ]
  },
  {
   "cell_type": "code",
   "execution_count": 27,
   "metadata": {},
   "outputs": [],
   "source": [
    "def makeFij(dClVecs,invCov,nParams):\n",
    "    \"\"\"\n",
    "    This may replace the previous makeFisher function... blah blah blah.\n",
    "    Inputs:\n",
    "        all must have same ell range.  All ell values will be summed over.\n",
    "    \"\"\"\n",
    "    Fij = np.zeros((nParams,nParams)) # indices match those in paramList\n",
    "    for i in range(nParams):\n",
    "      dClVec_i = dClVecs[:,i,:] # shape (nCls,nElls)\n",
    "      for j in range(nParams):\n",
    "        dClVec_j = dClVecs[:,j,:] # shape (nCls,nElls)\n",
    "        # here is the summation over ell:\n",
    "        for ellInd in range(invCov.shape[2]):\n",
    "          #print dClVec_i.shape,invCov.shape,dClVec_j.shape\n",
    "          fij = np.dot(dClVec_i[:,ellInd],np.dot(invCov[:,:,ellInd],dClVec_j[:,ellInd]))\n",
    "          Fij[i,j] += fij\n",
    "    return Fij\n"
   ]
  },
  {
   "cell_type": "code",
   "execution_count": 28,
   "metadata": {},
   "outputs": [],
   "source": [
    "# define row,col deleting function\n",
    "#def fixParam(Fij,pNum):\n",
    "#        return np.delete(np.delete(Fij,pNum,0),pNum,1)"
   ]
  },
  {
   "cell_type": "code",
   "execution_count": 29,
   "metadata": {
    "scrolled": false
   },
   "outputs": [
    {
     "name": "stdout",
     "output_type": "stream",
     "text": [
      "nBlocks:  6 , nBlocks2:  6\n",
      "['ombh2' 'omch2' 'cosmomc_theta' 'As' 'ns' 'tau' 'mnu' 'w' 'wa' 'bin2'\n",
      " 'bin3' 'bin4' 'bin5' 'bin6']\n",
      "nBlocks:  6 , nBlocks2:  6\n",
      "['ombh2' 'omch2' 'cosmomc_theta' 'As' 'ns' 'tau' 'mnu' 'w' 'wa' 'bin2'\n",
      " 'bin3' 'bin4' 'bin5' 'bin6']\n",
      "nBlocks:  6 , nBlocks2:  6\n",
      "['ombh2' 'omch2' 'cosmomc_theta' 'As' 'ns' 'tau' 'mnu' 'wa' 'w' 'bin2'\n",
      " 'bin3' 'bin4' 'bin5' 'bin6']\n",
      "nBlocks:  6 , nBlocks2:  6\n",
      "['ombh2' 'omch2' 'cosmomc_theta' 'As' 'ns' 'tau' 'mnu' 'wa' 'w' 'bin2'\n",
      " 'bin3' 'bin4' 'bin5' 'bin6']\n",
      "done.\n"
     ]
    }
   ],
   "source": [
    "# assemble the avengers\n",
    "#def getFijSum(nParams,nBins,dClVecsBins,invCovBins,Fij_kk,paramList):\n",
    "def getFijSum(nParams,nBins,dClVecsBins,invCovBins,paramList):\n",
    "    Fij = np.zeros((nParams,nParams)) # indices match those in paramList\n",
    "    nBlocks = dClVecsBins.__len__()\n",
    "    nBlocks2 = invCovBins.__len__()\n",
    "    print 'nBlocks: ',nBlocks,', nBlocks2: ',nBlocks2\n",
    "    for binNum in range(nBlocks):\n",
    "        #print binNum, dClVecsBins[binNum].size,dClVecsBins[binNum].shape,invCovBins[binNum].shape\n",
    "        Fij += makeFij(dClVecsBins[binNum],invCovBins[binNum],nParams)\n",
    "\n",
    "    # add the low-ell kappa-only part (high ell part was binNum = nBins-1)\n",
    "    nCosParams = nParams-nBins\n",
    "    #Fij[:nCosParams,:nCosParams] += Fij_kk\n",
    "    \n",
    "    # cut out bin1 from Fij and paramList since it was never used\n",
    "    Fij = fixParam(Fij,nCosParams)\n",
    "    myParamList = np.delete(paramList,nCosParams,0)\n",
    "\n",
    "    print myParamList\n",
    "    #print Fij\n",
    "    return Fij,myParamList\n",
    "\n",
    "#Fij2_01,paramList2_01 = getFijSum(Fobj2.nParams,Fobj2.nBins,dClVecsBins2_01,invCovBins2_01,Fij_kk2_01,Fobj2.paramList)\n",
    "#Fij2_02,paramList2_02 = getFijSum(Fobj2.nParams,Fobj2.nBins,dClVecsBins2_02,invCovBins2_02,Fij_kk2_02,Fobj2.paramList)\n",
    "#Fij4_01,paramList4_01 = getFijSum(Fobj4.nParams,Fobj4.nBins,dClVecsBins4_01,invCovBins4_01,Fij_kk4_01,Fobj2.paramList)\n",
    "#Fij4_02,paramList4_02 = getFijSum(Fobj4.nParams,Fobj4.nBins,dClVecsBins4_02,invCovBins4_02,Fij_kk4_02,Fobj2.paramList)\n",
    "Fij2_01,paramList2_01 = getFijSum(Fobj2.nParams,Fobj2.nBins,dClVecsBins2_01,invCovBins2_01,Fobj2.paramList)\n",
    "Fij2_02,paramList2_02 = getFijSum(Fobj2.nParams,Fobj2.nBins,dClVecsBins2_02,invCovBins2_02,Fobj2.paramList)\n",
    "Fij4_01,paramList4_01 = getFijSum(Fobj4.nParams,Fobj4.nBins,dClVecsBins4_01,invCovBins4_01,Fobj4.paramList)\n",
    "Fij4_02,paramList4_02 = getFijSum(Fobj4.nParams,Fobj4.nBins,dClVecsBins4_02,invCovBins4_02,Fobj4.paramList)\n",
    "print 'done.'"
   ]
  },
  {
   "cell_type": "code",
   "execution_count": null,
   "metadata": {},
   "outputs": [],
   "source": []
  },
  {
   "cell_type": "code",
   "execution_count": null,
   "metadata": {},
   "outputs": [],
   "source": []
  },
  {
   "cell_type": "code",
   "execution_count": 30,
   "metadata": {},
   "outputs": [
    {
     "name": "stdout",
     "output_type": "stream",
     "text": [
      "done.\n"
     ]
    }
   ],
   "source": [
    "# get k-unlimited Fij_kg.s\n",
    "Fij2_00 = Fobj2.makeFisher(myLmin,TE=False)\n",
    "Fij4_00 = Fobj4.makeFisher(myLmin,TE=False)\n",
    "print 'done.'"
   ]
  },
  {
   "cell_type": "code",
   "execution_count": 31,
   "metadata": {},
   "outputs": [
    {
     "name": "stdout",
     "output_type": "stream",
     "text": [
      "+---------------+------------------+------------------+---------------+\n",
      "|   Parameter   | sigmas_yes_bin1A | sigmas_yes_bin1D | percent diff. |\n",
      "+---------------+------------------+------------------+---------------+\n",
      "|     ombh2     |      0.0239      |      0.0239      |    -0.0395    |\n",
      "|     omch2     |      0.0782      |      0.0781      |    -0.0529    |\n",
      "| cosmomc_theta |     0.00132      |     0.00132      |    -0.00658   |\n",
      "|       As      |     1.39e-09     |     1.39e-09     |    -0.0839    |\n",
      "|       ns      |      0.357       |      0.357       |    -0.0234    |\n",
      "|      tau      |        384       |        384       |    -0.00672   |\n",
      "|      mnu      |       1.02       |       1.02       |    -0.0407    |\n",
      "|       w       |       13.2       |       13.2       |    -0.0168    |\n",
      "|       wa      |       34.4       |       34.4       |    -0.0157    |\n",
      "+---------------+------------------+------------------+---------------+\n"
     ]
    }
   ],
   "source": [
    "# compare to previous\n",
    "sigmas50D = getSigmas(Fij2_00)\n",
    "t = PrettyTable(['Parameter','sigmas_yes_bin1A','sigmas_yes_bin1D','percent diff.'])\n",
    "for i,p in enumerate(paramList[:nCosParams]):\n",
    "    Zi = sigmas50[i]\n",
    "    Bi = sigmas50D[i]\n",
    "    diff = (Bi-Zi)/Zi *100\n",
    "    t.add_row([p,\"%5.3g\" % Zi,\"%5.3g\" % Bi, \"%5.3g\" % diff ] )\n",
    "print t"
   ]
  },
  {
   "cell_type": "code",
   "execution_count": 32,
   "metadata": {},
   "outputs": [],
   "source": [
    "# ok, that's pretty close.\n",
    "# sigmas50 used localFij, lmin30; sigmas50D used Fobj2.makeFisher, lmin30\n",
    "# why aren't the sigmas exactly the same?"
   ]
  },
  {
   "cell_type": "code",
   "execution_count": null,
   "metadata": {},
   "outputs": [],
   "source": []
  },
  {
   "cell_type": "code",
   "execution_count": 33,
   "metadata": {},
   "outputs": [],
   "source": [
    "# compare general result to specialized one\n",
    "sigmas2_01 = getSigmas(Fij2_01)"
   ]
  },
  {
   "cell_type": "code",
   "execution_count": 34,
   "metadata": {},
   "outputs": [
    {
     "name": "stdout",
     "output_type": "stream",
     "text": [
      "without bin1 vs kmin 1\n",
      "+---------------+-----------------+------------+---------------+\n",
      "|   Parameter   | sigmas_no_bin1C | sigmas2_01 | percent diff. |\n",
      "+---------------+-----------------+------------+---------------+\n",
      "|     ombh2     |      0.0247     |   0.0247   |     0.0786    |\n",
      "|     omch2     |      0.0827     |   0.0831   |     0.471     |\n",
      "| cosmomc_theta |     0.00132     |  0.00132   |     0.391     |\n",
      "|       As      |     1.52e-09    |  1.53e-09  |     0.543     |\n",
      "|       ns      |      0.373      |   0.378    |      1.18     |\n",
      "|      tau      |        442      |     449    |      1.66     |\n",
      "|      mnu      |       1.12      |    1.13    |     0.679     |\n",
      "|       w       |       18.3      |    18.7    |      2.02     |\n",
      "|       wa      |       47.7      |    48.7    |      2.05     |\n",
      "+---------------+-----------------+------------+---------------+\n"
     ]
    }
   ],
   "source": [
    "print 'without bin1 vs kmin 1'\n",
    "t = PrettyTable(['Parameter','sigmas_no_bin1C','sigmas2_01','percent diff.'])\n",
    "for i,p in enumerate(paramList[:nCosParams]):\n",
    "    Zi = sigmas50C[i]\n",
    "    Bi = sigmas2_01[i]\n",
    "    diff = (Bi-Zi)/Zi *100\n",
    "    t.add_row([p,\"%5.3g\" % Zi,\"%5.3g\" % Bi, \"%5.3g\" % diff ] )\n",
    "print t\n"
   ]
  },
  {
   "cell_type": "code",
   "execution_count": 35,
   "metadata": {},
   "outputs": [],
   "source": [
    "# bingo. kmin 1, which removes even more info than just bin 1, shows slightly higher uncertainty."
   ]
  },
  {
   "cell_type": "code",
   "execution_count": 36,
   "metadata": {},
   "outputs": [
    {
     "data": {
      "text/plain": [
       "'\\nFij50C = makeFij(dClVecs50C,invCov50C,Fobj2.nParams)\\nFij50C[:nCosParams,:nCosParams] += Fij_kk2_01\\nFij50C = fixParam(Fij50C,9)\\nsigmas50C2 = getSigmas(Fij50C)\\nprint \\'without bin1\\'\\nt = PrettyTable([\\'Parameter\\',\\'sigmas_no_bin1C2\\',\\'sigmas2_01\\',\\'percent diff.\\'])\\nfor i,p in enumerate(paramList[:nCosParams]):\\n    Zi = sigmas50C2[i]\\n    Bi = sigmas2_01[i]\\n    diff = (Bi-Zi)/Zi *100\\n    t.add_row([p,\"%5.3g\" % Zi,\"%5.3g\" % Bi, \"%5.3g\" % diff ] )\\nprint t\\n'"
      ]
     },
     "execution_count": 36,
     "metadata": {},
     "output_type": "execute_result"
    }
   ],
   "source": [
    "# add the kappa bit to the Fij50C part and check again\n",
    "\"\"\"\n",
    "Fij50C = makeFij(dClVecs50C,invCov50C,Fobj2.nParams)\n",
    "Fij50C[:nCosParams,:nCosParams] += Fij_kk2_01\n",
    "Fij50C = fixParam(Fij50C,9)\n",
    "sigmas50C2 = getSigmas(Fij50C)\n",
    "print 'without bin1'\n",
    "t = PrettyTable(['Parameter','sigmas_no_bin1C2','sigmas2_01','percent diff.'])\n",
    "for i,p in enumerate(paramList[:nCosParams]):\n",
    "    Zi = sigmas50C2[i]\n",
    "    Bi = sigmas2_01[i]\n",
    "    diff = (Bi-Zi)/Zi *100\n",
    "    t.add_row([p,\"%5.3g\" % Zi,\"%5.3g\" % Bi, \"%5.3g\" % diff ] )\n",
    "print t\n",
    "\"\"\""
   ]
  },
  {
   "cell_type": "code",
   "execution_count": null,
   "metadata": {},
   "outputs": [],
   "source": []
  },
  {
   "cell_type": "code",
   "execution_count": null,
   "metadata": {},
   "outputs": [],
   "source": []
  },
  {
   "cell_type": "markdown",
   "metadata": {},
   "source": [
    "# define function to get f_ij^kk"
   ]
  },
  {
   "cell_type": "code",
   "execution_count": 37,
   "metadata": {},
   "outputs": [],
   "source": [
    "# define function to get f_ij^kk\n",
    "def getFijkk(Fobj,myLmin=50,lmax=2000,verbose=False):\n",
    "    \"\"\"\n",
    "        remake kk covar and fisher with noise\n",
    "        (copy some code from \"Rebuild covar with noise\")\n",
    "    \"\"\"\n",
    "\n",
    "    \"\"\"\n",
    "    Clkk = Fobj.crossCls[0,0]\n",
    "    Nlkk = Fobj.noiseCls[0,0]\n",
    "    dClkk = Fobj.dClVecs[0]\n",
    "    nCosParams = Fobj.nCosParams\n",
    "    ells = Fobj.ells\n",
    "\n",
    "    # add noise to crossCls for making covar\n",
    "    Clkk2 = Clkk+Nlkk\n",
    "\n",
    "    print 'Clkk shape: ',Clkk2.shape\n",
    "    print 'dClkk shape: ',dClkk.shape\n",
    "    cov_kk2 = 2*Clkk2**2 / (2*ells+1)\n",
    "    \"\"\"\n",
    "    \n",
    "    nCosParams = Fobj.nCosParams\n",
    "    cov_kk2 = Fobj.covar[0,0]\n",
    "    dClkk = Fobj.dClVecs[0]\n",
    "    Fij_kk2 = np.zeros((nCosParams,nCosParams))\n",
    "    lmin = Fobj.lmin\n",
    "    minEllInd = myLmin-lmin  # eg. 50-2\n",
    "    maxEllInd = lmax-lmin \n",
    "    for pNum1 in range(nCosParams):\n",
    "        for pNum2 in range(pNum1,nCosParams):\n",
    "            # the next line does the summation over ell\n",
    "            Fij_kk2[pNum1,pNum2] = np.sum( dClkk[pNum1,minEllInd:maxEllInd] * \\\n",
    "                                           dClkk[pNum2,minEllInd:maxEllInd] / cov_kk2[minEllInd:maxEllInd])\n",
    "            Fij_kk2[pNum2,pNum1] = Fij_kk2[pNum1,pNum2]\n",
    "    \n",
    "    if verbose:\n",
    "        print 'parameters: ',Fobj.paramList[:nCosParams]\n",
    "        print 'kappa-only, noise-included Fisher matrix (from ell = {0} to {1}):'.format(myLmin,lmax)\n",
    "        print Fij_kk2\n",
    "    return Fij_kk2"
   ]
  },
  {
   "cell_type": "code",
   "execution_count": 38,
   "metadata": {},
   "outputs": [
    {
     "name": "stdout",
     "output_type": "stream",
     "text": [
      "done.\n"
     ]
    }
   ],
   "source": [
    "# get kappa-only Fij.s\n",
    "Fij_kk2 = getFijkk(Fobj2,myLmin=myLmin,lmax=2000,verbose=False)\n",
    "Fij_kk4 = getFijkk(Fobj4,myLmin=myLmin,lmax=2000,verbose=False)\n",
    "print 'done.'"
   ]
  },
  {
   "cell_type": "code",
   "execution_count": null,
   "metadata": {},
   "outputs": [],
   "source": []
  },
  {
   "cell_type": "markdown",
   "metadata": {},
   "source": [
    "# build kTE and kgTE Fisher matrices"
   ]
  },
  {
   "cell_type": "code",
   "execution_count": 39,
   "metadata": {},
   "outputs": [
    {
     "name": "stdout",
     "output_type": "stream",
     "text": [
      "done\n"
     ]
    }
   ],
   "source": [
    "# get the TE matrices\n",
    "FijTE2 = Fobj2.makeFisher(myLmin,TE=True)\n",
    "FijTE4 = Fobj4.makeFisher(myLmin,TE=True)\n",
    "print 'done'"
   ]
  },
  {
   "cell_type": "code",
   "execution_count": null,
   "metadata": {},
   "outputs": [],
   "source": []
  },
  {
   "cell_type": "code",
   "execution_count": null,
   "metadata": {},
   "outputs": [],
   "source": []
  },
  {
   "cell_type": "code",
   "execution_count": 40,
   "metadata": {},
   "outputs": [],
   "source": [
    "# create combined Fisher matrices\n",
    "Fij_kTE2 = Fij_kk2.copy()\n",
    "Fij_kTE2[:nCosParams,:nCosParams] += FijTE2\n",
    "Fij_kTE4 = Fij_kk4.copy()\n",
    "Fij_kTE4[:nCosParams,:nCosParams] += FijTE4\n",
    "\n",
    "Fij_kgTE2_00 = Fij2_00.copy()  # k-unlimited\n",
    "Fij_kgTE2_00[:nCosParams,:nCosParams] += FijTE2\n",
    "Fij_kgTE2_01 = Fij2_01.copy()  # kmax1\n",
    "Fij_kgTE2_01[:nCosParams,:nCosParams] += FijTE2\n",
    "Fij_kgTE2_02 = Fij2_02.copy()  # kmax2\n",
    "Fij_kgTE2_02[:nCosParams,:nCosParams] += FijTE2\n",
    "\n",
    "Fij_kgTE4_00 = Fij4_00.copy()  # k-unlimited\n",
    "Fij_kgTE4_00[:nCosParams,:nCosParams] += FijTE4\n",
    "Fij_kgTE4_01 = Fij4_01.copy()  # kmax1\n",
    "Fij_kgTE4_01[:nCosParams,:nCosParams] += FijTE4\n",
    "Fij_kgTE4_02 = Fij4_02.copy()  # kmax2\n",
    "Fij_kgTE4_02[:nCosParams,:nCosParams] += FijTE4"
   ]
  },
  {
   "cell_type": "code",
   "execution_count": null,
   "metadata": {},
   "outputs": [],
   "source": []
  },
  {
   "cell_type": "markdown",
   "metadata": {},
   "source": [
    "# Adjust $A_s$ values"
   ]
  },
  {
   "cell_type": "code",
   "execution_count": 41,
   "metadata": {},
   "outputs": [
    {
     "name": "stdout",
     "output_type": "stream",
     "text": [
      "['ombh2', 'omch2', 'cosmomc_theta', '10^9 As', 'ns', 'tau', 'mnu', 'w', 'wa', 'bin1', 'bin2', 'bin3', 'bin4', 'bin5', 'bin6']\n"
     ]
    }
   ],
   "source": [
    "# Convert As to 10^9*As\n",
    "#\"\"\"\n",
    "AsIndex = 3\n",
    "mult = 1e-9\n",
    "def rowColMult(array,index,mult):\n",
    "    array[index,:] *= mult\n",
    "    array[:,index] *= mult\n",
    "    return array\n",
    "    \n",
    "Fij_kk2      = rowColMult(Fij_kk2,AsIndex,mult)\n",
    "FijTE2       = rowColMult(FijTE2,AsIndex,mult)\n",
    "Fij_kTE2     = rowColMult(Fij_kTE2,AsIndex,mult)\n",
    "Fij2_00      = rowColMult(Fij2_00,AsIndex,mult)\n",
    "Fij2_01      = rowColMult(Fij2_01,AsIndex,mult)\n",
    "Fij2_02      = rowColMult(Fij2_02,AsIndex,mult)\n",
    "Fij_kgTE2_00 = rowColMult(Fij_kgTE2_00,AsIndex,mult)\n",
    "Fij_kgTE2_01 = rowColMult(Fij_kgTE2_01,AsIndex,mult)\n",
    "Fij_kgTE2_02 = rowColMult(Fij_kgTE2_02,AsIndex,mult)\n",
    "\n",
    "Fij_kk4      = rowColMult(Fij_kk4,AsIndex,mult)\n",
    "FijTE4       = rowColMult(FijTE4,AsIndex,mult)\n",
    "Fij_kTE4     = rowColMult(Fij_kTE4,AsIndex,mult)\n",
    "Fij4_00      = rowColMult(Fij4_00,AsIndex,mult)\n",
    "Fij4_01      = rowColMult(Fij4_01,AsIndex,mult)\n",
    "Fij4_02      = rowColMult(Fij4_02,AsIndex,mult)\n",
    "Fij_kgTE4_00 = rowColMult(Fij_kgTE4_00,AsIndex,mult)\n",
    "Fij_kgTE4_01 = rowColMult(Fij_kgTE4_01,AsIndex,mult)\n",
    "Fij_kgTE4_02 = rowColMult(Fij_kgTE4_02,AsIndex,mult)\n",
    "\n",
    "\n",
    "# adjust name\n",
    "paramList[AsIndex]     = '10^9 As'\n",
    "paramList2_01[AsIndex] = '10^9 As'\n",
    "paramList2_02[AsIndex] = '10^9 As'\n",
    "paramList4_01[AsIndex] = '10^9 As'\n",
    "paramList4_02[AsIndex] = '10^9 As'\n",
    "print paramList\n",
    "#\"\"\""
   ]
  },
  {
   "cell_type": "code",
   "execution_count": 42,
   "metadata": {},
   "outputs": [
    {
     "name": "stdout",
     "output_type": "stream",
     "text": [
      "00: [[ 1.24508133e+09 -1.09492498e+09  1.79422295e+10 -2.75343101e+07\n",
      "  -5.42737561e+07  3.58738434e+04  1.15366649e+07  4.38314654e+06\n",
      "   2.02755725e+06 -2.55153725e+01 -4.34592626e+00  2.90029581e-01\n",
      "   7.07028205e-02  7.21579120e-03  6.00541189e-04]\n",
      " [-1.09492498e+09  9.63017021e+08 -1.57834013e+10  2.42303638e+07\n",
      "   4.76446218e+07 -3.16241862e+04 -1.01514824e+07 -3.85874115e+06\n",
      "  -1.78528737e+06  2.22832804e+01  2.53970388e+00 -3.93155152e-01\n",
      "  -7.14976400e-02 -6.98661604e-03 -5.72718927e-04]\n",
      " [ 1.79422295e+10 -1.57834013e+10  2.58753876e+11 -3.97507454e+08\n",
      "  -7.77752508e+08  5.20988156e+05  1.66506628e+08  6.33279979e+07\n",
      "   2.93148876e+07 -3.72652879e+02  1.07099386e+02  3.30316459e+01\n",
      "   3.72020844e+00  3.28150018e-01  2.55193534e-02]\n",
      " [-2.75343101e+07  2.42303638e+07 -3.97507454e+08  6.11897902e+05\n",
      "   1.17993361e+06 -8.12165691e+02 -2.56180686e+05 -9.75544080e+04\n",
      "  -4.52344170e+04  4.61767919e-01  1.26136936e-01  3.33960772e-03\n",
      "  -2.83215030e-04 -3.78005434e-05 -3.31474872e-06]\n",
      " [-5.42737561e+07  4.76446218e+07 -7.77752508e+08  1.17993361e+06\n",
      "   2.52363808e+06 -1.41652031e+03 -4.95987165e+05 -1.87330093e+05\n",
      "  -8.57249066e+04  3.30503390e+00  4.68292466e-01  7.98956217e-03\n",
      "  -1.06966417e-03 -1.29060124e-04 -1.19972159e-05]\n",
      " [ 3.58738434e+04 -3.16241862e+04  5.20988156e+05 -8.12165691e+02\n",
      "  -1.41652031e+03  1.17108889e+00  3.38788558e+02  1.29723794e+02\n",
      "   6.08802444e+01  1.87448543e-03  8.08327680e-05 -5.07483614e-05\n",
      "  -6.24478022e-06 -4.22745349e-07 -1.79061546e-08]\n",
      " [ 1.15366649e+07 -1.01514824e+07  1.66506628e+08 -2.56180686e+05\n",
      "  -4.95987165e+05  3.38788558e+02  1.07275824e+05  4.08384385e+04\n",
      "   1.89265411e+04 -6.58894695e-01 -2.09340623e-01 -1.87563987e-02\n",
      "  -1.14150950e-03 -7.32448438e-05 -4.36630512e-06]\n",
      " [ 4.38314654e+06 -3.85874115e+06  6.33279979e+07 -9.75544080e+04\n",
      "  -1.87330093e+05  1.29723794e+02  4.08384385e+04  1.55741777e+04\n",
      "   7.22159966e+03 -3.36735194e-01 -1.86582140e-01 -9.69358739e-03\n",
      "   7.59211423e-05  4.24962733e-05  4.59088132e-06]\n",
      " [ 2.02755725e+06 -1.78528737e+06  2.93148876e+07 -4.52344170e+04\n",
      "  -8.57249066e+04  6.08802444e+01  1.89265411e+04  7.22159966e+03\n",
      "   3.35445915e+03 -1.70130373e-01 -7.39455462e-02 -4.72755535e-03\n",
      "  -1.79464536e-05  1.51502396e-05  1.77802053e-06]\n",
      " [-2.55153725e+01  2.22832804e+01 -3.72652879e+02  4.61767918e-01\n",
      "   3.30503390e+00  1.87448543e-03 -6.58894695e-01 -3.36735194e-01\n",
      "  -1.70130373e-01  3.13367034e+00  2.45156671e-05  1.91601239e-06\n",
      "   1.04973532e-07  6.47441322e-09  3.99992702e-10]\n",
      " [-4.34592626e+00  2.53970388e+00  1.07099386e+02  1.26136936e-01\n",
      "   4.68292466e-01  8.08327680e-05 -2.09340623e-01 -1.86582140e-01\n",
      "  -7.39455462e-02  2.45156671e-05  9.37816181e-01  8.10704506e-07\n",
      "   4.78965728e-08  3.02570764e-09  1.88284849e-10]\n",
      " [ 2.90029585e-01 -3.93155155e-01  3.30316460e+01  3.33960763e-03\n",
      "   7.98956200e-03 -5.07483613e-05 -1.87563987e-02 -9.69358738e-03\n",
      "  -4.72755534e-03  1.91601239e-06  8.10704506e-07  7.85422084e-02\n",
      "   5.39547264e-09  3.56765766e-10  2.28349138e-11]\n",
      " [ 7.07028184e-02 -7.14976381e-02  3.72020841e+00 -2.83214985e-04\n",
      "  -1.06966407e-03 -6.24478027e-06 -1.14150951e-03  7.59211351e-05\n",
      "  -1.79464568e-05  1.04973531e-07  4.78965728e-08  5.39547264e-09\n",
      "   4.69163970e-03  2.65477995e-11  1.74018876e-12]\n",
      " [ 7.21579025e-03 -6.98661520e-03  3.28150005e-01 -3.78005217e-05\n",
      "  -1.29060089e-04 -4.22745382e-07 -7.32448528e-05  4.24962698e-05\n",
      "   1.51502379e-05  6.47441320e-09  3.02570765e-09  3.56765767e-10\n",
      "   2.65477993e-11  2.86122939e-04  1.25096293e-13]\n",
      " [ 6.00540162e-04 -5.72718023e-04  2.55193386e-02 -3.31472600e-06\n",
      "  -1.19971706e-05 -1.79061836e-08 -4.36631464e-06  4.59087769e-06\n",
      "   1.77801886e-06  3.99992686e-10  1.88284833e-10  2.28349123e-11\n",
      "   1.74018884e-12  1.25096275e-13  1.65157893e-05]]\n",
      "01: [[ 1.24353416e+09 -1.09356331e+09  1.79201327e+10 -2.75012729e+07\n",
      "  -5.41913190e+07  3.58433913e+04  1.15225917e+07  4.37780210e+06\n",
      "   2.02519489e+06 -6.13245189e-01  1.57745089e-01  3.32939344e-02\n",
      "   3.59604400e-03  3.08643952e-04]\n",
      " [-1.09356331e+09  9.61818612e+08 -1.57639537e+10  2.42012871e+07\n",
      "   4.75720687e+07 -3.15973862e+04 -1.01390963e+07 -3.85403748e+06\n",
      "  -1.78320821e+06  3.26613584e-02 -1.89436567e-01 -3.34758645e-02\n",
      "  -3.43150177e-03 -2.87952604e-04]\n",
      " [ 1.79201327e+10 -1.57639537e+10  2.58438250e+11 -3.97035633e+08\n",
      "  -7.76575162e+08  5.20553207e+05  1.66305672e+08  6.32517017e+07\n",
      "   2.92811612e+07  3.52329267e+01  1.24101805e+01  1.77395797e+00\n",
      "   1.67696765e-01  1.33862961e-02]\n",
      " [-2.75012729e+07  2.42012871e+07 -3.97035633e+08  6.11192374e+05\n",
      "   1.17817329e+06 -8.11515526e+02 -2.55880125e+05 -9.74402560e+04\n",
      "  -4.51839579e+04 -1.08572743e-03 -2.99929414e-04 -5.75953796e-05\n",
      "  -7.23073762e-06 -6.84984286e-07]\n",
      " [-5.41913190e+07  4.75720687e+07 -7.76575162e+08  1.17817329e+06\n",
      "   2.51924432e+06 -1.41489931e+03 -4.95236975e+05 -1.87045134e+05\n",
      "  -8.55989332e+04  1.35703180e-01  7.13381558e-03 -2.67546135e-04\n",
      "  -6.68154481e-05 -7.48143873e-06]\n",
      " [ 3.58433913e+04 -3.15973862e+04  5.20553207e+05 -8.11515526e+02\n",
      "  -1.41489931e+03  1.17048721e+00  3.38512025e+02  1.29618896e+02\n",
      "   6.08338944e+01 -8.16416822e-05 -1.74272295e-05 -2.07593564e-06\n",
      "  -1.44422427e-07 -4.39846592e-09]\n",
      " [ 1.15225917e+07 -1.01390963e+07  1.66305672e+08 -2.55880125e+05\n",
      "  -4.95236975e+05  3.38512025e+02  1.07147681e+05  4.07897400e+04\n",
      "   1.89050121e+04 -3.29537087e-02 -5.84961054e-03 -6.00573153e-04\n",
      "  -4.52159066e-05 -2.91347472e-06]\n",
      " [ 4.37780210e+06 -3.85403748e+06  6.32517017e+07 -9.74402560e+04\n",
      "  -1.87045134e+05  1.29618896e+02  4.07897400e+04  1.55556531e+04\n",
      "   7.21341091e+03 -3.16020490e-02 -2.96373423e-03  2.70920448e-05\n",
      "   1.87843815e-05  2.15558372e-06]\n",
      " [ 2.02519489e+06 -1.78320821e+06  2.92811612e+07 -4.51839579e+04\n",
      "  -8.55989332e+04  6.08338944e+01  1.89050121e+04  7.21341091e+03\n",
      "   3.35083888e+03 -1.31890821e-02 -1.59832043e-03 -2.06852160e-05\n",
      "   6.68568943e-06  9.05906987e-07]\n",
      " [-6.13245189e-01  3.26613584e-02  3.52329267e+01 -1.08572743e-03\n",
      "   1.35703180e-01 -8.16416822e-05 -3.29537087e-02 -3.16020490e-02\n",
      "  -1.31890821e-02  1.90462570e-01  6.08479744e-07  3.05450094e-08\n",
      "   1.72691113e-09  9.77595315e-11]\n",
      " [ 1.57745089e-01 -1.89436567e-01  1.24101805e+01 -2.99929414e-04\n",
      "   7.13381558e-03 -1.74272295e-05 -5.84961054e-03 -2.96373423e-03\n",
      "  -1.59832043e-03  6.08479744e-07  2.45006530e-02  4.15505589e-09\n",
      "   2.54307293e-10  1.52363036e-11]\n",
      " [ 3.32939343e-02 -3.34758644e-02  1.77395797e+00 -5.75953778e-05\n",
      "  -2.67546134e-04 -2.07593564e-06 -6.00573154e-04  2.70920446e-05\n",
      "  -2.06852162e-05  3.05450095e-08  4.15505589e-09  1.95835737e-03\n",
      "   2.16303740e-11  1.37579274e-12]\n",
      " [ 3.59604366e-03 -3.43150146e-03  1.67696759e-01 -7.23072736e-06\n",
      "  -6.68154512e-05 -1.44422453e-07 -4.52159108e-05  1.87843796e-05\n",
      "   6.68568850e-06  1.72691111e-09  2.54307283e-10  2.16303733e-11\n",
      "   1.33384282e-04  1.03527286e-13]\n",
      " [ 3.08643891e-04 -2.87952555e-04  1.33862953e-02 -6.84983317e-07\n",
      "  -7.48143480e-06 -4.39846659e-09 -2.91347512e-06  2.15558362e-06\n",
      "   9.05906942e-07  9.77595381e-11  1.52363048e-11  1.37579267e-12\n",
      "   1.03527297e-13  8.13351485e-06]]\n",
      "02: [[ 1.24353416e+09 -1.09356332e+09  1.79201328e+10 -2.75012729e+07\n",
      "  -5.41913195e+07  3.58433915e+04  1.15225918e+07  4.37780219e+06\n",
      "   2.02519493e+06 -1.45784559e+00  1.88503747e-01  5.13440027e-02\n",
      "   5.75744357e-03  5.06168150e-04]\n",
      " [-1.09356332e+09  9.61818616e+08 -1.57639538e+10  2.42012872e+07\n",
      "   4.75720691e+07 -3.15973864e+04 -1.01390964e+07 -3.85403753e+06\n",
      "  -1.78320822e+06  5.91688936e-01 -2.45231087e-01 -5.14463923e-02\n",
      "  -5.52649931e-03 -4.78666266e-04]\n",
      " [ 1.79201328e+10 -1.57639538e+10  2.58438253e+11 -3.97035633e+08\n",
      "  -7.76575164e+08  5.20553204e+05  1.66305671e+08  6.32517018e+07\n",
      "   2.92811611e+07  2.96734549e+01  1.73652400e+01  2.68178030e+00\n",
      "   2.63040578e-01  2.15961164e-02]\n",
      " [-2.75012729e+07  2.42012872e+07 -3.97035633e+08  6.11192374e+05\n",
      "   1.17817330e+06 -8.11515527e+02 -2.55880125e+05 -9.74402563e+04\n",
      "  -4.51839580e+04  1.71645658e-03 -4.33180371e-04 -1.67762866e-04\n",
      "  -2.30940862e-05 -2.25774559e-06]\n",
      " [-5.41913195e+07  4.75720691e+07 -7.76575164e+08  1.17817330e+06\n",
      "   2.51924437e+06 -1.41489935e+03 -4.95236984e+05 -1.87045142e+05\n",
      "  -8.55989365e+04  2.13082981e-01  1.09157388e-02 -4.56115913e-04\n",
      "  -9.73337296e-05 -1.04421918e-05]\n",
      " [ 3.58433915e+04 -3.15973864e+04  5.20553204e+05 -8.11515527e+02\n",
      "  -1.41489935e+03  1.17048724e+00  3.38512033e+02  1.29618902e+02\n",
      "   6.08338970e+01 -1.30118434e-04 -3.22891469e-05 -4.15553881e-06\n",
      "  -3.10095808e-07 -1.31864949e-08]\n",
      " [ 1.15225918e+07 -1.01390964e+07  1.66305671e+08 -2.55880125e+05\n",
      "  -4.95236984e+05  3.38512033e+02  1.07147683e+05  4.07897415e+04\n",
      "   1.89050127e+04 -4.52636214e-02 -8.89905698e-03 -9.02647235e-04\n",
      "  -6.65121067e-05 -4.18735364e-06]\n",
      " [ 4.37780219e+06 -3.85403753e+06  6.32517018e+07 -9.74402563e+04\n",
      "  -1.87045142e+05  1.29618902e+02  4.07897415e+04  1.55556545e+04\n",
      "   7.21341149e+03 -4.39184289e-02 -4.58399560e-03  5.12256784e-05\n",
      "   3.24105565e-05  3.76632432e-06]\n",
      " [ 2.02519493e+06 -1.78320822e+06  2.92811611e+07 -4.51839580e+04\n",
      "  -8.55989365e+04  6.08338970e+01  1.89050127e+04  7.21341149e+03\n",
      "   3.35083911e+03 -1.79550041e-02 -2.42115281e-03 -2.46699071e-05\n",
      "   1.14742977e-05  1.50941721e-06]\n",
      " [-1.45784559e+00  5.91688936e-01  2.96734549e+01  1.71645658e-03\n",
      "   2.13082981e-01 -1.30118434e-04 -4.52636214e-02 -4.39184289e-02\n",
      "  -1.79550041e-02  3.10900638e-01  7.28684220e-07  4.04241997e-08\n",
      "   2.41447346e-09  1.42166323e-10]\n",
      " [ 1.88503746e-01 -2.45231087e-01  1.73652400e+01 -4.33180368e-04\n",
      "   1.09157388e-02 -3.22891469e-05 -8.89905698e-03 -4.58399560e-03\n",
      "  -2.42115281e-03  7.28684220e-07  4.15179628e-02  4.99154587e-09\n",
      "   3.23252923e-10  2.02362749e-11]\n",
      " [ 5.13440024e-02 -5.14463920e-02  2.68178030e+00 -1.67762859e-04\n",
      "  -4.56115906e-04 -4.15553882e-06 -9.02647238e-04  5.12256773e-05\n",
      "  -2.46699076e-05  4.04241998e-08  4.99154587e-09  3.32928165e-03\n",
      "   2.54693645e-11  1.65724694e-12]\n",
      " [ 5.75744272e-03 -5.52649855e-03  2.63040565e-01 -2.30940637e-05\n",
      "  -9.73337198e-05 -3.10095857e-07 -6.65121159e-05  3.24105527e-05\n",
      "   1.14742958e-05  2.41447338e-09  3.23252906e-10  2.54693633e-11\n",
      "   2.27261539e-04  1.21472043e-13]\n",
      " [ 5.06167535e-04 -4.78665728e-04  2.15961075e-02 -2.25773171e-06\n",
      "  -1.04421699e-05 -1.31865173e-08 -4.18735939e-06  3.76632217e-06\n",
      "   1.50941617e-06  1.42166316e-10  2.02362751e-11  1.65724662e-12\n",
      "   1.21472045e-13  1.39414900e-05]]\n"
     ]
    }
   ],
   "source": [
    "print '00:',Fij2_00\n",
    "print '01:',Fij2_01\n",
    "print '02:',Fij2_02\n"
   ]
  },
  {
   "cell_type": "code",
   "execution_count": null,
   "metadata": {},
   "outputs": [],
   "source": []
  },
  {
   "cell_type": "markdown",
   "metadata": {},
   "source": [
    "# Show the sigmas"
   ]
  },
  {
   "cell_type": "code",
   "execution_count": 43,
   "metadata": {},
   "outputs": [
    {
     "name": "stdout",
     "output_type": "stream",
     "text": [
      "kk ok\n",
      "TE ok\n",
      "kTE ok\n",
      "kg ok\n",
      "kgTE ok\n"
     ]
    }
   ],
   "source": [
    "# check sigmas\n",
    "def getSigmas(Fij):\n",
    "    #print np.diag(np.linalg.inv(Fij))\n",
    "    return np.sqrt(np.diag(np.linalg.inv(Fij)))\n",
    " \n",
    "sigmas_kk2 = getSigmas(Fij_kk2)\n",
    "sigmas_kk4 = getSigmas(Fij_kk4)\n",
    "print 'kk ok'\n",
    "\n",
    "sigmas_TE2 = getSigmas(FijTE2)\n",
    "sigmas_TE4 = getSigmas(FijTE4)\n",
    "print 'TE ok'\n",
    "    \n",
    "sigmas_kTE2 = getSigmas(Fij_kTE2)\n",
    "sigmas_kTE4 = getSigmas(Fij_kTE4)\n",
    "print 'kTE ok'\n",
    "\n",
    "sigmas_kg2_00 = getSigmas(Fij2_00)\n",
    "sigmas_kg2_01 = getSigmas(Fij2_01)\n",
    "sigmas_kg2_02 = getSigmas(Fij2_02)\n",
    "sigmas_kg4_00 = getSigmas(Fij4_00)\n",
    "sigmas_kg4_01 = getSigmas(Fij4_01)\n",
    "sigmas_kg4_02 = getSigmas(Fij4_02)\n",
    "print 'kg ok'\n",
    "\n",
    "sigmas_kgTE2_00 = getSigmas(Fij_kgTE2_00)\n",
    "sigmas_kgTE2_01 = getSigmas(Fij_kgTE2_01)\n",
    "sigmas_kgTE2_02 = getSigmas(Fij_kgTE2_02)\n",
    "sigmas_kgTE4_00 = getSigmas(Fij_kgTE4_00)\n",
    "sigmas_kgTE4_01 = getSigmas(Fij_kgTE4_01)\n",
    "sigmas_kgTE4_02 = getSigmas(Fij_kgTE4_02)\n",
    "print 'kgTE ok'\n"
   ]
  },
  {
   "cell_type": "code",
   "execution_count": null,
   "metadata": {},
   "outputs": [],
   "source": []
  },
  {
   "cell_type": "markdown",
   "metadata": {},
   "source": [
    "# kk, TE, kTE, kg"
   ]
  },
  {
   "cell_type": "code",
   "execution_count": 44,
   "metadata": {},
   "outputs": [
    {
     "name": "stdout",
     "output_type": "stream",
     "text": [
      "fsky = 1\n",
      "nonlinear P(k)\n",
      "kappa-only and kappa-TE\n",
      "+---------------+------------+-------------+---------------+\n",
      "|   Parameter   | sigmas_kk2 | sigmas_kTE2 | percent diff. |\n",
      "+---------------+------------+-------------+---------------+\n",
      "|     ombh2     |   0.0247   |   8.63e-06  |      -100     |\n",
      "|     omch2     |   0.0832   |   0.000392  |     -99.5     |\n",
      "| cosmomc_theta |  0.00133   |   1.69e-06  |     -99.9     |\n",
      "|    10^9 As    |    1.53    |    0.129    |     -91.6     |\n",
      "|       ns      |   0.379    |   0.00114   |     -99.7     |\n",
      "|      tau      |     450    |    0.0304   |      -100     |\n",
      "|      mnu      |    1.13    |    0.275    |     -75.6     |\n",
      "|       w       |    18.8    |    0.349    |     -98.1     |\n",
      "|       wa      |      49    |    0.679    |     -98.6     |\n",
      "+---------------+------------+-------------+---------------+\n",
      "TE-only and kappa-TE\n",
      "+---------------+------------+-------------+---------------+\n",
      "|   Parameter   | sigmas_TE2 | sigmas_kTE2 | percent diff. |\n",
      "+---------------+------------+-------------+---------------+\n",
      "|     ombh2     |  8.81e-06  |   8.63e-06  |     -2.08     |\n",
      "|     omch2     |  0.000396  |   0.000392  |      -1.1     |\n",
      "| cosmomc_theta |  8.68e-06  |   1.69e-06  |     -80.5     |\n",
      "|    10^9 As    |   0.592    |    0.129    |     -78.3     |\n",
      "|       ns      |  0.00143   |   0.00114   |     -20.3     |\n",
      "|      tau      |   0.126    |    0.0304   |     -75.8     |\n",
      "|      mnu      |   0.495    |    0.275    |     -44.4     |\n",
      "|       w       |    52.3    |    0.349    |     -99.3     |\n",
      "|       wa      |     135    |    0.679    |     -99.5     |\n",
      "+---------------+------------+-------------+---------------+\n",
      "kappa-only and kappa-galaxies, no k-limit\n",
      "+---------------+------------+---------------+---------------+\n",
      "|   Parameter   | sigmas_kk2 | sigmas_kg2_00 | percent diff. |\n",
      "+---------------+------------+---------------+---------------+\n",
      "|     ombh2     |   0.0247   |     0.0239    |     -3.31     |\n",
      "|     omch2     |   0.0832   |     0.0781    |      -6.1     |\n",
      "| cosmomc_theta |  0.00133   |    0.00132    |     -0.756    |\n",
      "|    10^9 As    |    1.53    |      1.39     |     -8.92     |\n",
      "|       ns      |   0.379    |     0.357     |     -5.72     |\n",
      "|      tau      |     450    |       384     |     -14.5     |\n",
      "|      mnu      |    1.13    |      1.02     |     -9.62     |\n",
      "|       w       |    18.8    |      13.2     |     -29.9     |\n",
      "|       wa      |      49    |      34.4     |     -29.7     |\n",
      "|      bin1     |       0    |     0.829     |       inf     |\n",
      "|      bin2     |       0    |      1.13     |       inf     |\n",
      "|      bin3     |       0    |      3.63     |       inf     |\n",
      "|      bin4     |       0    |      14.6     |       inf     |\n",
      "|      bin5     |       0    |      59.1     |       inf     |\n",
      "|      bin6     |       0    |       246     |       inf     |\n",
      "+---------------+------------+---------------+---------------+\n",
      "kappa-only and kappa-galaxies, k_max = 0.2\n",
      "+---------------+------------+---------------+---------------+\n",
      "|   Parameter   | sigmas_kk2 | sigmas_kg2_02 | percent diff. |\n",
      "+---------------+------------+---------------+---------------+\n",
      "|     ombh2     |   0.0247   |     0.0247    |    -0.0182    |\n",
      "|     omch2     |   0.0832   |     0.083     |     -0.259    |\n",
      "| cosmomc_theta |  0.00133   |    0.00132    |    -0.0156    |\n",
      "|    10^9 As    |    1.53    |      1.53     |     -0.119    |\n",
      "|       ns      |   0.379    |     0.376     |     -0.751    |\n",
      "|      tau      |     450    |       449     |     -0.154    |\n",
      "|      mnu      |    1.13    |      1.12     |     -0.204    |\n",
      "|       w       |    18.8    |      18.6     |     -0.987    |\n",
      "|       wa      |      49    |      48.4     |     -1.12     |\n",
      "|      bin2     |       0    |       1.9     |       inf     |\n",
      "|      bin3     |       0    |      4.99     |       inf     |\n",
      "|      bin4     |       0    |      17.4     |       inf     |\n",
      "|      bin5     |       0    |      66.3     |       inf     |\n",
      "|      bin6     |       0    |       268     |       inf     |\n",
      "+---------------+------------+---------------+---------------+\n",
      "kappa-only and kappa-galaxies, k_max = 0.1\n",
      "+---------------+------------+---------------+---------------+\n",
      "|   Parameter   | sigmas_kk2 | sigmas_kg2_01 | percent diff. |\n",
      "+---------------+------------+---------------+---------------+\n",
      "|     ombh2     |   0.0247   |     0.0247    |    -0.0079    |\n",
      "|     omch2     |   0.0832   |     0.0831    |     -0.11     |\n",
      "| cosmomc_theta |  0.00133   |    0.00132    |    -0.0063    |\n",
      "|    10^9 As    |    1.53    |      1.53     |    -0.0797    |\n",
      "|       ns      |   0.379    |     0.378     |     -0.33     |\n",
      "|      tau      |     450    |       449     |     -0.11     |\n",
      "|      mnu      |    1.13    |      1.13     |     -0.134    |\n",
      "|       w       |    18.8    |      18.7     |     -0.561    |\n",
      "|       wa      |      49    |      48.7     |     -0.62     |\n",
      "|      bin2     |       0    |      2.41     |       inf     |\n",
      "|      bin3     |       0    |      6.48     |       inf     |\n",
      "|      bin4     |       0    |      22.6     |       inf     |\n",
      "|      bin5     |       0    |      86.6     |       inf     |\n",
      "|      bin6     |       0    |       351     |       inf     |\n",
      "+---------------+------------+---------------+---------------+\n"
     ]
    },
    {
     "name": "stderr",
     "output_type": "stream",
     "text": [
      "/opt/local/Library/Frameworks/Python.framework/Versions/2.7/lib/python2.7/site-packages/ipykernel_launcher.py:32: RuntimeWarning: divide by zero encountered in double_scalars\n",
      "/opt/local/Library/Frameworks/Python.framework/Versions/2.7/lib/python2.7/site-packages/ipykernel_launcher.py:41: RuntimeWarning: divide by zero encountered in double_scalars\n",
      "/opt/local/Library/Frameworks/Python.framework/Versions/2.7/lib/python2.7/site-packages/ipykernel_launcher.py:50: RuntimeWarning: divide by zero encountered in double_scalars\n"
     ]
    }
   ],
   "source": [
    "from prettytable import PrettyTable\n",
    "\n",
    "print 'fsky = 1'\n",
    "print 'nonlinear P(k)'\n",
    "\n",
    "print 'kappa-only and kappa-TE'\n",
    "t = PrettyTable(['Parameter','sigmas_kk2','sigmas_kTE2','percent diff.'])\n",
    "for i,p in enumerate(paramList[:nCosParams]):\n",
    "    Zi = sigmas_kk2[i]\n",
    "    Bi = sigmas_kTE2[i]\n",
    "    diff = (Bi-Zi)/Zi *100\n",
    "    t.add_row([p,\"%5.3g\" % Zi,\"%5.3g\" % Bi, \"%5.3g\" % diff ] )\n",
    "print t\n",
    "\n",
    "print 'TE-only and kappa-TE'\n",
    "t = PrettyTable(['Parameter','sigmas_TE2','sigmas_kTE2','percent diff.'])\n",
    "for i,p in enumerate(paramList[:nCosParams]):\n",
    "    Zi = sigmas_TE2[i]\n",
    "    Bi = sigmas_kTE2[i]\n",
    "    diff = (Bi-Zi)/Zi *100\n",
    "    t.add_row([p,\"%5.3g\" % Zi,\"%5.3g\" % Bi, \"%5.3g\" % diff ] )\n",
    "print t\n",
    "\n",
    "# add extra zeros to kk\n",
    "sigmas_kk2 = np.append(sigmas_kk2,np.zeros(nBins))\n",
    "\n",
    "print 'kappa-only and kappa-galaxies, no k-limit'\n",
    "t = PrettyTable(['Parameter','sigmas_kk2','sigmas_kg2_00','percent diff.'])\n",
    "for i,p in enumerate(paramList):\n",
    "    Zi = sigmas_kk2[i]\n",
    "    Bi = sigmas_kg2_00[i]\n",
    "    diff = (Bi-Zi)/Zi *100\n",
    "    t.add_row([p,\"%5.3g\" % Zi,\"%5.3g\" % Bi, \"%5.3g\" % diff ] )\n",
    "print t\n",
    "\n",
    "print 'kappa-only and kappa-galaxies, k_max = {0}'.format(kmax2)\n",
    "t = PrettyTable(['Parameter','sigmas_kk2','sigmas_kg2_02','percent diff.'])\n",
    "for i,p in enumerate(paramList2_02):\n",
    "    Zi = sigmas_kk2[i]\n",
    "    Bi = sigmas_kg2_02[i]\n",
    "    diff = (Bi-Zi)/Zi *100\n",
    "    t.add_row([p,\"%5.3g\" % Zi,\"%5.3g\" % Bi, \"%5.3g\" % diff ] )\n",
    "print t\n",
    "\n",
    "print 'kappa-only and kappa-galaxies, k_max = {0}'.format(kmax1)\n",
    "t = PrettyTable(['Parameter','sigmas_kk2','sigmas_kg2_01','percent diff.'])\n",
    "for i,p in enumerate(paramList2_01):\n",
    "    Zi = sigmas_kk2[i]\n",
    "    Bi = sigmas_kg2_01[i]\n",
    "    diff = (Bi-Zi)/Zi *100\n",
    "    t.add_row([p,\"%5.3g\" % Zi,\"%5.3g\" % Bi, \"%5.3g\" % diff ] )\n",
    "print t\n"
   ]
  },
  {
   "cell_type": "code",
   "execution_count": null,
   "metadata": {},
   "outputs": [],
   "source": []
  },
  {
   "cell_type": "code",
   "execution_count": null,
   "metadata": {},
   "outputs": [],
   "source": []
  },
  {
   "cell_type": "code",
   "execution_count": 45,
   "metadata": {},
   "outputs": [
    {
     "data": {
      "text/plain": [
       "'\\nprint \\'fsky = 1\\'\\nprint \\'linear P(k)\\'\\n\\nprint \\'kappa-only and kappa-TE\\'\\nt = PrettyTable([\\'Parameter\\',\\'sigmas_kk4\\',\\'sigmas_kTE4\\',\\'percent diff.\\'])\\nfor i,p in enumerate(paramList[:nCosParams]):\\n    Zi = sigmas_kk4[i]\\n    Bi = sigmas_kTE4[i]\\n    diff = (Bi-Zi)/Zi *100\\n    t.add_row([p,\"%5.3g\" % Zi,\"%5.3g\" % Bi, \"%5.3g\" % diff ] )\\nprint t\\n\\nprint \\'TE-only and kappa-TE\\'\\nt = PrettyTable([\\'Parameter\\',\\'sigmas_TE4\\',\\'sigmas_kTE4\\',\\'percent diff.\\'])\\nfor i,p in enumerate(paramList[:nCosParams]):\\n    Zi = sigmas_TE4[i]\\n    Bi = sigmas_kTE4[i]\\n    diff = (Bi-Zi)/Zi *100\\n    t.add_row([p,\"%5.3g\" % Zi,\"%5.3g\" % Bi, \"%5.3g\" % diff ] )\\nprint t\\n\\n# add extra zeros to kk\\nsigmas_kk4 = np.append(sigmas_kk4,np.zeros(nBins))\\n\\nprint \\'kappa-only and kappa-galaxies, no k-limit\\'\\nt = PrettyTable([\\'Parameter\\',\\'sigmas_kk4\\',\\'sigmas_kg4_00\\',\\'percent diff.\\'])\\nfor i,p in enumerate(paramList):\\n    Zi = sigmas_kk4[i]\\n    Bi = sigmas_kg4_00[i]\\n    diff = (Bi-Zi)/Zi *100\\n    t.add_row([p,\"%5.3g\" % Zi,\"%5.3g\" % Bi, \"%5.3g\" % diff ] )\\nprint t\\n\\nprint \\'kappa-only and kappa-galaxies, k_max = {0}\\'.format(kmax1)\\nt = PrettyTable([\\'Parameter\\',\\'sigmas_kk4\\',\\'sigmas_kg4_02\\',\\'percent diff.\\'])\\nfor i,p in enumerate(paramList4_02):\\n    Zi = sigmas_kk4[i]\\n    Bi = sigmas_kg4_02[i]\\n    diff = (Bi-Zi)/Zi *100\\n    t.add_row([p,\"%5.3g\" % Zi,\"%5.3g\" % Bi, \"%5.3g\" % diff ] )\\nprint t\\n\\nprint \\'kappa-only and kappa-galaxies, k_max = {0}\\'.format(kmax1)\\nt = PrettyTable([\\'Parameter\\',\\'sigmas_kk4\\',\\'sigmas_kg4_01\\',\\'percent diff.\\'])\\nfor i,p in enumerate(paramList4_01):\\n    Zi = sigmas_kk4[i]\\n    Bi = sigmas_kg4_01[i]\\n    diff = (Bi-Zi)/Zi *100\\n    t.add_row([p,\"%5.3g\" % Zi,\"%5.3g\" % Bi, \"%5.3g\" % diff ] )\\nprint t\\n'"
      ]
     },
     "execution_count": 45,
     "metadata": {},
     "output_type": "execute_result"
    }
   ],
   "source": [
    "from prettytable import PrettyTable\n",
    "\"\"\"\n",
    "print 'fsky = 1'\n",
    "print 'linear P(k)'\n",
    "\n",
    "print 'kappa-only and kappa-TE'\n",
    "t = PrettyTable(['Parameter','sigmas_kk4','sigmas_kTE4','percent diff.'])\n",
    "for i,p in enumerate(paramList[:nCosParams]):\n",
    "    Zi = sigmas_kk4[i]\n",
    "    Bi = sigmas_kTE4[i]\n",
    "    diff = (Bi-Zi)/Zi *100\n",
    "    t.add_row([p,\"%5.3g\" % Zi,\"%5.3g\" % Bi, \"%5.3g\" % diff ] )\n",
    "print t\n",
    "\n",
    "print 'TE-only and kappa-TE'\n",
    "t = PrettyTable(['Parameter','sigmas_TE4','sigmas_kTE4','percent diff.'])\n",
    "for i,p in enumerate(paramList[:nCosParams]):\n",
    "    Zi = sigmas_TE4[i]\n",
    "    Bi = sigmas_kTE4[i]\n",
    "    diff = (Bi-Zi)/Zi *100\n",
    "    t.add_row([p,\"%5.3g\" % Zi,\"%5.3g\" % Bi, \"%5.3g\" % diff ] )\n",
    "print t\n",
    "\n",
    "# add extra zeros to kk\n",
    "sigmas_kk4 = np.append(sigmas_kk4,np.zeros(nBins))\n",
    "\n",
    "print 'kappa-only and kappa-galaxies, no k-limit'\n",
    "t = PrettyTable(['Parameter','sigmas_kk4','sigmas_kg4_00','percent diff.'])\n",
    "for i,p in enumerate(paramList):\n",
    "    Zi = sigmas_kk4[i]\n",
    "    Bi = sigmas_kg4_00[i]\n",
    "    diff = (Bi-Zi)/Zi *100\n",
    "    t.add_row([p,\"%5.3g\" % Zi,\"%5.3g\" % Bi, \"%5.3g\" % diff ] )\n",
    "print t\n",
    "\n",
    "print 'kappa-only and kappa-galaxies, k_max = {0}'.format(kmax1)\n",
    "t = PrettyTable(['Parameter','sigmas_kk4','sigmas_kg4_02','percent diff.'])\n",
    "for i,p in enumerate(paramList4_02):\n",
    "    Zi = sigmas_kk4[i]\n",
    "    Bi = sigmas_kg4_02[i]\n",
    "    diff = (Bi-Zi)/Zi *100\n",
    "    t.add_row([p,\"%5.3g\" % Zi,\"%5.3g\" % Bi, \"%5.3g\" % diff ] )\n",
    "print t\n",
    "\n",
    "print 'kappa-only and kappa-galaxies, k_max = {0}'.format(kmax1)\n",
    "t = PrettyTable(['Parameter','sigmas_kk4','sigmas_kg4_01','percent diff.'])\n",
    "for i,p in enumerate(paramList4_01):\n",
    "    Zi = sigmas_kk4[i]\n",
    "    Bi = sigmas_kg4_01[i]\n",
    "    diff = (Bi-Zi)/Zi *100\n",
    "    t.add_row([p,\"%5.3g\" % Zi,\"%5.3g\" % Bi, \"%5.3g\" % diff ] )\n",
    "print t\n",
    "\"\"\"\n"
   ]
  },
  {
   "cell_type": "code",
   "execution_count": null,
   "metadata": {},
   "outputs": [],
   "source": []
  },
  {
   "cell_type": "code",
   "execution_count": null,
   "metadata": {},
   "outputs": [],
   "source": []
  },
  {
   "cell_type": "code",
   "execution_count": null,
   "metadata": {},
   "outputs": [],
   "source": []
  },
  {
   "cell_type": "code",
   "execution_count": null,
   "metadata": {},
   "outputs": [],
   "source": []
  },
  {
   "cell_type": "code",
   "execution_count": null,
   "metadata": {},
   "outputs": [],
   "source": []
  },
  {
   "cell_type": "markdown",
   "metadata": {},
   "source": [
    "# kTE, kgTE"
   ]
  },
  {
   "cell_type": "code",
   "execution_count": 46,
   "metadata": {},
   "outputs": [
    {
     "name": "stdout",
     "output_type": "stream",
     "text": [
      "fsky = 1\n",
      "nonlinear P(k)\n",
      "kappa-TE and kg-TE; no k-limit\n",
      "+---------------+-------------+-----------------+---------------+\n",
      "|   Parameter   | sigmas_kTE2 | sigmas_kgTE2_00 | percent diff. |\n",
      "+---------------+-------------+-----------------+---------------+\n",
      "|     ombh2     |   8.63e-06  |     8.63e-06    |    -0.0033    |\n",
      "|     omch2     |   0.000392  |     0.000392    |   -0.000567   |\n",
      "| cosmomc_theta |   1.69e-06  |     1.69e-06    |    -0.0681    |\n",
      "|    10^9 As    |    0.129    |      0.129      |    -0.0816    |\n",
      "|       ns      |   0.00114   |     0.00114     |    -0.00781   |\n",
      "|      tau      |    0.0304   |      0.0304     |     -0.081    |\n",
      "|      mnu      |    0.275    |      0.275      |    -0.0705    |\n",
      "|       w       |    0.349    |      0.348      |    -0.0411    |\n",
      "|       wa      |    0.679    |      0.678      |    -0.0518    |\n",
      "|      bin2     |        0    |      0.567      |       inf     |\n",
      "|      bin3     |        0    |       1.03      |       inf     |\n",
      "|      bin4     |        0    |       3.57      |       inf     |\n",
      "|      bin5     |        0    |       14.6      |       inf     |\n",
      "|      bin6     |        0    |       59.1      |       inf     |\n",
      "+---------------+-------------+-----------------+---------------+\n",
      "kappa-TE and kg-TE; k_max = 0.2\n",
      "+---------------+-------------+-----------------+---------------+\n",
      "|   Parameter   | sigmas_kTE2 | sigmas_kgTE2_02 | percent diff. |\n",
      "+---------------+-------------+-----------------+---------------+\n",
      "|     ombh2     |   8.63e-06  |     8.63e-06    |   -0.000225   |\n",
      "|     omch2     |   0.000392  |     0.000392    |   -4.84e-05   |\n",
      "| cosmomc_theta |   1.69e-06  |     1.69e-06    |    -0.00471   |\n",
      "|    10^9 As    |    0.129    |      0.129      |    -0.00641   |\n",
      "|       ns      |   0.00114   |     0.00114     |   -0.000454   |\n",
      "|      tau      |    0.0304   |      0.0304     |    -0.00638   |\n",
      "|      mnu      |    0.275    |      0.275      |    -0.00502   |\n",
      "|       w       |    0.349    |      0.349      |   -0.000249   |\n",
      "|       wa      |    0.679    |      0.679      |    -0.00291   |\n",
      "|      bin2     |        0    |       1.79      |       inf     |\n",
      "|      bin3     |        0    |       4.91      |       inf     |\n",
      "|      bin4     |        0    |       17.3      |       inf     |\n",
      "|      bin5     |        0    |       66.3      |       inf     |\n",
      "|      bin6     |        0    |        268      |       inf     |\n",
      "+---------------+-------------+-----------------+---------------+\n",
      "kappa-TE and kg-TE; k_max = 0.1\n",
      "+---------------+-------------+-----------------+---------------+\n",
      "|   Parameter   | sigmas_kTE2 | sigmas_kgTE2_01 | percent diff. |\n",
      "+---------------+-------------+-----------------+---------------+\n",
      "|     ombh2     |   8.63e-06  |     8.63e-06    |   -9.34e-05   |\n",
      "|     omch2     |   0.000392  |     0.000392    |   -2.52e-05   |\n",
      "| cosmomc_theta |   1.69e-06  |     1.69e-06    |    -0.00196   |\n",
      "|    10^9 As    |    0.129    |      0.129      |    -0.00285   |\n",
      "|       ns      |   0.00114   |     0.00114     |   -0.000189   |\n",
      "|      tau      |    0.0304   |      0.0304     |    -0.00284   |\n",
      "|      mnu      |    0.275    |      0.275      |    -0.00209   |\n",
      "|       w       |    0.349    |      0.349      |   -6.87e-05   |\n",
      "|       wa      |    0.679    |      0.679      |    -0.00118   |\n",
      "|      bin2     |        0    |       2.29      |       inf     |\n",
      "|      bin3     |        0    |       6.39      |       inf     |\n",
      "|      bin4     |        0    |       22.6      |       inf     |\n",
      "|      bin5     |        0    |       86.6      |       inf     |\n",
      "|      bin6     |        0    |        351      |       inf     |\n",
      "+---------------+-------------+-----------------+---------------+\n"
     ]
    },
    {
     "name": "stderr",
     "output_type": "stream",
     "text": [
      "/opt/local/Library/Frameworks/Python.framework/Versions/2.7/lib/python2.7/site-packages/ipykernel_launcher.py:14: RuntimeWarning: divide by zero encountered in double_scalars\n",
      "  \n",
      "/opt/local/Library/Frameworks/Python.framework/Versions/2.7/lib/python2.7/site-packages/ipykernel_launcher.py:23: RuntimeWarning: divide by zero encountered in double_scalars\n",
      "/opt/local/Library/Frameworks/Python.framework/Versions/2.7/lib/python2.7/site-packages/ipykernel_launcher.py:32: RuntimeWarning: divide by zero encountered in double_scalars\n"
     ]
    }
   ],
   "source": [
    "from prettytable import PrettyTable\n",
    "\n",
    "print 'fsky = 1'\n",
    "print 'nonlinear P(k)'\n",
    "\n",
    "# add extra zeros to kTE\n",
    "sigmas_kTE2 = np.append(sigmas_kTE2,np.zeros(nBins))\n",
    "\n",
    "print 'kappa-TE and kg-TE; no k-limit'\n",
    "t = PrettyTable(['Parameter','sigmas_kTE2','sigmas_kgTE2_00','percent diff.'])\n",
    "for i,p in enumerate(paramList2_01):\n",
    "    Zi = sigmas_kTE2[i]\n",
    "    Bi = sigmas_kgTE2_00[i]\n",
    "    diff = (Bi-Zi)/Zi *100\n",
    "    t.add_row([p,\"%5.3g\" % Zi,\"%5.3g\" % Bi, \"%5.3g\" % diff ] )\n",
    "print t\n",
    "\n",
    "print 'kappa-TE and kg-TE; k_max = {0}'.format(kmax2)\n",
    "t = PrettyTable(['Parameter','sigmas_kTE2','sigmas_kgTE2_02','percent diff.'])\n",
    "for i,p in enumerate(paramList2_02):\n",
    "    Zi = sigmas_kTE2[i]\n",
    "    Bi = sigmas_kgTE2_02[i]\n",
    "    diff = (Bi-Zi)/Zi *100\n",
    "    t.add_row([p,\"%5.3g\" % Zi,\"%5.3g\" % Bi, \"%5.3g\" % diff ] )\n",
    "print t\n",
    "\n",
    "print 'kappa-TE and kg-TE; k_max = {0}'.format(kmax1)\n",
    "t = PrettyTable(['Parameter','sigmas_kTE2','sigmas_kgTE2_01','percent diff.'])\n",
    "for i,p in enumerate(paramList2_01):\n",
    "    Zi = sigmas_kTE2[i]\n",
    "    Bi = sigmas_kgTE2_01[i]\n",
    "    diff = (Bi-Zi)/Zi *100\n",
    "    t.add_row([p,\"%5.3g\" % Zi,\"%5.3g\" % Bi, \"%5.3g\" % diff ] )\n",
    "print t\n",
    "\n"
   ]
  },
  {
   "cell_type": "code",
   "execution_count": null,
   "metadata": {},
   "outputs": [],
   "source": []
  },
  {
   "cell_type": "code",
   "execution_count": null,
   "metadata": {},
   "outputs": [],
   "source": []
  },
  {
   "cell_type": "code",
   "execution_count": null,
   "metadata": {},
   "outputs": [],
   "source": []
  },
  {
   "cell_type": "code",
   "execution_count": 47,
   "metadata": {},
   "outputs": [
    {
     "data": {
      "text/plain": [
       "'\\nprint \\'fsky = 1\\'\\nprint \\'linear P(k)\\'\\n\\n# add extra zeros to kTE\\nsigmas_kTE4 = np.append(sigmas_kTE4,np.zeros(nBins))\\n\\nprint \\'kappa-TE and kg-TE; no k-limit\\'\\nt = PrettyTable([\\'Parameter\\',\\'sigmas_kTE4\\',\\'sigmas_kgTE4_00\\',\\'percent diff.\\'])\\nfor i,p in enumerate(paramList4_01):\\n    Zi = sigmas_kTE4[i]\\n    Bi = sigmas_kgTE4_00[i]\\n    diff = (Bi-Zi)/Zi *100\\n    t.add_row([p,\"%5.3g\" % Zi,\"%5.3g\" % Bi, \"%5.3g\" % diff ] )\\nprint t\\n\\nprint \\'kappa-TE and kg-TE; k_max = {0}\\'.format(kmax2)\\nt = PrettyTable([\\'Parameter\\',\\'sigmas_kTE4\\',\\'sigmas_kgTE4_02\\',\\'percent diff.\\'])\\nfor i,p in enumerate(paramList4_02):\\n    Zi = sigmas_kTE4[i]\\n    Bi = sigmas_kgTE4_02[i]\\n    diff = (Bi-Zi)/Zi *100\\n    t.add_row([p,\"%5.3g\" % Zi,\"%5.3g\" % Bi, \"%5.3g\" % diff ] )\\nprint t\\n\\nprint \\'kappa-TE and kg-TE; k_max = {0}\\'.format(kmax1)\\nt = PrettyTable([\\'Parameter\\',\\'sigmas_kTE4\\',\\'sigmas_kgTE4_01\\',\\'percent diff.\\'])\\nfor i,p in enumerate(paramList4_01):\\n    Zi = sigmas_kTE4[i]\\n    Bi = sigmas_kgTE4_01[i]\\n    diff = (Bi-Zi)/Zi *100\\n    t.add_row([p,\"%5.3g\" % Zi,\"%5.3g\" % Bi, \"%5.3g\" % diff ] )\\nprint t\\n\\n'"
      ]
     },
     "execution_count": 47,
     "metadata": {},
     "output_type": "execute_result"
    }
   ],
   "source": [
    "from prettytable import PrettyTable\n",
    "\"\"\"\n",
    "print 'fsky = 1'\n",
    "print 'linear P(k)'\n",
    "\n",
    "# add extra zeros to kTE\n",
    "sigmas_kTE4 = np.append(sigmas_kTE4,np.zeros(nBins))\n",
    "\n",
    "print 'kappa-TE and kg-TE; no k-limit'\n",
    "t = PrettyTable(['Parameter','sigmas_kTE4','sigmas_kgTE4_00','percent diff.'])\n",
    "for i,p in enumerate(paramList4_01):\n",
    "    Zi = sigmas_kTE4[i]\n",
    "    Bi = sigmas_kgTE4_00[i]\n",
    "    diff = (Bi-Zi)/Zi *100\n",
    "    t.add_row([p,\"%5.3g\" % Zi,\"%5.3g\" % Bi, \"%5.3g\" % diff ] )\n",
    "print t\n",
    "\n",
    "print 'kappa-TE and kg-TE; k_max = {0}'.format(kmax2)\n",
    "t = PrettyTable(['Parameter','sigmas_kTE4','sigmas_kgTE4_02','percent diff.'])\n",
    "for i,p in enumerate(paramList4_02):\n",
    "    Zi = sigmas_kTE4[i]\n",
    "    Bi = sigmas_kgTE4_02[i]\n",
    "    diff = (Bi-Zi)/Zi *100\n",
    "    t.add_row([p,\"%5.3g\" % Zi,\"%5.3g\" % Bi, \"%5.3g\" % diff ] )\n",
    "print t\n",
    "\n",
    "print 'kappa-TE and kg-TE; k_max = {0}'.format(kmax1)\n",
    "t = PrettyTable(['Parameter','sigmas_kTE4','sigmas_kgTE4_01','percent diff.'])\n",
    "for i,p in enumerate(paramList4_01):\n",
    "    Zi = sigmas_kTE4[i]\n",
    "    Bi = sigmas_kgTE4_01[i]\n",
    "    diff = (Bi-Zi)/Zi *100\n",
    "    t.add_row([p,\"%5.3g\" % Zi,\"%5.3g\" % Bi, \"%5.3g\" % diff ] )\n",
    "print t\n",
    "\n",
    "\"\"\""
   ]
  },
  {
   "cell_type": "code",
   "execution_count": null,
   "metadata": {},
   "outputs": [],
   "source": []
  },
  {
   "cell_type": "code",
   "execution_count": null,
   "metadata": {},
   "outputs": [],
   "source": []
  },
  {
   "cell_type": "code",
   "execution_count": null,
   "metadata": {},
   "outputs": [],
   "source": []
  },
  {
   "cell_type": "markdown",
   "metadata": {},
   "source": [
    "# TE, kg, kgTE"
   ]
  },
  {
   "cell_type": "code",
   "execution_count": 48,
   "metadata": {
    "scrolled": false
   },
   "outputs": [
    {
     "name": "stdout",
     "output_type": "stream",
     "text": [
      "fsky = 1\n",
      "nonlinear P(k)\n",
      "kg and kgTE, no k-limit\n",
      "+---------------+---------------+-----------------+---------------+\n",
      "|   Parameter   | sigmas_kg2_00 | sigmas_kgTE2_00 | percent diff. |\n",
      "+---------------+---------------+-----------------+---------------+\n",
      "|     ombh2     |     0.0239    |     8.63e-06    |      -100     |\n",
      "|     omch2     |     0.0781    |     0.000392    |     -99.5     |\n",
      "| cosmomc_theta |    0.00132    |     1.69e-06    |     -99.9     |\n",
      "|    10^9 As    |      1.39     |      0.129      |     -90.8     |\n",
      "|       ns      |     0.357     |     0.00114     |     -99.7     |\n",
      "|      tau      |       384     |      0.0304     |      -100     |\n",
      "|      mnu      |      1.02     |      0.275      |       -73     |\n",
      "|       w       |      13.2     |      0.348      |     -97.4     |\n",
      "|       wa      |      34.4     |      0.678      |       -98     |\n",
      "|      bin1     |     0.829     |      0.567      |     -31.6     |\n",
      "|      bin2     |      1.13     |       1.03      |     -8.39     |\n",
      "|      bin3     |      3.63     |       3.57      |     -1.74     |\n",
      "|      bin4     |      14.6     |       14.6      |     -0.125    |\n",
      "|      bin5     |      59.1     |       59.1      |    -0.00897   |\n",
      "|      bin6     |       246     |        246      |   -0.000734   |\n",
      "+---------------+---------------+-----------------+---------------+\n",
      "kg and kgTE, k_max = 0.2\n",
      "+---------------+---------------+-----------------+---------------+\n",
      "|   Parameter   | sigmas_kg2_02 | sigmas_kgTE2_02 | percent diff. |\n",
      "+---------------+---------------+-----------------+---------------+\n",
      "|     ombh2     |     0.0247    |     8.63e-06    |      -100     |\n",
      "|     omch2     |     0.083     |     0.000392    |     -99.5     |\n",
      "| cosmomc_theta |    0.00132    |     1.69e-06    |     -99.9     |\n",
      "|    10^9 As    |      1.53     |      0.129      |     -91.6     |\n",
      "|       ns      |     0.376     |     0.00114     |     -99.7     |\n",
      "|      tau      |       449     |      0.0304     |      -100     |\n",
      "|      mnu      |      1.12     |      0.275      |     -75.5     |\n",
      "|       w       |      18.6     |      0.349      |     -98.1     |\n",
      "|       wa      |      48.4     |      0.679      |     -98.6     |\n",
      "|      bin2     |       1.9     |       1.79      |     -5.38     |\n",
      "|      bin3     |      4.99     |       4.91      |     -1.66     |\n",
      "|      bin4     |      17.4     |       17.3      |     -0.115    |\n",
      "|      bin5     |      66.3     |       66.3      |    -0.0071    |\n",
      "|      bin6     |       268     |        268      |   -0.000651   |\n",
      "+---------------+---------------+-----------------+---------------+\n",
      "kg and kgTE, k_max = 0.1\n",
      "+---------------+---------------+-----------------+---------------+\n",
      "|   Parameter   | sigmas_kg2_01 | sigmas_kgTE2_01 | percent diff. |\n",
      "+---------------+---------------+-----------------+---------------+\n",
      "|     ombh2     |     0.0247    |     8.63e-06    |      -100     |\n",
      "|     omch2     |     0.0831    |     0.000392    |     -99.5     |\n",
      "| cosmomc_theta |    0.00132    |     1.69e-06    |     -99.9     |\n",
      "|    10^9 As    |      1.53     |      0.129      |     -91.6     |\n",
      "|       ns      |     0.378     |     0.00114     |     -99.7     |\n",
      "|      tau      |       449     |      0.0304     |      -100     |\n",
      "|      mnu      |      1.13     |      0.275      |     -75.5     |\n",
      "|       w       |      18.7     |      0.349      |     -98.1     |\n",
      "|       wa      |      48.7     |      0.679      |     -98.6     |\n",
      "|      bin2     |      2.41     |       2.29      |     -4.69     |\n",
      "|      bin3     |      6.48     |       6.39      |     -1.39     |\n",
      "|      bin4     |      22.6     |       22.6      |     -0.089    |\n",
      "|      bin5     |      86.6     |       86.6      |    -0.00443   |\n",
      "|      bin6     |       351     |        351      |    -0.00049   |\n",
      "+---------------+---------------+-----------------+---------------+\n",
      "TE and kgTE, no k-limit\n",
      "+---------------+------------+-----------------+---------------+\n",
      "|   Parameter   | sigmas_TE2 | sigmas_kgTE2_00 | percent diff. |\n",
      "+---------------+------------+-----------------+---------------+\n",
      "|     ombh2     |  8.81e-06  |     8.63e-06    |     -2.09     |\n",
      "|     omch2     |  0.000396  |     0.000392    |      -1.1     |\n",
      "| cosmomc_theta |  8.68e-06  |     1.69e-06    |     -80.5     |\n",
      "|    10^9 As    |   0.592    |      0.129      |     -78.3     |\n",
      "|       ns      |  0.00143   |     0.00114     |     -20.3     |\n",
      "|      tau      |   0.126    |      0.0304     |     -75.8     |\n",
      "|      mnu      |   0.495    |      0.275      |     -44.5     |\n",
      "|       w       |    52.3    |      0.348      |     -99.3     |\n",
      "|       wa      |     135    |      0.678      |     -99.5     |\n",
      "|      bin1     |       0    |      0.567      |       inf     |\n",
      "|      bin2     |       0    |       1.03      |       inf     |\n",
      "|      bin3     |       0    |       3.57      |       inf     |\n",
      "|      bin4     |       0    |       14.6      |       inf     |\n",
      "|      bin5     |       0    |       59.1      |       inf     |\n",
      "|      bin6     |       0    |        246      |       inf     |\n",
      "+---------------+------------+-----------------+---------------+\n",
      "TE and kgTE, k_max = 0.2\n",
      "+---------------+------------+-----------------+---------------+\n",
      "|   Parameter   | sigmas_TE2 | sigmas_kgTE2_02 | percent diff. |\n",
      "+---------------+------------+-----------------+---------------+\n",
      "|     ombh2     |  8.81e-06  |     8.63e-06    |     -2.08     |\n",
      "|     omch2     |  0.000396  |     0.000392    |      -1.1     |\n",
      "| cosmomc_theta |  8.68e-06  |     1.69e-06    |     -80.5     |\n",
      "|    10^9 As    |   0.592    |      0.129      |     -78.3     |\n",
      "|       ns      |  0.00143   |     0.00114     |     -20.3     |\n",
      "|      tau      |   0.126    |      0.0304     |     -75.8     |\n",
      "|      mnu      |   0.495    |      0.275      |     -44.4     |\n",
      "|       w       |    52.3    |      0.349      |     -99.3     |\n",
      "|       wa      |     135    |      0.679      |     -99.5     |\n",
      "|      bin2     |       0    |       1.79      |       inf     |\n",
      "|      bin3     |       0    |       4.91      |       inf     |\n",
      "|      bin4     |       0    |       17.3      |       inf     |\n",
      "|      bin5     |       0    |       66.3      |       inf     |\n",
      "|      bin6     |       0    |        268      |       inf     |\n",
      "+---------------+------------+-----------------+---------------+\n",
      "TE and kgTE, k_max = 0.1\n",
      "+---------------+------------+-----------------+---------------+\n",
      "|   Parameter   | sigmas_TE2 | sigmas_kgTE2_01 | percent diff. |\n",
      "+---------------+------------+-----------------+---------------+\n",
      "|     ombh2     |  8.81e-06  |     8.63e-06    |     -2.08     |\n",
      "|     omch2     |  0.000396  |     0.000392    |      -1.1     |\n",
      "| cosmomc_theta |  8.68e-06  |     1.69e-06    |     -80.5     |\n",
      "|    10^9 As    |   0.592    |      0.129      |     -78.3     |\n",
      "|       ns      |  0.00143   |     0.00114     |     -20.3     |\n",
      "|      tau      |   0.126    |      0.0304     |     -75.8     |\n",
      "|      mnu      |   0.495    |      0.275      |     -44.4     |\n",
      "|       w       |    52.3    |      0.349      |     -99.3     |\n",
      "|       wa      |     135    |      0.679      |     -99.5     |\n",
      "|      bin2     |       0    |       2.29      |       inf     |\n",
      "|      bin3     |       0    |       6.39      |       inf     |\n",
      "|      bin4     |       0    |       22.6      |       inf     |\n",
      "|      bin5     |       0    |       86.6      |       inf     |\n",
      "|      bin6     |       0    |        351      |       inf     |\n",
      "+---------------+------------+-----------------+---------------+\n"
     ]
    },
    {
     "name": "stderr",
     "output_type": "stream",
     "text": [
      "/opt/local/Library/Frameworks/Python.framework/Versions/2.7/lib/python2.7/site-packages/ipykernel_launcher.py:41: RuntimeWarning: divide by zero encountered in double_scalars\n",
      "/opt/local/Library/Frameworks/Python.framework/Versions/2.7/lib/python2.7/site-packages/ipykernel_launcher.py:50: RuntimeWarning: divide by zero encountered in double_scalars\n",
      "/opt/local/Library/Frameworks/Python.framework/Versions/2.7/lib/python2.7/site-packages/ipykernel_launcher.py:59: RuntimeWarning: divide by zero encountered in double_scalars\n"
     ]
    }
   ],
   "source": [
    "from prettytable import PrettyTable\n",
    "\n",
    "print 'fsky = 1'\n",
    "print 'nonlinear P(k)'\n",
    "\n",
    "print 'kg and kgTE, no k-limit'\n",
    "t = PrettyTable(['Parameter','sigmas_kg2_00','sigmas_kgTE2_00','percent diff.'])\n",
    "for i,p in enumerate(paramList):\n",
    "    Zi = sigmas_kg2_00[i]\n",
    "    Bi = sigmas_kgTE2_00[i]\n",
    "    diff = (Bi-Zi)/Zi *100\n",
    "    t.add_row([p,\"%5.3g\" % Zi,\"%5.3g\" % Bi, \"%5.3g\" % diff ] )\n",
    "print t\n",
    "\n",
    "print 'kg and kgTE, k_max = {0}'.format(kmax2)\n",
    "t = PrettyTable(['Parameter','sigmas_kg2_02','sigmas_kgTE2_02','percent diff.'])\n",
    "for i,p in enumerate(paramList2_02):\n",
    "    Zi = sigmas_kg2_02[i]\n",
    "    Bi = sigmas_kgTE2_02[i]\n",
    "    diff = (Bi-Zi)/Zi *100\n",
    "    t.add_row([p,\"%5.3g\" % Zi,\"%5.3g\" % Bi, \"%5.3g\" % diff ] )\n",
    "print t\n",
    "\n",
    "print 'kg and kgTE, k_max = {0}'.format(kmax1)\n",
    "t = PrettyTable(['Parameter','sigmas_kg2_01','sigmas_kgTE2_01','percent diff.'])\n",
    "for i,p in enumerate(paramList2_01):\n",
    "    Zi = sigmas_kg2_01[i]\n",
    "    Bi = sigmas_kgTE2_01[i]\n",
    "    diff = (Bi-Zi)/Zi *100\n",
    "    t.add_row([p,\"%5.3g\" % Zi,\"%5.3g\" % Bi, \"%5.3g\" % diff ] )\n",
    "print t\n",
    "\n",
    "# add extra zeros to kTE\n",
    "sigmas_TE2 = np.append(sigmas_TE2,np.zeros(nBins))\n",
    "\n",
    "print 'TE and kgTE, no k-limit'\n",
    "t = PrettyTable(['Parameter','sigmas_TE2','sigmas_kgTE2_00','percent diff.'])\n",
    "for i,p in enumerate(paramList):\n",
    "    Zi = sigmas_TE2[i]\n",
    "    Bi = sigmas_kgTE2_00[i]\n",
    "    diff = (Bi-Zi)/Zi *100\n",
    "    t.add_row([p,\"%5.3g\" % Zi,\"%5.3g\" % Bi, \"%5.3g\" % diff ] )\n",
    "print t\n",
    "\n",
    "print 'TE and kgTE, k_max = {0}'.format(kmax2)\n",
    "t = PrettyTable(['Parameter','sigmas_TE2','sigmas_kgTE2_02','percent diff.'])\n",
    "for i,p in enumerate(paramList2_02):\n",
    "    Zi = sigmas_TE2[i]\n",
    "    Bi = sigmas_kgTE2_02[i]\n",
    "    diff = (Bi-Zi)/Zi *100\n",
    "    t.add_row([p,\"%5.3g\" % Zi,\"%5.3g\" % Bi, \"%5.3g\" % diff ] )\n",
    "print t\n",
    "\n",
    "print 'TE and kgTE, k_max = {0}'.format(kmax1)\n",
    "t = PrettyTable(['Parameter','sigmas_TE2','sigmas_kgTE2_01','percent diff.'])\n",
    "for i,p in enumerate(paramList2_01):\n",
    "    Zi = sigmas_TE2[i]\n",
    "    Bi = sigmas_kgTE2_01[i]\n",
    "    diff = (Bi-Zi)/Zi *100\n",
    "    t.add_row([p,\"%5.3g\" % Zi,\"%5.3g\" % Bi, \"%5.3g\" % diff ] )\n",
    "print t\n",
    "\n",
    "\n"
   ]
  },
  {
   "cell_type": "code",
   "execution_count": null,
   "metadata": {},
   "outputs": [],
   "source": []
  },
  {
   "cell_type": "code",
   "execution_count": 49,
   "metadata": {
    "scrolled": false
   },
   "outputs": [
    {
     "data": {
      "text/plain": [
       "'\\nprint \\'fsky = 1\\'\\nprint \\'linear P(k)\\'\\n\\nprint \\'kg and kgTE, no k-limit\\'\\nt = PrettyTable([\\'Parameter\\',\\'sigmas_kg4_00\\',\\'sigmas_kgTE4_00\\',\\'percent diff.\\'])\\nfor i,p in enumerate(paramList):\\n    Zi = sigmas_kg4_00[i]\\n    Bi = sigmas_kgTE4_00[i]\\n    diff = (Bi-Zi)/Zi *100\\n    t.add_row([p,\"%5.3g\" % Zi,\"%5.3g\" % Bi, \"%5.3g\" % diff ] )\\nprint t\\n\\nprint \\'kg and kgTE, k_max = {0}\\'.format(kmax2)\\nt = PrettyTable([\\'Parameter\\',\\'sigmas_kg4_02\\',\\'sigmas_kgTE4_02\\',\\'percent diff.\\'])\\nfor i,p in enumerate(paramList4_02):\\n    Zi = sigmas_kg4_02[i]\\n    Bi = sigmas_kgTE4_02[i]\\n    diff = (Bi-Zi)/Zi *100\\n    t.add_row([p,\"%5.3g\" % Zi,\"%5.3g\" % Bi, \"%5.3g\" % diff ] )\\nprint t\\n\\nprint \\'kg and kgTE, k_max = {0}\\'.format(kmax1)\\nt = PrettyTable([\\'Parameter\\',\\'sigmas_kg4_01\\',\\'sigmas_kgTE4_01\\',\\'percent diff.\\'])\\nfor i,p in enumerate(paramList4_01):\\n    Zi = sigmas_kg4_01[i]\\n    Bi = sigmas_kgTE4_01[i]\\n    diff = (Bi-Zi)/Zi *100\\n    t.add_row([p,\"%5.3g\" % Zi,\"%5.3g\" % Bi, \"%5.3g\" % diff ] )\\nprint t\\n\\n# add extra zeros to kTE\\nsigmas_TE4 = np.append(sigmas_TE4,np.zeros(nBins))\\n\\nprint \\'TE and kgTE, no k-limit\\'\\nt = PrettyTable([\\'Parameter\\',\\'sigmas_TE4\\',\\'sigmas_kgTE4_00\\',\\'percent diff.\\'])\\nfor i,p in enumerate(paramList):\\n    Zi = sigmas_TE4[i]\\n    Bi = sigmas_kgTE4_00[i]\\n    diff = (Bi-Zi)/Zi *100\\n    t.add_row([p,\"%5.3g\" % Zi,\"%5.3g\" % Bi, \"%5.3g\" % diff ] )\\nprint t\\n\\nprint \\'TE and kgTE, k_max = {0}\\'.format(kmax2)\\nt = PrettyTable([\\'Parameter\\',\\'sigmas_TE4\\',\\'sigmas_kgTE4_02\\',\\'percent diff.\\'])\\nfor i,p in enumerate(paramList4_02):\\n    Zi = sigmas_TE4[i]\\n    Bi = sigmas_kgTE4_02[i]\\n    diff = (Bi-Zi)/Zi *100\\n    t.add_row([p,\"%5.3g\" % Zi,\"%5.3g\" % Bi, \"%5.3g\" % diff ] )\\nprint t\\n\\nprint \\'TE and kgTE, k_max = {0}\\'.format(kmax1)\\nt = PrettyTable([\\'Parameter\\',\\'sigmas_TE4\\',\\'sigmas_kgTE4_01\\',\\'percent diff.\\'])\\nfor i,p in enumerate(paramList2_01):\\n    Zi = sigmas_TE4[i]\\n    Bi = sigmas_kgTE4_01[i]\\n    diff = (Bi-Zi)/Zi *100\\n    t.add_row([p,\"%5.3g\" % Zi,\"%5.3g\" % Bi, \"%5.3g\" % diff ] )\\nprint t\\n\\n'"
      ]
     },
     "execution_count": 49,
     "metadata": {},
     "output_type": "execute_result"
    }
   ],
   "source": [
    "from prettytable import PrettyTable\n",
    "\"\"\"\n",
    "print 'fsky = 1'\n",
    "print 'linear P(k)'\n",
    "\n",
    "print 'kg and kgTE, no k-limit'\n",
    "t = PrettyTable(['Parameter','sigmas_kg4_00','sigmas_kgTE4_00','percent diff.'])\n",
    "for i,p in enumerate(paramList):\n",
    "    Zi = sigmas_kg4_00[i]\n",
    "    Bi = sigmas_kgTE4_00[i]\n",
    "    diff = (Bi-Zi)/Zi *100\n",
    "    t.add_row([p,\"%5.3g\" % Zi,\"%5.3g\" % Bi, \"%5.3g\" % diff ] )\n",
    "print t\n",
    "\n",
    "print 'kg and kgTE, k_max = {0}'.format(kmax2)\n",
    "t = PrettyTable(['Parameter','sigmas_kg4_02','sigmas_kgTE4_02','percent diff.'])\n",
    "for i,p in enumerate(paramList4_02):\n",
    "    Zi = sigmas_kg4_02[i]\n",
    "    Bi = sigmas_kgTE4_02[i]\n",
    "    diff = (Bi-Zi)/Zi *100\n",
    "    t.add_row([p,\"%5.3g\" % Zi,\"%5.3g\" % Bi, \"%5.3g\" % diff ] )\n",
    "print t\n",
    "\n",
    "print 'kg and kgTE, k_max = {0}'.format(kmax1)\n",
    "t = PrettyTable(['Parameter','sigmas_kg4_01','sigmas_kgTE4_01','percent diff.'])\n",
    "for i,p in enumerate(paramList4_01):\n",
    "    Zi = sigmas_kg4_01[i]\n",
    "    Bi = sigmas_kgTE4_01[i]\n",
    "    diff = (Bi-Zi)/Zi *100\n",
    "    t.add_row([p,\"%5.3g\" % Zi,\"%5.3g\" % Bi, \"%5.3g\" % diff ] )\n",
    "print t\n",
    "\n",
    "# add extra zeros to kTE\n",
    "sigmas_TE4 = np.append(sigmas_TE4,np.zeros(nBins))\n",
    "\n",
    "print 'TE and kgTE, no k-limit'\n",
    "t = PrettyTable(['Parameter','sigmas_TE4','sigmas_kgTE4_00','percent diff.'])\n",
    "for i,p in enumerate(paramList):\n",
    "    Zi = sigmas_TE4[i]\n",
    "    Bi = sigmas_kgTE4_00[i]\n",
    "    diff = (Bi-Zi)/Zi *100\n",
    "    t.add_row([p,\"%5.3g\" % Zi,\"%5.3g\" % Bi, \"%5.3g\" % diff ] )\n",
    "print t\n",
    "\n",
    "print 'TE and kgTE, k_max = {0}'.format(kmax2)\n",
    "t = PrettyTable(['Parameter','sigmas_TE4','sigmas_kgTE4_02','percent diff.'])\n",
    "for i,p in enumerate(paramList4_02):\n",
    "    Zi = sigmas_TE4[i]\n",
    "    Bi = sigmas_kgTE4_02[i]\n",
    "    diff = (Bi-Zi)/Zi *100\n",
    "    t.add_row([p,\"%5.3g\" % Zi,\"%5.3g\" % Bi, \"%5.3g\" % diff ] )\n",
    "print t\n",
    "\n",
    "print 'TE and kgTE, k_max = {0}'.format(kmax1)\n",
    "t = PrettyTable(['Parameter','sigmas_TE4','sigmas_kgTE4_01','percent diff.'])\n",
    "for i,p in enumerate(paramList2_01):\n",
    "    Zi = sigmas_TE4[i]\n",
    "    Bi = sigmas_kgTE4_01[i]\n",
    "    diff = (Bi-Zi)/Zi *100\n",
    "    t.add_row([p,\"%5.3g\" % Zi,\"%5.3g\" % Bi, \"%5.3g\" % diff ] )\n",
    "print t\n",
    "\n",
    "\"\"\"\n"
   ]
  },
  {
   "cell_type": "code",
   "execution_count": null,
   "metadata": {},
   "outputs": [],
   "source": []
  },
  {
   "cell_type": "markdown",
   "metadata": {},
   "source": [
    "# some figure of merit prep"
   ]
  },
  {
   "cell_type": "code",
   "execution_count": 50,
   "metadata": {},
   "outputs": [],
   "source": [
    "# define a few functions for calculating FoM\n",
    "\n",
    "# define function for getting ap (pivot a) for each matrix\n",
    "def getAp(FijInv,iw0=8,iwa=7):\n",
    "    dw0dwa = FijInv[iw0,iwa]\n",
    "    dwadwa = FijInv[iwa,iwa]\n",
    "    return 1+dw0dwa/dwadwa\n",
    "\n",
    "# define function for getting sigma^2(w_p) (variance of w_p)\n",
    "def getVarWp(FijInv,iw0=8,iwa=7):\n",
    "    dw0dw0 = FijInv[iw0,iw0]\n",
    "    dw0dwa = FijInv[iw0,iwa]\n",
    "    dwadwa = FijInv[iwa,iwa]\n",
    "    a_p = getAp(FijInv,iw0,iwa)\n",
    "    return dw0dw0 +2*(1-a_p)*dw0dwa +(1-a_p)**2*dwadwa\n",
    "\n",
    "# define function for getting value proportional to FoM\n",
    "def FoMprop(FijInv,iw0=8,iwa=7):\n",
    "    sigmaWp = np.sqrt(getVarWp(FijInv,iw0,iwa))\n",
    "    sigmaWa = np.sqrt(FijInv[iwa,iwa])\n",
    "    return 1/(sigmaWp*sigmaWa)\n"
   ]
  },
  {
   "cell_type": "code",
   "execution_count": null,
   "metadata": {},
   "outputs": [],
   "source": []
  },
  {
   "cell_type": "markdown",
   "metadata": {},
   "source": [
    "# plot $\\sigma(w_0), \\sigma(w_a)$ as functions of $k_{max}, z_{max}$"
   ]
  },
  {
   "cell_type": "code",
   "execution_count": 51,
   "metadata": {},
   "outputs": [
    {
     "data": {
      "text/plain": [
       "\"\\nprint 'starting nonlinear P(k), kmax = {0}...'.format(kmax1)\\ncovarBins2_01,dClVecsBins2_01,lmaxByBin2_01,preMaskBins2_01 = getKlimited(binEdges,chiOfZ2,Fobj2,kmax=kmax1)\\nprint 'starting nonlinear P(k), kmax = {0}...'.format(kmax2)\\ncovarBins2_02,dClVecsBins2_02,lmaxByBin2_02,preMaskBins2_02 = getKlimited(binEdges,chiOfZ2,Fobj2,kmax=kmax2)\\n\\nprint 'starting linear P(k), kmax = {0}...'.format(kmax1)\\ncovarBins4_01,dClVecsBins4_01,lmaxByBin4_01,preMaskBins4_01 = getKlimited(binEdges,chiOfZ4,Fobj4,kmax=kmax1)\\nprint 'starting linear P(k), kmax = {0}...'.format(kmax2)\\ncovarBins4_02,dClVecsBins4_02,lmaxByBin4_02,preMaskBins4_02 = getKlimited(binEdges,chiOfZ4,Fobj4,kmax=kmax2)\\n\""
      ]
     },
     "execution_count": 51,
     "metadata": {},
     "output_type": "execute_result"
    }
   ],
   "source": [
    "# this was executed earlier:\n",
    "\"\"\"\n",
    "print 'starting nonlinear P(k), kmax = {0}...'.format(kmax1)\n",
    "covarBins2_01,dClVecsBins2_01,lmaxByBin2_01,preMaskBins2_01 = getKlimited(binEdges,chiOfZ2,Fobj2,kmax=kmax1)\n",
    "print 'starting nonlinear P(k), kmax = {0}...'.format(kmax2)\n",
    "covarBins2_02,dClVecsBins2_02,lmaxByBin2_02,preMaskBins2_02 = getKlimited(binEdges,chiOfZ2,Fobj2,kmax=kmax2)\n",
    "\n",
    "print 'starting linear P(k), kmax = {0}...'.format(kmax1)\n",
    "covarBins4_01,dClVecsBins4_01,lmaxByBin4_01,preMaskBins4_01 = getKlimited(binEdges,chiOfZ4,Fobj4,kmax=kmax1)\n",
    "print 'starting linear P(k), kmax = {0}...'.format(kmax2)\n",
    "covarBins4_02,dClVecsBins4_02,lmaxByBin4_02,preMaskBins4_02 = getKlimited(binEdges,chiOfZ4,Fobj4,kmax=kmax2)\n",
    "\"\"\""
   ]
  },
  {
   "cell_type": "code",
   "execution_count": 52,
   "metadata": {},
   "outputs": [
    {
     "name": "stdout",
     "output_type": "stream",
     "text": [
      "2\n",
      "[0 2 3 4 5 6 2 2 2 2 2 3 3 3 3 4 4 4 5 5 6]\n",
      "3\n",
      "[0 3 4 5 6 3 3 3 3 4 4 4 5 5 6]\n",
      "4\n",
      "[0 4 5 6 4 4 4 5 5 6]\n",
      "5\n",
      "[0 5 6 5 5 6]\n",
      "6\n",
      "[0 6 6]\n",
      "99\n",
      "[0]\n"
     ]
    }
   ],
   "source": [
    "# compare preMaskBins to increasing binMax\n",
    "binMax = [2,3,4,5,6,99]\n",
    "for i,binNum in enumerate(binMax):\n",
    "    print binNum\n",
    "    print preMaskBins2_01[i]\n",
    "    #print preMaskBins2_02[i]\n",
    "# that last bin is kappa only"
   ]
  },
  {
   "cell_type": "code",
   "execution_count": null,
   "metadata": {},
   "outputs": [],
   "source": []
  },
  {
   "cell_type": "code",
   "execution_count": 53,
   "metadata": {},
   "outputs": [],
   "source": [
    "# need to get:\n",
    "# 2 piece from pmb[0]\n",
    "# 3 piece from pmb[1] with 2,3 piece from pmb[0]\n",
    "# 4 piece from pmb[2] with 4,3 piece from pmb[1] with 4,3,2 piece from pmb[0]\n",
    "# ...\n",
    "# 6 piece from pmb[4] with ... with 6,5,4,3,2 piece from pmb[0]\n",
    "\n",
    "# do this with nested loop?\n",
    "# loop1 over which block from pmb\n",
    "#    loop2 over current and lower pieces"
   ]
  },
  {
   "cell_type": "code",
   "execution_count": 54,
   "metadata": {
    "scrolled": true
   },
   "outputs": [],
   "source": [
    "# define function to find a set of kmax, zmax dependent constraints\n",
    "def getKZlimited(covarBins,dClVecsBins,preMaskBins,Fobj,lmaxByBin,FijTE):\n",
    "    \"\"\"\n",
    "    Purpose:\n",
    "    \n",
    "    Inputs:\n",
    "      covarBins,dClVecsBins,preMaskBins: outputs from run of getKlimited: lists of arrays\n",
    "      #Fij_kk: the kappa only piece for higher bins\n",
    "      Fobj\n",
    "      lMaxByBin: list containing lmax of each bin\n",
    "      FijTE: the TE part to add in at the end\n",
    "      nParams, nBins, paramList: like in FisherMatrix obj.\n",
    "    Returns:\n",
    "      list of arrays of sigmas, one list element for each of nBins-1 bins \n",
    "      (no bin1 because it's always cut off in current paradigm)\n",
    "      FoMPropBins: list of FoM proportionality factors\n",
    "      paramList (should be like input without bin1 param.)\n",
    "    \"\"\"\n",
    "    nParams = Fobj.nParams\n",
    "    nBins = Fobj.nBins\n",
    "    nCosParams = nParams-nBins\n",
    "    paramList = Fobj.paramList\n",
    "    print 'lmaxByBin: ',lmaxByBin\n",
    "    \n",
    "    # check for exceptional case\n",
    "    nBlocks = covarBins.__len__()\n",
    "    if nBlocks != nBins: # these are equal in the nominal case where lmax(kmax) is always below system lmax\n",
    "        print 'nBlocks = ',nBlocks,'nBins = ',nBins\n",
    "        print 'warning! check nBlocks and nBins!'\n",
    "        \n",
    "    # go through bins to show affect of increasing #bins/increasing redshift on param constraints\n",
    "    # this binNum1 will effectively be the binNumMax in creating Fij\n",
    "    # start from bin2 since that is the first place where there is a block to count\n",
    "    sigmaBins = np.zeros((nBins-1,nParams-1))  # the -1s since we lose 1 bin and 1 bin bias param\n",
    "    FoMPropBins = np.zeros(nBins-1)\n",
    "    for binNum1 in range(2,nBins+1):\n",
    "        #myFij = np.zeros([nParams,nParams])  # to add Fijs into\n",
    "        sbIndex = binNum1-2\n",
    "        preMask = preMaskBins[sbIndex]\n",
    "        print '\\nstarting bin number ',binNum1%(nBins+1),', with sigmaBins index = ',sbIndex, \\\n",
    "              ', pmb[{0}] = {1}'.format(binNum1-2,preMask)\n",
    "        \n",
    "        # get contribution from all blocks available for each bin\n",
    "        # count up to one less than binNum1\n",
    "        myDClVecsBins = []\n",
    "        myInvCovBins = []\n",
    "        for blockCounter in range(1,binNum1):\n",
    "            print '  starting block ',blockCounter\n",
    "            myBlockNum = binNum1-blockCounter-1 # to index input lists\n",
    "            myBinNums = binNum1 - np.arange(blockCounter)\n",
    "            myBinNums = np.append([0],myBinNums) # get kappa in there\n",
    "            print '  use {0} bin numbers from pmb[{1}]'.format(blockCounter+1,myBlockNum), \\\n",
    "                  ' with bin numbers {0}'.format(myBinNums%(nBins+1))\n",
    "        \n",
    "            # get Fij for each piece:\n",
    "            \n",
    "            # get the covar and dClVec and preMask to work with\n",
    "            myCovar = covarBins[myBlockNum].copy()\n",
    "            myDClVecs = dClVecsBins[myBlockNum].copy()\n",
    "            myPreMask = preMaskBins[myBlockNum].copy()\n",
    "            #print 'covar.shape: ',myCovar.shape\n",
    "            #print 'dClVecs.shape: ',myDClVecs.shape\n",
    "            #print 'preMask.shape: ',myPreMask.shape\n",
    "            \n",
    "\n",
    "            # get a list of bin numbers to remove from preMask, covar, dClVec\n",
    "            # remove all except myBinNums%(nBins+1)\n",
    "            toCut = np.setdiff1d(np.arange(nBins+1),myBinNums%(nBins+1))\n",
    "            print '  toCut: ',toCut\n",
    "            \n",
    "\n",
    "            # remove them using covarCut\n",
    "            for cutNum in toCut:\n",
    "                myCovar,myDClVecs,myPreMask = covarCut(myCovar,myDClVecs,myPreMask,cutNum,verbose=False)\n",
    "            print '  the cut preMask: ',myPreMask\n",
    "            #print '  the cut covar.shape: ',myCovar.shape\n",
    "            #print '  the cut dClVecs.shape: ',myDClVecs.shape\n",
    "            myDClVecsBins.append( myDClVecs )\n",
    "            myInvCovBins.append( np.transpose(np.linalg.inv(np.transpose(myCovar)) ) )\n",
    "            \n",
    "            \n",
    "        # add up the pieces into one Fisher Matrix    \n",
    "        myFij,myParamList = getFijSum(nParams,nBins,myDClVecsBins,myInvCovBins,paramList)    \n",
    "        print 'original myFij.shape: ',myFij.shape # bin1 bias already removed\n",
    "        \n",
    "        # trim rows,cols from unused bins\n",
    "        toTrim = nBins-binNum1\n",
    "        if toTrim > 0: # equal for bin6\n",
    "            myFij = myFij[:-toTrim,:-toTrim]\n",
    "        print 'trimmed myFij.shape: ',myFij.shape\n",
    "        \n",
    "        # add in TE\n",
    "        Fij_kgTE = myFij.copy()\n",
    "        Fij_kgTE[:nCosParams,:nCosParams] += FijTE\n",
    "        \n",
    "        # add in kappa-only for higher ell\n",
    "        print 'for clkk: lmin = ',lmaxByBin[binNum1-1],', lmax = ,',lmaxByBin[-1]\n",
    "        Fijkk = getFijkk(Fobj,myLmin=lmaxByBin[binNum1-1],lmax=lmaxByBin[-1],verbose=False)\n",
    "        print 'Fijkk.shape: ',Fijkk.shape\n",
    "        Fij_kgTE[:nCosParams,:nCosParams] += Fijkk\n",
    "        \n",
    "        # adjust As\n",
    "        AsIndex = 3\n",
    "        mult = 1e-9\n",
    "        Fij_kgTE = rowColMult(Fij_kgTE,AsIndex,mult)\n",
    "        \n",
    "        # get sigmas and append\n",
    "        sigmaBins[sbIndex][:Fij_kgTE.shape[0]] = getSigmas(Fij_kgTE)\n",
    "        # try with fixed biases\n",
    "        #sigmaBins[sbIndex][:nCosParams] = getSigmas(Fij_kgTE[:nCosParams,:nCosParams])\n",
    "        \n",
    "        \n",
    "        # get FoM prop and append\n",
    "        FijInv = np.linalg.inv(Fij_kgTE)\n",
    "        FoMPropBins[sbIndex] = FoMprop(FijInv,iw0=8,iwa=7)\n",
    "                                \n",
    "    \n",
    "    return sigmaBins,FoMPropBins,myParamList #the last paramList should be the biggest\n",
    "            \n",
    "# test it\n",
    "\n",
    "\n",
    "\n",
    "#print nParams, nBins, '\\n'\n",
    "#sigmaBins2_01,FoMPropBins2_01,paramList2_01 = getKZlimited(covarBins2_01,dClVecsBins2_01,preMaskBins2_01,Fobj2,\n",
    "#                                                           lmaxByBin2_01,FijTE2)\n",
    "#for i in range(nBins-1):\n",
    "#    print i,' : ',sigmaBins2_01[i]\n",
    "#print 'FoM prop: ',FoMPropBins2_01\n"
   ]
  },
  {
   "cell_type": "code",
   "execution_count": 55,
   "metadata": {
    "scrolled": true
   },
   "outputs": [
    {
     "name": "stdout",
     "output_type": "stream",
     "text": [
      "lmaxByBin:  [   2  194  339  531  650  733 2000]\n",
      "\n",
      "starting bin number  2 , with sigmaBins index =  0 , pmb[0] = [0 2 3 4 5 6 2 2 2 2 2 3 3 3 3 4 4 4 5 5 6]\n",
      "  starting block  1\n",
      "  use 2 bin numbers from pmb[0]  with bin numbers [0 2]\n",
      "  toCut:  [1 3 4 5 6]\n",
      "  the cut preMask:  [0 2 2 2 2 2 2]\n",
      "nBlocks:  1 , nBlocks2:  1\n",
      "['ombh2' 'omch2' 'cosmomc_theta' '10^9 As' 'ns' 'tau' 'mnu' 'w' 'wa'\n",
      " 'bin2' 'bin3' 'bin4' 'bin5' 'bin6']\n",
      "original myFij.shape:  (14, 14)\n",
      "trimmed myFij.shape:  (10, 10)\n",
      "for clkk: lmin =  194 , lmax = , 2000\n",
      "Fijkk.shape:  (9, 9)\n",
      "\n",
      "starting bin number  3 , with sigmaBins index =  1 , pmb[1] = [0 3 4 5 6 3 3 3 3 4 4 4 5 5 6]\n",
      "  starting block  1\n",
      "  use 2 bin numbers from pmb[1]  with bin numbers [0 3]\n",
      "  toCut:  [1 2 4 5 6]\n",
      "  the cut preMask:  [0 3 3 3 3 3]\n",
      "  starting block  2\n",
      "  use 3 bin numbers from pmb[0]  with bin numbers [0 3 2]\n",
      "  toCut:  [1 4 5 6]\n",
      "  the cut preMask:  [0 2 3 2 2 2 2 2 3 3 3 3]\n",
      "nBlocks:  2 , nBlocks2:  2\n",
      "['ombh2' 'omch2' 'cosmomc_theta' '10^9 As' 'ns' 'tau' 'mnu' 'w' 'wa'\n",
      " 'bin2' 'bin3' 'bin4' 'bin5' 'bin6']\n",
      "original myFij.shape:  (14, 14)\n",
      "trimmed myFij.shape:  (11, 11)\n",
      "for clkk: lmin =  339 , lmax = , 2000\n",
      "Fijkk.shape:  (9, 9)\n",
      "\n",
      "starting bin number  4 , with sigmaBins index =  2 , pmb[2] = [0 4 5 6 4 4 4 5 5 6]\n",
      "  starting block  1\n",
      "  use 2 bin numbers from pmb[2]  with bin numbers [0 4]\n",
      "  toCut:  [1 2 3 5 6]\n",
      "  the cut preMask:  [0 4 4 4 4]\n",
      "  starting block  2\n",
      "  use 3 bin numbers from pmb[1]  with bin numbers [0 4 3]\n",
      "  toCut:  [1 2 5 6]\n",
      "  the cut preMask:  [0 3 4 3 3 3 3 4 4 4]\n",
      "  starting block  3\n",
      "  use 4 bin numbers from pmb[0]  with bin numbers [0 4 3 2]\n",
      "  toCut:  [1 5 6]\n",
      "  the cut preMask:  [0 2 3 4 2 2 2 2 2 3 3 3 3 4 4 4]\n",
      "nBlocks:  3 , nBlocks2:  3\n",
      "['ombh2' 'omch2' 'cosmomc_theta' '10^9 As' 'ns' 'tau' 'mnu' 'w' 'wa'\n",
      " 'bin2' 'bin3' 'bin4' 'bin5' 'bin6']\n",
      "original myFij.shape:  (14, 14)\n",
      "trimmed myFij.shape:  (12, 12)\n",
      "for clkk: lmin =  531 , lmax = , 2000\n",
      "Fijkk.shape:  (9, 9)\n",
      "\n",
      "starting bin number  5 , with sigmaBins index =  3 , pmb[3] = [0 5 6 5 5 6]\n",
      "  starting block  1\n",
      "  use 2 bin numbers from pmb[3]  with bin numbers [0 5]\n",
      "  toCut:  [1 2 3 4 6]\n",
      "  the cut preMask:  [0 5 5 5]\n",
      "  starting block  2\n",
      "  use 3 bin numbers from pmb[2]  with bin numbers [0 5 4]\n",
      "  toCut:  [1 2 3 6]\n",
      "  the cut preMask:  [0 4 5 4 4 4 5 5]\n",
      "  starting block  3\n",
      "  use 4 bin numbers from pmb[1]  with bin numbers [0 5 4 3]\n",
      "  toCut:  [1 2 6]\n",
      "  the cut preMask:  [0 3 4 5 3 3 3 3 4 4 4 5 5]\n",
      "  starting block  4\n",
      "  use 5 bin numbers from pmb[0]  with bin numbers [0 5 4 3 2]\n",
      "  toCut:  [1 6]\n",
      "  the cut preMask:  [0 2 3 4 5 2 2 2 2 2 3 3 3 3 4 4 4 5 5]\n",
      "nBlocks:  4 , nBlocks2:  4\n",
      "['ombh2' 'omch2' 'cosmomc_theta' '10^9 As' 'ns' 'tau' 'mnu' 'w' 'wa'\n",
      " 'bin2' 'bin3' 'bin4' 'bin5' 'bin6']\n",
      "original myFij.shape:  (14, 14)\n",
      "trimmed myFij.shape:  (13, 13)\n",
      "for clkk: lmin =  650 , lmax = , 2000\n",
      "Fijkk.shape:  (9, 9)\n",
      "\n",
      "starting bin number  6 , with sigmaBins index =  4 , pmb[4] = [0 6 6]\n",
      "  starting block  1\n",
      "  use 2 bin numbers from pmb[4]  with bin numbers [0 6]\n",
      "  toCut:  [1 2 3 4 5]\n",
      "  the cut preMask:  [0 6 6]\n",
      "  starting block  2\n",
      "  use 3 bin numbers from pmb[3]  with bin numbers [0 6 5]\n",
      "  toCut:  [1 2 3 4]\n",
      "  the cut preMask:  [0 5 6 5 5 6]\n",
      "  starting block  3\n",
      "  use 4 bin numbers from pmb[2]  with bin numbers [0 6 5 4]\n",
      "  toCut:  [1 2 3]\n",
      "  the cut preMask:  [0 4 5 6 4 4 4 5 5 6]\n",
      "  starting block  4\n",
      "  use 5 bin numbers from pmb[1]  with bin numbers [0 6 5 4 3]\n",
      "  toCut:  [1 2]\n",
      "  the cut preMask:  [0 3 4 5 6 3 3 3 3 4 4 4 5 5 6]\n",
      "  starting block  5\n",
      "  use 6 bin numbers from pmb[0]  with bin numbers [0 6 5 4 3 2]\n",
      "  toCut:  [1]\n",
      "  the cut preMask:  [0 2 3 4 5 6 2 2 2 2 2 3 3 3 3 4 4 4 5 5 6]\n",
      "nBlocks:  5 , nBlocks2:  5\n",
      "['ombh2' 'omch2' 'cosmomc_theta' '10^9 As' 'ns' 'tau' 'mnu' 'w' 'wa'\n",
      " 'bin2' 'bin3' 'bin4' 'bin5' 'bin6']\n",
      "original myFij.shape:  (14, 14)\n",
      "trimmed myFij.shape:  (14, 14)\n",
      "for clkk: lmin =  733 , lmax = , 2000\n",
      "Fijkk.shape:  (9, 9)\n",
      "lmaxByBin:  [   2  389  679 1062 1302 1467 2000]\n",
      "\n",
      "starting bin number  2 , with sigmaBins index =  0 , pmb[0] = [0 2 3 4 5 6 2 2 2 2 2 3 3 3 3 4 4 4 5 5 6]\n",
      "  starting block  1\n",
      "  use 2 bin numbers from pmb[0]  with bin numbers [0 2]\n",
      "  toCut:  [1 3 4 5 6]\n",
      "  the cut preMask:  [0 2 2 2 2 2 2]\n",
      "nBlocks:  1 , nBlocks2:  1\n",
      "['ombh2' 'omch2' 'cosmomc_theta' '10^9 As' 'ns' 'tau' 'mnu' 'w' 'wa'\n",
      " 'bin2' 'bin3' 'bin4' 'bin5' 'bin6']\n",
      "original myFij.shape:  (14, 14)\n",
      "trimmed myFij.shape:  (10, 10)\n",
      "for clkk: lmin =  389 , lmax = , 2000\n",
      "Fijkk.shape:  (9, 9)\n",
      "\n",
      "starting bin number  3 , with sigmaBins index =  1 , pmb[1] = [0 3 4 5 6 3 3 3 3 4 4 4 5 5 6]\n",
      "  starting block  1\n",
      "  use 2 bin numbers from pmb[1]  with bin numbers [0 3]\n",
      "  toCut:  [1 2 4 5 6]\n",
      "  the cut preMask:  [0 3 3 3 3 3]\n",
      "  starting block  2\n",
      "  use 3 bin numbers from pmb[0]  with bin numbers [0 3 2]\n",
      "  toCut:  [1 4 5 6]\n",
      "  the cut preMask:  [0 2 3 2 2 2 2 2 3 3 3 3]\n",
      "nBlocks:  2 , nBlocks2:  2\n",
      "['ombh2' 'omch2' 'cosmomc_theta' '10^9 As' 'ns' 'tau' 'mnu' 'w' 'wa'\n",
      " 'bin2' 'bin3' 'bin4' 'bin5' 'bin6']\n",
      "original myFij.shape:  (14, 14)\n",
      "trimmed myFij.shape:  (11, 11)\n",
      "for clkk: lmin =  679 , lmax = , 2000\n",
      "Fijkk.shape:  (9, 9)\n",
      "\n",
      "starting bin number  4 , with sigmaBins index =  2 , pmb[2] = [0 4 5 6 4 4 4 5 5 6]\n",
      "  starting block  1\n",
      "  use 2 bin numbers from pmb[2]  with bin numbers [0 4]\n",
      "  toCut:  [1 2 3 5 6]\n",
      "  the cut preMask:  [0 4 4 4 4]\n",
      "  starting block  2\n",
      "  use 3 bin numbers from pmb[1]  with bin numbers [0 4 3]\n",
      "  toCut:  [1 2 5 6]\n",
      "  the cut preMask:  [0 3 4 3 3 3 3 4 4 4]\n",
      "  starting block  3\n",
      "  use 4 bin numbers from pmb[0]  with bin numbers [0 4 3 2]\n",
      "  toCut:  [1 5 6]\n",
      "  the cut preMask:  [0 2 3 4 2 2 2 2 2 3 3 3 3 4 4 4]\n",
      "nBlocks:  3 , nBlocks2:  3\n",
      "['ombh2' 'omch2' 'cosmomc_theta' '10^9 As' 'ns' 'tau' 'mnu' 'w' 'wa'\n",
      " 'bin2' 'bin3' 'bin4' 'bin5' 'bin6']\n",
      "original myFij.shape:  (14, 14)\n",
      "trimmed myFij.shape:  (12, 12)\n",
      "for clkk: lmin =  1062 , lmax = , 2000\n",
      "Fijkk.shape:  (9, 9)\n",
      "\n",
      "starting bin number  5 , with sigmaBins index =  3 , pmb[3] = [0 5 6 5 5 6]\n",
      "  starting block  1\n",
      "  use 2 bin numbers from pmb[3]  with bin numbers [0 5]\n",
      "  toCut:  [1 2 3 4 6]\n",
      "  the cut preMask:  [0 5 5 5]\n",
      "  starting block  2\n",
      "  use 3 bin numbers from pmb[2]  with bin numbers [0 5 4]\n",
      "  toCut:  [1 2 3 6]\n",
      "  the cut preMask:  [0 4 5 4 4 4 5 5]\n",
      "  starting block  3\n",
      "  use 4 bin numbers from pmb[1]  with bin numbers [0 5 4 3]\n",
      "  toCut:  [1 2 6]\n",
      "  the cut preMask:  [0 3 4 5 3 3 3 3 4 4 4 5 5]\n",
      "  starting block  4\n",
      "  use 5 bin numbers from pmb[0]  with bin numbers [0 5 4 3 2]\n",
      "  toCut:  [1 6]\n",
      "  the cut preMask:  [0 2 3 4 5 2 2 2 2 2 3 3 3 3 4 4 4 5 5]\n",
      "nBlocks:  4 , nBlocks2:  4\n",
      "['ombh2' 'omch2' 'cosmomc_theta' '10^9 As' 'ns' 'tau' 'mnu' 'w' 'wa'\n",
      " 'bin2' 'bin3' 'bin4' 'bin5' 'bin6']\n",
      "original myFij.shape:  (14, 14)\n",
      "trimmed myFij.shape:  (13, 13)\n",
      "for clkk: lmin =  1302 , lmax = , 2000\n",
      "Fijkk.shape:  (9, 9)\n",
      "\n",
      "starting bin number  6 , with sigmaBins index =  4 , pmb[4] = [0 6 6]\n",
      "  starting block  1\n",
      "  use 2 bin numbers from pmb[4]  with bin numbers [0 6]\n",
      "  toCut:  [1 2 3 4 5]\n",
      "  the cut preMask:  [0 6 6]\n",
      "  starting block  2\n",
      "  use 3 bin numbers from pmb[3]  with bin numbers [0 6 5]\n",
      "  toCut:  [1 2 3 4]\n",
      "  the cut preMask:  [0 5 6 5 5 6]\n",
      "  starting block  3\n",
      "  use 4 bin numbers from pmb[2]  with bin numbers [0 6 5 4]\n",
      "  toCut:  [1 2 3]\n",
      "  the cut preMask:  [0 4 5 6 4 4 4 5 5 6]\n",
      "  starting block  4\n",
      "  use 5 bin numbers from pmb[1]  with bin numbers [0 6 5 4 3]\n",
      "  toCut:  [1 2]\n",
      "  the cut preMask:  [0 3 4 5 6 3 3 3 3 4 4 4 5 5 6]\n",
      "  starting block  5\n",
      "  use 6 bin numbers from pmb[0]  with bin numbers [0 6 5 4 3 2]\n",
      "  toCut:  [1]\n",
      "  the cut preMask:  [0 2 3 4 5 6 2 2 2 2 2 3 3 3 3 4 4 4 5 5 6]\n",
      "nBlocks:  5 , nBlocks2:  5\n",
      "['ombh2' 'omch2' 'cosmomc_theta' '10^9 As' 'ns' 'tau' 'mnu' 'w' 'wa'\n",
      " 'bin2' 'bin3' 'bin4' 'bin5' 'bin6']\n",
      "original myFij.shape:  (14, 14)\n",
      "trimmed myFij.shape:  (14, 14)\n",
      "for clkk: lmin =  1467 , lmax = , 2000\n",
      "Fijkk.shape:  (9, 9)\n",
      "done\n"
     ]
    }
   ],
   "source": [
    "sigmaBins2_01,FoMPropBins2_01,paramList2_01 = getKZlimited(covarBins2_01,dClVecsBins2_01,\n",
    "                                                           preMaskBins2_01,Fobj2,lmaxByBin2_01,FijTE2)\n",
    "sigmaBins2_02,FoMPropBins2_02,paramList2_02 = getKZlimited(covarBins2_02,dClVecsBins2_02,\n",
    "                                                           preMaskBins2_02,Fobj2,lmaxByBin2_02,FijTE2)\n",
    "\n",
    "#sigmaBins4_01,FoMPropBins4_01,paramList4_01 = getKZlimited(covarBins4_01,dClVecsBins4_01,\n",
    "#                                                           preMaskBins4_01,Fobj4,lmaxByBin4_01,FijTE4)\n",
    "#sigmaBins4_02,FoMPropBins4_02,paramList4_02 = getKZlimited(covarBins4_02,dClVecsBins4_02,\n",
    "#                                                           preMaskBins4_02,Fobj4,lmaxByBin4_02,FijTE4)\n",
    "\n",
    "print 'done'"
   ]
  },
  {
   "cell_type": "code",
   "execution_count": null,
   "metadata": {},
   "outputs": [],
   "source": []
  },
  {
   "cell_type": "code",
   "execution_count": null,
   "metadata": {},
   "outputs": [],
   "source": []
  },
  {
   "cell_type": "code",
   "execution_count": null,
   "metadata": {},
   "outputs": [],
   "source": []
  },
  {
   "cell_type": "code",
   "execution_count": null,
   "metadata": {},
   "outputs": [],
   "source": []
  },
  {
   "cell_type": "code",
   "execution_count": null,
   "metadata": {},
   "outputs": [],
   "source": []
  },
  {
   "cell_type": "code",
   "execution_count": 56,
   "metadata": {},
   "outputs": [],
   "source": [
    "# collect sigma_w0, sigma_wa for kmax1,kmax2 in nonlinear case. (drop linear for now)\n",
    "nSigmas = sigmaBins2_01.__len__()\n",
    "sigmas_w0_2_01 = []\n",
    "sigmas_wa_2_01 = []\n",
    "sigmas_w0_2_02 = []\n",
    "sigmas_wa_2_02 = []\n",
    "#w0Ind = 8\n",
    "#waInd = 7\n",
    "w0Ind = 7\n",
    "waInd = 8\n",
    "for sigNum in range(nSigmas):\n",
    "    sigmas_w0_2_01.append(sigmaBins2_01[sigNum][w0Ind])\n",
    "    sigmas_wa_2_01.append(sigmaBins2_01[sigNum][waInd])\n",
    "    sigmas_w0_2_02.append(sigmaBins2_02[sigNum][w0Ind])\n",
    "    sigmas_wa_2_02.append(sigmaBins2_02[sigNum][waInd])"
   ]
  },
  {
   "cell_type": "code",
   "execution_count": 57,
   "metadata": {},
   "outputs": [
    {
     "data": {
      "image/png": "[encoded data removed]",
      "text/plain": [
       "<Figure size 432x288 with 1 Axes>"
      ]
     },
     "metadata": {},
     "output_type": "display_data"
    },
    {
     "name": "stdout",
     "output_type": "stream",
     "text": [
      "0.348642370307132 0.3595632642754594 0.35956145457890193\n"
     ]
    },
    {
     "data": {
      "image/png": "[encoded data removed]",
      "text/plain": [
       "<Figure size 432x288 with 1 Axes>"
      ]
     },
     "metadata": {},
     "output_type": "display_data"
    },
    {
     "name": "stdout",
     "output_type": "stream",
     "text": [
      "0.6787230942479391 0.7687925957035951 0.7687686765668499\n"
     ]
    }
   ],
   "source": [
    "# make the plots\n",
    "#print nSigmas\n",
    "doTE = True\n",
    "#doTE = False\n",
    "\n",
    "redshifts = [1,2,3,4,7] # top end of each bin; bin1 not included\n",
    "if doTE:\n",
    "    plt.plot(redshifts,sigmas_w0_2_01,label='kgTE, kmax = {0}'.format(kmax1))\n",
    "    plt.plot(redshifts,sigmas_w0_2_02,label='kgTE, kmax = {0}'.format(kmax2))\n",
    "    plt.plot(redshifts,np.ones(nSigmas)*sigmas_kTE2[w0Ind],label='kTE')\n",
    "else:\n",
    "    plt.plot(redshifts,sigmas_w0_2_01,label='kg, kmax = {0}'.format(kmax1))\n",
    "    plt.plot(redshifts,sigmas_w0_2_02,label='kg, kmax = {0}'.format(kmax2))\n",
    "    plt.plot(redshifts,np.ones(nSigmas)*sigmas_kk2[w0Ind],label='kk')\n",
    "plt.legend()\n",
    "plt.xlabel('redshift',fontsize=15)\n",
    "plt.ylabel(r'$\\sigma(w_0)$',fontsize=15)\n",
    "plt.show()\n",
    "if doTE:\n",
    "    print sigmas_kTE2[w0Ind], sigmas_w0_2_01[-1], sigmas_w0_2_02[-1]\n",
    "else:\n",
    "    print sigmas_kk2[w0Ind], sigmas_w0_2_01[-1], sigmas_w0_2_02[-1]\n",
    "\n",
    "if doTE:\n",
    "    plt.plot(redshifts,sigmas_wa_2_01,label='kgTE, kmax = {0}'.format(kmax1))\n",
    "    plt.plot(redshifts,sigmas_wa_2_02,label='kgTE, kmax = {0}'.format(kmax2))\n",
    "    plt.plot(redshifts,np.ones(nSigmas)*sigmas_kTE2[waInd],label='kTE')\n",
    "else:\n",
    "    plt.plot(redshifts,sigmas_wa_2_01,label='kg, kmax = {0}'.format(kmax1))\n",
    "    plt.plot(redshifts,sigmas_wa_2_02,label='kg, kmax = {0}'.format(kmax2))\n",
    "    plt.plot(redshifts,np.ones(nSigmas)*sigmas_kk2[waInd],label='kk')\n",
    "plt.legend()\n",
    "plt.xlabel('redshift',fontsize=15)\n",
    "plt.ylabel(r'$\\sigma(w_a)$',fontsize=15)\n",
    "plt.show()\n",
    "if doTE:\n",
    "    print sigmas_kTE2[waInd], sigmas_wa_2_01[-1], sigmas_wa_2_02[-1]\n",
    "else:\n",
    "    print sigmas_kk2[waInd], sigmas_wa_2_01[-1], sigmas_wa_2_02[-1]"
   ]
  },
  {
   "cell_type": "code",
   "execution_count": null,
   "metadata": {},
   "outputs": [],
   "source": []
  },
  {
   "cell_type": "code",
   "execution_count": null,
   "metadata": {},
   "outputs": [],
   "source": []
  },
  {
   "cell_type": "code",
   "execution_count": null,
   "metadata": {},
   "outputs": [],
   "source": []
  },
  {
   "cell_type": "code",
   "execution_count": null,
   "metadata": {},
   "outputs": [],
   "source": []
  },
  {
   "cell_type": "code",
   "execution_count": null,
   "metadata": {},
   "outputs": [],
   "source": []
  },
  {
   "cell_type": "code",
   "execution_count": 58,
   "metadata": {
    "scrolled": true
   },
   "outputs": [
    {
     "data": {
      "image/png": "[encoded data removed]",
      "text/plain": [
       "<Figure size 432x288 with 1 Axes>"
      ]
     },
     "metadata": {},
     "output_type": "display_data"
    },
    {
     "name": "stdout",
     "output_type": "stream",
     "text": [
      "8.626446808587667e-06 [8.54172685e-06 3.91253236e-04 1.97452529e-06 1.54144669e-01\n",
      " 1.18565280e-03 6.58818289e-04 3.23743027e-01 3.59563264e-01\n",
      " 7.68792596e-01 2.29262458e+00 6.38945275e+00 2.25974605e+01\n",
      " 8.65860855e+01 3.50639549e+02] [8.54171614e-06 3.91253059e-04 1.97443975e-06 1.54136639e-01\n",
      " 1.18564287e-03 6.58816951e-04 3.23728340e-01 3.59561455e-01\n",
      " 7.68768677e-01 1.79451852e+00 4.90854518e+00 1.73313598e+01\n",
      " 6.63342268e+01 2.67821509e+02]\n"
     ]
    },
    {
     "data": {
      "image/png": "[encoded data removed]",
      "text/plain": [
       "<Figure size 432x288 with 1 Axes>"
      ]
     },
     "metadata": {},
     "output_type": "display_data"
    },
    {
     "name": "stdout",
     "output_type": "stream",
     "text": [
      "0.00039160352730772935 [8.54172685e-06 3.91253236e-04 1.97452529e-06 1.54144669e-01\n",
      " 1.18565280e-03 6.58818289e-04 3.23743027e-01 3.59563264e-01\n",
      " 7.68792596e-01 2.29262458e+00 6.38945275e+00 2.25974605e+01\n",
      " 8.65860855e+01 3.50639549e+02] [8.54171614e-06 3.91253059e-04 1.97443975e-06 1.54136639e-01\n",
      " 1.18564287e-03 6.58816951e-04 3.23728340e-01 3.59561455e-01\n",
      " 7.68768677e-01 1.79451852e+00 4.90854518e+00 1.73313598e+01\n",
      " 6.63342268e+01 2.67821509e+02]\n"
     ]
    },
    {
     "data": {
      "image/png": "[encoded data removed]",
      "text/plain": [
       "<Figure size 432x288 with 1 Axes>"
      ]
     },
     "metadata": {},
     "output_type": "display_data"
    },
    {
     "name": "stdout",
     "output_type": "stream",
     "text": [
      "1.6905239854137926e-06 [8.54172685e-06 3.91253236e-04 1.97452529e-06 1.54144669e-01\n",
      " 1.18565280e-03 6.58818289e-04 3.23743027e-01 3.59563264e-01\n",
      " 7.68792596e-01 2.29262458e+00 6.38945275e+00 2.25974605e+01\n",
      " 8.65860855e+01 3.50639549e+02] [8.54171614e-06 3.91253059e-04 1.97443975e-06 1.54136639e-01\n",
      " 1.18564287e-03 6.58816951e-04 3.23728340e-01 3.59561455e-01\n",
      " 7.68768677e-01 1.79451852e+00 4.90854518e+00 1.73313598e+01\n",
      " 6.63342268e+01 2.67821509e+02]\n"
     ]
    },
    {
     "data": {
      "image/png": "[encoded data removed]",
      "text/plain": [
       "<Figure size 432x288 with 1 Axes>"
      ]
     },
     "metadata": {},
     "output_type": "display_data"
    },
    {
     "name": "stdout",
     "output_type": "stream",
     "text": [
      "0.12865117007069604 [8.54172685e-06 3.91253236e-04 1.97452529e-06 1.54144669e-01\n",
      " 1.18565280e-03 6.58818289e-04 3.23743027e-01 3.59563264e-01\n",
      " 7.68792596e-01 2.29262458e+00 6.38945275e+00 2.25974605e+01\n",
      " 8.65860855e+01 3.50639549e+02] [8.54171614e-06 3.91253059e-04 1.97443975e-06 1.54136639e-01\n",
      " 1.18564287e-03 6.58816951e-04 3.23728340e-01 3.59561455e-01\n",
      " 7.68768677e-01 1.79451852e+00 4.90854518e+00 1.73313598e+01\n",
      " 6.63342268e+01 2.67821509e+02]\n"
     ]
    },
    {
     "data": {
      "image/png": "[encoded data removed]",
      "text/plain": [
       "<Figure size 432x288 with 1 Axes>"
      ]
     },
     "metadata": {},
     "output_type": "display_data"
    },
    {
     "name": "stdout",
     "output_type": "stream",
     "text": [
      "0.001135744540286982 [8.54172685e-06 3.91253236e-04 1.97452529e-06 1.54144669e-01\n",
      " 1.18565280e-03 6.58818289e-04 3.23743027e-01 3.59563264e-01\n",
      " 7.68792596e-01 2.29262458e+00 6.38945275e+00 2.25974605e+01\n",
      " 8.65860855e+01 3.50639549e+02] [8.54171614e-06 3.91253059e-04 1.97443975e-06 1.54136639e-01\n",
      " 1.18564287e-03 6.58816951e-04 3.23728340e-01 3.59561455e-01\n",
      " 7.68768677e-01 1.79451852e+00 4.90854518e+00 1.73313598e+01\n",
      " 6.63342268e+01 2.67821509e+02]\n"
     ]
    },
    {
     "data": {
      "image/png": "[encoded data removed]",
      "text/plain": [
       "<Figure size 432x288 with 1 Axes>"
      ]
     },
     "metadata": {},
     "output_type": "display_data"
    },
    {
     "name": "stdout",
     "output_type": "stream",
     "text": [
      "0.030417298741240786 [8.54172685e-06 3.91253236e-04 1.97452529e-06 1.54144669e-01\n",
      " 1.18565280e-03 6.58818289e-04 3.23743027e-01 3.59563264e-01\n",
      " 7.68792596e-01 2.29262458e+00 6.38945275e+00 2.25974605e+01\n",
      " 8.65860855e+01 3.50639549e+02] [8.54171614e-06 3.91253059e-04 1.97443975e-06 1.54136639e-01\n",
      " 1.18564287e-03 6.58816951e-04 3.23728340e-01 3.59561455e-01\n",
      " 7.68768677e-01 1.79451852e+00 4.90854518e+00 1.73313598e+01\n",
      " 6.63342268e+01 2.67821509e+02]\n"
     ]
    },
    {
     "data": {
      "image/png": "[encoded data removed]",
      "text/plain": [
       "<Figure size 432x288 with 1 Axes>"
      ]
     },
     "metadata": {},
     "output_type": "display_data"
    },
    {
     "name": "stdout",
     "output_type": "stream",
     "text": [
      "0.27515919565008734 [8.54172685e-06 3.91253236e-04 1.97452529e-06 1.54144669e-01\n",
      " 1.18565280e-03 6.58818289e-04 3.23743027e-01 3.59563264e-01\n",
      " 7.68792596e-01 2.29262458e+00 6.38945275e+00 2.25974605e+01\n",
      " 8.65860855e+01 3.50639549e+02] [8.54171614e-06 3.91253059e-04 1.97443975e-06 1.54136639e-01\n",
      " 1.18564287e-03 6.58816951e-04 3.23728340e-01 3.59561455e-01\n",
      " 7.68768677e-01 1.79451852e+00 4.90854518e+00 1.73313598e+01\n",
      " 6.63342268e+01 2.67821509e+02]\n"
     ]
    },
    {
     "data": {
      "image/png": "[encoded data removed]",
      "text/plain": [
       "<Figure size 432x288 with 1 Axes>"
      ]
     },
     "metadata": {},
     "output_type": "display_data"
    },
    {
     "name": "stdout",
     "output_type": "stream",
     "text": [
      "0.348642370307132 [8.54172685e-06 3.91253236e-04 1.97452529e-06 1.54144669e-01\n",
      " 1.18565280e-03 6.58818289e-04 3.23743027e-01 3.59563264e-01\n",
      " 7.68792596e-01 2.29262458e+00 6.38945275e+00 2.25974605e+01\n",
      " 8.65860855e+01 3.50639549e+02] [8.54171614e-06 3.91253059e-04 1.97443975e-06 1.54136639e-01\n",
      " 1.18564287e-03 6.58816951e-04 3.23728340e-01 3.59561455e-01\n",
      " 7.68768677e-01 1.79451852e+00 4.90854518e+00 1.73313598e+01\n",
      " 6.63342268e+01 2.67821509e+02]\n"
     ]
    },
    {
     "data": {
      "image/png": "[encoded data removed]",
      "text/plain": [
       "<Figure size 432x288 with 1 Axes>"
      ]
     },
     "metadata": {},
     "output_type": "display_data"
    },
    {
     "name": "stdout",
     "output_type": "stream",
     "text": [
      "0.6787230942479391 [8.54172685e-06 3.91253236e-04 1.97452529e-06 1.54144669e-01\n",
      " 1.18565280e-03 6.58818289e-04 3.23743027e-01 3.59563264e-01\n",
      " 7.68792596e-01 2.29262458e+00 6.38945275e+00 2.25974605e+01\n",
      " 8.65860855e+01 3.50639549e+02] [8.54171614e-06 3.91253059e-04 1.97443975e-06 1.54136639e-01\n",
      " 1.18564287e-03 6.58816951e-04 3.23728340e-01 3.59561455e-01\n",
      " 7.68768677e-01 1.79451852e+00 4.90854518e+00 1.73313598e+01\n",
      " 6.63342268e+01 2.67821509e+02]\n"
     ]
    },
    {
     "data": {
      "image/png": "[encoded data removed]",
      "text/plain": [
       "<Figure size 432x288 with 1 Axes>"
      ]
     },
     "metadata": {},
     "output_type": "display_data"
    },
    {
     "name": "stdout",
     "output_type": "stream",
     "text": [
      "0.0 [8.54172685e-06 3.91253236e-04 1.97452529e-06 1.54144669e-01\n",
      " 1.18565280e-03 6.58818289e-04 3.23743027e-01 3.59563264e-01\n",
      " 7.68792596e-01 2.29262458e+00 6.38945275e+00 2.25974605e+01\n",
      " 8.65860855e+01 3.50639549e+02] [8.54171614e-06 3.91253059e-04 1.97443975e-06 1.54136639e-01\n",
      " 1.18564287e-03 6.58816951e-04 3.23728340e-01 3.59561455e-01\n",
      " 7.68768677e-01 1.79451852e+00 4.90854518e+00 1.73313598e+01\n",
      " 6.63342268e+01 2.67821509e+02]\n"
     ]
    },
    {
     "data": {
      "image/png": "[encoded data removed]",
      "text/plain": [
       "<Figure size 432x288 with 1 Axes>"
      ]
     },
     "metadata": {},
     "output_type": "display_data"
    },
    {
     "name": "stdout",
     "output_type": "stream",
     "text": [
      "0.0 [8.54172685e-06 3.91253236e-04 1.97452529e-06 1.54144669e-01\n",
      " 1.18565280e-03 6.58818289e-04 3.23743027e-01 3.59563264e-01\n",
      " 7.68792596e-01 2.29262458e+00 6.38945275e+00 2.25974605e+01\n",
      " 8.65860855e+01 3.50639549e+02] [8.54171614e-06 3.91253059e-04 1.97443975e-06 1.54136639e-01\n",
      " 1.18564287e-03 6.58816951e-04 3.23728340e-01 3.59561455e-01\n",
      " 7.68768677e-01 1.79451852e+00 4.90854518e+00 1.73313598e+01\n",
      " 6.63342268e+01 2.67821509e+02]\n"
     ]
    },
    {
     "data": {
      "image/png": "[encoded data removed]",
      "text/plain": [
       "<Figure size 432x288 with 1 Axes>"
      ]
     },
     "metadata": {},
     "output_type": "display_data"
    },
    {
     "name": "stdout",
     "output_type": "stream",
     "text": [
      "0.0 [8.54172685e-06 3.91253236e-04 1.97452529e-06 1.54144669e-01\n",
      " 1.18565280e-03 6.58818289e-04 3.23743027e-01 3.59563264e-01\n",
      " 7.68792596e-01 2.29262458e+00 6.38945275e+00 2.25974605e+01\n",
      " 8.65860855e+01 3.50639549e+02] [8.54171614e-06 3.91253059e-04 1.97443975e-06 1.54136639e-01\n",
      " 1.18564287e-03 6.58816951e-04 3.23728340e-01 3.59561455e-01\n",
      " 7.68768677e-01 1.79451852e+00 4.90854518e+00 1.73313598e+01\n",
      " 6.63342268e+01 2.67821509e+02]\n"
     ]
    },
    {
     "data": {
      "image/png": "[encoded data removed]",
      "text/plain": [
       "<Figure size 432x288 with 1 Axes>"
      ]
     },
     "metadata": {},
     "output_type": "display_data"
    },
    {
     "name": "stdout",
     "output_type": "stream",
     "text": [
      "0.0 [8.54172685e-06 3.91253236e-04 1.97452529e-06 1.54144669e-01\n",
      " 1.18565280e-03 6.58818289e-04 3.23743027e-01 3.59563264e-01\n",
      " 7.68792596e-01 2.29262458e+00 6.38945275e+00 2.25974605e+01\n",
      " 8.65860855e+01 3.50639549e+02] [8.54171614e-06 3.91253059e-04 1.97443975e-06 1.54136639e-01\n",
      " 1.18564287e-03 6.58816951e-04 3.23728340e-01 3.59561455e-01\n",
      " 7.68768677e-01 1.79451852e+00 4.90854518e+00 1.73313598e+01\n",
      " 6.63342268e+01 2.67821509e+02]\n"
     ]
    },
    {
     "data": {
      "image/png": "[encoded data removed]",
      "text/plain": [
       "<Figure size 432x288 with 1 Axes>"
      ]
     },
     "metadata": {},
     "output_type": "display_data"
    },
    {
     "name": "stdout",
     "output_type": "stream",
     "text": [
      "0.0 [8.54172685e-06 3.91253236e-04 1.97452529e-06 1.54144669e-01\n",
      " 1.18565280e-03 6.58818289e-04 3.23743027e-01 3.59563264e-01\n",
      " 7.68792596e-01 2.29262458e+00 6.38945275e+00 2.25974605e+01\n",
      " 8.65860855e+01 3.50639549e+02] [8.54171614e-06 3.91253059e-04 1.97443975e-06 1.54136639e-01\n",
      " 1.18564287e-03 6.58816951e-04 3.23728340e-01 3.59561455e-01\n",
      " 7.68768677e-01 1.79451852e+00 4.90854518e+00 1.73313598e+01\n",
      " 6.63342268e+01 2.67821509e+02]\n"
     ]
    }
   ],
   "source": [
    "# make the plots - all of the sigmas this time\n",
    "redshifts = [1,2,3,4,7] # top end of each bin; bin1 not included\n",
    "for sigmaNum, paramName in enumerate(paramList2_01):\n",
    "    if doTE:\n",
    "        plt.plot(redshifts,np.array(sigmaBins2_01)[:,sigmaNum],label='kgTE, kmax = {0}'.format(kmax1))\n",
    "        plt.plot(redshifts,np.array(sigmaBins2_02)[:,sigmaNum],label='kgTE, kmax = {0}'.format(kmax2))\n",
    "        plt.plot(redshifts,np.ones(nSigmas)*sigmas_kTE2[sigmaNum],label='kTE')\n",
    "    else:\n",
    "        plt.plot(redshifts,np.array(sigmaBins2_01)[:,sigmaNum],label='kTE, kmax = {0}'.format(kmax1))\n",
    "        plt.plot(redshifts,np.array(sigmaBins2_02)[:,sigmaNum],label='kTE, kmax = {0}'.format(kmax2))\n",
    "        plt.plot(redshifts,np.ones(nSigmas)*sigmas_kk2[sigmaNum],label='kk')\n",
    "    plt.legend()\n",
    "    plt.xlabel('redshift',fontsize=15)\n",
    "    plt.ylabel(r'$\\sigma({0})$'.format(paramName),fontsize=15)\n",
    "    plt.title(paramName)\n",
    "    plt.show()\n",
    "    if doTE:\n",
    "        print sigmas_kTE2[sigmaNum], sigmaBins2_01[:][-1], sigmaBins2_02[:][-1]\n",
    "    else:\n",
    "        print 'kk: ',sigmas_kk2[sigmaNum],', kmax1:', sigmaBins2_01[-1,sigmaNum],', kmax2:', sigmaBins2_02[-1,sigmaNum]\n"
   ]
  },
  {
   "cell_type": "code",
   "execution_count": null,
   "metadata": {},
   "outputs": [],
   "source": []
  },
  {
   "cell_type": "code",
   "execution_count": null,
   "metadata": {},
   "outputs": [],
   "source": []
  },
  {
   "cell_type": "code",
   "execution_count": null,
   "metadata": {},
   "outputs": [],
   "source": []
  },
  {
   "cell_type": "code",
   "execution_count": null,
   "metadata": {},
   "outputs": [],
   "source": []
  },
  {
   "cell_type": "code",
   "execution_count": 59,
   "metadata": {},
   "outputs": [
    {
     "name": "stdout",
     "output_type": "stream",
     "text": [
      "6.676468776592026\n"
     ]
    },
    {
     "data": {
      "image/png": "[encoded data removed]",
      "text/plain": [
       "<Figure size 432x288 with 1 Axes>"
      ]
     },
     "metadata": {},
     "output_type": "display_data"
    },
    {
     "name": "stdout",
     "output_type": "stream",
     "text": [
      "0.8617754114019257 0.8618126724023607\n"
     ]
    },
    {
     "data": {
      "image/png": "[encoded data removed]",
      "text/plain": [
       "<Figure size 432x288 with 1 Axes>"
      ]
     },
     "metadata": {},
     "output_type": "display_data"
    },
    {
     "name": "stdout",
     "output_type": "stream",
     "text": [
      "0.08630424939989556 0.0863079809784854\n"
     ]
    }
   ],
   "source": [
    "# figure of merit too!\n",
    "\n",
    "FijInv = np.linalg.inv(Fij_kTE2)\n",
    "FoMProp_kTE2 = FoMprop(FijInv,iw0=8,iwa=7)\n",
    "FoMProp_kk = FoMprop(np.linalg.inv(Fij_kk2),iw0=8,iwa=7)\n",
    "if doTE:\n",
    "    print FoMProp_kTE2\n",
    "\n",
    "    plt.plot(redshifts,FoMPropBins2_01/FoMProp_kTE2,label='kgTE, kmax = {0}'.format(kmax1))\n",
    "    plt.plot(redshifts,FoMPropBins2_02/FoMProp_kTE2,label='kgTE, kmax = {0}'.format(kmax2))\n",
    "    plt.plot(redshifts,np.ones(nSigmas),label='kTE')\n",
    "    plt.ylabel('FoM(kgTE)/FoM(kTE)',fontsize=15)\n",
    "else:\n",
    "    print FoMProp_kk\n",
    "\n",
    "    plt.plot(redshifts,FoMPropBins2_01/FoMProp_kk,label='kg, kmax = {0}'.format(kmax1))\n",
    "    plt.plot(redshifts,FoMPropBins2_02/FoMProp_kk,label='kg, kmax = {0}'.format(kmax2))\n",
    "    plt.plot(redshifts,np.ones(nSigmas),label='k')\n",
    "    plt.ylabel('FoM(kg)/FoM(k)',fontsize=15)\n",
    "plt.legend(loc=(0.5,0.1))\n",
    "plt.xlabel('redshift',fontsize=15)\n",
    "\n",
    "#plt.ylim((0,0.1))\n",
    "plt.show()\n",
    "print FoMPropBins2_01[-1]/FoMProp_kTE2, FoMPropBins2_02[-1]/FoMProp_kTE2\n",
    "\n",
    "#FoM prop from a paper\n",
    "FoMProp_pap = 1/0.015\n",
    "\n",
    "plt.plot(redshifts,FoMPropBins2_01/(np.ones(nSigmas)*FoMProp_pap),label='kgTE, kmax = {0}'.format(kmax1))\n",
    "plt.plot(redshifts,FoMPropBins2_02/(np.ones(nSigmas)*FoMProp_pap),label='kgTE, kmax = {0}'.format(kmax2))\n",
    "plt.plot(redshifts,np.ones(nSigmas),label='pap')\n",
    "plt.legend(loc=(0.5,0.1))\n",
    "plt.xlabel('redshift',fontsize=15)\n",
    "plt.ylabel('FoM(kgTE)/FoM(pap)',fontsize=15)\n",
    "#plt.ylim((0,0.0001))\n",
    "plt.show()\n",
    "print FoMPropBins2_01[-1]/FoMProp_pap, FoMPropBins2_02[-1]/FoMProp_pap"
   ]
  },
  {
   "cell_type": "code",
   "execution_count": null,
   "metadata": {},
   "outputs": [],
   "source": []
  },
  {
   "cell_type": "code",
   "execution_count": null,
   "metadata": {},
   "outputs": [],
   "source": []
  },
  {
   "cell_type": "code",
   "execution_count": null,
   "metadata": {},
   "outputs": [],
   "source": []
  }
 ],
 "metadata": {
  "kernelspec": {
   "display_name": "Python 2",
   "language": "python",
   "name": "python2"
  },
  "language_info": {
   "codemirror_mode": {
    "name": "ipython",
    "version": 2
   },
   "file_extension": ".py",
   "mimetype": "text/x-python",
   "name": "python",
   "nbconvert_exporter": "python",
   "pygments_lexer": "ipython2",
   "version": "2.7.15"
  }
 },
 "nbformat": 4,
 "nbformat_minor": 2
}
