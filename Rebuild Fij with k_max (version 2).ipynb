{
 "cells": [
  {
   "cell_type": "markdown",
   "metadata": {},
   "source": [
    "# Make a FisherMatrix object that was only limited by l_max also have a k_max limit"
   ]
  },
  {
   "cell_type": "code",
   "execution_count": 1,
   "metadata": {},
   "outputs": [
    {
     "name": "stderr",
     "output_type": "stream",
     "text": [
      "IMPORT ERROR: /opt/local/Library/Frameworks/Python.framework/Versions/2.7/lib/python2.7/site-packages/quicklens/mpi.pyc (No module named pypar). Could not load pbs or pypar. MPI will not be used.\n"
     ]
    }
   ],
   "source": [
    "import crosspower as cp\n",
    "import FisherCl as fcl # branch quickCl\n",
    "#import noiseCl as ncl\n",
    "#import camb\n",
    "\n",
    "# set plotting to be in the notebook instead of its own qt window\n",
    "%matplotlib inline"
   ]
  },
  {
   "cell_type": "markdown",
   "metadata": {},
   "source": [
    "# Load two k,g + T,E Fisher Objects with noise"
   ]
  },
  {
   "cell_type": "code",
   "execution_count": 2,
   "metadata": {},
   "outputs": [
    {
     "name": "stdout",
     "output_type": "stream",
     "text": [
      "[ 0.  1.  2.  3.  4.  5.  6.  8.  9. 10. 11. 12. 13. 16. 17. 18. 19. 20.\n",
      " 24. 25. 26. 27. 32. 33. 34. 40. 41. 48.]\n",
      "['k,k', 'k,g1', 'k,g2', 'k,g3', 'k,g4', 'k,g5', 'k,g6', 'g1,g1', 'g1,g2', 'g1,g3', 'g1,g4', 'g1,g5', 'g1,g6', 'g2,g2', 'g2,g3', 'g2,g4', 'g2,g5', 'g2,g6', 'g3,g3', 'g3,g4', 'g3,g5', 'g3,g6', 'g4,g4', 'g4,g5', 'g4,g6', 'g5,g5', 'g5,g6', 'g6,g6']\n",
      "['ombh2', 'omch2', 'cosmomc_theta', 'As', 'ns', 'tau', 'mnu', 'wa', 'w', 'bin1', 'bin2', 'bin3', 'bin4', 'bin5', 'bin6']\n",
      "(15, 15)\n",
      "(9, 9)\n",
      "15\n",
      "9\n"
     ]
    }
   ],
   "source": [
    "# Load saved Fobj2, Fobj4\n",
    "# The suffix 2 is for nonlinear, suffix 4 is for linear (just to keep with the established pattern)\n",
    "\n",
    "import FisherCl as fcl\n",
    "import noiseCl as ncl\n",
    "import crosspower as cp\n",
    "import pickle\n",
    "\n",
    "filehandler2 = open('Fisher_7_6X2_w2_wan.obj','r') # AccuracyBoost=3, lmax=3000, lmaxP=5000, nz=3e5; nonlinear=True,\n",
    "filehandler4 = open('Fisher_7_6X4_w2_wan.obj','r') # AccuracyBoost=3, lmax=3000, lmaxP=5000, nz=3e5; nonlinear=False,\n",
    "\n",
    "Fobj2 = pickle.load(filehandler2) \n",
    "Fobj4 = pickle.load(filehandler4) \n",
    "\n",
    "\n",
    "lmin = Fobj2.lmin\n",
    "lmax = Fobj2.lmax\n",
    "nBins = Fobj2.nBins\n",
    "nMaps = Fobj2.nBins + 1\n",
    "nParams = Fobj2.nParams\n",
    "nCosParams = Fobj2.nParams - Fobj2.nBins\n",
    "ells = Fobj2.ells\n",
    "obsNames = Fobj2.obsNames\n",
    "paramList = Fobj2.paramList\n",
    "\n",
    "print Fobj2.obsList\n",
    "print Fobj2.obsNames\n",
    "print Fobj2.paramList\n",
    "\n",
    "print Fobj2.Fij.shape\n",
    "print Fobj2.FijTE.shape\n",
    "print Fobj2.nParams\n",
    "print Fobj2.nCosParams\n",
    "\n"
   ]
  },
  {
   "cell_type": "code",
   "execution_count": null,
   "metadata": {},
   "outputs": [],
   "source": [
    "\n"
   ]
  },
  {
   "cell_type": "markdown",
   "metadata": {},
   "source": [
    "# Create $\\chi(z)$ and $\\ell_{max}(k_{max})$ functions"
   ]
  },
  {
   "cell_type": "code",
   "execution_count": 3,
   "metadata": {},
   "outputs": [
    {
     "name": "stderr",
     "output_type": "stream",
     "text": [
      "WARNING:root:accuracy parameters are changed globally, not yet per parameter set\n"
     ]
    },
    {
     "name": "stdout",
     "output_type": "stream",
     "text": [
      "get nonlinear P(k)...\n",
      "neutrino_hierarchy =  normal\n",
      "zs.size:  299998\n"
     ]
    },
    {
     "name": "stderr",
     "output_type": "stream",
     "text": [
      "WARNING:root:accuracy parameters are changed globally, not yet per parameter set\n"
     ]
    },
    {
     "name": "stdout",
     "output_type": "stream",
     "text": [
      "get linear P(k)...\n",
      "neutrino_hierarchy =  normal\n",
      "zs.size:  299998\n",
      "redshift of bin edges:  [0.0, 0.5, 1.0, 2.0, 3.0, 4.0, 7.0]\n",
      "Chi of bin edges (nonlin):  [   0.         1950.44919026 3401.79011072 5316.35643872 6513.17408605\n",
      " 7341.61485851 8822.44868898]\n",
      "Chi of bin edges (linear):  [   0.         1950.44919184 3401.79011296 5316.35644135 6513.17408877\n",
      " 7341.61486127 8822.44869176]\n"
     ]
    }
   ],
   "source": [
    "# MatterPower has a getChiOfZ function, but MatterPower object has been stripped from saved Fobj\n",
    "# get params for MatterPower from FisherMatrix:\n",
    "def getPk(Fobj):\n",
    "    return cp.MatterPower(nz=Fobj.nz,AccuracyBoost=Fobj.AccuracyBoost,nonlinear=Fobj.nonlinear,**Fobj.cosParams)\n",
    "\n",
    "print 'get nonlinear P(k)...'\n",
    "myPk2 = getPk(Fobj2)\n",
    "print 'get linear P(k)...'\n",
    "myPk4 = getPk(Fobj4)\n",
    "\n",
    "chiOfZ2 = myPk2.getChiofZ()\n",
    "chiOfZ4 = myPk4.getChiofZ()\n",
    "\n",
    "# define bin edges\n",
    "# the selection of beesBins must be consistent with that which was selected in cp.tophat\n",
    "beesBins = True\n",
    "if beesBins:\n",
    "    binEdges = [0.0,0.5,1.0,2.0,3.0,4.0,7.0]\n",
    "else:\n",
    "    binEdges = np.linspace(Fobj.zmin,Fobj.zmax,Fobj.nBins+1)\n",
    "print 'redshift of bin edges: ',binEdges\n",
    "print 'Chi of bin edges (nonlin): ',chiOfZ2(binEdges)\n",
    "print 'Chi of bin edges (linear): ',chiOfZ4(binEdges)"
   ]
  },
  {
   "cell_type": "code",
   "execution_count": 4,
   "metadata": {},
   "outputs": [],
   "source": [
    "# lmax(kmax) function moved to within getKlimited function below"
   ]
  },
  {
   "cell_type": "code",
   "execution_count": null,
   "metadata": {},
   "outputs": [],
   "source": []
  },
  {
   "cell_type": "markdown",
   "metadata": {},
   "source": [
    "# Break apart covar and dClVecs as observables drop out"
   ]
  },
  {
   "cell_type": "code",
   "execution_count": 5,
   "metadata": {},
   "outputs": [],
   "source": [
    "# set the kmax values used throughout\n",
    "\n",
    "#kmax1 = 0.05  # don't go below this or bin 2 will have less than 50 ells and crash program\n",
    "#kmax2 = 0.075\n",
    "\n",
    "kmax1 = 0.1\n",
    "kmax2 = 0.2\n",
    "\n",
    "#kmax1 = 1.0\n",
    "#kmax2 = 2.0  # no need to go above this since it is high enough to only kill bin1\n"
   ]
  },
  {
   "cell_type": "code",
   "execution_count": 6,
   "metadata": {},
   "outputs": [],
   "source": [
    "# some helper functions for getKlimited, getKZlimited\n",
    "\n",
    "# define row,col deleting function\n",
    "def fixParam(Fij,pNum):\n",
    "    return np.delete(np.delete(Fij,pNum,0),pNum,1)\n",
    "\n",
    "# define the covar cutting function\n",
    "def covarCut(covar,dClVecs,preMask,cutNum,verbose=True):\n",
    "    \"\"\"\n",
    "    Purpose:\n",
    "        produce covar and dClVecs with fewer observables\n",
    "    Inputs:\n",
    "        covar,dClVecs: like in Fobj\n",
    "        preMask: this is a 1d array of binNumbers, \n",
    "          indicating which is the lowest bin number used for each row, col of covar \n",
    "          and each dClVec\n",
    "        cutNum: a number contained in preMask indicating which rows, cols of covar, dClVecs to cut\n",
    "    Returns:\n",
    "        cut versions of covar,dClVecs,preMask\n",
    "    \"\"\"\n",
    "    #toCut = np.flip(np.where(preMask[0]==cutNum),1)\n",
    "    toCut = np.flip(np.where(preMask==cutNum),1) # removed 2nd dim of preMask since not needed\n",
    "    if verbose:\n",
    "        print 'to cut: ',toCut\n",
    "    for cut in toCut:\n",
    "        covar = fixParam(covar,cut)\n",
    "        #preMask = fixParam(preMask,cut)\n",
    "        preMask = np.delete(preMask,cut,0)\n",
    "        dClVecs = np.delete(dClVecs,cut,0)\n",
    "    if verbose:\n",
    "        print 'covar.shape: ',covar.shape,', dClVecs.shape: ',dClVecs.shape\n",
    "        print 'premask: ',preMask\n",
    "    return covar,dClVecs,preMask\n"
   ]
  },
  {
   "cell_type": "code",
   "execution_count": 7,
   "metadata": {},
   "outputs": [],
   "source": [
    "# check effect of dropping bin 1\n",
    "# first define local makeFisher function\n",
    "# (copied from below; don't really need both.)\n",
    "def makeFij(dClVecs,invCov,nParams):\n",
    "    \"\"\"\n",
    "    This may replace the previous makeFisher function... blah blah blah.\n",
    "    Inputs:\n",
    "        all must have same ell range.  All ell values will be summed over.\n",
    "    \"\"\"\n",
    "    Fij = np.zeros((nParams,nParams)) # indices match those in paramList\n",
    "    for i in range(nParams):\n",
    "      dClVec_i = dClVecs[:,i,:] # shape (nCls,nElls)\n",
    "      for j in range(nParams):\n",
    "        dClVec_j = dClVecs[:,j,:] # shape (nCls,nElls)\n",
    "        # here is the summation over ell:\n",
    "        for ellInd in range(invCov.shape[2]):\n",
    "          #print dClVec_i.shape,invCov.shape,dClVec_j.shape\n",
    "          fij = np.dot(dClVec_i[:,ellInd],np.dot(invCov[:,:,ellInd],dClVec_j[:,ellInd]))\n",
    "          Fij[i,j] += fij\n",
    "    return Fij\n"
   ]
  },
  {
   "cell_type": "code",
   "execution_count": 8,
   "metadata": {},
   "outputs": [
    {
     "name": "stdout",
     "output_type": "stream",
     "text": [
      "(28, 15, 2999)\n",
      "(28, 28, 2999)\n"
     ]
    }
   ],
   "source": [
    "# get pieces of Fobj2 for making Fij\n",
    "dClVecs2 = Fobj2.dClVecs\n",
    "covar2 = Fobj2.covar\n",
    "\n",
    "invCov2 = np.transpose(np.linalg.inv(np.transpose(covar2)))\n",
    "myLmin = 50\n",
    "lmin = Fobj2.lmin #2\n",
    "myLmax = 2000\n",
    "print dClVecs2.shape\n",
    "print invCov2.shape"
   ]
  },
  {
   "cell_type": "code",
   "execution_count": 9,
   "metadata": {},
   "outputs": [],
   "source": [
    "# trim the bottom and get Fij\n",
    "dClVecs50 = dClVecs2[:,:,myLmin-lmin:myLmax-lmin]\n",
    "invCov50 = invCov2[:,:,myLmin-lmin:myLmax-lmin]\n",
    "Fij50 = makeFij(dClVecs50,invCov50,Fobj2.nParams)"
   ]
  },
  {
   "cell_type": "code",
   "execution_count": 10,
   "metadata": {},
   "outputs": [],
   "source": [
    "# this function also doubled from below\n",
    "def getSigmas(Fij):\n",
    "    #print np.diag(np.linalg.inv(Fij))\n",
    "    return np.sqrt(np.diag(np.linalg.inv(Fij)))\n",
    " \n",
    "sigmas50 = getSigmas(Fij50)"
   ]
  },
  {
   "cell_type": "code",
   "execution_count": 11,
   "metadata": {},
   "outputs": [
    {
     "name": "stdout",
     "output_type": "stream",
     "text": [
      "map i numbers:  [0. 0. 0. 0. 0. 0. 0. 1. 1. 1. 1. 1. 1. 2. 2. 2. 2. 2. 3. 3. 3. 3. 4. 4.\n",
      " 4. 5. 5. 6.]\n",
      "map j numbers:  [0. 1. 2. 3. 4. 5. 6. 1. 2. 3. 4. 5. 6. 2. 3. 4. 5. 6. 3. 4. 5. 6. 4. 5.\n",
      " 6. 5. 6. 6.]\n"
     ]
    }
   ],
   "source": [
    "# excise bin 1 and repeat Fij, sigmas calc.\n",
    "#print Fobj.obsList\n",
    "nMaps = Fobj2.nBins + 1\n",
    "map1List = np.floor(Fobj2.obsList/nMaps)\n",
    "map2List = Fobj2.obsList%nMaps\n",
    "print 'map i numbers: ',map1List\n",
    "print 'map j numbers: ',map2List"
   ]
  },
  {
   "cell_type": "code",
   "execution_count": 12,
   "metadata": {},
   "outputs": [
    {
     "name": "stdout",
     "output_type": "stream",
     "text": [
      "[0. 1. 0. 0. 0. 0. 0. 1. 1. 1. 1. 1. 1. 0. 0. 0. 0. 0. 0. 0. 0. 0. 0. 0.\n",
      " 0. 0. 0. 0.]\n",
      "[1. 1. 1. 1. 1. 1. 0.]\n",
      "[6. 5. 4. 3. 2. 1. 1.]\n",
      "to cut:  [[12 11 10  9  8  7  1]]\n",
      "covar.shape:  (21, 21, 2999) , dClVecs.shape:  (21, 15, 2999)\n",
      "premask:  [0. 0. 0. 0. 0. 0. 0. 0. 0. 0. 0. 0. 0. 0. 0. 0. 0. 0. 0. 0. 0.]\n",
      "done.\n"
     ]
    }
   ],
   "source": [
    "whereOnes = [12,11,10,9,8,7,1]\n",
    "preMaskOne = np.zeros((28))\n",
    "preMaskOne[whereOnes] = 1\n",
    "print preMaskOne\n",
    "print map1List[whereOnes]\n",
    "print map2List[whereOnes]\n",
    "toCut = 1\n",
    "covarOne,dClVecsOne,preMaskOne = covarCut(covar2.copy(),dClVecs2.copy(),preMaskOne,toCut)\n",
    "print 'done.'"
   ]
  },
  {
   "cell_type": "code",
   "execution_count": 13,
   "metadata": {},
   "outputs": [],
   "source": [
    "invCovOne = np.transpose(np.linalg.inv(np.transpose(covarOne)))\n",
    "dClVecs50B = dClVecsOne[:,:,myLmin-lmin:myLmax-lmin]\n",
    "invCov50B = invCovOne[:,:,myLmin-lmin:myLmax-lmin]\n",
    "Fij50B = makeFij(dClVecs50B,invCov50B,Fobj2.nParams)"
   ]
  },
  {
   "cell_type": "code",
   "execution_count": 14,
   "metadata": {},
   "outputs": [
    {
     "name": "stdout",
     "output_type": "stream",
     "text": [
      "[0. 0. 0. 0. 0. 0. 0. 0. 0. 0. 0. 0. 0. 0. 0.]\n"
     ]
    }
   ],
   "source": [
    "print Fij50B[:,9]\n",
    "# again, copied from below\n",
    "def fixParam(Fij,pNum):\n",
    "        return np.delete(np.delete(Fij,pNum,0),pNum,1)\n",
    "Fij50B = fixParam(Fij50B,9)\n",
    "sigmas50B = getSigmas(Fij50B)"
   ]
  },
  {
   "cell_type": "code",
   "execution_count": 15,
   "metadata": {},
   "outputs": [
    {
     "name": "stdout",
     "output_type": "stream",
     "text": [
      "with bin1, and without bin1\n",
      "+---------------+-----------------+----------------+---------------+\n",
      "|   Parameter   | sigmas_yes_bin1 | sigmas_no_bin1 | percent diff. |\n",
      "+---------------+-----------------+----------------+---------------+\n",
      "|     ombh2     |      0.0928     |     0.0932     |     0.426     |\n",
      "|     omch2     |      0.272      |     0.273      |     0.375     |\n",
      "| cosmomc_theta |      0.0393     |     0.0396     |     0.705     |\n",
      "|       As      |     6.48e-09    |    6.51e-09    |     0.557     |\n",
      "|       ns      |      0.674      |     0.678      |     0.616     |\n",
      "|      tau      |        607      |       613      |     0.873     |\n",
      "|      mnu      |       2.92      |      2.95      |      1.06     |\n",
      "|       wa      |       53.6      |        54      |     0.809     |\n",
      "|       w       |       22.4      |      22.6      |     0.989     |\n",
      "+---------------+-----------------+----------------+---------------+\n"
     ]
    }
   ],
   "source": [
    "from prettytable import PrettyTable\n",
    "\n",
    "print 'with bin1, and without bin1'\n",
    "t = PrettyTable(['Parameter','sigmas_yes_bin1','sigmas_no_bin1','percent diff.'])\n",
    "for i,p in enumerate(paramList[:nCosParams]):\n",
    "    Zi = sigmas50[i]\n",
    "    Bi = sigmas50B[i]\n",
    "    diff = (Bi-Zi)/Zi *100\n",
    "    t.add_row([p,\"%5.3g\" % Zi,\"%5.3g\" % Bi, \"%5.3g\" % diff ] )\n",
    "print t\n"
   ]
  },
  {
   "cell_type": "code",
   "execution_count": 16,
   "metadata": {},
   "outputs": [],
   "source": [
    "# ok, that increased uncertainties, as expected.\n",
    "# Also, sigmas_no_bin1 is the same result as with ketKlimited(kmax=5), which also just excises bin1."
   ]
  },
  {
   "cell_type": "code",
   "execution_count": null,
   "metadata": {},
   "outputs": [],
   "source": []
  },
  {
   "cell_type": "code",
   "execution_count": null,
   "metadata": {},
   "outputs": [],
   "source": []
  },
  {
   "cell_type": "code",
   "execution_count": null,
   "metadata": {},
   "outputs": [],
   "source": []
  },
  {
   "cell_type": "code",
   "execution_count": 17,
   "metadata": {},
   "outputs": [
    {
     "name": "stdout",
     "output_type": "stream",
     "text": [
      "starting nonlinear P(k), kmax = 0.1...\n",
      "kmax =  5 : lmax =  [    2  9751 17008 26581 32565 36707 44111]\n",
      "obs names:  ['k,k', 'k,g1', 'k,g2', 'k,g3', 'k,g4', 'k,g5', 'k,g6', 'g1,g1', 'g1,g2', 'g1,g3', 'g1,g4', 'g1,g5', 'g1,g6', 'g2,g2', 'g2,g3', 'g2,g4', 'g2,g5', 'g2,g6', 'g3,g3', 'g3,g4', 'g3,g5', 'g3,g6', 'g4,g4', 'g4,g5', 'g4,g6', 'g5,g5', 'g5,g6', 'g6,g6']\n",
      "map i numbers:  [0. 0. 0. 0. 0. 0. 0. 1. 1. 1. 1. 1. 1. 2. 2. 2. 2. 2. 3. 3. 3. 3. 4. 4.\n",
      " 4. 5. 5. 6.]\n",
      "map j numbers:  [0. 1. 2. 3. 4. 5. 6. 1. 2. 3. 4. 5. 6. 2. 3. 4. 5. 6. 3. 4. 5. 6. 4. 5.\n",
      " 6. 5. 6. 6.]\n",
      "invCov shape:  (28, 28, 2999) number of observables:  28\n",
      "lmin, lmax for k,g summation:  2 2000\n",
      "preMask shape:  (28, 28)\n",
      "[0 1 2 3 4 5 6 1 1 1 1 1 1 2 2 2 2 2 3 3 3 3 4 4 4 5 5 6]\n",
      "covar shape:  (28, 28, 2999)\n",
      "dClVecs shape:  (28, 15, 2999)\n",
      "\n",
      "starting binNum 1 of 6...\n",
      "to cut:  [[12 11 10  9  8  7  1]]\n",
      "covar.shape:  (21, 21, 2999) , dClVecs.shape:  (21, 15, 2999)\n",
      "premask:  [0 2 3 4 5 6 2 2 2 2 2 3 3 3 3 4 4 4 5 5 6]\n",
      "binNum =  0 , covarBins.shape =  (21, 21, 1998) , dClVecsBins.shape =  (21, 15, 1998)\n",
      "covariance shape:  (21, 21, 1998)\n",
      "derivative array shape:  (21, 15, 1998)\n",
      "bin $\\ell_{min} = 2$, bin $\\ell_{max} = 9750$\n",
      "done\n"
     ]
    }
   ],
   "source": [
    "# define function for creating blocks for making Fij\n",
    "def getKlimited(binEdges,chiOfZ,Fobj,kmax=0.1,kgLmax=2000):\n",
    "    \"\"\"\n",
    "    Purpose:\n",
    "        Chop up Fobj.covar and Fobj.dClVecs into blocks that correspond to having ell values\n",
    "          below ell(k_max,low_z_bin_edge) in Limber approximation\n",
    "    Inputs:\n",
    "        binEdges: an array of redshifts indicating the edges of the redshift bins\n",
    "        chiOfZ: a distance-redshift relation function chi(z)\n",
    "        Fobj: FisherMatrix object\n",
    "        kmax: set the limit that controls the lmax of each redshift bin via Limber appx\n",
    "          default: 0.1\n",
    "        kgLmax: ell_max value for k,g\n",
    "          default: 2000\n",
    "    Returns:\n",
    "        covarBins,dClVecsBins: lists of covar and dClVecs arrays to be used for making Fisher matrix\n",
    "        lmaxByBin: the ell_max for each bin edge\n",
    "        preMaskBins: list of one dimensional masks containing minimum bin numbers for covarBins,dClVecsBins\n",
    "    \"\"\"\n",
    "    # create lmax function via the Limber approximation\n",
    "    myLmax = lambda kmax: np.floor(kmax*chiOfZ(binEdges)-0.5).astype(int)\n",
    "    lmaxByBin = myLmax(kmax) # gives array of lmax at lower bin edges\n",
    "    # the -1 is from the -0.5 in the Limber approximation put into the floor function\n",
    "\n",
    "    # modify this for use in looping below\n",
    "    lmin = Fobj.lmin\n",
    "    lmaxByBin[0] = Fobj.lmin\n",
    "    if lmaxByBin[-1] < kgLmax:\n",
    "        lmaxByBin[-1] = kgLmax\n",
    "    print 'kmax = ',kmax,': lmax = ',lmaxByBin\n",
    "    \n",
    "    # get codes describing observables\n",
    "    nBins = Fobj.nBins\n",
    "    nMaps = Fobj.nBins+1\n",
    "    print 'obs names: ',Fobj.obsNames\n",
    "    #print Fobj.obsList\n",
    "    map1List = np.floor(Fobj.obsList/nMaps)\n",
    "    map2List = Fobj.obsList%nMaps\n",
    "    print 'map i numbers: ',map1List\n",
    "    print 'map j numbers: ',map2List\n",
    "\n",
    "    print 'invCov shape: ',Fobj.invCov.shape, 'number of observables: ',Fobj.obsList.shape[0]\n",
    "    print 'lmin, lmax for k,g summation: ',lmin,kgLmax\n",
    "\n",
    "    # create mask for covariance matrix to be applied to implement lmax\n",
    "    mSize = Fobj.obsList.__len__()\n",
    "    preMask = np.zeros((mSize,mSize)) # contains lowest bin number (>0) of 4 used in covar\n",
    "    print 'preMask shape: ',preMask.shape\n",
    "    for i in range(mSize):\n",
    "        for j in range(i,mSize):\n",
    "            myMaps = np.array([map1List[i],map1List[j],map2List[i],map2List[j]])        \n",
    "            if i>0 or j>0:\n",
    "                preMask[i,j] = np.min(myMaps[np.where(myMaps>0)])\n",
    "                preMask[j,i] = preMask[i,j]\n",
    "            else:\n",
    "                preMask[0,0] = 0\n",
    "            #print i,j,myMaps, myMaps[np.where(myMaps>0)], preMask[i,j]\n",
    "    preMask = preMask.astype(int)\n",
    "    print preMask[0]\n",
    "    \n",
    "    covar=Fobj.covar\n",
    "    dClVecs=Fobj.dClVecs\n",
    "    print 'covar shape: ',covar.shape\n",
    "    print 'dClVecs shape: ',dClVecs.shape\n",
    "        \n",
    "    # cut out all covar,dClVecs,preMask elements with row/col of 1s below lmaxByBin[0] = -1 : so all the way to lmin.\n",
    "\n",
    "    # prepare containers for the results\n",
    "    covarBins = []\n",
    "    dClVecsBins = []\n",
    "    preMaskBins = []\n",
    "\n",
    "    # iterate as bins are removed\n",
    "    verbose = True\n",
    "    myEllMin = lmaxByBin[0]\n",
    "    myEllMax = lmaxByBin[1]\n",
    "    lastBlock = False # for stopping iteration if myEllMax is below kgLmax\n",
    "    preMaskLine = preMask[0] # modified to use just the first line\n",
    "    for binNum in range(nBins):\n",
    "        print '\\nstarting binNum {0} of {1}...'.format(binNum+1,nBins)\n",
    "        covar,dClVecs,preMaskLine = covarCut(covar,dClVecs,preMaskLine,binNum+1,verbose=verbose)\n",
    "\n",
    "        if lmaxByBin[binNum+1] < kgLmax:\n",
    "            myEllMin = lmaxByBin[binNum]\n",
    "            myEllMax = lmaxByBin[binNum+1]\n",
    "        else:\n",
    "            if lmaxByBin[binNum] < kgLmax:\n",
    "                # prob. don't need this if here since only one endpoint will pass kgLmax then end the for loop\n",
    "                myEllMin = lmaxByBin[binNum]\n",
    "            myEllMax = kgLmax\n",
    "            lastBlock = True\n",
    "            \n",
    "        covarBins.append( covar[:,:,myEllMin-lmin:myEllMax-lmin] )\n",
    "        dClVecsBins.append( dClVecs[:,:,myEllMin-lmin:myEllMax-lmin] )\n",
    "        preMaskBins.append( preMaskLine.copy() )\n",
    "        print 'binNum = ',binNum,', covarBins.shape = ',covarBins[binNum].shape,', dClVecsBins.shape = ',dClVecsBins[binNum].shape\n",
    "        if verbose:\n",
    "            print 'covariance shape: ',covarBins[binNum].shape\n",
    "            print 'derivative array shape: ',dClVecsBins[binNum].shape\n",
    "            print r'bin $\\ell_{{min}} = {0}$, bin $\\ell_{{max}} = {1}$'.format(lmaxByBin[binNum],lmaxByBin[binNum+1]-1)\n",
    "        if lastBlock:\n",
    "            break # should break the for binNum loop\n",
    "            \n",
    "    print 'done'  \n",
    "    return covarBins,dClVecsBins,lmaxByBin,preMaskBins\n",
    "\n",
    "# test it\n",
    "print 'starting nonlinear P(k), kmax = {0}...'.format(kmax1)\n",
    "covarBins2_01,dClVecsBins2_01,lmaxByBin2_01,preMaskBins2_01 = getKlimited(binEdges,chiOfZ2,Fobj2,kmax=5)\n"
   ]
  },
  {
   "cell_type": "code",
   "execution_count": null,
   "metadata": {},
   "outputs": [],
   "source": []
  },
  {
   "cell_type": "code",
   "execution_count": null,
   "metadata": {},
   "outputs": [],
   "source": []
  },
  {
   "cell_type": "code",
   "execution_count": 18,
   "metadata": {},
   "outputs": [
    {
     "name": "stdout",
     "output_type": "stream",
     "text": [
      "done.\n"
     ]
    }
   ],
   "source": [
    "# testing\n",
    "invCovOneC = np.transpose(np.linalg.inv(np.transpose(covarBins2_01[0])))\n",
    "dClVecs50C = dClVecsBins2_01[0][:,:,myLmin-lmin:myLmax-lmin]\n",
    "invCov50C = invCovOneC[:,:,myLmin-lmin:myLmax-lmin]\n",
    "Fij50C = makeFij(dClVecs50C,invCov50C,Fobj2.nParams)\n",
    "Fij50C = fixParam(Fij50C,9)\n",
    "sigmas50C = getSigmas(Fij50C)\n",
    "print 'done.'"
   ]
  },
  {
   "cell_type": "code",
   "execution_count": null,
   "metadata": {},
   "outputs": [],
   "source": []
  },
  {
   "cell_type": "code",
   "execution_count": 19,
   "metadata": {},
   "outputs": [
    {
     "name": "stdout",
     "output_type": "stream",
     "text": [
      "without bin1\n",
      "+---------------+-----------------+-----------------+---------------+\n",
      "|   Parameter   | sigmas_no_bin1B | sigmas_no_bin1C | percent diff. |\n",
      "+---------------+-----------------+-----------------+---------------+\n",
      "|     ombh2     |      0.0932     |      0.0932     |         0     |\n",
      "|     omch2     |      0.273      |      0.273      |         0     |\n",
      "| cosmomc_theta |      0.0396     |      0.0396     |         0     |\n",
      "|       As      |     6.51e-09    |     6.51e-09    |         0     |\n",
      "|       ns      |      0.678      |      0.678      |         0     |\n",
      "|      tau      |        613      |        613      |         0     |\n",
      "|      mnu      |       2.95      |       2.95      |         0     |\n",
      "|       wa      |         54      |         54      |         0     |\n",
      "|       w       |       22.6      |       22.6      |         0     |\n",
      "+---------------+-----------------+-----------------+---------------+\n"
     ]
    }
   ],
   "source": [
    "print 'without bin1'\n",
    "t = PrettyTable(['Parameter','sigmas_no_bin1B','sigmas_no_bin1C','percent diff.'])\n",
    "for i,p in enumerate(paramList[:nCosParams]):\n",
    "    Zi = sigmas50B[i]\n",
    "    Bi = sigmas50C[i]\n",
    "    diff = (Bi-Zi)/Zi *100\n",
    "    t.add_row([p,\"%5.3g\" % Zi,\"%5.3g\" % Bi, \"%5.3g\" % diff ] )\n",
    "print t\n"
   ]
  },
  {
   "cell_type": "code",
   "execution_count": null,
   "metadata": {},
   "outputs": [],
   "source": []
  },
  {
   "cell_type": "code",
   "execution_count": null,
   "metadata": {},
   "outputs": [],
   "source": []
  },
  {
   "cell_type": "code",
   "execution_count": null,
   "metadata": {},
   "outputs": [],
   "source": []
  },
  {
   "cell_type": "code",
   "execution_count": null,
   "metadata": {},
   "outputs": [],
   "source": []
  },
  {
   "cell_type": "code",
   "execution_count": null,
   "metadata": {},
   "outputs": [],
   "source": []
  },
  {
   "cell_type": "code",
   "execution_count": null,
   "metadata": {},
   "outputs": [],
   "source": []
  },
  {
   "cell_type": "code",
   "execution_count": null,
   "metadata": {},
   "outputs": [],
   "source": []
  },
  {
   "cell_type": "code",
   "execution_count": null,
   "metadata": {},
   "outputs": [],
   "source": []
  },
  {
   "cell_type": "code",
   "execution_count": 20,
   "metadata": {
    "scrolled": true
   },
   "outputs": [
    {
     "name": "stdout",
     "output_type": "stream",
     "text": [
      "starting nonlinear P(k), kmax = 0.1...\n",
      "kmax =  0.1 : lmax =  [   2  194  339  531  650  733 2000]\n",
      "obs names:  ['k,k', 'k,g1', 'k,g2', 'k,g3', 'k,g4', 'k,g5', 'k,g6', 'g1,g1', 'g1,g2', 'g1,g3', 'g1,g4', 'g1,g5', 'g1,g6', 'g2,g2', 'g2,g3', 'g2,g4', 'g2,g5', 'g2,g6', 'g3,g3', 'g3,g4', 'g3,g5', 'g3,g6', 'g4,g4', 'g4,g5', 'g4,g6', 'g5,g5', 'g5,g6', 'g6,g6']\n",
      "map i numbers:  [0. 0. 0. 0. 0. 0. 0. 1. 1. 1. 1. 1. 1. 2. 2. 2. 2. 2. 3. 3. 3. 3. 4. 4.\n",
      " 4. 5. 5. 6.]\n",
      "map j numbers:  [0. 1. 2. 3. 4. 5. 6. 1. 2. 3. 4. 5. 6. 2. 3. 4. 5. 6. 3. 4. 5. 6. 4. 5.\n",
      " 6. 5. 6. 6.]\n",
      "invCov shape:  (28, 28, 2999) number of observables:  28\n",
      "lmin, lmax for k,g summation:  2 2000\n",
      "preMask shape:  (28, 28)\n",
      "[0 1 2 3 4 5 6 1 1 1 1 1 1 2 2 2 2 2 3 3 3 3 4 4 4 5 5 6]\n",
      "covar shape:  (28, 28, 2999)\n",
      "dClVecs shape:  (28, 15, 2999)\n",
      "\n",
      "starting binNum 1 of 6...\n",
      "to cut:  [[12 11 10  9  8  7  1]]\n",
      "covar.shape:  (21, 21, 2999) , dClVecs.shape:  (21, 15, 2999)\n",
      "premask:  [0 2 3 4 5 6 2 2 2 2 2 3 3 3 3 4 4 4 5 5 6]\n",
      "binNum =  0 , covarBins.shape =  (21, 21, 192) , dClVecsBins.shape =  (21, 15, 192)\n",
      "covariance shape:  (21, 21, 192)\n",
      "derivative array shape:  (21, 15, 192)\n",
      "bin $\\ell_{min} = 2$, bin $\\ell_{max} = 193$\n",
      "\n",
      "starting binNum 2 of 6...\n",
      "to cut:  [[10  9  8  7  6  1]]\n",
      "covar.shape:  (15, 15, 2999) , dClVecs.shape:  (15, 15, 2999)\n",
      "premask:  [0 3 4 5 6 3 3 3 3 4 4 4 5 5 6]\n",
      "binNum =  1 , covarBins.shape =  (15, 15, 145) , dClVecsBins.shape =  (15, 15, 145)\n",
      "covariance shape:  (15, 15, 145)\n",
      "derivative array shape:  (15, 15, 145)\n",
      "bin $\\ell_{min} = 194$, bin $\\ell_{max} = 338$\n",
      "\n",
      "starting binNum 3 of 6...\n",
      "to cut:  [[8 7 6 5 1]]\n",
      "covar.shape:  (10, 10, 2999) , dClVecs.shape:  (10, 15, 2999)\n",
      "premask:  [0 4 5 6 4 4 4 5 5 6]\n",
      "binNum =  2 , covarBins.shape =  (10, 10, 192) , dClVecsBins.shape =  (10, 15, 192)\n",
      "covariance shape:  (10, 10, 192)\n",
      "derivative array shape:  (10, 15, 192)\n",
      "bin $\\ell_{min} = 339$, bin $\\ell_{max} = 530$\n",
      "\n",
      "starting binNum 4 of 6...\n",
      "to cut:  [[6 5 4 1]]\n",
      "covar.shape:  (6, 6, 2999) , dClVecs.shape:  (6, 15, 2999)\n",
      "premask:  [0 5 6 5 5 6]\n",
      "binNum =  3 , covarBins.shape =  (6, 6, 119) , dClVecsBins.shape =  (6, 15, 119)\n",
      "covariance shape:  (6, 6, 119)\n",
      "derivative array shape:  (6, 15, 119)\n",
      "bin $\\ell_{min} = 531$, bin $\\ell_{max} = 649$\n",
      "\n",
      "starting binNum 5 of 6...\n",
      "to cut:  [[4 3 1]]\n",
      "covar.shape:  (3, 3, 2999) , dClVecs.shape:  (3, 15, 2999)\n",
      "premask:  [0 6 6]\n",
      "binNum =  4 , covarBins.shape =  (3, 3, 83) , dClVecsBins.shape =  (3, 15, 83)\n",
      "covariance shape:  (3, 3, 83)\n",
      "derivative array shape:  (3, 15, 83)\n",
      "bin $\\ell_{min} = 650$, bin $\\ell_{max} = 732$\n",
      "\n",
      "starting binNum 6 of 6...\n",
      "to cut:  [[2 1]]\n",
      "covar.shape:  (1, 1, 2999) , dClVecs.shape:  (1, 15, 2999)\n",
      "premask:  [0]\n",
      "binNum =  5 , covarBins.shape =  (1, 1, 1267) , dClVecsBins.shape =  (1, 15, 1267)\n",
      "covariance shape:  (1, 1, 1267)\n",
      "derivative array shape:  (1, 15, 1267)\n",
      "bin $\\ell_{min} = 733$, bin $\\ell_{max} = 1999$\n",
      "done\n",
      "starting nonlinear P(k), kmax = 0.2...\n",
      "kmax =  0.2 : lmax =  [   2  389  679 1062 1302 1467 2000]\n",
      "obs names:  ['k,k', 'k,g1', 'k,g2', 'k,g3', 'k,g4', 'k,g5', 'k,g6', 'g1,g1', 'g1,g2', 'g1,g3', 'g1,g4', 'g1,g5', 'g1,g6', 'g2,g2', 'g2,g3', 'g2,g4', 'g2,g5', 'g2,g6', 'g3,g3', 'g3,g4', 'g3,g5', 'g3,g6', 'g4,g4', 'g4,g5', 'g4,g6', 'g5,g5', 'g5,g6', 'g6,g6']\n",
      "map i numbers:  [0. 0. 0. 0. 0. 0. 0. 1. 1. 1. 1. 1. 1. 2. 2. 2. 2. 2. 3. 3. 3. 3. 4. 4.\n",
      " 4. 5. 5. 6.]\n",
      "map j numbers:  [0. 1. 2. 3. 4. 5. 6. 1. 2. 3. 4. 5. 6. 2. 3. 4. 5. 6. 3. 4. 5. 6. 4. 5.\n",
      " 6. 5. 6. 6.]\n",
      "invCov shape:  (28, 28, 2999) number of observables:  28\n",
      "lmin, lmax for k,g summation:  2 2000\n",
      "preMask shape:  (28, 28)\n",
      "[0 1 2 3 4 5 6 1 1 1 1 1 1 2 2 2 2 2 3 3 3 3 4 4 4 5 5 6]\n",
      "covar shape:  (28, 28, 2999)\n",
      "dClVecs shape:  (28, 15, 2999)\n",
      "\n",
      "starting binNum 1 of 6...\n",
      "to cut:  [[12 11 10  9  8  7  1]]\n",
      "covar.shape:  (21, 21, 2999) , dClVecs.shape:  (21, 15, 2999)\n",
      "premask:  [0 2 3 4 5 6 2 2 2 2 2 3 3 3 3 4 4 4 5 5 6]\n",
      "binNum =  0 , covarBins.shape =  (21, 21, 387) , dClVecsBins.shape =  (21, 15, 387)\n",
      "covariance shape:  (21, 21, 387)\n",
      "derivative array shape:  (21, 15, 387)\n",
      "bin $\\ell_{min} = 2$, bin $\\ell_{max} = 388$\n",
      "\n",
      "starting binNum 2 of 6...\n",
      "to cut:  [[10  9  8  7  6  1]]\n",
      "covar.shape:  (15, 15, 2999) , dClVecs.shape:  (15, 15, 2999)\n",
      "premask:  [0 3 4 5 6 3 3 3 3 4 4 4 5 5 6]\n",
      "binNum =  1 , covarBins.shape =  (15, 15, 290) , dClVecsBins.shape =  (15, 15, 290)\n",
      "covariance shape:  (15, 15, 290)\n",
      "derivative array shape:  (15, 15, 290)\n",
      "bin $\\ell_{min} = 389$, bin $\\ell_{max} = 678$\n",
      "\n",
      "starting binNum 3 of 6...\n",
      "to cut:  [[8 7 6 5 1]]\n",
      "covar.shape:  (10, 10, 2999) , dClVecs.shape:  (10, 15, 2999)\n",
      "premask:  [0 4 5 6 4 4 4 5 5 6]\n",
      "binNum =  2 , covarBins.shape =  (10, 10, 383) , dClVecsBins.shape =  (10, 15, 383)\n",
      "covariance shape:  (10, 10, 383)\n",
      "derivative array shape:  (10, 15, 383)\n",
      "bin $\\ell_{min} = 679$, bin $\\ell_{max} = 1061$\n",
      "\n",
      "starting binNum 4 of 6...\n",
      "to cut:  [[6 5 4 1]]\n",
      "covar.shape:  (6, 6, 2999) , dClVecs.shape:  (6, 15, 2999)\n",
      "premask:  [0 5 6 5 5 6]\n",
      "binNum =  3 , covarBins.shape =  (6, 6, 240) , dClVecsBins.shape =  (6, 15, 240)\n",
      "covariance shape:  (6, 6, 240)\n",
      "derivative array shape:  (6, 15, 240)\n",
      "bin $\\ell_{min} = 1062$, bin $\\ell_{max} = 1301$\n",
      "\n",
      "starting binNum 5 of 6...\n",
      "to cut:  [[4 3 1]]\n",
      "covar.shape:  (3, 3, 2999) , dClVecs.shape:  (3, 15, 2999)\n",
      "premask:  [0 6 6]\n",
      "binNum =  4 , covarBins.shape =  (3, 3, 165) , dClVecsBins.shape =  (3, 15, 165)\n",
      "covariance shape:  (3, 3, 165)\n",
      "derivative array shape:  (3, 15, 165)\n",
      "bin $\\ell_{min} = 1302$, bin $\\ell_{max} = 1466$\n",
      "\n",
      "starting binNum 6 of 6...\n",
      "to cut:  [[2 1]]\n",
      "covar.shape:  (1, 1, 2999) , dClVecs.shape:  (1, 15, 2999)\n",
      "premask:  [0]\n",
      "binNum =  5 , covarBins.shape =  (1, 1, 533) , dClVecsBins.shape =  (1, 15, 533)\n",
      "covariance shape:  (1, 1, 533)\n",
      "derivative array shape:  (1, 15, 533)\n",
      "bin $\\ell_{min} = 1467$, bin $\\ell_{max} = 1999$\n",
      "done\n",
      "starting linear P(k), kmax = 0.1...\n",
      "kmax =  0.1 : lmax =  [   2  194  339  531  650  733 2000]\n",
      "obs names:  ['k,k', 'k,g1', 'k,g2', 'k,g3', 'k,g4', 'k,g5', 'k,g6', 'g1,g1', 'g1,g2', 'g1,g3', 'g1,g4', 'g1,g5', 'g1,g6', 'g2,g2', 'g2,g3', 'g2,g4', 'g2,g5', 'g2,g6', 'g3,g3', 'g3,g4', 'g3,g5', 'g3,g6', 'g4,g4', 'g4,g5', 'g4,g6', 'g5,g5', 'g5,g6', 'g6,g6']\n",
      "map i numbers:  [0. 0. 0. 0. 0. 0. 0. 1. 1. 1. 1. 1. 1. 2. 2. 2. 2. 2. 3. 3. 3. 3. 4. 4.\n",
      " 4. 5. 5. 6.]\n",
      "map j numbers:  [0. 1. 2. 3. 4. 5. 6. 1. 2. 3. 4. 5. 6. 2. 3. 4. 5. 6. 3. 4. 5. 6. 4. 5.\n",
      " 6. 5. 6. 6.]\n",
      "invCov shape:  (28, 28, 2999) number of observables:  28\n",
      "lmin, lmax for k,g summation:  2 2000\n",
      "preMask shape:  (28, 28)\n",
      "[0 1 2 3 4 5 6 1 1 1 1 1 1 2 2 2 2 2 3 3 3 3 4 4 4 5 5 6]\n",
      "covar shape:  (28, 28, 2999)\n",
      "dClVecs shape:  (28, 15, 2999)\n",
      "\n",
      "starting binNum 1 of 6...\n",
      "to cut:  [[12 11 10  9  8  7  1]]\n",
      "covar.shape:  (21, 21, 2999) , dClVecs.shape:  (21, 15, 2999)\n",
      "premask:  [0 2 3 4 5 6 2 2 2 2 2 3 3 3 3 4 4 4 5 5 6]\n",
      "binNum =  0 , covarBins.shape =  (21, 21, 192) , dClVecsBins.shape =  (21, 15, 192)\n",
      "covariance shape:  (21, 21, 192)\n",
      "derivative array shape:  (21, 15, 192)\n",
      "bin $\\ell_{min} = 2$, bin $\\ell_{max} = 193$\n",
      "\n",
      "starting binNum 2 of 6...\n",
      "to cut:  [[10  9  8  7  6  1]]\n",
      "covar.shape:  (15, 15, 2999) , dClVecs.shape:  (15, 15, 2999)\n",
      "premask:  [0 3 4 5 6 3 3 3 3 4 4 4 5 5 6]\n",
      "binNum =  1 , covarBins.shape =  (15, 15, 145) , dClVecsBins.shape =  (15, 15, 145)\n",
      "covariance shape:  (15, 15, 145)\n",
      "derivative array shape:  (15, 15, 145)\n",
      "bin $\\ell_{min} = 194$, bin $\\ell_{max} = 338$\n",
      "\n",
      "starting binNum 3 of 6...\n",
      "to cut:  [[8 7 6 5 1]]\n",
      "covar.shape:  (10, 10, 2999) , dClVecs.shape:  (10, 15, 2999)\n",
      "premask:  [0 4 5 6 4 4 4 5 5 6]\n",
      "binNum =  2 , covarBins.shape =  (10, 10, 192) , dClVecsBins.shape =  (10, 15, 192)\n",
      "covariance shape:  (10, 10, 192)\n",
      "derivative array shape:  (10, 15, 192)\n",
      "bin $\\ell_{min} = 339$, bin $\\ell_{max} = 530$\n",
      "\n",
      "starting binNum 4 of 6...\n",
      "to cut:  [[6 5 4 1]]\n",
      "covar.shape:  (6, 6, 2999) , dClVecs.shape:  (6, 15, 2999)\n",
      "premask:  [0 5 6 5 5 6]\n",
      "binNum =  3 , covarBins.shape =  (6, 6, 119) , dClVecsBins.shape =  (6, 15, 119)\n",
      "covariance shape:  (6, 6, 119)\n",
      "derivative array shape:  (6, 15, 119)\n",
      "bin $\\ell_{min} = 531$, bin $\\ell_{max} = 649$\n",
      "\n",
      "starting binNum 5 of 6...\n",
      "to cut:  [[4 3 1]]\n",
      "covar.shape:  (3, 3, 2999) , dClVecs.shape:  (3, 15, 2999)\n",
      "premask:  [0 6 6]\n",
      "binNum =  4 , covarBins.shape =  (3, 3, 83) , dClVecsBins.shape =  (3, 15, 83)\n",
      "covariance shape:  (3, 3, 83)\n",
      "derivative array shape:  (3, 15, 83)\n",
      "bin $\\ell_{min} = 650$, bin $\\ell_{max} = 732$\n",
      "\n",
      "starting binNum 6 of 6...\n",
      "to cut:  [[2 1]]\n",
      "covar.shape:  (1, 1, 2999) , dClVecs.shape:  (1, 15, 2999)\n",
      "premask:  [0]\n",
      "binNum =  5 , covarBins.shape =  (1, 1, 1267) , dClVecsBins.shape =  (1, 15, 1267)\n",
      "covariance shape:  (1, 1, 1267)\n",
      "derivative array shape:  (1, 15, 1267)\n",
      "bin $\\ell_{min} = 733$, bin $\\ell_{max} = 1999$\n",
      "done\n",
      "starting linear P(k), kmax = 0.2...\n",
      "kmax =  0.2 : lmax =  [   2  389  679 1062 1302 1467 2000]\n",
      "obs names:  ['k,k', 'k,g1', 'k,g2', 'k,g3', 'k,g4', 'k,g5', 'k,g6', 'g1,g1', 'g1,g2', 'g1,g3', 'g1,g4', 'g1,g5', 'g1,g6', 'g2,g2', 'g2,g3', 'g2,g4', 'g2,g5', 'g2,g6', 'g3,g3', 'g3,g4', 'g3,g5', 'g3,g6', 'g4,g4', 'g4,g5', 'g4,g6', 'g5,g5', 'g5,g6', 'g6,g6']\n",
      "map i numbers:  [0. 0. 0. 0. 0. 0. 0. 1. 1. 1. 1. 1. 1. 2. 2. 2. 2. 2. 3. 3. 3. 3. 4. 4.\n",
      " 4. 5. 5. 6.]\n",
      "map j numbers:  [0. 1. 2. 3. 4. 5. 6. 1. 2. 3. 4. 5. 6. 2. 3. 4. 5. 6. 3. 4. 5. 6. 4. 5.\n",
      " 6. 5. 6. 6.]\n",
      "invCov shape:  (28, 28, 2999) number of observables:  28\n",
      "lmin, lmax for k,g summation:  2 2000\n",
      "preMask shape:  (28, 28)\n",
      "[0 1 2 3 4 5 6 1 1 1 1 1 1 2 2 2 2 2 3 3 3 3 4 4 4 5 5 6]\n",
      "covar shape:  (28, 28, 2999)\n",
      "dClVecs shape:  (28, 15, 2999)\n",
      "\n",
      "starting binNum 1 of 6...\n",
      "to cut:  [[12 11 10  9  8  7  1]]\n"
     ]
    },
    {
     "name": "stdout",
     "output_type": "stream",
     "text": [
      "covar.shape:  (21, 21, 2999) , dClVecs.shape:  (21, 15, 2999)\n",
      "premask:  [0 2 3 4 5 6 2 2 2 2 2 3 3 3 3 4 4 4 5 5 6]\n",
      "binNum =  0 , covarBins.shape =  (21, 21, 387) , dClVecsBins.shape =  (21, 15, 387)\n",
      "covariance shape:  (21, 21, 387)\n",
      "derivative array shape:  (21, 15, 387)\n",
      "bin $\\ell_{min} = 2$, bin $\\ell_{max} = 388$\n",
      "\n",
      "starting binNum 2 of 6...\n",
      "to cut:  [[10  9  8  7  6  1]]\n",
      "covar.shape:  (15, 15, 2999) , dClVecs.shape:  (15, 15, 2999)\n",
      "premask:  [0 3 4 5 6 3 3 3 3 4 4 4 5 5 6]\n",
      "binNum =  1 , covarBins.shape =  (15, 15, 290) , dClVecsBins.shape =  (15, 15, 290)\n",
      "covariance shape:  (15, 15, 290)\n",
      "derivative array shape:  (15, 15, 290)\n",
      "bin $\\ell_{min} = 389$, bin $\\ell_{max} = 678$\n",
      "\n",
      "starting binNum 3 of 6...\n",
      "to cut:  [[8 7 6 5 1]]\n",
      "covar.shape:  (10, 10, 2999) , dClVecs.shape:  (10, 15, 2999)\n",
      "premask:  [0 4 5 6 4 4 4 5 5 6]\n",
      "binNum =  2 , covarBins.shape =  (10, 10, 383) , dClVecsBins.shape =  (10, 15, 383)\n",
      "covariance shape:  (10, 10, 383)\n",
      "derivative array shape:  (10, 15, 383)\n",
      "bin $\\ell_{min} = 679$, bin $\\ell_{max} = 1061$\n",
      "\n",
      "starting binNum 4 of 6...\n",
      "to cut:  [[6 5 4 1]]\n",
      "covar.shape:  (6, 6, 2999) , dClVecs.shape:  (6, 15, 2999)\n",
      "premask:  [0 5 6 5 5 6]\n",
      "binNum =  3 , covarBins.shape =  (6, 6, 240) , dClVecsBins.shape =  (6, 15, 240)\n",
      "covariance shape:  (6, 6, 240)\n",
      "derivative array shape:  (6, 15, 240)\n",
      "bin $\\ell_{min} = 1062$, bin $\\ell_{max} = 1301$\n",
      "\n",
      "starting binNum 5 of 6...\n",
      "to cut:  [[4 3 1]]\n",
      "covar.shape:  (3, 3, 2999) , dClVecs.shape:  (3, 15, 2999)\n",
      "premask:  [0 6 6]\n",
      "binNum =  4 , covarBins.shape =  (3, 3, 165) , dClVecsBins.shape =  (3, 15, 165)\n",
      "covariance shape:  (3, 3, 165)\n",
      "derivative array shape:  (3, 15, 165)\n",
      "bin $\\ell_{min} = 1302$, bin $\\ell_{max} = 1466$\n",
      "\n",
      "starting binNum 6 of 6...\n",
      "to cut:  [[2 1]]\n",
      "covar.shape:  (1, 1, 2999) , dClVecs.shape:  (1, 15, 2999)\n",
      "premask:  [0]\n",
      "binNum =  5 , covarBins.shape =  (1, 1, 533) , dClVecsBins.shape =  (1, 15, 533)\n",
      "covariance shape:  (1, 1, 533)\n",
      "derivative array shape:  (1, 15, 533)\n",
      "bin $\\ell_{min} = 1467$, bin $\\ell_{max} = 1999$\n",
      "done\n",
      "done with all 4 cases.\n"
     ]
    }
   ],
   "source": [
    "print 'starting nonlinear P(k), kmax = {0}...'.format(kmax1)\n",
    "covarBins2_01,dClVecsBins2_01,lmaxByBin2_01,preMaskBins2_01 = getKlimited(binEdges,chiOfZ2,Fobj2,kmax=kmax1)\n",
    "print 'starting nonlinear P(k), kmax = {0}...'.format(kmax2)\n",
    "covarBins2_02,dClVecsBins2_02,lmaxByBin2_02,preMaskBins2_02 = getKlimited(binEdges,chiOfZ2,Fobj2,kmax=kmax2)\n",
    "\n",
    "print 'starting linear P(k), kmax = {0}...'.format(kmax1)\n",
    "covarBins4_01,dClVecsBins4_01,lmaxByBin4_01,preMaskBins4_01 = getKlimited(binEdges,chiOfZ4,Fobj4,kmax=kmax1)\n",
    "print 'starting linear P(k), kmax = {0}...'.format(kmax2)\n",
    "covarBins4_02,dClVecsBins4_02,lmaxByBin4_02,preMaskBins4_02 = getKlimited(binEdges,chiOfZ4,Fobj4,kmax=kmax2)\n",
    "\n",
    "print 'done with all 4 cases.'\n"
   ]
  },
  {
   "cell_type": "code",
   "execution_count": null,
   "metadata": {},
   "outputs": [],
   "source": []
  },
  {
   "cell_type": "code",
   "execution_count": null,
   "metadata": {},
   "outputs": [],
   "source": []
  },
  {
   "cell_type": "markdown",
   "metadata": {},
   "source": [
    "# Get inverse covariance matrices"
   ]
  },
  {
   "cell_type": "code",
   "execution_count": 21,
   "metadata": {},
   "outputs": [],
   "source": [
    "# get inverse covariance matrices\n",
    "def getInvArray(covarBins):\n",
    "    invCovBins = []\n",
    "    nBlocks = covarBins.__len__()\n",
    "    for binNum in range(nBlocks):\n",
    "        invCovBins.append( np.transpose(np.linalg.inv(np.transpose(covarBins[binNum]))) )\n",
    "    return invCovBins\n",
    "\n",
    "invCovBins2_01 = getInvArray(covarBins2_01)\n",
    "invCovBins2_02 = getInvArray(covarBins2_02)\n",
    "invCovBins4_01 = getInvArray(covarBins4_01)\n",
    "invCovBins4_02 = getInvArray(covarBins4_02)\n"
   ]
  },
  {
   "cell_type": "code",
   "execution_count": 22,
   "metadata": {},
   "outputs": [],
   "source": [
    "# cut to myLmin in first bin\n",
    "#myLmin = 50\n",
    "minEllInd = myLmin-Fobj2.lmin\n",
    "\n",
    "dClVecsBins2_01[0] = dClVecsBins2_01[0][:,:,minEllInd:]\n",
    "covarBins2_01[0]  =  covarBins2_01[0][:,:,minEllInd:]\n",
    "invCovBins2_01[0]  =  invCovBins2_01[0][:,:,minEllInd:]\n",
    "dClVecsBins2_02[0] = dClVecsBins2_02[0][:,:,minEllInd:]\n",
    "covarBins2_02[0]  =  covarBins2_02[0][:,:,minEllInd:]\n",
    "invCovBins2_02[0]  =  invCovBins2_02[0][:,:,minEllInd:]\n",
    "\n",
    "dClVecsBins4_01[0] = dClVecsBins4_01[0][:,:,minEllInd:]\n",
    "covarBins4_01[0]  =  covarBins4_01[0][:,:,minEllInd:]\n",
    "invCovBins4_01[0]  =  invCovBins4_01[0][:,:,minEllInd:]\n",
    "dClVecsBins4_02[0] = dClVecsBins4_02[0][:,:,minEllInd:]\n",
    "covarBins4_02[0]  =  covarBins4_02[0][:,:,minEllInd:]\n",
    "invCovBins4_02[0]  =  invCovBins4_02[0][:,:,minEllInd:]"
   ]
  },
  {
   "cell_type": "code",
   "execution_count": null,
   "metadata": {},
   "outputs": [],
   "source": []
  },
  {
   "cell_type": "code",
   "execution_count": null,
   "metadata": {},
   "outputs": [],
   "source": []
  },
  {
   "cell_type": "code",
   "execution_count": null,
   "metadata": {},
   "outputs": [],
   "source": []
  },
  {
   "cell_type": "markdown",
   "metadata": {},
   "source": [
    "# Assemble the $F_{ij}$ matrices and add them up"
   ]
  },
  {
   "cell_type": "code",
   "execution_count": 23,
   "metadata": {},
   "outputs": [],
   "source": [
    "def makeFij(dClVecs,invCov,nParams):\n",
    "    \"\"\"\n",
    "    This may replace the previous makeFisher function... blah blah blah.\n",
    "    Inputs:\n",
    "        all must have same ell range.  All ell values will be summed over.\n",
    "    \"\"\"\n",
    "    Fij = np.zeros((nParams,nParams)) # indices match those in paramList\n",
    "    for i in range(nParams):\n",
    "      dClVec_i = dClVecs[:,i,:] # shape (nCls,nElls)\n",
    "      for j in range(nParams):\n",
    "        dClVec_j = dClVecs[:,j,:] # shape (nCls,nElls)\n",
    "        # here is the summation over ell:\n",
    "        for ellInd in range(invCov.shape[2]):\n",
    "          #print dClVec_i.shape,invCov.shape,dClVec_j.shape\n",
    "          fij = np.dot(dClVec_i[:,ellInd],np.dot(invCov[:,:,ellInd],dClVec_j[:,ellInd]))\n",
    "          Fij[i,j] += fij\n",
    "    return Fij\n"
   ]
  },
  {
   "cell_type": "code",
   "execution_count": 24,
   "metadata": {},
   "outputs": [],
   "source": [
    "# define row,col deleting function\n",
    "#def fixParam(Fij,pNum):\n",
    "#        return np.delete(np.delete(Fij,pNum,0),pNum,1)"
   ]
  },
  {
   "cell_type": "code",
   "execution_count": 25,
   "metadata": {
    "scrolled": false
   },
   "outputs": [
    {
     "name": "stdout",
     "output_type": "stream",
     "text": [
      "nBlocks:  6 , nBlocks2:  6\n",
      "['ombh2' 'omch2' 'cosmomc_theta' 'As' 'ns' 'tau' 'mnu' 'wa' 'w' 'bin2'\n",
      " 'bin3' 'bin4' 'bin5' 'bin6']\n",
      "nBlocks:  6 , nBlocks2:  6\n",
      "['ombh2' 'omch2' 'cosmomc_theta' 'As' 'ns' 'tau' 'mnu' 'wa' 'w' 'bin2'\n",
      " 'bin3' 'bin4' 'bin5' 'bin6']\n",
      "nBlocks:  6 , nBlocks2:  6\n",
      "['ombh2' 'omch2' 'cosmomc_theta' 'As' 'ns' 'tau' 'mnu' 'wa' 'w' 'bin2'\n",
      " 'bin3' 'bin4' 'bin5' 'bin6']\n",
      "nBlocks:  6 , nBlocks2:  6\n",
      "['ombh2' 'omch2' 'cosmomc_theta' 'As' 'ns' 'tau' 'mnu' 'wa' 'w' 'bin2'\n",
      " 'bin3' 'bin4' 'bin5' 'bin6']\n",
      "done.\n"
     ]
    }
   ],
   "source": [
    "# assemble the avengers\n",
    "#def getFijSum(nParams,nBins,dClVecsBins,invCovBins,Fij_kk,paramList):\n",
    "def getFijSum(nParams,nBins,dClVecsBins,invCovBins,paramList):\n",
    "    Fij = np.zeros((nParams,nParams)) # indices match those in paramList\n",
    "    nBlocks = dClVecsBins.__len__()\n",
    "    nBlocks2 = invCovBins.__len__()\n",
    "    print 'nBlocks: ',nBlocks,', nBlocks2: ',nBlocks2\n",
    "    for binNum in range(nBlocks):\n",
    "        #print binNum, dClVecsBins[binNum].size,dClVecsBins[binNum].shape,invCovBins[binNum].shape\n",
    "        Fij += makeFij(dClVecsBins[binNum],invCovBins[binNum],nParams)\n",
    "\n",
    "    # add the low-ell kappa-only part (high ell part was binNum = nBins-1)\n",
    "    nCosParams = nParams-nBins\n",
    "    #Fij[:nCosParams,:nCosParams] += Fij_kk\n",
    "    \n",
    "    # cut out bin1 from Fij and paramList since it was never used\n",
    "    Fij = fixParam(Fij,nCosParams)\n",
    "    myParamList = np.delete(paramList,nCosParams,0)\n",
    "\n",
    "    print myParamList\n",
    "    #print Fij\n",
    "    return Fij,myParamList\n",
    "\n",
    "#Fij2_01,paramList2_01 = getFijSum(Fobj2.nParams,Fobj2.nBins,dClVecsBins2_01,invCovBins2_01,Fij_kk2_01,Fobj2.paramList)\n",
    "#Fij2_02,paramList2_02 = getFijSum(Fobj2.nParams,Fobj2.nBins,dClVecsBins2_02,invCovBins2_02,Fij_kk2_02,Fobj2.paramList)\n",
    "#Fij4_01,paramList4_01 = getFijSum(Fobj4.nParams,Fobj4.nBins,dClVecsBins4_01,invCovBins4_01,Fij_kk4_01,Fobj2.paramList)\n",
    "#Fij4_02,paramList4_02 = getFijSum(Fobj4.nParams,Fobj4.nBins,dClVecsBins4_02,invCovBins4_02,Fij_kk4_02,Fobj2.paramList)\n",
    "Fij2_01,paramList2_01 = getFijSum(Fobj2.nParams,Fobj2.nBins,dClVecsBins2_01,invCovBins2_01,Fobj2.paramList)\n",
    "Fij2_02,paramList2_02 = getFijSum(Fobj2.nParams,Fobj2.nBins,dClVecsBins2_02,invCovBins2_02,Fobj2.paramList)\n",
    "Fij4_01,paramList4_01 = getFijSum(Fobj4.nParams,Fobj4.nBins,dClVecsBins4_01,invCovBins4_01,Fobj2.paramList)\n",
    "Fij4_02,paramList4_02 = getFijSum(Fobj4.nParams,Fobj4.nBins,dClVecsBins4_02,invCovBins4_02,Fobj2.paramList)\n",
    "print 'done.'"
   ]
  },
  {
   "cell_type": "code",
   "execution_count": null,
   "metadata": {},
   "outputs": [],
   "source": []
  },
  {
   "cell_type": "code",
   "execution_count": null,
   "metadata": {},
   "outputs": [],
   "source": []
  },
  {
   "cell_type": "code",
   "execution_count": 26,
   "metadata": {},
   "outputs": [
    {
     "name": "stdout",
     "output_type": "stream",
     "text": [
      "done.\n"
     ]
    }
   ],
   "source": [
    "# get k-unlimited Fij_kg.s\n",
    "Fij2_00 = Fobj2.makeFisher(50,TE=False)\n",
    "Fij4_00 = Fobj4.makeFisher(50,TE=False)\n",
    "print 'done.'"
   ]
  },
  {
   "cell_type": "code",
   "execution_count": 27,
   "metadata": {},
   "outputs": [
    {
     "name": "stdout",
     "output_type": "stream",
     "text": [
      "+---------------+------------------+------------------+---------------+\n",
      "|   Parameter   | sigmas_yes_bin1A | sigmas_yes_bin1D | percent diff. |\n",
      "+---------------+------------------+------------------+---------------+\n",
      "|     ombh2     |      0.0928      |      0.0928      |    -0.0221    |\n",
      "|     omch2     |      0.272       |      0.272       |    -0.0208    |\n",
      "| cosmomc_theta |      0.0393      |      0.0393      |    -0.00131   |\n",
      "|       As      |     6.48e-09     |     6.48e-09     |    -0.0148    |\n",
      "|       ns      |      0.674       |      0.674       |    -0.00698   |\n",
      "|      tau      |        607       |        607       |   -0.000668   |\n",
      "|      mnu      |       2.92       |       2.92       |    -0.0197    |\n",
      "|       wa      |       53.6       |       53.6       |    -0.00393   |\n",
      "|       w       |       22.4       |       22.4       |    -0.00787   |\n",
      "+---------------+------------------+------------------+---------------+\n"
     ]
    }
   ],
   "source": [
    "# compare to previous\n",
    "sigmas50D = getSigmas(Fij2_00)\n",
    "t = PrettyTable(['Parameter','sigmas_yes_bin1A','sigmas_yes_bin1D','percent diff.'])\n",
    "for i,p in enumerate(paramList[:nCosParams]):\n",
    "    Zi = sigmas50[i]\n",
    "    Bi = sigmas50D[i]\n",
    "    diff = (Bi-Zi)/Zi *100\n",
    "    t.add_row([p,\"%5.3g\" % Zi,\"%5.3g\" % Bi, \"%5.3g\" % diff ] )\n",
    "print t"
   ]
  },
  {
   "cell_type": "code",
   "execution_count": 28,
   "metadata": {},
   "outputs": [],
   "source": [
    "# ok, that's pretty close."
   ]
  },
  {
   "cell_type": "code",
   "execution_count": null,
   "metadata": {},
   "outputs": [],
   "source": []
  },
  {
   "cell_type": "code",
   "execution_count": 29,
   "metadata": {},
   "outputs": [],
   "source": [
    "# compare general result to specialized one\n",
    "sigmas2_01 = getSigmas(Fij2_01)"
   ]
  },
  {
   "cell_type": "code",
   "execution_count": 30,
   "metadata": {},
   "outputs": [
    {
     "name": "stdout",
     "output_type": "stream",
     "text": [
      "without bin1\n",
      "+---------------+-----------------+------------+---------------+\n",
      "|   Parameter   | sigmas_no_bin1C | sigmas2_01 | percent diff. |\n",
      "+---------------+-----------------+------------+---------------+\n",
      "|     ombh2     |      0.0932     |   0.102    |      9.45     |\n",
      "|     omch2     |      0.273      |   0.305    |      11.6     |\n",
      "| cosmomc_theta |      0.0396     |   0.0497   |      25.5     |\n",
      "|       As      |     6.51e-09    |  7.36e-09  |      12.9     |\n",
      "|       ns      |      0.678      |    0.74    |      9.08     |\n",
      "|      tau      |        613      |     626    |      2.22     |\n",
      "|      mnu      |       2.95      |    3.11    |      5.62     |\n",
      "|       wa      |         54      |    68.2    |      26.2     |\n",
      "|       w       |       22.6      |    28.3    |      25.2     |\n",
      "+---------------+-----------------+------------+---------------+\n"
     ]
    }
   ],
   "source": [
    "print 'without bin1'\n",
    "t = PrettyTable(['Parameter','sigmas_no_bin1C','sigmas2_01','percent diff.'])\n",
    "for i,p in enumerate(paramList[:nCosParams]):\n",
    "    Zi = sigmas50C[i]\n",
    "    Bi = sigmas2_01[i]\n",
    "    diff = (Bi-Zi)/Zi *100\n",
    "    t.add_row([p,\"%5.3g\" % Zi,\"%5.3g\" % Bi, \"%5.3g\" % diff ] )\n",
    "print t\n"
   ]
  },
  {
   "cell_type": "code",
   "execution_count": 31,
   "metadata": {},
   "outputs": [],
   "source": [
    "# bingo."
   ]
  },
  {
   "cell_type": "code",
   "execution_count": 32,
   "metadata": {},
   "outputs": [
    {
     "data": {
      "text/plain": [
       "'\\nFij50C = makeFij(dClVecs50C,invCov50C,Fobj2.nParams)\\nFij50C[:nCosParams,:nCosParams] += Fij_kk2_01\\nFij50C = fixParam(Fij50C,9)\\nsigmas50C2 = getSigmas(Fij50C)\\nprint \\'without bin1\\'\\nt = PrettyTable([\\'Parameter\\',\\'sigmas_no_bin1C2\\',\\'sigmas2_01\\',\\'percent diff.\\'])\\nfor i,p in enumerate(paramList[:nCosParams]):\\n    Zi = sigmas50C2[i]\\n    Bi = sigmas2_01[i]\\n    diff = (Bi-Zi)/Zi *100\\n    t.add_row([p,\"%5.3g\" % Zi,\"%5.3g\" % Bi, \"%5.3g\" % diff ] )\\nprint t\\n'"
      ]
     },
     "execution_count": 32,
     "metadata": {},
     "output_type": "execute_result"
    }
   ],
   "source": [
    "# add the kappa bit to the Fij50C part and check again\n",
    "\"\"\"\n",
    "Fij50C = makeFij(dClVecs50C,invCov50C,Fobj2.nParams)\n",
    "Fij50C[:nCosParams,:nCosParams] += Fij_kk2_01\n",
    "Fij50C = fixParam(Fij50C,9)\n",
    "sigmas50C2 = getSigmas(Fij50C)\n",
    "print 'without bin1'\n",
    "t = PrettyTable(['Parameter','sigmas_no_bin1C2','sigmas2_01','percent diff.'])\n",
    "for i,p in enumerate(paramList[:nCosParams]):\n",
    "    Zi = sigmas50C2[i]\n",
    "    Bi = sigmas2_01[i]\n",
    "    diff = (Bi-Zi)/Zi *100\n",
    "    t.add_row([p,\"%5.3g\" % Zi,\"%5.3g\" % Bi, \"%5.3g\" % diff ] )\n",
    "print t\n",
    "\"\"\""
   ]
  },
  {
   "cell_type": "code",
   "execution_count": null,
   "metadata": {},
   "outputs": [],
   "source": []
  },
  {
   "cell_type": "code",
   "execution_count": null,
   "metadata": {},
   "outputs": [],
   "source": []
  },
  {
   "cell_type": "markdown",
   "metadata": {},
   "source": [
    "# define function to get f_ij^kk"
   ]
  },
  {
   "cell_type": "code",
   "execution_count": 33,
   "metadata": {},
   "outputs": [],
   "source": [
    "# define function to get f_ij^kk\n",
    "def getFijkk(Fobj,myLmin=50,lmax=2000,verbose=False):\n",
    "    \"\"\"\n",
    "        remake kk covar and fisher with noise\n",
    "        (copy some code from \"Rebuild covar with noise\")\n",
    "    \"\"\"\n",
    "\n",
    "    \"\"\"\n",
    "    Clkk = Fobj.crossCls[0,0]\n",
    "    Nlkk = Fobj.noiseCls[0,0]\n",
    "    dClkk = Fobj.dClVecs[0]\n",
    "    nCosParams = Fobj.nCosParams\n",
    "    ells = Fobj.ells\n",
    "\n",
    "    # add noise to crossCls for making covar\n",
    "    Clkk2 = Clkk+Nlkk\n",
    "\n",
    "    print 'Clkk shape: ',Clkk2.shape\n",
    "    print 'dClkk shape: ',dClkk.shape\n",
    "    cov_kk2 = 2*Clkk2**2 / (2*ells+1)\n",
    "    \"\"\"\n",
    "    \n",
    "    nCosParams = Fobj.nCosParams\n",
    "    cov_kk2 = Fobj.covar[0,0]\n",
    "    dClkk = Fobj.dClVecs[0]\n",
    "    Fij_kk2 = np.zeros((nCosParams,nCosParams))\n",
    "    lmin = Fobj.lmin\n",
    "    minEllInd = myLmin-lmin  # eg. 50-2\n",
    "    maxEllInd = lmax-lmin \n",
    "    for pNum1 in range(nCosParams):\n",
    "        for pNum2 in range(pNum1,nCosParams):\n",
    "            # the next line does the summation over ell\n",
    "            Fij_kk2[pNum1,pNum2] = np.sum( dClkk[pNum1,minEllInd:maxEllInd] * \\\n",
    "                                           dClkk[pNum2,minEllInd:maxEllInd] / cov_kk2[minEllInd:maxEllInd])\n",
    "            Fij_kk2[pNum2,pNum1] = Fij_kk2[pNum1,pNum2]\n",
    "    \n",
    "    if verbose:\n",
    "        print 'parameters: ',Fobj.paramList[:nCosParams]\n",
    "        print 'kappa-only, noise-included Fisher matrix (from ell = {0} to {1}):'.format(myLmin,lmax)\n",
    "        print Fij_kk2\n",
    "    return Fij_kk2"
   ]
  },
  {
   "cell_type": "code",
   "execution_count": null,
   "metadata": {},
   "outputs": [],
   "source": []
  },
  {
   "cell_type": "code",
   "execution_count": 34,
   "metadata": {},
   "outputs": [
    {
     "name": "stdout",
     "output_type": "stream",
     "text": [
      "done\n"
     ]
    }
   ],
   "source": [
    "myLmin = 50\n",
    "\n",
    "#Fij_kk2_01 = getFijkk(Fobj2,myLmin=myLmin,lmax=lmaxByBin2_01[1],verbose=True)\n",
    "#Fij_kk2_02 = getFijkk(Fobj2,myLmin=myLmin,lmax=lmaxByBin2_02[1],verbose=True)\n",
    "#Fij_kk4_01 = getFijkk(Fobj4,myLmin=myLmin,lmax=lmaxByBin4_01[1],verbose=True)\n",
    "#Fij_kk4_02 = getFijkk(Fobj4,myLmin=myLmin,lmax=lmaxByBin4_02[1],verbose=True)\n",
    "print 'done'"
   ]
  },
  {
   "cell_type": "code",
   "execution_count": 35,
   "metadata": {},
   "outputs": [
    {
     "name": "stdout",
     "output_type": "stream",
     "text": [
      "done.\n"
     ]
    }
   ],
   "source": [
    "# get kappa-only Fij.s\n",
    "Fij_kk2 = getFijkk(Fobj2,myLmin=50,lmax=2000,verbose=False)\n",
    "Fij_kk4 = getFijkk(Fobj4,myLmin=50,lmax=2000,verbose=False)\n",
    "print 'done.'"
   ]
  },
  {
   "cell_type": "code",
   "execution_count": null,
   "metadata": {},
   "outputs": [],
   "source": []
  },
  {
   "cell_type": "markdown",
   "metadata": {},
   "source": [
    "# build kTE and kgTE Fisher matrices"
   ]
  },
  {
   "cell_type": "code",
   "execution_count": 36,
   "metadata": {},
   "outputs": [
    {
     "name": "stdout",
     "output_type": "stream",
     "text": [
      "adjusting lmax for TT... \n",
      "adjusting lmax for TT... \n",
      "adjusting lmax for TT... \n",
      "adjusting lmax for TT... \n",
      "adjusting lmax for TT... \n",
      "adjusting lmax for TT... \n",
      "adjusting lmax for TT... \n",
      "adjusting lmax for TT... \n",
      "adjusting lmax for TT... \n",
      "adjusting lmax for TT... \n",
      "adjusting lmax for TT... \n",
      "adjusting lmax for TT... \n",
      "adjusting lmax for TT... \n",
      "adjusting lmax for TT... \n",
      "adjusting lmax for TT... \n",
      "adjusting lmax for TT... \n",
      "adjusting lmax for TT... \n",
      "adjusting lmax for TT... \n",
      "adjusting lmax for TT... \n",
      "adjusting lmax for TT... \n",
      "adjusting lmax for TT... \n",
      "adjusting lmax for TT... \n",
      "adjusting lmax for TT... \n",
      "adjusting lmax for TT... \n",
      "adjusting lmax for TT... \n",
      "adjusting lmax for TT... \n",
      "adjusting lmax for TT... \n",
      "adjusting lmax for TT... \n",
      "adjusting lmax for TT... \n",
      "adjusting lmax for TT... \n",
      "adjusting lmax for TT... \n",
      "adjusting lmax for TT... \n",
      "adjusting lmax for TT... \n",
      "adjusting lmax for TT... \n",
      "adjusting lmax for TT... \n",
      "adjusting lmax for TT... \n",
      "adjusting lmax for TT... \n",
      "adjusting lmax for TT... \n",
      "adjusting lmax for TT... \n",
      "adjusting lmax for TT... \n",
      "adjusting lmax for TT... \n",
      "adjusting lmax for TT... \n",
      "adjusting lmax for TT... \n",
      "adjusting lmax for TT... \n",
      "adjusting lmax for TT... \n",
      "adjusting lmax for TT... \n",
      "adjusting lmax for TT... \n",
      "adjusting lmax for TT... \n",
      "adjusting lmax for TT... \n",
      "adjusting lmax for TT... \n",
      "adjusting lmax for TT... \n",
      "adjusting lmax for TT... \n",
      "adjusting lmax for TT... \n",
      "adjusting lmax for TT... \n",
      "adjusting lmax for TT... \n",
      "adjusting lmax for TT... \n",
      "adjusting lmax for TT... \n",
      "adjusting lmax for TT... \n",
      "adjusting lmax for TT... \n",
      "adjusting lmax for TT... \n",
      "adjusting lmax for TT... \n",
      "adjusting lmax for TT... \n",
      "adjusting lmax for TT... \n",
      "adjusting lmax for TT... \n",
      "adjusting lmax for TT... \n",
      "adjusting lmax for TT... \n",
      "adjusting lmax for TT... \n",
      "adjusting lmax for TT... \n",
      "adjusting lmax for TT... \n",
      "adjusting lmax for TT... \n",
      "adjusting lmax for TT... \n",
      "adjusting lmax for TT... \n",
      "adjusting lmax for TT... \n",
      "adjusting lmax for TT... \n",
      "adjusting lmax for TT... \n",
      "adjusting lmax for TT... \n",
      "adjusting lmax for TT... \n",
      "adjusting lmax for TT... \n",
      "adjusting lmax for TT... \n",
      "adjusting lmax for TT... \n",
      "adjusting lmax for TT... \n",
      "adjusting lmax for TT... \n",
      "adjusting lmax for TT... \n",
      "adjusting lmax for TT... \n",
      "adjusting lmax for TT... \n",
      "adjusting lmax for TT... \n",
      "adjusting lmax for TT... \n",
      "adjusting lmax for TT... \n",
      "adjusting lmax for TT... \n",
      "adjusting lmax for TT... \n",
      "adjusting lmax for TT... \n",
      "adjusting lmax for TT... \n",
      "adjusting lmax for TT... \n",
      "adjusting lmax for TT... \n",
      "adjusting lmax for TT... \n",
      "adjusting lmax for TT... \n",
      "adjusting lmax for TT... \n",
      "adjusting lmax for TT... \n",
      "adjusting lmax for TT... \n",
      "adjusting lmax for TT... \n",
      "adjusting lmax for TT... \n",
      "adjusting lmax for TT... \n",
      "adjusting lmax for TT... \n",
      "adjusting lmax for TT... \n",
      "adjusting lmax for TT... \n",
      "adjusting lmax for TT... \n",
      "adjusting lmax for TT... \n",
      "adjusting lmax for TT... \n",
      "adjusting lmax for TT... \n",
      "adjusting lmax for TT... \n",
      "adjusting lmax for TT... \n",
      "adjusting lmax for TT... \n",
      "adjusting lmax for TT... \n",
      "adjusting lmax for TT... \n",
      "adjusting lmax for TT... \n",
      "adjusting lmax for TT... \n",
      "adjusting lmax for TT... \n",
      "adjusting lmax for TT... \n",
      "adjusting lmax for TT... \n",
      "adjusting lmax for TT... \n",
      "adjusting lmax for TT... \n",
      "adjusting lmax for TT... \n",
      "adjusting lmax for TT... \n",
      "adjusting lmax for TT... \n",
      "adjusting lmax for TT... \n",
      "adjusting lmax for TT... \n",
      "adjusting lmax for TT... \n",
      "adjusting lmax for TT... \n",
      "adjusting lmax for TT... \n",
      "adjusting lmax for TT... \n",
      "adjusting lmax for TT... \n",
      "adjusting lmax for TT... \n",
      "adjusting lmax for TT... \n",
      "adjusting lmax for TT... \n",
      "adjusting lmax for TT... \n",
      "adjusting lmax for TT... \n",
      "adjusting lmax for TT... \n",
      "adjusting lmax for TT... \n",
      "adjusting lmax for TT... \n",
      "adjusting lmax for TT... \n",
      "adjusting lmax for TT... \n",
      "adjusting lmax for TT... \n",
      "adjusting lmax for TT... \n",
      "adjusting lmax for TT... \n",
      "adjusting lmax for TT... \n",
      "adjusting lmax for TT... \n",
      "adjusting lmax for TT... \n",
      "adjusting lmax for TT... \n",
      "adjusting lmax for TT... \n",
      "adjusting lmax for TT... \n",
      "adjusting lmax for TT... \n",
      "adjusting lmax for TT... \n",
      "adjusting lmax for TT... \n",
      "adjusting lmax for TT... \n",
      "adjusting lmax for TT... \n",
      "adjusting lmax for TT... \n",
      "adjusting lmax for TT... \n",
      "adjusting lmax for TT... \n",
      "adjusting lmax for TT... \n",
      "adjusting lmax for TT... \n",
      "adjusting lmax for TT... \n",
      "adjusting lmax for TT... \n",
      "done\n"
     ]
    }
   ],
   "source": [
    "# get the TE matrices\n",
    "FijTE2 = Fobj2.makeFisher(50,TE=True)\n",
    "FijTE4 = Fobj4.makeFisher(50,TE=True)\n",
    "print 'done'"
   ]
  },
  {
   "cell_type": "code",
   "execution_count": null,
   "metadata": {},
   "outputs": [],
   "source": []
  },
  {
   "cell_type": "code",
   "execution_count": null,
   "metadata": {},
   "outputs": [],
   "source": []
  },
  {
   "cell_type": "code",
   "execution_count": 37,
   "metadata": {},
   "outputs": [],
   "source": [
    "# create combined Fisher matrices\n",
    "Fij_kTE2 = Fij_kk2.copy()\n",
    "Fij_kTE2[:nCosParams,:nCosParams] += FijTE2\n",
    "Fij_kTE4 = Fij_kk4.copy()\n",
    "Fij_kTE4[:nCosParams,:nCosParams] += FijTE4\n",
    "\n",
    "Fij_kgTE2_00 = Fij2_00.copy()  # k-unlimited\n",
    "Fij_kgTE2_00[:nCosParams,:nCosParams] += FijTE2\n",
    "Fij_kgTE2_01 = Fij2_01.copy()  # kmax1\n",
    "Fij_kgTE2_01[:nCosParams,:nCosParams] += FijTE2\n",
    "Fij_kgTE2_02 = Fij2_02.copy()  # kmax2\n",
    "Fij_kgTE2_02[:nCosParams,:nCosParams] += FijTE2\n",
    "\n",
    "Fij_kgTE4_00 = Fij4_00.copy()  # k-unlimited\n",
    "Fij_kgTE4_00[:nCosParams,:nCosParams] += FijTE4\n",
    "Fij_kgTE4_01 = Fij4_01.copy()  # kmax1\n",
    "Fij_kgTE4_01[:nCosParams,:nCosParams] += FijTE4\n",
    "Fij_kgTE4_02 = Fij4_02.copy()  # kmax2\n",
    "Fij_kgTE4_02[:nCosParams,:nCosParams] += FijTE4"
   ]
  },
  {
   "cell_type": "code",
   "execution_count": null,
   "metadata": {},
   "outputs": [],
   "source": []
  },
  {
   "cell_type": "markdown",
   "metadata": {},
   "source": [
    "# Adjust $A_s$ values"
   ]
  },
  {
   "cell_type": "code",
   "execution_count": 38,
   "metadata": {},
   "outputs": [
    {
     "name": "stdout",
     "output_type": "stream",
     "text": [
      "['ombh2', 'omch2', 'cosmomc_theta', '10^9 As', 'ns', 'tau', 'mnu', 'wa', 'w', 'bin1', 'bin2', 'bin3', 'bin4', 'bin5', 'bin6']\n"
     ]
    }
   ],
   "source": [
    "# Convert As to 10^9*As\n",
    "#\"\"\"\n",
    "AsIndex = 3\n",
    "mult = 1e-9\n",
    "def rowColMult(array,index,mult):\n",
    "    array[index,:] *= mult\n",
    "    array[:,index] *= mult\n",
    "    return array\n",
    "    \n",
    "Fij_kk2      = rowColMult(Fij_kk2,AsIndex,mult)\n",
    "FijTE2       = rowColMult(FijTE2,AsIndex,mult)\n",
    "Fij_kTE2     = rowColMult(Fij_kTE2,AsIndex,mult)\n",
    "Fij2_00      = rowColMult(Fij2_00,AsIndex,mult)\n",
    "Fij2_01      = rowColMult(Fij2_01,AsIndex,mult)\n",
    "Fij2_02      = rowColMult(Fij2_02,AsIndex,mult)\n",
    "Fij_kgTE2_00 = rowColMult(Fij_kgTE2_00,AsIndex,mult)\n",
    "Fij_kgTE2_01 = rowColMult(Fij_kgTE2_01,AsIndex,mult)\n",
    "Fij_kgTE2_02 = rowColMult(Fij_kgTE2_02,AsIndex,mult)\n",
    "\n",
    "Fij_kk4      = rowColMult(Fij_kk4,AsIndex,mult)\n",
    "FijTE4       = rowColMult(FijTE4,AsIndex,mult)\n",
    "Fij_kTE4     = rowColMult(Fij_kTE4,AsIndex,mult)\n",
    "Fij4_00      = rowColMult(Fij4_00,AsIndex,mult)\n",
    "Fij4_01      = rowColMult(Fij4_01,AsIndex,mult)\n",
    "Fij4_02      = rowColMult(Fij4_02,AsIndex,mult)\n",
    "Fij_kgTE4_00 = rowColMult(Fij_kgTE4_00,AsIndex,mult)\n",
    "Fij_kgTE4_01 = rowColMult(Fij_kgTE4_01,AsIndex,mult)\n",
    "Fij_kgTE4_02 = rowColMult(Fij_kgTE4_02,AsIndex,mult)\n",
    "\n",
    "\n",
    "# adjust name\n",
    "paramList[AsIndex]     = '10^9 As'\n",
    "paramList2_01[AsIndex] = '10^9 As'\n",
    "paramList2_02[AsIndex] = '10^9 As'\n",
    "paramList4_01[AsIndex] = '10^9 As'\n",
    "paramList4_02[AsIndex] = '10^9 As'\n",
    "print paramList\n",
    "#\"\"\""
   ]
  },
  {
   "cell_type": "code",
   "execution_count": null,
   "metadata": {},
   "outputs": [],
   "source": []
  },
  {
   "cell_type": "markdown",
   "metadata": {},
   "source": [
    "# Show the sigmas"
   ]
  },
  {
   "cell_type": "code",
   "execution_count": 39,
   "metadata": {},
   "outputs": [
    {
     "name": "stdout",
     "output_type": "stream",
     "text": [
      "kk ok\n",
      "TE ok\n",
      "kTE ok\n",
      "kg ok\n",
      "kgTE ok\n"
     ]
    }
   ],
   "source": [
    "# check sigmas\n",
    "def getSigmas(Fij):\n",
    "    #print np.diag(np.linalg.inv(Fij))\n",
    "    return np.sqrt(np.diag(np.linalg.inv(Fij)))\n",
    " \n",
    "sigmas_kk2 = getSigmas(Fij_kk2)\n",
    "sigmas_kk4 = getSigmas(Fij_kk4)\n",
    "print 'kk ok'\n",
    "\n",
    "sigmas_TE2 = getSigmas(FijTE2)\n",
    "sigmas_TE4 = getSigmas(FijTE4)\n",
    "print 'TE ok'\n",
    "    \n",
    "sigmas_kTE2 = getSigmas(Fij_kTE2)\n",
    "sigmas_kTE4 = getSigmas(Fij_kTE4)\n",
    "print 'kTE ok'\n",
    "\n",
    "sigmas_kg2_00 = getSigmas(Fij2_00)\n",
    "sigmas_kg2_01 = getSigmas(Fij2_01)\n",
    "sigmas_kg2_02 = getSigmas(Fij2_02)\n",
    "sigmas_kg4_00 = getSigmas(Fij4_00)\n",
    "sigmas_kg4_01 = getSigmas(Fij4_01)\n",
    "sigmas_kg4_02 = getSigmas(Fij4_02)\n",
    "print 'kg ok'\n",
    "\n",
    "sigmas_kgTE2_00 = getSigmas(Fij_kgTE2_00)\n",
    "sigmas_kgTE2_01 = getSigmas(Fij_kgTE2_01)\n",
    "sigmas_kgTE2_02 = getSigmas(Fij_kgTE2_02)\n",
    "sigmas_kgTE4_00 = getSigmas(Fij_kgTE4_00)\n",
    "sigmas_kgTE4_01 = getSigmas(Fij_kgTE4_01)\n",
    "sigmas_kgTE4_02 = getSigmas(Fij_kgTE4_02)\n",
    "print 'kgTE ok'\n"
   ]
  },
  {
   "cell_type": "code",
   "execution_count": null,
   "metadata": {},
   "outputs": [],
   "source": []
  },
  {
   "cell_type": "markdown",
   "metadata": {},
   "source": [
    "# kk, TE, kTE, kg"
   ]
  },
  {
   "cell_type": "code",
   "execution_count": 40,
   "metadata": {},
   "outputs": [
    {
     "name": "stdout",
     "output_type": "stream",
     "text": [
      "fsky = 1\n",
      "nonlinear P(k)\n",
      "kappa-only and kappa-TE\n",
      "+---------------+------------+-------------+---------------+\n",
      "|   Parameter   | sigmas_kk2 | sigmas_kTE2 | percent diff. |\n",
      "+---------------+------------+-------------+---------------+\n",
      "|     ombh2     |   0.114    |    0.0255   |     -77.7     |\n",
      "|     omch2     |   0.346    |    0.0764   |     -77.9     |\n",
      "| cosmomc_theta |   0.0624   |    0.0101   |     -83.9     |\n",
      "|    10^9 As    |    8.56    |     2.04    |     -76.2     |\n",
      "|       ns      |   0.801    |    0.159    |     -80.2     |\n",
      "|      tau      |     635    |     0.57    |     -99.9     |\n",
      "|      mnu      |    3.28    |     1.35    |     -58.8     |\n",
      "|       wa      |    85.9    |     12.1    |     -85.9     |\n",
      "|       w       |    35.2    |     4.46    |     -87.3     |\n",
      "+---------------+------------+-------------+---------------+\n",
      "TE-only and kappa-TE\n",
      "+---------------+------------+-------------+---------------+\n",
      "|   Parameter   | sigmas_TE2 | sigmas_kTE2 | percent diff. |\n",
      "+---------------+------------+-------------+---------------+\n",
      "|     ombh2     |   0.0617   |    0.0255   |     -58.7     |\n",
      "|     omch2     |   0.645    |    0.0764   |     -88.2     |\n",
      "| cosmomc_theta |    1.55    |    0.0101   |     -99.3     |\n",
      "|    10^9 As    |     184    |     2.04    |     -98.9     |\n",
      "|       ns      |    1.99    |    0.159    |       -92     |\n",
      "|      tau      |    43.5    |     0.57    |     -98.7     |\n",
      "|      mnu      |     191    |     1.35    |     -99.3     |\n",
      "|       wa      |  1.18e+03  |     12.1    |       -99     |\n",
      "|       w       |     822    |     4.46    |     -99.5     |\n",
      "+---------------+------------+-------------+---------------+\n",
      "kappa-only and kappa-galaxies, no k-limit\n",
      "+---------------+------------+---------------+---------------+\n",
      "|   Parameter   | sigmas_kk2 | sigmas_kg2_00 | percent diff. |\n",
      "+---------------+------------+---------------+---------------+\n",
      "|     ombh2     |   0.114    |     0.0928    |     -18.8     |\n",
      "|     omch2     |   0.346    |     0.272     |     -21.3     |\n",
      "| cosmomc_theta |   0.0624   |     0.0393    |       -37     |\n",
      "|    10^9 As    |    8.56    |      6.48     |     -24.3     |\n",
      "|       ns      |   0.801    |     0.674     |     -15.9     |\n",
      "|      tau      |     635    |       607     |     -4.41     |\n",
      "|      mnu      |    3.28    |      2.92     |     -11.2     |\n",
      "|       wa      |    85.9    |      53.6     |     -37.6     |\n",
      "|       w       |    35.2    |      22.4     |     -36.5     |\n",
      "|      bin1     |       0    |      1.96     |       inf     |\n",
      "|      bin2     |       0    |      2.06     |       inf     |\n",
      "|      bin3     |       0    |      2.64     |       inf     |\n",
      "|      bin4     |       0    |      5.55     |       inf     |\n",
      "|      bin5     |       0    |      17.1     |       inf     |\n",
      "|      bin6     |       0    |      83.2     |       inf     |\n",
      "+---------------+------------+---------------+---------------+\n",
      "kappa-only and kappa-galaxies, k_max = 0.2\n",
      "+---------------+------------+---------------+---------------+\n",
      "|   Parameter   | sigmas_kk2 | sigmas_kg2_02 | percent diff. |\n",
      "+---------------+------------+---------------+---------------+\n",
      "|     ombh2     |   0.114    |     0.0943    |     -17.5     |\n",
      "|     omch2     |   0.346    |     0.279     |     -19.5     |\n",
      "| cosmomc_theta |   0.0624   |     0.0408    |     -34.6     |\n",
      "|    10^9 As    |    8.56    |      6.61     |     -22.7     |\n",
      "|       ns      |   0.801    |     0.698     |     -12.9     |\n",
      "|      tau      |     635    |       622     |     -2.16     |\n",
      "|      mnu      |    3.28    |         3     |     -8.68     |\n",
      "|       wa      |    85.9    |      55.9     |     -34.9     |\n",
      "|       w       |    35.2    |      23.4     |     -33.5     |\n",
      "|      bin2     |       0    |      2.52     |       inf     |\n",
      "|      bin3     |       0    |      2.84     |       inf     |\n",
      "|      bin4     |       0    |      5.82     |       inf     |\n",
      "|      bin5     |       0    |      17.5     |       inf     |\n",
      "|      bin6     |       0    |      85.6     |       inf     |\n",
      "+---------------+------------+---------------+---------------+\n",
      "kappa-only and kappa-galaxies, k_max = 0.1\n",
      "+---------------+------------+---------------+---------------+\n",
      "|   Parameter   | sigmas_kk2 | sigmas_kg2_01 | percent diff. |\n",
      "+---------------+------------+---------------+---------------+\n",
      "|     ombh2     |   0.114    |     0.102     |     -10.8     |\n",
      "|     omch2     |   0.346    |     0.305     |     -11.8     |\n",
      "| cosmomc_theta |   0.0624   |     0.0497    |     -20.5     |\n",
      "|    10^9 As    |    8.56    |      7.36     |       -14     |\n",
      "|       ns      |   0.801    |      0.74     |     -7.65     |\n",
      "|      tau      |     635    |       626     |     -1.44     |\n",
      "|      mnu      |    3.28    |      3.11     |     -5.18     |\n",
      "|       wa      |    85.9    |      68.2     |     -20.6     |\n",
      "|       w       |    35.2    |      28.3     |     -19.7     |\n",
      "|      bin2     |       0    |      3.13     |       inf     |\n",
      "|      bin3     |       0    |      3.35     |       inf     |\n",
      "|      bin4     |       0    |      6.95     |       inf     |\n",
      "|      bin5     |       0    |      20.4     |       inf     |\n",
      "|      bin6     |       0    |      99.3     |       inf     |\n",
      "+---------------+------------+---------------+---------------+\n"
     ]
    },
    {
     "name": "stderr",
     "output_type": "stream",
     "text": [
      "/opt/local/Library/Frameworks/Python.framework/Versions/2.7/lib/python2.7/site-packages/ipykernel_launcher.py:32: RuntimeWarning: divide by zero encountered in double_scalars\n",
      "/opt/local/Library/Frameworks/Python.framework/Versions/2.7/lib/python2.7/site-packages/ipykernel_launcher.py:41: RuntimeWarning: divide by zero encountered in double_scalars\n",
      "/opt/local/Library/Frameworks/Python.framework/Versions/2.7/lib/python2.7/site-packages/ipykernel_launcher.py:50: RuntimeWarning: divide by zero encountered in double_scalars\n"
     ]
    }
   ],
   "source": [
    "from prettytable import PrettyTable\n",
    "\n",
    "print 'fsky = 1'\n",
    "print 'nonlinear P(k)'\n",
    "\n",
    "print 'kappa-only and kappa-TE'\n",
    "t = PrettyTable(['Parameter','sigmas_kk2','sigmas_kTE2','percent diff.'])\n",
    "for i,p in enumerate(paramList[:nCosParams]):\n",
    "    Zi = sigmas_kk2[i]\n",
    "    Bi = sigmas_kTE2[i]\n",
    "    diff = (Bi-Zi)/Zi *100\n",
    "    t.add_row([p,\"%5.3g\" % Zi,\"%5.3g\" % Bi, \"%5.3g\" % diff ] )\n",
    "print t\n",
    "\n",
    "print 'TE-only and kappa-TE'\n",
    "t = PrettyTable(['Parameter','sigmas_TE2','sigmas_kTE2','percent diff.'])\n",
    "for i,p in enumerate(paramList[:nCosParams]):\n",
    "    Zi = sigmas_TE2[i]\n",
    "    Bi = sigmas_kTE2[i]\n",
    "    diff = (Bi-Zi)/Zi *100\n",
    "    t.add_row([p,\"%5.3g\" % Zi,\"%5.3g\" % Bi, \"%5.3g\" % diff ] )\n",
    "print t\n",
    "\n",
    "# add extra zeros to kk\n",
    "sigmas_kk2 = np.append(sigmas_kk2,np.zeros(nBins))\n",
    "\n",
    "print 'kappa-only and kappa-galaxies, no k-limit'\n",
    "t = PrettyTable(['Parameter','sigmas_kk2','sigmas_kg2_00','percent diff.'])\n",
    "for i,p in enumerate(paramList):\n",
    "    Zi = sigmas_kk2[i]\n",
    "    Bi = sigmas_kg2_00[i]\n",
    "    diff = (Bi-Zi)/Zi *100\n",
    "    t.add_row([p,\"%5.3g\" % Zi,\"%5.3g\" % Bi, \"%5.3g\" % diff ] )\n",
    "print t\n",
    "\n",
    "print 'kappa-only and kappa-galaxies, k_max = {0}'.format(kmax2)\n",
    "t = PrettyTable(['Parameter','sigmas_kk2','sigmas_kg2_02','percent diff.'])\n",
    "for i,p in enumerate(paramList2_02):\n",
    "    Zi = sigmas_kk2[i]\n",
    "    Bi = sigmas_kg2_02[i]\n",
    "    diff = (Bi-Zi)/Zi *100\n",
    "    t.add_row([p,\"%5.3g\" % Zi,\"%5.3g\" % Bi, \"%5.3g\" % diff ] )\n",
    "print t\n",
    "\n",
    "print 'kappa-only and kappa-galaxies, k_max = {0}'.format(kmax1)\n",
    "t = PrettyTable(['Parameter','sigmas_kk2','sigmas_kg2_01','percent diff.'])\n",
    "for i,p in enumerate(paramList2_01):\n",
    "    Zi = sigmas_kk2[i]\n",
    "    Bi = sigmas_kg2_01[i]\n",
    "    diff = (Bi-Zi)/Zi *100\n",
    "    t.add_row([p,\"%5.3g\" % Zi,\"%5.3g\" % Bi, \"%5.3g\" % diff ] )\n",
    "print t\n"
   ]
  },
  {
   "cell_type": "code",
   "execution_count": null,
   "metadata": {},
   "outputs": [],
   "source": []
  },
  {
   "cell_type": "code",
   "execution_count": null,
   "metadata": {},
   "outputs": [],
   "source": []
  },
  {
   "cell_type": "code",
   "execution_count": 41,
   "metadata": {},
   "outputs": [
    {
     "data": {
      "text/plain": [
       "'\\nprint \\'fsky = 1\\'\\nprint \\'linear P(k)\\'\\n\\nprint \\'kappa-only and kappa-TE\\'\\nt = PrettyTable([\\'Parameter\\',\\'sigmas_kk4\\',\\'sigmas_kTE4\\',\\'percent diff.\\'])\\nfor i,p in enumerate(paramList[:nCosParams]):\\n    Zi = sigmas_kk4[i]\\n    Bi = sigmas_kTE4[i]\\n    diff = (Bi-Zi)/Zi *100\\n    t.add_row([p,\"%5.3g\" % Zi,\"%5.3g\" % Bi, \"%5.3g\" % diff ] )\\nprint t\\n\\nprint \\'TE-only and kappa-TE\\'\\nt = PrettyTable([\\'Parameter\\',\\'sigmas_TE4\\',\\'sigmas_kTE4\\',\\'percent diff.\\'])\\nfor i,p in enumerate(paramList[:nCosParams]):\\n    Zi = sigmas_TE4[i]\\n    Bi = sigmas_kTE4[i]\\n    diff = (Bi-Zi)/Zi *100\\n    t.add_row([p,\"%5.3g\" % Zi,\"%5.3g\" % Bi, \"%5.3g\" % diff ] )\\nprint t\\n\\n# add extra zeros to kk\\nsigmas_kk4 = np.append(sigmas_kk4,np.zeros(nBins))\\n\\nprint \\'kappa-only and kappa-galaxies, no k-limit\\'\\nt = PrettyTable([\\'Parameter\\',\\'sigmas_kk4\\',\\'sigmas_kg4_00\\',\\'percent diff.\\'])\\nfor i,p in enumerate(paramList):\\n    Zi = sigmas_kk4[i]\\n    Bi = sigmas_kg4_00[i]\\n    diff = (Bi-Zi)/Zi *100\\n    t.add_row([p,\"%5.3g\" % Zi,\"%5.3g\" % Bi, \"%5.3g\" % diff ] )\\nprint t\\n\\nprint \\'kappa-only and kappa-galaxies, k_max = {0}\\'.format(kmax1)\\nt = PrettyTable([\\'Parameter\\',\\'sigmas_kk4\\',\\'sigmas_kg4_02\\',\\'percent diff.\\'])\\nfor i,p in enumerate(paramList4_02):\\n    Zi = sigmas_kk4[i]\\n    Bi = sigmas_kg4_02[i]\\n    diff = (Bi-Zi)/Zi *100\\n    t.add_row([p,\"%5.3g\" % Zi,\"%5.3g\" % Bi, \"%5.3g\" % diff ] )\\nprint t\\n\\nprint \\'kappa-only and kappa-galaxies, k_max = {0}\\'.format(kmax1)\\nt = PrettyTable([\\'Parameter\\',\\'sigmas_kk4\\',\\'sigmas_kg4_01\\',\\'percent diff.\\'])\\nfor i,p in enumerate(paramList4_01):\\n    Zi = sigmas_kk4[i]\\n    Bi = sigmas_kg4_01[i]\\n    diff = (Bi-Zi)/Zi *100\\n    t.add_row([p,\"%5.3g\" % Zi,\"%5.3g\" % Bi, \"%5.3g\" % diff ] )\\nprint t\\n'"
      ]
     },
     "execution_count": 41,
     "metadata": {},
     "output_type": "execute_result"
    }
   ],
   "source": [
    "from prettytable import PrettyTable\n",
    "\"\"\"\n",
    "print 'fsky = 1'\n",
    "print 'linear P(k)'\n",
    "\n",
    "print 'kappa-only and kappa-TE'\n",
    "t = PrettyTable(['Parameter','sigmas_kk4','sigmas_kTE4','percent diff.'])\n",
    "for i,p in enumerate(paramList[:nCosParams]):\n",
    "    Zi = sigmas_kk4[i]\n",
    "    Bi = sigmas_kTE4[i]\n",
    "    diff = (Bi-Zi)/Zi *100\n",
    "    t.add_row([p,\"%5.3g\" % Zi,\"%5.3g\" % Bi, \"%5.3g\" % diff ] )\n",
    "print t\n",
    "\n",
    "print 'TE-only and kappa-TE'\n",
    "t = PrettyTable(['Parameter','sigmas_TE4','sigmas_kTE4','percent diff.'])\n",
    "for i,p in enumerate(paramList[:nCosParams]):\n",
    "    Zi = sigmas_TE4[i]\n",
    "    Bi = sigmas_kTE4[i]\n",
    "    diff = (Bi-Zi)/Zi *100\n",
    "    t.add_row([p,\"%5.3g\" % Zi,\"%5.3g\" % Bi, \"%5.3g\" % diff ] )\n",
    "print t\n",
    "\n",
    "# add extra zeros to kk\n",
    "sigmas_kk4 = np.append(sigmas_kk4,np.zeros(nBins))\n",
    "\n",
    "print 'kappa-only and kappa-galaxies, no k-limit'\n",
    "t = PrettyTable(['Parameter','sigmas_kk4','sigmas_kg4_00','percent diff.'])\n",
    "for i,p in enumerate(paramList):\n",
    "    Zi = sigmas_kk4[i]\n",
    "    Bi = sigmas_kg4_00[i]\n",
    "    diff = (Bi-Zi)/Zi *100\n",
    "    t.add_row([p,\"%5.3g\" % Zi,\"%5.3g\" % Bi, \"%5.3g\" % diff ] )\n",
    "print t\n",
    "\n",
    "print 'kappa-only and kappa-galaxies, k_max = {0}'.format(kmax1)\n",
    "t = PrettyTable(['Parameter','sigmas_kk4','sigmas_kg4_02','percent diff.'])\n",
    "for i,p in enumerate(paramList4_02):\n",
    "    Zi = sigmas_kk4[i]\n",
    "    Bi = sigmas_kg4_02[i]\n",
    "    diff = (Bi-Zi)/Zi *100\n",
    "    t.add_row([p,\"%5.3g\" % Zi,\"%5.3g\" % Bi, \"%5.3g\" % diff ] )\n",
    "print t\n",
    "\n",
    "print 'kappa-only and kappa-galaxies, k_max = {0}'.format(kmax1)\n",
    "t = PrettyTable(['Parameter','sigmas_kk4','sigmas_kg4_01','percent diff.'])\n",
    "for i,p in enumerate(paramList4_01):\n",
    "    Zi = sigmas_kk4[i]\n",
    "    Bi = sigmas_kg4_01[i]\n",
    "    diff = (Bi-Zi)/Zi *100\n",
    "    t.add_row([p,\"%5.3g\" % Zi,\"%5.3g\" % Bi, \"%5.3g\" % diff ] )\n",
    "print t\n",
    "\"\"\"\n"
   ]
  },
  {
   "cell_type": "code",
   "execution_count": null,
   "metadata": {},
   "outputs": [],
   "source": []
  },
  {
   "cell_type": "code",
   "execution_count": null,
   "metadata": {},
   "outputs": [],
   "source": []
  },
  {
   "cell_type": "code",
   "execution_count": null,
   "metadata": {},
   "outputs": [],
   "source": []
  },
  {
   "cell_type": "code",
   "execution_count": null,
   "metadata": {},
   "outputs": [],
   "source": []
  },
  {
   "cell_type": "code",
   "execution_count": null,
   "metadata": {},
   "outputs": [],
   "source": []
  },
  {
   "cell_type": "markdown",
   "metadata": {},
   "source": [
    "# kTE, kgTE"
   ]
  },
  {
   "cell_type": "code",
   "execution_count": 42,
   "metadata": {},
   "outputs": [
    {
     "name": "stdout",
     "output_type": "stream",
     "text": [
      "fsky = 1\n",
      "nonlinear P(k)\n",
      "kappa-TE and kg-TE; no k-limit\n",
      "+---------------+-------------+-----------------+---------------+\n",
      "|   Parameter   | sigmas_kTE2 | sigmas_kgTE2_00 | percent diff. |\n",
      "+---------------+-------------+-----------------+---------------+\n",
      "|     ombh2     |    0.0255   |      0.0254     |     -0.383    |\n",
      "|     omch2     |    0.0764   |      0.0759     |     -0.743    |\n",
      "| cosmomc_theta |    0.0101   |     0.00993     |     -1.46     |\n",
      "|    10^9 As    |     2.04    |       2.02      |     -0.894    |\n",
      "|       ns      |    0.159    |      0.157      |     -0.988    |\n",
      "|      tau      |     0.57    |      0.566      |     -0.713    |\n",
      "|      mnu      |     1.35    |       1.35      |     -0.226    |\n",
      "|       wa      |     12.1    |         12      |     -1.46     |\n",
      "|       w       |     4.46    |        4.4      |     -1.32     |\n",
      "|      bin2     |        0    |       1.55      |       inf     |\n",
      "|      bin3     |        0    |       1.53      |       inf     |\n",
      "|      bin4     |        0    |       2.12      |       inf     |\n",
      "|      bin5     |        0    |       5.46      |       inf     |\n",
      "|      bin6     |        0    |         17      |       inf     |\n",
      "+---------------+-------------+-----------------+---------------+\n",
      "kappa-TE and kg-TE; k_max = 0.2\n",
      "+---------------+-------------+-----------------+---------------+\n",
      "|   Parameter   | sigmas_kTE2 | sigmas_kgTE2_02 | percent diff. |\n",
      "+---------------+-------------+-----------------+---------------+\n",
      "|     ombh2     |    0.0255   |      0.0254     |     -0.308    |\n",
      "|     omch2     |    0.0764   |      0.076      |      -0.6     |\n",
      "| cosmomc_theta |    0.0101   |     0.00996     |     -1.19     |\n",
      "|    10^9 As    |     2.04    |       2.03      |     -0.74     |\n",
      "|       ns      |    0.159    |      0.158      |     -0.806    |\n",
      "|      tau      |     0.57    |      0.566      |     -0.581    |\n",
      "|      mnu      |     1.35    |       1.35      |     -0.186    |\n",
      "|       wa      |     12.1    |         12      |      -1.2     |\n",
      "|       w       |     4.46    |       4.41      |     -1.07     |\n",
      "|      bin2     |        0    |       2.01      |       inf     |\n",
      "|      bin3     |        0    |        2.4      |       inf     |\n",
      "|      bin4     |        0    |       5.72      |       inf     |\n",
      "|      bin5     |        0    |       17.4      |       inf     |\n",
      "|      bin6     |        0    |       56.5      |       inf     |\n",
      "+---------------+-------------+-----------------+---------------+\n",
      "kappa-TE and kg-TE; k_max = 0.1\n",
      "+---------------+-------------+-----------------+---------------+\n",
      "|   Parameter   | sigmas_kTE2 | sigmas_kgTE2_01 | percent diff. |\n",
      "+---------------+-------------+-----------------+---------------+\n",
      "|     ombh2     |    0.0255   |      0.0254     |     -0.137    |\n",
      "|     omch2     |    0.0764   |      0.0762     |     -0.252    |\n",
      "| cosmomc_theta |    0.0101   |       0.01      |     -0.468    |\n",
      "|    10^9 As    |     2.04    |       2.03      |     -0.366    |\n",
      "|       ns      |    0.159    |      0.158      |     -0.368    |\n",
      "|      tau      |     0.57    |      0.568      |     -0.282    |\n",
      "|      mnu      |     1.35    |       1.35      |    -0.0977    |\n",
      "|       wa      |     12.1    |       12.1      |     -0.474    |\n",
      "|       w       |     4.46    |       4.44      |     -0.424    |\n",
      "|      bin2     |        0    |       2.63      |       inf     |\n",
      "|      bin3     |        0    |       3.06      |       inf     |\n",
      "|      bin4     |        0    |       6.84      |       inf     |\n",
      "|      bin5     |        0    |       20.2      |       inf     |\n",
      "|      bin6     |        0    |       63.1      |       inf     |\n",
      "+---------------+-------------+-----------------+---------------+\n"
     ]
    },
    {
     "name": "stderr",
     "output_type": "stream",
     "text": [
      "/opt/local/Library/Frameworks/Python.framework/Versions/2.7/lib/python2.7/site-packages/ipykernel_launcher.py:14: RuntimeWarning: divide by zero encountered in double_scalars\n",
      "  \n",
      "/opt/local/Library/Frameworks/Python.framework/Versions/2.7/lib/python2.7/site-packages/ipykernel_launcher.py:23: RuntimeWarning: divide by zero encountered in double_scalars\n",
      "/opt/local/Library/Frameworks/Python.framework/Versions/2.7/lib/python2.7/site-packages/ipykernel_launcher.py:32: RuntimeWarning: divide by zero encountered in double_scalars\n"
     ]
    }
   ],
   "source": [
    "from prettytable import PrettyTable\n",
    "\n",
    "print 'fsky = 1'\n",
    "print 'nonlinear P(k)'\n",
    "\n",
    "# add extra zeros to kTE\n",
    "sigmas_kTE2 = np.append(sigmas_kTE2,np.zeros(nBins))\n",
    "\n",
    "print 'kappa-TE and kg-TE; no k-limit'\n",
    "t = PrettyTable(['Parameter','sigmas_kTE2','sigmas_kgTE2_00','percent diff.'])\n",
    "for i,p in enumerate(paramList2_01):\n",
    "    Zi = sigmas_kTE2[i]\n",
    "    Bi = sigmas_kgTE2_00[i]\n",
    "    diff = (Bi-Zi)/Zi *100\n",
    "    t.add_row([p,\"%5.3g\" % Zi,\"%5.3g\" % Bi, \"%5.3g\" % diff ] )\n",
    "print t\n",
    "\n",
    "print 'kappa-TE and kg-TE; k_max = {0}'.format(kmax2)\n",
    "t = PrettyTable(['Parameter','sigmas_kTE2','sigmas_kgTE2_02','percent diff.'])\n",
    "for i,p in enumerate(paramList2_02):\n",
    "    Zi = sigmas_kTE2[i]\n",
    "    Bi = sigmas_kgTE2_02[i]\n",
    "    diff = (Bi-Zi)/Zi *100\n",
    "    t.add_row([p,\"%5.3g\" % Zi,\"%5.3g\" % Bi, \"%5.3g\" % diff ] )\n",
    "print t\n",
    "\n",
    "print 'kappa-TE and kg-TE; k_max = {0}'.format(kmax1)\n",
    "t = PrettyTable(['Parameter','sigmas_kTE2','sigmas_kgTE2_01','percent diff.'])\n",
    "for i,p in enumerate(paramList2_01):\n",
    "    Zi = sigmas_kTE2[i]\n",
    "    Bi = sigmas_kgTE2_01[i]\n",
    "    diff = (Bi-Zi)/Zi *100\n",
    "    t.add_row([p,\"%5.3g\" % Zi,\"%5.3g\" % Bi, \"%5.3g\" % diff ] )\n",
    "print t\n",
    "\n"
   ]
  },
  {
   "cell_type": "code",
   "execution_count": null,
   "metadata": {},
   "outputs": [],
   "source": []
  },
  {
   "cell_type": "code",
   "execution_count": 43,
   "metadata": {},
   "outputs": [
    {
     "data": {
      "text/plain": [
       "'\\nprint \\'fsky = 1\\'\\nprint \\'linear P(k)\\'\\n\\n# add extra zeros to kTE\\nsigmas_kTE4 = np.append(sigmas_kTE4,np.zeros(nBins))\\n\\nprint \\'kappa-TE and kg-TE; no k-limit\\'\\nt = PrettyTable([\\'Parameter\\',\\'sigmas_kTE4\\',\\'sigmas_kgTE4_00\\',\\'percent diff.\\'])\\nfor i,p in enumerate(paramList4_01):\\n    Zi = sigmas_kTE4[i]\\n    Bi = sigmas_kgTE4_00[i]\\n    diff = (Bi-Zi)/Zi *100\\n    t.add_row([p,\"%5.3g\" % Zi,\"%5.3g\" % Bi, \"%5.3g\" % diff ] )\\nprint t\\n\\nprint \\'kappa-TE and kg-TE; k_max = {0}\\'.format(kmax2)\\nt = PrettyTable([\\'Parameter\\',\\'sigmas_kTE4\\',\\'sigmas_kgTE4_02\\',\\'percent diff.\\'])\\nfor i,p in enumerate(paramList4_02):\\n    Zi = sigmas_kTE4[i]\\n    Bi = sigmas_kgTE4_02[i]\\n    diff = (Bi-Zi)/Zi *100\\n    t.add_row([p,\"%5.3g\" % Zi,\"%5.3g\" % Bi, \"%5.3g\" % diff ] )\\nprint t\\n\\nprint \\'kappa-TE and kg-TE; k_max = {0}\\'.format(kmax1)\\nt = PrettyTable([\\'Parameter\\',\\'sigmas_kTE4\\',\\'sigmas_kgTE4_01\\',\\'percent diff.\\'])\\nfor i,p in enumerate(paramList4_01):\\n    Zi = sigmas_kTE4[i]\\n    Bi = sigmas_kgTE4_01[i]\\n    diff = (Bi-Zi)/Zi *100\\n    t.add_row([p,\"%5.3g\" % Zi,\"%5.3g\" % Bi, \"%5.3g\" % diff ] )\\nprint t\\n\\n'"
      ]
     },
     "execution_count": 43,
     "metadata": {},
     "output_type": "execute_result"
    }
   ],
   "source": [
    "from prettytable import PrettyTable\n",
    "\"\"\"\n",
    "print 'fsky = 1'\n",
    "print 'linear P(k)'\n",
    "\n",
    "# add extra zeros to kTE\n",
    "sigmas_kTE4 = np.append(sigmas_kTE4,np.zeros(nBins))\n",
    "\n",
    "print 'kappa-TE and kg-TE; no k-limit'\n",
    "t = PrettyTable(['Parameter','sigmas_kTE4','sigmas_kgTE4_00','percent diff.'])\n",
    "for i,p in enumerate(paramList4_01):\n",
    "    Zi = sigmas_kTE4[i]\n",
    "    Bi = sigmas_kgTE4_00[i]\n",
    "    diff = (Bi-Zi)/Zi *100\n",
    "    t.add_row([p,\"%5.3g\" % Zi,\"%5.3g\" % Bi, \"%5.3g\" % diff ] )\n",
    "print t\n",
    "\n",
    "print 'kappa-TE and kg-TE; k_max = {0}'.format(kmax2)\n",
    "t = PrettyTable(['Parameter','sigmas_kTE4','sigmas_kgTE4_02','percent diff.'])\n",
    "for i,p in enumerate(paramList4_02):\n",
    "    Zi = sigmas_kTE4[i]\n",
    "    Bi = sigmas_kgTE4_02[i]\n",
    "    diff = (Bi-Zi)/Zi *100\n",
    "    t.add_row([p,\"%5.3g\" % Zi,\"%5.3g\" % Bi, \"%5.3g\" % diff ] )\n",
    "print t\n",
    "\n",
    "print 'kappa-TE and kg-TE; k_max = {0}'.format(kmax1)\n",
    "t = PrettyTable(['Parameter','sigmas_kTE4','sigmas_kgTE4_01','percent diff.'])\n",
    "for i,p in enumerate(paramList4_01):\n",
    "    Zi = sigmas_kTE4[i]\n",
    "    Bi = sigmas_kgTE4_01[i]\n",
    "    diff = (Bi-Zi)/Zi *100\n",
    "    t.add_row([p,\"%5.3g\" % Zi,\"%5.3g\" % Bi, \"%5.3g\" % diff ] )\n",
    "print t\n",
    "\n",
    "\"\"\""
   ]
  },
  {
   "cell_type": "code",
   "execution_count": null,
   "metadata": {},
   "outputs": [],
   "source": []
  },
  {
   "cell_type": "code",
   "execution_count": null,
   "metadata": {},
   "outputs": [],
   "source": []
  },
  {
   "cell_type": "code",
   "execution_count": null,
   "metadata": {},
   "outputs": [],
   "source": []
  },
  {
   "cell_type": "markdown",
   "metadata": {},
   "source": [
    "# TE, kg, kgTE"
   ]
  },
  {
   "cell_type": "code",
   "execution_count": 44,
   "metadata": {
    "scrolled": false
   },
   "outputs": [
    {
     "name": "stdout",
     "output_type": "stream",
     "text": [
      "fsky = 1\n",
      "nonlinear P(k)\n",
      "kg and kgTE, no k-limit\n",
      "+---------------+---------------+-----------------+---------------+\n",
      "|   Parameter   | sigmas_kg2_00 | sigmas_kgTE2_00 | percent diff. |\n",
      "+---------------+---------------+-----------------+---------------+\n",
      "|     ombh2     |     0.0928    |      0.0254     |     -72.7     |\n",
      "|     omch2     |     0.272     |      0.0759     |     -72.2     |\n",
      "| cosmomc_theta |     0.0393    |     0.00993     |     -74.7     |\n",
      "|    10^9 As    |      6.48     |       2.02      |     -68.8     |\n",
      "|       ns      |     0.674     |      0.157      |     -76.6     |\n",
      "|      tau      |       607     |      0.566      |     -99.9     |\n",
      "|      mnu      |      2.92     |       1.35      |     -53.8     |\n",
      "|       wa      |      53.6     |         12      |     -77.7     |\n",
      "|       w       |      22.4     |        4.4      |     -80.3     |\n",
      "|      bin1     |      1.96     |       1.55      |     -20.9     |\n",
      "|      bin2     |      2.06     |       1.53      |     -25.7     |\n",
      "|      bin3     |      2.64     |       2.12      |     -19.6     |\n",
      "|      bin4     |      5.55     |       5.46      |      -1.6     |\n",
      "|      bin5     |      17.1     |         17      |     -0.616    |\n",
      "|      bin6     |      83.2     |       55.8      |       -33     |\n",
      "+---------------+---------------+-----------------+---------------+\n",
      "kg and kgTE, k_max = 0.2\n",
      "+---------------+---------------+-----------------+---------------+\n",
      "|   Parameter   | sigmas_kg2_02 | sigmas_kgTE2_02 | percent diff. |\n",
      "+---------------+---------------+-----------------+---------------+\n",
      "|     ombh2     |     0.0943    |      0.0254     |     -73.1     |\n",
      "|     omch2     |     0.279     |      0.076      |     -72.7     |\n",
      "| cosmomc_theta |     0.0408    |     0.00996     |     -75.6     |\n",
      "|    10^9 As    |      6.61     |       2.03      |     -69.4     |\n",
      "|       ns      |     0.698     |      0.158      |     -77.4     |\n",
      "|      tau      |       622     |      0.566      |     -99.9     |\n",
      "|      mnu      |         3     |       1.35      |       -55     |\n",
      "|       wa      |      55.9     |         12      |     -78.5     |\n",
      "|       w       |      23.4     |       4.41      |     -81.2     |\n",
      "|      bin2     |      2.52     |       2.01      |     -20.3     |\n",
      "|      bin3     |      2.84     |        2.4      |     -15.3     |\n",
      "|      bin4     |      5.82     |       5.72      |     -1.66     |\n",
      "|      bin5     |      17.5     |       17.4      |     -0.607    |\n",
      "|      bin6     |      85.6     |       56.5      |     -33.9     |\n",
      "+---------------+---------------+-----------------+---------------+\n",
      "kg and kgTE, k_max = 0.1\n",
      "+---------------+---------------+-----------------+---------------+\n",
      "|   Parameter   | sigmas_kg2_01 | sigmas_kgTE2_01 | percent diff. |\n",
      "+---------------+---------------+-----------------+---------------+\n",
      "|     ombh2     |     0.102     |      0.0254     |     -75.1     |\n",
      "|     omch2     |     0.305     |      0.0762     |       -75     |\n",
      "| cosmomc_theta |     0.0497    |       0.01      |     -79.8     |\n",
      "|    10^9 As    |      7.36     |       2.03      |     -72.4     |\n",
      "|       ns      |      0.74     |      0.158      |     -78.6     |\n",
      "|      tau      |       626     |      0.568      |     -99.9     |\n",
      "|      mnu      |      3.11     |       1.35      |     -56.6     |\n",
      "|       wa      |      68.2     |       12.1      |     -82.3     |\n",
      "|       w       |      28.3     |       4.44      |     -84.3     |\n",
      "|      bin2     |      3.13     |       2.63      |     -16.1     |\n",
      "|      bin3     |      3.35     |       3.06      |     -8.73     |\n",
      "|      bin4     |      6.95     |       6.84      |      -1.6     |\n",
      "|      bin5     |      20.4     |       20.2      |     -0.688    |\n",
      "|      bin6     |      99.3     |       63.1      |     -36.5     |\n",
      "+---------------+---------------+-----------------+---------------+\n",
      "TE and kgTE, no k-limit\n",
      "+---------------+------------+-----------------+---------------+\n",
      "|   Parameter   | sigmas_TE2 | sigmas_kgTE2_00 | percent diff. |\n",
      "+---------------+------------+-----------------+---------------+\n",
      "|     ombh2     |   0.0617   |      0.0254     |     -58.9     |\n",
      "|     omch2     |   0.645    |      0.0759     |     -88.2     |\n",
      "| cosmomc_theta |    1.55    |     0.00993     |     -99.4     |\n",
      "|    10^9 As    |     184    |       2.02      |     -98.9     |\n",
      "|       ns      |    1.99    |      0.157      |     -92.1     |\n",
      "|      tau      |    43.5    |      0.566      |     -98.7     |\n",
      "|      mnu      |     191    |       1.35      |     -99.3     |\n",
      "|       wa      |  1.18e+03  |         12      |       -99     |\n",
      "|       w       |     822    |        4.4      |     -99.5     |\n",
      "|      bin1     |       0    |       1.55      |       inf     |\n",
      "|      bin2     |       0    |       1.53      |       inf     |\n",
      "|      bin3     |       0    |       2.12      |       inf     |\n",
      "|      bin4     |       0    |       5.46      |       inf     |\n",
      "|      bin5     |       0    |         17      |       inf     |\n",
      "|      bin6     |       0    |       55.8      |       inf     |\n",
      "+---------------+------------+-----------------+---------------+\n",
      "TE and kgTE, k_max = 0.2"
     ]
    },
    {
     "name": "stderr",
     "output_type": "stream",
     "text": [
      "/opt/local/Library/Frameworks/Python.framework/Versions/2.7/lib/python2.7/site-packages/ipykernel_launcher.py:41: RuntimeWarning: divide by zero encountered in double_scalars\n"
     ]
    },
    {
     "name": "stdout",
     "output_type": "stream",
     "text": [
      "\n",
      "+---------------+------------+-----------------+---------------+\n",
      "|   Parameter   | sigmas_TE2 | sigmas_kgTE2_02 | percent diff. |\n",
      "+---------------+------------+-----------------+---------------+\n",
      "|     ombh2     |   0.0617   |      0.0254     |     -58.8     |\n",
      "|     omch2     |   0.645    |      0.076      |     -88.2     |\n",
      "| cosmomc_theta |    1.55    |     0.00996     |     -99.4     |\n",
      "|    10^9 As    |     184    |       2.03      |     -98.9     |\n",
      "|       ns      |    1.99    |      0.158      |     -92.1     |\n",
      "|      tau      |    43.5    |      0.566      |     -98.7     |\n",
      "|      mnu      |     191    |       1.35      |     -99.3     |\n",
      "|       wa      |  1.18e+03  |         12      |       -99     |\n",
      "|       w       |     822    |       4.41      |     -99.5     |\n",
      "|      bin2     |       0    |       2.01      |       inf     |\n",
      "|      bin3     |       0    |        2.4      |       inf     |\n",
      "|      bin4     |       0    |       5.72      |       inf     |\n",
      "|      bin5     |       0    |       17.4      |       inf     |\n",
      "|      bin6     |       0    |       56.5      |       inf     |\n",
      "+---------------+------------+-----------------+---------------+\n",
      "TE and kgTE, k_max = 0.1\n",
      "+---------------+------------+-----------------+---------------+\n",
      "|   Parameter   | sigmas_TE2 | sigmas_kgTE2_01 | percent diff. |\n",
      "+---------------+------------+-----------------+---------------+\n",
      "|     ombh2     |   0.0617   |      0.0254     |     -58.8     |\n",
      "|     omch2     |   0.645    |      0.0762     |     -88.2     |\n",
      "| cosmomc_theta |    1.55    |       0.01      |     -99.4     |\n",
      "|    10^9 As    |     184    |       2.03      |     -98.9     |\n",
      "|       ns      |    1.99    |      0.158      |       -92     |\n",
      "|      tau      |    43.5    |      0.568      |     -98.7     |\n",
      "|      mnu      |     191    |       1.35      |     -99.3     |\n",
      "|       wa      |  1.18e+03  |       12.1      |       -99     |\n",
      "|       w       |     822    |       4.44      |     -99.5     |\n",
      "|      bin2     |       0    |       2.63      |       inf     |\n",
      "|      bin3     |       0    |       3.06      |       inf     |\n",
      "|      bin4     |       0    |       6.84      |       inf     |\n",
      "|      bin5     |       0    |       20.2      |       inf     |\n",
      "|      bin6     |       0    |       63.1      |       inf     |\n",
      "+---------------+------------+-----------------+---------------+\n"
     ]
    },
    {
     "name": "stderr",
     "output_type": "stream",
     "text": [
      "/opt/local/Library/Frameworks/Python.framework/Versions/2.7/lib/python2.7/site-packages/ipykernel_launcher.py:50: RuntimeWarning: divide by zero encountered in double_scalars\n",
      "/opt/local/Library/Frameworks/Python.framework/Versions/2.7/lib/python2.7/site-packages/ipykernel_launcher.py:59: RuntimeWarning: divide by zero encountered in double_scalars\n"
     ]
    }
   ],
   "source": [
    "from prettytable import PrettyTable\n",
    "\n",
    "print 'fsky = 1'\n",
    "print 'nonlinear P(k)'\n",
    "\n",
    "print 'kg and kgTE, no k-limit'\n",
    "t = PrettyTable(['Parameter','sigmas_kg2_00','sigmas_kgTE2_00','percent diff.'])\n",
    "for i,p in enumerate(paramList):\n",
    "    Zi = sigmas_kg2_00[i]\n",
    "    Bi = sigmas_kgTE2_00[i]\n",
    "    diff = (Bi-Zi)/Zi *100\n",
    "    t.add_row([p,\"%5.3g\" % Zi,\"%5.3g\" % Bi, \"%5.3g\" % diff ] )\n",
    "print t\n",
    "\n",
    "print 'kg and kgTE, k_max = {0}'.format(kmax2)\n",
    "t = PrettyTable(['Parameter','sigmas_kg2_02','sigmas_kgTE2_02','percent diff.'])\n",
    "for i,p in enumerate(paramList2_02):\n",
    "    Zi = sigmas_kg2_02[i]\n",
    "    Bi = sigmas_kgTE2_02[i]\n",
    "    diff = (Bi-Zi)/Zi *100\n",
    "    t.add_row([p,\"%5.3g\" % Zi,\"%5.3g\" % Bi, \"%5.3g\" % diff ] )\n",
    "print t\n",
    "\n",
    "print 'kg and kgTE, k_max = {0}'.format(kmax1)\n",
    "t = PrettyTable(['Parameter','sigmas_kg2_01','sigmas_kgTE2_01','percent diff.'])\n",
    "for i,p in enumerate(paramList2_01):\n",
    "    Zi = sigmas_kg2_01[i]\n",
    "    Bi = sigmas_kgTE2_01[i]\n",
    "    diff = (Bi-Zi)/Zi *100\n",
    "    t.add_row([p,\"%5.3g\" % Zi,\"%5.3g\" % Bi, \"%5.3g\" % diff ] )\n",
    "print t\n",
    "\n",
    "# add extra zeros to kTE\n",
    "sigmas_TE2 = np.append(sigmas_TE2,np.zeros(nBins))\n",
    "\n",
    "print 'TE and kgTE, no k-limit'\n",
    "t = PrettyTable(['Parameter','sigmas_TE2','sigmas_kgTE2_00','percent diff.'])\n",
    "for i,p in enumerate(paramList):\n",
    "    Zi = sigmas_TE2[i]\n",
    "    Bi = sigmas_kgTE2_00[i]\n",
    "    diff = (Bi-Zi)/Zi *100\n",
    "    t.add_row([p,\"%5.3g\" % Zi,\"%5.3g\" % Bi, \"%5.3g\" % diff ] )\n",
    "print t\n",
    "\n",
    "print 'TE and kgTE, k_max = {0}'.format(kmax2)\n",
    "t = PrettyTable(['Parameter','sigmas_TE2','sigmas_kgTE2_02','percent diff.'])\n",
    "for i,p in enumerate(paramList2_02):\n",
    "    Zi = sigmas_TE2[i]\n",
    "    Bi = sigmas_kgTE2_02[i]\n",
    "    diff = (Bi-Zi)/Zi *100\n",
    "    t.add_row([p,\"%5.3g\" % Zi,\"%5.3g\" % Bi, \"%5.3g\" % diff ] )\n",
    "print t\n",
    "\n",
    "print 'TE and kgTE, k_max = {0}'.format(kmax1)\n",
    "t = PrettyTable(['Parameter','sigmas_TE2','sigmas_kgTE2_01','percent diff.'])\n",
    "for i,p in enumerate(paramList2_01):\n",
    "    Zi = sigmas_TE2[i]\n",
    "    Bi = sigmas_kgTE2_01[i]\n",
    "    diff = (Bi-Zi)/Zi *100\n",
    "    t.add_row([p,\"%5.3g\" % Zi,\"%5.3g\" % Bi, \"%5.3g\" % diff ] )\n",
    "print t\n",
    "\n",
    "\n"
   ]
  },
  {
   "cell_type": "code",
   "execution_count": null,
   "metadata": {},
   "outputs": [],
   "source": []
  },
  {
   "cell_type": "code",
   "execution_count": 45,
   "metadata": {
    "scrolled": false
   },
   "outputs": [
    {
     "data": {
      "text/plain": [
       "'\\nprint \\'fsky = 1\\'\\nprint \\'linear P(k)\\'\\n\\nprint \\'kg and kgTE, no k-limit\\'\\nt = PrettyTable([\\'Parameter\\',\\'sigmas_kg4_00\\',\\'sigmas_kgTE4_00\\',\\'percent diff.\\'])\\nfor i,p in enumerate(paramList):\\n    Zi = sigmas_kg4_00[i]\\n    Bi = sigmas_kgTE4_00[i]\\n    diff = (Bi-Zi)/Zi *100\\n    t.add_row([p,\"%5.3g\" % Zi,\"%5.3g\" % Bi, \"%5.3g\" % diff ] )\\nprint t\\n\\nprint \\'kg and kgTE, k_max = {0}\\'.format(kmax2)\\nt = PrettyTable([\\'Parameter\\',\\'sigmas_kg4_02\\',\\'sigmas_kgTE4_02\\',\\'percent diff.\\'])\\nfor i,p in enumerate(paramList4_02):\\n    Zi = sigmas_kg4_02[i]\\n    Bi = sigmas_kgTE4_02[i]\\n    diff = (Bi-Zi)/Zi *100\\n    t.add_row([p,\"%5.3g\" % Zi,\"%5.3g\" % Bi, \"%5.3g\" % diff ] )\\nprint t\\n\\nprint \\'kg and kgTE, k_max = {0}\\'.format(kmax1)\\nt = PrettyTable([\\'Parameter\\',\\'sigmas_kg4_01\\',\\'sigmas_kgTE4_01\\',\\'percent diff.\\'])\\nfor i,p in enumerate(paramList4_01):\\n    Zi = sigmas_kg4_01[i]\\n    Bi = sigmas_kgTE4_01[i]\\n    diff = (Bi-Zi)/Zi *100\\n    t.add_row([p,\"%5.3g\" % Zi,\"%5.3g\" % Bi, \"%5.3g\" % diff ] )\\nprint t\\n\\n# add extra zeros to kTE\\nsigmas_TE4 = np.append(sigmas_TE4,np.zeros(nBins))\\n\\nprint \\'TE and kgTE, no k-limit\\'\\nt = PrettyTable([\\'Parameter\\',\\'sigmas_TE4\\',\\'sigmas_kgTE4_00\\',\\'percent diff.\\'])\\nfor i,p in enumerate(paramList):\\n    Zi = sigmas_TE4[i]\\n    Bi = sigmas_kgTE4_00[i]\\n    diff = (Bi-Zi)/Zi *100\\n    t.add_row([p,\"%5.3g\" % Zi,\"%5.3g\" % Bi, \"%5.3g\" % diff ] )\\nprint t\\n\\nprint \\'TE and kgTE, k_max = {0}\\'.format(kmax2)\\nt = PrettyTable([\\'Parameter\\',\\'sigmas_TE4\\',\\'sigmas_kgTE4_02\\',\\'percent diff.\\'])\\nfor i,p in enumerate(paramList4_02):\\n    Zi = sigmas_TE4[i]\\n    Bi = sigmas_kgTE4_02[i]\\n    diff = (Bi-Zi)/Zi *100\\n    t.add_row([p,\"%5.3g\" % Zi,\"%5.3g\" % Bi, \"%5.3g\" % diff ] )\\nprint t\\n\\nprint \\'TE and kgTE, k_max = {0}\\'.format(kmax1)\\nt = PrettyTable([\\'Parameter\\',\\'sigmas_TE4\\',\\'sigmas_kgTE4_01\\',\\'percent diff.\\'])\\nfor i,p in enumerate(paramList2_01):\\n    Zi = sigmas_TE4[i]\\n    Bi = sigmas_kgTE4_01[i]\\n    diff = (Bi-Zi)/Zi *100\\n    t.add_row([p,\"%5.3g\" % Zi,\"%5.3g\" % Bi, \"%5.3g\" % diff ] )\\nprint t\\n\\n'"
      ]
     },
     "execution_count": 45,
     "metadata": {},
     "output_type": "execute_result"
    }
   ],
   "source": [
    "from prettytable import PrettyTable\n",
    "\"\"\"\n",
    "print 'fsky = 1'\n",
    "print 'linear P(k)'\n",
    "\n",
    "print 'kg and kgTE, no k-limit'\n",
    "t = PrettyTable(['Parameter','sigmas_kg4_00','sigmas_kgTE4_00','percent diff.'])\n",
    "for i,p in enumerate(paramList):\n",
    "    Zi = sigmas_kg4_00[i]\n",
    "    Bi = sigmas_kgTE4_00[i]\n",
    "    diff = (Bi-Zi)/Zi *100\n",
    "    t.add_row([p,\"%5.3g\" % Zi,\"%5.3g\" % Bi, \"%5.3g\" % diff ] )\n",
    "print t\n",
    "\n",
    "print 'kg and kgTE, k_max = {0}'.format(kmax2)\n",
    "t = PrettyTable(['Parameter','sigmas_kg4_02','sigmas_kgTE4_02','percent diff.'])\n",
    "for i,p in enumerate(paramList4_02):\n",
    "    Zi = sigmas_kg4_02[i]\n",
    "    Bi = sigmas_kgTE4_02[i]\n",
    "    diff = (Bi-Zi)/Zi *100\n",
    "    t.add_row([p,\"%5.3g\" % Zi,\"%5.3g\" % Bi, \"%5.3g\" % diff ] )\n",
    "print t\n",
    "\n",
    "print 'kg and kgTE, k_max = {0}'.format(kmax1)\n",
    "t = PrettyTable(['Parameter','sigmas_kg4_01','sigmas_kgTE4_01','percent diff.'])\n",
    "for i,p in enumerate(paramList4_01):\n",
    "    Zi = sigmas_kg4_01[i]\n",
    "    Bi = sigmas_kgTE4_01[i]\n",
    "    diff = (Bi-Zi)/Zi *100\n",
    "    t.add_row([p,\"%5.3g\" % Zi,\"%5.3g\" % Bi, \"%5.3g\" % diff ] )\n",
    "print t\n",
    "\n",
    "# add extra zeros to kTE\n",
    "sigmas_TE4 = np.append(sigmas_TE4,np.zeros(nBins))\n",
    "\n",
    "print 'TE and kgTE, no k-limit'\n",
    "t = PrettyTable(['Parameter','sigmas_TE4','sigmas_kgTE4_00','percent diff.'])\n",
    "for i,p in enumerate(paramList):\n",
    "    Zi = sigmas_TE4[i]\n",
    "    Bi = sigmas_kgTE4_00[i]\n",
    "    diff = (Bi-Zi)/Zi *100\n",
    "    t.add_row([p,\"%5.3g\" % Zi,\"%5.3g\" % Bi, \"%5.3g\" % diff ] )\n",
    "print t\n",
    "\n",
    "print 'TE and kgTE, k_max = {0}'.format(kmax2)\n",
    "t = PrettyTable(['Parameter','sigmas_TE4','sigmas_kgTE4_02','percent diff.'])\n",
    "for i,p in enumerate(paramList4_02):\n",
    "    Zi = sigmas_TE4[i]\n",
    "    Bi = sigmas_kgTE4_02[i]\n",
    "    diff = (Bi-Zi)/Zi *100\n",
    "    t.add_row([p,\"%5.3g\" % Zi,\"%5.3g\" % Bi, \"%5.3g\" % diff ] )\n",
    "print t\n",
    "\n",
    "print 'TE and kgTE, k_max = {0}'.format(kmax1)\n",
    "t = PrettyTable(['Parameter','sigmas_TE4','sigmas_kgTE4_01','percent diff.'])\n",
    "for i,p in enumerate(paramList2_01):\n",
    "    Zi = sigmas_TE4[i]\n",
    "    Bi = sigmas_kgTE4_01[i]\n",
    "    diff = (Bi-Zi)/Zi *100\n",
    "    t.add_row([p,\"%5.3g\" % Zi,\"%5.3g\" % Bi, \"%5.3g\" % diff ] )\n",
    "print t\n",
    "\n",
    "\"\"\"\n"
   ]
  },
  {
   "cell_type": "code",
   "execution_count": null,
   "metadata": {},
   "outputs": [],
   "source": []
  },
  {
   "cell_type": "markdown",
   "metadata": {},
   "source": [
    "# some figure of merit prep"
   ]
  },
  {
   "cell_type": "code",
   "execution_count": 46,
   "metadata": {},
   "outputs": [],
   "source": [
    "# define a few functions for calculating FoM\n",
    "\n",
    "# define function for getting ap (pivot a) for each matrix\n",
    "def getAp(FijInv,iw0=8,iwa=7):\n",
    "    dw0dwa = FijInv[iw0,iwa]\n",
    "    dwadwa = FijInv[iwa,iwa]\n",
    "    return 1+dw0dwa/dwadwa\n",
    "\n",
    "# define function for getting sigma^2(w_p) (variance of w_p)\n",
    "def getVarWp(FijInv,iw0=8,iwa=7):\n",
    "    dw0dw0 = FijInv[iw0,iw0]\n",
    "    dw0dwa = FijInv[iw0,iwa]\n",
    "    dwadwa = FijInv[iwa,iwa]\n",
    "    a_p = getAp(FijInv,iw0,iwa)\n",
    "    return dw0dw0 +2*(1-a_p)*dw0dwa +(1-a_p)**2*dwadwa\n",
    "\n",
    "# define function for getting value proportional to FoM\n",
    "def FoMprop(FijInv,iw0=8,iwa=7):\n",
    "    sigmaWp = np.sqrt(getVarWp(FijInv,iw0,iwa))\n",
    "    sigmaWa = np.sqrt(FijInv[iwa,iwa])\n",
    "    return 1/(sigmaWp*sigmaWa)\n"
   ]
  },
  {
   "cell_type": "code",
   "execution_count": null,
   "metadata": {},
   "outputs": [],
   "source": []
  },
  {
   "cell_type": "markdown",
   "metadata": {},
   "source": [
    "# plot $\\sigma(w_0), \\sigma(w_a)$ as functions of $k_{max}, z_{max}$"
   ]
  },
  {
   "cell_type": "code",
   "execution_count": 47,
   "metadata": {},
   "outputs": [
    {
     "data": {
      "text/plain": [
       "\"\\nprint 'starting nonlinear P(k), kmax = {0}...'.format(kmax1)\\ncovarBins2_01,dClVecsBins2_01,lmaxByBin2_01,preMaskBins2_01 = getKlimited(binEdges,chiOfZ2,Fobj2,kmax=kmax1)\\nprint 'starting nonlinear P(k), kmax = {0}...'.format(kmax2)\\ncovarBins2_02,dClVecsBins2_02,lmaxByBin2_02,preMaskBins2_02 = getKlimited(binEdges,chiOfZ2,Fobj2,kmax=kmax2)\\n\\nprint 'starting linear P(k), kmax = {0}...'.format(kmax1)\\ncovarBins4_01,dClVecsBins4_01,lmaxByBin4_01,preMaskBins4_01 = getKlimited(binEdges,chiOfZ4,Fobj4,kmax=kmax1)\\nprint 'starting linear P(k), kmax = {0}...'.format(kmax2)\\ncovarBins4_02,dClVecsBins4_02,lmaxByBin4_02,preMaskBins4_02 = getKlimited(binEdges,chiOfZ4,Fobj4,kmax=kmax2)\\n\""
      ]
     },
     "execution_count": 47,
     "metadata": {},
     "output_type": "execute_result"
    }
   ],
   "source": [
    "# this was executed earlier:\n",
    "\"\"\"\n",
    "print 'starting nonlinear P(k), kmax = {0}...'.format(kmax1)\n",
    "covarBins2_01,dClVecsBins2_01,lmaxByBin2_01,preMaskBins2_01 = getKlimited(binEdges,chiOfZ2,Fobj2,kmax=kmax1)\n",
    "print 'starting nonlinear P(k), kmax = {0}...'.format(kmax2)\n",
    "covarBins2_02,dClVecsBins2_02,lmaxByBin2_02,preMaskBins2_02 = getKlimited(binEdges,chiOfZ2,Fobj2,kmax=kmax2)\n",
    "\n",
    "print 'starting linear P(k), kmax = {0}...'.format(kmax1)\n",
    "covarBins4_01,dClVecsBins4_01,lmaxByBin4_01,preMaskBins4_01 = getKlimited(binEdges,chiOfZ4,Fobj4,kmax=kmax1)\n",
    "print 'starting linear P(k), kmax = {0}...'.format(kmax2)\n",
    "covarBins4_02,dClVecsBins4_02,lmaxByBin4_02,preMaskBins4_02 = getKlimited(binEdges,chiOfZ4,Fobj4,kmax=kmax2)\n",
    "\"\"\""
   ]
  },
  {
   "cell_type": "code",
   "execution_count": 48,
   "metadata": {},
   "outputs": [
    {
     "name": "stdout",
     "output_type": "stream",
     "text": [
      "2\n",
      "[0 2 3 4 5 6 2 2 2 2 2 3 3 3 3 4 4 4 5 5 6]\n",
      "3\n",
      "[0 3 4 5 6 3 3 3 3 4 4 4 5 5 6]\n",
      "4\n",
      "[0 4 5 6 4 4 4 5 5 6]\n",
      "5\n",
      "[0 5 6 5 5 6]\n",
      "6\n",
      "[0 6 6]\n",
      "99\n",
      "[0]\n"
     ]
    }
   ],
   "source": [
    "# compare preMaskBins to increasing binMax\n",
    "binMax = [2,3,4,5,6,99]\n",
    "for i,binNum in enumerate(binMax):\n",
    "    print binNum\n",
    "    print preMaskBins2_01[i]\n",
    "    #print preMaskBins2_02[i]\n",
    "# that last bin is kappa only"
   ]
  },
  {
   "cell_type": "code",
   "execution_count": null,
   "metadata": {},
   "outputs": [],
   "source": []
  },
  {
   "cell_type": "code",
   "execution_count": 49,
   "metadata": {},
   "outputs": [],
   "source": [
    "# need to get:\n",
    "# 2 piece from pmb[0]\n",
    "# 3 piece from pmb[1] with 2,3 piece from pmb[0]\n",
    "# 4 piece from pmb[2] with 4,3 piece from pmb[1] with 4,3,2 piece from pmb[0]\n",
    "# ...\n",
    "# 6 piece from pmb[4] with ... with 6,5,4,3,2 piece from pmb[0]\n",
    "\n",
    "# do this with nested loop?\n",
    "# loop1 over which block from pmb\n",
    "#    loop2 over current and lower pieces"
   ]
  },
  {
   "cell_type": "code",
   "execution_count": 50,
   "metadata": {
    "scrolled": true
   },
   "outputs": [],
   "source": [
    "# define function to find a set of kmax, zmax dependent constraints\n",
    "def getKZlimited(covarBins,dClVecsBins,preMaskBins,Fobj,lmaxByBin,FijTE):\n",
    "    \"\"\"\n",
    "    Purpose:\n",
    "    \n",
    "    Inputs:\n",
    "      covarBins,dClVecsBins,preMaskBins: outputs from run of getKlimited: lists of arrays\n",
    "      #Fij_kk: the kappa only piece for higher bins\n",
    "      Fobj\n",
    "      lMaxByBin: list containing lmax of each bin\n",
    "      FijTE: the TE part to add in at the end\n",
    "      nParams, nBins, paramList: like in FisherMatrix obj.\n",
    "    Returns:\n",
    "      list of arrays of sigmas, one list element for each of nBins-1 bins \n",
    "      (no bin1 because it's always cut off in current paradigm)\n",
    "      FoMPropBins: list of FoM proportionality factors\n",
    "      paramList (should be like input without bin1 param.)\n",
    "    \"\"\"\n",
    "    nParams = Fobj.nParams\n",
    "    nBins = Fobj.nBins\n",
    "    nCosParams = nParams-nBins\n",
    "    paramList = Fobj.paramList\n",
    "    print 'lmaxByBin: ',lmaxByBin\n",
    "    \n",
    "    # check for exceptional case\n",
    "    nBlocks = covarBins.__len__()\n",
    "    if nBlocks != nBins: # these are equal in the nominal case where lmax(kmax) is always below system lmax\n",
    "        print 'nBlocks = ',nBlocks,'nBins = ',nBins\n",
    "        print 'warning! check nBlocks and nBins!'\n",
    "        \n",
    "    # go through bins to show affect of increasing #bins/increasing redshift on param constraints\n",
    "    # this binNum1 will effectively be the binNumMax in creating Fij\n",
    "    # start from bin2 since that is the first place where there is a block to count\n",
    "    sigmaBins = np.zeros((nBins-1,nParams-1))  # the -1s since we lose 1 bin and 1 bin bias param\n",
    "    FoMPropBins = np.zeros(nBins-1)\n",
    "    for binNum1 in range(2,nBins+1):\n",
    "        #myFij = np.zeros([nParams,nParams])  # to add Fijs into\n",
    "        sbIndex = binNum1-2\n",
    "        preMask = preMaskBins[sbIndex]\n",
    "        print '\\nstarting bin number ',binNum1%(nBins+1),', with sigmaBins index = ',sbIndex, \\\n",
    "              ', pmb[{0}] = {1}'.format(binNum1-2,preMask)\n",
    "        \n",
    "        # get contribution from all blocks available for each bin\n",
    "        # count up to one less than binNum1\n",
    "        myDClVecsBins = []\n",
    "        myInvCovBins = []\n",
    "        for blockCounter in range(1,binNum1):\n",
    "            print '  starting block ',blockCounter\n",
    "            myBlockNum = binNum1-blockCounter-1 # to index input lists\n",
    "            myBinNums = binNum1 - np.arange(blockCounter)\n",
    "            myBinNums = np.append([0],myBinNums) # get kappa in there\n",
    "            print '  use {0} bin numbers from pmb[{1}]'.format(blockCounter+1,myBlockNum), \\\n",
    "                  ' with bin numbers {0}'.format(myBinNums%(nBins+1))\n",
    "        \n",
    "            # get Fij for each piece:\n",
    "            \n",
    "            # get the covar and dClVec and preMask to work with\n",
    "            myCovar = covarBins[myBlockNum].copy()\n",
    "            myDClVecs = dClVecsBins[myBlockNum].copy()\n",
    "            myPreMask = preMaskBins[myBlockNum].copy()\n",
    "            #print 'covar.shape: ',myCovar.shape\n",
    "            #print 'dClVecs.shape: ',myDClVecs.shape\n",
    "            #print 'preMask.shape: ',myPreMask.shape\n",
    "            \n",
    "\n",
    "            # get a list of bin numbers to remove from preMask, covar, dClVec\n",
    "            # remove all except myBinNums%(nBins+1)\n",
    "            toCut = np.setdiff1d(np.arange(nBins+1),myBinNums%(nBins+1))\n",
    "            print '  toCut: ',toCut\n",
    "            \n",
    "\n",
    "            # remove them using covarCut\n",
    "            for cutNum in toCut:\n",
    "                myCovar,myDClVecs,myPreMask = covarCut(myCovar,myDClVecs,myPreMask,cutNum,verbose=False)\n",
    "            print '  the cut preMask: ',myPreMask\n",
    "            #print '  the cut covar.shape: ',myCovar.shape\n",
    "            #print '  the cut dClVecs.shape: ',myDClVecs.shape\n",
    "            myDClVecsBins.append( myDClVecs )\n",
    "            myInvCovBins.append( np.transpose(np.linalg.inv(np.transpose(myCovar)) ) )\n",
    "            \n",
    "            \n",
    "        # add up the pieces into one Fisher Matrix    \n",
    "        myFij,myParamList = getFijSum(nParams,nBins,myDClVecsBins,myInvCovBins,paramList)    \n",
    "        print 'original myFij.shape: ',myFij.shape # bin1 bias already removed\n",
    "        \n",
    "        # trim rows,cols from unused bins\n",
    "        toTrim = nBins-binNum1\n",
    "        if toTrim > 0: # equal for bin6\n",
    "            myFij = myFij[:-toTrim,:-toTrim]\n",
    "        print 'trimmed myFij.shape: ',myFij.shape\n",
    "        \n",
    "        # add in TE\n",
    "        Fij_kgTE = myFij.copy()\n",
    "        Fij_kgTE[:nCosParams,:nCosParams] += FijTE\n",
    "        \n",
    "        # add in kappa-only for higher ell\n",
    "        print 'for clkk: lmin = ',lmaxByBin[binNum1-1],', lmax = ,',lmaxByBin[-1]\n",
    "        Fijkk = getFijkk(Fobj,myLmin=lmaxByBin[binNum1-1],lmax=lmaxByBin[-1],verbose=False)\n",
    "        print 'Fijkk.shape: ',Fijkk.shape\n",
    "        Fij_kgTE[:nCosParams,:nCosParams] += Fijkk\n",
    "        \n",
    "        # adjust As\n",
    "        AsIndex = 3\n",
    "        mult = 1e-9\n",
    "        Fij_kgTE = rowColMult(Fij_kgTE,AsIndex,mult)\n",
    "        \n",
    "        # get sigmas and append\n",
    "        sigmaBins[sbIndex][:Fij_kgTE.shape[0]] = getSigmas(Fij_kgTE)\n",
    "        # try with fixed biases\n",
    "        #sigmaBins[sbIndex][:nCosParams] = getSigmas(Fij_kgTE[:nCosParams,:nCosParams])\n",
    "        \n",
    "        \n",
    "        # get FoM prop and append\n",
    "        FijInv = np.linalg.inv(Fij_kgTE)\n",
    "        FoMPropBins[sbIndex] = FoMprop(FijInv,iw0=8,iwa=7)\n",
    "                                \n",
    "    \n",
    "    return sigmaBins,FoMPropBins,myParamList #the last paramList should be the biggest\n",
    "            \n",
    "# test it\n",
    "\n",
    "\n",
    "\n",
    "#print nParams, nBins, '\\n'\n",
    "#sigmaBins2_01,FoMPropBins2_01,paramList2_01 = getKZlimited(covarBins2_01,dClVecsBins2_01,preMaskBins2_01,Fobj2,\n",
    "#                                                           lmaxByBin2_01,FijTE2)\n",
    "#for i in range(nBins-1):\n",
    "#    print i,' : ',sigmaBins2_01[i]\n",
    "#print 'FoM prop: ',FoMPropBins2_01\n"
   ]
  },
  {
   "cell_type": "code",
   "execution_count": 51,
   "metadata": {
    "scrolled": false
   },
   "outputs": [
    {
     "name": "stdout",
     "output_type": "stream",
     "text": [
      "lmaxByBin:  [   2  194  339  531  650  733 2000]\n",
      "\n",
      "starting bin number  2 , with sigmaBins index =  0 , pmb[0] = [0 2 3 4 5 6 2 2 2 2 2 3 3 3 3 4 4 4 5 5 6]\n",
      "  starting block  1\n",
      "  use 2 bin numbers from pmb[0]  with bin numbers [0 2]\n",
      "  toCut:  [1 3 4 5 6]\n",
      "  the cut preMask:  [0 2 2 2 2 2 2]\n",
      "nBlocks:  1 , nBlocks2:  1\n",
      "['ombh2' 'omch2' 'cosmomc_theta' '10^9 As' 'ns' 'tau' 'mnu' 'wa' 'w'\n",
      " 'bin2' 'bin3' 'bin4' 'bin5' 'bin6']\n",
      "original myFij.shape:  (14, 14)\n",
      "trimmed myFij.shape:  (10, 10)\n",
      "for clkk: lmin =  194 , lmax = , 2000\n",
      "Fijkk.shape:  (9, 9)\n",
      "\n",
      "starting bin number  3 , with sigmaBins index =  1 , pmb[1] = [0 3 4 5 6 3 3 3 3 4 4 4 5 5 6]\n",
      "  starting block  1\n",
      "  use 2 bin numbers from pmb[1]  with bin numbers [0 3]\n",
      "  toCut:  [1 2 4 5 6]\n",
      "  the cut preMask:  [0 3 3 3 3 3]\n",
      "  starting block  2\n",
      "  use 3 bin numbers from pmb[0]  with bin numbers [0 3 2]\n",
      "  toCut:  [1 4 5 6]\n",
      "  the cut preMask:  [0 2 3 2 2 2 2 2 3 3 3 3]\n",
      "nBlocks:  2 , nBlocks2:  2\n",
      "['ombh2' 'omch2' 'cosmomc_theta' '10^9 As' 'ns' 'tau' 'mnu' 'wa' 'w'\n",
      " 'bin2' 'bin3' 'bin4' 'bin5' 'bin6']\n",
      "original myFij.shape:  (14, 14)\n",
      "trimmed myFij.shape:  (11, 11)\n",
      "for clkk: lmin =  339 , lmax = , 2000\n",
      "Fijkk.shape:  (9, 9)\n",
      "\n",
      "starting bin number  4 , with sigmaBins index =  2 , pmb[2] = [0 4 5 6 4 4 4 5 5 6]\n",
      "  starting block  1\n",
      "  use 2 bin numbers from pmb[2]  with bin numbers [0 4]\n",
      "  toCut:  [1 2 3 5 6]\n",
      "  the cut preMask:  [0 4 4 4 4]\n",
      "  starting block  2\n",
      "  use 3 bin numbers from pmb[1]  with bin numbers [0 4 3]\n",
      "  toCut:  [1 2 5 6]\n",
      "  the cut preMask:  [0 3 4 3 3 3 3 4 4 4]\n",
      "  starting block  3\n",
      "  use 4 bin numbers from pmb[0]  with bin numbers [0 4 3 2]\n",
      "  toCut:  [1 5 6]\n",
      "  the cut preMask:  [0 2 3 4 2 2 2 2 2 3 3 3 3 4 4 4]\n",
      "nBlocks:  3 , nBlocks2:  3\n",
      "['ombh2' 'omch2' 'cosmomc_theta' '10^9 As' 'ns' 'tau' 'mnu' 'wa' 'w'\n",
      " 'bin2' 'bin3' 'bin4' 'bin5' 'bin6']\n",
      "original myFij.shape:  (14, 14)\n",
      "trimmed myFij.shape:  (12, 12)\n",
      "for clkk: lmin =  531 , lmax = , 2000\n",
      "Fijkk.shape:  (9, 9)\n",
      "\n",
      "starting bin number  5 , with sigmaBins index =  3 , pmb[3] = [0 5 6 5 5 6]\n",
      "  starting block  1\n",
      "  use 2 bin numbers from pmb[3]  with bin numbers [0 5]\n",
      "  toCut:  [1 2 3 4 6]\n",
      "  the cut preMask:  [0 5 5 5]\n",
      "  starting block  2\n",
      "  use 3 bin numbers from pmb[2]  with bin numbers [0 5 4]\n",
      "  toCut:  [1 2 3 6]\n",
      "  the cut preMask:  [0 4 5 4 4 4 5 5]\n",
      "  starting block  3\n",
      "  use 4 bin numbers from pmb[1]  with bin numbers [0 5 4 3]\n",
      "  toCut:  [1 2 6]\n",
      "  the cut preMask:  [0 3 4 5 3 3 3 3 4 4 4 5 5]\n",
      "  starting block  4\n",
      "  use 5 bin numbers from pmb[0]  with bin numbers [0 5 4 3 2]\n",
      "  toCut:  [1 6]\n",
      "  the cut preMask:  [0 2 3 4 5 2 2 2 2 2 3 3 3 3 4 4 4 5 5]\n",
      "nBlocks:  4 , nBlocks2:  4\n",
      "['ombh2' 'omch2' 'cosmomc_theta' '10^9 As' 'ns' 'tau' 'mnu' 'wa' 'w'\n",
      " 'bin2' 'bin3' 'bin4' 'bin5' 'bin6']\n",
      "original myFij.shape:  (14, 14)\n",
      "trimmed myFij.shape:  (13, 13)\n",
      "for clkk: lmin =  650 , lmax = , 2000\n",
      "Fijkk.shape:  (9, 9)\n",
      "\n",
      "starting bin number  6 , with sigmaBins index =  4 , pmb[4] = [0 6 6]\n",
      "  starting block  1\n",
      "  use 2 bin numbers from pmb[4]  with bin numbers [0 6]\n",
      "  toCut:  [1 2 3 4 5]\n",
      "  the cut preMask:  [0 6 6]\n",
      "  starting block  2\n",
      "  use 3 bin numbers from pmb[3]  with bin numbers [0 6 5]\n",
      "  toCut:  [1 2 3 4]\n",
      "  the cut preMask:  [0 5 6 5 5 6]\n",
      "  starting block  3\n",
      "  use 4 bin numbers from pmb[2]  with bin numbers [0 6 5 4]\n",
      "  toCut:  [1 2 3]\n",
      "  the cut preMask:  [0 4 5 6 4 4 4 5 5 6]\n",
      "  starting block  4\n",
      "  use 5 bin numbers from pmb[1]  with bin numbers [0 6 5 4 3]\n",
      "  toCut:  [1 2]\n",
      "  the cut preMask:  [0 3 4 5 6 3 3 3 3 4 4 4 5 5 6]\n",
      "  starting block  5\n",
      "  use 6 bin numbers from pmb[0]  with bin numbers [0 6 5 4 3 2]\n",
      "  toCut:  [1]\n",
      "  the cut preMask:  [0 2 3 4 5 6 2 2 2 2 2 3 3 3 3 4 4 4 5 5 6]\n",
      "nBlocks:  5 , nBlocks2:  5\n",
      "['ombh2' 'omch2' 'cosmomc_theta' '10^9 As' 'ns' 'tau' 'mnu' 'wa' 'w'\n",
      " 'bin2' 'bin3' 'bin4' 'bin5' 'bin6']\n",
      "original myFij.shape:  (14, 14)\n",
      "trimmed myFij.shape:  (14, 14)\n",
      "for clkk: lmin =  733 , lmax = , 2000\n",
      "Fijkk.shape:  (9, 9)\n",
      "lmaxByBin:  [   2  389  679 1062 1302 1467 2000]\n",
      "\n",
      "starting bin number  2 , with sigmaBins index =  0 , pmb[0] = [0 2 3 4 5 6 2 2 2 2 2 3 3 3 3 4 4 4 5 5 6]\n",
      "  starting block  1\n",
      "  use 2 bin numbers from pmb[0]  with bin numbers [0 2]\n",
      "  toCut:  [1 3 4 5 6]\n",
      "  the cut preMask:  [0 2 2 2 2 2 2]\n",
      "nBlocks:  1 , nBlocks2:  1\n",
      "['ombh2' 'omch2' 'cosmomc_theta' '10^9 As' 'ns' 'tau' 'mnu' 'wa' 'w'\n",
      " 'bin2' 'bin3' 'bin4' 'bin5' 'bin6']\n",
      "original myFij.shape:  (14, 14)\n",
      "trimmed myFij.shape:  (10, 10)\n",
      "for clkk: lmin =  389 , lmax = , 2000\n",
      "Fijkk.shape:  (9, 9)\n",
      "\n",
      "starting bin number  3 , with sigmaBins index =  1 , pmb[1] = [0 3 4 5 6 3 3 3 3 4 4 4 5 5 6]\n",
      "  starting block  1\n",
      "  use 2 bin numbers from pmb[1]  with bin numbers [0 3]\n",
      "  toCut:  [1 2 4 5 6]\n",
      "  the cut preMask:  [0 3 3 3 3 3]\n",
      "  starting block  2\n",
      "  use 3 bin numbers from pmb[0]  with bin numbers [0 3 2]\n",
      "  toCut:  [1 4 5 6]\n",
      "  the cut preMask:  [0 2 3 2 2 2 2 2 3 3 3 3]\n",
      "nBlocks:  2 , nBlocks2:  2\n",
      "['ombh2' 'omch2' 'cosmomc_theta' '10^9 As' 'ns' 'tau' 'mnu' 'wa' 'w'\n",
      " 'bin2' 'bin3' 'bin4' 'bin5' 'bin6']\n",
      "original myFij.shape:  (14, 14)\n",
      "trimmed myFij.shape:  (11, 11)\n",
      "for clkk: lmin =  679 , lmax = , 2000\n",
      "Fijkk.shape:  (9, 9)\n",
      "\n",
      "starting bin number  4 , with sigmaBins index =  2 , pmb[2] = [0 4 5 6 4 4 4 5 5 6]\n",
      "  starting block  1\n",
      "  use 2 bin numbers from pmb[2]  with bin numbers [0 4]\n",
      "  toCut:  [1 2 3 5 6]\n",
      "  the cut preMask:  [0 4 4 4 4]\n",
      "  starting block  2\n",
      "  use 3 bin numbers from pmb[1]  with bin numbers [0 4 3]\n",
      "  toCut:  [1 2 5 6]\n",
      "  the cut preMask:  [0 3 4 3 3 3 3 4 4 4]\n",
      "  starting block  3\n",
      "  use 4 bin numbers from pmb[0]  with bin numbers [0 4 3 2]\n",
      "  toCut:  [1 5 6]\n",
      "  the cut preMask:  [0 2 3 4 2 2 2 2 2 3 3 3 3 4 4 4]\n",
      "nBlocks:  3 , nBlocks2:  3\n",
      "['ombh2' 'omch2' 'cosmomc_theta' '10^9 As' 'ns' 'tau' 'mnu' 'wa' 'w'\n",
      " 'bin2' 'bin3' 'bin4' 'bin5' 'bin6']\n",
      "original myFij.shape:  (14, 14)\n",
      "trimmed myFij.shape:  (12, 12)\n",
      "for clkk: lmin =  1062 , lmax = , 2000\n",
      "Fijkk.shape:  (9, 9)\n",
      "\n",
      "starting bin number  5 , with sigmaBins index =  3 , pmb[3] = [0 5 6 5 5 6]\n",
      "  starting block  1\n",
      "  use 2 bin numbers from pmb[3]  with bin numbers [0 5]\n",
      "  toCut:  [1 2 3 4 6]\n",
      "  the cut preMask:  [0 5 5 5]\n",
      "  starting block  2\n",
      "  use 3 bin numbers from pmb[2]  with bin numbers [0 5 4]\n",
      "  toCut:  [1 2 3 6]\n",
      "  the cut preMask:  [0 4 5 4 4 4 5 5]\n",
      "  starting block  3\n",
      "  use 4 bin numbers from pmb[1]  with bin numbers [0 5 4 3]\n",
      "  toCut:  [1 2 6]\n",
      "  the cut preMask:  [0 3 4 5 3 3 3 3 4 4 4 5 5]\n",
      "  starting block  4\n",
      "  use 5 bin numbers from pmb[0]  with bin numbers [0 5 4 3 2]\n",
      "  toCut:  [1 6]\n",
      "  the cut preMask:  [0 2 3 4 5 2 2 2 2 2 3 3 3 3 4 4 4 5 5]\n",
      "nBlocks:  4 , nBlocks2:  4\n",
      "['ombh2' 'omch2' 'cosmomc_theta' '10^9 As' 'ns' 'tau' 'mnu' 'wa' 'w'\n",
      " 'bin2' 'bin3' 'bin4' 'bin5' 'bin6']\n",
      "original myFij.shape:  (14, 14)\n",
      "trimmed myFij.shape:  (13, 13)\n",
      "for clkk: lmin =  1302 , lmax = , 2000\n",
      "Fijkk.shape:  (9, 9)\n",
      "\n",
      "starting bin number  6 , with sigmaBins index =  4 , pmb[4] = [0 6 6]\n",
      "  starting block  1\n",
      "  use 2 bin numbers from pmb[4]  with bin numbers [0 6]\n",
      "  toCut:  [1 2 3 4 5]\n",
      "  the cut preMask:  [0 6 6]\n",
      "  starting block  2\n",
      "  use 3 bin numbers from pmb[3]  with bin numbers [0 6 5]\n",
      "  toCut:  [1 2 3 4]\n",
      "  the cut preMask:  [0 5 6 5 5 6]\n",
      "  starting block  3\n",
      "  use 4 bin numbers from pmb[2]  with bin numbers [0 6 5 4]\n",
      "  toCut:  [1 2 3]\n",
      "  the cut preMask:  [0 4 5 6 4 4 4 5 5 6]\n",
      "  starting block  4\n",
      "  use 5 bin numbers from pmb[1]  with bin numbers [0 6 5 4 3]\n",
      "  toCut:  [1 2]\n",
      "  the cut preMask:  [0 3 4 5 6 3 3 3 3 4 4 4 5 5 6]\n",
      "  starting block  5\n",
      "  use 6 bin numbers from pmb[0]  with bin numbers [0 6 5 4 3 2]\n",
      "  toCut:  [1]\n",
      "  the cut preMask:  [0 2 3 4 5 6 2 2 2 2 2 3 3 3 3 4 4 4 5 5 6]\n",
      "nBlocks:  5 , nBlocks2:  5\n",
      "['ombh2' 'omch2' 'cosmomc_theta' '10^9 As' 'ns' 'tau' 'mnu' 'wa' 'w'\n",
      " 'bin2' 'bin3' 'bin4' 'bin5' 'bin6']\n",
      "original myFij.shape:  (14, 14)\n",
      "trimmed myFij.shape:  (14, 14)\n",
      "for clkk: lmin =  1467 , lmax = , 2000\n",
      "Fijkk.shape:  (9, 9)\n",
      "done\n"
     ]
    }
   ],
   "source": [
    "sigmaBins2_01,FoMPropBins2_01,paramList2_01 = getKZlimited(covarBins2_01,dClVecsBins2_01,\n",
    "                                                           preMaskBins2_01,Fobj2,lmaxByBin2_01,FijTE2)\n",
    "sigmaBins2_02,FoMPropBins2_02,paramList2_02 = getKZlimited(covarBins2_02,dClVecsBins2_02,\n",
    "                                                           preMaskBins2_02,Fobj2,lmaxByBin2_02,FijTE2)\n",
    "\n",
    "#sigmaBins4_01,FoMPropBins4_01,paramList4_01 = getKZlimited(covarBins4_01,dClVecsBins4_01,\n",
    "#                                                           preMaskBins4_01,Fobj4,lmaxByBin4_01,FijTE4)\n",
    "#sigmaBins4_02,FoMPropBins4_02,paramList4_02 = getKZlimited(covarBins4_02,dClVecsBins4_02,\n",
    "#                                                           preMaskBins4_02,Fobj4,lmaxByBin4_02,FijTE4)\n",
    "\n",
    "print 'done'"
   ]
  },
  {
   "cell_type": "code",
   "execution_count": null,
   "metadata": {},
   "outputs": [],
   "source": []
  },
  {
   "cell_type": "code",
   "execution_count": null,
   "metadata": {},
   "outputs": [],
   "source": []
  },
  {
   "cell_type": "code",
   "execution_count": null,
   "metadata": {},
   "outputs": [],
   "source": []
  },
  {
   "cell_type": "code",
   "execution_count": null,
   "metadata": {},
   "outputs": [],
   "source": []
  },
  {
   "cell_type": "code",
   "execution_count": null,
   "metadata": {},
   "outputs": [],
   "source": []
  },
  {
   "cell_type": "code",
   "execution_count": 52,
   "metadata": {},
   "outputs": [],
   "source": [
    "# collect sigma_w0, sigma_wa for kmax1,kmax2 in nonlinear case. (drop linear for now)\n",
    "nSigmas = sigmaBins2_01.__len__()\n",
    "sigmas_w0_2_01 = []\n",
    "sigmas_wa_2_01 = []\n",
    "sigmas_w0_2_02 = []\n",
    "sigmas_wa_2_02 = []\n",
    "w0Ind = 8\n",
    "waInd = 7\n",
    "for sigNum in range(nSigmas):\n",
    "    sigmas_w0_2_01.append(sigmaBins2_01[sigNum][w0Ind])\n",
    "    sigmas_wa_2_01.append(sigmaBins2_01[sigNum][waInd])\n",
    "    sigmas_w0_2_02.append(sigmaBins2_02[sigNum][w0Ind])\n",
    "    sigmas_wa_2_02.append(sigmaBins2_02[sigNum][waInd])"
   ]
  },
  {
   "cell_type": "code",
   "execution_count": 53,
   "metadata": {},
   "outputs": [
    {
     "data": {
      "image/png": "[encoded data removed]",
      "text/plain": [
       "<matplotlib.figure.Figure at 0x110d63c90>"
      ]
     },
     "metadata": {},
     "output_type": "display_data"
    },
    {
     "name": "stdout",
     "output_type": "stream",
     "text": [
      "4.460164130339617 4.440902251071063 4.411992817533731\n"
     ]
    },
    {
     "data": {
      "image/png": "[encoded data removed]",
      "text/plain": [
       "<matplotlib.figure.Figure at 0x11dd1ca50>"
      ]
     },
     "metadata": {},
     "output_type": "display_data"
    },
    {
     "name": "stdout",
     "output_type": "stream",
     "text": [
      "12.129639894031465 12.063037387627196 11.97496527714027\n"
     ]
    }
   ],
   "source": [
    "# make the plots\n",
    "#print nSigmas\n",
    "doTE = True\n",
    "#doTE = False\n",
    "\n",
    "redshifts = [1,2,3,4,7] # top end of each bin; bin1 not included\n",
    "if doTE:\n",
    "    plt.plot(redshifts,sigmas_w0_2_01,label='kgTE, kmax = {0}'.format(kmax1))\n",
    "    plt.plot(redshifts,sigmas_w0_2_02,label='kgTE, kmax = {0}'.format(kmax2))\n",
    "    plt.plot(redshifts,np.ones(nSigmas)*sigmas_kTE2[w0Ind],label='kTE')\n",
    "else:\n",
    "    plt.plot(redshifts,sigmas_w0_2_01,label='kg, kmax = {0}'.format(kmax1))\n",
    "    plt.plot(redshifts,sigmas_w0_2_02,label='kg, kmax = {0}'.format(kmax2))\n",
    "    plt.plot(redshifts,np.ones(nSigmas)*sigmas_kk2[w0Ind],label='kk')\n",
    "plt.legend()\n",
    "plt.xlabel('redshift',fontsize=15)\n",
    "plt.ylabel(r'$\\sigma(w_0)$',fontsize=15)\n",
    "plt.show()\n",
    "if doTE:\n",
    "    print sigmas_kTE2[w0Ind], sigmas_w0_2_01[-1], sigmas_w0_2_02[-1]\n",
    "else:\n",
    "    print sigmas_kk2[w0Ind], sigmas_w0_2_01[-1], sigmas_w0_2_02[-1]\n",
    "\n",
    "if doTE:\n",
    "    plt.plot(redshifts,sigmas_wa_2_01,label='kgTE, kmax = {0}'.format(kmax1))\n",
    "    plt.plot(redshifts,sigmas_wa_2_02,label='kgTE, kmax = {0}'.format(kmax2))\n",
    "    plt.plot(redshifts,np.ones(nSigmas)*sigmas_kTE2[waInd],label='kTE')\n",
    "else:\n",
    "    plt.plot(redshifts,sigmas_wa_2_01,label='kg, kmax = {0}'.format(kmax1))\n",
    "    plt.plot(redshifts,sigmas_wa_2_02,label='kg, kmax = {0}'.format(kmax2))\n",
    "    plt.plot(redshifts,np.ones(nSigmas)*sigmas_kk2[waInd],label='kk')\n",
    "plt.legend()\n",
    "plt.xlabel('redshift',fontsize=15)\n",
    "plt.ylabel(r'$\\sigma(w_a)$',fontsize=15)\n",
    "plt.show()\n",
    "if doTE:\n",
    "    print sigmas_kTE2[waInd], sigmas_wa_2_01[-1], sigmas_wa_2_02[-1]\n",
    "else:\n",
    "    print sigmas_kk2[waInd], sigmas_wa_2_01[-1], sigmas_wa_2_02[-1]"
   ]
  },
  {
   "cell_type": "code",
   "execution_count": null,
   "metadata": {},
   "outputs": [],
   "source": []
  },
  {
   "cell_type": "code",
   "execution_count": null,
   "metadata": {},
   "outputs": [],
   "source": []
  },
  {
   "cell_type": "code",
   "execution_count": null,
   "metadata": {},
   "outputs": [],
   "source": []
  },
  {
   "cell_type": "code",
   "execution_count": null,
   "metadata": {},
   "outputs": [],
   "source": []
  },
  {
   "cell_type": "code",
   "execution_count": null,
   "metadata": {},
   "outputs": [],
   "source": []
  },
  {
   "cell_type": "code",
   "execution_count": 54,
   "metadata": {
    "scrolled": false
   },
   "outputs": [
    {
     "data": {
      "image/png": "[encoded data removed]",
      "text/plain": [
       "<matplotlib.figure.Figure at 0x10fba4050>"
      ]
     },
     "metadata": {},
     "output_type": "display_data"
    },
    {
     "name": "stdout",
     "output_type": "stream",
     "text": [
      "0.025462073202112568 [2.53557039e-02 7.60259589e-02 1.00190368e-02 2.02492246e+00\n",
      " 1.58357276e-01 1.92110901e-01 1.34862292e+00 1.20630374e+01\n",
      " 4.44090225e+00 2.62784356e+00 3.05615146e+00 6.84327031e+00\n",
      " 2.02446205e+01 6.30565056e+01] [2.53125932e-02 7.57623631e-02 9.94669507e-03 2.01735746e+00\n",
      " 1.57665240e-01 1.92088780e-01 1.34742691e+00 1.19749653e+01\n",
      " 4.41199282e+00 2.01004056e+00 2.40285491e+00 5.72354976e+00\n",
      " 1.74107169e+01 5.65249478e+01]\n"
     ]
    },
    {
     "data": {
      "image/png": "[encoded data removed]",
      "text/plain": [
       "<matplotlib.figure.Figure at 0x11dd70a50>"
      ]
     },
     "metadata": {},
     "output_type": "display_data"
    },
    {
     "name": "stdout",
     "output_type": "stream",
     "text": [
      "0.0764243743448496 [2.53557039e-02 7.60259589e-02 1.00190368e-02 2.02492246e+00\n",
      " 1.58357276e-01 1.92110901e-01 1.34862292e+00 1.20630374e+01\n",
      " 4.44090225e+00 2.62784356e+00 3.05615146e+00 6.84327031e+00\n",
      " 2.02446205e+01 6.30565056e+01] [2.53125932e-02 7.57623631e-02 9.94669507e-03 2.01735746e+00\n",
      " 1.57665240e-01 1.92088780e-01 1.34742691e+00 1.19749653e+01\n",
      " 4.41199282e+00 2.01004056e+00 2.40285491e+00 5.72354976e+00\n",
      " 1.74107169e+01 5.65249478e+01]\n"
     ]
    },
    {
     "data": {
      "image/png": "[encoded data removed]",
      "text/plain": [
       "<matplotlib.figure.Figure at 0x11e008f10>"
      ]
     },
     "metadata": {},
     "output_type": "display_data"
    },
    {
     "name": "stdout",
     "output_type": "stream",
     "text": [
      "0.010078552156232802 [2.53557039e-02 7.60259589e-02 1.00190368e-02 2.02492246e+00\n",
      " 1.58357276e-01 1.92110901e-01 1.34862292e+00 1.20630374e+01\n",
      " 4.44090225e+00 2.62784356e+00 3.05615146e+00 6.84327031e+00\n",
      " 2.02446205e+01 6.30565056e+01] [2.53125932e-02 7.57623631e-02 9.94669507e-03 2.01735746e+00\n",
      " 1.57665240e-01 1.92088780e-01 1.34742691e+00 1.19749653e+01\n",
      " 4.41199282e+00 2.01004056e+00 2.40285491e+00 5.72354976e+00\n",
      " 1.74107169e+01 5.65249478e+01]\n"
     ]
    },
    {
     "data": {
      "image/png": "[encoded data removed]",
      "text/plain": [
       "<matplotlib.figure.Figure at 0x11e064e10>"
      ]
     },
     "metadata": {},
     "output_type": "display_data"
    },
    {
     "name": "stdout",
     "output_type": "stream",
     "text": [
      "2.040265171459933 [2.53557039e-02 7.60259589e-02 1.00190368e-02 2.02492246e+00\n",
      " 1.58357276e-01 1.92110901e-01 1.34862292e+00 1.20630374e+01\n",
      " 4.44090225e+00 2.62784356e+00 3.05615146e+00 6.84327031e+00\n",
      " 2.02446205e+01 6.30565056e+01] [2.53125932e-02 7.57623631e-02 9.94669507e-03 2.01735746e+00\n",
      " 1.57665240e-01 1.92088780e-01 1.34742691e+00 1.19749653e+01\n",
      " 4.41199282e+00 2.01004056e+00 2.40285491e+00 5.72354976e+00\n",
      " 1.74107169e+01 5.65249478e+01]\n"
     ]
    },
    {
     "data": {
      "image/png": "[encoded data removed]",
      "text/plain": [
       "<matplotlib.figure.Figure at 0x11e132c90>"
      ]
     },
     "metadata": {},
     "output_type": "display_data"
    },
    {
     "name": "stdout",
     "output_type": "stream",
     "text": [
      "0.1590639867668143 [2.53557039e-02 7.60259589e-02 1.00190368e-02 2.02492246e+00\n",
      " 1.58357276e-01 1.92110901e-01 1.34862292e+00 1.20630374e+01\n",
      " 4.44090225e+00 2.62784356e+00 3.05615146e+00 6.84327031e+00\n",
      " 2.02446205e+01 6.30565056e+01] [2.53125932e-02 7.57623631e-02 9.94669507e-03 2.01735746e+00\n",
      " 1.57665240e-01 1.92088780e-01 1.34742691e+00 1.19749653e+01\n",
      " 4.41199282e+00 2.01004056e+00 2.40285491e+00 5.72354976e+00\n",
      " 1.74107169e+01 5.65249478e+01]\n"
     ]
    },
    {
     "data": {
      "image/png": "[encoded data removed]",
      "text/plain": [
       "<matplotlib.figure.Figure at 0x11e234ad0>"
      ]
     },
     "metadata": {},
     "output_type": "display_data"
    },
    {
     "name": "stdout",
     "output_type": "stream",
     "text": [
      "0.5695641536244614 [2.53557039e-02 7.60259589e-02 1.00190368e-02 2.02492246e+00\n",
      " 1.58357276e-01 1.92110901e-01 1.34862292e+00 1.20630374e+01\n",
      " 4.44090225e+00 2.62784356e+00 3.05615146e+00 6.84327031e+00\n",
      " 2.02446205e+01 6.30565056e+01] [2.53125932e-02 7.57623631e-02 9.94669507e-03 2.01735746e+00\n",
      " 1.57665240e-01 1.92088780e-01 1.34742691e+00 1.19749653e+01\n",
      " 4.41199282e+00 2.01004056e+00 2.40285491e+00 5.72354976e+00\n",
      " 1.74107169e+01 5.65249478e+01]\n"
     ]
    },
    {
     "data": {
      "image/png": "[encoded data removed]",
      "text/plain": [
       "<matplotlib.figure.Figure at 0x11e325710>"
      ]
     },
     "metadata": {},
     "output_type": "display_data"
    },
    {
     "name": "stdout",
     "output_type": "stream",
     "text": [
      "1.3514207839119237 [2.53557039e-02 7.60259589e-02 1.00190368e-02 2.02492246e+00\n",
      " 1.58357276e-01 1.92110901e-01 1.34862292e+00 1.20630374e+01\n",
      " 4.44090225e+00 2.62784356e+00 3.05615146e+00 6.84327031e+00\n",
      " 2.02446205e+01 6.30565056e+01] [2.53125932e-02 7.57623631e-02 9.94669507e-03 2.01735746e+00\n",
      " 1.57665240e-01 1.92088780e-01 1.34742691e+00 1.19749653e+01\n",
      " 4.41199282e+00 2.01004056e+00 2.40285491e+00 5.72354976e+00\n",
      " 1.74107169e+01 5.65249478e+01]\n"
     ]
    },
    {
     "data": {
      "image/png": "[encoded data removed]",
      "text/plain": [
       "<matplotlib.figure.Figure at 0x11e325850>"
      ]
     },
     "metadata": {},
     "output_type": "display_data"
    },
    {
     "name": "stdout",
     "output_type": "stream",
     "text": [
      "12.129639894031465 [2.53557039e-02 7.60259589e-02 1.00190368e-02 2.02492246e+00\n",
      " 1.58357276e-01 1.92110901e-01 1.34862292e+00 1.20630374e+01\n",
      " 4.44090225e+00 2.62784356e+00 3.05615146e+00 6.84327031e+00\n",
      " 2.02446205e+01 6.30565056e+01] [2.53125932e-02 7.57623631e-02 9.94669507e-03 2.01735746e+00\n",
      " 1.57665240e-01 1.92088780e-01 1.34742691e+00 1.19749653e+01\n",
      " 4.41199282e+00 2.01004056e+00 2.40285491e+00 5.72354976e+00\n",
      " 1.74107169e+01 5.65249478e+01]\n"
     ]
    },
    {
     "data": {
      "image/png": "[encoded data removed]",
      "text/plain": [
       "<matplotlib.figure.Figure at 0x11e36d290>"
      ]
     },
     "metadata": {},
     "output_type": "display_data"
    },
    {
     "name": "stdout",
     "output_type": "stream",
     "text": [
      "4.460164130339617 [2.53557039e-02 7.60259589e-02 1.00190368e-02 2.02492246e+00\n",
      " 1.58357276e-01 1.92110901e-01 1.34862292e+00 1.20630374e+01\n",
      " 4.44090225e+00 2.62784356e+00 3.05615146e+00 6.84327031e+00\n",
      " 2.02446205e+01 6.30565056e+01] [2.53125932e-02 7.57623631e-02 9.94669507e-03 2.01735746e+00\n",
      " 1.57665240e-01 1.92088780e-01 1.34742691e+00 1.19749653e+01\n",
      " 4.41199282e+00 2.01004056e+00 2.40285491e+00 5.72354976e+00\n",
      " 1.74107169e+01 5.65249478e+01]\n"
     ]
    },
    {
     "data": {
      "image/png": "[encoded data removed]",
      "text/plain": [
       "<matplotlib.figure.Figure at 0x110d63590>"
      ]
     },
     "metadata": {},
     "output_type": "display_data"
    },
    {
     "name": "stdout",
     "output_type": "stream",
     "text": [
      "0.0 [2.53557039e-02 7.60259589e-02 1.00190368e-02 2.02492246e+00\n",
      " 1.58357276e-01 1.92110901e-01 1.34862292e+00 1.20630374e+01\n",
      " 4.44090225e+00 2.62784356e+00 3.05615146e+00 6.84327031e+00\n",
      " 2.02446205e+01 6.30565056e+01] [2.53125932e-02 7.57623631e-02 9.94669507e-03 2.01735746e+00\n",
      " 1.57665240e-01 1.92088780e-01 1.34742691e+00 1.19749653e+01\n",
      " 4.41199282e+00 2.01004056e+00 2.40285491e+00 5.72354976e+00\n",
      " 1.74107169e+01 5.65249478e+01]\n"
     ]
    },
    {
     "data": {
      "image/png": "[encoded data removed]",
      "text/plain": [
       "<matplotlib.figure.Figure at 0x11e14f550>"
      ]
     },
     "metadata": {},
     "output_type": "display_data"
    },
    {
     "name": "stdout",
     "output_type": "stream",
     "text": [
      "0.0 [2.53557039e-02 7.60259589e-02 1.00190368e-02 2.02492246e+00\n",
      " 1.58357276e-01 1.92110901e-01 1.34862292e+00 1.20630374e+01\n",
      " 4.44090225e+00 2.62784356e+00 3.05615146e+00 6.84327031e+00\n",
      " 2.02446205e+01 6.30565056e+01] [2.53125932e-02 7.57623631e-02 9.94669507e-03 2.01735746e+00\n",
      " 1.57665240e-01 1.92088780e-01 1.34742691e+00 1.19749653e+01\n",
      " 4.41199282e+00 2.01004056e+00 2.40285491e+00 5.72354976e+00\n",
      " 1.74107169e+01 5.65249478e+01]\n"
     ]
    },
    {
     "data": {
      "image/png": "[encoded data removed]",
      "text/plain": [
       "<matplotlib.figure.Figure at 0x11dd85890>"
      ]
     },
     "metadata": {},
     "output_type": "display_data"
    },
    {
     "name": "stdout",
     "output_type": "stream",
     "text": [
      "0.0 [2.53557039e-02 7.60259589e-02 1.00190368e-02 2.02492246e+00\n",
      " 1.58357276e-01 1.92110901e-01 1.34862292e+00 1.20630374e+01\n",
      " 4.44090225e+00 2.62784356e+00 3.05615146e+00 6.84327031e+00\n",
      " 2.02446205e+01 6.30565056e+01] [2.53125932e-02 7.57623631e-02 9.94669507e-03 2.01735746e+00\n",
      " 1.57665240e-01 1.92088780e-01 1.34742691e+00 1.19749653e+01\n",
      " 4.41199282e+00 2.01004056e+00 2.40285491e+00 5.72354976e+00\n",
      " 1.74107169e+01 5.65249478e+01]\n"
     ]
    },
    {
     "data": {
      "image/png": "[encoded data removed]",
      "text/plain": [
       "<matplotlib.figure.Figure at 0x11e189f50>"
      ]
     },
     "metadata": {},
     "output_type": "display_data"
    },
    {
     "name": "stdout",
     "output_type": "stream",
     "text": [
      "0.0 [2.53557039e-02 7.60259589e-02 1.00190368e-02 2.02492246e+00\n",
      " 1.58357276e-01 1.92110901e-01 1.34862292e+00 1.20630374e+01\n",
      " 4.44090225e+00 2.62784356e+00 3.05615146e+00 6.84327031e+00\n",
      " 2.02446205e+01 6.30565056e+01] [2.53125932e-02 7.57623631e-02 9.94669507e-03 2.01735746e+00\n",
      " 1.57665240e-01 1.92088780e-01 1.34742691e+00 1.19749653e+01\n",
      " 4.41199282e+00 2.01004056e+00 2.40285491e+00 5.72354976e+00\n",
      " 1.74107169e+01 5.65249478e+01]\n"
     ]
    },
    {
     "data": {
      "image/png": "[encoded data removed]",
      "text/plain": [
       "<matplotlib.figure.Figure at 0x11e0e6ed0>"
      ]
     },
     "metadata": {},
     "output_type": "display_data"
    },
    {
     "name": "stdout",
     "output_type": "stream",
     "text": [
      "0.0 [2.53557039e-02 7.60259589e-02 1.00190368e-02 2.02492246e+00\n",
      " 1.58357276e-01 1.92110901e-01 1.34862292e+00 1.20630374e+01\n",
      " 4.44090225e+00 2.62784356e+00 3.05615146e+00 6.84327031e+00\n",
      " 2.02446205e+01 6.30565056e+01] [2.53125932e-02 7.57623631e-02 9.94669507e-03 2.01735746e+00\n",
      " 1.57665240e-01 1.92088780e-01 1.34742691e+00 1.19749653e+01\n",
      " 4.41199282e+00 2.01004056e+00 2.40285491e+00 5.72354976e+00\n",
      " 1.74107169e+01 5.65249478e+01]\n"
     ]
    }
   ],
   "source": [
    "# make the plots - all of the sigmas this time\n",
    "redshifts = [1,2,3,4,7] # top end of each bin; bin1 not included\n",
    "for sigmaNum, paramName in enumerate(paramList2_01):\n",
    "    if doTE:\n",
    "        plt.plot(redshifts,np.array(sigmaBins2_01)[:,sigmaNum],label='kgTE, kmax = {0}'.format(kmax1))\n",
    "        plt.plot(redshifts,np.array(sigmaBins2_02)[:,sigmaNum],label='kgTE, kmax = {0}'.format(kmax2))\n",
    "        plt.plot(redshifts,np.ones(nSigmas)*sigmas_kTE2[sigmaNum],label='kTE')\n",
    "    else:\n",
    "        plt.plot(redshifts,np.array(sigmaBins2_01)[:,sigmaNum],label='kTE, kmax = {0}'.format(kmax1))\n",
    "        plt.plot(redshifts,np.array(sigmaBins2_02)[:,sigmaNum],label='kTE, kmax = {0}'.format(kmax2))\n",
    "        plt.plot(redshifts,np.ones(nSigmas)*sigmas_kk2[sigmaNum],label='kk')\n",
    "    plt.legend()\n",
    "    plt.xlabel('redshift',fontsize=15)\n",
    "    plt.ylabel(r'$\\sigma({0})$'.format(paramName),fontsize=15)\n",
    "    plt.title(paramName)\n",
    "    plt.show()\n",
    "    if doTE:\n",
    "        print sigmas_kTE2[sigmaNum], sigmaBins2_01[:][-1], sigmaBins2_02[:][-1]\n",
    "    else:\n",
    "        print 'kk: ',sigmas_kk2[sigmaNum],', kmax1:', sigmaBins2_01[-1,sigmaNum],', kmax2:', sigmaBins2_02[-1,sigmaNum]\n"
   ]
  },
  {
   "cell_type": "code",
   "execution_count": null,
   "metadata": {},
   "outputs": [],
   "source": []
  },
  {
   "cell_type": "code",
   "execution_count": null,
   "metadata": {},
   "outputs": [],
   "source": []
  },
  {
   "cell_type": "code",
   "execution_count": null,
   "metadata": {},
   "outputs": [],
   "source": []
  },
  {
   "cell_type": "code",
   "execution_count": null,
   "metadata": {},
   "outputs": [],
   "source": []
  },
  {
   "cell_type": "code",
   "execution_count": 69,
   "metadata": {},
   "outputs": [
    {
     "name": "stdout",
     "output_type": "stream",
     "text": [
      "0.06193323618571195\n"
     ]
    },
    {
     "data": {
      "image/png": "[encoded data removed]",
      "text/plain": [
       "<matplotlib.figure.Figure at 0x11e24e610>"
      ]
     },
     "metadata": {},
     "output_type": "display_data"
    },
    {
     "name": "stdout",
     "output_type": "stream",
     "text": [
      "1.0093865378961204 1.0178012884281815\n"
     ]
    },
    {
     "data": {
      "image/png": "[encoded data removed]",
      "text/plain": [
       "<matplotlib.figure.Figure at 0x11de349d0>"
      ]
     },
     "metadata": {},
     "output_type": "display_data"
    },
    {
     "name": "stdout",
     "output_type": "stream",
     "text": [
      "0.0009377186228129776 0.0009455359137951674\n"
     ]
    }
   ],
   "source": [
    "# figure of merit too!\n",
    "\n",
    "FijInv = np.linalg.inv(Fij_kTE2)\n",
    "FoMProp_kTE2 = FoMprop(FijInv,iw0=8,iwa=7)\n",
    "print FoMProp_kTE2\n",
    "\n",
    "plt.plot(redshifts,FoMPropBins2_01/FoMProp_kTE2,label='kgTE, kmax = {0}'.format(kmax1))\n",
    "plt.plot(redshifts,FoMPropBins2_02/FoMProp_kTE2,label='kgTE, kmax = {0}'.format(kmax2))\n",
    "plt.plot(redshifts,np.ones(nSigmas),label='kTE')\n",
    "plt.legend(loc=(0.5,0.1))\n",
    "plt.xlabel('redshift',fontsize=15)\n",
    "plt.ylabel('FoM(kgTE)/FoM(kTE)',fontsize=15)\n",
    "#plt.ylim((0,0.1))\n",
    "plt.show()\n",
    "print FoMPropBins2_01[-1]/FoMProp_kTE2, FoMPropBins2_02[-1]/FoMProp_kTE2\n",
    "\n",
    "#FoM prop from a paper\n",
    "FoMProp_pap = 1/0.015\n",
    "\n",
    "plt.plot(redshifts,FoMPropBins2_01/(np.ones(nSigmas)*FoMProp_pap),label='kgTE, kmax = {0}'.format(kmax1))\n",
    "plt.plot(redshifts,FoMPropBins2_02/(np.ones(nSigmas)*FoMProp_pap),label='kgTE, kmax = {0}'.format(kmax2))\n",
    "plt.plot(redshifts,np.ones(nSigmas),label='pap')\n",
    "plt.legend(loc=(0.5,0.1))\n",
    "plt.xlabel('redshift',fontsize=15)\n",
    "plt.ylabel('FoM(kgTE)/FoM(pap)',fontsize=15)\n",
    "#plt.ylim((0,0.0001))\n",
    "plt.show()\n",
    "print FoMPropBins2_01[-1]/FoMProp_pap, FoMPropBins2_02[-1]/FoMProp_pap"
   ]
  },
  {
   "cell_type": "code",
   "execution_count": null,
   "metadata": {},
   "outputs": [],
   "source": []
  },
  {
   "cell_type": "code",
   "execution_count": null,
   "metadata": {},
   "outputs": [],
   "source": []
  },
  {
   "cell_type": "code",
   "execution_count": null,
   "metadata": {},
   "outputs": [],
   "source": []
  },
  {
   "cell_type": "code",
   "execution_count": null,
   "metadata": {},
   "outputs": [],
   "source": []
  },
  {
   "cell_type": "code",
   "execution_count": null,
   "metadata": {},
   "outputs": [],
   "source": []
  },
  {
   "cell_type": "code",
   "execution_count": null,
   "metadata": {},
   "outputs": [],
   "source": []
  },
  {
   "cell_type": "code",
   "execution_count": null,
   "metadata": {},
   "outputs": [],
   "source": []
  },
  {
   "cell_type": "code",
   "execution_count": null,
   "metadata": {},
   "outputs": [],
   "source": []
  },
  {
   "cell_type": "code",
   "execution_count": null,
   "metadata": {},
   "outputs": [],
   "source": []
  },
  {
   "cell_type": "code",
   "execution_count": null,
   "metadata": {},
   "outputs": [],
   "source": []
  },
  {
   "cell_type": "code",
   "execution_count": null,
   "metadata": {},
   "outputs": [],
   "source": []
  },
  {
   "cell_type": "code",
   "execution_count": null,
   "metadata": {},
   "outputs": [],
   "source": []
  },
  {
   "cell_type": "code",
   "execution_count": null,
   "metadata": {},
   "outputs": [],
   "source": []
  },
  {
   "cell_type": "code",
   "execution_count": 56,
   "metadata": {},
   "outputs": [
    {
     "name": "stdout",
     "output_type": "stream",
     "text": [
      "Help on function legend in module matplotlib.pyplot:\n",
      "\n",
      "legend(*args, **kwargs)\n",
      "    Places a legend on the axes.\n",
      "    \n",
      "    To make a legend for lines which already exist on the axes\n",
      "    (via plot for instance), simply call this function with an iterable\n",
      "    of strings, one for each legend item. For example::\n",
      "    \n",
      "        ax.plot([1, 2, 3])\n",
      "        ax.legend(['A simple line'])\n",
      "    \n",
      "    However, in order to keep the \"label\" and the legend element\n",
      "    instance together, it is preferable to specify the label either at\n",
      "    artist creation, or by calling the\n",
      "    :meth:`~matplotlib.artist.Artist.set_label` method on the artist::\n",
      "    \n",
      "        line, = ax.plot([1, 2, 3], label='Inline label')\n",
      "        # Overwrite the label by calling the method.\n",
      "        line.set_label('Label via method')\n",
      "        ax.legend()\n",
      "    \n",
      "    Specific lines can be excluded from the automatic legend element\n",
      "    selection by defining a label starting with an underscore.\n",
      "    This is default for all artists, so calling :meth:`legend` without\n",
      "    any arguments and without setting the labels manually will result in\n",
      "    no legend being drawn.\n",
      "    \n",
      "    For full control of which artists have a legend entry, it is possible\n",
      "    to pass an iterable of legend artists followed by an iterable of\n",
      "    legend labels respectively::\n",
      "    \n",
      "       legend((line1, line2, line3), ('label1', 'label2', 'label3'))\n",
      "    \n",
      "    Parameters\n",
      "    ----------\n",
      "    \n",
      "    loc : int or string or pair of floats, default: 'upper right'\n",
      "        The location of the legend. Possible codes are:\n",
      "    \n",
      "            ===============   =============\n",
      "            Location String   Location Code\n",
      "            ===============   =============\n",
      "            'best'            0\n",
      "            'upper right'     1\n",
      "            'upper left'      2\n",
      "            'lower left'      3\n",
      "            'lower right'     4\n",
      "            'right'           5\n",
      "            'center left'     6\n",
      "            'center right'    7\n",
      "            'lower center'    8\n",
      "            'upper center'    9\n",
      "            'center'          10\n",
      "            ===============   =============\n",
      "    \n",
      "    \n",
      "        Alternatively can be a 2-tuple giving ``x, y`` of the lower-left\n",
      "        corner of the legend in axes coordinates (in which case\n",
      "        ``bbox_to_anchor`` will be ignored).\n",
      "    \n",
      "    bbox_to_anchor : `~.BboxBase` or pair of floats\n",
      "        Specify any arbitrary location for the legend in `bbox_transform`\n",
      "        coordinates (default Axes coordinates).\n",
      "    \n",
      "        For example, to put the legend's upper right hand corner in the\n",
      "        center of the axes the following keywords can be used::\n",
      "    \n",
      "           loc='upper right', bbox_to_anchor=(0.5, 0.5)\n",
      "    \n",
      "    ncol : integer\n",
      "        The number of columns that the legend has. Default is 1.\n",
      "    \n",
      "    prop : None or :class:`matplotlib.font_manager.FontProperties` or dict\n",
      "        The font properties of the legend. If None (default), the current\n",
      "        :data:`matplotlib.rcParams` will be used.\n",
      "    \n",
      "    fontsize : int or float or {'xx-small', 'x-small', 'small', 'medium', 'large', 'x-large', 'xx-large'}\n",
      "        Controls the font size of the legend. If the value is numeric the\n",
      "        size will be the absolute font size in points. String values are\n",
      "        relative to the current default font size. This argument is only\n",
      "        used if `prop` is not specified.\n",
      "    \n",
      "    numpoints : None or int\n",
      "        The number of marker points in the legend when creating a legend\n",
      "        entry for a line/:class:`matplotlib.lines.Line2D`.\n",
      "        Default is ``None`` which will take the value from the\n",
      "        ``legend.numpoints`` :data:`rcParam<matplotlib.rcParams>`.\n",
      "    \n",
      "    scatterpoints : None or int\n",
      "        The number of marker points in the legend when creating a legend\n",
      "        entry for a scatter plot/\n",
      "        :class:`matplotlib.collections.PathCollection`.\n",
      "        Default is ``None`` which will take the value from the\n",
      "        ``legend.scatterpoints`` :data:`rcParam<matplotlib.rcParams>`.\n",
      "    \n",
      "    scatteryoffsets : iterable of floats\n",
      "        The vertical offset (relative to the font size) for the markers\n",
      "        created for a scatter plot legend entry. 0.0 is at the base the\n",
      "        legend text, and 1.0 is at the top. To draw all markers at the\n",
      "        same height, set to ``[0.5]``. Default ``[0.375, 0.5, 0.3125]``.\n",
      "    \n",
      "    markerscale : None or int or float\n",
      "        The relative size of legend markers compared with the originally\n",
      "        drawn ones. Default is ``None`` which will take the value from\n",
      "        the ``legend.markerscale`` :data:`rcParam <matplotlib.rcParams>`.\n",
      "    \n",
      "    markerfirst : bool\n",
      "        If *True*, legend marker is placed to the left of the legend label.\n",
      "        If *False*, legend marker is placed to the right of the legend\n",
      "        label.\n",
      "        Default is *True*.\n",
      "    \n",
      "    frameon : None or bool\n",
      "        Control whether the legend should be drawn on a patch (frame).\n",
      "        Default is ``None`` which will take the value from the\n",
      "        ``legend.frameon`` :data:`rcParam<matplotlib.rcParams>`.\n",
      "    \n",
      "    fancybox : None or bool\n",
      "        Control whether round edges should be enabled around\n",
      "        the :class:`~matplotlib.patches.FancyBboxPatch` which\n",
      "        makes up the legend's background.\n",
      "        Default is ``None`` which will take the value from the\n",
      "        ``legend.fancybox`` :data:`rcParam<matplotlib.rcParams>`.\n",
      "    \n",
      "    shadow : None or bool\n",
      "        Control whether to draw a shadow behind the legend.\n",
      "        Default is ``None`` which will take the value from the\n",
      "        ``legend.shadow`` :data:`rcParam<matplotlib.rcParams>`.\n",
      "    \n",
      "    framealpha : None or float\n",
      "        Control the alpha transparency of the legend's background.\n",
      "        Default is ``None`` which will take the value from the\n",
      "        ``legend.framealpha`` :data:`rcParam<matplotlib.rcParams>`.\n",
      "        If shadow is activated and framealpha is ``None`` the\n",
      "        default value is being ignored.\n",
      "    \n",
      "    facecolor : None or \"inherit\" or a color spec\n",
      "        Control the legend's background color.\n",
      "        Default is ``None`` which will take the value from the\n",
      "        ``legend.facecolor`` :data:`rcParam<matplotlib.rcParams>`.\n",
      "        If ``\"inherit\"``, it will take the ``axes.facecolor``\n",
      "        :data:`rcParam<matplotlib.rcParams>`.\n",
      "    \n",
      "    edgecolor : None or \"inherit\" or a color spec\n",
      "        Control the legend's background patch edge color.\n",
      "        Default is ``None`` which will take the value from the\n",
      "        ``legend.edgecolor`` :data:`rcParam<matplotlib.rcParams>`.\n",
      "        If ``\"inherit\"``, it will take the ``axes.edgecolor``\n",
      "        :data:`rcParam<matplotlib.rcParams>`.\n",
      "    \n",
      "    mode : {\"expand\", None}\n",
      "        If `mode` is set to ``\"expand\"`` the legend will be horizontally\n",
      "        expanded to fill the axes area (or `bbox_to_anchor` if defines\n",
      "        the legend's size).\n",
      "    \n",
      "    bbox_transform : None or :class:`matplotlib.transforms.Transform`\n",
      "        The transform for the bounding box (`bbox_to_anchor`). For a value\n",
      "        of ``None`` (default) the Axes'\n",
      "        :data:`~matplotlib.axes.Axes.transAxes` transform will be used.\n",
      "    \n",
      "    title : str or None\n",
      "        The legend's title. Default is no title (``None``).\n",
      "    \n",
      "    borderpad : float or None\n",
      "        The fractional whitespace inside the legend border.\n",
      "        Measured in font-size units.\n",
      "        Default is ``None`` which will take the value from the\n",
      "        ``legend.borderpad`` :data:`rcParam<matplotlib.rcParams>`.\n",
      "    \n",
      "    labelspacing : float or None\n",
      "        The vertical space between the legend entries.\n",
      "        Measured in font-size units.\n",
      "        Default is ``None`` which will take the value from the\n",
      "        ``legend.labelspacing`` :data:`rcParam<matplotlib.rcParams>`.\n",
      "    \n",
      "    handlelength : float or None\n",
      "        The length of the legend handles.\n",
      "        Measured in font-size units.\n",
      "        Default is ``None`` which will take the value from the\n",
      "        ``legend.handlelength`` :data:`rcParam<matplotlib.rcParams>`.\n",
      "    \n",
      "    handletextpad : float or None\n",
      "        The pad between the legend handle and text.\n",
      "        Measured in font-size units.\n",
      "        Default is ``None`` which will take the value from the\n",
      "        ``legend.handletextpad`` :data:`rcParam<matplotlib.rcParams>`.\n",
      "    \n",
      "    borderaxespad : float or None\n",
      "        The pad between the axes and legend border.\n",
      "        Measured in font-size units.\n",
      "        Default is ``None`` which will take the value from the\n",
      "        ``legend.borderaxespad`` :data:`rcParam<matplotlib.rcParams>`.\n",
      "    \n",
      "    columnspacing : float or None\n",
      "        The spacing between columns.\n",
      "        Measured in font-size units.\n",
      "        Default is ``None`` which will take the value from the\n",
      "        ``legend.columnspacing`` :data:`rcParam<matplotlib.rcParams>`.\n",
      "    \n",
      "    handler_map : dict or None\n",
      "        The custom dictionary mapping instances or types to a legend\n",
      "        handler. This `handler_map` updates the default handler map\n",
      "        found at :func:`matplotlib.legend.Legend.get_legend_handler_map`.\n",
      "    \n",
      "    Returns\n",
      "    -------\n",
      "    \n",
      "    :class:`matplotlib.legend.Legend` instance\n",
      "    \n",
      "    Notes\n",
      "    -----\n",
      "    \n",
      "    Not all kinds of artist are supported by the legend command. See\n",
      "    :ref:`sphx_glr_tutorials_intermediate_legend_guide.py` for details.\n",
      "    \n",
      "    Examples\n",
      "    --------\n",
      "    \n",
      "    .. plot:: gallery/api/legend.py\n",
      "\n"
     ]
    }
   ],
   "source": [
    "help(plt.legend)"
   ]
  },
  {
   "cell_type": "code",
   "execution_count": null,
   "metadata": {},
   "outputs": [],
   "source": []
  },
  {
   "cell_type": "code",
   "execution_count": null,
   "metadata": {},
   "outputs": [],
   "source": []
  },
  {
   "cell_type": "code",
   "execution_count": null,
   "metadata": {},
   "outputs": [],
   "source": []
  },
  {
   "cell_type": "code",
   "execution_count": null,
   "metadata": {},
   "outputs": [],
   "source": []
  },
  {
   "cell_type": "code",
   "execution_count": null,
   "metadata": {},
   "outputs": [],
   "source": []
  },
  {
   "cell_type": "code",
   "execution_count": null,
   "metadata": {},
   "outputs": [],
   "source": []
  },
  {
   "cell_type": "code",
   "execution_count": 57,
   "metadata": {},
   "outputs": [
    {
     "name": "stdout",
     "output_type": "stream",
     "text": [
      "redshift 1:  [2.53794848e-02 7.61612918e-02 1.00516025e-02 2.03089053e+00\n",
      " 1.58806092e-01 1.92122163e-01 1.34962215e+00 1.21024773e+01\n",
      " 4.45350172e+00 2.62792987e+00 0.00000000e+00 0.00000000e+00\n",
      " 0.00000000e+00 0.00000000e+00]\n",
      "redshift 7:  [2.53557039e-02 7.60259589e-02 1.00190368e-02 2.02492246e+00\n",
      " 1.58357276e-01 1.92110901e-01 1.34862292e+00 1.20630374e+01\n",
      " 4.44090225e+00 2.62784356e+00 3.05615146e+00 6.84327031e+00\n",
      " 2.02446205e+01 6.30565056e+01]\n",
      "ratio: "
     ]
    },
    {
     "ename": "ValueError",
     "evalue": "operands could not be broadcast together with shapes (10,) (14,) ",
     "output_type": "error",
     "traceback": [
      "\u001b[0;31m---------------------------------------------------------------------------\u001b[0m",
      "\u001b[0;31mValueError\u001b[0m                                Traceback (most recent call last)",
      "\u001b[0;32m<ipython-input-57-78f71b21172c>\u001b[0m in \u001b[0;36m<module>\u001b[0;34m()\u001b[0m\n\u001b[1;32m      3\u001b[0m \u001b[0;32mprint\u001b[0m \u001b[0;34m'redshift 7: '\u001b[0m\u001b[0;34m,\u001b[0m\u001b[0msigmaBins2_01\u001b[0m\u001b[0;34m[\u001b[0m\u001b[0;34m-\u001b[0m\u001b[0;36m1\u001b[0m\u001b[0;34m]\u001b[0m\u001b[0;34m\u001b[0m\u001b[0m\n\u001b[1;32m      4\u001b[0m \u001b[0;34m\u001b[0m\u001b[0m\n\u001b[0;32m----> 5\u001b[0;31m \u001b[0;32mprint\u001b[0m \u001b[0;34m'ratio: '\u001b[0m\u001b[0;34m,\u001b[0m\u001b[0msigmaBins2_01\u001b[0m\u001b[0;34m[\u001b[0m\u001b[0;34m-\u001b[0m\u001b[0;36m1\u001b[0m\u001b[0;34m]\u001b[0m\u001b[0;34m[\u001b[0m\u001b[0;34m:\u001b[0m\u001b[0;36m10\u001b[0m\u001b[0;34m]\u001b[0m\u001b[0;34m/\u001b[0m\u001b[0msigmaBins2_01\u001b[0m\u001b[0;34m[\u001b[0m\u001b[0;36m0\u001b[0m\u001b[0;34m]\u001b[0m\u001b[0;34m\u001b[0m\u001b[0m\n\u001b[0m\u001b[1;32m      6\u001b[0m \u001b[0;34m\u001b[0m\u001b[0m\n\u001b[1;32m      7\u001b[0m \u001b[0;32mprint\u001b[0m \u001b[0;34m'ratios to kTE:'\u001b[0m\u001b[0;34m\u001b[0m\u001b[0m\n",
      "\u001b[0;31mValueError\u001b[0m: operands could not be broadcast together with shapes (10,) (14,) "
     ]
    }
   ],
   "source": [
    "#quick sigma check\n",
    "print 'redshift 1: ',sigmaBins2_01[0]\n",
    "print 'redshift 7: ',sigmaBins2_01[-1]\n",
    "\n",
    "print 'ratio: ',sigmaBins2_01[-1][:10]/sigmaBins2_01[0]\n",
    "\n",
    "print 'ratios to kTE:'\n",
    "print sigmaBins2_01[0][:10]/sigmas_kTE2[:10]\n",
    "print sigmaBins2_01[-1]/sigmas_kTE2[:14]\n"
   ]
  },
  {
   "cell_type": "code",
   "execution_count": null,
   "metadata": {},
   "outputs": [],
   "source": []
  },
  {
   "cell_type": "code",
   "execution_count": null,
   "metadata": {},
   "outputs": [],
   "source": []
  },
  {
   "cell_type": "code",
   "execution_count": null,
   "metadata": {},
   "outputs": [],
   "source": []
  },
  {
   "cell_type": "code",
   "execution_count": null,
   "metadata": {},
   "outputs": [],
   "source": []
  },
  {
   "cell_type": "code",
   "execution_count": null,
   "metadata": {},
   "outputs": [],
   "source": []
  },
  {
   "cell_type": "code",
   "execution_count": null,
   "metadata": {},
   "outputs": [],
   "source": []
  }
 ],
 "metadata": {
  "kernelspec": {
   "display_name": "Python 2",
   "language": "python",
   "name": "python2"
  },
  "language_info": {
   "codemirror_mode": {
    "name": "ipython",
    "version": 2
   },
   "file_extension": ".py",
   "mimetype": "text/x-python",
   "name": "python",
   "nbconvert_exporter": "python",
   "pygments_lexer": "ipython2",
   "version": "2.7.14"
  }
 },
 "nbformat": 4,
 "nbformat_minor": 2
}
